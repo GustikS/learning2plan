{
 "cells": [
  {
   "cell_type": "code",
   "execution_count": 1,
   "metadata": {},
   "outputs": [
    {
     "name": "stdout",
     "output_type": "stream",
     "text": [
      "this_file_dir=PosixPath('/home/dzc/code/cvut-colab/results')\n",
      "Raw logs found. Rewriting data to csv files...\n"
     ]
    },
    {
     "name": "stderr",
     "output_type": "stream",
     "text": [
      "/home/dzc/code/cvut-colab/results/baseline_logs/satellite_1_30_r2.log: 100%|██████████| 958/958 [00:00<00:00, 3135.34it/s]\n"
     ]
    },
    {
     "name": "stdout",
     "output_type": "stream",
     "text": [
      "skipping hard problems because they take too long\n",
      "Training failure in /home/dzc/code/cvut-colab/results/train_logs/rover_2_32_0.log\n"
     ]
    }
   ],
   "source": [
    "from _results_helper import *\n",
    "import warnings\n",
    "warnings.filterwarnings(\"ignore\")\n",
    "\n",
    "choices = [\n",
    "    # \"sample\",\n",
    "    \"best\",\n",
    "]\n",
    "layers = [\n",
    "    # 1,\n",
    "    2,\n",
    "    3,\n",
    "    4,\n",
    "    # 5,\n",
    "]\n",
    "dimensions = [\n",
    "    # 1,\n",
    "    # 2,\n",
    "    # 4,\n",
    "    8,\n",
    "    16,\n",
    "    32,\n",
    "    # 64,\n",
    "    # 128,\n",
    "]"
   ]
  },
  {
   "cell_type": "markdown",
   "metadata": {},
   "source": [
    "# Train Stats"
   ]
  },
  {
   "cell_type": "code",
   "execution_count": 2,
   "metadata": {},
   "outputs": [
    {
     "name": "stdout",
     "output_type": "stream",
     "text": [
      "blocksworld\n"
     ]
    },
    {
     "data": {
      "application/vnd.plotly.v1+json": {
       "config": {
        "plotlyServerURL": "https://plot.ly"
       },
       "data": [
        {
         "hoverinfo": [
          "all"
         ],
         "mode": "markers",
         "name": "loss",
         "type": "scatter",
         "x": [
          "2_8",
          "2_8",
          "2_8",
          "2_16",
          "2_16",
          "2_16",
          "2_32",
          "2_32",
          "2_32",
          "3_8",
          "3_8",
          "3_8",
          "3_16",
          "3_16",
          "3_16",
          "3_32",
          "3_32",
          "3_32",
          "4_8",
          "4_8",
          "4_8",
          "4_16",
          "4_16",
          "4_16",
          "4_32",
          "4_32",
          "4_32"
         ],
         "xaxis": "x",
         "y": [
          0.09228106114756958,
          0.0992488394486789,
          0.08946610919563794,
          0.12930232303512837,
          0.16540456164672462,
          0.07865583979677968,
          0.5165191260793801,
          0.6471738721777591,
          0.44114810637992513,
          0.07301570449918858,
          0.08586619027314737,
          0.07544871635850967,
          0.16187255405774081,
          0.058814318463620965,
          0.07158613799481352,
          0.6919385520005418,
          0.8032147296463558,
          0.43582439922653415,
          0.09427964727577805,
          0.07905078196335392,
          0.07259179234633459,
          0.11179471064697431,
          0.12129847186874312,
          0.08575400490176424,
          0.647844586421846,
          0.4040956665253729,
          0.5954963973094197
         ],
         "yaxis": "y"
        },
        {
         "hoverinfo": [
          "all"
         ],
         "mode": "markers",
         "name": "f1",
         "type": "scatter",
         "x": [
          "2_8",
          "2_8",
          "2_8",
          "2_16",
          "2_16",
          "2_16",
          "2_32",
          "2_32",
          "2_32",
          "3_8",
          "3_8",
          "3_8",
          "3_16",
          "3_16",
          "3_16",
          "3_32",
          "3_32",
          "3_32",
          "4_8",
          "4_8",
          "4_8",
          "4_16",
          "4_16",
          "4_16",
          "4_32",
          "4_32",
          "4_32"
         ],
         "xaxis": "x2",
         "y": [
          0.9836574793110643,
          0.9860904354298474,
          0.98734236120806,
          0.9715254392596157,
          0.966815775059339,
          0.9845303354083434,
          0.9497584108804581,
          0.9508424138008189,
          0.9513428827215756,
          0.9884297520661157,
          0.9867745159565814,
          0.9873777363763391,
          0.9739250085999313,
          0.9946143399053997,
          0.9887577552829221,
          0.9496091132454769,
          0.9484789008832188,
          0.9512599024302913,
          0.9855032124881127,
          0.9886709935561914,
          0.9903143744019418,
          0.9801613052748679,
          0.9755076696640066,
          0.9877157880042808,
          0.9493795196857423,
          0.9495103081257547,
          0.9509694174539919
         ],
         "yaxis": "y2"
        },
        {
         "hoverinfo": [
          "all"
         ],
         "mode": "markers",
         "name": "time",
         "type": "scatter",
         "x": [
          "2_8",
          "2_8",
          "2_8",
          "2_16",
          "2_16",
          "2_16",
          "2_32",
          "2_32",
          "2_32",
          "3_8",
          "3_8",
          "3_8",
          "3_16",
          "3_16",
          "3_16",
          "3_32",
          "3_32",
          "3_32",
          "4_8",
          "4_8",
          "4_8",
          "4_16",
          "4_16",
          "4_16",
          "4_32",
          "4_32",
          "4_32"
         ],
         "xaxis": "x3",
         "y": [
          275.76506519317627,
          288.4340968132019,
          456.0398254394531,
          548.0890893936157,
          524.7487444877625,
          927.9718589782715,
          2340.2503974437714,
          2174.978981256485,
          2920.089965581894,
          493.87508487701416,
          706.3105845451355,
          489.3847568035126,
          715.4554312229156,
          701.7974317073822,
          1190.7423920631409,
          3691.5234978199005,
          2441.5521245002747,
          1792.8344445228577,
          447.53439450263977,
          432.23739552497864,
          632.998886346817,
          1361.7267425060272,
          1471.6580092906952,
          821.5466990470886,
          3122.190664291382,
          4096.179013490677,
          1904.3917291164398
         ],
         "yaxis": "y3"
        }
       ],
       "layout": {
        "template": {
         "data": {
          "bar": [
           {
            "error_x": {
             "color": "#2a3f5f"
            },
            "error_y": {
             "color": "#2a3f5f"
            },
            "marker": {
             "line": {
              "color": "#E5ECF6",
              "width": 0.5
             },
             "pattern": {
              "fillmode": "overlay",
              "size": 10,
              "solidity": 0.2
             }
            },
            "type": "bar"
           }
          ],
          "barpolar": [
           {
            "marker": {
             "line": {
              "color": "#E5ECF6",
              "width": 0.5
             },
             "pattern": {
              "fillmode": "overlay",
              "size": 10,
              "solidity": 0.2
             }
            },
            "type": "barpolar"
           }
          ],
          "carpet": [
           {
            "aaxis": {
             "endlinecolor": "#2a3f5f",
             "gridcolor": "white",
             "linecolor": "white",
             "minorgridcolor": "white",
             "startlinecolor": "#2a3f5f"
            },
            "baxis": {
             "endlinecolor": "#2a3f5f",
             "gridcolor": "white",
             "linecolor": "white",
             "minorgridcolor": "white",
             "startlinecolor": "#2a3f5f"
            },
            "type": "carpet"
           }
          ],
          "choropleth": [
           {
            "colorbar": {
             "outlinewidth": 0,
             "ticks": ""
            },
            "type": "choropleth"
           }
          ],
          "contour": [
           {
            "colorbar": {
             "outlinewidth": 0,
             "ticks": ""
            },
            "colorscale": [
             [
              0,
              "#0d0887"
             ],
             [
              0.1111111111111111,
              "#46039f"
             ],
             [
              0.2222222222222222,
              "#7201a8"
             ],
             [
              0.3333333333333333,
              "#9c179e"
             ],
             [
              0.4444444444444444,
              "#bd3786"
             ],
             [
              0.5555555555555556,
              "#d8576b"
             ],
             [
              0.6666666666666666,
              "#ed7953"
             ],
             [
              0.7777777777777778,
              "#fb9f3a"
             ],
             [
              0.8888888888888888,
              "#fdca26"
             ],
             [
              1,
              "#f0f921"
             ]
            ],
            "type": "contour"
           }
          ],
          "contourcarpet": [
           {
            "colorbar": {
             "outlinewidth": 0,
             "ticks": ""
            },
            "type": "contourcarpet"
           }
          ],
          "heatmap": [
           {
            "colorbar": {
             "outlinewidth": 0,
             "ticks": ""
            },
            "colorscale": [
             [
              0,
              "#0d0887"
             ],
             [
              0.1111111111111111,
              "#46039f"
             ],
             [
              0.2222222222222222,
              "#7201a8"
             ],
             [
              0.3333333333333333,
              "#9c179e"
             ],
             [
              0.4444444444444444,
              "#bd3786"
             ],
             [
              0.5555555555555556,
              "#d8576b"
             ],
             [
              0.6666666666666666,
              "#ed7953"
             ],
             [
              0.7777777777777778,
              "#fb9f3a"
             ],
             [
              0.8888888888888888,
              "#fdca26"
             ],
             [
              1,
              "#f0f921"
             ]
            ],
            "type": "heatmap"
           }
          ],
          "heatmapgl": [
           {
            "colorbar": {
             "outlinewidth": 0,
             "ticks": ""
            },
            "colorscale": [
             [
              0,
              "#0d0887"
             ],
             [
              0.1111111111111111,
              "#46039f"
             ],
             [
              0.2222222222222222,
              "#7201a8"
             ],
             [
              0.3333333333333333,
              "#9c179e"
             ],
             [
              0.4444444444444444,
              "#bd3786"
             ],
             [
              0.5555555555555556,
              "#d8576b"
             ],
             [
              0.6666666666666666,
              "#ed7953"
             ],
             [
              0.7777777777777778,
              "#fb9f3a"
             ],
             [
              0.8888888888888888,
              "#fdca26"
             ],
             [
              1,
              "#f0f921"
             ]
            ],
            "type": "heatmapgl"
           }
          ],
          "histogram": [
           {
            "marker": {
             "pattern": {
              "fillmode": "overlay",
              "size": 10,
              "solidity": 0.2
             }
            },
            "type": "histogram"
           }
          ],
          "histogram2d": [
           {
            "colorbar": {
             "outlinewidth": 0,
             "ticks": ""
            },
            "colorscale": [
             [
              0,
              "#0d0887"
             ],
             [
              0.1111111111111111,
              "#46039f"
             ],
             [
              0.2222222222222222,
              "#7201a8"
             ],
             [
              0.3333333333333333,
              "#9c179e"
             ],
             [
              0.4444444444444444,
              "#bd3786"
             ],
             [
              0.5555555555555556,
              "#d8576b"
             ],
             [
              0.6666666666666666,
              "#ed7953"
             ],
             [
              0.7777777777777778,
              "#fb9f3a"
             ],
             [
              0.8888888888888888,
              "#fdca26"
             ],
             [
              1,
              "#f0f921"
             ]
            ],
            "type": "histogram2d"
           }
          ],
          "histogram2dcontour": [
           {
            "colorbar": {
             "outlinewidth": 0,
             "ticks": ""
            },
            "colorscale": [
             [
              0,
              "#0d0887"
             ],
             [
              0.1111111111111111,
              "#46039f"
             ],
             [
              0.2222222222222222,
              "#7201a8"
             ],
             [
              0.3333333333333333,
              "#9c179e"
             ],
             [
              0.4444444444444444,
              "#bd3786"
             ],
             [
              0.5555555555555556,
              "#d8576b"
             ],
             [
              0.6666666666666666,
              "#ed7953"
             ],
             [
              0.7777777777777778,
              "#fb9f3a"
             ],
             [
              0.8888888888888888,
              "#fdca26"
             ],
             [
              1,
              "#f0f921"
             ]
            ],
            "type": "histogram2dcontour"
           }
          ],
          "mesh3d": [
           {
            "colorbar": {
             "outlinewidth": 0,
             "ticks": ""
            },
            "type": "mesh3d"
           }
          ],
          "parcoords": [
           {
            "line": {
             "colorbar": {
              "outlinewidth": 0,
              "ticks": ""
             }
            },
            "type": "parcoords"
           }
          ],
          "pie": [
           {
            "automargin": true,
            "type": "pie"
           }
          ],
          "scatter": [
           {
            "fillpattern": {
             "fillmode": "overlay",
             "size": 10,
             "solidity": 0.2
            },
            "type": "scatter"
           }
          ],
          "scatter3d": [
           {
            "line": {
             "colorbar": {
              "outlinewidth": 0,
              "ticks": ""
             }
            },
            "marker": {
             "colorbar": {
              "outlinewidth": 0,
              "ticks": ""
             }
            },
            "type": "scatter3d"
           }
          ],
          "scattercarpet": [
           {
            "marker": {
             "colorbar": {
              "outlinewidth": 0,
              "ticks": ""
             }
            },
            "type": "scattercarpet"
           }
          ],
          "scattergeo": [
           {
            "marker": {
             "colorbar": {
              "outlinewidth": 0,
              "ticks": ""
             }
            },
            "type": "scattergeo"
           }
          ],
          "scattergl": [
           {
            "marker": {
             "colorbar": {
              "outlinewidth": 0,
              "ticks": ""
             }
            },
            "type": "scattergl"
           }
          ],
          "scattermapbox": [
           {
            "marker": {
             "colorbar": {
              "outlinewidth": 0,
              "ticks": ""
             }
            },
            "type": "scattermapbox"
           }
          ],
          "scatterpolar": [
           {
            "marker": {
             "colorbar": {
              "outlinewidth": 0,
              "ticks": ""
             }
            },
            "type": "scatterpolar"
           }
          ],
          "scatterpolargl": [
           {
            "marker": {
             "colorbar": {
              "outlinewidth": 0,
              "ticks": ""
             }
            },
            "type": "scatterpolargl"
           }
          ],
          "scatterternary": [
           {
            "marker": {
             "colorbar": {
              "outlinewidth": 0,
              "ticks": ""
             }
            },
            "type": "scatterternary"
           }
          ],
          "surface": [
           {
            "colorbar": {
             "outlinewidth": 0,
             "ticks": ""
            },
            "colorscale": [
             [
              0,
              "#0d0887"
             ],
             [
              0.1111111111111111,
              "#46039f"
             ],
             [
              0.2222222222222222,
              "#7201a8"
             ],
             [
              0.3333333333333333,
              "#9c179e"
             ],
             [
              0.4444444444444444,
              "#bd3786"
             ],
             [
              0.5555555555555556,
              "#d8576b"
             ],
             [
              0.6666666666666666,
              "#ed7953"
             ],
             [
              0.7777777777777778,
              "#fb9f3a"
             ],
             [
              0.8888888888888888,
              "#fdca26"
             ],
             [
              1,
              "#f0f921"
             ]
            ],
            "type": "surface"
           }
          ],
          "table": [
           {
            "cells": {
             "fill": {
              "color": "#EBF0F8"
             },
             "line": {
              "color": "white"
             }
            },
            "header": {
             "fill": {
              "color": "#C8D4E3"
             },
             "line": {
              "color": "white"
             }
            },
            "type": "table"
           }
          ]
         },
         "layout": {
          "annotationdefaults": {
           "arrowcolor": "#2a3f5f",
           "arrowhead": 0,
           "arrowwidth": 1
          },
          "autotypenumbers": "strict",
          "coloraxis": {
           "colorbar": {
            "outlinewidth": 0,
            "ticks": ""
           }
          },
          "colorscale": {
           "diverging": [
            [
             0,
             "#8e0152"
            ],
            [
             0.1,
             "#c51b7d"
            ],
            [
             0.2,
             "#de77ae"
            ],
            [
             0.3,
             "#f1b6da"
            ],
            [
             0.4,
             "#fde0ef"
            ],
            [
             0.5,
             "#f7f7f7"
            ],
            [
             0.6,
             "#e6f5d0"
            ],
            [
             0.7,
             "#b8e186"
            ],
            [
             0.8,
             "#7fbc41"
            ],
            [
             0.9,
             "#4d9221"
            ],
            [
             1,
             "#276419"
            ]
           ],
           "sequential": [
            [
             0,
             "#0d0887"
            ],
            [
             0.1111111111111111,
             "#46039f"
            ],
            [
             0.2222222222222222,
             "#7201a8"
            ],
            [
             0.3333333333333333,
             "#9c179e"
            ],
            [
             0.4444444444444444,
             "#bd3786"
            ],
            [
             0.5555555555555556,
             "#d8576b"
            ],
            [
             0.6666666666666666,
             "#ed7953"
            ],
            [
             0.7777777777777778,
             "#fb9f3a"
            ],
            [
             0.8888888888888888,
             "#fdca26"
            ],
            [
             1,
             "#f0f921"
            ]
           ],
           "sequentialminus": [
            [
             0,
             "#0d0887"
            ],
            [
             0.1111111111111111,
             "#46039f"
            ],
            [
             0.2222222222222222,
             "#7201a8"
            ],
            [
             0.3333333333333333,
             "#9c179e"
            ],
            [
             0.4444444444444444,
             "#bd3786"
            ],
            [
             0.5555555555555556,
             "#d8576b"
            ],
            [
             0.6666666666666666,
             "#ed7953"
            ],
            [
             0.7777777777777778,
             "#fb9f3a"
            ],
            [
             0.8888888888888888,
             "#fdca26"
            ],
            [
             1,
             "#f0f921"
            ]
           ]
          },
          "colorway": [
           "#636efa",
           "#EF553B",
           "#00cc96",
           "#ab63fa",
           "#FFA15A",
           "#19d3f3",
           "#FF6692",
           "#B6E880",
           "#FF97FF",
           "#FECB52"
          ],
          "font": {
           "color": "#2a3f5f"
          },
          "geo": {
           "bgcolor": "white",
           "lakecolor": "white",
           "landcolor": "#E5ECF6",
           "showlakes": true,
           "showland": true,
           "subunitcolor": "white"
          },
          "hoverlabel": {
           "align": "left"
          },
          "hovermode": "closest",
          "mapbox": {
           "style": "light"
          },
          "paper_bgcolor": "white",
          "plot_bgcolor": "#E5ECF6",
          "polar": {
           "angularaxis": {
            "gridcolor": "white",
            "linecolor": "white",
            "ticks": ""
           },
           "bgcolor": "#E5ECF6",
           "radialaxis": {
            "gridcolor": "white",
            "linecolor": "white",
            "ticks": ""
           }
          },
          "scene": {
           "xaxis": {
            "backgroundcolor": "#E5ECF6",
            "gridcolor": "white",
            "gridwidth": 2,
            "linecolor": "white",
            "showbackground": true,
            "ticks": "",
            "zerolinecolor": "white"
           },
           "yaxis": {
            "backgroundcolor": "#E5ECF6",
            "gridcolor": "white",
            "gridwidth": 2,
            "linecolor": "white",
            "showbackground": true,
            "ticks": "",
            "zerolinecolor": "white"
           },
           "zaxis": {
            "backgroundcolor": "#E5ECF6",
            "gridcolor": "white",
            "gridwidth": 2,
            "linecolor": "white",
            "showbackground": true,
            "ticks": "",
            "zerolinecolor": "white"
           }
          },
          "shapedefaults": {
           "line": {
            "color": "#2a3f5f"
           }
          },
          "ternary": {
           "aaxis": {
            "gridcolor": "white",
            "linecolor": "white",
            "ticks": ""
           },
           "baxis": {
            "gridcolor": "white",
            "linecolor": "white",
            "ticks": ""
           },
           "bgcolor": "#E5ECF6",
           "caxis": {
            "gridcolor": "white",
            "linecolor": "white",
            "ticks": ""
           }
          },
          "title": {
           "x": 0.05
          },
          "xaxis": {
           "automargin": true,
           "gridcolor": "white",
           "linecolor": "white",
           "ticks": "",
           "title": {
            "standoff": 15
           },
           "zerolinecolor": "white",
           "zerolinewidth": 2
          },
          "yaxis": {
           "automargin": true,
           "gridcolor": "white",
           "linecolor": "white",
           "ticks": "",
           "title": {
            "standoff": 15
           },
           "zerolinecolor": "white",
           "zerolinewidth": 2
          }
         }
        },
        "xaxis": {
         "anchor": "y",
         "domain": [
          0,
          0.2888888888888889
         ]
        },
        "xaxis2": {
         "anchor": "y2",
         "domain": [
          0.35555555555555557,
          0.6444444444444445
         ]
        },
        "xaxis3": {
         "anchor": "y3",
         "domain": [
          0.7111111111111111,
          1
         ]
        },
        "yaxis": {
         "anchor": "x",
         "domain": [
          0,
          1
         ]
        },
        "yaxis2": {
         "anchor": "x2",
         "domain": [
          0,
          1
         ]
        },
        "yaxis3": {
         "anchor": "x3",
         "domain": [
          0,
          1
         ]
        }
       }
      }
     },
     "metadata": {},
     "output_type": "display_data"
    },
    {
     "name": "stdout",
     "output_type": "stream",
     "text": [
      "ferry\n"
     ]
    },
    {
     "data": {
      "application/vnd.plotly.v1+json": {
       "config": {
        "plotlyServerURL": "https://plot.ly"
       },
       "data": [
        {
         "hoverinfo": [
          "all"
         ],
         "mode": "markers",
         "name": "loss",
         "type": "scatter",
         "x": [
          "2_8",
          "2_8",
          "2_8",
          "2_16",
          "2_16",
          "2_16",
          "2_32",
          "2_32",
          "2_32",
          "3_8",
          "3_8",
          "3_8",
          "3_16",
          "3_16",
          "3_16",
          "3_32",
          "3_32",
          "3_32",
          "4_8",
          "4_8",
          "4_8",
          "4_16",
          "4_16",
          "4_16",
          "4_32",
          "4_32",
          "4_32"
         ],
         "xaxis": "x",
         "y": [
          0.08966952736806756,
          0.09678513769952388,
          0.08905189170169876,
          0.08396376261891896,
          0.0904553298171521,
          0.09018672597596328,
          0.29707289704613976,
          0.2775133308644757,
          0.25852423935113583,
          0.0777689633752285,
          0.07804355105625152,
          0.07802275638504702,
          0.07738448770286482,
          0.07417655745282505,
          0.07803046599881451,
          0.24652276713324564,
          0.17821281820646692,
          0.09588003250333586,
          0.07258688857586759,
          0.07791503678256351,
          0.07886743416929431,
          0.07796125752632507,
          0.07802236044995015,
          0.07630908293317976,
          0.09106264436056768,
          0.15913340969623868,
          0.12224614103054057
         ],
         "yaxis": "y"
        },
        {
         "hoverinfo": [
          "all"
         ],
         "mode": "markers",
         "name": "f1",
         "type": "scatter",
         "x": [
          "2_8",
          "2_8",
          "2_8",
          "2_16",
          "2_16",
          "2_16",
          "2_32",
          "2_32",
          "2_32",
          "3_8",
          "3_8",
          "3_8",
          "3_16",
          "3_16",
          "3_16",
          "3_32",
          "3_32",
          "3_32",
          "4_8",
          "4_8",
          "4_8",
          "4_16",
          "4_16",
          "4_16",
          "4_32",
          "4_32",
          "4_32"
         ],
         "xaxis": "x2",
         "y": [
          0.9948195475738214,
          0.9928261523261308,
          0.9927371180540634,
          0.9945341080266838,
          0.9918475928945336,
          0.9932758620689656,
          0.9642394077544021,
          0.9708852238303601,
          0.9665640679681241,
          1,
          1,
          1,
          0.9971527178602243,
          1,
          1,
          0.9725692099932478,
          0.9753707067719994,
          0.9921415381972775,
          1,
          1,
          1,
          1,
          1,
          1,
          0.9970651704790677,
          0.9865263698190684,
          0.9867544009571013
         ],
         "yaxis": "y2"
        },
        {
         "hoverinfo": [
          "all"
         ],
         "mode": "markers",
         "name": "time",
         "type": "scatter",
         "x": [
          "2_8",
          "2_8",
          "2_8",
          "2_16",
          "2_16",
          "2_16",
          "2_32",
          "2_32",
          "2_32",
          "3_8",
          "3_8",
          "3_8",
          "3_16",
          "3_16",
          "3_16",
          "3_32",
          "3_32",
          "3_32",
          "4_8",
          "4_8",
          "4_8",
          "4_16",
          "4_16",
          "4_16",
          "4_32",
          "4_32",
          "4_32"
         ],
         "xaxis": "x3",
         "y": [
          226.7511761188507,
          212.73524737358093,
          272.619117975235,
          234.32336282730103,
          254.05162930488586,
          368.69732189178467,
          1138.0258367061615,
          597.0732986927032,
          1137.8091218471527,
          219.93614149093628,
          216.35893321037292,
          155.82866287231445,
          429.7363028526306,
          515.2040503025055,
          311.8678765296936,
          1634.3421347141266,
          1354.789309501648,
          778.9722831249237,
          314.2964298725128,
          190.64063239097595,
          244.98034262657166,
          578.3972210884094,
          343.50086069107056,
          483.8351397514343,
          1486.892406463623,
          842.5374746322632,
          1223.6535923480988
         ],
         "yaxis": "y3"
        }
       ],
       "layout": {
        "template": {
         "data": {
          "bar": [
           {
            "error_x": {
             "color": "#2a3f5f"
            },
            "error_y": {
             "color": "#2a3f5f"
            },
            "marker": {
             "line": {
              "color": "#E5ECF6",
              "width": 0.5
             },
             "pattern": {
              "fillmode": "overlay",
              "size": 10,
              "solidity": 0.2
             }
            },
            "type": "bar"
           }
          ],
          "barpolar": [
           {
            "marker": {
             "line": {
              "color": "#E5ECF6",
              "width": 0.5
             },
             "pattern": {
              "fillmode": "overlay",
              "size": 10,
              "solidity": 0.2
             }
            },
            "type": "barpolar"
           }
          ],
          "carpet": [
           {
            "aaxis": {
             "endlinecolor": "#2a3f5f",
             "gridcolor": "white",
             "linecolor": "white",
             "minorgridcolor": "white",
             "startlinecolor": "#2a3f5f"
            },
            "baxis": {
             "endlinecolor": "#2a3f5f",
             "gridcolor": "white",
             "linecolor": "white",
             "minorgridcolor": "white",
             "startlinecolor": "#2a3f5f"
            },
            "type": "carpet"
           }
          ],
          "choropleth": [
           {
            "colorbar": {
             "outlinewidth": 0,
             "ticks": ""
            },
            "type": "choropleth"
           }
          ],
          "contour": [
           {
            "colorbar": {
             "outlinewidth": 0,
             "ticks": ""
            },
            "colorscale": [
             [
              0,
              "#0d0887"
             ],
             [
              0.1111111111111111,
              "#46039f"
             ],
             [
              0.2222222222222222,
              "#7201a8"
             ],
             [
              0.3333333333333333,
              "#9c179e"
             ],
             [
              0.4444444444444444,
              "#bd3786"
             ],
             [
              0.5555555555555556,
              "#d8576b"
             ],
             [
              0.6666666666666666,
              "#ed7953"
             ],
             [
              0.7777777777777778,
              "#fb9f3a"
             ],
             [
              0.8888888888888888,
              "#fdca26"
             ],
             [
              1,
              "#f0f921"
             ]
            ],
            "type": "contour"
           }
          ],
          "contourcarpet": [
           {
            "colorbar": {
             "outlinewidth": 0,
             "ticks": ""
            },
            "type": "contourcarpet"
           }
          ],
          "heatmap": [
           {
            "colorbar": {
             "outlinewidth": 0,
             "ticks": ""
            },
            "colorscale": [
             [
              0,
              "#0d0887"
             ],
             [
              0.1111111111111111,
              "#46039f"
             ],
             [
              0.2222222222222222,
              "#7201a8"
             ],
             [
              0.3333333333333333,
              "#9c179e"
             ],
             [
              0.4444444444444444,
              "#bd3786"
             ],
             [
              0.5555555555555556,
              "#d8576b"
             ],
             [
              0.6666666666666666,
              "#ed7953"
             ],
             [
              0.7777777777777778,
              "#fb9f3a"
             ],
             [
              0.8888888888888888,
              "#fdca26"
             ],
             [
              1,
              "#f0f921"
             ]
            ],
            "type": "heatmap"
           }
          ],
          "heatmapgl": [
           {
            "colorbar": {
             "outlinewidth": 0,
             "ticks": ""
            },
            "colorscale": [
             [
              0,
              "#0d0887"
             ],
             [
              0.1111111111111111,
              "#46039f"
             ],
             [
              0.2222222222222222,
              "#7201a8"
             ],
             [
              0.3333333333333333,
              "#9c179e"
             ],
             [
              0.4444444444444444,
              "#bd3786"
             ],
             [
              0.5555555555555556,
              "#d8576b"
             ],
             [
              0.6666666666666666,
              "#ed7953"
             ],
             [
              0.7777777777777778,
              "#fb9f3a"
             ],
             [
              0.8888888888888888,
              "#fdca26"
             ],
             [
              1,
              "#f0f921"
             ]
            ],
            "type": "heatmapgl"
           }
          ],
          "histogram": [
           {
            "marker": {
             "pattern": {
              "fillmode": "overlay",
              "size": 10,
              "solidity": 0.2
             }
            },
            "type": "histogram"
           }
          ],
          "histogram2d": [
           {
            "colorbar": {
             "outlinewidth": 0,
             "ticks": ""
            },
            "colorscale": [
             [
              0,
              "#0d0887"
             ],
             [
              0.1111111111111111,
              "#46039f"
             ],
             [
              0.2222222222222222,
              "#7201a8"
             ],
             [
              0.3333333333333333,
              "#9c179e"
             ],
             [
              0.4444444444444444,
              "#bd3786"
             ],
             [
              0.5555555555555556,
              "#d8576b"
             ],
             [
              0.6666666666666666,
              "#ed7953"
             ],
             [
              0.7777777777777778,
              "#fb9f3a"
             ],
             [
              0.8888888888888888,
              "#fdca26"
             ],
             [
              1,
              "#f0f921"
             ]
            ],
            "type": "histogram2d"
           }
          ],
          "histogram2dcontour": [
           {
            "colorbar": {
             "outlinewidth": 0,
             "ticks": ""
            },
            "colorscale": [
             [
              0,
              "#0d0887"
             ],
             [
              0.1111111111111111,
              "#46039f"
             ],
             [
              0.2222222222222222,
              "#7201a8"
             ],
             [
              0.3333333333333333,
              "#9c179e"
             ],
             [
              0.4444444444444444,
              "#bd3786"
             ],
             [
              0.5555555555555556,
              "#d8576b"
             ],
             [
              0.6666666666666666,
              "#ed7953"
             ],
             [
              0.7777777777777778,
              "#fb9f3a"
             ],
             [
              0.8888888888888888,
              "#fdca26"
             ],
             [
              1,
              "#f0f921"
             ]
            ],
            "type": "histogram2dcontour"
           }
          ],
          "mesh3d": [
           {
            "colorbar": {
             "outlinewidth": 0,
             "ticks": ""
            },
            "type": "mesh3d"
           }
          ],
          "parcoords": [
           {
            "line": {
             "colorbar": {
              "outlinewidth": 0,
              "ticks": ""
             }
            },
            "type": "parcoords"
           }
          ],
          "pie": [
           {
            "automargin": true,
            "type": "pie"
           }
          ],
          "scatter": [
           {
            "fillpattern": {
             "fillmode": "overlay",
             "size": 10,
             "solidity": 0.2
            },
            "type": "scatter"
           }
          ],
          "scatter3d": [
           {
            "line": {
             "colorbar": {
              "outlinewidth": 0,
              "ticks": ""
             }
            },
            "marker": {
             "colorbar": {
              "outlinewidth": 0,
              "ticks": ""
             }
            },
            "type": "scatter3d"
           }
          ],
          "scattercarpet": [
           {
            "marker": {
             "colorbar": {
              "outlinewidth": 0,
              "ticks": ""
             }
            },
            "type": "scattercarpet"
           }
          ],
          "scattergeo": [
           {
            "marker": {
             "colorbar": {
              "outlinewidth": 0,
              "ticks": ""
             }
            },
            "type": "scattergeo"
           }
          ],
          "scattergl": [
           {
            "marker": {
             "colorbar": {
              "outlinewidth": 0,
              "ticks": ""
             }
            },
            "type": "scattergl"
           }
          ],
          "scattermapbox": [
           {
            "marker": {
             "colorbar": {
              "outlinewidth": 0,
              "ticks": ""
             }
            },
            "type": "scattermapbox"
           }
          ],
          "scatterpolar": [
           {
            "marker": {
             "colorbar": {
              "outlinewidth": 0,
              "ticks": ""
             }
            },
            "type": "scatterpolar"
           }
          ],
          "scatterpolargl": [
           {
            "marker": {
             "colorbar": {
              "outlinewidth": 0,
              "ticks": ""
             }
            },
            "type": "scatterpolargl"
           }
          ],
          "scatterternary": [
           {
            "marker": {
             "colorbar": {
              "outlinewidth": 0,
              "ticks": ""
             }
            },
            "type": "scatterternary"
           }
          ],
          "surface": [
           {
            "colorbar": {
             "outlinewidth": 0,
             "ticks": ""
            },
            "colorscale": [
             [
              0,
              "#0d0887"
             ],
             [
              0.1111111111111111,
              "#46039f"
             ],
             [
              0.2222222222222222,
              "#7201a8"
             ],
             [
              0.3333333333333333,
              "#9c179e"
             ],
             [
              0.4444444444444444,
              "#bd3786"
             ],
             [
              0.5555555555555556,
              "#d8576b"
             ],
             [
              0.6666666666666666,
              "#ed7953"
             ],
             [
              0.7777777777777778,
              "#fb9f3a"
             ],
             [
              0.8888888888888888,
              "#fdca26"
             ],
             [
              1,
              "#f0f921"
             ]
            ],
            "type": "surface"
           }
          ],
          "table": [
           {
            "cells": {
             "fill": {
              "color": "#EBF0F8"
             },
             "line": {
              "color": "white"
             }
            },
            "header": {
             "fill": {
              "color": "#C8D4E3"
             },
             "line": {
              "color": "white"
             }
            },
            "type": "table"
           }
          ]
         },
         "layout": {
          "annotationdefaults": {
           "arrowcolor": "#2a3f5f",
           "arrowhead": 0,
           "arrowwidth": 1
          },
          "autotypenumbers": "strict",
          "coloraxis": {
           "colorbar": {
            "outlinewidth": 0,
            "ticks": ""
           }
          },
          "colorscale": {
           "diverging": [
            [
             0,
             "#8e0152"
            ],
            [
             0.1,
             "#c51b7d"
            ],
            [
             0.2,
             "#de77ae"
            ],
            [
             0.3,
             "#f1b6da"
            ],
            [
             0.4,
             "#fde0ef"
            ],
            [
             0.5,
             "#f7f7f7"
            ],
            [
             0.6,
             "#e6f5d0"
            ],
            [
             0.7,
             "#b8e186"
            ],
            [
             0.8,
             "#7fbc41"
            ],
            [
             0.9,
             "#4d9221"
            ],
            [
             1,
             "#276419"
            ]
           ],
           "sequential": [
            [
             0,
             "#0d0887"
            ],
            [
             0.1111111111111111,
             "#46039f"
            ],
            [
             0.2222222222222222,
             "#7201a8"
            ],
            [
             0.3333333333333333,
             "#9c179e"
            ],
            [
             0.4444444444444444,
             "#bd3786"
            ],
            [
             0.5555555555555556,
             "#d8576b"
            ],
            [
             0.6666666666666666,
             "#ed7953"
            ],
            [
             0.7777777777777778,
             "#fb9f3a"
            ],
            [
             0.8888888888888888,
             "#fdca26"
            ],
            [
             1,
             "#f0f921"
            ]
           ],
           "sequentialminus": [
            [
             0,
             "#0d0887"
            ],
            [
             0.1111111111111111,
             "#46039f"
            ],
            [
             0.2222222222222222,
             "#7201a8"
            ],
            [
             0.3333333333333333,
             "#9c179e"
            ],
            [
             0.4444444444444444,
             "#bd3786"
            ],
            [
             0.5555555555555556,
             "#d8576b"
            ],
            [
             0.6666666666666666,
             "#ed7953"
            ],
            [
             0.7777777777777778,
             "#fb9f3a"
            ],
            [
             0.8888888888888888,
             "#fdca26"
            ],
            [
             1,
             "#f0f921"
            ]
           ]
          },
          "colorway": [
           "#636efa",
           "#EF553B",
           "#00cc96",
           "#ab63fa",
           "#FFA15A",
           "#19d3f3",
           "#FF6692",
           "#B6E880",
           "#FF97FF",
           "#FECB52"
          ],
          "font": {
           "color": "#2a3f5f"
          },
          "geo": {
           "bgcolor": "white",
           "lakecolor": "white",
           "landcolor": "#E5ECF6",
           "showlakes": true,
           "showland": true,
           "subunitcolor": "white"
          },
          "hoverlabel": {
           "align": "left"
          },
          "hovermode": "closest",
          "mapbox": {
           "style": "light"
          },
          "paper_bgcolor": "white",
          "plot_bgcolor": "#E5ECF6",
          "polar": {
           "angularaxis": {
            "gridcolor": "white",
            "linecolor": "white",
            "ticks": ""
           },
           "bgcolor": "#E5ECF6",
           "radialaxis": {
            "gridcolor": "white",
            "linecolor": "white",
            "ticks": ""
           }
          },
          "scene": {
           "xaxis": {
            "backgroundcolor": "#E5ECF6",
            "gridcolor": "white",
            "gridwidth": 2,
            "linecolor": "white",
            "showbackground": true,
            "ticks": "",
            "zerolinecolor": "white"
           },
           "yaxis": {
            "backgroundcolor": "#E5ECF6",
            "gridcolor": "white",
            "gridwidth": 2,
            "linecolor": "white",
            "showbackground": true,
            "ticks": "",
            "zerolinecolor": "white"
           },
           "zaxis": {
            "backgroundcolor": "#E5ECF6",
            "gridcolor": "white",
            "gridwidth": 2,
            "linecolor": "white",
            "showbackground": true,
            "ticks": "",
            "zerolinecolor": "white"
           }
          },
          "shapedefaults": {
           "line": {
            "color": "#2a3f5f"
           }
          },
          "ternary": {
           "aaxis": {
            "gridcolor": "white",
            "linecolor": "white",
            "ticks": ""
           },
           "baxis": {
            "gridcolor": "white",
            "linecolor": "white",
            "ticks": ""
           },
           "bgcolor": "#E5ECF6",
           "caxis": {
            "gridcolor": "white",
            "linecolor": "white",
            "ticks": ""
           }
          },
          "title": {
           "x": 0.05
          },
          "xaxis": {
           "automargin": true,
           "gridcolor": "white",
           "linecolor": "white",
           "ticks": "",
           "title": {
            "standoff": 15
           },
           "zerolinecolor": "white",
           "zerolinewidth": 2
          },
          "yaxis": {
           "automargin": true,
           "gridcolor": "white",
           "linecolor": "white",
           "ticks": "",
           "title": {
            "standoff": 15
           },
           "zerolinecolor": "white",
           "zerolinewidth": 2
          }
         }
        },
        "xaxis": {
         "anchor": "y",
         "domain": [
          0,
          0.2888888888888889
         ]
        },
        "xaxis2": {
         "anchor": "y2",
         "domain": [
          0.35555555555555557,
          0.6444444444444445
         ]
        },
        "xaxis3": {
         "anchor": "y3",
         "domain": [
          0.7111111111111111,
          1
         ]
        },
        "yaxis": {
         "anchor": "x",
         "domain": [
          0,
          1
         ]
        },
        "yaxis2": {
         "anchor": "x2",
         "domain": [
          0,
          1
         ]
        },
        "yaxis3": {
         "anchor": "x3",
         "domain": [
          0,
          1
         ]
        }
       }
      }
     },
     "metadata": {},
     "output_type": "display_data"
    },
    {
     "name": "stdout",
     "output_type": "stream",
     "text": [
      "satellite\n"
     ]
    },
    {
     "data": {
      "application/vnd.plotly.v1+json": {
       "config": {
        "plotlyServerURL": "https://plot.ly"
       },
       "data": [
        {
         "hoverinfo": [
          "all"
         ],
         "mode": "markers",
         "name": "loss",
         "type": "scatter",
         "x": [
          "2_8",
          "2_8",
          "2_8",
          "2_16",
          "2_16",
          "2_16",
          "2_32",
          "2_32",
          "2_32",
          "3_8",
          "3_8",
          "3_8",
          "3_16",
          "3_16",
          "3_16"
         ],
         "xaxis": "x",
         "y": [
          0.1897766934997831,
          0.19983247982074964,
          0.22142593756347817,
          0.4790504670048699,
          0.3940080191691281,
          0.33193555614367726,
          1.2194465467785034,
          1.1841695173539162,
          1.1589336594657897,
          0.1745362522590527,
          0.19546613598740703,
          0.16388236101668238,
          0.7312579358372402,
          0.27547122887376674,
          0.3549129857094072
         ],
         "yaxis": "y"
        },
        {
         "hoverinfo": [
          "all"
         ],
         "mode": "markers",
         "name": "f1",
         "type": "scatter",
         "x": [
          "2_8",
          "2_8",
          "2_8",
          "2_16",
          "2_16",
          "2_16",
          "2_32",
          "2_32",
          "2_32",
          "3_8",
          "3_8",
          "3_8",
          "3_16",
          "3_16",
          "3_16"
         ],
         "xaxis": "x2",
         "y": [
          0.9565853755018889,
          0.9583816879426947,
          0.9443542318507664,
          0.90683692273328,
          0.9115047561980376,
          0.9201351967188212,
          0.8821781643347198,
          0.882228986185905,
          0.8812114454256065,
          0.9719569806010654,
          0.9458552189881916,
          0.9696456986323444,
          0.8967772932219676,
          0.9341859321200197,
          0.9070102035753858
         ],
         "yaxis": "y2"
        },
        {
         "hoverinfo": [
          "all"
         ],
         "mode": "markers",
         "name": "time",
         "type": "scatter",
         "x": [
          "2_8",
          "2_8",
          "2_8",
          "2_16",
          "2_16",
          "2_16",
          "2_32",
          "2_32",
          "2_32",
          "3_8",
          "3_8",
          "3_8",
          "3_16",
          "3_16",
          "3_16"
         ],
         "xaxis": "x3",
         "y": [
          1145.6428668498993,
          1523.464614868164,
          739.1888644695282,
          1361.1503148078918,
          2263.8633456230164,
          2889.1186912059784,
          5745.544273853302,
          5441.078398227692,
          5702.914518594742,
          1810.097721338272,
          897.9620935916901,
          1465.4883892536163,
          3522.329246044159,
          2510.36922621727,
          1912.2434272766113
         ],
         "yaxis": "y3"
        }
       ],
       "layout": {
        "template": {
         "data": {
          "bar": [
           {
            "error_x": {
             "color": "#2a3f5f"
            },
            "error_y": {
             "color": "#2a3f5f"
            },
            "marker": {
             "line": {
              "color": "#E5ECF6",
              "width": 0.5
             },
             "pattern": {
              "fillmode": "overlay",
              "size": 10,
              "solidity": 0.2
             }
            },
            "type": "bar"
           }
          ],
          "barpolar": [
           {
            "marker": {
             "line": {
              "color": "#E5ECF6",
              "width": 0.5
             },
             "pattern": {
              "fillmode": "overlay",
              "size": 10,
              "solidity": 0.2
             }
            },
            "type": "barpolar"
           }
          ],
          "carpet": [
           {
            "aaxis": {
             "endlinecolor": "#2a3f5f",
             "gridcolor": "white",
             "linecolor": "white",
             "minorgridcolor": "white",
             "startlinecolor": "#2a3f5f"
            },
            "baxis": {
             "endlinecolor": "#2a3f5f",
             "gridcolor": "white",
             "linecolor": "white",
             "minorgridcolor": "white",
             "startlinecolor": "#2a3f5f"
            },
            "type": "carpet"
           }
          ],
          "choropleth": [
           {
            "colorbar": {
             "outlinewidth": 0,
             "ticks": ""
            },
            "type": "choropleth"
           }
          ],
          "contour": [
           {
            "colorbar": {
             "outlinewidth": 0,
             "ticks": ""
            },
            "colorscale": [
             [
              0,
              "#0d0887"
             ],
             [
              0.1111111111111111,
              "#46039f"
             ],
             [
              0.2222222222222222,
              "#7201a8"
             ],
             [
              0.3333333333333333,
              "#9c179e"
             ],
             [
              0.4444444444444444,
              "#bd3786"
             ],
             [
              0.5555555555555556,
              "#d8576b"
             ],
             [
              0.6666666666666666,
              "#ed7953"
             ],
             [
              0.7777777777777778,
              "#fb9f3a"
             ],
             [
              0.8888888888888888,
              "#fdca26"
             ],
             [
              1,
              "#f0f921"
             ]
            ],
            "type": "contour"
           }
          ],
          "contourcarpet": [
           {
            "colorbar": {
             "outlinewidth": 0,
             "ticks": ""
            },
            "type": "contourcarpet"
           }
          ],
          "heatmap": [
           {
            "colorbar": {
             "outlinewidth": 0,
             "ticks": ""
            },
            "colorscale": [
             [
              0,
              "#0d0887"
             ],
             [
              0.1111111111111111,
              "#46039f"
             ],
             [
              0.2222222222222222,
              "#7201a8"
             ],
             [
              0.3333333333333333,
              "#9c179e"
             ],
             [
              0.4444444444444444,
              "#bd3786"
             ],
             [
              0.5555555555555556,
              "#d8576b"
             ],
             [
              0.6666666666666666,
              "#ed7953"
             ],
             [
              0.7777777777777778,
              "#fb9f3a"
             ],
             [
              0.8888888888888888,
              "#fdca26"
             ],
             [
              1,
              "#f0f921"
             ]
            ],
            "type": "heatmap"
           }
          ],
          "heatmapgl": [
           {
            "colorbar": {
             "outlinewidth": 0,
             "ticks": ""
            },
            "colorscale": [
             [
              0,
              "#0d0887"
             ],
             [
              0.1111111111111111,
              "#46039f"
             ],
             [
              0.2222222222222222,
              "#7201a8"
             ],
             [
              0.3333333333333333,
              "#9c179e"
             ],
             [
              0.4444444444444444,
              "#bd3786"
             ],
             [
              0.5555555555555556,
              "#d8576b"
             ],
             [
              0.6666666666666666,
              "#ed7953"
             ],
             [
              0.7777777777777778,
              "#fb9f3a"
             ],
             [
              0.8888888888888888,
              "#fdca26"
             ],
             [
              1,
              "#f0f921"
             ]
            ],
            "type": "heatmapgl"
           }
          ],
          "histogram": [
           {
            "marker": {
             "pattern": {
              "fillmode": "overlay",
              "size": 10,
              "solidity": 0.2
             }
            },
            "type": "histogram"
           }
          ],
          "histogram2d": [
           {
            "colorbar": {
             "outlinewidth": 0,
             "ticks": ""
            },
            "colorscale": [
             [
              0,
              "#0d0887"
             ],
             [
              0.1111111111111111,
              "#46039f"
             ],
             [
              0.2222222222222222,
              "#7201a8"
             ],
             [
              0.3333333333333333,
              "#9c179e"
             ],
             [
              0.4444444444444444,
              "#bd3786"
             ],
             [
              0.5555555555555556,
              "#d8576b"
             ],
             [
              0.6666666666666666,
              "#ed7953"
             ],
             [
              0.7777777777777778,
              "#fb9f3a"
             ],
             [
              0.8888888888888888,
              "#fdca26"
             ],
             [
              1,
              "#f0f921"
             ]
            ],
            "type": "histogram2d"
           }
          ],
          "histogram2dcontour": [
           {
            "colorbar": {
             "outlinewidth": 0,
             "ticks": ""
            },
            "colorscale": [
             [
              0,
              "#0d0887"
             ],
             [
              0.1111111111111111,
              "#46039f"
             ],
             [
              0.2222222222222222,
              "#7201a8"
             ],
             [
              0.3333333333333333,
              "#9c179e"
             ],
             [
              0.4444444444444444,
              "#bd3786"
             ],
             [
              0.5555555555555556,
              "#d8576b"
             ],
             [
              0.6666666666666666,
              "#ed7953"
             ],
             [
              0.7777777777777778,
              "#fb9f3a"
             ],
             [
              0.8888888888888888,
              "#fdca26"
             ],
             [
              1,
              "#f0f921"
             ]
            ],
            "type": "histogram2dcontour"
           }
          ],
          "mesh3d": [
           {
            "colorbar": {
             "outlinewidth": 0,
             "ticks": ""
            },
            "type": "mesh3d"
           }
          ],
          "parcoords": [
           {
            "line": {
             "colorbar": {
              "outlinewidth": 0,
              "ticks": ""
             }
            },
            "type": "parcoords"
           }
          ],
          "pie": [
           {
            "automargin": true,
            "type": "pie"
           }
          ],
          "scatter": [
           {
            "fillpattern": {
             "fillmode": "overlay",
             "size": 10,
             "solidity": 0.2
            },
            "type": "scatter"
           }
          ],
          "scatter3d": [
           {
            "line": {
             "colorbar": {
              "outlinewidth": 0,
              "ticks": ""
             }
            },
            "marker": {
             "colorbar": {
              "outlinewidth": 0,
              "ticks": ""
             }
            },
            "type": "scatter3d"
           }
          ],
          "scattercarpet": [
           {
            "marker": {
             "colorbar": {
              "outlinewidth": 0,
              "ticks": ""
             }
            },
            "type": "scattercarpet"
           }
          ],
          "scattergeo": [
           {
            "marker": {
             "colorbar": {
              "outlinewidth": 0,
              "ticks": ""
             }
            },
            "type": "scattergeo"
           }
          ],
          "scattergl": [
           {
            "marker": {
             "colorbar": {
              "outlinewidth": 0,
              "ticks": ""
             }
            },
            "type": "scattergl"
           }
          ],
          "scattermapbox": [
           {
            "marker": {
             "colorbar": {
              "outlinewidth": 0,
              "ticks": ""
             }
            },
            "type": "scattermapbox"
           }
          ],
          "scatterpolar": [
           {
            "marker": {
             "colorbar": {
              "outlinewidth": 0,
              "ticks": ""
             }
            },
            "type": "scatterpolar"
           }
          ],
          "scatterpolargl": [
           {
            "marker": {
             "colorbar": {
              "outlinewidth": 0,
              "ticks": ""
             }
            },
            "type": "scatterpolargl"
           }
          ],
          "scatterternary": [
           {
            "marker": {
             "colorbar": {
              "outlinewidth": 0,
              "ticks": ""
             }
            },
            "type": "scatterternary"
           }
          ],
          "surface": [
           {
            "colorbar": {
             "outlinewidth": 0,
             "ticks": ""
            },
            "colorscale": [
             [
              0,
              "#0d0887"
             ],
             [
              0.1111111111111111,
              "#46039f"
             ],
             [
              0.2222222222222222,
              "#7201a8"
             ],
             [
              0.3333333333333333,
              "#9c179e"
             ],
             [
              0.4444444444444444,
              "#bd3786"
             ],
             [
              0.5555555555555556,
              "#d8576b"
             ],
             [
              0.6666666666666666,
              "#ed7953"
             ],
             [
              0.7777777777777778,
              "#fb9f3a"
             ],
             [
              0.8888888888888888,
              "#fdca26"
             ],
             [
              1,
              "#f0f921"
             ]
            ],
            "type": "surface"
           }
          ],
          "table": [
           {
            "cells": {
             "fill": {
              "color": "#EBF0F8"
             },
             "line": {
              "color": "white"
             }
            },
            "header": {
             "fill": {
              "color": "#C8D4E3"
             },
             "line": {
              "color": "white"
             }
            },
            "type": "table"
           }
          ]
         },
         "layout": {
          "annotationdefaults": {
           "arrowcolor": "#2a3f5f",
           "arrowhead": 0,
           "arrowwidth": 1
          },
          "autotypenumbers": "strict",
          "coloraxis": {
           "colorbar": {
            "outlinewidth": 0,
            "ticks": ""
           }
          },
          "colorscale": {
           "diverging": [
            [
             0,
             "#8e0152"
            ],
            [
             0.1,
             "#c51b7d"
            ],
            [
             0.2,
             "#de77ae"
            ],
            [
             0.3,
             "#f1b6da"
            ],
            [
             0.4,
             "#fde0ef"
            ],
            [
             0.5,
             "#f7f7f7"
            ],
            [
             0.6,
             "#e6f5d0"
            ],
            [
             0.7,
             "#b8e186"
            ],
            [
             0.8,
             "#7fbc41"
            ],
            [
             0.9,
             "#4d9221"
            ],
            [
             1,
             "#276419"
            ]
           ],
           "sequential": [
            [
             0,
             "#0d0887"
            ],
            [
             0.1111111111111111,
             "#46039f"
            ],
            [
             0.2222222222222222,
             "#7201a8"
            ],
            [
             0.3333333333333333,
             "#9c179e"
            ],
            [
             0.4444444444444444,
             "#bd3786"
            ],
            [
             0.5555555555555556,
             "#d8576b"
            ],
            [
             0.6666666666666666,
             "#ed7953"
            ],
            [
             0.7777777777777778,
             "#fb9f3a"
            ],
            [
             0.8888888888888888,
             "#fdca26"
            ],
            [
             1,
             "#f0f921"
            ]
           ],
           "sequentialminus": [
            [
             0,
             "#0d0887"
            ],
            [
             0.1111111111111111,
             "#46039f"
            ],
            [
             0.2222222222222222,
             "#7201a8"
            ],
            [
             0.3333333333333333,
             "#9c179e"
            ],
            [
             0.4444444444444444,
             "#bd3786"
            ],
            [
             0.5555555555555556,
             "#d8576b"
            ],
            [
             0.6666666666666666,
             "#ed7953"
            ],
            [
             0.7777777777777778,
             "#fb9f3a"
            ],
            [
             0.8888888888888888,
             "#fdca26"
            ],
            [
             1,
             "#f0f921"
            ]
           ]
          },
          "colorway": [
           "#636efa",
           "#EF553B",
           "#00cc96",
           "#ab63fa",
           "#FFA15A",
           "#19d3f3",
           "#FF6692",
           "#B6E880",
           "#FF97FF",
           "#FECB52"
          ],
          "font": {
           "color": "#2a3f5f"
          },
          "geo": {
           "bgcolor": "white",
           "lakecolor": "white",
           "landcolor": "#E5ECF6",
           "showlakes": true,
           "showland": true,
           "subunitcolor": "white"
          },
          "hoverlabel": {
           "align": "left"
          },
          "hovermode": "closest",
          "mapbox": {
           "style": "light"
          },
          "paper_bgcolor": "white",
          "plot_bgcolor": "#E5ECF6",
          "polar": {
           "angularaxis": {
            "gridcolor": "white",
            "linecolor": "white",
            "ticks": ""
           },
           "bgcolor": "#E5ECF6",
           "radialaxis": {
            "gridcolor": "white",
            "linecolor": "white",
            "ticks": ""
           }
          },
          "scene": {
           "xaxis": {
            "backgroundcolor": "#E5ECF6",
            "gridcolor": "white",
            "gridwidth": 2,
            "linecolor": "white",
            "showbackground": true,
            "ticks": "",
            "zerolinecolor": "white"
           },
           "yaxis": {
            "backgroundcolor": "#E5ECF6",
            "gridcolor": "white",
            "gridwidth": 2,
            "linecolor": "white",
            "showbackground": true,
            "ticks": "",
            "zerolinecolor": "white"
           },
           "zaxis": {
            "backgroundcolor": "#E5ECF6",
            "gridcolor": "white",
            "gridwidth": 2,
            "linecolor": "white",
            "showbackground": true,
            "ticks": "",
            "zerolinecolor": "white"
           }
          },
          "shapedefaults": {
           "line": {
            "color": "#2a3f5f"
           }
          },
          "ternary": {
           "aaxis": {
            "gridcolor": "white",
            "linecolor": "white",
            "ticks": ""
           },
           "baxis": {
            "gridcolor": "white",
            "linecolor": "white",
            "ticks": ""
           },
           "bgcolor": "#E5ECF6",
           "caxis": {
            "gridcolor": "white",
            "linecolor": "white",
            "ticks": ""
           }
          },
          "title": {
           "x": 0.05
          },
          "xaxis": {
           "automargin": true,
           "gridcolor": "white",
           "linecolor": "white",
           "ticks": "",
           "title": {
            "standoff": 15
           },
           "zerolinecolor": "white",
           "zerolinewidth": 2
          },
          "yaxis": {
           "automargin": true,
           "gridcolor": "white",
           "linecolor": "white",
           "ticks": "",
           "title": {
            "standoff": 15
           },
           "zerolinecolor": "white",
           "zerolinewidth": 2
          }
         }
        },
        "xaxis": {
         "anchor": "y",
         "domain": [
          0,
          0.2888888888888889
         ]
        },
        "xaxis2": {
         "anchor": "y2",
         "domain": [
          0.35555555555555557,
          0.6444444444444445
         ]
        },
        "xaxis3": {
         "anchor": "y3",
         "domain": [
          0.7111111111111111,
          1
         ]
        },
        "yaxis": {
         "anchor": "x",
         "domain": [
          0,
          1
         ]
        },
        "yaxis2": {
         "anchor": "x2",
         "domain": [
          0,
          1
         ]
        },
        "yaxis3": {
         "anchor": "x3",
         "domain": [
          0,
          1
         ]
        }
       }
      }
     },
     "metadata": {},
     "output_type": "display_data"
    },
    {
     "name": "stdout",
     "output_type": "stream",
     "text": [
      "rover\n"
     ]
    },
    {
     "data": {
      "application/vnd.plotly.v1+json": {
       "config": {
        "plotlyServerURL": "https://plot.ly"
       },
       "data": [
        {
         "hoverinfo": [
          "all"
         ],
         "mode": "markers",
         "name": "loss",
         "type": "scatter",
         "x": [
          "2_8",
          "2_8",
          "2_8",
          "2_16",
          "2_16",
          "2_16"
         ],
         "xaxis": "x",
         "y": [
          0.019885807707895133,
          0.01960129927529278,
          0.01978237322842073,
          0.023700273823794436,
          0.024629032902492406,
          0.019363026479157018
         ],
         "yaxis": "y"
        },
        {
         "hoverinfo": [
          "all"
         ],
         "mode": "markers",
         "name": "f1",
         "type": "scatter",
         "x": [
          "2_8",
          "2_8",
          "2_8",
          "2_16",
          "2_16",
          "2_16"
         ],
         "xaxis": "x2",
         "y": [
          0.9999190829399865,
          1,
          0.9999460567483008,
          0.9999190873047982,
          0.9998381877022654,
          0.9998381527837721
         ],
         "yaxis": "y2"
        },
        {
         "hoverinfo": [
          "all"
         ],
         "mode": "markers",
         "name": "time",
         "type": "scatter",
         "x": [
          "2_8",
          "2_8",
          "2_8",
          "2_16",
          "2_16",
          "2_16"
         ],
         "xaxis": "x3",
         "y": [
          518.5318398475647,
          302.8838894367218,
          307.8385124206543,
          620.2730479240417,
          637.615725517273,
          607.708310842514
         ],
         "yaxis": "y3"
        }
       ],
       "layout": {
        "template": {
         "data": {
          "bar": [
           {
            "error_x": {
             "color": "#2a3f5f"
            },
            "error_y": {
             "color": "#2a3f5f"
            },
            "marker": {
             "line": {
              "color": "#E5ECF6",
              "width": 0.5
             },
             "pattern": {
              "fillmode": "overlay",
              "size": 10,
              "solidity": 0.2
             }
            },
            "type": "bar"
           }
          ],
          "barpolar": [
           {
            "marker": {
             "line": {
              "color": "#E5ECF6",
              "width": 0.5
             },
             "pattern": {
              "fillmode": "overlay",
              "size": 10,
              "solidity": 0.2
             }
            },
            "type": "barpolar"
           }
          ],
          "carpet": [
           {
            "aaxis": {
             "endlinecolor": "#2a3f5f",
             "gridcolor": "white",
             "linecolor": "white",
             "minorgridcolor": "white",
             "startlinecolor": "#2a3f5f"
            },
            "baxis": {
             "endlinecolor": "#2a3f5f",
             "gridcolor": "white",
             "linecolor": "white",
             "minorgridcolor": "white",
             "startlinecolor": "#2a3f5f"
            },
            "type": "carpet"
           }
          ],
          "choropleth": [
           {
            "colorbar": {
             "outlinewidth": 0,
             "ticks": ""
            },
            "type": "choropleth"
           }
          ],
          "contour": [
           {
            "colorbar": {
             "outlinewidth": 0,
             "ticks": ""
            },
            "colorscale": [
             [
              0,
              "#0d0887"
             ],
             [
              0.1111111111111111,
              "#46039f"
             ],
             [
              0.2222222222222222,
              "#7201a8"
             ],
             [
              0.3333333333333333,
              "#9c179e"
             ],
             [
              0.4444444444444444,
              "#bd3786"
             ],
             [
              0.5555555555555556,
              "#d8576b"
             ],
             [
              0.6666666666666666,
              "#ed7953"
             ],
             [
              0.7777777777777778,
              "#fb9f3a"
             ],
             [
              0.8888888888888888,
              "#fdca26"
             ],
             [
              1,
              "#f0f921"
             ]
            ],
            "type": "contour"
           }
          ],
          "contourcarpet": [
           {
            "colorbar": {
             "outlinewidth": 0,
             "ticks": ""
            },
            "type": "contourcarpet"
           }
          ],
          "heatmap": [
           {
            "colorbar": {
             "outlinewidth": 0,
             "ticks": ""
            },
            "colorscale": [
             [
              0,
              "#0d0887"
             ],
             [
              0.1111111111111111,
              "#46039f"
             ],
             [
              0.2222222222222222,
              "#7201a8"
             ],
             [
              0.3333333333333333,
              "#9c179e"
             ],
             [
              0.4444444444444444,
              "#bd3786"
             ],
             [
              0.5555555555555556,
              "#d8576b"
             ],
             [
              0.6666666666666666,
              "#ed7953"
             ],
             [
              0.7777777777777778,
              "#fb9f3a"
             ],
             [
              0.8888888888888888,
              "#fdca26"
             ],
             [
              1,
              "#f0f921"
             ]
            ],
            "type": "heatmap"
           }
          ],
          "heatmapgl": [
           {
            "colorbar": {
             "outlinewidth": 0,
             "ticks": ""
            },
            "colorscale": [
             [
              0,
              "#0d0887"
             ],
             [
              0.1111111111111111,
              "#46039f"
             ],
             [
              0.2222222222222222,
              "#7201a8"
             ],
             [
              0.3333333333333333,
              "#9c179e"
             ],
             [
              0.4444444444444444,
              "#bd3786"
             ],
             [
              0.5555555555555556,
              "#d8576b"
             ],
             [
              0.6666666666666666,
              "#ed7953"
             ],
             [
              0.7777777777777778,
              "#fb9f3a"
             ],
             [
              0.8888888888888888,
              "#fdca26"
             ],
             [
              1,
              "#f0f921"
             ]
            ],
            "type": "heatmapgl"
           }
          ],
          "histogram": [
           {
            "marker": {
             "pattern": {
              "fillmode": "overlay",
              "size": 10,
              "solidity": 0.2
             }
            },
            "type": "histogram"
           }
          ],
          "histogram2d": [
           {
            "colorbar": {
             "outlinewidth": 0,
             "ticks": ""
            },
            "colorscale": [
             [
              0,
              "#0d0887"
             ],
             [
              0.1111111111111111,
              "#46039f"
             ],
             [
              0.2222222222222222,
              "#7201a8"
             ],
             [
              0.3333333333333333,
              "#9c179e"
             ],
             [
              0.4444444444444444,
              "#bd3786"
             ],
             [
              0.5555555555555556,
              "#d8576b"
             ],
             [
              0.6666666666666666,
              "#ed7953"
             ],
             [
              0.7777777777777778,
              "#fb9f3a"
             ],
             [
              0.8888888888888888,
              "#fdca26"
             ],
             [
              1,
              "#f0f921"
             ]
            ],
            "type": "histogram2d"
           }
          ],
          "histogram2dcontour": [
           {
            "colorbar": {
             "outlinewidth": 0,
             "ticks": ""
            },
            "colorscale": [
             [
              0,
              "#0d0887"
             ],
             [
              0.1111111111111111,
              "#46039f"
             ],
             [
              0.2222222222222222,
              "#7201a8"
             ],
             [
              0.3333333333333333,
              "#9c179e"
             ],
             [
              0.4444444444444444,
              "#bd3786"
             ],
             [
              0.5555555555555556,
              "#d8576b"
             ],
             [
              0.6666666666666666,
              "#ed7953"
             ],
             [
              0.7777777777777778,
              "#fb9f3a"
             ],
             [
              0.8888888888888888,
              "#fdca26"
             ],
             [
              1,
              "#f0f921"
             ]
            ],
            "type": "histogram2dcontour"
           }
          ],
          "mesh3d": [
           {
            "colorbar": {
             "outlinewidth": 0,
             "ticks": ""
            },
            "type": "mesh3d"
           }
          ],
          "parcoords": [
           {
            "line": {
             "colorbar": {
              "outlinewidth": 0,
              "ticks": ""
             }
            },
            "type": "parcoords"
           }
          ],
          "pie": [
           {
            "automargin": true,
            "type": "pie"
           }
          ],
          "scatter": [
           {
            "fillpattern": {
             "fillmode": "overlay",
             "size": 10,
             "solidity": 0.2
            },
            "type": "scatter"
           }
          ],
          "scatter3d": [
           {
            "line": {
             "colorbar": {
              "outlinewidth": 0,
              "ticks": ""
             }
            },
            "marker": {
             "colorbar": {
              "outlinewidth": 0,
              "ticks": ""
             }
            },
            "type": "scatter3d"
           }
          ],
          "scattercarpet": [
           {
            "marker": {
             "colorbar": {
              "outlinewidth": 0,
              "ticks": ""
             }
            },
            "type": "scattercarpet"
           }
          ],
          "scattergeo": [
           {
            "marker": {
             "colorbar": {
              "outlinewidth": 0,
              "ticks": ""
             }
            },
            "type": "scattergeo"
           }
          ],
          "scattergl": [
           {
            "marker": {
             "colorbar": {
              "outlinewidth": 0,
              "ticks": ""
             }
            },
            "type": "scattergl"
           }
          ],
          "scattermapbox": [
           {
            "marker": {
             "colorbar": {
              "outlinewidth": 0,
              "ticks": ""
             }
            },
            "type": "scattermapbox"
           }
          ],
          "scatterpolar": [
           {
            "marker": {
             "colorbar": {
              "outlinewidth": 0,
              "ticks": ""
             }
            },
            "type": "scatterpolar"
           }
          ],
          "scatterpolargl": [
           {
            "marker": {
             "colorbar": {
              "outlinewidth": 0,
              "ticks": ""
             }
            },
            "type": "scatterpolargl"
           }
          ],
          "scatterternary": [
           {
            "marker": {
             "colorbar": {
              "outlinewidth": 0,
              "ticks": ""
             }
            },
            "type": "scatterternary"
           }
          ],
          "surface": [
           {
            "colorbar": {
             "outlinewidth": 0,
             "ticks": ""
            },
            "colorscale": [
             [
              0,
              "#0d0887"
             ],
             [
              0.1111111111111111,
              "#46039f"
             ],
             [
              0.2222222222222222,
              "#7201a8"
             ],
             [
              0.3333333333333333,
              "#9c179e"
             ],
             [
              0.4444444444444444,
              "#bd3786"
             ],
             [
              0.5555555555555556,
              "#d8576b"
             ],
             [
              0.6666666666666666,
              "#ed7953"
             ],
             [
              0.7777777777777778,
              "#fb9f3a"
             ],
             [
              0.8888888888888888,
              "#fdca26"
             ],
             [
              1,
              "#f0f921"
             ]
            ],
            "type": "surface"
           }
          ],
          "table": [
           {
            "cells": {
             "fill": {
              "color": "#EBF0F8"
             },
             "line": {
              "color": "white"
             }
            },
            "header": {
             "fill": {
              "color": "#C8D4E3"
             },
             "line": {
              "color": "white"
             }
            },
            "type": "table"
           }
          ]
         },
         "layout": {
          "annotationdefaults": {
           "arrowcolor": "#2a3f5f",
           "arrowhead": 0,
           "arrowwidth": 1
          },
          "autotypenumbers": "strict",
          "coloraxis": {
           "colorbar": {
            "outlinewidth": 0,
            "ticks": ""
           }
          },
          "colorscale": {
           "diverging": [
            [
             0,
             "#8e0152"
            ],
            [
             0.1,
             "#c51b7d"
            ],
            [
             0.2,
             "#de77ae"
            ],
            [
             0.3,
             "#f1b6da"
            ],
            [
             0.4,
             "#fde0ef"
            ],
            [
             0.5,
             "#f7f7f7"
            ],
            [
             0.6,
             "#e6f5d0"
            ],
            [
             0.7,
             "#b8e186"
            ],
            [
             0.8,
             "#7fbc41"
            ],
            [
             0.9,
             "#4d9221"
            ],
            [
             1,
             "#276419"
            ]
           ],
           "sequential": [
            [
             0,
             "#0d0887"
            ],
            [
             0.1111111111111111,
             "#46039f"
            ],
            [
             0.2222222222222222,
             "#7201a8"
            ],
            [
             0.3333333333333333,
             "#9c179e"
            ],
            [
             0.4444444444444444,
             "#bd3786"
            ],
            [
             0.5555555555555556,
             "#d8576b"
            ],
            [
             0.6666666666666666,
             "#ed7953"
            ],
            [
             0.7777777777777778,
             "#fb9f3a"
            ],
            [
             0.8888888888888888,
             "#fdca26"
            ],
            [
             1,
             "#f0f921"
            ]
           ],
           "sequentialminus": [
            [
             0,
             "#0d0887"
            ],
            [
             0.1111111111111111,
             "#46039f"
            ],
            [
             0.2222222222222222,
             "#7201a8"
            ],
            [
             0.3333333333333333,
             "#9c179e"
            ],
            [
             0.4444444444444444,
             "#bd3786"
            ],
            [
             0.5555555555555556,
             "#d8576b"
            ],
            [
             0.6666666666666666,
             "#ed7953"
            ],
            [
             0.7777777777777778,
             "#fb9f3a"
            ],
            [
             0.8888888888888888,
             "#fdca26"
            ],
            [
             1,
             "#f0f921"
            ]
           ]
          },
          "colorway": [
           "#636efa",
           "#EF553B",
           "#00cc96",
           "#ab63fa",
           "#FFA15A",
           "#19d3f3",
           "#FF6692",
           "#B6E880",
           "#FF97FF",
           "#FECB52"
          ],
          "font": {
           "color": "#2a3f5f"
          },
          "geo": {
           "bgcolor": "white",
           "lakecolor": "white",
           "landcolor": "#E5ECF6",
           "showlakes": true,
           "showland": true,
           "subunitcolor": "white"
          },
          "hoverlabel": {
           "align": "left"
          },
          "hovermode": "closest",
          "mapbox": {
           "style": "light"
          },
          "paper_bgcolor": "white",
          "plot_bgcolor": "#E5ECF6",
          "polar": {
           "angularaxis": {
            "gridcolor": "white",
            "linecolor": "white",
            "ticks": ""
           },
           "bgcolor": "#E5ECF6",
           "radialaxis": {
            "gridcolor": "white",
            "linecolor": "white",
            "ticks": ""
           }
          },
          "scene": {
           "xaxis": {
            "backgroundcolor": "#E5ECF6",
            "gridcolor": "white",
            "gridwidth": 2,
            "linecolor": "white",
            "showbackground": true,
            "ticks": "",
            "zerolinecolor": "white"
           },
           "yaxis": {
            "backgroundcolor": "#E5ECF6",
            "gridcolor": "white",
            "gridwidth": 2,
            "linecolor": "white",
            "showbackground": true,
            "ticks": "",
            "zerolinecolor": "white"
           },
           "zaxis": {
            "backgroundcolor": "#E5ECF6",
            "gridcolor": "white",
            "gridwidth": 2,
            "linecolor": "white",
            "showbackground": true,
            "ticks": "",
            "zerolinecolor": "white"
           }
          },
          "shapedefaults": {
           "line": {
            "color": "#2a3f5f"
           }
          },
          "ternary": {
           "aaxis": {
            "gridcolor": "white",
            "linecolor": "white",
            "ticks": ""
           },
           "baxis": {
            "gridcolor": "white",
            "linecolor": "white",
            "ticks": ""
           },
           "bgcolor": "#E5ECF6",
           "caxis": {
            "gridcolor": "white",
            "linecolor": "white",
            "ticks": ""
           }
          },
          "title": {
           "x": 0.05
          },
          "xaxis": {
           "automargin": true,
           "gridcolor": "white",
           "linecolor": "white",
           "ticks": "",
           "title": {
            "standoff": 15
           },
           "zerolinecolor": "white",
           "zerolinewidth": 2
          },
          "yaxis": {
           "automargin": true,
           "gridcolor": "white",
           "linecolor": "white",
           "ticks": "",
           "title": {
            "standoff": 15
           },
           "zerolinecolor": "white",
           "zerolinewidth": 2
          }
         }
        },
        "xaxis": {
         "anchor": "y",
         "domain": [
          0,
          0.2888888888888889
         ]
        },
        "xaxis2": {
         "anchor": "y2",
         "domain": [
          0.35555555555555557,
          0.6444444444444445
         ]
        },
        "xaxis3": {
         "anchor": "y3",
         "domain": [
          0.7111111111111111,
          1
         ]
        },
        "yaxis": {
         "anchor": "x",
         "domain": [
          0,
          1
         ]
        },
        "yaxis2": {
         "anchor": "x2",
         "domain": [
          0,
          1
         ]
        },
        "yaxis3": {
         "anchor": "x3",
         "domain": [
          0,
          1
         ]
        }
       }
      }
     },
     "metadata": {},
     "output_type": "display_data"
    }
   ],
   "source": [
    "visualise_train()"
   ]
  },
  {
   "cell_type": "markdown",
   "metadata": {},
   "source": [
    "# Plan length plots"
   ]
  },
  {
   "cell_type": "code",
   "execution_count": 3,
   "metadata": {},
   "outputs": [
    {
     "name": "stdout",
     "output_type": "stream",
     "text": [
      "blocksworld\n"
     ]
    },
    {
     "data": {
      "application/vnd.plotly.v1+json": {
       "config": {
        "plotlyServerURL": "https://plot.ly"
       },
       "data": [
        {
         "error_y": {
          "array": [
           0,
           0,
           0,
           0,
           0,
           1.0954451150103321,
           0,
           0,
           0,
           0,
           0,
           0.8944271909999153,
           1.0954451150103328,
           2.6076809620810604,
           0.8944271909999153,
           0.8944271909999153,
           0,
           1.0954451150103328,
           0.8944271909999157,
           0,
           0.8944271909999163,
           0,
           0,
           1.6733200530681502,
           1.7888543819998322,
           1.7888543819998315,
           1.0954451150103304,
           0,
           0.8944271909999163,
           2.2803508501982757
          ]
         },
         "hovertemplate": "solver=baseline<br>type=bounds<br>difficulty=0<br>problem=%{x}<br>plan_length_mean=%{y}<extra></extra>",
         "legendgroup": "baseline, bounds",
         "line": {
          "color": "#636efa",
          "dash": "solid"
         },
         "marker": {
          "symbol": "circle"
         },
         "mode": "lines",
         "name": "baseline, bounds",
         "orientation": "v",
         "showlegend": true,
         "type": "scatter",
         "x": [
          "0_01",
          "0_02",
          "0_03",
          "0_04",
          "0_05",
          "0_06",
          "0_07",
          "0_08",
          "0_09",
          "0_10",
          "0_11",
          "0_12",
          "0_13",
          "0_14",
          "0_15",
          "0_16",
          "0_17",
          "0_18",
          "0_19",
          "0_20",
          "0_21",
          "0_22",
          "0_23",
          "0_24",
          "0_25",
          "0_26",
          "0_27",
          "0_28",
          "0_29",
          "0_30"
         ],
         "xaxis": "x",
         "y": [
          10,
          8,
          20,
          24,
          24,
          29.2,
          32,
          32,
          36,
          38,
          48,
          44.4,
          47.2,
          47.6,
          53.6,
          59.6,
          60,
          54.8,
          60.4,
          56,
          62.4,
          78,
          66,
          82.4,
          88.8,
          81.2,
          72.8,
          90,
          82.4,
          94.8
         ],
         "yaxis": "y"
        },
        {
         "error_y": {
          "array": [
           0,
           0,
           1.673320053068148,
           2.607680962081059,
           0,
           1.4142135623730925,
           1.6733200530681502,
           1.0954451150103286,
           4.604345773288534,
           5.099019513592788,
           1.6733200530681513,
           3.2863353450309942,
           4.381780460041328,
           3.3466401061362996,
           3.577708763999663,
           6.723094525588646,
           3.2863353450309982,
           3.346640106136305,
           3.286335345030995,
           2.966479394838267,
           2.6076809620810564,
           4.147288270665539,
           1.7888543819998286,
           3.3466401061363005,
           5.761944116355176,
           4.335896677735753,
           2.2803508501982765,
           5.585696017507578,
           4.147288270665546,
           2.8284271247462027
          ]
         },
         "hovertemplate": "solver=baseline<br>type=bounds<br>difficulty=1<br>problem=%{x}<br>plan_length_mean=%{y}<extra></extra>",
         "legendgroup": "baseline, bounds",
         "line": {
          "color": "#636efa",
          "dash": "solid"
         },
         "marker": {
          "symbol": "circle"
         },
         "mode": "lines",
         "name": "baseline, bounds",
         "orientation": "v",
         "showlegend": false,
         "type": "scatter",
         "x": [
          "1_01",
          "1_02",
          "1_03",
          "1_04",
          "1_05",
          "1_06",
          "1_07",
          "1_08",
          "1_09",
          "1_10",
          "1_11",
          "1_12",
          "1_13",
          "1_14",
          "1_15",
          "1_16",
          "1_17",
          "1_18",
          "1_19",
          "1_20",
          "1_21",
          "1_22",
          "1_23",
          "1_24",
          "1_25",
          "1_26",
          "1_27",
          "1_28",
          "1_29",
          "1_30"
         ],
         "xaxis": "x2",
         "y": [
          118,
          124,
          134.4,
          159.6,
          164,
          164,
          191.6,
          199.2,
          209.2,
          220,
          234.4,
          261.6,
          280.8,
          275.2,
          287.6,
          296.8,
          305.6,
          341.2,
          343.6,
          356.4,
          367.6,
          377.2,
          415.2,
          393.2,
          419.2,
          441.6,
          444.8,
          432.8,
          460.8,
          518
         ],
         "yaxis": "y2"
        },
        {
         "error_y": {
          "array": [
           null,
           null,
           null,
           null,
           null,
           null,
           null,
           null,
           null,
           null,
           null,
           null,
           null,
           null,
           null,
           null,
           null,
           null,
           null,
           null,
           null,
           null,
           null,
           null,
           null,
           null,
           null,
           null,
           null,
           null
          ]
         },
         "hovertemplate": "solver=optimal<br>type=bounds<br>difficulty=0<br>problem=%{x}<br>plan_length_mean=%{y}<extra></extra>",
         "legendgroup": "optimal, bounds",
         "line": {
          "color": "#EF553B",
          "dash": "solid"
         },
         "marker": {
          "symbol": "circle"
         },
         "mode": "lines",
         "name": "optimal, bounds",
         "orientation": "v",
         "showlegend": true,
         "type": "scatter",
         "x": [
          "0_01",
          "0_02",
          "0_03",
          "0_04",
          "0_05",
          "0_06",
          "0_07",
          "0_08",
          "0_09",
          "0_10",
          "0_11",
          "0_12",
          "0_13",
          "0_14",
          "0_15",
          "0_16",
          "0_17",
          "0_18",
          "0_19",
          "0_20",
          "0_21",
          "0_22",
          "0_23",
          "0_24",
          "0_25",
          "0_26",
          "0_27",
          "0_28",
          "0_29",
          "0_30"
         ],
         "xaxis": "x",
         "y": [
          10,
          8,
          20,
          24,
          24,
          26,
          32,
          32,
          36,
          38,
          48,
          40,
          42,
          44,
          46,
          54,
          60,
          50,
          54,
          56,
          56,
          72,
          58,
          72,
          82,
          74,
          66,
          82,
          76,
          88
         ],
         "yaxis": "y"
        },
        {
         "error_y": {
          "array": [
           null,
           null,
           null,
           null,
           null,
           null,
           null,
           null,
           null,
           null,
           null,
           null,
           null,
           null,
           null,
           null,
           null,
           null,
           null,
           null,
           null,
           null,
           null,
           null,
           null,
           null,
           null,
           null,
           null,
           null
          ]
         },
         "hovertemplate": "solver=optimal<br>type=bounds<br>difficulty=1<br>problem=%{x}<br>plan_length_mean=%{y}<extra></extra>",
         "legendgroup": "optimal, bounds",
         "line": {
          "color": "#EF553B",
          "dash": "solid"
         },
         "marker": {
          "symbol": "circle"
         },
         "mode": "lines",
         "name": "optimal, bounds",
         "orientation": "v",
         "showlegend": false,
         "type": "scatter",
         "x": [
          "1_01",
          "1_02",
          "1_03",
          "1_04",
          "1_05",
          "1_06",
          "1_07",
          "1_08",
          "1_09",
          "1_10",
          "1_11",
          "1_12",
          "1_13",
          "1_14",
          "1_15",
          "1_16",
          "1_17",
          "1_18",
          "1_19",
          "1_20",
          "1_21",
          "1_22",
          "1_23",
          "1_24",
          "1_25",
          "1_26",
          "1_27",
          "1_28",
          "1_29",
          "1_30"
         ],
         "xaxis": "x2",
         "y": [
          106,
          104,
          112,
          144,
          142,
          140,
          158,
          164,
          180,
          186,
          202,
          234,
          240,
          228,
          232,
          246,
          272,
          284,
          286,
          308,
          310,
          314,
          354,
          338,
          348,
          388,
          380,
          368,
          386,
          464
         ],
         "yaxis": "y2"
        },
        {
         "error_y": {
          "array": [
           null,
           null,
           null,
           null,
           null,
           null,
           null,
           null,
           null,
           null,
           null,
           null,
           null,
           null,
           null,
           null,
           null,
           null,
           null,
           null,
           null,
           null,
           null,
           null,
           null,
           null,
           null,
           null,
           null,
           null
          ]
         },
         "hovertemplate": "solver=lama<br>type=bounds<br>difficulty=0<br>problem=%{x}<br>plan_length_mean=%{y}<extra></extra>",
         "legendgroup": "lama, bounds",
         "line": {
          "color": "#00cc96",
          "dash": "solid"
         },
         "marker": {
          "symbol": "circle"
         },
         "mode": "lines",
         "name": "lama, bounds",
         "orientation": "v",
         "showlegend": true,
         "type": "scatter",
         "x": [
          "0_01",
          "0_02",
          "0_03",
          "0_04",
          "0_05",
          "0_06",
          "0_07",
          "0_08",
          "0_09",
          "0_10",
          "0_11",
          "0_12",
          "0_13",
          "0_14",
          "0_15",
          "0_16",
          "0_17",
          "0_18",
          "0_19",
          "0_20",
          "0_21",
          "0_22",
          "0_23",
          "0_24",
          "0_25",
          "0_26",
          "0_27",
          "0_28",
          "0_29",
          "0_30"
         ],
         "xaxis": "x",
         "y": [
          10,
          8,
          34,
          38,
          40,
          80,
          62,
          58,
          56,
          44,
          102,
          72,
          108,
          66,
          106,
          122,
          130,
          84,
          86,
          78,
          76,
          146,
          94,
          202,
          274,
          230,
          130,
          152,
          142,
          202
         ],
         "yaxis": "y"
        },
        {
         "error_y": {
          "array": [
           null,
           null,
           null,
           null,
           null,
           null,
           null,
           null,
           null,
           null,
           null,
           null,
           null,
           null,
           null,
           null,
           null,
           null,
           null,
           null,
           null,
           null,
           null,
           null,
           null,
           null,
           null,
           null,
           null,
           null
          ]
         },
         "hovertemplate": "solver=lama<br>type=bounds<br>difficulty=1<br>problem=%{x}<br>plan_length_mean=%{y}<extra></extra>",
         "legendgroup": "lama, bounds",
         "line": {
          "color": "#00cc96",
          "dash": "solid"
         },
         "marker": {
          "symbol": "circle"
         },
         "mode": "lines",
         "name": "lama, bounds",
         "orientation": "v",
         "showlegend": false,
         "type": "scatter",
         "x": [
          "1_01",
          "1_02",
          "1_03",
          "1_04",
          "1_05",
          "1_06",
          "1_07",
          "1_08",
          "1_09",
          "1_10",
          "1_11",
          "1_12",
          "1_13",
          "1_14",
          "1_15",
          "1_16",
          "1_17",
          "1_18",
          "1_19",
          "1_20",
          "1_21",
          "1_22",
          "1_23",
          "1_24",
          "1_25",
          "1_26",
          "1_27",
          "1_28",
          "1_29",
          "1_30"
         ],
         "xaxis": "x2",
         "y": [
          324,
          222,
          242,
          null,
          320,
          230,
          376,
          null,
          474,
          396,
          646,
          632,
          614,
          528,
          648,
          640,
          640,
          656,
          null,
          950,
          908,
          746,
          null,
          796,
          816,
          null,
          988,
          1070,
          1072,
          null
         ],
         "yaxis": "y2"
        },
        {
         "error_y": {
          "array": [
           0,
           0,
           0,
           0,
           0,
           1.154700538379251,
           0,
           0,
           0,
           0,
           0,
           1.154700538379251,
           1.1547005383792526,
           2,
           1.154700538379251,
           1.1547005383792526,
           0,
           3.0550504633038944,
           1.154700538379251,
           0,
           0,
           1.1547005383792495,
           1.1547005383792495,
           1.1547005383792495,
           2,
           3.055050463303895,
           3.4641016151377544,
           0,
           2,
           2.309401076758505
          ]
         },
         "hovertemplate": "solver=L2_D8_best<br>type=lrnn_best<br>difficulty=0<br>problem=%{x}<br>plan_length_mean=%{y}<extra></extra>",
         "legendgroup": "L2_D8_best, lrnn_best",
         "line": {
          "color": "#ab63fa",
          "dash": "dot"
         },
         "marker": {
          "symbol": "circle"
         },
         "mode": "lines",
         "name": "L2_D8_best, lrnn_best",
         "orientation": "v",
         "showlegend": true,
         "type": "scatter",
         "x": [
          "0_01",
          "0_02",
          "0_03",
          "0_04",
          "0_05",
          "0_06",
          "0_07",
          "0_08",
          "0_09",
          "0_10",
          "0_11",
          "0_12",
          "0_13",
          "0_14",
          "0_15",
          "0_16",
          "0_17",
          "0_18",
          "0_19",
          "0_20",
          "0_21",
          "0_22",
          "0_23",
          "0_24",
          "0_25",
          "0_26",
          "0_27",
          "0_28",
          "0_29",
          "0_30"
         ],
         "xaxis": "x",
         "y": [
          10,
          8,
          20,
          24,
          24,
          29.333333333333332,
          32,
          32,
          36,
          38,
          48,
          44.666666666666664,
          45.333333333333336,
          48,
          52.666666666666664,
          59.333333333333336,
          60,
          59.333333333333336,
          58.666666666666664,
          56,
          56,
          77.33333333333333,
          65.33333333333333,
          81.33333333333333,
          88,
          78.66666666666667,
          76,
          90,
          84,
          100.66666666666667
         ],
         "yaxis": "y"
        },
        {
         "error_y": {
          "array": [
           2,
           3.4641016151377544,
           8.082903768654765,
           4.61880215351701,
           7.57187779440036,
           2.309401076758499,
           8.326663997864534,
           1.1547005383792495,
           6.4291005073286405,
           10.263202878893772,
           6.4291005073286405,
           9.16515138991168,
           11.547005383792508,
           9.451631252505225,
           12.489995996796797,
           10.392304845413264,
           8.326663997864523,
           13.316656236958794,
           12.858201014657281,
           13.316656236958778,
           12.165525060596439,
           12.858201014657281,
           15.620499351813308,
           12,
           14.189197769195168,
           10.583005244258363,
           6.110100926607794,
           11.015141094572213,
           13.613718571108084,
           12.220201853215588
          ]
         },
         "hovertemplate": "solver=L2_D8_best<br>type=lrnn_best<br>difficulty=1<br>problem=%{x}<br>plan_length_mean=%{y}<extra></extra>",
         "legendgroup": "L2_D8_best, lrnn_best",
         "line": {
          "color": "#ab63fa",
          "dash": "dot"
         },
         "marker": {
          "symbol": "circle"
         },
         "mode": "lines",
         "name": "L2_D8_best, lrnn_best",
         "orientation": "v",
         "showlegend": false,
         "type": "scatter",
         "x": [
          "1_01",
          "1_02",
          "1_03",
          "1_04",
          "1_05",
          "1_06",
          "1_07",
          "1_08",
          "1_09",
          "1_10",
          "1_11",
          "1_12",
          "1_13",
          "1_14",
          "1_15",
          "1_16",
          "1_17",
          "1_18",
          "1_19",
          "1_20",
          "1_21",
          "1_22",
          "1_23",
          "1_24",
          "1_25",
          "1_26",
          "1_27",
          "1_28",
          "1_29",
          "1_30"
         ],
         "xaxis": "x2",
         "y": [
          116,
          124,
          129.33333333333334,
          161.33333333333334,
          164.66666666666666,
          162.66666666666666,
          187.33333333333334,
          196.66666666666666,
          205.33333333333334,
          217.33333333333334,
          233.33333333333334,
          264,
          279.3333333333333,
          274.6666666666667,
          286,
          300,
          317.3333333333333,
          338.6666666666667,
          342.6666666666667,
          363.3333333333333,
          362,
          374.6666666666667,
          418,
          398,
          415.3333333333333,
          448,
          446.6666666666667,
          440.6666666666667,
          465.3333333333333,
          519.3333333333334
         ],
         "yaxis": "y2"
        },
        {
         "error_y": {
          "array": [
           0,
           0,
           0,
           0,
           0,
           0,
           0,
           0,
           0,
           0,
           0,
           1.1547005383792526,
           2.3094010767585034,
           1.154700538379251,
           2.309401076758502,
           2,
           0,
           0,
           3.0550504633038944,
           0,
           1.1547005383792526,
           0,
           2.3094010767585034,
           1.1547005383792526,
           0,
           2,
           2,
           3.4641016151377544,
           3.0550504633038913,
           2
          ]
         },
         "hovertemplate": "solver=L2_D16_best<br>type=lrnn_best<br>difficulty=0<br>problem=%{x}<br>plan_length_mean=%{y}<extra></extra>",
         "legendgroup": "L2_D16_best, lrnn_best",
         "line": {
          "color": "#FFA15A",
          "dash": "dot"
         },
         "marker": {
          "symbol": "circle"
         },
         "mode": "lines",
         "name": "L2_D16_best, lrnn_best",
         "orientation": "v",
         "showlegend": true,
         "type": "scatter",
         "x": [
          "0_01",
          "0_02",
          "0_03",
          "0_04",
          "0_05",
          "0_06",
          "0_07",
          "0_08",
          "0_09",
          "0_10",
          "0_11",
          "0_12",
          "0_13",
          "0_14",
          "0_15",
          "0_16",
          "0_17",
          "0_18",
          "0_19",
          "0_20",
          "0_21",
          "0_22",
          "0_23",
          "0_24",
          "0_25",
          "0_26",
          "0_27",
          "0_28",
          "0_29",
          "0_30"
         ],
         "xaxis": "x",
         "y": [
          10,
          8,
          20,
          24,
          24,
          26,
          32,
          32,
          36,
          38,
          48,
          42.666666666666664,
          46.666666666666664,
          44.666666666666664,
          50.666666666666664,
          58,
          60,
          52,
          59.333333333333336,
          56,
          57.333333333333336,
          76,
          63.333333333333336,
          77.33333333333333,
          86,
          78,
          70,
          88,
          81.33333333333333,
          94
         ],
         "yaxis": "y"
        },
        {
         "error_y": {
          "array": [
           2.309401076758505,
           7.02376916856849,
           6.429100507328634,
           0,
           1.1547005383792495,
           1.1547005383792557,
           2.309401076758505,
           3.055050463303897,
           6,
           10.263202878893772,
           5.03322295684717,
           4.618802153516998,
           3.055050463303895,
           7.211102550927978,
           3.4641016151377544,
           5.291502622129181,
           3.0550504633038997,
           3.4641016151377544,
           2,
           7.211102550927978,
           7.023769168568485,
           5.033222956847159,
           5.033222956847173,
           9.018499505645782,
           1.1547005383792557,
           15.874507866387544,
           5.033222956847159,
           3.4641016151377544,
           6.928203230275509,
           9.451631252505202
          ]
         },
         "hovertemplate": "solver=L2_D16_best<br>type=lrnn_best<br>difficulty=1<br>problem=%{x}<br>plan_length_mean=%{y}<extra></extra>",
         "legendgroup": "L2_D16_best, lrnn_best",
         "line": {
          "color": "#FFA15A",
          "dash": "dot"
         },
         "marker": {
          "symbol": "circle"
         },
         "mode": "lines",
         "name": "L2_D16_best, lrnn_best",
         "orientation": "v",
         "showlegend": false,
         "type": "scatter",
         "x": [
          "1_01",
          "1_02",
          "1_03",
          "1_04",
          "1_05",
          "1_06",
          "1_07",
          "1_08",
          "1_09",
          "1_10",
          "1_11",
          "1_12",
          "1_13",
          "1_14",
          "1_15",
          "1_16",
          "1_17",
          "1_18",
          "1_19",
          "1_20",
          "1_21",
          "1_22",
          "1_23",
          "1_24",
          "1_25",
          "1_26",
          "1_27",
          "1_28",
          "1_29",
          "1_30"
         ],
         "xaxis": "x2",
         "y": [
          114.66666666666667,
          119.33333333333333,
          125.33333333333333,
          160,
          157.33333333333334,
          151.33333333333334,
          177.33333333333334,
          193.33333333333334,
          202,
          205.33333333333334,
          231.33333333333334,
          257.3333333333333,
          274.6666666666667,
          272,
          274,
          288,
          300.6666666666667,
          326,
          334,
          350,
          347.3333333333333,
          363.3333333333333,
          404.6666666666667,
          387.3333333333333,
          407.3333333333333,
          432,
          431.3333333333333,
          426,
          450,
          514.6666666666666
         ],
         "yaxis": "y2"
        },
        {
         "error_y": {
          "array": [
           0,
           0,
           0,
           0,
           0,
           2.309401076758503,
           0,
           0,
           0,
           0,
           0,
           2.3094010767585034,
           1.154700538379251,
           1.154700538379251,
           1.1547005383792526,
           2,
           0,
           1.1547005383792526,
           1.1547005383792526,
           0,
           2,
           2,
           0,
           2,
           1.1547005383792526,
           0,
           2,
           2,
           4,
           3.055050463303895
          ]
         },
         "hovertemplate": "solver=L2_D32_best<br>type=lrnn_best<br>difficulty=0<br>problem=%{x}<br>plan_length_mean=%{y}<extra></extra>",
         "legendgroup": "L2_D32_best, lrnn_best",
         "line": {
          "color": "#19d3f3",
          "dash": "dot"
         },
         "marker": {
          "symbol": "circle"
         },
         "mode": "lines",
         "name": "L2_D32_best, lrnn_best",
         "orientation": "v",
         "showlegend": true,
         "type": "scatter",
         "x": [
          "0_01",
          "0_02",
          "0_03",
          "0_04",
          "0_05",
          "0_06",
          "0_07",
          "0_08",
          "0_09",
          "0_10",
          "0_11",
          "0_12",
          "0_13",
          "0_14",
          "0_15",
          "0_16",
          "0_17",
          "0_18",
          "0_19",
          "0_20",
          "0_21",
          "0_22",
          "0_23",
          "0_24",
          "0_25",
          "0_26",
          "0_27",
          "0_28",
          "0_29",
          "0_30"
         ],
         "xaxis": "x",
         "y": [
          10,
          8,
          20,
          24,
          24,
          27.333333333333332,
          32,
          32,
          36,
          38,
          48,
          43.333333333333336,
          47.333333333333336,
          47.333333333333336,
          48.666666666666664,
          58,
          60,
          55.333333333333336,
          60.666666666666664,
          56,
          60,
          76,
          66,
          80,
          85.33333333333333,
          78,
          70,
          86,
          82,
          97.33333333333333
         ],
         "yaxis": "y"
        },
        {
         "error_y": {
          "array": [
           4,
           4,
           4.163331998932267,
           1.1547005383792495,
           4.163331998932267,
           2,
           2,
           5.291502622129181,
           3.0550504633038926,
           6,
           6.429100507328635,
           3.0550504633038904,
           10.26320287889377,
           1.1547005383792557,
           9.451631252505214,
           5.291502622129181,
           7.5718777944003595,
           8.08290376865476,
           3.0550504633038997,
           8.717797887081348,
           7.211102550927978,
           4,
           5.033222956847173,
           4.61880215351701,
           10.066445913694333,
           11.135528725660043,
           6.429100507328629,
           12.701705922171763,
           13.114877048604,
           6
          ]
         },
         "hovertemplate": "solver=L2_D32_best<br>type=lrnn_best<br>difficulty=1<br>problem=%{x}<br>plan_length_mean=%{y}<extra></extra>",
         "legendgroup": "L2_D32_best, lrnn_best",
         "line": {
          "color": "#19d3f3",
          "dash": "dot"
         },
         "marker": {
          "symbol": "circle"
         },
         "mode": "lines",
         "name": "L2_D32_best, lrnn_best",
         "orientation": "v",
         "showlegend": false,
         "type": "scatter",
         "x": [
          "1_01",
          "1_02",
          "1_03",
          "1_04",
          "1_05",
          "1_06",
          "1_07",
          "1_08",
          "1_09",
          "1_10",
          "1_11",
          "1_12",
          "1_13",
          "1_14",
          "1_15",
          "1_16",
          "1_17",
          "1_18",
          "1_19",
          "1_20",
          "1_21",
          "1_22",
          "1_23",
          "1_24",
          "1_25",
          "1_26",
          "1_27",
          "1_28",
          "1_29",
          "1_30"
         ],
         "xaxis": "x2",
         "y": [
          116,
          120,
          129.33333333333334,
          159.33333333333334,
          157.33333333333334,
          158,
          182,
          194,
          203.33333333333334,
          214,
          233.33333333333334,
          255.33333333333334,
          279.3333333333333,
          269.3333333333333,
          274.6666666666667,
          288,
          300.6666666666667,
          324.6666666666667,
          330.6666666666667,
          356,
          362,
          368,
          409.3333333333333,
          389.3333333333333,
          404.6666666666667,
          434,
          434.6666666666667,
          426.6666666666667,
          460,
          512
         ],
         "yaxis": "y2"
        },
        {
         "error_y": {
          "array": [
           0,
           0,
           0,
           0,
           0,
           0,
           0,
           0,
           0,
           0,
           0,
           2,
           2,
           1.154700538379251,
           2,
           1.1547005383792526,
           0,
           1.154700538379251,
           1.154700538379251,
           0,
           1.154700538379251,
           1.1547005383792495,
           2.309401076758502,
           2.309401076758505,
           1.1547005383792526,
           1.1547005383792526,
           1.1547005383792526,
           2.309401076758502,
           2,
           3.0550504633038935
          ]
         },
         "hovertemplate": "solver=L3_D8_best<br>type=lrnn_best<br>difficulty=0<br>problem=%{x}<br>plan_length_mean=%{y}<extra></extra>",
         "legendgroup": "L3_D8_best, lrnn_best",
         "line": {
          "color": "#FF6692",
          "dash": "dot"
         },
         "marker": {
          "symbol": "circle"
         },
         "mode": "lines",
         "name": "L3_D8_best, lrnn_best",
         "orientation": "v",
         "showlegend": true,
         "type": "scatter",
         "x": [
          "0_01",
          "0_02",
          "0_03",
          "0_04",
          "0_05",
          "0_06",
          "0_07",
          "0_08",
          "0_09",
          "0_10",
          "0_11",
          "0_12",
          "0_13",
          "0_14",
          "0_15",
          "0_16",
          "0_17",
          "0_18",
          "0_19",
          "0_20",
          "0_21",
          "0_22",
          "0_23",
          "0_24",
          "0_25",
          "0_26",
          "0_27",
          "0_28",
          "0_29",
          "0_30"
         ],
         "xaxis": "x",
         "y": [
          10,
          8,
          20,
          24,
          24,
          26,
          32,
          32,
          36,
          38,
          48,
          42,
          46,
          45.333333333333336,
          50,
          59.333333333333336,
          60,
          51.333333333333336,
          57.333333333333336,
          56,
          56.666666666666664,
          75.33333333333333,
          64.66666666666667,
          77.33333333333333,
          85.33333333333333,
          76.66666666666667,
          69.33333333333333,
          88.66666666666667,
          80,
          96.66666666666667
         ],
         "yaxis": "y"
        },
        {
         "error_y": {
          "array": [
           1.1547005383792526,
           2.309401076758502,
           5.033222956847167,
           4.163331998932267,
           3.055050463303897,
           2,
           5.291502622129181,
           3.4641016151377544,
           3.4641016151377544,
           9.237604307034008,
           3.4641016151377544,
           4.163331998932267,
           6.42910050732864,
           8.082903768654752,
           4.163331998932267,
           2,
           5.291502622129181,
           3.055050463303895,
           9.16515138991168,
           6.429100507328629,
           3.055050463303895,
           9.451631252505225,
           7.023769168568493,
           2,
           9.865765724632498,
           8.082903768654765,
           5.773502691896254,
           10.26320287889377,
           8.717797887081348,
           6.928203230275509
          ]
         },
         "hovertemplate": "solver=L3_D8_best<br>type=lrnn_best<br>difficulty=1<br>problem=%{x}<br>plan_length_mean=%{y}<extra></extra>",
         "legendgroup": "L3_D8_best, lrnn_best",
         "line": {
          "color": "#FF6692",
          "dash": "dot"
         },
         "marker": {
          "symbol": "circle"
         },
         "mode": "lines",
         "name": "L3_D8_best, lrnn_best",
         "orientation": "v",
         "showlegend": false,
         "type": "scatter",
         "x": [
          "1_01",
          "1_02",
          "1_03",
          "1_04",
          "1_05",
          "1_06",
          "1_07",
          "1_08",
          "1_09",
          "1_10",
          "1_11",
          "1_12",
          "1_13",
          "1_14",
          "1_15",
          "1_16",
          "1_17",
          "1_18",
          "1_19",
          "1_20",
          "1_21",
          "1_22",
          "1_23",
          "1_24",
          "1_25",
          "1_26",
          "1_27",
          "1_28",
          "1_29",
          "1_30"
         ],
         "xaxis": "x2",
         "y": [
          114.66666666666667,
          116.66666666666667,
          119.33333333333333,
          157.33333333333334,
          154.66666666666666,
          152,
          178,
          192,
          200,
          205.33333333333334,
          226,
          255.33333333333334,
          267.3333333333333,
          260.6666666666667,
          254.66666666666666,
          278,
          292,
          316.6666666666667,
          324,
          346.6666666666667,
          351.3333333333333,
          351.3333333333333,
          397.3333333333333,
          378,
          394.6666666666667,
          427.3333333333333,
          427.3333333333333,
          413.3333333333333,
          440,
          506
         ],
         "yaxis": "y2"
        },
        {
         "error_y": {
          "array": [
           0,
           0,
           0,
           0,
           0,
           2.3094010767585034,
           0,
           0,
           0,
           0,
           0,
           2,
           1.1547005383792526,
           1.154700538379251,
           3.0550504633038944,
           1.154700538379251,
           0,
           4.618802153517006,
           2.309401076758502,
           0,
           1.154700538379251,
           1.1547005383792526,
           1.1547005383792526,
           0,
           1.1547005383792495,
           2.309401076758502,
           4.163331998932267,
           2.309401076758505,
           4,
           1.1547005383792495
          ]
         },
         "hovertemplate": "solver=L3_D16_best<br>type=lrnn_best<br>difficulty=0<br>problem=%{x}<br>plan_length_mean=%{y}<extra></extra>",
         "legendgroup": "L3_D16_best, lrnn_best",
         "line": {
          "color": "#B6E880",
          "dash": "dot"
         },
         "marker": {
          "symbol": "circle"
         },
         "mode": "lines",
         "name": "L3_D16_best, lrnn_best",
         "orientation": "v",
         "showlegend": true,
         "type": "scatter",
         "x": [
          "0_01",
          "0_02",
          "0_03",
          "0_04",
          "0_05",
          "0_06",
          "0_07",
          "0_08",
          "0_09",
          "0_10",
          "0_11",
          "0_12",
          "0_13",
          "0_14",
          "0_15",
          "0_16",
          "0_17",
          "0_18",
          "0_19",
          "0_20",
          "0_21",
          "0_22",
          "0_23",
          "0_24",
          "0_25",
          "0_26",
          "0_27",
          "0_28",
          "0_29",
          "0_30"
         ],
         "xaxis": "x",
         "y": [
          10,
          8,
          20,
          24,
          24,
          28.666666666666668,
          32,
          32,
          36,
          38,
          48,
          44,
          47.333333333333336,
          46.666666666666664,
          51.333333333333336,
          58.666666666666664,
          60,
          54.666666666666664,
          60.666666666666664,
          56,
          57.333333333333336,
          76.66666666666667,
          64.66666666666667,
          82,
          87.33333333333333,
          81.33333333333333,
          74.66666666666667,
          88.66666666666667,
          80,
          101.33333333333333
         ],
         "yaxis": "y"
        },
        {
         "error_y": {
          "array": [
           2,
           2,
           6,
           2,
           3.0550504633038926,
           5.033222956847164,
           6.110100926607783,
           6.429100507328635,
           9.451631252505212,
           2.309401076758499,
           3.4641016151377544,
           3.4641016151377544,
           6,
           5.033222956847173,
           8,
           11.372481406154662,
           12.05542754668341,
           16.041612554021295,
           6.110100926607794,
           7.571877794400373,
           6.429100507328629,
           5.291502622129181,
           6.928203230275509,
           10.263202878893773,
           8.717797887081348,
           9.865765724632487,
           11.135528725660043,
           24.846193538112306,
           15.53490693030805,
           8.082903768654745
          ]
         },
         "hovertemplate": "solver=L3_D16_best<br>type=lrnn_best<br>difficulty=1<br>problem=%{x}<br>plan_length_mean=%{y}<extra></extra>",
         "legendgroup": "L3_D16_best, lrnn_best",
         "line": {
          "color": "#B6E880",
          "dash": "dot"
         },
         "marker": {
          "symbol": "circle"
         },
         "mode": "lines",
         "name": "L3_D16_best, lrnn_best",
         "orientation": "v",
         "showlegend": false,
         "type": "scatter",
         "x": [
          "1_01",
          "1_02",
          "1_03",
          "1_04",
          "1_05",
          "1_06",
          "1_07",
          "1_08",
          "1_09",
          "1_10",
          "1_11",
          "1_12",
          "1_13",
          "1_14",
          "1_15",
          "1_16",
          "1_17",
          "1_18",
          "1_19",
          "1_20",
          "1_21",
          "1_22",
          "1_23",
          "1_24",
          "1_25",
          "1_26",
          "1_27",
          "1_28",
          "1_29",
          "1_30"
         ],
         "xaxis": "x2",
         "y": [
          114,
          124,
          132,
          162,
          165.33333333333334,
          162.66666666666666,
          188.66666666666666,
          194.66666666666666,
          204.66666666666666,
          220.66666666666666,
          232,
          266,
          280,
          276.6666666666667,
          288,
          298.6666666666667,
          309.3333333333333,
          334.6666666666667,
          340.6666666666667,
          354.6666666666667,
          367.3333333333333,
          376,
          418,
          396.6666666666667,
          416,
          441.3333333333333,
          444,
          438.6666666666667,
          475.3333333333333,
          520.6666666666666
         ],
         "yaxis": "y2"
        },
        {
         "error_y": {
          "array": [
           0,
           0,
           0,
           0,
           0,
           2.309401076758503,
           0,
           0,
           0,
           0,
           0,
           2,
           1.154700538379251,
           1.1547005383792526,
           3.055050463303893,
           0,
           0,
           3.0550504633038926,
           2.3094010767585034,
           0,
           1.154700538379251,
           1.1547005383792526,
           0,
           3.0550504633038935,
           1.1547005383792526,
           1.1547005383792526,
           1.1547005383792495,
           2.309401076758502,
           1.1547005383792526,
           4.163331998932265
          ]
         },
         "hovertemplate": "solver=L3_D32_best<br>type=lrnn_best<br>difficulty=0<br>problem=%{x}<br>plan_length_mean=%{y}<extra></extra>",
         "legendgroup": "L3_D32_best, lrnn_best",
         "line": {
          "color": "#FF97FF",
          "dash": "dot"
         },
         "marker": {
          "symbol": "circle"
         },
         "mode": "lines",
         "name": "L3_D32_best, lrnn_best",
         "orientation": "v",
         "showlegend": true,
         "type": "scatter",
         "x": [
          "0_01",
          "0_02",
          "0_03",
          "0_04",
          "0_05",
          "0_06",
          "0_07",
          "0_08",
          "0_09",
          "0_10",
          "0_11",
          "0_12",
          "0_13",
          "0_14",
          "0_15",
          "0_16",
          "0_17",
          "0_18",
          "0_19",
          "0_20",
          "0_21",
          "0_22",
          "0_23",
          "0_24",
          "0_25",
          "0_26",
          "0_27",
          "0_28",
          "0_29",
          "0_30"
         ],
         "xaxis": "x",
         "y": [
          10,
          8,
          20,
          24,
          24,
          27.333333333333332,
          32,
          32,
          36,
          38,
          48,
          44,
          45.333333333333336,
          46.666666666666664,
          50.666666666666664,
          60,
          60,
          54.666666666666664,
          59.333333333333336,
          56,
          59.333333333333336,
          75.33333333333333,
          66,
          79.33333333333333,
          86.66666666666667,
          80.66666666666667,
          73.33333333333333,
          87.33333333333333,
          82.66666666666667,
          97.33333333333333
         ],
         "yaxis": "y"
        },
        {
         "error_y": {
          "array": [
           0,
           8,
           4.163331998932265,
           3.055050463303897,
           4.618802153517004,
           5.033222956847164,
           8.32666399786453,
           6,
           7.571877794400367,
           12,
           9.237604307034013,
           3.055050463303895,
           10.263202878893773,
           8,
           8.326663997864523,
           8.08290376865476,
           14.047538337136979,
           5.291502622129181,
           15.143755588800735,
           7.023769168568499,
           9.45163125250521,
           12.220201853215565,
           5.291502622129181,
           20.29778313018444,
           25.324559884296765,
           16.165807537309515,
           9.45163125250521,
           23.18045153428494,
           24.576411454889016,
           14
          ]
         },
         "hovertemplate": "solver=L3_D32_best<br>type=lrnn_best<br>difficulty=1<br>problem=%{x}<br>plan_length_mean=%{y}<extra></extra>",
         "legendgroup": "L3_D32_best, lrnn_best",
         "line": {
          "color": "#FF97FF",
          "dash": "dot"
         },
         "marker": {
          "symbol": "circle"
         },
         "mode": "lines",
         "name": "L3_D32_best, lrnn_best",
         "orientation": "v",
         "showlegend": false,
         "type": "scatter",
         "x": [
          "1_01",
          "1_02",
          "1_03",
          "1_04",
          "1_05",
          "1_06",
          "1_07",
          "1_08",
          "1_09",
          "1_10",
          "1_11",
          "1_12",
          "1_13",
          "1_14",
          "1_15",
          "1_16",
          "1_17",
          "1_18",
          "1_19",
          "1_20",
          "1_21",
          "1_22",
          "1_23",
          "1_24",
          "1_25",
          "1_26",
          "1_27",
          "1_28",
          "1_29",
          "1_30"
         ],
         "xaxis": "x2",
         "y": [
          118,
          122,
          127.33333333333333,
          161.33333333333334,
          162.66666666666666,
          162.66666666666666,
          180.66666666666666,
          194,
          206.66666666666666,
          214,
          235.33333333333334,
          260.6666666666667,
          278.6666666666667,
          274,
          273.3333333333333,
          293.3333333333333,
          301.3333333333333,
          328,
          336.6666666666667,
          352.6666666666667,
          359.3333333333333,
          367.3333333333333,
          412,
          392,
          407.3333333333333,
          439.3333333333333,
          439.3333333333333,
          423.3333333333333,
          452,
          512
         ],
         "yaxis": "y2"
        },
        {
         "error_y": {
          "array": [
           0,
           0,
           0,
           0,
           0,
           0,
           0,
           0,
           0,
           0,
           0,
           1.154700538379251,
           1.154700538379251,
           1.1547005383792526,
           1.1547005383792526,
           1.154700538379251,
           0,
           1.1547005383792526,
           2,
           0,
           2,
           0,
           2.309401076758502,
           1.1547005383792495,
           1.1547005383792526,
           3.4641016151377544,
           2,
           2,
           2,
           4.618802153517007
          ]
         },
         "hovertemplate": "solver=L4_D8_best<br>type=lrnn_best<br>difficulty=0<br>problem=%{x}<br>plan_length_mean=%{y}<extra></extra>",
         "legendgroup": "L4_D8_best, lrnn_best",
         "line": {
          "color": "#FECB52",
          "dash": "dot"
         },
         "marker": {
          "symbol": "circle"
         },
         "mode": "lines",
         "name": "L4_D8_best, lrnn_best",
         "orientation": "v",
         "showlegend": true,
         "type": "scatter",
         "x": [
          "0_01",
          "0_02",
          "0_03",
          "0_04",
          "0_05",
          "0_06",
          "0_07",
          "0_08",
          "0_09",
          "0_10",
          "0_11",
          "0_12",
          "0_13",
          "0_14",
          "0_15",
          "0_16",
          "0_17",
          "0_18",
          "0_19",
          "0_20",
          "0_21",
          "0_22",
          "0_23",
          "0_24",
          "0_25",
          "0_26",
          "0_27",
          "0_28",
          "0_29",
          "0_30"
         ],
         "xaxis": "x",
         "y": [
          10,
          8,
          20,
          24,
          24,
          26,
          32,
          32,
          36,
          38,
          48,
          43.333333333333336,
          45.333333333333336,
          44.666666666666664,
          51.333333333333336,
          58.666666666666664,
          60,
          53.333333333333336,
          58,
          56,
          58,
          76,
          63.333333333333336,
          80.66666666666667,
          85.33333333333333,
          80,
          70,
          88,
          80,
          97.33333333333333
         ],
         "yaxis": "y"
        },
        {
         "error_y": {
          "array": [
           1.1547005383792526,
           5.291502622129181,
           5.77350269189626,
           2.309401076758505,
           5.033222956847164,
           6.4291005073286405,
           2.309401076758499,
           3.055050463303897,
           5.291502622129181,
           7.211102550927978,
           5.291502622129181,
           7.571877794400373,
           8.717797887081348,
           4.16333199893226,
           6.42910050732864,
           4,
           3.0550504633038997,
           9.8657657246325,
           5.033222956847173,
           7.211102550927978,
           7.023769168568499,
           7.571877794400373,
           9.451631252505225,
           5.773502691896266,
           13.856406460551018,
           5.033222956847173,
           11.015141094572213,
           10.583005244258363,
           10.26320287889377,
           7.023769168568499
          ]
         },
         "hovertemplate": "solver=L4_D8_best<br>type=lrnn_best<br>difficulty=1<br>problem=%{x}<br>plan_length_mean=%{y}<extra></extra>",
         "legendgroup": "L4_D8_best, lrnn_best",
         "line": {
          "color": "#FECB52",
          "dash": "dot"
         },
         "marker": {
          "symbol": "circle"
         },
         "mode": "lines",
         "name": "L4_D8_best, lrnn_best",
         "orientation": "v",
         "showlegend": false,
         "type": "scatter",
         "x": [
          "1_01",
          "1_02",
          "1_03",
          "1_04",
          "1_05",
          "1_06",
          "1_07",
          "1_08",
          "1_09",
          "1_10",
          "1_11",
          "1_12",
          "1_13",
          "1_14",
          "1_15",
          "1_16",
          "1_17",
          "1_18",
          "1_19",
          "1_20",
          "1_21",
          "1_22",
          "1_23",
          "1_24",
          "1_25",
          "1_26",
          "1_27",
          "1_28",
          "1_29",
          "1_30"
         ],
         "xaxis": "x2",
         "y": [
          114.66666666666667,
          120,
          128.66666666666666,
          158.66666666666666,
          159.33333333333334,
          158.66666666666666,
          183.33333333333334,
          194.66666666666666,
          198,
          214,
          228,
          261.3333333333333,
          272,
          264.6666666666667,
          272.6666666666667,
          284,
          295.3333333333333,
          325.3333333333333,
          333.3333333333333,
          352,
          359.3333333333333,
          361.3333333333333,
          405.3333333333333,
          381.3333333333333,
          398,
          433.3333333333333,
          437.3333333333333,
          430,
          457.3333333333333,
          507.3333333333333
         ],
         "yaxis": "y2"
        },
        {
         "error_y": {
          "array": [
           0,
           0,
           0,
           0,
           0,
           2.3094010767585034,
           0,
           0,
           0,
           0,
           0,
           2,
           1.154700538379251,
           2,
           2,
           1.154700538379251,
           0,
           1.154700538379251,
           2,
           0,
           1.154700538379251,
           2,
           1.1547005383792526,
           2.309401076758505,
           1.1547005383792526,
           3.055050463303895,
           4.163331998932264,
           2.309401076758505,
           5.0332229568471645,
           5.291502622129181
          ]
         },
         "hovertemplate": "solver=L4_D16_best<br>type=lrnn_best<br>difficulty=0<br>problem=%{x}<br>plan_length_mean=%{y}<extra></extra>",
         "legendgroup": "L4_D16_best, lrnn_best",
         "line": {
          "color": "#636efa",
          "dash": "dot"
         },
         "marker": {
          "symbol": "circle"
         },
         "mode": "lines",
         "name": "L4_D16_best, lrnn_best",
         "orientation": "v",
         "showlegend": true,
         "type": "scatter",
         "x": [
          "0_01",
          "0_02",
          "0_03",
          "0_04",
          "0_05",
          "0_06",
          "0_07",
          "0_08",
          "0_09",
          "0_10",
          "0_11",
          "0_12",
          "0_13",
          "0_14",
          "0_15",
          "0_16",
          "0_17",
          "0_18",
          "0_19",
          "0_20",
          "0_21",
          "0_22",
          "0_23",
          "0_24",
          "0_25",
          "0_26",
          "0_27",
          "0_28",
          "0_29",
          "0_30"
         ],
         "xaxis": "x",
         "y": [
          10,
          8,
          20,
          24,
          24,
          28.666666666666668,
          32,
          32,
          36,
          38,
          48,
          44,
          46.666666666666664,
          46,
          52,
          58.666666666666664,
          60,
          54.666666666666664,
          60,
          56,
          56.666666666666664,
          76,
          65.33333333333333,
          78.66666666666667,
          86.66666666666667,
          80.66666666666667,
          73.33333333333333,
          88.66666666666667,
          81.33333333333333,
          98
         ],
         "yaxis": "y"
        },
        {
         "error_y": {
          "array": [
           2.309401076758502,
           5.033222956847168,
           5.773502691896256,
           6.110100926607783,
           6.429100507328634,
           9.018499505645792,
           15.143755588800728,
           11.0151410945722,
           7.211102550927978,
           14.047538337136988,
           4,
           11.372481406154648,
           7.211102550927978,
           12.220201853215565,
           10.06644591369434,
           14.422205101855956,
           14.189197769195182,
           7.023769168568499,
           16.16580753730952,
           13.114877048604,
           14,
           17.320508075688775,
           7.5718777944003595,
           17.00980109623077,
           22.120880030716084,
           17.776388834631177,
           16.3707055437449,
           15.874507866387544,
           24.24871130596428,
           9.16515138991168
          ]
         },
         "hovertemplate": "solver=L4_D16_best<br>type=lrnn_best<br>difficulty=1<br>problem=%{x}<br>plan_length_mean=%{y}<extra></extra>",
         "legendgroup": "L4_D16_best, lrnn_best",
         "line": {
          "color": "#636efa",
          "dash": "dot"
         },
         "marker": {
          "symbol": "circle"
         },
         "mode": "lines",
         "name": "L4_D16_best, lrnn_best",
         "orientation": "v",
         "showlegend": false,
         "type": "scatter",
         "x": [
          "1_01",
          "1_02",
          "1_03",
          "1_04",
          "1_05",
          "1_06",
          "1_07",
          "1_08",
          "1_09",
          "1_10",
          "1_11",
          "1_12",
          "1_13",
          "1_14",
          "1_15",
          "1_16",
          "1_17",
          "1_18",
          "1_19",
          "1_20",
          "1_21",
          "1_22",
          "1_23",
          "1_24",
          "1_25",
          "1_26",
          "1_27",
          "1_28",
          "1_29",
          "1_30"
         ],
         "xaxis": "x2",
         "y": [
          115.33333333333333,
          120.66666666666667,
          125.33333333333333,
          160.66666666666666,
          162.66666666666666,
          161.33333333333334,
          188.66666666666666,
          194.66666666666666,
          202,
          213.33333333333334,
          228,
          261.3333333333333,
          278,
          267.3333333333333,
          276.6666666666667,
          290,
          308.6666666666667,
          330.6666666666667,
          333.3333333333333,
          356,
          360,
          372,
          409.3333333333333,
          390.6666666666667,
          408.6666666666667,
          444,
          440,
          442,
          462,
          516
         ],
         "yaxis": "y2"
        },
        {
         "error_y": {
          "array": [
           0,
           0,
           0,
           0,
           0,
           1.154700538379251,
           0,
           0,
           0,
           0,
           0,
           1.1547005383792526,
           1.1547005383792526,
           1.154700538379251,
           0,
           3.4641016151377544,
           0,
           0,
           1.154700538379251,
           0,
           2,
           1.1547005383792495,
           1.1547005383792526,
           3.0550504633038913,
           1.1547005383792526,
           1.1547005383792526,
           1.1547005383792526,
           0,
           1.1547005383792526,
           2.309401076758502
          ]
         },
         "hovertemplate": "solver=L4_D32_best<br>type=lrnn_best<br>difficulty=0<br>problem=%{x}<br>plan_length_mean=%{y}<extra></extra>",
         "legendgroup": "L4_D32_best, lrnn_best",
         "line": {
          "color": "#EF553B",
          "dash": "dot"
         },
         "marker": {
          "symbol": "circle"
         },
         "mode": "lines",
         "name": "L4_D32_best, lrnn_best",
         "orientation": "v",
         "showlegend": true,
         "type": "scatter",
         "x": [
          "0_01",
          "0_02",
          "0_03",
          "0_04",
          "0_05",
          "0_06",
          "0_07",
          "0_08",
          "0_09",
          "0_10",
          "0_11",
          "0_12",
          "0_13",
          "0_14",
          "0_15",
          "0_16",
          "0_17",
          "0_18",
          "0_19",
          "0_20",
          "0_21",
          "0_22",
          "0_23",
          "0_24",
          "0_25",
          "0_26",
          "0_27",
          "0_28",
          "0_29",
          "0_30"
         ],
         "xaxis": "x",
         "y": [
          10,
          8,
          20,
          24,
          24,
          26.666666666666668,
          32,
          32,
          36,
          38,
          48,
          42.666666666666664,
          47.333333333333336,
          46.666666666666664,
          48,
          58,
          60,
          54,
          59.333333333333336,
          56,
          62,
          76.66666666666667,
          65.33333333333333,
          76.66666666666667,
          85.33333333333333,
          79.33333333333333,
          71.33333333333333,
          86,
          78.66666666666667,
          92.66666666666667
         ],
         "yaxis": "y"
        },
        {
         "error_y": {
          "array": [
           5.291502622129181,
           2.309401076758505,
           5.291502622129181,
           2,
           4,
           4.618802153517004,
           2.309401076758505,
           3.4641016151377544,
           3.0550504633038926,
           2,
           4.61880215351701,
           0,
           2.309401076758499,
           3.055050463303895,
           4.16333199893226,
           7.023769168568493,
           2.309401076758499,
           1.1547005383792432,
           2.309401076758499,
           6.928203230275509,
           1.1547005383792557,
           4,
           3.0550504633038997,
           3.4641016151377544,
           9.018499505645796,
           8.326663997864536,
           5.033222956847173,
           1.1547005383792432,
           3.0550504633038997,
           5.773502691896241
          ]
         },
         "hovertemplate": "solver=L4_D32_best<br>type=lrnn_best<br>difficulty=1<br>problem=%{x}<br>plan_length_mean=%{y}<extra></extra>",
         "legendgroup": "L4_D32_best, lrnn_best",
         "line": {
          "color": "#EF553B",
          "dash": "dot"
         },
         "marker": {
          "symbol": "circle"
         },
         "mode": "lines",
         "name": "L4_D32_best, lrnn_best",
         "orientation": "v",
         "showlegend": false,
         "type": "scatter",
         "x": [
          "1_01",
          "1_02",
          "1_03",
          "1_04",
          "1_05",
          "1_06",
          "1_07",
          "1_08",
          "1_09",
          "1_10",
          "1_11",
          "1_12",
          "1_13",
          "1_14",
          "1_15",
          "1_16",
          "1_17",
          "1_18",
          "1_19",
          "1_20",
          "1_21",
          "1_22",
          "1_23",
          "1_24",
          "1_25",
          "1_26",
          "1_27",
          "1_28",
          "1_29",
          "1_30"
         ],
         "xaxis": "x2",
         "y": [
          116,
          120.66666666666667,
          132,
          160,
          156,
          158.66666666666666,
          177.33333333333334,
          192,
          203.33333333333334,
          212,
          230.66666666666666,
          258,
          272.6666666666667,
          265.3333333333333,
          273.3333333333333,
          284.6666666666667,
          301.3333333333333,
          332.6666666666667,
          338.6666666666667,
          354,
          360.6666666666667,
          366,
          407.3333333333333,
          386,
          404.6666666666667,
          434.6666666666667,
          434.6666666666667,
          425.3333333333333,
          450.6666666666667,
          512.6666666666666
         ],
         "yaxis": "y2"
        }
       ],
       "layout": {
        "annotations": [
         {
          "font": {},
          "showarrow": false,
          "text": "difficulty=0",
          "x": 0.245,
          "xanchor": "center",
          "xref": "paper",
          "y": 1,
          "yanchor": "bottom",
          "yref": "paper"
         },
         {
          "font": {},
          "showarrow": false,
          "text": "difficulty=1",
          "x": 0.755,
          "xanchor": "center",
          "xref": "paper",
          "y": 1,
          "yanchor": "bottom",
          "yref": "paper"
         }
        ],
        "legend": {
         "title": {
          "text": "solver, type"
         },
         "tracegroupgap": 0
        },
        "margin": {
         "t": 60
        },
        "template": {
         "data": {
          "bar": [
           {
            "error_x": {
             "color": "#2a3f5f"
            },
            "error_y": {
             "color": "#2a3f5f"
            },
            "marker": {
             "line": {
              "color": "#E5ECF6",
              "width": 0.5
             },
             "pattern": {
              "fillmode": "overlay",
              "size": 10,
              "solidity": 0.2
             }
            },
            "type": "bar"
           }
          ],
          "barpolar": [
           {
            "marker": {
             "line": {
              "color": "#E5ECF6",
              "width": 0.5
             },
             "pattern": {
              "fillmode": "overlay",
              "size": 10,
              "solidity": 0.2
             }
            },
            "type": "barpolar"
           }
          ],
          "carpet": [
           {
            "aaxis": {
             "endlinecolor": "#2a3f5f",
             "gridcolor": "white",
             "linecolor": "white",
             "minorgridcolor": "white",
             "startlinecolor": "#2a3f5f"
            },
            "baxis": {
             "endlinecolor": "#2a3f5f",
             "gridcolor": "white",
             "linecolor": "white",
             "minorgridcolor": "white",
             "startlinecolor": "#2a3f5f"
            },
            "type": "carpet"
           }
          ],
          "choropleth": [
           {
            "colorbar": {
             "outlinewidth": 0,
             "ticks": ""
            },
            "type": "choropleth"
           }
          ],
          "contour": [
           {
            "colorbar": {
             "outlinewidth": 0,
             "ticks": ""
            },
            "colorscale": [
             [
              0,
              "#0d0887"
             ],
             [
              0.1111111111111111,
              "#46039f"
             ],
             [
              0.2222222222222222,
              "#7201a8"
             ],
             [
              0.3333333333333333,
              "#9c179e"
             ],
             [
              0.4444444444444444,
              "#bd3786"
             ],
             [
              0.5555555555555556,
              "#d8576b"
             ],
             [
              0.6666666666666666,
              "#ed7953"
             ],
             [
              0.7777777777777778,
              "#fb9f3a"
             ],
             [
              0.8888888888888888,
              "#fdca26"
             ],
             [
              1,
              "#f0f921"
             ]
            ],
            "type": "contour"
           }
          ],
          "contourcarpet": [
           {
            "colorbar": {
             "outlinewidth": 0,
             "ticks": ""
            },
            "type": "contourcarpet"
           }
          ],
          "heatmap": [
           {
            "colorbar": {
             "outlinewidth": 0,
             "ticks": ""
            },
            "colorscale": [
             [
              0,
              "#0d0887"
             ],
             [
              0.1111111111111111,
              "#46039f"
             ],
             [
              0.2222222222222222,
              "#7201a8"
             ],
             [
              0.3333333333333333,
              "#9c179e"
             ],
             [
              0.4444444444444444,
              "#bd3786"
             ],
             [
              0.5555555555555556,
              "#d8576b"
             ],
             [
              0.6666666666666666,
              "#ed7953"
             ],
             [
              0.7777777777777778,
              "#fb9f3a"
             ],
             [
              0.8888888888888888,
              "#fdca26"
             ],
             [
              1,
              "#f0f921"
             ]
            ],
            "type": "heatmap"
           }
          ],
          "heatmapgl": [
           {
            "colorbar": {
             "outlinewidth": 0,
             "ticks": ""
            },
            "colorscale": [
             [
              0,
              "#0d0887"
             ],
             [
              0.1111111111111111,
              "#46039f"
             ],
             [
              0.2222222222222222,
              "#7201a8"
             ],
             [
              0.3333333333333333,
              "#9c179e"
             ],
             [
              0.4444444444444444,
              "#bd3786"
             ],
             [
              0.5555555555555556,
              "#d8576b"
             ],
             [
              0.6666666666666666,
              "#ed7953"
             ],
             [
              0.7777777777777778,
              "#fb9f3a"
             ],
             [
              0.8888888888888888,
              "#fdca26"
             ],
             [
              1,
              "#f0f921"
             ]
            ],
            "type": "heatmapgl"
           }
          ],
          "histogram": [
           {
            "marker": {
             "pattern": {
              "fillmode": "overlay",
              "size": 10,
              "solidity": 0.2
             }
            },
            "type": "histogram"
           }
          ],
          "histogram2d": [
           {
            "colorbar": {
             "outlinewidth": 0,
             "ticks": ""
            },
            "colorscale": [
             [
              0,
              "#0d0887"
             ],
             [
              0.1111111111111111,
              "#46039f"
             ],
             [
              0.2222222222222222,
              "#7201a8"
             ],
             [
              0.3333333333333333,
              "#9c179e"
             ],
             [
              0.4444444444444444,
              "#bd3786"
             ],
             [
              0.5555555555555556,
              "#d8576b"
             ],
             [
              0.6666666666666666,
              "#ed7953"
             ],
             [
              0.7777777777777778,
              "#fb9f3a"
             ],
             [
              0.8888888888888888,
              "#fdca26"
             ],
             [
              1,
              "#f0f921"
             ]
            ],
            "type": "histogram2d"
           }
          ],
          "histogram2dcontour": [
           {
            "colorbar": {
             "outlinewidth": 0,
             "ticks": ""
            },
            "colorscale": [
             [
              0,
              "#0d0887"
             ],
             [
              0.1111111111111111,
              "#46039f"
             ],
             [
              0.2222222222222222,
              "#7201a8"
             ],
             [
              0.3333333333333333,
              "#9c179e"
             ],
             [
              0.4444444444444444,
              "#bd3786"
             ],
             [
              0.5555555555555556,
              "#d8576b"
             ],
             [
              0.6666666666666666,
              "#ed7953"
             ],
             [
              0.7777777777777778,
              "#fb9f3a"
             ],
             [
              0.8888888888888888,
              "#fdca26"
             ],
             [
              1,
              "#f0f921"
             ]
            ],
            "type": "histogram2dcontour"
           }
          ],
          "mesh3d": [
           {
            "colorbar": {
             "outlinewidth": 0,
             "ticks": ""
            },
            "type": "mesh3d"
           }
          ],
          "parcoords": [
           {
            "line": {
             "colorbar": {
              "outlinewidth": 0,
              "ticks": ""
             }
            },
            "type": "parcoords"
           }
          ],
          "pie": [
           {
            "automargin": true,
            "type": "pie"
           }
          ],
          "scatter": [
           {
            "fillpattern": {
             "fillmode": "overlay",
             "size": 10,
             "solidity": 0.2
            },
            "type": "scatter"
           }
          ],
          "scatter3d": [
           {
            "line": {
             "colorbar": {
              "outlinewidth": 0,
              "ticks": ""
             }
            },
            "marker": {
             "colorbar": {
              "outlinewidth": 0,
              "ticks": ""
             }
            },
            "type": "scatter3d"
           }
          ],
          "scattercarpet": [
           {
            "marker": {
             "colorbar": {
              "outlinewidth": 0,
              "ticks": ""
             }
            },
            "type": "scattercarpet"
           }
          ],
          "scattergeo": [
           {
            "marker": {
             "colorbar": {
              "outlinewidth": 0,
              "ticks": ""
             }
            },
            "type": "scattergeo"
           }
          ],
          "scattergl": [
           {
            "marker": {
             "colorbar": {
              "outlinewidth": 0,
              "ticks": ""
             }
            },
            "type": "scattergl"
           }
          ],
          "scattermapbox": [
           {
            "marker": {
             "colorbar": {
              "outlinewidth": 0,
              "ticks": ""
             }
            },
            "type": "scattermapbox"
           }
          ],
          "scatterpolar": [
           {
            "marker": {
             "colorbar": {
              "outlinewidth": 0,
              "ticks": ""
             }
            },
            "type": "scatterpolar"
           }
          ],
          "scatterpolargl": [
           {
            "marker": {
             "colorbar": {
              "outlinewidth": 0,
              "ticks": ""
             }
            },
            "type": "scatterpolargl"
           }
          ],
          "scatterternary": [
           {
            "marker": {
             "colorbar": {
              "outlinewidth": 0,
              "ticks": ""
             }
            },
            "type": "scatterternary"
           }
          ],
          "surface": [
           {
            "colorbar": {
             "outlinewidth": 0,
             "ticks": ""
            },
            "colorscale": [
             [
              0,
              "#0d0887"
             ],
             [
              0.1111111111111111,
              "#46039f"
             ],
             [
              0.2222222222222222,
              "#7201a8"
             ],
             [
              0.3333333333333333,
              "#9c179e"
             ],
             [
              0.4444444444444444,
              "#bd3786"
             ],
             [
              0.5555555555555556,
              "#d8576b"
             ],
             [
              0.6666666666666666,
              "#ed7953"
             ],
             [
              0.7777777777777778,
              "#fb9f3a"
             ],
             [
              0.8888888888888888,
              "#fdca26"
             ],
             [
              1,
              "#f0f921"
             ]
            ],
            "type": "surface"
           }
          ],
          "table": [
           {
            "cells": {
             "fill": {
              "color": "#EBF0F8"
             },
             "line": {
              "color": "white"
             }
            },
            "header": {
             "fill": {
              "color": "#C8D4E3"
             },
             "line": {
              "color": "white"
             }
            },
            "type": "table"
           }
          ]
         },
         "layout": {
          "annotationdefaults": {
           "arrowcolor": "#2a3f5f",
           "arrowhead": 0,
           "arrowwidth": 1
          },
          "autotypenumbers": "strict",
          "coloraxis": {
           "colorbar": {
            "outlinewidth": 0,
            "ticks": ""
           }
          },
          "colorscale": {
           "diverging": [
            [
             0,
             "#8e0152"
            ],
            [
             0.1,
             "#c51b7d"
            ],
            [
             0.2,
             "#de77ae"
            ],
            [
             0.3,
             "#f1b6da"
            ],
            [
             0.4,
             "#fde0ef"
            ],
            [
             0.5,
             "#f7f7f7"
            ],
            [
             0.6,
             "#e6f5d0"
            ],
            [
             0.7,
             "#b8e186"
            ],
            [
             0.8,
             "#7fbc41"
            ],
            [
             0.9,
             "#4d9221"
            ],
            [
             1,
             "#276419"
            ]
           ],
           "sequential": [
            [
             0,
             "#0d0887"
            ],
            [
             0.1111111111111111,
             "#46039f"
            ],
            [
             0.2222222222222222,
             "#7201a8"
            ],
            [
             0.3333333333333333,
             "#9c179e"
            ],
            [
             0.4444444444444444,
             "#bd3786"
            ],
            [
             0.5555555555555556,
             "#d8576b"
            ],
            [
             0.6666666666666666,
             "#ed7953"
            ],
            [
             0.7777777777777778,
             "#fb9f3a"
            ],
            [
             0.8888888888888888,
             "#fdca26"
            ],
            [
             1,
             "#f0f921"
            ]
           ],
           "sequentialminus": [
            [
             0,
             "#0d0887"
            ],
            [
             0.1111111111111111,
             "#46039f"
            ],
            [
             0.2222222222222222,
             "#7201a8"
            ],
            [
             0.3333333333333333,
             "#9c179e"
            ],
            [
             0.4444444444444444,
             "#bd3786"
            ],
            [
             0.5555555555555556,
             "#d8576b"
            ],
            [
             0.6666666666666666,
             "#ed7953"
            ],
            [
             0.7777777777777778,
             "#fb9f3a"
            ],
            [
             0.8888888888888888,
             "#fdca26"
            ],
            [
             1,
             "#f0f921"
            ]
           ]
          },
          "colorway": [
           "#636efa",
           "#EF553B",
           "#00cc96",
           "#ab63fa",
           "#FFA15A",
           "#19d3f3",
           "#FF6692",
           "#B6E880",
           "#FF97FF",
           "#FECB52"
          ],
          "font": {
           "color": "#2a3f5f"
          },
          "geo": {
           "bgcolor": "white",
           "lakecolor": "white",
           "landcolor": "#E5ECF6",
           "showlakes": true,
           "showland": true,
           "subunitcolor": "white"
          },
          "hoverlabel": {
           "align": "left"
          },
          "hovermode": "closest",
          "mapbox": {
           "style": "light"
          },
          "paper_bgcolor": "white",
          "plot_bgcolor": "#E5ECF6",
          "polar": {
           "angularaxis": {
            "gridcolor": "white",
            "linecolor": "white",
            "ticks": ""
           },
           "bgcolor": "#E5ECF6",
           "radialaxis": {
            "gridcolor": "white",
            "linecolor": "white",
            "ticks": ""
           }
          },
          "scene": {
           "xaxis": {
            "backgroundcolor": "#E5ECF6",
            "gridcolor": "white",
            "gridwidth": 2,
            "linecolor": "white",
            "showbackground": true,
            "ticks": "",
            "zerolinecolor": "white"
           },
           "yaxis": {
            "backgroundcolor": "#E5ECF6",
            "gridcolor": "white",
            "gridwidth": 2,
            "linecolor": "white",
            "showbackground": true,
            "ticks": "",
            "zerolinecolor": "white"
           },
           "zaxis": {
            "backgroundcolor": "#E5ECF6",
            "gridcolor": "white",
            "gridwidth": 2,
            "linecolor": "white",
            "showbackground": true,
            "ticks": "",
            "zerolinecolor": "white"
           }
          },
          "shapedefaults": {
           "line": {
            "color": "#2a3f5f"
           }
          },
          "ternary": {
           "aaxis": {
            "gridcolor": "white",
            "linecolor": "white",
            "ticks": ""
           },
           "baxis": {
            "gridcolor": "white",
            "linecolor": "white",
            "ticks": ""
           },
           "bgcolor": "#E5ECF6",
           "caxis": {
            "gridcolor": "white",
            "linecolor": "white",
            "ticks": ""
           }
          },
          "title": {
           "x": 0.05
          },
          "xaxis": {
           "automargin": true,
           "gridcolor": "white",
           "linecolor": "white",
           "ticks": "",
           "title": {
            "standoff": 15
           },
           "zerolinecolor": "white",
           "zerolinewidth": 2
          },
          "yaxis": {
           "automargin": true,
           "gridcolor": "white",
           "linecolor": "white",
           "ticks": "",
           "title": {
            "standoff": 15
           },
           "zerolinecolor": "white",
           "zerolinewidth": 2
          }
         }
        },
        "xaxis": {
         "anchor": "y",
         "categoryarray": [
          "0_01",
          "0_02",
          "0_03",
          "0_04",
          "0_05",
          "0_06",
          "0_07",
          "0_08",
          "0_09",
          "0_10",
          "0_11",
          "0_12",
          "0_13",
          "0_14",
          "0_15",
          "0_16",
          "0_17",
          "0_18",
          "0_19",
          "0_20",
          "0_21",
          "0_22",
          "0_23",
          "0_24",
          "0_25",
          "0_26",
          "0_27",
          "0_28",
          "0_29",
          "0_30",
          "1_01",
          "1_02",
          "1_03",
          "1_04",
          "1_05",
          "1_06",
          "1_07",
          "1_08",
          "1_09",
          "1_10",
          "1_11",
          "1_12",
          "1_13",
          "1_14",
          "1_15",
          "1_16",
          "1_17",
          "1_18",
          "1_19",
          "1_20",
          "1_21",
          "1_22",
          "1_23",
          "1_24",
          "1_25",
          "1_26",
          "1_27",
          "1_28",
          "1_29",
          "1_30"
         ],
         "categoryorder": "array",
         "domain": [
          0,
          0.49
         ],
         "showticklabels": true,
         "title": {
          "text": "problem"
         }
        },
        "xaxis2": {
         "anchor": "y2",
         "categoryarray": [
          "0_01",
          "0_02",
          "0_03",
          "0_04",
          "0_05",
          "0_06",
          "0_07",
          "0_08",
          "0_09",
          "0_10",
          "0_11",
          "0_12",
          "0_13",
          "0_14",
          "0_15",
          "0_16",
          "0_17",
          "0_18",
          "0_19",
          "0_20",
          "0_21",
          "0_22",
          "0_23",
          "0_24",
          "0_25",
          "0_26",
          "0_27",
          "0_28",
          "0_29",
          "0_30",
          "1_01",
          "1_02",
          "1_03",
          "1_04",
          "1_05",
          "1_06",
          "1_07",
          "1_08",
          "1_09",
          "1_10",
          "1_11",
          "1_12",
          "1_13",
          "1_14",
          "1_15",
          "1_16",
          "1_17",
          "1_18",
          "1_19",
          "1_20",
          "1_21",
          "1_22",
          "1_23",
          "1_24",
          "1_25",
          "1_26",
          "1_27",
          "1_28",
          "1_29",
          "1_30"
         ],
         "categoryorder": "array",
         "domain": [
          0.51,
          1
         ],
         "showticklabels": true,
         "title": {
          "text": "problem"
         }
        },
        "yaxis": {
         "anchor": "x",
         "domain": [
          0,
          1
         ],
         "showticklabels": true,
         "title": {
          "text": "plan_length_mean"
         }
        },
        "yaxis2": {
         "anchor": "x2",
         "domain": [
          0,
          1
         ],
         "showticklabels": true
        }
       }
      }
     },
     "metadata": {},
     "output_type": "display_data"
    },
    {
     "name": "stdout",
     "output_type": "stream",
     "text": [
      "ferry\n"
     ]
    },
    {
     "data": {
      "application/vnd.plotly.v1+json": {
       "config": {
        "plotlyServerURL": "https://plot.ly"
       },
       "data": [
        {
         "error_y": {
          "array": [
           0,
           0,
           0,
           0,
           0,
           0.7071067811865476,
           0.44721359549995765,
           0.547722557505166,
           0.8366600265340753,
           0.44721359549995787,
           0.8366600265340751,
           0.5477225575051664,
           0.8366600265340757,
           0.8366600265340749,
           0.44721359549995865,
           0.44721359549995715,
           0.44721359549995715,
           1.224744871391589,
           1.303840481040529,
           1.1401754250991383,
           1.6733200530681513,
           0.8366600265340757,
           0.44721359549995715,
           1.3416407864998734,
           1.4832396974191324,
           1.1401754250991383,
           1.51657508881031,
           1.1401754250991367,
           1.3038404810405302,
           0.7071067811865476
          ]
         },
         "hovertemplate": "solver=baseline<br>type=bounds<br>difficulty=0<br>problem=%{x}<br>plan_length_mean=%{y}<extra></extra>",
         "legendgroup": "baseline, bounds",
         "line": {
          "color": "#636efa",
          "dash": "solid"
         },
         "marker": {
          "symbol": "circle"
         },
         "mode": "lines",
         "name": "baseline, bounds",
         "orientation": "v",
         "showlegend": true,
         "type": "scatter",
         "x": [
          "0_01",
          "0_02",
          "0_03",
          "0_04",
          "0_05",
          "0_06",
          "0_07",
          "0_08",
          "0_09",
          "0_10",
          "0_11",
          "0_12",
          "0_13",
          "0_14",
          "0_15",
          "0_16",
          "0_17",
          "0_18",
          "0_19",
          "0_20",
          "0_21",
          "0_22",
          "0_23",
          "0_24",
          "0_25",
          "0_26",
          "0_27",
          "0_28",
          "0_29",
          "0_30"
         ],
         "xaxis": "x",
         "y": [
          8,
          8,
          12,
          11,
          15,
          19,
          19.2,
          23.6,
          25.2,
          26.8,
          31.2,
          29.4,
          33.2,
          34.8,
          37.8,
          40.8,
          45.2,
          42,
          44.8,
          51.6,
          50.4,
          50.8,
          53.8,
          58.6,
          62.2,
          60.4,
          61.4,
          68.4,
          67.2,
          75
         ],
         "yaxis": "y"
        },
        {
         "error_y": {
          "array": [
           0.7071067811865472,
           0.8366600265340757,
           0.44721359549995815,
           0.5477225575051667,
           0.8366600265340757,
           1.7888543819998313,
           1.303840481040529,
           2.509980079602227,
           1.3416407864998734,
           1.7888543819998355,
           1.9493588689617967,
           0.8366600265340783,
           1.5165750888103116,
           1.3416407864998734,
           2.4083189157584557,
           2.2803508501982743,
           2.0493901531919225,
           2.880972058177586,
           2.1213203435596393,
           1.3416407864998734,
           3.7416573867739418,
           5.147815070493499,
           1.8165902124584923,
           1.1401754250991352,
           2.073644135332778,
           2.949576240750527,
           1.1401754250991398,
           4.183300132670379,
           3.4928498393145944,
           4.086563348340508
          ]
         },
         "hovertemplate": "solver=baseline<br>type=bounds<br>difficulty=1<br>problem=%{x}<br>plan_length_mean=%{y}<extra></extra>",
         "legendgroup": "baseline, bounds",
         "line": {
          "color": "#636efa",
          "dash": "solid"
         },
         "marker": {
          "symbol": "circle"
         },
         "mode": "lines",
         "name": "baseline, bounds",
         "orientation": "v",
         "showlegend": false,
         "type": "scatter",
         "x": [
          "1_01",
          "1_02",
          "1_03",
          "1_04",
          "1_05",
          "1_06",
          "1_07",
          "1_08",
          "1_09",
          "1_10",
          "1_11",
          "1_12",
          "1_13",
          "1_14",
          "1_15",
          "1_16",
          "1_17",
          "1_18",
          "1_19",
          "1_20",
          "1_21",
          "1_22",
          "1_23",
          "1_24",
          "1_25",
          "1_26",
          "1_27",
          "1_28",
          "1_29",
          "1_30"
         ],
         "xaxis": "x2",
         "y": [
          37,
          49.8,
          61.2,
          69.4,
          76.8,
          93.2,
          104.2,
          108.6,
          123.6,
          132.8,
          144.4,
          156.2,
          165.6,
          173.4,
          185.6,
          196.8,
          200.8,
          211.6,
          235,
          233.4,
          245,
          255,
          271.4,
          280.4,
          290.4,
          300.2,
          314.4,
          318,
          332.2,
          343.8
         ],
         "yaxis": "y2"
        },
        {
         "error_y": {
          "array": [
           null,
           null,
           null,
           null,
           null,
           null,
           null,
           null,
           null,
           null,
           null,
           null,
           null,
           null,
           null,
           null,
           null,
           null,
           null,
           null,
           null,
           null,
           null,
           null,
           null,
           null,
           null,
           null,
           null,
           null
          ]
         },
         "hovertemplate": "solver=optimal<br>type=bounds<br>difficulty=0<br>problem=%{x}<br>plan_length_mean=%{y}<extra></extra>",
         "legendgroup": "optimal, bounds",
         "line": {
          "color": "#EF553B",
          "dash": "solid"
         },
         "marker": {
          "symbol": "circle"
         },
         "mode": "lines",
         "name": "optimal, bounds",
         "orientation": "v",
         "showlegend": true,
         "type": "scatter",
         "x": [
          "0_01",
          "0_02",
          "0_03",
          "0_04",
          "0_05",
          "0_06",
          "0_07",
          "0_08",
          "0_09",
          "0_10",
          "0_11",
          "0_12",
          "0_13",
          "0_14",
          "0_15",
          "0_16",
          "0_17",
          "0_18",
          "0_19",
          "0_20",
          "0_21",
          "0_22",
          "0_23",
          "0_24",
          "0_25",
          "0_26",
          "0_27",
          "0_28",
          "0_29",
          "0_30"
         ],
         "xaxis": "x",
         "y": [
          8,
          8,
          12,
          11,
          15,
          18,
          19,
          23,
          24,
          26,
          30,
          29,
          31,
          33,
          37,
          39,
          null,
          40,
          44,
          null,
          null,
          null,
          null,
          null,
          null,
          null,
          null,
          null,
          null,
          null
         ],
         "yaxis": "y"
        },
        {
         "error_y": {
          "array": [
           null,
           null,
           null,
           null,
           null,
           null,
           null,
           null,
           null,
           null,
           null,
           null,
           null,
           null,
           null,
           null,
           null,
           null,
           null,
           null,
           null,
           null,
           null,
           null,
           null,
           null,
           null,
           null,
           null,
           null
          ]
         },
         "hovertemplate": "solver=optimal<br>type=bounds<br>difficulty=1<br>problem=%{x}<br>plan_length_mean=%{y}<extra></extra>",
         "legendgroup": "optimal, bounds",
         "line": {
          "color": "#EF553B",
          "dash": "solid"
         },
         "marker": {
          "symbol": "circle"
         },
         "mode": "lines",
         "name": "optimal, bounds",
         "orientation": "v",
         "showlegend": false,
         "type": "scatter",
         "x": [
          "1_01",
          "1_02",
          "1_03",
          "1_04",
          "1_05",
          "1_06",
          "1_07",
          "1_08",
          "1_09",
          "1_10",
          "1_11",
          "1_12",
          "1_13",
          "1_14",
          "1_15",
          "1_16",
          "1_17",
          "1_18",
          "1_19",
          "1_20",
          "1_21",
          "1_22",
          "1_23",
          "1_24",
          "1_25",
          "1_26",
          "1_27",
          "1_28",
          "1_29",
          "1_30"
         ],
         "xaxis": "x2",
         "y": [
          36,
          47,
          null,
          null,
          null,
          null,
          null,
          null,
          null,
          null,
          null,
          null,
          null,
          null,
          null,
          null,
          null,
          null,
          null,
          null,
          null,
          null,
          null,
          null,
          null,
          null,
          null,
          null,
          null,
          null
         ],
         "yaxis": "y2"
        },
        {
         "error_y": {
          "array": [
           null,
           null,
           null,
           null,
           null,
           null,
           null,
           null,
           null,
           null,
           null,
           null,
           null,
           null,
           null,
           null,
           null,
           null,
           null,
           null,
           null,
           null,
           null,
           null,
           null,
           null,
           null,
           null,
           null,
           null
          ]
         },
         "hovertemplate": "solver=lama<br>type=bounds<br>difficulty=0<br>problem=%{x}<br>plan_length_mean=%{y}<extra></extra>",
         "legendgroup": "lama, bounds",
         "line": {
          "color": "#00cc96",
          "dash": "solid"
         },
         "marker": {
          "symbol": "circle"
         },
         "mode": "lines",
         "name": "lama, bounds",
         "orientation": "v",
         "showlegend": true,
         "type": "scatter",
         "x": [
          "0_01",
          "0_02",
          "0_03",
          "0_04",
          "0_05",
          "0_06",
          "0_07",
          "0_08",
          "0_09",
          "0_10",
          "0_11",
          "0_12",
          "0_13",
          "0_14",
          "0_15",
          "0_16",
          "0_17",
          "0_18",
          "0_19",
          "0_20",
          "0_21",
          "0_22",
          "0_23",
          "0_24",
          "0_25",
          "0_26",
          "0_27",
          "0_28",
          "0_29",
          "0_30"
         ],
         "xaxis": "x",
         "y": [
          8,
          9,
          14,
          14,
          20,
          20,
          23,
          26,
          27,
          33,
          37,
          38,
          36,
          40,
          47,
          49,
          55,
          49,
          55,
          57,
          62,
          61,
          67,
          74,
          71,
          73,
          73,
          80,
          80,
          84
         ],
         "yaxis": "y"
        },
        {
         "error_y": {
          "array": [
           null,
           null,
           null,
           null,
           null,
           null,
           null,
           null,
           null,
           null,
           null,
           null,
           null,
           null,
           null,
           null,
           null,
           null,
           null,
           null,
           null,
           null,
           null,
           null,
           null,
           null,
           null,
           null,
           null,
           null
          ]
         },
         "hovertemplate": "solver=lama<br>type=bounds<br>difficulty=1<br>problem=%{x}<br>plan_length_mean=%{y}<extra></extra>",
         "legendgroup": "lama, bounds",
         "line": {
          "color": "#00cc96",
          "dash": "solid"
         },
         "marker": {
          "symbol": "circle"
         },
         "mode": "lines",
         "name": "lama, bounds",
         "orientation": "v",
         "showlegend": false,
         "type": "scatter",
         "x": [
          "1_01",
          "1_02",
          "1_03",
          "1_04",
          "1_05",
          "1_06",
          "1_07",
          "1_08",
          "1_09",
          "1_10",
          "1_11",
          "1_12",
          "1_13",
          "1_14",
          "1_15",
          "1_16",
          "1_17",
          "1_18",
          "1_19",
          "1_20",
          "1_21",
          "1_22",
          "1_23",
          "1_24",
          "1_25",
          "1_26",
          "1_27",
          "1_28",
          "1_29",
          "1_30"
         ],
         "xaxis": "x2",
         "y": [
          45,
          55,
          77,
          84,
          95,
          112,
          130,
          138,
          151,
          160,
          179,
          191,
          198,
          214,
          226,
          234,
          243,
          254,
          279,
          282,
          295,
          314,
          326,
          341,
          359,
          377,
          377,
          383,
          418,
          423
         ],
         "yaxis": "y2"
        },
        {
         "error_y": {
          "array": [
           0,
           0,
           0,
           0,
           0,
           0,
           0,
           0,
           0,
           0,
           0,
           0,
           0,
           0,
           0,
           0,
           0,
           0,
           0,
           0,
           0,
           0,
           0.5773502691896247,
           0,
           0.5773502691896263,
           0,
           0,
           0,
           0,
           0.5773502691896247
          ]
         },
         "hovertemplate": "solver=L2_D8_best<br>type=lrnn_best<br>difficulty=0<br>problem=%{x}<br>plan_length_mean=%{y}<extra></extra>",
         "legendgroup": "L2_D8_best, lrnn_best",
         "line": {
          "color": "#ab63fa",
          "dash": "dot"
         },
         "marker": {
          "symbol": "circle"
         },
         "mode": "lines",
         "name": "L2_D8_best, lrnn_best",
         "orientation": "v",
         "showlegend": true,
         "type": "scatter",
         "x": [
          "0_01",
          "0_02",
          "0_03",
          "0_04",
          "0_05",
          "0_06",
          "0_07",
          "0_08",
          "0_09",
          "0_10",
          "0_11",
          "0_12",
          "0_13",
          "0_14",
          "0_15",
          "0_16",
          "0_17",
          "0_18",
          "0_19",
          "0_20",
          "0_21",
          "0_22",
          "0_23",
          "0_24",
          "0_25",
          "0_26",
          "0_27",
          "0_28",
          "0_29",
          "0_30"
         ],
         "xaxis": "x",
         "y": [
          8,
          8,
          12,
          11,
          15,
          18,
          19,
          23,
          24,
          26,
          30,
          29,
          31,
          33,
          37,
          39,
          45,
          40,
          44,
          49,
          49,
          50,
          52.333333333333336,
          57,
          60.333333333333336,
          58,
          59,
          66,
          64,
          72.66666666666667
         ],
         "yaxis": "y"
        },
        {
         "error_y": {
          "array": [
           0,
           0,
           0,
           0,
           0.5773502691896247,
           0,
           0,
           0,
           0.5773502691896247,
           0.5773502691896278,
           0,
           0.5773502691896278,
           0.5773502691896278,
           0.5773502691896278,
           0,
           0.5773502691896278,
           0,
           0.5773502691896278,
           0,
           0,
           0.5773502691896278,
           0,
           0.5773502691896216,
           0,
           0,
           0.577350269189634,
           0.5773502691896216,
           0,
           0,
           0
          ]
         },
         "hovertemplate": "solver=L2_D8_best<br>type=lrnn_best<br>difficulty=1<br>problem=%{x}<br>plan_length_mean=%{y}<extra></extra>",
         "legendgroup": "L2_D8_best, lrnn_best",
         "line": {
          "color": "#ab63fa",
          "dash": "dot"
         },
         "marker": {
          "symbol": "circle"
         },
         "mode": "lines",
         "name": "L2_D8_best, lrnn_best",
         "orientation": "v",
         "showlegend": false,
         "type": "scatter",
         "x": [
          "1_01",
          "1_02",
          "1_03",
          "1_04",
          "1_05",
          "1_06",
          "1_07",
          "1_08",
          "1_09",
          "1_10",
          "1_11",
          "1_12",
          "1_13",
          "1_14",
          "1_15",
          "1_16",
          "1_17",
          "1_18",
          "1_19",
          "1_20",
          "1_21",
          "1_22",
          "1_23",
          "1_24",
          "1_25",
          "1_26",
          "1_27",
          "1_28",
          "1_29",
          "1_30"
         ],
         "xaxis": "x2",
         "y": [
          36,
          47,
          61,
          67,
          74.33333333333333,
          89,
          100,
          104,
          120.33333333333333,
          129.33333333333334,
          139,
          152.33333333333334,
          160.33333333333334,
          165.33333333333334,
          179,
          189.33333333333334,
          195,
          204.33333333333334,
          226,
          225,
          234.33333333333334,
          244,
          261.3333333333333,
          271,
          282,
          287.3333333333333,
          303.3333333333333,
          306,
          320,
          329
         ],
         "yaxis": "y2"
        },
        {
         "error_y": {
          "array": [
           0,
           0,
           0,
           0,
           0,
           0,
           0,
           0,
           0,
           0,
           0,
           0,
           0,
           1.154700538379251,
           0,
           0,
           0,
           0,
           1.1547005383792526,
           0,
           0,
           0.5773502691896247,
           0,
           0,
           0,
           0,
           0,
           0,
           0,
           0.5773502691896247
          ]
         },
         "hovertemplate": "solver=L2_D16_best<br>type=lrnn_best<br>difficulty=0<br>problem=%{x}<br>plan_length_mean=%{y}<extra></extra>",
         "legendgroup": "L2_D16_best, lrnn_best",
         "line": {
          "color": "#FFA15A",
          "dash": "dot"
         },
         "marker": {
          "symbol": "circle"
         },
         "mode": "lines",
         "name": "L2_D16_best, lrnn_best",
         "orientation": "v",
         "showlegend": true,
         "type": "scatter",
         "x": [
          "0_01",
          "0_02",
          "0_03",
          "0_04",
          "0_05",
          "0_06",
          "0_07",
          "0_08",
          "0_09",
          "0_10",
          "0_11",
          "0_12",
          "0_13",
          "0_14",
          "0_15",
          "0_16",
          "0_17",
          "0_18",
          "0_19",
          "0_20",
          "0_21",
          "0_22",
          "0_23",
          "0_24",
          "0_25",
          "0_26",
          "0_27",
          "0_28",
          "0_29",
          "0_30"
         ],
         "xaxis": "x",
         "y": [
          8,
          8,
          12,
          11,
          15,
          18,
          19,
          23,
          24,
          26,
          30,
          29,
          31,
          33.666666666666664,
          37,
          39,
          45,
          40,
          44.666666666666664,
          49,
          49,
          50.333333333333336,
          52,
          57,
          60,
          58,
          59,
          66,
          64,
          72.66666666666667
         ],
         "yaxis": "y"
        },
        {
         "error_y": {
          "array": [
           0,
           0,
           0,
           0.5773502691896247,
           0,
           0.5773502691896247,
           0,
           0,
           0,
           0.5773502691896278,
           0.5773502691896216,
           0,
           0,
           0,
           0,
           1,
           1,
           0.5773502691896216,
           0,
           0.5773502691896216,
           0,
           0.5773502691896278,
           0.577350269189634,
           1,
           0,
           0,
           0.577350269189634,
           2.3094010767585114,
           0.577350269189634,
           0.5773502691896216
          ]
         },
         "hovertemplate": "solver=L2_D16_best<br>type=lrnn_best<br>difficulty=1<br>problem=%{x}<br>plan_length_mean=%{y}<extra></extra>",
         "legendgroup": "L2_D16_best, lrnn_best",
         "line": {
          "color": "#FFA15A",
          "dash": "dot"
         },
         "marker": {
          "symbol": "circle"
         },
         "mode": "lines",
         "name": "L2_D16_best, lrnn_best",
         "orientation": "v",
         "showlegend": false,
         "type": "scatter",
         "x": [
          "1_01",
          "1_02",
          "1_03",
          "1_04",
          "1_05",
          "1_06",
          "1_07",
          "1_08",
          "1_09",
          "1_10",
          "1_11",
          "1_12",
          "1_13",
          "1_14",
          "1_15",
          "1_16",
          "1_17",
          "1_18",
          "1_19",
          "1_20",
          "1_21",
          "1_22",
          "1_23",
          "1_24",
          "1_25",
          "1_26",
          "1_27",
          "1_28",
          "1_29",
          "1_30"
         ],
         "xaxis": "x2",
         "y": [
          36,
          47,
          61,
          67.33333333333333,
          74,
          89.66666666666667,
          100,
          104,
          120,
          129.66666666666666,
          139.33333333333334,
          152,
          160,
          165,
          179,
          190,
          196,
          204.33333333333334,
          226,
          225.33333333333334,
          234,
          244.66666666666666,
          261.3333333333333,
          272,
          282,
          287,
          303.3333333333333,
          307.3333333333333,
          320.3333333333333,
          329.6666666666667
         ],
         "yaxis": "y2"
        },
        {
         "error_y": {
          "array": [
           0,
           0,
           0,
           0,
           0,
           0,
           0,
           0,
           0.5773502691896255,
           0,
           0.5773502691896255,
           0,
           0,
           0.5773502691896263,
           0,
           0.5773502691896263,
           0,
           0.5773502691896263,
           0.5773502691896263,
           1,
           0,
           0.5773502691896263,
           0,
           0.5773502691896263,
           0.5773502691896263,
           0.5773502691896263,
           0,
           0.5773502691896247,
           1.1547005383792526,
           0.5773502691896247
          ]
         },
         "hovertemplate": "solver=L2_D32_best<br>type=lrnn_best<br>difficulty=0<br>problem=%{x}<br>plan_length_mean=%{y}<extra></extra>",
         "legendgroup": "L2_D32_best, lrnn_best",
         "line": {
          "color": "#19d3f3",
          "dash": "dot"
         },
         "marker": {
          "symbol": "circle"
         },
         "mode": "lines",
         "name": "L2_D32_best, lrnn_best",
         "orientation": "v",
         "showlegend": true,
         "type": "scatter",
         "x": [
          "0_01",
          "0_02",
          "0_03",
          "0_04",
          "0_05",
          "0_06",
          "0_07",
          "0_08",
          "0_09",
          "0_10",
          "0_11",
          "0_12",
          "0_13",
          "0_14",
          "0_15",
          "0_16",
          "0_17",
          "0_18",
          "0_19",
          "0_20",
          "0_21",
          "0_22",
          "0_23",
          "0_24",
          "0_25",
          "0_26",
          "0_27",
          "0_28",
          "0_29",
          "0_30"
         ],
         "xaxis": "x",
         "y": [
          8,
          8,
          12,
          11,
          15,
          18,
          19,
          23,
          24.333333333333332,
          26,
          30.333333333333332,
          29,
          31,
          33.666666666666664,
          37,
          39.333333333333336,
          45,
          40.333333333333336,
          44.666666666666664,
          50,
          49,
          50.333333333333336,
          52,
          57.333333333333336,
          60.666666666666664,
          58.333333333333336,
          59,
          66.66666666666667,
          64.66666666666667,
          73.33333333333333
         ],
         "yaxis": "y"
        },
        {
         "error_y": {
          "array": [
           0,
           0.5773502691896247,
           0,
           0,
           1.1547005383792526,
           0.5773502691896247,
           0,
           0,
           0,
           1.5275252316519474,
           0,
           2,
           1.7320508075688772,
           0.5773502691896278,
           0.5773502691896278,
           2,
           3.0550504633038926,
           2.309401076758505,
           1.1547005383792495,
           1.1547005383792495,
           3.21455025366432,
           0.5773502691896216,
           1.5275252316519405,
           1.1547005383792557,
           1.5275252316519545,
           1.5275252316519405,
           2.5166114784235907,
           3.7859388972001873,
           0.577350269189634,
           1.1547005383792557
          ]
         },
         "hovertemplate": "solver=L2_D32_best<br>type=lrnn_best<br>difficulty=1<br>problem=%{x}<br>plan_length_mean=%{y}<extra></extra>",
         "legendgroup": "L2_D32_best, lrnn_best",
         "line": {
          "color": "#19d3f3",
          "dash": "dot"
         },
         "marker": {
          "symbol": "circle"
         },
         "mode": "lines",
         "name": "L2_D32_best, lrnn_best",
         "orientation": "v",
         "showlegend": false,
         "type": "scatter",
         "x": [
          "1_01",
          "1_02",
          "1_03",
          "1_04",
          "1_05",
          "1_06",
          "1_07",
          "1_08",
          "1_09",
          "1_10",
          "1_11",
          "1_12",
          "1_13",
          "1_14",
          "1_15",
          "1_16",
          "1_17",
          "1_18",
          "1_19",
          "1_20",
          "1_21",
          "1_22",
          "1_23",
          "1_24",
          "1_25",
          "1_26",
          "1_27",
          "1_28",
          "1_29",
          "1_30"
         ],
         "xaxis": "x2",
         "y": [
          36,
          47.333333333333336,
          61,
          67,
          74.66666666666667,
          90.33333333333333,
          100,
          104,
          120,
          130.33333333333334,
          140,
          154,
          161,
          166.33333333333334,
          179.33333333333334,
          193,
          197.66666666666666,
          206.66666666666666,
          226.66666666666666,
          227.66666666666666,
          237.33333333333334,
          246.66666666666666,
          263.3333333333333,
          273.3333333333333,
          284.6666666666667,
          289.3333333333333,
          305.6666666666667,
          308.6666666666667,
          324.6666666666667,
          331.6666666666667
         ],
         "yaxis": "y2"
        },
        {
         "error_y": {
          "array": [
           0,
           0,
           0,
           0,
           0,
           0,
           0,
           0,
           0,
           0,
           0,
           0,
           0,
           0,
           0,
           0,
           0,
           0.5773502691896247,
           0.5773502691896263,
           0,
           0,
           0.5773502691896263,
           0.5773502691896263,
           0,
           0,
           0,
           0,
           1,
           0.5773502691896278,
           1
          ]
         },
         "hovertemplate": "solver=L3_D8_best<br>type=lrnn_best<br>difficulty=0<br>problem=%{x}<br>plan_length_mean=%{y}<extra></extra>",
         "legendgroup": "L3_D8_best, lrnn_best",
         "line": {
          "color": "#FF6692",
          "dash": "dot"
         },
         "marker": {
          "symbol": "circle"
         },
         "mode": "lines",
         "name": "L3_D8_best, lrnn_best",
         "orientation": "v",
         "showlegend": true,
         "type": "scatter",
         "x": [
          "0_01",
          "0_02",
          "0_03",
          "0_04",
          "0_05",
          "0_06",
          "0_07",
          "0_08",
          "0_09",
          "0_10",
          "0_11",
          "0_12",
          "0_13",
          "0_14",
          "0_15",
          "0_16",
          "0_17",
          "0_18",
          "0_19",
          "0_20",
          "0_21",
          "0_22",
          "0_23",
          "0_24",
          "0_25",
          "0_26",
          "0_27",
          "0_28",
          "0_29",
          "0_30"
         ],
         "xaxis": "x",
         "y": [
          8,
          8,
          12,
          11,
          15,
          18,
          19,
          23,
          24,
          26,
          30,
          29,
          31,
          33,
          37,
          39,
          45,
          40.333333333333336,
          44.333333333333336,
          49,
          49,
          50.333333333333336,
          52.333333333333336,
          57,
          60,
          58,
          59,
          67,
          64.33333333333333,
          73
         ],
         "yaxis": "y"
        },
        {
         "error_y": {
          "array": [
           0,
           0,
           0,
           0,
           0,
           0,
           0,
           0,
           0,
           0.5773502691896278,
           0.5773502691896216,
           0,
           0,
           0.5773502691896278,
           0.5773502691896216,
           0.5773502691896216,
           0.5773502691896216,
           1.5275252316519428,
           0,
           2.0816659994661366,
           2.309401076758499,
           1.1547005383792557,
           0.5773502691896216,
           1.7320508075688772,
           1,
           2.3094010767585114,
           3.2145502536643265,
           4.618802153516998,
           4.932882862316256,
           3.7859388972001744
          ]
         },
         "hovertemplate": "solver=L3_D8_best<br>type=lrnn_best<br>difficulty=1<br>problem=%{x}<br>plan_length_mean=%{y}<extra></extra>",
         "legendgroup": "L3_D8_best, lrnn_best",
         "line": {
          "color": "#FF6692",
          "dash": "dot"
         },
         "marker": {
          "symbol": "circle"
         },
         "mode": "lines",
         "name": "L3_D8_best, lrnn_best",
         "orientation": "v",
         "showlegend": false,
         "type": "scatter",
         "x": [
          "1_01",
          "1_02",
          "1_03",
          "1_04",
          "1_05",
          "1_06",
          "1_07",
          "1_08",
          "1_09",
          "1_10",
          "1_11",
          "1_12",
          "1_13",
          "1_14",
          "1_15",
          "1_16",
          "1_17",
          "1_18",
          "1_19",
          "1_20",
          "1_21",
          "1_22",
          "1_23",
          "1_24",
          "1_25",
          "1_26",
          "1_27",
          "1_28",
          "1_29",
          "1_30"
         ],
         "xaxis": "x2",
         "y": [
          36,
          47,
          61,
          67,
          74,
          89,
          100,
          104,
          120,
          129.66666666666666,
          139.33333333333334,
          152,
          160,
          165.66666666666666,
          179.33333333333334,
          189.33333333333334,
          195.66666666666666,
          205.33333333333334,
          226,
          226.66666666666666,
          235.33333333333334,
          244.66666666666666,
          261.3333333333333,
          272,
          283,
          288.3333333333333,
          305.3333333333333,
          308.6666666666667,
          323.3333333333333,
          331.6666666666667
         ],
         "yaxis": "y2"
        },
        {
         "error_y": {
          "array": [
           0,
           0,
           0,
           0,
           0,
           0,
           0,
           0,
           0,
           0,
           0,
           0,
           0,
           0,
           0,
           0,
           0,
           1.154700538379251,
           0.5773502691896247,
           0.5773502691896263,
           0,
           0,
           0.5773502691896263,
           0,
           0,
           0,
           1.154700538379251,
           0.5773502691896278,
           0.5773502691896247,
           1
          ]
         },
         "hovertemplate": "solver=L3_D16_best<br>type=lrnn_best<br>difficulty=0<br>problem=%{x}<br>plan_length_mean=%{y}<extra></extra>",
         "legendgroup": "L3_D16_best, lrnn_best",
         "line": {
          "color": "#B6E880",
          "dash": "dot"
         },
         "marker": {
          "symbol": "circle"
         },
         "mode": "lines",
         "name": "L3_D16_best, lrnn_best",
         "orientation": "v",
         "showlegend": true,
         "type": "scatter",
         "x": [
          "0_01",
          "0_02",
          "0_03",
          "0_04",
          "0_05",
          "0_06",
          "0_07",
          "0_08",
          "0_09",
          "0_10",
          "0_11",
          "0_12",
          "0_13",
          "0_14",
          "0_15",
          "0_16",
          "0_17",
          "0_18",
          "0_19",
          "0_20",
          "0_21",
          "0_22",
          "0_23",
          "0_24",
          "0_25",
          "0_26",
          "0_27",
          "0_28",
          "0_29",
          "0_30"
         ],
         "xaxis": "x",
         "y": [
          8,
          8,
          12,
          11,
          15,
          18,
          19,
          23,
          24,
          26,
          30,
          29,
          31,
          33,
          37,
          39,
          45,
          40.666666666666664,
          44.333333333333336,
          49.333333333333336,
          49,
          50,
          52.333333333333336,
          57,
          60,
          58,
          59.666666666666664,
          66.33333333333333,
          64.33333333333333,
          73
         ],
         "yaxis": "y"
        },
        {
         "error_y": {
          "array": [
           0,
           0.5773502691896263,
           0,
           0,
           0,
           0,
           0,
           1.1547005383792526,
           1,
           0.5773502691896278,
           0.5773502691896278,
           1.1547005383792495,
           1.7320508075688772,
           1.1547005383792495,
           2.08166599946613,
           1.5275252316519474,
           0.5773502691896278,
           1.7320508075688772,
           0.5773502691896278,
           2.6457513110645907,
           2.6457513110645907,
           2,
           1.1547005383792557,
           3.605551275463989,
           2.309401076758499,
           3.7859388972001873,
           4.041451884327376,
           4.1633319989322635,
           4.61880215351701,
           2.309401076758499
          ]
         },
         "hovertemplate": "solver=L3_D16_best<br>type=lrnn_best<br>difficulty=1<br>problem=%{x}<br>plan_length_mean=%{y}<extra></extra>",
         "legendgroup": "L3_D16_best, lrnn_best",
         "line": {
          "color": "#B6E880",
          "dash": "dot"
         },
         "marker": {
          "symbol": "circle"
         },
         "mode": "lines",
         "name": "L3_D16_best, lrnn_best",
         "orientation": "v",
         "showlegend": false,
         "type": "scatter",
         "x": [
          "1_01",
          "1_02",
          "1_03",
          "1_04",
          "1_05",
          "1_06",
          "1_07",
          "1_08",
          "1_09",
          "1_10",
          "1_11",
          "1_12",
          "1_13",
          "1_14",
          "1_15",
          "1_16",
          "1_17",
          "1_18",
          "1_19",
          "1_20",
          "1_21",
          "1_22",
          "1_23",
          "1_24",
          "1_25",
          "1_26",
          "1_27",
          "1_28",
          "1_29",
          "1_30"
         ],
         "xaxis": "x2",
         "y": [
          36,
          47.333333333333336,
          61,
          67,
          74,
          89,
          100,
          104.66666666666667,
          121,
          129.33333333333334,
          139.33333333333334,
          152.66666666666666,
          161,
          165.66666666666666,
          180.66666666666666,
          191.66666666666666,
          196.33333333333334,
          205,
          226.33333333333334,
          227,
          236,
          246,
          261.6666666666667,
          274,
          283.3333333333333,
          289.6666666666667,
          305.3333333333333,
          310.3333333333333,
          322.6666666666667,
          330.3333333333333
         ],
         "yaxis": "y2"
        },
        {
         "error_y": {
          "array": [
           0,
           0,
           0,
           0.5773502691896258,
           0,
           1,
           0.5773502691896255,
           0,
           0.5773502691896255,
           0.5773502691896255,
           1.1547005383792517,
           0.5773502691896255,
           1,
           0.5773502691896263,
           0.5773502691896263,
           1.7320508075688772,
           0.5773502691896263,
           0,
           1,
           1.5275252316519468,
           1,
           0,
           0.5773502691896263,
           0.5773502691896263,
           1.1547005383792526,
           1.154700538379251,
           1,
           0,
           1.1547005383792526,
           1.5275252316519463
          ]
         },
         "hovertemplate": "solver=L3_D32_best<br>type=lrnn_best<br>difficulty=0<br>problem=%{x}<br>plan_length_mean=%{y}<extra></extra>",
         "legendgroup": "L3_D32_best, lrnn_best",
         "line": {
          "color": "#FF97FF",
          "dash": "dot"
         },
         "marker": {
          "symbol": "circle"
         },
         "mode": "lines",
         "name": "L3_D32_best, lrnn_best",
         "orientation": "v",
         "showlegend": true,
         "type": "scatter",
         "x": [
          "0_01",
          "0_02",
          "0_03",
          "0_04",
          "0_05",
          "0_06",
          "0_07",
          "0_08",
          "0_09",
          "0_10",
          "0_11",
          "0_12",
          "0_13",
          "0_14",
          "0_15",
          "0_16",
          "0_17",
          "0_18",
          "0_19",
          "0_20",
          "0_21",
          "0_22",
          "0_23",
          "0_24",
          "0_25",
          "0_26",
          "0_27",
          "0_28",
          "0_29",
          "0_30"
         ],
         "xaxis": "x",
         "y": [
          8,
          8,
          12,
          11.333333333333334,
          15,
          19,
          19.333333333333332,
          23,
          24.333333333333332,
          26.333333333333332,
          30.666666666666668,
          29.333333333333332,
          32,
          33.333333333333336,
          37.333333333333336,
          40,
          45.333333333333336,
          40,
          45,
          50.333333333333336,
          50,
          50,
          52.333333333333336,
          57.333333333333336,
          61.333333333333336,
          59.666666666666664,
          60,
          67,
          64.66666666666667,
          73.33333333333333
         ],
         "yaxis": "y"
        },
        {
         "error_y": {
          "array": [
           1,
           1,
           1.154700538379251,
           1.7320508075688772,
           2.081665999466134,
           1.1547005383792495,
           2,
           2.88675134594813,
           1.1547005383792526,
           1.5275252316519474,
           1.5275252316519499,
           1,
           1.7320508075688772,
           1.5275252316519499,
           2.5166114784235867,
           1,
           2.0816659994661366,
           1.1547005383792495,
           2.08166599946613,
           2.886751345948133,
           1,
           1,
           4.0414518843273814,
           0.5773502691896216,
           4.358898943540674,
           0.5773502691896216,
           2.309401076758499,
           1.5275252316519545,
           0.5773502691896216,
           3.5118845842842457
          ]
         },
         "hovertemplate": "solver=L3_D32_best<br>type=lrnn_best<br>difficulty=1<br>problem=%{x}<br>plan_length_mean=%{y}<extra></extra>",
         "legendgroup": "L3_D32_best, lrnn_best",
         "line": {
          "color": "#FF97FF",
          "dash": "dot"
         },
         "marker": {
          "symbol": "circle"
         },
         "mode": "lines",
         "name": "L3_D32_best, lrnn_best",
         "orientation": "v",
         "showlegend": false,
         "type": "scatter",
         "x": [
          "1_01",
          "1_02",
          "1_03",
          "1_04",
          "1_05",
          "1_06",
          "1_07",
          "1_08",
          "1_09",
          "1_10",
          "1_11",
          "1_12",
          "1_13",
          "1_14",
          "1_15",
          "1_16",
          "1_17",
          "1_18",
          "1_19",
          "1_20",
          "1_21",
          "1_22",
          "1_23",
          "1_24",
          "1_25",
          "1_26",
          "1_27",
          "1_28",
          "1_29",
          "1_30"
         ],
         "xaxis": "x2",
         "y": [
          37,
          48,
          61.666666666666664,
          68,
          76.66666666666667,
          90.33333333333333,
          102,
          105.66666666666667,
          123.33333333333333,
          130.66666666666666,
          141.33333333333334,
          155,
          162,
          168.33333333333334,
          182.33333333333334,
          192,
          198.33333333333334,
          208.33333333333334,
          229.66666666666666,
          228.66666666666666,
          238,
          246,
          266.6666666666667,
          275.3333333333333,
          288,
          291.3333333333333,
          308.3333333333333,
          310.3333333333333,
          326.6666666666667,
          334.6666666666667
         ],
         "yaxis": "y2"
        },
        {
         "error_y": {
          "array": [
           0,
           0,
           0,
           0,
           0,
           0,
           0,
           0,
           0,
           0,
           0,
           0,
           0,
           0.5773502691896247,
           0.5773502691896247,
           0,
           0,
           0.5773502691896247,
           1.1547005383792526,
           0.5773502691896263,
           0,
           0.5773502691896247,
           0.5773502691896247,
           0.5773502691896247,
           1.1547005383792526,
           1.1547005383792526,
           0.5773502691896247,
           1.1547005383792495,
           1,
           0
          ]
         },
         "hovertemplate": "solver=L4_D8_best<br>type=lrnn_best<br>difficulty=0<br>problem=%{x}<br>plan_length_mean=%{y}<extra></extra>",
         "legendgroup": "L4_D8_best, lrnn_best",
         "line": {
          "color": "#FECB52",
          "dash": "dot"
         },
         "marker": {
          "symbol": "circle"
         },
         "mode": "lines",
         "name": "L4_D8_best, lrnn_best",
         "orientation": "v",
         "showlegend": true,
         "type": "scatter",
         "x": [
          "0_01",
          "0_02",
          "0_03",
          "0_04",
          "0_05",
          "0_06",
          "0_07",
          "0_08",
          "0_09",
          "0_10",
          "0_11",
          "0_12",
          "0_13",
          "0_14",
          "0_15",
          "0_16",
          "0_17",
          "0_18",
          "0_19",
          "0_20",
          "0_21",
          "0_22",
          "0_23",
          "0_24",
          "0_25",
          "0_26",
          "0_27",
          "0_28",
          "0_29",
          "0_30"
         ],
         "xaxis": "x",
         "y": [
          8,
          8,
          12,
          11,
          15,
          18,
          19,
          23,
          24,
          26,
          30,
          29,
          31,
          33.333333333333336,
          37.333333333333336,
          39,
          45,
          40.333333333333336,
          44.666666666666664,
          49.333333333333336,
          49,
          50.333333333333336,
          52.333333333333336,
          57.333333333333336,
          60.666666666666664,
          58.666666666666664,
          59.333333333333336,
          66.66666666666667,
          65,
          73
         ],
         "yaxis": "y"
        },
        {
         "error_y": {
          "array": [
           0,
           0.5773502691896247,
           0.5773502691896247,
           1.1547005383792495,
           1.7320508075688772,
           1.7320508075688772,
           1.1547005383792495,
           0.5773502691896278,
           1.1547005383792495,
           1.7320508075688772,
           0.5773502691896216,
           1.1547005383792557,
           1.1547005383792557,
           2.309401076758499,
           1.7320508075688772,
           0.5773502691896216,
           2.886751345948133,
           0.5773502691896216,
           1.7320508075688772,
           1.1547005383792557,
           1.7320508075688772,
           1.7320508075688772,
           2.3094010767585114,
           2.8867513459481207,
           2.8867513459481207,
           0.577350269189634,
           2.3094010767585114,
           4.0414518843273886,
           2.3094010767585114,
           2.6457513110645907
          ]
         },
         "hovertemplate": "solver=L4_D8_best<br>type=lrnn_best<br>difficulty=1<br>problem=%{x}<br>plan_length_mean=%{y}<extra></extra>",
         "legendgroup": "L4_D8_best, lrnn_best",
         "line": {
          "color": "#FECB52",
          "dash": "dot"
         },
         "marker": {
          "symbol": "circle"
         },
         "mode": "lines",
         "name": "L4_D8_best, lrnn_best",
         "orientation": "v",
         "showlegend": false,
         "type": "scatter",
         "x": [
          "1_01",
          "1_02",
          "1_03",
          "1_04",
          "1_05",
          "1_06",
          "1_07",
          "1_08",
          "1_09",
          "1_10",
          "1_11",
          "1_12",
          "1_13",
          "1_14",
          "1_15",
          "1_16",
          "1_17",
          "1_18",
          "1_19",
          "1_20",
          "1_21",
          "1_22",
          "1_23",
          "1_24",
          "1_25",
          "1_26",
          "1_27",
          "1_28",
          "1_29",
          "1_30"
         ],
         "xaxis": "x2",
         "y": [
          36,
          47.333333333333336,
          61.333333333333336,
          67.66666666666667,
          75,
          90,
          100.66666666666667,
          104.33333333333333,
          120.66666666666667,
          130,
          139.33333333333334,
          152.66666666666666,
          160.66666666666666,
          166.33333333333334,
          180,
          189.33333333333334,
          196.66666666666666,
          204.33333333333334,
          227,
          225.66666666666666,
          235,
          245,
          262.3333333333333,
          272.6666666666667,
          283.6666666666667,
          287.3333333333333,
          304.3333333333333,
          308.3333333333333,
          321.3333333333333,
          331
         ],
         "yaxis": "y2"
        },
        {
         "error_y": {
          "array": [
           0,
           0,
           0,
           0,
           0,
           0,
           0,
           0,
           0,
           0,
           0,
           0,
           0,
           0.5773502691896263,
           0,
           0,
           0,
           0,
           0.5773502691896263,
           0,
           0,
           0,
           0.5773502691896263,
           0,
           0,
           0,
           0,
           0.5773502691896247,
           0,
           0.5773502691896247
          ]
         },
         "hovertemplate": "solver=L4_D16_best<br>type=lrnn_best<br>difficulty=0<br>problem=%{x}<br>plan_length_mean=%{y}<extra></extra>",
         "legendgroup": "L4_D16_best, lrnn_best",
         "line": {
          "color": "#636efa",
          "dash": "dot"
         },
         "marker": {
          "symbol": "circle"
         },
         "mode": "lines",
         "name": "L4_D16_best, lrnn_best",
         "orientation": "v",
         "showlegend": true,
         "type": "scatter",
         "x": [
          "0_01",
          "0_02",
          "0_03",
          "0_04",
          "0_05",
          "0_06",
          "0_07",
          "0_08",
          "0_09",
          "0_10",
          "0_11",
          "0_12",
          "0_13",
          "0_14",
          "0_15",
          "0_16",
          "0_17",
          "0_18",
          "0_19",
          "0_20",
          "0_21",
          "0_22",
          "0_23",
          "0_24",
          "0_25",
          "0_26",
          "0_27",
          "0_28",
          "0_29",
          "0_30"
         ],
         "xaxis": "x",
         "y": [
          8,
          8,
          12,
          11,
          15,
          18,
          19,
          23,
          24,
          26,
          30,
          29,
          31,
          33.333333333333336,
          37,
          39,
          45,
          40,
          44.333333333333336,
          49,
          49,
          50,
          52.333333333333336,
          57,
          60,
          58,
          59,
          66.66666666666667,
          64,
          72.66666666666667
         ],
         "yaxis": "y"
        },
        {
         "error_y": {
          "array": [
           0,
           0,
           0,
           0,
           0,
           0,
           0,
           0,
           1.1547005383792526,
           0,
           0.5773502691896278,
           0,
           0,
           1,
           1.1547005383792495,
           1,
           1,
           0.5773502691896216,
           0.5773502691896278,
           0.5773502691896278,
           1.5275252316519499,
           0,
           2,
           1.1547005383792557,
           0.577350269189634,
           1,
           1.1547005383792557,
           1.5275252316519452,
           2.886751345948133,
           2.309401076758499
          ]
         },
         "hovertemplate": "solver=L4_D16_best<br>type=lrnn_best<br>difficulty=1<br>problem=%{x}<br>plan_length_mean=%{y}<extra></extra>",
         "legendgroup": "L4_D16_best, lrnn_best",
         "line": {
          "color": "#636efa",
          "dash": "dot"
         },
         "marker": {
          "symbol": "circle"
         },
         "mode": "lines",
         "name": "L4_D16_best, lrnn_best",
         "orientation": "v",
         "showlegend": false,
         "type": "scatter",
         "x": [
          "1_01",
          "1_02",
          "1_03",
          "1_04",
          "1_05",
          "1_06",
          "1_07",
          "1_08",
          "1_09",
          "1_10",
          "1_11",
          "1_12",
          "1_13",
          "1_14",
          "1_15",
          "1_16",
          "1_17",
          "1_18",
          "1_19",
          "1_20",
          "1_21",
          "1_22",
          "1_23",
          "1_24",
          "1_25",
          "1_26",
          "1_27",
          "1_28",
          "1_29",
          "1_30"
         ],
         "xaxis": "x2",
         "y": [
          36,
          47,
          61,
          67,
          74,
          89,
          100,
          104,
          120.66666666666667,
          129,
          139.33333333333334,
          152,
          160,
          166,
          179.66666666666666,
          190,
          196,
          204.66666666666666,
          226.33333333333334,
          225.33333333333334,
          236.33333333333334,
          245,
          263,
          271.6666666666667,
          282.6666666666667,
          288,
          304.6666666666667,
          307.3333333333333,
          322.6666666666667,
          330.3333333333333
         ],
         "yaxis": "y2"
        },
        {
         "error_y": {
          "array": [
           0,
           0,
           0,
           0,
           0,
           0,
           0,
           0.5773502691896263,
           0,
           0.5773502691896255,
           0.5773502691896255,
           0.5773502691896255,
           0,
           0.5773502691896263,
           0,
           1,
           0,
           1,
           1.5275252316519468,
           1.154700538379251,
           0.5773502691896263,
           1,
           0.5773502691896263,
           0.5773502691896263,
           0.5773502691896263,
           0.5773502691896263,
           0.5773502691896263,
           1,
           1,
           1
          ]
         },
         "hovertemplate": "solver=L4_D32_best<br>type=lrnn_best<br>difficulty=0<br>problem=%{x}<br>plan_length_mean=%{y}<extra></extra>",
         "legendgroup": "L4_D32_best, lrnn_best",
         "line": {
          "color": "#EF553B",
          "dash": "dot"
         },
         "marker": {
          "symbol": "circle"
         },
         "mode": "lines",
         "name": "L4_D32_best, lrnn_best",
         "orientation": "v",
         "showlegend": true,
         "type": "scatter",
         "x": [
          "0_01",
          "0_02",
          "0_03",
          "0_04",
          "0_05",
          "0_06",
          "0_07",
          "0_08",
          "0_09",
          "0_10",
          "0_11",
          "0_12",
          "0_13",
          "0_14",
          "0_15",
          "0_16",
          "0_17",
          "0_18",
          "0_19",
          "0_20",
          "0_21",
          "0_22",
          "0_23",
          "0_24",
          "0_25",
          "0_26",
          "0_27",
          "0_28",
          "0_29",
          "0_30"
         ],
         "xaxis": "x",
         "y": [
          8,
          8,
          12,
          11,
          15,
          18,
          19,
          23.666666666666668,
          24,
          26.333333333333332,
          30.333333333333332,
          29.333333333333332,
          31,
          33.333333333333336,
          37,
          40,
          45,
          41,
          45.333333333333336,
          49.666666666666664,
          49.333333333333336,
          51,
          52.333333333333336,
          57.333333333333336,
          60.333333333333336,
          58.333333333333336,
          59.333333333333336,
          67,
          65,
          74
         ],
         "yaxis": "y"
        },
        {
         "error_y": {
          "array": [
           0,
           0.5773502691896247,
           0,
           0,
           0,
           0.5773502691896247,
           0,
           0,
           0.5773502691896247,
           1,
           0.5773502691896216,
           0.5773502691896216,
           1.1547005383792557,
           3.4641016151377544,
           1.7320508075688772,
           1.7320508075688772,
           2.08166599946613,
           3.0550504633038926,
           1.5275252316519474,
           2.5166114784235836,
           3,
           2.0816659994661317,
           1.5275252316519452,
           2.6457513110645907,
           4.58257569495584,
           1.7320508075688772,
           3.055050463303895,
           4.932882862316244,
           7.5055534994651305,
           4.0414518843273814
          ]
         },
         "hovertemplate": "solver=L4_D32_best<br>type=lrnn_best<br>difficulty=1<br>problem=%{x}<br>plan_length_mean=%{y}<extra></extra>",
         "legendgroup": "L4_D32_best, lrnn_best",
         "line": {
          "color": "#EF553B",
          "dash": "dot"
         },
         "marker": {
          "symbol": "circle"
         },
         "mode": "lines",
         "name": "L4_D32_best, lrnn_best",
         "orientation": "v",
         "showlegend": false,
         "type": "scatter",
         "x": [
          "1_01",
          "1_02",
          "1_03",
          "1_04",
          "1_05",
          "1_06",
          "1_07",
          "1_08",
          "1_09",
          "1_10",
          "1_11",
          "1_12",
          "1_13",
          "1_14",
          "1_15",
          "1_16",
          "1_17",
          "1_18",
          "1_19",
          "1_20",
          "1_21",
          "1_22",
          "1_23",
          "1_24",
          "1_25",
          "1_26",
          "1_27",
          "1_28",
          "1_29",
          "1_30"
         ],
         "xaxis": "x2",
         "y": [
          36,
          47.666666666666664,
          61,
          67,
          74,
          89.33333333333333,
          100,
          104,
          121.66666666666667,
          130,
          140.33333333333334,
          152.66666666666666,
          161.33333333333334,
          168,
          180,
          191,
          196.66666666666666,
          206.66666666666666,
          228.66666666666666,
          227.33333333333334,
          237,
          246.66666666666666,
          263.3333333333333,
          275,
          286,
          289,
          306.6666666666667,
          309.3333333333333,
          326.3333333333333,
          333.6666666666667
         ],
         "yaxis": "y2"
        }
       ],
       "layout": {
        "annotations": [
         {
          "font": {},
          "showarrow": false,
          "text": "difficulty=0",
          "x": 0.245,
          "xanchor": "center",
          "xref": "paper",
          "y": 1,
          "yanchor": "bottom",
          "yref": "paper"
         },
         {
          "font": {},
          "showarrow": false,
          "text": "difficulty=1",
          "x": 0.755,
          "xanchor": "center",
          "xref": "paper",
          "y": 1,
          "yanchor": "bottom",
          "yref": "paper"
         }
        ],
        "legend": {
         "title": {
          "text": "solver, type"
         },
         "tracegroupgap": 0
        },
        "margin": {
         "t": 60
        },
        "template": {
         "data": {
          "bar": [
           {
            "error_x": {
             "color": "#2a3f5f"
            },
            "error_y": {
             "color": "#2a3f5f"
            },
            "marker": {
             "line": {
              "color": "#E5ECF6",
              "width": 0.5
             },
             "pattern": {
              "fillmode": "overlay",
              "size": 10,
              "solidity": 0.2
             }
            },
            "type": "bar"
           }
          ],
          "barpolar": [
           {
            "marker": {
             "line": {
              "color": "#E5ECF6",
              "width": 0.5
             },
             "pattern": {
              "fillmode": "overlay",
              "size": 10,
              "solidity": 0.2
             }
            },
            "type": "barpolar"
           }
          ],
          "carpet": [
           {
            "aaxis": {
             "endlinecolor": "#2a3f5f",
             "gridcolor": "white",
             "linecolor": "white",
             "minorgridcolor": "white",
             "startlinecolor": "#2a3f5f"
            },
            "baxis": {
             "endlinecolor": "#2a3f5f",
             "gridcolor": "white",
             "linecolor": "white",
             "minorgridcolor": "white",
             "startlinecolor": "#2a3f5f"
            },
            "type": "carpet"
           }
          ],
          "choropleth": [
           {
            "colorbar": {
             "outlinewidth": 0,
             "ticks": ""
            },
            "type": "choropleth"
           }
          ],
          "contour": [
           {
            "colorbar": {
             "outlinewidth": 0,
             "ticks": ""
            },
            "colorscale": [
             [
              0,
              "#0d0887"
             ],
             [
              0.1111111111111111,
              "#46039f"
             ],
             [
              0.2222222222222222,
              "#7201a8"
             ],
             [
              0.3333333333333333,
              "#9c179e"
             ],
             [
              0.4444444444444444,
              "#bd3786"
             ],
             [
              0.5555555555555556,
              "#d8576b"
             ],
             [
              0.6666666666666666,
              "#ed7953"
             ],
             [
              0.7777777777777778,
              "#fb9f3a"
             ],
             [
              0.8888888888888888,
              "#fdca26"
             ],
             [
              1,
              "#f0f921"
             ]
            ],
            "type": "contour"
           }
          ],
          "contourcarpet": [
           {
            "colorbar": {
             "outlinewidth": 0,
             "ticks": ""
            },
            "type": "contourcarpet"
           }
          ],
          "heatmap": [
           {
            "colorbar": {
             "outlinewidth": 0,
             "ticks": ""
            },
            "colorscale": [
             [
              0,
              "#0d0887"
             ],
             [
              0.1111111111111111,
              "#46039f"
             ],
             [
              0.2222222222222222,
              "#7201a8"
             ],
             [
              0.3333333333333333,
              "#9c179e"
             ],
             [
              0.4444444444444444,
              "#bd3786"
             ],
             [
              0.5555555555555556,
              "#d8576b"
             ],
             [
              0.6666666666666666,
              "#ed7953"
             ],
             [
              0.7777777777777778,
              "#fb9f3a"
             ],
             [
              0.8888888888888888,
              "#fdca26"
             ],
             [
              1,
              "#f0f921"
             ]
            ],
            "type": "heatmap"
           }
          ],
          "heatmapgl": [
           {
            "colorbar": {
             "outlinewidth": 0,
             "ticks": ""
            },
            "colorscale": [
             [
              0,
              "#0d0887"
             ],
             [
              0.1111111111111111,
              "#46039f"
             ],
             [
              0.2222222222222222,
              "#7201a8"
             ],
             [
              0.3333333333333333,
              "#9c179e"
             ],
             [
              0.4444444444444444,
              "#bd3786"
             ],
             [
              0.5555555555555556,
              "#d8576b"
             ],
             [
              0.6666666666666666,
              "#ed7953"
             ],
             [
              0.7777777777777778,
              "#fb9f3a"
             ],
             [
              0.8888888888888888,
              "#fdca26"
             ],
             [
              1,
              "#f0f921"
             ]
            ],
            "type": "heatmapgl"
           }
          ],
          "histogram": [
           {
            "marker": {
             "pattern": {
              "fillmode": "overlay",
              "size": 10,
              "solidity": 0.2
             }
            },
            "type": "histogram"
           }
          ],
          "histogram2d": [
           {
            "colorbar": {
             "outlinewidth": 0,
             "ticks": ""
            },
            "colorscale": [
             [
              0,
              "#0d0887"
             ],
             [
              0.1111111111111111,
              "#46039f"
             ],
             [
              0.2222222222222222,
              "#7201a8"
             ],
             [
              0.3333333333333333,
              "#9c179e"
             ],
             [
              0.4444444444444444,
              "#bd3786"
             ],
             [
              0.5555555555555556,
              "#d8576b"
             ],
             [
              0.6666666666666666,
              "#ed7953"
             ],
             [
              0.7777777777777778,
              "#fb9f3a"
             ],
             [
              0.8888888888888888,
              "#fdca26"
             ],
             [
              1,
              "#f0f921"
             ]
            ],
            "type": "histogram2d"
           }
          ],
          "histogram2dcontour": [
           {
            "colorbar": {
             "outlinewidth": 0,
             "ticks": ""
            },
            "colorscale": [
             [
              0,
              "#0d0887"
             ],
             [
              0.1111111111111111,
              "#46039f"
             ],
             [
              0.2222222222222222,
              "#7201a8"
             ],
             [
              0.3333333333333333,
              "#9c179e"
             ],
             [
              0.4444444444444444,
              "#bd3786"
             ],
             [
              0.5555555555555556,
              "#d8576b"
             ],
             [
              0.6666666666666666,
              "#ed7953"
             ],
             [
              0.7777777777777778,
              "#fb9f3a"
             ],
             [
              0.8888888888888888,
              "#fdca26"
             ],
             [
              1,
              "#f0f921"
             ]
            ],
            "type": "histogram2dcontour"
           }
          ],
          "mesh3d": [
           {
            "colorbar": {
             "outlinewidth": 0,
             "ticks": ""
            },
            "type": "mesh3d"
           }
          ],
          "parcoords": [
           {
            "line": {
             "colorbar": {
              "outlinewidth": 0,
              "ticks": ""
             }
            },
            "type": "parcoords"
           }
          ],
          "pie": [
           {
            "automargin": true,
            "type": "pie"
           }
          ],
          "scatter": [
           {
            "fillpattern": {
             "fillmode": "overlay",
             "size": 10,
             "solidity": 0.2
            },
            "type": "scatter"
           }
          ],
          "scatter3d": [
           {
            "line": {
             "colorbar": {
              "outlinewidth": 0,
              "ticks": ""
             }
            },
            "marker": {
             "colorbar": {
              "outlinewidth": 0,
              "ticks": ""
             }
            },
            "type": "scatter3d"
           }
          ],
          "scattercarpet": [
           {
            "marker": {
             "colorbar": {
              "outlinewidth": 0,
              "ticks": ""
             }
            },
            "type": "scattercarpet"
           }
          ],
          "scattergeo": [
           {
            "marker": {
             "colorbar": {
              "outlinewidth": 0,
              "ticks": ""
             }
            },
            "type": "scattergeo"
           }
          ],
          "scattergl": [
           {
            "marker": {
             "colorbar": {
              "outlinewidth": 0,
              "ticks": ""
             }
            },
            "type": "scattergl"
           }
          ],
          "scattermapbox": [
           {
            "marker": {
             "colorbar": {
              "outlinewidth": 0,
              "ticks": ""
             }
            },
            "type": "scattermapbox"
           }
          ],
          "scatterpolar": [
           {
            "marker": {
             "colorbar": {
              "outlinewidth": 0,
              "ticks": ""
             }
            },
            "type": "scatterpolar"
           }
          ],
          "scatterpolargl": [
           {
            "marker": {
             "colorbar": {
              "outlinewidth": 0,
              "ticks": ""
             }
            },
            "type": "scatterpolargl"
           }
          ],
          "scatterternary": [
           {
            "marker": {
             "colorbar": {
              "outlinewidth": 0,
              "ticks": ""
             }
            },
            "type": "scatterternary"
           }
          ],
          "surface": [
           {
            "colorbar": {
             "outlinewidth": 0,
             "ticks": ""
            },
            "colorscale": [
             [
              0,
              "#0d0887"
             ],
             [
              0.1111111111111111,
              "#46039f"
             ],
             [
              0.2222222222222222,
              "#7201a8"
             ],
             [
              0.3333333333333333,
              "#9c179e"
             ],
             [
              0.4444444444444444,
              "#bd3786"
             ],
             [
              0.5555555555555556,
              "#d8576b"
             ],
             [
              0.6666666666666666,
              "#ed7953"
             ],
             [
              0.7777777777777778,
              "#fb9f3a"
             ],
             [
              0.8888888888888888,
              "#fdca26"
             ],
             [
              1,
              "#f0f921"
             ]
            ],
            "type": "surface"
           }
          ],
          "table": [
           {
            "cells": {
             "fill": {
              "color": "#EBF0F8"
             },
             "line": {
              "color": "white"
             }
            },
            "header": {
             "fill": {
              "color": "#C8D4E3"
             },
             "line": {
              "color": "white"
             }
            },
            "type": "table"
           }
          ]
         },
         "layout": {
          "annotationdefaults": {
           "arrowcolor": "#2a3f5f",
           "arrowhead": 0,
           "arrowwidth": 1
          },
          "autotypenumbers": "strict",
          "coloraxis": {
           "colorbar": {
            "outlinewidth": 0,
            "ticks": ""
           }
          },
          "colorscale": {
           "diverging": [
            [
             0,
             "#8e0152"
            ],
            [
             0.1,
             "#c51b7d"
            ],
            [
             0.2,
             "#de77ae"
            ],
            [
             0.3,
             "#f1b6da"
            ],
            [
             0.4,
             "#fde0ef"
            ],
            [
             0.5,
             "#f7f7f7"
            ],
            [
             0.6,
             "#e6f5d0"
            ],
            [
             0.7,
             "#b8e186"
            ],
            [
             0.8,
             "#7fbc41"
            ],
            [
             0.9,
             "#4d9221"
            ],
            [
             1,
             "#276419"
            ]
           ],
           "sequential": [
            [
             0,
             "#0d0887"
            ],
            [
             0.1111111111111111,
             "#46039f"
            ],
            [
             0.2222222222222222,
             "#7201a8"
            ],
            [
             0.3333333333333333,
             "#9c179e"
            ],
            [
             0.4444444444444444,
             "#bd3786"
            ],
            [
             0.5555555555555556,
             "#d8576b"
            ],
            [
             0.6666666666666666,
             "#ed7953"
            ],
            [
             0.7777777777777778,
             "#fb9f3a"
            ],
            [
             0.8888888888888888,
             "#fdca26"
            ],
            [
             1,
             "#f0f921"
            ]
           ],
           "sequentialminus": [
            [
             0,
             "#0d0887"
            ],
            [
             0.1111111111111111,
             "#46039f"
            ],
            [
             0.2222222222222222,
             "#7201a8"
            ],
            [
             0.3333333333333333,
             "#9c179e"
            ],
            [
             0.4444444444444444,
             "#bd3786"
            ],
            [
             0.5555555555555556,
             "#d8576b"
            ],
            [
             0.6666666666666666,
             "#ed7953"
            ],
            [
             0.7777777777777778,
             "#fb9f3a"
            ],
            [
             0.8888888888888888,
             "#fdca26"
            ],
            [
             1,
             "#f0f921"
            ]
           ]
          },
          "colorway": [
           "#636efa",
           "#EF553B",
           "#00cc96",
           "#ab63fa",
           "#FFA15A",
           "#19d3f3",
           "#FF6692",
           "#B6E880",
           "#FF97FF",
           "#FECB52"
          ],
          "font": {
           "color": "#2a3f5f"
          },
          "geo": {
           "bgcolor": "white",
           "lakecolor": "white",
           "landcolor": "#E5ECF6",
           "showlakes": true,
           "showland": true,
           "subunitcolor": "white"
          },
          "hoverlabel": {
           "align": "left"
          },
          "hovermode": "closest",
          "mapbox": {
           "style": "light"
          },
          "paper_bgcolor": "white",
          "plot_bgcolor": "#E5ECF6",
          "polar": {
           "angularaxis": {
            "gridcolor": "white",
            "linecolor": "white",
            "ticks": ""
           },
           "bgcolor": "#E5ECF6",
           "radialaxis": {
            "gridcolor": "white",
            "linecolor": "white",
            "ticks": ""
           }
          },
          "scene": {
           "xaxis": {
            "backgroundcolor": "#E5ECF6",
            "gridcolor": "white",
            "gridwidth": 2,
            "linecolor": "white",
            "showbackground": true,
            "ticks": "",
            "zerolinecolor": "white"
           },
           "yaxis": {
            "backgroundcolor": "#E5ECF6",
            "gridcolor": "white",
            "gridwidth": 2,
            "linecolor": "white",
            "showbackground": true,
            "ticks": "",
            "zerolinecolor": "white"
           },
           "zaxis": {
            "backgroundcolor": "#E5ECF6",
            "gridcolor": "white",
            "gridwidth": 2,
            "linecolor": "white",
            "showbackground": true,
            "ticks": "",
            "zerolinecolor": "white"
           }
          },
          "shapedefaults": {
           "line": {
            "color": "#2a3f5f"
           }
          },
          "ternary": {
           "aaxis": {
            "gridcolor": "white",
            "linecolor": "white",
            "ticks": ""
           },
           "baxis": {
            "gridcolor": "white",
            "linecolor": "white",
            "ticks": ""
           },
           "bgcolor": "#E5ECF6",
           "caxis": {
            "gridcolor": "white",
            "linecolor": "white",
            "ticks": ""
           }
          },
          "title": {
           "x": 0.05
          },
          "xaxis": {
           "automargin": true,
           "gridcolor": "white",
           "linecolor": "white",
           "ticks": "",
           "title": {
            "standoff": 15
           },
           "zerolinecolor": "white",
           "zerolinewidth": 2
          },
          "yaxis": {
           "automargin": true,
           "gridcolor": "white",
           "linecolor": "white",
           "ticks": "",
           "title": {
            "standoff": 15
           },
           "zerolinecolor": "white",
           "zerolinewidth": 2
          }
         }
        },
        "xaxis": {
         "anchor": "y",
         "categoryarray": [
          "0_01",
          "0_02",
          "0_03",
          "0_04",
          "0_05",
          "0_06",
          "0_07",
          "0_08",
          "0_09",
          "0_10",
          "0_11",
          "0_12",
          "0_13",
          "0_14",
          "0_15",
          "0_16",
          "0_17",
          "0_18",
          "0_19",
          "0_20",
          "0_21",
          "0_22",
          "0_23",
          "0_24",
          "0_25",
          "0_26",
          "0_27",
          "0_28",
          "0_29",
          "0_30",
          "1_01",
          "1_02",
          "1_03",
          "1_04",
          "1_05",
          "1_06",
          "1_07",
          "1_08",
          "1_09",
          "1_10",
          "1_11",
          "1_12",
          "1_13",
          "1_14",
          "1_15",
          "1_16",
          "1_17",
          "1_18",
          "1_19",
          "1_20",
          "1_21",
          "1_22",
          "1_23",
          "1_24",
          "1_25",
          "1_26",
          "1_27",
          "1_28",
          "1_29",
          "1_30"
         ],
         "categoryorder": "array",
         "domain": [
          0,
          0.49
         ],
         "showticklabels": true,
         "title": {
          "text": "problem"
         }
        },
        "xaxis2": {
         "anchor": "y2",
         "categoryarray": [
          "0_01",
          "0_02",
          "0_03",
          "0_04",
          "0_05",
          "0_06",
          "0_07",
          "0_08",
          "0_09",
          "0_10",
          "0_11",
          "0_12",
          "0_13",
          "0_14",
          "0_15",
          "0_16",
          "0_17",
          "0_18",
          "0_19",
          "0_20",
          "0_21",
          "0_22",
          "0_23",
          "0_24",
          "0_25",
          "0_26",
          "0_27",
          "0_28",
          "0_29",
          "0_30",
          "1_01",
          "1_02",
          "1_03",
          "1_04",
          "1_05",
          "1_06",
          "1_07",
          "1_08",
          "1_09",
          "1_10",
          "1_11",
          "1_12",
          "1_13",
          "1_14",
          "1_15",
          "1_16",
          "1_17",
          "1_18",
          "1_19",
          "1_20",
          "1_21",
          "1_22",
          "1_23",
          "1_24",
          "1_25",
          "1_26",
          "1_27",
          "1_28",
          "1_29",
          "1_30"
         ],
         "categoryorder": "array",
         "domain": [
          0.51,
          1
         ],
         "showticklabels": true,
         "title": {
          "text": "problem"
         }
        },
        "yaxis": {
         "anchor": "x",
         "domain": [
          0,
          1
         ],
         "showticklabels": true,
         "title": {
          "text": "plan_length_mean"
         }
        },
        "yaxis2": {
         "anchor": "x2",
         "domain": [
          0,
          1
         ],
         "showticklabels": true
        }
       }
      }
     },
     "metadata": {},
     "output_type": "display_data"
    },
    {
     "name": "stdout",
     "output_type": "stream",
     "text": [
      "satellite\n"
     ]
    },
    {
     "data": {
      "application/vnd.plotly.v1+json": {
       "config": {
        "plotlyServerURL": "https://plot.ly"
       },
       "data": [
        {
         "error_y": {
          "array": [
           0.5773502691896258,
           0.5773502691896255,
           1.5275252316519468,
           1.5275252316519468,
           0.5773502691896258,
           1,
           1,
           2,
           1.1547005383792517,
           0.5773502691896263,
           1.5275252316519472,
           0.5773502691896255,
           2.6457513110645907,
           2,
           1,
           2.081665999466133,
           1.7320508075688772,
           0.5773502691896263,
           2.0816659994661326,
           4.618802153517007,
           2.0816659994661335,
           2.516611478423584,
           2.081665999466132,
           2.5166114784235836,
           5.686240703077328,
           2,
           2,
           5.5677643628300215,
           4.04145188432738,
           4.618802153517006
          ]
         },
         "hovertemplate": "solver=baseline<br>type=bounds<br>difficulty=0<br>problem=%{x}<br>plan_length_mean=%{y}<extra></extra>",
         "legendgroup": "baseline, bounds",
         "line": {
          "color": "#636efa",
          "dash": "solid"
         },
         "marker": {
          "symbol": "circle"
         },
         "mode": "lines",
         "name": "baseline, bounds",
         "orientation": "v",
         "showlegend": true,
         "type": "scatter",
         "x": [
          "0_01",
          "0_02",
          "0_03",
          "0_04",
          "0_05",
          "0_06",
          "0_07",
          "0_08",
          "0_09",
          "0_10",
          "0_11",
          "0_12",
          "0_13",
          "0_14",
          "0_15",
          "0_16",
          "0_17",
          "0_18",
          "0_19",
          "0_20",
          "0_21",
          "0_22",
          "0_23",
          "0_24",
          "0_25",
          "0_26",
          "0_27",
          "0_28",
          "0_29",
          "0_30"
         ],
         "xaxis": "x",
         "y": [
          5.333333333333333,
          10.333333333333334,
          12.333333333333334,
          8.333333333333334,
          14.333333333333334,
          16,
          15,
          15,
          17.666666666666668,
          16.666666666666668,
          30.333333333333332,
          19.666666666666668,
          16,
          28,
          27,
          31.333333333333332,
          37,
          23.333333333333332,
          38.333333333333336,
          49.666666666666664,
          49.333333333333336,
          47.333333333333336,
          35.666666666666664,
          20.666666666666668,
          42.333333333333336,
          64,
          55,
          55,
          22.666666666666668,
          44.666666666666664
         ],
         "yaxis": "y"
        },
        {
         "error_y": {
          "array": [
           3.4641016151377544,
           9.865765724632496,
           6.928203230275509,
           5,
           2.88675134594813,
           2.6457513110645907,
           4.58257569495584,
           7.54983443527075,
           7.505553499465134,
           2.6457513110645907,
           6.557438524302,
           6.110100926607786,
           5.291502622129181,
           3.2145502536643145,
           6.082762530298219,
           6.429100507328634,
           9.504384952922168,
           3.7859388972001833,
           3.7859388972001797,
           5.686240703077331,
           8.082903768654758,
           7,
           9.29157324317757,
           11.789826122551595,
           2,
           2.6457513110645907,
           11.59022576714248,
           8.888194417315589,
           6.42910050732864,
           5.686240703077326
          ]
         },
         "hovertemplate": "solver=baseline<br>type=bounds<br>difficulty=1<br>problem=%{x}<br>plan_length_mean=%{y}<extra></extra>",
         "legendgroup": "baseline, bounds",
         "line": {
          "color": "#636efa",
          "dash": "solid"
         },
         "marker": {
          "symbol": "circle"
         },
         "mode": "lines",
         "name": "baseline, bounds",
         "orientation": "v",
         "showlegend": false,
         "type": "scatter",
         "x": [
          "1_01",
          "1_02",
          "1_03",
          "1_04",
          "1_05",
          "1_06",
          "1_07",
          "1_08",
          "1_09",
          "1_10",
          "1_11",
          "1_12",
          "1_13",
          "1_14",
          "1_15",
          "1_16",
          "1_17",
          "1_18",
          "1_19",
          "1_20",
          "1_21",
          "1_22",
          "1_23",
          "1_24",
          "1_25",
          "1_26",
          "1_27",
          "1_28",
          "1_29",
          "1_30"
         ],
         "xaxis": "x2",
         "y": [
          93,
          99.66666666666667,
          93,
          109,
          88.66666666666667,
          106,
          119,
          30,
          106.66666666666667,
          54,
          173,
          121.33333333333333,
          156,
          154.66666666666666,
          60,
          175.66666666666666,
          110.66666666666667,
          74.33333333333333,
          174.66666666666666,
          222.33333333333334,
          208.33333333333334,
          208,
          107.33333333333333,
          249,
          121,
          235,
          271.3333333333333,
          87,
          266.6666666666667,
          146.66666666666666
         ],
         "yaxis": "y2"
        },
        {
         "error_y": {
          "array": [
           null,
           null,
           null,
           null,
           null,
           null,
           null,
           null,
           null,
           null,
           null,
           null,
           null,
           null,
           null,
           null,
           null,
           null,
           null,
           null,
           null,
           null,
           null,
           null,
           null,
           null,
           null,
           null,
           null,
           null
          ]
         },
         "hovertemplate": "solver=optimal<br>type=bounds<br>difficulty=0<br>problem=%{x}<br>plan_length_mean=%{y}<extra></extra>",
         "legendgroup": "optimal, bounds",
         "line": {
          "color": "#EF553B",
          "dash": "solid"
         },
         "marker": {
          "symbol": "circle"
         },
         "mode": "lines",
         "name": "optimal, bounds",
         "orientation": "v",
         "showlegend": true,
         "type": "scatter",
         "x": [
          "0_01",
          "0_02",
          "0_03",
          "0_04",
          "0_05",
          "0_06",
          "0_07",
          "0_08",
          "0_09",
          "0_10",
          "0_11",
          "0_12",
          "0_13",
          "0_14",
          "0_15",
          "0_16",
          "0_17",
          "0_18",
          "0_19",
          "0_20",
          "0_21",
          "0_22",
          "0_23",
          "0_24",
          "0_25",
          "0_26",
          "0_27",
          "0_28",
          "0_29",
          "0_30"
         ],
         "xaxis": "x",
         "y": [
          4,
          8,
          8,
          5,
          9,
          10,
          10,
          8,
          9,
          8,
          17,
          11,
          8,
          18,
          13,
          21,
          21,
          12,
          25,
          30,
          30,
          29,
          18,
          11,
          26,
          null,
          null,
          null,
          12,
          null
         ],
         "yaxis": "y"
        },
        {
         "error_y": {
          "array": [
           null,
           null,
           null,
           null,
           null,
           null,
           null,
           null,
           null,
           null,
           null,
           null,
           null,
           null,
           null,
           null,
           null,
           null,
           null,
           null,
           null,
           null,
           null,
           null,
           null,
           null,
           null,
           null,
           null,
           null
          ]
         },
         "hovertemplate": "solver=optimal<br>type=bounds<br>difficulty=1<br>problem=%{x}<br>plan_length_mean=%{y}<extra></extra>",
         "legendgroup": "optimal, bounds",
         "line": {
          "color": "#EF553B",
          "dash": "solid"
         },
         "marker": {
          "symbol": "circle"
         },
         "mode": "lines",
         "name": "optimal, bounds",
         "orientation": "v",
         "showlegend": false,
         "type": "scatter",
         "x": [
          "1_01",
          "1_02",
          "1_03",
          "1_04",
          "1_05",
          "1_06",
          "1_07",
          "1_08",
          "1_09",
          "1_10",
          "1_11",
          "1_12",
          "1_13",
          "1_14",
          "1_15",
          "1_16",
          "1_17",
          "1_18",
          "1_19",
          "1_20",
          "1_21",
          "1_22",
          "1_23",
          "1_24",
          "1_25",
          "1_26",
          "1_27",
          "1_28",
          "1_29",
          "1_30"
         ],
         "xaxis": "x2",
         "y": [
          null,
          null,
          null,
          null,
          null,
          null,
          null,
          12,
          null,
          21,
          null,
          null,
          null,
          null,
          22,
          null,
          null,
          null,
          null,
          null,
          null,
          null,
          null,
          null,
          null,
          null,
          null,
          null,
          null,
          null
         ],
         "yaxis": "y2"
        },
        {
         "error_y": {
          "array": [
           null,
           null,
           null,
           null,
           null,
           null,
           null,
           null,
           null,
           null,
           null,
           null,
           null,
           null,
           null,
           null,
           null,
           null,
           null,
           null,
           null,
           null,
           null,
           null,
           null,
           null,
           null,
           null,
           null,
           null
          ]
         },
         "hovertemplate": "solver=lama<br>type=bounds<br>difficulty=0<br>problem=%{x}<br>plan_length_mean=%{y}<extra></extra>",
         "legendgroup": "lama, bounds",
         "line": {
          "color": "#00cc96",
          "dash": "solid"
         },
         "marker": {
          "symbol": "circle"
         },
         "mode": "lines",
         "name": "lama, bounds",
         "orientation": "v",
         "showlegend": true,
         "type": "scatter",
         "x": [
          "0_01",
          "0_02",
          "0_03",
          "0_04",
          "0_05",
          "0_06",
          "0_07",
          "0_08",
          "0_09",
          "0_10",
          "0_11",
          "0_12",
          "0_13",
          "0_14",
          "0_15",
          "0_16",
          "0_17",
          "0_18",
          "0_19",
          "0_20",
          "0_21",
          "0_22",
          "0_23",
          "0_24",
          "0_25",
          "0_26",
          "0_27",
          "0_28",
          "0_29",
          "0_30"
         ],
         "xaxis": "x",
         "y": [
          4,
          8,
          8,
          5,
          9,
          15,
          10,
          10,
          10,
          8,
          21,
          12,
          10,
          18,
          13,
          22,
          21,
          14,
          26,
          37,
          34,
          30,
          19,
          12,
          28,
          52,
          40,
          36,
          13,
          33
         ],
         "yaxis": "y"
        },
        {
         "error_y": {
          "array": [
           null,
           null,
           null,
           null,
           null,
           null,
           null,
           null,
           null,
           null,
           null,
           null,
           null,
           null,
           null,
           null,
           null,
           null,
           null,
           null,
           null,
           null,
           null,
           null,
           null,
           null,
           null,
           null,
           null,
           null
          ]
         },
         "hovertemplate": "solver=lama<br>type=bounds<br>difficulty=1<br>problem=%{x}<br>plan_length_mean=%{y}<extra></extra>",
         "legendgroup": "lama, bounds",
         "line": {
          "color": "#00cc96",
          "dash": "solid"
         },
         "marker": {
          "symbol": "circle"
         },
         "mode": "lines",
         "name": "lama, bounds",
         "orientation": "v",
         "showlegend": false,
         "type": "scatter",
         "x": [
          "1_01",
          "1_02",
          "1_03",
          "1_04",
          "1_05",
          "1_06",
          "1_07",
          "1_08",
          "1_09",
          "1_10",
          "1_11",
          "1_12",
          "1_13",
          "1_14",
          "1_15",
          "1_16",
          "1_17",
          "1_18",
          "1_19",
          "1_20",
          "1_21",
          "1_22",
          "1_23",
          "1_24",
          "1_25",
          "1_26",
          "1_27",
          "1_28",
          "1_29",
          "1_30"
         ],
         "xaxis": "x2",
         "y": [
          64,
          77,
          59,
          77,
          74,
          63,
          67,
          13,
          76,
          23,
          116,
          80,
          115,
          99,
          22,
          113,
          58,
          37,
          132,
          170,
          142,
          125,
          52,
          184,
          74,
          175,
          197,
          31,
          209,
          78
         ],
         "yaxis": "y2"
        },
        {
         "error_y": {
          "array": [
           1,
           1.7320508075688772,
           2.5166114784235836,
           2.3094010767585034,
           3.4641016151377544,
           4.932882862316248,
           2.8867513459481287,
           1,
           3,
           5.773502691896258,
           6.244997998398398,
           1,
           1,
           5,
           3.511884584284246,
           6.658328118479393,
           8.54400374531753,
           1.7320508075688772,
           7.937253933193772,
           7.937253933193772,
           4.58257569495584,
           10.066445913694334,
           4.163331998932265,
           0,
           3.055050463303893,
           9.643650760992955,
           13.428824718989123,
           7.637626158259733,
           1.7320508075688772,
           2.3094010767585034
          ]
         },
         "hovertemplate": "solver=L2_D8_best<br>type=lrnn_best<br>difficulty=0<br>problem=%{x}<br>plan_length_mean=%{y}<extra></extra>",
         "legendgroup": "L2_D8_best, lrnn_best",
         "line": {
          "color": "#ab63fa",
          "dash": "dot"
         },
         "marker": {
          "symbol": "circle"
         },
         "mode": "lines",
         "name": "L2_D8_best, lrnn_best",
         "orientation": "v",
         "showlegend": true,
         "type": "scatter",
         "x": [
          "0_01",
          "0_02",
          "0_03",
          "0_04",
          "0_05",
          "0_06",
          "0_07",
          "0_08",
          "0_09",
          "0_10",
          "0_11",
          "0_12",
          "0_13",
          "0_14",
          "0_15",
          "0_16",
          "0_17",
          "0_18",
          "0_19",
          "0_20",
          "0_21",
          "0_22",
          "0_23",
          "0_24",
          "0_25",
          "0_26",
          "0_27",
          "0_28",
          "0_29",
          "0_30"
         ],
         "xaxis": "x",
         "y": [
          5,
          9,
          11.666666666666666,
          8.666666666666666,
          11,
          14.333333333333334,
          12.666666666666666,
          10,
          13,
          12.333333333333334,
          24,
          16,
          9,
          26,
          20.333333333333332,
          29.666666666666668,
          31,
          14,
          36,
          43,
          35,
          44.666666666666664,
          25.333333333333332,
          12,
          32.666666666666664,
          56,
          47.666666666666664,
          43.666666666666664,
          14,
          34.333333333333336
         ],
         "yaxis": "y"
        },
        {
         "error_y": {
          "array": [
           9.539392014169456,
           5.507570547286103,
           17.7857620959388,
           10.392304845413264,
           14.730919862656235,
           23.24507116214819,
           14.571661996262929,
           0,
           28.919428302325297,
           0.5773502691896255,
           24.11085509336683,
           13,
           27.736858750286295,
           32.92415526630866,
           1.1547005383792517,
           36.35014901390823,
           7.505553499465133,
           4.58257569495584,
           36.8284310463171,
           50.54041287260456,
           29.263173671584795,
           37.072002014098636,
           1.154700538379251,
           38.58756276314948,
           9.712534856222309,
           57.87342510456188,
           61.554853586049575,
           1.7320508075688772,
           70.44856279584417,
           6.350852961085884
          ]
         },
         "hovertemplate": "solver=L2_D8_best<br>type=lrnn_best<br>difficulty=1<br>problem=%{x}<br>plan_length_mean=%{y}<extra></extra>",
         "legendgroup": "L2_D8_best, lrnn_best",
         "line": {
          "color": "#ab63fa",
          "dash": "dot"
         },
         "marker": {
          "symbol": "circle"
         },
         "mode": "lines",
         "name": "L2_D8_best, lrnn_best",
         "orientation": "v",
         "showlegend": false,
         "type": "scatter",
         "x": [
          "1_01",
          "1_02",
          "1_03",
          "1_04",
          "1_05",
          "1_06",
          "1_07",
          "1_08",
          "1_09",
          "1_10",
          "1_11",
          "1_12",
          "1_13",
          "1_14",
          "1_15",
          "1_16",
          "1_17",
          "1_18",
          "1_19",
          "1_20",
          "1_21",
          "1_22",
          "1_23",
          "1_24",
          "1_25",
          "1_26",
          "1_27",
          "1_28",
          "1_29",
          "1_30"
         ],
         "xaxis": "x2",
         "y": [
          103,
          101.66666666666667,
          94.33333333333333,
          108,
          86,
          83.66666666666667,
          103.66666666666667,
          13,
          93.66666666666667,
          25.333333333333332,
          168.66666666666666,
          94,
          139.33333333333334,
          138,
          28.333333333333332,
          149.33333333333334,
          81.33333333333333,
          40,
          148.33333333333334,
          197.66666666666666,
          175.33333333333334,
          168.33333333333334,
          56.666666666666664,
          245,
          74.33333333333333,
          237.33333333333334,
          257,
          33,
          249,
          92.66666666666667
         ],
         "yaxis": "y2"
        },
        {
         "error_y": {
          "array": [
           0.5773502691896257,
           2,
           2.081665999466133,
           1,
           2.6457513110645907,
           0.5773502691896258,
           4.163331998932266,
           2.0816659994661326,
           5.131601439446884,
           4.618802153517007,
           2.5166114784235827,
           2.081665999466133,
           2.3094010767585034,
           6.506407098647712,
           3.5118845842842465,
           6.429100507328636,
           6.027713773341707,
           4.358898943540674,
           3.0550504633038926,
           7.505553499465134,
           9.291573243177568,
           6.082762530298219,
           7.571877794400366,
           4.509249752822894,
           10.016652800877814,
           3.5118845842842448,
           8.144527815247079,
           6.658328118479393,
           1,
           5.5677643628300215
          ]
         },
         "hovertemplate": "solver=L2_D16_best<br>type=lrnn_best<br>difficulty=0<br>problem=%{x}<br>plan_length_mean=%{y}<extra></extra>",
         "legendgroup": "L2_D16_best, lrnn_best",
         "line": {
          "color": "#FFA15A",
          "dash": "dot"
         },
         "marker": {
          "symbol": "circle"
         },
         "mode": "lines",
         "name": "L2_D16_best, lrnn_best",
         "orientation": "v",
         "showlegend": true,
         "type": "scatter",
         "x": [
          "0_01",
          "0_02",
          "0_03",
          "0_04",
          "0_05",
          "0_06",
          "0_07",
          "0_08",
          "0_09",
          "0_10",
          "0_11",
          "0_12",
          "0_13",
          "0_14",
          "0_15",
          "0_16",
          "0_17",
          "0_18",
          "0_19",
          "0_20",
          "0_21",
          "0_22",
          "0_23",
          "0_24",
          "0_25",
          "0_26",
          "0_27",
          "0_28",
          "0_29",
          "0_30"
         ],
         "xaxis": "x",
         "y": [
          5.333333333333333,
          10,
          11.666666666666666,
          9,
          14,
          14.666666666666666,
          14.666666666666666,
          13.333333333333334,
          14.666666666666666,
          13.666666666666666,
          28.666666666666668,
          16.333333333333332,
          11.666666666666666,
          24.666666666666668,
          26.333333333333332,
          31.666666666666668,
          36.333333333333336,
          20,
          40.333333333333336,
          46.333333333333336,
          43.333333333333336,
          43,
          34.666666666666664,
          18.333333333333332,
          35.666666666666664,
          65.66666666666667,
          55.666666666666664,
          58.666666666666664,
          21,
          42
         ],
         "yaxis": "y"
        },
        {
         "error_y": {
          "array": [
           14.468356276140469,
           10.21436896402971,
           14,
           6.806859285554045,
           18.036999011291574,
           18.734993995195193,
           18.14754345175493,
           11.532562594670797,
           16.502525059315417,
           12.529964086141668,
           7,
           28.148416178061126,
           20.03330560175562,
           25.709920264364882,
           9.16515138991168,
           29.50141239556732,
           31.89566323708183,
           25.32455988429677,
           22.368132093076827,
           5.5075705472861065,
           24.542480178933292,
           14.74222959166399,
           38.07011076071796,
           3.0550504633038997,
           22.60530911091463,
           24.09010862020621,
           25.774664562964404,
           31.895663237081827,
           21.548395145191975,
           43.01550108197432
          ]
         },
         "hovertemplate": "solver=L2_D16_best<br>type=lrnn_best<br>difficulty=1<br>problem=%{x}<br>plan_length_mean=%{y}<extra></extra>",
         "legendgroup": "L2_D16_best, lrnn_best",
         "line": {
          "color": "#FFA15A",
          "dash": "dot"
         },
         "marker": {
          "symbol": "circle"
         },
         "mode": "lines",
         "name": "L2_D16_best, lrnn_best",
         "orientation": "v",
         "showlegend": false,
         "type": "scatter",
         "x": [
          "1_01",
          "1_02",
          "1_03",
          "1_04",
          "1_05",
          "1_06",
          "1_07",
          "1_08",
          "1_09",
          "1_10",
          "1_11",
          "1_12",
          "1_13",
          "1_14",
          "1_15",
          "1_16",
          "1_17",
          "1_18",
          "1_19",
          "1_20",
          "1_21",
          "1_22",
          "1_23",
          "1_24",
          "1_25",
          "1_26",
          "1_27",
          "1_28",
          "1_29",
          "1_30"
         ],
         "xaxis": "x2",
         "y": [
          94.66666666666667,
          97.33333333333333,
          89,
          109.66666666666667,
          86.66666666666667,
          93,
          116.66666666666667,
          27,
          111.66666666666667,
          49,
          186,
          107.66666666666667,
          154.33333333333334,
          149,
          60,
          167.33333333333334,
          112.33333333333333,
          76.66666666666667,
          180.66666666666666,
          238.66666666666666,
          205.66666666666666,
          218.66666666666666,
          108.33333333333333,
          267.3333333333333,
          125,
          245.66666666666666,
          286.6666666666667,
          93.66666666666667,
          270.6666666666667,
          142.66666666666666
         ],
         "yaxis": "y2"
        },
        {
         "error_y": {
          "array": [
           0.5773502691896257,
           2.309401076758503,
           2,
           1.1547005383792517,
           2.081665999466133,
           2.6457513110645907,
           1.1547005383792515,
           3.055050463303893,
           4.618802153517006,
           2.081665999466133,
           7.571877794400366,
           1.5275252316519465,
           2.0816659994661326,
           1,
           2.5166114784235836,
           4.358898943540674,
           5.686240703077327,
           3.5118845842842465,
           5.859465277082315,
           11.150485789118486,
           2.081665999466132,
           5.196152422706632,
           1.5275252316519472,
           2.516611478423583,
           4.04145188432738,
           15.716233645501712,
           0.5773502691896263,
           3.4641016151377544,
           4.163331998932265,
           5.773502691896258
          ]
         },
         "hovertemplate": "solver=L2_D32_best<br>type=lrnn_best<br>difficulty=0<br>problem=%{x}<br>plan_length_mean=%{y}<extra></extra>",
         "legendgroup": "L2_D32_best, lrnn_best",
         "line": {
          "color": "#19d3f3",
          "dash": "dot"
         },
         "marker": {
          "symbol": "circle"
         },
         "mode": "lines",
         "name": "L2_D32_best, lrnn_best",
         "orientation": "v",
         "showlegend": true,
         "type": "scatter",
         "x": [
          "0_01",
          "0_02",
          "0_03",
          "0_04",
          "0_05",
          "0_06",
          "0_07",
          "0_08",
          "0_09",
          "0_10",
          "0_11",
          "0_12",
          "0_13",
          "0_14",
          "0_15",
          "0_16",
          "0_17",
          "0_18",
          "0_19",
          "0_20",
          "0_21",
          "0_22",
          "0_23",
          "0_24",
          "0_25",
          "0_26",
          "0_27",
          "0_28",
          "0_29",
          "0_30"
         ],
         "xaxis": "x",
         "y": [
          5.333333333333333,
          10.666666666666666,
          11,
          7.666666666666667,
          12.333333333333334,
          14,
          12.666666666666666,
          12.666666666666666,
          13.666666666666666,
          10.333333333333334,
          26.666666666666668,
          16.666666666666668,
          11.666666666666666,
          23,
          22.666666666666668,
          28,
          26.666666666666668,
          15.333333333333334,
          32.666666666666664,
          45.666666666666664,
          46.666666666666664,
          41,
          31.333333333333332,
          15.333333333333334,
          45.333333333333336,
          57,
          52.666666666666664,
          54,
          23.666666666666668,
          45.666666666666664
         ],
         "yaxis": "y"
        },
        {
         "error_y": {
          "array": [
           3.5118845842842448,
           1,
           5.507570547286104,
           10.14889156509222,
           4.93288286231625,
           5.196152422706632,
           3.511884584284246,
           11.930353445448855,
           6.506407098647712,
           8.386497083606082,
           23.245071162148193,
           4,
           7.234178138070239,
           7.094598884597591,
           9.539392014169456,
           2.0816659994661366,
           4.509249752822896,
           8.504900548115385,
           18.929694486000916,
           14.011899704655798,
           11.015141094572206,
           7.094598884597584,
           20.29778313018444,
           15.716233645501712,
           14.224392195567914,
           12.503332889007366,
           23.028967265887825,
           10.016652800877813,
           14.011899704655809,
           23.895606290697042
          ]
         },
         "hovertemplate": "solver=L2_D32_best<br>type=lrnn_best<br>difficulty=1<br>problem=%{x}<br>plan_length_mean=%{y}<extra></extra>",
         "legendgroup": "L2_D32_best, lrnn_best",
         "line": {
          "color": "#19d3f3",
          "dash": "dot"
         },
         "marker": {
          "symbol": "circle"
         },
         "mode": "lines",
         "name": "L2_D32_best, lrnn_best",
         "orientation": "v",
         "showlegend": false,
         "type": "scatter",
         "x": [
          "1_01",
          "1_02",
          "1_03",
          "1_04",
          "1_05",
          "1_06",
          "1_07",
          "1_08",
          "1_09",
          "1_10",
          "1_11",
          "1_12",
          "1_13",
          "1_14",
          "1_15",
          "1_16",
          "1_17",
          "1_18",
          "1_19",
          "1_20",
          "1_21",
          "1_22",
          "1_23",
          "1_24",
          "1_25",
          "1_26",
          "1_27",
          "1_28",
          "1_29",
          "1_30"
         ],
         "xaxis": "x2",
         "y": [
          101.66666666666667,
          101,
          91.33333333333333,
          104,
          91.33333333333333,
          100,
          109.33333333333333,
          28.333333333333332,
          110.33333333333333,
          44.333333333333336,
          184.33333333333334,
          123,
          150.33333333333334,
          157.66666666666666,
          60,
          189.66666666666666,
          103.33333333333333,
          74.33333333333333,
          168.33333333333334,
          225.66666666666666,
          221.33333333333334,
          216.66666666666666,
          104,
          261,
          119.66666666666667,
          238.33333333333334,
          285.3333333333333,
          82.33333333333333,
          284.6666666666667,
          136
         ],
         "yaxis": "y2"
        },
        {
         "error_y": {
          "array": [
           0.5773502691896257,
           2.8867513459481287,
           1.5275252316519468,
           1,
           3.7859388972001824,
           2.8867513459481287,
           2.6457513110645907,
           2.6457513110645907,
           4.358898943540674,
           6.244997998398398,
           4.041451884327381,
           2,
           2,
           1.5275252316519465,
           4.725815626252608,
           7.023769168568493,
           8.386497083606082,
           6.806859285554046,
           6.506407098647712,
           4.58257569495584,
           1.154700538379251,
           3.605551275463989,
           3.0550504633038944,
           1.5275252316519468,
           7.0945988845975885,
           8.717797887081348,
           14.933184523068078,
           7.094598884597588,
           6.429100507328636,
           5.291502622129181
          ]
         },
         "hovertemplate": "solver=L3_D8_best<br>type=lrnn_best<br>difficulty=0<br>problem=%{x}<br>plan_length_mean=%{y}<extra></extra>",
         "legendgroup": "L3_D8_best, lrnn_best",
         "line": {
          "color": "#FF6692",
          "dash": "dot"
         },
         "marker": {
          "symbol": "circle"
         },
         "mode": "lines",
         "name": "L3_D8_best, lrnn_best",
         "orientation": "v",
         "showlegend": true,
         "type": "scatter",
         "x": [
          "0_01",
          "0_02",
          "0_03",
          "0_04",
          "0_05",
          "0_06",
          "0_07",
          "0_08",
          "0_09",
          "0_10",
          "0_11",
          "0_12",
          "0_13",
          "0_14",
          "0_15",
          "0_16",
          "0_17",
          "0_18",
          "0_19",
          "0_20",
          "0_21",
          "0_22",
          "0_23",
          "0_24",
          "0_25",
          "0_26",
          "0_27",
          "0_28",
          "0_29",
          "0_30"
         ],
         "xaxis": "x",
         "y": [
          4.333333333333333,
          9.666666666666666,
          10.666666666666666,
          8,
          11.666666666666666,
          13.666666666666666,
          13,
          12,
          15,
          14,
          28.666666666666668,
          16,
          10,
          22.333333333333332,
          19.333333333333332,
          28.333333333333332,
          31.666666666666668,
          19.666666666666668,
          33.333333333333336,
          47,
          49.333333333333336,
          50,
          33.333333333333336,
          13.333333333333334,
          43.333333333333336,
          64,
          60,
          51.333333333333336,
          24.666666666666668,
          45
         ],
         "yaxis": "y"
        },
        {
         "error_y": {
          "array": [
           18.475208614068027,
           10.016652800877813,
           20.79262689833426,
           20.305992547357377,
           16.862186493255653,
           14.977761292440645,
           27.42869543622761,
           14.502873278538061,
           25.579940057266228,
           21.455380055672126,
           24.5017006212494,
           22.278539748675932,
           29.36551265231604,
           32.357379374726875,
           10.26320287889377,
           27.2213151776324,
           12.12435565298214,
           18.734993995195193,
           28.04163571073081,
           18.520259177452136,
           27.537852736430512,
           21.656407827707714,
           34.122328955294556,
           20.033305601755625,
           15.695009822658067,
           24.172987679087864,
           27.055498516937366,
           27.300793639257694,
           31.564748269760265,
           8.504900548115383
          ]
         },
         "hovertemplate": "solver=L3_D8_best<br>type=lrnn_best<br>difficulty=1<br>problem=%{x}<br>plan_length_mean=%{y}<extra></extra>",
         "legendgroup": "L3_D8_best, lrnn_best",
         "line": {
          "color": "#FF6692",
          "dash": "dot"
         },
         "marker": {
          "symbol": "circle"
         },
         "mode": "lines",
         "name": "L3_D8_best, lrnn_best",
         "orientation": "v",
         "showlegend": false,
         "type": "scatter",
         "x": [
          "1_01",
          "1_02",
          "1_03",
          "1_04",
          "1_05",
          "1_06",
          "1_07",
          "1_08",
          "1_09",
          "1_10",
          "1_11",
          "1_12",
          "1_13",
          "1_14",
          "1_15",
          "1_16",
          "1_17",
          "1_18",
          "1_19",
          "1_20",
          "1_21",
          "1_22",
          "1_23",
          "1_24",
          "1_25",
          "1_26",
          "1_27",
          "1_28",
          "1_29",
          "1_30"
         ],
         "xaxis": "x2",
         "y": [
          97.33333333333333,
          98.33333333333333,
          88.66666666666667,
          106.33333333333333,
          88.33333333333333,
          88.33333333333333,
          108.33333333333333,
          27.333333333333332,
          102.33333333333333,
          48.666666666666664,
          180.33333333333334,
          127.66666666666667,
          148.66666666666666,
          152,
          67.33333333333333,
          173,
          128,
          90,
          181.66666666666666,
          232,
          212.33333333333334,
          213,
          116.33333333333333,
          245.33333333333334,
          142.66666666666666,
          264.6666666666667,
          285,
          114.33333333333333,
          277.6666666666667,
          179.33333333333334
         ],
         "yaxis": "y2"
        },
        {
         "error_y": {
          "array": [
           0,
           2.1213203435596424,
           1.4142135623730951,
           1.4142135623730951,
           4.242640687119285,
           2.8284271247461903,
           1.4142135623730951,
           3.5355339059327378,
           2.1213203435596424,
           1.4142135623730951,
           0.7071067811865476,
           0.7071067811865476,
           0,
           0.7071067811865476,
           3.5355339059327378,
           7.0710678118654755,
           1.4142135623730951,
           1.4142135623730951,
           4.949747468305833,
           2.8284271247461903,
           12.020815280171307,
           0.7071067811865476,
           13.435028842544403,
           3.5355339059327378,
           0.7071067811865476,
           12.727922061357855,
           6.363961030678928,
           3.5355339059327378,
           2.1213203435596424,
           4.242640687119285
          ]
         },
         "hovertemplate": "solver=L3_D16_best<br>type=lrnn_best<br>difficulty=0<br>problem=%{x}<br>plan_length_mean=%{y}<extra></extra>",
         "legendgroup": "L3_D16_best, lrnn_best",
         "line": {
          "color": "#B6E880",
          "dash": "dot"
         },
         "marker": {
          "symbol": "circle"
         },
         "mode": "lines",
         "name": "L3_D16_best, lrnn_best",
         "orientation": "v",
         "showlegend": true,
         "type": "scatter",
         "x": [
          "0_01",
          "0_02",
          "0_03",
          "0_04",
          "0_05",
          "0_06",
          "0_07",
          "0_08",
          "0_09",
          "0_10",
          "0_11",
          "0_12",
          "0_13",
          "0_14",
          "0_15",
          "0_16",
          "0_17",
          "0_18",
          "0_19",
          "0_20",
          "0_21",
          "0_22",
          "0_23",
          "0_24",
          "0_25",
          "0_26",
          "0_27",
          "0_28",
          "0_29",
          "0_30"
         ],
         "xaxis": "x",
         "y": [
          4,
          9.5,
          13,
          7,
          14,
          18,
          12,
          13.5,
          13.5,
          10,
          26.5,
          12.5,
          8,
          23.5,
          15.5,
          27,
          40,
          16,
          32.5,
          45,
          50.5,
          38.5,
          28.5,
          15.5,
          37.5,
          62,
          49.5,
          45.5,
          14.5,
          31
         ],
         "yaxis": "y"
        },
        {
         "error_y": {
          "array": [
           21.920310216782973,
           2.1213203435596424,
           14.849242404917497,
           9.192388155425117,
           2.8284271247461903,
           12.727922061357855,
           14.849242404917497,
           0.7071067811865476,
           8.48528137423857,
           1.4142135623730951,
           7.0710678118654755,
           30.405591591021544,
           37.476659402887016,
           42.42640687119285,
           19.79898987322333,
           31.11269837220809,
           2.1213203435596424,
           24.041630560342615,
           6.363961030678928,
           6.363961030678928,
           57.982756057296896,
           44.54772721475249,
           17.67766952966369,
           28.991378028648448,
           53.033008588991066,
           47.37615433949868,
           71.4177848998413,
           25.45584412271571,
           76.36753236814714,
           24.748737341529164
          ]
         },
         "hovertemplate": "solver=L3_D16_best<br>type=lrnn_best<br>difficulty=1<br>problem=%{x}<br>plan_length_mean=%{y}<extra></extra>",
         "legendgroup": "L3_D16_best, lrnn_best",
         "line": {
          "color": "#B6E880",
          "dash": "dot"
         },
         "marker": {
          "symbol": "circle"
         },
         "mode": "lines",
         "name": "L3_D16_best, lrnn_best",
         "orientation": "v",
         "showlegend": false,
         "type": "scatter",
         "x": [
          "1_01",
          "1_02",
          "1_03",
          "1_04",
          "1_05",
          "1_06",
          "1_07",
          "1_08",
          "1_09",
          "1_10",
          "1_11",
          "1_12",
          "1_13",
          "1_14",
          "1_15",
          "1_16",
          "1_17",
          "1_18",
          "1_19",
          "1_20",
          "1_21",
          "1_22",
          "1_23",
          "1_24",
          "1_25",
          "1_26",
          "1_27",
          "1_28",
          "1_29",
          "1_30"
         ],
         "xaxis": "x2",
         "y": [
          99.5,
          102.5,
          90.5,
          109.5,
          93,
          84,
          122.5,
          12.5,
          121,
          24,
          183,
          103.5,
          148.5,
          119,
          41,
          186,
          76.5,
          52,
          171.5,
          238.5,
          203,
          197.5,
          67.5,
          267.5,
          115.5,
          261.5,
          220.5,
          53,
          271,
          108.5
         ],
         "yaxis": "y2"
        }
       ],
       "layout": {
        "annotations": [
         {
          "font": {},
          "showarrow": false,
          "text": "difficulty=0",
          "x": 0.245,
          "xanchor": "center",
          "xref": "paper",
          "y": 1,
          "yanchor": "bottom",
          "yref": "paper"
         },
         {
          "font": {},
          "showarrow": false,
          "text": "difficulty=1",
          "x": 0.755,
          "xanchor": "center",
          "xref": "paper",
          "y": 1,
          "yanchor": "bottom",
          "yref": "paper"
         }
        ],
        "legend": {
         "title": {
          "text": "solver, type"
         },
         "tracegroupgap": 0
        },
        "margin": {
         "t": 60
        },
        "template": {
         "data": {
          "bar": [
           {
            "error_x": {
             "color": "#2a3f5f"
            },
            "error_y": {
             "color": "#2a3f5f"
            },
            "marker": {
             "line": {
              "color": "#E5ECF6",
              "width": 0.5
             },
             "pattern": {
              "fillmode": "overlay",
              "size": 10,
              "solidity": 0.2
             }
            },
            "type": "bar"
           }
          ],
          "barpolar": [
           {
            "marker": {
             "line": {
              "color": "#E5ECF6",
              "width": 0.5
             },
             "pattern": {
              "fillmode": "overlay",
              "size": 10,
              "solidity": 0.2
             }
            },
            "type": "barpolar"
           }
          ],
          "carpet": [
           {
            "aaxis": {
             "endlinecolor": "#2a3f5f",
             "gridcolor": "white",
             "linecolor": "white",
             "minorgridcolor": "white",
             "startlinecolor": "#2a3f5f"
            },
            "baxis": {
             "endlinecolor": "#2a3f5f",
             "gridcolor": "white",
             "linecolor": "white",
             "minorgridcolor": "white",
             "startlinecolor": "#2a3f5f"
            },
            "type": "carpet"
           }
          ],
          "choropleth": [
           {
            "colorbar": {
             "outlinewidth": 0,
             "ticks": ""
            },
            "type": "choropleth"
           }
          ],
          "contour": [
           {
            "colorbar": {
             "outlinewidth": 0,
             "ticks": ""
            },
            "colorscale": [
             [
              0,
              "#0d0887"
             ],
             [
              0.1111111111111111,
              "#46039f"
             ],
             [
              0.2222222222222222,
              "#7201a8"
             ],
             [
              0.3333333333333333,
              "#9c179e"
             ],
             [
              0.4444444444444444,
              "#bd3786"
             ],
             [
              0.5555555555555556,
              "#d8576b"
             ],
             [
              0.6666666666666666,
              "#ed7953"
             ],
             [
              0.7777777777777778,
              "#fb9f3a"
             ],
             [
              0.8888888888888888,
              "#fdca26"
             ],
             [
              1,
              "#f0f921"
             ]
            ],
            "type": "contour"
           }
          ],
          "contourcarpet": [
           {
            "colorbar": {
             "outlinewidth": 0,
             "ticks": ""
            },
            "type": "contourcarpet"
           }
          ],
          "heatmap": [
           {
            "colorbar": {
             "outlinewidth": 0,
             "ticks": ""
            },
            "colorscale": [
             [
              0,
              "#0d0887"
             ],
             [
              0.1111111111111111,
              "#46039f"
             ],
             [
              0.2222222222222222,
              "#7201a8"
             ],
             [
              0.3333333333333333,
              "#9c179e"
             ],
             [
              0.4444444444444444,
              "#bd3786"
             ],
             [
              0.5555555555555556,
              "#d8576b"
             ],
             [
              0.6666666666666666,
              "#ed7953"
             ],
             [
              0.7777777777777778,
              "#fb9f3a"
             ],
             [
              0.8888888888888888,
              "#fdca26"
             ],
             [
              1,
              "#f0f921"
             ]
            ],
            "type": "heatmap"
           }
          ],
          "heatmapgl": [
           {
            "colorbar": {
             "outlinewidth": 0,
             "ticks": ""
            },
            "colorscale": [
             [
              0,
              "#0d0887"
             ],
             [
              0.1111111111111111,
              "#46039f"
             ],
             [
              0.2222222222222222,
              "#7201a8"
             ],
             [
              0.3333333333333333,
              "#9c179e"
             ],
             [
              0.4444444444444444,
              "#bd3786"
             ],
             [
              0.5555555555555556,
              "#d8576b"
             ],
             [
              0.6666666666666666,
              "#ed7953"
             ],
             [
              0.7777777777777778,
              "#fb9f3a"
             ],
             [
              0.8888888888888888,
              "#fdca26"
             ],
             [
              1,
              "#f0f921"
             ]
            ],
            "type": "heatmapgl"
           }
          ],
          "histogram": [
           {
            "marker": {
             "pattern": {
              "fillmode": "overlay",
              "size": 10,
              "solidity": 0.2
             }
            },
            "type": "histogram"
           }
          ],
          "histogram2d": [
           {
            "colorbar": {
             "outlinewidth": 0,
             "ticks": ""
            },
            "colorscale": [
             [
              0,
              "#0d0887"
             ],
             [
              0.1111111111111111,
              "#46039f"
             ],
             [
              0.2222222222222222,
              "#7201a8"
             ],
             [
              0.3333333333333333,
              "#9c179e"
             ],
             [
              0.4444444444444444,
              "#bd3786"
             ],
             [
              0.5555555555555556,
              "#d8576b"
             ],
             [
              0.6666666666666666,
              "#ed7953"
             ],
             [
              0.7777777777777778,
              "#fb9f3a"
             ],
             [
              0.8888888888888888,
              "#fdca26"
             ],
             [
              1,
              "#f0f921"
             ]
            ],
            "type": "histogram2d"
           }
          ],
          "histogram2dcontour": [
           {
            "colorbar": {
             "outlinewidth": 0,
             "ticks": ""
            },
            "colorscale": [
             [
              0,
              "#0d0887"
             ],
             [
              0.1111111111111111,
              "#46039f"
             ],
             [
              0.2222222222222222,
              "#7201a8"
             ],
             [
              0.3333333333333333,
              "#9c179e"
             ],
             [
              0.4444444444444444,
              "#bd3786"
             ],
             [
              0.5555555555555556,
              "#d8576b"
             ],
             [
              0.6666666666666666,
              "#ed7953"
             ],
             [
              0.7777777777777778,
              "#fb9f3a"
             ],
             [
              0.8888888888888888,
              "#fdca26"
             ],
             [
              1,
              "#f0f921"
             ]
            ],
            "type": "histogram2dcontour"
           }
          ],
          "mesh3d": [
           {
            "colorbar": {
             "outlinewidth": 0,
             "ticks": ""
            },
            "type": "mesh3d"
           }
          ],
          "parcoords": [
           {
            "line": {
             "colorbar": {
              "outlinewidth": 0,
              "ticks": ""
             }
            },
            "type": "parcoords"
           }
          ],
          "pie": [
           {
            "automargin": true,
            "type": "pie"
           }
          ],
          "scatter": [
           {
            "fillpattern": {
             "fillmode": "overlay",
             "size": 10,
             "solidity": 0.2
            },
            "type": "scatter"
           }
          ],
          "scatter3d": [
           {
            "line": {
             "colorbar": {
              "outlinewidth": 0,
              "ticks": ""
             }
            },
            "marker": {
             "colorbar": {
              "outlinewidth": 0,
              "ticks": ""
             }
            },
            "type": "scatter3d"
           }
          ],
          "scattercarpet": [
           {
            "marker": {
             "colorbar": {
              "outlinewidth": 0,
              "ticks": ""
             }
            },
            "type": "scattercarpet"
           }
          ],
          "scattergeo": [
           {
            "marker": {
             "colorbar": {
              "outlinewidth": 0,
              "ticks": ""
             }
            },
            "type": "scattergeo"
           }
          ],
          "scattergl": [
           {
            "marker": {
             "colorbar": {
              "outlinewidth": 0,
              "ticks": ""
             }
            },
            "type": "scattergl"
           }
          ],
          "scattermapbox": [
           {
            "marker": {
             "colorbar": {
              "outlinewidth": 0,
              "ticks": ""
             }
            },
            "type": "scattermapbox"
           }
          ],
          "scatterpolar": [
           {
            "marker": {
             "colorbar": {
              "outlinewidth": 0,
              "ticks": ""
             }
            },
            "type": "scatterpolar"
           }
          ],
          "scatterpolargl": [
           {
            "marker": {
             "colorbar": {
              "outlinewidth": 0,
              "ticks": ""
             }
            },
            "type": "scatterpolargl"
           }
          ],
          "scatterternary": [
           {
            "marker": {
             "colorbar": {
              "outlinewidth": 0,
              "ticks": ""
             }
            },
            "type": "scatterternary"
           }
          ],
          "surface": [
           {
            "colorbar": {
             "outlinewidth": 0,
             "ticks": ""
            },
            "colorscale": [
             [
              0,
              "#0d0887"
             ],
             [
              0.1111111111111111,
              "#46039f"
             ],
             [
              0.2222222222222222,
              "#7201a8"
             ],
             [
              0.3333333333333333,
              "#9c179e"
             ],
             [
              0.4444444444444444,
              "#bd3786"
             ],
             [
              0.5555555555555556,
              "#d8576b"
             ],
             [
              0.6666666666666666,
              "#ed7953"
             ],
             [
              0.7777777777777778,
              "#fb9f3a"
             ],
             [
              0.8888888888888888,
              "#fdca26"
             ],
             [
              1,
              "#f0f921"
             ]
            ],
            "type": "surface"
           }
          ],
          "table": [
           {
            "cells": {
             "fill": {
              "color": "#EBF0F8"
             },
             "line": {
              "color": "white"
             }
            },
            "header": {
             "fill": {
              "color": "#C8D4E3"
             },
             "line": {
              "color": "white"
             }
            },
            "type": "table"
           }
          ]
         },
         "layout": {
          "annotationdefaults": {
           "arrowcolor": "#2a3f5f",
           "arrowhead": 0,
           "arrowwidth": 1
          },
          "autotypenumbers": "strict",
          "coloraxis": {
           "colorbar": {
            "outlinewidth": 0,
            "ticks": ""
           }
          },
          "colorscale": {
           "diverging": [
            [
             0,
             "#8e0152"
            ],
            [
             0.1,
             "#c51b7d"
            ],
            [
             0.2,
             "#de77ae"
            ],
            [
             0.3,
             "#f1b6da"
            ],
            [
             0.4,
             "#fde0ef"
            ],
            [
             0.5,
             "#f7f7f7"
            ],
            [
             0.6,
             "#e6f5d0"
            ],
            [
             0.7,
             "#b8e186"
            ],
            [
             0.8,
             "#7fbc41"
            ],
            [
             0.9,
             "#4d9221"
            ],
            [
             1,
             "#276419"
            ]
           ],
           "sequential": [
            [
             0,
             "#0d0887"
            ],
            [
             0.1111111111111111,
             "#46039f"
            ],
            [
             0.2222222222222222,
             "#7201a8"
            ],
            [
             0.3333333333333333,
             "#9c179e"
            ],
            [
             0.4444444444444444,
             "#bd3786"
            ],
            [
             0.5555555555555556,
             "#d8576b"
            ],
            [
             0.6666666666666666,
             "#ed7953"
            ],
            [
             0.7777777777777778,
             "#fb9f3a"
            ],
            [
             0.8888888888888888,
             "#fdca26"
            ],
            [
             1,
             "#f0f921"
            ]
           ],
           "sequentialminus": [
            [
             0,
             "#0d0887"
            ],
            [
             0.1111111111111111,
             "#46039f"
            ],
            [
             0.2222222222222222,
             "#7201a8"
            ],
            [
             0.3333333333333333,
             "#9c179e"
            ],
            [
             0.4444444444444444,
             "#bd3786"
            ],
            [
             0.5555555555555556,
             "#d8576b"
            ],
            [
             0.6666666666666666,
             "#ed7953"
            ],
            [
             0.7777777777777778,
             "#fb9f3a"
            ],
            [
             0.8888888888888888,
             "#fdca26"
            ],
            [
             1,
             "#f0f921"
            ]
           ]
          },
          "colorway": [
           "#636efa",
           "#EF553B",
           "#00cc96",
           "#ab63fa",
           "#FFA15A",
           "#19d3f3",
           "#FF6692",
           "#B6E880",
           "#FF97FF",
           "#FECB52"
          ],
          "font": {
           "color": "#2a3f5f"
          },
          "geo": {
           "bgcolor": "white",
           "lakecolor": "white",
           "landcolor": "#E5ECF6",
           "showlakes": true,
           "showland": true,
           "subunitcolor": "white"
          },
          "hoverlabel": {
           "align": "left"
          },
          "hovermode": "closest",
          "mapbox": {
           "style": "light"
          },
          "paper_bgcolor": "white",
          "plot_bgcolor": "#E5ECF6",
          "polar": {
           "angularaxis": {
            "gridcolor": "white",
            "linecolor": "white",
            "ticks": ""
           },
           "bgcolor": "#E5ECF6",
           "radialaxis": {
            "gridcolor": "white",
            "linecolor": "white",
            "ticks": ""
           }
          },
          "scene": {
           "xaxis": {
            "backgroundcolor": "#E5ECF6",
            "gridcolor": "white",
            "gridwidth": 2,
            "linecolor": "white",
            "showbackground": true,
            "ticks": "",
            "zerolinecolor": "white"
           },
           "yaxis": {
            "backgroundcolor": "#E5ECF6",
            "gridcolor": "white",
            "gridwidth": 2,
            "linecolor": "white",
            "showbackground": true,
            "ticks": "",
            "zerolinecolor": "white"
           },
           "zaxis": {
            "backgroundcolor": "#E5ECF6",
            "gridcolor": "white",
            "gridwidth": 2,
            "linecolor": "white",
            "showbackground": true,
            "ticks": "",
            "zerolinecolor": "white"
           }
          },
          "shapedefaults": {
           "line": {
            "color": "#2a3f5f"
           }
          },
          "ternary": {
           "aaxis": {
            "gridcolor": "white",
            "linecolor": "white",
            "ticks": ""
           },
           "baxis": {
            "gridcolor": "white",
            "linecolor": "white",
            "ticks": ""
           },
           "bgcolor": "#E5ECF6",
           "caxis": {
            "gridcolor": "white",
            "linecolor": "white",
            "ticks": ""
           }
          },
          "title": {
           "x": 0.05
          },
          "xaxis": {
           "automargin": true,
           "gridcolor": "white",
           "linecolor": "white",
           "ticks": "",
           "title": {
            "standoff": 15
           },
           "zerolinecolor": "white",
           "zerolinewidth": 2
          },
          "yaxis": {
           "automargin": true,
           "gridcolor": "white",
           "linecolor": "white",
           "ticks": "",
           "title": {
            "standoff": 15
           },
           "zerolinecolor": "white",
           "zerolinewidth": 2
          }
         }
        },
        "xaxis": {
         "anchor": "y",
         "categoryarray": [
          "0_01",
          "0_02",
          "0_03",
          "0_04",
          "0_05",
          "0_06",
          "0_07",
          "0_08",
          "0_09",
          "0_10",
          "0_11",
          "0_12",
          "0_13",
          "0_14",
          "0_15",
          "0_16",
          "0_17",
          "0_18",
          "0_19",
          "0_20",
          "0_21",
          "0_22",
          "0_23",
          "0_24",
          "0_25",
          "0_26",
          "0_27",
          "0_28",
          "0_29",
          "0_30",
          "1_01",
          "1_02",
          "1_03",
          "1_04",
          "1_05",
          "1_06",
          "1_07",
          "1_08",
          "1_09",
          "1_10",
          "1_11",
          "1_12",
          "1_13",
          "1_14",
          "1_15",
          "1_16",
          "1_17",
          "1_18",
          "1_19",
          "1_20",
          "1_21",
          "1_22",
          "1_23",
          "1_24",
          "1_25",
          "1_26",
          "1_27",
          "1_28",
          "1_29",
          "1_30"
         ],
         "categoryorder": "array",
         "domain": [
          0,
          0.49
         ],
         "showticklabels": true,
         "title": {
          "text": "problem"
         }
        },
        "xaxis2": {
         "anchor": "y2",
         "categoryarray": [
          "0_01",
          "0_02",
          "0_03",
          "0_04",
          "0_05",
          "0_06",
          "0_07",
          "0_08",
          "0_09",
          "0_10",
          "0_11",
          "0_12",
          "0_13",
          "0_14",
          "0_15",
          "0_16",
          "0_17",
          "0_18",
          "0_19",
          "0_20",
          "0_21",
          "0_22",
          "0_23",
          "0_24",
          "0_25",
          "0_26",
          "0_27",
          "0_28",
          "0_29",
          "0_30",
          "1_01",
          "1_02",
          "1_03",
          "1_04",
          "1_05",
          "1_06",
          "1_07",
          "1_08",
          "1_09",
          "1_10",
          "1_11",
          "1_12",
          "1_13",
          "1_14",
          "1_15",
          "1_16",
          "1_17",
          "1_18",
          "1_19",
          "1_20",
          "1_21",
          "1_22",
          "1_23",
          "1_24",
          "1_25",
          "1_26",
          "1_27",
          "1_28",
          "1_29",
          "1_30"
         ],
         "categoryorder": "array",
         "domain": [
          0.51,
          1
         ],
         "showticklabels": true,
         "title": {
          "text": "problem"
         }
        },
        "yaxis": {
         "anchor": "x",
         "domain": [
          0,
          1
         ],
         "showticklabels": true,
         "title": {
          "text": "plan_length_mean"
         }
        },
        "yaxis2": {
         "anchor": "x2",
         "domain": [
          0,
          1
         ],
         "showticklabels": true
        }
       }
      }
     },
     "metadata": {},
     "output_type": "display_data"
    },
    {
     "name": "stdout",
     "output_type": "stream",
     "text": [
      "rover\n"
     ]
    },
    {
     "data": {
      "application/vnd.plotly.v1+json": {
       "config": {
        "plotlyServerURL": "https://plot.ly"
       },
       "data": [
        {
         "error_y": {
          "array": [
           0,
           0.5773502691896255,
           0,
           0,
           0.5773502691896257,
           0.5773502691896255,
           0,
           0.5773502691896255,
           0,
           0,
           1,
           0,
           0.5773502691896247,
           1,
           2.5166114784235822,
           0.5773502691896255,
           0.5773502691896247,
           0.5773502691896255,
           2,
           1.5275252316519463,
           1.5275252316519456,
           0,
           2.6457513110645907,
           2.081665999466131,
           1.7320508075688772,
           0.5773502691896247,
           1.5275252316519456,
           1.7320508075688772,
           0,
           2
          ]
         },
         "hovertemplate": "solver=baseline<br>type=bounds<br>difficulty=0<br>problem=%{x}<br>plan_length_mean=%{y}<extra></extra>",
         "legendgroup": "baseline, bounds",
         "line": {
          "color": "#636efa",
          "dash": "solid"
         },
         "marker": {
          "symbol": "circle"
         },
         "mode": "lines",
         "name": "baseline, bounds",
         "orientation": "v",
         "showlegend": true,
         "type": "scatter",
         "x": [
          "0_01",
          "0_02",
          "0_03",
          "0_04",
          "0_05",
          "0_06",
          "0_07",
          "0_08",
          "0_09",
          "0_10",
          "0_11",
          "0_12",
          "0_13",
          "0_14",
          "0_15",
          "0_16",
          "0_17",
          "0_18",
          "0_19",
          "0_20",
          "0_21",
          "0_22",
          "0_23",
          "0_24",
          "0_25",
          "0_26",
          "0_27",
          "0_28",
          "0_29",
          "0_30"
         ],
         "xaxis": "x",
         "y": [
          9,
          16.666666666666668,
          24,
          17,
          6.666666666666667,
          20.333333333333332,
          34,
          18.333333333333332,
          6,
          17,
          27,
          29,
          34.666666666666664,
          24,
          43.333333333333336,
          27.666666666666668,
          56.333333333333336,
          28.333333333333332,
          50,
          85.66666666666667,
          41.333333333333336,
          93,
          70,
          66.66666666666667,
          54,
          50.333333333333336,
          63.666666666666664,
          120,
          26,
          97
         ],
         "yaxis": "y"
        },
        {
         "error_y": {
          "array": [
           1,
           2.309401076758505,
           2.6457513110645907,
           3.5118845842842465,
           2.0816659994661384,
           3.21455025366432,
           1.1547005383792557,
           2.5166114784235822,
           6.928203230275509,
           2.309401076758499,
           3.2145502536643265,
           4.58257569495584,
           4.16333199893226,
           2.5166114784235867,
           1.1547005383792495,
           1.5275252316519474,
           4.041451884327373,
           5.507570547286092,
           4.1633319989322635,
           1.5275252316519452,
           6.928203230275509,
           2.8867513459481207,
           0,
           3.0550504633038904,
           3.2145502536643242,
           1,
           7.54983443527075,
           4.725815626252625,
           null,
           null
          ]
         },
         "hovertemplate": "solver=baseline<br>type=bounds<br>difficulty=1<br>problem=%{x}<br>plan_length_mean=%{y}<extra></extra>",
         "legendgroup": "baseline, bounds",
         "line": {
          "color": "#636efa",
          "dash": "solid"
         },
         "marker": {
          "symbol": "circle"
         },
         "mode": "lines",
         "name": "baseline, bounds",
         "orientation": "v",
         "showlegend": false,
         "type": "scatter",
         "x": [
          "1_01",
          "1_02",
          "1_03",
          "1_04",
          "1_05",
          "1_06",
          "1_07",
          "1_08",
          "1_09",
          "1_10",
          "1_11",
          "1_12",
          "1_13",
          "1_14",
          "1_15",
          "1_16",
          "1_17",
          "1_18",
          "1_19",
          "1_20",
          "1_21",
          "1_22",
          "1_23",
          "1_24",
          "1_25",
          "1_26",
          "1_27",
          "1_28",
          "1_29",
          "1_30"
         ],
         "xaxis": "x2",
         "y": [
          140,
          130.33333333333334,
          219,
          229.33333333333334,
          290.6666666666667,
          197.66666666666666,
          219.33333333333334,
          357.6666666666667,
          260,
          200.66666666666666,
          426.6666666666667,
          493,
          379.6666666666667,
          223.33333333333334,
          192.66666666666666,
          240.66666666666666,
          481.6666666666667,
          660.3333333333334,
          433.3333333333333,
          466.3333333333333,
          454,
          323.3333333333333,
          690,
          199.33333333333334,
          806.3333333333334,
          598,
          749,
          716.6666666666666,
          null,
          null
         ],
         "yaxis": "y2"
        },
        {
         "error_y": {
          "array": [
           null,
           null,
           null,
           null,
           null,
           null,
           null,
           null,
           null,
           null,
           null,
           null,
           null,
           null,
           null,
           null,
           null,
           null,
           null,
           null,
           null,
           null,
           null,
           null,
           null,
           null,
           null,
           null,
           null,
           null
          ]
         },
         "hovertemplate": "solver=optimal<br>type=bounds<br>difficulty=0<br>problem=%{x}<br>plan_length_mean=%{y}<extra></extra>",
         "legendgroup": "optimal, bounds",
         "line": {
          "color": "#EF553B",
          "dash": "solid"
         },
         "marker": {
          "symbol": "circle"
         },
         "mode": "lines",
         "name": "optimal, bounds",
         "orientation": "v",
         "showlegend": true,
         "type": "scatter",
         "x": [
          "0_01",
          "0_02",
          "0_03",
          "0_04",
          "0_05",
          "0_06",
          "0_07",
          "0_08",
          "0_09",
          "0_10",
          "0_11",
          "0_12",
          "0_13",
          "0_14",
          "0_15",
          "0_16",
          "0_17",
          "0_18",
          "0_19",
          "0_20",
          "0_21",
          "0_22",
          "0_23",
          "0_24",
          "0_25",
          "0_26",
          "0_27",
          "0_28",
          "0_29",
          "0_30"
         ],
         "xaxis": "x",
         "y": [
          9,
          16,
          23,
          16,
          6,
          20,
          34,
          17,
          6,
          16,
          26,
          28,
          34,
          21,
          41,
          24,
          null,
          26,
          null,
          null,
          null,
          null,
          null,
          null,
          null,
          null,
          null,
          null,
          23,
          null
         ],
         "yaxis": "y"
        },
        {
         "error_y": {
          "array": [
           null,
           null,
           null,
           null,
           null,
           null,
           null,
           null,
           null,
           null,
           null,
           null,
           null,
           null,
           null,
           null,
           null,
           null,
           null,
           null,
           null,
           null,
           null,
           null,
           null,
           null,
           null,
           null,
           null,
           null
          ]
         },
         "hovertemplate": "solver=optimal<br>type=bounds<br>difficulty=1<br>problem=%{x}<br>plan_length_mean=%{y}<extra></extra>",
         "legendgroup": "optimal, bounds",
         "line": {
          "color": "#EF553B",
          "dash": "solid"
         },
         "marker": {
          "symbol": "circle"
         },
         "mode": "lines",
         "name": "optimal, bounds",
         "orientation": "v",
         "showlegend": false,
         "type": "scatter",
         "x": [
          "1_01",
          "1_02",
          "1_03",
          "1_04",
          "1_05",
          "1_06",
          "1_07",
          "1_08",
          "1_09",
          "1_10",
          "1_11",
          "1_12",
          "1_13",
          "1_14",
          "1_15",
          "1_16",
          "1_17",
          "1_18",
          "1_19",
          "1_20",
          "1_21",
          "1_22",
          "1_23",
          "1_24",
          "1_25",
          "1_26",
          "1_27",
          "1_28",
          "1_29",
          "1_30"
         ],
         "xaxis": "x2",
         "y": [
          null,
          null,
          null,
          null,
          null,
          null,
          null,
          null,
          null,
          null,
          null,
          null,
          null,
          null,
          null,
          null,
          null,
          null,
          null,
          null,
          null,
          null,
          null,
          null,
          null,
          null,
          null,
          null,
          null,
          null
         ],
         "yaxis": "y2"
        },
        {
         "error_y": {
          "array": [
           null,
           null,
           null,
           null,
           null,
           null,
           null,
           null,
           null,
           null,
           null,
           null,
           null,
           null,
           null,
           null,
           null,
           null,
           null,
           null,
           null,
           null,
           null,
           null,
           null,
           null,
           null,
           null,
           null,
           null
          ]
         },
         "hovertemplate": "solver=lama<br>type=bounds<br>difficulty=0<br>problem=%{x}<br>plan_length_mean=%{y}<extra></extra>",
         "legendgroup": "lama, bounds",
         "line": {
          "color": "#00cc96",
          "dash": "solid"
         },
         "marker": {
          "symbol": "circle"
         },
         "mode": "lines",
         "name": "lama, bounds",
         "orientation": "v",
         "showlegend": true,
         "type": "scatter",
         "x": [
          "0_01",
          "0_02",
          "0_03",
          "0_04",
          "0_05",
          "0_06",
          "0_07",
          "0_08",
          "0_09",
          "0_10",
          "0_11",
          "0_12",
          "0_13",
          "0_14",
          "0_15",
          "0_16",
          "0_17",
          "0_18",
          "0_19",
          "0_20",
          "0_21",
          "0_22",
          "0_23",
          "0_24",
          "0_25",
          "0_26",
          "0_27",
          "0_28",
          "0_29",
          "0_30"
         ],
         "xaxis": "x",
         "y": [
          9,
          17,
          24,
          17,
          7,
          21,
          37,
          19,
          6,
          16,
          31,
          28,
          37,
          25,
          42,
          27,
          67,
          28,
          60,
          94,
          46,
          98,
          77,
          74,
          53,
          47,
          76,
          123,
          25,
          107
         ],
         "yaxis": "y"
        },
        {
         "error_y": {
          "array": [
           null,
           null,
           null,
           null,
           null,
           null,
           null,
           null,
           null,
           null,
           null,
           null,
           null,
           null,
           null,
           null,
           null,
           null,
           null,
           null,
           null,
           null,
           null,
           null,
           null,
           null,
           null,
           null,
           null,
           null
          ]
         },
         "hovertemplate": "solver=lama<br>type=bounds<br>difficulty=1<br>problem=%{x}<br>plan_length_mean=%{y}<extra></extra>",
         "legendgroup": "lama, bounds",
         "line": {
          "color": "#00cc96",
          "dash": "solid"
         },
         "marker": {
          "symbol": "circle"
         },
         "mode": "lines",
         "name": "lama, bounds",
         "orientation": "v",
         "showlegend": false,
         "type": "scatter",
         "x": [
          "1_01",
          "1_02",
          "1_03",
          "1_04",
          "1_05",
          "1_06",
          "1_07",
          "1_08",
          "1_09",
          "1_10",
          "1_11",
          "1_12",
          "1_13",
          "1_14",
          "1_15",
          "1_16",
          "1_17",
          "1_18",
          "1_19",
          "1_20",
          "1_21",
          "1_22",
          "1_23",
          "1_24",
          "1_25",
          "1_26",
          "1_27",
          "1_28",
          "1_29",
          "1_30"
         ],
         "xaxis": "x2",
         "y": [
          142,
          140,
          300,
          227,
          296,
          222,
          215,
          358,
          255,
          228,
          446,
          521,
          385,
          218,
          193,
          228,
          471,
          null,
          null,
          635,
          483,
          328,
          689,
          194,
          806,
          609,
          null,
          872,
          null,
          1188
         ],
         "yaxis": "y2"
        },
        {
         "error_y": {
          "array": [
           0,
           0.5773502691896263,
           0.5773502691896255,
           0.5773502691896255,
           0.5773502691896257,
           0,
           0,
           0.5773502691896263,
           0,
           0,
           0.5773502691896255,
           0,
           0,
           1.1547005383792517,
           0,
           0.5773502691896255,
           2.5166114784235822,
           0,
           1.7320508075688772,
           1.1547005383792495,
           0.5773502691896247,
           0,
           1.1547005383792526,
           0.5773502691896263,
           0.5773502691896263,
           0.5773502691896263,
           1.5275252316519468,
           2.309401076758505,
           1.5275252316519465,
           0.5773502691896247
          ]
         },
         "hovertemplate": "solver=L2_D8_best<br>type=lrnn_best<br>difficulty=0<br>problem=%{x}<br>plan_length_mean=%{y}<extra></extra>",
         "legendgroup": "L2_D8_best, lrnn_best",
         "line": {
          "color": "#ab63fa",
          "dash": "dot"
         },
         "marker": {
          "symbol": "circle"
         },
         "mode": "lines",
         "name": "L2_D8_best, lrnn_best",
         "orientation": "v",
         "showlegend": true,
         "type": "scatter",
         "x": [
          "0_01",
          "0_02",
          "0_03",
          "0_04",
          "0_05",
          "0_06",
          "0_07",
          "0_08",
          "0_09",
          "0_10",
          "0_11",
          "0_12",
          "0_13",
          "0_14",
          "0_15",
          "0_16",
          "0_17",
          "0_18",
          "0_19",
          "0_20",
          "0_21",
          "0_22",
          "0_23",
          "0_24",
          "0_25",
          "0_26",
          "0_27",
          "0_28",
          "0_29",
          "0_30"
         ],
         "xaxis": "x",
         "y": [
          9,
          16.333333333333332,
          23.333333333333332,
          16.666666666666668,
          6.666666666666667,
          20,
          35,
          18.333333333333332,
          6,
          17,
          26.333333333333332,
          28,
          34,
          22.333333333333332,
          42,
          28.333333333333332,
          56.333333333333336,
          27,
          52,
          83.33333333333333,
          40.333333333333336,
          91,
          69.33333333333333,
          61.333333333333336,
          53.333333333333336,
          48.666666666666664,
          62.666666666666664,
          117.33333333333333,
          24.666666666666668,
          93.33333333333333
         ],
         "yaxis": "y"
        },
        {
         "error_y": {
          "array": [
           1.1547005383792495,
           2.0816659994661366,
           2.5166114784235796,
           2.08166599946613,
           2,
           3.0550504633038926,
           1.5275252316519499,
           3.5118845842842457,
           2.0816659994661317,
           1,
           0.5773502691896216,
           4.041451884327387,
           4.7258156262526105,
           1.5275252316519474,
           2.6457513110645907,
           0,
           null,
           null,
           5.656854249492381,
           null,
           3.5118845842842537,
           9.899494936611665,
           null,
           4.725815626252612,
           null,
           28.284271247461902,
           null,
           null,
           null,
           null
          ]
         },
         "hovertemplate": "solver=L2_D8_best<br>type=lrnn_best<br>difficulty=1<br>problem=%{x}<br>plan_length_mean=%{y}<extra></extra>",
         "legendgroup": "L2_D8_best, lrnn_best",
         "line": {
          "color": "#ab63fa",
          "dash": "dot"
         },
         "marker": {
          "symbol": "circle"
         },
         "mode": "lines",
         "name": "L2_D8_best, lrnn_best",
         "orientation": "v",
         "showlegend": false,
         "type": "scatter",
         "x": [
          "1_01",
          "1_02",
          "1_03",
          "1_04",
          "1_05",
          "1_06",
          "1_07",
          "1_08",
          "1_09",
          "1_10",
          "1_11",
          "1_12",
          "1_13",
          "1_14",
          "1_15",
          "1_16",
          "1_17",
          "1_18",
          "1_19",
          "1_20",
          "1_21",
          "1_22",
          "1_23",
          "1_24",
          "1_25",
          "1_26",
          "1_27",
          "1_28",
          "1_29",
          "1_30"
         ],
         "xaxis": "x2",
         "y": [
          134.33333333333334,
          128.66666666666666,
          215.33333333333334,
          221.33333333333334,
          281,
          191.33333333333334,
          216.33333333333334,
          352.6666666666667,
          253.33333333333334,
          197,
          417.3333333333333,
          480.3333333333333,
          379.3333333333333,
          223.66666666666666,
          184,
          237,
          null,
          null,
          408,
          456,
          450.3333333333333,
          311,
          683,
          194.66666666666666,
          null,
          609,
          728,
          null,
          null,
          null
         ],
         "yaxis": "y2"
        },
        {
         "error_y": {
          "array": [
           0,
           0.7071067811865476,
           0.7071067811865476,
           0,
           0.7071067811865476,
           0,
           0,
           0,
           0,
           0,
           0.7071067811865476,
           0,
           0,
           1.4142135623730951,
           0.7071067811865476,
           0,
           2.1213203435596424,
           1.4142135623730951,
           2.1213203435596424,
           2.8284271247461903,
           1.4142135623730951,
           0,
           0.7071067811865476,
           0,
           0,
           0.7071067811865476,
           0.7071067811865476,
           0.7071067811865476,
           0,
           0.7071067811865476
          ]
         },
         "hovertemplate": "solver=L2_D16_best<br>type=lrnn_best<br>difficulty=0<br>problem=%{x}<br>plan_length_mean=%{y}<extra></extra>",
         "legendgroup": "L2_D16_best, lrnn_best",
         "line": {
          "color": "#FFA15A",
          "dash": "dot"
         },
         "marker": {
          "symbol": "circle"
         },
         "mode": "lines",
         "name": "L2_D16_best, lrnn_best",
         "orientation": "v",
         "showlegend": true,
         "type": "scatter",
         "x": [
          "0_01",
          "0_02",
          "0_03",
          "0_04",
          "0_05",
          "0_06",
          "0_07",
          "0_08",
          "0_09",
          "0_10",
          "0_11",
          "0_12",
          "0_13",
          "0_14",
          "0_15",
          "0_16",
          "0_17",
          "0_18",
          "0_19",
          "0_20",
          "0_21",
          "0_22",
          "0_23",
          "0_24",
          "0_25",
          "0_26",
          "0_27",
          "0_28",
          "0_29",
          "0_30"
         ],
         "xaxis": "x",
         "y": [
          9,
          16.5,
          23.5,
          17,
          6.5,
          20,
          35,
          18,
          6,
          17,
          26.5,
          28,
          34,
          22,
          42.5,
          28,
          56.5,
          28,
          52.5,
          84,
          41,
          91,
          68.5,
          60,
          55,
          48.5,
          63.5,
          118.5,
          25,
          94.5
         ],
         "yaxis": "y"
        },
        {
         "error_y": {
          "array": [
           0,
           1.4142135623730951,
           1.4142135623730951,
           2.1213203435596424,
           2.8284271247461903,
           1.4142135623730951,
           1.4142135623730951,
           2.8284271247461903,
           2.1213203435596424,
           2.1213203435596424,
           null,
           null,
           2.1213203435596424,
           1.4142135623730951,
           0,
           null,
           null,
           null,
           null,
           null,
           null,
           null,
           4.242640687119285,
           null,
           null,
           null,
           null,
           null,
           null
          ]
         },
         "hovertemplate": "solver=L2_D16_best<br>type=lrnn_best<br>difficulty=1<br>problem=%{x}<br>plan_length_mean=%{y}<extra></extra>",
         "legendgroup": "L2_D16_best, lrnn_best",
         "line": {
          "color": "#FFA15A",
          "dash": "dot"
         },
         "marker": {
          "symbol": "circle"
         },
         "mode": "lines",
         "name": "L2_D16_best, lrnn_best",
         "orientation": "v",
         "showlegend": false,
         "type": "scatter",
         "x": [
          "1_01",
          "1_02",
          "1_03",
          "1_04",
          "1_05",
          "1_06",
          "1_07",
          "1_08",
          "1_09",
          "1_10",
          "1_11",
          "1_12",
          "1_13",
          "1_14",
          "1_15",
          "1_16",
          "1_17",
          "1_18",
          "1_19",
          "1_20",
          "1_21",
          "1_22",
          "1_24",
          "1_25",
          "1_26",
          "1_27",
          "1_28",
          "1_29",
          "1_30"
         ],
         "xaxis": "x2",
         "y": [
          136,
          128,
          215,
          222.5,
          281,
          190,
          215,
          352,
          256.5,
          196.5,
          411,
          476,
          374.5,
          222,
          180,
          238,
          null,
          null,
          null,
          null,
          null,
          305,
          185,
          null,
          null,
          null,
          null,
          null,
          null
         ],
         "yaxis": "y2"
        }
       ],
       "layout": {
        "annotations": [
         {
          "font": {},
          "showarrow": false,
          "text": "difficulty=0",
          "x": 0.245,
          "xanchor": "center",
          "xref": "paper",
          "y": 1,
          "yanchor": "bottom",
          "yref": "paper"
         },
         {
          "font": {},
          "showarrow": false,
          "text": "difficulty=1",
          "x": 0.755,
          "xanchor": "center",
          "xref": "paper",
          "y": 1,
          "yanchor": "bottom",
          "yref": "paper"
         }
        ],
        "legend": {
         "title": {
          "text": "solver, type"
         },
         "tracegroupgap": 0
        },
        "margin": {
         "t": 60
        },
        "template": {
         "data": {
          "bar": [
           {
            "error_x": {
             "color": "#2a3f5f"
            },
            "error_y": {
             "color": "#2a3f5f"
            },
            "marker": {
             "line": {
              "color": "#E5ECF6",
              "width": 0.5
             },
             "pattern": {
              "fillmode": "overlay",
              "size": 10,
              "solidity": 0.2
             }
            },
            "type": "bar"
           }
          ],
          "barpolar": [
           {
            "marker": {
             "line": {
              "color": "#E5ECF6",
              "width": 0.5
             },
             "pattern": {
              "fillmode": "overlay",
              "size": 10,
              "solidity": 0.2
             }
            },
            "type": "barpolar"
           }
          ],
          "carpet": [
           {
            "aaxis": {
             "endlinecolor": "#2a3f5f",
             "gridcolor": "white",
             "linecolor": "white",
             "minorgridcolor": "white",
             "startlinecolor": "#2a3f5f"
            },
            "baxis": {
             "endlinecolor": "#2a3f5f",
             "gridcolor": "white",
             "linecolor": "white",
             "minorgridcolor": "white",
             "startlinecolor": "#2a3f5f"
            },
            "type": "carpet"
           }
          ],
          "choropleth": [
           {
            "colorbar": {
             "outlinewidth": 0,
             "ticks": ""
            },
            "type": "choropleth"
           }
          ],
          "contour": [
           {
            "colorbar": {
             "outlinewidth": 0,
             "ticks": ""
            },
            "colorscale": [
             [
              0,
              "#0d0887"
             ],
             [
              0.1111111111111111,
              "#46039f"
             ],
             [
              0.2222222222222222,
              "#7201a8"
             ],
             [
              0.3333333333333333,
              "#9c179e"
             ],
             [
              0.4444444444444444,
              "#bd3786"
             ],
             [
              0.5555555555555556,
              "#d8576b"
             ],
             [
              0.6666666666666666,
              "#ed7953"
             ],
             [
              0.7777777777777778,
              "#fb9f3a"
             ],
             [
              0.8888888888888888,
              "#fdca26"
             ],
             [
              1,
              "#f0f921"
             ]
            ],
            "type": "contour"
           }
          ],
          "contourcarpet": [
           {
            "colorbar": {
             "outlinewidth": 0,
             "ticks": ""
            },
            "type": "contourcarpet"
           }
          ],
          "heatmap": [
           {
            "colorbar": {
             "outlinewidth": 0,
             "ticks": ""
            },
            "colorscale": [
             [
              0,
              "#0d0887"
             ],
             [
              0.1111111111111111,
              "#46039f"
             ],
             [
              0.2222222222222222,
              "#7201a8"
             ],
             [
              0.3333333333333333,
              "#9c179e"
             ],
             [
              0.4444444444444444,
              "#bd3786"
             ],
             [
              0.5555555555555556,
              "#d8576b"
             ],
             [
              0.6666666666666666,
              "#ed7953"
             ],
             [
              0.7777777777777778,
              "#fb9f3a"
             ],
             [
              0.8888888888888888,
              "#fdca26"
             ],
             [
              1,
              "#f0f921"
             ]
            ],
            "type": "heatmap"
           }
          ],
          "heatmapgl": [
           {
            "colorbar": {
             "outlinewidth": 0,
             "ticks": ""
            },
            "colorscale": [
             [
              0,
              "#0d0887"
             ],
             [
              0.1111111111111111,
              "#46039f"
             ],
             [
              0.2222222222222222,
              "#7201a8"
             ],
             [
              0.3333333333333333,
              "#9c179e"
             ],
             [
              0.4444444444444444,
              "#bd3786"
             ],
             [
              0.5555555555555556,
              "#d8576b"
             ],
             [
              0.6666666666666666,
              "#ed7953"
             ],
             [
              0.7777777777777778,
              "#fb9f3a"
             ],
             [
              0.8888888888888888,
              "#fdca26"
             ],
             [
              1,
              "#f0f921"
             ]
            ],
            "type": "heatmapgl"
           }
          ],
          "histogram": [
           {
            "marker": {
             "pattern": {
              "fillmode": "overlay",
              "size": 10,
              "solidity": 0.2
             }
            },
            "type": "histogram"
           }
          ],
          "histogram2d": [
           {
            "colorbar": {
             "outlinewidth": 0,
             "ticks": ""
            },
            "colorscale": [
             [
              0,
              "#0d0887"
             ],
             [
              0.1111111111111111,
              "#46039f"
             ],
             [
              0.2222222222222222,
              "#7201a8"
             ],
             [
              0.3333333333333333,
              "#9c179e"
             ],
             [
              0.4444444444444444,
              "#bd3786"
             ],
             [
              0.5555555555555556,
              "#d8576b"
             ],
             [
              0.6666666666666666,
              "#ed7953"
             ],
             [
              0.7777777777777778,
              "#fb9f3a"
             ],
             [
              0.8888888888888888,
              "#fdca26"
             ],
             [
              1,
              "#f0f921"
             ]
            ],
            "type": "histogram2d"
           }
          ],
          "histogram2dcontour": [
           {
            "colorbar": {
             "outlinewidth": 0,
             "ticks": ""
            },
            "colorscale": [
             [
              0,
              "#0d0887"
             ],
             [
              0.1111111111111111,
              "#46039f"
             ],
             [
              0.2222222222222222,
              "#7201a8"
             ],
             [
              0.3333333333333333,
              "#9c179e"
             ],
             [
              0.4444444444444444,
              "#bd3786"
             ],
             [
              0.5555555555555556,
              "#d8576b"
             ],
             [
              0.6666666666666666,
              "#ed7953"
             ],
             [
              0.7777777777777778,
              "#fb9f3a"
             ],
             [
              0.8888888888888888,
              "#fdca26"
             ],
             [
              1,
              "#f0f921"
             ]
            ],
            "type": "histogram2dcontour"
           }
          ],
          "mesh3d": [
           {
            "colorbar": {
             "outlinewidth": 0,
             "ticks": ""
            },
            "type": "mesh3d"
           }
          ],
          "parcoords": [
           {
            "line": {
             "colorbar": {
              "outlinewidth": 0,
              "ticks": ""
             }
            },
            "type": "parcoords"
           }
          ],
          "pie": [
           {
            "automargin": true,
            "type": "pie"
           }
          ],
          "scatter": [
           {
            "fillpattern": {
             "fillmode": "overlay",
             "size": 10,
             "solidity": 0.2
            },
            "type": "scatter"
           }
          ],
          "scatter3d": [
           {
            "line": {
             "colorbar": {
              "outlinewidth": 0,
              "ticks": ""
             }
            },
            "marker": {
             "colorbar": {
              "outlinewidth": 0,
              "ticks": ""
             }
            },
            "type": "scatter3d"
           }
          ],
          "scattercarpet": [
           {
            "marker": {
             "colorbar": {
              "outlinewidth": 0,
              "ticks": ""
             }
            },
            "type": "scattercarpet"
           }
          ],
          "scattergeo": [
           {
            "marker": {
             "colorbar": {
              "outlinewidth": 0,
              "ticks": ""
             }
            },
            "type": "scattergeo"
           }
          ],
          "scattergl": [
           {
            "marker": {
             "colorbar": {
              "outlinewidth": 0,
              "ticks": ""
             }
            },
            "type": "scattergl"
           }
          ],
          "scattermapbox": [
           {
            "marker": {
             "colorbar": {
              "outlinewidth": 0,
              "ticks": ""
             }
            },
            "type": "scattermapbox"
           }
          ],
          "scatterpolar": [
           {
            "marker": {
             "colorbar": {
              "outlinewidth": 0,
              "ticks": ""
             }
            },
            "type": "scatterpolar"
           }
          ],
          "scatterpolargl": [
           {
            "marker": {
             "colorbar": {
              "outlinewidth": 0,
              "ticks": ""
             }
            },
            "type": "scatterpolargl"
           }
          ],
          "scatterternary": [
           {
            "marker": {
             "colorbar": {
              "outlinewidth": 0,
              "ticks": ""
             }
            },
            "type": "scatterternary"
           }
          ],
          "surface": [
           {
            "colorbar": {
             "outlinewidth": 0,
             "ticks": ""
            },
            "colorscale": [
             [
              0,
              "#0d0887"
             ],
             [
              0.1111111111111111,
              "#46039f"
             ],
             [
              0.2222222222222222,
              "#7201a8"
             ],
             [
              0.3333333333333333,
              "#9c179e"
             ],
             [
              0.4444444444444444,
              "#bd3786"
             ],
             [
              0.5555555555555556,
              "#d8576b"
             ],
             [
              0.6666666666666666,
              "#ed7953"
             ],
             [
              0.7777777777777778,
              "#fb9f3a"
             ],
             [
              0.8888888888888888,
              "#fdca26"
             ],
             [
              1,
              "#f0f921"
             ]
            ],
            "type": "surface"
           }
          ],
          "table": [
           {
            "cells": {
             "fill": {
              "color": "#EBF0F8"
             },
             "line": {
              "color": "white"
             }
            },
            "header": {
             "fill": {
              "color": "#C8D4E3"
             },
             "line": {
              "color": "white"
             }
            },
            "type": "table"
           }
          ]
         },
         "layout": {
          "annotationdefaults": {
           "arrowcolor": "#2a3f5f",
           "arrowhead": 0,
           "arrowwidth": 1
          },
          "autotypenumbers": "strict",
          "coloraxis": {
           "colorbar": {
            "outlinewidth": 0,
            "ticks": ""
           }
          },
          "colorscale": {
           "diverging": [
            [
             0,
             "#8e0152"
            ],
            [
             0.1,
             "#c51b7d"
            ],
            [
             0.2,
             "#de77ae"
            ],
            [
             0.3,
             "#f1b6da"
            ],
            [
             0.4,
             "#fde0ef"
            ],
            [
             0.5,
             "#f7f7f7"
            ],
            [
             0.6,
             "#e6f5d0"
            ],
            [
             0.7,
             "#b8e186"
            ],
            [
             0.8,
             "#7fbc41"
            ],
            [
             0.9,
             "#4d9221"
            ],
            [
             1,
             "#276419"
            ]
           ],
           "sequential": [
            [
             0,
             "#0d0887"
            ],
            [
             0.1111111111111111,
             "#46039f"
            ],
            [
             0.2222222222222222,
             "#7201a8"
            ],
            [
             0.3333333333333333,
             "#9c179e"
            ],
            [
             0.4444444444444444,
             "#bd3786"
            ],
            [
             0.5555555555555556,
             "#d8576b"
            ],
            [
             0.6666666666666666,
             "#ed7953"
            ],
            [
             0.7777777777777778,
             "#fb9f3a"
            ],
            [
             0.8888888888888888,
             "#fdca26"
            ],
            [
             1,
             "#f0f921"
            ]
           ],
           "sequentialminus": [
            [
             0,
             "#0d0887"
            ],
            [
             0.1111111111111111,
             "#46039f"
            ],
            [
             0.2222222222222222,
             "#7201a8"
            ],
            [
             0.3333333333333333,
             "#9c179e"
            ],
            [
             0.4444444444444444,
             "#bd3786"
            ],
            [
             0.5555555555555556,
             "#d8576b"
            ],
            [
             0.6666666666666666,
             "#ed7953"
            ],
            [
             0.7777777777777778,
             "#fb9f3a"
            ],
            [
             0.8888888888888888,
             "#fdca26"
            ],
            [
             1,
             "#f0f921"
            ]
           ]
          },
          "colorway": [
           "#636efa",
           "#EF553B",
           "#00cc96",
           "#ab63fa",
           "#FFA15A",
           "#19d3f3",
           "#FF6692",
           "#B6E880",
           "#FF97FF",
           "#FECB52"
          ],
          "font": {
           "color": "#2a3f5f"
          },
          "geo": {
           "bgcolor": "white",
           "lakecolor": "white",
           "landcolor": "#E5ECF6",
           "showlakes": true,
           "showland": true,
           "subunitcolor": "white"
          },
          "hoverlabel": {
           "align": "left"
          },
          "hovermode": "closest",
          "mapbox": {
           "style": "light"
          },
          "paper_bgcolor": "white",
          "plot_bgcolor": "#E5ECF6",
          "polar": {
           "angularaxis": {
            "gridcolor": "white",
            "linecolor": "white",
            "ticks": ""
           },
           "bgcolor": "#E5ECF6",
           "radialaxis": {
            "gridcolor": "white",
            "linecolor": "white",
            "ticks": ""
           }
          },
          "scene": {
           "xaxis": {
            "backgroundcolor": "#E5ECF6",
            "gridcolor": "white",
            "gridwidth": 2,
            "linecolor": "white",
            "showbackground": true,
            "ticks": "",
            "zerolinecolor": "white"
           },
           "yaxis": {
            "backgroundcolor": "#E5ECF6",
            "gridcolor": "white",
            "gridwidth": 2,
            "linecolor": "white",
            "showbackground": true,
            "ticks": "",
            "zerolinecolor": "white"
           },
           "zaxis": {
            "backgroundcolor": "#E5ECF6",
            "gridcolor": "white",
            "gridwidth": 2,
            "linecolor": "white",
            "showbackground": true,
            "ticks": "",
            "zerolinecolor": "white"
           }
          },
          "shapedefaults": {
           "line": {
            "color": "#2a3f5f"
           }
          },
          "ternary": {
           "aaxis": {
            "gridcolor": "white",
            "linecolor": "white",
            "ticks": ""
           },
           "baxis": {
            "gridcolor": "white",
            "linecolor": "white",
            "ticks": ""
           },
           "bgcolor": "#E5ECF6",
           "caxis": {
            "gridcolor": "white",
            "linecolor": "white",
            "ticks": ""
           }
          },
          "title": {
           "x": 0.05
          },
          "xaxis": {
           "automargin": true,
           "gridcolor": "white",
           "linecolor": "white",
           "ticks": "",
           "title": {
            "standoff": 15
           },
           "zerolinecolor": "white",
           "zerolinewidth": 2
          },
          "yaxis": {
           "automargin": true,
           "gridcolor": "white",
           "linecolor": "white",
           "ticks": "",
           "title": {
            "standoff": 15
           },
           "zerolinecolor": "white",
           "zerolinewidth": 2
          }
         }
        },
        "xaxis": {
         "anchor": "y",
         "categoryarray": [
          "0_01",
          "0_02",
          "0_03",
          "0_04",
          "0_05",
          "0_06",
          "0_07",
          "0_08",
          "0_09",
          "0_10",
          "0_11",
          "0_12",
          "0_13",
          "0_14",
          "0_15",
          "0_16",
          "0_17",
          "0_18",
          "0_19",
          "0_20",
          "0_21",
          "0_22",
          "0_23",
          "0_24",
          "0_25",
          "0_26",
          "0_27",
          "0_28",
          "0_29",
          "0_30",
          "1_01",
          "1_02",
          "1_03",
          "1_04",
          "1_05",
          "1_06",
          "1_07",
          "1_08",
          "1_09",
          "1_10",
          "1_11",
          "1_12",
          "1_13",
          "1_14",
          "1_15",
          "1_16",
          "1_17",
          "1_18",
          "1_19",
          "1_20",
          "1_21",
          "1_22",
          "1_23",
          "1_24",
          "1_25",
          "1_26",
          "1_27",
          "1_28",
          "1_29",
          "1_30"
         ],
         "categoryorder": "array",
         "domain": [
          0,
          0.49
         ],
         "showticklabels": true,
         "title": {
          "text": "problem"
         }
        },
        "xaxis2": {
         "anchor": "y2",
         "categoryarray": [
          "0_01",
          "0_02",
          "0_03",
          "0_04",
          "0_05",
          "0_06",
          "0_07",
          "0_08",
          "0_09",
          "0_10",
          "0_11",
          "0_12",
          "0_13",
          "0_14",
          "0_15",
          "0_16",
          "0_17",
          "0_18",
          "0_19",
          "0_20",
          "0_21",
          "0_22",
          "0_23",
          "0_24",
          "0_25",
          "0_26",
          "0_27",
          "0_28",
          "0_29",
          "0_30",
          "1_01",
          "1_02",
          "1_03",
          "1_04",
          "1_05",
          "1_06",
          "1_07",
          "1_08",
          "1_09",
          "1_10",
          "1_11",
          "1_12",
          "1_13",
          "1_14",
          "1_15",
          "1_16",
          "1_17",
          "1_18",
          "1_19",
          "1_20",
          "1_21",
          "1_22",
          "1_23",
          "1_24",
          "1_25",
          "1_26",
          "1_27",
          "1_28",
          "1_29",
          "1_30"
         ],
         "categoryorder": "array",
         "domain": [
          0.51,
          1
         ],
         "showticklabels": true,
         "title": {
          "text": "problem"
         }
        },
        "yaxis": {
         "anchor": "x",
         "domain": [
          0,
          1
         ],
         "showticklabels": true,
         "title": {
          "text": "plan_length_mean"
         }
        },
        "yaxis2": {
         "anchor": "x2",
         "domain": [
          0,
          1
         ],
         "showticklabels": true
        }
       }
      }
     },
     "metadata": {},
     "output_type": "display_data"
    }
   ],
   "source": [
    "plot_domains(\"plan_length\", log_y=0, choices=choices, layers=layers, dimensions=dimensions)"
   ]
  },
  {
   "cell_type": "markdown",
   "metadata": {},
   "source": [
    "# Cycle plots"
   ]
  },
  {
   "cell_type": "code",
   "execution_count": 4,
   "metadata": {},
   "outputs": [
    {
     "name": "stdout",
     "output_type": "stream",
     "text": [
      "blocksworld\n"
     ]
    },
    {
     "data": {
      "application/vnd.plotly.v1+json": {
       "config": {
        "plotlyServerURL": "https://plot.ly"
       },
       "data": [
        {
         "error_y": {
          "array": [
           0,
           0,
           0,
           0,
           0,
           0,
           0,
           0,
           0,
           0,
           0,
           0,
           0,
           0,
           0,
           0,
           0,
           0,
           0,
           0,
           0,
           0,
           0,
           0,
           0,
           0,
           0,
           0,
           0,
           0
          ]
         },
         "hovertemplate": "solver=baseline<br>type=bounds<br>difficulty=0<br>problem=%{x}<br>cycles_mean=%{y}<extra></extra>",
         "legendgroup": "baseline, bounds",
         "line": {
          "color": "#636efa",
          "dash": "solid"
         },
         "marker": {
          "symbol": "circle"
         },
         "mode": "lines",
         "name": "baseline, bounds",
         "orientation": "v",
         "showlegend": true,
         "type": "scatter",
         "x": [
          "0_01",
          "0_02",
          "0_03",
          "0_04",
          "0_05",
          "0_06",
          "0_07",
          "0_08",
          "0_09",
          "0_10",
          "0_11",
          "0_12",
          "0_13",
          "0_14",
          "0_15",
          "0_16",
          "0_17",
          "0_18",
          "0_19",
          "0_20",
          "0_21",
          "0_22",
          "0_23",
          "0_24",
          "0_25",
          "0_26",
          "0_27",
          "0_28",
          "0_29",
          "0_30"
         ],
         "xaxis": "x",
         "y": [
          0,
          0,
          0,
          0,
          0,
          0,
          0,
          0,
          0,
          0,
          0,
          0,
          0,
          0,
          0,
          0,
          0,
          0,
          0,
          0,
          0,
          0,
          0,
          0,
          0,
          0,
          0,
          0,
          0,
          0
         ],
         "yaxis": "y"
        },
        {
         "error_y": {
          "array": [
           0,
           0,
           0,
           0,
           0,
           0,
           0,
           0,
           0,
           0,
           0,
           0,
           0,
           0,
           0,
           0,
           0,
           0,
           0,
           0,
           0,
           0,
           0,
           0,
           0,
           0,
           0,
           0,
           0,
           0
          ]
         },
         "hovertemplate": "solver=baseline<br>type=bounds<br>difficulty=1<br>problem=%{x}<br>cycles_mean=%{y}<extra></extra>",
         "legendgroup": "baseline, bounds",
         "line": {
          "color": "#636efa",
          "dash": "solid"
         },
         "marker": {
          "symbol": "circle"
         },
         "mode": "lines",
         "name": "baseline, bounds",
         "orientation": "v",
         "showlegend": false,
         "type": "scatter",
         "x": [
          "1_01",
          "1_02",
          "1_03",
          "1_04",
          "1_05",
          "1_06",
          "1_07",
          "1_08",
          "1_09",
          "1_10",
          "1_11",
          "1_12",
          "1_13",
          "1_14",
          "1_15",
          "1_16",
          "1_17",
          "1_18",
          "1_19",
          "1_20",
          "1_21",
          "1_22",
          "1_23",
          "1_24",
          "1_25",
          "1_26",
          "1_27",
          "1_28",
          "1_29",
          "1_30"
         ],
         "xaxis": "x2",
         "y": [
          0,
          0,
          0,
          0,
          0,
          0,
          0,
          0,
          0,
          0,
          0,
          0,
          0,
          0,
          0,
          0,
          0,
          0,
          0,
          0,
          0,
          0,
          0,
          0,
          0,
          0,
          0,
          0,
          0,
          0
         ],
         "yaxis": "y2"
        },
        {
         "error_y": {
          "array": [
           null,
           null,
           null,
           null,
           null,
           null,
           null,
           null,
           null,
           null,
           null,
           null,
           null,
           null,
           null,
           null,
           null,
           null,
           null,
           null,
           null,
           null,
           null,
           null,
           null,
           null,
           null,
           null,
           null,
           null
          ]
         },
         "hovertemplate": "solver=optimal<br>type=bounds<br>difficulty=0<br>problem=%{x}<br>cycles_mean=%{y}<extra></extra>",
         "legendgroup": "optimal, bounds",
         "line": {
          "color": "#EF553B",
          "dash": "solid"
         },
         "marker": {
          "symbol": "circle"
         },
         "mode": "lines",
         "name": "optimal, bounds",
         "orientation": "v",
         "showlegend": true,
         "type": "scatter",
         "x": [
          "0_01",
          "0_02",
          "0_03",
          "0_04",
          "0_05",
          "0_06",
          "0_07",
          "0_08",
          "0_09",
          "0_10",
          "0_11",
          "0_12",
          "0_13",
          "0_14",
          "0_15",
          "0_16",
          "0_17",
          "0_18",
          "0_19",
          "0_20",
          "0_21",
          "0_22",
          "0_23",
          "0_24",
          "0_25",
          "0_26",
          "0_27",
          "0_28",
          "0_29",
          "0_30"
         ],
         "xaxis": "x",
         "y": [
          0,
          0,
          0,
          0,
          0,
          0,
          0,
          0,
          0,
          0,
          0,
          0,
          0,
          0,
          0,
          0,
          0,
          0,
          0,
          0,
          0,
          0,
          0,
          0,
          0,
          0,
          0,
          0,
          0,
          0
         ],
         "yaxis": "y"
        },
        {
         "error_y": {
          "array": [
           null,
           null,
           null,
           null,
           null,
           null,
           null,
           null,
           null,
           null,
           null,
           null,
           null,
           null,
           null,
           null,
           null,
           null,
           null,
           null,
           null,
           null,
           null,
           null,
           null,
           null,
           null,
           null,
           null,
           null
          ]
         },
         "hovertemplate": "solver=optimal<br>type=bounds<br>difficulty=1<br>problem=%{x}<br>cycles_mean=%{y}<extra></extra>",
         "legendgroup": "optimal, bounds",
         "line": {
          "color": "#EF553B",
          "dash": "solid"
         },
         "marker": {
          "symbol": "circle"
         },
         "mode": "lines",
         "name": "optimal, bounds",
         "orientation": "v",
         "showlegend": false,
         "type": "scatter",
         "x": [
          "1_01",
          "1_02",
          "1_03",
          "1_04",
          "1_05",
          "1_06",
          "1_07",
          "1_08",
          "1_09",
          "1_10",
          "1_11",
          "1_12",
          "1_13",
          "1_14",
          "1_15",
          "1_16",
          "1_17",
          "1_18",
          "1_19",
          "1_20",
          "1_21",
          "1_22",
          "1_23",
          "1_24",
          "1_25",
          "1_26",
          "1_27",
          "1_28",
          "1_29",
          "1_30"
         ],
         "xaxis": "x2",
         "y": [
          0,
          0,
          0,
          0,
          0,
          0,
          0,
          0,
          0,
          0,
          0,
          0,
          0,
          0,
          0,
          0,
          0,
          0,
          0,
          0,
          0,
          0,
          0,
          0,
          0,
          0,
          0,
          0,
          0,
          0
         ],
         "yaxis": "y2"
        },
        {
         "error_y": {
          "array": [
           null,
           null,
           null,
           null,
           null,
           null,
           null,
           null,
           null,
           null,
           null,
           null,
           null,
           null,
           null,
           null,
           null,
           null,
           null,
           null,
           null,
           null,
           null,
           null,
           null,
           null,
           null,
           null,
           null,
           null
          ]
         },
         "hovertemplate": "solver=lama<br>type=bounds<br>difficulty=0<br>problem=%{x}<br>cycles_mean=%{y}<extra></extra>",
         "legendgroup": "lama, bounds",
         "line": {
          "color": "#00cc96",
          "dash": "solid"
         },
         "marker": {
          "symbol": "circle"
         },
         "mode": "lines",
         "name": "lama, bounds",
         "orientation": "v",
         "showlegend": true,
         "type": "scatter",
         "x": [
          "0_01",
          "0_02",
          "0_03",
          "0_04",
          "0_05",
          "0_06",
          "0_07",
          "0_08",
          "0_09",
          "0_10",
          "0_11",
          "0_12",
          "0_13",
          "0_14",
          "0_15",
          "0_16",
          "0_17",
          "0_18",
          "0_19",
          "0_20",
          "0_21",
          "0_22",
          "0_23",
          "0_24",
          "0_25",
          "0_26",
          "0_27",
          "0_28",
          "0_29",
          "0_30"
         ],
         "xaxis": "x",
         "y": [
          0,
          0,
          0,
          0,
          0,
          0,
          0,
          0,
          0,
          0,
          0,
          0,
          0,
          0,
          0,
          0,
          0,
          0,
          0,
          0,
          0,
          0,
          0,
          0,
          0,
          0,
          0,
          0,
          0,
          0
         ],
         "yaxis": "y"
        },
        {
         "error_y": {
          "array": [
           null,
           null,
           null,
           null,
           null,
           null,
           null,
           null,
           null,
           null,
           null,
           null,
           null,
           null,
           null,
           null,
           null,
           null,
           null,
           null,
           null,
           null,
           null,
           null,
           null,
           null,
           null,
           null,
           null,
           null
          ]
         },
         "hovertemplate": "solver=lama<br>type=bounds<br>difficulty=1<br>problem=%{x}<br>cycles_mean=%{y}<extra></extra>",
         "legendgroup": "lama, bounds",
         "line": {
          "color": "#00cc96",
          "dash": "solid"
         },
         "marker": {
          "symbol": "circle"
         },
         "mode": "lines",
         "name": "lama, bounds",
         "orientation": "v",
         "showlegend": false,
         "type": "scatter",
         "x": [
          "1_01",
          "1_02",
          "1_03",
          "1_04",
          "1_05",
          "1_06",
          "1_07",
          "1_08",
          "1_09",
          "1_10",
          "1_11",
          "1_12",
          "1_13",
          "1_14",
          "1_15",
          "1_16",
          "1_17",
          "1_18",
          "1_19",
          "1_20",
          "1_21",
          "1_22",
          "1_23",
          "1_24",
          "1_25",
          "1_26",
          "1_27",
          "1_28",
          "1_29",
          "1_30"
         ],
         "xaxis": "x2",
         "y": [
          0,
          0,
          0,
          0,
          0,
          0,
          0,
          0,
          0,
          0,
          0,
          0,
          0,
          0,
          0,
          0,
          0,
          0,
          0,
          0,
          0,
          0,
          0,
          0,
          0,
          0,
          0,
          0,
          0,
          0
         ],
         "yaxis": "y2"
        },
        {
         "error_y": {
          "array": [
           0,
           0,
           0,
           0,
           0,
           0,
           0,
           0,
           0,
           0,
           0,
           0,
           0,
           0,
           0,
           0,
           0,
           0,
           0,
           0,
           0,
           0,
           0,
           0,
           0,
           0,
           0,
           0,
           0,
           0
          ]
         },
         "hovertemplate": "solver=L2_D8_best<br>type=lrnn_best<br>difficulty=0<br>problem=%{x}<br>cycles_mean=%{y}<extra></extra>",
         "legendgroup": "L2_D8_best, lrnn_best",
         "line": {
          "color": "#ab63fa",
          "dash": "dot"
         },
         "marker": {
          "symbol": "circle"
         },
         "mode": "lines",
         "name": "L2_D8_best, lrnn_best",
         "orientation": "v",
         "showlegend": true,
         "type": "scatter",
         "x": [
          "0_01",
          "0_02",
          "0_03",
          "0_04",
          "0_05",
          "0_06",
          "0_07",
          "0_08",
          "0_09",
          "0_10",
          "0_11",
          "0_12",
          "0_13",
          "0_14",
          "0_15",
          "0_16",
          "0_17",
          "0_18",
          "0_19",
          "0_20",
          "0_21",
          "0_22",
          "0_23",
          "0_24",
          "0_25",
          "0_26",
          "0_27",
          "0_28",
          "0_29",
          "0_30"
         ],
         "xaxis": "x",
         "y": [
          0,
          0,
          0,
          0,
          0,
          0,
          0,
          0,
          0,
          0,
          0,
          0,
          0,
          0,
          0,
          0,
          0,
          0,
          0,
          0,
          0,
          0,
          0,
          0,
          0,
          0,
          0,
          0,
          0,
          0
         ],
         "yaxis": "y"
        },
        {
         "error_y": {
          "array": [
           0,
           0,
           0,
           0,
           0,
           0,
           0,
           0,
           0,
           0,
           0,
           0,
           0,
           0,
           0,
           0,
           0,
           0,
           0,
           0,
           0,
           0,
           0,
           0,
           0,
           0,
           0,
           0,
           0,
           0
          ]
         },
         "hovertemplate": "solver=L2_D8_best<br>type=lrnn_best<br>difficulty=1<br>problem=%{x}<br>cycles_mean=%{y}<extra></extra>",
         "legendgroup": "L2_D8_best, lrnn_best",
         "line": {
          "color": "#ab63fa",
          "dash": "dot"
         },
         "marker": {
          "symbol": "circle"
         },
         "mode": "lines",
         "name": "L2_D8_best, lrnn_best",
         "orientation": "v",
         "showlegend": false,
         "type": "scatter",
         "x": [
          "1_01",
          "1_02",
          "1_03",
          "1_04",
          "1_05",
          "1_06",
          "1_07",
          "1_08",
          "1_09",
          "1_10",
          "1_11",
          "1_12",
          "1_13",
          "1_14",
          "1_15",
          "1_16",
          "1_17",
          "1_18",
          "1_19",
          "1_20",
          "1_21",
          "1_22",
          "1_23",
          "1_24",
          "1_25",
          "1_26",
          "1_27",
          "1_28",
          "1_29",
          "1_30"
         ],
         "xaxis": "x2",
         "y": [
          0,
          0,
          0,
          0,
          0,
          0,
          0,
          0,
          0,
          0,
          0,
          0,
          0,
          0,
          0,
          0,
          0,
          0,
          0,
          0,
          0,
          0,
          0,
          0,
          0,
          0,
          0,
          0,
          0,
          0
         ],
         "yaxis": "y2"
        },
        {
         "error_y": {
          "array": [
           0,
           0,
           0,
           0,
           0,
           0,
           0,
           0,
           0,
           0,
           0,
           0,
           0,
           0,
           0,
           0,
           0,
           0,
           0,
           0,
           0,
           0,
           0,
           0,
           0,
           0,
           0,
           0,
           0,
           0
          ]
         },
         "hovertemplate": "solver=L2_D16_best<br>type=lrnn_best<br>difficulty=0<br>problem=%{x}<br>cycles_mean=%{y}<extra></extra>",
         "legendgroup": "L2_D16_best, lrnn_best",
         "line": {
          "color": "#FFA15A",
          "dash": "dot"
         },
         "marker": {
          "symbol": "circle"
         },
         "mode": "lines",
         "name": "L2_D16_best, lrnn_best",
         "orientation": "v",
         "showlegend": true,
         "type": "scatter",
         "x": [
          "0_01",
          "0_02",
          "0_03",
          "0_04",
          "0_05",
          "0_06",
          "0_07",
          "0_08",
          "0_09",
          "0_10",
          "0_11",
          "0_12",
          "0_13",
          "0_14",
          "0_15",
          "0_16",
          "0_17",
          "0_18",
          "0_19",
          "0_20",
          "0_21",
          "0_22",
          "0_23",
          "0_24",
          "0_25",
          "0_26",
          "0_27",
          "0_28",
          "0_29",
          "0_30"
         ],
         "xaxis": "x",
         "y": [
          0,
          0,
          0,
          0,
          0,
          0,
          0,
          0,
          0,
          0,
          0,
          0,
          0,
          0,
          0,
          0,
          0,
          0,
          0,
          0,
          0,
          0,
          0,
          0,
          0,
          0,
          0,
          0,
          0,
          0
         ],
         "yaxis": "y"
        },
        {
         "error_y": {
          "array": [
           0,
           0,
           0,
           0,
           0,
           0,
           0,
           0,
           0,
           0,
           0,
           0,
           0,
           0,
           0,
           0,
           0,
           0,
           0,
           0,
           0,
           0,
           0,
           0,
           0,
           0,
           0,
           0,
           0,
           0
          ]
         },
         "hovertemplate": "solver=L2_D16_best<br>type=lrnn_best<br>difficulty=1<br>problem=%{x}<br>cycles_mean=%{y}<extra></extra>",
         "legendgroup": "L2_D16_best, lrnn_best",
         "line": {
          "color": "#FFA15A",
          "dash": "dot"
         },
         "marker": {
          "symbol": "circle"
         },
         "mode": "lines",
         "name": "L2_D16_best, lrnn_best",
         "orientation": "v",
         "showlegend": false,
         "type": "scatter",
         "x": [
          "1_01",
          "1_02",
          "1_03",
          "1_04",
          "1_05",
          "1_06",
          "1_07",
          "1_08",
          "1_09",
          "1_10",
          "1_11",
          "1_12",
          "1_13",
          "1_14",
          "1_15",
          "1_16",
          "1_17",
          "1_18",
          "1_19",
          "1_20",
          "1_21",
          "1_22",
          "1_23",
          "1_24",
          "1_25",
          "1_26",
          "1_27",
          "1_28",
          "1_29",
          "1_30"
         ],
         "xaxis": "x2",
         "y": [
          0,
          0,
          0,
          0,
          0,
          0,
          0,
          0,
          0,
          0,
          0,
          0,
          0,
          0,
          0,
          0,
          0,
          0,
          0,
          0,
          0,
          0,
          0,
          0,
          0,
          0,
          0,
          0,
          0,
          0
         ],
         "yaxis": "y2"
        },
        {
         "error_y": {
          "array": [
           0,
           0,
           0,
           0,
           0,
           0,
           0,
           0,
           0,
           0,
           0,
           0,
           0,
           0,
           0,
           0,
           0,
           0,
           0,
           0,
           0,
           0,
           0,
           0,
           0,
           0,
           0,
           0,
           0,
           0
          ]
         },
         "hovertemplate": "solver=L2_D32_best<br>type=lrnn_best<br>difficulty=0<br>problem=%{x}<br>cycles_mean=%{y}<extra></extra>",
         "legendgroup": "L2_D32_best, lrnn_best",
         "line": {
          "color": "#19d3f3",
          "dash": "dot"
         },
         "marker": {
          "symbol": "circle"
         },
         "mode": "lines",
         "name": "L2_D32_best, lrnn_best",
         "orientation": "v",
         "showlegend": true,
         "type": "scatter",
         "x": [
          "0_01",
          "0_02",
          "0_03",
          "0_04",
          "0_05",
          "0_06",
          "0_07",
          "0_08",
          "0_09",
          "0_10",
          "0_11",
          "0_12",
          "0_13",
          "0_14",
          "0_15",
          "0_16",
          "0_17",
          "0_18",
          "0_19",
          "0_20",
          "0_21",
          "0_22",
          "0_23",
          "0_24",
          "0_25",
          "0_26",
          "0_27",
          "0_28",
          "0_29",
          "0_30"
         ],
         "xaxis": "x",
         "y": [
          0,
          0,
          0,
          0,
          0,
          0,
          0,
          0,
          0,
          0,
          0,
          0,
          0,
          0,
          0,
          0,
          0,
          0,
          0,
          0,
          0,
          0,
          0,
          0,
          0,
          0,
          0,
          0,
          0,
          0
         ],
         "yaxis": "y"
        },
        {
         "error_y": {
          "array": [
           0,
           0,
           0,
           0,
           0,
           0,
           0,
           0,
           0,
           0,
           0,
           0,
           0,
           0,
           0,
           0,
           0,
           0,
           0,
           0,
           0,
           0,
           0,
           0,
           0,
           0,
           0,
           0,
           0,
           0
          ]
         },
         "hovertemplate": "solver=L2_D32_best<br>type=lrnn_best<br>difficulty=1<br>problem=%{x}<br>cycles_mean=%{y}<extra></extra>",
         "legendgroup": "L2_D32_best, lrnn_best",
         "line": {
          "color": "#19d3f3",
          "dash": "dot"
         },
         "marker": {
          "symbol": "circle"
         },
         "mode": "lines",
         "name": "L2_D32_best, lrnn_best",
         "orientation": "v",
         "showlegend": false,
         "type": "scatter",
         "x": [
          "1_01",
          "1_02",
          "1_03",
          "1_04",
          "1_05",
          "1_06",
          "1_07",
          "1_08",
          "1_09",
          "1_10",
          "1_11",
          "1_12",
          "1_13",
          "1_14",
          "1_15",
          "1_16",
          "1_17",
          "1_18",
          "1_19",
          "1_20",
          "1_21",
          "1_22",
          "1_23",
          "1_24",
          "1_25",
          "1_26",
          "1_27",
          "1_28",
          "1_29",
          "1_30"
         ],
         "xaxis": "x2",
         "y": [
          0,
          0,
          0,
          0,
          0,
          0,
          0,
          0,
          0,
          0,
          0,
          0,
          0,
          0,
          0,
          0,
          0,
          0,
          0,
          0,
          0,
          0,
          0,
          0,
          0,
          0,
          0,
          0,
          0,
          0
         ],
         "yaxis": "y2"
        },
        {
         "error_y": {
          "array": [
           0,
           0,
           0,
           0,
           0,
           0,
           0,
           0,
           0,
           0,
           0,
           0,
           0,
           0,
           0,
           0,
           0,
           0,
           0,
           0,
           0,
           0,
           0,
           0,
           0,
           0,
           0,
           0,
           0,
           0
          ]
         },
         "hovertemplate": "solver=L3_D8_best<br>type=lrnn_best<br>difficulty=0<br>problem=%{x}<br>cycles_mean=%{y}<extra></extra>",
         "legendgroup": "L3_D8_best, lrnn_best",
         "line": {
          "color": "#FF6692",
          "dash": "dot"
         },
         "marker": {
          "symbol": "circle"
         },
         "mode": "lines",
         "name": "L3_D8_best, lrnn_best",
         "orientation": "v",
         "showlegend": true,
         "type": "scatter",
         "x": [
          "0_01",
          "0_02",
          "0_03",
          "0_04",
          "0_05",
          "0_06",
          "0_07",
          "0_08",
          "0_09",
          "0_10",
          "0_11",
          "0_12",
          "0_13",
          "0_14",
          "0_15",
          "0_16",
          "0_17",
          "0_18",
          "0_19",
          "0_20",
          "0_21",
          "0_22",
          "0_23",
          "0_24",
          "0_25",
          "0_26",
          "0_27",
          "0_28",
          "0_29",
          "0_30"
         ],
         "xaxis": "x",
         "y": [
          0,
          0,
          0,
          0,
          0,
          0,
          0,
          0,
          0,
          0,
          0,
          0,
          0,
          0,
          0,
          0,
          0,
          0,
          0,
          0,
          0,
          0,
          0,
          0,
          0,
          0,
          0,
          0,
          0,
          0
         ],
         "yaxis": "y"
        },
        {
         "error_y": {
          "array": [
           0,
           0,
           0,
           0,
           0,
           0,
           0,
           0,
           0,
           0,
           0,
           0,
           0,
           0,
           0,
           0,
           0,
           0,
           0,
           0,
           0,
           0,
           0,
           0,
           0,
           0,
           0,
           0,
           0,
           0
          ]
         },
         "hovertemplate": "solver=L3_D8_best<br>type=lrnn_best<br>difficulty=1<br>problem=%{x}<br>cycles_mean=%{y}<extra></extra>",
         "legendgroup": "L3_D8_best, lrnn_best",
         "line": {
          "color": "#FF6692",
          "dash": "dot"
         },
         "marker": {
          "symbol": "circle"
         },
         "mode": "lines",
         "name": "L3_D8_best, lrnn_best",
         "orientation": "v",
         "showlegend": false,
         "type": "scatter",
         "x": [
          "1_01",
          "1_02",
          "1_03",
          "1_04",
          "1_05",
          "1_06",
          "1_07",
          "1_08",
          "1_09",
          "1_10",
          "1_11",
          "1_12",
          "1_13",
          "1_14",
          "1_15",
          "1_16",
          "1_17",
          "1_18",
          "1_19",
          "1_20",
          "1_21",
          "1_22",
          "1_23",
          "1_24",
          "1_25",
          "1_26",
          "1_27",
          "1_28",
          "1_29",
          "1_30"
         ],
         "xaxis": "x2",
         "y": [
          0,
          0,
          0,
          0,
          0,
          0,
          0,
          0,
          0,
          0,
          0,
          0,
          0,
          0,
          0,
          0,
          0,
          0,
          0,
          0,
          0,
          0,
          0,
          0,
          0,
          0,
          0,
          0,
          0,
          0
         ],
         "yaxis": "y2"
        },
        {
         "error_y": {
          "array": [
           0,
           0,
           0,
           0,
           0,
           0,
           0,
           0,
           0,
           0,
           0,
           0,
           0,
           0,
           0,
           0,
           0,
           0,
           0,
           0,
           0,
           0,
           0,
           0,
           0,
           0,
           0,
           0,
           0,
           0
          ]
         },
         "hovertemplate": "solver=L3_D16_best<br>type=lrnn_best<br>difficulty=0<br>problem=%{x}<br>cycles_mean=%{y}<extra></extra>",
         "legendgroup": "L3_D16_best, lrnn_best",
         "line": {
          "color": "#B6E880",
          "dash": "dot"
         },
         "marker": {
          "symbol": "circle"
         },
         "mode": "lines",
         "name": "L3_D16_best, lrnn_best",
         "orientation": "v",
         "showlegend": true,
         "type": "scatter",
         "x": [
          "0_01",
          "0_02",
          "0_03",
          "0_04",
          "0_05",
          "0_06",
          "0_07",
          "0_08",
          "0_09",
          "0_10",
          "0_11",
          "0_12",
          "0_13",
          "0_14",
          "0_15",
          "0_16",
          "0_17",
          "0_18",
          "0_19",
          "0_20",
          "0_21",
          "0_22",
          "0_23",
          "0_24",
          "0_25",
          "0_26",
          "0_27",
          "0_28",
          "0_29",
          "0_30"
         ],
         "xaxis": "x",
         "y": [
          0,
          0,
          0,
          0,
          0,
          0,
          0,
          0,
          0,
          0,
          0,
          0,
          0,
          0,
          0,
          0,
          0,
          0,
          0,
          0,
          0,
          0,
          0,
          0,
          0,
          0,
          0,
          0,
          0,
          0
         ],
         "yaxis": "y"
        },
        {
         "error_y": {
          "array": [
           0,
           0,
           0,
           0,
           0,
           0,
           0,
           0,
           0,
           0,
           0,
           0,
           0,
           0,
           0,
           0,
           0,
           0,
           0,
           0,
           0,
           0,
           0,
           0,
           0,
           0,
           0,
           0,
           0,
           0
          ]
         },
         "hovertemplate": "solver=L3_D16_best<br>type=lrnn_best<br>difficulty=1<br>problem=%{x}<br>cycles_mean=%{y}<extra></extra>",
         "legendgroup": "L3_D16_best, lrnn_best",
         "line": {
          "color": "#B6E880",
          "dash": "dot"
         },
         "marker": {
          "symbol": "circle"
         },
         "mode": "lines",
         "name": "L3_D16_best, lrnn_best",
         "orientation": "v",
         "showlegend": false,
         "type": "scatter",
         "x": [
          "1_01",
          "1_02",
          "1_03",
          "1_04",
          "1_05",
          "1_06",
          "1_07",
          "1_08",
          "1_09",
          "1_10",
          "1_11",
          "1_12",
          "1_13",
          "1_14",
          "1_15",
          "1_16",
          "1_17",
          "1_18",
          "1_19",
          "1_20",
          "1_21",
          "1_22",
          "1_23",
          "1_24",
          "1_25",
          "1_26",
          "1_27",
          "1_28",
          "1_29",
          "1_30"
         ],
         "xaxis": "x2",
         "y": [
          0,
          0,
          0,
          0,
          0,
          0,
          0,
          0,
          0,
          0,
          0,
          0,
          0,
          0,
          0,
          0,
          0,
          0,
          0,
          0,
          0,
          0,
          0,
          0,
          0,
          0,
          0,
          0,
          0,
          0
         ],
         "yaxis": "y2"
        },
        {
         "error_y": {
          "array": [
           0,
           0,
           0,
           0,
           0,
           0,
           0,
           0,
           0,
           0,
           0,
           0,
           0,
           0,
           0,
           0,
           0,
           0,
           0,
           0,
           0,
           0,
           0,
           0,
           0,
           0,
           0,
           0,
           0,
           0
          ]
         },
         "hovertemplate": "solver=L3_D32_best<br>type=lrnn_best<br>difficulty=0<br>problem=%{x}<br>cycles_mean=%{y}<extra></extra>",
         "legendgroup": "L3_D32_best, lrnn_best",
         "line": {
          "color": "#FF97FF",
          "dash": "dot"
         },
         "marker": {
          "symbol": "circle"
         },
         "mode": "lines",
         "name": "L3_D32_best, lrnn_best",
         "orientation": "v",
         "showlegend": true,
         "type": "scatter",
         "x": [
          "0_01",
          "0_02",
          "0_03",
          "0_04",
          "0_05",
          "0_06",
          "0_07",
          "0_08",
          "0_09",
          "0_10",
          "0_11",
          "0_12",
          "0_13",
          "0_14",
          "0_15",
          "0_16",
          "0_17",
          "0_18",
          "0_19",
          "0_20",
          "0_21",
          "0_22",
          "0_23",
          "0_24",
          "0_25",
          "0_26",
          "0_27",
          "0_28",
          "0_29",
          "0_30"
         ],
         "xaxis": "x",
         "y": [
          0,
          0,
          0,
          0,
          0,
          0,
          0,
          0,
          0,
          0,
          0,
          0,
          0,
          0,
          0,
          0,
          0,
          0,
          0,
          0,
          0,
          0,
          0,
          0,
          0,
          0,
          0,
          0,
          0,
          0
         ],
         "yaxis": "y"
        },
        {
         "error_y": {
          "array": [
           0,
           0,
           0,
           0,
           0,
           0,
           0,
           0,
           0,
           0,
           0,
           0,
           0,
           0,
           0,
           0,
           0,
           0,
           0,
           0,
           0,
           0,
           0,
           0,
           0,
           0,
           0,
           0,
           0,
           0
          ]
         },
         "hovertemplate": "solver=L3_D32_best<br>type=lrnn_best<br>difficulty=1<br>problem=%{x}<br>cycles_mean=%{y}<extra></extra>",
         "legendgroup": "L3_D32_best, lrnn_best",
         "line": {
          "color": "#FF97FF",
          "dash": "dot"
         },
         "marker": {
          "symbol": "circle"
         },
         "mode": "lines",
         "name": "L3_D32_best, lrnn_best",
         "orientation": "v",
         "showlegend": false,
         "type": "scatter",
         "x": [
          "1_01",
          "1_02",
          "1_03",
          "1_04",
          "1_05",
          "1_06",
          "1_07",
          "1_08",
          "1_09",
          "1_10",
          "1_11",
          "1_12",
          "1_13",
          "1_14",
          "1_15",
          "1_16",
          "1_17",
          "1_18",
          "1_19",
          "1_20",
          "1_21",
          "1_22",
          "1_23",
          "1_24",
          "1_25",
          "1_26",
          "1_27",
          "1_28",
          "1_29",
          "1_30"
         ],
         "xaxis": "x2",
         "y": [
          0,
          0,
          0,
          0,
          0,
          0,
          0,
          0,
          0,
          0,
          0,
          0,
          0,
          0,
          0,
          0,
          0,
          0,
          0,
          0,
          0,
          0,
          0,
          0,
          0,
          0,
          0,
          0,
          0,
          0
         ],
         "yaxis": "y2"
        },
        {
         "error_y": {
          "array": [
           0,
           0,
           0,
           0,
           0,
           0,
           0,
           0,
           0,
           0,
           0,
           0,
           0,
           0,
           0,
           0,
           0,
           0,
           0,
           0,
           0,
           0,
           0,
           0,
           0,
           0,
           0,
           0,
           0,
           0
          ]
         },
         "hovertemplate": "solver=L4_D8_best<br>type=lrnn_best<br>difficulty=0<br>problem=%{x}<br>cycles_mean=%{y}<extra></extra>",
         "legendgroup": "L4_D8_best, lrnn_best",
         "line": {
          "color": "#FECB52",
          "dash": "dot"
         },
         "marker": {
          "symbol": "circle"
         },
         "mode": "lines",
         "name": "L4_D8_best, lrnn_best",
         "orientation": "v",
         "showlegend": true,
         "type": "scatter",
         "x": [
          "0_01",
          "0_02",
          "0_03",
          "0_04",
          "0_05",
          "0_06",
          "0_07",
          "0_08",
          "0_09",
          "0_10",
          "0_11",
          "0_12",
          "0_13",
          "0_14",
          "0_15",
          "0_16",
          "0_17",
          "0_18",
          "0_19",
          "0_20",
          "0_21",
          "0_22",
          "0_23",
          "0_24",
          "0_25",
          "0_26",
          "0_27",
          "0_28",
          "0_29",
          "0_30"
         ],
         "xaxis": "x",
         "y": [
          0,
          0,
          0,
          0,
          0,
          0,
          0,
          0,
          0,
          0,
          0,
          0,
          0,
          0,
          0,
          0,
          0,
          0,
          0,
          0,
          0,
          0,
          0,
          0,
          0,
          0,
          0,
          0,
          0,
          0
         ],
         "yaxis": "y"
        },
        {
         "error_y": {
          "array": [
           0,
           0,
           0,
           0,
           0,
           0,
           0,
           0,
           0,
           0,
           0,
           0,
           0,
           0,
           0,
           0,
           0,
           0,
           0,
           0,
           0,
           0,
           0,
           0,
           0,
           0,
           0,
           0,
           0,
           0
          ]
         },
         "hovertemplate": "solver=L4_D8_best<br>type=lrnn_best<br>difficulty=1<br>problem=%{x}<br>cycles_mean=%{y}<extra></extra>",
         "legendgroup": "L4_D8_best, lrnn_best",
         "line": {
          "color": "#FECB52",
          "dash": "dot"
         },
         "marker": {
          "symbol": "circle"
         },
         "mode": "lines",
         "name": "L4_D8_best, lrnn_best",
         "orientation": "v",
         "showlegend": false,
         "type": "scatter",
         "x": [
          "1_01",
          "1_02",
          "1_03",
          "1_04",
          "1_05",
          "1_06",
          "1_07",
          "1_08",
          "1_09",
          "1_10",
          "1_11",
          "1_12",
          "1_13",
          "1_14",
          "1_15",
          "1_16",
          "1_17",
          "1_18",
          "1_19",
          "1_20",
          "1_21",
          "1_22",
          "1_23",
          "1_24",
          "1_25",
          "1_26",
          "1_27",
          "1_28",
          "1_29",
          "1_30"
         ],
         "xaxis": "x2",
         "y": [
          0,
          0,
          0,
          0,
          0,
          0,
          0,
          0,
          0,
          0,
          0,
          0,
          0,
          0,
          0,
          0,
          0,
          0,
          0,
          0,
          0,
          0,
          0,
          0,
          0,
          0,
          0,
          0,
          0,
          0
         ],
         "yaxis": "y2"
        },
        {
         "error_y": {
          "array": [
           0,
           0,
           0,
           0,
           0,
           0,
           0,
           0,
           0,
           0,
           0,
           0,
           0,
           0,
           0,
           0,
           0,
           0,
           0,
           0,
           0,
           0,
           0,
           0,
           0,
           0,
           0,
           0,
           0,
           0
          ]
         },
         "hovertemplate": "solver=L4_D16_best<br>type=lrnn_best<br>difficulty=0<br>problem=%{x}<br>cycles_mean=%{y}<extra></extra>",
         "legendgroup": "L4_D16_best, lrnn_best",
         "line": {
          "color": "#636efa",
          "dash": "dot"
         },
         "marker": {
          "symbol": "circle"
         },
         "mode": "lines",
         "name": "L4_D16_best, lrnn_best",
         "orientation": "v",
         "showlegend": true,
         "type": "scatter",
         "x": [
          "0_01",
          "0_02",
          "0_03",
          "0_04",
          "0_05",
          "0_06",
          "0_07",
          "0_08",
          "0_09",
          "0_10",
          "0_11",
          "0_12",
          "0_13",
          "0_14",
          "0_15",
          "0_16",
          "0_17",
          "0_18",
          "0_19",
          "0_20",
          "0_21",
          "0_22",
          "0_23",
          "0_24",
          "0_25",
          "0_26",
          "0_27",
          "0_28",
          "0_29",
          "0_30"
         ],
         "xaxis": "x",
         "y": [
          0,
          0,
          0,
          0,
          0,
          0,
          0,
          0,
          0,
          0,
          0,
          0,
          0,
          0,
          0,
          0,
          0,
          0,
          0,
          0,
          0,
          0,
          0,
          0,
          0,
          0,
          0,
          0,
          0,
          0
         ],
         "yaxis": "y"
        },
        {
         "error_y": {
          "array": [
           0,
           0,
           0,
           0,
           0,
           0,
           0,
           0,
           0,
           0,
           0,
           0,
           0,
           0,
           0,
           0,
           0,
           0,
           0,
           0,
           0,
           0,
           0,
           0,
           0,
           0,
           0,
           0,
           0,
           0
          ]
         },
         "hovertemplate": "solver=L4_D16_best<br>type=lrnn_best<br>difficulty=1<br>problem=%{x}<br>cycles_mean=%{y}<extra></extra>",
         "legendgroup": "L4_D16_best, lrnn_best",
         "line": {
          "color": "#636efa",
          "dash": "dot"
         },
         "marker": {
          "symbol": "circle"
         },
         "mode": "lines",
         "name": "L4_D16_best, lrnn_best",
         "orientation": "v",
         "showlegend": false,
         "type": "scatter",
         "x": [
          "1_01",
          "1_02",
          "1_03",
          "1_04",
          "1_05",
          "1_06",
          "1_07",
          "1_08",
          "1_09",
          "1_10",
          "1_11",
          "1_12",
          "1_13",
          "1_14",
          "1_15",
          "1_16",
          "1_17",
          "1_18",
          "1_19",
          "1_20",
          "1_21",
          "1_22",
          "1_23",
          "1_24",
          "1_25",
          "1_26",
          "1_27",
          "1_28",
          "1_29",
          "1_30"
         ],
         "xaxis": "x2",
         "y": [
          0,
          0,
          0,
          0,
          0,
          0,
          0,
          0,
          0,
          0,
          0,
          0,
          0,
          0,
          0,
          0,
          0,
          0,
          0,
          0,
          0,
          0,
          0,
          0,
          0,
          0,
          0,
          0,
          0,
          0
         ],
         "yaxis": "y2"
        },
        {
         "error_y": {
          "array": [
           0,
           0,
           0,
           0,
           0,
           0,
           0,
           0,
           0,
           0,
           0,
           0,
           0,
           0,
           0,
           0,
           0,
           0,
           0,
           0,
           0,
           0,
           0,
           0,
           0,
           0,
           0,
           0,
           0,
           0
          ]
         },
         "hovertemplate": "solver=L4_D32_best<br>type=lrnn_best<br>difficulty=0<br>problem=%{x}<br>cycles_mean=%{y}<extra></extra>",
         "legendgroup": "L4_D32_best, lrnn_best",
         "line": {
          "color": "#EF553B",
          "dash": "dot"
         },
         "marker": {
          "symbol": "circle"
         },
         "mode": "lines",
         "name": "L4_D32_best, lrnn_best",
         "orientation": "v",
         "showlegend": true,
         "type": "scatter",
         "x": [
          "0_01",
          "0_02",
          "0_03",
          "0_04",
          "0_05",
          "0_06",
          "0_07",
          "0_08",
          "0_09",
          "0_10",
          "0_11",
          "0_12",
          "0_13",
          "0_14",
          "0_15",
          "0_16",
          "0_17",
          "0_18",
          "0_19",
          "0_20",
          "0_21",
          "0_22",
          "0_23",
          "0_24",
          "0_25",
          "0_26",
          "0_27",
          "0_28",
          "0_29",
          "0_30"
         ],
         "xaxis": "x",
         "y": [
          0,
          0,
          0,
          0,
          0,
          0,
          0,
          0,
          0,
          0,
          0,
          0,
          0,
          0,
          0,
          0,
          0,
          0,
          0,
          0,
          0,
          0,
          0,
          0,
          0,
          0,
          0,
          0,
          0,
          0
         ],
         "yaxis": "y"
        },
        {
         "error_y": {
          "array": [
           0,
           0,
           0,
           0,
           0,
           0,
           0,
           0,
           0,
           0,
           0,
           0,
           0,
           0,
           0,
           0,
           0,
           0,
           0,
           0,
           0,
           0,
           0,
           0,
           0,
           0,
           0,
           0,
           0,
           0
          ]
         },
         "hovertemplate": "solver=L4_D32_best<br>type=lrnn_best<br>difficulty=1<br>problem=%{x}<br>cycles_mean=%{y}<extra></extra>",
         "legendgroup": "L4_D32_best, lrnn_best",
         "line": {
          "color": "#EF553B",
          "dash": "dot"
         },
         "marker": {
          "symbol": "circle"
         },
         "mode": "lines",
         "name": "L4_D32_best, lrnn_best",
         "orientation": "v",
         "showlegend": false,
         "type": "scatter",
         "x": [
          "1_01",
          "1_02",
          "1_03",
          "1_04",
          "1_05",
          "1_06",
          "1_07",
          "1_08",
          "1_09",
          "1_10",
          "1_11",
          "1_12",
          "1_13",
          "1_14",
          "1_15",
          "1_16",
          "1_17",
          "1_18",
          "1_19",
          "1_20",
          "1_21",
          "1_22",
          "1_23",
          "1_24",
          "1_25",
          "1_26",
          "1_27",
          "1_28",
          "1_29",
          "1_30"
         ],
         "xaxis": "x2",
         "y": [
          0,
          0,
          0,
          0,
          0,
          0,
          0,
          0,
          0,
          0,
          0,
          0,
          0,
          0,
          0,
          0,
          0,
          0,
          0,
          0,
          0,
          0,
          0,
          0,
          0,
          0,
          0,
          0,
          0,
          0
         ],
         "yaxis": "y2"
        }
       ],
       "layout": {
        "annotations": [
         {
          "font": {},
          "showarrow": false,
          "text": "difficulty=0",
          "x": 0.245,
          "xanchor": "center",
          "xref": "paper",
          "y": 1,
          "yanchor": "bottom",
          "yref": "paper"
         },
         {
          "font": {},
          "showarrow": false,
          "text": "difficulty=1",
          "x": 0.755,
          "xanchor": "center",
          "xref": "paper",
          "y": 1,
          "yanchor": "bottom",
          "yref": "paper"
         }
        ],
        "legend": {
         "title": {
          "text": "solver, type"
         },
         "tracegroupgap": 0
        },
        "margin": {
         "t": 60
        },
        "template": {
         "data": {
          "bar": [
           {
            "error_x": {
             "color": "#2a3f5f"
            },
            "error_y": {
             "color": "#2a3f5f"
            },
            "marker": {
             "line": {
              "color": "#E5ECF6",
              "width": 0.5
             },
             "pattern": {
              "fillmode": "overlay",
              "size": 10,
              "solidity": 0.2
             }
            },
            "type": "bar"
           }
          ],
          "barpolar": [
           {
            "marker": {
             "line": {
              "color": "#E5ECF6",
              "width": 0.5
             },
             "pattern": {
              "fillmode": "overlay",
              "size": 10,
              "solidity": 0.2
             }
            },
            "type": "barpolar"
           }
          ],
          "carpet": [
           {
            "aaxis": {
             "endlinecolor": "#2a3f5f",
             "gridcolor": "white",
             "linecolor": "white",
             "minorgridcolor": "white",
             "startlinecolor": "#2a3f5f"
            },
            "baxis": {
             "endlinecolor": "#2a3f5f",
             "gridcolor": "white",
             "linecolor": "white",
             "minorgridcolor": "white",
             "startlinecolor": "#2a3f5f"
            },
            "type": "carpet"
           }
          ],
          "choropleth": [
           {
            "colorbar": {
             "outlinewidth": 0,
             "ticks": ""
            },
            "type": "choropleth"
           }
          ],
          "contour": [
           {
            "colorbar": {
             "outlinewidth": 0,
             "ticks": ""
            },
            "colorscale": [
             [
              0,
              "#0d0887"
             ],
             [
              0.1111111111111111,
              "#46039f"
             ],
             [
              0.2222222222222222,
              "#7201a8"
             ],
             [
              0.3333333333333333,
              "#9c179e"
             ],
             [
              0.4444444444444444,
              "#bd3786"
             ],
             [
              0.5555555555555556,
              "#d8576b"
             ],
             [
              0.6666666666666666,
              "#ed7953"
             ],
             [
              0.7777777777777778,
              "#fb9f3a"
             ],
             [
              0.8888888888888888,
              "#fdca26"
             ],
             [
              1,
              "#f0f921"
             ]
            ],
            "type": "contour"
           }
          ],
          "contourcarpet": [
           {
            "colorbar": {
             "outlinewidth": 0,
             "ticks": ""
            },
            "type": "contourcarpet"
           }
          ],
          "heatmap": [
           {
            "colorbar": {
             "outlinewidth": 0,
             "ticks": ""
            },
            "colorscale": [
             [
              0,
              "#0d0887"
             ],
             [
              0.1111111111111111,
              "#46039f"
             ],
             [
              0.2222222222222222,
              "#7201a8"
             ],
             [
              0.3333333333333333,
              "#9c179e"
             ],
             [
              0.4444444444444444,
              "#bd3786"
             ],
             [
              0.5555555555555556,
              "#d8576b"
             ],
             [
              0.6666666666666666,
              "#ed7953"
             ],
             [
              0.7777777777777778,
              "#fb9f3a"
             ],
             [
              0.8888888888888888,
              "#fdca26"
             ],
             [
              1,
              "#f0f921"
             ]
            ],
            "type": "heatmap"
           }
          ],
          "heatmapgl": [
           {
            "colorbar": {
             "outlinewidth": 0,
             "ticks": ""
            },
            "colorscale": [
             [
              0,
              "#0d0887"
             ],
             [
              0.1111111111111111,
              "#46039f"
             ],
             [
              0.2222222222222222,
              "#7201a8"
             ],
             [
              0.3333333333333333,
              "#9c179e"
             ],
             [
              0.4444444444444444,
              "#bd3786"
             ],
             [
              0.5555555555555556,
              "#d8576b"
             ],
             [
              0.6666666666666666,
              "#ed7953"
             ],
             [
              0.7777777777777778,
              "#fb9f3a"
             ],
             [
              0.8888888888888888,
              "#fdca26"
             ],
             [
              1,
              "#f0f921"
             ]
            ],
            "type": "heatmapgl"
           }
          ],
          "histogram": [
           {
            "marker": {
             "pattern": {
              "fillmode": "overlay",
              "size": 10,
              "solidity": 0.2
             }
            },
            "type": "histogram"
           }
          ],
          "histogram2d": [
           {
            "colorbar": {
             "outlinewidth": 0,
             "ticks": ""
            },
            "colorscale": [
             [
              0,
              "#0d0887"
             ],
             [
              0.1111111111111111,
              "#46039f"
             ],
             [
              0.2222222222222222,
              "#7201a8"
             ],
             [
              0.3333333333333333,
              "#9c179e"
             ],
             [
              0.4444444444444444,
              "#bd3786"
             ],
             [
              0.5555555555555556,
              "#d8576b"
             ],
             [
              0.6666666666666666,
              "#ed7953"
             ],
             [
              0.7777777777777778,
              "#fb9f3a"
             ],
             [
              0.8888888888888888,
              "#fdca26"
             ],
             [
              1,
              "#f0f921"
             ]
            ],
            "type": "histogram2d"
           }
          ],
          "histogram2dcontour": [
           {
            "colorbar": {
             "outlinewidth": 0,
             "ticks": ""
            },
            "colorscale": [
             [
              0,
              "#0d0887"
             ],
             [
              0.1111111111111111,
              "#46039f"
             ],
             [
              0.2222222222222222,
              "#7201a8"
             ],
             [
              0.3333333333333333,
              "#9c179e"
             ],
             [
              0.4444444444444444,
              "#bd3786"
             ],
             [
              0.5555555555555556,
              "#d8576b"
             ],
             [
              0.6666666666666666,
              "#ed7953"
             ],
             [
              0.7777777777777778,
              "#fb9f3a"
             ],
             [
              0.8888888888888888,
              "#fdca26"
             ],
             [
              1,
              "#f0f921"
             ]
            ],
            "type": "histogram2dcontour"
           }
          ],
          "mesh3d": [
           {
            "colorbar": {
             "outlinewidth": 0,
             "ticks": ""
            },
            "type": "mesh3d"
           }
          ],
          "parcoords": [
           {
            "line": {
             "colorbar": {
              "outlinewidth": 0,
              "ticks": ""
             }
            },
            "type": "parcoords"
           }
          ],
          "pie": [
           {
            "automargin": true,
            "type": "pie"
           }
          ],
          "scatter": [
           {
            "fillpattern": {
             "fillmode": "overlay",
             "size": 10,
             "solidity": 0.2
            },
            "type": "scatter"
           }
          ],
          "scatter3d": [
           {
            "line": {
             "colorbar": {
              "outlinewidth": 0,
              "ticks": ""
             }
            },
            "marker": {
             "colorbar": {
              "outlinewidth": 0,
              "ticks": ""
             }
            },
            "type": "scatter3d"
           }
          ],
          "scattercarpet": [
           {
            "marker": {
             "colorbar": {
              "outlinewidth": 0,
              "ticks": ""
             }
            },
            "type": "scattercarpet"
           }
          ],
          "scattergeo": [
           {
            "marker": {
             "colorbar": {
              "outlinewidth": 0,
              "ticks": ""
             }
            },
            "type": "scattergeo"
           }
          ],
          "scattergl": [
           {
            "marker": {
             "colorbar": {
              "outlinewidth": 0,
              "ticks": ""
             }
            },
            "type": "scattergl"
           }
          ],
          "scattermapbox": [
           {
            "marker": {
             "colorbar": {
              "outlinewidth": 0,
              "ticks": ""
             }
            },
            "type": "scattermapbox"
           }
          ],
          "scatterpolar": [
           {
            "marker": {
             "colorbar": {
              "outlinewidth": 0,
              "ticks": ""
             }
            },
            "type": "scatterpolar"
           }
          ],
          "scatterpolargl": [
           {
            "marker": {
             "colorbar": {
              "outlinewidth": 0,
              "ticks": ""
             }
            },
            "type": "scatterpolargl"
           }
          ],
          "scatterternary": [
           {
            "marker": {
             "colorbar": {
              "outlinewidth": 0,
              "ticks": ""
             }
            },
            "type": "scatterternary"
           }
          ],
          "surface": [
           {
            "colorbar": {
             "outlinewidth": 0,
             "ticks": ""
            },
            "colorscale": [
             [
              0,
              "#0d0887"
             ],
             [
              0.1111111111111111,
              "#46039f"
             ],
             [
              0.2222222222222222,
              "#7201a8"
             ],
             [
              0.3333333333333333,
              "#9c179e"
             ],
             [
              0.4444444444444444,
              "#bd3786"
             ],
             [
              0.5555555555555556,
              "#d8576b"
             ],
             [
              0.6666666666666666,
              "#ed7953"
             ],
             [
              0.7777777777777778,
              "#fb9f3a"
             ],
             [
              0.8888888888888888,
              "#fdca26"
             ],
             [
              1,
              "#f0f921"
             ]
            ],
            "type": "surface"
           }
          ],
          "table": [
           {
            "cells": {
             "fill": {
              "color": "#EBF0F8"
             },
             "line": {
              "color": "white"
             }
            },
            "header": {
             "fill": {
              "color": "#C8D4E3"
             },
             "line": {
              "color": "white"
             }
            },
            "type": "table"
           }
          ]
         },
         "layout": {
          "annotationdefaults": {
           "arrowcolor": "#2a3f5f",
           "arrowhead": 0,
           "arrowwidth": 1
          },
          "autotypenumbers": "strict",
          "coloraxis": {
           "colorbar": {
            "outlinewidth": 0,
            "ticks": ""
           }
          },
          "colorscale": {
           "diverging": [
            [
             0,
             "#8e0152"
            ],
            [
             0.1,
             "#c51b7d"
            ],
            [
             0.2,
             "#de77ae"
            ],
            [
             0.3,
             "#f1b6da"
            ],
            [
             0.4,
             "#fde0ef"
            ],
            [
             0.5,
             "#f7f7f7"
            ],
            [
             0.6,
             "#e6f5d0"
            ],
            [
             0.7,
             "#b8e186"
            ],
            [
             0.8,
             "#7fbc41"
            ],
            [
             0.9,
             "#4d9221"
            ],
            [
             1,
             "#276419"
            ]
           ],
           "sequential": [
            [
             0,
             "#0d0887"
            ],
            [
             0.1111111111111111,
             "#46039f"
            ],
            [
             0.2222222222222222,
             "#7201a8"
            ],
            [
             0.3333333333333333,
             "#9c179e"
            ],
            [
             0.4444444444444444,
             "#bd3786"
            ],
            [
             0.5555555555555556,
             "#d8576b"
            ],
            [
             0.6666666666666666,
             "#ed7953"
            ],
            [
             0.7777777777777778,
             "#fb9f3a"
            ],
            [
             0.8888888888888888,
             "#fdca26"
            ],
            [
             1,
             "#f0f921"
            ]
           ],
           "sequentialminus": [
            [
             0,
             "#0d0887"
            ],
            [
             0.1111111111111111,
             "#46039f"
            ],
            [
             0.2222222222222222,
             "#7201a8"
            ],
            [
             0.3333333333333333,
             "#9c179e"
            ],
            [
             0.4444444444444444,
             "#bd3786"
            ],
            [
             0.5555555555555556,
             "#d8576b"
            ],
            [
             0.6666666666666666,
             "#ed7953"
            ],
            [
             0.7777777777777778,
             "#fb9f3a"
            ],
            [
             0.8888888888888888,
             "#fdca26"
            ],
            [
             1,
             "#f0f921"
            ]
           ]
          },
          "colorway": [
           "#636efa",
           "#EF553B",
           "#00cc96",
           "#ab63fa",
           "#FFA15A",
           "#19d3f3",
           "#FF6692",
           "#B6E880",
           "#FF97FF",
           "#FECB52"
          ],
          "font": {
           "color": "#2a3f5f"
          },
          "geo": {
           "bgcolor": "white",
           "lakecolor": "white",
           "landcolor": "#E5ECF6",
           "showlakes": true,
           "showland": true,
           "subunitcolor": "white"
          },
          "hoverlabel": {
           "align": "left"
          },
          "hovermode": "closest",
          "mapbox": {
           "style": "light"
          },
          "paper_bgcolor": "white",
          "plot_bgcolor": "#E5ECF6",
          "polar": {
           "angularaxis": {
            "gridcolor": "white",
            "linecolor": "white",
            "ticks": ""
           },
           "bgcolor": "#E5ECF6",
           "radialaxis": {
            "gridcolor": "white",
            "linecolor": "white",
            "ticks": ""
           }
          },
          "scene": {
           "xaxis": {
            "backgroundcolor": "#E5ECF6",
            "gridcolor": "white",
            "gridwidth": 2,
            "linecolor": "white",
            "showbackground": true,
            "ticks": "",
            "zerolinecolor": "white"
           },
           "yaxis": {
            "backgroundcolor": "#E5ECF6",
            "gridcolor": "white",
            "gridwidth": 2,
            "linecolor": "white",
            "showbackground": true,
            "ticks": "",
            "zerolinecolor": "white"
           },
           "zaxis": {
            "backgroundcolor": "#E5ECF6",
            "gridcolor": "white",
            "gridwidth": 2,
            "linecolor": "white",
            "showbackground": true,
            "ticks": "",
            "zerolinecolor": "white"
           }
          },
          "shapedefaults": {
           "line": {
            "color": "#2a3f5f"
           }
          },
          "ternary": {
           "aaxis": {
            "gridcolor": "white",
            "linecolor": "white",
            "ticks": ""
           },
           "baxis": {
            "gridcolor": "white",
            "linecolor": "white",
            "ticks": ""
           },
           "bgcolor": "#E5ECF6",
           "caxis": {
            "gridcolor": "white",
            "linecolor": "white",
            "ticks": ""
           }
          },
          "title": {
           "x": 0.05
          },
          "xaxis": {
           "automargin": true,
           "gridcolor": "white",
           "linecolor": "white",
           "ticks": "",
           "title": {
            "standoff": 15
           },
           "zerolinecolor": "white",
           "zerolinewidth": 2
          },
          "yaxis": {
           "automargin": true,
           "gridcolor": "white",
           "linecolor": "white",
           "ticks": "",
           "title": {
            "standoff": 15
           },
           "zerolinecolor": "white",
           "zerolinewidth": 2
          }
         }
        },
        "xaxis": {
         "anchor": "y",
         "categoryarray": [
          "0_01",
          "0_02",
          "0_03",
          "0_04",
          "0_05",
          "0_06",
          "0_07",
          "0_08",
          "0_09",
          "0_10",
          "0_11",
          "0_12",
          "0_13",
          "0_14",
          "0_15",
          "0_16",
          "0_17",
          "0_18",
          "0_19",
          "0_20",
          "0_21",
          "0_22",
          "0_23",
          "0_24",
          "0_25",
          "0_26",
          "0_27",
          "0_28",
          "0_29",
          "0_30",
          "1_01",
          "1_02",
          "1_03",
          "1_04",
          "1_05",
          "1_06",
          "1_07",
          "1_08",
          "1_09",
          "1_10",
          "1_11",
          "1_12",
          "1_13",
          "1_14",
          "1_15",
          "1_16",
          "1_17",
          "1_18",
          "1_19",
          "1_20",
          "1_21",
          "1_22",
          "1_23",
          "1_24",
          "1_25",
          "1_26",
          "1_27",
          "1_28",
          "1_29",
          "1_30"
         ],
         "categoryorder": "array",
         "domain": [
          0,
          0.49
         ],
         "showticklabels": true,
         "title": {
          "text": "problem"
         }
        },
        "xaxis2": {
         "anchor": "y2",
         "categoryarray": [
          "0_01",
          "0_02",
          "0_03",
          "0_04",
          "0_05",
          "0_06",
          "0_07",
          "0_08",
          "0_09",
          "0_10",
          "0_11",
          "0_12",
          "0_13",
          "0_14",
          "0_15",
          "0_16",
          "0_17",
          "0_18",
          "0_19",
          "0_20",
          "0_21",
          "0_22",
          "0_23",
          "0_24",
          "0_25",
          "0_26",
          "0_27",
          "0_28",
          "0_29",
          "0_30",
          "1_01",
          "1_02",
          "1_03",
          "1_04",
          "1_05",
          "1_06",
          "1_07",
          "1_08",
          "1_09",
          "1_10",
          "1_11",
          "1_12",
          "1_13",
          "1_14",
          "1_15",
          "1_16",
          "1_17",
          "1_18",
          "1_19",
          "1_20",
          "1_21",
          "1_22",
          "1_23",
          "1_24",
          "1_25",
          "1_26",
          "1_27",
          "1_28",
          "1_29",
          "1_30"
         ],
         "categoryorder": "array",
         "domain": [
          0.51,
          1
         ],
         "showticklabels": true,
         "title": {
          "text": "problem"
         }
        },
        "yaxis": {
         "anchor": "x",
         "domain": [
          0,
          1
         ],
         "showticklabels": true,
         "title": {
          "text": "cycles_mean"
         }
        },
        "yaxis2": {
         "anchor": "x2",
         "domain": [
          0,
          1
         ],
         "showticklabels": true
        }
       }
      }
     },
     "metadata": {},
     "output_type": "display_data"
    },
    {
     "name": "stdout",
     "output_type": "stream",
     "text": [
      "ferry\n"
     ]
    },
    {
     "data": {
      "application/vnd.plotly.v1+json": {
       "config": {
        "plotlyServerURL": "https://plot.ly"
       },
       "data": [
        {
         "error_y": {
          "array": [
           0,
           0,
           0,
           0,
           0,
           0,
           0,
           0,
           0,
           0,
           0,
           0,
           0,
           0,
           0,
           0,
           0,
           0,
           0,
           0,
           0,
           0,
           0,
           0,
           0,
           0,
           0,
           0,
           0,
           0
          ]
         },
         "hovertemplate": "solver=baseline<br>type=bounds<br>difficulty=0<br>problem=%{x}<br>cycles_mean=%{y}<extra></extra>",
         "legendgroup": "baseline, bounds",
         "line": {
          "color": "#636efa",
          "dash": "solid"
         },
         "marker": {
          "symbol": "circle"
         },
         "mode": "lines",
         "name": "baseline, bounds",
         "orientation": "v",
         "showlegend": true,
         "type": "scatter",
         "x": [
          "0_01",
          "0_02",
          "0_03",
          "0_04",
          "0_05",
          "0_06",
          "0_07",
          "0_08",
          "0_09",
          "0_10",
          "0_11",
          "0_12",
          "0_13",
          "0_14",
          "0_15",
          "0_16",
          "0_17",
          "0_18",
          "0_19",
          "0_20",
          "0_21",
          "0_22",
          "0_23",
          "0_24",
          "0_25",
          "0_26",
          "0_27",
          "0_28",
          "0_29",
          "0_30"
         ],
         "xaxis": "x",
         "y": [
          0,
          0,
          0,
          0,
          0,
          0,
          0,
          0,
          0,
          0,
          0,
          0,
          0,
          0,
          0,
          0,
          0,
          0,
          0,
          0,
          0,
          0,
          0,
          0,
          0,
          0,
          0,
          0,
          0,
          0
         ],
         "yaxis": "y"
        },
        {
         "error_y": {
          "array": [
           0,
           0,
           0,
           0,
           0,
           0,
           0,
           0,
           0,
           0,
           0,
           0,
           0,
           0,
           0,
           0,
           0,
           0,
           0,
           0,
           0,
           0,
           0,
           0,
           0,
           0,
           0,
           0,
           0,
           0
          ]
         },
         "hovertemplate": "solver=baseline<br>type=bounds<br>difficulty=1<br>problem=%{x}<br>cycles_mean=%{y}<extra></extra>",
         "legendgroup": "baseline, bounds",
         "line": {
          "color": "#636efa",
          "dash": "solid"
         },
         "marker": {
          "symbol": "circle"
         },
         "mode": "lines",
         "name": "baseline, bounds",
         "orientation": "v",
         "showlegend": false,
         "type": "scatter",
         "x": [
          "1_01",
          "1_02",
          "1_03",
          "1_04",
          "1_05",
          "1_06",
          "1_07",
          "1_08",
          "1_09",
          "1_10",
          "1_11",
          "1_12",
          "1_13",
          "1_14",
          "1_15",
          "1_16",
          "1_17",
          "1_18",
          "1_19",
          "1_20",
          "1_21",
          "1_22",
          "1_23",
          "1_24",
          "1_25",
          "1_26",
          "1_27",
          "1_28",
          "1_29",
          "1_30"
         ],
         "xaxis": "x2",
         "y": [
          0,
          0,
          0,
          0,
          0,
          0,
          0,
          0,
          0,
          0,
          0,
          0,
          0,
          0,
          0,
          0,
          0,
          0,
          0,
          0,
          0,
          0,
          0,
          0,
          0,
          0,
          0,
          0,
          0,
          0
         ],
         "yaxis": "y2"
        },
        {
         "error_y": {
          "array": [
           null,
           null,
           null,
           null,
           null,
           null,
           null,
           null,
           null,
           null,
           null,
           null,
           null,
           null,
           null,
           null,
           null,
           null,
           null,
           null,
           null,
           null,
           null,
           null,
           null,
           null,
           null,
           null,
           null,
           null
          ]
         },
         "hovertemplate": "solver=optimal<br>type=bounds<br>difficulty=0<br>problem=%{x}<br>cycles_mean=%{y}<extra></extra>",
         "legendgroup": "optimal, bounds",
         "line": {
          "color": "#EF553B",
          "dash": "solid"
         },
         "marker": {
          "symbol": "circle"
         },
         "mode": "lines",
         "name": "optimal, bounds",
         "orientation": "v",
         "showlegend": true,
         "type": "scatter",
         "x": [
          "0_01",
          "0_02",
          "0_03",
          "0_04",
          "0_05",
          "0_06",
          "0_07",
          "0_08",
          "0_09",
          "0_10",
          "0_11",
          "0_12",
          "0_13",
          "0_14",
          "0_15",
          "0_16",
          "0_17",
          "0_18",
          "0_19",
          "0_20",
          "0_21",
          "0_22",
          "0_23",
          "0_24",
          "0_25",
          "0_26",
          "0_27",
          "0_28",
          "0_29",
          "0_30"
         ],
         "xaxis": "x",
         "y": [
          0,
          0,
          0,
          0,
          0,
          0,
          0,
          0,
          0,
          0,
          0,
          0,
          0,
          0,
          0,
          0,
          0,
          0,
          0,
          0,
          0,
          0,
          0,
          0,
          0,
          0,
          0,
          0,
          0,
          0
         ],
         "yaxis": "y"
        },
        {
         "error_y": {
          "array": [
           null,
           null,
           null,
           null,
           null,
           null,
           null,
           null,
           null,
           null,
           null,
           null,
           null,
           null,
           null,
           null,
           null,
           null,
           null,
           null,
           null,
           null,
           null,
           null,
           null,
           null,
           null,
           null,
           null,
           null
          ]
         },
         "hovertemplate": "solver=optimal<br>type=bounds<br>difficulty=1<br>problem=%{x}<br>cycles_mean=%{y}<extra></extra>",
         "legendgroup": "optimal, bounds",
         "line": {
          "color": "#EF553B",
          "dash": "solid"
         },
         "marker": {
          "symbol": "circle"
         },
         "mode": "lines",
         "name": "optimal, bounds",
         "orientation": "v",
         "showlegend": false,
         "type": "scatter",
         "x": [
          "1_01",
          "1_02",
          "1_03",
          "1_04",
          "1_05",
          "1_06",
          "1_07",
          "1_08",
          "1_09",
          "1_10",
          "1_11",
          "1_12",
          "1_13",
          "1_14",
          "1_15",
          "1_16",
          "1_17",
          "1_18",
          "1_19",
          "1_20",
          "1_21",
          "1_22",
          "1_23",
          "1_24",
          "1_25",
          "1_26",
          "1_27",
          "1_28",
          "1_29",
          "1_30"
         ],
         "xaxis": "x2",
         "y": [
          0,
          0,
          0,
          0,
          0,
          0,
          0,
          0,
          0,
          0,
          0,
          0,
          0,
          0,
          0,
          0,
          0,
          0,
          0,
          0,
          0,
          0,
          0,
          0,
          0,
          0,
          0,
          0,
          0,
          0
         ],
         "yaxis": "y2"
        },
        {
         "error_y": {
          "array": [
           null,
           null,
           null,
           null,
           null,
           null,
           null,
           null,
           null,
           null,
           null,
           null,
           null,
           null,
           null,
           null,
           null,
           null,
           null,
           null,
           null,
           null,
           null,
           null,
           null,
           null,
           null,
           null,
           null,
           null
          ]
         },
         "hovertemplate": "solver=lama<br>type=bounds<br>difficulty=0<br>problem=%{x}<br>cycles_mean=%{y}<extra></extra>",
         "legendgroup": "lama, bounds",
         "line": {
          "color": "#00cc96",
          "dash": "solid"
         },
         "marker": {
          "symbol": "circle"
         },
         "mode": "lines",
         "name": "lama, bounds",
         "orientation": "v",
         "showlegend": true,
         "type": "scatter",
         "x": [
          "0_01",
          "0_02",
          "0_03",
          "0_04",
          "0_05",
          "0_06",
          "0_07",
          "0_08",
          "0_09",
          "0_10",
          "0_11",
          "0_12",
          "0_13",
          "0_14",
          "0_15",
          "0_16",
          "0_17",
          "0_18",
          "0_19",
          "0_20",
          "0_21",
          "0_22",
          "0_23",
          "0_24",
          "0_25",
          "0_26",
          "0_27",
          "0_28",
          "0_29",
          "0_30"
         ],
         "xaxis": "x",
         "y": [
          0,
          0,
          0,
          0,
          0,
          0,
          0,
          0,
          0,
          0,
          0,
          0,
          0,
          0,
          0,
          0,
          0,
          0,
          0,
          0,
          0,
          0,
          0,
          0,
          0,
          0,
          0,
          0,
          0,
          0
         ],
         "yaxis": "y"
        },
        {
         "error_y": {
          "array": [
           null,
           null,
           null,
           null,
           null,
           null,
           null,
           null,
           null,
           null,
           null,
           null,
           null,
           null,
           null,
           null,
           null,
           null,
           null,
           null,
           null,
           null,
           null,
           null,
           null,
           null,
           null,
           null,
           null,
           null
          ]
         },
         "hovertemplate": "solver=lama<br>type=bounds<br>difficulty=1<br>problem=%{x}<br>cycles_mean=%{y}<extra></extra>",
         "legendgroup": "lama, bounds",
         "line": {
          "color": "#00cc96",
          "dash": "solid"
         },
         "marker": {
          "symbol": "circle"
         },
         "mode": "lines",
         "name": "lama, bounds",
         "orientation": "v",
         "showlegend": false,
         "type": "scatter",
         "x": [
          "1_01",
          "1_02",
          "1_03",
          "1_04",
          "1_05",
          "1_06",
          "1_07",
          "1_08",
          "1_09",
          "1_10",
          "1_11",
          "1_12",
          "1_13",
          "1_14",
          "1_15",
          "1_16",
          "1_17",
          "1_18",
          "1_19",
          "1_20",
          "1_21",
          "1_22",
          "1_23",
          "1_24",
          "1_25",
          "1_26",
          "1_27",
          "1_28",
          "1_29",
          "1_30"
         ],
         "xaxis": "x2",
         "y": [
          0,
          0,
          0,
          0,
          0,
          0,
          0,
          0,
          0,
          0,
          0,
          0,
          0,
          0,
          0,
          0,
          0,
          0,
          0,
          0,
          0,
          0,
          0,
          0,
          0,
          0,
          0,
          0,
          0,
          0
         ],
         "yaxis": "y2"
        },
        {
         "error_y": {
          "array": [
           0,
           0,
           0,
           0,
           0,
           0,
           0,
           0,
           0,
           0,
           0,
           0,
           0,
           0,
           0,
           0,
           0,
           0,
           0,
           0,
           0,
           0,
           0,
           0,
           0,
           0,
           0,
           0,
           0,
           0
          ]
         },
         "hovertemplate": "solver=L2_D8_best<br>type=lrnn_best<br>difficulty=0<br>problem=%{x}<br>cycles_mean=%{y}<extra></extra>",
         "legendgroup": "L2_D8_best, lrnn_best",
         "line": {
          "color": "#ab63fa",
          "dash": "dot"
         },
         "marker": {
          "symbol": "circle"
         },
         "mode": "lines",
         "name": "L2_D8_best, lrnn_best",
         "orientation": "v",
         "showlegend": true,
         "type": "scatter",
         "x": [
          "0_01",
          "0_02",
          "0_03",
          "0_04",
          "0_05",
          "0_06",
          "0_07",
          "0_08",
          "0_09",
          "0_10",
          "0_11",
          "0_12",
          "0_13",
          "0_14",
          "0_15",
          "0_16",
          "0_17",
          "0_18",
          "0_19",
          "0_20",
          "0_21",
          "0_22",
          "0_23",
          "0_24",
          "0_25",
          "0_26",
          "0_27",
          "0_28",
          "0_29",
          "0_30"
         ],
         "xaxis": "x",
         "y": [
          0,
          0,
          0,
          0,
          0,
          0,
          0,
          0,
          0,
          0,
          0,
          0,
          0,
          0,
          0,
          0,
          0,
          0,
          0,
          0,
          0,
          0,
          0,
          0,
          0,
          0,
          0,
          0,
          0,
          0
         ],
         "yaxis": "y"
        },
        {
         "error_y": {
          "array": [
           0,
           0,
           0,
           0,
           0,
           0,
           0,
           0,
           0,
           0,
           0,
           0,
           0,
           0,
           0,
           0,
           0,
           0,
           0,
           0,
           0,
           0,
           0,
           0,
           0,
           0,
           0,
           0,
           0,
           0
          ]
         },
         "hovertemplate": "solver=L2_D8_best<br>type=lrnn_best<br>difficulty=1<br>problem=%{x}<br>cycles_mean=%{y}<extra></extra>",
         "legendgroup": "L2_D8_best, lrnn_best",
         "line": {
          "color": "#ab63fa",
          "dash": "dot"
         },
         "marker": {
          "symbol": "circle"
         },
         "mode": "lines",
         "name": "L2_D8_best, lrnn_best",
         "orientation": "v",
         "showlegend": false,
         "type": "scatter",
         "x": [
          "1_01",
          "1_02",
          "1_03",
          "1_04",
          "1_05",
          "1_06",
          "1_07",
          "1_08",
          "1_09",
          "1_10",
          "1_11",
          "1_12",
          "1_13",
          "1_14",
          "1_15",
          "1_16",
          "1_17",
          "1_18",
          "1_19",
          "1_20",
          "1_21",
          "1_22",
          "1_23",
          "1_24",
          "1_25",
          "1_26",
          "1_27",
          "1_28",
          "1_29",
          "1_30"
         ],
         "xaxis": "x2",
         "y": [
          0,
          0,
          0,
          0,
          0,
          0,
          0,
          0,
          0,
          0,
          0,
          0,
          0,
          0,
          0,
          0,
          0,
          0,
          0,
          0,
          0,
          0,
          0,
          0,
          0,
          0,
          0,
          0,
          0,
          0
         ],
         "yaxis": "y2"
        },
        {
         "error_y": {
          "array": [
           0,
           0,
           0,
           0,
           0,
           0,
           0,
           0,
           0,
           0,
           0,
           0,
           0,
           0,
           0,
           0,
           0,
           0,
           0,
           0,
           0,
           0,
           0,
           0,
           0,
           0,
           0,
           0,
           0,
           0
          ]
         },
         "hovertemplate": "solver=L2_D16_best<br>type=lrnn_best<br>difficulty=0<br>problem=%{x}<br>cycles_mean=%{y}<extra></extra>",
         "legendgroup": "L2_D16_best, lrnn_best",
         "line": {
          "color": "#FFA15A",
          "dash": "dot"
         },
         "marker": {
          "symbol": "circle"
         },
         "mode": "lines",
         "name": "L2_D16_best, lrnn_best",
         "orientation": "v",
         "showlegend": true,
         "type": "scatter",
         "x": [
          "0_01",
          "0_02",
          "0_03",
          "0_04",
          "0_05",
          "0_06",
          "0_07",
          "0_08",
          "0_09",
          "0_10",
          "0_11",
          "0_12",
          "0_13",
          "0_14",
          "0_15",
          "0_16",
          "0_17",
          "0_18",
          "0_19",
          "0_20",
          "0_21",
          "0_22",
          "0_23",
          "0_24",
          "0_25",
          "0_26",
          "0_27",
          "0_28",
          "0_29",
          "0_30"
         ],
         "xaxis": "x",
         "y": [
          0,
          0,
          0,
          0,
          0,
          0,
          0,
          0,
          0,
          0,
          0,
          0,
          0,
          0,
          0,
          0,
          0,
          0,
          0,
          0,
          0,
          0,
          0,
          0,
          0,
          0,
          0,
          0,
          0,
          0
         ],
         "yaxis": "y"
        },
        {
         "error_y": {
          "array": [
           0,
           0,
           0,
           0,
           0,
           0,
           0,
           0,
           0,
           0,
           0,
           0,
           0,
           0,
           0,
           0,
           0,
           0,
           0,
           0,
           0,
           0,
           0,
           0,
           0,
           0,
           0,
           0,
           0,
           0
          ]
         },
         "hovertemplate": "solver=L2_D16_best<br>type=lrnn_best<br>difficulty=1<br>problem=%{x}<br>cycles_mean=%{y}<extra></extra>",
         "legendgroup": "L2_D16_best, lrnn_best",
         "line": {
          "color": "#FFA15A",
          "dash": "dot"
         },
         "marker": {
          "symbol": "circle"
         },
         "mode": "lines",
         "name": "L2_D16_best, lrnn_best",
         "orientation": "v",
         "showlegend": false,
         "type": "scatter",
         "x": [
          "1_01",
          "1_02",
          "1_03",
          "1_04",
          "1_05",
          "1_06",
          "1_07",
          "1_08",
          "1_09",
          "1_10",
          "1_11",
          "1_12",
          "1_13",
          "1_14",
          "1_15",
          "1_16",
          "1_17",
          "1_18",
          "1_19",
          "1_20",
          "1_21",
          "1_22",
          "1_23",
          "1_24",
          "1_25",
          "1_26",
          "1_27",
          "1_28",
          "1_29",
          "1_30"
         ],
         "xaxis": "x2",
         "y": [
          0,
          0,
          0,
          0,
          0,
          0,
          0,
          0,
          0,
          0,
          0,
          0,
          0,
          0,
          0,
          0,
          0,
          0,
          0,
          0,
          0,
          0,
          0,
          0,
          0,
          0,
          0,
          0,
          0,
          0
         ],
         "yaxis": "y2"
        },
        {
         "error_y": {
          "array": [
           0,
           0,
           0,
           0,
           0,
           0,
           0,
           0,
           0,
           0,
           0,
           0,
           0,
           0,
           0,
           0,
           0,
           0,
           0,
           0,
           0,
           0,
           0,
           0,
           0,
           0,
           0,
           0,
           0,
           0
          ]
         },
         "hovertemplate": "solver=L2_D32_best<br>type=lrnn_best<br>difficulty=0<br>problem=%{x}<br>cycles_mean=%{y}<extra></extra>",
         "legendgroup": "L2_D32_best, lrnn_best",
         "line": {
          "color": "#19d3f3",
          "dash": "dot"
         },
         "marker": {
          "symbol": "circle"
         },
         "mode": "lines",
         "name": "L2_D32_best, lrnn_best",
         "orientation": "v",
         "showlegend": true,
         "type": "scatter",
         "x": [
          "0_01",
          "0_02",
          "0_03",
          "0_04",
          "0_05",
          "0_06",
          "0_07",
          "0_08",
          "0_09",
          "0_10",
          "0_11",
          "0_12",
          "0_13",
          "0_14",
          "0_15",
          "0_16",
          "0_17",
          "0_18",
          "0_19",
          "0_20",
          "0_21",
          "0_22",
          "0_23",
          "0_24",
          "0_25",
          "0_26",
          "0_27",
          "0_28",
          "0_29",
          "0_30"
         ],
         "xaxis": "x",
         "y": [
          0,
          0,
          0,
          0,
          0,
          0,
          0,
          0,
          0,
          0,
          0,
          0,
          0,
          0,
          0,
          0,
          0,
          0,
          0,
          0,
          0,
          0,
          0,
          0,
          0,
          0,
          0,
          0,
          0,
          0
         ],
         "yaxis": "y"
        },
        {
         "error_y": {
          "array": [
           0,
           0,
           0,
           0,
           0,
           0,
           0,
           0,
           0,
           0,
           0,
           0,
           0,
           0,
           0,
           0,
           0,
           0,
           0,
           0,
           0,
           0,
           0,
           0,
           0,
           0,
           0,
           0,
           0,
           0
          ]
         },
         "hovertemplate": "solver=L2_D32_best<br>type=lrnn_best<br>difficulty=1<br>problem=%{x}<br>cycles_mean=%{y}<extra></extra>",
         "legendgroup": "L2_D32_best, lrnn_best",
         "line": {
          "color": "#19d3f3",
          "dash": "dot"
         },
         "marker": {
          "symbol": "circle"
         },
         "mode": "lines",
         "name": "L2_D32_best, lrnn_best",
         "orientation": "v",
         "showlegend": false,
         "type": "scatter",
         "x": [
          "1_01",
          "1_02",
          "1_03",
          "1_04",
          "1_05",
          "1_06",
          "1_07",
          "1_08",
          "1_09",
          "1_10",
          "1_11",
          "1_12",
          "1_13",
          "1_14",
          "1_15",
          "1_16",
          "1_17",
          "1_18",
          "1_19",
          "1_20",
          "1_21",
          "1_22",
          "1_23",
          "1_24",
          "1_25",
          "1_26",
          "1_27",
          "1_28",
          "1_29",
          "1_30"
         ],
         "xaxis": "x2",
         "y": [
          0,
          0,
          0,
          0,
          0,
          0,
          0,
          0,
          0,
          0,
          0,
          0,
          0,
          0,
          0,
          0,
          0,
          0,
          0,
          0,
          0,
          0,
          0,
          0,
          0,
          0,
          0,
          0,
          0,
          0
         ],
         "yaxis": "y2"
        },
        {
         "error_y": {
          "array": [
           0,
           0,
           0,
           0,
           0,
           0,
           0,
           0,
           0,
           0,
           0,
           0,
           0,
           0,
           0,
           0,
           0,
           0,
           0,
           0,
           0,
           0,
           0,
           0,
           0,
           0,
           0,
           0,
           0,
           0
          ]
         },
         "hovertemplate": "solver=L3_D8_best<br>type=lrnn_best<br>difficulty=0<br>problem=%{x}<br>cycles_mean=%{y}<extra></extra>",
         "legendgroup": "L3_D8_best, lrnn_best",
         "line": {
          "color": "#FF6692",
          "dash": "dot"
         },
         "marker": {
          "symbol": "circle"
         },
         "mode": "lines",
         "name": "L3_D8_best, lrnn_best",
         "orientation": "v",
         "showlegend": true,
         "type": "scatter",
         "x": [
          "0_01",
          "0_02",
          "0_03",
          "0_04",
          "0_05",
          "0_06",
          "0_07",
          "0_08",
          "0_09",
          "0_10",
          "0_11",
          "0_12",
          "0_13",
          "0_14",
          "0_15",
          "0_16",
          "0_17",
          "0_18",
          "0_19",
          "0_20",
          "0_21",
          "0_22",
          "0_23",
          "0_24",
          "0_25",
          "0_26",
          "0_27",
          "0_28",
          "0_29",
          "0_30"
         ],
         "xaxis": "x",
         "y": [
          0,
          0,
          0,
          0,
          0,
          0,
          0,
          0,
          0,
          0,
          0,
          0,
          0,
          0,
          0,
          0,
          0,
          0,
          0,
          0,
          0,
          0,
          0,
          0,
          0,
          0,
          0,
          0,
          0,
          0
         ],
         "yaxis": "y"
        },
        {
         "error_y": {
          "array": [
           0,
           0,
           0,
           0,
           0,
           0,
           0,
           0,
           0,
           0,
           0,
           0,
           0,
           0,
           0,
           0,
           0,
           0,
           0,
           0,
           0,
           0,
           0,
           0,
           0,
           0,
           0,
           0,
           0,
           0
          ]
         },
         "hovertemplate": "solver=L3_D8_best<br>type=lrnn_best<br>difficulty=1<br>problem=%{x}<br>cycles_mean=%{y}<extra></extra>",
         "legendgroup": "L3_D8_best, lrnn_best",
         "line": {
          "color": "#FF6692",
          "dash": "dot"
         },
         "marker": {
          "symbol": "circle"
         },
         "mode": "lines",
         "name": "L3_D8_best, lrnn_best",
         "orientation": "v",
         "showlegend": false,
         "type": "scatter",
         "x": [
          "1_01",
          "1_02",
          "1_03",
          "1_04",
          "1_05",
          "1_06",
          "1_07",
          "1_08",
          "1_09",
          "1_10",
          "1_11",
          "1_12",
          "1_13",
          "1_14",
          "1_15",
          "1_16",
          "1_17",
          "1_18",
          "1_19",
          "1_20",
          "1_21",
          "1_22",
          "1_23",
          "1_24",
          "1_25",
          "1_26",
          "1_27",
          "1_28",
          "1_29",
          "1_30"
         ],
         "xaxis": "x2",
         "y": [
          0,
          0,
          0,
          0,
          0,
          0,
          0,
          0,
          0,
          0,
          0,
          0,
          0,
          0,
          0,
          0,
          0,
          0,
          0,
          0,
          0,
          0,
          0,
          0,
          0,
          0,
          0,
          0,
          0,
          0
         ],
         "yaxis": "y2"
        },
        {
         "error_y": {
          "array": [
           0,
           0,
           0,
           0,
           0,
           0,
           0,
           0,
           0,
           0,
           0,
           0,
           0,
           0,
           0,
           0,
           0,
           0,
           0,
           0,
           0,
           0,
           0,
           0,
           0,
           0,
           0,
           0,
           0,
           0
          ]
         },
         "hovertemplate": "solver=L3_D16_best<br>type=lrnn_best<br>difficulty=0<br>problem=%{x}<br>cycles_mean=%{y}<extra></extra>",
         "legendgroup": "L3_D16_best, lrnn_best",
         "line": {
          "color": "#B6E880",
          "dash": "dot"
         },
         "marker": {
          "symbol": "circle"
         },
         "mode": "lines",
         "name": "L3_D16_best, lrnn_best",
         "orientation": "v",
         "showlegend": true,
         "type": "scatter",
         "x": [
          "0_01",
          "0_02",
          "0_03",
          "0_04",
          "0_05",
          "0_06",
          "0_07",
          "0_08",
          "0_09",
          "0_10",
          "0_11",
          "0_12",
          "0_13",
          "0_14",
          "0_15",
          "0_16",
          "0_17",
          "0_18",
          "0_19",
          "0_20",
          "0_21",
          "0_22",
          "0_23",
          "0_24",
          "0_25",
          "0_26",
          "0_27",
          "0_28",
          "0_29",
          "0_30"
         ],
         "xaxis": "x",
         "y": [
          0,
          0,
          0,
          0,
          0,
          0,
          0,
          0,
          0,
          0,
          0,
          0,
          0,
          0,
          0,
          0,
          0,
          0,
          0,
          0,
          0,
          0,
          0,
          0,
          0,
          0,
          0,
          0,
          0,
          0
         ],
         "yaxis": "y"
        },
        {
         "error_y": {
          "array": [
           0,
           0,
           0,
           0,
           0,
           0,
           0,
           0,
           0,
           0,
           0,
           0,
           0,
           0,
           0,
           0,
           0,
           0,
           0,
           0,
           0,
           0,
           0,
           0,
           0,
           0,
           0,
           0,
           0,
           0
          ]
         },
         "hovertemplate": "solver=L3_D16_best<br>type=lrnn_best<br>difficulty=1<br>problem=%{x}<br>cycles_mean=%{y}<extra></extra>",
         "legendgroup": "L3_D16_best, lrnn_best",
         "line": {
          "color": "#B6E880",
          "dash": "dot"
         },
         "marker": {
          "symbol": "circle"
         },
         "mode": "lines",
         "name": "L3_D16_best, lrnn_best",
         "orientation": "v",
         "showlegend": false,
         "type": "scatter",
         "x": [
          "1_01",
          "1_02",
          "1_03",
          "1_04",
          "1_05",
          "1_06",
          "1_07",
          "1_08",
          "1_09",
          "1_10",
          "1_11",
          "1_12",
          "1_13",
          "1_14",
          "1_15",
          "1_16",
          "1_17",
          "1_18",
          "1_19",
          "1_20",
          "1_21",
          "1_22",
          "1_23",
          "1_24",
          "1_25",
          "1_26",
          "1_27",
          "1_28",
          "1_29",
          "1_30"
         ],
         "xaxis": "x2",
         "y": [
          0,
          0,
          0,
          0,
          0,
          0,
          0,
          0,
          0,
          0,
          0,
          0,
          0,
          0,
          0,
          0,
          0,
          0,
          0,
          0,
          0,
          0,
          0,
          0,
          0,
          0,
          0,
          0,
          0,
          0
         ],
         "yaxis": "y2"
        },
        {
         "error_y": {
          "array": [
           0,
           0,
           0,
           0,
           0,
           0,
           0,
           0,
           0,
           0,
           0,
           0,
           0,
           0,
           0,
           0,
           0,
           0,
           0,
           0,
           0,
           0,
           0,
           0,
           0,
           0,
           0,
           0,
           0,
           0
          ]
         },
         "hovertemplate": "solver=L3_D32_best<br>type=lrnn_best<br>difficulty=0<br>problem=%{x}<br>cycles_mean=%{y}<extra></extra>",
         "legendgroup": "L3_D32_best, lrnn_best",
         "line": {
          "color": "#FF97FF",
          "dash": "dot"
         },
         "marker": {
          "symbol": "circle"
         },
         "mode": "lines",
         "name": "L3_D32_best, lrnn_best",
         "orientation": "v",
         "showlegend": true,
         "type": "scatter",
         "x": [
          "0_01",
          "0_02",
          "0_03",
          "0_04",
          "0_05",
          "0_06",
          "0_07",
          "0_08",
          "0_09",
          "0_10",
          "0_11",
          "0_12",
          "0_13",
          "0_14",
          "0_15",
          "0_16",
          "0_17",
          "0_18",
          "0_19",
          "0_20",
          "0_21",
          "0_22",
          "0_23",
          "0_24",
          "0_25",
          "0_26",
          "0_27",
          "0_28",
          "0_29",
          "0_30"
         ],
         "xaxis": "x",
         "y": [
          0,
          0,
          0,
          0,
          0,
          0,
          0,
          0,
          0,
          0,
          0,
          0,
          0,
          0,
          0,
          0,
          0,
          0,
          0,
          0,
          0,
          0,
          0,
          0,
          0,
          0,
          0,
          0,
          0,
          0
         ],
         "yaxis": "y"
        },
        {
         "error_y": {
          "array": [
           0,
           0,
           0,
           0,
           0,
           0,
           0,
           0,
           0,
           0,
           0,
           0,
           0,
           0,
           0,
           0,
           0,
           0,
           0,
           0,
           0,
           0,
           0,
           0,
           0,
           0,
           0,
           0,
           0,
           0
          ]
         },
         "hovertemplate": "solver=L3_D32_best<br>type=lrnn_best<br>difficulty=1<br>problem=%{x}<br>cycles_mean=%{y}<extra></extra>",
         "legendgroup": "L3_D32_best, lrnn_best",
         "line": {
          "color": "#FF97FF",
          "dash": "dot"
         },
         "marker": {
          "symbol": "circle"
         },
         "mode": "lines",
         "name": "L3_D32_best, lrnn_best",
         "orientation": "v",
         "showlegend": false,
         "type": "scatter",
         "x": [
          "1_01",
          "1_02",
          "1_03",
          "1_04",
          "1_05",
          "1_06",
          "1_07",
          "1_08",
          "1_09",
          "1_10",
          "1_11",
          "1_12",
          "1_13",
          "1_14",
          "1_15",
          "1_16",
          "1_17",
          "1_18",
          "1_19",
          "1_20",
          "1_21",
          "1_22",
          "1_23",
          "1_24",
          "1_25",
          "1_26",
          "1_27",
          "1_28",
          "1_29",
          "1_30"
         ],
         "xaxis": "x2",
         "y": [
          0,
          0,
          0,
          0,
          0,
          0,
          0,
          0,
          0,
          0,
          0,
          0,
          0,
          0,
          0,
          0,
          0,
          0,
          0,
          0,
          0,
          0,
          0,
          0,
          0,
          0,
          0,
          0,
          0,
          0
         ],
         "yaxis": "y2"
        },
        {
         "error_y": {
          "array": [
           0,
           0,
           0,
           0,
           0,
           0,
           0,
           0,
           0,
           0,
           0,
           0,
           0,
           0,
           0,
           0,
           0,
           0,
           0,
           0,
           0,
           0,
           0,
           0,
           0,
           0,
           0,
           0,
           0,
           0
          ]
         },
         "hovertemplate": "solver=L4_D8_best<br>type=lrnn_best<br>difficulty=0<br>problem=%{x}<br>cycles_mean=%{y}<extra></extra>",
         "legendgroup": "L4_D8_best, lrnn_best",
         "line": {
          "color": "#FECB52",
          "dash": "dot"
         },
         "marker": {
          "symbol": "circle"
         },
         "mode": "lines",
         "name": "L4_D8_best, lrnn_best",
         "orientation": "v",
         "showlegend": true,
         "type": "scatter",
         "x": [
          "0_01",
          "0_02",
          "0_03",
          "0_04",
          "0_05",
          "0_06",
          "0_07",
          "0_08",
          "0_09",
          "0_10",
          "0_11",
          "0_12",
          "0_13",
          "0_14",
          "0_15",
          "0_16",
          "0_17",
          "0_18",
          "0_19",
          "0_20",
          "0_21",
          "0_22",
          "0_23",
          "0_24",
          "0_25",
          "0_26",
          "0_27",
          "0_28",
          "0_29",
          "0_30"
         ],
         "xaxis": "x",
         "y": [
          0,
          0,
          0,
          0,
          0,
          0,
          0,
          0,
          0,
          0,
          0,
          0,
          0,
          0,
          0,
          0,
          0,
          0,
          0,
          0,
          0,
          0,
          0,
          0,
          0,
          0,
          0,
          0,
          0,
          0
         ],
         "yaxis": "y"
        },
        {
         "error_y": {
          "array": [
           0,
           0,
           0,
           0,
           0,
           0,
           0,
           0,
           0,
           0,
           0,
           0,
           0,
           0,
           0,
           0,
           0,
           0,
           0,
           0,
           0,
           0,
           0,
           0,
           0,
           0,
           0,
           0,
           0,
           0
          ]
         },
         "hovertemplate": "solver=L4_D8_best<br>type=lrnn_best<br>difficulty=1<br>problem=%{x}<br>cycles_mean=%{y}<extra></extra>",
         "legendgroup": "L4_D8_best, lrnn_best",
         "line": {
          "color": "#FECB52",
          "dash": "dot"
         },
         "marker": {
          "symbol": "circle"
         },
         "mode": "lines",
         "name": "L4_D8_best, lrnn_best",
         "orientation": "v",
         "showlegend": false,
         "type": "scatter",
         "x": [
          "1_01",
          "1_02",
          "1_03",
          "1_04",
          "1_05",
          "1_06",
          "1_07",
          "1_08",
          "1_09",
          "1_10",
          "1_11",
          "1_12",
          "1_13",
          "1_14",
          "1_15",
          "1_16",
          "1_17",
          "1_18",
          "1_19",
          "1_20",
          "1_21",
          "1_22",
          "1_23",
          "1_24",
          "1_25",
          "1_26",
          "1_27",
          "1_28",
          "1_29",
          "1_30"
         ],
         "xaxis": "x2",
         "y": [
          0,
          0,
          0,
          0,
          0,
          0,
          0,
          0,
          0,
          0,
          0,
          0,
          0,
          0,
          0,
          0,
          0,
          0,
          0,
          0,
          0,
          0,
          0,
          0,
          0,
          0,
          0,
          0,
          0,
          0
         ],
         "yaxis": "y2"
        },
        {
         "error_y": {
          "array": [
           0,
           0,
           0,
           0,
           0,
           0,
           0,
           0,
           0,
           0,
           0,
           0,
           0,
           0,
           0,
           0,
           0,
           0,
           0,
           0,
           0,
           0,
           0,
           0,
           0,
           0,
           0,
           0,
           0,
           0
          ]
         },
         "hovertemplate": "solver=L4_D16_best<br>type=lrnn_best<br>difficulty=0<br>problem=%{x}<br>cycles_mean=%{y}<extra></extra>",
         "legendgroup": "L4_D16_best, lrnn_best",
         "line": {
          "color": "#636efa",
          "dash": "dot"
         },
         "marker": {
          "symbol": "circle"
         },
         "mode": "lines",
         "name": "L4_D16_best, lrnn_best",
         "orientation": "v",
         "showlegend": true,
         "type": "scatter",
         "x": [
          "0_01",
          "0_02",
          "0_03",
          "0_04",
          "0_05",
          "0_06",
          "0_07",
          "0_08",
          "0_09",
          "0_10",
          "0_11",
          "0_12",
          "0_13",
          "0_14",
          "0_15",
          "0_16",
          "0_17",
          "0_18",
          "0_19",
          "0_20",
          "0_21",
          "0_22",
          "0_23",
          "0_24",
          "0_25",
          "0_26",
          "0_27",
          "0_28",
          "0_29",
          "0_30"
         ],
         "xaxis": "x",
         "y": [
          0,
          0,
          0,
          0,
          0,
          0,
          0,
          0,
          0,
          0,
          0,
          0,
          0,
          0,
          0,
          0,
          0,
          0,
          0,
          0,
          0,
          0,
          0,
          0,
          0,
          0,
          0,
          0,
          0,
          0
         ],
         "yaxis": "y"
        },
        {
         "error_y": {
          "array": [
           0,
           0,
           0,
           0,
           0,
           0,
           0,
           0,
           0,
           0,
           0,
           0,
           0,
           0,
           0,
           0,
           0,
           0,
           0,
           0,
           0,
           0,
           0,
           0,
           0,
           0,
           0,
           0,
           0,
           0
          ]
         },
         "hovertemplate": "solver=L4_D16_best<br>type=lrnn_best<br>difficulty=1<br>problem=%{x}<br>cycles_mean=%{y}<extra></extra>",
         "legendgroup": "L4_D16_best, lrnn_best",
         "line": {
          "color": "#636efa",
          "dash": "dot"
         },
         "marker": {
          "symbol": "circle"
         },
         "mode": "lines",
         "name": "L4_D16_best, lrnn_best",
         "orientation": "v",
         "showlegend": false,
         "type": "scatter",
         "x": [
          "1_01",
          "1_02",
          "1_03",
          "1_04",
          "1_05",
          "1_06",
          "1_07",
          "1_08",
          "1_09",
          "1_10",
          "1_11",
          "1_12",
          "1_13",
          "1_14",
          "1_15",
          "1_16",
          "1_17",
          "1_18",
          "1_19",
          "1_20",
          "1_21",
          "1_22",
          "1_23",
          "1_24",
          "1_25",
          "1_26",
          "1_27",
          "1_28",
          "1_29",
          "1_30"
         ],
         "xaxis": "x2",
         "y": [
          0,
          0,
          0,
          0,
          0,
          0,
          0,
          0,
          0,
          0,
          0,
          0,
          0,
          0,
          0,
          0,
          0,
          0,
          0,
          0,
          0,
          0,
          0,
          0,
          0,
          0,
          0,
          0,
          0,
          0
         ],
         "yaxis": "y2"
        },
        {
         "error_y": {
          "array": [
           0,
           0,
           0,
           0,
           0,
           0,
           0,
           0,
           0,
           0,
           0,
           0,
           0,
           0,
           0,
           0,
           0,
           0,
           0,
           0,
           0,
           0,
           0,
           0,
           0,
           0,
           0,
           0,
           0,
           0
          ]
         },
         "hovertemplate": "solver=L4_D32_best<br>type=lrnn_best<br>difficulty=0<br>problem=%{x}<br>cycles_mean=%{y}<extra></extra>",
         "legendgroup": "L4_D32_best, lrnn_best",
         "line": {
          "color": "#EF553B",
          "dash": "dot"
         },
         "marker": {
          "symbol": "circle"
         },
         "mode": "lines",
         "name": "L4_D32_best, lrnn_best",
         "orientation": "v",
         "showlegend": true,
         "type": "scatter",
         "x": [
          "0_01",
          "0_02",
          "0_03",
          "0_04",
          "0_05",
          "0_06",
          "0_07",
          "0_08",
          "0_09",
          "0_10",
          "0_11",
          "0_12",
          "0_13",
          "0_14",
          "0_15",
          "0_16",
          "0_17",
          "0_18",
          "0_19",
          "0_20",
          "0_21",
          "0_22",
          "0_23",
          "0_24",
          "0_25",
          "0_26",
          "0_27",
          "0_28",
          "0_29",
          "0_30"
         ],
         "xaxis": "x",
         "y": [
          0,
          0,
          0,
          0,
          0,
          0,
          0,
          0,
          0,
          0,
          0,
          0,
          0,
          0,
          0,
          0,
          0,
          0,
          0,
          0,
          0,
          0,
          0,
          0,
          0,
          0,
          0,
          0,
          0,
          0
         ],
         "yaxis": "y"
        },
        {
         "error_y": {
          "array": [
           0,
           0,
           0,
           0,
           0,
           0,
           0,
           0,
           0,
           0,
           0,
           0,
           0,
           0,
           0,
           0,
           0,
           0,
           0,
           0,
           0,
           0,
           0,
           0,
           0,
           0,
           0,
           0,
           0,
           0
          ]
         },
         "hovertemplate": "solver=L4_D32_best<br>type=lrnn_best<br>difficulty=1<br>problem=%{x}<br>cycles_mean=%{y}<extra></extra>",
         "legendgroup": "L4_D32_best, lrnn_best",
         "line": {
          "color": "#EF553B",
          "dash": "dot"
         },
         "marker": {
          "symbol": "circle"
         },
         "mode": "lines",
         "name": "L4_D32_best, lrnn_best",
         "orientation": "v",
         "showlegend": false,
         "type": "scatter",
         "x": [
          "1_01",
          "1_02",
          "1_03",
          "1_04",
          "1_05",
          "1_06",
          "1_07",
          "1_08",
          "1_09",
          "1_10",
          "1_11",
          "1_12",
          "1_13",
          "1_14",
          "1_15",
          "1_16",
          "1_17",
          "1_18",
          "1_19",
          "1_20",
          "1_21",
          "1_22",
          "1_23",
          "1_24",
          "1_25",
          "1_26",
          "1_27",
          "1_28",
          "1_29",
          "1_30"
         ],
         "xaxis": "x2",
         "y": [
          0,
          0,
          0,
          0,
          0,
          0,
          0,
          0,
          0,
          0,
          0,
          0,
          0,
          0,
          0,
          0,
          0,
          0,
          0,
          0,
          0,
          0,
          0,
          0,
          0,
          0,
          0,
          0,
          0,
          0
         ],
         "yaxis": "y2"
        }
       ],
       "layout": {
        "annotations": [
         {
          "font": {},
          "showarrow": false,
          "text": "difficulty=0",
          "x": 0.245,
          "xanchor": "center",
          "xref": "paper",
          "y": 1,
          "yanchor": "bottom",
          "yref": "paper"
         },
         {
          "font": {},
          "showarrow": false,
          "text": "difficulty=1",
          "x": 0.755,
          "xanchor": "center",
          "xref": "paper",
          "y": 1,
          "yanchor": "bottom",
          "yref": "paper"
         }
        ],
        "legend": {
         "title": {
          "text": "solver, type"
         },
         "tracegroupgap": 0
        },
        "margin": {
         "t": 60
        },
        "template": {
         "data": {
          "bar": [
           {
            "error_x": {
             "color": "#2a3f5f"
            },
            "error_y": {
             "color": "#2a3f5f"
            },
            "marker": {
             "line": {
              "color": "#E5ECF6",
              "width": 0.5
             },
             "pattern": {
              "fillmode": "overlay",
              "size": 10,
              "solidity": 0.2
             }
            },
            "type": "bar"
           }
          ],
          "barpolar": [
           {
            "marker": {
             "line": {
              "color": "#E5ECF6",
              "width": 0.5
             },
             "pattern": {
              "fillmode": "overlay",
              "size": 10,
              "solidity": 0.2
             }
            },
            "type": "barpolar"
           }
          ],
          "carpet": [
           {
            "aaxis": {
             "endlinecolor": "#2a3f5f",
             "gridcolor": "white",
             "linecolor": "white",
             "minorgridcolor": "white",
             "startlinecolor": "#2a3f5f"
            },
            "baxis": {
             "endlinecolor": "#2a3f5f",
             "gridcolor": "white",
             "linecolor": "white",
             "minorgridcolor": "white",
             "startlinecolor": "#2a3f5f"
            },
            "type": "carpet"
           }
          ],
          "choropleth": [
           {
            "colorbar": {
             "outlinewidth": 0,
             "ticks": ""
            },
            "type": "choropleth"
           }
          ],
          "contour": [
           {
            "colorbar": {
             "outlinewidth": 0,
             "ticks": ""
            },
            "colorscale": [
             [
              0,
              "#0d0887"
             ],
             [
              0.1111111111111111,
              "#46039f"
             ],
             [
              0.2222222222222222,
              "#7201a8"
             ],
             [
              0.3333333333333333,
              "#9c179e"
             ],
             [
              0.4444444444444444,
              "#bd3786"
             ],
             [
              0.5555555555555556,
              "#d8576b"
             ],
             [
              0.6666666666666666,
              "#ed7953"
             ],
             [
              0.7777777777777778,
              "#fb9f3a"
             ],
             [
              0.8888888888888888,
              "#fdca26"
             ],
             [
              1,
              "#f0f921"
             ]
            ],
            "type": "contour"
           }
          ],
          "contourcarpet": [
           {
            "colorbar": {
             "outlinewidth": 0,
             "ticks": ""
            },
            "type": "contourcarpet"
           }
          ],
          "heatmap": [
           {
            "colorbar": {
             "outlinewidth": 0,
             "ticks": ""
            },
            "colorscale": [
             [
              0,
              "#0d0887"
             ],
             [
              0.1111111111111111,
              "#46039f"
             ],
             [
              0.2222222222222222,
              "#7201a8"
             ],
             [
              0.3333333333333333,
              "#9c179e"
             ],
             [
              0.4444444444444444,
              "#bd3786"
             ],
             [
              0.5555555555555556,
              "#d8576b"
             ],
             [
              0.6666666666666666,
              "#ed7953"
             ],
             [
              0.7777777777777778,
              "#fb9f3a"
             ],
             [
              0.8888888888888888,
              "#fdca26"
             ],
             [
              1,
              "#f0f921"
             ]
            ],
            "type": "heatmap"
           }
          ],
          "heatmapgl": [
           {
            "colorbar": {
             "outlinewidth": 0,
             "ticks": ""
            },
            "colorscale": [
             [
              0,
              "#0d0887"
             ],
             [
              0.1111111111111111,
              "#46039f"
             ],
             [
              0.2222222222222222,
              "#7201a8"
             ],
             [
              0.3333333333333333,
              "#9c179e"
             ],
             [
              0.4444444444444444,
              "#bd3786"
             ],
             [
              0.5555555555555556,
              "#d8576b"
             ],
             [
              0.6666666666666666,
              "#ed7953"
             ],
             [
              0.7777777777777778,
              "#fb9f3a"
             ],
             [
              0.8888888888888888,
              "#fdca26"
             ],
             [
              1,
              "#f0f921"
             ]
            ],
            "type": "heatmapgl"
           }
          ],
          "histogram": [
           {
            "marker": {
             "pattern": {
              "fillmode": "overlay",
              "size": 10,
              "solidity": 0.2
             }
            },
            "type": "histogram"
           }
          ],
          "histogram2d": [
           {
            "colorbar": {
             "outlinewidth": 0,
             "ticks": ""
            },
            "colorscale": [
             [
              0,
              "#0d0887"
             ],
             [
              0.1111111111111111,
              "#46039f"
             ],
             [
              0.2222222222222222,
              "#7201a8"
             ],
             [
              0.3333333333333333,
              "#9c179e"
             ],
             [
              0.4444444444444444,
              "#bd3786"
             ],
             [
              0.5555555555555556,
              "#d8576b"
             ],
             [
              0.6666666666666666,
              "#ed7953"
             ],
             [
              0.7777777777777778,
              "#fb9f3a"
             ],
             [
              0.8888888888888888,
              "#fdca26"
             ],
             [
              1,
              "#f0f921"
             ]
            ],
            "type": "histogram2d"
           }
          ],
          "histogram2dcontour": [
           {
            "colorbar": {
             "outlinewidth": 0,
             "ticks": ""
            },
            "colorscale": [
             [
              0,
              "#0d0887"
             ],
             [
              0.1111111111111111,
              "#46039f"
             ],
             [
              0.2222222222222222,
              "#7201a8"
             ],
             [
              0.3333333333333333,
              "#9c179e"
             ],
             [
              0.4444444444444444,
              "#bd3786"
             ],
             [
              0.5555555555555556,
              "#d8576b"
             ],
             [
              0.6666666666666666,
              "#ed7953"
             ],
             [
              0.7777777777777778,
              "#fb9f3a"
             ],
             [
              0.8888888888888888,
              "#fdca26"
             ],
             [
              1,
              "#f0f921"
             ]
            ],
            "type": "histogram2dcontour"
           }
          ],
          "mesh3d": [
           {
            "colorbar": {
             "outlinewidth": 0,
             "ticks": ""
            },
            "type": "mesh3d"
           }
          ],
          "parcoords": [
           {
            "line": {
             "colorbar": {
              "outlinewidth": 0,
              "ticks": ""
             }
            },
            "type": "parcoords"
           }
          ],
          "pie": [
           {
            "automargin": true,
            "type": "pie"
           }
          ],
          "scatter": [
           {
            "fillpattern": {
             "fillmode": "overlay",
             "size": 10,
             "solidity": 0.2
            },
            "type": "scatter"
           }
          ],
          "scatter3d": [
           {
            "line": {
             "colorbar": {
              "outlinewidth": 0,
              "ticks": ""
             }
            },
            "marker": {
             "colorbar": {
              "outlinewidth": 0,
              "ticks": ""
             }
            },
            "type": "scatter3d"
           }
          ],
          "scattercarpet": [
           {
            "marker": {
             "colorbar": {
              "outlinewidth": 0,
              "ticks": ""
             }
            },
            "type": "scattercarpet"
           }
          ],
          "scattergeo": [
           {
            "marker": {
             "colorbar": {
              "outlinewidth": 0,
              "ticks": ""
             }
            },
            "type": "scattergeo"
           }
          ],
          "scattergl": [
           {
            "marker": {
             "colorbar": {
              "outlinewidth": 0,
              "ticks": ""
             }
            },
            "type": "scattergl"
           }
          ],
          "scattermapbox": [
           {
            "marker": {
             "colorbar": {
              "outlinewidth": 0,
              "ticks": ""
             }
            },
            "type": "scattermapbox"
           }
          ],
          "scatterpolar": [
           {
            "marker": {
             "colorbar": {
              "outlinewidth": 0,
              "ticks": ""
             }
            },
            "type": "scatterpolar"
           }
          ],
          "scatterpolargl": [
           {
            "marker": {
             "colorbar": {
              "outlinewidth": 0,
              "ticks": ""
             }
            },
            "type": "scatterpolargl"
           }
          ],
          "scatterternary": [
           {
            "marker": {
             "colorbar": {
              "outlinewidth": 0,
              "ticks": ""
             }
            },
            "type": "scatterternary"
           }
          ],
          "surface": [
           {
            "colorbar": {
             "outlinewidth": 0,
             "ticks": ""
            },
            "colorscale": [
             [
              0,
              "#0d0887"
             ],
             [
              0.1111111111111111,
              "#46039f"
             ],
             [
              0.2222222222222222,
              "#7201a8"
             ],
             [
              0.3333333333333333,
              "#9c179e"
             ],
             [
              0.4444444444444444,
              "#bd3786"
             ],
             [
              0.5555555555555556,
              "#d8576b"
             ],
             [
              0.6666666666666666,
              "#ed7953"
             ],
             [
              0.7777777777777778,
              "#fb9f3a"
             ],
             [
              0.8888888888888888,
              "#fdca26"
             ],
             [
              1,
              "#f0f921"
             ]
            ],
            "type": "surface"
           }
          ],
          "table": [
           {
            "cells": {
             "fill": {
              "color": "#EBF0F8"
             },
             "line": {
              "color": "white"
             }
            },
            "header": {
             "fill": {
              "color": "#C8D4E3"
             },
             "line": {
              "color": "white"
             }
            },
            "type": "table"
           }
          ]
         },
         "layout": {
          "annotationdefaults": {
           "arrowcolor": "#2a3f5f",
           "arrowhead": 0,
           "arrowwidth": 1
          },
          "autotypenumbers": "strict",
          "coloraxis": {
           "colorbar": {
            "outlinewidth": 0,
            "ticks": ""
           }
          },
          "colorscale": {
           "diverging": [
            [
             0,
             "#8e0152"
            ],
            [
             0.1,
             "#c51b7d"
            ],
            [
             0.2,
             "#de77ae"
            ],
            [
             0.3,
             "#f1b6da"
            ],
            [
             0.4,
             "#fde0ef"
            ],
            [
             0.5,
             "#f7f7f7"
            ],
            [
             0.6,
             "#e6f5d0"
            ],
            [
             0.7,
             "#b8e186"
            ],
            [
             0.8,
             "#7fbc41"
            ],
            [
             0.9,
             "#4d9221"
            ],
            [
             1,
             "#276419"
            ]
           ],
           "sequential": [
            [
             0,
             "#0d0887"
            ],
            [
             0.1111111111111111,
             "#46039f"
            ],
            [
             0.2222222222222222,
             "#7201a8"
            ],
            [
             0.3333333333333333,
             "#9c179e"
            ],
            [
             0.4444444444444444,
             "#bd3786"
            ],
            [
             0.5555555555555556,
             "#d8576b"
            ],
            [
             0.6666666666666666,
             "#ed7953"
            ],
            [
             0.7777777777777778,
             "#fb9f3a"
            ],
            [
             0.8888888888888888,
             "#fdca26"
            ],
            [
             1,
             "#f0f921"
            ]
           ],
           "sequentialminus": [
            [
             0,
             "#0d0887"
            ],
            [
             0.1111111111111111,
             "#46039f"
            ],
            [
             0.2222222222222222,
             "#7201a8"
            ],
            [
             0.3333333333333333,
             "#9c179e"
            ],
            [
             0.4444444444444444,
             "#bd3786"
            ],
            [
             0.5555555555555556,
             "#d8576b"
            ],
            [
             0.6666666666666666,
             "#ed7953"
            ],
            [
             0.7777777777777778,
             "#fb9f3a"
            ],
            [
             0.8888888888888888,
             "#fdca26"
            ],
            [
             1,
             "#f0f921"
            ]
           ]
          },
          "colorway": [
           "#636efa",
           "#EF553B",
           "#00cc96",
           "#ab63fa",
           "#FFA15A",
           "#19d3f3",
           "#FF6692",
           "#B6E880",
           "#FF97FF",
           "#FECB52"
          ],
          "font": {
           "color": "#2a3f5f"
          },
          "geo": {
           "bgcolor": "white",
           "lakecolor": "white",
           "landcolor": "#E5ECF6",
           "showlakes": true,
           "showland": true,
           "subunitcolor": "white"
          },
          "hoverlabel": {
           "align": "left"
          },
          "hovermode": "closest",
          "mapbox": {
           "style": "light"
          },
          "paper_bgcolor": "white",
          "plot_bgcolor": "#E5ECF6",
          "polar": {
           "angularaxis": {
            "gridcolor": "white",
            "linecolor": "white",
            "ticks": ""
           },
           "bgcolor": "#E5ECF6",
           "radialaxis": {
            "gridcolor": "white",
            "linecolor": "white",
            "ticks": ""
           }
          },
          "scene": {
           "xaxis": {
            "backgroundcolor": "#E5ECF6",
            "gridcolor": "white",
            "gridwidth": 2,
            "linecolor": "white",
            "showbackground": true,
            "ticks": "",
            "zerolinecolor": "white"
           },
           "yaxis": {
            "backgroundcolor": "#E5ECF6",
            "gridcolor": "white",
            "gridwidth": 2,
            "linecolor": "white",
            "showbackground": true,
            "ticks": "",
            "zerolinecolor": "white"
           },
           "zaxis": {
            "backgroundcolor": "#E5ECF6",
            "gridcolor": "white",
            "gridwidth": 2,
            "linecolor": "white",
            "showbackground": true,
            "ticks": "",
            "zerolinecolor": "white"
           }
          },
          "shapedefaults": {
           "line": {
            "color": "#2a3f5f"
           }
          },
          "ternary": {
           "aaxis": {
            "gridcolor": "white",
            "linecolor": "white",
            "ticks": ""
           },
           "baxis": {
            "gridcolor": "white",
            "linecolor": "white",
            "ticks": ""
           },
           "bgcolor": "#E5ECF6",
           "caxis": {
            "gridcolor": "white",
            "linecolor": "white",
            "ticks": ""
           }
          },
          "title": {
           "x": 0.05
          },
          "xaxis": {
           "automargin": true,
           "gridcolor": "white",
           "linecolor": "white",
           "ticks": "",
           "title": {
            "standoff": 15
           },
           "zerolinecolor": "white",
           "zerolinewidth": 2
          },
          "yaxis": {
           "automargin": true,
           "gridcolor": "white",
           "linecolor": "white",
           "ticks": "",
           "title": {
            "standoff": 15
           },
           "zerolinecolor": "white",
           "zerolinewidth": 2
          }
         }
        },
        "xaxis": {
         "anchor": "y",
         "categoryarray": [
          "0_01",
          "0_02",
          "0_03",
          "0_04",
          "0_05",
          "0_06",
          "0_07",
          "0_08",
          "0_09",
          "0_10",
          "0_11",
          "0_12",
          "0_13",
          "0_14",
          "0_15",
          "0_16",
          "0_17",
          "0_18",
          "0_19",
          "0_20",
          "0_21",
          "0_22",
          "0_23",
          "0_24",
          "0_25",
          "0_26",
          "0_27",
          "0_28",
          "0_29",
          "0_30",
          "1_01",
          "1_02",
          "1_03",
          "1_04",
          "1_05",
          "1_06",
          "1_07",
          "1_08",
          "1_09",
          "1_10",
          "1_11",
          "1_12",
          "1_13",
          "1_14",
          "1_15",
          "1_16",
          "1_17",
          "1_18",
          "1_19",
          "1_20",
          "1_21",
          "1_22",
          "1_23",
          "1_24",
          "1_25",
          "1_26",
          "1_27",
          "1_28",
          "1_29",
          "1_30"
         ],
         "categoryorder": "array",
         "domain": [
          0,
          0.49
         ],
         "showticklabels": true,
         "title": {
          "text": "problem"
         }
        },
        "xaxis2": {
         "anchor": "y2",
         "categoryarray": [
          "0_01",
          "0_02",
          "0_03",
          "0_04",
          "0_05",
          "0_06",
          "0_07",
          "0_08",
          "0_09",
          "0_10",
          "0_11",
          "0_12",
          "0_13",
          "0_14",
          "0_15",
          "0_16",
          "0_17",
          "0_18",
          "0_19",
          "0_20",
          "0_21",
          "0_22",
          "0_23",
          "0_24",
          "0_25",
          "0_26",
          "0_27",
          "0_28",
          "0_29",
          "0_30",
          "1_01",
          "1_02",
          "1_03",
          "1_04",
          "1_05",
          "1_06",
          "1_07",
          "1_08",
          "1_09",
          "1_10",
          "1_11",
          "1_12",
          "1_13",
          "1_14",
          "1_15",
          "1_16",
          "1_17",
          "1_18",
          "1_19",
          "1_20",
          "1_21",
          "1_22",
          "1_23",
          "1_24",
          "1_25",
          "1_26",
          "1_27",
          "1_28",
          "1_29",
          "1_30"
         ],
         "categoryorder": "array",
         "domain": [
          0.51,
          1
         ],
         "showticklabels": true,
         "title": {
          "text": "problem"
         }
        },
        "yaxis": {
         "anchor": "x",
         "domain": [
          0,
          1
         ],
         "showticklabels": true,
         "title": {
          "text": "cycles_mean"
         }
        },
        "yaxis2": {
         "anchor": "x2",
         "domain": [
          0,
          1
         ],
         "showticklabels": true
        }
       }
      }
     },
     "metadata": {},
     "output_type": "display_data"
    },
    {
     "name": "stdout",
     "output_type": "stream",
     "text": [
      "satellite\n"
     ]
    },
    {
     "data": {
      "application/vnd.plotly.v1+json": {
       "config": {
        "plotlyServerURL": "https://plot.ly"
       },
       "data": [
        {
         "error_y": {
          "array": [
           0,
           0,
           0,
           0,
           0,
           0,
           0,
           0,
           0,
           0,
           0,
           0,
           0,
           0,
           0,
           0,
           0,
           0,
           0,
           0,
           0,
           0,
           0,
           0,
           0,
           0,
           0,
           0,
           0,
           0
          ]
         },
         "hovertemplate": "solver=baseline<br>type=bounds<br>difficulty=0<br>problem=%{x}<br>cycles_mean=%{y}<extra></extra>",
         "legendgroup": "baseline, bounds",
         "line": {
          "color": "#636efa",
          "dash": "solid"
         },
         "marker": {
          "symbol": "circle"
         },
         "mode": "lines",
         "name": "baseline, bounds",
         "orientation": "v",
         "showlegend": true,
         "type": "scatter",
         "x": [
          "0_01",
          "0_02",
          "0_03",
          "0_04",
          "0_05",
          "0_06",
          "0_07",
          "0_08",
          "0_09",
          "0_10",
          "0_11",
          "0_12",
          "0_13",
          "0_14",
          "0_15",
          "0_16",
          "0_17",
          "0_18",
          "0_19",
          "0_20",
          "0_21",
          "0_22",
          "0_23",
          "0_24",
          "0_25",
          "0_26",
          "0_27",
          "0_28",
          "0_29",
          "0_30"
         ],
         "xaxis": "x",
         "y": [
          0,
          0,
          0,
          0,
          0,
          0,
          0,
          0,
          0,
          0,
          0,
          0,
          0,
          0,
          0,
          0,
          0,
          0,
          0,
          0,
          0,
          0,
          0,
          0,
          0,
          0,
          0,
          0,
          0,
          0
         ],
         "yaxis": "y"
        },
        {
         "error_y": {
          "array": [
           0,
           0,
           0,
           0,
           0,
           0,
           0,
           0,
           0,
           0,
           0,
           0,
           0,
           0,
           0,
           0,
           0,
           0,
           0,
           0,
           0,
           0,
           0,
           0,
           0,
           0,
           0,
           0,
           0,
           0
          ]
         },
         "hovertemplate": "solver=baseline<br>type=bounds<br>difficulty=1<br>problem=%{x}<br>cycles_mean=%{y}<extra></extra>",
         "legendgroup": "baseline, bounds",
         "line": {
          "color": "#636efa",
          "dash": "solid"
         },
         "marker": {
          "symbol": "circle"
         },
         "mode": "lines",
         "name": "baseline, bounds",
         "orientation": "v",
         "showlegend": false,
         "type": "scatter",
         "x": [
          "1_01",
          "1_02",
          "1_03",
          "1_04",
          "1_05",
          "1_06",
          "1_07",
          "1_08",
          "1_09",
          "1_10",
          "1_11",
          "1_12",
          "1_13",
          "1_14",
          "1_15",
          "1_16",
          "1_17",
          "1_18",
          "1_19",
          "1_20",
          "1_21",
          "1_22",
          "1_23",
          "1_24",
          "1_25",
          "1_26",
          "1_27",
          "1_28",
          "1_29",
          "1_30"
         ],
         "xaxis": "x2",
         "y": [
          0,
          0,
          0,
          0,
          0,
          0,
          0,
          0,
          0,
          0,
          0,
          0,
          0,
          0,
          0,
          0,
          0,
          0,
          0,
          0,
          0,
          0,
          0,
          0,
          0,
          0,
          0,
          0,
          0,
          0
         ],
         "yaxis": "y2"
        },
        {
         "error_y": {
          "array": [
           null,
           null,
           null,
           null,
           null,
           null,
           null,
           null,
           null,
           null,
           null,
           null,
           null,
           null,
           null,
           null,
           null,
           null,
           null,
           null,
           null,
           null,
           null,
           null,
           null,
           null,
           null,
           null,
           null,
           null
          ]
         },
         "hovertemplate": "solver=optimal<br>type=bounds<br>difficulty=0<br>problem=%{x}<br>cycles_mean=%{y}<extra></extra>",
         "legendgroup": "optimal, bounds",
         "line": {
          "color": "#EF553B",
          "dash": "solid"
         },
         "marker": {
          "symbol": "circle"
         },
         "mode": "lines",
         "name": "optimal, bounds",
         "orientation": "v",
         "showlegend": true,
         "type": "scatter",
         "x": [
          "0_01",
          "0_02",
          "0_03",
          "0_04",
          "0_05",
          "0_06",
          "0_07",
          "0_08",
          "0_09",
          "0_10",
          "0_11",
          "0_12",
          "0_13",
          "0_14",
          "0_15",
          "0_16",
          "0_17",
          "0_18",
          "0_19",
          "0_20",
          "0_21",
          "0_22",
          "0_23",
          "0_24",
          "0_25",
          "0_26",
          "0_27",
          "0_28",
          "0_29",
          "0_30"
         ],
         "xaxis": "x",
         "y": [
          0,
          0,
          0,
          0,
          0,
          0,
          0,
          0,
          0,
          0,
          0,
          0,
          0,
          0,
          0,
          0,
          0,
          0,
          0,
          0,
          0,
          0,
          0,
          0,
          0,
          0,
          0,
          0,
          0,
          0
         ],
         "yaxis": "y"
        },
        {
         "error_y": {
          "array": [
           null,
           null,
           null,
           null,
           null,
           null,
           null,
           null,
           null,
           null,
           null,
           null,
           null,
           null,
           null,
           null,
           null,
           null,
           null,
           null,
           null,
           null,
           null,
           null,
           null,
           null,
           null,
           null,
           null,
           null
          ]
         },
         "hovertemplate": "solver=optimal<br>type=bounds<br>difficulty=1<br>problem=%{x}<br>cycles_mean=%{y}<extra></extra>",
         "legendgroup": "optimal, bounds",
         "line": {
          "color": "#EF553B",
          "dash": "solid"
         },
         "marker": {
          "symbol": "circle"
         },
         "mode": "lines",
         "name": "optimal, bounds",
         "orientation": "v",
         "showlegend": false,
         "type": "scatter",
         "x": [
          "1_01",
          "1_02",
          "1_03",
          "1_04",
          "1_05",
          "1_06",
          "1_07",
          "1_08",
          "1_09",
          "1_10",
          "1_11",
          "1_12",
          "1_13",
          "1_14",
          "1_15",
          "1_16",
          "1_17",
          "1_18",
          "1_19",
          "1_20",
          "1_21",
          "1_22",
          "1_23",
          "1_24",
          "1_25",
          "1_26",
          "1_27",
          "1_28",
          "1_29",
          "1_30"
         ],
         "xaxis": "x2",
         "y": [
          0,
          0,
          0,
          0,
          0,
          0,
          0,
          0,
          0,
          0,
          0,
          0,
          0,
          0,
          0,
          0,
          0,
          0,
          0,
          0,
          0,
          0,
          0,
          0,
          0,
          0,
          0,
          0,
          0,
          0
         ],
         "yaxis": "y2"
        },
        {
         "error_y": {
          "array": [
           null,
           null,
           null,
           null,
           null,
           null,
           null,
           null,
           null,
           null,
           null,
           null,
           null,
           null,
           null,
           null,
           null,
           null,
           null,
           null,
           null,
           null,
           null,
           null,
           null,
           null,
           null,
           null,
           null,
           null
          ]
         },
         "hovertemplate": "solver=lama<br>type=bounds<br>difficulty=0<br>problem=%{x}<br>cycles_mean=%{y}<extra></extra>",
         "legendgroup": "lama, bounds",
         "line": {
          "color": "#00cc96",
          "dash": "solid"
         },
         "marker": {
          "symbol": "circle"
         },
         "mode": "lines",
         "name": "lama, bounds",
         "orientation": "v",
         "showlegend": true,
         "type": "scatter",
         "x": [
          "0_01",
          "0_02",
          "0_03",
          "0_04",
          "0_05",
          "0_06",
          "0_07",
          "0_08",
          "0_09",
          "0_10",
          "0_11",
          "0_12",
          "0_13",
          "0_14",
          "0_15",
          "0_16",
          "0_17",
          "0_18",
          "0_19",
          "0_20",
          "0_21",
          "0_22",
          "0_23",
          "0_24",
          "0_25",
          "0_26",
          "0_27",
          "0_28",
          "0_29",
          "0_30"
         ],
         "xaxis": "x",
         "y": [
          0,
          0,
          0,
          0,
          0,
          0,
          0,
          0,
          0,
          0,
          0,
          0,
          0,
          0,
          0,
          0,
          0,
          0,
          0,
          0,
          0,
          0,
          0,
          0,
          0,
          0,
          0,
          0,
          0,
          0
         ],
         "yaxis": "y"
        },
        {
         "error_y": {
          "array": [
           null,
           null,
           null,
           null,
           null,
           null,
           null,
           null,
           null,
           null,
           null,
           null,
           null,
           null,
           null,
           null,
           null,
           null,
           null,
           null,
           null,
           null,
           null,
           null,
           null,
           null,
           null,
           null,
           null,
           null
          ]
         },
         "hovertemplate": "solver=lama<br>type=bounds<br>difficulty=1<br>problem=%{x}<br>cycles_mean=%{y}<extra></extra>",
         "legendgroup": "lama, bounds",
         "line": {
          "color": "#00cc96",
          "dash": "solid"
         },
         "marker": {
          "symbol": "circle"
         },
         "mode": "lines",
         "name": "lama, bounds",
         "orientation": "v",
         "showlegend": false,
         "type": "scatter",
         "x": [
          "1_01",
          "1_02",
          "1_03",
          "1_04",
          "1_05",
          "1_06",
          "1_07",
          "1_08",
          "1_09",
          "1_10",
          "1_11",
          "1_12",
          "1_13",
          "1_14",
          "1_15",
          "1_16",
          "1_17",
          "1_18",
          "1_19",
          "1_20",
          "1_21",
          "1_22",
          "1_23",
          "1_24",
          "1_25",
          "1_26",
          "1_27",
          "1_28",
          "1_29",
          "1_30"
         ],
         "xaxis": "x2",
         "y": [
          0,
          0,
          0,
          0,
          0,
          0,
          0,
          0,
          0,
          0,
          0,
          0,
          0,
          0,
          0,
          0,
          0,
          0,
          0,
          0,
          0,
          0,
          0,
          0,
          0,
          0,
          0,
          0,
          0,
          0
         ],
         "yaxis": "y2"
        },
        {
         "error_y": {
          "array": [
           0,
           0,
           0,
           0,
           0,
           0,
           0,
           0,
           0,
           0,
           0,
           0,
           0,
           0,
           0,
           0,
           0,
           0,
           0,
           0,
           0,
           0,
           0,
           0,
           0,
           0,
           0,
           0,
           0,
           0
          ]
         },
         "hovertemplate": "solver=L2_D8_best<br>type=lrnn_best<br>difficulty=0<br>problem=%{x}<br>cycles_mean=%{y}<extra></extra>",
         "legendgroup": "L2_D8_best, lrnn_best",
         "line": {
          "color": "#ab63fa",
          "dash": "dot"
         },
         "marker": {
          "symbol": "circle"
         },
         "mode": "lines",
         "name": "L2_D8_best, lrnn_best",
         "orientation": "v",
         "showlegend": true,
         "type": "scatter",
         "x": [
          "0_01",
          "0_02",
          "0_03",
          "0_04",
          "0_05",
          "0_06",
          "0_07",
          "0_08",
          "0_09",
          "0_10",
          "0_11",
          "0_12",
          "0_13",
          "0_14",
          "0_15",
          "0_16",
          "0_17",
          "0_18",
          "0_19",
          "0_20",
          "0_21",
          "0_22",
          "0_23",
          "0_24",
          "0_25",
          "0_26",
          "0_27",
          "0_28",
          "0_29",
          "0_30"
         ],
         "xaxis": "x",
         "y": [
          0,
          0,
          0,
          0,
          0,
          0,
          0,
          0,
          0,
          0,
          0,
          0,
          0,
          0,
          0,
          0,
          0,
          0,
          0,
          0,
          0,
          0,
          0,
          0,
          0,
          0,
          0,
          0,
          0,
          0
         ],
         "yaxis": "y"
        },
        {
         "error_y": {
          "array": [
           0,
           0,
           0,
           0,
           0,
           0,
           0,
           0,
           0,
           0,
           0,
           0,
           0,
           0,
           0,
           0,
           0,
           0,
           0,
           0,
           0,
           0,
           0,
           0,
           0,
           0,
           0,
           0,
           0,
           0
          ]
         },
         "hovertemplate": "solver=L2_D8_best<br>type=lrnn_best<br>difficulty=1<br>problem=%{x}<br>cycles_mean=%{y}<extra></extra>",
         "legendgroup": "L2_D8_best, lrnn_best",
         "line": {
          "color": "#ab63fa",
          "dash": "dot"
         },
         "marker": {
          "symbol": "circle"
         },
         "mode": "lines",
         "name": "L2_D8_best, lrnn_best",
         "orientation": "v",
         "showlegend": false,
         "type": "scatter",
         "x": [
          "1_01",
          "1_02",
          "1_03",
          "1_04",
          "1_05",
          "1_06",
          "1_07",
          "1_08",
          "1_09",
          "1_10",
          "1_11",
          "1_12",
          "1_13",
          "1_14",
          "1_15",
          "1_16",
          "1_17",
          "1_18",
          "1_19",
          "1_20",
          "1_21",
          "1_22",
          "1_23",
          "1_24",
          "1_25",
          "1_26",
          "1_27",
          "1_28",
          "1_29",
          "1_30"
         ],
         "xaxis": "x2",
         "y": [
          0,
          0,
          0,
          0,
          0,
          0,
          0,
          0,
          0,
          0,
          0,
          0,
          0,
          0,
          0,
          0,
          0,
          0,
          0,
          0,
          0,
          0,
          0,
          0,
          0,
          0,
          0,
          0,
          0,
          0
         ],
         "yaxis": "y2"
        },
        {
         "error_y": {
          "array": [
           0,
           0,
           0,
           0,
           0,
           0,
           0,
           0,
           0,
           0,
           0,
           0,
           0,
           0,
           0,
           0,
           0,
           0,
           0,
           0,
           0,
           0,
           0,
           0,
           0,
           0,
           0,
           0,
           0,
           0
          ]
         },
         "hovertemplate": "solver=L2_D16_best<br>type=lrnn_best<br>difficulty=0<br>problem=%{x}<br>cycles_mean=%{y}<extra></extra>",
         "legendgroup": "L2_D16_best, lrnn_best",
         "line": {
          "color": "#FFA15A",
          "dash": "dot"
         },
         "marker": {
          "symbol": "circle"
         },
         "mode": "lines",
         "name": "L2_D16_best, lrnn_best",
         "orientation": "v",
         "showlegend": true,
         "type": "scatter",
         "x": [
          "0_01",
          "0_02",
          "0_03",
          "0_04",
          "0_05",
          "0_06",
          "0_07",
          "0_08",
          "0_09",
          "0_10",
          "0_11",
          "0_12",
          "0_13",
          "0_14",
          "0_15",
          "0_16",
          "0_17",
          "0_18",
          "0_19",
          "0_20",
          "0_21",
          "0_22",
          "0_23",
          "0_24",
          "0_25",
          "0_26",
          "0_27",
          "0_28",
          "0_29",
          "0_30"
         ],
         "xaxis": "x",
         "y": [
          0,
          0,
          0,
          0,
          0,
          0,
          0,
          0,
          0,
          0,
          0,
          0,
          0,
          0,
          0,
          0,
          0,
          0,
          0,
          0,
          0,
          0,
          0,
          0,
          0,
          0,
          0,
          0,
          0,
          0
         ],
         "yaxis": "y"
        },
        {
         "error_y": {
          "array": [
           0,
           0,
           0,
           0,
           0,
           0,
           0,
           0,
           0,
           0,
           0,
           0,
           0,
           0,
           0,
           0,
           0,
           0,
           0,
           0,
           0,
           0,
           0,
           0,
           0,
           0,
           0,
           0,
           0,
           0
          ]
         },
         "hovertemplate": "solver=L2_D16_best<br>type=lrnn_best<br>difficulty=1<br>problem=%{x}<br>cycles_mean=%{y}<extra></extra>",
         "legendgroup": "L2_D16_best, lrnn_best",
         "line": {
          "color": "#FFA15A",
          "dash": "dot"
         },
         "marker": {
          "symbol": "circle"
         },
         "mode": "lines",
         "name": "L2_D16_best, lrnn_best",
         "orientation": "v",
         "showlegend": false,
         "type": "scatter",
         "x": [
          "1_01",
          "1_02",
          "1_03",
          "1_04",
          "1_05",
          "1_06",
          "1_07",
          "1_08",
          "1_09",
          "1_10",
          "1_11",
          "1_12",
          "1_13",
          "1_14",
          "1_15",
          "1_16",
          "1_17",
          "1_18",
          "1_19",
          "1_20",
          "1_21",
          "1_22",
          "1_23",
          "1_24",
          "1_25",
          "1_26",
          "1_27",
          "1_28",
          "1_29",
          "1_30"
         ],
         "xaxis": "x2",
         "y": [
          0,
          0,
          0,
          0,
          0,
          0,
          0,
          0,
          0,
          0,
          0,
          0,
          0,
          0,
          0,
          0,
          0,
          0,
          0,
          0,
          0,
          0,
          0,
          0,
          0,
          0,
          0,
          0,
          0,
          0
         ],
         "yaxis": "y2"
        },
        {
         "error_y": {
          "array": [
           0,
           0,
           0,
           0,
           0,
           0,
           0,
           0,
           0,
           0,
           0,
           0,
           0,
           0,
           0,
           0,
           0,
           0,
           0,
           0,
           0,
           0,
           0,
           0,
           0,
           0,
           0,
           0,
           0,
           0
          ]
         },
         "hovertemplate": "solver=L2_D32_best<br>type=lrnn_best<br>difficulty=0<br>problem=%{x}<br>cycles_mean=%{y}<extra></extra>",
         "legendgroup": "L2_D32_best, lrnn_best",
         "line": {
          "color": "#19d3f3",
          "dash": "dot"
         },
         "marker": {
          "symbol": "circle"
         },
         "mode": "lines",
         "name": "L2_D32_best, lrnn_best",
         "orientation": "v",
         "showlegend": true,
         "type": "scatter",
         "x": [
          "0_01",
          "0_02",
          "0_03",
          "0_04",
          "0_05",
          "0_06",
          "0_07",
          "0_08",
          "0_09",
          "0_10",
          "0_11",
          "0_12",
          "0_13",
          "0_14",
          "0_15",
          "0_16",
          "0_17",
          "0_18",
          "0_19",
          "0_20",
          "0_21",
          "0_22",
          "0_23",
          "0_24",
          "0_25",
          "0_26",
          "0_27",
          "0_28",
          "0_29",
          "0_30"
         ],
         "xaxis": "x",
         "y": [
          0,
          0,
          0,
          0,
          0,
          0,
          0,
          0,
          0,
          0,
          0,
          0,
          0,
          0,
          0,
          0,
          0,
          0,
          0,
          0,
          0,
          0,
          0,
          0,
          0,
          0,
          0,
          0,
          0,
          0
         ],
         "yaxis": "y"
        },
        {
         "error_y": {
          "array": [
           0,
           0,
           0,
           0,
           0,
           0,
           0,
           0,
           0,
           0,
           0,
           0,
           0,
           0,
           0,
           0,
           0,
           0,
           0,
           0,
           0,
           0,
           0,
           0,
           0,
           0,
           0,
           0,
           0,
           0
          ]
         },
         "hovertemplate": "solver=L2_D32_best<br>type=lrnn_best<br>difficulty=1<br>problem=%{x}<br>cycles_mean=%{y}<extra></extra>",
         "legendgroup": "L2_D32_best, lrnn_best",
         "line": {
          "color": "#19d3f3",
          "dash": "dot"
         },
         "marker": {
          "symbol": "circle"
         },
         "mode": "lines",
         "name": "L2_D32_best, lrnn_best",
         "orientation": "v",
         "showlegend": false,
         "type": "scatter",
         "x": [
          "1_01",
          "1_02",
          "1_03",
          "1_04",
          "1_05",
          "1_06",
          "1_07",
          "1_08",
          "1_09",
          "1_10",
          "1_11",
          "1_12",
          "1_13",
          "1_14",
          "1_15",
          "1_16",
          "1_17",
          "1_18",
          "1_19",
          "1_20",
          "1_21",
          "1_22",
          "1_23",
          "1_24",
          "1_25",
          "1_26",
          "1_27",
          "1_28",
          "1_29",
          "1_30"
         ],
         "xaxis": "x2",
         "y": [
          0,
          0,
          0,
          0,
          0,
          0,
          0,
          0,
          0,
          0,
          0,
          0,
          0,
          0,
          0,
          0,
          0,
          0,
          0,
          0,
          0,
          0,
          0,
          0,
          0,
          0,
          0,
          0,
          0,
          0
         ],
         "yaxis": "y2"
        },
        {
         "error_y": {
          "array": [
           0,
           0,
           0,
           0,
           0,
           0,
           0,
           0,
           0,
           0,
           0,
           0,
           0,
           0,
           0,
           0,
           0,
           0,
           0,
           0,
           0,
           0,
           0,
           0,
           0,
           0,
           0,
           0,
           0,
           0
          ]
         },
         "hovertemplate": "solver=L3_D8_best<br>type=lrnn_best<br>difficulty=0<br>problem=%{x}<br>cycles_mean=%{y}<extra></extra>",
         "legendgroup": "L3_D8_best, lrnn_best",
         "line": {
          "color": "#FF6692",
          "dash": "dot"
         },
         "marker": {
          "symbol": "circle"
         },
         "mode": "lines",
         "name": "L3_D8_best, lrnn_best",
         "orientation": "v",
         "showlegend": true,
         "type": "scatter",
         "x": [
          "0_01",
          "0_02",
          "0_03",
          "0_04",
          "0_05",
          "0_06",
          "0_07",
          "0_08",
          "0_09",
          "0_10",
          "0_11",
          "0_12",
          "0_13",
          "0_14",
          "0_15",
          "0_16",
          "0_17",
          "0_18",
          "0_19",
          "0_20",
          "0_21",
          "0_22",
          "0_23",
          "0_24",
          "0_25",
          "0_26",
          "0_27",
          "0_28",
          "0_29",
          "0_30"
         ],
         "xaxis": "x",
         "y": [
          0,
          0,
          0,
          0,
          0,
          0,
          0,
          0,
          0,
          0,
          0,
          0,
          0,
          0,
          0,
          0,
          0,
          0,
          0,
          0,
          0,
          0,
          0,
          0,
          0,
          0,
          0,
          0,
          0,
          0
         ],
         "yaxis": "y"
        },
        {
         "error_y": {
          "array": [
           0,
           0,
           0,
           0,
           0,
           0,
           0,
           0,
           0,
           0,
           0,
           0,
           0,
           0,
           0,
           0,
           0,
           0,
           0,
           0,
           0,
           0,
           0,
           0,
           0,
           0,
           0,
           0,
           0,
           0
          ]
         },
         "hovertemplate": "solver=L3_D8_best<br>type=lrnn_best<br>difficulty=1<br>problem=%{x}<br>cycles_mean=%{y}<extra></extra>",
         "legendgroup": "L3_D8_best, lrnn_best",
         "line": {
          "color": "#FF6692",
          "dash": "dot"
         },
         "marker": {
          "symbol": "circle"
         },
         "mode": "lines",
         "name": "L3_D8_best, lrnn_best",
         "orientation": "v",
         "showlegend": false,
         "type": "scatter",
         "x": [
          "1_01",
          "1_02",
          "1_03",
          "1_04",
          "1_05",
          "1_06",
          "1_07",
          "1_08",
          "1_09",
          "1_10",
          "1_11",
          "1_12",
          "1_13",
          "1_14",
          "1_15",
          "1_16",
          "1_17",
          "1_18",
          "1_19",
          "1_20",
          "1_21",
          "1_22",
          "1_23",
          "1_24",
          "1_25",
          "1_26",
          "1_27",
          "1_28",
          "1_29",
          "1_30"
         ],
         "xaxis": "x2",
         "y": [
          0,
          0,
          0,
          0,
          0,
          0,
          0,
          0,
          0,
          0,
          0,
          0,
          0,
          0,
          0,
          0,
          0,
          0,
          0,
          0,
          0,
          0,
          0,
          0,
          0,
          0,
          0,
          0,
          0,
          0
         ],
         "yaxis": "y2"
        },
        {
         "error_y": {
          "array": [
           0,
           0,
           0,
           0,
           0,
           0,
           0,
           0,
           0,
           0,
           0,
           0,
           0,
           0,
           0,
           0,
           0,
           0,
           0,
           0,
           0,
           0,
           0,
           0,
           0,
           0,
           0,
           0,
           0,
           0
          ]
         },
         "hovertemplate": "solver=L3_D16_best<br>type=lrnn_best<br>difficulty=0<br>problem=%{x}<br>cycles_mean=%{y}<extra></extra>",
         "legendgroup": "L3_D16_best, lrnn_best",
         "line": {
          "color": "#B6E880",
          "dash": "dot"
         },
         "marker": {
          "symbol": "circle"
         },
         "mode": "lines",
         "name": "L3_D16_best, lrnn_best",
         "orientation": "v",
         "showlegend": true,
         "type": "scatter",
         "x": [
          "0_01",
          "0_02",
          "0_03",
          "0_04",
          "0_05",
          "0_06",
          "0_07",
          "0_08",
          "0_09",
          "0_10",
          "0_11",
          "0_12",
          "0_13",
          "0_14",
          "0_15",
          "0_16",
          "0_17",
          "0_18",
          "0_19",
          "0_20",
          "0_21",
          "0_22",
          "0_23",
          "0_24",
          "0_25",
          "0_26",
          "0_27",
          "0_28",
          "0_29",
          "0_30"
         ],
         "xaxis": "x",
         "y": [
          0,
          0,
          0,
          0,
          0,
          0,
          0,
          0,
          0,
          0,
          0,
          0,
          0,
          0,
          0,
          0,
          0,
          0,
          0,
          0,
          0,
          0,
          0,
          0,
          0,
          0,
          0,
          0,
          0,
          0
         ],
         "yaxis": "y"
        },
        {
         "error_y": {
          "array": [
           0,
           0,
           0,
           0,
           0,
           0,
           0,
           0,
           0,
           0,
           0,
           0,
           0,
           0,
           0,
           0,
           0,
           0,
           0,
           0,
           0,
           0,
           0,
           0,
           0,
           0,
           0,
           0,
           0,
           0
          ]
         },
         "hovertemplate": "solver=L3_D16_best<br>type=lrnn_best<br>difficulty=1<br>problem=%{x}<br>cycles_mean=%{y}<extra></extra>",
         "legendgroup": "L3_D16_best, lrnn_best",
         "line": {
          "color": "#B6E880",
          "dash": "dot"
         },
         "marker": {
          "symbol": "circle"
         },
         "mode": "lines",
         "name": "L3_D16_best, lrnn_best",
         "orientation": "v",
         "showlegend": false,
         "type": "scatter",
         "x": [
          "1_01",
          "1_02",
          "1_03",
          "1_04",
          "1_05",
          "1_06",
          "1_07",
          "1_08",
          "1_09",
          "1_10",
          "1_11",
          "1_12",
          "1_13",
          "1_14",
          "1_15",
          "1_16",
          "1_17",
          "1_18",
          "1_19",
          "1_20",
          "1_21",
          "1_22",
          "1_23",
          "1_24",
          "1_25",
          "1_26",
          "1_27",
          "1_28",
          "1_29",
          "1_30"
         ],
         "xaxis": "x2",
         "y": [
          0,
          0,
          0,
          0,
          0,
          0,
          0,
          0,
          0,
          0,
          0,
          0,
          0,
          0,
          0,
          0,
          0,
          0,
          0,
          0,
          0,
          0,
          0,
          0,
          0,
          0,
          0,
          0,
          0,
          0
         ],
         "yaxis": "y2"
        }
       ],
       "layout": {
        "annotations": [
         {
          "font": {},
          "showarrow": false,
          "text": "difficulty=0",
          "x": 0.245,
          "xanchor": "center",
          "xref": "paper",
          "y": 1,
          "yanchor": "bottom",
          "yref": "paper"
         },
         {
          "font": {},
          "showarrow": false,
          "text": "difficulty=1",
          "x": 0.755,
          "xanchor": "center",
          "xref": "paper",
          "y": 1,
          "yanchor": "bottom",
          "yref": "paper"
         }
        ],
        "legend": {
         "title": {
          "text": "solver, type"
         },
         "tracegroupgap": 0
        },
        "margin": {
         "t": 60
        },
        "template": {
         "data": {
          "bar": [
           {
            "error_x": {
             "color": "#2a3f5f"
            },
            "error_y": {
             "color": "#2a3f5f"
            },
            "marker": {
             "line": {
              "color": "#E5ECF6",
              "width": 0.5
             },
             "pattern": {
              "fillmode": "overlay",
              "size": 10,
              "solidity": 0.2
             }
            },
            "type": "bar"
           }
          ],
          "barpolar": [
           {
            "marker": {
             "line": {
              "color": "#E5ECF6",
              "width": 0.5
             },
             "pattern": {
              "fillmode": "overlay",
              "size": 10,
              "solidity": 0.2
             }
            },
            "type": "barpolar"
           }
          ],
          "carpet": [
           {
            "aaxis": {
             "endlinecolor": "#2a3f5f",
             "gridcolor": "white",
             "linecolor": "white",
             "minorgridcolor": "white",
             "startlinecolor": "#2a3f5f"
            },
            "baxis": {
             "endlinecolor": "#2a3f5f",
             "gridcolor": "white",
             "linecolor": "white",
             "minorgridcolor": "white",
             "startlinecolor": "#2a3f5f"
            },
            "type": "carpet"
           }
          ],
          "choropleth": [
           {
            "colorbar": {
             "outlinewidth": 0,
             "ticks": ""
            },
            "type": "choropleth"
           }
          ],
          "contour": [
           {
            "colorbar": {
             "outlinewidth": 0,
             "ticks": ""
            },
            "colorscale": [
             [
              0,
              "#0d0887"
             ],
             [
              0.1111111111111111,
              "#46039f"
             ],
             [
              0.2222222222222222,
              "#7201a8"
             ],
             [
              0.3333333333333333,
              "#9c179e"
             ],
             [
              0.4444444444444444,
              "#bd3786"
             ],
             [
              0.5555555555555556,
              "#d8576b"
             ],
             [
              0.6666666666666666,
              "#ed7953"
             ],
             [
              0.7777777777777778,
              "#fb9f3a"
             ],
             [
              0.8888888888888888,
              "#fdca26"
             ],
             [
              1,
              "#f0f921"
             ]
            ],
            "type": "contour"
           }
          ],
          "contourcarpet": [
           {
            "colorbar": {
             "outlinewidth": 0,
             "ticks": ""
            },
            "type": "contourcarpet"
           }
          ],
          "heatmap": [
           {
            "colorbar": {
             "outlinewidth": 0,
             "ticks": ""
            },
            "colorscale": [
             [
              0,
              "#0d0887"
             ],
             [
              0.1111111111111111,
              "#46039f"
             ],
             [
              0.2222222222222222,
              "#7201a8"
             ],
             [
              0.3333333333333333,
              "#9c179e"
             ],
             [
              0.4444444444444444,
              "#bd3786"
             ],
             [
              0.5555555555555556,
              "#d8576b"
             ],
             [
              0.6666666666666666,
              "#ed7953"
             ],
             [
              0.7777777777777778,
              "#fb9f3a"
             ],
             [
              0.8888888888888888,
              "#fdca26"
             ],
             [
              1,
              "#f0f921"
             ]
            ],
            "type": "heatmap"
           }
          ],
          "heatmapgl": [
           {
            "colorbar": {
             "outlinewidth": 0,
             "ticks": ""
            },
            "colorscale": [
             [
              0,
              "#0d0887"
             ],
             [
              0.1111111111111111,
              "#46039f"
             ],
             [
              0.2222222222222222,
              "#7201a8"
             ],
             [
              0.3333333333333333,
              "#9c179e"
             ],
             [
              0.4444444444444444,
              "#bd3786"
             ],
             [
              0.5555555555555556,
              "#d8576b"
             ],
             [
              0.6666666666666666,
              "#ed7953"
             ],
             [
              0.7777777777777778,
              "#fb9f3a"
             ],
             [
              0.8888888888888888,
              "#fdca26"
             ],
             [
              1,
              "#f0f921"
             ]
            ],
            "type": "heatmapgl"
           }
          ],
          "histogram": [
           {
            "marker": {
             "pattern": {
              "fillmode": "overlay",
              "size": 10,
              "solidity": 0.2
             }
            },
            "type": "histogram"
           }
          ],
          "histogram2d": [
           {
            "colorbar": {
             "outlinewidth": 0,
             "ticks": ""
            },
            "colorscale": [
             [
              0,
              "#0d0887"
             ],
             [
              0.1111111111111111,
              "#46039f"
             ],
             [
              0.2222222222222222,
              "#7201a8"
             ],
             [
              0.3333333333333333,
              "#9c179e"
             ],
             [
              0.4444444444444444,
              "#bd3786"
             ],
             [
              0.5555555555555556,
              "#d8576b"
             ],
             [
              0.6666666666666666,
              "#ed7953"
             ],
             [
              0.7777777777777778,
              "#fb9f3a"
             ],
             [
              0.8888888888888888,
              "#fdca26"
             ],
             [
              1,
              "#f0f921"
             ]
            ],
            "type": "histogram2d"
           }
          ],
          "histogram2dcontour": [
           {
            "colorbar": {
             "outlinewidth": 0,
             "ticks": ""
            },
            "colorscale": [
             [
              0,
              "#0d0887"
             ],
             [
              0.1111111111111111,
              "#46039f"
             ],
             [
              0.2222222222222222,
              "#7201a8"
             ],
             [
              0.3333333333333333,
              "#9c179e"
             ],
             [
              0.4444444444444444,
              "#bd3786"
             ],
             [
              0.5555555555555556,
              "#d8576b"
             ],
             [
              0.6666666666666666,
              "#ed7953"
             ],
             [
              0.7777777777777778,
              "#fb9f3a"
             ],
             [
              0.8888888888888888,
              "#fdca26"
             ],
             [
              1,
              "#f0f921"
             ]
            ],
            "type": "histogram2dcontour"
           }
          ],
          "mesh3d": [
           {
            "colorbar": {
             "outlinewidth": 0,
             "ticks": ""
            },
            "type": "mesh3d"
           }
          ],
          "parcoords": [
           {
            "line": {
             "colorbar": {
              "outlinewidth": 0,
              "ticks": ""
             }
            },
            "type": "parcoords"
           }
          ],
          "pie": [
           {
            "automargin": true,
            "type": "pie"
           }
          ],
          "scatter": [
           {
            "fillpattern": {
             "fillmode": "overlay",
             "size": 10,
             "solidity": 0.2
            },
            "type": "scatter"
           }
          ],
          "scatter3d": [
           {
            "line": {
             "colorbar": {
              "outlinewidth": 0,
              "ticks": ""
             }
            },
            "marker": {
             "colorbar": {
              "outlinewidth": 0,
              "ticks": ""
             }
            },
            "type": "scatter3d"
           }
          ],
          "scattercarpet": [
           {
            "marker": {
             "colorbar": {
              "outlinewidth": 0,
              "ticks": ""
             }
            },
            "type": "scattercarpet"
           }
          ],
          "scattergeo": [
           {
            "marker": {
             "colorbar": {
              "outlinewidth": 0,
              "ticks": ""
             }
            },
            "type": "scattergeo"
           }
          ],
          "scattergl": [
           {
            "marker": {
             "colorbar": {
              "outlinewidth": 0,
              "ticks": ""
             }
            },
            "type": "scattergl"
           }
          ],
          "scattermapbox": [
           {
            "marker": {
             "colorbar": {
              "outlinewidth": 0,
              "ticks": ""
             }
            },
            "type": "scattermapbox"
           }
          ],
          "scatterpolar": [
           {
            "marker": {
             "colorbar": {
              "outlinewidth": 0,
              "ticks": ""
             }
            },
            "type": "scatterpolar"
           }
          ],
          "scatterpolargl": [
           {
            "marker": {
             "colorbar": {
              "outlinewidth": 0,
              "ticks": ""
             }
            },
            "type": "scatterpolargl"
           }
          ],
          "scatterternary": [
           {
            "marker": {
             "colorbar": {
              "outlinewidth": 0,
              "ticks": ""
             }
            },
            "type": "scatterternary"
           }
          ],
          "surface": [
           {
            "colorbar": {
             "outlinewidth": 0,
             "ticks": ""
            },
            "colorscale": [
             [
              0,
              "#0d0887"
             ],
             [
              0.1111111111111111,
              "#46039f"
             ],
             [
              0.2222222222222222,
              "#7201a8"
             ],
             [
              0.3333333333333333,
              "#9c179e"
             ],
             [
              0.4444444444444444,
              "#bd3786"
             ],
             [
              0.5555555555555556,
              "#d8576b"
             ],
             [
              0.6666666666666666,
              "#ed7953"
             ],
             [
              0.7777777777777778,
              "#fb9f3a"
             ],
             [
              0.8888888888888888,
              "#fdca26"
             ],
             [
              1,
              "#f0f921"
             ]
            ],
            "type": "surface"
           }
          ],
          "table": [
           {
            "cells": {
             "fill": {
              "color": "#EBF0F8"
             },
             "line": {
              "color": "white"
             }
            },
            "header": {
             "fill": {
              "color": "#C8D4E3"
             },
             "line": {
              "color": "white"
             }
            },
            "type": "table"
           }
          ]
         },
         "layout": {
          "annotationdefaults": {
           "arrowcolor": "#2a3f5f",
           "arrowhead": 0,
           "arrowwidth": 1
          },
          "autotypenumbers": "strict",
          "coloraxis": {
           "colorbar": {
            "outlinewidth": 0,
            "ticks": ""
           }
          },
          "colorscale": {
           "diverging": [
            [
             0,
             "#8e0152"
            ],
            [
             0.1,
             "#c51b7d"
            ],
            [
             0.2,
             "#de77ae"
            ],
            [
             0.3,
             "#f1b6da"
            ],
            [
             0.4,
             "#fde0ef"
            ],
            [
             0.5,
             "#f7f7f7"
            ],
            [
             0.6,
             "#e6f5d0"
            ],
            [
             0.7,
             "#b8e186"
            ],
            [
             0.8,
             "#7fbc41"
            ],
            [
             0.9,
             "#4d9221"
            ],
            [
             1,
             "#276419"
            ]
           ],
           "sequential": [
            [
             0,
             "#0d0887"
            ],
            [
             0.1111111111111111,
             "#46039f"
            ],
            [
             0.2222222222222222,
             "#7201a8"
            ],
            [
             0.3333333333333333,
             "#9c179e"
            ],
            [
             0.4444444444444444,
             "#bd3786"
            ],
            [
             0.5555555555555556,
             "#d8576b"
            ],
            [
             0.6666666666666666,
             "#ed7953"
            ],
            [
             0.7777777777777778,
             "#fb9f3a"
            ],
            [
             0.8888888888888888,
             "#fdca26"
            ],
            [
             1,
             "#f0f921"
            ]
           ],
           "sequentialminus": [
            [
             0,
             "#0d0887"
            ],
            [
             0.1111111111111111,
             "#46039f"
            ],
            [
             0.2222222222222222,
             "#7201a8"
            ],
            [
             0.3333333333333333,
             "#9c179e"
            ],
            [
             0.4444444444444444,
             "#bd3786"
            ],
            [
             0.5555555555555556,
             "#d8576b"
            ],
            [
             0.6666666666666666,
             "#ed7953"
            ],
            [
             0.7777777777777778,
             "#fb9f3a"
            ],
            [
             0.8888888888888888,
             "#fdca26"
            ],
            [
             1,
             "#f0f921"
            ]
           ]
          },
          "colorway": [
           "#636efa",
           "#EF553B",
           "#00cc96",
           "#ab63fa",
           "#FFA15A",
           "#19d3f3",
           "#FF6692",
           "#B6E880",
           "#FF97FF",
           "#FECB52"
          ],
          "font": {
           "color": "#2a3f5f"
          },
          "geo": {
           "bgcolor": "white",
           "lakecolor": "white",
           "landcolor": "#E5ECF6",
           "showlakes": true,
           "showland": true,
           "subunitcolor": "white"
          },
          "hoverlabel": {
           "align": "left"
          },
          "hovermode": "closest",
          "mapbox": {
           "style": "light"
          },
          "paper_bgcolor": "white",
          "plot_bgcolor": "#E5ECF6",
          "polar": {
           "angularaxis": {
            "gridcolor": "white",
            "linecolor": "white",
            "ticks": ""
           },
           "bgcolor": "#E5ECF6",
           "radialaxis": {
            "gridcolor": "white",
            "linecolor": "white",
            "ticks": ""
           }
          },
          "scene": {
           "xaxis": {
            "backgroundcolor": "#E5ECF6",
            "gridcolor": "white",
            "gridwidth": 2,
            "linecolor": "white",
            "showbackground": true,
            "ticks": "",
            "zerolinecolor": "white"
           },
           "yaxis": {
            "backgroundcolor": "#E5ECF6",
            "gridcolor": "white",
            "gridwidth": 2,
            "linecolor": "white",
            "showbackground": true,
            "ticks": "",
            "zerolinecolor": "white"
           },
           "zaxis": {
            "backgroundcolor": "#E5ECF6",
            "gridcolor": "white",
            "gridwidth": 2,
            "linecolor": "white",
            "showbackground": true,
            "ticks": "",
            "zerolinecolor": "white"
           }
          },
          "shapedefaults": {
           "line": {
            "color": "#2a3f5f"
           }
          },
          "ternary": {
           "aaxis": {
            "gridcolor": "white",
            "linecolor": "white",
            "ticks": ""
           },
           "baxis": {
            "gridcolor": "white",
            "linecolor": "white",
            "ticks": ""
           },
           "bgcolor": "#E5ECF6",
           "caxis": {
            "gridcolor": "white",
            "linecolor": "white",
            "ticks": ""
           }
          },
          "title": {
           "x": 0.05
          },
          "xaxis": {
           "automargin": true,
           "gridcolor": "white",
           "linecolor": "white",
           "ticks": "",
           "title": {
            "standoff": 15
           },
           "zerolinecolor": "white",
           "zerolinewidth": 2
          },
          "yaxis": {
           "automargin": true,
           "gridcolor": "white",
           "linecolor": "white",
           "ticks": "",
           "title": {
            "standoff": 15
           },
           "zerolinecolor": "white",
           "zerolinewidth": 2
          }
         }
        },
        "xaxis": {
         "anchor": "y",
         "categoryarray": [
          "0_01",
          "0_02",
          "0_03",
          "0_04",
          "0_05",
          "0_06",
          "0_07",
          "0_08",
          "0_09",
          "0_10",
          "0_11",
          "0_12",
          "0_13",
          "0_14",
          "0_15",
          "0_16",
          "0_17",
          "0_18",
          "0_19",
          "0_20",
          "0_21",
          "0_22",
          "0_23",
          "0_24",
          "0_25",
          "0_26",
          "0_27",
          "0_28",
          "0_29",
          "0_30",
          "1_01",
          "1_02",
          "1_03",
          "1_04",
          "1_05",
          "1_06",
          "1_07",
          "1_08",
          "1_09",
          "1_10",
          "1_11",
          "1_12",
          "1_13",
          "1_14",
          "1_15",
          "1_16",
          "1_17",
          "1_18",
          "1_19",
          "1_20",
          "1_21",
          "1_22",
          "1_23",
          "1_24",
          "1_25",
          "1_26",
          "1_27",
          "1_28",
          "1_29",
          "1_30"
         ],
         "categoryorder": "array",
         "domain": [
          0,
          0.49
         ],
         "showticklabels": true,
         "title": {
          "text": "problem"
         }
        },
        "xaxis2": {
         "anchor": "y2",
         "categoryarray": [
          "0_01",
          "0_02",
          "0_03",
          "0_04",
          "0_05",
          "0_06",
          "0_07",
          "0_08",
          "0_09",
          "0_10",
          "0_11",
          "0_12",
          "0_13",
          "0_14",
          "0_15",
          "0_16",
          "0_17",
          "0_18",
          "0_19",
          "0_20",
          "0_21",
          "0_22",
          "0_23",
          "0_24",
          "0_25",
          "0_26",
          "0_27",
          "0_28",
          "0_29",
          "0_30",
          "1_01",
          "1_02",
          "1_03",
          "1_04",
          "1_05",
          "1_06",
          "1_07",
          "1_08",
          "1_09",
          "1_10",
          "1_11",
          "1_12",
          "1_13",
          "1_14",
          "1_15",
          "1_16",
          "1_17",
          "1_18",
          "1_19",
          "1_20",
          "1_21",
          "1_22",
          "1_23",
          "1_24",
          "1_25",
          "1_26",
          "1_27",
          "1_28",
          "1_29",
          "1_30"
         ],
         "categoryorder": "array",
         "domain": [
          0.51,
          1
         ],
         "showticklabels": true,
         "title": {
          "text": "problem"
         }
        },
        "yaxis": {
         "anchor": "x",
         "domain": [
          0,
          1
         ],
         "showticklabels": true,
         "title": {
          "text": "cycles_mean"
         }
        },
        "yaxis2": {
         "anchor": "x2",
         "domain": [
          0,
          1
         ],
         "showticklabels": true
        }
       }
      }
     },
     "metadata": {},
     "output_type": "display_data"
    },
    {
     "name": "stdout",
     "output_type": "stream",
     "text": [
      "rover\n"
     ]
    },
    {
     "data": {
      "application/vnd.plotly.v1+json": {
       "config": {
        "plotlyServerURL": "https://plot.ly"
       },
       "data": [
        {
         "error_y": {
          "array": [
           0,
           0,
           0,
           0,
           0,
           0,
           0,
           0,
           0,
           0,
           0,
           0,
           0,
           0,
           0,
           0,
           0,
           0,
           0,
           0,
           0,
           0,
           0,
           0,
           0,
           0,
           0,
           0,
           0,
           0
          ]
         },
         "hovertemplate": "solver=baseline<br>type=bounds<br>difficulty=0<br>problem=%{x}<br>cycles_mean=%{y}<extra></extra>",
         "legendgroup": "baseline, bounds",
         "line": {
          "color": "#636efa",
          "dash": "solid"
         },
         "marker": {
          "symbol": "circle"
         },
         "mode": "lines",
         "name": "baseline, bounds",
         "orientation": "v",
         "showlegend": true,
         "type": "scatter",
         "x": [
          "0_01",
          "0_02",
          "0_03",
          "0_04",
          "0_05",
          "0_06",
          "0_07",
          "0_08",
          "0_09",
          "0_10",
          "0_11",
          "0_12",
          "0_13",
          "0_14",
          "0_15",
          "0_16",
          "0_17",
          "0_18",
          "0_19",
          "0_20",
          "0_21",
          "0_22",
          "0_23",
          "0_24",
          "0_25",
          "0_26",
          "0_27",
          "0_28",
          "0_29",
          "0_30"
         ],
         "xaxis": "x",
         "y": [
          0,
          0,
          0,
          0,
          0,
          0,
          0,
          0,
          0,
          0,
          0,
          0,
          0,
          0,
          0,
          0,
          0,
          0,
          0,
          0,
          0,
          0,
          0,
          0,
          0,
          0,
          0,
          0,
          0,
          0
         ],
         "yaxis": "y"
        },
        {
         "error_y": {
          "array": [
           0,
           0,
           0,
           0,
           0,
           0,
           0,
           0,
           0,
           0,
           0,
           0,
           0,
           0,
           0,
           0,
           0,
           0,
           0,
           0,
           0,
           0,
           0,
           0,
           0,
           0,
           0,
           0,
           null,
           null
          ]
         },
         "hovertemplate": "solver=baseline<br>type=bounds<br>difficulty=1<br>problem=%{x}<br>cycles_mean=%{y}<extra></extra>",
         "legendgroup": "baseline, bounds",
         "line": {
          "color": "#636efa",
          "dash": "solid"
         },
         "marker": {
          "symbol": "circle"
         },
         "mode": "lines",
         "name": "baseline, bounds",
         "orientation": "v",
         "showlegend": false,
         "type": "scatter",
         "x": [
          "1_01",
          "1_02",
          "1_03",
          "1_04",
          "1_05",
          "1_06",
          "1_07",
          "1_08",
          "1_09",
          "1_10",
          "1_11",
          "1_12",
          "1_13",
          "1_14",
          "1_15",
          "1_16",
          "1_17",
          "1_18",
          "1_19",
          "1_20",
          "1_21",
          "1_22",
          "1_23",
          "1_24",
          "1_25",
          "1_26",
          "1_27",
          "1_28",
          "1_29",
          "1_30"
         ],
         "xaxis": "x2",
         "y": [
          0,
          0,
          0,
          0,
          0,
          0,
          0,
          0,
          0,
          0,
          0,
          0,
          0,
          0,
          0,
          0,
          0,
          0,
          0,
          0,
          0,
          0,
          0,
          0,
          0,
          0,
          0,
          0,
          null,
          null
         ],
         "yaxis": "y2"
        },
        {
         "error_y": {
          "array": [
           null,
           null,
           null,
           null,
           null,
           null,
           null,
           null,
           null,
           null,
           null,
           null,
           null,
           null,
           null,
           null,
           null,
           null,
           null,
           null,
           null,
           null,
           null,
           null,
           null,
           null,
           null,
           null,
           null,
           null
          ]
         },
         "hovertemplate": "solver=optimal<br>type=bounds<br>difficulty=0<br>problem=%{x}<br>cycles_mean=%{y}<extra></extra>",
         "legendgroup": "optimal, bounds",
         "line": {
          "color": "#EF553B",
          "dash": "solid"
         },
         "marker": {
          "symbol": "circle"
         },
         "mode": "lines",
         "name": "optimal, bounds",
         "orientation": "v",
         "showlegend": true,
         "type": "scatter",
         "x": [
          "0_01",
          "0_02",
          "0_03",
          "0_04",
          "0_05",
          "0_06",
          "0_07",
          "0_08",
          "0_09",
          "0_10",
          "0_11",
          "0_12",
          "0_13",
          "0_14",
          "0_15",
          "0_16",
          "0_17",
          "0_18",
          "0_19",
          "0_20",
          "0_21",
          "0_22",
          "0_23",
          "0_24",
          "0_25",
          "0_26",
          "0_27",
          "0_28",
          "0_29",
          "0_30"
         ],
         "xaxis": "x",
         "y": [
          0,
          0,
          0,
          0,
          0,
          0,
          0,
          0,
          0,
          0,
          0,
          0,
          0,
          0,
          0,
          0,
          0,
          0,
          0,
          0,
          0,
          0,
          0,
          0,
          0,
          0,
          0,
          0,
          0,
          0
         ],
         "yaxis": "y"
        },
        {
         "error_y": {
          "array": [
           null,
           null,
           null,
           null,
           null,
           null,
           null,
           null,
           null,
           null,
           null,
           null,
           null,
           null,
           null,
           null,
           null,
           null,
           null,
           null,
           null,
           null,
           null,
           null,
           null,
           null,
           null,
           null,
           null,
           null
          ]
         },
         "hovertemplate": "solver=optimal<br>type=bounds<br>difficulty=1<br>problem=%{x}<br>cycles_mean=%{y}<extra></extra>",
         "legendgroup": "optimal, bounds",
         "line": {
          "color": "#EF553B",
          "dash": "solid"
         },
         "marker": {
          "symbol": "circle"
         },
         "mode": "lines",
         "name": "optimal, bounds",
         "orientation": "v",
         "showlegend": false,
         "type": "scatter",
         "x": [
          "1_01",
          "1_02",
          "1_03",
          "1_04",
          "1_05",
          "1_06",
          "1_07",
          "1_08",
          "1_09",
          "1_10",
          "1_11",
          "1_12",
          "1_13",
          "1_14",
          "1_15",
          "1_16",
          "1_17",
          "1_18",
          "1_19",
          "1_20",
          "1_21",
          "1_22",
          "1_23",
          "1_24",
          "1_25",
          "1_26",
          "1_27",
          "1_28",
          "1_29",
          "1_30"
         ],
         "xaxis": "x2",
         "y": [
          0,
          0,
          0,
          0,
          0,
          0,
          0,
          0,
          0,
          0,
          0,
          0,
          0,
          0,
          0,
          0,
          0,
          0,
          0,
          0,
          0,
          0,
          0,
          0,
          0,
          0,
          0,
          0,
          0,
          0
         ],
         "yaxis": "y2"
        },
        {
         "error_y": {
          "array": [
           null,
           null,
           null,
           null,
           null,
           null,
           null,
           null,
           null,
           null,
           null,
           null,
           null,
           null,
           null,
           null,
           null,
           null,
           null,
           null,
           null,
           null,
           null,
           null,
           null,
           null,
           null,
           null,
           null,
           null
          ]
         },
         "hovertemplate": "solver=lama<br>type=bounds<br>difficulty=0<br>problem=%{x}<br>cycles_mean=%{y}<extra></extra>",
         "legendgroup": "lama, bounds",
         "line": {
          "color": "#00cc96",
          "dash": "solid"
         },
         "marker": {
          "symbol": "circle"
         },
         "mode": "lines",
         "name": "lama, bounds",
         "orientation": "v",
         "showlegend": true,
         "type": "scatter",
         "x": [
          "0_01",
          "0_02",
          "0_03",
          "0_04",
          "0_05",
          "0_06",
          "0_07",
          "0_08",
          "0_09",
          "0_10",
          "0_11",
          "0_12",
          "0_13",
          "0_14",
          "0_15",
          "0_16",
          "0_17",
          "0_18",
          "0_19",
          "0_20",
          "0_21",
          "0_22",
          "0_23",
          "0_24",
          "0_25",
          "0_26",
          "0_27",
          "0_28",
          "0_29",
          "0_30"
         ],
         "xaxis": "x",
         "y": [
          0,
          0,
          0,
          0,
          0,
          0,
          0,
          0,
          0,
          0,
          0,
          0,
          0,
          0,
          0,
          0,
          0,
          0,
          0,
          0,
          0,
          0,
          0,
          0,
          0,
          0,
          0,
          0,
          0,
          0
         ],
         "yaxis": "y"
        },
        {
         "error_y": {
          "array": [
           null,
           null,
           null,
           null,
           null,
           null,
           null,
           null,
           null,
           null,
           null,
           null,
           null,
           null,
           null,
           null,
           null,
           null,
           null,
           null,
           null,
           null,
           null,
           null,
           null,
           null,
           null,
           null,
           null,
           null
          ]
         },
         "hovertemplate": "solver=lama<br>type=bounds<br>difficulty=1<br>problem=%{x}<br>cycles_mean=%{y}<extra></extra>",
         "legendgroup": "lama, bounds",
         "line": {
          "color": "#00cc96",
          "dash": "solid"
         },
         "marker": {
          "symbol": "circle"
         },
         "mode": "lines",
         "name": "lama, bounds",
         "orientation": "v",
         "showlegend": false,
         "type": "scatter",
         "x": [
          "1_01",
          "1_02",
          "1_03",
          "1_04",
          "1_05",
          "1_06",
          "1_07",
          "1_08",
          "1_09",
          "1_10",
          "1_11",
          "1_12",
          "1_13",
          "1_14",
          "1_15",
          "1_16",
          "1_17",
          "1_18",
          "1_19",
          "1_20",
          "1_21",
          "1_22",
          "1_23",
          "1_24",
          "1_25",
          "1_26",
          "1_27",
          "1_28",
          "1_29",
          "1_30"
         ],
         "xaxis": "x2",
         "y": [
          0,
          0,
          0,
          0,
          0,
          0,
          0,
          0,
          0,
          0,
          0,
          0,
          0,
          0,
          0,
          0,
          0,
          0,
          0,
          0,
          0,
          0,
          0,
          0,
          0,
          0,
          0,
          0,
          0,
          0
         ],
         "yaxis": "y2"
        },
        {
         "error_y": {
          "array": [
           0,
           0,
           0,
           0,
           0,
           0,
           0,
           0,
           0,
           0,
           0,
           0,
           0,
           0,
           0,
           0,
           0,
           0,
           0,
           0,
           0,
           0,
           0,
           0,
           0,
           0,
           0,
           0,
           0,
           0
          ]
         },
         "hovertemplate": "solver=L2_D8_best<br>type=lrnn_best<br>difficulty=0<br>problem=%{x}<br>cycles_mean=%{y}<extra></extra>",
         "legendgroup": "L2_D8_best, lrnn_best",
         "line": {
          "color": "#ab63fa",
          "dash": "dot"
         },
         "marker": {
          "symbol": "circle"
         },
         "mode": "lines",
         "name": "L2_D8_best, lrnn_best",
         "orientation": "v",
         "showlegend": true,
         "type": "scatter",
         "x": [
          "0_01",
          "0_02",
          "0_03",
          "0_04",
          "0_05",
          "0_06",
          "0_07",
          "0_08",
          "0_09",
          "0_10",
          "0_11",
          "0_12",
          "0_13",
          "0_14",
          "0_15",
          "0_16",
          "0_17",
          "0_18",
          "0_19",
          "0_20",
          "0_21",
          "0_22",
          "0_23",
          "0_24",
          "0_25",
          "0_26",
          "0_27",
          "0_28",
          "0_29",
          "0_30"
         ],
         "xaxis": "x",
         "y": [
          0,
          0,
          0,
          0,
          0,
          0,
          0,
          0,
          0,
          0,
          0,
          0,
          0,
          0,
          0,
          0,
          0,
          0,
          0,
          0,
          0,
          0,
          0,
          0,
          0,
          0,
          0,
          0,
          0,
          0
         ],
         "yaxis": "y"
        },
        {
         "error_y": {
          "array": [
           0,
           0,
           0,
           0,
           0,
           0,
           0,
           0,
           0,
           0,
           0,
           0,
           0,
           0,
           0,
           0,
           null,
           null,
           0,
           null,
           0,
           0,
           null,
           0,
           null,
           0,
           null,
           null,
           null,
           null
          ]
         },
         "hovertemplate": "solver=L2_D8_best<br>type=lrnn_best<br>difficulty=1<br>problem=%{x}<br>cycles_mean=%{y}<extra></extra>",
         "legendgroup": "L2_D8_best, lrnn_best",
         "line": {
          "color": "#ab63fa",
          "dash": "dot"
         },
         "marker": {
          "symbol": "circle"
         },
         "mode": "lines",
         "name": "L2_D8_best, lrnn_best",
         "orientation": "v",
         "showlegend": false,
         "type": "scatter",
         "x": [
          "1_01",
          "1_02",
          "1_03",
          "1_04",
          "1_05",
          "1_06",
          "1_07",
          "1_08",
          "1_09",
          "1_10",
          "1_11",
          "1_12",
          "1_13",
          "1_14",
          "1_15",
          "1_16",
          "1_17",
          "1_18",
          "1_19",
          "1_20",
          "1_21",
          "1_22",
          "1_23",
          "1_24",
          "1_25",
          "1_26",
          "1_27",
          "1_28",
          "1_29",
          "1_30"
         ],
         "xaxis": "x2",
         "y": [
          0,
          0,
          0,
          0,
          0,
          0,
          0,
          0,
          0,
          0,
          0,
          0,
          0,
          0,
          0,
          0,
          null,
          null,
          0,
          0,
          0,
          0,
          0,
          0,
          null,
          0,
          0,
          null,
          null,
          null
         ],
         "yaxis": "y2"
        },
        {
         "error_y": {
          "array": [
           0,
           0,
           0,
           0,
           0,
           0,
           0,
           0,
           0,
           0,
           0,
           0,
           0,
           0,
           0,
           0,
           0,
           0,
           0,
           0,
           0,
           0,
           0,
           0,
           0,
           0,
           0,
           0,
           0,
           0
          ]
         },
         "hovertemplate": "solver=L2_D16_best<br>type=lrnn_best<br>difficulty=0<br>problem=%{x}<br>cycles_mean=%{y}<extra></extra>",
         "legendgroup": "L2_D16_best, lrnn_best",
         "line": {
          "color": "#FFA15A",
          "dash": "dot"
         },
         "marker": {
          "symbol": "circle"
         },
         "mode": "lines",
         "name": "L2_D16_best, lrnn_best",
         "orientation": "v",
         "showlegend": true,
         "type": "scatter",
         "x": [
          "0_01",
          "0_02",
          "0_03",
          "0_04",
          "0_05",
          "0_06",
          "0_07",
          "0_08",
          "0_09",
          "0_10",
          "0_11",
          "0_12",
          "0_13",
          "0_14",
          "0_15",
          "0_16",
          "0_17",
          "0_18",
          "0_19",
          "0_20",
          "0_21",
          "0_22",
          "0_23",
          "0_24",
          "0_25",
          "0_26",
          "0_27",
          "0_28",
          "0_29",
          "0_30"
         ],
         "xaxis": "x",
         "y": [
          0,
          0,
          0,
          0,
          0,
          0,
          0,
          0,
          0,
          0,
          0,
          0,
          0,
          0,
          0,
          0,
          0,
          0,
          0,
          0,
          0,
          0,
          0,
          0,
          0,
          0,
          0,
          0,
          0,
          0
         ],
         "yaxis": "y"
        },
        {
         "error_y": {
          "array": [
           0,
           0,
           0,
           0,
           0,
           0,
           0,
           0,
           0,
           0,
           null,
           null,
           0,
           0,
           0,
           null,
           null,
           null,
           null,
           null,
           null,
           null,
           0,
           null,
           null,
           null,
           null,
           null,
           null
          ]
         },
         "hovertemplate": "solver=L2_D16_best<br>type=lrnn_best<br>difficulty=1<br>problem=%{x}<br>cycles_mean=%{y}<extra></extra>",
         "legendgroup": "L2_D16_best, lrnn_best",
         "line": {
          "color": "#FFA15A",
          "dash": "dot"
         },
         "marker": {
          "symbol": "circle"
         },
         "mode": "lines",
         "name": "L2_D16_best, lrnn_best",
         "orientation": "v",
         "showlegend": false,
         "type": "scatter",
         "x": [
          "1_01",
          "1_02",
          "1_03",
          "1_04",
          "1_05",
          "1_06",
          "1_07",
          "1_08",
          "1_09",
          "1_10",
          "1_11",
          "1_12",
          "1_13",
          "1_14",
          "1_15",
          "1_16",
          "1_17",
          "1_18",
          "1_19",
          "1_20",
          "1_21",
          "1_22",
          "1_24",
          "1_25",
          "1_26",
          "1_27",
          "1_28",
          "1_29",
          "1_30"
         ],
         "xaxis": "x2",
         "y": [
          0,
          0,
          0,
          0,
          0,
          0,
          0,
          0,
          0,
          0,
          0,
          0,
          0,
          0,
          0,
          0,
          null,
          null,
          null,
          null,
          null,
          0,
          0,
          null,
          null,
          null,
          null,
          null,
          null
         ],
         "yaxis": "y2"
        }
       ],
       "layout": {
        "annotations": [
         {
          "font": {},
          "showarrow": false,
          "text": "difficulty=0",
          "x": 0.245,
          "xanchor": "center",
          "xref": "paper",
          "y": 1,
          "yanchor": "bottom",
          "yref": "paper"
         },
         {
          "font": {},
          "showarrow": false,
          "text": "difficulty=1",
          "x": 0.755,
          "xanchor": "center",
          "xref": "paper",
          "y": 1,
          "yanchor": "bottom",
          "yref": "paper"
         }
        ],
        "legend": {
         "title": {
          "text": "solver, type"
         },
         "tracegroupgap": 0
        },
        "margin": {
         "t": 60
        },
        "template": {
         "data": {
          "bar": [
           {
            "error_x": {
             "color": "#2a3f5f"
            },
            "error_y": {
             "color": "#2a3f5f"
            },
            "marker": {
             "line": {
              "color": "#E5ECF6",
              "width": 0.5
             },
             "pattern": {
              "fillmode": "overlay",
              "size": 10,
              "solidity": 0.2
             }
            },
            "type": "bar"
           }
          ],
          "barpolar": [
           {
            "marker": {
             "line": {
              "color": "#E5ECF6",
              "width": 0.5
             },
             "pattern": {
              "fillmode": "overlay",
              "size": 10,
              "solidity": 0.2
             }
            },
            "type": "barpolar"
           }
          ],
          "carpet": [
           {
            "aaxis": {
             "endlinecolor": "#2a3f5f",
             "gridcolor": "white",
             "linecolor": "white",
             "minorgridcolor": "white",
             "startlinecolor": "#2a3f5f"
            },
            "baxis": {
             "endlinecolor": "#2a3f5f",
             "gridcolor": "white",
             "linecolor": "white",
             "minorgridcolor": "white",
             "startlinecolor": "#2a3f5f"
            },
            "type": "carpet"
           }
          ],
          "choropleth": [
           {
            "colorbar": {
             "outlinewidth": 0,
             "ticks": ""
            },
            "type": "choropleth"
           }
          ],
          "contour": [
           {
            "colorbar": {
             "outlinewidth": 0,
             "ticks": ""
            },
            "colorscale": [
             [
              0,
              "#0d0887"
             ],
             [
              0.1111111111111111,
              "#46039f"
             ],
             [
              0.2222222222222222,
              "#7201a8"
             ],
             [
              0.3333333333333333,
              "#9c179e"
             ],
             [
              0.4444444444444444,
              "#bd3786"
             ],
             [
              0.5555555555555556,
              "#d8576b"
             ],
             [
              0.6666666666666666,
              "#ed7953"
             ],
             [
              0.7777777777777778,
              "#fb9f3a"
             ],
             [
              0.8888888888888888,
              "#fdca26"
             ],
             [
              1,
              "#f0f921"
             ]
            ],
            "type": "contour"
           }
          ],
          "contourcarpet": [
           {
            "colorbar": {
             "outlinewidth": 0,
             "ticks": ""
            },
            "type": "contourcarpet"
           }
          ],
          "heatmap": [
           {
            "colorbar": {
             "outlinewidth": 0,
             "ticks": ""
            },
            "colorscale": [
             [
              0,
              "#0d0887"
             ],
             [
              0.1111111111111111,
              "#46039f"
             ],
             [
              0.2222222222222222,
              "#7201a8"
             ],
             [
              0.3333333333333333,
              "#9c179e"
             ],
             [
              0.4444444444444444,
              "#bd3786"
             ],
             [
              0.5555555555555556,
              "#d8576b"
             ],
             [
              0.6666666666666666,
              "#ed7953"
             ],
             [
              0.7777777777777778,
              "#fb9f3a"
             ],
             [
              0.8888888888888888,
              "#fdca26"
             ],
             [
              1,
              "#f0f921"
             ]
            ],
            "type": "heatmap"
           }
          ],
          "heatmapgl": [
           {
            "colorbar": {
             "outlinewidth": 0,
             "ticks": ""
            },
            "colorscale": [
             [
              0,
              "#0d0887"
             ],
             [
              0.1111111111111111,
              "#46039f"
             ],
             [
              0.2222222222222222,
              "#7201a8"
             ],
             [
              0.3333333333333333,
              "#9c179e"
             ],
             [
              0.4444444444444444,
              "#bd3786"
             ],
             [
              0.5555555555555556,
              "#d8576b"
             ],
             [
              0.6666666666666666,
              "#ed7953"
             ],
             [
              0.7777777777777778,
              "#fb9f3a"
             ],
             [
              0.8888888888888888,
              "#fdca26"
             ],
             [
              1,
              "#f0f921"
             ]
            ],
            "type": "heatmapgl"
           }
          ],
          "histogram": [
           {
            "marker": {
             "pattern": {
              "fillmode": "overlay",
              "size": 10,
              "solidity": 0.2
             }
            },
            "type": "histogram"
           }
          ],
          "histogram2d": [
           {
            "colorbar": {
             "outlinewidth": 0,
             "ticks": ""
            },
            "colorscale": [
             [
              0,
              "#0d0887"
             ],
             [
              0.1111111111111111,
              "#46039f"
             ],
             [
              0.2222222222222222,
              "#7201a8"
             ],
             [
              0.3333333333333333,
              "#9c179e"
             ],
             [
              0.4444444444444444,
              "#bd3786"
             ],
             [
              0.5555555555555556,
              "#d8576b"
             ],
             [
              0.6666666666666666,
              "#ed7953"
             ],
             [
              0.7777777777777778,
              "#fb9f3a"
             ],
             [
              0.8888888888888888,
              "#fdca26"
             ],
             [
              1,
              "#f0f921"
             ]
            ],
            "type": "histogram2d"
           }
          ],
          "histogram2dcontour": [
           {
            "colorbar": {
             "outlinewidth": 0,
             "ticks": ""
            },
            "colorscale": [
             [
              0,
              "#0d0887"
             ],
             [
              0.1111111111111111,
              "#46039f"
             ],
             [
              0.2222222222222222,
              "#7201a8"
             ],
             [
              0.3333333333333333,
              "#9c179e"
             ],
             [
              0.4444444444444444,
              "#bd3786"
             ],
             [
              0.5555555555555556,
              "#d8576b"
             ],
             [
              0.6666666666666666,
              "#ed7953"
             ],
             [
              0.7777777777777778,
              "#fb9f3a"
             ],
             [
              0.8888888888888888,
              "#fdca26"
             ],
             [
              1,
              "#f0f921"
             ]
            ],
            "type": "histogram2dcontour"
           }
          ],
          "mesh3d": [
           {
            "colorbar": {
             "outlinewidth": 0,
             "ticks": ""
            },
            "type": "mesh3d"
           }
          ],
          "parcoords": [
           {
            "line": {
             "colorbar": {
              "outlinewidth": 0,
              "ticks": ""
             }
            },
            "type": "parcoords"
           }
          ],
          "pie": [
           {
            "automargin": true,
            "type": "pie"
           }
          ],
          "scatter": [
           {
            "fillpattern": {
             "fillmode": "overlay",
             "size": 10,
             "solidity": 0.2
            },
            "type": "scatter"
           }
          ],
          "scatter3d": [
           {
            "line": {
             "colorbar": {
              "outlinewidth": 0,
              "ticks": ""
             }
            },
            "marker": {
             "colorbar": {
              "outlinewidth": 0,
              "ticks": ""
             }
            },
            "type": "scatter3d"
           }
          ],
          "scattercarpet": [
           {
            "marker": {
             "colorbar": {
              "outlinewidth": 0,
              "ticks": ""
             }
            },
            "type": "scattercarpet"
           }
          ],
          "scattergeo": [
           {
            "marker": {
             "colorbar": {
              "outlinewidth": 0,
              "ticks": ""
             }
            },
            "type": "scattergeo"
           }
          ],
          "scattergl": [
           {
            "marker": {
             "colorbar": {
              "outlinewidth": 0,
              "ticks": ""
             }
            },
            "type": "scattergl"
           }
          ],
          "scattermapbox": [
           {
            "marker": {
             "colorbar": {
              "outlinewidth": 0,
              "ticks": ""
             }
            },
            "type": "scattermapbox"
           }
          ],
          "scatterpolar": [
           {
            "marker": {
             "colorbar": {
              "outlinewidth": 0,
              "ticks": ""
             }
            },
            "type": "scatterpolar"
           }
          ],
          "scatterpolargl": [
           {
            "marker": {
             "colorbar": {
              "outlinewidth": 0,
              "ticks": ""
             }
            },
            "type": "scatterpolargl"
           }
          ],
          "scatterternary": [
           {
            "marker": {
             "colorbar": {
              "outlinewidth": 0,
              "ticks": ""
             }
            },
            "type": "scatterternary"
           }
          ],
          "surface": [
           {
            "colorbar": {
             "outlinewidth": 0,
             "ticks": ""
            },
            "colorscale": [
             [
              0,
              "#0d0887"
             ],
             [
              0.1111111111111111,
              "#46039f"
             ],
             [
              0.2222222222222222,
              "#7201a8"
             ],
             [
              0.3333333333333333,
              "#9c179e"
             ],
             [
              0.4444444444444444,
              "#bd3786"
             ],
             [
              0.5555555555555556,
              "#d8576b"
             ],
             [
              0.6666666666666666,
              "#ed7953"
             ],
             [
              0.7777777777777778,
              "#fb9f3a"
             ],
             [
              0.8888888888888888,
              "#fdca26"
             ],
             [
              1,
              "#f0f921"
             ]
            ],
            "type": "surface"
           }
          ],
          "table": [
           {
            "cells": {
             "fill": {
              "color": "#EBF0F8"
             },
             "line": {
              "color": "white"
             }
            },
            "header": {
             "fill": {
              "color": "#C8D4E3"
             },
             "line": {
              "color": "white"
             }
            },
            "type": "table"
           }
          ]
         },
         "layout": {
          "annotationdefaults": {
           "arrowcolor": "#2a3f5f",
           "arrowhead": 0,
           "arrowwidth": 1
          },
          "autotypenumbers": "strict",
          "coloraxis": {
           "colorbar": {
            "outlinewidth": 0,
            "ticks": ""
           }
          },
          "colorscale": {
           "diverging": [
            [
             0,
             "#8e0152"
            ],
            [
             0.1,
             "#c51b7d"
            ],
            [
             0.2,
             "#de77ae"
            ],
            [
             0.3,
             "#f1b6da"
            ],
            [
             0.4,
             "#fde0ef"
            ],
            [
             0.5,
             "#f7f7f7"
            ],
            [
             0.6,
             "#e6f5d0"
            ],
            [
             0.7,
             "#b8e186"
            ],
            [
             0.8,
             "#7fbc41"
            ],
            [
             0.9,
             "#4d9221"
            ],
            [
             1,
             "#276419"
            ]
           ],
           "sequential": [
            [
             0,
             "#0d0887"
            ],
            [
             0.1111111111111111,
             "#46039f"
            ],
            [
             0.2222222222222222,
             "#7201a8"
            ],
            [
             0.3333333333333333,
             "#9c179e"
            ],
            [
             0.4444444444444444,
             "#bd3786"
            ],
            [
             0.5555555555555556,
             "#d8576b"
            ],
            [
             0.6666666666666666,
             "#ed7953"
            ],
            [
             0.7777777777777778,
             "#fb9f3a"
            ],
            [
             0.8888888888888888,
             "#fdca26"
            ],
            [
             1,
             "#f0f921"
            ]
           ],
           "sequentialminus": [
            [
             0,
             "#0d0887"
            ],
            [
             0.1111111111111111,
             "#46039f"
            ],
            [
             0.2222222222222222,
             "#7201a8"
            ],
            [
             0.3333333333333333,
             "#9c179e"
            ],
            [
             0.4444444444444444,
             "#bd3786"
            ],
            [
             0.5555555555555556,
             "#d8576b"
            ],
            [
             0.6666666666666666,
             "#ed7953"
            ],
            [
             0.7777777777777778,
             "#fb9f3a"
            ],
            [
             0.8888888888888888,
             "#fdca26"
            ],
            [
             1,
             "#f0f921"
            ]
           ]
          },
          "colorway": [
           "#636efa",
           "#EF553B",
           "#00cc96",
           "#ab63fa",
           "#FFA15A",
           "#19d3f3",
           "#FF6692",
           "#B6E880",
           "#FF97FF",
           "#FECB52"
          ],
          "font": {
           "color": "#2a3f5f"
          },
          "geo": {
           "bgcolor": "white",
           "lakecolor": "white",
           "landcolor": "#E5ECF6",
           "showlakes": true,
           "showland": true,
           "subunitcolor": "white"
          },
          "hoverlabel": {
           "align": "left"
          },
          "hovermode": "closest",
          "mapbox": {
           "style": "light"
          },
          "paper_bgcolor": "white",
          "plot_bgcolor": "#E5ECF6",
          "polar": {
           "angularaxis": {
            "gridcolor": "white",
            "linecolor": "white",
            "ticks": ""
           },
           "bgcolor": "#E5ECF6",
           "radialaxis": {
            "gridcolor": "white",
            "linecolor": "white",
            "ticks": ""
           }
          },
          "scene": {
           "xaxis": {
            "backgroundcolor": "#E5ECF6",
            "gridcolor": "white",
            "gridwidth": 2,
            "linecolor": "white",
            "showbackground": true,
            "ticks": "",
            "zerolinecolor": "white"
           },
           "yaxis": {
            "backgroundcolor": "#E5ECF6",
            "gridcolor": "white",
            "gridwidth": 2,
            "linecolor": "white",
            "showbackground": true,
            "ticks": "",
            "zerolinecolor": "white"
           },
           "zaxis": {
            "backgroundcolor": "#E5ECF6",
            "gridcolor": "white",
            "gridwidth": 2,
            "linecolor": "white",
            "showbackground": true,
            "ticks": "",
            "zerolinecolor": "white"
           }
          },
          "shapedefaults": {
           "line": {
            "color": "#2a3f5f"
           }
          },
          "ternary": {
           "aaxis": {
            "gridcolor": "white",
            "linecolor": "white",
            "ticks": ""
           },
           "baxis": {
            "gridcolor": "white",
            "linecolor": "white",
            "ticks": ""
           },
           "bgcolor": "#E5ECF6",
           "caxis": {
            "gridcolor": "white",
            "linecolor": "white",
            "ticks": ""
           }
          },
          "title": {
           "x": 0.05
          },
          "xaxis": {
           "automargin": true,
           "gridcolor": "white",
           "linecolor": "white",
           "ticks": "",
           "title": {
            "standoff": 15
           },
           "zerolinecolor": "white",
           "zerolinewidth": 2
          },
          "yaxis": {
           "automargin": true,
           "gridcolor": "white",
           "linecolor": "white",
           "ticks": "",
           "title": {
            "standoff": 15
           },
           "zerolinecolor": "white",
           "zerolinewidth": 2
          }
         }
        },
        "xaxis": {
         "anchor": "y",
         "categoryarray": [
          "0_01",
          "0_02",
          "0_03",
          "0_04",
          "0_05",
          "0_06",
          "0_07",
          "0_08",
          "0_09",
          "0_10",
          "0_11",
          "0_12",
          "0_13",
          "0_14",
          "0_15",
          "0_16",
          "0_17",
          "0_18",
          "0_19",
          "0_20",
          "0_21",
          "0_22",
          "0_23",
          "0_24",
          "0_25",
          "0_26",
          "0_27",
          "0_28",
          "0_29",
          "0_30",
          "1_01",
          "1_02",
          "1_03",
          "1_04",
          "1_05",
          "1_06",
          "1_07",
          "1_08",
          "1_09",
          "1_10",
          "1_11",
          "1_12",
          "1_13",
          "1_14",
          "1_15",
          "1_16",
          "1_17",
          "1_18",
          "1_19",
          "1_20",
          "1_21",
          "1_22",
          "1_23",
          "1_24",
          "1_25",
          "1_26",
          "1_27",
          "1_28",
          "1_29",
          "1_30"
         ],
         "categoryorder": "array",
         "domain": [
          0,
          0.49
         ],
         "showticklabels": true,
         "title": {
          "text": "problem"
         }
        },
        "xaxis2": {
         "anchor": "y2",
         "categoryarray": [
          "0_01",
          "0_02",
          "0_03",
          "0_04",
          "0_05",
          "0_06",
          "0_07",
          "0_08",
          "0_09",
          "0_10",
          "0_11",
          "0_12",
          "0_13",
          "0_14",
          "0_15",
          "0_16",
          "0_17",
          "0_18",
          "0_19",
          "0_20",
          "0_21",
          "0_22",
          "0_23",
          "0_24",
          "0_25",
          "0_26",
          "0_27",
          "0_28",
          "0_29",
          "0_30",
          "1_01",
          "1_02",
          "1_03",
          "1_04",
          "1_05",
          "1_06",
          "1_07",
          "1_08",
          "1_09",
          "1_10",
          "1_11",
          "1_12",
          "1_13",
          "1_14",
          "1_15",
          "1_16",
          "1_17",
          "1_18",
          "1_19",
          "1_20",
          "1_21",
          "1_22",
          "1_23",
          "1_24",
          "1_25",
          "1_26",
          "1_27",
          "1_28",
          "1_29",
          "1_30"
         ],
         "categoryorder": "array",
         "domain": [
          0.51,
          1
         ],
         "showticklabels": true,
         "title": {
          "text": "problem"
         }
        },
        "yaxis": {
         "anchor": "x",
         "domain": [
          0,
          1
         ],
         "showticklabels": true,
         "title": {
          "text": "cycles_mean"
         }
        },
        "yaxis2": {
         "anchor": "x2",
         "domain": [
          0,
          1
         ],
         "showticklabels": true
        }
       }
      }
     },
     "metadata": {},
     "output_type": "display_data"
    }
   ],
   "source": [
    "plot_domains(\"cycles\", log_y=0, choices=choices, layers=layers, dimensions=dimensions)"
   ]
  },
  {
   "cell_type": "markdown",
   "metadata": {},
   "source": [
    "# Quantified improvements"
   ]
  },
  {
   "cell_type": "code",
   "execution_count": 5,
   "metadata": {},
   "outputs": [
    {
     "name": "stdout",
     "output_type": "stream",
     "text": [
      "blocksworld\n"
     ]
    },
    {
     "data": {
      "application/vnd.plotly.v1+json": {
       "config": {
        "plotlyServerURL": "https://plot.ly"
       },
       "data": [
        {
         "error_y": {
          "array": [
           2.851519991849227,
           2.5019015834182405,
           3.090044245323504,
           2.331183617942405,
           2.0994609949646845,
           3.2138861295814163,
           2.114353541496957,
           2.7368917914223743,
           2.7463230148390605
          ]
         },
         "hovertemplate": "difficulty=0<br>config=%{x}<br>improvement (%) mean=%{y}<extra></extra>",
         "legendgroup": "",
         "marker": {
          "color": "#636efa",
          "symbol": "circle"
         },
         "mode": "markers",
         "name": "",
         "orientation": "v",
         "showlegend": false,
         "type": "scatter",
         "x": [
          "2_16",
          "2_32",
          "2_8",
          "3_16",
          "3_32",
          "3_8",
          "4_16",
          "4_32",
          "4_8"
         ],
         "xaxis": "x",
         "y": [
          2.4453912913420703,
          1.4272684145216177,
          0.12512925206856687,
          0.6254262577604962,
          1.1456222984980118,
          2.656180424156524,
          1.056511814206193,
          2.0125862955183345,
          2.112437459665962
         ],
         "yaxis": "y"
        },
        {
         "error_y": {
          "array": [
           2.0020316534566254,
           1.4136833773322144,
           1.4912451785403036,
           1.373174630020677,
           1.6127054205434153,
           2.2973983708452432,
           1.7559466170106808,
           1.5057000379965786,
           1.4142342836640973
          ]
         },
         "hovertemplate": "difficulty=1<br>config=%{x}<br>improvement (%) mean=%{y}<extra></extra>",
         "legendgroup": "",
         "marker": {
          "color": "#636efa",
          "symbol": "circle"
         },
         "mode": "markers",
         "name": "",
         "orientation": "v",
         "showlegend": false,
         "type": "scatter",
         "x": [
          "2_16",
          "2_32",
          "2_8",
          "3_16",
          "3_32",
          "3_8",
          "4_16",
          "4_32",
          "4_8"
         ],
         "xaxis": "x2",
         "y": [
          3.193996220786265,
          2.3203506702287746,
          0.08666584859286515,
          0.15051907821246666,
          1.7015978394359075,
          5.128714184301566,
          1.6086568063485247,
          2.563507969127888,
          2.90390872192271
         ],
         "yaxis": "y2"
        }
       ],
       "layout": {
        "annotations": [
         {
          "font": {},
          "showarrow": false,
          "text": "difficulty=0",
          "x": 0.245,
          "xanchor": "center",
          "xref": "paper",
          "y": 1,
          "yanchor": "bottom",
          "yref": "paper"
         },
         {
          "font": {},
          "showarrow": false,
          "text": "difficulty=1",
          "x": 0.755,
          "xanchor": "center",
          "xref": "paper",
          "y": 1,
          "yanchor": "bottom",
          "yref": "paper"
         }
        ],
        "legend": {
         "tracegroupgap": 0
        },
        "margin": {
         "t": 60
        },
        "template": {
         "data": {
          "bar": [
           {
            "error_x": {
             "color": "#2a3f5f"
            },
            "error_y": {
             "color": "#2a3f5f"
            },
            "marker": {
             "line": {
              "color": "#E5ECF6",
              "width": 0.5
             },
             "pattern": {
              "fillmode": "overlay",
              "size": 10,
              "solidity": 0.2
             }
            },
            "type": "bar"
           }
          ],
          "barpolar": [
           {
            "marker": {
             "line": {
              "color": "#E5ECF6",
              "width": 0.5
             },
             "pattern": {
              "fillmode": "overlay",
              "size": 10,
              "solidity": 0.2
             }
            },
            "type": "barpolar"
           }
          ],
          "carpet": [
           {
            "aaxis": {
             "endlinecolor": "#2a3f5f",
             "gridcolor": "white",
             "linecolor": "white",
             "minorgridcolor": "white",
             "startlinecolor": "#2a3f5f"
            },
            "baxis": {
             "endlinecolor": "#2a3f5f",
             "gridcolor": "white",
             "linecolor": "white",
             "minorgridcolor": "white",
             "startlinecolor": "#2a3f5f"
            },
            "type": "carpet"
           }
          ],
          "choropleth": [
           {
            "colorbar": {
             "outlinewidth": 0,
             "ticks": ""
            },
            "type": "choropleth"
           }
          ],
          "contour": [
           {
            "colorbar": {
             "outlinewidth": 0,
             "ticks": ""
            },
            "colorscale": [
             [
              0,
              "#0d0887"
             ],
             [
              0.1111111111111111,
              "#46039f"
             ],
             [
              0.2222222222222222,
              "#7201a8"
             ],
             [
              0.3333333333333333,
              "#9c179e"
             ],
             [
              0.4444444444444444,
              "#bd3786"
             ],
             [
              0.5555555555555556,
              "#d8576b"
             ],
             [
              0.6666666666666666,
              "#ed7953"
             ],
             [
              0.7777777777777778,
              "#fb9f3a"
             ],
             [
              0.8888888888888888,
              "#fdca26"
             ],
             [
              1,
              "#f0f921"
             ]
            ],
            "type": "contour"
           }
          ],
          "contourcarpet": [
           {
            "colorbar": {
             "outlinewidth": 0,
             "ticks": ""
            },
            "type": "contourcarpet"
           }
          ],
          "heatmap": [
           {
            "colorbar": {
             "outlinewidth": 0,
             "ticks": ""
            },
            "colorscale": [
             [
              0,
              "#0d0887"
             ],
             [
              0.1111111111111111,
              "#46039f"
             ],
             [
              0.2222222222222222,
              "#7201a8"
             ],
             [
              0.3333333333333333,
              "#9c179e"
             ],
             [
              0.4444444444444444,
              "#bd3786"
             ],
             [
              0.5555555555555556,
              "#d8576b"
             ],
             [
              0.6666666666666666,
              "#ed7953"
             ],
             [
              0.7777777777777778,
              "#fb9f3a"
             ],
             [
              0.8888888888888888,
              "#fdca26"
             ],
             [
              1,
              "#f0f921"
             ]
            ],
            "type": "heatmap"
           }
          ],
          "heatmapgl": [
           {
            "colorbar": {
             "outlinewidth": 0,
             "ticks": ""
            },
            "colorscale": [
             [
              0,
              "#0d0887"
             ],
             [
              0.1111111111111111,
              "#46039f"
             ],
             [
              0.2222222222222222,
              "#7201a8"
             ],
             [
              0.3333333333333333,
              "#9c179e"
             ],
             [
              0.4444444444444444,
              "#bd3786"
             ],
             [
              0.5555555555555556,
              "#d8576b"
             ],
             [
              0.6666666666666666,
              "#ed7953"
             ],
             [
              0.7777777777777778,
              "#fb9f3a"
             ],
             [
              0.8888888888888888,
              "#fdca26"
             ],
             [
              1,
              "#f0f921"
             ]
            ],
            "type": "heatmapgl"
           }
          ],
          "histogram": [
           {
            "marker": {
             "pattern": {
              "fillmode": "overlay",
              "size": 10,
              "solidity": 0.2
             }
            },
            "type": "histogram"
           }
          ],
          "histogram2d": [
           {
            "colorbar": {
             "outlinewidth": 0,
             "ticks": ""
            },
            "colorscale": [
             [
              0,
              "#0d0887"
             ],
             [
              0.1111111111111111,
              "#46039f"
             ],
             [
              0.2222222222222222,
              "#7201a8"
             ],
             [
              0.3333333333333333,
              "#9c179e"
             ],
             [
              0.4444444444444444,
              "#bd3786"
             ],
             [
              0.5555555555555556,
              "#d8576b"
             ],
             [
              0.6666666666666666,
              "#ed7953"
             ],
             [
              0.7777777777777778,
              "#fb9f3a"
             ],
             [
              0.8888888888888888,
              "#fdca26"
             ],
             [
              1,
              "#f0f921"
             ]
            ],
            "type": "histogram2d"
           }
          ],
          "histogram2dcontour": [
           {
            "colorbar": {
             "outlinewidth": 0,
             "ticks": ""
            },
            "colorscale": [
             [
              0,
              "#0d0887"
             ],
             [
              0.1111111111111111,
              "#46039f"
             ],
             [
              0.2222222222222222,
              "#7201a8"
             ],
             [
              0.3333333333333333,
              "#9c179e"
             ],
             [
              0.4444444444444444,
              "#bd3786"
             ],
             [
              0.5555555555555556,
              "#d8576b"
             ],
             [
              0.6666666666666666,
              "#ed7953"
             ],
             [
              0.7777777777777778,
              "#fb9f3a"
             ],
             [
              0.8888888888888888,
              "#fdca26"
             ],
             [
              1,
              "#f0f921"
             ]
            ],
            "type": "histogram2dcontour"
           }
          ],
          "mesh3d": [
           {
            "colorbar": {
             "outlinewidth": 0,
             "ticks": ""
            },
            "type": "mesh3d"
           }
          ],
          "parcoords": [
           {
            "line": {
             "colorbar": {
              "outlinewidth": 0,
              "ticks": ""
             }
            },
            "type": "parcoords"
           }
          ],
          "pie": [
           {
            "automargin": true,
            "type": "pie"
           }
          ],
          "scatter": [
           {
            "fillpattern": {
             "fillmode": "overlay",
             "size": 10,
             "solidity": 0.2
            },
            "type": "scatter"
           }
          ],
          "scatter3d": [
           {
            "line": {
             "colorbar": {
              "outlinewidth": 0,
              "ticks": ""
             }
            },
            "marker": {
             "colorbar": {
              "outlinewidth": 0,
              "ticks": ""
             }
            },
            "type": "scatter3d"
           }
          ],
          "scattercarpet": [
           {
            "marker": {
             "colorbar": {
              "outlinewidth": 0,
              "ticks": ""
             }
            },
            "type": "scattercarpet"
           }
          ],
          "scattergeo": [
           {
            "marker": {
             "colorbar": {
              "outlinewidth": 0,
              "ticks": ""
             }
            },
            "type": "scattergeo"
           }
          ],
          "scattergl": [
           {
            "marker": {
             "colorbar": {
              "outlinewidth": 0,
              "ticks": ""
             }
            },
            "type": "scattergl"
           }
          ],
          "scattermapbox": [
           {
            "marker": {
             "colorbar": {
              "outlinewidth": 0,
              "ticks": ""
             }
            },
            "type": "scattermapbox"
           }
          ],
          "scatterpolar": [
           {
            "marker": {
             "colorbar": {
              "outlinewidth": 0,
              "ticks": ""
             }
            },
            "type": "scatterpolar"
           }
          ],
          "scatterpolargl": [
           {
            "marker": {
             "colorbar": {
              "outlinewidth": 0,
              "ticks": ""
             }
            },
            "type": "scatterpolargl"
           }
          ],
          "scatterternary": [
           {
            "marker": {
             "colorbar": {
              "outlinewidth": 0,
              "ticks": ""
             }
            },
            "type": "scatterternary"
           }
          ],
          "surface": [
           {
            "colorbar": {
             "outlinewidth": 0,
             "ticks": ""
            },
            "colorscale": [
             [
              0,
              "#0d0887"
             ],
             [
              0.1111111111111111,
              "#46039f"
             ],
             [
              0.2222222222222222,
              "#7201a8"
             ],
             [
              0.3333333333333333,
              "#9c179e"
             ],
             [
              0.4444444444444444,
              "#bd3786"
             ],
             [
              0.5555555555555556,
              "#d8576b"
             ],
             [
              0.6666666666666666,
              "#ed7953"
             ],
             [
              0.7777777777777778,
              "#fb9f3a"
             ],
             [
              0.8888888888888888,
              "#fdca26"
             ],
             [
              1,
              "#f0f921"
             ]
            ],
            "type": "surface"
           }
          ],
          "table": [
           {
            "cells": {
             "fill": {
              "color": "#EBF0F8"
             },
             "line": {
              "color": "white"
             }
            },
            "header": {
             "fill": {
              "color": "#C8D4E3"
             },
             "line": {
              "color": "white"
             }
            },
            "type": "table"
           }
          ]
         },
         "layout": {
          "annotationdefaults": {
           "arrowcolor": "#2a3f5f",
           "arrowhead": 0,
           "arrowwidth": 1
          },
          "autotypenumbers": "strict",
          "coloraxis": {
           "colorbar": {
            "outlinewidth": 0,
            "ticks": ""
           }
          },
          "colorscale": {
           "diverging": [
            [
             0,
             "#8e0152"
            ],
            [
             0.1,
             "#c51b7d"
            ],
            [
             0.2,
             "#de77ae"
            ],
            [
             0.3,
             "#f1b6da"
            ],
            [
             0.4,
             "#fde0ef"
            ],
            [
             0.5,
             "#f7f7f7"
            ],
            [
             0.6,
             "#e6f5d0"
            ],
            [
             0.7,
             "#b8e186"
            ],
            [
             0.8,
             "#7fbc41"
            ],
            [
             0.9,
             "#4d9221"
            ],
            [
             1,
             "#276419"
            ]
           ],
           "sequential": [
            [
             0,
             "#0d0887"
            ],
            [
             0.1111111111111111,
             "#46039f"
            ],
            [
             0.2222222222222222,
             "#7201a8"
            ],
            [
             0.3333333333333333,
             "#9c179e"
            ],
            [
             0.4444444444444444,
             "#bd3786"
            ],
            [
             0.5555555555555556,
             "#d8576b"
            ],
            [
             0.6666666666666666,
             "#ed7953"
            ],
            [
             0.7777777777777778,
             "#fb9f3a"
            ],
            [
             0.8888888888888888,
             "#fdca26"
            ],
            [
             1,
             "#f0f921"
            ]
           ],
           "sequentialminus": [
            [
             0,
             "#0d0887"
            ],
            [
             0.1111111111111111,
             "#46039f"
            ],
            [
             0.2222222222222222,
             "#7201a8"
            ],
            [
             0.3333333333333333,
             "#9c179e"
            ],
            [
             0.4444444444444444,
             "#bd3786"
            ],
            [
             0.5555555555555556,
             "#d8576b"
            ],
            [
             0.6666666666666666,
             "#ed7953"
            ],
            [
             0.7777777777777778,
             "#fb9f3a"
            ],
            [
             0.8888888888888888,
             "#fdca26"
            ],
            [
             1,
             "#f0f921"
            ]
           ]
          },
          "colorway": [
           "#636efa",
           "#EF553B",
           "#00cc96",
           "#ab63fa",
           "#FFA15A",
           "#19d3f3",
           "#FF6692",
           "#B6E880",
           "#FF97FF",
           "#FECB52"
          ],
          "font": {
           "color": "#2a3f5f"
          },
          "geo": {
           "bgcolor": "white",
           "lakecolor": "white",
           "landcolor": "#E5ECF6",
           "showlakes": true,
           "showland": true,
           "subunitcolor": "white"
          },
          "hoverlabel": {
           "align": "left"
          },
          "hovermode": "closest",
          "mapbox": {
           "style": "light"
          },
          "paper_bgcolor": "white",
          "plot_bgcolor": "#E5ECF6",
          "polar": {
           "angularaxis": {
            "gridcolor": "white",
            "linecolor": "white",
            "ticks": ""
           },
           "bgcolor": "#E5ECF6",
           "radialaxis": {
            "gridcolor": "white",
            "linecolor": "white",
            "ticks": ""
           }
          },
          "scene": {
           "xaxis": {
            "backgroundcolor": "#E5ECF6",
            "gridcolor": "white",
            "gridwidth": 2,
            "linecolor": "white",
            "showbackground": true,
            "ticks": "",
            "zerolinecolor": "white"
           },
           "yaxis": {
            "backgroundcolor": "#E5ECF6",
            "gridcolor": "white",
            "gridwidth": 2,
            "linecolor": "white",
            "showbackground": true,
            "ticks": "",
            "zerolinecolor": "white"
           },
           "zaxis": {
            "backgroundcolor": "#E5ECF6",
            "gridcolor": "white",
            "gridwidth": 2,
            "linecolor": "white",
            "showbackground": true,
            "ticks": "",
            "zerolinecolor": "white"
           }
          },
          "shapedefaults": {
           "line": {
            "color": "#2a3f5f"
           }
          },
          "ternary": {
           "aaxis": {
            "gridcolor": "white",
            "linecolor": "white",
            "ticks": ""
           },
           "baxis": {
            "gridcolor": "white",
            "linecolor": "white",
            "ticks": ""
           },
           "bgcolor": "#E5ECF6",
           "caxis": {
            "gridcolor": "white",
            "linecolor": "white",
            "ticks": ""
           }
          },
          "title": {
           "x": 0.05
          },
          "xaxis": {
           "automargin": true,
           "gridcolor": "white",
           "linecolor": "white",
           "ticks": "",
           "title": {
            "standoff": 15
           },
           "zerolinecolor": "white",
           "zerolinewidth": 2
          },
          "yaxis": {
           "automargin": true,
           "gridcolor": "white",
           "linecolor": "white",
           "ticks": "",
           "title": {
            "standoff": 15
           },
           "zerolinecolor": "white",
           "zerolinewidth": 2
          }
         }
        },
        "xaxis": {
         "anchor": "y",
         "domain": [
          0,
          0.49
         ],
         "title": {
          "text": "config"
         }
        },
        "xaxis2": {
         "anchor": "y2",
         "domain": [
          0.51,
          1
         ],
         "matches": "x",
         "title": {
          "text": "config"
         }
        },
        "yaxis": {
         "anchor": "x",
         "domain": [
          0,
          1
         ],
         "range": [
          -100,
          100
         ],
         "title": {
          "text": "improvement (%) mean"
         }
        },
        "yaxis2": {
         "anchor": "x2",
         "domain": [
          0,
          1
         ],
         "matches": "y",
         "range": [
          -100,
          100
         ],
         "showticklabels": false
        }
       }
      }
     },
     "metadata": {},
     "output_type": "display_data"
    },
    {
     "name": "stdout",
     "output_type": "stream",
     "text": [
      "ferry\n"
     ]
    },
    {
     "data": {
      "application/vnd.plotly.v1+json": {
       "config": {
        "plotlyServerURL": "https://plot.ly"
       },
       "data": [
        {
         "error_y": {
          "array": [
           1.9052935690747443,
           1.673967762387219,
           1.8833550335371831,
           1.8103338427979345,
           1.6907485461068663,
           1.8826088157323364,
           1.8685290777118324,
           1.889709803569177,
           1.7971866000198784
          ]
         },
         "hovertemplate": "difficulty=0<br>config=%{x}<br>improvement (%) mean=%{y}<extra></extra>",
         "legendgroup": "",
         "marker": {
          "color": "#636efa",
          "symbol": "circle"
         },
         "mode": "markers",
         "name": "",
         "orientation": "v",
         "showlegend": false,
         "type": "scatter",
         "x": [
          "2_16",
          "2_32",
          "2_8",
          "3_16",
          "3_32",
          "3_8",
          "4_16",
          "4_32",
          "4_8"
         ],
         "xaxis": "x",
         "y": [
          2.7108865799021045,
          2.344623801566325,
          2.8077028353109372,
          2.642535491542925,
          1.453882659475812,
          2.6723553284552515,
          2.736347661511824,
          1.9626993764939606,
          2.4382971408135123
         ],
         "yaxis": "y"
        },
        {
         "error_y": {
          "array": [
           0.9289455919092362,
           0.9359270640482277,
           0.9262821080445414,
           0.9064780022075406,
           1.0481368480462132,
           0.9227779875366,
           0.8919341905747695,
           0.8935733156740495,
           0.9440670207886559
          ]
         },
         "hovertemplate": "difficulty=1<br>config=%{x}<br>improvement (%) mean=%{y}<extra></extra>",
         "legendgroup": "",
         "marker": {
          "color": "#636efa",
          "symbol": "circle"
         },
         "mode": "markers",
         "name": "",
         "orientation": "v",
         "showlegend": false,
         "type": "scatter",
         "x": [
          "2_16",
          "2_32",
          "2_8",
          "3_16",
          "3_32",
          "3_8",
          "4_16",
          "4_32",
          "4_8"
         ],
         "xaxis": "x2",
         "y": [
          3.47482210934726,
          2.8611606712460183,
          3.555852700197256,
          3.1034485712473345,
          1.8796717991901404,
          3.348805725401405,
          3.356875078680812,
          2.7832870750886176,
          3.110112026867574
         ],
         "yaxis": "y2"
        }
       ],
       "layout": {
        "annotations": [
         {
          "font": {},
          "showarrow": false,
          "text": "difficulty=0",
          "x": 0.245,
          "xanchor": "center",
          "xref": "paper",
          "y": 1,
          "yanchor": "bottom",
          "yref": "paper"
         },
         {
          "font": {},
          "showarrow": false,
          "text": "difficulty=1",
          "x": 0.755,
          "xanchor": "center",
          "xref": "paper",
          "y": 1,
          "yanchor": "bottom",
          "yref": "paper"
         }
        ],
        "legend": {
         "tracegroupgap": 0
        },
        "margin": {
         "t": 60
        },
        "template": {
         "data": {
          "bar": [
           {
            "error_x": {
             "color": "#2a3f5f"
            },
            "error_y": {
             "color": "#2a3f5f"
            },
            "marker": {
             "line": {
              "color": "#E5ECF6",
              "width": 0.5
             },
             "pattern": {
              "fillmode": "overlay",
              "size": 10,
              "solidity": 0.2
             }
            },
            "type": "bar"
           }
          ],
          "barpolar": [
           {
            "marker": {
             "line": {
              "color": "#E5ECF6",
              "width": 0.5
             },
             "pattern": {
              "fillmode": "overlay",
              "size": 10,
              "solidity": 0.2
             }
            },
            "type": "barpolar"
           }
          ],
          "carpet": [
           {
            "aaxis": {
             "endlinecolor": "#2a3f5f",
             "gridcolor": "white",
             "linecolor": "white",
             "minorgridcolor": "white",
             "startlinecolor": "#2a3f5f"
            },
            "baxis": {
             "endlinecolor": "#2a3f5f",
             "gridcolor": "white",
             "linecolor": "white",
             "minorgridcolor": "white",
             "startlinecolor": "#2a3f5f"
            },
            "type": "carpet"
           }
          ],
          "choropleth": [
           {
            "colorbar": {
             "outlinewidth": 0,
             "ticks": ""
            },
            "type": "choropleth"
           }
          ],
          "contour": [
           {
            "colorbar": {
             "outlinewidth": 0,
             "ticks": ""
            },
            "colorscale": [
             [
              0,
              "#0d0887"
             ],
             [
              0.1111111111111111,
              "#46039f"
             ],
             [
              0.2222222222222222,
              "#7201a8"
             ],
             [
              0.3333333333333333,
              "#9c179e"
             ],
             [
              0.4444444444444444,
              "#bd3786"
             ],
             [
              0.5555555555555556,
              "#d8576b"
             ],
             [
              0.6666666666666666,
              "#ed7953"
             ],
             [
              0.7777777777777778,
              "#fb9f3a"
             ],
             [
              0.8888888888888888,
              "#fdca26"
             ],
             [
              1,
              "#f0f921"
             ]
            ],
            "type": "contour"
           }
          ],
          "contourcarpet": [
           {
            "colorbar": {
             "outlinewidth": 0,
             "ticks": ""
            },
            "type": "contourcarpet"
           }
          ],
          "heatmap": [
           {
            "colorbar": {
             "outlinewidth": 0,
             "ticks": ""
            },
            "colorscale": [
             [
              0,
              "#0d0887"
             ],
             [
              0.1111111111111111,
              "#46039f"
             ],
             [
              0.2222222222222222,
              "#7201a8"
             ],
             [
              0.3333333333333333,
              "#9c179e"
             ],
             [
              0.4444444444444444,
              "#bd3786"
             ],
             [
              0.5555555555555556,
              "#d8576b"
             ],
             [
              0.6666666666666666,
              "#ed7953"
             ],
             [
              0.7777777777777778,
              "#fb9f3a"
             ],
             [
              0.8888888888888888,
              "#fdca26"
             ],
             [
              1,
              "#f0f921"
             ]
            ],
            "type": "heatmap"
           }
          ],
          "heatmapgl": [
           {
            "colorbar": {
             "outlinewidth": 0,
             "ticks": ""
            },
            "colorscale": [
             [
              0,
              "#0d0887"
             ],
             [
              0.1111111111111111,
              "#46039f"
             ],
             [
              0.2222222222222222,
              "#7201a8"
             ],
             [
              0.3333333333333333,
              "#9c179e"
             ],
             [
              0.4444444444444444,
              "#bd3786"
             ],
             [
              0.5555555555555556,
              "#d8576b"
             ],
             [
              0.6666666666666666,
              "#ed7953"
             ],
             [
              0.7777777777777778,
              "#fb9f3a"
             ],
             [
              0.8888888888888888,
              "#fdca26"
             ],
             [
              1,
              "#f0f921"
             ]
            ],
            "type": "heatmapgl"
           }
          ],
          "histogram": [
           {
            "marker": {
             "pattern": {
              "fillmode": "overlay",
              "size": 10,
              "solidity": 0.2
             }
            },
            "type": "histogram"
           }
          ],
          "histogram2d": [
           {
            "colorbar": {
             "outlinewidth": 0,
             "ticks": ""
            },
            "colorscale": [
             [
              0,
              "#0d0887"
             ],
             [
              0.1111111111111111,
              "#46039f"
             ],
             [
              0.2222222222222222,
              "#7201a8"
             ],
             [
              0.3333333333333333,
              "#9c179e"
             ],
             [
              0.4444444444444444,
              "#bd3786"
             ],
             [
              0.5555555555555556,
              "#d8576b"
             ],
             [
              0.6666666666666666,
              "#ed7953"
             ],
             [
              0.7777777777777778,
              "#fb9f3a"
             ],
             [
              0.8888888888888888,
              "#fdca26"
             ],
             [
              1,
              "#f0f921"
             ]
            ],
            "type": "histogram2d"
           }
          ],
          "histogram2dcontour": [
           {
            "colorbar": {
             "outlinewidth": 0,
             "ticks": ""
            },
            "colorscale": [
             [
              0,
              "#0d0887"
             ],
             [
              0.1111111111111111,
              "#46039f"
             ],
             [
              0.2222222222222222,
              "#7201a8"
             ],
             [
              0.3333333333333333,
              "#9c179e"
             ],
             [
              0.4444444444444444,
              "#bd3786"
             ],
             [
              0.5555555555555556,
              "#d8576b"
             ],
             [
              0.6666666666666666,
              "#ed7953"
             ],
             [
              0.7777777777777778,
              "#fb9f3a"
             ],
             [
              0.8888888888888888,
              "#fdca26"
             ],
             [
              1,
              "#f0f921"
             ]
            ],
            "type": "histogram2dcontour"
           }
          ],
          "mesh3d": [
           {
            "colorbar": {
             "outlinewidth": 0,
             "ticks": ""
            },
            "type": "mesh3d"
           }
          ],
          "parcoords": [
           {
            "line": {
             "colorbar": {
              "outlinewidth": 0,
              "ticks": ""
             }
            },
            "type": "parcoords"
           }
          ],
          "pie": [
           {
            "automargin": true,
            "type": "pie"
           }
          ],
          "scatter": [
           {
            "fillpattern": {
             "fillmode": "overlay",
             "size": 10,
             "solidity": 0.2
            },
            "type": "scatter"
           }
          ],
          "scatter3d": [
           {
            "line": {
             "colorbar": {
              "outlinewidth": 0,
              "ticks": ""
             }
            },
            "marker": {
             "colorbar": {
              "outlinewidth": 0,
              "ticks": ""
             }
            },
            "type": "scatter3d"
           }
          ],
          "scattercarpet": [
           {
            "marker": {
             "colorbar": {
              "outlinewidth": 0,
              "ticks": ""
             }
            },
            "type": "scattercarpet"
           }
          ],
          "scattergeo": [
           {
            "marker": {
             "colorbar": {
              "outlinewidth": 0,
              "ticks": ""
             }
            },
            "type": "scattergeo"
           }
          ],
          "scattergl": [
           {
            "marker": {
             "colorbar": {
              "outlinewidth": 0,
              "ticks": ""
             }
            },
            "type": "scattergl"
           }
          ],
          "scattermapbox": [
           {
            "marker": {
             "colorbar": {
              "outlinewidth": 0,
              "ticks": ""
             }
            },
            "type": "scattermapbox"
           }
          ],
          "scatterpolar": [
           {
            "marker": {
             "colorbar": {
              "outlinewidth": 0,
              "ticks": ""
             }
            },
            "type": "scatterpolar"
           }
          ],
          "scatterpolargl": [
           {
            "marker": {
             "colorbar": {
              "outlinewidth": 0,
              "ticks": ""
             }
            },
            "type": "scatterpolargl"
           }
          ],
          "scatterternary": [
           {
            "marker": {
             "colorbar": {
              "outlinewidth": 0,
              "ticks": ""
             }
            },
            "type": "scatterternary"
           }
          ],
          "surface": [
           {
            "colorbar": {
             "outlinewidth": 0,
             "ticks": ""
            },
            "colorscale": [
             [
              0,
              "#0d0887"
             ],
             [
              0.1111111111111111,
              "#46039f"
             ],
             [
              0.2222222222222222,
              "#7201a8"
             ],
             [
              0.3333333333333333,
              "#9c179e"
             ],
             [
              0.4444444444444444,
              "#bd3786"
             ],
             [
              0.5555555555555556,
              "#d8576b"
             ],
             [
              0.6666666666666666,
              "#ed7953"
             ],
             [
              0.7777777777777778,
              "#fb9f3a"
             ],
             [
              0.8888888888888888,
              "#fdca26"
             ],
             [
              1,
              "#f0f921"
             ]
            ],
            "type": "surface"
           }
          ],
          "table": [
           {
            "cells": {
             "fill": {
              "color": "#EBF0F8"
             },
             "line": {
              "color": "white"
             }
            },
            "header": {
             "fill": {
              "color": "#C8D4E3"
             },
             "line": {
              "color": "white"
             }
            },
            "type": "table"
           }
          ]
         },
         "layout": {
          "annotationdefaults": {
           "arrowcolor": "#2a3f5f",
           "arrowhead": 0,
           "arrowwidth": 1
          },
          "autotypenumbers": "strict",
          "coloraxis": {
           "colorbar": {
            "outlinewidth": 0,
            "ticks": ""
           }
          },
          "colorscale": {
           "diverging": [
            [
             0,
             "#8e0152"
            ],
            [
             0.1,
             "#c51b7d"
            ],
            [
             0.2,
             "#de77ae"
            ],
            [
             0.3,
             "#f1b6da"
            ],
            [
             0.4,
             "#fde0ef"
            ],
            [
             0.5,
             "#f7f7f7"
            ],
            [
             0.6,
             "#e6f5d0"
            ],
            [
             0.7,
             "#b8e186"
            ],
            [
             0.8,
             "#7fbc41"
            ],
            [
             0.9,
             "#4d9221"
            ],
            [
             1,
             "#276419"
            ]
           ],
           "sequential": [
            [
             0,
             "#0d0887"
            ],
            [
             0.1111111111111111,
             "#46039f"
            ],
            [
             0.2222222222222222,
             "#7201a8"
            ],
            [
             0.3333333333333333,
             "#9c179e"
            ],
            [
             0.4444444444444444,
             "#bd3786"
            ],
            [
             0.5555555555555556,
             "#d8576b"
            ],
            [
             0.6666666666666666,
             "#ed7953"
            ],
            [
             0.7777777777777778,
             "#fb9f3a"
            ],
            [
             0.8888888888888888,
             "#fdca26"
            ],
            [
             1,
             "#f0f921"
            ]
           ],
           "sequentialminus": [
            [
             0,
             "#0d0887"
            ],
            [
             0.1111111111111111,
             "#46039f"
            ],
            [
             0.2222222222222222,
             "#7201a8"
            ],
            [
             0.3333333333333333,
             "#9c179e"
            ],
            [
             0.4444444444444444,
             "#bd3786"
            ],
            [
             0.5555555555555556,
             "#d8576b"
            ],
            [
             0.6666666666666666,
             "#ed7953"
            ],
            [
             0.7777777777777778,
             "#fb9f3a"
            ],
            [
             0.8888888888888888,
             "#fdca26"
            ],
            [
             1,
             "#f0f921"
            ]
           ]
          },
          "colorway": [
           "#636efa",
           "#EF553B",
           "#00cc96",
           "#ab63fa",
           "#FFA15A",
           "#19d3f3",
           "#FF6692",
           "#B6E880",
           "#FF97FF",
           "#FECB52"
          ],
          "font": {
           "color": "#2a3f5f"
          },
          "geo": {
           "bgcolor": "white",
           "lakecolor": "white",
           "landcolor": "#E5ECF6",
           "showlakes": true,
           "showland": true,
           "subunitcolor": "white"
          },
          "hoverlabel": {
           "align": "left"
          },
          "hovermode": "closest",
          "mapbox": {
           "style": "light"
          },
          "paper_bgcolor": "white",
          "plot_bgcolor": "#E5ECF6",
          "polar": {
           "angularaxis": {
            "gridcolor": "white",
            "linecolor": "white",
            "ticks": ""
           },
           "bgcolor": "#E5ECF6",
           "radialaxis": {
            "gridcolor": "white",
            "linecolor": "white",
            "ticks": ""
           }
          },
          "scene": {
           "xaxis": {
            "backgroundcolor": "#E5ECF6",
            "gridcolor": "white",
            "gridwidth": 2,
            "linecolor": "white",
            "showbackground": true,
            "ticks": "",
            "zerolinecolor": "white"
           },
           "yaxis": {
            "backgroundcolor": "#E5ECF6",
            "gridcolor": "white",
            "gridwidth": 2,
            "linecolor": "white",
            "showbackground": true,
            "ticks": "",
            "zerolinecolor": "white"
           },
           "zaxis": {
            "backgroundcolor": "#E5ECF6",
            "gridcolor": "white",
            "gridwidth": 2,
            "linecolor": "white",
            "showbackground": true,
            "ticks": "",
            "zerolinecolor": "white"
           }
          },
          "shapedefaults": {
           "line": {
            "color": "#2a3f5f"
           }
          },
          "ternary": {
           "aaxis": {
            "gridcolor": "white",
            "linecolor": "white",
            "ticks": ""
           },
           "baxis": {
            "gridcolor": "white",
            "linecolor": "white",
            "ticks": ""
           },
           "bgcolor": "#E5ECF6",
           "caxis": {
            "gridcolor": "white",
            "linecolor": "white",
            "ticks": ""
           }
          },
          "title": {
           "x": 0.05
          },
          "xaxis": {
           "automargin": true,
           "gridcolor": "white",
           "linecolor": "white",
           "ticks": "",
           "title": {
            "standoff": 15
           },
           "zerolinecolor": "white",
           "zerolinewidth": 2
          },
          "yaxis": {
           "automargin": true,
           "gridcolor": "white",
           "linecolor": "white",
           "ticks": "",
           "title": {
            "standoff": 15
           },
           "zerolinecolor": "white",
           "zerolinewidth": 2
          }
         }
        },
        "xaxis": {
         "anchor": "y",
         "domain": [
          0,
          0.49
         ],
         "title": {
          "text": "config"
         }
        },
        "xaxis2": {
         "anchor": "y2",
         "domain": [
          0.51,
          1
         ],
         "matches": "x",
         "title": {
          "text": "config"
         }
        },
        "yaxis": {
         "anchor": "x",
         "domain": [
          0,
          1
         ],
         "range": [
          -100,
          100
         ],
         "title": {
          "text": "improvement (%) mean"
         }
        },
        "yaxis2": {
         "anchor": "x2",
         "domain": [
          0,
          1
         ],
         "matches": "y",
         "range": [
          -100,
          100
         ],
         "showticklabels": false
        }
       }
      }
     },
     "metadata": {},
     "output_type": "display_data"
    },
    {
     "name": "stdout",
     "output_type": "stream",
     "text": [
      "satellite\n"
     ]
    },
    {
     "data": {
      "application/vnd.plotly.v1+json": {
       "config": {
        "plotlyServerURL": "https://plot.ly"
       },
       "data": [
        {
         "error_y": {
          "array": [
           8.097228940903042,
           10.990568267185743,
           12.209143389446764,
           15.18163015308226,
           11.530444024822858
          ]
         },
         "hovertemplate": "difficulty=0<br>config=%{x}<br>improvement (%) mean=%{y}<extra></extra>",
         "legendgroup": "",
         "marker": {
          "color": "#636efa",
          "symbol": "circle"
         },
         "mode": "markers",
         "name": "",
         "orientation": "v",
         "showlegend": false,
         "type": "scatter",
         "x": [
          "2_16",
          "2_32",
          "2_8",
          "3_16",
          "3_8"
         ],
         "xaxis": "x",
         "y": [
          6.467416849423173,
          12.593798474860538,
          19.597553493772068,
          17.21357720891843,
          11.025138904212422
         ],
         "yaxis": "y"
        },
        {
         "error_y": {
          "array": [
           5.594843569655761,
           5.9044120220809155,
           20.20345457024801,
           19.77936052870341,
           10.548734866153156
          ]
         },
         "hovertemplate": "difficulty=1<br>config=%{x}<br>improvement (%) mean=%{y}<extra></extra>",
         "legendgroup": "",
         "marker": {
          "color": "#636efa",
          "symbol": "circle"
         },
         "mode": "markers",
         "name": "",
         "orientation": "v",
         "showlegend": false,
         "type": "scatter",
         "x": [
          "2_16",
          "2_32",
          "2_8",
          "3_16",
          "3_8"
         ],
         "xaxis": "x2",
         "y": [
          0.03384974016769574,
          0.3119909684455971,
          19.694778508967847,
          11.219223867902759,
          -3.6944295552358892
         ],
         "yaxis": "y2"
        }
       ],
       "layout": {
        "annotations": [
         {
          "font": {},
          "showarrow": false,
          "text": "difficulty=0",
          "x": 0.245,
          "xanchor": "center",
          "xref": "paper",
          "y": 1,
          "yanchor": "bottom",
          "yref": "paper"
         },
         {
          "font": {},
          "showarrow": false,
          "text": "difficulty=1",
          "x": 0.755,
          "xanchor": "center",
          "xref": "paper",
          "y": 1,
          "yanchor": "bottom",
          "yref": "paper"
         }
        ],
        "legend": {
         "tracegroupgap": 0
        },
        "margin": {
         "t": 60
        },
        "template": {
         "data": {
          "bar": [
           {
            "error_x": {
             "color": "#2a3f5f"
            },
            "error_y": {
             "color": "#2a3f5f"
            },
            "marker": {
             "line": {
              "color": "#E5ECF6",
              "width": 0.5
             },
             "pattern": {
              "fillmode": "overlay",
              "size": 10,
              "solidity": 0.2
             }
            },
            "type": "bar"
           }
          ],
          "barpolar": [
           {
            "marker": {
             "line": {
              "color": "#E5ECF6",
              "width": 0.5
             },
             "pattern": {
              "fillmode": "overlay",
              "size": 10,
              "solidity": 0.2
             }
            },
            "type": "barpolar"
           }
          ],
          "carpet": [
           {
            "aaxis": {
             "endlinecolor": "#2a3f5f",
             "gridcolor": "white",
             "linecolor": "white",
             "minorgridcolor": "white",
             "startlinecolor": "#2a3f5f"
            },
            "baxis": {
             "endlinecolor": "#2a3f5f",
             "gridcolor": "white",
             "linecolor": "white",
             "minorgridcolor": "white",
             "startlinecolor": "#2a3f5f"
            },
            "type": "carpet"
           }
          ],
          "choropleth": [
           {
            "colorbar": {
             "outlinewidth": 0,
             "ticks": ""
            },
            "type": "choropleth"
           }
          ],
          "contour": [
           {
            "colorbar": {
             "outlinewidth": 0,
             "ticks": ""
            },
            "colorscale": [
             [
              0,
              "#0d0887"
             ],
             [
              0.1111111111111111,
              "#46039f"
             ],
             [
              0.2222222222222222,
              "#7201a8"
             ],
             [
              0.3333333333333333,
              "#9c179e"
             ],
             [
              0.4444444444444444,
              "#bd3786"
             ],
             [
              0.5555555555555556,
              "#d8576b"
             ],
             [
              0.6666666666666666,
              "#ed7953"
             ],
             [
              0.7777777777777778,
              "#fb9f3a"
             ],
             [
              0.8888888888888888,
              "#fdca26"
             ],
             [
              1,
              "#f0f921"
             ]
            ],
            "type": "contour"
           }
          ],
          "contourcarpet": [
           {
            "colorbar": {
             "outlinewidth": 0,
             "ticks": ""
            },
            "type": "contourcarpet"
           }
          ],
          "heatmap": [
           {
            "colorbar": {
             "outlinewidth": 0,
             "ticks": ""
            },
            "colorscale": [
             [
              0,
              "#0d0887"
             ],
             [
              0.1111111111111111,
              "#46039f"
             ],
             [
              0.2222222222222222,
              "#7201a8"
             ],
             [
              0.3333333333333333,
              "#9c179e"
             ],
             [
              0.4444444444444444,
              "#bd3786"
             ],
             [
              0.5555555555555556,
              "#d8576b"
             ],
             [
              0.6666666666666666,
              "#ed7953"
             ],
             [
              0.7777777777777778,
              "#fb9f3a"
             ],
             [
              0.8888888888888888,
              "#fdca26"
             ],
             [
              1,
              "#f0f921"
             ]
            ],
            "type": "heatmap"
           }
          ],
          "heatmapgl": [
           {
            "colorbar": {
             "outlinewidth": 0,
             "ticks": ""
            },
            "colorscale": [
             [
              0,
              "#0d0887"
             ],
             [
              0.1111111111111111,
              "#46039f"
             ],
             [
              0.2222222222222222,
              "#7201a8"
             ],
             [
              0.3333333333333333,
              "#9c179e"
             ],
             [
              0.4444444444444444,
              "#bd3786"
             ],
             [
              0.5555555555555556,
              "#d8576b"
             ],
             [
              0.6666666666666666,
              "#ed7953"
             ],
             [
              0.7777777777777778,
              "#fb9f3a"
             ],
             [
              0.8888888888888888,
              "#fdca26"
             ],
             [
              1,
              "#f0f921"
             ]
            ],
            "type": "heatmapgl"
           }
          ],
          "histogram": [
           {
            "marker": {
             "pattern": {
              "fillmode": "overlay",
              "size": 10,
              "solidity": 0.2
             }
            },
            "type": "histogram"
           }
          ],
          "histogram2d": [
           {
            "colorbar": {
             "outlinewidth": 0,
             "ticks": ""
            },
            "colorscale": [
             [
              0,
              "#0d0887"
             ],
             [
              0.1111111111111111,
              "#46039f"
             ],
             [
              0.2222222222222222,
              "#7201a8"
             ],
             [
              0.3333333333333333,
              "#9c179e"
             ],
             [
              0.4444444444444444,
              "#bd3786"
             ],
             [
              0.5555555555555556,
              "#d8576b"
             ],
             [
              0.6666666666666666,
              "#ed7953"
             ],
             [
              0.7777777777777778,
              "#fb9f3a"
             ],
             [
              0.8888888888888888,
              "#fdca26"
             ],
             [
              1,
              "#f0f921"
             ]
            ],
            "type": "histogram2d"
           }
          ],
          "histogram2dcontour": [
           {
            "colorbar": {
             "outlinewidth": 0,
             "ticks": ""
            },
            "colorscale": [
             [
              0,
              "#0d0887"
             ],
             [
              0.1111111111111111,
              "#46039f"
             ],
             [
              0.2222222222222222,
              "#7201a8"
             ],
             [
              0.3333333333333333,
              "#9c179e"
             ],
             [
              0.4444444444444444,
              "#bd3786"
             ],
             [
              0.5555555555555556,
              "#d8576b"
             ],
             [
              0.6666666666666666,
              "#ed7953"
             ],
             [
              0.7777777777777778,
              "#fb9f3a"
             ],
             [
              0.8888888888888888,
              "#fdca26"
             ],
             [
              1,
              "#f0f921"
             ]
            ],
            "type": "histogram2dcontour"
           }
          ],
          "mesh3d": [
           {
            "colorbar": {
             "outlinewidth": 0,
             "ticks": ""
            },
            "type": "mesh3d"
           }
          ],
          "parcoords": [
           {
            "line": {
             "colorbar": {
              "outlinewidth": 0,
              "ticks": ""
             }
            },
            "type": "parcoords"
           }
          ],
          "pie": [
           {
            "automargin": true,
            "type": "pie"
           }
          ],
          "scatter": [
           {
            "fillpattern": {
             "fillmode": "overlay",
             "size": 10,
             "solidity": 0.2
            },
            "type": "scatter"
           }
          ],
          "scatter3d": [
           {
            "line": {
             "colorbar": {
              "outlinewidth": 0,
              "ticks": ""
             }
            },
            "marker": {
             "colorbar": {
              "outlinewidth": 0,
              "ticks": ""
             }
            },
            "type": "scatter3d"
           }
          ],
          "scattercarpet": [
           {
            "marker": {
             "colorbar": {
              "outlinewidth": 0,
              "ticks": ""
             }
            },
            "type": "scattercarpet"
           }
          ],
          "scattergeo": [
           {
            "marker": {
             "colorbar": {
              "outlinewidth": 0,
              "ticks": ""
             }
            },
            "type": "scattergeo"
           }
          ],
          "scattergl": [
           {
            "marker": {
             "colorbar": {
              "outlinewidth": 0,
              "ticks": ""
             }
            },
            "type": "scattergl"
           }
          ],
          "scattermapbox": [
           {
            "marker": {
             "colorbar": {
              "outlinewidth": 0,
              "ticks": ""
             }
            },
            "type": "scattermapbox"
           }
          ],
          "scatterpolar": [
           {
            "marker": {
             "colorbar": {
              "outlinewidth": 0,
              "ticks": ""
             }
            },
            "type": "scatterpolar"
           }
          ],
          "scatterpolargl": [
           {
            "marker": {
             "colorbar": {
              "outlinewidth": 0,
              "ticks": ""
             }
            },
            "type": "scatterpolargl"
           }
          ],
          "scatterternary": [
           {
            "marker": {
             "colorbar": {
              "outlinewidth": 0,
              "ticks": ""
             }
            },
            "type": "scatterternary"
           }
          ],
          "surface": [
           {
            "colorbar": {
             "outlinewidth": 0,
             "ticks": ""
            },
            "colorscale": [
             [
              0,
              "#0d0887"
             ],
             [
              0.1111111111111111,
              "#46039f"
             ],
             [
              0.2222222222222222,
              "#7201a8"
             ],
             [
              0.3333333333333333,
              "#9c179e"
             ],
             [
              0.4444444444444444,
              "#bd3786"
             ],
             [
              0.5555555555555556,
              "#d8576b"
             ],
             [
              0.6666666666666666,
              "#ed7953"
             ],
             [
              0.7777777777777778,
              "#fb9f3a"
             ],
             [
              0.8888888888888888,
              "#fdca26"
             ],
             [
              1,
              "#f0f921"
             ]
            ],
            "type": "surface"
           }
          ],
          "table": [
           {
            "cells": {
             "fill": {
              "color": "#EBF0F8"
             },
             "line": {
              "color": "white"
             }
            },
            "header": {
             "fill": {
              "color": "#C8D4E3"
             },
             "line": {
              "color": "white"
             }
            },
            "type": "table"
           }
          ]
         },
         "layout": {
          "annotationdefaults": {
           "arrowcolor": "#2a3f5f",
           "arrowhead": 0,
           "arrowwidth": 1
          },
          "autotypenumbers": "strict",
          "coloraxis": {
           "colorbar": {
            "outlinewidth": 0,
            "ticks": ""
           }
          },
          "colorscale": {
           "diverging": [
            [
             0,
             "#8e0152"
            ],
            [
             0.1,
             "#c51b7d"
            ],
            [
             0.2,
             "#de77ae"
            ],
            [
             0.3,
             "#f1b6da"
            ],
            [
             0.4,
             "#fde0ef"
            ],
            [
             0.5,
             "#f7f7f7"
            ],
            [
             0.6,
             "#e6f5d0"
            ],
            [
             0.7,
             "#b8e186"
            ],
            [
             0.8,
             "#7fbc41"
            ],
            [
             0.9,
             "#4d9221"
            ],
            [
             1,
             "#276419"
            ]
           ],
           "sequential": [
            [
             0,
             "#0d0887"
            ],
            [
             0.1111111111111111,
             "#46039f"
            ],
            [
             0.2222222222222222,
             "#7201a8"
            ],
            [
             0.3333333333333333,
             "#9c179e"
            ],
            [
             0.4444444444444444,
             "#bd3786"
            ],
            [
             0.5555555555555556,
             "#d8576b"
            ],
            [
             0.6666666666666666,
             "#ed7953"
            ],
            [
             0.7777777777777778,
             "#fb9f3a"
            ],
            [
             0.8888888888888888,
             "#fdca26"
            ],
            [
             1,
             "#f0f921"
            ]
           ],
           "sequentialminus": [
            [
             0,
             "#0d0887"
            ],
            [
             0.1111111111111111,
             "#46039f"
            ],
            [
             0.2222222222222222,
             "#7201a8"
            ],
            [
             0.3333333333333333,
             "#9c179e"
            ],
            [
             0.4444444444444444,
             "#bd3786"
            ],
            [
             0.5555555555555556,
             "#d8576b"
            ],
            [
             0.6666666666666666,
             "#ed7953"
            ],
            [
             0.7777777777777778,
             "#fb9f3a"
            ],
            [
             0.8888888888888888,
             "#fdca26"
            ],
            [
             1,
             "#f0f921"
            ]
           ]
          },
          "colorway": [
           "#636efa",
           "#EF553B",
           "#00cc96",
           "#ab63fa",
           "#FFA15A",
           "#19d3f3",
           "#FF6692",
           "#B6E880",
           "#FF97FF",
           "#FECB52"
          ],
          "font": {
           "color": "#2a3f5f"
          },
          "geo": {
           "bgcolor": "white",
           "lakecolor": "white",
           "landcolor": "#E5ECF6",
           "showlakes": true,
           "showland": true,
           "subunitcolor": "white"
          },
          "hoverlabel": {
           "align": "left"
          },
          "hovermode": "closest",
          "mapbox": {
           "style": "light"
          },
          "paper_bgcolor": "white",
          "plot_bgcolor": "#E5ECF6",
          "polar": {
           "angularaxis": {
            "gridcolor": "white",
            "linecolor": "white",
            "ticks": ""
           },
           "bgcolor": "#E5ECF6",
           "radialaxis": {
            "gridcolor": "white",
            "linecolor": "white",
            "ticks": ""
           }
          },
          "scene": {
           "xaxis": {
            "backgroundcolor": "#E5ECF6",
            "gridcolor": "white",
            "gridwidth": 2,
            "linecolor": "white",
            "showbackground": true,
            "ticks": "",
            "zerolinecolor": "white"
           },
           "yaxis": {
            "backgroundcolor": "#E5ECF6",
            "gridcolor": "white",
            "gridwidth": 2,
            "linecolor": "white",
            "showbackground": true,
            "ticks": "",
            "zerolinecolor": "white"
           },
           "zaxis": {
            "backgroundcolor": "#E5ECF6",
            "gridcolor": "white",
            "gridwidth": 2,
            "linecolor": "white",
            "showbackground": true,
            "ticks": "",
            "zerolinecolor": "white"
           }
          },
          "shapedefaults": {
           "line": {
            "color": "#2a3f5f"
           }
          },
          "ternary": {
           "aaxis": {
            "gridcolor": "white",
            "linecolor": "white",
            "ticks": ""
           },
           "baxis": {
            "gridcolor": "white",
            "linecolor": "white",
            "ticks": ""
           },
           "bgcolor": "#E5ECF6",
           "caxis": {
            "gridcolor": "white",
            "linecolor": "white",
            "ticks": ""
           }
          },
          "title": {
           "x": 0.05
          },
          "xaxis": {
           "automargin": true,
           "gridcolor": "white",
           "linecolor": "white",
           "ticks": "",
           "title": {
            "standoff": 15
           },
           "zerolinecolor": "white",
           "zerolinewidth": 2
          },
          "yaxis": {
           "automargin": true,
           "gridcolor": "white",
           "linecolor": "white",
           "ticks": "",
           "title": {
            "standoff": 15
           },
           "zerolinecolor": "white",
           "zerolinewidth": 2
          }
         }
        },
        "xaxis": {
         "anchor": "y",
         "domain": [
          0,
          0.49
         ],
         "title": {
          "text": "config"
         }
        },
        "xaxis2": {
         "anchor": "y2",
         "domain": [
          0.51,
          1
         ],
         "matches": "x",
         "title": {
          "text": "config"
         }
        },
        "yaxis": {
         "anchor": "x",
         "domain": [
          0,
          1
         ],
         "range": [
          -100,
          100
         ],
         "title": {
          "text": "improvement (%) mean"
         }
        },
        "yaxis2": {
         "anchor": "x2",
         "domain": [
          0,
          1
         ],
         "matches": "y",
         "range": [
          -100,
          100
         ],
         "showticklabels": false
        }
       }
      }
     },
     "metadata": {},
     "output_type": "display_data"
    },
    {
     "name": "stdout",
     "output_type": "stream",
     "text": [
      "rover\n"
     ]
    },
    {
     "data": {
      "application/vnd.plotly.v1+json": {
       "config": {
        "plotlyServerURL": "https://plot.ly"
       },
       "data": [
        {
         "error_y": {
          "array": [
           2.829367094277754,
           2.5754684265095995
          ]
         },
         "hovertemplate": "difficulty=0<br>config=%{x}<br>improvement (%) mean=%{y}<extra></extra>",
         "legendgroup": "",
         "marker": {
          "color": "#636efa",
          "symbol": "circle"
         },
         "mode": "markers",
         "name": "",
         "orientation": "v",
         "showlegend": false,
         "type": "scatter",
         "x": [
          "2_16",
          "2_8"
         ],
         "xaxis": "x",
         "y": [
          1.500874954473071,
          1.8362613837192923
         ],
         "yaxis": "y"
        },
        {
         "error_y": {
          "array": [
           1.8866536356424564,
           1.6398674944319793
          ]
         },
         "hovertemplate": "difficulty=1<br>config=%{x}<br>improvement (%) mean=%{y}<extra></extra>",
         "legendgroup": "",
         "marker": {
          "color": "#636efa",
          "symbol": "circle"
         },
         "mode": "markers",
         "name": "",
         "orientation": "v",
         "showlegend": false,
         "type": "scatter",
         "x": [
          "2_16",
          "2_8"
         ],
         "xaxis": "x2",
         "y": [
          2.9589776920495368,
          2.1623753319638808
         ],
         "yaxis": "y2"
        }
       ],
       "layout": {
        "annotations": [
         {
          "font": {},
          "showarrow": false,
          "text": "difficulty=0",
          "x": 0.245,
          "xanchor": "center",
          "xref": "paper",
          "y": 1,
          "yanchor": "bottom",
          "yref": "paper"
         },
         {
          "font": {},
          "showarrow": false,
          "text": "difficulty=1",
          "x": 0.755,
          "xanchor": "center",
          "xref": "paper",
          "y": 1,
          "yanchor": "bottom",
          "yref": "paper"
         }
        ],
        "legend": {
         "tracegroupgap": 0
        },
        "margin": {
         "t": 60
        },
        "template": {
         "data": {
          "bar": [
           {
            "error_x": {
             "color": "#2a3f5f"
            },
            "error_y": {
             "color": "#2a3f5f"
            },
            "marker": {
             "line": {
              "color": "#E5ECF6",
              "width": 0.5
             },
             "pattern": {
              "fillmode": "overlay",
              "size": 10,
              "solidity": 0.2
             }
            },
            "type": "bar"
           }
          ],
          "barpolar": [
           {
            "marker": {
             "line": {
              "color": "#E5ECF6",
              "width": 0.5
             },
             "pattern": {
              "fillmode": "overlay",
              "size": 10,
              "solidity": 0.2
             }
            },
            "type": "barpolar"
           }
          ],
          "carpet": [
           {
            "aaxis": {
             "endlinecolor": "#2a3f5f",
             "gridcolor": "white",
             "linecolor": "white",
             "minorgridcolor": "white",
             "startlinecolor": "#2a3f5f"
            },
            "baxis": {
             "endlinecolor": "#2a3f5f",
             "gridcolor": "white",
             "linecolor": "white",
             "minorgridcolor": "white",
             "startlinecolor": "#2a3f5f"
            },
            "type": "carpet"
           }
          ],
          "choropleth": [
           {
            "colorbar": {
             "outlinewidth": 0,
             "ticks": ""
            },
            "type": "choropleth"
           }
          ],
          "contour": [
           {
            "colorbar": {
             "outlinewidth": 0,
             "ticks": ""
            },
            "colorscale": [
             [
              0,
              "#0d0887"
             ],
             [
              0.1111111111111111,
              "#46039f"
             ],
             [
              0.2222222222222222,
              "#7201a8"
             ],
             [
              0.3333333333333333,
              "#9c179e"
             ],
             [
              0.4444444444444444,
              "#bd3786"
             ],
             [
              0.5555555555555556,
              "#d8576b"
             ],
             [
              0.6666666666666666,
              "#ed7953"
             ],
             [
              0.7777777777777778,
              "#fb9f3a"
             ],
             [
              0.8888888888888888,
              "#fdca26"
             ],
             [
              1,
              "#f0f921"
             ]
            ],
            "type": "contour"
           }
          ],
          "contourcarpet": [
           {
            "colorbar": {
             "outlinewidth": 0,
             "ticks": ""
            },
            "type": "contourcarpet"
           }
          ],
          "heatmap": [
           {
            "colorbar": {
             "outlinewidth": 0,
             "ticks": ""
            },
            "colorscale": [
             [
              0,
              "#0d0887"
             ],
             [
              0.1111111111111111,
              "#46039f"
             ],
             [
              0.2222222222222222,
              "#7201a8"
             ],
             [
              0.3333333333333333,
              "#9c179e"
             ],
             [
              0.4444444444444444,
              "#bd3786"
             ],
             [
              0.5555555555555556,
              "#d8576b"
             ],
             [
              0.6666666666666666,
              "#ed7953"
             ],
             [
              0.7777777777777778,
              "#fb9f3a"
             ],
             [
              0.8888888888888888,
              "#fdca26"
             ],
             [
              1,
              "#f0f921"
             ]
            ],
            "type": "heatmap"
           }
          ],
          "heatmapgl": [
           {
            "colorbar": {
             "outlinewidth": 0,
             "ticks": ""
            },
            "colorscale": [
             [
              0,
              "#0d0887"
             ],
             [
              0.1111111111111111,
              "#46039f"
             ],
             [
              0.2222222222222222,
              "#7201a8"
             ],
             [
              0.3333333333333333,
              "#9c179e"
             ],
             [
              0.4444444444444444,
              "#bd3786"
             ],
             [
              0.5555555555555556,
              "#d8576b"
             ],
             [
              0.6666666666666666,
              "#ed7953"
             ],
             [
              0.7777777777777778,
              "#fb9f3a"
             ],
             [
              0.8888888888888888,
              "#fdca26"
             ],
             [
              1,
              "#f0f921"
             ]
            ],
            "type": "heatmapgl"
           }
          ],
          "histogram": [
           {
            "marker": {
             "pattern": {
              "fillmode": "overlay",
              "size": 10,
              "solidity": 0.2
             }
            },
            "type": "histogram"
           }
          ],
          "histogram2d": [
           {
            "colorbar": {
             "outlinewidth": 0,
             "ticks": ""
            },
            "colorscale": [
             [
              0,
              "#0d0887"
             ],
             [
              0.1111111111111111,
              "#46039f"
             ],
             [
              0.2222222222222222,
              "#7201a8"
             ],
             [
              0.3333333333333333,
              "#9c179e"
             ],
             [
              0.4444444444444444,
              "#bd3786"
             ],
             [
              0.5555555555555556,
              "#d8576b"
             ],
             [
              0.6666666666666666,
              "#ed7953"
             ],
             [
              0.7777777777777778,
              "#fb9f3a"
             ],
             [
              0.8888888888888888,
              "#fdca26"
             ],
             [
              1,
              "#f0f921"
             ]
            ],
            "type": "histogram2d"
           }
          ],
          "histogram2dcontour": [
           {
            "colorbar": {
             "outlinewidth": 0,
             "ticks": ""
            },
            "colorscale": [
             [
              0,
              "#0d0887"
             ],
             [
              0.1111111111111111,
              "#46039f"
             ],
             [
              0.2222222222222222,
              "#7201a8"
             ],
             [
              0.3333333333333333,
              "#9c179e"
             ],
             [
              0.4444444444444444,
              "#bd3786"
             ],
             [
              0.5555555555555556,
              "#d8576b"
             ],
             [
              0.6666666666666666,
              "#ed7953"
             ],
             [
              0.7777777777777778,
              "#fb9f3a"
             ],
             [
              0.8888888888888888,
              "#fdca26"
             ],
             [
              1,
              "#f0f921"
             ]
            ],
            "type": "histogram2dcontour"
           }
          ],
          "mesh3d": [
           {
            "colorbar": {
             "outlinewidth": 0,
             "ticks": ""
            },
            "type": "mesh3d"
           }
          ],
          "parcoords": [
           {
            "line": {
             "colorbar": {
              "outlinewidth": 0,
              "ticks": ""
             }
            },
            "type": "parcoords"
           }
          ],
          "pie": [
           {
            "automargin": true,
            "type": "pie"
           }
          ],
          "scatter": [
           {
            "fillpattern": {
             "fillmode": "overlay",
             "size": 10,
             "solidity": 0.2
            },
            "type": "scatter"
           }
          ],
          "scatter3d": [
           {
            "line": {
             "colorbar": {
              "outlinewidth": 0,
              "ticks": ""
             }
            },
            "marker": {
             "colorbar": {
              "outlinewidth": 0,
              "ticks": ""
             }
            },
            "type": "scatter3d"
           }
          ],
          "scattercarpet": [
           {
            "marker": {
             "colorbar": {
              "outlinewidth": 0,
              "ticks": ""
             }
            },
            "type": "scattercarpet"
           }
          ],
          "scattergeo": [
           {
            "marker": {
             "colorbar": {
              "outlinewidth": 0,
              "ticks": ""
             }
            },
            "type": "scattergeo"
           }
          ],
          "scattergl": [
           {
            "marker": {
             "colorbar": {
              "outlinewidth": 0,
              "ticks": ""
             }
            },
            "type": "scattergl"
           }
          ],
          "scattermapbox": [
           {
            "marker": {
             "colorbar": {
              "outlinewidth": 0,
              "ticks": ""
             }
            },
            "type": "scattermapbox"
           }
          ],
          "scatterpolar": [
           {
            "marker": {
             "colorbar": {
              "outlinewidth": 0,
              "ticks": ""
             }
            },
            "type": "scatterpolar"
           }
          ],
          "scatterpolargl": [
           {
            "marker": {
             "colorbar": {
              "outlinewidth": 0,
              "ticks": ""
             }
            },
            "type": "scatterpolargl"
           }
          ],
          "scatterternary": [
           {
            "marker": {
             "colorbar": {
              "outlinewidth": 0,
              "ticks": ""
             }
            },
            "type": "scatterternary"
           }
          ],
          "surface": [
           {
            "colorbar": {
             "outlinewidth": 0,
             "ticks": ""
            },
            "colorscale": [
             [
              0,
              "#0d0887"
             ],
             [
              0.1111111111111111,
              "#46039f"
             ],
             [
              0.2222222222222222,
              "#7201a8"
             ],
             [
              0.3333333333333333,
              "#9c179e"
             ],
             [
              0.4444444444444444,
              "#bd3786"
             ],
             [
              0.5555555555555556,
              "#d8576b"
             ],
             [
              0.6666666666666666,
              "#ed7953"
             ],
             [
              0.7777777777777778,
              "#fb9f3a"
             ],
             [
              0.8888888888888888,
              "#fdca26"
             ],
             [
              1,
              "#f0f921"
             ]
            ],
            "type": "surface"
           }
          ],
          "table": [
           {
            "cells": {
             "fill": {
              "color": "#EBF0F8"
             },
             "line": {
              "color": "white"
             }
            },
            "header": {
             "fill": {
              "color": "#C8D4E3"
             },
             "line": {
              "color": "white"
             }
            },
            "type": "table"
           }
          ]
         },
         "layout": {
          "annotationdefaults": {
           "arrowcolor": "#2a3f5f",
           "arrowhead": 0,
           "arrowwidth": 1
          },
          "autotypenumbers": "strict",
          "coloraxis": {
           "colorbar": {
            "outlinewidth": 0,
            "ticks": ""
           }
          },
          "colorscale": {
           "diverging": [
            [
             0,
             "#8e0152"
            ],
            [
             0.1,
             "#c51b7d"
            ],
            [
             0.2,
             "#de77ae"
            ],
            [
             0.3,
             "#f1b6da"
            ],
            [
             0.4,
             "#fde0ef"
            ],
            [
             0.5,
             "#f7f7f7"
            ],
            [
             0.6,
             "#e6f5d0"
            ],
            [
             0.7,
             "#b8e186"
            ],
            [
             0.8,
             "#7fbc41"
            ],
            [
             0.9,
             "#4d9221"
            ],
            [
             1,
             "#276419"
            ]
           ],
           "sequential": [
            [
             0,
             "#0d0887"
            ],
            [
             0.1111111111111111,
             "#46039f"
            ],
            [
             0.2222222222222222,
             "#7201a8"
            ],
            [
             0.3333333333333333,
             "#9c179e"
            ],
            [
             0.4444444444444444,
             "#bd3786"
            ],
            [
             0.5555555555555556,
             "#d8576b"
            ],
            [
             0.6666666666666666,
             "#ed7953"
            ],
            [
             0.7777777777777778,
             "#fb9f3a"
            ],
            [
             0.8888888888888888,
             "#fdca26"
            ],
            [
             1,
             "#f0f921"
            ]
           ],
           "sequentialminus": [
            [
             0,
             "#0d0887"
            ],
            [
             0.1111111111111111,
             "#46039f"
            ],
            [
             0.2222222222222222,
             "#7201a8"
            ],
            [
             0.3333333333333333,
             "#9c179e"
            ],
            [
             0.4444444444444444,
             "#bd3786"
            ],
            [
             0.5555555555555556,
             "#d8576b"
            ],
            [
             0.6666666666666666,
             "#ed7953"
            ],
            [
             0.7777777777777778,
             "#fb9f3a"
            ],
            [
             0.8888888888888888,
             "#fdca26"
            ],
            [
             1,
             "#f0f921"
            ]
           ]
          },
          "colorway": [
           "#636efa",
           "#EF553B",
           "#00cc96",
           "#ab63fa",
           "#FFA15A",
           "#19d3f3",
           "#FF6692",
           "#B6E880",
           "#FF97FF",
           "#FECB52"
          ],
          "font": {
           "color": "#2a3f5f"
          },
          "geo": {
           "bgcolor": "white",
           "lakecolor": "white",
           "landcolor": "#E5ECF6",
           "showlakes": true,
           "showland": true,
           "subunitcolor": "white"
          },
          "hoverlabel": {
           "align": "left"
          },
          "hovermode": "closest",
          "mapbox": {
           "style": "light"
          },
          "paper_bgcolor": "white",
          "plot_bgcolor": "#E5ECF6",
          "polar": {
           "angularaxis": {
            "gridcolor": "white",
            "linecolor": "white",
            "ticks": ""
           },
           "bgcolor": "#E5ECF6",
           "radialaxis": {
            "gridcolor": "white",
            "linecolor": "white",
            "ticks": ""
           }
          },
          "scene": {
           "xaxis": {
            "backgroundcolor": "#E5ECF6",
            "gridcolor": "white",
            "gridwidth": 2,
            "linecolor": "white",
            "showbackground": true,
            "ticks": "",
            "zerolinecolor": "white"
           },
           "yaxis": {
            "backgroundcolor": "#E5ECF6",
            "gridcolor": "white",
            "gridwidth": 2,
            "linecolor": "white",
            "showbackground": true,
            "ticks": "",
            "zerolinecolor": "white"
           },
           "zaxis": {
            "backgroundcolor": "#E5ECF6",
            "gridcolor": "white",
            "gridwidth": 2,
            "linecolor": "white",
            "showbackground": true,
            "ticks": "",
            "zerolinecolor": "white"
           }
          },
          "shapedefaults": {
           "line": {
            "color": "#2a3f5f"
           }
          },
          "ternary": {
           "aaxis": {
            "gridcolor": "white",
            "linecolor": "white",
            "ticks": ""
           },
           "baxis": {
            "gridcolor": "white",
            "linecolor": "white",
            "ticks": ""
           },
           "bgcolor": "#E5ECF6",
           "caxis": {
            "gridcolor": "white",
            "linecolor": "white",
            "ticks": ""
           }
          },
          "title": {
           "x": 0.05
          },
          "xaxis": {
           "automargin": true,
           "gridcolor": "white",
           "linecolor": "white",
           "ticks": "",
           "title": {
            "standoff": 15
           },
           "zerolinecolor": "white",
           "zerolinewidth": 2
          },
          "yaxis": {
           "automargin": true,
           "gridcolor": "white",
           "linecolor": "white",
           "ticks": "",
           "title": {
            "standoff": 15
           },
           "zerolinecolor": "white",
           "zerolinewidth": 2
          }
         }
        },
        "xaxis": {
         "anchor": "y",
         "domain": [
          0,
          0.49
         ],
         "title": {
          "text": "config"
         }
        },
        "xaxis2": {
         "anchor": "y2",
         "domain": [
          0.51,
          1
         ],
         "matches": "x",
         "title": {
          "text": "config"
         }
        },
        "yaxis": {
         "anchor": "x",
         "domain": [
          0,
          1
         ],
         "range": [
          -100,
          100
         ],
         "title": {
          "text": "improvement (%) mean"
         }
        },
        "yaxis2": {
         "anchor": "x2",
         "domain": [
          0,
          1
         ],
         "matches": "y",
         "range": [
          -100,
          100
         ],
         "showticklabels": false
        }
       }
      }
     },
     "metadata": {},
     "output_type": "display_data"
    }
   ],
   "source": [
    "quantify_performance(choices=choices, layers=layers, dimensions=dimensions)"
   ]
  },
  {
   "cell_type": "markdown",
   "metadata": {},
   "source": [
    "# Relative difference plots"
   ]
  },
  {
   "cell_type": "code",
   "execution_count": 6,
   "metadata": {},
   "outputs": [
    {
     "name": "stdout",
     "output_type": "stream",
     "text": [
      "blocksworld\n"
     ]
    },
    {
     "data": {
      "application/vnd.plotly.v1+json": {
       "config": {
        "plotlyServerURL": "https://plot.ly"
       },
       "data": [
        {
         "hovertemplate": "solver=baseline<br>type=bounds<br>difficulty=0<br>problem=%{x}<br>improvement (%)=%{y}<extra></extra>",
         "legendgroup": "baseline, bounds",
         "line": {
          "color": "#636efa",
          "dash": "solid"
         },
         "marker": {
          "symbol": "circle"
         },
         "mode": "lines",
         "name": "baseline, bounds",
         "orientation": "v",
         "showlegend": true,
         "type": "scatter",
         "x": [
          "0_01",
          "0_02",
          "0_03",
          "0_04",
          "0_05",
          "0_06",
          "0_07",
          "0_08",
          "0_09",
          "0_10",
          "0_11",
          "0_12",
          "0_13",
          "0_14",
          "0_15",
          "0_16",
          "0_17",
          "0_18",
          "0_19",
          "0_20",
          "0_21",
          "0_22",
          "0_23",
          "0_24",
          "0_25",
          "0_26",
          "0_27",
          "0_28",
          "0_29",
          "0_30"
         ],
         "xaxis": "x",
         "y": [
          0,
          0,
          0,
          0,
          0,
          0,
          0,
          0,
          0,
          0,
          0,
          0,
          0,
          0,
          0,
          0,
          0,
          0,
          0,
          0,
          0,
          0,
          0,
          0,
          0,
          0,
          0,
          0,
          0,
          0
         ],
         "yaxis": "y"
        },
        {
         "hovertemplate": "solver=baseline<br>type=bounds<br>difficulty=1<br>problem=%{x}<br>improvement (%)=%{y}<extra></extra>",
         "legendgroup": "baseline, bounds",
         "line": {
          "color": "#636efa",
          "dash": "solid"
         },
         "marker": {
          "symbol": "circle"
         },
         "mode": "lines",
         "name": "baseline, bounds",
         "orientation": "v",
         "showlegend": false,
         "type": "scatter",
         "x": [
          "1_01",
          "1_02",
          "1_03",
          "1_04",
          "1_05",
          "1_06",
          "1_07",
          "1_08",
          "1_09",
          "1_10",
          "1_11",
          "1_12",
          "1_13",
          "1_14",
          "1_15",
          "1_16",
          "1_17",
          "1_18",
          "1_19",
          "1_20",
          "1_21",
          "1_22",
          "1_23",
          "1_24",
          "1_25",
          "1_26",
          "1_27",
          "1_28",
          "1_29",
          "1_30"
         ],
         "xaxis": "x2",
         "y": [
          0,
          0,
          0,
          0,
          0,
          0,
          0,
          0,
          0,
          0,
          0,
          0,
          0,
          0,
          0,
          0,
          0,
          0,
          0,
          0,
          0,
          0,
          0,
          0,
          0,
          0,
          0,
          0,
          0,
          0
         ],
         "yaxis": "y2"
        },
        {
         "hovertemplate": "solver=optimal<br>type=bounds<br>difficulty=0<br>problem=%{x}<br>improvement (%)=%{y}<extra></extra>",
         "legendgroup": "optimal, bounds",
         "line": {
          "color": "#EF553B",
          "dash": "solid"
         },
         "marker": {
          "symbol": "circle"
         },
         "mode": "lines",
         "name": "optimal, bounds",
         "orientation": "v",
         "showlegend": true,
         "type": "scatter",
         "x": [
          "0_01",
          "0_02",
          "0_03",
          "0_04",
          "0_05",
          "0_06",
          "0_07",
          "0_08",
          "0_09",
          "0_10",
          "0_11",
          "0_12",
          "0_13",
          "0_14",
          "0_15",
          "0_16",
          "0_17",
          "0_18",
          "0_19",
          "0_20",
          "0_21",
          "0_22",
          "0_23",
          "0_24",
          "0_25",
          "0_26",
          "0_27",
          "0_28",
          "0_29",
          "0_30"
         ],
         "xaxis": "x",
         "y": [
          0,
          0,
          0,
          0,
          0,
          10.958904109589039,
          0,
          0,
          0,
          0,
          0,
          9.909909909909908,
          11.016949152542377,
          7.563025210084036,
          14.179104477611942,
          9.395973154362418,
          0,
          8.759124087591236,
          10.596026490066224,
          0,
          10.256410256410255,
          7.6923076923076925,
          12.121212121212121,
          12.621359223300976,
          7.657657657657655,
          8.866995073891628,
          9.340659340659338,
          8.88888888888889,
          7.766990291262142,
          7.172995780590715
         ],
         "yaxis": "y"
        },
        {
         "hovertemplate": "solver=optimal<br>type=bounds<br>difficulty=1<br>problem=%{x}<br>improvement (%)=%{y}<extra></extra>",
         "legendgroup": "optimal, bounds",
         "line": {
          "color": "#EF553B",
          "dash": "solid"
         },
         "marker": {
          "symbol": "circle"
         },
         "mode": "lines",
         "name": "optimal, bounds",
         "orientation": "v",
         "showlegend": false,
         "type": "scatter",
         "x": [
          "1_01",
          "1_02",
          "1_03",
          "1_04",
          "1_05",
          "1_06",
          "1_07",
          "1_08",
          "1_09",
          "1_10",
          "1_11",
          "1_12",
          "1_13",
          "1_14",
          "1_15",
          "1_16",
          "1_17",
          "1_18",
          "1_19",
          "1_20",
          "1_21",
          "1_22",
          "1_23",
          "1_24",
          "1_25",
          "1_26",
          "1_27",
          "1_28",
          "1_29",
          "1_30"
         ],
         "xaxis": "x2",
         "y": [
          10.169491525423728,
          16.129032258064516,
          16.666666666666668,
          9.774436090225562,
          13.414634146341463,
          14.634146341463415,
          17.53653444676409,
          17.67068273092369,
          13.957934990439767,
          15.454545454545455,
          13.822525597269626,
          10.550458715596339,
          14.529914529914533,
          17.151162790697672,
          19.332406119610575,
          17.11590296495957,
          10.994764397905765,
          16.764361078546305,
          16.763678696158326,
          13.580246913580243,
          15.66920565832427,
          16.755037115588546,
          14.739884393063582,
          14.038657171922683,
          16.98473282442748,
          12.137681159420293,
          14.568345323741008,
          14.972273567467655,
          16.23263888888889,
          10.424710424710424
         ],
         "yaxis": "y2"
        },
        {
         "hovertemplate": "solver=lama<br>type=bounds<br>difficulty=0<br>problem=%{x}<br>improvement (%)=%{y}<extra></extra>",
         "legendgroup": "lama, bounds",
         "line": {
          "color": "#00cc96",
          "dash": "solid"
         },
         "marker": {
          "symbol": "circle"
         },
         "mode": "lines",
         "name": "lama, bounds",
         "orientation": "v",
         "showlegend": true,
         "type": "scatter",
         "x": [
          "0_01",
          "0_02",
          "0_03",
          "0_04",
          "0_05",
          "0_06",
          "0_07",
          "0_08",
          "0_09",
          "0_10",
          "0_11",
          "0_12",
          "0_13",
          "0_14",
          "0_15",
          "0_16",
          "0_17",
          "0_18",
          "0_19",
          "0_20",
          "0_21",
          "0_22",
          "0_23",
          "0_24",
          "0_25",
          "0_26",
          "0_27",
          "0_28",
          "0_29",
          "0_30"
         ],
         "xaxis": "x",
         "y": [
          0,
          0,
          -70,
          -58.333333333333336,
          -66.66666666666667,
          -173.97260273972603,
          -93.75,
          -81.25,
          -55.55555555555556,
          -15.789473684210526,
          -112.5,
          -62.16216216216216,
          -128.81355932203388,
          -38.65546218487394,
          -97.76119402985074,
          -104.69798657718121,
          -116.66666666666667,
          -53.28467153284673,
          -42.384105960264904,
          -39.285714285714285,
          -21.7948717948718,
          -87.17948717948718,
          -42.42424242424242,
          -145.14563106796115,
          -208.55855855855856,
          -183.2512315270936,
          -78.57142857142857,
          -68.88888888888889,
          -72.33009708737862,
          -113.08016877637131
         ],
         "yaxis": "y"
        },
        {
         "hovertemplate": "solver=lama<br>type=bounds<br>difficulty=1<br>problem=%{x}<br>improvement (%)=%{y}<extra></extra>",
         "legendgroup": "lama, bounds",
         "line": {
          "color": "#00cc96",
          "dash": "solid"
         },
         "marker": {
          "symbol": "circle"
         },
         "mode": "lines",
         "name": "lama, bounds",
         "orientation": "v",
         "showlegend": false,
         "type": "scatter",
         "x": [
          "1_01",
          "1_02",
          "1_03",
          "1_04",
          "1_05",
          "1_06",
          "1_07",
          "1_08",
          "1_09",
          "1_10",
          "1_11",
          "1_12",
          "1_13",
          "1_14",
          "1_15",
          "1_16",
          "1_17",
          "1_18",
          "1_19",
          "1_20",
          "1_21",
          "1_22",
          "1_23",
          "1_24",
          "1_25",
          "1_26",
          "1_27",
          "1_28",
          "1_29",
          "1_30"
         ],
         "xaxis": "x2",
         "y": [
          -174.57627118644066,
          -79.03225806451613,
          -80.05952380952381,
          null,
          -95.1219512195122,
          -40.24390243902439,
          -96.24217118997913,
          null,
          -126.57743785850862,
          -80,
          -175.59726962457339,
          -141.59021406727828,
          -118.66096866096865,
          -91.86046511627907,
          -125.31293463143254,
          -115.63342318059298,
          -109.4240837696335,
          -92.26260257913248,
          null,
          -166.55443322109988,
          -147.0076169749728,
          -97.77306468716861,
          null,
          -102.441505595117,
          -94.65648854961832,
          null,
          -122.1223021582734,
          -147.22735674676525,
          -132.6388888888889,
          null
         ],
         "yaxis": "y2"
        },
        {
         "hovertemplate": "solver=L2_D8_best<br>type=lrnn_best<br>difficulty=0<br>problem=%{x}<br>improvement (%)=%{y}<extra></extra>",
         "legendgroup": "L2_D8_best, lrnn_best",
         "line": {
          "color": "#ab63fa",
          "dash": "dot"
         },
         "marker": {
          "symbol": "circle"
         },
         "mode": "lines",
         "name": "L2_D8_best, lrnn_best",
         "orientation": "v",
         "showlegend": true,
         "type": "scatter",
         "x": [
          "0_01",
          "0_02",
          "0_03",
          "0_04",
          "0_05",
          "0_06",
          "0_07",
          "0_08",
          "0_09",
          "0_10",
          "0_11",
          "0_12",
          "0_13",
          "0_14",
          "0_15",
          "0_16",
          "0_17",
          "0_18",
          "0_19",
          "0_20",
          "0_21",
          "0_22",
          "0_23",
          "0_24",
          "0_25",
          "0_26",
          "0_27",
          "0_28",
          "0_29",
          "0_30"
         ],
         "xaxis": "x",
         "y": [
          0,
          0,
          0,
          0,
          0,
          -0.4566210045662084,
          0,
          0,
          0,
          0,
          0,
          -0.6006006006005985,
          3.9548022598870065,
          -0.8403361344537785,
          1.7412935323383154,
          0.44742729306487533,
          0,
          -8.27250608272507,
          2.8697571743929378,
          0,
          10.256410256410255,
          0.8547008547008608,
          1.0101010101010173,
          1.2944983818770353,
          0.9009009009008977,
          3.119868637110014,
          -4.3956043956043995,
          0,
          -1.941747572815527,
          -6.188466947960627
         ],
         "yaxis": "y"
        },
        {
         "hovertemplate": "solver=L2_D8_best<br>type=lrnn_best<br>difficulty=1<br>problem=%{x}<br>improvement (%)=%{y}<extra></extra>",
         "legendgroup": "L2_D8_best, lrnn_best",
         "line": {
          "color": "#ab63fa",
          "dash": "dot"
         },
         "marker": {
          "symbol": "circle"
         },
         "mode": "lines",
         "name": "L2_D8_best, lrnn_best",
         "orientation": "v",
         "showlegend": false,
         "type": "scatter",
         "x": [
          "1_01",
          "1_02",
          "1_03",
          "1_04",
          "1_05",
          "1_06",
          "1_07",
          "1_08",
          "1_09",
          "1_10",
          "1_11",
          "1_12",
          "1_13",
          "1_14",
          "1_15",
          "1_16",
          "1_17",
          "1_18",
          "1_19",
          "1_20",
          "1_21",
          "1_22",
          "1_23",
          "1_24",
          "1_25",
          "1_26",
          "1_27",
          "1_28",
          "1_29",
          "1_30"
         ],
         "xaxis": "x2",
         "y": [
          1.694915254237288,
          0,
          3.7698412698412667,
          -1.0860484544695166,
          -0.4065040650406446,
          0.8130081300813066,
          2.2268615170494006,
          1.2717536813922348,
          1.848311026131284,
          1.2121212121212077,
          0.4550625711035251,
          -0.9174311926605417,
          0.5223171889838665,
          0.1937984496123921,
          0.556328233657866,
          -1.078167115902961,
          -3.8394415357766003,
          0.7424775302852589,
          0.2716336825766406,
          -1.945379723157502,
          1.5233949945593097,
          0.6716154118062839,
          -0.6743737957610818,
          -1.2207527975584973,
          0.9223918575063632,
          -1.4492753623188352,
          -0.4196642685851336,
          -1.8176216882316714,
          -0.9837962962962897,
          -0.25740025740026473
         ],
         "yaxis": "y2"
        },
        {
         "hovertemplate": "solver=L2_D16_best<br>type=lrnn_best<br>difficulty=0<br>problem=%{x}<br>improvement (%)=%{y}<extra></extra>",
         "legendgroup": "L2_D16_best, lrnn_best",
         "line": {
          "color": "#FFA15A",
          "dash": "dot"
         },
         "marker": {
          "symbol": "circle"
         },
         "mode": "lines",
         "name": "L2_D16_best, lrnn_best",
         "orientation": "v",
         "showlegend": true,
         "type": "scatter",
         "x": [
          "0_01",
          "0_02",
          "0_03",
          "0_04",
          "0_05",
          "0_06",
          "0_07",
          "0_08",
          "0_09",
          "0_10",
          "0_11",
          "0_12",
          "0_13",
          "0_14",
          "0_15",
          "0_16",
          "0_17",
          "0_18",
          "0_19",
          "0_20",
          "0_21",
          "0_22",
          "0_23",
          "0_24",
          "0_25",
          "0_26",
          "0_27",
          "0_28",
          "0_29",
          "0_30"
         ],
         "xaxis": "x",
         "y": [
          0,
          0,
          0,
          0,
          0,
          10.958904109589039,
          0,
          0,
          0,
          0,
          0,
          3.903903903903906,
          1.1299435028248697,
          6.162464985994405,
          5.472636815920405,
          2.684563758389264,
          0,
          5.109489051094886,
          1.7660044150110312,
          0,
          8.119658119658114,
          2.5641025641025643,
          4.040404040404036,
          6.14886731391587,
          3.1531531531531503,
          3.9408866995073923,
          3.8461538461538423,
          2.2222222222222223,
          1.2944983818770353,
          0.8438818565400814
         ],
         "yaxis": "y"
        },
        {
         "hovertemplate": "solver=L2_D16_best<br>type=lrnn_best<br>difficulty=1<br>problem=%{x}<br>improvement (%)=%{y}<extra></extra>",
         "legendgroup": "L2_D16_best, lrnn_best",
         "line": {
          "color": "#FFA15A",
          "dash": "dot"
         },
         "marker": {
          "symbol": "circle"
         },
         "mode": "lines",
         "name": "L2_D16_best, lrnn_best",
         "orientation": "v",
         "showlegend": false,
         "type": "scatter",
         "x": [
          "1_01",
          "1_02",
          "1_03",
          "1_04",
          "1_05",
          "1_06",
          "1_07",
          "1_08",
          "1_09",
          "1_10",
          "1_11",
          "1_12",
          "1_13",
          "1_14",
          "1_15",
          "1_16",
          "1_17",
          "1_18",
          "1_19",
          "1_20",
          "1_21",
          "1_22",
          "1_23",
          "1_24",
          "1_25",
          "1_26",
          "1_27",
          "1_28",
          "1_29",
          "1_30"
         ],
         "xaxis": "x2",
         "y": [
          2.824858757062143,
          3.7634408602150575,
          6.746031746031753,
          -0.2506265664160437,
          4.065040650406498,
          7.723577235772352,
          7.446068197633952,
          2.945113788487272,
          3.441682600382404,
          6.666666666666662,
          1.3083048919226377,
          1.6309887869521056,
          2.184235517568848,
          1.1627906976744145,
          4.728789986091802,
          2.9649595687331574,
          1.6143106457242593,
          4.454865181711603,
          2.7939464493597272,
          1.7957351290684562,
          5.513239027928919,
          3.676210675150232,
          2.536929993577385,
          1.4920311970159397,
          2.8307888040712488,
          2.173913043478266,
          3.027577937649887,
          1.5711645101663612,
          2.343750000000002,
          0.6435006435006508
         ],
         "yaxis": "y2"
        },
        {
         "hovertemplate": "solver=L2_D32_best<br>type=lrnn_best<br>difficulty=0<br>problem=%{x}<br>improvement (%)=%{y}<extra></extra>",
         "legendgroup": "L2_D32_best, lrnn_best",
         "line": {
          "color": "#19d3f3",
          "dash": "dot"
         },
         "marker": {
          "symbol": "circle"
         },
         "mode": "lines",
         "name": "L2_D32_best, lrnn_best",
         "orientation": "v",
         "showlegend": true,
         "type": "scatter",
         "x": [
          "0_01",
          "0_02",
          "0_03",
          "0_04",
          "0_05",
          "0_06",
          "0_07",
          "0_08",
          "0_09",
          "0_10",
          "0_11",
          "0_12",
          "0_13",
          "0_14",
          "0_15",
          "0_16",
          "0_17",
          "0_18",
          "0_19",
          "0_20",
          "0_21",
          "0_22",
          "0_23",
          "0_24",
          "0_25",
          "0_26",
          "0_27",
          "0_28",
          "0_29",
          "0_30"
         ],
         "xaxis": "x",
         "y": [
          0,
          0,
          0,
          0,
          0,
          6.3926940639269425,
          0,
          0,
          0,
          0,
          0,
          2.402402402402394,
          -0.2824858757062137,
          0.5602240896358524,
          9.203980099502495,
          2.684563758389264,
          0,
          -0.9732360097323697,
          -0.4415011037527578,
          0,
          3.846153846153844,
          2.5641025641025643,
          0,
          2.9126213592233077,
          3.903903903903906,
          3.9408866995073923,
          3.8461538461538423,
          4.444444444444445,
          0.4854368932038904,
          -2.6722925457102655
         ],
         "yaxis": "y"
        },
        {
         "hovertemplate": "solver=L2_D32_best<br>type=lrnn_best<br>difficulty=1<br>problem=%{x}<br>improvement (%)=%{y}<extra></extra>",
         "legendgroup": "L2_D32_best, lrnn_best",
         "line": {
          "color": "#19d3f3",
          "dash": "dot"
         },
         "marker": {
          "symbol": "circle"
         },
         "mode": "lines",
         "name": "L2_D32_best, lrnn_best",
         "orientation": "v",
         "showlegend": false,
         "type": "scatter",
         "x": [
          "1_01",
          "1_02",
          "1_03",
          "1_04",
          "1_05",
          "1_06",
          "1_07",
          "1_08",
          "1_09",
          "1_10",
          "1_11",
          "1_12",
          "1_13",
          "1_14",
          "1_15",
          "1_16",
          "1_17",
          "1_18",
          "1_19",
          "1_20",
          "1_21",
          "1_22",
          "1_23",
          "1_24",
          "1_25",
          "1_26",
          "1_27",
          "1_28",
          "1_29",
          "1_30"
         ],
         "xaxis": "x2",
         "y": [
          1.694915254237288,
          3.225806451612903,
          3.7698412698412667,
          0.1670843776106839,
          4.065040650406498,
          3.658536585365854,
          5.010438413361166,
          2.6104417670682674,
          2.8043339706819532,
          2.727272727272727,
          0.4550625711035251,
          2.3955147808358865,
          0.5223171889838665,
          2.131782945736437,
          4.496986555401021,
          2.9649595687331574,
          1.6143106457242593,
          4.845642829230159,
          3.764066744276291,
          0.11223344556677253,
          1.5233949945593097,
          2.4390243902438997,
          1.4129736673089293,
          0.9833841980332335,
          3.466921119592868,
          1.7210144927536282,
          2.2781774580335714,
          1.4171287738755374,
          0.17361111111111358,
          1.1583011583011582
         ],
         "yaxis": "y2"
        },
        {
         "hovertemplate": "solver=L3_D8_best<br>type=lrnn_best<br>difficulty=0<br>problem=%{x}<br>improvement (%)=%{y}<extra></extra>",
         "legendgroup": "L3_D8_best, lrnn_best",
         "line": {
          "color": "#FF6692",
          "dash": "dot"
         },
         "marker": {
          "symbol": "circle"
         },
         "mode": "lines",
         "name": "L3_D8_best, lrnn_best",
         "orientation": "v",
         "showlegend": true,
         "type": "scatter",
         "x": [
          "0_01",
          "0_02",
          "0_03",
          "0_04",
          "0_05",
          "0_06",
          "0_07",
          "0_08",
          "0_09",
          "0_10",
          "0_11",
          "0_12",
          "0_13",
          "0_14",
          "0_15",
          "0_16",
          "0_17",
          "0_18",
          "0_19",
          "0_20",
          "0_21",
          "0_22",
          "0_23",
          "0_24",
          "0_25",
          "0_26",
          "0_27",
          "0_28",
          "0_29",
          "0_30"
         ],
         "xaxis": "x",
         "y": [
          0,
          0,
          0,
          0,
          0,
          10.958904109589039,
          0,
          0,
          0,
          0,
          0,
          5.405405405405403,
          2.542372881355938,
          4.76190476190476,
          6.716417910447763,
          0.44742729306487533,
          0,
          6.326034063260332,
          5.077262693156727,
          0,
          9.188034188034191,
          3.418803418803425,
          2.0202020202020132,
          6.14886731391587,
          3.903903903903906,
          5.582922824302132,
          4.7619047619047645,
          1.4814814814814763,
          2.9126213592233077,
          -1.969057665260205
         ],
         "yaxis": "y"
        },
        {
         "hovertemplate": "solver=L3_D8_best<br>type=lrnn_best<br>difficulty=1<br>problem=%{x}<br>improvement (%)=%{y}<extra></extra>",
         "legendgroup": "L3_D8_best, lrnn_best",
         "line": {
          "color": "#FF6692",
          "dash": "dot"
         },
         "marker": {
          "symbol": "circle"
         },
         "mode": "lines",
         "name": "L3_D8_best, lrnn_best",
         "orientation": "v",
         "showlegend": false,
         "type": "scatter",
         "x": [
          "1_01",
          "1_02",
          "1_03",
          "1_04",
          "1_05",
          "1_06",
          "1_07",
          "1_08",
          "1_09",
          "1_10",
          "1_11",
          "1_12",
          "1_13",
          "1_14",
          "1_15",
          "1_16",
          "1_17",
          "1_18",
          "1_19",
          "1_20",
          "1_21",
          "1_22",
          "1_23",
          "1_24",
          "1_25",
          "1_26",
          "1_27",
          "1_28",
          "1_29",
          "1_30"
         ],
         "xaxis": "x2",
         "y": [
          2.824858757062143,
          5.9139784946236515,
          11.210317460317468,
          1.4202172096908845,
          5.691056910569111,
          7.317073170731708,
          7.098121085594987,
          3.6144578313252955,
          4.397705544933073,
          6.666666666666662,
          3.5836177474402753,
          2.3955147808358865,
          4.7958214624881395,
          5.281007751937974,
          11.451089476124258,
          6.334231805929923,
          4.450261780104719,
          7.190308714341531,
          5.704307334109436,
          2.7310138421249417,
          4.425099746100845,
          6.857546836337931,
          4.303147077713554,
          3.865717192268563,
          5.852417302798975,
          3.2306763285024247,
          3.926858513189455,
          4.497843499691935,
          4.513888888888891,
          2.3166023166023164
         ],
         "yaxis": "y2"
        },
        {
         "hovertemplate": "solver=L3_D16_best<br>type=lrnn_best<br>difficulty=0<br>problem=%{x}<br>improvement (%)=%{y}<extra></extra>",
         "legendgroup": "L3_D16_best, lrnn_best",
         "line": {
          "color": "#B6E880",
          "dash": "dot"
         },
         "marker": {
          "symbol": "circle"
         },
         "mode": "lines",
         "name": "L3_D16_best, lrnn_best",
         "orientation": "v",
         "showlegend": true,
         "type": "scatter",
         "x": [
          "0_01",
          "0_02",
          "0_03",
          "0_04",
          "0_05",
          "0_06",
          "0_07",
          "0_08",
          "0_09",
          "0_10",
          "0_11",
          "0_12",
          "0_13",
          "0_14",
          "0_15",
          "0_16",
          "0_17",
          "0_18",
          "0_19",
          "0_20",
          "0_21",
          "0_22",
          "0_23",
          "0_24",
          "0_25",
          "0_26",
          "0_27",
          "0_28",
          "0_29",
          "0_30"
         ],
         "xaxis": "x",
         "y": [
          0,
          0,
          0,
          0,
          0,
          1.8264840182648336,
          0,
          0,
          0,
          0,
          0,
          0.9009009009008977,
          -0.2824858757062137,
          1.960784313725498,
          4.228855721393033,
          1.5659955257270757,
          0,
          0.24330900243308917,
          -0.4415011037527578,
          0,
          8.119658119658114,
          1.7094017094017033,
          2.0202020202020132,
          0.4854368932038904,
          1.6516516516516537,
          -0.16420361247946522,
          -2.5641025641025745,
          1.4814814814814763,
          2.9126213592233077,
          -6.891701828410687
         ],
         "yaxis": "y"
        },
        {
         "hovertemplate": "solver=L3_D16_best<br>type=lrnn_best<br>difficulty=1<br>problem=%{x}<br>improvement (%)=%{y}<extra></extra>",
         "legendgroup": "L3_D16_best, lrnn_best",
         "line": {
          "color": "#B6E880",
          "dash": "dot"
         },
         "marker": {
          "symbol": "circle"
         },
         "mode": "lines",
         "name": "L3_D16_best, lrnn_best",
         "orientation": "v",
         "showlegend": false,
         "type": "scatter",
         "x": [
          "1_01",
          "1_02",
          "1_03",
          "1_04",
          "1_05",
          "1_06",
          "1_07",
          "1_08",
          "1_09",
          "1_10",
          "1_11",
          "1_12",
          "1_13",
          "1_14",
          "1_15",
          "1_16",
          "1_17",
          "1_18",
          "1_19",
          "1_20",
          "1_21",
          "1_22",
          "1_23",
          "1_24",
          "1_25",
          "1_26",
          "1_27",
          "1_28",
          "1_29",
          "1_30"
         ],
         "xaxis": "x2",
         "y": [
          3.389830508474576,
          0,
          1.7857142857142898,
          -1.5037593984962443,
          -0.8130081300813066,
          0.8130081300813066,
          1.5309672929714704,
          2.2757697456492627,
          2.1669853409815163,
          -0.3030303030302987,
          1.0238907849829375,
          -1.6819571865443337,
          0.28490028490028896,
          -0.5329457364341196,
          -0.13908205841445662,
          -0.6289308176100654,
          -1.2216404886561818,
          1.9148104728409447,
          0.8537058595265823,
          0.4863449307893636,
          0.0725426187885496,
          0.3181336161187669,
          -0.6743737957610818,
          -0.8816547982366981,
          0.7633587786259515,
          0.060386473429961125,
          0.17985611510791621,
          -1.355514479359213,
          -3.1539351851851785,
          -0.5148005148005075
         ],
         "yaxis": "y2"
        },
        {
         "hovertemplate": "solver=L3_D32_best<br>type=lrnn_best<br>difficulty=0<br>problem=%{x}<br>improvement (%)=%{y}<extra></extra>",
         "legendgroup": "L3_D32_best, lrnn_best",
         "line": {
          "color": "#FF97FF",
          "dash": "dot"
         },
         "marker": {
          "symbol": "circle"
         },
         "mode": "lines",
         "name": "L3_D32_best, lrnn_best",
         "orientation": "v",
         "showlegend": true,
         "type": "scatter",
         "x": [
          "0_01",
          "0_02",
          "0_03",
          "0_04",
          "0_05",
          "0_06",
          "0_07",
          "0_08",
          "0_09",
          "0_10",
          "0_11",
          "0_12",
          "0_13",
          "0_14",
          "0_15",
          "0_16",
          "0_17",
          "0_18",
          "0_19",
          "0_20",
          "0_21",
          "0_22",
          "0_23",
          "0_24",
          "0_25",
          "0_26",
          "0_27",
          "0_28",
          "0_29",
          "0_30"
         ],
         "xaxis": "x",
         "y": [
          0,
          0,
          0,
          0,
          0,
          6.3926940639269425,
          0,
          0,
          0,
          0,
          0,
          0.9009009009008977,
          3.9548022598870065,
          1.960784313725498,
          5.472636815920405,
          -0.671140939597313,
          0,
          0.24330900243308917,
          1.7660044150110312,
          0,
          4.914529914529909,
          3.418803418803425,
          0,
          3.7216828478964525,
          2.402402402402394,
          0.6568144499178958,
          -0.73260073260073,
          2.962962962962968,
          -0.3236245954692545,
          -2.6722925457102655
         ],
         "yaxis": "y"
        },
        {
         "hovertemplate": "solver=L3_D32_best<br>type=lrnn_best<br>difficulty=1<br>problem=%{x}<br>improvement (%)=%{y}<extra></extra>",
         "legendgroup": "L3_D32_best, lrnn_best",
         "line": {
          "color": "#FF97FF",
          "dash": "dot"
         },
         "marker": {
          "symbol": "circle"
         },
         "mode": "lines",
         "name": "L3_D32_best, lrnn_best",
         "orientation": "v",
         "showlegend": false,
         "type": "scatter",
         "x": [
          "1_01",
          "1_02",
          "1_03",
          "1_04",
          "1_05",
          "1_06",
          "1_07",
          "1_08",
          "1_09",
          "1_10",
          "1_11",
          "1_12",
          "1_13",
          "1_14",
          "1_15",
          "1_16",
          "1_17",
          "1_18",
          "1_19",
          "1_20",
          "1_21",
          "1_22",
          "1_23",
          "1_24",
          "1_25",
          "1_26",
          "1_27",
          "1_28",
          "1_29",
          "1_30"
         ],
         "xaxis": "x2",
         "y": [
          0,
          1.6129032258064515,
          5.257936507936515,
          -1.0860484544695166,
          0.8130081300813066,
          0.8130081300813066,
          5.706332637439111,
          2.6104417670682674,
          1.210962396430847,
          2.727272727272727,
          -0.3981797497155875,
          0.35677879714577104,
          0.7597340930674237,
          0.43604651162790287,
          4.960593416782583,
          1.1680143755615555,
          1.396160558464237,
          3.86869871043376,
          2.017850213426466,
          1.047512158623258,
          2.2488211824446975,
          2.6157652880876654,
          0.7707129094412304,
          0.3051881993896207,
          2.8307888040712488,
          0.5132850241545988,
          1.2290167865707502,
          2.1873074553296434,
          1.9097222222222245,
          1.1583011583011582
         ],
         "yaxis": "y2"
        },
        {
         "hovertemplate": "solver=L4_D8_best<br>type=lrnn_best<br>difficulty=0<br>problem=%{x}<br>improvement (%)=%{y}<extra></extra>",
         "legendgroup": "L4_D8_best, lrnn_best",
         "line": {
          "color": "#FECB52",
          "dash": "dot"
         },
         "marker": {
          "symbol": "circle"
         },
         "mode": "lines",
         "name": "L4_D8_best, lrnn_best",
         "orientation": "v",
         "showlegend": true,
         "type": "scatter",
         "x": [
          "0_01",
          "0_02",
          "0_03",
          "0_04",
          "0_05",
          "0_06",
          "0_07",
          "0_08",
          "0_09",
          "0_10",
          "0_11",
          "0_12",
          "0_13",
          "0_14",
          "0_15",
          "0_16",
          "0_17",
          "0_18",
          "0_19",
          "0_20",
          "0_21",
          "0_22",
          "0_23",
          "0_24",
          "0_25",
          "0_26",
          "0_27",
          "0_28",
          "0_29",
          "0_30"
         ],
         "xaxis": "x",
         "y": [
          0,
          0,
          0,
          0,
          0,
          10.958904109589039,
          0,
          0,
          0,
          0,
          0,
          2.402402402402394,
          3.9548022598870065,
          6.162464985994405,
          4.228855721393033,
          1.5659955257270757,
          0,
          2.676399026763981,
          3.973509933774832,
          0,
          7.051282051282049,
          2.5641025641025643,
          4.040404040404036,
          2.103559870550163,
          3.903903903903906,
          1.4778325123152745,
          3.8461538461538423,
          2.2222222222222223,
          2.9126213592233077,
          -2.6722925457102655
         ],
         "yaxis": "y"
        },
        {
         "hovertemplate": "solver=L4_D8_best<br>type=lrnn_best<br>difficulty=1<br>problem=%{x}<br>improvement (%)=%{y}<extra></extra>",
         "legendgroup": "L4_D8_best, lrnn_best",
         "line": {
          "color": "#FECB52",
          "dash": "dot"
         },
         "marker": {
          "symbol": "circle"
         },
         "mode": "lines",
         "name": "L4_D8_best, lrnn_best",
         "orientation": "v",
         "showlegend": false,
         "type": "scatter",
         "x": [
          "1_01",
          "1_02",
          "1_03",
          "1_04",
          "1_05",
          "1_06",
          "1_07",
          "1_08",
          "1_09",
          "1_10",
          "1_11",
          "1_12",
          "1_13",
          "1_14",
          "1_15",
          "1_16",
          "1_17",
          "1_18",
          "1_19",
          "1_20",
          "1_21",
          "1_22",
          "1_23",
          "1_24",
          "1_25",
          "1_26",
          "1_27",
          "1_28",
          "1_29",
          "1_30"
         ],
         "xaxis": "x2",
         "y": [
          2.824858757062143,
          3.225806451612903,
          4.265873015873027,
          0.5847953216374293,
          2.8455284552845472,
          3.252032520325209,
          4.314544189283221,
          2.2757697456492627,
          5.353728489483743,
          2.727272727272727,
          2.730375426621163,
          0.10193679918452153,
          3.133903133903138,
          3.8275193798449503,
          5.1923968474733435,
          4.312668463611863,
          3.359511343804551,
          4.65025400547089,
          2.9879705083430466,
          1.2345679012345616,
          2.2488211824446975,
          4.206433368681515,
          2.376364804110471,
          3.0179721939640576,
          5.057251908396944,
          1.8719806763285118,
          1.6786570743405345,
          0.6469500924214444,
          0.7523148148148213,
          2.059202059202063
         ],
         "yaxis": "y2"
        },
        {
         "hovertemplate": "solver=L4_D16_best<br>type=lrnn_best<br>difficulty=0<br>problem=%{x}<br>improvement (%)=%{y}<extra></extra>",
         "legendgroup": "L4_D16_best, lrnn_best",
         "line": {
          "color": "#636efa",
          "dash": "dot"
         },
         "marker": {
          "symbol": "circle"
         },
         "mode": "lines",
         "name": "L4_D16_best, lrnn_best",
         "orientation": "v",
         "showlegend": true,
         "type": "scatter",
         "x": [
          "0_01",
          "0_02",
          "0_03",
          "0_04",
          "0_05",
          "0_06",
          "0_07",
          "0_08",
          "0_09",
          "0_10",
          "0_11",
          "0_12",
          "0_13",
          "0_14",
          "0_15",
          "0_16",
          "0_17",
          "0_18",
          "0_19",
          "0_20",
          "0_21",
          "0_22",
          "0_23",
          "0_24",
          "0_25",
          "0_26",
          "0_27",
          "0_28",
          "0_29",
          "0_30"
         ],
         "xaxis": "x",
         "y": [
          0,
          0,
          0,
          0,
          0,
          1.8264840182648336,
          0,
          0,
          0,
          0,
          0,
          0.9009009009008977,
          1.1299435028248697,
          3.3613445378151288,
          2.985074626865674,
          1.5659955257270757,
          0,
          0.24330900243308917,
          0.6622516556291367,
          0,
          9.188034188034191,
          2.5641025641025643,
          1.0101010101010173,
          4.5307443365695805,
          2.402402402402394,
          0.6568144499178958,
          -0.73260073260073,
          1.4814814814814763,
          1.2944983818770353,
          -3.3755274261603407
         ],
         "yaxis": "y"
        },
        {
         "hovertemplate": "solver=L4_D16_best<br>type=lrnn_best<br>difficulty=1<br>problem=%{x}<br>improvement (%)=%{y}<extra></extra>",
         "legendgroup": "L4_D16_best, lrnn_best",
         "line": {
          "color": "#636efa",
          "dash": "dot"
         },
         "marker": {
          "symbol": "circle"
         },
         "mode": "lines",
         "name": "L4_D16_best, lrnn_best",
         "orientation": "v",
         "showlegend": false,
         "type": "scatter",
         "x": [
          "1_01",
          "1_02",
          "1_03",
          "1_04",
          "1_05",
          "1_06",
          "1_07",
          "1_08",
          "1_09",
          "1_10",
          "1_11",
          "1_12",
          "1_13",
          "1_14",
          "1_15",
          "1_16",
          "1_17",
          "1_18",
          "1_19",
          "1_20",
          "1_21",
          "1_22",
          "1_23",
          "1_24",
          "1_25",
          "1_26",
          "1_27",
          "1_28",
          "1_29",
          "1_30"
         ],
         "xaxis": "x2",
         "y": [
          2.2598870056497216,
          2.688172043010749,
          6.746031746031753,
          -0.6683375104427712,
          0.8130081300813066,
          1.6260162601625958,
          1.5309672929714704,
          2.2757697456492627,
          3.441682600382404,
          3.030303030303026,
          2.730375426621163,
          0.10193679918452153,
          0.9971509971510012,
          2.8585271317829486,
          3.8015762633286982,
          2.2911051212938043,
          -1.0034904013961592,
          3.0871434153966306,
          2.9879705083430466,
          0.11223344556677253,
          2.0674646354733466,
          1.3785790031813332,
          1.4129736673089293,
          0.6442861987114199,
          2.5127226463104253,
          -0.5434782608695601,
          1.0791366906474846,
          -2.125693160813306,
          -0.2604166666666642,
          0.3861003861003861
         ],
         "yaxis": "y2"
        },
        {
         "hovertemplate": "solver=L4_D32_best<br>type=lrnn_best<br>difficulty=0<br>problem=%{x}<br>improvement (%)=%{y}<extra></extra>",
         "legendgroup": "L4_D32_best, lrnn_best",
         "line": {
          "color": "#EF553B",
          "dash": "dot"
         },
         "marker": {
          "symbol": "circle"
         },
         "mode": "lines",
         "name": "L4_D32_best, lrnn_best",
         "orientation": "v",
         "showlegend": true,
         "type": "scatter",
         "x": [
          "0_01",
          "0_02",
          "0_03",
          "0_04",
          "0_05",
          "0_06",
          "0_07",
          "0_08",
          "0_09",
          "0_10",
          "0_11",
          "0_12",
          "0_13",
          "0_14",
          "0_15",
          "0_16",
          "0_17",
          "0_18",
          "0_19",
          "0_20",
          "0_21",
          "0_22",
          "0_23",
          "0_24",
          "0_25",
          "0_26",
          "0_27",
          "0_28",
          "0_29",
          "0_30"
         ],
         "xaxis": "x",
         "y": [
          0,
          0,
          0,
          0,
          0,
          8.675799086757985,
          0,
          0,
          0,
          0,
          0,
          3.903903903903906,
          -0.2824858757062137,
          1.960784313725498,
          10.447761194029853,
          2.684563758389264,
          0,
          1.459854014598535,
          1.7660044150110312,
          0,
          0.6410256410256387,
          1.7094017094017033,
          1.0101010101010173,
          6.957928802588998,
          3.903903903903906,
          2.298850574712653,
          2.0146520146520173,
          4.444444444444445,
          4.5307443365695805,
          2.250351617440217
         ],
         "yaxis": "y"
        },
        {
         "hovertemplate": "solver=L4_D32_best<br>type=lrnn_best<br>difficulty=1<br>problem=%{x}<br>improvement (%)=%{y}<extra></extra>",
         "legendgroup": "L4_D32_best, lrnn_best",
         "line": {
          "color": "#EF553B",
          "dash": "dot"
         },
         "marker": {
          "symbol": "circle"
         },
         "mode": "lines",
         "name": "L4_D32_best, lrnn_best",
         "orientation": "v",
         "showlegend": false,
         "type": "scatter",
         "x": [
          "1_01",
          "1_02",
          "1_03",
          "1_04",
          "1_05",
          "1_06",
          "1_07",
          "1_08",
          "1_09",
          "1_10",
          "1_11",
          "1_12",
          "1_13",
          "1_14",
          "1_15",
          "1_16",
          "1_17",
          "1_18",
          "1_19",
          "1_20",
          "1_21",
          "1_22",
          "1_23",
          "1_24",
          "1_25",
          "1_26",
          "1_27",
          "1_28",
          "1_29",
          "1_30"
         ],
         "xaxis": "x2",
         "y": [
          1.694915254237288,
          2.688172043010749,
          1.7857142857142898,
          -0.2506265664160437,
          4.878048780487805,
          3.252032520325209,
          7.446068197633952,
          3.6144578313252955,
          2.8043339706819532,
          3.6363636363636362,
          1.59271899886235,
          1.3761467889908343,
          2.89648622981956,
          3.58527131782946,
          4.960593416782583,
          4.088050314465406,
          1.396160558464237,
          2.5009769441187877,
          1.435778036476524,
          0.6734006734006671,
          1.8861080885019958,
          2.9692470837751825,
          1.8946692357097,
          1.8311291963377387,
          3.466921119592868,
          1.5700483091787447,
          2.2781774580335714,
          1.725200246457185,
          2.199074074074072,
          1.029601029601037
         ],
         "yaxis": "y2"
        }
       ],
       "layout": {
        "annotations": [
         {
          "font": {},
          "showarrow": false,
          "text": "difficulty=0",
          "x": 0.245,
          "xanchor": "center",
          "xref": "paper",
          "y": 1,
          "yanchor": "bottom",
          "yref": "paper"
         },
         {
          "font": {},
          "showarrow": false,
          "text": "difficulty=1",
          "x": 0.755,
          "xanchor": "center",
          "xref": "paper",
          "y": 1,
          "yanchor": "bottom",
          "yref": "paper"
         }
        ],
        "legend": {
         "title": {
          "text": "solver, type"
         },
         "tracegroupgap": 0
        },
        "margin": {
         "t": 60
        },
        "template": {
         "data": {
          "bar": [
           {
            "error_x": {
             "color": "#2a3f5f"
            },
            "error_y": {
             "color": "#2a3f5f"
            },
            "marker": {
             "line": {
              "color": "#E5ECF6",
              "width": 0.5
             },
             "pattern": {
              "fillmode": "overlay",
              "size": 10,
              "solidity": 0.2
             }
            },
            "type": "bar"
           }
          ],
          "barpolar": [
           {
            "marker": {
             "line": {
              "color": "#E5ECF6",
              "width": 0.5
             },
             "pattern": {
              "fillmode": "overlay",
              "size": 10,
              "solidity": 0.2
             }
            },
            "type": "barpolar"
           }
          ],
          "carpet": [
           {
            "aaxis": {
             "endlinecolor": "#2a3f5f",
             "gridcolor": "white",
             "linecolor": "white",
             "minorgridcolor": "white",
             "startlinecolor": "#2a3f5f"
            },
            "baxis": {
             "endlinecolor": "#2a3f5f",
             "gridcolor": "white",
             "linecolor": "white",
             "minorgridcolor": "white",
             "startlinecolor": "#2a3f5f"
            },
            "type": "carpet"
           }
          ],
          "choropleth": [
           {
            "colorbar": {
             "outlinewidth": 0,
             "ticks": ""
            },
            "type": "choropleth"
           }
          ],
          "contour": [
           {
            "colorbar": {
             "outlinewidth": 0,
             "ticks": ""
            },
            "colorscale": [
             [
              0,
              "#0d0887"
             ],
             [
              0.1111111111111111,
              "#46039f"
             ],
             [
              0.2222222222222222,
              "#7201a8"
             ],
             [
              0.3333333333333333,
              "#9c179e"
             ],
             [
              0.4444444444444444,
              "#bd3786"
             ],
             [
              0.5555555555555556,
              "#d8576b"
             ],
             [
              0.6666666666666666,
              "#ed7953"
             ],
             [
              0.7777777777777778,
              "#fb9f3a"
             ],
             [
              0.8888888888888888,
              "#fdca26"
             ],
             [
              1,
              "#f0f921"
             ]
            ],
            "type": "contour"
           }
          ],
          "contourcarpet": [
           {
            "colorbar": {
             "outlinewidth": 0,
             "ticks": ""
            },
            "type": "contourcarpet"
           }
          ],
          "heatmap": [
           {
            "colorbar": {
             "outlinewidth": 0,
             "ticks": ""
            },
            "colorscale": [
             [
              0,
              "#0d0887"
             ],
             [
              0.1111111111111111,
              "#46039f"
             ],
             [
              0.2222222222222222,
              "#7201a8"
             ],
             [
              0.3333333333333333,
              "#9c179e"
             ],
             [
              0.4444444444444444,
              "#bd3786"
             ],
             [
              0.5555555555555556,
              "#d8576b"
             ],
             [
              0.6666666666666666,
              "#ed7953"
             ],
             [
              0.7777777777777778,
              "#fb9f3a"
             ],
             [
              0.8888888888888888,
              "#fdca26"
             ],
             [
              1,
              "#f0f921"
             ]
            ],
            "type": "heatmap"
           }
          ],
          "heatmapgl": [
           {
            "colorbar": {
             "outlinewidth": 0,
             "ticks": ""
            },
            "colorscale": [
             [
              0,
              "#0d0887"
             ],
             [
              0.1111111111111111,
              "#46039f"
             ],
             [
              0.2222222222222222,
              "#7201a8"
             ],
             [
              0.3333333333333333,
              "#9c179e"
             ],
             [
              0.4444444444444444,
              "#bd3786"
             ],
             [
              0.5555555555555556,
              "#d8576b"
             ],
             [
              0.6666666666666666,
              "#ed7953"
             ],
             [
              0.7777777777777778,
              "#fb9f3a"
             ],
             [
              0.8888888888888888,
              "#fdca26"
             ],
             [
              1,
              "#f0f921"
             ]
            ],
            "type": "heatmapgl"
           }
          ],
          "histogram": [
           {
            "marker": {
             "pattern": {
              "fillmode": "overlay",
              "size": 10,
              "solidity": 0.2
             }
            },
            "type": "histogram"
           }
          ],
          "histogram2d": [
           {
            "colorbar": {
             "outlinewidth": 0,
             "ticks": ""
            },
            "colorscale": [
             [
              0,
              "#0d0887"
             ],
             [
              0.1111111111111111,
              "#46039f"
             ],
             [
              0.2222222222222222,
              "#7201a8"
             ],
             [
              0.3333333333333333,
              "#9c179e"
             ],
             [
              0.4444444444444444,
              "#bd3786"
             ],
             [
              0.5555555555555556,
              "#d8576b"
             ],
             [
              0.6666666666666666,
              "#ed7953"
             ],
             [
              0.7777777777777778,
              "#fb9f3a"
             ],
             [
              0.8888888888888888,
              "#fdca26"
             ],
             [
              1,
              "#f0f921"
             ]
            ],
            "type": "histogram2d"
           }
          ],
          "histogram2dcontour": [
           {
            "colorbar": {
             "outlinewidth": 0,
             "ticks": ""
            },
            "colorscale": [
             [
              0,
              "#0d0887"
             ],
             [
              0.1111111111111111,
              "#46039f"
             ],
             [
              0.2222222222222222,
              "#7201a8"
             ],
             [
              0.3333333333333333,
              "#9c179e"
             ],
             [
              0.4444444444444444,
              "#bd3786"
             ],
             [
              0.5555555555555556,
              "#d8576b"
             ],
             [
              0.6666666666666666,
              "#ed7953"
             ],
             [
              0.7777777777777778,
              "#fb9f3a"
             ],
             [
              0.8888888888888888,
              "#fdca26"
             ],
             [
              1,
              "#f0f921"
             ]
            ],
            "type": "histogram2dcontour"
           }
          ],
          "mesh3d": [
           {
            "colorbar": {
             "outlinewidth": 0,
             "ticks": ""
            },
            "type": "mesh3d"
           }
          ],
          "parcoords": [
           {
            "line": {
             "colorbar": {
              "outlinewidth": 0,
              "ticks": ""
             }
            },
            "type": "parcoords"
           }
          ],
          "pie": [
           {
            "automargin": true,
            "type": "pie"
           }
          ],
          "scatter": [
           {
            "fillpattern": {
             "fillmode": "overlay",
             "size": 10,
             "solidity": 0.2
            },
            "type": "scatter"
           }
          ],
          "scatter3d": [
           {
            "line": {
             "colorbar": {
              "outlinewidth": 0,
              "ticks": ""
             }
            },
            "marker": {
             "colorbar": {
              "outlinewidth": 0,
              "ticks": ""
             }
            },
            "type": "scatter3d"
           }
          ],
          "scattercarpet": [
           {
            "marker": {
             "colorbar": {
              "outlinewidth": 0,
              "ticks": ""
             }
            },
            "type": "scattercarpet"
           }
          ],
          "scattergeo": [
           {
            "marker": {
             "colorbar": {
              "outlinewidth": 0,
              "ticks": ""
             }
            },
            "type": "scattergeo"
           }
          ],
          "scattergl": [
           {
            "marker": {
             "colorbar": {
              "outlinewidth": 0,
              "ticks": ""
             }
            },
            "type": "scattergl"
           }
          ],
          "scattermapbox": [
           {
            "marker": {
             "colorbar": {
              "outlinewidth": 0,
              "ticks": ""
             }
            },
            "type": "scattermapbox"
           }
          ],
          "scatterpolar": [
           {
            "marker": {
             "colorbar": {
              "outlinewidth": 0,
              "ticks": ""
             }
            },
            "type": "scatterpolar"
           }
          ],
          "scatterpolargl": [
           {
            "marker": {
             "colorbar": {
              "outlinewidth": 0,
              "ticks": ""
             }
            },
            "type": "scatterpolargl"
           }
          ],
          "scatterternary": [
           {
            "marker": {
             "colorbar": {
              "outlinewidth": 0,
              "ticks": ""
             }
            },
            "type": "scatterternary"
           }
          ],
          "surface": [
           {
            "colorbar": {
             "outlinewidth": 0,
             "ticks": ""
            },
            "colorscale": [
             [
              0,
              "#0d0887"
             ],
             [
              0.1111111111111111,
              "#46039f"
             ],
             [
              0.2222222222222222,
              "#7201a8"
             ],
             [
              0.3333333333333333,
              "#9c179e"
             ],
             [
              0.4444444444444444,
              "#bd3786"
             ],
             [
              0.5555555555555556,
              "#d8576b"
             ],
             [
              0.6666666666666666,
              "#ed7953"
             ],
             [
              0.7777777777777778,
              "#fb9f3a"
             ],
             [
              0.8888888888888888,
              "#fdca26"
             ],
             [
              1,
              "#f0f921"
             ]
            ],
            "type": "surface"
           }
          ],
          "table": [
           {
            "cells": {
             "fill": {
              "color": "#EBF0F8"
             },
             "line": {
              "color": "white"
             }
            },
            "header": {
             "fill": {
              "color": "#C8D4E3"
             },
             "line": {
              "color": "white"
             }
            },
            "type": "table"
           }
          ]
         },
         "layout": {
          "annotationdefaults": {
           "arrowcolor": "#2a3f5f",
           "arrowhead": 0,
           "arrowwidth": 1
          },
          "autotypenumbers": "strict",
          "coloraxis": {
           "colorbar": {
            "outlinewidth": 0,
            "ticks": ""
           }
          },
          "colorscale": {
           "diverging": [
            [
             0,
             "#8e0152"
            ],
            [
             0.1,
             "#c51b7d"
            ],
            [
             0.2,
             "#de77ae"
            ],
            [
             0.3,
             "#f1b6da"
            ],
            [
             0.4,
             "#fde0ef"
            ],
            [
             0.5,
             "#f7f7f7"
            ],
            [
             0.6,
             "#e6f5d0"
            ],
            [
             0.7,
             "#b8e186"
            ],
            [
             0.8,
             "#7fbc41"
            ],
            [
             0.9,
             "#4d9221"
            ],
            [
             1,
             "#276419"
            ]
           ],
           "sequential": [
            [
             0,
             "#0d0887"
            ],
            [
             0.1111111111111111,
             "#46039f"
            ],
            [
             0.2222222222222222,
             "#7201a8"
            ],
            [
             0.3333333333333333,
             "#9c179e"
            ],
            [
             0.4444444444444444,
             "#bd3786"
            ],
            [
             0.5555555555555556,
             "#d8576b"
            ],
            [
             0.6666666666666666,
             "#ed7953"
            ],
            [
             0.7777777777777778,
             "#fb9f3a"
            ],
            [
             0.8888888888888888,
             "#fdca26"
            ],
            [
             1,
             "#f0f921"
            ]
           ],
           "sequentialminus": [
            [
             0,
             "#0d0887"
            ],
            [
             0.1111111111111111,
             "#46039f"
            ],
            [
             0.2222222222222222,
             "#7201a8"
            ],
            [
             0.3333333333333333,
             "#9c179e"
            ],
            [
             0.4444444444444444,
             "#bd3786"
            ],
            [
             0.5555555555555556,
             "#d8576b"
            ],
            [
             0.6666666666666666,
             "#ed7953"
            ],
            [
             0.7777777777777778,
             "#fb9f3a"
            ],
            [
             0.8888888888888888,
             "#fdca26"
            ],
            [
             1,
             "#f0f921"
            ]
           ]
          },
          "colorway": [
           "#636efa",
           "#EF553B",
           "#00cc96",
           "#ab63fa",
           "#FFA15A",
           "#19d3f3",
           "#FF6692",
           "#B6E880",
           "#FF97FF",
           "#FECB52"
          ],
          "font": {
           "color": "#2a3f5f"
          },
          "geo": {
           "bgcolor": "white",
           "lakecolor": "white",
           "landcolor": "#E5ECF6",
           "showlakes": true,
           "showland": true,
           "subunitcolor": "white"
          },
          "hoverlabel": {
           "align": "left"
          },
          "hovermode": "closest",
          "mapbox": {
           "style": "light"
          },
          "paper_bgcolor": "white",
          "plot_bgcolor": "#E5ECF6",
          "polar": {
           "angularaxis": {
            "gridcolor": "white",
            "linecolor": "white",
            "ticks": ""
           },
           "bgcolor": "#E5ECF6",
           "radialaxis": {
            "gridcolor": "white",
            "linecolor": "white",
            "ticks": ""
           }
          },
          "scene": {
           "xaxis": {
            "backgroundcolor": "#E5ECF6",
            "gridcolor": "white",
            "gridwidth": 2,
            "linecolor": "white",
            "showbackground": true,
            "ticks": "",
            "zerolinecolor": "white"
           },
           "yaxis": {
            "backgroundcolor": "#E5ECF6",
            "gridcolor": "white",
            "gridwidth": 2,
            "linecolor": "white",
            "showbackground": true,
            "ticks": "",
            "zerolinecolor": "white"
           },
           "zaxis": {
            "backgroundcolor": "#E5ECF6",
            "gridcolor": "white",
            "gridwidth": 2,
            "linecolor": "white",
            "showbackground": true,
            "ticks": "",
            "zerolinecolor": "white"
           }
          },
          "shapedefaults": {
           "line": {
            "color": "#2a3f5f"
           }
          },
          "ternary": {
           "aaxis": {
            "gridcolor": "white",
            "linecolor": "white",
            "ticks": ""
           },
           "baxis": {
            "gridcolor": "white",
            "linecolor": "white",
            "ticks": ""
           },
           "bgcolor": "#E5ECF6",
           "caxis": {
            "gridcolor": "white",
            "linecolor": "white",
            "ticks": ""
           }
          },
          "title": {
           "x": 0.05
          },
          "xaxis": {
           "automargin": true,
           "gridcolor": "white",
           "linecolor": "white",
           "ticks": "",
           "title": {
            "standoff": 15
           },
           "zerolinecolor": "white",
           "zerolinewidth": 2
          },
          "yaxis": {
           "automargin": true,
           "gridcolor": "white",
           "linecolor": "white",
           "ticks": "",
           "title": {
            "standoff": 15
           },
           "zerolinecolor": "white",
           "zerolinewidth": 2
          }
         }
        },
        "xaxis": {
         "anchor": "y",
         "categoryorder": "array",
         "domain": [
          0,
          0.49
         ],
         "showticklabels": true,
         "title": {
          "text": "problem"
         }
        },
        "xaxis2": {
         "anchor": "y2",
         "categoryorder": "array",
         "domain": [
          0.51,
          1
         ],
         "showticklabels": true,
         "title": {
          "text": "problem"
         }
        },
        "yaxis": {
         "anchor": "x",
         "domain": [
          0,
          1
         ],
         "range": [
          -100,
          100
         ],
         "showticklabels": true,
         "title": {
          "text": "improvement (%)"
         }
        },
        "yaxis2": {
         "anchor": "x2",
         "domain": [
          0,
          1
         ],
         "range": [
          -100,
          100
         ],
         "showticklabels": true
        }
       }
      }
     },
     "metadata": {},
     "output_type": "display_data"
    },
    {
     "name": "stdout",
     "output_type": "stream",
     "text": [
      "ferry\n"
     ]
    },
    {
     "data": {
      "application/vnd.plotly.v1+json": {
       "config": {
        "plotlyServerURL": "https://plot.ly"
       },
       "data": [
        {
         "hovertemplate": "solver=baseline<br>type=bounds<br>difficulty=0<br>problem=%{x}<br>improvement (%)=%{y}<extra></extra>",
         "legendgroup": "baseline, bounds",
         "line": {
          "color": "#636efa",
          "dash": "solid"
         },
         "marker": {
          "symbol": "circle"
         },
         "mode": "lines",
         "name": "baseline, bounds",
         "orientation": "v",
         "showlegend": true,
         "type": "scatter",
         "x": [
          "0_01",
          "0_02",
          "0_03",
          "0_04",
          "0_05",
          "0_06",
          "0_07",
          "0_08",
          "0_09",
          "0_10",
          "0_11",
          "0_12",
          "0_13",
          "0_14",
          "0_15",
          "0_16",
          "0_17",
          "0_18",
          "0_19",
          "0_20",
          "0_21",
          "0_22",
          "0_23",
          "0_24",
          "0_25",
          "0_26",
          "0_27",
          "0_28",
          "0_29",
          "0_30"
         ],
         "xaxis": "x",
         "y": [
          0,
          0,
          0,
          0,
          0,
          0,
          0,
          0,
          0,
          0,
          0,
          0,
          0,
          0,
          0,
          0,
          0,
          0,
          0,
          0,
          0,
          0,
          0,
          0,
          0,
          0,
          0,
          0,
          0,
          0
         ],
         "yaxis": "y"
        },
        {
         "hovertemplate": "solver=baseline<br>type=bounds<br>difficulty=1<br>problem=%{x}<br>improvement (%)=%{y}<extra></extra>",
         "legendgroup": "baseline, bounds",
         "line": {
          "color": "#636efa",
          "dash": "solid"
         },
         "marker": {
          "symbol": "circle"
         },
         "mode": "lines",
         "name": "baseline, bounds",
         "orientation": "v",
         "showlegend": false,
         "type": "scatter",
         "x": [
          "1_01",
          "1_02",
          "1_03",
          "1_04",
          "1_05",
          "1_06",
          "1_07",
          "1_08",
          "1_09",
          "1_10",
          "1_11",
          "1_12",
          "1_13",
          "1_14",
          "1_15",
          "1_16",
          "1_17",
          "1_18",
          "1_19",
          "1_20",
          "1_21",
          "1_22",
          "1_23",
          "1_24",
          "1_25",
          "1_26",
          "1_27",
          "1_28",
          "1_29",
          "1_30"
         ],
         "xaxis": "x2",
         "y": [
          0,
          0,
          0,
          0,
          0,
          0,
          0,
          0,
          0,
          0,
          0,
          0,
          0,
          0,
          0,
          0,
          0,
          0,
          0,
          0,
          0,
          0,
          0,
          0,
          0,
          0,
          0,
          0,
          0,
          0
         ],
         "yaxis": "y2"
        },
        {
         "hovertemplate": "solver=optimal<br>type=bounds<br>difficulty=0<br>problem=%{x}<br>improvement (%)=%{y}<extra></extra>",
         "legendgroup": "optimal, bounds",
         "line": {
          "color": "#EF553B",
          "dash": "solid"
         },
         "marker": {
          "symbol": "circle"
         },
         "mode": "lines",
         "name": "optimal, bounds",
         "orientation": "v",
         "showlegend": true,
         "type": "scatter",
         "x": [
          "0_01",
          "0_02",
          "0_03",
          "0_04",
          "0_05",
          "0_06",
          "0_07",
          "0_08",
          "0_09",
          "0_10",
          "0_11",
          "0_12",
          "0_13",
          "0_14",
          "0_15",
          "0_16",
          "0_17",
          "0_18",
          "0_19",
          "0_20",
          "0_21",
          "0_22",
          "0_23",
          "0_24",
          "0_25",
          "0_26",
          "0_27",
          "0_28",
          "0_29",
          "0_30"
         ],
         "xaxis": "x",
         "y": [
          0,
          0,
          0,
          0,
          0,
          5.2631578947368425,
          1.041666666666663,
          2.542372881355938,
          4.761904761904759,
          2.985074626865674,
          3.846153846153844,
          1.3605442176870701,
          6.626506024096393,
          5.17241379310344,
          2.116402116402109,
          4.411764705882346,
          null,
          4.761904761904762,
          1.7857142857142796,
          null,
          null,
          null,
          null,
          null,
          null,
          null,
          null,
          null,
          null,
          null
         ],
         "yaxis": "y"
        },
        {
         "hovertemplate": "solver=optimal<br>type=bounds<br>difficulty=1<br>problem=%{x}<br>improvement (%)=%{y}<extra></extra>",
         "legendgroup": "optimal, bounds",
         "line": {
          "color": "#EF553B",
          "dash": "solid"
         },
         "marker": {
          "symbol": "circle"
         },
         "mode": "lines",
         "name": "optimal, bounds",
         "orientation": "v",
         "showlegend": false,
         "type": "scatter",
         "x": [
          "1_01",
          "1_02",
          "1_03",
          "1_04",
          "1_05",
          "1_06",
          "1_07",
          "1_08",
          "1_09",
          "1_10",
          "1_11",
          "1_12",
          "1_13",
          "1_14",
          "1_15",
          "1_16",
          "1_17",
          "1_18",
          "1_19",
          "1_20",
          "1_21",
          "1_22",
          "1_23",
          "1_24",
          "1_25",
          "1_26",
          "1_27",
          "1_28",
          "1_29",
          "1_30"
         ],
         "xaxis": "x2",
         "y": [
          2.7027027027027026,
          5.622489959839352,
          null,
          null,
          null,
          null,
          null,
          null,
          null,
          null,
          null,
          null,
          null,
          null,
          null,
          null,
          null,
          null,
          null,
          null,
          null,
          null,
          null,
          null,
          null,
          null,
          null,
          null,
          null,
          null
         ],
         "yaxis": "y2"
        },
        {
         "hovertemplate": "solver=lama<br>type=bounds<br>difficulty=0<br>problem=%{x}<br>improvement (%)=%{y}<extra></extra>",
         "legendgroup": "lama, bounds",
         "line": {
          "color": "#00cc96",
          "dash": "solid"
         },
         "marker": {
          "symbol": "circle"
         },
         "mode": "lines",
         "name": "lama, bounds",
         "orientation": "v",
         "showlegend": true,
         "type": "scatter",
         "x": [
          "0_01",
          "0_02",
          "0_03",
          "0_04",
          "0_05",
          "0_06",
          "0_07",
          "0_08",
          "0_09",
          "0_10",
          "0_11",
          "0_12",
          "0_13",
          "0_14",
          "0_15",
          "0_16",
          "0_17",
          "0_18",
          "0_19",
          "0_20",
          "0_21",
          "0_22",
          "0_23",
          "0_24",
          "0_25",
          "0_26",
          "0_27",
          "0_28",
          "0_29",
          "0_30"
         ],
         "xaxis": "x",
         "y": [
          0,
          -12.5,
          -16.666666666666668,
          -27.272727272727273,
          -33.333333333333336,
          -5.2631578947368425,
          -19.79166666666667,
          -10.169491525423723,
          -7.142857142857145,
          -23.13432835820895,
          -18.589743589743595,
          -29.251700680272116,
          -8.433734939759027,
          -14.942528735632191,
          -24.338624338624346,
          -20.09803921568628,
          -21.681415929203535,
          -16.666666666666668,
          -22.76785714285715,
          -10.465116279069765,
          -23.01587301587302,
          -20.078740157480322,
          -24.53531598513012,
          -26.279863481228663,
          -14.147909967845655,
          -20.860927152317885,
          -18.89250814332248,
          -16.959064327485372,
          -19.047619047619044,
          -12
         ],
         "yaxis": "y"
        },
        {
         "hovertemplate": "solver=lama<br>type=bounds<br>difficulty=1<br>problem=%{x}<br>improvement (%)=%{y}<extra></extra>",
         "legendgroup": "lama, bounds",
         "line": {
          "color": "#00cc96",
          "dash": "solid"
         },
         "marker": {
          "symbol": "circle"
         },
         "mode": "lines",
         "name": "lama, bounds",
         "orientation": "v",
         "showlegend": false,
         "type": "scatter",
         "x": [
          "1_01",
          "1_02",
          "1_03",
          "1_04",
          "1_05",
          "1_06",
          "1_07",
          "1_08",
          "1_09",
          "1_10",
          "1_11",
          "1_12",
          "1_13",
          "1_14",
          "1_15",
          "1_16",
          "1_17",
          "1_18",
          "1_19",
          "1_20",
          "1_21",
          "1_22",
          "1_23",
          "1_24",
          "1_25",
          "1_26",
          "1_27",
          "1_28",
          "1_29",
          "1_30"
         ],
         "xaxis": "x2",
         "y": [
          -21.62162162162162,
          -10.441767068273098,
          -25.81699346405228,
          -21.037463976945237,
          -23.69791666666667,
          -20.171673819742487,
          -24.760076775431855,
          -27.071823204419896,
          -22.16828478964402,
          -20.481927710843365,
          -23.96121883656509,
          -22.27912932138285,
          -19.56521739130435,
          -23.41407151095732,
          -21.76724137931035,
          -18.902439024390237,
          -21.015936254980073,
          -20.037807183364844,
          -18.72340425531915,
          -20.822622107969146,
          -20.408163265306122,
          -23.137254901960784,
          -20.117907148120864,
          -21.611982881597726,
          -23.62258953168045,
          -25.582944703530984,
          -19.91094147582698,
          -20.440251572327043,
          -25.82781456953643,
          -23.036649214659683
         ],
         "yaxis": "y2"
        },
        {
         "hovertemplate": "solver=L2_D8_best<br>type=lrnn_best<br>difficulty=0<br>problem=%{x}<br>improvement (%)=%{y}<extra></extra>",
         "legendgroup": "L2_D8_best, lrnn_best",
         "line": {
          "color": "#ab63fa",
          "dash": "dot"
         },
         "marker": {
          "symbol": "circle"
         },
         "mode": "lines",
         "name": "L2_D8_best, lrnn_best",
         "orientation": "v",
         "showlegend": true,
         "type": "scatter",
         "x": [
          "0_01",
          "0_02",
          "0_03",
          "0_04",
          "0_05",
          "0_06",
          "0_07",
          "0_08",
          "0_09",
          "0_10",
          "0_11",
          "0_12",
          "0_13",
          "0_14",
          "0_15",
          "0_16",
          "0_17",
          "0_18",
          "0_19",
          "0_20",
          "0_21",
          "0_22",
          "0_23",
          "0_24",
          "0_25",
          "0_26",
          "0_27",
          "0_28",
          "0_29",
          "0_30"
         ],
         "xaxis": "x",
         "y": [
          0,
          0,
          0,
          0,
          0,
          5.2631578947368425,
          1.041666666666663,
          2.542372881355938,
          4.761904761904759,
          2.985074626865674,
          3.846153846153844,
          1.3605442176870701,
          6.626506024096393,
          5.17241379310344,
          2.116402116402109,
          4.411764705882346,
          0.44247787610620093,
          4.761904761904762,
          1.7857142857142796,
          5.0387596899224825,
          2.777777777777775,
          1.5748031496062938,
          2.7261462205700027,
          2.730375426621163,
          3.001071811361201,
          3.973509933774832,
          3.9087947882736134,
          3.508771929824569,
          4.761904761904766,
          3.111111111111105
         ],
         "yaxis": "y"
        },
        {
         "hovertemplate": "solver=L2_D8_best<br>type=lrnn_best<br>difficulty=1<br>problem=%{x}<br>improvement (%)=%{y}<extra></extra>",
         "legendgroup": "L2_D8_best, lrnn_best",
         "line": {
          "color": "#ab63fa",
          "dash": "dot"
         },
         "marker": {
          "symbol": "circle"
         },
         "mode": "lines",
         "name": "L2_D8_best, lrnn_best",
         "orientation": "v",
         "showlegend": false,
         "type": "scatter",
         "x": [
          "1_01",
          "1_02",
          "1_03",
          "1_04",
          "1_05",
          "1_06",
          "1_07",
          "1_08",
          "1_09",
          "1_10",
          "1_11",
          "1_12",
          "1_13",
          "1_14",
          "1_15",
          "1_16",
          "1_17",
          "1_18",
          "1_19",
          "1_20",
          "1_21",
          "1_22",
          "1_23",
          "1_24",
          "1_25",
          "1_26",
          "1_27",
          "1_28",
          "1_29",
          "1_30"
         ],
         "xaxis": "x2",
         "y": [
          2.7027027027027026,
          5.622489959839352,
          0.32679738562091964,
          3.4582132564841577,
          3.211805555555558,
          4.506437768240346,
          4.030710172744724,
          4.235727440147325,
          2.642934196332254,
          2.6104417670682745,
          3.739612188365655,
          2.4754588134869695,
          3.18035426731078,
          4.652056901191847,
          3.556034482758618,
          3.7940379403794044,
          2.8884462151394477,
          3.434152488972898,
          3.8297872340425534,
          3.598971722365041,
          4.353741496598635,
          4.313725490196078,
          3.709162367968557,
          3.3523537803138295,
          2.892561983471067,
          4.286031534532537,
          3.5199321458863433,
          3.7735849056603774,
          3.6724864539434043,
          4.304828388598025
         ],
         "yaxis": "y2"
        },
        {
         "hovertemplate": "solver=L2_D16_best<br>type=lrnn_best<br>difficulty=0<br>problem=%{x}<br>improvement (%)=%{y}<extra></extra>",
         "legendgroup": "L2_D16_best, lrnn_best",
         "line": {
          "color": "#FFA15A",
          "dash": "dot"
         },
         "marker": {
          "symbol": "circle"
         },
         "mode": "lines",
         "name": "L2_D16_best, lrnn_best",
         "orientation": "v",
         "showlegend": true,
         "type": "scatter",
         "x": [
          "0_01",
          "0_02",
          "0_03",
          "0_04",
          "0_05",
          "0_06",
          "0_07",
          "0_08",
          "0_09",
          "0_10",
          "0_11",
          "0_12",
          "0_13",
          "0_14",
          "0_15",
          "0_16",
          "0_17",
          "0_18",
          "0_19",
          "0_20",
          "0_21",
          "0_22",
          "0_23",
          "0_24",
          "0_25",
          "0_26",
          "0_27",
          "0_28",
          "0_29",
          "0_30"
         ],
         "xaxis": "x",
         "y": [
          0,
          0,
          0,
          0,
          0,
          5.2631578947368425,
          1.041666666666663,
          2.542372881355938,
          4.761904761904759,
          2.985074626865674,
          3.846153846153844,
          1.3605442176870701,
          6.626506024096393,
          3.256704980842911,
          2.116402116402109,
          4.411764705882346,
          0.44247787610620093,
          4.761904761904762,
          0.29761904761904656,
          5.0387596899224825,
          2.777777777777775,
          0.9186351706036643,
          3.345724907063192,
          2.730375426621163,
          3.5369774919614194,
          3.973509933774832,
          3.9087947882736134,
          3.508771929824569,
          4.761904761904766,
          3.111111111111105
         ],
         "yaxis": "y"
        },
        {
         "hovertemplate": "solver=L2_D16_best<br>type=lrnn_best<br>difficulty=1<br>problem=%{x}<br>improvement (%)=%{y}<extra></extra>",
         "legendgroup": "L2_D16_best, lrnn_best",
         "line": {
          "color": "#FFA15A",
          "dash": "dot"
         },
         "marker": {
          "symbol": "circle"
         },
         "mode": "lines",
         "name": "L2_D16_best, lrnn_best",
         "orientation": "v",
         "showlegend": false,
         "type": "scatter",
         "x": [
          "1_01",
          "1_02",
          "1_03",
          "1_04",
          "1_05",
          "1_06",
          "1_07",
          "1_08",
          "1_09",
          "1_10",
          "1_11",
          "1_12",
          "1_13",
          "1_14",
          "1_15",
          "1_16",
          "1_17",
          "1_18",
          "1_19",
          "1_20",
          "1_21",
          "1_22",
          "1_23",
          "1_24",
          "1_25",
          "1_26",
          "1_27",
          "1_28",
          "1_29",
          "1_30"
         ],
         "xaxis": "x2",
         "y": [
          2.7027027027027026,
          5.622489959839352,
          0.32679738562091964,
          2.977905859750255,
          3.64583333333333,
          3.791130185979969,
          4.030710172744724,
          4.235727440147325,
          2.9126213592232966,
          2.3594377510040316,
          3.5087719298245585,
          2.6888604353393015,
          3.3816425120772915,
          4.8442906574394495,
          3.556034482758618,
          3.455284552845534,
          2.3904382470119576,
          3.434152488972898,
          3.8297872340425534,
          3.456155384175948,
          4.489795918367347,
          4.052287581699351,
          3.709162367968557,
          2.995720399429379,
          2.892561983471067,
          4.397068620919383,
          3.5199321458863433,
          3.3542976939203415,
          3.572145293999601,
          4.110917199922433
         ],
         "yaxis": "y2"
        },
        {
         "hovertemplate": "solver=L2_D32_best<br>type=lrnn_best<br>difficulty=0<br>problem=%{x}<br>improvement (%)=%{y}<extra></extra>",
         "legendgroup": "L2_D32_best, lrnn_best",
         "line": {
          "color": "#19d3f3",
          "dash": "dot"
         },
         "marker": {
          "symbol": "circle"
         },
         "mode": "lines",
         "name": "L2_D32_best, lrnn_best",
         "orientation": "v",
         "showlegend": true,
         "type": "scatter",
         "x": [
          "0_01",
          "0_02",
          "0_03",
          "0_04",
          "0_05",
          "0_06",
          "0_07",
          "0_08",
          "0_09",
          "0_10",
          "0_11",
          "0_12",
          "0_13",
          "0_14",
          "0_15",
          "0_16",
          "0_17",
          "0_18",
          "0_19",
          "0_20",
          "0_21",
          "0_22",
          "0_23",
          "0_24",
          "0_25",
          "0_26",
          "0_27",
          "0_28",
          "0_29",
          "0_30"
         ],
         "xaxis": "x",
         "y": [
          0,
          0,
          0,
          0,
          0,
          5.2631578947368425,
          1.041666666666663,
          2.542372881355938,
          3.4391534391534413,
          2.985074626865674,
          2.7777777777777795,
          1.3605442176870701,
          6.626506024096393,
          3.256704980842911,
          2.116402116402109,
          3.594771241830053,
          0.44247787610620093,
          3.9682539682539626,
          0.29761904761904656,
          3.1007751937984525,
          2.777777777777775,
          0.9186351706036643,
          3.345724907063192,
          2.16154721274175,
          2.4651661307609944,
          3.421633554083879,
          3.9087947882736134,
          2.534113060428851,
          3.7698412698412667,
          2.2222222222222285
         ],
         "yaxis": "y"
        },
        {
         "hovertemplate": "solver=L2_D32_best<br>type=lrnn_best<br>difficulty=1<br>problem=%{x}<br>improvement (%)=%{y}<extra></extra>",
         "legendgroup": "L2_D32_best, lrnn_best",
         "line": {
          "color": "#19d3f3",
          "dash": "dot"
         },
         "marker": {
          "symbol": "circle"
         },
         "mode": "lines",
         "name": "L2_D32_best, lrnn_best",
         "orientation": "v",
         "showlegend": false,
         "type": "scatter",
         "x": [
          "1_01",
          "1_02",
          "1_03",
          "1_04",
          "1_05",
          "1_06",
          "1_07",
          "1_08",
          "1_09",
          "1_10",
          "1_11",
          "1_12",
          "1_13",
          "1_14",
          "1_15",
          "1_16",
          "1_17",
          "1_18",
          "1_19",
          "1_20",
          "1_21",
          "1_22",
          "1_23",
          "1_24",
          "1_25",
          "1_26",
          "1_27",
          "1_28",
          "1_29",
          "1_30"
         ],
         "xaxis": "x2",
         "y": [
          2.7027027027027026,
          4.953145917001328,
          0.32679738562091964,
          3.4582132564841577,
          2.777777777777768,
          3.0758226037196073,
          4.030710172744724,
          4.235727440147325,
          2.9126213592232966,
          1.8574297188755033,
          3.047091412742386,
          1.408450704225345,
          2.7777777777777746,
          4.075355632449056,
          3.376436781609187,
          1.930894308943095,
          1.5604249667994792,
          2.331442974165093,
          3.546099290780146,
          2.4564410168523345,
          3.129251700680268,
          3.2679738562091543,
          2.9722426922132144,
          2.5202092249167842,
          1.9742883379246874,
          3.619809016211417,
          2.777777777777765,
          2.9350104821802874,
          2.2677102147300734,
          3.5291836338956735
         ],
         "yaxis": "y2"
        },
        {
         "hovertemplate": "solver=L3_D8_best<br>type=lrnn_best<br>difficulty=0<br>problem=%{x}<br>improvement (%)=%{y}<extra></extra>",
         "legendgroup": "L3_D8_best, lrnn_best",
         "line": {
          "color": "#FF6692",
          "dash": "dot"
         },
         "marker": {
          "symbol": "circle"
         },
         "mode": "lines",
         "name": "L3_D8_best, lrnn_best",
         "orientation": "v",
         "showlegend": true,
         "type": "scatter",
         "x": [
          "0_01",
          "0_02",
          "0_03",
          "0_04",
          "0_05",
          "0_06",
          "0_07",
          "0_08",
          "0_09",
          "0_10",
          "0_11",
          "0_12",
          "0_13",
          "0_14",
          "0_15",
          "0_16",
          "0_17",
          "0_18",
          "0_19",
          "0_20",
          "0_21",
          "0_22",
          "0_23",
          "0_24",
          "0_25",
          "0_26",
          "0_27",
          "0_28",
          "0_29",
          "0_30"
         ],
         "xaxis": "x",
         "y": [
          0,
          0,
          0,
          0,
          0,
          5.2631578947368425,
          1.041666666666663,
          2.542372881355938,
          4.761904761904759,
          2.985074626865674,
          3.846153846153844,
          1.3605442176870701,
          6.626506024096393,
          5.17241379310344,
          2.116402116402109,
          4.411764705882346,
          0.44247787610620093,
          3.9682539682539626,
          1.0416666666666552,
          5.0387596899224825,
          2.777777777777775,
          0.9186351706036643,
          2.7261462205700027,
          2.730375426621163,
          3.5369774919614194,
          3.973509933774832,
          3.9087947882736134,
          2.046783625731002,
          4.265873015873027,
          2.6666666666666665
         ],
         "yaxis": "y"
        },
        {
         "hovertemplate": "solver=L3_D8_best<br>type=lrnn_best<br>difficulty=1<br>problem=%{x}<br>improvement (%)=%{y}<extra></extra>",
         "legendgroup": "L3_D8_best, lrnn_best",
         "line": {
          "color": "#FF6692",
          "dash": "dot"
         },
         "marker": {
          "symbol": "circle"
         },
         "mode": "lines",
         "name": "L3_D8_best, lrnn_best",
         "orientation": "v",
         "showlegend": false,
         "type": "scatter",
         "x": [
          "1_01",
          "1_02",
          "1_03",
          "1_04",
          "1_05",
          "1_06",
          "1_07",
          "1_08",
          "1_09",
          "1_10",
          "1_11",
          "1_12",
          "1_13",
          "1_14",
          "1_15",
          "1_16",
          "1_17",
          "1_18",
          "1_19",
          "1_20",
          "1_21",
          "1_22",
          "1_23",
          "1_24",
          "1_25",
          "1_26",
          "1_27",
          "1_28",
          "1_29",
          "1_30"
         ],
         "xaxis": "x2",
         "y": [
          2.7027027027027026,
          5.622489959839352,
          0.32679738562091964,
          3.4582132564841577,
          3.64583333333333,
          4.506437768240346,
          4.030710172744724,
          4.235727440147325,
          2.9126213592232966,
          2.3594377510040316,
          3.5087719298245585,
          2.6888604353393015,
          3.3816425120772915,
          4.459823144944261,
          3.376436781609187,
          3.7940379403794044,
          2.556440903054459,
          2.9615626969124063,
          3.8297872340425534,
          2.8848900314196007,
          3.945578231292513,
          4.052287581699351,
          3.709162367968557,
          2.995720399429379,
          2.548209366391177,
          3.952920275371977,
          2.883799830364715,
          2.9350104821802874,
          2.6690748545053204,
          3.5291836338956735
         ],
         "yaxis": "y2"
        },
        {
         "hovertemplate": "solver=L3_D16_best<br>type=lrnn_best<br>difficulty=0<br>problem=%{x}<br>improvement (%)=%{y}<extra></extra>",
         "legendgroup": "L3_D16_best, lrnn_best",
         "line": {
          "color": "#B6E880",
          "dash": "dot"
         },
         "marker": {
          "symbol": "circle"
         },
         "mode": "lines",
         "name": "L3_D16_best, lrnn_best",
         "orientation": "v",
         "showlegend": true,
         "type": "scatter",
         "x": [
          "0_01",
          "0_02",
          "0_03",
          "0_04",
          "0_05",
          "0_06",
          "0_07",
          "0_08",
          "0_09",
          "0_10",
          "0_11",
          "0_12",
          "0_13",
          "0_14",
          "0_15",
          "0_16",
          "0_17",
          "0_18",
          "0_19",
          "0_20",
          "0_21",
          "0_22",
          "0_23",
          "0_24",
          "0_25",
          "0_26",
          "0_27",
          "0_28",
          "0_29",
          "0_30"
         ],
         "xaxis": "x",
         "y": [
          0,
          0,
          0,
          0,
          0,
          5.2631578947368425,
          1.041666666666663,
          2.542372881355938,
          4.761904761904759,
          2.985074626865674,
          3.846153846153844,
          1.3605442176870701,
          6.626506024096393,
          5.17241379310344,
          2.116402116402109,
          4.411764705882346,
          0.44247787610620093,
          3.17460317460318,
          1.0416666666666552,
          4.392764857881135,
          2.777777777777775,
          1.5748031496062938,
          2.7261462205700027,
          2.730375426621163,
          3.5369774919614194,
          3.973509933774832,
          2.823018458197613,
          3.0214424951267205,
          4.265873015873027,
          2.6666666666666665
         ],
         "yaxis": "y"
        },
        {
         "hovertemplate": "solver=L3_D16_best<br>type=lrnn_best<br>difficulty=1<br>problem=%{x}<br>improvement (%)=%{y}<extra></extra>",
         "legendgroup": "L3_D16_best, lrnn_best",
         "line": {
          "color": "#B6E880",
          "dash": "dot"
         },
         "marker": {
          "symbol": "circle"
         },
         "mode": "lines",
         "name": "L3_D16_best, lrnn_best",
         "orientation": "v",
         "showlegend": false,
         "type": "scatter",
         "x": [
          "1_01",
          "1_02",
          "1_03",
          "1_04",
          "1_05",
          "1_06",
          "1_07",
          "1_08",
          "1_09",
          "1_10",
          "1_11",
          "1_12",
          "1_13",
          "1_14",
          "1_15",
          "1_16",
          "1_17",
          "1_18",
          "1_19",
          "1_20",
          "1_21",
          "1_22",
          "1_23",
          "1_24",
          "1_25",
          "1_26",
          "1_27",
          "1_28",
          "1_29",
          "1_30"
         ],
         "xaxis": "x2",
         "y": [
          2.7027027027027026,
          4.953145917001328,
          0.32679738562091964,
          3.4582132564841577,
          3.64583333333333,
          4.506437768240346,
          4.030710172744724,
          3.6218538980969828,
          2.1035598705501575,
          2.6104417670682745,
          3.5087719298245585,
          2.2620571916346552,
          2.7777777777777746,
          4.459823144944261,
          2.6580459770114966,
          2.6084010840108505,
          2.224435590969456,
          3.119092627599241,
          3.6879432624113435,
          2.742073693230508,
          3.673469387755102,
          3.5294117647058822,
          3.586342422009319,
          2.282453637660477,
          2.4334251606978867,
          3.5087719298245514,
          2.883799830364715,
          2.410901467505247,
          2.869757174392927,
          3.9170060112468574
         ],
         "yaxis": "y2"
        },
        {
         "hovertemplate": "solver=L3_D32_best<br>type=lrnn_best<br>difficulty=0<br>problem=%{x}<br>improvement (%)=%{y}<extra></extra>",
         "legendgroup": "L3_D32_best, lrnn_best",
         "line": {
          "color": "#FF97FF",
          "dash": "dot"
         },
         "marker": {
          "symbol": "circle"
         },
         "mode": "lines",
         "name": "L3_D32_best, lrnn_best",
         "orientation": "v",
         "showlegend": true,
         "type": "scatter",
         "x": [
          "0_01",
          "0_02",
          "0_03",
          "0_04",
          "0_05",
          "0_06",
          "0_07",
          "0_08",
          "0_09",
          "0_10",
          "0_11",
          "0_12",
          "0_13",
          "0_14",
          "0_15",
          "0_16",
          "0_17",
          "0_18",
          "0_19",
          "0_20",
          "0_21",
          "0_22",
          "0_23",
          "0_24",
          "0_25",
          "0_26",
          "0_27",
          "0_28",
          "0_29",
          "0_30"
         ],
         "xaxis": "x",
         "y": [
          0,
          0,
          0,
          -3.0303030303030356,
          0,
          0,
          -0.694444444444442,
          2.542372881355938,
          3.4391534391534413,
          1.7412935323383154,
          1.7094017094017033,
          0.22675736961451168,
          3.6144578313253093,
          4.214559386973165,
          1.2345679012345543,
          1.9607843137254835,
          -0.29498525073746207,
          4.761904761904762,
          -0.4464285714285778,
          2.4547803617571042,
          0.7936507936507908,
          1.5748031496062938,
          2.7261462205700027,
          2.16154721274175,
          1.3933547695605581,
          1.2141280353200898,
          2.280130293159607,
          2.046783625731002,
          3.7698412698412667,
          2.2222222222222285
         ],
         "yaxis": "y"
        },
        {
         "hovertemplate": "solver=L3_D32_best<br>type=lrnn_best<br>difficulty=1<br>problem=%{x}<br>improvement (%)=%{y}<extra></extra>",
         "legendgroup": "L3_D32_best, lrnn_best",
         "line": {
          "color": "#FF97FF",
          "dash": "dot"
         },
         "marker": {
          "symbol": "circle"
         },
         "mode": "lines",
         "name": "L3_D32_best, lrnn_best",
         "orientation": "v",
         "showlegend": false,
         "type": "scatter",
         "x": [
          "1_01",
          "1_02",
          "1_03",
          "1_04",
          "1_05",
          "1_06",
          "1_07",
          "1_08",
          "1_09",
          "1_10",
          "1_11",
          "1_12",
          "1_13",
          "1_14",
          "1_15",
          "1_16",
          "1_17",
          "1_18",
          "1_19",
          "1_20",
          "1_21",
          "1_22",
          "1_23",
          "1_24",
          "1_25",
          "1_26",
          "1_27",
          "1_28",
          "1_29",
          "1_30"
         ],
         "xaxis": "x2",
         "y": [
          0,
          3.6144578313252955,
          -0.7625272331154599,
          2.0172910662824286,
          0.17361111111110125,
          3.0758226037196073,
          2.1113243761996188,
          2.701043585021476,
          0.21574973031283634,
          1.6064257028112605,
          2.1237303785780215,
          0.7682458386683667,
          2.1739130434782576,
          2.9219530949634733,
          1.7600574712643597,
          2.439024390243908,
          1.2284196547144763,
          1.5437933207309318,
          2.269503546099295,
          2.027992002285068,
          2.857142857142857,
          3.5294117647058822,
          1.7440432326209625,
          1.8069424631478828,
          0.8264462809917278,
          2.953586497890298,
          1.929601357082272,
          2.410901467505247,
          1.6656632550672195,
          2.6565832848555337
         ],
         "yaxis": "y2"
        },
        {
         "hovertemplate": "solver=L4_D8_best<br>type=lrnn_best<br>difficulty=0<br>problem=%{x}<br>improvement (%)=%{y}<extra></extra>",
         "legendgroup": "L4_D8_best, lrnn_best",
         "line": {
          "color": "#FECB52",
          "dash": "dot"
         },
         "marker": {
          "symbol": "circle"
         },
         "mode": "lines",
         "name": "L4_D8_best, lrnn_best",
         "orientation": "v",
         "showlegend": true,
         "type": "scatter",
         "x": [
          "0_01",
          "0_02",
          "0_03",
          "0_04",
          "0_05",
          "0_06",
          "0_07",
          "0_08",
          "0_09",
          "0_10",
          "0_11",
          "0_12",
          "0_13",
          "0_14",
          "0_15",
          "0_16",
          "0_17",
          "0_18",
          "0_19",
          "0_20",
          "0_21",
          "0_22",
          "0_23",
          "0_24",
          "0_25",
          "0_26",
          "0_27",
          "0_28",
          "0_29",
          "0_30"
         ],
         "xaxis": "x",
         "y": [
          0,
          0,
          0,
          0,
          0,
          5.2631578947368425,
          1.041666666666663,
          2.542372881355938,
          4.761904761904759,
          2.985074626865674,
          3.846153846153844,
          1.3605442176870701,
          6.626506024096393,
          4.214559386973165,
          1.2345679012345543,
          4.411764705882346,
          0.44247787610620093,
          3.9682539682539626,
          0.29761904761904656,
          4.392764857881135,
          2.777777777777775,
          0.9186351706036643,
          2.7261462205700027,
          2.16154721274175,
          2.4651661307609944,
          2.8697571743929378,
          3.3659066232356074,
          2.534113060428851,
          3.2738095238095277,
          2.6666666666666665
         ],
         "yaxis": "y"
        },
        {
         "hovertemplate": "solver=L4_D8_best<br>type=lrnn_best<br>difficulty=1<br>problem=%{x}<br>improvement (%)=%{y}<extra></extra>",
         "legendgroup": "L4_D8_best, lrnn_best",
         "line": {
          "color": "#FECB52",
          "dash": "dot"
         },
         "marker": {
          "symbol": "circle"
         },
         "mode": "lines",
         "name": "L4_D8_best, lrnn_best",
         "orientation": "v",
         "showlegend": false,
         "type": "scatter",
         "x": [
          "1_01",
          "1_02",
          "1_03",
          "1_04",
          "1_05",
          "1_06",
          "1_07",
          "1_08",
          "1_09",
          "1_10",
          "1_11",
          "1_12",
          "1_13",
          "1_14",
          "1_15",
          "1_16",
          "1_17",
          "1_18",
          "1_19",
          "1_20",
          "1_21",
          "1_22",
          "1_23",
          "1_24",
          "1_25",
          "1_26",
          "1_27",
          "1_28",
          "1_29",
          "1_30"
         ],
         "xaxis": "x2",
         "y": [
          2.7027027027027026,
          4.953145917001328,
          -0.2178649237472759,
          2.4975984630163315,
          2.3437499999999964,
          3.433476394849788,
          3.3909149072296847,
          3.92879066912216,
          2.3732470334411997,
          2.1084337349397675,
          3.5087719298245585,
          2.2620571916346552,
          2.979066022544286,
          4.075355632449056,
          3.0172413793103416,
          3.7940379403794044,
          2.058432934926969,
          3.434152488972898,
          3.404255319148936,
          3.3133390459868672,
          4.081632653061225,
          3.9215686274509802,
          3.3407025300908857,
          2.7579648121730713,
          2.318640955004577,
          4.286031534532537,
          3.201865988125529,
          3.03983228511531,
          3.271121814168174,
          3.7230948225712654
         ],
         "yaxis": "y2"
        },
        {
         "hovertemplate": "solver=L4_D16_best<br>type=lrnn_best<br>difficulty=0<br>problem=%{x}<br>improvement (%)=%{y}<extra></extra>",
         "legendgroup": "L4_D16_best, lrnn_best",
         "line": {
          "color": "#636efa",
          "dash": "dot"
         },
         "marker": {
          "symbol": "circle"
         },
         "mode": "lines",
         "name": "L4_D16_best, lrnn_best",
         "orientation": "v",
         "showlegend": true,
         "type": "scatter",
         "x": [
          "0_01",
          "0_02",
          "0_03",
          "0_04",
          "0_05",
          "0_06",
          "0_07",
          "0_08",
          "0_09",
          "0_10",
          "0_11",
          "0_12",
          "0_13",
          "0_14",
          "0_15",
          "0_16",
          "0_17",
          "0_18",
          "0_19",
          "0_20",
          "0_21",
          "0_22",
          "0_23",
          "0_24",
          "0_25",
          "0_26",
          "0_27",
          "0_28",
          "0_29",
          "0_30"
         ],
         "xaxis": "x",
         "y": [
          0,
          0,
          0,
          0,
          0,
          5.2631578947368425,
          1.041666666666663,
          2.542372881355938,
          4.761904761904759,
          2.985074626865674,
          3.846153846153844,
          1.3605442176870701,
          6.626506024096393,
          4.214559386973165,
          2.116402116402109,
          4.411764705882346,
          0.44247787610620093,
          4.761904761904762,
          1.0416666666666552,
          5.0387596899224825,
          2.777777777777775,
          1.5748031496062938,
          2.7261462205700027,
          2.730375426621163,
          3.5369774919614194,
          3.973509933774832,
          3.9087947882736134,
          2.534113060428851,
          4.761904761904766,
          3.111111111111105
         ],
         "yaxis": "y"
        },
        {
         "hovertemplate": "solver=L4_D16_best<br>type=lrnn_best<br>difficulty=1<br>problem=%{x}<br>improvement (%)=%{y}<extra></extra>",
         "legendgroup": "L4_D16_best, lrnn_best",
         "line": {
          "color": "#636efa",
          "dash": "dot"
         },
         "marker": {
          "symbol": "circle"
         },
         "mode": "lines",
         "name": "L4_D16_best, lrnn_best",
         "orientation": "v",
         "showlegend": false,
         "type": "scatter",
         "x": [
          "1_01",
          "1_02",
          "1_03",
          "1_04",
          "1_05",
          "1_06",
          "1_07",
          "1_08",
          "1_09",
          "1_10",
          "1_11",
          "1_12",
          "1_13",
          "1_14",
          "1_15",
          "1_16",
          "1_17",
          "1_18",
          "1_19",
          "1_20",
          "1_21",
          "1_22",
          "1_23",
          "1_24",
          "1_25",
          "1_26",
          "1_27",
          "1_28",
          "1_29",
          "1_30"
         ],
         "xaxis": "x2",
         "y": [
          2.7027027027027026,
          5.622489959839352,
          0.32679738562091964,
          3.4582132564841577,
          3.64583333333333,
          4.506437768240346,
          4.030710172744724,
          4.235727440147325,
          2.3732470334411997,
          2.8614457831325386,
          3.5087719298245585,
          2.6888604353393015,
          3.3816425120772915,
          4.267589388696658,
          3.1968390804597724,
          3.455284552845534,
          2.3904382470119576,
          3.276622558286076,
          3.6879432624113435,
          3.456155384175948,
          3.5374149659863905,
          3.9215686274509802,
          3.095062638172431,
          3.1145981930575224,
          2.662993572084467,
          4.063957361758824,
          3.095843935538579,
          3.3542976939203415,
          2.869757174392927,
          3.9170060112468574
         ],
         "yaxis": "y2"
        },
        {
         "hovertemplate": "solver=L4_D32_best<br>type=lrnn_best<br>difficulty=0<br>problem=%{x}<br>improvement (%)=%{y}<extra></extra>",
         "legendgroup": "L4_D32_best, lrnn_best",
         "line": {
          "color": "#EF553B",
          "dash": "dot"
         },
         "marker": {
          "symbol": "circle"
         },
         "mode": "lines",
         "name": "L4_D32_best, lrnn_best",
         "orientation": "v",
         "showlegend": true,
         "type": "scatter",
         "x": [
          "0_01",
          "0_02",
          "0_03",
          "0_04",
          "0_05",
          "0_06",
          "0_07",
          "0_08",
          "0_09",
          "0_10",
          "0_11",
          "0_12",
          "0_13",
          "0_14",
          "0_15",
          "0_16",
          "0_17",
          "0_18",
          "0_19",
          "0_20",
          "0_21",
          "0_22",
          "0_23",
          "0_24",
          "0_25",
          "0_26",
          "0_27",
          "0_28",
          "0_29",
          "0_30"
         ],
         "xaxis": "x",
         "y": [
          0,
          0,
          0,
          0,
          0,
          5.2631578947368425,
          1.041666666666663,
          -0.2824858757062137,
          4.761904761904759,
          1.7412935323383154,
          2.7777777777777795,
          0.22675736961451168,
          6.626506024096393,
          4.214559386973165,
          2.116402116402109,
          1.9607843137254835,
          0.44247787610620093,
          2.380952380952381,
          -1.1904761904762022,
          3.7467700258398007,
          2.1164021164021087,
          -0.39370078740158043,
          2.7261462205700027,
          2.16154721274175,
          3.001071811361201,
          3.421633554083879,
          3.3659066232356074,
          2.046783625731002,
          3.2738095238095277,
          1.3333333333333333
         ],
         "yaxis": "y"
        },
        {
         "hovertemplate": "solver=L4_D32_best<br>type=lrnn_best<br>difficulty=1<br>problem=%{x}<br>improvement (%)=%{y}<extra></extra>",
         "legendgroup": "L4_D32_best, lrnn_best",
         "line": {
          "color": "#EF553B",
          "dash": "dot"
         },
         "marker": {
          "symbol": "circle"
         },
         "mode": "lines",
         "name": "L4_D32_best, lrnn_best",
         "orientation": "v",
         "showlegend": false,
         "type": "scatter",
         "x": [
          "1_01",
          "1_02",
          "1_03",
          "1_04",
          "1_05",
          "1_06",
          "1_07",
          "1_08",
          "1_09",
          "1_10",
          "1_11",
          "1_12",
          "1_13",
          "1_14",
          "1_15",
          "1_16",
          "1_17",
          "1_18",
          "1_19",
          "1_20",
          "1_21",
          "1_22",
          "1_23",
          "1_24",
          "1_25",
          "1_26",
          "1_27",
          "1_28",
          "1_29",
          "1_30"
         ],
         "xaxis": "x2",
         "y": [
          2.7027027027027026,
          4.283801874163319,
          0.32679738562091964,
          3.4582132564841577,
          3.64583333333333,
          4.148783977110165,
          4.030710172744724,
          4.235727440147325,
          1.5641855447680606,
          2.1084337349397675,
          2.81625115420129,
          2.2620571916346552,
          2.576489533011263,
          3.114186851211076,
          3.0172413793103416,
          2.947154471544721,
          2.058432934926969,
          2.331442974165093,
          2.6950354609929117,
          2.599257355041415,
          3.2653061224489797,
          3.2679738562091543,
          2.9722426922132144,
          1.9258202567760263,
          1.5151515151515074,
          3.730846102598264,
          2.4597116200169507,
          2.7253668763102783,
          1.7660044150110399,
          2.947450067868914
         ],
         "yaxis": "y2"
        }
       ],
       "layout": {
        "annotations": [
         {
          "font": {},
          "showarrow": false,
          "text": "difficulty=0",
          "x": 0.245,
          "xanchor": "center",
          "xref": "paper",
          "y": 1,
          "yanchor": "bottom",
          "yref": "paper"
         },
         {
          "font": {},
          "showarrow": false,
          "text": "difficulty=1",
          "x": 0.755,
          "xanchor": "center",
          "xref": "paper",
          "y": 1,
          "yanchor": "bottom",
          "yref": "paper"
         }
        ],
        "legend": {
         "title": {
          "text": "solver, type"
         },
         "tracegroupgap": 0
        },
        "margin": {
         "t": 60
        },
        "template": {
         "data": {
          "bar": [
           {
            "error_x": {
             "color": "#2a3f5f"
            },
            "error_y": {
             "color": "#2a3f5f"
            },
            "marker": {
             "line": {
              "color": "#E5ECF6",
              "width": 0.5
             },
             "pattern": {
              "fillmode": "overlay",
              "size": 10,
              "solidity": 0.2
             }
            },
            "type": "bar"
           }
          ],
          "barpolar": [
           {
            "marker": {
             "line": {
              "color": "#E5ECF6",
              "width": 0.5
             },
             "pattern": {
              "fillmode": "overlay",
              "size": 10,
              "solidity": 0.2
             }
            },
            "type": "barpolar"
           }
          ],
          "carpet": [
           {
            "aaxis": {
             "endlinecolor": "#2a3f5f",
             "gridcolor": "white",
             "linecolor": "white",
             "minorgridcolor": "white",
             "startlinecolor": "#2a3f5f"
            },
            "baxis": {
             "endlinecolor": "#2a3f5f",
             "gridcolor": "white",
             "linecolor": "white",
             "minorgridcolor": "white",
             "startlinecolor": "#2a3f5f"
            },
            "type": "carpet"
           }
          ],
          "choropleth": [
           {
            "colorbar": {
             "outlinewidth": 0,
             "ticks": ""
            },
            "type": "choropleth"
           }
          ],
          "contour": [
           {
            "colorbar": {
             "outlinewidth": 0,
             "ticks": ""
            },
            "colorscale": [
             [
              0,
              "#0d0887"
             ],
             [
              0.1111111111111111,
              "#46039f"
             ],
             [
              0.2222222222222222,
              "#7201a8"
             ],
             [
              0.3333333333333333,
              "#9c179e"
             ],
             [
              0.4444444444444444,
              "#bd3786"
             ],
             [
              0.5555555555555556,
              "#d8576b"
             ],
             [
              0.6666666666666666,
              "#ed7953"
             ],
             [
              0.7777777777777778,
              "#fb9f3a"
             ],
             [
              0.8888888888888888,
              "#fdca26"
             ],
             [
              1,
              "#f0f921"
             ]
            ],
            "type": "contour"
           }
          ],
          "contourcarpet": [
           {
            "colorbar": {
             "outlinewidth": 0,
             "ticks": ""
            },
            "type": "contourcarpet"
           }
          ],
          "heatmap": [
           {
            "colorbar": {
             "outlinewidth": 0,
             "ticks": ""
            },
            "colorscale": [
             [
              0,
              "#0d0887"
             ],
             [
              0.1111111111111111,
              "#46039f"
             ],
             [
              0.2222222222222222,
              "#7201a8"
             ],
             [
              0.3333333333333333,
              "#9c179e"
             ],
             [
              0.4444444444444444,
              "#bd3786"
             ],
             [
              0.5555555555555556,
              "#d8576b"
             ],
             [
              0.6666666666666666,
              "#ed7953"
             ],
             [
              0.7777777777777778,
              "#fb9f3a"
             ],
             [
              0.8888888888888888,
              "#fdca26"
             ],
             [
              1,
              "#f0f921"
             ]
            ],
            "type": "heatmap"
           }
          ],
          "heatmapgl": [
           {
            "colorbar": {
             "outlinewidth": 0,
             "ticks": ""
            },
            "colorscale": [
             [
              0,
              "#0d0887"
             ],
             [
              0.1111111111111111,
              "#46039f"
             ],
             [
              0.2222222222222222,
              "#7201a8"
             ],
             [
              0.3333333333333333,
              "#9c179e"
             ],
             [
              0.4444444444444444,
              "#bd3786"
             ],
             [
              0.5555555555555556,
              "#d8576b"
             ],
             [
              0.6666666666666666,
              "#ed7953"
             ],
             [
              0.7777777777777778,
              "#fb9f3a"
             ],
             [
              0.8888888888888888,
              "#fdca26"
             ],
             [
              1,
              "#f0f921"
             ]
            ],
            "type": "heatmapgl"
           }
          ],
          "histogram": [
           {
            "marker": {
             "pattern": {
              "fillmode": "overlay",
              "size": 10,
              "solidity": 0.2
             }
            },
            "type": "histogram"
           }
          ],
          "histogram2d": [
           {
            "colorbar": {
             "outlinewidth": 0,
             "ticks": ""
            },
            "colorscale": [
             [
              0,
              "#0d0887"
             ],
             [
              0.1111111111111111,
              "#46039f"
             ],
             [
              0.2222222222222222,
              "#7201a8"
             ],
             [
              0.3333333333333333,
              "#9c179e"
             ],
             [
              0.4444444444444444,
              "#bd3786"
             ],
             [
              0.5555555555555556,
              "#d8576b"
             ],
             [
              0.6666666666666666,
              "#ed7953"
             ],
             [
              0.7777777777777778,
              "#fb9f3a"
             ],
             [
              0.8888888888888888,
              "#fdca26"
             ],
             [
              1,
              "#f0f921"
             ]
            ],
            "type": "histogram2d"
           }
          ],
          "histogram2dcontour": [
           {
            "colorbar": {
             "outlinewidth": 0,
             "ticks": ""
            },
            "colorscale": [
             [
              0,
              "#0d0887"
             ],
             [
              0.1111111111111111,
              "#46039f"
             ],
             [
              0.2222222222222222,
              "#7201a8"
             ],
             [
              0.3333333333333333,
              "#9c179e"
             ],
             [
              0.4444444444444444,
              "#bd3786"
             ],
             [
              0.5555555555555556,
              "#d8576b"
             ],
             [
              0.6666666666666666,
              "#ed7953"
             ],
             [
              0.7777777777777778,
              "#fb9f3a"
             ],
             [
              0.8888888888888888,
              "#fdca26"
             ],
             [
              1,
              "#f0f921"
             ]
            ],
            "type": "histogram2dcontour"
           }
          ],
          "mesh3d": [
           {
            "colorbar": {
             "outlinewidth": 0,
             "ticks": ""
            },
            "type": "mesh3d"
           }
          ],
          "parcoords": [
           {
            "line": {
             "colorbar": {
              "outlinewidth": 0,
              "ticks": ""
             }
            },
            "type": "parcoords"
           }
          ],
          "pie": [
           {
            "automargin": true,
            "type": "pie"
           }
          ],
          "scatter": [
           {
            "fillpattern": {
             "fillmode": "overlay",
             "size": 10,
             "solidity": 0.2
            },
            "type": "scatter"
           }
          ],
          "scatter3d": [
           {
            "line": {
             "colorbar": {
              "outlinewidth": 0,
              "ticks": ""
             }
            },
            "marker": {
             "colorbar": {
              "outlinewidth": 0,
              "ticks": ""
             }
            },
            "type": "scatter3d"
           }
          ],
          "scattercarpet": [
           {
            "marker": {
             "colorbar": {
              "outlinewidth": 0,
              "ticks": ""
             }
            },
            "type": "scattercarpet"
           }
          ],
          "scattergeo": [
           {
            "marker": {
             "colorbar": {
              "outlinewidth": 0,
              "ticks": ""
             }
            },
            "type": "scattergeo"
           }
          ],
          "scattergl": [
           {
            "marker": {
             "colorbar": {
              "outlinewidth": 0,
              "ticks": ""
             }
            },
            "type": "scattergl"
           }
          ],
          "scattermapbox": [
           {
            "marker": {
             "colorbar": {
              "outlinewidth": 0,
              "ticks": ""
             }
            },
            "type": "scattermapbox"
           }
          ],
          "scatterpolar": [
           {
            "marker": {
             "colorbar": {
              "outlinewidth": 0,
              "ticks": ""
             }
            },
            "type": "scatterpolar"
           }
          ],
          "scatterpolargl": [
           {
            "marker": {
             "colorbar": {
              "outlinewidth": 0,
              "ticks": ""
             }
            },
            "type": "scatterpolargl"
           }
          ],
          "scatterternary": [
           {
            "marker": {
             "colorbar": {
              "outlinewidth": 0,
              "ticks": ""
             }
            },
            "type": "scatterternary"
           }
          ],
          "surface": [
           {
            "colorbar": {
             "outlinewidth": 0,
             "ticks": ""
            },
            "colorscale": [
             [
              0,
              "#0d0887"
             ],
             [
              0.1111111111111111,
              "#46039f"
             ],
             [
              0.2222222222222222,
              "#7201a8"
             ],
             [
              0.3333333333333333,
              "#9c179e"
             ],
             [
              0.4444444444444444,
              "#bd3786"
             ],
             [
              0.5555555555555556,
              "#d8576b"
             ],
             [
              0.6666666666666666,
              "#ed7953"
             ],
             [
              0.7777777777777778,
              "#fb9f3a"
             ],
             [
              0.8888888888888888,
              "#fdca26"
             ],
             [
              1,
              "#f0f921"
             ]
            ],
            "type": "surface"
           }
          ],
          "table": [
           {
            "cells": {
             "fill": {
              "color": "#EBF0F8"
             },
             "line": {
              "color": "white"
             }
            },
            "header": {
             "fill": {
              "color": "#C8D4E3"
             },
             "line": {
              "color": "white"
             }
            },
            "type": "table"
           }
          ]
         },
         "layout": {
          "annotationdefaults": {
           "arrowcolor": "#2a3f5f",
           "arrowhead": 0,
           "arrowwidth": 1
          },
          "autotypenumbers": "strict",
          "coloraxis": {
           "colorbar": {
            "outlinewidth": 0,
            "ticks": ""
           }
          },
          "colorscale": {
           "diverging": [
            [
             0,
             "#8e0152"
            ],
            [
             0.1,
             "#c51b7d"
            ],
            [
             0.2,
             "#de77ae"
            ],
            [
             0.3,
             "#f1b6da"
            ],
            [
             0.4,
             "#fde0ef"
            ],
            [
             0.5,
             "#f7f7f7"
            ],
            [
             0.6,
             "#e6f5d0"
            ],
            [
             0.7,
             "#b8e186"
            ],
            [
             0.8,
             "#7fbc41"
            ],
            [
             0.9,
             "#4d9221"
            ],
            [
             1,
             "#276419"
            ]
           ],
           "sequential": [
            [
             0,
             "#0d0887"
            ],
            [
             0.1111111111111111,
             "#46039f"
            ],
            [
             0.2222222222222222,
             "#7201a8"
            ],
            [
             0.3333333333333333,
             "#9c179e"
            ],
            [
             0.4444444444444444,
             "#bd3786"
            ],
            [
             0.5555555555555556,
             "#d8576b"
            ],
            [
             0.6666666666666666,
             "#ed7953"
            ],
            [
             0.7777777777777778,
             "#fb9f3a"
            ],
            [
             0.8888888888888888,
             "#fdca26"
            ],
            [
             1,
             "#f0f921"
            ]
           ],
           "sequentialminus": [
            [
             0,
             "#0d0887"
            ],
            [
             0.1111111111111111,
             "#46039f"
            ],
            [
             0.2222222222222222,
             "#7201a8"
            ],
            [
             0.3333333333333333,
             "#9c179e"
            ],
            [
             0.4444444444444444,
             "#bd3786"
            ],
            [
             0.5555555555555556,
             "#d8576b"
            ],
            [
             0.6666666666666666,
             "#ed7953"
            ],
            [
             0.7777777777777778,
             "#fb9f3a"
            ],
            [
             0.8888888888888888,
             "#fdca26"
            ],
            [
             1,
             "#f0f921"
            ]
           ]
          },
          "colorway": [
           "#636efa",
           "#EF553B",
           "#00cc96",
           "#ab63fa",
           "#FFA15A",
           "#19d3f3",
           "#FF6692",
           "#B6E880",
           "#FF97FF",
           "#FECB52"
          ],
          "font": {
           "color": "#2a3f5f"
          },
          "geo": {
           "bgcolor": "white",
           "lakecolor": "white",
           "landcolor": "#E5ECF6",
           "showlakes": true,
           "showland": true,
           "subunitcolor": "white"
          },
          "hoverlabel": {
           "align": "left"
          },
          "hovermode": "closest",
          "mapbox": {
           "style": "light"
          },
          "paper_bgcolor": "white",
          "plot_bgcolor": "#E5ECF6",
          "polar": {
           "angularaxis": {
            "gridcolor": "white",
            "linecolor": "white",
            "ticks": ""
           },
           "bgcolor": "#E5ECF6",
           "radialaxis": {
            "gridcolor": "white",
            "linecolor": "white",
            "ticks": ""
           }
          },
          "scene": {
           "xaxis": {
            "backgroundcolor": "#E5ECF6",
            "gridcolor": "white",
            "gridwidth": 2,
            "linecolor": "white",
            "showbackground": true,
            "ticks": "",
            "zerolinecolor": "white"
           },
           "yaxis": {
            "backgroundcolor": "#E5ECF6",
            "gridcolor": "white",
            "gridwidth": 2,
            "linecolor": "white",
            "showbackground": true,
            "ticks": "",
            "zerolinecolor": "white"
           },
           "zaxis": {
            "backgroundcolor": "#E5ECF6",
            "gridcolor": "white",
            "gridwidth": 2,
            "linecolor": "white",
            "showbackground": true,
            "ticks": "",
            "zerolinecolor": "white"
           }
          },
          "shapedefaults": {
           "line": {
            "color": "#2a3f5f"
           }
          },
          "ternary": {
           "aaxis": {
            "gridcolor": "white",
            "linecolor": "white",
            "ticks": ""
           },
           "baxis": {
            "gridcolor": "white",
            "linecolor": "white",
            "ticks": ""
           },
           "bgcolor": "#E5ECF6",
           "caxis": {
            "gridcolor": "white",
            "linecolor": "white",
            "ticks": ""
           }
          },
          "title": {
           "x": 0.05
          },
          "xaxis": {
           "automargin": true,
           "gridcolor": "white",
           "linecolor": "white",
           "ticks": "",
           "title": {
            "standoff": 15
           },
           "zerolinecolor": "white",
           "zerolinewidth": 2
          },
          "yaxis": {
           "automargin": true,
           "gridcolor": "white",
           "linecolor": "white",
           "ticks": "",
           "title": {
            "standoff": 15
           },
           "zerolinecolor": "white",
           "zerolinewidth": 2
          }
         }
        },
        "xaxis": {
         "anchor": "y",
         "categoryorder": "array",
         "domain": [
          0,
          0.49
         ],
         "showticklabels": true,
         "title": {
          "text": "problem"
         }
        },
        "xaxis2": {
         "anchor": "y2",
         "categoryorder": "array",
         "domain": [
          0.51,
          1
         ],
         "showticklabels": true,
         "title": {
          "text": "problem"
         }
        },
        "yaxis": {
         "anchor": "x",
         "domain": [
          0,
          1
         ],
         "range": [
          -100,
          100
         ],
         "showticklabels": true,
         "title": {
          "text": "improvement (%)"
         }
        },
        "yaxis2": {
         "anchor": "x2",
         "domain": [
          0,
          1
         ],
         "range": [
          -100,
          100
         ],
         "showticklabels": true
        }
       }
      }
     },
     "metadata": {},
     "output_type": "display_data"
    },
    {
     "name": "stdout",
     "output_type": "stream",
     "text": [
      "satellite\n"
     ]
    },
    {
     "data": {
      "application/vnd.plotly.v1+json": {
       "config": {
        "plotlyServerURL": "https://plot.ly"
       },
       "data": [
        {
         "hovertemplate": "solver=baseline<br>type=bounds<br>difficulty=0<br>problem=%{x}<br>improvement (%)=%{y}<extra></extra>",
         "legendgroup": "baseline, bounds",
         "line": {
          "color": "#636efa",
          "dash": "solid"
         },
         "marker": {
          "symbol": "circle"
         },
         "mode": "lines",
         "name": "baseline, bounds",
         "orientation": "v",
         "showlegend": true,
         "type": "scatter",
         "x": [
          "0_01",
          "0_02",
          "0_03",
          "0_04",
          "0_05",
          "0_06",
          "0_07",
          "0_08",
          "0_09",
          "0_10",
          "0_11",
          "0_12",
          "0_13",
          "0_14",
          "0_15",
          "0_16",
          "0_17",
          "0_18",
          "0_19",
          "0_20",
          "0_21",
          "0_22",
          "0_23",
          "0_24",
          "0_25",
          "0_26",
          "0_27",
          "0_28",
          "0_29",
          "0_30"
         ],
         "xaxis": "x",
         "y": [
          0,
          0,
          0,
          0,
          0,
          0,
          0,
          0,
          0,
          0,
          0,
          0,
          0,
          0,
          0,
          0,
          0,
          0,
          0,
          0,
          0,
          0,
          0,
          0,
          0,
          0,
          0,
          0,
          0,
          0
         ],
         "yaxis": "y"
        },
        {
         "hovertemplate": "solver=baseline<br>type=bounds<br>difficulty=1<br>problem=%{x}<br>improvement (%)=%{y}<extra></extra>",
         "legendgroup": "baseline, bounds",
         "line": {
          "color": "#636efa",
          "dash": "solid"
         },
         "marker": {
          "symbol": "circle"
         },
         "mode": "lines",
         "name": "baseline, bounds",
         "orientation": "v",
         "showlegend": false,
         "type": "scatter",
         "x": [
          "1_01",
          "1_02",
          "1_03",
          "1_04",
          "1_05",
          "1_06",
          "1_07",
          "1_08",
          "1_09",
          "1_10",
          "1_11",
          "1_12",
          "1_13",
          "1_14",
          "1_15",
          "1_16",
          "1_17",
          "1_18",
          "1_19",
          "1_20",
          "1_21",
          "1_22",
          "1_23",
          "1_24",
          "1_25",
          "1_26",
          "1_27",
          "1_28",
          "1_29",
          "1_30"
         ],
         "xaxis": "x2",
         "y": [
          0,
          0,
          0,
          0,
          0,
          0,
          0,
          0,
          0,
          0,
          0,
          0,
          0,
          0,
          0,
          0,
          0,
          0,
          0,
          0,
          0,
          0,
          0,
          0,
          0,
          0,
          0,
          0,
          0,
          0
         ],
         "yaxis": "y2"
        },
        {
         "hovertemplate": "solver=optimal<br>type=bounds<br>difficulty=0<br>problem=%{x}<br>improvement (%)=%{y}<extra></extra>",
         "legendgroup": "optimal, bounds",
         "line": {
          "color": "#EF553B",
          "dash": "solid"
         },
         "marker": {
          "symbol": "circle"
         },
         "mode": "lines",
         "name": "optimal, bounds",
         "orientation": "v",
         "showlegend": true,
         "type": "scatter",
         "x": [
          "0_01",
          "0_02",
          "0_03",
          "0_04",
          "0_05",
          "0_06",
          "0_07",
          "0_08",
          "0_09",
          "0_10",
          "0_11",
          "0_12",
          "0_13",
          "0_14",
          "0_15",
          "0_16",
          "0_17",
          "0_18",
          "0_19",
          "0_20",
          "0_21",
          "0_22",
          "0_23",
          "0_24",
          "0_25",
          "0_26",
          "0_27",
          "0_28",
          "0_29",
          "0_30"
         ],
         "xaxis": "x",
         "y": [
          24.999999999999996,
          22.580645161290327,
          35.13513513513514,
          40,
          37.2093023255814,
          37.5,
          33.333333333333336,
          46.666666666666664,
          49.056603773584904,
          52,
          43.956043956043956,
          44.067796610169495,
          50,
          35.714285714285715,
          51.851851851851855,
          32.97872340425532,
          43.24324324324324,
          48.57142857142857,
          34.78260869565218,
          39.59731543624161,
          39.18918918918919,
          38.732394366197184,
          49.532710280373834,
          46.774193548387096,
          38.58267716535433,
          null,
          null,
          null,
          47.05882352941177,
          null
         ],
         "yaxis": "y"
        },
        {
         "hovertemplate": "solver=optimal<br>type=bounds<br>difficulty=1<br>problem=%{x}<br>improvement (%)=%{y}<extra></extra>",
         "legendgroup": "optimal, bounds",
         "line": {
          "color": "#EF553B",
          "dash": "solid"
         },
         "marker": {
          "symbol": "circle"
         },
         "mode": "lines",
         "name": "optimal, bounds",
         "orientation": "v",
         "showlegend": false,
         "type": "scatter",
         "x": [
          "1_01",
          "1_02",
          "1_03",
          "1_04",
          "1_05",
          "1_06",
          "1_07",
          "1_08",
          "1_09",
          "1_10",
          "1_11",
          "1_12",
          "1_13",
          "1_14",
          "1_15",
          "1_16",
          "1_17",
          "1_18",
          "1_19",
          "1_20",
          "1_21",
          "1_22",
          "1_23",
          "1_24",
          "1_25",
          "1_26",
          "1_27",
          "1_28",
          "1_29",
          "1_30"
         ],
         "xaxis": "x2",
         "y": [
          null,
          null,
          null,
          null,
          null,
          null,
          null,
          60,
          null,
          61.111111111111114,
          null,
          null,
          null,
          null,
          63.333333333333336,
          null,
          null,
          null,
          null,
          null,
          null,
          null,
          null,
          null,
          null,
          null,
          null,
          null,
          null,
          null
         ],
         "yaxis": "y2"
        },
        {
         "hovertemplate": "solver=lama<br>type=bounds<br>difficulty=0<br>problem=%{x}<br>improvement (%)=%{y}<extra></extra>",
         "legendgroup": "lama, bounds",
         "line": {
          "color": "#00cc96",
          "dash": "solid"
         },
         "marker": {
          "symbol": "circle"
         },
         "mode": "lines",
         "name": "lama, bounds",
         "orientation": "v",
         "showlegend": true,
         "type": "scatter",
         "x": [
          "0_01",
          "0_02",
          "0_03",
          "0_04",
          "0_05",
          "0_06",
          "0_07",
          "0_08",
          "0_09",
          "0_10",
          "0_11",
          "0_12",
          "0_13",
          "0_14",
          "0_15",
          "0_16",
          "0_17",
          "0_18",
          "0_19",
          "0_20",
          "0_21",
          "0_22",
          "0_23",
          "0_24",
          "0_25",
          "0_26",
          "0_27",
          "0_28",
          "0_29",
          "0_30"
         ],
         "xaxis": "x",
         "y": [
          24.999999999999996,
          22.580645161290327,
          35.13513513513514,
          40,
          37.2093023255814,
          6.25,
          33.333333333333336,
          33.333333333333336,
          43.39622641509434,
          52,
          30.769230769230766,
          38.983050847457626,
          37.5,
          35.714285714285715,
          51.851851851851855,
          29.78723404255319,
          43.24324324324324,
          40,
          32.173913043478265,
          25.503355704697984,
          31.081081081081084,
          36.61971830985916,
          46.72897196261682,
          41.935483870967744,
          33.85826771653544,
          18.75,
          27.272727272727273,
          34.54545454545455,
          42.64705882352941,
          26.119402985074625
         ],
         "yaxis": "y"
        },
        {
         "hovertemplate": "solver=lama<br>type=bounds<br>difficulty=1<br>problem=%{x}<br>improvement (%)=%{y}<extra></extra>",
         "legendgroup": "lama, bounds",
         "line": {
          "color": "#00cc96",
          "dash": "solid"
         },
         "marker": {
          "symbol": "circle"
         },
         "mode": "lines",
         "name": "lama, bounds",
         "orientation": "v",
         "showlegend": false,
         "type": "scatter",
         "x": [
          "1_01",
          "1_02",
          "1_03",
          "1_04",
          "1_05",
          "1_06",
          "1_07",
          "1_08",
          "1_09",
          "1_10",
          "1_11",
          "1_12",
          "1_13",
          "1_14",
          "1_15",
          "1_16",
          "1_17",
          "1_18",
          "1_19",
          "1_20",
          "1_21",
          "1_22",
          "1_23",
          "1_24",
          "1_25",
          "1_26",
          "1_27",
          "1_28",
          "1_29",
          "1_30"
         ],
         "xaxis": "x2",
         "y": [
          31.182795698924732,
          22.742474916387962,
          36.55913978494624,
          29.357798165137616,
          16.541353383458652,
          40.56603773584906,
          43.69747899159664,
          56.666666666666664,
          28.75,
          57.407407407407405,
          32.947976878612714,
          34.065934065934066,
          26.28205128205128,
          35.991379310344826,
          63.333333333333336,
          35.673624288425046,
          47.59036144578313,
          50.22421524663677,
          24.427480916030532,
          23.538230884557723,
          31.84,
          39.90384615384615,
          51.5527950310559,
          26.104417670682732,
          38.84297520661157,
          25.53191489361702,
          27.39557739557739,
          64.36781609195403,
          21.625000000000007,
          46.81818181818182
         ],
         "yaxis": "y2"
        },
        {
         "hovertemplate": "solver=L2_D8_best<br>type=lrnn_best<br>difficulty=0<br>problem=%{x}<br>improvement (%)=%{y}<extra></extra>",
         "legendgroup": "L2_D8_best, lrnn_best",
         "line": {
          "color": "#ab63fa",
          "dash": "dot"
         },
         "marker": {
          "symbol": "circle"
         },
         "mode": "lines",
         "name": "L2_D8_best, lrnn_best",
         "orientation": "v",
         "showlegend": true,
         "type": "scatter",
         "x": [
          "0_01",
          "0_02",
          "0_03",
          "0_04",
          "0_05",
          "0_06",
          "0_07",
          "0_08",
          "0_09",
          "0_10",
          "0_11",
          "0_12",
          "0_13",
          "0_14",
          "0_15",
          "0_16",
          "0_17",
          "0_18",
          "0_19",
          "0_20",
          "0_21",
          "0_22",
          "0_23",
          "0_24",
          "0_25",
          "0_26",
          "0_27",
          "0_28",
          "0_29",
          "0_30"
         ],
         "xaxis": "x",
         "y": [
          6.249999999999994,
          12.90322580645162,
          5.405405405405415,
          -3.9999999999999853,
          23.255813953488374,
          10.416666666666663,
          15.55555555555556,
          33.333333333333336,
          26.415094339622648,
          26,
          20.879120879120876,
          18.644067796610177,
          43.75,
          7.142857142857143,
          24.69135802469136,
          5.319148936170206,
          16.216216216216218,
          40,
          6.086956521739136,
          13.422818791946304,
          29.054054054054056,
          5.633802816901418,
          28.97196261682243,
          41.935483870967744,
          22.83464566929135,
          12.5,
          13.333333333333337,
          20.60606060606061,
          38.23529411764706,
          23.134328358208943
         ],
         "yaxis": "y"
        },
        {
         "hovertemplate": "solver=L2_D8_best<br>type=lrnn_best<br>difficulty=1<br>problem=%{x}<br>improvement (%)=%{y}<extra></extra>",
         "legendgroup": "L2_D8_best, lrnn_best",
         "line": {
          "color": "#ab63fa",
          "dash": "dot"
         },
         "marker": {
          "symbol": "circle"
         },
         "mode": "lines",
         "name": "L2_D8_best, lrnn_best",
         "orientation": "v",
         "showlegend": false,
         "type": "scatter",
         "x": [
          "1_01",
          "1_02",
          "1_03",
          "1_04",
          "1_05",
          "1_06",
          "1_07",
          "1_08",
          "1_09",
          "1_10",
          "1_11",
          "1_12",
          "1_13",
          "1_14",
          "1_15",
          "1_16",
          "1_17",
          "1_18",
          "1_19",
          "1_20",
          "1_21",
          "1_22",
          "1_23",
          "1_24",
          "1_25",
          "1_26",
          "1_27",
          "1_28",
          "1_29",
          "1_30"
         ],
         "xaxis": "x2",
         "y": [
          -10.75268817204301,
          -2.0066889632107023,
          -1.4336917562723963,
          0.9174311926605505,
          3.0075187969924864,
          21.069182389937104,
          12.885154061624645,
          56.666666666666664,
          12.1875,
          53.086419753086425,
          2.504816955684013,
          22.527472527472526,
          10.683760683760678,
          10.77586206896551,
          52.777777777777786,
          14.990512333965833,
          26.506024096385552,
          46.18834080717489,
          15.076335877862585,
          11.094452773613202,
          15.84,
          19.070512820512814,
          47.20496894409938,
          1.606425702811245,
          38.56749311294766,
          -0.9929078014184437,
          5.2825552825552755,
          62.06896551724138,
          6.625000000000006,
          36.818181818181806
         ],
         "yaxis": "y2"
        },
        {
         "hovertemplate": "solver=L2_D16_best<br>type=lrnn_best<br>difficulty=0<br>problem=%{x}<br>improvement (%)=%{y}<extra></extra>",
         "legendgroup": "L2_D16_best, lrnn_best",
         "line": {
          "color": "#FFA15A",
          "dash": "dot"
         },
         "marker": {
          "symbol": "circle"
         },
         "mode": "lines",
         "name": "L2_D16_best, lrnn_best",
         "orientation": "v",
         "showlegend": true,
         "type": "scatter",
         "x": [
          "0_01",
          "0_02",
          "0_03",
          "0_04",
          "0_05",
          "0_06",
          "0_07",
          "0_08",
          "0_09",
          "0_10",
          "0_11",
          "0_12",
          "0_13",
          "0_14",
          "0_15",
          "0_16",
          "0_17",
          "0_18",
          "0_19",
          "0_20",
          "0_21",
          "0_22",
          "0_23",
          "0_24",
          "0_25",
          "0_26",
          "0_27",
          "0_28",
          "0_29",
          "0_30"
         ],
         "xaxis": "x",
         "y": [
          0,
          3.225806451612909,
          5.405405405405415,
          -7.999999999999991,
          2.3255813953488413,
          8.333333333333337,
          2.2222222222222263,
          11.111111111111107,
          16.981132075471706,
          18.00000000000001,
          5.4945054945054865,
          16.949152542372893,
          27.083333333333336,
          11.9047619047619,
          2.46913580246914,
          -1.06382978723405,
          1.8018018018017954,
          14.285714285714281,
          -5.217391304347826,
          6.711409395973146,
          12.162162162162161,
          9.154929577464793,
          2.8037383177570097,
          11.290322580645173,
          15.748031496063003,
          -2.604166666666674,
          -1.2121212121212077,
          -6.666666666666662,
          7.352941176470594,
          5.970149253731337
         ],
         "yaxis": "y"
        },
        {
         "hovertemplate": "solver=L2_D16_best<br>type=lrnn_best<br>difficulty=1<br>problem=%{x}<br>improvement (%)=%{y}<extra></extra>",
         "legendgroup": "L2_D16_best, lrnn_best",
         "line": {
          "color": "#FFA15A",
          "dash": "dot"
         },
         "marker": {
          "symbol": "circle"
         },
         "mode": "lines",
         "name": "L2_D16_best, lrnn_best",
         "orientation": "v",
         "showlegend": false,
         "type": "scatter",
         "x": [
          "1_01",
          "1_02",
          "1_03",
          "1_04",
          "1_05",
          "1_06",
          "1_07",
          "1_08",
          "1_09",
          "1_10",
          "1_11",
          "1_12",
          "1_13",
          "1_14",
          "1_15",
          "1_16",
          "1_17",
          "1_18",
          "1_19",
          "1_20",
          "1_21",
          "1_22",
          "1_23",
          "1_24",
          "1_25",
          "1_26",
          "1_27",
          "1_28",
          "1_29",
          "1_30"
         ],
         "xaxis": "x2",
         "y": [
          -1.792114695340507,
          2.341137123745829,
          4.301075268817204,
          -0.611620795107038,
          2.255639097744361,
          12.264150943396226,
          1.9607843137254861,
          10,
          -4.6875,
          9.25925925925926,
          -7.514450867052023,
          11.263736263736256,
          1.0683760683760624,
          3.66379310344827,
          0,
          4.7438330170777885,
          -1.5060240963855336,
          -3.1390134529148113,
          -3.435114503816794,
          -7.3463268365817,
          1.2800000000000091,
          -5.128205128205123,
          -0.9316770186335405,
          -7.362784471218198,
          -3.3057851239669422,
          -4.5390070921985775,
          -5.651105651105666,
          -7.662835249042152,
          -1.5,
          2.7272727272727275
         ],
         "yaxis": "y2"
        },
        {
         "hovertemplate": "solver=L2_D32_best<br>type=lrnn_best<br>difficulty=0<br>problem=%{x}<br>improvement (%)=%{y}<extra></extra>",
         "legendgroup": "L2_D32_best, lrnn_best",
         "line": {
          "color": "#19d3f3",
          "dash": "dot"
         },
         "marker": {
          "symbol": "circle"
         },
         "mode": "lines",
         "name": "L2_D32_best, lrnn_best",
         "orientation": "v",
         "showlegend": true,
         "type": "scatter",
         "x": [
          "0_01",
          "0_02",
          "0_03",
          "0_04",
          "0_05",
          "0_06",
          "0_07",
          "0_08",
          "0_09",
          "0_10",
          "0_11",
          "0_12",
          "0_13",
          "0_14",
          "0_15",
          "0_16",
          "0_17",
          "0_18",
          "0_19",
          "0_20",
          "0_21",
          "0_22",
          "0_23",
          "0_24",
          "0_25",
          "0_26",
          "0_27",
          "0_28",
          "0_29",
          "0_30"
         ],
         "xaxis": "x",
         "y": [
          0,
          -3.2258064516128915,
          10.810810810810816,
          8.000000000000004,
          13.953488372093023,
          12.5,
          15.55555555555556,
          15.55555555555556,
          22.641509433962273,
          38,
          12.08791208791208,
          15.254237288135592,
          27.083333333333336,
          17.857142857142858,
          16.04938271604938,
          10.638297872340422,
          27.927927927927925,
          34.28571428571428,
          14.782608695652186,
          8.053691275167786,
          5.405405405405415,
          13.38028169014085,
          12.14953271028037,
          25.806451612903228,
          -7.086614173228346,
          10.9375,
          4.242424242424247,
          1.8181818181818181,
          -4.411764705882352,
          -2.238805970149254
         ],
         "yaxis": "y"
        },
        {
         "hovertemplate": "solver=L2_D32_best<br>type=lrnn_best<br>difficulty=1<br>problem=%{x}<br>improvement (%)=%{y}<extra></extra>",
         "legendgroup": "L2_D32_best, lrnn_best",
         "line": {
          "color": "#19d3f3",
          "dash": "dot"
         },
         "marker": {
          "symbol": "circle"
         },
         "mode": "lines",
         "name": "L2_D32_best, lrnn_best",
         "orientation": "v",
         "showlegend": false,
         "type": "scatter",
         "x": [
          "1_01",
          "1_02",
          "1_03",
          "1_04",
          "1_05",
          "1_06",
          "1_07",
          "1_08",
          "1_09",
          "1_10",
          "1_11",
          "1_12",
          "1_13",
          "1_14",
          "1_15",
          "1_16",
          "1_17",
          "1_18",
          "1_19",
          "1_20",
          "1_21",
          "1_22",
          "1_23",
          "1_24",
          "1_25",
          "1_26",
          "1_27",
          "1_28",
          "1_29",
          "1_30"
         ],
         "xaxis": "x2",
         "y": [
          -9.318996415770615,
          -1.3377926421404633,
          1.792114695340507,
          4.587155963302752,
          -3.0075187969924704,
          5.660377358490566,
          8.123249299719893,
          5.55555555555556,
          -3.437499999999991,
          17.90123456790123,
          -6.551059730250488,
          -1.3736263736263776,
          3.6324786324786262,
          -1.9396551724137931,
          0,
          -7.969639468690702,
          6.626506024096394,
          0,
          3.6259541984732717,
          -1.4992503748125852,
          -6.239999999999999,
          -4.1666666666666625,
          3.105590062111797,
          -4.819277108433735,
          1.1019283746556434,
          -1.4184397163120608,
          -5.15970515970516,
          5.363984674329507,
          -6.749999999999999,
          7.272727272727266
         ],
         "yaxis": "y2"
        },
        {
         "hovertemplate": "solver=L3_D8_best<br>type=lrnn_best<br>difficulty=0<br>problem=%{x}<br>improvement (%)=%{y}<extra></extra>",
         "legendgroup": "L3_D8_best, lrnn_best",
         "line": {
          "color": "#FF6692",
          "dash": "dot"
         },
         "marker": {
          "symbol": "circle"
         },
         "mode": "lines",
         "name": "L3_D8_best, lrnn_best",
         "orientation": "v",
         "showlegend": true,
         "type": "scatter",
         "x": [
          "0_01",
          "0_02",
          "0_03",
          "0_04",
          "0_05",
          "0_06",
          "0_07",
          "0_08",
          "0_09",
          "0_10",
          "0_11",
          "0_12",
          "0_13",
          "0_14",
          "0_15",
          "0_16",
          "0_17",
          "0_18",
          "0_19",
          "0_20",
          "0_21",
          "0_22",
          "0_23",
          "0_24",
          "0_25",
          "0_26",
          "0_27",
          "0_28",
          "0_29",
          "0_30"
         ],
         "xaxis": "x",
         "y": [
          18.75,
          6.451612903225818,
          13.513513513513523,
          4.000000000000007,
          18.604651162790706,
          14.583333333333337,
          13.333333333333334,
          20,
          15.094339622641517,
          16.000000000000007,
          5.4945054945054865,
          18.644067796610177,
          37.5,
          20.23809523809524,
          28.395061728395063,
          9.574468085106384,
          14.414414414414413,
          15.714285714285703,
          13.043478260869565,
          5.369127516778518,
          0,
          -5.633802816901403,
          6.542056074766342,
          35.483870967741936,
          -2.3622047244094486,
          0,
          -9.090909090909092,
          6.666666666666662,
          -8.823529411764705,
          -0.7462686567164233
         ],
         "yaxis": "y"
        },
        {
         "hovertemplate": "solver=L3_D8_best<br>type=lrnn_best<br>difficulty=1<br>problem=%{x}<br>improvement (%)=%{y}<extra></extra>",
         "legendgroup": "L3_D8_best, lrnn_best",
         "line": {
          "color": "#FF6692",
          "dash": "dot"
         },
         "marker": {
          "symbol": "circle"
         },
         "mode": "lines",
         "name": "L3_D8_best, lrnn_best",
         "orientation": "v",
         "showlegend": false,
         "type": "scatter",
         "x": [
          "1_01",
          "1_02",
          "1_03",
          "1_04",
          "1_05",
          "1_06",
          "1_07",
          "1_08",
          "1_09",
          "1_10",
          "1_11",
          "1_12",
          "1_13",
          "1_14",
          "1_15",
          "1_16",
          "1_17",
          "1_18",
          "1_19",
          "1_20",
          "1_21",
          "1_22",
          "1_23",
          "1_24",
          "1_25",
          "1_26",
          "1_27",
          "1_28",
          "1_29",
          "1_30"
         ],
         "xaxis": "x2",
         "y": [
          -4.659498207885299,
          1.3377926421404778,
          4.659498207885299,
          2.446483180428139,
          0.3759398496240708,
          16.66666666666667,
          8.963585434173673,
          8.888888888888893,
          4.062500000000009,
          9.876543209876548,
          -4.238921001926788,
          -5.219780219780228,
          4.700854700854707,
          1.7241379310344767,
          -12.222222222222213,
          1.5180265654648903,
          -15.662650602409633,
          -21.076233183856512,
          -4.00763358778626,
          -4.347826086956517,
          -1.92,
          -2.4038461538461537,
          -8.385093167701864,
          1.4725568942436373,
          -17.906336088154262,
          -12.624113475177314,
          -5.036855036855044,
          -31.417624521072792,
          -4.125,
          -22.272727272727288
         ],
         "yaxis": "y2"
        },
        {
         "hovertemplate": "solver=L3_D16_best<br>type=lrnn_best<br>difficulty=0<br>problem=%{x}<br>improvement (%)=%{y}<extra></extra>",
         "legendgroup": "L3_D16_best, lrnn_best",
         "line": {
          "color": "#B6E880",
          "dash": "dot"
         },
         "marker": {
          "symbol": "circle"
         },
         "mode": "lines",
         "name": "L3_D16_best, lrnn_best",
         "orientation": "v",
         "showlegend": true,
         "type": "scatter",
         "x": [
          "0_01",
          "0_02",
          "0_03",
          "0_04",
          "0_05",
          "0_06",
          "0_07",
          "0_08",
          "0_09",
          "0_10",
          "0_11",
          "0_12",
          "0_13",
          "0_14",
          "0_15",
          "0_16",
          "0_17",
          "0_18",
          "0_19",
          "0_20",
          "0_21",
          "0_22",
          "0_23",
          "0_24",
          "0_25",
          "0_26",
          "0_27",
          "0_28",
          "0_29",
          "0_30"
         ],
         "xaxis": "x",
         "y": [
          24.999999999999996,
          8.064516129032263,
          -5.4054054054054,
          16.000000000000007,
          2.3255813953488413,
          -12.5,
          20,
          10,
          23.584905660377366,
          40,
          12.637362637362633,
          36.440677966101696,
          50,
          16.071428571428573,
          42.592592592592595,
          13.82978723404255,
          -8.108108108108109,
          31.428571428571427,
          15.217391304347831,
          9.39597315436241,
          -2.36486486486486,
          18.66197183098592,
          20.093457943925227,
          25.000000000000004,
          11.417322834645676,
          3.125,
          10,
          17.272727272727273,
          36.029411764705884,
          30.597014925373134
         ],
         "yaxis": "y"
        },
        {
         "hovertemplate": "solver=L3_D16_best<br>type=lrnn_best<br>difficulty=1<br>problem=%{x}<br>improvement (%)=%{y}<extra></extra>",
         "legendgroup": "L3_D16_best, lrnn_best",
         "line": {
          "color": "#B6E880",
          "dash": "dot"
         },
         "marker": {
          "symbol": "circle"
         },
         "mode": "lines",
         "name": "L3_D16_best, lrnn_best",
         "orientation": "v",
         "showlegend": false,
         "type": "scatter",
         "x": [
          "1_01",
          "1_02",
          "1_03",
          "1_04",
          "1_05",
          "1_06",
          "1_07",
          "1_08",
          "1_09",
          "1_10",
          "1_11",
          "1_12",
          "1_13",
          "1_14",
          "1_15",
          "1_16",
          "1_17",
          "1_18",
          "1_19",
          "1_20",
          "1_21",
          "1_22",
          "1_23",
          "1_24",
          "1_25",
          "1_26",
          "1_27",
          "1_28",
          "1_29",
          "1_30"
         ],
         "xaxis": "x2",
         "y": [
          -6.989247311827957,
          -2.84280936454849,
          2.6881720430107525,
          -0.45871559633027525,
          -4.8872180451127765,
          20.754716981132077,
          -2.9411764705882355,
          58.333333333333336,
          -13.437499999999995,
          55.55555555555556,
          -5.780346820809249,
          14.697802197802194,
          4.8076923076923075,
          23.060344827586203,
          31.666666666666668,
          -5.882352941176477,
          30.873493975903617,
          30.04484304932735,
          1.8129770992366359,
          -7.2713643178410745,
          2.5600000000000045,
          5.048076923076923,
          37.11180124223603,
          -7.429718875502008,
          4.545454545454546,
          -11.27659574468085,
          18.73464373464373,
          39.08045977011494,
          -1.6249999999999927,
          26.022727272727266
         ],
         "yaxis": "y2"
        }
       ],
       "layout": {
        "annotations": [
         {
          "font": {},
          "showarrow": false,
          "text": "difficulty=0",
          "x": 0.245,
          "xanchor": "center",
          "xref": "paper",
          "y": 1,
          "yanchor": "bottom",
          "yref": "paper"
         },
         {
          "font": {},
          "showarrow": false,
          "text": "difficulty=1",
          "x": 0.755,
          "xanchor": "center",
          "xref": "paper",
          "y": 1,
          "yanchor": "bottom",
          "yref": "paper"
         }
        ],
        "legend": {
         "title": {
          "text": "solver, type"
         },
         "tracegroupgap": 0
        },
        "margin": {
         "t": 60
        },
        "template": {
         "data": {
          "bar": [
           {
            "error_x": {
             "color": "#2a3f5f"
            },
            "error_y": {
             "color": "#2a3f5f"
            },
            "marker": {
             "line": {
              "color": "#E5ECF6",
              "width": 0.5
             },
             "pattern": {
              "fillmode": "overlay",
              "size": 10,
              "solidity": 0.2
             }
            },
            "type": "bar"
           }
          ],
          "barpolar": [
           {
            "marker": {
             "line": {
              "color": "#E5ECF6",
              "width": 0.5
             },
             "pattern": {
              "fillmode": "overlay",
              "size": 10,
              "solidity": 0.2
             }
            },
            "type": "barpolar"
           }
          ],
          "carpet": [
           {
            "aaxis": {
             "endlinecolor": "#2a3f5f",
             "gridcolor": "white",
             "linecolor": "white",
             "minorgridcolor": "white",
             "startlinecolor": "#2a3f5f"
            },
            "baxis": {
             "endlinecolor": "#2a3f5f",
             "gridcolor": "white",
             "linecolor": "white",
             "minorgridcolor": "white",
             "startlinecolor": "#2a3f5f"
            },
            "type": "carpet"
           }
          ],
          "choropleth": [
           {
            "colorbar": {
             "outlinewidth": 0,
             "ticks": ""
            },
            "type": "choropleth"
           }
          ],
          "contour": [
           {
            "colorbar": {
             "outlinewidth": 0,
             "ticks": ""
            },
            "colorscale": [
             [
              0,
              "#0d0887"
             ],
             [
              0.1111111111111111,
              "#46039f"
             ],
             [
              0.2222222222222222,
              "#7201a8"
             ],
             [
              0.3333333333333333,
              "#9c179e"
             ],
             [
              0.4444444444444444,
              "#bd3786"
             ],
             [
              0.5555555555555556,
              "#d8576b"
             ],
             [
              0.6666666666666666,
              "#ed7953"
             ],
             [
              0.7777777777777778,
              "#fb9f3a"
             ],
             [
              0.8888888888888888,
              "#fdca26"
             ],
             [
              1,
              "#f0f921"
             ]
            ],
            "type": "contour"
           }
          ],
          "contourcarpet": [
           {
            "colorbar": {
             "outlinewidth": 0,
             "ticks": ""
            },
            "type": "contourcarpet"
           }
          ],
          "heatmap": [
           {
            "colorbar": {
             "outlinewidth": 0,
             "ticks": ""
            },
            "colorscale": [
             [
              0,
              "#0d0887"
             ],
             [
              0.1111111111111111,
              "#46039f"
             ],
             [
              0.2222222222222222,
              "#7201a8"
             ],
             [
              0.3333333333333333,
              "#9c179e"
             ],
             [
              0.4444444444444444,
              "#bd3786"
             ],
             [
              0.5555555555555556,
              "#d8576b"
             ],
             [
              0.6666666666666666,
              "#ed7953"
             ],
             [
              0.7777777777777778,
              "#fb9f3a"
             ],
             [
              0.8888888888888888,
              "#fdca26"
             ],
             [
              1,
              "#f0f921"
             ]
            ],
            "type": "heatmap"
           }
          ],
          "heatmapgl": [
           {
            "colorbar": {
             "outlinewidth": 0,
             "ticks": ""
            },
            "colorscale": [
             [
              0,
              "#0d0887"
             ],
             [
              0.1111111111111111,
              "#46039f"
             ],
             [
              0.2222222222222222,
              "#7201a8"
             ],
             [
              0.3333333333333333,
              "#9c179e"
             ],
             [
              0.4444444444444444,
              "#bd3786"
             ],
             [
              0.5555555555555556,
              "#d8576b"
             ],
             [
              0.6666666666666666,
              "#ed7953"
             ],
             [
              0.7777777777777778,
              "#fb9f3a"
             ],
             [
              0.8888888888888888,
              "#fdca26"
             ],
             [
              1,
              "#f0f921"
             ]
            ],
            "type": "heatmapgl"
           }
          ],
          "histogram": [
           {
            "marker": {
             "pattern": {
              "fillmode": "overlay",
              "size": 10,
              "solidity": 0.2
             }
            },
            "type": "histogram"
           }
          ],
          "histogram2d": [
           {
            "colorbar": {
             "outlinewidth": 0,
             "ticks": ""
            },
            "colorscale": [
             [
              0,
              "#0d0887"
             ],
             [
              0.1111111111111111,
              "#46039f"
             ],
             [
              0.2222222222222222,
              "#7201a8"
             ],
             [
              0.3333333333333333,
              "#9c179e"
             ],
             [
              0.4444444444444444,
              "#bd3786"
             ],
             [
              0.5555555555555556,
              "#d8576b"
             ],
             [
              0.6666666666666666,
              "#ed7953"
             ],
             [
              0.7777777777777778,
              "#fb9f3a"
             ],
             [
              0.8888888888888888,
              "#fdca26"
             ],
             [
              1,
              "#f0f921"
             ]
            ],
            "type": "histogram2d"
           }
          ],
          "histogram2dcontour": [
           {
            "colorbar": {
             "outlinewidth": 0,
             "ticks": ""
            },
            "colorscale": [
             [
              0,
              "#0d0887"
             ],
             [
              0.1111111111111111,
              "#46039f"
             ],
             [
              0.2222222222222222,
              "#7201a8"
             ],
             [
              0.3333333333333333,
              "#9c179e"
             ],
             [
              0.4444444444444444,
              "#bd3786"
             ],
             [
              0.5555555555555556,
              "#d8576b"
             ],
             [
              0.6666666666666666,
              "#ed7953"
             ],
             [
              0.7777777777777778,
              "#fb9f3a"
             ],
             [
              0.8888888888888888,
              "#fdca26"
             ],
             [
              1,
              "#f0f921"
             ]
            ],
            "type": "histogram2dcontour"
           }
          ],
          "mesh3d": [
           {
            "colorbar": {
             "outlinewidth": 0,
             "ticks": ""
            },
            "type": "mesh3d"
           }
          ],
          "parcoords": [
           {
            "line": {
             "colorbar": {
              "outlinewidth": 0,
              "ticks": ""
             }
            },
            "type": "parcoords"
           }
          ],
          "pie": [
           {
            "automargin": true,
            "type": "pie"
           }
          ],
          "scatter": [
           {
            "fillpattern": {
             "fillmode": "overlay",
             "size": 10,
             "solidity": 0.2
            },
            "type": "scatter"
           }
          ],
          "scatter3d": [
           {
            "line": {
             "colorbar": {
              "outlinewidth": 0,
              "ticks": ""
             }
            },
            "marker": {
             "colorbar": {
              "outlinewidth": 0,
              "ticks": ""
             }
            },
            "type": "scatter3d"
           }
          ],
          "scattercarpet": [
           {
            "marker": {
             "colorbar": {
              "outlinewidth": 0,
              "ticks": ""
             }
            },
            "type": "scattercarpet"
           }
          ],
          "scattergeo": [
           {
            "marker": {
             "colorbar": {
              "outlinewidth": 0,
              "ticks": ""
             }
            },
            "type": "scattergeo"
           }
          ],
          "scattergl": [
           {
            "marker": {
             "colorbar": {
              "outlinewidth": 0,
              "ticks": ""
             }
            },
            "type": "scattergl"
           }
          ],
          "scattermapbox": [
           {
            "marker": {
             "colorbar": {
              "outlinewidth": 0,
              "ticks": ""
             }
            },
            "type": "scattermapbox"
           }
          ],
          "scatterpolar": [
           {
            "marker": {
             "colorbar": {
              "outlinewidth": 0,
              "ticks": ""
             }
            },
            "type": "scatterpolar"
           }
          ],
          "scatterpolargl": [
           {
            "marker": {
             "colorbar": {
              "outlinewidth": 0,
              "ticks": ""
             }
            },
            "type": "scatterpolargl"
           }
          ],
          "scatterternary": [
           {
            "marker": {
             "colorbar": {
              "outlinewidth": 0,
              "ticks": ""
             }
            },
            "type": "scatterternary"
           }
          ],
          "surface": [
           {
            "colorbar": {
             "outlinewidth": 0,
             "ticks": ""
            },
            "colorscale": [
             [
              0,
              "#0d0887"
             ],
             [
              0.1111111111111111,
              "#46039f"
             ],
             [
              0.2222222222222222,
              "#7201a8"
             ],
             [
              0.3333333333333333,
              "#9c179e"
             ],
             [
              0.4444444444444444,
              "#bd3786"
             ],
             [
              0.5555555555555556,
              "#d8576b"
             ],
             [
              0.6666666666666666,
              "#ed7953"
             ],
             [
              0.7777777777777778,
              "#fb9f3a"
             ],
             [
              0.8888888888888888,
              "#fdca26"
             ],
             [
              1,
              "#f0f921"
             ]
            ],
            "type": "surface"
           }
          ],
          "table": [
           {
            "cells": {
             "fill": {
              "color": "#EBF0F8"
             },
             "line": {
              "color": "white"
             }
            },
            "header": {
             "fill": {
              "color": "#C8D4E3"
             },
             "line": {
              "color": "white"
             }
            },
            "type": "table"
           }
          ]
         },
         "layout": {
          "annotationdefaults": {
           "arrowcolor": "#2a3f5f",
           "arrowhead": 0,
           "arrowwidth": 1
          },
          "autotypenumbers": "strict",
          "coloraxis": {
           "colorbar": {
            "outlinewidth": 0,
            "ticks": ""
           }
          },
          "colorscale": {
           "diverging": [
            [
             0,
             "#8e0152"
            ],
            [
             0.1,
             "#c51b7d"
            ],
            [
             0.2,
             "#de77ae"
            ],
            [
             0.3,
             "#f1b6da"
            ],
            [
             0.4,
             "#fde0ef"
            ],
            [
             0.5,
             "#f7f7f7"
            ],
            [
             0.6,
             "#e6f5d0"
            ],
            [
             0.7,
             "#b8e186"
            ],
            [
             0.8,
             "#7fbc41"
            ],
            [
             0.9,
             "#4d9221"
            ],
            [
             1,
             "#276419"
            ]
           ],
           "sequential": [
            [
             0,
             "#0d0887"
            ],
            [
             0.1111111111111111,
             "#46039f"
            ],
            [
             0.2222222222222222,
             "#7201a8"
            ],
            [
             0.3333333333333333,
             "#9c179e"
            ],
            [
             0.4444444444444444,
             "#bd3786"
            ],
            [
             0.5555555555555556,
             "#d8576b"
            ],
            [
             0.6666666666666666,
             "#ed7953"
            ],
            [
             0.7777777777777778,
             "#fb9f3a"
            ],
            [
             0.8888888888888888,
             "#fdca26"
            ],
            [
             1,
             "#f0f921"
            ]
           ],
           "sequentialminus": [
            [
             0,
             "#0d0887"
            ],
            [
             0.1111111111111111,
             "#46039f"
            ],
            [
             0.2222222222222222,
             "#7201a8"
            ],
            [
             0.3333333333333333,
             "#9c179e"
            ],
            [
             0.4444444444444444,
             "#bd3786"
            ],
            [
             0.5555555555555556,
             "#d8576b"
            ],
            [
             0.6666666666666666,
             "#ed7953"
            ],
            [
             0.7777777777777778,
             "#fb9f3a"
            ],
            [
             0.8888888888888888,
             "#fdca26"
            ],
            [
             1,
             "#f0f921"
            ]
           ]
          },
          "colorway": [
           "#636efa",
           "#EF553B",
           "#00cc96",
           "#ab63fa",
           "#FFA15A",
           "#19d3f3",
           "#FF6692",
           "#B6E880",
           "#FF97FF",
           "#FECB52"
          ],
          "font": {
           "color": "#2a3f5f"
          },
          "geo": {
           "bgcolor": "white",
           "lakecolor": "white",
           "landcolor": "#E5ECF6",
           "showlakes": true,
           "showland": true,
           "subunitcolor": "white"
          },
          "hoverlabel": {
           "align": "left"
          },
          "hovermode": "closest",
          "mapbox": {
           "style": "light"
          },
          "paper_bgcolor": "white",
          "plot_bgcolor": "#E5ECF6",
          "polar": {
           "angularaxis": {
            "gridcolor": "white",
            "linecolor": "white",
            "ticks": ""
           },
           "bgcolor": "#E5ECF6",
           "radialaxis": {
            "gridcolor": "white",
            "linecolor": "white",
            "ticks": ""
           }
          },
          "scene": {
           "xaxis": {
            "backgroundcolor": "#E5ECF6",
            "gridcolor": "white",
            "gridwidth": 2,
            "linecolor": "white",
            "showbackground": true,
            "ticks": "",
            "zerolinecolor": "white"
           },
           "yaxis": {
            "backgroundcolor": "#E5ECF6",
            "gridcolor": "white",
            "gridwidth": 2,
            "linecolor": "white",
            "showbackground": true,
            "ticks": "",
            "zerolinecolor": "white"
           },
           "zaxis": {
            "backgroundcolor": "#E5ECF6",
            "gridcolor": "white",
            "gridwidth": 2,
            "linecolor": "white",
            "showbackground": true,
            "ticks": "",
            "zerolinecolor": "white"
           }
          },
          "shapedefaults": {
           "line": {
            "color": "#2a3f5f"
           }
          },
          "ternary": {
           "aaxis": {
            "gridcolor": "white",
            "linecolor": "white",
            "ticks": ""
           },
           "baxis": {
            "gridcolor": "white",
            "linecolor": "white",
            "ticks": ""
           },
           "bgcolor": "#E5ECF6",
           "caxis": {
            "gridcolor": "white",
            "linecolor": "white",
            "ticks": ""
           }
          },
          "title": {
           "x": 0.05
          },
          "xaxis": {
           "automargin": true,
           "gridcolor": "white",
           "linecolor": "white",
           "ticks": "",
           "title": {
            "standoff": 15
           },
           "zerolinecolor": "white",
           "zerolinewidth": 2
          },
          "yaxis": {
           "automargin": true,
           "gridcolor": "white",
           "linecolor": "white",
           "ticks": "",
           "title": {
            "standoff": 15
           },
           "zerolinecolor": "white",
           "zerolinewidth": 2
          }
         }
        },
        "xaxis": {
         "anchor": "y",
         "categoryorder": "array",
         "domain": [
          0,
          0.49
         ],
         "showticklabels": true,
         "title": {
          "text": "problem"
         }
        },
        "xaxis2": {
         "anchor": "y2",
         "categoryorder": "array",
         "domain": [
          0.51,
          1
         ],
         "showticklabels": true,
         "title": {
          "text": "problem"
         }
        },
        "yaxis": {
         "anchor": "x",
         "domain": [
          0,
          1
         ],
         "range": [
          -100,
          100
         ],
         "showticklabels": true,
         "title": {
          "text": "improvement (%)"
         }
        },
        "yaxis2": {
         "anchor": "x2",
         "domain": [
          0,
          1
         ],
         "range": [
          -100,
          100
         ],
         "showticklabels": true
        }
       }
      }
     },
     "metadata": {},
     "output_type": "display_data"
    },
    {
     "name": "stdout",
     "output_type": "stream",
     "text": [
      "rover\n"
     ]
    },
    {
     "data": {
      "application/vnd.plotly.v1+json": {
       "config": {
        "plotlyServerURL": "https://plot.ly"
       },
       "data": [
        {
         "hovertemplate": "solver=baseline<br>type=bounds<br>difficulty=0<br>problem=%{x}<br>improvement (%)=%{y}<extra></extra>",
         "legendgroup": "baseline, bounds",
         "line": {
          "color": "#636efa",
          "dash": "solid"
         },
         "marker": {
          "symbol": "circle"
         },
         "mode": "lines",
         "name": "baseline, bounds",
         "orientation": "v",
         "showlegend": true,
         "type": "scatter",
         "x": [
          "0_01",
          "0_02",
          "0_03",
          "0_04",
          "0_05",
          "0_06",
          "0_07",
          "0_08",
          "0_09",
          "0_10",
          "0_11",
          "0_12",
          "0_13",
          "0_14",
          "0_15",
          "0_16",
          "0_17",
          "0_18",
          "0_19",
          "0_20",
          "0_21",
          "0_22",
          "0_23",
          "0_24",
          "0_25",
          "0_26",
          "0_27",
          "0_28",
          "0_29",
          "0_30"
         ],
         "xaxis": "x",
         "y": [
          0,
          0,
          0,
          0,
          0,
          0,
          0,
          0,
          0,
          0,
          0,
          0,
          0,
          0,
          0,
          0,
          0,
          0,
          0,
          0,
          0,
          0,
          0,
          0,
          0,
          0,
          0,
          0,
          0,
          0
         ],
         "yaxis": "y"
        },
        {
         "hovertemplate": "solver=baseline<br>type=bounds<br>difficulty=1<br>problem=%{x}<br>improvement (%)=%{y}<extra></extra>",
         "legendgroup": "baseline, bounds",
         "line": {
          "color": "#636efa",
          "dash": "solid"
         },
         "marker": {
          "symbol": "circle"
         },
         "mode": "lines",
         "name": "baseline, bounds",
         "orientation": "v",
         "showlegend": false,
         "type": "scatter",
         "x": [
          "1_01",
          "1_02",
          "1_03",
          "1_04",
          "1_05",
          "1_06",
          "1_07",
          "1_08",
          "1_09",
          "1_10",
          "1_11",
          "1_12",
          "1_13",
          "1_14",
          "1_15",
          "1_16",
          "1_17",
          "1_18",
          "1_19",
          "1_20",
          "1_21",
          "1_22",
          "1_23",
          "1_24",
          "1_25",
          "1_26",
          "1_27",
          "1_28",
          "1_29",
          "1_30"
         ],
         "xaxis": "x2",
         "y": [
          0,
          0,
          0,
          0,
          0,
          0,
          0,
          0,
          0,
          0,
          0,
          0,
          0,
          0,
          0,
          0,
          0,
          0,
          0,
          0,
          0,
          0,
          0,
          0,
          0,
          0,
          0,
          0,
          null,
          null
         ],
         "yaxis": "y2"
        },
        {
         "hovertemplate": "solver=optimal<br>type=bounds<br>difficulty=0<br>problem=%{x}<br>improvement (%)=%{y}<extra></extra>",
         "legendgroup": "optimal, bounds",
         "line": {
          "color": "#EF553B",
          "dash": "solid"
         },
         "marker": {
          "symbol": "circle"
         },
         "mode": "lines",
         "name": "optimal, bounds",
         "orientation": "v",
         "showlegend": true,
         "type": "scatter",
         "x": [
          "0_01",
          "0_02",
          "0_03",
          "0_04",
          "0_05",
          "0_06",
          "0_07",
          "0_08",
          "0_09",
          "0_10",
          "0_11",
          "0_12",
          "0_13",
          "0_14",
          "0_15",
          "0_16",
          "0_17",
          "0_18",
          "0_19",
          "0_20",
          "0_21",
          "0_22",
          "0_23",
          "0_24",
          "0_25",
          "0_26",
          "0_27",
          "0_28",
          "0_29",
          "0_30"
         ],
         "xaxis": "x",
         "y": [
          0,
          4.000000000000007,
          4.166666666666667,
          5.882352941176471,
          10.000000000000005,
          1.6393442622950762,
          0,
          7.272727272727266,
          0,
          5.882352941176471,
          3.7037037037037037,
          3.4482758620689653,
          1.9230769230769165,
          12.5,
          5.3846153846153895,
          13.253012048192776,
          null,
          8.235294117647054,
          null,
          null,
          null,
          null,
          null,
          null,
          null,
          null,
          null,
          null,
          11.538461538461538,
          null
         ],
         "yaxis": "y"
        },
        {
         "hovertemplate": "solver=optimal<br>type=bounds<br>difficulty=1<br>problem=%{x}<br>improvement (%)=%{y}<extra></extra>",
         "legendgroup": "optimal, bounds",
         "line": {
          "color": "#EF553B",
          "dash": "solid"
         },
         "marker": {
          "symbol": "circle"
         },
         "mode": "lines",
         "name": "optimal, bounds",
         "orientation": "v",
         "showlegend": false,
         "type": "scatter",
         "x": [
          "1_01",
          "1_02",
          "1_03",
          "1_04",
          "1_05",
          "1_06",
          "1_07",
          "1_08",
          "1_09",
          "1_10",
          "1_11",
          "1_12",
          "1_13",
          "1_14",
          "1_15",
          "1_16",
          "1_17",
          "1_18",
          "1_19",
          "1_20",
          "1_21",
          "1_22",
          "1_23",
          "1_24",
          "1_25",
          "1_26",
          "1_27",
          "1_28",
          "1_29",
          "1_30"
         ],
         "xaxis": "x2",
         "y": [
          null,
          null,
          null,
          null,
          null,
          null,
          null,
          null,
          null,
          null,
          null,
          null,
          null,
          null,
          null,
          null,
          null,
          null,
          null,
          null,
          null,
          null,
          null,
          null,
          null,
          null,
          null,
          null,
          null,
          null
         ],
         "yaxis": "y2"
        },
        {
         "hovertemplate": "solver=lama<br>type=bounds<br>difficulty=0<br>problem=%{x}<br>improvement (%)=%{y}<extra></extra>",
         "legendgroup": "lama, bounds",
         "line": {
          "color": "#00cc96",
          "dash": "solid"
         },
         "marker": {
          "symbol": "circle"
         },
         "mode": "lines",
         "name": "lama, bounds",
         "orientation": "v",
         "showlegend": true,
         "type": "scatter",
         "x": [
          "0_01",
          "0_02",
          "0_03",
          "0_04",
          "0_05",
          "0_06",
          "0_07",
          "0_08",
          "0_09",
          "0_10",
          "0_11",
          "0_12",
          "0_13",
          "0_14",
          "0_15",
          "0_16",
          "0_17",
          "0_18",
          "0_19",
          "0_20",
          "0_21",
          "0_22",
          "0_23",
          "0_24",
          "0_25",
          "0_26",
          "0_27",
          "0_28",
          "0_29",
          "0_30"
         ],
         "xaxis": "x",
         "y": [
          0,
          -1.9999999999999927,
          0,
          0,
          -4.999999999999995,
          -3.27868852459017,
          -8.823529411764707,
          -3.636363636363643,
          0,
          5.882352941176471,
          -14.814814814814815,
          3.4482758620689653,
          -6.730769230769238,
          -4.166666666666667,
          3.0769230769230824,
          2.4096385542168717,
          -18.934911242603548,
          1.17647058823529,
          -20,
          -9.727626459143963,
          -11.290322580645155,
          -5.376344086021505,
          -10,
          -10.999999999999991,
          1.8518518518518519,
          6.622516556291396,
          -19.371727748691104,
          -2.5,
          3.8461538461538463,
          -10.309278350515465
         ],
         "yaxis": "y"
        },
        {
         "hovertemplate": "solver=lama<br>type=bounds<br>difficulty=1<br>problem=%{x}<br>improvement (%)=%{y}<extra></extra>",
         "legendgroup": "lama, bounds",
         "line": {
          "color": "#00cc96",
          "dash": "solid"
         },
         "marker": {
          "symbol": "circle"
         },
         "mode": "lines",
         "name": "lama, bounds",
         "orientation": "v",
         "showlegend": false,
         "type": "scatter",
         "x": [
          "1_01",
          "1_02",
          "1_03",
          "1_04",
          "1_05",
          "1_06",
          "1_07",
          "1_08",
          "1_09",
          "1_10",
          "1_11",
          "1_12",
          "1_13",
          "1_14",
          "1_15",
          "1_16",
          "1_17",
          "1_18",
          "1_19",
          "1_20",
          "1_21",
          "1_22",
          "1_23",
          "1_24",
          "1_25",
          "1_26",
          "1_27",
          "1_28",
          "1_29",
          "1_30"
         ],
         "xaxis": "x2",
         "y": [
          -1.4285714285714286,
          -7.416879795396412,
          -36.986301369863014,
          1.0174418604651203,
          -1.8348623853210944,
          -12.310286677908943,
          1.9756838905775118,
          -0.09319664492077755,
          1.9230769230769231,
          -13.621262458471767,
          -4.531249999999996,
          -5.679513184584178,
          -1.4047410008779582,
          2.3880597014925415,
          -0.1730103806228423,
          5.263157894736838,
          2.214532871972322,
          null,
          null,
          -36.168691922802005,
          -6.387665198237886,
          -1.443298969072171,
          0.14492753623188406,
          2.675585284280941,
          0.0413393964448166,
          -1.839464882943144,
          null,
          -21.67441860465117,
          null,
          null
         ],
         "yaxis": "y2"
        },
        {
         "hovertemplate": "solver=L2_D8_best<br>type=lrnn_best<br>difficulty=0<br>problem=%{x}<br>improvement (%)=%{y}<extra></extra>",
         "legendgroup": "L2_D8_best, lrnn_best",
         "line": {
          "color": "#ab63fa",
          "dash": "dot"
         },
         "marker": {
          "symbol": "circle"
         },
         "mode": "lines",
         "name": "L2_D8_best, lrnn_best",
         "orientation": "v",
         "showlegend": true,
         "type": "scatter",
         "x": [
          "0_01",
          "0_02",
          "0_03",
          "0_04",
          "0_05",
          "0_06",
          "0_07",
          "0_08",
          "0_09",
          "0_10",
          "0_11",
          "0_12",
          "0_13",
          "0_14",
          "0_15",
          "0_16",
          "0_17",
          "0_18",
          "0_19",
          "0_20",
          "0_21",
          "0_22",
          "0_23",
          "0_24",
          "0_25",
          "0_26",
          "0_27",
          "0_28",
          "0_29",
          "0_30"
         ],
         "xaxis": "x",
         "y": [
          0,
          2.000000000000014,
          2.7777777777777826,
          1.9607843137254832,
          0,
          1.6393442622950762,
          -2.9411764705882355,
          0,
          0,
          0,
          2.46913580246914,
          3.4482758620689653,
          1.9230769230769165,
          6.94444444444445,
          3.0769230769230824,
          -2.409638554216859,
          0,
          4.705882352941172,
          -4,
          2.723735408560322,
          2.4193548387096775,
          2.150537634408602,
          0.9523809523809591,
          8.000000000000004,
          1.2345679012345636,
          3.3112582781457047,
          1.5706806282722514,
          2.2222222222222263,
          5.128205128205123,
          3.7800687285223415
         ],
         "yaxis": "y"
        },
        {
         "hovertemplate": "solver=L2_D8_best<br>type=lrnn_best<br>difficulty=1<br>problem=%{x}<br>improvement (%)=%{y}<extra></extra>",
         "legendgroup": "L2_D8_best, lrnn_best",
         "line": {
          "color": "#ab63fa",
          "dash": "dot"
         },
         "marker": {
          "symbol": "circle"
         },
         "mode": "lines",
         "name": "L2_D8_best, lrnn_best",
         "orientation": "v",
         "showlegend": false,
         "type": "scatter",
         "x": [
          "1_01",
          "1_02",
          "1_03",
          "1_04",
          "1_05",
          "1_06",
          "1_07",
          "1_08",
          "1_09",
          "1_10",
          "1_11",
          "1_12",
          "1_13",
          "1_14",
          "1_15",
          "1_16",
          "1_17",
          "1_18",
          "1_19",
          "1_20",
          "1_21",
          "1_22",
          "1_23",
          "1_24",
          "1_25",
          "1_26",
          "1_27",
          "1_28",
          "1_29",
          "1_30"
         ],
         "xaxis": "x2",
         "y": [
          4.047619047619041,
          1.2787723785166385,
          1.6742770167427659,
          3.488372093023256,
          3.3256880733945016,
          3.204047217537933,
          1.3677811550151975,
          1.3979496738117427,
          2.5641025641025603,
          1.8272425249169388,
          2.187500000000009,
          2.56930358350237,
          0.08779631255488267,
          -0.1492537313432751,
          4.498269896193767,
          1.5235457063711872,
          null,
          null,
          5.846153846153841,
          2.2158684774839132,
          0.8076358296622655,
          3.814432989690716,
          1.0144927536231885,
          2.341137123745829,
          null,
          -1.839464882943144,
          2.803738317757009,
          null,
          null,
          null
         ],
         "yaxis": "y2"
        },
        {
         "hovertemplate": "solver=L2_D16_best<br>type=lrnn_best<br>difficulty=0<br>problem=%{x}<br>improvement (%)=%{y}<extra></extra>",
         "legendgroup": "L2_D16_best, lrnn_best",
         "line": {
          "color": "#FFA15A",
          "dash": "dot"
         },
         "marker": {
          "symbol": "circle"
         },
         "mode": "lines",
         "name": "L2_D16_best, lrnn_best",
         "orientation": "v",
         "showlegend": true,
         "type": "scatter",
         "x": [
          "0_01",
          "0_02",
          "0_03",
          "0_04",
          "0_05",
          "0_06",
          "0_07",
          "0_08",
          "0_09",
          "0_10",
          "0_11",
          "0_12",
          "0_13",
          "0_14",
          "0_15",
          "0_16",
          "0_17",
          "0_18",
          "0_19",
          "0_20",
          "0_21",
          "0_22",
          "0_23",
          "0_24",
          "0_25",
          "0_26",
          "0_27",
          "0_28",
          "0_29",
          "0_30"
         ],
         "xaxis": "x",
         "y": [
          0,
          1.000000000000007,
          2.0833333333333335,
          0,
          2.5000000000000044,
          1.6393442622950762,
          -2.9411764705882355,
          1.818181818181812,
          0,
          0,
          1.8518518518518519,
          3.4482758620689653,
          1.9230769230769165,
          8.333333333333334,
          1.9230769230769285,
          -1.2048192771084294,
          -0.29585798816567627,
          1.17647058823529,
          -5,
          1.9455252918287993,
          0.8064516129032315,
          2.150537634408602,
          2.142857142857143,
          10.000000000000007,
          -1.8518518518518519,
          3.6423841059602693,
          0.26178010471203816,
          1.25,
          3.8461538461538463,
          2.577319587628866
         ],
         "yaxis": "y"
        },
        {
         "hovertemplate": "solver=L2_D16_best<br>type=lrnn_best<br>difficulty=1<br>problem=%{x}<br>improvement (%)=%{y}<extra></extra>",
         "legendgroup": "L2_D16_best, lrnn_best",
         "line": {
          "color": "#FFA15A",
          "dash": "dot"
         },
         "marker": {
          "symbol": "circle"
         },
         "mode": "lines",
         "name": "L2_D16_best, lrnn_best",
         "orientation": "v",
         "showlegend": false,
         "type": "scatter",
         "x": [
          "1_01",
          "1_02",
          "1_03",
          "1_04",
          "1_05",
          "1_06",
          "1_07",
          "1_08",
          "1_09",
          "1_10",
          "1_11",
          "1_12",
          "1_13",
          "1_14",
          "1_15",
          "1_16",
          "1_17",
          "1_18",
          "1_19",
          "1_20",
          "1_21",
          "1_22",
          "1_24",
          "1_25",
          "1_26",
          "1_27",
          "1_28",
          "1_29",
          "1_30"
         ],
         "xaxis": "x2",
         "y": [
          2.857142857142857,
          1.7902813299232807,
          1.82648401826484,
          2.979651162790702,
          3.3256880733945016,
          3.8785834738617155,
          1.9756838905775118,
          1.5843429636533137,
          1.3461538461538463,
          2.076411960132886,
          3.6718750000000044,
          3.4482758620689653,
          1.3608428446005316,
          0.5970149253731385,
          6.574394463667815,
          1.108033240997226,
          null,
          null,
          null,
          null,
          null,
          5.670103092783499,
          7.190635451505022,
          null,
          null,
          null,
          null,
          null,
          null
         ],
         "yaxis": "y2"
        }
       ],
       "layout": {
        "annotations": [
         {
          "font": {},
          "showarrow": false,
          "text": "difficulty=0",
          "x": 0.245,
          "xanchor": "center",
          "xref": "paper",
          "y": 1,
          "yanchor": "bottom",
          "yref": "paper"
         },
         {
          "font": {},
          "showarrow": false,
          "text": "difficulty=1",
          "x": 0.755,
          "xanchor": "center",
          "xref": "paper",
          "y": 1,
          "yanchor": "bottom",
          "yref": "paper"
         }
        ],
        "legend": {
         "title": {
          "text": "solver, type"
         },
         "tracegroupgap": 0
        },
        "margin": {
         "t": 60
        },
        "template": {
         "data": {
          "bar": [
           {
            "error_x": {
             "color": "#2a3f5f"
            },
            "error_y": {
             "color": "#2a3f5f"
            },
            "marker": {
             "line": {
              "color": "#E5ECF6",
              "width": 0.5
             },
             "pattern": {
              "fillmode": "overlay",
              "size": 10,
              "solidity": 0.2
             }
            },
            "type": "bar"
           }
          ],
          "barpolar": [
           {
            "marker": {
             "line": {
              "color": "#E5ECF6",
              "width": 0.5
             },
             "pattern": {
              "fillmode": "overlay",
              "size": 10,
              "solidity": 0.2
             }
            },
            "type": "barpolar"
           }
          ],
          "carpet": [
           {
            "aaxis": {
             "endlinecolor": "#2a3f5f",
             "gridcolor": "white",
             "linecolor": "white",
             "minorgridcolor": "white",
             "startlinecolor": "#2a3f5f"
            },
            "baxis": {
             "endlinecolor": "#2a3f5f",
             "gridcolor": "white",
             "linecolor": "white",
             "minorgridcolor": "white",
             "startlinecolor": "#2a3f5f"
            },
            "type": "carpet"
           }
          ],
          "choropleth": [
           {
            "colorbar": {
             "outlinewidth": 0,
             "ticks": ""
            },
            "type": "choropleth"
           }
          ],
          "contour": [
           {
            "colorbar": {
             "outlinewidth": 0,
             "ticks": ""
            },
            "colorscale": [
             [
              0,
              "#0d0887"
             ],
             [
              0.1111111111111111,
              "#46039f"
             ],
             [
              0.2222222222222222,
              "#7201a8"
             ],
             [
              0.3333333333333333,
              "#9c179e"
             ],
             [
              0.4444444444444444,
              "#bd3786"
             ],
             [
              0.5555555555555556,
              "#d8576b"
             ],
             [
              0.6666666666666666,
              "#ed7953"
             ],
             [
              0.7777777777777778,
              "#fb9f3a"
             ],
             [
              0.8888888888888888,
              "#fdca26"
             ],
             [
              1,
              "#f0f921"
             ]
            ],
            "type": "contour"
           }
          ],
          "contourcarpet": [
           {
            "colorbar": {
             "outlinewidth": 0,
             "ticks": ""
            },
            "type": "contourcarpet"
           }
          ],
          "heatmap": [
           {
            "colorbar": {
             "outlinewidth": 0,
             "ticks": ""
            },
            "colorscale": [
             [
              0,
              "#0d0887"
             ],
             [
              0.1111111111111111,
              "#46039f"
             ],
             [
              0.2222222222222222,
              "#7201a8"
             ],
             [
              0.3333333333333333,
              "#9c179e"
             ],
             [
              0.4444444444444444,
              "#bd3786"
             ],
             [
              0.5555555555555556,
              "#d8576b"
             ],
             [
              0.6666666666666666,
              "#ed7953"
             ],
             [
              0.7777777777777778,
              "#fb9f3a"
             ],
             [
              0.8888888888888888,
              "#fdca26"
             ],
             [
              1,
              "#f0f921"
             ]
            ],
            "type": "heatmap"
           }
          ],
          "heatmapgl": [
           {
            "colorbar": {
             "outlinewidth": 0,
             "ticks": ""
            },
            "colorscale": [
             [
              0,
              "#0d0887"
             ],
             [
              0.1111111111111111,
              "#46039f"
             ],
             [
              0.2222222222222222,
              "#7201a8"
             ],
             [
              0.3333333333333333,
              "#9c179e"
             ],
             [
              0.4444444444444444,
              "#bd3786"
             ],
             [
              0.5555555555555556,
              "#d8576b"
             ],
             [
              0.6666666666666666,
              "#ed7953"
             ],
             [
              0.7777777777777778,
              "#fb9f3a"
             ],
             [
              0.8888888888888888,
              "#fdca26"
             ],
             [
              1,
              "#f0f921"
             ]
            ],
            "type": "heatmapgl"
           }
          ],
          "histogram": [
           {
            "marker": {
             "pattern": {
              "fillmode": "overlay",
              "size": 10,
              "solidity": 0.2
             }
            },
            "type": "histogram"
           }
          ],
          "histogram2d": [
           {
            "colorbar": {
             "outlinewidth": 0,
             "ticks": ""
            },
            "colorscale": [
             [
              0,
              "#0d0887"
             ],
             [
              0.1111111111111111,
              "#46039f"
             ],
             [
              0.2222222222222222,
              "#7201a8"
             ],
             [
              0.3333333333333333,
              "#9c179e"
             ],
             [
              0.4444444444444444,
              "#bd3786"
             ],
             [
              0.5555555555555556,
              "#d8576b"
             ],
             [
              0.6666666666666666,
              "#ed7953"
             ],
             [
              0.7777777777777778,
              "#fb9f3a"
             ],
             [
              0.8888888888888888,
              "#fdca26"
             ],
             [
              1,
              "#f0f921"
             ]
            ],
            "type": "histogram2d"
           }
          ],
          "histogram2dcontour": [
           {
            "colorbar": {
             "outlinewidth": 0,
             "ticks": ""
            },
            "colorscale": [
             [
              0,
              "#0d0887"
             ],
             [
              0.1111111111111111,
              "#46039f"
             ],
             [
              0.2222222222222222,
              "#7201a8"
             ],
             [
              0.3333333333333333,
              "#9c179e"
             ],
             [
              0.4444444444444444,
              "#bd3786"
             ],
             [
              0.5555555555555556,
              "#d8576b"
             ],
             [
              0.6666666666666666,
              "#ed7953"
             ],
             [
              0.7777777777777778,
              "#fb9f3a"
             ],
             [
              0.8888888888888888,
              "#fdca26"
             ],
             [
              1,
              "#f0f921"
             ]
            ],
            "type": "histogram2dcontour"
           }
          ],
          "mesh3d": [
           {
            "colorbar": {
             "outlinewidth": 0,
             "ticks": ""
            },
            "type": "mesh3d"
           }
          ],
          "parcoords": [
           {
            "line": {
             "colorbar": {
              "outlinewidth": 0,
              "ticks": ""
             }
            },
            "type": "parcoords"
           }
          ],
          "pie": [
           {
            "automargin": true,
            "type": "pie"
           }
          ],
          "scatter": [
           {
            "fillpattern": {
             "fillmode": "overlay",
             "size": 10,
             "solidity": 0.2
            },
            "type": "scatter"
           }
          ],
          "scatter3d": [
           {
            "line": {
             "colorbar": {
              "outlinewidth": 0,
              "ticks": ""
             }
            },
            "marker": {
             "colorbar": {
              "outlinewidth": 0,
              "ticks": ""
             }
            },
            "type": "scatter3d"
           }
          ],
          "scattercarpet": [
           {
            "marker": {
             "colorbar": {
              "outlinewidth": 0,
              "ticks": ""
             }
            },
            "type": "scattercarpet"
           }
          ],
          "scattergeo": [
           {
            "marker": {
             "colorbar": {
              "outlinewidth": 0,
              "ticks": ""
             }
            },
            "type": "scattergeo"
           }
          ],
          "scattergl": [
           {
            "marker": {
             "colorbar": {
              "outlinewidth": 0,
              "ticks": ""
             }
            },
            "type": "scattergl"
           }
          ],
          "scattermapbox": [
           {
            "marker": {
             "colorbar": {
              "outlinewidth": 0,
              "ticks": ""
             }
            },
            "type": "scattermapbox"
           }
          ],
          "scatterpolar": [
           {
            "marker": {
             "colorbar": {
              "outlinewidth": 0,
              "ticks": ""
             }
            },
            "type": "scatterpolar"
           }
          ],
          "scatterpolargl": [
           {
            "marker": {
             "colorbar": {
              "outlinewidth": 0,
              "ticks": ""
             }
            },
            "type": "scatterpolargl"
           }
          ],
          "scatterternary": [
           {
            "marker": {
             "colorbar": {
              "outlinewidth": 0,
              "ticks": ""
             }
            },
            "type": "scatterternary"
           }
          ],
          "surface": [
           {
            "colorbar": {
             "outlinewidth": 0,
             "ticks": ""
            },
            "colorscale": [
             [
              0,
              "#0d0887"
             ],
             [
              0.1111111111111111,
              "#46039f"
             ],
             [
              0.2222222222222222,
              "#7201a8"
             ],
             [
              0.3333333333333333,
              "#9c179e"
             ],
             [
              0.4444444444444444,
              "#bd3786"
             ],
             [
              0.5555555555555556,
              "#d8576b"
             ],
             [
              0.6666666666666666,
              "#ed7953"
             ],
             [
              0.7777777777777778,
              "#fb9f3a"
             ],
             [
              0.8888888888888888,
              "#fdca26"
             ],
             [
              1,
              "#f0f921"
             ]
            ],
            "type": "surface"
           }
          ],
          "table": [
           {
            "cells": {
             "fill": {
              "color": "#EBF0F8"
             },
             "line": {
              "color": "white"
             }
            },
            "header": {
             "fill": {
              "color": "#C8D4E3"
             },
             "line": {
              "color": "white"
             }
            },
            "type": "table"
           }
          ]
         },
         "layout": {
          "annotationdefaults": {
           "arrowcolor": "#2a3f5f",
           "arrowhead": 0,
           "arrowwidth": 1
          },
          "autotypenumbers": "strict",
          "coloraxis": {
           "colorbar": {
            "outlinewidth": 0,
            "ticks": ""
           }
          },
          "colorscale": {
           "diverging": [
            [
             0,
             "#8e0152"
            ],
            [
             0.1,
             "#c51b7d"
            ],
            [
             0.2,
             "#de77ae"
            ],
            [
             0.3,
             "#f1b6da"
            ],
            [
             0.4,
             "#fde0ef"
            ],
            [
             0.5,
             "#f7f7f7"
            ],
            [
             0.6,
             "#e6f5d0"
            ],
            [
             0.7,
             "#b8e186"
            ],
            [
             0.8,
             "#7fbc41"
            ],
            [
             0.9,
             "#4d9221"
            ],
            [
             1,
             "#276419"
            ]
           ],
           "sequential": [
            [
             0,
             "#0d0887"
            ],
            [
             0.1111111111111111,
             "#46039f"
            ],
            [
             0.2222222222222222,
             "#7201a8"
            ],
            [
             0.3333333333333333,
             "#9c179e"
            ],
            [
             0.4444444444444444,
             "#bd3786"
            ],
            [
             0.5555555555555556,
             "#d8576b"
            ],
            [
             0.6666666666666666,
             "#ed7953"
            ],
            [
             0.7777777777777778,
             "#fb9f3a"
            ],
            [
             0.8888888888888888,
             "#fdca26"
            ],
            [
             1,
             "#f0f921"
            ]
           ],
           "sequentialminus": [
            [
             0,
             "#0d0887"
            ],
            [
             0.1111111111111111,
             "#46039f"
            ],
            [
             0.2222222222222222,
             "#7201a8"
            ],
            [
             0.3333333333333333,
             "#9c179e"
            ],
            [
             0.4444444444444444,
             "#bd3786"
            ],
            [
             0.5555555555555556,
             "#d8576b"
            ],
            [
             0.6666666666666666,
             "#ed7953"
            ],
            [
             0.7777777777777778,
             "#fb9f3a"
            ],
            [
             0.8888888888888888,
             "#fdca26"
            ],
            [
             1,
             "#f0f921"
            ]
           ]
          },
          "colorway": [
           "#636efa",
           "#EF553B",
           "#00cc96",
           "#ab63fa",
           "#FFA15A",
           "#19d3f3",
           "#FF6692",
           "#B6E880",
           "#FF97FF",
           "#FECB52"
          ],
          "font": {
           "color": "#2a3f5f"
          },
          "geo": {
           "bgcolor": "white",
           "lakecolor": "white",
           "landcolor": "#E5ECF6",
           "showlakes": true,
           "showland": true,
           "subunitcolor": "white"
          },
          "hoverlabel": {
           "align": "left"
          },
          "hovermode": "closest",
          "mapbox": {
           "style": "light"
          },
          "paper_bgcolor": "white",
          "plot_bgcolor": "#E5ECF6",
          "polar": {
           "angularaxis": {
            "gridcolor": "white",
            "linecolor": "white",
            "ticks": ""
           },
           "bgcolor": "#E5ECF6",
           "radialaxis": {
            "gridcolor": "white",
            "linecolor": "white",
            "ticks": ""
           }
          },
          "scene": {
           "xaxis": {
            "backgroundcolor": "#E5ECF6",
            "gridcolor": "white",
            "gridwidth": 2,
            "linecolor": "white",
            "showbackground": true,
            "ticks": "",
            "zerolinecolor": "white"
           },
           "yaxis": {
            "backgroundcolor": "#E5ECF6",
            "gridcolor": "white",
            "gridwidth": 2,
            "linecolor": "white",
            "showbackground": true,
            "ticks": "",
            "zerolinecolor": "white"
           },
           "zaxis": {
            "backgroundcolor": "#E5ECF6",
            "gridcolor": "white",
            "gridwidth": 2,
            "linecolor": "white",
            "showbackground": true,
            "ticks": "",
            "zerolinecolor": "white"
           }
          },
          "shapedefaults": {
           "line": {
            "color": "#2a3f5f"
           }
          },
          "ternary": {
           "aaxis": {
            "gridcolor": "white",
            "linecolor": "white",
            "ticks": ""
           },
           "baxis": {
            "gridcolor": "white",
            "linecolor": "white",
            "ticks": ""
           },
           "bgcolor": "#E5ECF6",
           "caxis": {
            "gridcolor": "white",
            "linecolor": "white",
            "ticks": ""
           }
          },
          "title": {
           "x": 0.05
          },
          "xaxis": {
           "automargin": true,
           "gridcolor": "white",
           "linecolor": "white",
           "ticks": "",
           "title": {
            "standoff": 15
           },
           "zerolinecolor": "white",
           "zerolinewidth": 2
          },
          "yaxis": {
           "automargin": true,
           "gridcolor": "white",
           "linecolor": "white",
           "ticks": "",
           "title": {
            "standoff": 15
           },
           "zerolinecolor": "white",
           "zerolinewidth": 2
          }
         }
        },
        "xaxis": {
         "anchor": "y",
         "categoryorder": "array",
         "domain": [
          0,
          0.49
         ],
         "showticklabels": true,
         "title": {
          "text": "problem"
         }
        },
        "xaxis2": {
         "anchor": "y2",
         "categoryorder": "array",
         "domain": [
          0.51,
          1
         ],
         "showticklabels": true,
         "title": {
          "text": "problem"
         }
        },
        "yaxis": {
         "anchor": "x",
         "domain": [
          0,
          1
         ],
         "range": [
          -100,
          100
         ],
         "showticklabels": true,
         "title": {
          "text": "improvement (%)"
         }
        },
        "yaxis2": {
         "anchor": "x2",
         "domain": [
          0,
          1
         ],
         "range": [
          -100,
          100
         ],
         "showticklabels": true
        }
       }
      }
     },
     "metadata": {},
     "output_type": "display_data"
    }
   ],
   "source": [
    "plot_difference(absolute=False, choices=choices, layers=layers, dimensions=dimensions)"
   ]
  },
  {
   "cell_type": "code",
   "execution_count": null,
   "metadata": {},
   "outputs": [],
   "source": []
  }
 ],
 "metadata": {
  "kernelspec": {
   "display_name": "lpp",
   "language": "python",
   "name": "python3"
  },
  "language_info": {
   "codemirror_mode": {
    "name": "ipython",
    "version": 3
   },
   "file_extension": ".py",
   "mimetype": "text/x-python",
   "name": "python",
   "nbconvert_exporter": "python",
   "pygments_lexer": "ipython3",
   "version": "3.10.4"
  }
 },
 "nbformat": 4,
 "nbformat_minor": 2
}
