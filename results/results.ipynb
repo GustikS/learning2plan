{
 "cells": [
  {
   "cell_type": "code",
   "execution_count": 74,
   "metadata": {},
   "outputs": [],
   "source": [
    "import plotly.express as px\n",
    "import pandas as pd\n",
    "import matplotlib.pyplot as plt\n",
    "import os"
   ]
  },
  {
   "cell_type": "markdown",
   "metadata": {},
   "source": [
    "Some results (e.g. miconic) are either timing out (due to apptainer and cluster cpus) or running out of memory (possibly due to suboptimal handcrafted policies). Again, we should not worry about this too much. I can just increase the resources."
   ]
  },
  {
   "cell_type": "code",
   "execution_count": 75,
   "metadata": {},
   "outputs": [],
   "source": [
    "DOMAINS = [\n",
    "    \"blocksworld\",\n",
    "    \"ferry\",\n",
    "    \"miconic\",\n",
    "    # \"rovers\",\n",
    "    \"satellite\",\n",
    "    \"transport\",\n",
    "]"
   ]
  },
  {
   "cell_type": "code",
   "execution_count": 91,
   "metadata": {},
   "outputs": [],
   "source": [
    "# read test logs and write to csv\n",
    "# f\"{domain}_{layer}_{dim}_{pro_blem}_{repeat}\"\n",
    "columns = [\"domain\", \"layer\", \"dim\", \"problem\", \"repeat\", \"plan_length\", \"plan_found\", \"time\"]\n",
    "data = {k: [] for k in columns}\n",
    "for f in sorted(os.listdir(\"test_logs\")):\n",
    "    if not f.endswith(\".log\"):\n",
    "        continue\n",
    "    toks = f[:-4].split(\"_\")\n",
    "    domain = toks[0]\n",
    "    layer = int(toks[1])\n",
    "    dim = int(toks[2])\n",
    "    problem = toks[3] + \"_\" + toks[4]\n",
    "    repeat = int(toks[5])\n",
    "    with open(f\"test_logs/{f}\") as f:\n",
    "        content = f.read()\n",
    "        solved = \"Plan generated!\" in content\n",
    "        if solved:\n",
    "            plan_length = int(content.split(\"plan_length=\")[1].split(\"\\n\")[0])\n",
    "            time = float(content.split(\"total_time=\")[1].split(\"\\n\")[0])\n",
    "        else:\n",
    "            plan_length = None\n",
    "            time = None\n",
    "    data[\"domain\"].append(domain)\n",
    "    data[\"layer\"].append(layer)\n",
    "    data[\"dim\"].append(dim)\n",
    "    data[\"problem\"].append(problem)\n",
    "    data[\"repeat\"].append(repeat)\n",
    "    data[\"plan_length\"].append(plan_length)\n",
    "    data[\"plan_found\"].append(solved)\n",
    "    data[\"time\"].append(time)\n",
    "\n",
    "df = pd.DataFrame(data)\n",
    "df.to_csv(\"lrnn_results.csv\")"
   ]
  },
  {
   "cell_type": "code",
   "execution_count": 109,
   "metadata": {},
   "outputs": [],
   "source": [
    "def group_repeats(df, others_to_keep=None, lrnn=False):\n",
    "    if others_to_keep is None:\n",
    "        others_to_keep = []\n",
    "    aggr = {\n",
    "        \"time\": [\"mean\", \"std\"],\n",
    "        \"plan_length\": [\"mean\", \"std\"],\n",
    "        \"plan_found\": \"mean\",\n",
    "    }\n",
    "    if lrnn:\n",
    "        aggr[\"layer\"] = \"first\"\n",
    "        aggr[\"dim\"] = \"first\"\n",
    "    group_by = [\"domain\", \"problem\"]\n",
    "    if lrnn:\n",
    "        group_by += [\"layer\", \"dim\"]\n",
    "    df = df.groupby(group_by).agg(aggr)\n",
    "    df.columns = df.columns.map(\"_\".join)\n",
    "    df[\"all_solved\"] = df.plan_found_mean == 1\n",
    "    df.reset_index(inplace=True)\n",
    "    return df"
   ]
  },
  {
   "cell_type": "code",
   "execution_count": 120,
   "metadata": {},
   "outputs": [
    {
     "data": {
      "text/html": [
       "<div>\n",
       "<style scoped>\n",
       "    .dataframe tbody tr th:only-of-type {\n",
       "        vertical-align: middle;\n",
       "    }\n",
       "\n",
       "    .dataframe tbody tr th {\n",
       "        vertical-align: top;\n",
       "    }\n",
       "\n",
       "    .dataframe thead th {\n",
       "        text-align: right;\n",
       "    }\n",
       "</style>\n",
       "<table border=\"1\" class=\"dataframe\">\n",
       "  <thead>\n",
       "    <tr style=\"text-align: right;\">\n",
       "      <th></th>\n",
       "      <th>domain</th>\n",
       "      <th>problem</th>\n",
       "      <th>layer</th>\n",
       "      <th>dim</th>\n",
       "      <th>time_mean</th>\n",
       "      <th>time_std</th>\n",
       "      <th>plan_length_mean</th>\n",
       "      <th>plan_length_std</th>\n",
       "      <th>plan_found_mean</th>\n",
       "      <th>layer_first</th>\n",
       "      <th>dim_first</th>\n",
       "      <th>all_solved</th>\n",
       "      <th>solver</th>\n",
       "    </tr>\n",
       "  </thead>\n",
       "  <tbody>\n",
       "    <tr>\n",
       "      <th>0</th>\n",
       "      <td>blocksworld</td>\n",
       "      <td>0_01</td>\n",
       "      <td>1</td>\n",
       "      <td>1</td>\n",
       "      <td>0.392771</td>\n",
       "      <td>0.046180</td>\n",
       "      <td>10.0</td>\n",
       "      <td>0.0</td>\n",
       "      <td>1.0</td>\n",
       "      <td>1</td>\n",
       "      <td>1</td>\n",
       "      <td>True</td>\n",
       "      <td>lrnn_1_1</td>\n",
       "    </tr>\n",
       "    <tr>\n",
       "      <th>1</th>\n",
       "      <td>blocksworld</td>\n",
       "      <td>0_02</td>\n",
       "      <td>1</td>\n",
       "      <td>1</td>\n",
       "      <td>0.329650</td>\n",
       "      <td>0.074014</td>\n",
       "      <td>8.0</td>\n",
       "      <td>0.0</td>\n",
       "      <td>1.0</td>\n",
       "      <td>1</td>\n",
       "      <td>1</td>\n",
       "      <td>True</td>\n",
       "      <td>lrnn_1_1</td>\n",
       "    </tr>\n",
       "    <tr>\n",
       "      <th>2</th>\n",
       "      <td>blocksworld</td>\n",
       "      <td>0_03</td>\n",
       "      <td>1</td>\n",
       "      <td>1</td>\n",
       "      <td>0.547026</td>\n",
       "      <td>0.003283</td>\n",
       "      <td>20.0</td>\n",
       "      <td>0.0</td>\n",
       "      <td>1.0</td>\n",
       "      <td>1</td>\n",
       "      <td>1</td>\n",
       "      <td>True</td>\n",
       "      <td>lrnn_1_1</td>\n",
       "    </tr>\n",
       "    <tr>\n",
       "      <th>3</th>\n",
       "      <td>blocksworld</td>\n",
       "      <td>0_04</td>\n",
       "      <td>1</td>\n",
       "      <td>1</td>\n",
       "      <td>0.532719</td>\n",
       "      <td>0.015227</td>\n",
       "      <td>24.0</td>\n",
       "      <td>0.0</td>\n",
       "      <td>1.0</td>\n",
       "      <td>1</td>\n",
       "      <td>1</td>\n",
       "      <td>True</td>\n",
       "      <td>lrnn_1_1</td>\n",
       "    </tr>\n",
       "    <tr>\n",
       "      <th>4</th>\n",
       "      <td>blocksworld</td>\n",
       "      <td>0_05</td>\n",
       "      <td>1</td>\n",
       "      <td>1</td>\n",
       "      <td>0.620619</td>\n",
       "      <td>0.003542</td>\n",
       "      <td>24.0</td>\n",
       "      <td>0.0</td>\n",
       "      <td>1.0</td>\n",
       "      <td>1</td>\n",
       "      <td>1</td>\n",
       "      <td>True</td>\n",
       "      <td>lrnn_1_1</td>\n",
       "    </tr>\n",
       "    <tr>\n",
       "      <th>...</th>\n",
       "      <td>...</td>\n",
       "      <td>...</td>\n",
       "      <td>...</td>\n",
       "      <td>...</td>\n",
       "      <td>...</td>\n",
       "      <td>...</td>\n",
       "      <td>...</td>\n",
       "      <td>...</td>\n",
       "      <td>...</td>\n",
       "      <td>...</td>\n",
       "      <td>...</td>\n",
       "      <td>...</td>\n",
       "      <td>...</td>\n",
       "    </tr>\n",
       "    <tr>\n",
       "      <th>259</th>\n",
       "      <td>transport</td>\n",
       "      <td>2_22</td>\n",
       "      <td>1</td>\n",
       "      <td>1</td>\n",
       "      <td>NaN</td>\n",
       "      <td>NaN</td>\n",
       "      <td>NaN</td>\n",
       "      <td>NaN</td>\n",
       "      <td>0.0</td>\n",
       "      <td>1</td>\n",
       "      <td>1</td>\n",
       "      <td>False</td>\n",
       "      <td>lrnn_1_1</td>\n",
       "    </tr>\n",
       "    <tr>\n",
       "      <th>260</th>\n",
       "      <td>transport</td>\n",
       "      <td>2_23</td>\n",
       "      <td>1</td>\n",
       "      <td>1</td>\n",
       "      <td>NaN</td>\n",
       "      <td>NaN</td>\n",
       "      <td>NaN</td>\n",
       "      <td>NaN</td>\n",
       "      <td>0.0</td>\n",
       "      <td>1</td>\n",
       "      <td>1</td>\n",
       "      <td>False</td>\n",
       "      <td>lrnn_1_1</td>\n",
       "    </tr>\n",
       "    <tr>\n",
       "      <th>261</th>\n",
       "      <td>transport</td>\n",
       "      <td>2_24</td>\n",
       "      <td>1</td>\n",
       "      <td>1</td>\n",
       "      <td>NaN</td>\n",
       "      <td>NaN</td>\n",
       "      <td>NaN</td>\n",
       "      <td>NaN</td>\n",
       "      <td>0.0</td>\n",
       "      <td>1</td>\n",
       "      <td>1</td>\n",
       "      <td>False</td>\n",
       "      <td>lrnn_1_1</td>\n",
       "    </tr>\n",
       "    <tr>\n",
       "      <th>262</th>\n",
       "      <td>transport</td>\n",
       "      <td>2_26</td>\n",
       "      <td>1</td>\n",
       "      <td>1</td>\n",
       "      <td>NaN</td>\n",
       "      <td>NaN</td>\n",
       "      <td>NaN</td>\n",
       "      <td>NaN</td>\n",
       "      <td>0.0</td>\n",
       "      <td>1</td>\n",
       "      <td>1</td>\n",
       "      <td>False</td>\n",
       "      <td>lrnn_1_1</td>\n",
       "    </tr>\n",
       "    <tr>\n",
       "      <th>263</th>\n",
       "      <td>transport</td>\n",
       "      <td>2_28</td>\n",
       "      <td>1</td>\n",
       "      <td>1</td>\n",
       "      <td>NaN</td>\n",
       "      <td>NaN</td>\n",
       "      <td>NaN</td>\n",
       "      <td>NaN</td>\n",
       "      <td>0.0</td>\n",
       "      <td>1</td>\n",
       "      <td>1</td>\n",
       "      <td>False</td>\n",
       "      <td>lrnn_1_1</td>\n",
       "    </tr>\n",
       "  </tbody>\n",
       "</table>\n",
       "<p>264 rows × 13 columns</p>\n",
       "</div>"
      ],
      "text/plain": [
       "          domain problem  layer  dim  time_mean  time_std  plan_length_mean  \\\n",
       "0    blocksworld    0_01      1    1   0.392771  0.046180              10.0   \n",
       "1    blocksworld    0_02      1    1   0.329650  0.074014               8.0   \n",
       "2    blocksworld    0_03      1    1   0.547026  0.003283              20.0   \n",
       "3    blocksworld    0_04      1    1   0.532719  0.015227              24.0   \n",
       "4    blocksworld    0_05      1    1   0.620619  0.003542              24.0   \n",
       "..           ...     ...    ...  ...        ...       ...               ...   \n",
       "259    transport    2_22      1    1        NaN       NaN               NaN   \n",
       "260    transport    2_23      1    1        NaN       NaN               NaN   \n",
       "261    transport    2_24      1    1        NaN       NaN               NaN   \n",
       "262    transport    2_26      1    1        NaN       NaN               NaN   \n",
       "263    transport    2_28      1    1        NaN       NaN               NaN   \n",
       "\n",
       "     plan_length_std  plan_found_mean  layer_first  dim_first  all_solved  \\\n",
       "0                0.0              1.0            1          1        True   \n",
       "1                0.0              1.0            1          1        True   \n",
       "2                0.0              1.0            1          1        True   \n",
       "3                0.0              1.0            1          1        True   \n",
       "4                0.0              1.0            1          1        True   \n",
       "..               ...              ...          ...        ...         ...   \n",
       "259              NaN              0.0            1          1       False   \n",
       "260              NaN              0.0            1          1       False   \n",
       "261              NaN              0.0            1          1       False   \n",
       "262              NaN              0.0            1          1       False   \n",
       "263              NaN              0.0            1          1       False   \n",
       "\n",
       "       solver  \n",
       "0    lrnn_1_1  \n",
       "1    lrnn_1_1  \n",
       "2    lrnn_1_1  \n",
       "3    lrnn_1_1  \n",
       "4    lrnn_1_1  \n",
       "..        ...  \n",
       "259  lrnn_1_1  \n",
       "260  lrnn_1_1  \n",
       "261  lrnn_1_1  \n",
       "262  lrnn_1_1  \n",
       "263  lrnn_1_1  \n",
       "\n",
       "[264 rows x 13 columns]"
      ]
     },
     "metadata": {},
     "output_type": "display_data"
    }
   ],
   "source": [
    "groups = [\"baseline\", \"scorpion\", \"lrnn\"]\n",
    "datas = {}\n",
    "for group in groups:\n",
    "    data = pd.read_csv(f\"{group}_results.csv\")\n",
    "    is_lrnn = group == \"lrnn\"\n",
    "    data = group_repeats(data, lrnn=is_lrnn)\n",
    "    data[\"solver\"] = group\n",
    "    if is_lrnn:\n",
    "        data[\"solver\"] = \"lrnn\" + \"_\" + data[\"layer_first\"].astype(str) + \"_\" + data[\"dim_first\"].astype(str)\n",
    "    datas[group] = data\n",
    "display(datas[\"lrnn\"])"
   ]
  },
  {
   "cell_type": "code",
   "execution_count": 122,
   "metadata": {},
   "outputs": [],
   "source": [
    "failure_logs = {domain: [] for domain in DOMAINS}\n",
    "all_data = pd.concat([data for data in datas.values()])\n",
    "easy_problems = set(f\"0_{i:02d}\" for i in range(1, 31))\n",
    "def plot_domains(metric, log_y=False, easy_only=False):\n",
    "    for domain in DOMAINS:\n",
    "        print(domain)\n",
    "        data = all_data[all_data['domain'] == domain]\n",
    "        if easy_only:\n",
    "            data = data[data['problem'].isin(easy_problems)]\n",
    "        # failures = data[data.plan_found == False]\n",
    "        # max_bound_failures = data[data.max_bound == False]\n",
    "        # failures_not_due_to_max_bound = data[(data.plan_found == False) & (data.max_bound == False)]\n",
    "        # n_failures = len(failures)\n",
    "        # n_max_bound_failures = len(max_bound_failures)\n",
    "        # n_failures_not_due_to_max_bound = len(failures_not_due_to_max_bound)\n",
    "        # print(f\"{n_failures=}\")\n",
    "        # for row in failures.itertuples():\n",
    "        #     # print(row)\n",
    "        #     failure_logs[domain].append(f\"/pfcalcul/work/dchen/code/cvut-colab/slurm/__experiments/baseline_logs/{row.domain}_{row.problem}_r{row.repeat}.log\")\n",
    "        metric_mean = f\"{metric}_mean\"\n",
    "        metric_std = f\"{metric}_std\"\n",
    "        fig = px.scatter(data, x=\"problem\", y=metric_mean, error_y=metric_std, color=\"solver\", log_y=log_y)\n",
    "        fig.show()"
   ]
  },
  {
   "cell_type": "code",
   "execution_count": 123,
   "metadata": {},
   "outputs": [
    {
     "name": "stdout",
     "output_type": "stream",
     "text": [
      "blocksworld\n"
     ]
    },
    {
     "data": {
      "application/vnd.plotly.v1+json": {
       "config": {
        "plotlyServerURL": "https://plot.ly"
       },
       "data": [
        {
         "error_y": {
          "array": [
           0,
           0,
           0,
           0,
           0,
           1.837873166945363,
           0,
           0,
           0,
           0,
           0,
           1.8856180831641267,
           1.6329931618554552,
           1.897366596101028,
           2.8284271247461894,
           0.9660917830792957,
           0,
           3.8873012632302006,
           1.05409255338946,
           0,
           2.2705848487901865,
           1.3984117975601993,
           0.9660917830792971,
           2.5385910352879706,
           1.751190071541827,
           1.9888578520235083,
           3.7947331922020555,
           1.8973665961010266,
           2.149935399546278,
           1.7511900715418276,
           2.5733678754158387,
           2.065591117977288,
           2.1186998109427577,
           2.538591035287964,
           4.15799096787005,
           6.051629716218783,
           4.049691346263317,
           4.565571644870376,
           4.2998707990925595,
           8.846845012017939,
           5.962847939999438,
           8.066391179868896,
           7.2449215930118145,
           5.337498373666157,
           6.679986693266858,
           8.508818954473055,
           9.371351141762972,
           11.927559124425532,
           9.430447143870392,
           8.944271909999156,
           7.19258877827263,
           9.800226754746264,
           8.390470785361208,
           10.741404832598827,
           9.706813185707357,
           11.616080807799733,
           7.673909622147567,
           11.905180945005979,
           11.99259030494339,
           6.535373831014643,
           14.643921757659195,
           15.647506013561525,
           14.811407015465411,
           11.625642156696355,
           17.71879102973892,
           8.275801404630798,
           16.308143841515374,
           21.098709807842653,
           10.726913193769528,
           19.207637369893604,
           17.334615337205733,
           22.920151250228116,
           23.384705352953336,
           23.31999618829778,
           18.11199725166839,
           16.787561532939257,
           30.335164779875864,
           24.66126066886641,
           31.115555238140583,
           26.753192955857326,
           29.993332592427954,
           22.366641828103457,
           21.869308783467915,
           23.36664289109584,
           32.34810659064918,
           36.63877727217436,
           28.982753492378862,
           40.71363407999831,
           37.64158456931494,
           29.105936775090303
          ]
         },
         "hovertemplate": "solver=baseline<br>problem=%{x}<br>plan_length_mean=%{y}<extra></extra>",
         "legendgroup": "baseline",
         "marker": {
          "color": "#636efa",
          "symbol": "circle"
         },
         "mode": "markers",
         "name": "baseline",
         "orientation": "v",
         "showlegend": true,
         "type": "scatter",
         "x": [
          "0_01",
          "0_02",
          "0_03",
          "0_04",
          "0_05",
          "0_06",
          "0_07",
          "0_08",
          "0_09",
          "0_10",
          "0_11",
          "0_12",
          "0_13",
          "0_14",
          "0_15",
          "0_16",
          "0_17",
          "0_18",
          "0_19",
          "0_20",
          "0_21",
          "0_22",
          "0_23",
          "0_24",
          "0_25",
          "0_26",
          "0_27",
          "0_28",
          "0_29",
          "0_30",
          "1_01",
          "1_02",
          "1_03",
          "1_04",
          "1_05",
          "1_06",
          "1_07",
          "1_08",
          "1_09",
          "1_10",
          "1_11",
          "1_12",
          "1_13",
          "1_14",
          "1_15",
          "1_16",
          "1_17",
          "1_18",
          "1_19",
          "1_20",
          "1_21",
          "1_22",
          "1_23",
          "1_24",
          "1_25",
          "1_26",
          "1_27",
          "1_28",
          "1_29",
          "1_30",
          "2_01",
          "2_02",
          "2_03",
          "2_04",
          "2_05",
          "2_06",
          "2_07",
          "2_08",
          "2_09",
          "2_10",
          "2_11",
          "2_12",
          "2_13",
          "2_14",
          "2_15",
          "2_16",
          "2_17",
          "2_18",
          "2_19",
          "2_20",
          "2_21",
          "2_22",
          "2_23",
          "2_24",
          "2_25",
          "2_26",
          "2_27",
          "2_28",
          "2_29",
          "2_30"
         ],
         "xaxis": "x",
         "y": [
          10,
          8,
          20,
          24,
          24,
          28.4,
          32,
          32,
          36,
          38,
          48,
          44,
          46,
          47.4,
          52,
          59.4,
          60,
          60,
          61,
          56,
          61.6,
          76.8,
          65.4,
          83,
          88.2,
          81.8,
          74.8,
          88.6,
          84.8,
          100.2,
          117.8,
          123.6,
          134.6,
          163,
          169.8,
          166.8,
          195.8,
          203.8,
          211.6,
          222.6,
          240,
          268.8,
          286.6,
          276.6,
          290.8,
          304.2,
          316.4,
          342.6,
          348.6,
          364,
          370.8,
          389.4,
          417.2,
          401.6,
          430,
          449.6,
          461,
          455.8,
          481.6,
          524.6,
          529,
          574.2,
          609.6,
          669.4,
          709.2,
          743.4,
          798.8,
          803.6,
          854.2,
          908.6,
          942.6,
          968,
          983.2,
          1036.4,
          1086.6,
          1141.4,
          1129,
          1228.8,
          1239.2,
          1297.2,
          1289.4,
          1399.6,
          1423.4,
          1455,
          1435.2,
          1527.2,
          1576,
          1575.6,
          1606,
          1721.4
         ],
         "yaxis": "y"
        },
        {
         "error_y": {
          "array": [
           null,
           null,
           null,
           null,
           null,
           null,
           null,
           null,
           null,
           null,
           null,
           null,
           null,
           null,
           null,
           null,
           null,
           null,
           null,
           null,
           null,
           null,
           null,
           null,
           null,
           null,
           null,
           null,
           null,
           null,
           null,
           null,
           null,
           null,
           null,
           null,
           null,
           null,
           null,
           null,
           null,
           null,
           null,
           null,
           null,
           null,
           null,
           null,
           null,
           null,
           null,
           null,
           null,
           null,
           null,
           null,
           null,
           null,
           null,
           null,
           null,
           null,
           null,
           null,
           null,
           null,
           null,
           null,
           null,
           null,
           null,
           null,
           null,
           null,
           null,
           null,
           null,
           null,
           null,
           null,
           null,
           null,
           null,
           null,
           null,
           null,
           null,
           null,
           null,
           null
          ]
         },
         "hovertemplate": "solver=scorpion<br>problem=%{x}<br>plan_length_mean=%{y}<extra></extra>",
         "legendgroup": "scorpion",
         "marker": {
          "color": "#EF553B",
          "symbol": "circle"
         },
         "mode": "markers",
         "name": "scorpion",
         "orientation": "v",
         "showlegend": true,
         "type": "scatter",
         "x": [
          "0_01",
          "0_02",
          "0_03",
          "0_04",
          "0_05",
          "0_06",
          "0_07",
          "0_08",
          "0_09",
          "0_10",
          "0_11",
          "0_12",
          "0_13",
          "0_14",
          "0_15",
          "0_16",
          "0_17",
          "0_18",
          "0_19",
          "0_20",
          "0_21",
          "0_22",
          "0_23",
          "0_24",
          "0_25",
          "0_26",
          "0_27",
          "0_28",
          "0_29",
          "0_30",
          "1_01",
          "1_02",
          "1_03",
          "1_04",
          "1_05",
          "1_06",
          "1_07",
          "1_08",
          "1_09",
          "1_10",
          "1_11",
          "1_12",
          "1_13",
          "1_14",
          "1_15",
          "1_16",
          "1_17",
          "1_18",
          "1_19",
          "1_20",
          "1_21",
          "1_22",
          "1_23",
          "1_24",
          "1_25",
          "1_26",
          "1_27",
          "1_28",
          "1_29",
          "1_30",
          "2_01",
          "2_02",
          "2_03",
          "2_04",
          "2_05",
          "2_06",
          "2_07",
          "2_08",
          "2_09",
          "2_10",
          "2_11",
          "2_12",
          "2_13",
          "2_14",
          "2_15",
          "2_16",
          "2_17",
          "2_18",
          "2_19",
          "2_20",
          "2_21",
          "2_22",
          "2_23",
          "2_24",
          "2_25",
          "2_26",
          "2_27",
          "2_28",
          "2_29",
          "2_30"
         ],
         "xaxis": "x",
         "y": [
          10,
          8,
          20,
          24,
          24,
          26,
          32,
          32,
          36,
          38,
          null,
          40,
          42,
          44,
          46,
          null,
          null,
          50,
          null,
          null,
          null,
          null,
          null,
          null,
          null,
          null,
          null,
          null,
          null,
          null,
          null,
          null,
          null,
          null,
          null,
          null,
          null,
          null,
          null,
          null,
          null,
          null,
          null,
          null,
          null,
          null,
          null,
          null,
          null,
          null,
          null,
          null,
          null,
          null,
          null,
          null,
          null,
          null,
          null,
          null,
          null,
          null,
          null,
          null,
          null,
          null,
          null,
          null,
          null,
          null,
          null,
          null,
          null,
          null,
          null,
          null,
          null,
          null,
          null,
          null,
          null,
          null,
          null,
          null,
          null,
          null,
          null,
          null,
          null,
          null
         ],
         "yaxis": "y"
        },
        {
         "error_y": {
          "array": [
           0,
           0,
           0,
           0,
           0,
           1.4142135623730951,
           0,
           0,
           0,
           0,
           null,
           null,
           null,
           null,
           null,
           null,
           null,
           null,
           null,
           0,
           0,
           0,
           0,
           1.4142135623730951,
           null,
           null,
           null,
           null,
           null,
           null,
           1.4142135623730951,
           0,
           4.242640687119285,
           1.4142135623730951,
           4.242640687119285,
           1.4142135623730951,
           4.242640687119285,
           7.0710678118654755,
           0,
           1.4142135623730951,
           null,
           null,
           null,
           null,
           null,
           null,
           null,
           null,
           null,
           2.8284271247461903,
           1.4142135623730951,
           1.4142135623730951,
           1.4142135623730951,
           0,
           null,
           null,
           null,
           null,
           null,
           null,
           7.0710678118654755,
           5.656854249492381,
           7.0710678118654755,
           0,
           1.4142135623730951,
           5.656854249492381,
           1.4142135623730951,
           5.656854249492381,
           4.242640687119285,
           9.899494936611665,
           null,
           null,
           null,
           null,
           null,
           null,
           null,
           null,
           0,
           7.0710678118654755,
           2.8284271247461903,
           null,
           null,
           null,
           null,
           null
          ]
         },
         "hovertemplate": "solver=lrnn_1_1<br>problem=%{x}<br>plan_length_mean=%{y}<extra></extra>",
         "legendgroup": "lrnn_1_1",
         "marker": {
          "color": "#00cc96",
          "symbol": "circle"
         },
         "mode": "markers",
         "name": "lrnn_1_1",
         "orientation": "v",
         "showlegend": true,
         "type": "scatter",
         "x": [
          "0_01",
          "0_02",
          "0_03",
          "0_04",
          "0_05",
          "0_06",
          "0_07",
          "0_08",
          "0_09",
          "0_10",
          "0_11",
          "0_12",
          "0_13",
          "0_14",
          "0_15",
          "0_16",
          "0_17",
          "0_18",
          "0_19",
          "0_20",
          "0_21",
          "0_22",
          "0_23",
          "0_24",
          "0_25",
          "0_26",
          "0_27",
          "0_28",
          "0_29",
          "0_30",
          "1_01",
          "1_02",
          "1_03",
          "1_04",
          "1_05",
          "1_06",
          "1_07",
          "1_08",
          "1_09",
          "1_10",
          "1_11",
          "1_12",
          "1_13",
          "1_14",
          "1_15",
          "1_16",
          "1_17",
          "1_18",
          "1_19",
          "1_20",
          "1_21",
          "1_22",
          "1_23",
          "1_24",
          "1_25",
          "1_26",
          "1_27",
          "1_28",
          "1_29",
          "1_30",
          "2_01",
          "2_02",
          "2_03",
          "2_04",
          "2_05",
          "2_06",
          "2_07",
          "2_08",
          "2_09",
          "2_10",
          "2_11",
          "2_12",
          "2_13",
          "2_14",
          "2_15",
          "2_16",
          "2_17",
          "2_18",
          "2_19",
          "2_20",
          "2_21",
          "2_22",
          "2_23",
          "2_24",
          "2_25",
          "2_26"
         ],
         "xaxis": "x",
         "y": [
          10,
          8,
          20,
          24,
          24,
          29,
          32,
          32,
          36,
          38,
          48,
          42,
          48,
          48,
          54,
          60,
          60,
          56,
          60,
          56,
          62,
          78,
          66,
          83,
          88,
          84,
          72,
          90,
          82,
          96,
          117,
          122,
          131,
          163,
          165,
          165,
          189,
          197,
          214,
          223,
          232,
          264,
          284,
          278,
          290,
          296,
          302,
          340,
          342,
          354,
          367,
          381,
          419,
          394,
          418,
          438,
          450,
          430,
          456,
          516,
          527,
          560,
          607,
          662,
          703,
          730,
          791,
          796,
          829,
          895,
          920,
          948,
          964,
          1024,
          1068,
          1112,
          1108,
          1202,
          1202,
          1281,
          1264,
          1376,
          1396,
          1404,
          1434,
          1480
         ],
         "yaxis": "y"
        }
       ],
       "layout": {
        "legend": {
         "title": {
          "text": "solver"
         },
         "tracegroupgap": 0
        },
        "margin": {
         "t": 60
        },
        "template": {
         "data": {
          "bar": [
           {
            "error_x": {
             "color": "#2a3f5f"
            },
            "error_y": {
             "color": "#2a3f5f"
            },
            "marker": {
             "line": {
              "color": "#E5ECF6",
              "width": 0.5
             },
             "pattern": {
              "fillmode": "overlay",
              "size": 10,
              "solidity": 0.2
             }
            },
            "type": "bar"
           }
          ],
          "barpolar": [
           {
            "marker": {
             "line": {
              "color": "#E5ECF6",
              "width": 0.5
             },
             "pattern": {
              "fillmode": "overlay",
              "size": 10,
              "solidity": 0.2
             }
            },
            "type": "barpolar"
           }
          ],
          "carpet": [
           {
            "aaxis": {
             "endlinecolor": "#2a3f5f",
             "gridcolor": "white",
             "linecolor": "white",
             "minorgridcolor": "white",
             "startlinecolor": "#2a3f5f"
            },
            "baxis": {
             "endlinecolor": "#2a3f5f",
             "gridcolor": "white",
             "linecolor": "white",
             "minorgridcolor": "white",
             "startlinecolor": "#2a3f5f"
            },
            "type": "carpet"
           }
          ],
          "choropleth": [
           {
            "colorbar": {
             "outlinewidth": 0,
             "ticks": ""
            },
            "type": "choropleth"
           }
          ],
          "contour": [
           {
            "colorbar": {
             "outlinewidth": 0,
             "ticks": ""
            },
            "colorscale": [
             [
              0,
              "#0d0887"
             ],
             [
              0.1111111111111111,
              "#46039f"
             ],
             [
              0.2222222222222222,
              "#7201a8"
             ],
             [
              0.3333333333333333,
              "#9c179e"
             ],
             [
              0.4444444444444444,
              "#bd3786"
             ],
             [
              0.5555555555555556,
              "#d8576b"
             ],
             [
              0.6666666666666666,
              "#ed7953"
             ],
             [
              0.7777777777777778,
              "#fb9f3a"
             ],
             [
              0.8888888888888888,
              "#fdca26"
             ],
             [
              1,
              "#f0f921"
             ]
            ],
            "type": "contour"
           }
          ],
          "contourcarpet": [
           {
            "colorbar": {
             "outlinewidth": 0,
             "ticks": ""
            },
            "type": "contourcarpet"
           }
          ],
          "heatmap": [
           {
            "colorbar": {
             "outlinewidth": 0,
             "ticks": ""
            },
            "colorscale": [
             [
              0,
              "#0d0887"
             ],
             [
              0.1111111111111111,
              "#46039f"
             ],
             [
              0.2222222222222222,
              "#7201a8"
             ],
             [
              0.3333333333333333,
              "#9c179e"
             ],
             [
              0.4444444444444444,
              "#bd3786"
             ],
             [
              0.5555555555555556,
              "#d8576b"
             ],
             [
              0.6666666666666666,
              "#ed7953"
             ],
             [
              0.7777777777777778,
              "#fb9f3a"
             ],
             [
              0.8888888888888888,
              "#fdca26"
             ],
             [
              1,
              "#f0f921"
             ]
            ],
            "type": "heatmap"
           }
          ],
          "heatmapgl": [
           {
            "colorbar": {
             "outlinewidth": 0,
             "ticks": ""
            },
            "colorscale": [
             [
              0,
              "#0d0887"
             ],
             [
              0.1111111111111111,
              "#46039f"
             ],
             [
              0.2222222222222222,
              "#7201a8"
             ],
             [
              0.3333333333333333,
              "#9c179e"
             ],
             [
              0.4444444444444444,
              "#bd3786"
             ],
             [
              0.5555555555555556,
              "#d8576b"
             ],
             [
              0.6666666666666666,
              "#ed7953"
             ],
             [
              0.7777777777777778,
              "#fb9f3a"
             ],
             [
              0.8888888888888888,
              "#fdca26"
             ],
             [
              1,
              "#f0f921"
             ]
            ],
            "type": "heatmapgl"
           }
          ],
          "histogram": [
           {
            "marker": {
             "pattern": {
              "fillmode": "overlay",
              "size": 10,
              "solidity": 0.2
             }
            },
            "type": "histogram"
           }
          ],
          "histogram2d": [
           {
            "colorbar": {
             "outlinewidth": 0,
             "ticks": ""
            },
            "colorscale": [
             [
              0,
              "#0d0887"
             ],
             [
              0.1111111111111111,
              "#46039f"
             ],
             [
              0.2222222222222222,
              "#7201a8"
             ],
             [
              0.3333333333333333,
              "#9c179e"
             ],
             [
              0.4444444444444444,
              "#bd3786"
             ],
             [
              0.5555555555555556,
              "#d8576b"
             ],
             [
              0.6666666666666666,
              "#ed7953"
             ],
             [
              0.7777777777777778,
              "#fb9f3a"
             ],
             [
              0.8888888888888888,
              "#fdca26"
             ],
             [
              1,
              "#f0f921"
             ]
            ],
            "type": "histogram2d"
           }
          ],
          "histogram2dcontour": [
           {
            "colorbar": {
             "outlinewidth": 0,
             "ticks": ""
            },
            "colorscale": [
             [
              0,
              "#0d0887"
             ],
             [
              0.1111111111111111,
              "#46039f"
             ],
             [
              0.2222222222222222,
              "#7201a8"
             ],
             [
              0.3333333333333333,
              "#9c179e"
             ],
             [
              0.4444444444444444,
              "#bd3786"
             ],
             [
              0.5555555555555556,
              "#d8576b"
             ],
             [
              0.6666666666666666,
              "#ed7953"
             ],
             [
              0.7777777777777778,
              "#fb9f3a"
             ],
             [
              0.8888888888888888,
              "#fdca26"
             ],
             [
              1,
              "#f0f921"
             ]
            ],
            "type": "histogram2dcontour"
           }
          ],
          "mesh3d": [
           {
            "colorbar": {
             "outlinewidth": 0,
             "ticks": ""
            },
            "type": "mesh3d"
           }
          ],
          "parcoords": [
           {
            "line": {
             "colorbar": {
              "outlinewidth": 0,
              "ticks": ""
             }
            },
            "type": "parcoords"
           }
          ],
          "pie": [
           {
            "automargin": true,
            "type": "pie"
           }
          ],
          "scatter": [
           {
            "fillpattern": {
             "fillmode": "overlay",
             "size": 10,
             "solidity": 0.2
            },
            "type": "scatter"
           }
          ],
          "scatter3d": [
           {
            "line": {
             "colorbar": {
              "outlinewidth": 0,
              "ticks": ""
             }
            },
            "marker": {
             "colorbar": {
              "outlinewidth": 0,
              "ticks": ""
             }
            },
            "type": "scatter3d"
           }
          ],
          "scattercarpet": [
           {
            "marker": {
             "colorbar": {
              "outlinewidth": 0,
              "ticks": ""
             }
            },
            "type": "scattercarpet"
           }
          ],
          "scattergeo": [
           {
            "marker": {
             "colorbar": {
              "outlinewidth": 0,
              "ticks": ""
             }
            },
            "type": "scattergeo"
           }
          ],
          "scattergl": [
           {
            "marker": {
             "colorbar": {
              "outlinewidth": 0,
              "ticks": ""
             }
            },
            "type": "scattergl"
           }
          ],
          "scattermapbox": [
           {
            "marker": {
             "colorbar": {
              "outlinewidth": 0,
              "ticks": ""
             }
            },
            "type": "scattermapbox"
           }
          ],
          "scatterpolar": [
           {
            "marker": {
             "colorbar": {
              "outlinewidth": 0,
              "ticks": ""
             }
            },
            "type": "scatterpolar"
           }
          ],
          "scatterpolargl": [
           {
            "marker": {
             "colorbar": {
              "outlinewidth": 0,
              "ticks": ""
             }
            },
            "type": "scatterpolargl"
           }
          ],
          "scatterternary": [
           {
            "marker": {
             "colorbar": {
              "outlinewidth": 0,
              "ticks": ""
             }
            },
            "type": "scatterternary"
           }
          ],
          "surface": [
           {
            "colorbar": {
             "outlinewidth": 0,
             "ticks": ""
            },
            "colorscale": [
             [
              0,
              "#0d0887"
             ],
             [
              0.1111111111111111,
              "#46039f"
             ],
             [
              0.2222222222222222,
              "#7201a8"
             ],
             [
              0.3333333333333333,
              "#9c179e"
             ],
             [
              0.4444444444444444,
              "#bd3786"
             ],
             [
              0.5555555555555556,
              "#d8576b"
             ],
             [
              0.6666666666666666,
              "#ed7953"
             ],
             [
              0.7777777777777778,
              "#fb9f3a"
             ],
             [
              0.8888888888888888,
              "#fdca26"
             ],
             [
              1,
              "#f0f921"
             ]
            ],
            "type": "surface"
           }
          ],
          "table": [
           {
            "cells": {
             "fill": {
              "color": "#EBF0F8"
             },
             "line": {
              "color": "white"
             }
            },
            "header": {
             "fill": {
              "color": "#C8D4E3"
             },
             "line": {
              "color": "white"
             }
            },
            "type": "table"
           }
          ]
         },
         "layout": {
          "annotationdefaults": {
           "arrowcolor": "#2a3f5f",
           "arrowhead": 0,
           "arrowwidth": 1
          },
          "autotypenumbers": "strict",
          "coloraxis": {
           "colorbar": {
            "outlinewidth": 0,
            "ticks": ""
           }
          },
          "colorscale": {
           "diverging": [
            [
             0,
             "#8e0152"
            ],
            [
             0.1,
             "#c51b7d"
            ],
            [
             0.2,
             "#de77ae"
            ],
            [
             0.3,
             "#f1b6da"
            ],
            [
             0.4,
             "#fde0ef"
            ],
            [
             0.5,
             "#f7f7f7"
            ],
            [
             0.6,
             "#e6f5d0"
            ],
            [
             0.7,
             "#b8e186"
            ],
            [
             0.8,
             "#7fbc41"
            ],
            [
             0.9,
             "#4d9221"
            ],
            [
             1,
             "#276419"
            ]
           ],
           "sequential": [
            [
             0,
             "#0d0887"
            ],
            [
             0.1111111111111111,
             "#46039f"
            ],
            [
             0.2222222222222222,
             "#7201a8"
            ],
            [
             0.3333333333333333,
             "#9c179e"
            ],
            [
             0.4444444444444444,
             "#bd3786"
            ],
            [
             0.5555555555555556,
             "#d8576b"
            ],
            [
             0.6666666666666666,
             "#ed7953"
            ],
            [
             0.7777777777777778,
             "#fb9f3a"
            ],
            [
             0.8888888888888888,
             "#fdca26"
            ],
            [
             1,
             "#f0f921"
            ]
           ],
           "sequentialminus": [
            [
             0,
             "#0d0887"
            ],
            [
             0.1111111111111111,
             "#46039f"
            ],
            [
             0.2222222222222222,
             "#7201a8"
            ],
            [
             0.3333333333333333,
             "#9c179e"
            ],
            [
             0.4444444444444444,
             "#bd3786"
            ],
            [
             0.5555555555555556,
             "#d8576b"
            ],
            [
             0.6666666666666666,
             "#ed7953"
            ],
            [
             0.7777777777777778,
             "#fb9f3a"
            ],
            [
             0.8888888888888888,
             "#fdca26"
            ],
            [
             1,
             "#f0f921"
            ]
           ]
          },
          "colorway": [
           "#636efa",
           "#EF553B",
           "#00cc96",
           "#ab63fa",
           "#FFA15A",
           "#19d3f3",
           "#FF6692",
           "#B6E880",
           "#FF97FF",
           "#FECB52"
          ],
          "font": {
           "color": "#2a3f5f"
          },
          "geo": {
           "bgcolor": "white",
           "lakecolor": "white",
           "landcolor": "#E5ECF6",
           "showlakes": true,
           "showland": true,
           "subunitcolor": "white"
          },
          "hoverlabel": {
           "align": "left"
          },
          "hovermode": "closest",
          "mapbox": {
           "style": "light"
          },
          "paper_bgcolor": "white",
          "plot_bgcolor": "#E5ECF6",
          "polar": {
           "angularaxis": {
            "gridcolor": "white",
            "linecolor": "white",
            "ticks": ""
           },
           "bgcolor": "#E5ECF6",
           "radialaxis": {
            "gridcolor": "white",
            "linecolor": "white",
            "ticks": ""
           }
          },
          "scene": {
           "xaxis": {
            "backgroundcolor": "#E5ECF6",
            "gridcolor": "white",
            "gridwidth": 2,
            "linecolor": "white",
            "showbackground": true,
            "ticks": "",
            "zerolinecolor": "white"
           },
           "yaxis": {
            "backgroundcolor": "#E5ECF6",
            "gridcolor": "white",
            "gridwidth": 2,
            "linecolor": "white",
            "showbackground": true,
            "ticks": "",
            "zerolinecolor": "white"
           },
           "zaxis": {
            "backgroundcolor": "#E5ECF6",
            "gridcolor": "white",
            "gridwidth": 2,
            "linecolor": "white",
            "showbackground": true,
            "ticks": "",
            "zerolinecolor": "white"
           }
          },
          "shapedefaults": {
           "line": {
            "color": "#2a3f5f"
           }
          },
          "ternary": {
           "aaxis": {
            "gridcolor": "white",
            "linecolor": "white",
            "ticks": ""
           },
           "baxis": {
            "gridcolor": "white",
            "linecolor": "white",
            "ticks": ""
           },
           "bgcolor": "#E5ECF6",
           "caxis": {
            "gridcolor": "white",
            "linecolor": "white",
            "ticks": ""
           }
          },
          "title": {
           "x": 0.05
          },
          "xaxis": {
           "automargin": true,
           "gridcolor": "white",
           "linecolor": "white",
           "ticks": "",
           "title": {
            "standoff": 15
           },
           "zerolinecolor": "white",
           "zerolinewidth": 2
          },
          "yaxis": {
           "automargin": true,
           "gridcolor": "white",
           "linecolor": "white",
           "ticks": "",
           "title": {
            "standoff": 15
           },
           "zerolinecolor": "white",
           "zerolinewidth": 2
          }
         }
        },
        "xaxis": {
         "anchor": "y",
         "domain": [
          0,
          1
         ],
         "title": {
          "text": "problem"
         }
        },
        "yaxis": {
         "anchor": "x",
         "domain": [
          0,
          1
         ],
         "title": {
          "text": "plan_length_mean"
         }
        }
       }
      }
     },
     "metadata": {},
     "output_type": "display_data"
    },
    {
     "name": "stdout",
     "output_type": "stream",
     "text": [
      "ferry\n"
     ]
    },
    {
     "data": {
      "application/vnd.plotly.v1+json": {
       "config": {
        "plotlyServerURL": "https://plot.ly"
       },
       "data": [
        {
         "error_y": {
          "array": [
           0,
           0,
           0,
           0.5163977794943225,
           0,
           0.9944289260117531,
           0.52704627669473,
           0.5163977794943222,
           0.9486832980505139,
           0.42163702135578407,
           0.9486832980505143,
           0.6992058987801013,
           1.712697677155351,
           1.05409255338946,
           0.7378647873726221,
           1.05934990547138,
           1.0327955589886444,
           1.49071198499986,
           2.024845673131658,
           1.897366596101027,
           1.2292725943057183,
           1.3165611772087666,
           1.649915822768611,
           1.5634719199411455,
           2.558211180579985,
           2.7182510717166806,
           1.8287822299126943,
           2.2135943621178655,
           2.110818693198343,
           2.2827858224351845,
           0.6992058987801009,
           1.8973665961010278,
           0.7378647873726218,
           3.6040101122068036,
           3.0983866769659336,
           3.533962208186288,
           3.16403399335581,
           3.8600518131237562,
           4.9396356140913875,
           4.012480529547771,
           4.9091750834534285,
           4.347413023856833,
           6.801960501698522,
           5.553777493242279,
           5.553777493242282,
           5.232377832092954,
           6.01941303893771,
           9.036346360977733,
           9.5545219079182,
           4.794672969962487,
           9.507891459203776,
           7.61650255111302,
           7.734482673212353,
           10.778579580713682,
           8.971560003081345,
           9.402127418834526,
           11.363195951061577,
           9.230986464680313,
           7.800284895082005,
           13.755402978870192,
           21.8936824982307,
           21.746264046957585,
           29.163142644250286,
           33.637941540931294,
           30.100018456989524,
           42.7971961698427,
           49.60835503107201,
           44.699117565239575,
           49.79558213335802,
           59.83950757373149,
           75.72582122367511,
           48.21030318649049,
           56.81597975530788,
           51.43772240014408,
           18.04716044146557,
           null,
           null,
           null,
           null,
           null,
           null,
           null,
           null,
           null,
           null,
           null,
           null,
           null,
           null,
           null
          ]
         },
         "hovertemplate": "solver=baseline<br>problem=%{x}<br>plan_length_mean=%{y}<extra></extra>",
         "legendgroup": "baseline",
         "marker": {
          "color": "#636efa",
          "symbol": "circle"
         },
         "mode": "markers",
         "name": "baseline",
         "orientation": "v",
         "showlegend": true,
         "type": "scatter",
         "x": [
          "0_01",
          "0_02",
          "0_03",
          "0_04",
          "0_05",
          "0_06",
          "0_07",
          "0_08",
          "0_09",
          "0_10",
          "0_11",
          "0_12",
          "0_13",
          "0_14",
          "0_15",
          "0_16",
          "0_17",
          "0_18",
          "0_19",
          "0_20",
          "0_21",
          "0_22",
          "0_23",
          "0_24",
          "0_25",
          "0_26",
          "0_27",
          "0_28",
          "0_29",
          "0_30",
          "1_01",
          "1_02",
          "1_03",
          "1_04",
          "1_05",
          "1_06",
          "1_07",
          "1_08",
          "1_09",
          "1_10",
          "1_11",
          "1_12",
          "1_13",
          "1_14",
          "1_15",
          "1_16",
          "1_17",
          "1_18",
          "1_19",
          "1_20",
          "1_21",
          "1_22",
          "1_23",
          "1_24",
          "1_25",
          "1_26",
          "1_27",
          "1_28",
          "1_29",
          "1_30",
          "2_01",
          "2_02",
          "2_03",
          "2_04",
          "2_05",
          "2_06",
          "2_07",
          "2_08",
          "2_09",
          "2_10",
          "2_11",
          "2_12",
          "2_13",
          "2_14",
          "2_15",
          "2_16",
          "2_17",
          "2_18",
          "2_19",
          "2_20",
          "2_21",
          "2_22",
          "2_23",
          "2_24",
          "2_25",
          "2_26",
          "2_27",
          "2_28",
          "2_29",
          "2_30"
         ],
         "xaxis": "x",
         "y": [
          8,
          8,
          12,
          11.4,
          15,
          19.1,
          19.5,
          23.6,
          24.7,
          26.8,
          30.7,
          29.4,
          32.6,
          34,
          37.9,
          41.3,
          46.2,
          42,
          46.9,
          50.4,
          50.8,
          52.2,
          54.5,
          59,
          62.9,
          62.5,
          60.7,
          69.3,
          67.3,
          75.9,
          36.6,
          49.6,
          62.1,
          72.1,
          79.4,
          93.4,
          103.7,
          107.7,
          125.8,
          134.9,
          144.9,
          157.7,
          165.6,
          174.2,
          188.8,
          198.4,
          200.3,
          212.9,
          234.8,
          232.9,
          245.8,
          255.3,
          269.4,
          284.8,
          300.6,
          298.8,
          317.7,
          319.9,
          335.2,
          344.9,
          694,
          803.3,
          894.6,
          1001.2,
          1066.3,
          1168.4,
          1267.1,
          1391.3,
          1472.4,
          1582.9,
          1678.2,
          1721.3,
          1847.5,
          1898.125,
          1954.8,
          null,
          null,
          null,
          null,
          null,
          null,
          null,
          null,
          null,
          null,
          null,
          null,
          null,
          null,
          null
         ],
         "yaxis": "y"
        },
        {
         "error_y": {
          "array": [
           null,
           null,
           null,
           null,
           null,
           null,
           null,
           null,
           null,
           null,
           null,
           null,
           null,
           null,
           null,
           null,
           null,
           null,
           null,
           null,
           null,
           null,
           null,
           null,
           null,
           null,
           null,
           null,
           null,
           null,
           null,
           null,
           null,
           null,
           null,
           null,
           null,
           null,
           null,
           null,
           null,
           null,
           null,
           null,
           null,
           null,
           null,
           null,
           null,
           null,
           null,
           null,
           null,
           null,
           null,
           null,
           null,
           null,
           null,
           null,
           null,
           null,
           null,
           null,
           null,
           null,
           null,
           null,
           null,
           null,
           null,
           null,
           null,
           null,
           null,
           null,
           null,
           null,
           null,
           null,
           null,
           null,
           null,
           null,
           null,
           null,
           null,
           null,
           null,
           null
          ]
         },
         "hovertemplate": "solver=scorpion<br>problem=%{x}<br>plan_length_mean=%{y}<extra></extra>",
         "legendgroup": "scorpion",
         "marker": {
          "color": "#EF553B",
          "symbol": "circle"
         },
         "mode": "markers",
         "name": "scorpion",
         "orientation": "v",
         "showlegend": true,
         "type": "scatter",
         "x": [
          "0_01",
          "0_02",
          "0_03",
          "0_04",
          "0_05",
          "0_06",
          "0_07",
          "0_08",
          "0_09",
          "0_10",
          "0_11",
          "0_12",
          "0_13",
          "0_14",
          "0_15",
          "0_16",
          "0_17",
          "0_18",
          "0_19",
          "0_20",
          "0_21",
          "0_22",
          "0_23",
          "0_24",
          "0_25",
          "0_26",
          "0_27",
          "0_28",
          "0_29",
          "0_30",
          "1_01",
          "1_02",
          "1_03",
          "1_04",
          "1_05",
          "1_06",
          "1_07",
          "1_08",
          "1_09",
          "1_10",
          "1_11",
          "1_12",
          "1_13",
          "1_14",
          "1_15",
          "1_16",
          "1_17",
          "1_18",
          "1_19",
          "1_20",
          "1_21",
          "1_22",
          "1_23",
          "1_24",
          "1_25",
          "1_26",
          "1_27",
          "1_28",
          "1_29",
          "1_30",
          "2_01",
          "2_02",
          "2_03",
          "2_04",
          "2_05",
          "2_06",
          "2_07",
          "2_08",
          "2_09",
          "2_10",
          "2_11",
          "2_12",
          "2_13",
          "2_14",
          "2_15",
          "2_16",
          "2_17",
          "2_18",
          "2_19",
          "2_20",
          "2_21",
          "2_22",
          "2_23",
          "2_24",
          "2_25",
          "2_26",
          "2_27",
          "2_28",
          "2_29",
          "2_30"
         ],
         "xaxis": "x",
         "y": [
          8,
          8,
          12,
          11,
          15,
          18,
          19,
          23,
          24,
          26,
          30,
          29,
          31,
          33,
          37,
          39,
          45,
          40,
          44,
          null,
          49,
          null,
          null,
          null,
          null,
          null,
          null,
          null,
          null,
          null,
          36,
          47,
          null,
          null,
          null,
          null,
          null,
          null,
          null,
          null,
          null,
          null,
          null,
          null,
          null,
          null,
          null,
          null,
          null,
          null,
          null,
          null,
          null,
          null,
          null,
          null,
          null,
          null,
          null,
          null,
          null,
          null,
          null,
          null,
          null,
          null,
          null,
          null,
          null,
          null,
          null,
          null,
          null,
          null,
          null,
          null,
          null,
          null,
          null,
          null,
          null,
          null,
          null,
          null,
          null,
          null,
          null,
          null,
          null,
          null
         ],
         "yaxis": "y"
        },
        {
         "error_y": {
          "array": [
           null,
           null,
           0,
           0.7071067811865476,
           0,
           0,
           0.7071067811865476,
           0,
           null,
           0,
           0,
           0,
           0,
           0.7071067811865476,
           0,
           0.7071067811865476,
           0.7071067811865476,
           1.4142135623730951,
           0,
           0.7071067811865476,
           0.7071067811865476,
           0.7071067811865476,
           1.4142135623730951,
           1.4142135623730951,
           0.7071067811865476,
           0,
           1.4142135623730951,
           0,
           0.7071067811865476,
           0.7071067811865476,
           null,
           null,
           1.4142135623730951,
           0,
           0.7071067811865476,
           1.4142135623730951,
           2.1213203435596424,
           1.4142135623730951,
           3.5355339059327378,
           2.1213203435596424,
           0.7071067811865476,
           3.5355339059327378,
           0.7071067811865476,
           0,
           2.8284271247461903,
           0,
           1.4142135623730951,
           3.5355339059327378,
           0.7071067811865476,
           0.7071067811865476,
           1.4142135623730951,
           1.4142135623730951,
           2.1213203435596424,
           1.4142135623730951,
           2.1213203435596424,
           1.4142135623730951,
           5.656854249492381,
           2.8284271247461903,
           4.949747468305833,
           4.242640687119285,
           null,
           null,
           2.8284271247461903,
           2.1213203435596424,
           1.4142135623730951,
           6.363961030678928,
           1.4142135623730951,
           null,
           9.899494936611665,
           5.656854249492381,
           0.7071067811865476,
           4.242640687119285,
           0,
           2.1213203435596424,
           null,
           null,
           null
          ]
         },
         "hovertemplate": "solver=lrnn_1_1<br>problem=%{x}<br>plan_length_mean=%{y}<extra></extra>",
         "legendgroup": "lrnn_1_1",
         "marker": {
          "color": "#00cc96",
          "symbol": "circle"
         },
         "mode": "markers",
         "name": "lrnn_1_1",
         "orientation": "v",
         "showlegend": true,
         "type": "scatter",
         "x": [
          "0_01",
          "0_02",
          "0_03",
          "0_04",
          "0_05",
          "0_06",
          "0_07",
          "0_08",
          "0_09",
          "0_10",
          "0_11",
          "0_12",
          "0_13",
          "0_14",
          "0_15",
          "0_16",
          "0_17",
          "0_18",
          "0_19",
          "0_20",
          "0_21",
          "0_22",
          "0_23",
          "0_24",
          "0_25",
          "0_26",
          "0_27",
          "0_28",
          "0_29",
          "0_30",
          "1_01",
          "1_02",
          "1_03",
          "1_04",
          "1_05",
          "1_06",
          "1_07",
          "1_08",
          "1_09",
          "1_10",
          "1_11",
          "1_12",
          "1_13",
          "1_14",
          "1_15",
          "1_16",
          "1_17",
          "1_18",
          "1_19",
          "1_20",
          "1_21",
          "1_22",
          "1_23",
          "1_24",
          "1_25",
          "1_26",
          "1_27",
          "1_28",
          "1_29",
          "1_30",
          "2_01",
          "2_02",
          "2_03",
          "2_04",
          "2_05",
          "2_06",
          "2_07",
          "2_08",
          "2_09",
          "2_10",
          "2_11",
          "2_12",
          "2_13",
          "2_14",
          "2_15",
          "2_16",
          "2_17"
         ],
         "xaxis": "x",
         "y": [
          8,
          8,
          12,
          11.5,
          15,
          20,
          19.5,
          23,
          26,
          26,
          31,
          29,
          32,
          34.5,
          37,
          40.5,
          45.5,
          42,
          47,
          51.5,
          50.5,
          50.5,
          54,
          58,
          62.5,
          62,
          61,
          69,
          68.5,
          75.5,
          36,
          48,
          62,
          69,
          77.5,
          91,
          102.5,
          109,
          124.5,
          134.5,
          145.5,
          158.5,
          166.5,
          174,
          188,
          197,
          203,
          213.5,
          235.5,
          228.5,
          244,
          256,
          272.5,
          280,
          291.5,
          300,
          314,
          321,
          330.5,
          342,
          692,
          792,
          898,
          993.5,
          1074,
          1174.5,
          1266,
          1375,
          1464,
          1564,
          1653.5,
          1733,
          1844,
          1918.5,
          2020,
          2119,
          2220
         ],
         "yaxis": "y"
        },
        {
         "error_y": {
          "array": [
           null,
           null,
           null,
           null,
           null,
           null,
           null,
           null,
           null,
           null,
           null,
           null,
           null,
           null,
           null,
           null,
           null,
           null,
           null,
           null,
           null,
           null
          ]
         },
         "hovertemplate": "solver=lrnn_2_1<br>problem=%{x}<br>plan_length_mean=%{y}<extra></extra>",
         "legendgroup": "lrnn_2_1",
         "marker": {
          "color": "#ab63fa",
          "symbol": "circle"
         },
         "mode": "markers",
         "name": "lrnn_2_1",
         "orientation": "v",
         "showlegend": true,
         "type": "scatter",
         "x": [
          "0_13",
          "0_20",
          "0_21",
          "0_22",
          "0_23",
          "0_24",
          "0_25",
          "0_26",
          "0_27",
          "0_28",
          "0_29",
          "1_19",
          "1_20",
          "1_21",
          "1_22",
          "1_23",
          "1_24",
          "1_25",
          "1_26",
          "1_27",
          "1_28",
          "1_29"
         ],
         "xaxis": "x",
         "y": [
          33,
          51,
          52,
          52,
          54,
          59,
          61,
          63,
          61,
          69,
          68,
          234,
          232,
          245,
          251,
          273,
          279,
          294,
          300,
          314,
          315,
          330
         ],
         "yaxis": "y"
        }
       ],
       "layout": {
        "legend": {
         "title": {
          "text": "solver"
         },
         "tracegroupgap": 0
        },
        "margin": {
         "t": 60
        },
        "template": {
         "data": {
          "bar": [
           {
            "error_x": {
             "color": "#2a3f5f"
            },
            "error_y": {
             "color": "#2a3f5f"
            },
            "marker": {
             "line": {
              "color": "#E5ECF6",
              "width": 0.5
             },
             "pattern": {
              "fillmode": "overlay",
              "size": 10,
              "solidity": 0.2
             }
            },
            "type": "bar"
           }
          ],
          "barpolar": [
           {
            "marker": {
             "line": {
              "color": "#E5ECF6",
              "width": 0.5
             },
             "pattern": {
              "fillmode": "overlay",
              "size": 10,
              "solidity": 0.2
             }
            },
            "type": "barpolar"
           }
          ],
          "carpet": [
           {
            "aaxis": {
             "endlinecolor": "#2a3f5f",
             "gridcolor": "white",
             "linecolor": "white",
             "minorgridcolor": "white",
             "startlinecolor": "#2a3f5f"
            },
            "baxis": {
             "endlinecolor": "#2a3f5f",
             "gridcolor": "white",
             "linecolor": "white",
             "minorgridcolor": "white",
             "startlinecolor": "#2a3f5f"
            },
            "type": "carpet"
           }
          ],
          "choropleth": [
           {
            "colorbar": {
             "outlinewidth": 0,
             "ticks": ""
            },
            "type": "choropleth"
           }
          ],
          "contour": [
           {
            "colorbar": {
             "outlinewidth": 0,
             "ticks": ""
            },
            "colorscale": [
             [
              0,
              "#0d0887"
             ],
             [
              0.1111111111111111,
              "#46039f"
             ],
             [
              0.2222222222222222,
              "#7201a8"
             ],
             [
              0.3333333333333333,
              "#9c179e"
             ],
             [
              0.4444444444444444,
              "#bd3786"
             ],
             [
              0.5555555555555556,
              "#d8576b"
             ],
             [
              0.6666666666666666,
              "#ed7953"
             ],
             [
              0.7777777777777778,
              "#fb9f3a"
             ],
             [
              0.8888888888888888,
              "#fdca26"
             ],
             [
              1,
              "#f0f921"
             ]
            ],
            "type": "contour"
           }
          ],
          "contourcarpet": [
           {
            "colorbar": {
             "outlinewidth": 0,
             "ticks": ""
            },
            "type": "contourcarpet"
           }
          ],
          "heatmap": [
           {
            "colorbar": {
             "outlinewidth": 0,
             "ticks": ""
            },
            "colorscale": [
             [
              0,
              "#0d0887"
             ],
             [
              0.1111111111111111,
              "#46039f"
             ],
             [
              0.2222222222222222,
              "#7201a8"
             ],
             [
              0.3333333333333333,
              "#9c179e"
             ],
             [
              0.4444444444444444,
              "#bd3786"
             ],
             [
              0.5555555555555556,
              "#d8576b"
             ],
             [
              0.6666666666666666,
              "#ed7953"
             ],
             [
              0.7777777777777778,
              "#fb9f3a"
             ],
             [
              0.8888888888888888,
              "#fdca26"
             ],
             [
              1,
              "#f0f921"
             ]
            ],
            "type": "heatmap"
           }
          ],
          "heatmapgl": [
           {
            "colorbar": {
             "outlinewidth": 0,
             "ticks": ""
            },
            "colorscale": [
             [
              0,
              "#0d0887"
             ],
             [
              0.1111111111111111,
              "#46039f"
             ],
             [
              0.2222222222222222,
              "#7201a8"
             ],
             [
              0.3333333333333333,
              "#9c179e"
             ],
             [
              0.4444444444444444,
              "#bd3786"
             ],
             [
              0.5555555555555556,
              "#d8576b"
             ],
             [
              0.6666666666666666,
              "#ed7953"
             ],
             [
              0.7777777777777778,
              "#fb9f3a"
             ],
             [
              0.8888888888888888,
              "#fdca26"
             ],
             [
              1,
              "#f0f921"
             ]
            ],
            "type": "heatmapgl"
           }
          ],
          "histogram": [
           {
            "marker": {
             "pattern": {
              "fillmode": "overlay",
              "size": 10,
              "solidity": 0.2
             }
            },
            "type": "histogram"
           }
          ],
          "histogram2d": [
           {
            "colorbar": {
             "outlinewidth": 0,
             "ticks": ""
            },
            "colorscale": [
             [
              0,
              "#0d0887"
             ],
             [
              0.1111111111111111,
              "#46039f"
             ],
             [
              0.2222222222222222,
              "#7201a8"
             ],
             [
              0.3333333333333333,
              "#9c179e"
             ],
             [
              0.4444444444444444,
              "#bd3786"
             ],
             [
              0.5555555555555556,
              "#d8576b"
             ],
             [
              0.6666666666666666,
              "#ed7953"
             ],
             [
              0.7777777777777778,
              "#fb9f3a"
             ],
             [
              0.8888888888888888,
              "#fdca26"
             ],
             [
              1,
              "#f0f921"
             ]
            ],
            "type": "histogram2d"
           }
          ],
          "histogram2dcontour": [
           {
            "colorbar": {
             "outlinewidth": 0,
             "ticks": ""
            },
            "colorscale": [
             [
              0,
              "#0d0887"
             ],
             [
              0.1111111111111111,
              "#46039f"
             ],
             [
              0.2222222222222222,
              "#7201a8"
             ],
             [
              0.3333333333333333,
              "#9c179e"
             ],
             [
              0.4444444444444444,
              "#bd3786"
             ],
             [
              0.5555555555555556,
              "#d8576b"
             ],
             [
              0.6666666666666666,
              "#ed7953"
             ],
             [
              0.7777777777777778,
              "#fb9f3a"
             ],
             [
              0.8888888888888888,
              "#fdca26"
             ],
             [
              1,
              "#f0f921"
             ]
            ],
            "type": "histogram2dcontour"
           }
          ],
          "mesh3d": [
           {
            "colorbar": {
             "outlinewidth": 0,
             "ticks": ""
            },
            "type": "mesh3d"
           }
          ],
          "parcoords": [
           {
            "line": {
             "colorbar": {
              "outlinewidth": 0,
              "ticks": ""
             }
            },
            "type": "parcoords"
           }
          ],
          "pie": [
           {
            "automargin": true,
            "type": "pie"
           }
          ],
          "scatter": [
           {
            "fillpattern": {
             "fillmode": "overlay",
             "size": 10,
             "solidity": 0.2
            },
            "type": "scatter"
           }
          ],
          "scatter3d": [
           {
            "line": {
             "colorbar": {
              "outlinewidth": 0,
              "ticks": ""
             }
            },
            "marker": {
             "colorbar": {
              "outlinewidth": 0,
              "ticks": ""
             }
            },
            "type": "scatter3d"
           }
          ],
          "scattercarpet": [
           {
            "marker": {
             "colorbar": {
              "outlinewidth": 0,
              "ticks": ""
             }
            },
            "type": "scattercarpet"
           }
          ],
          "scattergeo": [
           {
            "marker": {
             "colorbar": {
              "outlinewidth": 0,
              "ticks": ""
             }
            },
            "type": "scattergeo"
           }
          ],
          "scattergl": [
           {
            "marker": {
             "colorbar": {
              "outlinewidth": 0,
              "ticks": ""
             }
            },
            "type": "scattergl"
           }
          ],
          "scattermapbox": [
           {
            "marker": {
             "colorbar": {
              "outlinewidth": 0,
              "ticks": ""
             }
            },
            "type": "scattermapbox"
           }
          ],
          "scatterpolar": [
           {
            "marker": {
             "colorbar": {
              "outlinewidth": 0,
              "ticks": ""
             }
            },
            "type": "scatterpolar"
           }
          ],
          "scatterpolargl": [
           {
            "marker": {
             "colorbar": {
              "outlinewidth": 0,
              "ticks": ""
             }
            },
            "type": "scatterpolargl"
           }
          ],
          "scatterternary": [
           {
            "marker": {
             "colorbar": {
              "outlinewidth": 0,
              "ticks": ""
             }
            },
            "type": "scatterternary"
           }
          ],
          "surface": [
           {
            "colorbar": {
             "outlinewidth": 0,
             "ticks": ""
            },
            "colorscale": [
             [
              0,
              "#0d0887"
             ],
             [
              0.1111111111111111,
              "#46039f"
             ],
             [
              0.2222222222222222,
              "#7201a8"
             ],
             [
              0.3333333333333333,
              "#9c179e"
             ],
             [
              0.4444444444444444,
              "#bd3786"
             ],
             [
              0.5555555555555556,
              "#d8576b"
             ],
             [
              0.6666666666666666,
              "#ed7953"
             ],
             [
              0.7777777777777778,
              "#fb9f3a"
             ],
             [
              0.8888888888888888,
              "#fdca26"
             ],
             [
              1,
              "#f0f921"
             ]
            ],
            "type": "surface"
           }
          ],
          "table": [
           {
            "cells": {
             "fill": {
              "color": "#EBF0F8"
             },
             "line": {
              "color": "white"
             }
            },
            "header": {
             "fill": {
              "color": "#C8D4E3"
             },
             "line": {
              "color": "white"
             }
            },
            "type": "table"
           }
          ]
         },
         "layout": {
          "annotationdefaults": {
           "arrowcolor": "#2a3f5f",
           "arrowhead": 0,
           "arrowwidth": 1
          },
          "autotypenumbers": "strict",
          "coloraxis": {
           "colorbar": {
            "outlinewidth": 0,
            "ticks": ""
           }
          },
          "colorscale": {
           "diverging": [
            [
             0,
             "#8e0152"
            ],
            [
             0.1,
             "#c51b7d"
            ],
            [
             0.2,
             "#de77ae"
            ],
            [
             0.3,
             "#f1b6da"
            ],
            [
             0.4,
             "#fde0ef"
            ],
            [
             0.5,
             "#f7f7f7"
            ],
            [
             0.6,
             "#e6f5d0"
            ],
            [
             0.7,
             "#b8e186"
            ],
            [
             0.8,
             "#7fbc41"
            ],
            [
             0.9,
             "#4d9221"
            ],
            [
             1,
             "#276419"
            ]
           ],
           "sequential": [
            [
             0,
             "#0d0887"
            ],
            [
             0.1111111111111111,
             "#46039f"
            ],
            [
             0.2222222222222222,
             "#7201a8"
            ],
            [
             0.3333333333333333,
             "#9c179e"
            ],
            [
             0.4444444444444444,
             "#bd3786"
            ],
            [
             0.5555555555555556,
             "#d8576b"
            ],
            [
             0.6666666666666666,
             "#ed7953"
            ],
            [
             0.7777777777777778,
             "#fb9f3a"
            ],
            [
             0.8888888888888888,
             "#fdca26"
            ],
            [
             1,
             "#f0f921"
            ]
           ],
           "sequentialminus": [
            [
             0,
             "#0d0887"
            ],
            [
             0.1111111111111111,
             "#46039f"
            ],
            [
             0.2222222222222222,
             "#7201a8"
            ],
            [
             0.3333333333333333,
             "#9c179e"
            ],
            [
             0.4444444444444444,
             "#bd3786"
            ],
            [
             0.5555555555555556,
             "#d8576b"
            ],
            [
             0.6666666666666666,
             "#ed7953"
            ],
            [
             0.7777777777777778,
             "#fb9f3a"
            ],
            [
             0.8888888888888888,
             "#fdca26"
            ],
            [
             1,
             "#f0f921"
            ]
           ]
          },
          "colorway": [
           "#636efa",
           "#EF553B",
           "#00cc96",
           "#ab63fa",
           "#FFA15A",
           "#19d3f3",
           "#FF6692",
           "#B6E880",
           "#FF97FF",
           "#FECB52"
          ],
          "font": {
           "color": "#2a3f5f"
          },
          "geo": {
           "bgcolor": "white",
           "lakecolor": "white",
           "landcolor": "#E5ECF6",
           "showlakes": true,
           "showland": true,
           "subunitcolor": "white"
          },
          "hoverlabel": {
           "align": "left"
          },
          "hovermode": "closest",
          "mapbox": {
           "style": "light"
          },
          "paper_bgcolor": "white",
          "plot_bgcolor": "#E5ECF6",
          "polar": {
           "angularaxis": {
            "gridcolor": "white",
            "linecolor": "white",
            "ticks": ""
           },
           "bgcolor": "#E5ECF6",
           "radialaxis": {
            "gridcolor": "white",
            "linecolor": "white",
            "ticks": ""
           }
          },
          "scene": {
           "xaxis": {
            "backgroundcolor": "#E5ECF6",
            "gridcolor": "white",
            "gridwidth": 2,
            "linecolor": "white",
            "showbackground": true,
            "ticks": "",
            "zerolinecolor": "white"
           },
           "yaxis": {
            "backgroundcolor": "#E5ECF6",
            "gridcolor": "white",
            "gridwidth": 2,
            "linecolor": "white",
            "showbackground": true,
            "ticks": "",
            "zerolinecolor": "white"
           },
           "zaxis": {
            "backgroundcolor": "#E5ECF6",
            "gridcolor": "white",
            "gridwidth": 2,
            "linecolor": "white",
            "showbackground": true,
            "ticks": "",
            "zerolinecolor": "white"
           }
          },
          "shapedefaults": {
           "line": {
            "color": "#2a3f5f"
           }
          },
          "ternary": {
           "aaxis": {
            "gridcolor": "white",
            "linecolor": "white",
            "ticks": ""
           },
           "baxis": {
            "gridcolor": "white",
            "linecolor": "white",
            "ticks": ""
           },
           "bgcolor": "#E5ECF6",
           "caxis": {
            "gridcolor": "white",
            "linecolor": "white",
            "ticks": ""
           }
          },
          "title": {
           "x": 0.05
          },
          "xaxis": {
           "automargin": true,
           "gridcolor": "white",
           "linecolor": "white",
           "ticks": "",
           "title": {
            "standoff": 15
           },
           "zerolinecolor": "white",
           "zerolinewidth": 2
          },
          "yaxis": {
           "automargin": true,
           "gridcolor": "white",
           "linecolor": "white",
           "ticks": "",
           "title": {
            "standoff": 15
           },
           "zerolinecolor": "white",
           "zerolinewidth": 2
          }
         }
        },
        "xaxis": {
         "anchor": "y",
         "domain": [
          0,
          1
         ],
         "title": {
          "text": "problem"
         }
        },
        "yaxis": {
         "anchor": "x",
         "domain": [
          0,
          1
         ],
         "title": {
          "text": "plan_length_mean"
         }
        }
       }
      }
     },
     "metadata": {},
     "output_type": "display_data"
    },
    {
     "name": "stdout",
     "output_type": "stream",
     "text": [
      "miconic\n"
     ]
    },
    {
     "data": {
      "application/vnd.plotly.v1+json": {
       "config": {
        "plotlyServerURL": "https://plot.ly"
       },
       "data": [
        {
         "error_y": {
          "array": [
           0,
           0,
           0,
           0.5,
           1.5275252316519468,
           0.5773502691896257,
           1.2583057392117918,
           0.5773502691896255,
           0.7071067811865476,
           3,
           2.5166114784235827,
           2.6457513110645907,
           2.081665999466132,
           1.51657508881031,
           4.04145188432738,
           1,
           1.154700538379251,
           2.081665999466133,
           0.7071067811865476,
           4.163331998932265,
           7.810249675906654,
           6.658328118479393,
           8.621678104251709,
           2.0816659994661335,
           4.509249752822893,
           7,
           6.806859285554045,
           8.32666399786453,
           1.5275252316519468,
           5.291502622129181,
           30.512292604784715,
           32.624121954978854,
           30.04995840263344,
           34.67347689517162,
           12.020815280171307,
           42.71611717685336,
           19.519221295943137,
           61.978490892674486,
           4.242640687119285,
           26.501572280401273,
           41.012193308819754,
           25.423086620891123,
           26.870057685088806,
           74.24621202458749,
           56.323470537009115,
           54.793551932078046,
           55.51876559626784,
           132.98997455948827,
           70.2353187506115,
           87.87680771018788,
           44.96665431183423,
           11.445523142259596,
           78.70408714503544,
           72.12489168102785,
           16.263455967290593,
           164.88278664958733,
           178.55064640973254,
           287.0853531617383,
           65.05382386916237,
           219.9102089490163,
           95.34323957855288,
           53.74011537017761,
           98.33785300347641,
           257.3719746462954,
           284.18362608238596,
           138.1774221788784,
           84.03174003513989,
           535.576636284046,
           223.40471496068892,
           264.612137539708,
           224.05877205173945,
           779.2316728675754,
           null,
           241.83051916579925,
           null,
           266.5792565073284,
           163.68567438844488,
           null,
           468.2438823234462,
           null,
           null,
           342.5497530773206,
           383.2518754031088,
           67.17514421272202,
           null,
           89.90179827641566,
           null,
           null,
           200.8183258569795,
           136.47160876900367
          ]
         },
         "hovertemplate": "solver=baseline<br>problem=%{x}<br>plan_length_mean=%{y}<extra></extra>",
         "legendgroup": "baseline",
         "marker": {
          "color": "#636efa",
          "symbol": "circle"
         },
         "mode": "markers",
         "name": "baseline",
         "orientation": "v",
         "showlegend": true,
         "type": "scatter",
         "x": [
          "0_01",
          "0_02",
          "0_03",
          "0_04",
          "0_05",
          "0_06",
          "0_07",
          "0_08",
          "0_09",
          "0_10",
          "0_11",
          "0_12",
          "0_13",
          "0_14",
          "0_15",
          "0_16",
          "0_17",
          "0_18",
          "0_19",
          "0_20",
          "0_21",
          "0_22",
          "0_23",
          "0_24",
          "0_25",
          "0_26",
          "0_27",
          "0_28",
          "0_29",
          "0_30",
          "1_01",
          "1_02",
          "1_03",
          "1_04",
          "1_05",
          "1_06",
          "1_07",
          "1_08",
          "1_09",
          "1_10",
          "1_11",
          "1_12",
          "1_13",
          "1_14",
          "1_15",
          "1_16",
          "1_17",
          "1_18",
          "1_19",
          "1_20",
          "1_21",
          "1_22",
          "1_23",
          "1_24",
          "1_25",
          "1_26",
          "1_27",
          "1_28",
          "1_29",
          "1_30",
          "2_01",
          "2_02",
          "2_03",
          "2_04",
          "2_05",
          "2_06",
          "2_07",
          "2_08",
          "2_09",
          "2_10",
          "2_11",
          "2_12",
          "2_13",
          "2_14",
          "2_15",
          "2_16",
          "2_17",
          "2_18",
          "2_19",
          "2_20",
          "2_21",
          "2_22",
          "2_23",
          "2_24",
          "2_25",
          "2_26",
          "2_27",
          "2_28",
          "2_29",
          "2_30"
         ],
         "xaxis": "x",
         "y": [
          4,
          4,
          4,
          8.25,
          8.666666666666666,
          7.333333333333333,
          11.75,
          12.333333333333334,
          10.5,
          19.5,
          16.666666666666668,
          16,
          22.666666666666668,
          20.6,
          21.666666666666668,
          24,
          24.666666666666668,
          22.333333333333332,
          26.5,
          30.666666666666668,
          30,
          36.666666666666664,
          36.666666666666664,
          35.666666666666664,
          36.333333333333336,
          39,
          40.333333333333336,
          50.333333333333336,
          44.333333333333336,
          47,
          94,
          93.33333333333333,
          118,
          124.25,
          102.5,
          134,
          157,
          165.66666666666666,
          132,
          169.33333333333334,
          174,
          174.33333333333334,
          166,
          242.5,
          225.66666666666666,
          242.66666666666666,
          286.3333333333333,
          335.3333333333333,
          280,
          270.3333333333333,
          279,
          277.5,
          262.6666666666667,
          282,
          316.5,
          377.3333333333333,
          398.3333333333333,
          444,
          277,
          402.5,
          285.6666666666667,
          314,
          374.3333333333333,
          574.3333333333334,
          573.6666666666666,
          628,
          603.3333333333334,
          801.6666666666666,
          745.5,
          785.25,
          848.6666666666666,
          1195,
          818,
          1041,
          814,
          1288.5,
          1055,
          842,
          1546.3333333333333,
          951,
          1620,
          1537.6666666666667,
          1470,
          1157.5,
          1135,
          1372.6666666666667,
          1237,
          1306,
          1459,
          1611.5
         ],
         "yaxis": "y"
        },
        {
         "error_y": {
          "array": [
           null,
           null,
           null,
           null,
           null,
           null,
           null,
           null,
           null,
           null,
           null,
           null,
           null,
           null,
           null,
           null,
           null,
           null,
           null,
           null,
           null,
           null,
           null,
           null,
           null,
           null,
           null,
           null,
           null,
           null,
           null,
           null,
           null,
           null,
           null,
           null,
           null,
           null,
           null,
           null,
           null,
           null,
           null,
           null,
           null,
           null,
           null,
           null,
           null,
           null,
           null,
           null,
           null,
           null,
           null,
           null,
           null,
           null,
           null,
           null,
           null,
           null,
           null,
           null,
           null,
           null,
           null,
           null,
           null,
           null,
           null,
           null,
           null,
           null,
           null,
           null,
           null,
           null,
           null,
           null,
           null,
           null,
           null,
           null,
           null,
           null,
           null,
           null,
           null,
           null
          ]
         },
         "hovertemplate": "solver=scorpion<br>problem=%{x}<br>plan_length_mean=%{y}<extra></extra>",
         "legendgroup": "scorpion",
         "marker": {
          "color": "#EF553B",
          "symbol": "circle"
         },
         "mode": "markers",
         "name": "scorpion",
         "orientation": "v",
         "showlegend": true,
         "type": "scatter",
         "x": [
          "0_01",
          "0_02",
          "0_03",
          "0_04",
          "0_05",
          "0_06",
          "0_07",
          "0_08",
          "0_09",
          "0_10",
          "0_11",
          "0_12",
          "0_13",
          "0_14",
          "0_15",
          "0_16",
          "0_17",
          "0_18",
          "0_19",
          "0_20",
          "0_21",
          "0_22",
          "0_23",
          "0_24",
          "0_25",
          "0_26",
          "0_27",
          "0_28",
          "0_29",
          "0_30",
          "1_01",
          "1_02",
          "1_03",
          "1_04",
          "1_05",
          "1_06",
          "1_07",
          "1_08",
          "1_09",
          "1_10",
          "1_11",
          "1_12",
          "1_13",
          "1_14",
          "1_15",
          "1_16",
          "1_17",
          "1_18",
          "1_19",
          "1_20",
          "1_21",
          "1_22",
          "1_23",
          "1_24",
          "1_25",
          "1_26",
          "1_27",
          "1_28",
          "1_29",
          "1_30",
          "2_01",
          "2_02",
          "2_03",
          "2_04",
          "2_05",
          "2_06",
          "2_07",
          "2_08",
          "2_09",
          "2_10",
          "2_11",
          "2_12",
          "2_13",
          "2_14",
          "2_15",
          "2_16",
          "2_17",
          "2_18",
          "2_19",
          "2_20",
          "2_21",
          "2_22",
          "2_23",
          "2_24",
          "2_25",
          "2_26",
          "2_27",
          "2_28",
          "2_29",
          "2_30"
         ],
         "xaxis": "x",
         "y": [
          4,
          4,
          4,
          8,
          7,
          7,
          10,
          11,
          10,
          15,
          13,
          13,
          18,
          17,
          17,
          20,
          20,
          18,
          24,
          22,
          24,
          28,
          26,
          28,
          28,
          30,
          31,
          35,
          32,
          32,
          59,
          67,
          76,
          80,
          83,
          88,
          96,
          null,
          105,
          107,
          null,
          123,
          124,
          null,
          137,
          null,
          null,
          null,
          157,
          161,
          null,
          null,
          null,
          null,
          null,
          null,
          null,
          null,
          null,
          null,
          156,
          null,
          null,
          null,
          null,
          null,
          null,
          null,
          null,
          null,
          null,
          null,
          null,
          null,
          null,
          null,
          null,
          null,
          null,
          null,
          null,
          null,
          null,
          null,
          null,
          null,
          null,
          null,
          null,
          null
         ],
         "yaxis": "y"
        }
       ],
       "layout": {
        "legend": {
         "title": {
          "text": "solver"
         },
         "tracegroupgap": 0
        },
        "margin": {
         "t": 60
        },
        "template": {
         "data": {
          "bar": [
           {
            "error_x": {
             "color": "#2a3f5f"
            },
            "error_y": {
             "color": "#2a3f5f"
            },
            "marker": {
             "line": {
              "color": "#E5ECF6",
              "width": 0.5
             },
             "pattern": {
              "fillmode": "overlay",
              "size": 10,
              "solidity": 0.2
             }
            },
            "type": "bar"
           }
          ],
          "barpolar": [
           {
            "marker": {
             "line": {
              "color": "#E5ECF6",
              "width": 0.5
             },
             "pattern": {
              "fillmode": "overlay",
              "size": 10,
              "solidity": 0.2
             }
            },
            "type": "barpolar"
           }
          ],
          "carpet": [
           {
            "aaxis": {
             "endlinecolor": "#2a3f5f",
             "gridcolor": "white",
             "linecolor": "white",
             "minorgridcolor": "white",
             "startlinecolor": "#2a3f5f"
            },
            "baxis": {
             "endlinecolor": "#2a3f5f",
             "gridcolor": "white",
             "linecolor": "white",
             "minorgridcolor": "white",
             "startlinecolor": "#2a3f5f"
            },
            "type": "carpet"
           }
          ],
          "choropleth": [
           {
            "colorbar": {
             "outlinewidth": 0,
             "ticks": ""
            },
            "type": "choropleth"
           }
          ],
          "contour": [
           {
            "colorbar": {
             "outlinewidth": 0,
             "ticks": ""
            },
            "colorscale": [
             [
              0,
              "#0d0887"
             ],
             [
              0.1111111111111111,
              "#46039f"
             ],
             [
              0.2222222222222222,
              "#7201a8"
             ],
             [
              0.3333333333333333,
              "#9c179e"
             ],
             [
              0.4444444444444444,
              "#bd3786"
             ],
             [
              0.5555555555555556,
              "#d8576b"
             ],
             [
              0.6666666666666666,
              "#ed7953"
             ],
             [
              0.7777777777777778,
              "#fb9f3a"
             ],
             [
              0.8888888888888888,
              "#fdca26"
             ],
             [
              1,
              "#f0f921"
             ]
            ],
            "type": "contour"
           }
          ],
          "contourcarpet": [
           {
            "colorbar": {
             "outlinewidth": 0,
             "ticks": ""
            },
            "type": "contourcarpet"
           }
          ],
          "heatmap": [
           {
            "colorbar": {
             "outlinewidth": 0,
             "ticks": ""
            },
            "colorscale": [
             [
              0,
              "#0d0887"
             ],
             [
              0.1111111111111111,
              "#46039f"
             ],
             [
              0.2222222222222222,
              "#7201a8"
             ],
             [
              0.3333333333333333,
              "#9c179e"
             ],
             [
              0.4444444444444444,
              "#bd3786"
             ],
             [
              0.5555555555555556,
              "#d8576b"
             ],
             [
              0.6666666666666666,
              "#ed7953"
             ],
             [
              0.7777777777777778,
              "#fb9f3a"
             ],
             [
              0.8888888888888888,
              "#fdca26"
             ],
             [
              1,
              "#f0f921"
             ]
            ],
            "type": "heatmap"
           }
          ],
          "heatmapgl": [
           {
            "colorbar": {
             "outlinewidth": 0,
             "ticks": ""
            },
            "colorscale": [
             [
              0,
              "#0d0887"
             ],
             [
              0.1111111111111111,
              "#46039f"
             ],
             [
              0.2222222222222222,
              "#7201a8"
             ],
             [
              0.3333333333333333,
              "#9c179e"
             ],
             [
              0.4444444444444444,
              "#bd3786"
             ],
             [
              0.5555555555555556,
              "#d8576b"
             ],
             [
              0.6666666666666666,
              "#ed7953"
             ],
             [
              0.7777777777777778,
              "#fb9f3a"
             ],
             [
              0.8888888888888888,
              "#fdca26"
             ],
             [
              1,
              "#f0f921"
             ]
            ],
            "type": "heatmapgl"
           }
          ],
          "histogram": [
           {
            "marker": {
             "pattern": {
              "fillmode": "overlay",
              "size": 10,
              "solidity": 0.2
             }
            },
            "type": "histogram"
           }
          ],
          "histogram2d": [
           {
            "colorbar": {
             "outlinewidth": 0,
             "ticks": ""
            },
            "colorscale": [
             [
              0,
              "#0d0887"
             ],
             [
              0.1111111111111111,
              "#46039f"
             ],
             [
              0.2222222222222222,
              "#7201a8"
             ],
             [
              0.3333333333333333,
              "#9c179e"
             ],
             [
              0.4444444444444444,
              "#bd3786"
             ],
             [
              0.5555555555555556,
              "#d8576b"
             ],
             [
              0.6666666666666666,
              "#ed7953"
             ],
             [
              0.7777777777777778,
              "#fb9f3a"
             ],
             [
              0.8888888888888888,
              "#fdca26"
             ],
             [
              1,
              "#f0f921"
             ]
            ],
            "type": "histogram2d"
           }
          ],
          "histogram2dcontour": [
           {
            "colorbar": {
             "outlinewidth": 0,
             "ticks": ""
            },
            "colorscale": [
             [
              0,
              "#0d0887"
             ],
             [
              0.1111111111111111,
              "#46039f"
             ],
             [
              0.2222222222222222,
              "#7201a8"
             ],
             [
              0.3333333333333333,
              "#9c179e"
             ],
             [
              0.4444444444444444,
              "#bd3786"
             ],
             [
              0.5555555555555556,
              "#d8576b"
             ],
             [
              0.6666666666666666,
              "#ed7953"
             ],
             [
              0.7777777777777778,
              "#fb9f3a"
             ],
             [
              0.8888888888888888,
              "#fdca26"
             ],
             [
              1,
              "#f0f921"
             ]
            ],
            "type": "histogram2dcontour"
           }
          ],
          "mesh3d": [
           {
            "colorbar": {
             "outlinewidth": 0,
             "ticks": ""
            },
            "type": "mesh3d"
           }
          ],
          "parcoords": [
           {
            "line": {
             "colorbar": {
              "outlinewidth": 0,
              "ticks": ""
             }
            },
            "type": "parcoords"
           }
          ],
          "pie": [
           {
            "automargin": true,
            "type": "pie"
           }
          ],
          "scatter": [
           {
            "fillpattern": {
             "fillmode": "overlay",
             "size": 10,
             "solidity": 0.2
            },
            "type": "scatter"
           }
          ],
          "scatter3d": [
           {
            "line": {
             "colorbar": {
              "outlinewidth": 0,
              "ticks": ""
             }
            },
            "marker": {
             "colorbar": {
              "outlinewidth": 0,
              "ticks": ""
             }
            },
            "type": "scatter3d"
           }
          ],
          "scattercarpet": [
           {
            "marker": {
             "colorbar": {
              "outlinewidth": 0,
              "ticks": ""
             }
            },
            "type": "scattercarpet"
           }
          ],
          "scattergeo": [
           {
            "marker": {
             "colorbar": {
              "outlinewidth": 0,
              "ticks": ""
             }
            },
            "type": "scattergeo"
           }
          ],
          "scattergl": [
           {
            "marker": {
             "colorbar": {
              "outlinewidth": 0,
              "ticks": ""
             }
            },
            "type": "scattergl"
           }
          ],
          "scattermapbox": [
           {
            "marker": {
             "colorbar": {
              "outlinewidth": 0,
              "ticks": ""
             }
            },
            "type": "scattermapbox"
           }
          ],
          "scatterpolar": [
           {
            "marker": {
             "colorbar": {
              "outlinewidth": 0,
              "ticks": ""
             }
            },
            "type": "scatterpolar"
           }
          ],
          "scatterpolargl": [
           {
            "marker": {
             "colorbar": {
              "outlinewidth": 0,
              "ticks": ""
             }
            },
            "type": "scatterpolargl"
           }
          ],
          "scatterternary": [
           {
            "marker": {
             "colorbar": {
              "outlinewidth": 0,
              "ticks": ""
             }
            },
            "type": "scatterternary"
           }
          ],
          "surface": [
           {
            "colorbar": {
             "outlinewidth": 0,
             "ticks": ""
            },
            "colorscale": [
             [
              0,
              "#0d0887"
             ],
             [
              0.1111111111111111,
              "#46039f"
             ],
             [
              0.2222222222222222,
              "#7201a8"
             ],
             [
              0.3333333333333333,
              "#9c179e"
             ],
             [
              0.4444444444444444,
              "#bd3786"
             ],
             [
              0.5555555555555556,
              "#d8576b"
             ],
             [
              0.6666666666666666,
              "#ed7953"
             ],
             [
              0.7777777777777778,
              "#fb9f3a"
             ],
             [
              0.8888888888888888,
              "#fdca26"
             ],
             [
              1,
              "#f0f921"
             ]
            ],
            "type": "surface"
           }
          ],
          "table": [
           {
            "cells": {
             "fill": {
              "color": "#EBF0F8"
             },
             "line": {
              "color": "white"
             }
            },
            "header": {
             "fill": {
              "color": "#C8D4E3"
             },
             "line": {
              "color": "white"
             }
            },
            "type": "table"
           }
          ]
         },
         "layout": {
          "annotationdefaults": {
           "arrowcolor": "#2a3f5f",
           "arrowhead": 0,
           "arrowwidth": 1
          },
          "autotypenumbers": "strict",
          "coloraxis": {
           "colorbar": {
            "outlinewidth": 0,
            "ticks": ""
           }
          },
          "colorscale": {
           "diverging": [
            [
             0,
             "#8e0152"
            ],
            [
             0.1,
             "#c51b7d"
            ],
            [
             0.2,
             "#de77ae"
            ],
            [
             0.3,
             "#f1b6da"
            ],
            [
             0.4,
             "#fde0ef"
            ],
            [
             0.5,
             "#f7f7f7"
            ],
            [
             0.6,
             "#e6f5d0"
            ],
            [
             0.7,
             "#b8e186"
            ],
            [
             0.8,
             "#7fbc41"
            ],
            [
             0.9,
             "#4d9221"
            ],
            [
             1,
             "#276419"
            ]
           ],
           "sequential": [
            [
             0,
             "#0d0887"
            ],
            [
             0.1111111111111111,
             "#46039f"
            ],
            [
             0.2222222222222222,
             "#7201a8"
            ],
            [
             0.3333333333333333,
             "#9c179e"
            ],
            [
             0.4444444444444444,
             "#bd3786"
            ],
            [
             0.5555555555555556,
             "#d8576b"
            ],
            [
             0.6666666666666666,
             "#ed7953"
            ],
            [
             0.7777777777777778,
             "#fb9f3a"
            ],
            [
             0.8888888888888888,
             "#fdca26"
            ],
            [
             1,
             "#f0f921"
            ]
           ],
           "sequentialminus": [
            [
             0,
             "#0d0887"
            ],
            [
             0.1111111111111111,
             "#46039f"
            ],
            [
             0.2222222222222222,
             "#7201a8"
            ],
            [
             0.3333333333333333,
             "#9c179e"
            ],
            [
             0.4444444444444444,
             "#bd3786"
            ],
            [
             0.5555555555555556,
             "#d8576b"
            ],
            [
             0.6666666666666666,
             "#ed7953"
            ],
            [
             0.7777777777777778,
             "#fb9f3a"
            ],
            [
             0.8888888888888888,
             "#fdca26"
            ],
            [
             1,
             "#f0f921"
            ]
           ]
          },
          "colorway": [
           "#636efa",
           "#EF553B",
           "#00cc96",
           "#ab63fa",
           "#FFA15A",
           "#19d3f3",
           "#FF6692",
           "#B6E880",
           "#FF97FF",
           "#FECB52"
          ],
          "font": {
           "color": "#2a3f5f"
          },
          "geo": {
           "bgcolor": "white",
           "lakecolor": "white",
           "landcolor": "#E5ECF6",
           "showlakes": true,
           "showland": true,
           "subunitcolor": "white"
          },
          "hoverlabel": {
           "align": "left"
          },
          "hovermode": "closest",
          "mapbox": {
           "style": "light"
          },
          "paper_bgcolor": "white",
          "plot_bgcolor": "#E5ECF6",
          "polar": {
           "angularaxis": {
            "gridcolor": "white",
            "linecolor": "white",
            "ticks": ""
           },
           "bgcolor": "#E5ECF6",
           "radialaxis": {
            "gridcolor": "white",
            "linecolor": "white",
            "ticks": ""
           }
          },
          "scene": {
           "xaxis": {
            "backgroundcolor": "#E5ECF6",
            "gridcolor": "white",
            "gridwidth": 2,
            "linecolor": "white",
            "showbackground": true,
            "ticks": "",
            "zerolinecolor": "white"
           },
           "yaxis": {
            "backgroundcolor": "#E5ECF6",
            "gridcolor": "white",
            "gridwidth": 2,
            "linecolor": "white",
            "showbackground": true,
            "ticks": "",
            "zerolinecolor": "white"
           },
           "zaxis": {
            "backgroundcolor": "#E5ECF6",
            "gridcolor": "white",
            "gridwidth": 2,
            "linecolor": "white",
            "showbackground": true,
            "ticks": "",
            "zerolinecolor": "white"
           }
          },
          "shapedefaults": {
           "line": {
            "color": "#2a3f5f"
           }
          },
          "ternary": {
           "aaxis": {
            "gridcolor": "white",
            "linecolor": "white",
            "ticks": ""
           },
           "baxis": {
            "gridcolor": "white",
            "linecolor": "white",
            "ticks": ""
           },
           "bgcolor": "#E5ECF6",
           "caxis": {
            "gridcolor": "white",
            "linecolor": "white",
            "ticks": ""
           }
          },
          "title": {
           "x": 0.05
          },
          "xaxis": {
           "automargin": true,
           "gridcolor": "white",
           "linecolor": "white",
           "ticks": "",
           "title": {
            "standoff": 15
           },
           "zerolinecolor": "white",
           "zerolinewidth": 2
          },
          "yaxis": {
           "automargin": true,
           "gridcolor": "white",
           "linecolor": "white",
           "ticks": "",
           "title": {
            "standoff": 15
           },
           "zerolinecolor": "white",
           "zerolinewidth": 2
          }
         }
        },
        "xaxis": {
         "anchor": "y",
         "domain": [
          0,
          1
         ],
         "title": {
          "text": "problem"
         }
        },
        "yaxis": {
         "anchor": "x",
         "domain": [
          0,
          1
         ],
         "title": {
          "text": "plan_length_mean"
         }
        }
       }
      }
     },
     "metadata": {},
     "output_type": "display_data"
    },
    {
     "name": "stdout",
     "output_type": "stream",
     "text": [
      "satellite\n"
     ]
    },
    {
     "data": {
      "application/vnd.plotly.v1+json": {
       "config": {
        "plotlyServerURL": "https://plot.ly"
       },
       "data": [
        {
         "error_y": {
          "array": [
           0.42163702135578424,
           0.5163977794943223,
           0,
           0,
           0,
           0.48304589153964805,
           0,
           1.8257418583505538,
           0,
           1.0137937550497031,
           3.3040379335998344,
           0.7559289460184544,
           1.6431676725154984,
           0,
           2.2253945610567483,
           0,
           3.0840089349921005,
           0.5477225575051664,
           3.4560735588879523,
           2.948970764763289,
           2.0027758514399725,
           0,
           1.9235384061671346,
           0.42163702135578357,
           0.48795003647426644,
           5.634713834792322,
           3.5321651258386106,
           2.8751811537130423,
           3.5355339059327378,
           3.32665998663324,
           12.341888924399791,
           4.67142614436129,
           0,
           2.4244128727957572,
           0.6324555320336763,
           2.242270674512285,
           5.317685377847941,
           2.8284271247461903,
           6.815831244650616,
           4.358898943540674,
           15.218409903797435,
           0.8755950357709165,
           8.602325267042627,
           9.388442743227289,
           3.3911649915626345,
           8.866917289691054,
           3.4880749227427246,
           4.928053803045812,
           14.819549507965739,
           14.988884770611412,
           3.08220700148449,
           21.266562173202008,
           5.380741673076392,
           11.2305387226081,
           5.991660871578096,
           12.327025413925114,
           21.352855650812714,
           12.34908903522847,
           19.179705709710746,
           1.5735915849388848,
           22.711719930956807,
           1.0327955589886422,
           6.696599468718769,
           29.572697618655692,
           10.115993936995677,
           13.360389215887386,
           9.261029460414575,
           22.806249143600972,
           21.376778678432032,
           72.52339524003862,
           10.643725329455332,
           11.683321445547925,
           11.856282240712252,
           9.953223933312596,
           23.599838578947544,
           29.50423698386386,
           null,
           10.099504938362077,
           6.271629240742261,
           15.78184611085365,
           13.403979508588739,
           8.961026726887942,
           38.18727349710708,
           41.315453121884865,
           39.61360997483181,
           90.27384264927836,
           50.00966573240284,
           12.070625501605127,
           34.62537605090616,
           40.45614909998232
          ]
         },
         "hovertemplate": "solver=baseline<br>problem=%{x}<br>plan_length_mean=%{y}<extra></extra>",
         "legendgroup": "baseline",
         "marker": {
          "color": "#636efa",
          "symbol": "circle"
         },
         "mode": "markers",
         "name": "baseline",
         "orientation": "v",
         "showlegend": true,
         "type": "scatter",
         "x": [
          "0_01",
          "0_02",
          "0_03",
          "0_04",
          "0_05",
          "0_06",
          "0_07",
          "0_08",
          "0_09",
          "0_10",
          "0_11",
          "0_12",
          "0_13",
          "0_14",
          "0_15",
          "0_16",
          "0_17",
          "0_18",
          "0_19",
          "0_20",
          "0_21",
          "0_22",
          "0_23",
          "0_24",
          "0_25",
          "0_26",
          "0_27",
          "0_28",
          "0_29",
          "0_30",
          "1_01",
          "1_02",
          "1_03",
          "1_04",
          "1_05",
          "1_06",
          "1_07",
          "1_08",
          "1_09",
          "1_10",
          "1_11",
          "1_12",
          "1_13",
          "1_14",
          "1_15",
          "1_16",
          "1_17",
          "1_18",
          "1_19",
          "1_20",
          "1_21",
          "1_22",
          "1_23",
          "1_24",
          "1_25",
          "1_26",
          "1_27",
          "1_28",
          "1_29",
          "1_30",
          "2_01",
          "2_02",
          "2_03",
          "2_04",
          "2_05",
          "2_06",
          "2_07",
          "2_08",
          "2_09",
          "2_10",
          "2_11",
          "2_12",
          "2_13",
          "2_14",
          "2_15",
          "2_16",
          "2_17",
          "2_18",
          "2_19",
          "2_20",
          "2_21",
          "2_22",
          "2_23",
          "2_24",
          "2_25",
          "2_26",
          "2_27",
          "2_28",
          "2_29",
          "2_30"
         ],
         "xaxis": "x",
         "y": [
          5.8,
          10.4,
          10,
          7,
          12,
          13.7,
          13,
          13,
          13,
          12.555555555555555,
          25.75,
          16.5,
          14.2,
          23,
          21.571428571428573,
          27,
          29.8,
          17.5,
          36.22222222222222,
          45.125,
          43.7,
          37,
          28.8,
          17.8,
          37.285714285714285,
          59.666666666666664,
          48.857142857142854,
          49.666666666666664,
          23.5,
          40.333333333333336,
          87.1,
          89.6,
          74,
          100.1,
          80.8,
          88.44444444444444,
          101.5,
          34,
          85.7,
          47,
          163.6,
          109.9,
          140,
          135.85714285714286,
          52.5,
          155.2,
          93.83333333333333,
          64.57142857142857,
          155.57142857142858,
          213,
          175.33333333333334,
          176.33333333333334,
          87.42857142857143,
          218.875,
          106.5,
          207.8,
          253.77777777777777,
          73,
          259.1111111111111,
          119.14285714285714,
          369.4,
          367.8,
          260.2,
          380.1,
          125.33333333333333,
          359.5,
          125.83333333333333,
          421.875,
          407.1666666666667,
          593.75,
          489.8,
          335.25,
          467.7142857142857,
          422.8,
          491.57142857142856,
          465.25,
          230,
          296,
          428,
          362.6666666666667,
          388.5,
          424.6,
          853.375,
          698.1666666666666,
          750.7142857142857,
          1253.1666666666667,
          1110.8333333333333,
          537.8,
          670.75,
          1003.2
         ],
         "yaxis": "y"
        },
        {
         "error_y": {
          "array": [
           null,
           null,
           null,
           null,
           null,
           null,
           null,
           null
          ]
         },
         "hovertemplate": "solver=scorpion<br>problem=%{x}<br>plan_length_mean=%{y}<extra></extra>",
         "legendgroup": "scorpion",
         "marker": {
          "color": "#EF553B",
          "symbol": "circle"
         },
         "mode": "markers",
         "name": "scorpion",
         "orientation": "v",
         "showlegend": true,
         "type": "scatter",
         "x": [
          "0_01",
          "0_02",
          "0_03",
          "1_01",
          "1_02",
          "1_03",
          "2_01",
          "2_02"
         ],
         "xaxis": "x",
         "y": [
          4,
          8,
          8,
          null,
          null,
          null,
          null,
          null
         ],
         "yaxis": "y"
        }
       ],
       "layout": {
        "legend": {
         "title": {
          "text": "solver"
         },
         "tracegroupgap": 0
        },
        "margin": {
         "t": 60
        },
        "template": {
         "data": {
          "bar": [
           {
            "error_x": {
             "color": "#2a3f5f"
            },
            "error_y": {
             "color": "#2a3f5f"
            },
            "marker": {
             "line": {
              "color": "#E5ECF6",
              "width": 0.5
             },
             "pattern": {
              "fillmode": "overlay",
              "size": 10,
              "solidity": 0.2
             }
            },
            "type": "bar"
           }
          ],
          "barpolar": [
           {
            "marker": {
             "line": {
              "color": "#E5ECF6",
              "width": 0.5
             },
             "pattern": {
              "fillmode": "overlay",
              "size": 10,
              "solidity": 0.2
             }
            },
            "type": "barpolar"
           }
          ],
          "carpet": [
           {
            "aaxis": {
             "endlinecolor": "#2a3f5f",
             "gridcolor": "white",
             "linecolor": "white",
             "minorgridcolor": "white",
             "startlinecolor": "#2a3f5f"
            },
            "baxis": {
             "endlinecolor": "#2a3f5f",
             "gridcolor": "white",
             "linecolor": "white",
             "minorgridcolor": "white",
             "startlinecolor": "#2a3f5f"
            },
            "type": "carpet"
           }
          ],
          "choropleth": [
           {
            "colorbar": {
             "outlinewidth": 0,
             "ticks": ""
            },
            "type": "choropleth"
           }
          ],
          "contour": [
           {
            "colorbar": {
             "outlinewidth": 0,
             "ticks": ""
            },
            "colorscale": [
             [
              0,
              "#0d0887"
             ],
             [
              0.1111111111111111,
              "#46039f"
             ],
             [
              0.2222222222222222,
              "#7201a8"
             ],
             [
              0.3333333333333333,
              "#9c179e"
             ],
             [
              0.4444444444444444,
              "#bd3786"
             ],
             [
              0.5555555555555556,
              "#d8576b"
             ],
             [
              0.6666666666666666,
              "#ed7953"
             ],
             [
              0.7777777777777778,
              "#fb9f3a"
             ],
             [
              0.8888888888888888,
              "#fdca26"
             ],
             [
              1,
              "#f0f921"
             ]
            ],
            "type": "contour"
           }
          ],
          "contourcarpet": [
           {
            "colorbar": {
             "outlinewidth": 0,
             "ticks": ""
            },
            "type": "contourcarpet"
           }
          ],
          "heatmap": [
           {
            "colorbar": {
             "outlinewidth": 0,
             "ticks": ""
            },
            "colorscale": [
             [
              0,
              "#0d0887"
             ],
             [
              0.1111111111111111,
              "#46039f"
             ],
             [
              0.2222222222222222,
              "#7201a8"
             ],
             [
              0.3333333333333333,
              "#9c179e"
             ],
             [
              0.4444444444444444,
              "#bd3786"
             ],
             [
              0.5555555555555556,
              "#d8576b"
             ],
             [
              0.6666666666666666,
              "#ed7953"
             ],
             [
              0.7777777777777778,
              "#fb9f3a"
             ],
             [
              0.8888888888888888,
              "#fdca26"
             ],
             [
              1,
              "#f0f921"
             ]
            ],
            "type": "heatmap"
           }
          ],
          "heatmapgl": [
           {
            "colorbar": {
             "outlinewidth": 0,
             "ticks": ""
            },
            "colorscale": [
             [
              0,
              "#0d0887"
             ],
             [
              0.1111111111111111,
              "#46039f"
             ],
             [
              0.2222222222222222,
              "#7201a8"
             ],
             [
              0.3333333333333333,
              "#9c179e"
             ],
             [
              0.4444444444444444,
              "#bd3786"
             ],
             [
              0.5555555555555556,
              "#d8576b"
             ],
             [
              0.6666666666666666,
              "#ed7953"
             ],
             [
              0.7777777777777778,
              "#fb9f3a"
             ],
             [
              0.8888888888888888,
              "#fdca26"
             ],
             [
              1,
              "#f0f921"
             ]
            ],
            "type": "heatmapgl"
           }
          ],
          "histogram": [
           {
            "marker": {
             "pattern": {
              "fillmode": "overlay",
              "size": 10,
              "solidity": 0.2
             }
            },
            "type": "histogram"
           }
          ],
          "histogram2d": [
           {
            "colorbar": {
             "outlinewidth": 0,
             "ticks": ""
            },
            "colorscale": [
             [
              0,
              "#0d0887"
             ],
             [
              0.1111111111111111,
              "#46039f"
             ],
             [
              0.2222222222222222,
              "#7201a8"
             ],
             [
              0.3333333333333333,
              "#9c179e"
             ],
             [
              0.4444444444444444,
              "#bd3786"
             ],
             [
              0.5555555555555556,
              "#d8576b"
             ],
             [
              0.6666666666666666,
              "#ed7953"
             ],
             [
              0.7777777777777778,
              "#fb9f3a"
             ],
             [
              0.8888888888888888,
              "#fdca26"
             ],
             [
              1,
              "#f0f921"
             ]
            ],
            "type": "histogram2d"
           }
          ],
          "histogram2dcontour": [
           {
            "colorbar": {
             "outlinewidth": 0,
             "ticks": ""
            },
            "colorscale": [
             [
              0,
              "#0d0887"
             ],
             [
              0.1111111111111111,
              "#46039f"
             ],
             [
              0.2222222222222222,
              "#7201a8"
             ],
             [
              0.3333333333333333,
              "#9c179e"
             ],
             [
              0.4444444444444444,
              "#bd3786"
             ],
             [
              0.5555555555555556,
              "#d8576b"
             ],
             [
              0.6666666666666666,
              "#ed7953"
             ],
             [
              0.7777777777777778,
              "#fb9f3a"
             ],
             [
              0.8888888888888888,
              "#fdca26"
             ],
             [
              1,
              "#f0f921"
             ]
            ],
            "type": "histogram2dcontour"
           }
          ],
          "mesh3d": [
           {
            "colorbar": {
             "outlinewidth": 0,
             "ticks": ""
            },
            "type": "mesh3d"
           }
          ],
          "parcoords": [
           {
            "line": {
             "colorbar": {
              "outlinewidth": 0,
              "ticks": ""
             }
            },
            "type": "parcoords"
           }
          ],
          "pie": [
           {
            "automargin": true,
            "type": "pie"
           }
          ],
          "scatter": [
           {
            "fillpattern": {
             "fillmode": "overlay",
             "size": 10,
             "solidity": 0.2
            },
            "type": "scatter"
           }
          ],
          "scatter3d": [
           {
            "line": {
             "colorbar": {
              "outlinewidth": 0,
              "ticks": ""
             }
            },
            "marker": {
             "colorbar": {
              "outlinewidth": 0,
              "ticks": ""
             }
            },
            "type": "scatter3d"
           }
          ],
          "scattercarpet": [
           {
            "marker": {
             "colorbar": {
              "outlinewidth": 0,
              "ticks": ""
             }
            },
            "type": "scattercarpet"
           }
          ],
          "scattergeo": [
           {
            "marker": {
             "colorbar": {
              "outlinewidth": 0,
              "ticks": ""
             }
            },
            "type": "scattergeo"
           }
          ],
          "scattergl": [
           {
            "marker": {
             "colorbar": {
              "outlinewidth": 0,
              "ticks": ""
             }
            },
            "type": "scattergl"
           }
          ],
          "scattermapbox": [
           {
            "marker": {
             "colorbar": {
              "outlinewidth": 0,
              "ticks": ""
             }
            },
            "type": "scattermapbox"
           }
          ],
          "scatterpolar": [
           {
            "marker": {
             "colorbar": {
              "outlinewidth": 0,
              "ticks": ""
             }
            },
            "type": "scatterpolar"
           }
          ],
          "scatterpolargl": [
           {
            "marker": {
             "colorbar": {
              "outlinewidth": 0,
              "ticks": ""
             }
            },
            "type": "scatterpolargl"
           }
          ],
          "scatterternary": [
           {
            "marker": {
             "colorbar": {
              "outlinewidth": 0,
              "ticks": ""
             }
            },
            "type": "scatterternary"
           }
          ],
          "surface": [
           {
            "colorbar": {
             "outlinewidth": 0,
             "ticks": ""
            },
            "colorscale": [
             [
              0,
              "#0d0887"
             ],
             [
              0.1111111111111111,
              "#46039f"
             ],
             [
              0.2222222222222222,
              "#7201a8"
             ],
             [
              0.3333333333333333,
              "#9c179e"
             ],
             [
              0.4444444444444444,
              "#bd3786"
             ],
             [
              0.5555555555555556,
              "#d8576b"
             ],
             [
              0.6666666666666666,
              "#ed7953"
             ],
             [
              0.7777777777777778,
              "#fb9f3a"
             ],
             [
              0.8888888888888888,
              "#fdca26"
             ],
             [
              1,
              "#f0f921"
             ]
            ],
            "type": "surface"
           }
          ],
          "table": [
           {
            "cells": {
             "fill": {
              "color": "#EBF0F8"
             },
             "line": {
              "color": "white"
             }
            },
            "header": {
             "fill": {
              "color": "#C8D4E3"
             },
             "line": {
              "color": "white"
             }
            },
            "type": "table"
           }
          ]
         },
         "layout": {
          "annotationdefaults": {
           "arrowcolor": "#2a3f5f",
           "arrowhead": 0,
           "arrowwidth": 1
          },
          "autotypenumbers": "strict",
          "coloraxis": {
           "colorbar": {
            "outlinewidth": 0,
            "ticks": ""
           }
          },
          "colorscale": {
           "diverging": [
            [
             0,
             "#8e0152"
            ],
            [
             0.1,
             "#c51b7d"
            ],
            [
             0.2,
             "#de77ae"
            ],
            [
             0.3,
             "#f1b6da"
            ],
            [
             0.4,
             "#fde0ef"
            ],
            [
             0.5,
             "#f7f7f7"
            ],
            [
             0.6,
             "#e6f5d0"
            ],
            [
             0.7,
             "#b8e186"
            ],
            [
             0.8,
             "#7fbc41"
            ],
            [
             0.9,
             "#4d9221"
            ],
            [
             1,
             "#276419"
            ]
           ],
           "sequential": [
            [
             0,
             "#0d0887"
            ],
            [
             0.1111111111111111,
             "#46039f"
            ],
            [
             0.2222222222222222,
             "#7201a8"
            ],
            [
             0.3333333333333333,
             "#9c179e"
            ],
            [
             0.4444444444444444,
             "#bd3786"
            ],
            [
             0.5555555555555556,
             "#d8576b"
            ],
            [
             0.6666666666666666,
             "#ed7953"
            ],
            [
             0.7777777777777778,
             "#fb9f3a"
            ],
            [
             0.8888888888888888,
             "#fdca26"
            ],
            [
             1,
             "#f0f921"
            ]
           ],
           "sequentialminus": [
            [
             0,
             "#0d0887"
            ],
            [
             0.1111111111111111,
             "#46039f"
            ],
            [
             0.2222222222222222,
             "#7201a8"
            ],
            [
             0.3333333333333333,
             "#9c179e"
            ],
            [
             0.4444444444444444,
             "#bd3786"
            ],
            [
             0.5555555555555556,
             "#d8576b"
            ],
            [
             0.6666666666666666,
             "#ed7953"
            ],
            [
             0.7777777777777778,
             "#fb9f3a"
            ],
            [
             0.8888888888888888,
             "#fdca26"
            ],
            [
             1,
             "#f0f921"
            ]
           ]
          },
          "colorway": [
           "#636efa",
           "#EF553B",
           "#00cc96",
           "#ab63fa",
           "#FFA15A",
           "#19d3f3",
           "#FF6692",
           "#B6E880",
           "#FF97FF",
           "#FECB52"
          ],
          "font": {
           "color": "#2a3f5f"
          },
          "geo": {
           "bgcolor": "white",
           "lakecolor": "white",
           "landcolor": "#E5ECF6",
           "showlakes": true,
           "showland": true,
           "subunitcolor": "white"
          },
          "hoverlabel": {
           "align": "left"
          },
          "hovermode": "closest",
          "mapbox": {
           "style": "light"
          },
          "paper_bgcolor": "white",
          "plot_bgcolor": "#E5ECF6",
          "polar": {
           "angularaxis": {
            "gridcolor": "white",
            "linecolor": "white",
            "ticks": ""
           },
           "bgcolor": "#E5ECF6",
           "radialaxis": {
            "gridcolor": "white",
            "linecolor": "white",
            "ticks": ""
           }
          },
          "scene": {
           "xaxis": {
            "backgroundcolor": "#E5ECF6",
            "gridcolor": "white",
            "gridwidth": 2,
            "linecolor": "white",
            "showbackground": true,
            "ticks": "",
            "zerolinecolor": "white"
           },
           "yaxis": {
            "backgroundcolor": "#E5ECF6",
            "gridcolor": "white",
            "gridwidth": 2,
            "linecolor": "white",
            "showbackground": true,
            "ticks": "",
            "zerolinecolor": "white"
           },
           "zaxis": {
            "backgroundcolor": "#E5ECF6",
            "gridcolor": "white",
            "gridwidth": 2,
            "linecolor": "white",
            "showbackground": true,
            "ticks": "",
            "zerolinecolor": "white"
           }
          },
          "shapedefaults": {
           "line": {
            "color": "#2a3f5f"
           }
          },
          "ternary": {
           "aaxis": {
            "gridcolor": "white",
            "linecolor": "white",
            "ticks": ""
           },
           "baxis": {
            "gridcolor": "white",
            "linecolor": "white",
            "ticks": ""
           },
           "bgcolor": "#E5ECF6",
           "caxis": {
            "gridcolor": "white",
            "linecolor": "white",
            "ticks": ""
           }
          },
          "title": {
           "x": 0.05
          },
          "xaxis": {
           "automargin": true,
           "gridcolor": "white",
           "linecolor": "white",
           "ticks": "",
           "title": {
            "standoff": 15
           },
           "zerolinecolor": "white",
           "zerolinewidth": 2
          },
          "yaxis": {
           "automargin": true,
           "gridcolor": "white",
           "linecolor": "white",
           "ticks": "",
           "title": {
            "standoff": 15
           },
           "zerolinecolor": "white",
           "zerolinewidth": 2
          }
         }
        },
        "xaxis": {
         "anchor": "y",
         "domain": [
          0,
          1
         ],
         "title": {
          "text": "problem"
         }
        },
        "yaxis": {
         "anchor": "x",
         "domain": [
          0,
          1
         ],
         "title": {
          "text": "plan_length_mean"
         }
        }
       }
      }
     },
     "metadata": {},
     "output_type": "display_data"
    },
    {
     "name": "stdout",
     "output_type": "stream",
     "text": [
      "transport\n"
     ]
    },
    {
     "data": {
      "application/vnd.plotly.v1+json": {
       "config": {
        "plotlyServerURL": "https://plot.ly"
       },
       "data": [
        {
         "error_y": {
          "array": [
           0,
           1.837873166945363,
           7.024560089033651,
           4.880801391392834,
           28.720105230385983,
           11.09754727656321,
           10.338708279513881,
           28.064212085857672,
           16.3149556474352,
           18.534052743831047,
           19.754324421081414,
           48.125299421867965,
           37.6864254960147,
           78.93464244409915,
           17.181708620248195,
           54.950887162993105,
           40.59898739842877,
           97.97369261411168,
           55.42171656189174,
           39.3233038060413,
           36.8391398138206,
           26.807130063142196,
           55.126118028470756,
           100.82437976777024,
           57.36278313409217,
           118.84448288040598,
           185.87226796916212,
           38.90172803931008,
           64.12704404366208,
           53.36915463698734,
           55.8331840794025,
           62.11682541791717,
           111.9652723938196,
           95.99102967349488,
           291.202201609504,
           41.54368517329412,
           112.64541219636462,
           40.6415222812007,
           100.92180691560723,
           86.57052359524894,
           123.21368069784748,
           148.89672035788206,
           102.15978769663835,
           104.61299048291171,
           104.97835755790598,
           398.5629881907696,
           483.70134265772816,
           139.6459411830107,
           162.99792091380255,
           195.85890613171287,
           332.6652638580977,
           609.3897129277965,
           236.85863106737554,
           213.4252145886756,
           778.7154665073616,
           195.74033252699294,
           192.7291997711931,
           960.3912165825387,
           281.88344715108366,
           362.5894678865097,
           253.1948963852857,
           1035.8066153700918,
           351.4617886611415,
           916.3054803575789,
           265.6247143789314,
           448.7738356405769,
           599.4492750294502,
           376.8002123141652,
           779.443277103743,
           1390.887945802169,
           1067.3535756981166,
           1103.2332532656505,
           1151.5015456020062,
           575.7131712541892,
           861.4197260595118,
           888.56116528039,
           660.5925370453405,
           661.7840869783571,
           708.7255188795667,
           703.1361492943203,
           1024.522625963483,
           643.1341784018102,
           419.9083233278426,
           727.0806924498361,
           884.3582015062836,
           598.1847540685068,
           null,
           null,
           null,
           null
          ]
         },
         "hovertemplate": "solver=baseline<br>problem=%{x}<br>plan_length_mean=%{y}<extra></extra>",
         "legendgroup": "baseline",
         "marker": {
          "color": "#636efa",
          "symbol": "circle"
         },
         "mode": "markers",
         "name": "baseline",
         "orientation": "v",
         "showlegend": true,
         "type": "scatter",
         "x": [
          "0_01",
          "0_02",
          "0_03",
          "0_04",
          "0_05",
          "0_06",
          "0_07",
          "0_08",
          "0_09",
          "0_10",
          "0_11",
          "0_12",
          "0_13",
          "0_14",
          "0_15",
          "0_16",
          "0_17",
          "0_18",
          "0_19",
          "0_20",
          "0_21",
          "0_22",
          "0_23",
          "0_24",
          "0_25",
          "0_26",
          "0_27",
          "0_28",
          "0_29",
          "0_30",
          "1_01",
          "1_02",
          "1_03",
          "1_04",
          "1_05",
          "1_06",
          "1_07",
          "1_08",
          "1_09",
          "1_10",
          "1_11",
          "1_12",
          "1_13",
          "1_14",
          "1_15",
          "1_16",
          "1_17",
          "1_18",
          "1_19",
          "1_20",
          "1_21",
          "1_22",
          "1_23",
          "1_24",
          "1_25",
          "1_26",
          "1_27",
          "1_28",
          "1_29",
          "1_30",
          "2_01",
          "2_02",
          "2_03",
          "2_04",
          "2_05",
          "2_06",
          "2_07",
          "2_08",
          "2_09",
          "2_10",
          "2_11",
          "2_12",
          "2_13",
          "2_14",
          "2_15",
          "2_16",
          "2_17",
          "2_18",
          "2_19",
          "2_20",
          "2_21",
          "2_22",
          "2_23",
          "2_24",
          "2_25",
          "2_26",
          "2_27",
          "2_28",
          "2_29",
          "2_30"
         ],
         "xaxis": "x",
         "y": [
          3,
          5.6,
          18.3,
          10.4,
          50.8,
          35.4,
          33,
          48.6,
          60.2,
          59.8,
          70.3,
          98.6,
          93.6,
          169.7,
          79.1,
          155.4,
          144.5,
          193.2,
          195.3,
          128.9,
          184.3,
          114.2,
          216,
          339,
          183.4,
          224.7,
          418.5,
          215.7,
          256.5,
          213.6,
          189.3,
          162.5,
          257,
          230.5,
          498.5,
          262.1,
          331.1,
          389.2,
          591.1,
          495.3,
          437.5,
          570.7,
          515.2,
          581.1,
          599.7,
          1665.3,
          1754.1,
          662.1,
          808.1,
          827.4,
          1063.2,
          2718.4,
          1078.3,
          996.9,
          2489,
          1307.5,
          1220.9,
          2386.2,
          1435.5,
          1528.7,
          1069.9,
          2462.7,
          1794.5,
          2134.8,
          1956.6,
          2296.2,
          2834.9,
          2711.8,
          3011.4,
          5907.444444444444,
          3764.9,
          4137.5,
          6999.142857142857,
          4298.9,
          7126.222222222223,
          5315.5,
          5362.666666666667,
          5822.8,
          6418.111111111111,
          5793.222222222223,
          7318.888888888889,
          7050.285714285715,
          6855,
          7249.333333333333,
          8333.5,
          7861,
          null,
          null,
          9820,
          8688
         ],
         "yaxis": "y"
        },
        {
         "error_y": {
          "array": [
           0,
           0,
           5.656854249492381,
           5.656854249492381,
           2.1213203435596424,
           0,
           17.67766952966369,
           31.81980515339464,
           2.8284271247461903,
           10.606601717798213,
           33.23401871576773,
           62.22539674441618,
           10.606601717798213,
           19.79898987322333,
           2.8284271247461903,
           2.1213203435596424,
           68.58935777509511,
           83.43860018001261,
           284.2569260369921,
           52.32590180780452,
           null,
           660.642868727121,
           1691.3994205982217,
           1166.7261889578035,
           null,
           2284.662010013735,
           null,
           null,
           null,
           null,
           64.34671708797582,
           33.23401871576773,
           59.39696961966999,
           19.79898987322333,
           27.577164466275352,
           45.96194077712559,
           31.81980515339464,
           36.76955262170047,
           125.86500705120545,
           69.29646455628166,
           null,
           75.66042558696059,
           null,
           null,
           null,
           null,
           null,
           null,
           null,
           84.14570696119915,
           1197.8388873300114,
           null,
           null,
           null,
           779.2316728675754,
           200.11121907579295,
           82.73149339882606,
           null,
           null,
           null,
           1064.9028124669405,
           null,
           null,
           null,
           null,
           null,
           null,
           null,
           null,
           null,
           null,
           null,
           null,
           null,
           null,
           null
          ]
         },
         "hovertemplate": "solver=lrnn_1_1<br>problem=%{x}<br>plan_length_mean=%{y}<extra></extra>",
         "legendgroup": "lrnn_1_1",
         "marker": {
          "color": "#EF553B",
          "symbol": "circle"
         },
         "mode": "markers",
         "name": "lrnn_1_1",
         "orientation": "v",
         "showlegend": true,
         "type": "scatter",
         "x": [
          "0_01",
          "0_02",
          "0_03",
          "0_04",
          "0_05",
          "0_06",
          "0_07",
          "0_08",
          "0_09",
          "0_10",
          "0_11",
          "0_12",
          "0_13",
          "0_14",
          "0_15",
          "0_16",
          "0_17",
          "0_18",
          "0_19",
          "0_20",
          "0_21",
          "0_22",
          "0_23",
          "0_24",
          "0_25",
          "0_26",
          "0_27",
          "0_28",
          "0_29",
          "0_30",
          "1_01",
          "1_02",
          "1_03",
          "1_04",
          "1_05",
          "1_06",
          "1_07",
          "1_08",
          "1_09",
          "1_10",
          "1_11",
          "1_12",
          "1_13",
          "1_14",
          "1_15",
          "1_16",
          "1_17",
          "1_18",
          "1_19",
          "1_20",
          "1_21",
          "1_22",
          "1_23",
          "1_24",
          "1_25",
          "1_26",
          "1_27",
          "1_28",
          "1_29",
          "2_01",
          "2_02",
          "2_04",
          "2_05",
          "2_07",
          "2_08",
          "2_11",
          "2_14",
          "2_16",
          "2_17",
          "2_19",
          "2_20",
          "2_22",
          "2_23",
          "2_24",
          "2_26",
          "2_28"
         ],
         "xaxis": "x",
         "y": [
          3,
          6,
          12,
          12,
          46.5,
          28,
          35.5,
          38.5,
          67,
          47.5,
          92.5,
          84,
          141.5,
          184,
          91,
          132.5,
          238.5,
          211,
          1623,
          189,
          875,
          819,
          1615,
          1309,
          1487,
          2592.5,
          null,
          null,
          null,
          null,
          206.5,
          151.5,
          135,
          142,
          392.5,
          267.5,
          322.5,
          285,
          591,
          449,
          543,
          519.5,
          531,
          582,
          849,
          2424,
          2087,
          543,
          709,
          929.5,
          1979,
          2166,
          950,
          1376,
          1931,
          1213.5,
          1413.5,
          2950,
          1484,
          1107,
          2547,
          1550,
          null,
          null,
          null,
          null,
          null,
          null,
          null,
          null,
          null,
          null,
          null,
          null,
          null,
          null
         ],
         "yaxis": "y"
        },
        {
         "error_y": {
          "array": [
           null,
           null,
           null
          ]
         },
         "hovertemplate": "solver=lrnn_2_1<br>problem=%{x}<br>plan_length_mean=%{y}<extra></extra>",
         "legendgroup": "lrnn_2_1",
         "marker": {
          "color": "#00cc96",
          "symbol": "circle"
         },
         "mode": "markers",
         "name": "lrnn_2_1",
         "orientation": "v",
         "showlegend": true,
         "type": "scatter",
         "x": [
          "0_07",
          "1_07",
          "2_07"
         ],
         "xaxis": "x",
         "y": [
          28,
          322,
          null
         ],
         "yaxis": "y"
        }
       ],
       "layout": {
        "legend": {
         "title": {
          "text": "solver"
         },
         "tracegroupgap": 0
        },
        "margin": {
         "t": 60
        },
        "template": {
         "data": {
          "bar": [
           {
            "error_x": {
             "color": "#2a3f5f"
            },
            "error_y": {
             "color": "#2a3f5f"
            },
            "marker": {
             "line": {
              "color": "#E5ECF6",
              "width": 0.5
             },
             "pattern": {
              "fillmode": "overlay",
              "size": 10,
              "solidity": 0.2
             }
            },
            "type": "bar"
           }
          ],
          "barpolar": [
           {
            "marker": {
             "line": {
              "color": "#E5ECF6",
              "width": 0.5
             },
             "pattern": {
              "fillmode": "overlay",
              "size": 10,
              "solidity": 0.2
             }
            },
            "type": "barpolar"
           }
          ],
          "carpet": [
           {
            "aaxis": {
             "endlinecolor": "#2a3f5f",
             "gridcolor": "white",
             "linecolor": "white",
             "minorgridcolor": "white",
             "startlinecolor": "#2a3f5f"
            },
            "baxis": {
             "endlinecolor": "#2a3f5f",
             "gridcolor": "white",
             "linecolor": "white",
             "minorgridcolor": "white",
             "startlinecolor": "#2a3f5f"
            },
            "type": "carpet"
           }
          ],
          "choropleth": [
           {
            "colorbar": {
             "outlinewidth": 0,
             "ticks": ""
            },
            "type": "choropleth"
           }
          ],
          "contour": [
           {
            "colorbar": {
             "outlinewidth": 0,
             "ticks": ""
            },
            "colorscale": [
             [
              0,
              "#0d0887"
             ],
             [
              0.1111111111111111,
              "#46039f"
             ],
             [
              0.2222222222222222,
              "#7201a8"
             ],
             [
              0.3333333333333333,
              "#9c179e"
             ],
             [
              0.4444444444444444,
              "#bd3786"
             ],
             [
              0.5555555555555556,
              "#d8576b"
             ],
             [
              0.6666666666666666,
              "#ed7953"
             ],
             [
              0.7777777777777778,
              "#fb9f3a"
             ],
             [
              0.8888888888888888,
              "#fdca26"
             ],
             [
              1,
              "#f0f921"
             ]
            ],
            "type": "contour"
           }
          ],
          "contourcarpet": [
           {
            "colorbar": {
             "outlinewidth": 0,
             "ticks": ""
            },
            "type": "contourcarpet"
           }
          ],
          "heatmap": [
           {
            "colorbar": {
             "outlinewidth": 0,
             "ticks": ""
            },
            "colorscale": [
             [
              0,
              "#0d0887"
             ],
             [
              0.1111111111111111,
              "#46039f"
             ],
             [
              0.2222222222222222,
              "#7201a8"
             ],
             [
              0.3333333333333333,
              "#9c179e"
             ],
             [
              0.4444444444444444,
              "#bd3786"
             ],
             [
              0.5555555555555556,
              "#d8576b"
             ],
             [
              0.6666666666666666,
              "#ed7953"
             ],
             [
              0.7777777777777778,
              "#fb9f3a"
             ],
             [
              0.8888888888888888,
              "#fdca26"
             ],
             [
              1,
              "#f0f921"
             ]
            ],
            "type": "heatmap"
           }
          ],
          "heatmapgl": [
           {
            "colorbar": {
             "outlinewidth": 0,
             "ticks": ""
            },
            "colorscale": [
             [
              0,
              "#0d0887"
             ],
             [
              0.1111111111111111,
              "#46039f"
             ],
             [
              0.2222222222222222,
              "#7201a8"
             ],
             [
              0.3333333333333333,
              "#9c179e"
             ],
             [
              0.4444444444444444,
              "#bd3786"
             ],
             [
              0.5555555555555556,
              "#d8576b"
             ],
             [
              0.6666666666666666,
              "#ed7953"
             ],
             [
              0.7777777777777778,
              "#fb9f3a"
             ],
             [
              0.8888888888888888,
              "#fdca26"
             ],
             [
              1,
              "#f0f921"
             ]
            ],
            "type": "heatmapgl"
           }
          ],
          "histogram": [
           {
            "marker": {
             "pattern": {
              "fillmode": "overlay",
              "size": 10,
              "solidity": 0.2
             }
            },
            "type": "histogram"
           }
          ],
          "histogram2d": [
           {
            "colorbar": {
             "outlinewidth": 0,
             "ticks": ""
            },
            "colorscale": [
             [
              0,
              "#0d0887"
             ],
             [
              0.1111111111111111,
              "#46039f"
             ],
             [
              0.2222222222222222,
              "#7201a8"
             ],
             [
              0.3333333333333333,
              "#9c179e"
             ],
             [
              0.4444444444444444,
              "#bd3786"
             ],
             [
              0.5555555555555556,
              "#d8576b"
             ],
             [
              0.6666666666666666,
              "#ed7953"
             ],
             [
              0.7777777777777778,
              "#fb9f3a"
             ],
             [
              0.8888888888888888,
              "#fdca26"
             ],
             [
              1,
              "#f0f921"
             ]
            ],
            "type": "histogram2d"
           }
          ],
          "histogram2dcontour": [
           {
            "colorbar": {
             "outlinewidth": 0,
             "ticks": ""
            },
            "colorscale": [
             [
              0,
              "#0d0887"
             ],
             [
              0.1111111111111111,
              "#46039f"
             ],
             [
              0.2222222222222222,
              "#7201a8"
             ],
             [
              0.3333333333333333,
              "#9c179e"
             ],
             [
              0.4444444444444444,
              "#bd3786"
             ],
             [
              0.5555555555555556,
              "#d8576b"
             ],
             [
              0.6666666666666666,
              "#ed7953"
             ],
             [
              0.7777777777777778,
              "#fb9f3a"
             ],
             [
              0.8888888888888888,
              "#fdca26"
             ],
             [
              1,
              "#f0f921"
             ]
            ],
            "type": "histogram2dcontour"
           }
          ],
          "mesh3d": [
           {
            "colorbar": {
             "outlinewidth": 0,
             "ticks": ""
            },
            "type": "mesh3d"
           }
          ],
          "parcoords": [
           {
            "line": {
             "colorbar": {
              "outlinewidth": 0,
              "ticks": ""
             }
            },
            "type": "parcoords"
           }
          ],
          "pie": [
           {
            "automargin": true,
            "type": "pie"
           }
          ],
          "scatter": [
           {
            "fillpattern": {
             "fillmode": "overlay",
             "size": 10,
             "solidity": 0.2
            },
            "type": "scatter"
           }
          ],
          "scatter3d": [
           {
            "line": {
             "colorbar": {
              "outlinewidth": 0,
              "ticks": ""
             }
            },
            "marker": {
             "colorbar": {
              "outlinewidth": 0,
              "ticks": ""
             }
            },
            "type": "scatter3d"
           }
          ],
          "scattercarpet": [
           {
            "marker": {
             "colorbar": {
              "outlinewidth": 0,
              "ticks": ""
             }
            },
            "type": "scattercarpet"
           }
          ],
          "scattergeo": [
           {
            "marker": {
             "colorbar": {
              "outlinewidth": 0,
              "ticks": ""
             }
            },
            "type": "scattergeo"
           }
          ],
          "scattergl": [
           {
            "marker": {
             "colorbar": {
              "outlinewidth": 0,
              "ticks": ""
             }
            },
            "type": "scattergl"
           }
          ],
          "scattermapbox": [
           {
            "marker": {
             "colorbar": {
              "outlinewidth": 0,
              "ticks": ""
             }
            },
            "type": "scattermapbox"
           }
          ],
          "scatterpolar": [
           {
            "marker": {
             "colorbar": {
              "outlinewidth": 0,
              "ticks": ""
             }
            },
            "type": "scatterpolar"
           }
          ],
          "scatterpolargl": [
           {
            "marker": {
             "colorbar": {
              "outlinewidth": 0,
              "ticks": ""
             }
            },
            "type": "scatterpolargl"
           }
          ],
          "scatterternary": [
           {
            "marker": {
             "colorbar": {
              "outlinewidth": 0,
              "ticks": ""
             }
            },
            "type": "scatterternary"
           }
          ],
          "surface": [
           {
            "colorbar": {
             "outlinewidth": 0,
             "ticks": ""
            },
            "colorscale": [
             [
              0,
              "#0d0887"
             ],
             [
              0.1111111111111111,
              "#46039f"
             ],
             [
              0.2222222222222222,
              "#7201a8"
             ],
             [
              0.3333333333333333,
              "#9c179e"
             ],
             [
              0.4444444444444444,
              "#bd3786"
             ],
             [
              0.5555555555555556,
              "#d8576b"
             ],
             [
              0.6666666666666666,
              "#ed7953"
             ],
             [
              0.7777777777777778,
              "#fb9f3a"
             ],
             [
              0.8888888888888888,
              "#fdca26"
             ],
             [
              1,
              "#f0f921"
             ]
            ],
            "type": "surface"
           }
          ],
          "table": [
           {
            "cells": {
             "fill": {
              "color": "#EBF0F8"
             },
             "line": {
              "color": "white"
             }
            },
            "header": {
             "fill": {
              "color": "#C8D4E3"
             },
             "line": {
              "color": "white"
             }
            },
            "type": "table"
           }
          ]
         },
         "layout": {
          "annotationdefaults": {
           "arrowcolor": "#2a3f5f",
           "arrowhead": 0,
           "arrowwidth": 1
          },
          "autotypenumbers": "strict",
          "coloraxis": {
           "colorbar": {
            "outlinewidth": 0,
            "ticks": ""
           }
          },
          "colorscale": {
           "diverging": [
            [
             0,
             "#8e0152"
            ],
            [
             0.1,
             "#c51b7d"
            ],
            [
             0.2,
             "#de77ae"
            ],
            [
             0.3,
             "#f1b6da"
            ],
            [
             0.4,
             "#fde0ef"
            ],
            [
             0.5,
             "#f7f7f7"
            ],
            [
             0.6,
             "#e6f5d0"
            ],
            [
             0.7,
             "#b8e186"
            ],
            [
             0.8,
             "#7fbc41"
            ],
            [
             0.9,
             "#4d9221"
            ],
            [
             1,
             "#276419"
            ]
           ],
           "sequential": [
            [
             0,
             "#0d0887"
            ],
            [
             0.1111111111111111,
             "#46039f"
            ],
            [
             0.2222222222222222,
             "#7201a8"
            ],
            [
             0.3333333333333333,
             "#9c179e"
            ],
            [
             0.4444444444444444,
             "#bd3786"
            ],
            [
             0.5555555555555556,
             "#d8576b"
            ],
            [
             0.6666666666666666,
             "#ed7953"
            ],
            [
             0.7777777777777778,
             "#fb9f3a"
            ],
            [
             0.8888888888888888,
             "#fdca26"
            ],
            [
             1,
             "#f0f921"
            ]
           ],
           "sequentialminus": [
            [
             0,
             "#0d0887"
            ],
            [
             0.1111111111111111,
             "#46039f"
            ],
            [
             0.2222222222222222,
             "#7201a8"
            ],
            [
             0.3333333333333333,
             "#9c179e"
            ],
            [
             0.4444444444444444,
             "#bd3786"
            ],
            [
             0.5555555555555556,
             "#d8576b"
            ],
            [
             0.6666666666666666,
             "#ed7953"
            ],
            [
             0.7777777777777778,
             "#fb9f3a"
            ],
            [
             0.8888888888888888,
             "#fdca26"
            ],
            [
             1,
             "#f0f921"
            ]
           ]
          },
          "colorway": [
           "#636efa",
           "#EF553B",
           "#00cc96",
           "#ab63fa",
           "#FFA15A",
           "#19d3f3",
           "#FF6692",
           "#B6E880",
           "#FF97FF",
           "#FECB52"
          ],
          "font": {
           "color": "#2a3f5f"
          },
          "geo": {
           "bgcolor": "white",
           "lakecolor": "white",
           "landcolor": "#E5ECF6",
           "showlakes": true,
           "showland": true,
           "subunitcolor": "white"
          },
          "hoverlabel": {
           "align": "left"
          },
          "hovermode": "closest",
          "mapbox": {
           "style": "light"
          },
          "paper_bgcolor": "white",
          "plot_bgcolor": "#E5ECF6",
          "polar": {
           "angularaxis": {
            "gridcolor": "white",
            "linecolor": "white",
            "ticks": ""
           },
           "bgcolor": "#E5ECF6",
           "radialaxis": {
            "gridcolor": "white",
            "linecolor": "white",
            "ticks": ""
           }
          },
          "scene": {
           "xaxis": {
            "backgroundcolor": "#E5ECF6",
            "gridcolor": "white",
            "gridwidth": 2,
            "linecolor": "white",
            "showbackground": true,
            "ticks": "",
            "zerolinecolor": "white"
           },
           "yaxis": {
            "backgroundcolor": "#E5ECF6",
            "gridcolor": "white",
            "gridwidth": 2,
            "linecolor": "white",
            "showbackground": true,
            "ticks": "",
            "zerolinecolor": "white"
           },
           "zaxis": {
            "backgroundcolor": "#E5ECF6",
            "gridcolor": "white",
            "gridwidth": 2,
            "linecolor": "white",
            "showbackground": true,
            "ticks": "",
            "zerolinecolor": "white"
           }
          },
          "shapedefaults": {
           "line": {
            "color": "#2a3f5f"
           }
          },
          "ternary": {
           "aaxis": {
            "gridcolor": "white",
            "linecolor": "white",
            "ticks": ""
           },
           "baxis": {
            "gridcolor": "white",
            "linecolor": "white",
            "ticks": ""
           },
           "bgcolor": "#E5ECF6",
           "caxis": {
            "gridcolor": "white",
            "linecolor": "white",
            "ticks": ""
           }
          },
          "title": {
           "x": 0.05
          },
          "xaxis": {
           "automargin": true,
           "gridcolor": "white",
           "linecolor": "white",
           "ticks": "",
           "title": {
            "standoff": 15
           },
           "zerolinecolor": "white",
           "zerolinewidth": 2
          },
          "yaxis": {
           "automargin": true,
           "gridcolor": "white",
           "linecolor": "white",
           "ticks": "",
           "title": {
            "standoff": 15
           },
           "zerolinecolor": "white",
           "zerolinewidth": 2
          }
         }
        },
        "xaxis": {
         "anchor": "y",
         "domain": [
          0,
          1
         ],
         "title": {
          "text": "problem"
         }
        },
        "yaxis": {
         "anchor": "x",
         "domain": [
          0,
          1
         ],
         "title": {
          "text": "plan_length_mean"
         }
        }
       }
      }
     },
     "metadata": {},
     "output_type": "display_data"
    }
   ],
   "source": [
    "log_y = 0\n",
    "easy_only = 0\n",
    "\n",
    "plot_domains(\"plan_length\", log_y=log_y, easy_only=easy_only)"
   ]
  },
  {
   "cell_type": "code",
   "execution_count": 115,
   "metadata": {},
   "outputs": [
    {
     "name": "stdout",
     "output_type": "stream",
     "text": [
      "blocksworld\n"
     ]
    },
    {
     "data": {
      "application/vnd.plotly.v1+json": {
       "config": {
        "plotlyServerURL": "https://plot.ly"
       },
       "data": [
        {
         "error_y": {
          "array": [
           0.041886561476394024,
           0.16034340600286423,
           0.10025988793393406,
           0.256625642588038,
           0.22660250877734786,
           0.0847377417289315,
           0.38853675405818133,
           0.2985498548176904,
           0.29023535451127586,
           0.07698027081947106,
           0.5896715913908084,
           0.2254585951141424,
           0.46743596276155386,
           0.3141604864600415,
           1.2136377253910489,
           1.2689105432176213,
           0.36585001916162935,
           1.3471948386681274,
           0.5475266439171681,
           0.6125440962727787,
           0.647646747340179,
           1.7567462008656358,
           0.608630845092345,
           0.8536569164648128,
           0.3892951267846499,
           0.7931119434221635,
           0.49416211177919955,
           0.5570911268364663,
           0.9140700831826698,
           0.9802128151551933,
           0.4729596929787986,
           0.5919559312389899,
           0.40779546764586583,
           0.6801665856896014,
           0.43734424406750727,
           0.9141869363942405,
           0.8781669267229559,
           1.0068317001780789,
           1.023245504939985,
           3.6057690507094105,
           1.5873998985465434,
           9.08908958108387,
           3.008464185648015,
           2.7420513497923045,
           8.33452784759639,
           12.117719172132935,
           6.9765495435712594,
           13.245169804112102,
           9.934559252105686,
           5.836102970609422,
           10.520102428252416,
           16.12026691860353,
           13.471271052055043,
           18.360985705298468,
           11.74252843885654,
           16.16757958152526,
           14.612795101758394,
           13.46918053373475,
           19.57523340128381,
           37.928026767876716,
           26.55869316969927,
           6.774466595481791,
           5.987002852563463,
           22.82273279776015,
           26.06793674499522,
           18.61819296216317,
           31.83287124546795,
           35.31839324746524,
           91.89283859289068,
           82.41193654162512,
           133.12697639914597,
           117.06358119753716,
           102.68471579011437,
           161.54190338952472,
           192.51893083675702,
           402.45735697599014,
           197.46143167843599,
           312.10992411533044,
           232.34717214791615,
           380.5011400089354,
           384.59880656690325,
           949.9929067274868,
           572.3763244770211,
           502.7096631489056,
           291.7279596672773,
           773.1948982783045,
           687.725098639176,
           476.39364347887556,
           488.8115465398314,
           1008.1938708714389
          ]
         },
         "hovertemplate": "solver=baseline<br>problem=%{x}<br>time_mean=%{y}<extra></extra>",
         "legendgroup": "baseline",
         "marker": {
          "color": "#636efa",
          "symbol": "circle"
         },
         "mode": "markers",
         "name": "baseline",
         "orientation": "v",
         "showlegend": true,
         "type": "scatter",
         "x": [
          "0_01",
          "0_02",
          "0_03",
          "0_04",
          "0_05",
          "0_06",
          "0_07",
          "0_08",
          "0_09",
          "0_10",
          "0_11",
          "0_12",
          "0_13",
          "0_14",
          "0_15",
          "0_16",
          "0_17",
          "0_18",
          "0_19",
          "0_20",
          "0_21",
          "0_22",
          "0_23",
          "0_24",
          "0_25",
          "0_26",
          "0_27",
          "0_28",
          "0_29",
          "0_30",
          "1_01",
          "1_02",
          "1_03",
          "1_04",
          "1_05",
          "1_06",
          "1_07",
          "1_08",
          "1_09",
          "1_10",
          "1_11",
          "1_12",
          "1_13",
          "1_14",
          "1_15",
          "1_16",
          "1_17",
          "1_18",
          "1_19",
          "1_20",
          "1_21",
          "1_22",
          "1_23",
          "1_24",
          "1_25",
          "1_26",
          "1_27",
          "1_28",
          "1_29",
          "1_30",
          "2_01",
          "2_02",
          "2_03",
          "2_04",
          "2_05",
          "2_06",
          "2_07",
          "2_08",
          "2_09",
          "2_10",
          "2_11",
          "2_12",
          "2_13",
          "2_14",
          "2_15",
          "2_16",
          "2_17",
          "2_18",
          "2_19",
          "2_20",
          "2_21",
          "2_22",
          "2_23",
          "2_24",
          "2_25",
          "2_26",
          "2_27",
          "2_28",
          "2_29",
          "2_30"
         ],
         "xaxis": "x",
         "y": [
          1.6170178174972534,
          1.9212228775024414,
          1.8028979063034059,
          2.183686113357544,
          2.222057056427002,
          2.060075306892395,
          2.1738182067871095,
          3.396636199951172,
          2.75475652217865,
          3.025489401817322,
          3.5657335996627806,
          2.8401551485061645,
          3.728370428085327,
          3.441785192489624,
          4.225570583343506,
          4.431269001960755,
          4.541448187828064,
          4.640485095977783,
          4.609439563751221,
          5.081832504272461,
          4.454624104499817,
          6.655822491645813,
          5.0421086072921755,
          6.882755470275879,
          8.007105827331543,
          7.2300793647766115,
          6.194134378433228,
          7.563600301742554,
          7.961933445930481,
          9.843281817436218,
          11.784475398063659,
          11.145612239837646,
          14.370174860954284,
          22.15713758468628,
          14.847545862197876,
          13.325135040283204,
          22.435027551651,
          27.74455609321594,
          20.53641531467438,
          32.7727707862854,
          34.38600995540619,
          35.761060333251955,
          33.03564057350159,
          38.30087440013885,
          43.96039278507233,
          44.606568694114685,
          43.73074543476105,
          54.16456995010376,
          62.19679453372955,
          76.70804607868195,
          65.72204525470734,
          68.82450642585755,
          88.4410957813263,
          81.39307510852814,
          78.75699298381805,
          114.20042014122009,
          104.28660366535186,
          99.27808589935303,
          118.93827540874481,
          192.44356243610383,
          178.90412566661834,
          187.6483910560608,
          210.7969542503357,
          348.66557211875914,
          278.09083738327024,
          292.2855474948883,
          470.3708182811737,
          513.7993996381759,
          422.6001209497452,
          698.0951628923416,
          649.6663176059723,
          858.820779466629,
          648.588422036171,
          934.8786472797394,
          1201.2662287950516,
          1593.2691414833068,
          1173.139047718048,
          1999.756534075737,
          1493.299698472023,
          2111.742541885376,
          1634.0135075569153,
          2760.7767474651337,
          2366.4585521698,
          2054.555369234085,
          3122.1789963960646,
          3119.7407723903657,
          3314.965594792366,
          3151.6653401851654,
          3720.7946444272993,
          4277.120815753937
         ],
         "yaxis": "y"
        },
        {
         "error_y": {
          "array": [
           null,
           null,
           null,
           null,
           null,
           null,
           null,
           null,
           null,
           null,
           null,
           null,
           null,
           null,
           null,
           null,
           null,
           null,
           null,
           null,
           null,
           null,
           null,
           null,
           null,
           null,
           null,
           null,
           null,
           null,
           null,
           null,
           null,
           null,
           null,
           null,
           null,
           null,
           null,
           null,
           null,
           null,
           null,
           null,
           null,
           null,
           null,
           null,
           null,
           null,
           null,
           null,
           null,
           null,
           null,
           null,
           null,
           null,
           null,
           null,
           null,
           null,
           null,
           null,
           null,
           null,
           null,
           null,
           null,
           null,
           null,
           null,
           null,
           null,
           null,
           null,
           null,
           null,
           null,
           null,
           null,
           null,
           null,
           null,
           null,
           null,
           null,
           null,
           null,
           null
          ]
         },
         "hovertemplate": "solver=scorpion<br>problem=%{x}<br>time_mean=%{y}<extra></extra>",
         "legendgroup": "scorpion",
         "marker": {
          "color": "#EF553B",
          "symbol": "circle"
         },
         "mode": "markers",
         "name": "scorpion",
         "orientation": "v",
         "showlegend": true,
         "type": "scatter",
         "x": [
          "0_01",
          "0_02",
          "0_03",
          "0_04",
          "0_05",
          "0_06",
          "0_07",
          "0_08",
          "0_09",
          "0_10",
          "0_11",
          "0_12",
          "0_13",
          "0_14",
          "0_15",
          "0_16",
          "0_17",
          "0_18",
          "0_19",
          "0_20",
          "0_21",
          "0_22",
          "0_23",
          "0_24",
          "0_25",
          "0_26",
          "0_27",
          "0_28",
          "0_29",
          "0_30",
          "1_01",
          "1_02",
          "1_03",
          "1_04",
          "1_05",
          "1_06",
          "1_07",
          "1_08",
          "1_09",
          "1_10",
          "1_11",
          "1_12",
          "1_13",
          "1_14",
          "1_15",
          "1_16",
          "1_17",
          "1_18",
          "1_19",
          "1_20",
          "1_21",
          "1_22",
          "1_23",
          "1_24",
          "1_25",
          "1_26",
          "1_27",
          "1_28",
          "1_29",
          "1_30",
          "2_01",
          "2_02",
          "2_03",
          "2_04",
          "2_05",
          "2_06",
          "2_07",
          "2_08",
          "2_09",
          "2_10",
          "2_11",
          "2_12",
          "2_13",
          "2_14",
          "2_15",
          "2_16",
          "2_17",
          "2_18",
          "2_19",
          "2_20",
          "2_21",
          "2_22",
          "2_23",
          "2_24",
          "2_25",
          "2_26",
          "2_27",
          "2_28",
          "2_29",
          "2_30"
         ],
         "xaxis": "x",
         "y": [
          102.067865,
          102.641403,
          103.776869,
          100.091573,
          100.256945,
          100.873082,
          102.018362,
          102.331289,
          106.399846,
          102.100435,
          null,
          112.818397,
          1024.726357,
          915.598657,
          1768.84117,
          null,
          null,
          1193.738867,
          null,
          null,
          null,
          null,
          null,
          null,
          null,
          null,
          null,
          null,
          null,
          null,
          null,
          null,
          null,
          null,
          null,
          null,
          null,
          null,
          null,
          null,
          null,
          null,
          null,
          null,
          null,
          null,
          null,
          null,
          null,
          null,
          null,
          null,
          null,
          null,
          null,
          null,
          null,
          null,
          null,
          null,
          null,
          null,
          null,
          null,
          null,
          null,
          null,
          null,
          null,
          null,
          null,
          null,
          null,
          null,
          null,
          null,
          null,
          null,
          null,
          null,
          null,
          null,
          null,
          null,
          null,
          null,
          null,
          null,
          null,
          null
         ],
         "yaxis": "y"
        },
        {
         "error_y": {
          "array": [
           0.046180133325992544,
           0.07401408066998101,
           0.003282565149422471,
           0.015227319192197927,
           0.0035420211488555345,
           0.040042540658442115,
           0.015279244109563349,
           0.11351933330360625,
           0.14569845214167385,
           0.031339553615730584,
           null,
           null,
           null,
           null,
           null,
           null,
           null,
           null,
           null,
           0.08722357734287137,
           0.06285089778599157,
           0.09552380910121233,
           0.15258710164968842,
           0.10111669589860844,
           null,
           null,
           null,
           null,
           null,
           null,
           0.1870704729895436,
           0.052547173436836285,
           0.14530378905221783,
           0.5222970651511283,
           0.045360630003546724,
           0.00174049625610588,
           0.26924806104129667,
           1.726324968349971,
           0.03888383949918062,
           0.1746755906046743,
           null,
           null,
           null,
           null,
           null,
           null,
           null,
           null,
           null,
           0.17725986676796576,
           0.055571462698591534,
           1.367904291103265,
           0.8666093377399059,
           0.06866918592922347,
           null,
           null,
           null,
           null,
           null,
           null,
           3.853659835779512,
           3.208007542994093,
           20.296490935871137,
           13.074055414977089,
           7.117948088638931,
           4.043926051410556,
           4.364246483365585,
           8.54081423042392,
           5.500270277904707,
           6.976190704007814,
           null,
           null,
           null,
           null,
           null,
           null,
           null,
           null,
           66.3078940742974,
           53.57681841714652,
           2.32046808028376,
           null,
           null,
           null,
           null,
           null
          ]
         },
         "hovertemplate": "solver=lrnn_1_1<br>problem=%{x}<br>time_mean=%{y}<extra></extra>",
         "legendgroup": "lrnn_1_1",
         "marker": {
          "color": "#00cc96",
          "symbol": "circle"
         },
         "mode": "markers",
         "name": "lrnn_1_1",
         "orientation": "v",
         "showlegend": true,
         "type": "scatter",
         "x": [
          "0_01",
          "0_02",
          "0_03",
          "0_04",
          "0_05",
          "0_06",
          "0_07",
          "0_08",
          "0_09",
          "0_10",
          "0_11",
          "0_12",
          "0_13",
          "0_14",
          "0_15",
          "0_16",
          "0_17",
          "0_18",
          "0_19",
          "0_20",
          "0_21",
          "0_22",
          "0_23",
          "0_24",
          "0_25",
          "0_26",
          "0_27",
          "0_28",
          "0_29",
          "0_30",
          "1_01",
          "1_02",
          "1_03",
          "1_04",
          "1_05",
          "1_06",
          "1_07",
          "1_08",
          "1_09",
          "1_10",
          "1_11",
          "1_12",
          "1_13",
          "1_14",
          "1_15",
          "1_16",
          "1_17",
          "1_18",
          "1_19",
          "1_20",
          "1_21",
          "1_22",
          "1_23",
          "1_24",
          "1_25",
          "1_26",
          "1_27",
          "1_28",
          "1_29",
          "1_30",
          "2_01",
          "2_02",
          "2_03",
          "2_04",
          "2_05",
          "2_06",
          "2_07",
          "2_08",
          "2_09",
          "2_10",
          "2_11",
          "2_12",
          "2_13",
          "2_14",
          "2_15",
          "2_16",
          "2_17",
          "2_18",
          "2_19",
          "2_20",
          "2_21",
          "2_22",
          "2_23",
          "2_24",
          "2_25",
          "2_26"
         ],
         "xaxis": "x",
         "y": [
          0.3927705287933349,
          0.32964980602264404,
          0.5470257997512817,
          0.5327187776565552,
          0.6206190586090088,
          0.6048665046691895,
          0.7546004056930542,
          0.775686502456665,
          0.8835610151290894,
          0.8756698369979858,
          1.1895971298217771,
          0.9284942150115968,
          1.2226760387420654,
          1.4333322048187256,
          1.3003747463226318,
          1.46589994430542,
          1.5735270977020264,
          1.65502667427063,
          1.6587884426116943,
          1.5898698568344116,
          1.6518567800521853,
          2.2426782846450806,
          1.8595211505889893,
          2.5577940940856934,
          2.6950838565826416,
          2.392301321029663,
          2.1377944946289062,
          2.781116485595703,
          2.3836328983306885,
          3.046922445297241,
          4.073367476463318,
          4.475654244422913,
          4.750644683837891,
          7.2939945459365845,
          6.774325489997864,
          6.948221921920776,
          8.88760507106781,
          12.677303671836853,
          10.996803641319277,
          12.150211215019226,
          15.273221015930176,
          18.67098355293274,
          20.75402402877808,
          18.44870924949646,
          21.280571222305294,
          24.72177457809448,
          24.83393096923828,
          31.447250366210938,
          36.31778526306152,
          35.71184253692627,
          38.25442695617676,
          40.528886556625366,
          53.50911998748779,
          46.071144223213196,
          49.83833003044128,
          61.92334818840027,
          70.13654208183289,
          60.07959723472595,
          69.70576572418213,
          98.19673728942873,
          92.30399262905121,
          113.21215999126434,
          135.54885578155518,
          210.33355104923248,
          208.25396835803986,
          238.01156783103943,
          303.29435086250305,
          304.78837740421295,
          322.0640878677368,
          399.0038548707962,
          453.0355508327484,
          519.0213959217072,
          501.9125099182129,
          580.5558259487152,
          618.8318719863892,
          882.9430453777313,
          748.6048798561096,
          1037.3238294124603,
          974.8875502347946,
          1191.1071916818619,
          1148.0316611528397,
          1659.7790298461914,
          1542.8790242671969,
          1417.1862614154816,
          1626.2963154315948,
          1733.8297293186188
         ],
         "yaxis": "y"
        }
       ],
       "layout": {
        "legend": {
         "title": {
          "text": "solver"
         },
         "tracegroupgap": 0
        },
        "margin": {
         "t": 60
        },
        "template": {
         "data": {
          "bar": [
           {
            "error_x": {
             "color": "#2a3f5f"
            },
            "error_y": {
             "color": "#2a3f5f"
            },
            "marker": {
             "line": {
              "color": "#E5ECF6",
              "width": 0.5
             },
             "pattern": {
              "fillmode": "overlay",
              "size": 10,
              "solidity": 0.2
             }
            },
            "type": "bar"
           }
          ],
          "barpolar": [
           {
            "marker": {
             "line": {
              "color": "#E5ECF6",
              "width": 0.5
             },
             "pattern": {
              "fillmode": "overlay",
              "size": 10,
              "solidity": 0.2
             }
            },
            "type": "barpolar"
           }
          ],
          "carpet": [
           {
            "aaxis": {
             "endlinecolor": "#2a3f5f",
             "gridcolor": "white",
             "linecolor": "white",
             "minorgridcolor": "white",
             "startlinecolor": "#2a3f5f"
            },
            "baxis": {
             "endlinecolor": "#2a3f5f",
             "gridcolor": "white",
             "linecolor": "white",
             "minorgridcolor": "white",
             "startlinecolor": "#2a3f5f"
            },
            "type": "carpet"
           }
          ],
          "choropleth": [
           {
            "colorbar": {
             "outlinewidth": 0,
             "ticks": ""
            },
            "type": "choropleth"
           }
          ],
          "contour": [
           {
            "colorbar": {
             "outlinewidth": 0,
             "ticks": ""
            },
            "colorscale": [
             [
              0,
              "#0d0887"
             ],
             [
              0.1111111111111111,
              "#46039f"
             ],
             [
              0.2222222222222222,
              "#7201a8"
             ],
             [
              0.3333333333333333,
              "#9c179e"
             ],
             [
              0.4444444444444444,
              "#bd3786"
             ],
             [
              0.5555555555555556,
              "#d8576b"
             ],
             [
              0.6666666666666666,
              "#ed7953"
             ],
             [
              0.7777777777777778,
              "#fb9f3a"
             ],
             [
              0.8888888888888888,
              "#fdca26"
             ],
             [
              1,
              "#f0f921"
             ]
            ],
            "type": "contour"
           }
          ],
          "contourcarpet": [
           {
            "colorbar": {
             "outlinewidth": 0,
             "ticks": ""
            },
            "type": "contourcarpet"
           }
          ],
          "heatmap": [
           {
            "colorbar": {
             "outlinewidth": 0,
             "ticks": ""
            },
            "colorscale": [
             [
              0,
              "#0d0887"
             ],
             [
              0.1111111111111111,
              "#46039f"
             ],
             [
              0.2222222222222222,
              "#7201a8"
             ],
             [
              0.3333333333333333,
              "#9c179e"
             ],
             [
              0.4444444444444444,
              "#bd3786"
             ],
             [
              0.5555555555555556,
              "#d8576b"
             ],
             [
              0.6666666666666666,
              "#ed7953"
             ],
             [
              0.7777777777777778,
              "#fb9f3a"
             ],
             [
              0.8888888888888888,
              "#fdca26"
             ],
             [
              1,
              "#f0f921"
             ]
            ],
            "type": "heatmap"
           }
          ],
          "heatmapgl": [
           {
            "colorbar": {
             "outlinewidth": 0,
             "ticks": ""
            },
            "colorscale": [
             [
              0,
              "#0d0887"
             ],
             [
              0.1111111111111111,
              "#46039f"
             ],
             [
              0.2222222222222222,
              "#7201a8"
             ],
             [
              0.3333333333333333,
              "#9c179e"
             ],
             [
              0.4444444444444444,
              "#bd3786"
             ],
             [
              0.5555555555555556,
              "#d8576b"
             ],
             [
              0.6666666666666666,
              "#ed7953"
             ],
             [
              0.7777777777777778,
              "#fb9f3a"
             ],
             [
              0.8888888888888888,
              "#fdca26"
             ],
             [
              1,
              "#f0f921"
             ]
            ],
            "type": "heatmapgl"
           }
          ],
          "histogram": [
           {
            "marker": {
             "pattern": {
              "fillmode": "overlay",
              "size": 10,
              "solidity": 0.2
             }
            },
            "type": "histogram"
           }
          ],
          "histogram2d": [
           {
            "colorbar": {
             "outlinewidth": 0,
             "ticks": ""
            },
            "colorscale": [
             [
              0,
              "#0d0887"
             ],
             [
              0.1111111111111111,
              "#46039f"
             ],
             [
              0.2222222222222222,
              "#7201a8"
             ],
             [
              0.3333333333333333,
              "#9c179e"
             ],
             [
              0.4444444444444444,
              "#bd3786"
             ],
             [
              0.5555555555555556,
              "#d8576b"
             ],
             [
              0.6666666666666666,
              "#ed7953"
             ],
             [
              0.7777777777777778,
              "#fb9f3a"
             ],
             [
              0.8888888888888888,
              "#fdca26"
             ],
             [
              1,
              "#f0f921"
             ]
            ],
            "type": "histogram2d"
           }
          ],
          "histogram2dcontour": [
           {
            "colorbar": {
             "outlinewidth": 0,
             "ticks": ""
            },
            "colorscale": [
             [
              0,
              "#0d0887"
             ],
             [
              0.1111111111111111,
              "#46039f"
             ],
             [
              0.2222222222222222,
              "#7201a8"
             ],
             [
              0.3333333333333333,
              "#9c179e"
             ],
             [
              0.4444444444444444,
              "#bd3786"
             ],
             [
              0.5555555555555556,
              "#d8576b"
             ],
             [
              0.6666666666666666,
              "#ed7953"
             ],
             [
              0.7777777777777778,
              "#fb9f3a"
             ],
             [
              0.8888888888888888,
              "#fdca26"
             ],
             [
              1,
              "#f0f921"
             ]
            ],
            "type": "histogram2dcontour"
           }
          ],
          "mesh3d": [
           {
            "colorbar": {
             "outlinewidth": 0,
             "ticks": ""
            },
            "type": "mesh3d"
           }
          ],
          "parcoords": [
           {
            "line": {
             "colorbar": {
              "outlinewidth": 0,
              "ticks": ""
             }
            },
            "type": "parcoords"
           }
          ],
          "pie": [
           {
            "automargin": true,
            "type": "pie"
           }
          ],
          "scatter": [
           {
            "fillpattern": {
             "fillmode": "overlay",
             "size": 10,
             "solidity": 0.2
            },
            "type": "scatter"
           }
          ],
          "scatter3d": [
           {
            "line": {
             "colorbar": {
              "outlinewidth": 0,
              "ticks": ""
             }
            },
            "marker": {
             "colorbar": {
              "outlinewidth": 0,
              "ticks": ""
             }
            },
            "type": "scatter3d"
           }
          ],
          "scattercarpet": [
           {
            "marker": {
             "colorbar": {
              "outlinewidth": 0,
              "ticks": ""
             }
            },
            "type": "scattercarpet"
           }
          ],
          "scattergeo": [
           {
            "marker": {
             "colorbar": {
              "outlinewidth": 0,
              "ticks": ""
             }
            },
            "type": "scattergeo"
           }
          ],
          "scattergl": [
           {
            "marker": {
             "colorbar": {
              "outlinewidth": 0,
              "ticks": ""
             }
            },
            "type": "scattergl"
           }
          ],
          "scattermapbox": [
           {
            "marker": {
             "colorbar": {
              "outlinewidth": 0,
              "ticks": ""
             }
            },
            "type": "scattermapbox"
           }
          ],
          "scatterpolar": [
           {
            "marker": {
             "colorbar": {
              "outlinewidth": 0,
              "ticks": ""
             }
            },
            "type": "scatterpolar"
           }
          ],
          "scatterpolargl": [
           {
            "marker": {
             "colorbar": {
              "outlinewidth": 0,
              "ticks": ""
             }
            },
            "type": "scatterpolargl"
           }
          ],
          "scatterternary": [
           {
            "marker": {
             "colorbar": {
              "outlinewidth": 0,
              "ticks": ""
             }
            },
            "type": "scatterternary"
           }
          ],
          "surface": [
           {
            "colorbar": {
             "outlinewidth": 0,
             "ticks": ""
            },
            "colorscale": [
             [
              0,
              "#0d0887"
             ],
             [
              0.1111111111111111,
              "#46039f"
             ],
             [
              0.2222222222222222,
              "#7201a8"
             ],
             [
              0.3333333333333333,
              "#9c179e"
             ],
             [
              0.4444444444444444,
              "#bd3786"
             ],
             [
              0.5555555555555556,
              "#d8576b"
             ],
             [
              0.6666666666666666,
              "#ed7953"
             ],
             [
              0.7777777777777778,
              "#fb9f3a"
             ],
             [
              0.8888888888888888,
              "#fdca26"
             ],
             [
              1,
              "#f0f921"
             ]
            ],
            "type": "surface"
           }
          ],
          "table": [
           {
            "cells": {
             "fill": {
              "color": "#EBF0F8"
             },
             "line": {
              "color": "white"
             }
            },
            "header": {
             "fill": {
              "color": "#C8D4E3"
             },
             "line": {
              "color": "white"
             }
            },
            "type": "table"
           }
          ]
         },
         "layout": {
          "annotationdefaults": {
           "arrowcolor": "#2a3f5f",
           "arrowhead": 0,
           "arrowwidth": 1
          },
          "autotypenumbers": "strict",
          "coloraxis": {
           "colorbar": {
            "outlinewidth": 0,
            "ticks": ""
           }
          },
          "colorscale": {
           "diverging": [
            [
             0,
             "#8e0152"
            ],
            [
             0.1,
             "#c51b7d"
            ],
            [
             0.2,
             "#de77ae"
            ],
            [
             0.3,
             "#f1b6da"
            ],
            [
             0.4,
             "#fde0ef"
            ],
            [
             0.5,
             "#f7f7f7"
            ],
            [
             0.6,
             "#e6f5d0"
            ],
            [
             0.7,
             "#b8e186"
            ],
            [
             0.8,
             "#7fbc41"
            ],
            [
             0.9,
             "#4d9221"
            ],
            [
             1,
             "#276419"
            ]
           ],
           "sequential": [
            [
             0,
             "#0d0887"
            ],
            [
             0.1111111111111111,
             "#46039f"
            ],
            [
             0.2222222222222222,
             "#7201a8"
            ],
            [
             0.3333333333333333,
             "#9c179e"
            ],
            [
             0.4444444444444444,
             "#bd3786"
            ],
            [
             0.5555555555555556,
             "#d8576b"
            ],
            [
             0.6666666666666666,
             "#ed7953"
            ],
            [
             0.7777777777777778,
             "#fb9f3a"
            ],
            [
             0.8888888888888888,
             "#fdca26"
            ],
            [
             1,
             "#f0f921"
            ]
           ],
           "sequentialminus": [
            [
             0,
             "#0d0887"
            ],
            [
             0.1111111111111111,
             "#46039f"
            ],
            [
             0.2222222222222222,
             "#7201a8"
            ],
            [
             0.3333333333333333,
             "#9c179e"
            ],
            [
             0.4444444444444444,
             "#bd3786"
            ],
            [
             0.5555555555555556,
             "#d8576b"
            ],
            [
             0.6666666666666666,
             "#ed7953"
            ],
            [
             0.7777777777777778,
             "#fb9f3a"
            ],
            [
             0.8888888888888888,
             "#fdca26"
            ],
            [
             1,
             "#f0f921"
            ]
           ]
          },
          "colorway": [
           "#636efa",
           "#EF553B",
           "#00cc96",
           "#ab63fa",
           "#FFA15A",
           "#19d3f3",
           "#FF6692",
           "#B6E880",
           "#FF97FF",
           "#FECB52"
          ],
          "font": {
           "color": "#2a3f5f"
          },
          "geo": {
           "bgcolor": "white",
           "lakecolor": "white",
           "landcolor": "#E5ECF6",
           "showlakes": true,
           "showland": true,
           "subunitcolor": "white"
          },
          "hoverlabel": {
           "align": "left"
          },
          "hovermode": "closest",
          "mapbox": {
           "style": "light"
          },
          "paper_bgcolor": "white",
          "plot_bgcolor": "#E5ECF6",
          "polar": {
           "angularaxis": {
            "gridcolor": "white",
            "linecolor": "white",
            "ticks": ""
           },
           "bgcolor": "#E5ECF6",
           "radialaxis": {
            "gridcolor": "white",
            "linecolor": "white",
            "ticks": ""
           }
          },
          "scene": {
           "xaxis": {
            "backgroundcolor": "#E5ECF6",
            "gridcolor": "white",
            "gridwidth": 2,
            "linecolor": "white",
            "showbackground": true,
            "ticks": "",
            "zerolinecolor": "white"
           },
           "yaxis": {
            "backgroundcolor": "#E5ECF6",
            "gridcolor": "white",
            "gridwidth": 2,
            "linecolor": "white",
            "showbackground": true,
            "ticks": "",
            "zerolinecolor": "white"
           },
           "zaxis": {
            "backgroundcolor": "#E5ECF6",
            "gridcolor": "white",
            "gridwidth": 2,
            "linecolor": "white",
            "showbackground": true,
            "ticks": "",
            "zerolinecolor": "white"
           }
          },
          "shapedefaults": {
           "line": {
            "color": "#2a3f5f"
           }
          },
          "ternary": {
           "aaxis": {
            "gridcolor": "white",
            "linecolor": "white",
            "ticks": ""
           },
           "baxis": {
            "gridcolor": "white",
            "linecolor": "white",
            "ticks": ""
           },
           "bgcolor": "#E5ECF6",
           "caxis": {
            "gridcolor": "white",
            "linecolor": "white",
            "ticks": ""
           }
          },
          "title": {
           "x": 0.05
          },
          "xaxis": {
           "automargin": true,
           "gridcolor": "white",
           "linecolor": "white",
           "ticks": "",
           "title": {
            "standoff": 15
           },
           "zerolinecolor": "white",
           "zerolinewidth": 2
          },
          "yaxis": {
           "automargin": true,
           "gridcolor": "white",
           "linecolor": "white",
           "ticks": "",
           "title": {
            "standoff": 15
           },
           "zerolinecolor": "white",
           "zerolinewidth": 2
          }
         }
        },
        "xaxis": {
         "anchor": "y",
         "domain": [
          0,
          1
         ],
         "title": {
          "text": "problem"
         }
        },
        "yaxis": {
         "anchor": "x",
         "domain": [
          0,
          1
         ],
         "title": {
          "text": "time_mean"
         }
        }
       }
      }
     },
     "metadata": {},
     "output_type": "display_data"
    },
    {
     "name": "stdout",
     "output_type": "stream",
     "text": [
      "ferry\n"
     ]
    },
    {
     "data": {
      "application/vnd.plotly.v1+json": {
       "config": {
        "plotlyServerURL": "https://plot.ly"
       },
       "data": [
        {
         "error_y": {
          "array": [
           0.2148207669440831,
           0.1274364552522626,
           0.14569564808297306,
           0.18748540227960506,
           0.11520995300757067,
           0.11343819945995096,
           0.09375155183643782,
           0.3342970663449902,
           0.17293063647437862,
           0.19131212069086737,
           0.3101850501579197,
           0.518938889411375,
           0.3612676831281778,
           0.2544681084194937,
           0.2525865368407916,
           0.7859125825026745,
           0.6412832040115554,
           0.3119897700207186,
           0.3855647260106558,
           0.37538457748979887,
           0.9424239171536619,
           0.07178472551077547,
           0.12183283488572412,
           0.5189605491339405,
           0.23135519058300535,
           0.35453795128218535,
           0.2643964115998523,
           1.0004810163019098,
           0.35349427686003465,
           0.620799869689321,
           0.4174984819151611,
           0.3121669647696731,
           0.7833667694795099,
           0.5070915147693668,
           0.5396499632991691,
           0.5970792757504446,
           0.9104124206849812,
           1.3323250552008397,
           1.001034409796757,
           1.4023685620334663,
           1.8893634784589501,
           2.401057035374194,
           2.25648464124386,
           2.3624565839673766,
           2.493834720708242,
           4.536295496754719,
           3.557149182140436,
           4.554919694414727,
           3.998593684108624,
           2.111582218079536,
           3.830476413349492,
           2.0273420885362086,
           3.8445610083966897,
           2.8522258913107046,
           3.322335741707897,
           3.5311000678771087,
           3.066907964607566,
           5.49385941267667,
           2.246471464892572,
           4.788827352356885,
           13.0837864243836,
           23.084600743639804,
           38.47143406045294,
           47.676747416113614,
           44.19626866388311,
           96.14433236994705,
           90.07507041000999,
           85.4661833421227,
           135.3409711594518,
           202.38655212267707,
           230.8950150795628,
           263.26788749413794,
           314.9617363196801,
           329.12043584133966,
           427.33631747413256,
           null,
           null,
           null,
           null,
           null,
           null,
           null,
           null,
           null,
           null,
           null,
           null,
           null,
           null,
           null
          ]
         },
         "hovertemplate": "solver=baseline<br>problem=%{x}<br>time_mean=%{y}<extra></extra>",
         "legendgroup": "baseline",
         "marker": {
          "color": "#636efa",
          "symbol": "circle"
         },
         "mode": "markers",
         "name": "baseline",
         "orientation": "v",
         "showlegend": true,
         "type": "scatter",
         "x": [
          "0_01",
          "0_02",
          "0_03",
          "0_04",
          "0_05",
          "0_06",
          "0_07",
          "0_08",
          "0_09",
          "0_10",
          "0_11",
          "0_12",
          "0_13",
          "0_14",
          "0_15",
          "0_16",
          "0_17",
          "0_18",
          "0_19",
          "0_20",
          "0_21",
          "0_22",
          "0_23",
          "0_24",
          "0_25",
          "0_26",
          "0_27",
          "0_28",
          "0_29",
          "0_30",
          "1_01",
          "1_02",
          "1_03",
          "1_04",
          "1_05",
          "1_06",
          "1_07",
          "1_08",
          "1_09",
          "1_10",
          "1_11",
          "1_12",
          "1_13",
          "1_14",
          "1_15",
          "1_16",
          "1_17",
          "1_18",
          "1_19",
          "1_20",
          "1_21",
          "1_22",
          "1_23",
          "1_24",
          "1_25",
          "1_26",
          "1_27",
          "1_28",
          "1_29",
          "1_30",
          "2_01",
          "2_02",
          "2_03",
          "2_04",
          "2_05",
          "2_06",
          "2_07",
          "2_08",
          "2_09",
          "2_10",
          "2_11",
          "2_12",
          "2_13",
          "2_14",
          "2_15",
          "2_16",
          "2_17",
          "2_18",
          "2_19",
          "2_20",
          "2_21",
          "2_22",
          "2_23",
          "2_24",
          "2_25",
          "2_26",
          "2_27",
          "2_28",
          "2_29",
          "2_30"
         ],
         "xaxis": "x",
         "y": [
          1.3005968570709228,
          1.2161030530929566,
          1.3914765119552612,
          1.6220950365066529,
          1.5547158002853394,
          1.8048214435577392,
          1.6484172105789185,
          2.1163997888565063,
          2.0087812423706053,
          2.1155124425888063,
          2.307123875617981,
          2.4424405813217165,
          2.3826645612716675,
          2.3247733116149902,
          2.7071918487548827,
          3.159506416320801,
          3.026264524459839,
          2.571258854866028,
          2.8697120428085325,
          3.0009631156921386,
          3.459678840637207,
          2.718553066253662,
          3.5700248956680296,
          3.8509215831756594,
          3.5008399724960326,
          3.986996650695801,
          3.807930326461792,
          5.098945426940918,
          4.476991963386536,
          4.762737607955932,
          2.9561519861221313,
          3.445810866355896,
          4.356433033943176,
          5.37084653377533,
          5.439054560661316,
          6.7399450778961185,
          7.822976160049438,
          8.973668503761292,
          9.627798533439636,
          11.753897404670715,
          12.145763063430786,
          13.090474581718444,
          14.069276213645935,
          15.022521591186523,
          16.25993618965149,
          16.786309051513673,
          18.352112817764283,
          17.357147145271302,
          19.25057370662689,
          19.57760021686554,
          22.845690155029295,
          19.518667149543763,
          24.993056726455688,
          25.862093925476074,
          23.30822515487671,
          27.056499576568605,
          27.008444952964783,
          29.767556524276735,
          32.43016381263733,
          31.401032066345216,
          137.90591783523558,
          177.10187392234803,
          226.88895797729492,
          311.76762812137605,
          342.53242177963256,
          441.4077840089798,
          578.612979722023,
          725.2135076999664,
          809.0855633020401,
          967.5186148405076,
          1114.9095770597457,
          1165.3601789951324,
          1514.2073912620544,
          1701.165020942688,
          1713.8858298301698,
          null,
          null,
          null,
          null,
          null,
          null,
          null,
          null,
          null,
          null,
          null,
          null,
          null,
          null,
          null
         ],
         "yaxis": "y"
        },
        {
         "error_y": {
          "array": [
           null,
           null,
           null,
           null,
           null,
           null,
           null,
           null,
           null,
           null,
           null,
           null,
           null,
           null,
           null,
           null,
           null,
           null,
           null,
           null,
           null,
           null,
           null,
           null,
           null,
           null,
           null,
           null,
           null,
           null,
           null,
           null,
           null,
           null,
           null,
           null,
           null,
           null,
           null,
           null,
           null,
           null,
           null,
           null,
           null,
           null,
           null,
           null,
           null,
           null,
           null,
           null,
           null,
           null,
           null,
           null,
           null,
           null,
           null,
           null,
           null,
           null,
           null,
           null,
           null,
           null,
           null,
           null,
           null,
           null,
           null,
           null,
           null,
           null,
           null,
           null,
           null,
           null,
           null,
           null,
           null,
           null,
           null,
           null,
           null,
           null,
           null,
           null,
           null,
           null
          ]
         },
         "hovertemplate": "solver=scorpion<br>problem=%{x}<br>time_mean=%{y}<extra></extra>",
         "legendgroup": "scorpion",
         "marker": {
          "color": "#EF553B",
          "symbol": "circle"
         },
         "mode": "markers",
         "name": "scorpion",
         "orientation": "v",
         "showlegend": true,
         "type": "scatter",
         "x": [
          "0_01",
          "0_02",
          "0_03",
          "0_04",
          "0_05",
          "0_06",
          "0_07",
          "0_08",
          "0_09",
          "0_10",
          "0_11",
          "0_12",
          "0_13",
          "0_14",
          "0_15",
          "0_16",
          "0_17",
          "0_18",
          "0_19",
          "0_20",
          "0_21",
          "0_22",
          "0_23",
          "0_24",
          "0_25",
          "0_26",
          "0_27",
          "0_28",
          "0_29",
          "0_30",
          "1_01",
          "1_02",
          "1_03",
          "1_04",
          "1_05",
          "1_06",
          "1_07",
          "1_08",
          "1_09",
          "1_10",
          "1_11",
          "1_12",
          "1_13",
          "1_14",
          "1_15",
          "1_16",
          "1_17",
          "1_18",
          "1_19",
          "1_20",
          "1_21",
          "1_22",
          "1_23",
          "1_24",
          "1_25",
          "1_26",
          "1_27",
          "1_28",
          "1_29",
          "1_30",
          "2_01",
          "2_02",
          "2_03",
          "2_04",
          "2_05",
          "2_06",
          "2_07",
          "2_08",
          "2_09",
          "2_10",
          "2_11",
          "2_12",
          "2_13",
          "2_14",
          "2_15",
          "2_16",
          "2_17",
          "2_18",
          "2_19",
          "2_20",
          "2_21",
          "2_22",
          "2_23",
          "2_24",
          "2_25",
          "2_26",
          "2_27",
          "2_28",
          "2_29",
          "2_30"
         ],
         "xaxis": "x",
         "y": [
          0.017512,
          0.013013,
          0.02592,
          0.031531,
          0.278974,
          3.241179,
          6.976296,
          94.91807,
          100.209227,
          100.389123,
          101.877563,
          101.339361,
          101.180424,
          101.301587,
          149.787699,
          186.102259,
          17257.51511,
          195.564543,
          3524.891763,
          null,
          15298.435661,
          null,
          null,
          null,
          null,
          null,
          null,
          null,
          null,
          null,
          101.066473,
          159.130711,
          null,
          null,
          null,
          null,
          null,
          null,
          null,
          null,
          null,
          null,
          null,
          null,
          null,
          null,
          null,
          null,
          null,
          null,
          null,
          null,
          null,
          null,
          null,
          null,
          null,
          null,
          null,
          null,
          null,
          null,
          null,
          null,
          null,
          null,
          null,
          null,
          null,
          null,
          null,
          null,
          null,
          null,
          null,
          null,
          null,
          null,
          null,
          null,
          null,
          null,
          null,
          null,
          null,
          null,
          null,
          null,
          null,
          null
         ],
         "yaxis": "y"
        },
        {
         "error_y": {
          "array": [
           null,
           null,
           0.14968132932595332,
           0.05422090908490091,
           0.025557511762218054,
           0.010480235350718969,
           0.05489323561234669,
           0.014769941592157705,
           null,
           0.041612932233958025,
           0.015189555615932165,
           0.004840481257779158,
           0.026722956417241296,
           0.01278499361468864,
           0.025210053143094244,
           0.11460857645652195,
           0.03343374622453989,
           0.011063547734109683,
           0.030563714428342048,
           0.2211492345836942,
           0.08147963624041268,
           0.029534488387706014,
           0.034368057562329385,
           0.15754643702026827,
           0.05376302572267863,
           0.01688790502352715,
           0.00402502403279038,
           0.014770953116521966,
           0.08272263109669598,
           0.05424451132006701,
           null,
           null,
           0.5046201711234769,
           0.16260675623988027,
           0.04620070098806563,
           0.16041225413161503,
           0.2626797275819649,
           0.11536367939444313,
           0.42538527603475473,
           0.03448623732555409,
           0.026592301186857525,
           0.10783844388651986,
           0.03247448395243194,
           0.08153021245862577,
           0.14944429544992804,
           0.21255650369668716,
           0.4157341534879421,
           0.06687356159526535,
           0.013332565470542174,
           0.07867788233880438,
           0.593509054744711,
           0.2716971301145671,
           0.2212957370291162,
           0.27303858000897246,
           0.05221370757141809,
           0.09440556891652238,
           0.6297415202977676,
           0.31227662162303865,
           0.5443855541061117,
           0.6215598054774395,
           null,
           null,
           3.3199839644674127,
           0.012260518231788928,
           1.690561681514547,
           1.2735966714626827,
           1.8434193659316853,
           null,
           3.333940303295916,
           4.373951216703704,
           17.496273539770257,
           27.820576340592076,
           11.137717420944607,
           33.081369405369884,
           null,
           null,
           null
          ]
         },
         "hovertemplate": "solver=lrnn_1_1<br>problem=%{x}<br>time_mean=%{y}<extra></extra>",
         "legendgroup": "lrnn_1_1",
         "marker": {
          "color": "#00cc96",
          "symbol": "circle"
         },
         "mode": "markers",
         "name": "lrnn_1_1",
         "orientation": "v",
         "showlegend": true,
         "type": "scatter",
         "x": [
          "0_01",
          "0_02",
          "0_03",
          "0_04",
          "0_05",
          "0_06",
          "0_07",
          "0_08",
          "0_09",
          "0_10",
          "0_11",
          "0_12",
          "0_13",
          "0_14",
          "0_15",
          "0_16",
          "0_17",
          "0_18",
          "0_19",
          "0_20",
          "0_21",
          "0_22",
          "0_23",
          "0_24",
          "0_25",
          "0_26",
          "0_27",
          "0_28",
          "0_29",
          "0_30",
          "1_01",
          "1_02",
          "1_03",
          "1_04",
          "1_05",
          "1_06",
          "1_07",
          "1_08",
          "1_09",
          "1_10",
          "1_11",
          "1_12",
          "1_13",
          "1_14",
          "1_15",
          "1_16",
          "1_17",
          "1_18",
          "1_19",
          "1_20",
          "1_21",
          "1_22",
          "1_23",
          "1_24",
          "1_25",
          "1_26",
          "1_27",
          "1_28",
          "1_29",
          "1_30",
          "2_01",
          "2_02",
          "2_03",
          "2_04",
          "2_05",
          "2_06",
          "2_07",
          "2_08",
          "2_09",
          "2_10",
          "2_11",
          "2_12",
          "2_13",
          "2_14",
          "2_15",
          "2_16",
          "2_17"
         ],
         "xaxis": "x",
         "y": [
          0.3042004108428955,
          0.2155814170837402,
          0.35936117172241205,
          0.3101886510848999,
          0.37871360778808594,
          0.5065473318099976,
          0.46996748447418213,
          0.5567340850830078,
          0.5001728534698486,
          0.6503413915634155,
          0.7729121446609497,
          0.6123859882354736,
          0.6667035818099976,
          0.8189294338226318,
          0.7621201276779175,
          0.9777773618698121,
          1.0597070455551147,
          0.9598284959793092,
          1.0498143434524536,
          1.1599373817443848,
          1.139779806137085,
          1.1918375492095947,
          1.2384532690048218,
          1.3432914018630981,
          1.4657231569290161,
          1.597145915031433,
          1.343286156654358,
          1.5758156776428223,
          1.6167529821395874,
          1.7418919801712036,
          0.8618307113647461,
          1.0415170192718506,
          1.8726325035095213,
          1.634997010231018,
          1.997342586517334,
          2.4244134426116943,
          2.9258368015289307,
          3.448183298110962,
          3.753008008003235,
          3.9254539012908936,
          4.492280006408691,
          4.9461153745651245,
          5.090344548225403,
          5.848098993301392,
          6.2806854248046875,
          7.465522646903992,
          7.7712082862854,
          8.231154203414917,
          9.26984691619873,
          9.263495802879333,
          10.659510016441345,
          10.91239309310913,
          11.886167168617249,
          13.132425665855408,
          13.962456107139587,
          14.661528587341309,
          16.150094866752625,
          16.440746188163757,
          17.65570068359375,
          19.04117703437805,
          89.49479651451111,
          128.90925121307373,
          162.53182470798492,
          206.8519343137741,
          256.8757424354553,
          318.79276502132416,
          388.332847237587,
          492.5643849372864,
          558.6276081800461,
          674.4590474367142,
          800.7415728569031,
          924.6473574638367,
          1072.8012895584106,
          1217.6449319124222,
          1394.9633469581604,
          1554.2798261642456,
          1739.4963867664335
         ],
         "yaxis": "y"
        },
        {
         "error_y": {
          "array": [
           null,
           null,
           null,
           null,
           null,
           null,
           null,
           null,
           null,
           null,
           null,
           null,
           null,
           null,
           null,
           null,
           null,
           null,
           null,
           null,
           null,
           null
          ]
         },
         "hovertemplate": "solver=lrnn_2_1<br>problem=%{x}<br>time_mean=%{y}<extra></extra>",
         "legendgroup": "lrnn_2_1",
         "marker": {
          "color": "#ab63fa",
          "symbol": "circle"
         },
         "mode": "markers",
         "name": "lrnn_2_1",
         "orientation": "v",
         "showlegend": true,
         "type": "scatter",
         "x": [
          "0_13",
          "0_20",
          "0_21",
          "0_22",
          "0_23",
          "0_24",
          "0_25",
          "0_26",
          "0_27",
          "0_28",
          "0_29",
          "1_19",
          "1_20",
          "1_21",
          "1_22",
          "1_23",
          "1_24",
          "1_25",
          "1_26",
          "1_27",
          "1_28",
          "1_29"
         ],
         "xaxis": "x",
         "y": [
          0.9417970180511476,
          1.400012731552124,
          1.62251615524292,
          1.4099647998809814,
          1.4249014854431152,
          1.6812987327575684,
          1.84691858291626,
          1.863699197769165,
          1.8103082180023196,
          2.0912885665893555,
          2.199763536453247,
          16.18874979019165,
          16.339377641677856,
          17.77752161026001,
          18.332908153533936,
          21.45989465713501,
          22.93220925331116,
          25.01642394065857,
          26.35828709602356,
          27.91407942771912,
          28.715177297592163,
          32.45405673980713
         ],
         "yaxis": "y"
        }
       ],
       "layout": {
        "legend": {
         "title": {
          "text": "solver"
         },
         "tracegroupgap": 0
        },
        "margin": {
         "t": 60
        },
        "template": {
         "data": {
          "bar": [
           {
            "error_x": {
             "color": "#2a3f5f"
            },
            "error_y": {
             "color": "#2a3f5f"
            },
            "marker": {
             "line": {
              "color": "#E5ECF6",
              "width": 0.5
             },
             "pattern": {
              "fillmode": "overlay",
              "size": 10,
              "solidity": 0.2
             }
            },
            "type": "bar"
           }
          ],
          "barpolar": [
           {
            "marker": {
             "line": {
              "color": "#E5ECF6",
              "width": 0.5
             },
             "pattern": {
              "fillmode": "overlay",
              "size": 10,
              "solidity": 0.2
             }
            },
            "type": "barpolar"
           }
          ],
          "carpet": [
           {
            "aaxis": {
             "endlinecolor": "#2a3f5f",
             "gridcolor": "white",
             "linecolor": "white",
             "minorgridcolor": "white",
             "startlinecolor": "#2a3f5f"
            },
            "baxis": {
             "endlinecolor": "#2a3f5f",
             "gridcolor": "white",
             "linecolor": "white",
             "minorgridcolor": "white",
             "startlinecolor": "#2a3f5f"
            },
            "type": "carpet"
           }
          ],
          "choropleth": [
           {
            "colorbar": {
             "outlinewidth": 0,
             "ticks": ""
            },
            "type": "choropleth"
           }
          ],
          "contour": [
           {
            "colorbar": {
             "outlinewidth": 0,
             "ticks": ""
            },
            "colorscale": [
             [
              0,
              "#0d0887"
             ],
             [
              0.1111111111111111,
              "#46039f"
             ],
             [
              0.2222222222222222,
              "#7201a8"
             ],
             [
              0.3333333333333333,
              "#9c179e"
             ],
             [
              0.4444444444444444,
              "#bd3786"
             ],
             [
              0.5555555555555556,
              "#d8576b"
             ],
             [
              0.6666666666666666,
              "#ed7953"
             ],
             [
              0.7777777777777778,
              "#fb9f3a"
             ],
             [
              0.8888888888888888,
              "#fdca26"
             ],
             [
              1,
              "#f0f921"
             ]
            ],
            "type": "contour"
           }
          ],
          "contourcarpet": [
           {
            "colorbar": {
             "outlinewidth": 0,
             "ticks": ""
            },
            "type": "contourcarpet"
           }
          ],
          "heatmap": [
           {
            "colorbar": {
             "outlinewidth": 0,
             "ticks": ""
            },
            "colorscale": [
             [
              0,
              "#0d0887"
             ],
             [
              0.1111111111111111,
              "#46039f"
             ],
             [
              0.2222222222222222,
              "#7201a8"
             ],
             [
              0.3333333333333333,
              "#9c179e"
             ],
             [
              0.4444444444444444,
              "#bd3786"
             ],
             [
              0.5555555555555556,
              "#d8576b"
             ],
             [
              0.6666666666666666,
              "#ed7953"
             ],
             [
              0.7777777777777778,
              "#fb9f3a"
             ],
             [
              0.8888888888888888,
              "#fdca26"
             ],
             [
              1,
              "#f0f921"
             ]
            ],
            "type": "heatmap"
           }
          ],
          "heatmapgl": [
           {
            "colorbar": {
             "outlinewidth": 0,
             "ticks": ""
            },
            "colorscale": [
             [
              0,
              "#0d0887"
             ],
             [
              0.1111111111111111,
              "#46039f"
             ],
             [
              0.2222222222222222,
              "#7201a8"
             ],
             [
              0.3333333333333333,
              "#9c179e"
             ],
             [
              0.4444444444444444,
              "#bd3786"
             ],
             [
              0.5555555555555556,
              "#d8576b"
             ],
             [
              0.6666666666666666,
              "#ed7953"
             ],
             [
              0.7777777777777778,
              "#fb9f3a"
             ],
             [
              0.8888888888888888,
              "#fdca26"
             ],
             [
              1,
              "#f0f921"
             ]
            ],
            "type": "heatmapgl"
           }
          ],
          "histogram": [
           {
            "marker": {
             "pattern": {
              "fillmode": "overlay",
              "size": 10,
              "solidity": 0.2
             }
            },
            "type": "histogram"
           }
          ],
          "histogram2d": [
           {
            "colorbar": {
             "outlinewidth": 0,
             "ticks": ""
            },
            "colorscale": [
             [
              0,
              "#0d0887"
             ],
             [
              0.1111111111111111,
              "#46039f"
             ],
             [
              0.2222222222222222,
              "#7201a8"
             ],
             [
              0.3333333333333333,
              "#9c179e"
             ],
             [
              0.4444444444444444,
              "#bd3786"
             ],
             [
              0.5555555555555556,
              "#d8576b"
             ],
             [
              0.6666666666666666,
              "#ed7953"
             ],
             [
              0.7777777777777778,
              "#fb9f3a"
             ],
             [
              0.8888888888888888,
              "#fdca26"
             ],
             [
              1,
              "#f0f921"
             ]
            ],
            "type": "histogram2d"
           }
          ],
          "histogram2dcontour": [
           {
            "colorbar": {
             "outlinewidth": 0,
             "ticks": ""
            },
            "colorscale": [
             [
              0,
              "#0d0887"
             ],
             [
              0.1111111111111111,
              "#46039f"
             ],
             [
              0.2222222222222222,
              "#7201a8"
             ],
             [
              0.3333333333333333,
              "#9c179e"
             ],
             [
              0.4444444444444444,
              "#bd3786"
             ],
             [
              0.5555555555555556,
              "#d8576b"
             ],
             [
              0.6666666666666666,
              "#ed7953"
             ],
             [
              0.7777777777777778,
              "#fb9f3a"
             ],
             [
              0.8888888888888888,
              "#fdca26"
             ],
             [
              1,
              "#f0f921"
             ]
            ],
            "type": "histogram2dcontour"
           }
          ],
          "mesh3d": [
           {
            "colorbar": {
             "outlinewidth": 0,
             "ticks": ""
            },
            "type": "mesh3d"
           }
          ],
          "parcoords": [
           {
            "line": {
             "colorbar": {
              "outlinewidth": 0,
              "ticks": ""
             }
            },
            "type": "parcoords"
           }
          ],
          "pie": [
           {
            "automargin": true,
            "type": "pie"
           }
          ],
          "scatter": [
           {
            "fillpattern": {
             "fillmode": "overlay",
             "size": 10,
             "solidity": 0.2
            },
            "type": "scatter"
           }
          ],
          "scatter3d": [
           {
            "line": {
             "colorbar": {
              "outlinewidth": 0,
              "ticks": ""
             }
            },
            "marker": {
             "colorbar": {
              "outlinewidth": 0,
              "ticks": ""
             }
            },
            "type": "scatter3d"
           }
          ],
          "scattercarpet": [
           {
            "marker": {
             "colorbar": {
              "outlinewidth": 0,
              "ticks": ""
             }
            },
            "type": "scattercarpet"
           }
          ],
          "scattergeo": [
           {
            "marker": {
             "colorbar": {
              "outlinewidth": 0,
              "ticks": ""
             }
            },
            "type": "scattergeo"
           }
          ],
          "scattergl": [
           {
            "marker": {
             "colorbar": {
              "outlinewidth": 0,
              "ticks": ""
             }
            },
            "type": "scattergl"
           }
          ],
          "scattermapbox": [
           {
            "marker": {
             "colorbar": {
              "outlinewidth": 0,
              "ticks": ""
             }
            },
            "type": "scattermapbox"
           }
          ],
          "scatterpolar": [
           {
            "marker": {
             "colorbar": {
              "outlinewidth": 0,
              "ticks": ""
             }
            },
            "type": "scatterpolar"
           }
          ],
          "scatterpolargl": [
           {
            "marker": {
             "colorbar": {
              "outlinewidth": 0,
              "ticks": ""
             }
            },
            "type": "scatterpolargl"
           }
          ],
          "scatterternary": [
           {
            "marker": {
             "colorbar": {
              "outlinewidth": 0,
              "ticks": ""
             }
            },
            "type": "scatterternary"
           }
          ],
          "surface": [
           {
            "colorbar": {
             "outlinewidth": 0,
             "ticks": ""
            },
            "colorscale": [
             [
              0,
              "#0d0887"
             ],
             [
              0.1111111111111111,
              "#46039f"
             ],
             [
              0.2222222222222222,
              "#7201a8"
             ],
             [
              0.3333333333333333,
              "#9c179e"
             ],
             [
              0.4444444444444444,
              "#bd3786"
             ],
             [
              0.5555555555555556,
              "#d8576b"
             ],
             [
              0.6666666666666666,
              "#ed7953"
             ],
             [
              0.7777777777777778,
              "#fb9f3a"
             ],
             [
              0.8888888888888888,
              "#fdca26"
             ],
             [
              1,
              "#f0f921"
             ]
            ],
            "type": "surface"
           }
          ],
          "table": [
           {
            "cells": {
             "fill": {
              "color": "#EBF0F8"
             },
             "line": {
              "color": "white"
             }
            },
            "header": {
             "fill": {
              "color": "#C8D4E3"
             },
             "line": {
              "color": "white"
             }
            },
            "type": "table"
           }
          ]
         },
         "layout": {
          "annotationdefaults": {
           "arrowcolor": "#2a3f5f",
           "arrowhead": 0,
           "arrowwidth": 1
          },
          "autotypenumbers": "strict",
          "coloraxis": {
           "colorbar": {
            "outlinewidth": 0,
            "ticks": ""
           }
          },
          "colorscale": {
           "diverging": [
            [
             0,
             "#8e0152"
            ],
            [
             0.1,
             "#c51b7d"
            ],
            [
             0.2,
             "#de77ae"
            ],
            [
             0.3,
             "#f1b6da"
            ],
            [
             0.4,
             "#fde0ef"
            ],
            [
             0.5,
             "#f7f7f7"
            ],
            [
             0.6,
             "#e6f5d0"
            ],
            [
             0.7,
             "#b8e186"
            ],
            [
             0.8,
             "#7fbc41"
            ],
            [
             0.9,
             "#4d9221"
            ],
            [
             1,
             "#276419"
            ]
           ],
           "sequential": [
            [
             0,
             "#0d0887"
            ],
            [
             0.1111111111111111,
             "#46039f"
            ],
            [
             0.2222222222222222,
             "#7201a8"
            ],
            [
             0.3333333333333333,
             "#9c179e"
            ],
            [
             0.4444444444444444,
             "#bd3786"
            ],
            [
             0.5555555555555556,
             "#d8576b"
            ],
            [
             0.6666666666666666,
             "#ed7953"
            ],
            [
             0.7777777777777778,
             "#fb9f3a"
            ],
            [
             0.8888888888888888,
             "#fdca26"
            ],
            [
             1,
             "#f0f921"
            ]
           ],
           "sequentialminus": [
            [
             0,
             "#0d0887"
            ],
            [
             0.1111111111111111,
             "#46039f"
            ],
            [
             0.2222222222222222,
             "#7201a8"
            ],
            [
             0.3333333333333333,
             "#9c179e"
            ],
            [
             0.4444444444444444,
             "#bd3786"
            ],
            [
             0.5555555555555556,
             "#d8576b"
            ],
            [
             0.6666666666666666,
             "#ed7953"
            ],
            [
             0.7777777777777778,
             "#fb9f3a"
            ],
            [
             0.8888888888888888,
             "#fdca26"
            ],
            [
             1,
             "#f0f921"
            ]
           ]
          },
          "colorway": [
           "#636efa",
           "#EF553B",
           "#00cc96",
           "#ab63fa",
           "#FFA15A",
           "#19d3f3",
           "#FF6692",
           "#B6E880",
           "#FF97FF",
           "#FECB52"
          ],
          "font": {
           "color": "#2a3f5f"
          },
          "geo": {
           "bgcolor": "white",
           "lakecolor": "white",
           "landcolor": "#E5ECF6",
           "showlakes": true,
           "showland": true,
           "subunitcolor": "white"
          },
          "hoverlabel": {
           "align": "left"
          },
          "hovermode": "closest",
          "mapbox": {
           "style": "light"
          },
          "paper_bgcolor": "white",
          "plot_bgcolor": "#E5ECF6",
          "polar": {
           "angularaxis": {
            "gridcolor": "white",
            "linecolor": "white",
            "ticks": ""
           },
           "bgcolor": "#E5ECF6",
           "radialaxis": {
            "gridcolor": "white",
            "linecolor": "white",
            "ticks": ""
           }
          },
          "scene": {
           "xaxis": {
            "backgroundcolor": "#E5ECF6",
            "gridcolor": "white",
            "gridwidth": 2,
            "linecolor": "white",
            "showbackground": true,
            "ticks": "",
            "zerolinecolor": "white"
           },
           "yaxis": {
            "backgroundcolor": "#E5ECF6",
            "gridcolor": "white",
            "gridwidth": 2,
            "linecolor": "white",
            "showbackground": true,
            "ticks": "",
            "zerolinecolor": "white"
           },
           "zaxis": {
            "backgroundcolor": "#E5ECF6",
            "gridcolor": "white",
            "gridwidth": 2,
            "linecolor": "white",
            "showbackground": true,
            "ticks": "",
            "zerolinecolor": "white"
           }
          },
          "shapedefaults": {
           "line": {
            "color": "#2a3f5f"
           }
          },
          "ternary": {
           "aaxis": {
            "gridcolor": "white",
            "linecolor": "white",
            "ticks": ""
           },
           "baxis": {
            "gridcolor": "white",
            "linecolor": "white",
            "ticks": ""
           },
           "bgcolor": "#E5ECF6",
           "caxis": {
            "gridcolor": "white",
            "linecolor": "white",
            "ticks": ""
           }
          },
          "title": {
           "x": 0.05
          },
          "xaxis": {
           "automargin": true,
           "gridcolor": "white",
           "linecolor": "white",
           "ticks": "",
           "title": {
            "standoff": 15
           },
           "zerolinecolor": "white",
           "zerolinewidth": 2
          },
          "yaxis": {
           "automargin": true,
           "gridcolor": "white",
           "linecolor": "white",
           "ticks": "",
           "title": {
            "standoff": 15
           },
           "zerolinecolor": "white",
           "zerolinewidth": 2
          }
         }
        },
        "xaxis": {
         "anchor": "y",
         "domain": [
          0,
          1
         ],
         "title": {
          "text": "problem"
         }
        },
        "yaxis": {
         "anchor": "x",
         "domain": [
          0,
          1
         ],
         "title": {
          "text": "time_mean"
         }
        }
       }
      }
     },
     "metadata": {},
     "output_type": "display_data"
    },
    {
     "name": "stdout",
     "output_type": "stream",
     "text": [
      "miconic\n"
     ]
    },
    {
     "data": {
      "application/vnd.plotly.v1+json": {
       "config": {
        "plotlyServerURL": "https://plot.ly"
       },
       "data": [
        {
         "error_y": {
          "array": [
           0.09692908447641248,
           0.14556338203030492,
           0.19350391384314966,
           0.017995256613211084,
           0.3458085447368885,
           0.06686302769253774,
           0.055953079565919626,
           0.534125259354264,
           0.5481995067215595,
           0.401882935112859,
           0.4487001626763875,
           0.19329519032157716,
           0.1548182709390173,
           0.18518054727645405,
           0.6816020979533195,
           0.10874465096138693,
           0.10509683088236184,
           0.5362580087082341,
           0.0934454637074436,
           0.47462364327078543,
           0.42630830210837595,
           0.8498674210836502,
           1.0431805646083196,
           0.19796102842768062,
           0.5497679208166908,
           1.2684120280427127,
           0.8207246223439161,
           3.116631683761154,
           1.3104499598202972,
           0.7914587303917595,
           8.816652585712605,
           3.670149634887905,
           3.497038373287096,
           9.0577411080669,
           2.0471690327509102,
           9.475609943578407,
           11.90861719280622,
           5.3045037802307204,
           5.40113566399787,
           8.351600919698063,
           30.052124854348808,
           14.824899917121956,
           6.968758191566622,
           27.085187001006005,
           28.524697461130923,
           20.31907226599692,
           15.993541213550174,
           55.46293630351838,
           28.39037936325495,
           32.089647175469175,
           20.952691370211156,
           16.44535463342456,
           39.66436479114116,
           31.62844446840148,
           10.503559079510051,
           104.46041348051028,
           112.70100182495422,
           144.31943558107957,
           73.35292154010408,
           108.41706111098652,
           80.48579174555574,
           3.3200498821384836,
           96.74866699852907,
           249.18724457850337,
           305.15685902113324,
           104.62680270495025,
           293.4686624107149,
           1509.245847411315,
           546.7718004523143,
           654.2554238444548,
           1295.3124483464837,
           2667.766812640266,
           null,
           69.19430750757441,
           null,
           3606.3426385258654,
           1711.5480761945266,
           null,
           3192.201903772591,
           null,
           null,
           4514.940520448204,
           3940.8705826101736,
           1125.9434532075206,
           null,
           5912.24407107503,
           null,
           null,
           5459.7969450353285,
           7270.577178496393
          ]
         },
         "hovertemplate": "solver=baseline<br>problem=%{x}<br>time_mean=%{y}<extra></extra>",
         "legendgroup": "baseline",
         "marker": {
          "color": "#636efa",
          "symbol": "circle"
         },
         "mode": "markers",
         "name": "baseline",
         "orientation": "v",
         "showlegend": true,
         "type": "scatter",
         "x": [
          "0_01",
          "0_02",
          "0_03",
          "0_04",
          "0_05",
          "0_06",
          "0_07",
          "0_08",
          "0_09",
          "0_10",
          "0_11",
          "0_12",
          "0_13",
          "0_14",
          "0_15",
          "0_16",
          "0_17",
          "0_18",
          "0_19",
          "0_20",
          "0_21",
          "0_22",
          "0_23",
          "0_24",
          "0_25",
          "0_26",
          "0_27",
          "0_28",
          "0_29",
          "0_30",
          "1_01",
          "1_02",
          "1_03",
          "1_04",
          "1_05",
          "1_06",
          "1_07",
          "1_08",
          "1_09",
          "1_10",
          "1_11",
          "1_12",
          "1_13",
          "1_14",
          "1_15",
          "1_16",
          "1_17",
          "1_18",
          "1_19",
          "1_20",
          "1_21",
          "1_22",
          "1_23",
          "1_24",
          "1_25",
          "1_26",
          "1_27",
          "1_28",
          "1_29",
          "1_30",
          "2_01",
          "2_02",
          "2_03",
          "2_04",
          "2_05",
          "2_06",
          "2_07",
          "2_08",
          "2_09",
          "2_10",
          "2_11",
          "2_12",
          "2_13",
          "2_14",
          "2_15",
          "2_16",
          "2_17",
          "2_18",
          "2_19",
          "2_20",
          "2_21",
          "2_22",
          "2_23",
          "2_24",
          "2_25",
          "2_26",
          "2_27",
          "2_28",
          "2_29",
          "2_30"
         ],
         "xaxis": "x",
         "y": [
          1.1171092510223388,
          1.1042555809020995,
          1.0724852800369262,
          1.604238510131836,
          1.401854674021403,
          1.6291991074879963,
          1.4031792879104614,
          2.2474329471588135,
          1.939083456993103,
          2.3000529408454895,
          2.020452896753947,
          2.5545430183410645,
          3.129014571507772,
          2.7460275650024415,
          3.421983321507772,
          3.5594616731007895,
          3.8776652018229165,
          3.6521550019582114,
          3.8403488397598267,
          4.275546153386434,
          4.538931290308635,
          5.29092812538147,
          5.358763694763184,
          6.252983649571736,
          5.5778201421101885,
          6.232021013895671,
          6.897229035695394,
          8.3775421778361,
          6.955041726430257,
          9.719780604044596,
          22.883380730946858,
          18.839446544647217,
          21.364693482716877,
          29.645288050174713,
          26.685023427009583,
          36.1332323551178,
          42.12279438972473,
          45.285797913869224,
          32.38345921039581,
          44.65368151664734,
          55.92621827125549,
          49.03298497200012,
          48.5230553150177,
          90.28888583183289,
          85.5051228205363,
          101.95109804471333,
          101.16599488258362,
          118.90159908930461,
          117.40291396776836,
          112.78936537106831,
          117.57332265377045,
          146.60469460487366,
          146.59493144353232,
          148.98453032970428,
          212.45716857910156,
          214.85896754264832,
          235.57188216845194,
          230.69065117835999,
          167.15731608867645,
          204.54406452178955,
          251.31924970944723,
          299.2005648612976,
          447.82364265124005,
          697.0255740483602,
          899.1572213967642,
          1236.5640614032745,
          1669.7772680123646,
          2394.4434928099313,
          2356.9367693066597,
          2187.3593611121178,
          4015.014168024063,
          4881.76613175869,
          4247.472106933594,
          5389.350341916084,
          4056.464559793472,
          8142.746151685715,
          7138.95789416631,
          7207.130442142487,
          14676.268655379614,
          7875.143935680389,
          17885.545788049698,
          17762.602758407593,
          20540.423205137253,
          15856.278479337692,
          19394.157937288284,
          24531.89667359988,
          23001.799177885056,
          25931.39696788788,
          30260.201449513435,
          33315.780373215675
         ],
         "yaxis": "y"
        },
        {
         "error_y": {
          "array": [
           null,
           null,
           null,
           null,
           null,
           null,
           null,
           null,
           null,
           null,
           null,
           null,
           null,
           null,
           null,
           null,
           null,
           null,
           null,
           null,
           null,
           null,
           null,
           null,
           null,
           null,
           null,
           null,
           null,
           null,
           null,
           null,
           null,
           null,
           null,
           null,
           null,
           null,
           null,
           null,
           null,
           null,
           null,
           null,
           null,
           null,
           null,
           null,
           null,
           null,
           null,
           null,
           null,
           null,
           null,
           null,
           null,
           null,
           null,
           null,
           null,
           null,
           null,
           null,
           null,
           null,
           null,
           null,
           null,
           null,
           null,
           null,
           null,
           null,
           null,
           null,
           null,
           null,
           null,
           null,
           null,
           null,
           null,
           null,
           null,
           null,
           null,
           null,
           null,
           null
          ]
         },
         "hovertemplate": "solver=scorpion<br>problem=%{x}<br>time_mean=%{y}<extra></extra>",
         "legendgroup": "scorpion",
         "marker": {
          "color": "#EF553B",
          "symbol": "circle"
         },
         "mode": "markers",
         "name": "scorpion",
         "orientation": "v",
         "showlegend": true,
         "type": "scatter",
         "x": [
          "0_01",
          "0_02",
          "0_03",
          "0_04",
          "0_05",
          "0_06",
          "0_07",
          "0_08",
          "0_09",
          "0_10",
          "0_11",
          "0_12",
          "0_13",
          "0_14",
          "0_15",
          "0_16",
          "0_17",
          "0_18",
          "0_19",
          "0_20",
          "0_21",
          "0_22",
          "0_23",
          "0_24",
          "0_25",
          "0_26",
          "0_27",
          "0_28",
          "0_29",
          "0_30",
          "1_01",
          "1_02",
          "1_03",
          "1_04",
          "1_05",
          "1_06",
          "1_07",
          "1_08",
          "1_09",
          "1_10",
          "1_11",
          "1_12",
          "1_13",
          "1_14",
          "1_15",
          "1_16",
          "1_17",
          "1_18",
          "1_19",
          "1_20",
          "1_21",
          "1_22",
          "1_23",
          "1_24",
          "1_25",
          "1_26",
          "1_27",
          "1_28",
          "1_29",
          "1_30",
          "2_01",
          "2_02",
          "2_03",
          "2_04",
          "2_05",
          "2_06",
          "2_07",
          "2_08",
          "2_09",
          "2_10",
          "2_11",
          "2_12",
          "2_13",
          "2_14",
          "2_15",
          "2_16",
          "2_17",
          "2_18",
          "2_19",
          "2_20",
          "2_21",
          "2_22",
          "2_23",
          "2_24",
          "2_25",
          "2_26",
          "2_27",
          "2_28",
          "2_29",
          "2_30"
         ],
         "xaxis": "x",
         "y": [
          0.010209,
          0.011527,
          0.011571,
          0.01077,
          0.014244,
          0.014794,
          0.012743,
          0.013526,
          0.019349,
          0.028469,
          0.029656,
          0.031706,
          0.060124,
          0.06313,
          0.062323,
          0.221987,
          0.244103,
          0.180251,
          1.291682,
          1.286982,
          1.386253,
          7.700486,
          10.153724,
          7.485449,
          73.505359,
          66.533627,
          71.955674,
          100.210802,
          100.200682,
          100.440539,
          100.40855,
          100.707231,
          100.558604,
          100.855271,
          100.924502,
          101.101503,
          135.712945,
          null,
          469.711946,
          466.519958,
          null,
          104.747313,
          115.580931,
          null,
          1698.646462,
          null,
          null,
          null,
          4620.43489,
          10612.246478,
          null,
          null,
          null,
          null,
          null,
          null,
          null,
          null,
          null,
          null,
          108.678363,
          null,
          null,
          null,
          null,
          null,
          null,
          null,
          null,
          null,
          null,
          null,
          null,
          null,
          null,
          null,
          null,
          null,
          null,
          null,
          null,
          null,
          null,
          null,
          null,
          null,
          null,
          null,
          null,
          null
         ],
         "yaxis": "y"
        }
       ],
       "layout": {
        "legend": {
         "title": {
          "text": "solver"
         },
         "tracegroupgap": 0
        },
        "margin": {
         "t": 60
        },
        "template": {
         "data": {
          "bar": [
           {
            "error_x": {
             "color": "#2a3f5f"
            },
            "error_y": {
             "color": "#2a3f5f"
            },
            "marker": {
             "line": {
              "color": "#E5ECF6",
              "width": 0.5
             },
             "pattern": {
              "fillmode": "overlay",
              "size": 10,
              "solidity": 0.2
             }
            },
            "type": "bar"
           }
          ],
          "barpolar": [
           {
            "marker": {
             "line": {
              "color": "#E5ECF6",
              "width": 0.5
             },
             "pattern": {
              "fillmode": "overlay",
              "size": 10,
              "solidity": 0.2
             }
            },
            "type": "barpolar"
           }
          ],
          "carpet": [
           {
            "aaxis": {
             "endlinecolor": "#2a3f5f",
             "gridcolor": "white",
             "linecolor": "white",
             "minorgridcolor": "white",
             "startlinecolor": "#2a3f5f"
            },
            "baxis": {
             "endlinecolor": "#2a3f5f",
             "gridcolor": "white",
             "linecolor": "white",
             "minorgridcolor": "white",
             "startlinecolor": "#2a3f5f"
            },
            "type": "carpet"
           }
          ],
          "choropleth": [
           {
            "colorbar": {
             "outlinewidth": 0,
             "ticks": ""
            },
            "type": "choropleth"
           }
          ],
          "contour": [
           {
            "colorbar": {
             "outlinewidth": 0,
             "ticks": ""
            },
            "colorscale": [
             [
              0,
              "#0d0887"
             ],
             [
              0.1111111111111111,
              "#46039f"
             ],
             [
              0.2222222222222222,
              "#7201a8"
             ],
             [
              0.3333333333333333,
              "#9c179e"
             ],
             [
              0.4444444444444444,
              "#bd3786"
             ],
             [
              0.5555555555555556,
              "#d8576b"
             ],
             [
              0.6666666666666666,
              "#ed7953"
             ],
             [
              0.7777777777777778,
              "#fb9f3a"
             ],
             [
              0.8888888888888888,
              "#fdca26"
             ],
             [
              1,
              "#f0f921"
             ]
            ],
            "type": "contour"
           }
          ],
          "contourcarpet": [
           {
            "colorbar": {
             "outlinewidth": 0,
             "ticks": ""
            },
            "type": "contourcarpet"
           }
          ],
          "heatmap": [
           {
            "colorbar": {
             "outlinewidth": 0,
             "ticks": ""
            },
            "colorscale": [
             [
              0,
              "#0d0887"
             ],
             [
              0.1111111111111111,
              "#46039f"
             ],
             [
              0.2222222222222222,
              "#7201a8"
             ],
             [
              0.3333333333333333,
              "#9c179e"
             ],
             [
              0.4444444444444444,
              "#bd3786"
             ],
             [
              0.5555555555555556,
              "#d8576b"
             ],
             [
              0.6666666666666666,
              "#ed7953"
             ],
             [
              0.7777777777777778,
              "#fb9f3a"
             ],
             [
              0.8888888888888888,
              "#fdca26"
             ],
             [
              1,
              "#f0f921"
             ]
            ],
            "type": "heatmap"
           }
          ],
          "heatmapgl": [
           {
            "colorbar": {
             "outlinewidth": 0,
             "ticks": ""
            },
            "colorscale": [
             [
              0,
              "#0d0887"
             ],
             [
              0.1111111111111111,
              "#46039f"
             ],
             [
              0.2222222222222222,
              "#7201a8"
             ],
             [
              0.3333333333333333,
              "#9c179e"
             ],
             [
              0.4444444444444444,
              "#bd3786"
             ],
             [
              0.5555555555555556,
              "#d8576b"
             ],
             [
              0.6666666666666666,
              "#ed7953"
             ],
             [
              0.7777777777777778,
              "#fb9f3a"
             ],
             [
              0.8888888888888888,
              "#fdca26"
             ],
             [
              1,
              "#f0f921"
             ]
            ],
            "type": "heatmapgl"
           }
          ],
          "histogram": [
           {
            "marker": {
             "pattern": {
              "fillmode": "overlay",
              "size": 10,
              "solidity": 0.2
             }
            },
            "type": "histogram"
           }
          ],
          "histogram2d": [
           {
            "colorbar": {
             "outlinewidth": 0,
             "ticks": ""
            },
            "colorscale": [
             [
              0,
              "#0d0887"
             ],
             [
              0.1111111111111111,
              "#46039f"
             ],
             [
              0.2222222222222222,
              "#7201a8"
             ],
             [
              0.3333333333333333,
              "#9c179e"
             ],
             [
              0.4444444444444444,
              "#bd3786"
             ],
             [
              0.5555555555555556,
              "#d8576b"
             ],
             [
              0.6666666666666666,
              "#ed7953"
             ],
             [
              0.7777777777777778,
              "#fb9f3a"
             ],
             [
              0.8888888888888888,
              "#fdca26"
             ],
             [
              1,
              "#f0f921"
             ]
            ],
            "type": "histogram2d"
           }
          ],
          "histogram2dcontour": [
           {
            "colorbar": {
             "outlinewidth": 0,
             "ticks": ""
            },
            "colorscale": [
             [
              0,
              "#0d0887"
             ],
             [
              0.1111111111111111,
              "#46039f"
             ],
             [
              0.2222222222222222,
              "#7201a8"
             ],
             [
              0.3333333333333333,
              "#9c179e"
             ],
             [
              0.4444444444444444,
              "#bd3786"
             ],
             [
              0.5555555555555556,
              "#d8576b"
             ],
             [
              0.6666666666666666,
              "#ed7953"
             ],
             [
              0.7777777777777778,
              "#fb9f3a"
             ],
             [
              0.8888888888888888,
              "#fdca26"
             ],
             [
              1,
              "#f0f921"
             ]
            ],
            "type": "histogram2dcontour"
           }
          ],
          "mesh3d": [
           {
            "colorbar": {
             "outlinewidth": 0,
             "ticks": ""
            },
            "type": "mesh3d"
           }
          ],
          "parcoords": [
           {
            "line": {
             "colorbar": {
              "outlinewidth": 0,
              "ticks": ""
             }
            },
            "type": "parcoords"
           }
          ],
          "pie": [
           {
            "automargin": true,
            "type": "pie"
           }
          ],
          "scatter": [
           {
            "fillpattern": {
             "fillmode": "overlay",
             "size": 10,
             "solidity": 0.2
            },
            "type": "scatter"
           }
          ],
          "scatter3d": [
           {
            "line": {
             "colorbar": {
              "outlinewidth": 0,
              "ticks": ""
             }
            },
            "marker": {
             "colorbar": {
              "outlinewidth": 0,
              "ticks": ""
             }
            },
            "type": "scatter3d"
           }
          ],
          "scattercarpet": [
           {
            "marker": {
             "colorbar": {
              "outlinewidth": 0,
              "ticks": ""
             }
            },
            "type": "scattercarpet"
           }
          ],
          "scattergeo": [
           {
            "marker": {
             "colorbar": {
              "outlinewidth": 0,
              "ticks": ""
             }
            },
            "type": "scattergeo"
           }
          ],
          "scattergl": [
           {
            "marker": {
             "colorbar": {
              "outlinewidth": 0,
              "ticks": ""
             }
            },
            "type": "scattergl"
           }
          ],
          "scattermapbox": [
           {
            "marker": {
             "colorbar": {
              "outlinewidth": 0,
              "ticks": ""
             }
            },
            "type": "scattermapbox"
           }
          ],
          "scatterpolar": [
           {
            "marker": {
             "colorbar": {
              "outlinewidth": 0,
              "ticks": ""
             }
            },
            "type": "scatterpolar"
           }
          ],
          "scatterpolargl": [
           {
            "marker": {
             "colorbar": {
              "outlinewidth": 0,
              "ticks": ""
             }
            },
            "type": "scatterpolargl"
           }
          ],
          "scatterternary": [
           {
            "marker": {
             "colorbar": {
              "outlinewidth": 0,
              "ticks": ""
             }
            },
            "type": "scatterternary"
           }
          ],
          "surface": [
           {
            "colorbar": {
             "outlinewidth": 0,
             "ticks": ""
            },
            "colorscale": [
             [
              0,
              "#0d0887"
             ],
             [
              0.1111111111111111,
              "#46039f"
             ],
             [
              0.2222222222222222,
              "#7201a8"
             ],
             [
              0.3333333333333333,
              "#9c179e"
             ],
             [
              0.4444444444444444,
              "#bd3786"
             ],
             [
              0.5555555555555556,
              "#d8576b"
             ],
             [
              0.6666666666666666,
              "#ed7953"
             ],
             [
              0.7777777777777778,
              "#fb9f3a"
             ],
             [
              0.8888888888888888,
              "#fdca26"
             ],
             [
              1,
              "#f0f921"
             ]
            ],
            "type": "surface"
           }
          ],
          "table": [
           {
            "cells": {
             "fill": {
              "color": "#EBF0F8"
             },
             "line": {
              "color": "white"
             }
            },
            "header": {
             "fill": {
              "color": "#C8D4E3"
             },
             "line": {
              "color": "white"
             }
            },
            "type": "table"
           }
          ]
         },
         "layout": {
          "annotationdefaults": {
           "arrowcolor": "#2a3f5f",
           "arrowhead": 0,
           "arrowwidth": 1
          },
          "autotypenumbers": "strict",
          "coloraxis": {
           "colorbar": {
            "outlinewidth": 0,
            "ticks": ""
           }
          },
          "colorscale": {
           "diverging": [
            [
             0,
             "#8e0152"
            ],
            [
             0.1,
             "#c51b7d"
            ],
            [
             0.2,
             "#de77ae"
            ],
            [
             0.3,
             "#f1b6da"
            ],
            [
             0.4,
             "#fde0ef"
            ],
            [
             0.5,
             "#f7f7f7"
            ],
            [
             0.6,
             "#e6f5d0"
            ],
            [
             0.7,
             "#b8e186"
            ],
            [
             0.8,
             "#7fbc41"
            ],
            [
             0.9,
             "#4d9221"
            ],
            [
             1,
             "#276419"
            ]
           ],
           "sequential": [
            [
             0,
             "#0d0887"
            ],
            [
             0.1111111111111111,
             "#46039f"
            ],
            [
             0.2222222222222222,
             "#7201a8"
            ],
            [
             0.3333333333333333,
             "#9c179e"
            ],
            [
             0.4444444444444444,
             "#bd3786"
            ],
            [
             0.5555555555555556,
             "#d8576b"
            ],
            [
             0.6666666666666666,
             "#ed7953"
            ],
            [
             0.7777777777777778,
             "#fb9f3a"
            ],
            [
             0.8888888888888888,
             "#fdca26"
            ],
            [
             1,
             "#f0f921"
            ]
           ],
           "sequentialminus": [
            [
             0,
             "#0d0887"
            ],
            [
             0.1111111111111111,
             "#46039f"
            ],
            [
             0.2222222222222222,
             "#7201a8"
            ],
            [
             0.3333333333333333,
             "#9c179e"
            ],
            [
             0.4444444444444444,
             "#bd3786"
            ],
            [
             0.5555555555555556,
             "#d8576b"
            ],
            [
             0.6666666666666666,
             "#ed7953"
            ],
            [
             0.7777777777777778,
             "#fb9f3a"
            ],
            [
             0.8888888888888888,
             "#fdca26"
            ],
            [
             1,
             "#f0f921"
            ]
           ]
          },
          "colorway": [
           "#636efa",
           "#EF553B",
           "#00cc96",
           "#ab63fa",
           "#FFA15A",
           "#19d3f3",
           "#FF6692",
           "#B6E880",
           "#FF97FF",
           "#FECB52"
          ],
          "font": {
           "color": "#2a3f5f"
          },
          "geo": {
           "bgcolor": "white",
           "lakecolor": "white",
           "landcolor": "#E5ECF6",
           "showlakes": true,
           "showland": true,
           "subunitcolor": "white"
          },
          "hoverlabel": {
           "align": "left"
          },
          "hovermode": "closest",
          "mapbox": {
           "style": "light"
          },
          "paper_bgcolor": "white",
          "plot_bgcolor": "#E5ECF6",
          "polar": {
           "angularaxis": {
            "gridcolor": "white",
            "linecolor": "white",
            "ticks": ""
           },
           "bgcolor": "#E5ECF6",
           "radialaxis": {
            "gridcolor": "white",
            "linecolor": "white",
            "ticks": ""
           }
          },
          "scene": {
           "xaxis": {
            "backgroundcolor": "#E5ECF6",
            "gridcolor": "white",
            "gridwidth": 2,
            "linecolor": "white",
            "showbackground": true,
            "ticks": "",
            "zerolinecolor": "white"
           },
           "yaxis": {
            "backgroundcolor": "#E5ECF6",
            "gridcolor": "white",
            "gridwidth": 2,
            "linecolor": "white",
            "showbackground": true,
            "ticks": "",
            "zerolinecolor": "white"
           },
           "zaxis": {
            "backgroundcolor": "#E5ECF6",
            "gridcolor": "white",
            "gridwidth": 2,
            "linecolor": "white",
            "showbackground": true,
            "ticks": "",
            "zerolinecolor": "white"
           }
          },
          "shapedefaults": {
           "line": {
            "color": "#2a3f5f"
           }
          },
          "ternary": {
           "aaxis": {
            "gridcolor": "white",
            "linecolor": "white",
            "ticks": ""
           },
           "baxis": {
            "gridcolor": "white",
            "linecolor": "white",
            "ticks": ""
           },
           "bgcolor": "#E5ECF6",
           "caxis": {
            "gridcolor": "white",
            "linecolor": "white",
            "ticks": ""
           }
          },
          "title": {
           "x": 0.05
          },
          "xaxis": {
           "automargin": true,
           "gridcolor": "white",
           "linecolor": "white",
           "ticks": "",
           "title": {
            "standoff": 15
           },
           "zerolinecolor": "white",
           "zerolinewidth": 2
          },
          "yaxis": {
           "automargin": true,
           "gridcolor": "white",
           "linecolor": "white",
           "ticks": "",
           "title": {
            "standoff": 15
           },
           "zerolinecolor": "white",
           "zerolinewidth": 2
          }
         }
        },
        "xaxis": {
         "anchor": "y",
         "domain": [
          0,
          1
         ],
         "title": {
          "text": "problem"
         }
        },
        "yaxis": {
         "anchor": "x",
         "domain": [
          0,
          1
         ],
         "title": {
          "text": "time_mean"
         }
        }
       }
      }
     },
     "metadata": {},
     "output_type": "display_data"
    },
    {
     "name": "stdout",
     "output_type": "stream",
     "text": [
      "satellite\n"
     ]
    },
    {
     "data": {
      "application/vnd.plotly.v1+json": {
       "config": {
        "plotlyServerURL": "https://plot.ly"
       },
       "data": [
        {
         "error_y": {
          "array": [
           0.0792101225577407,
           0.2507399666640351,
           0.08819251579962051,
           0.1220563071507253,
           0.08546199509740732,
           0.2581606511531638,
           0.14741323927375435,
           0.5055233145341599,
           0.152252444539545,
           0.4301994836358568,
           0.2808719882714725,
           0.4964115149607845,
           0.9282895786574772,
           0.19752268203441728,
           0.3330778108006436,
           0.39210462981427313,
           0.6669674853966896,
           0.8572381496561015,
           1.2225167721101233,
           1.390824006686423,
           0.3482439813799705,
           1.1949739344124393,
           1.1243879065897955,
           0.49338866849889157,
           1.4160625128124156,
           1.7574272879312332,
           0.9792863156711632,
           1.364807355258422,
           0.6372906952156456,
           0.75826679036662,
           1.856096853085404,
           1.4845715004657087,
           0.5729729627115396,
           0.6231171507638459,
           1.0763345663126374,
           1.209198924006827,
           1.683622905031028,
           1.247561214438351,
           1.999739163606191,
           0.7073425407667815,
           4.280773084593457,
           5.879609994000183,
           2.480713570278904,
           4.468726305520001,
           3.4391387928500174,
           16.620964857779555,
           4.733454055537014,
           5.320551496572553,
           3.571491674216908,
           20.97147198204628,
           5.293114539470953,
           5.6419289325567785,
           7.3535417812260215,
           27.04251267943087,
           2.2244665170314843,
           22.878168280043045,
           15.856625981993902,
           10.693616215138062,
           24.487100073163006,
           9.574884775326431,
           13.792541670019691,
           22.641460245186632,
           17.701299976535108,
           25.31214744820924,
           5.060396294134541,
           33.42001656709976,
           21.60587670323549,
           43.30590133364151,
           72.0401830299003,
           111.24714790828277,
           64.5794987443445,
           37.20964133540908,
           114.08391376811164,
           45.37232166709628,
           177.17155828911345,
           100.75909013160802,
           null,
           129.47987316417425,
           273.4787975298314,
           59.5600940022651,
           146.4402393773243,
           76.09007322103166,
           417.01728149968426,
           306.5938412026672,
           334.99640597109465,
           1065.4039554122276,
           225.02250294414858,
           327.8841165860472,
           390.2791305320444,
           1131.5582157273716
          ]
         },
         "hovertemplate": "solver=baseline<br>problem=%{x}<br>time_mean=%{y}<extra></extra>",
         "legendgroup": "baseline",
         "marker": {
          "color": "#636efa",
          "symbol": "circle"
         },
         "mode": "markers",
         "name": "baseline",
         "orientation": "v",
         "showlegend": true,
         "type": "scatter",
         "x": [
          "0_01",
          "0_02",
          "0_03",
          "0_04",
          "0_05",
          "0_06",
          "0_07",
          "0_08",
          "0_09",
          "0_10",
          "0_11",
          "0_12",
          "0_13",
          "0_14",
          "0_15",
          "0_16",
          "0_17",
          "0_18",
          "0_19",
          "0_20",
          "0_21",
          "0_22",
          "0_23",
          "0_24",
          "0_25",
          "0_26",
          "0_27",
          "0_28",
          "0_29",
          "0_30",
          "1_01",
          "1_02",
          "1_03",
          "1_04",
          "1_05",
          "1_06",
          "1_07",
          "1_08",
          "1_09",
          "1_10",
          "1_11",
          "1_12",
          "1_13",
          "1_14",
          "1_15",
          "1_16",
          "1_17",
          "1_18",
          "1_19",
          "1_20",
          "1_21",
          "1_22",
          "1_23",
          "1_24",
          "1_25",
          "1_26",
          "1_27",
          "1_28",
          "1_29",
          "1_30",
          "2_01",
          "2_02",
          "2_03",
          "2_04",
          "2_05",
          "2_06",
          "2_07",
          "2_08",
          "2_09",
          "2_10",
          "2_11",
          "2_12",
          "2_13",
          "2_14",
          "2_15",
          "2_16",
          "2_17",
          "2_18",
          "2_19",
          "2_20",
          "2_21",
          "2_22",
          "2_23",
          "2_24",
          "2_25",
          "2_26",
          "2_27",
          "2_28",
          "2_29",
          "2_30"
         ],
         "xaxis": "x",
         "y": [
          1.6476816654205322,
          2.836202383041382,
          2.0982444286346436,
          1.6290959358215331,
          2.445672297477722,
          2.6368269681930543,
          2.7902246713638306,
          2.776643991470337,
          2.66850368976593,
          3.098029851913452,
          3.6775190830230713,
          2.8067692518234253,
          3.1878652572631836,
          4.633040952682495,
          3.3865532193865096,
          4.632038712501526,
          4.997396206855774,
          3.7391393184661865,
          6.17501065466139,
          8.819035798311234,
          7.380730652809143,
          7.507746076583862,
          6.4990157127380375,
          5.212753820419311,
          7.944822311401367,
          10.594606161117554,
          9.368982894080025,
          10.83272878328959,
          5.622777700424194,
          8.361619353294373,
          15.63637011051178,
          23.078403544425964,
          15.349093651771545,
          17.58167254924774,
          22.612289667129517,
          24.272318177753025,
          27.955990266799926,
          16.74495029449463,
          19.94599852561951,
          16.901481072107952,
          51.45205416679382,
          34.960095167160034,
          32.249243842230904,
          43.94281601905823,
          21.312436819076538,
          63.320655822753906,
          31.352116505304974,
          26.07904008456639,
          46.49731401034764,
          79.7581034387861,
          60.41830817858378,
          71.5713038444519,
          46.78988129752023,
          114.58915281295776,
          57.084251960118614,
          113.84673955440522,
          114.80989866786533,
          47.04512267112732,
          159.71171900961133,
          63.04715592520578,
          153.5297009706497,
          227.5134736776352,
          149.84014217853547,
          334.6650537014008,
          95.90932854016621,
          425.0788817644119,
          140.8972997268041,
          500.90891751646996,
          380.10208213329315,
          681.2005475461483,
          589.71919734478,
          412.36825609207153,
          661.8841560568128,
          822.7556924819946,
          795.8641919067928,
          732.4608937799931,
          436.8150873184204,
          454.9198554754257,
          879.4021511673927,
          651.2652364969254,
          682.1405481696129,
          846.0156191825866,
          2254.7808088958263,
          1830.2686116695404,
          2417.155583211354,
          4890.122652769089,
          2827.157158970833,
          1562.1165397167206,
          1955.7407183647156,
          4041.8945331096647
         ],
         "yaxis": "y"
        },
        {
         "error_y": {
          "array": [
           null,
           null,
           null,
           null,
           null,
           null,
           null,
           null
          ]
         },
         "hovertemplate": "solver=scorpion<br>problem=%{x}<br>time_mean=%{y}<extra></extra>",
         "legendgroup": "scorpion",
         "marker": {
          "color": "#EF553B",
          "symbol": "circle"
         },
         "mode": "markers",
         "name": "scorpion",
         "orientation": "v",
         "showlegend": true,
         "type": "scatter",
         "x": [
          "0_01",
          "0_02",
          "0_03",
          "1_01",
          "1_02",
          "1_03",
          "2_01",
          "2_02"
         ],
         "xaxis": "x",
         "y": [
          100.142232,
          100.034539,
          100.046451,
          null,
          null,
          null,
          null,
          null
         ],
         "yaxis": "y"
        }
       ],
       "layout": {
        "legend": {
         "title": {
          "text": "solver"
         },
         "tracegroupgap": 0
        },
        "margin": {
         "t": 60
        },
        "template": {
         "data": {
          "bar": [
           {
            "error_x": {
             "color": "#2a3f5f"
            },
            "error_y": {
             "color": "#2a3f5f"
            },
            "marker": {
             "line": {
              "color": "#E5ECF6",
              "width": 0.5
             },
             "pattern": {
              "fillmode": "overlay",
              "size": 10,
              "solidity": 0.2
             }
            },
            "type": "bar"
           }
          ],
          "barpolar": [
           {
            "marker": {
             "line": {
              "color": "#E5ECF6",
              "width": 0.5
             },
             "pattern": {
              "fillmode": "overlay",
              "size": 10,
              "solidity": 0.2
             }
            },
            "type": "barpolar"
           }
          ],
          "carpet": [
           {
            "aaxis": {
             "endlinecolor": "#2a3f5f",
             "gridcolor": "white",
             "linecolor": "white",
             "minorgridcolor": "white",
             "startlinecolor": "#2a3f5f"
            },
            "baxis": {
             "endlinecolor": "#2a3f5f",
             "gridcolor": "white",
             "linecolor": "white",
             "minorgridcolor": "white",
             "startlinecolor": "#2a3f5f"
            },
            "type": "carpet"
           }
          ],
          "choropleth": [
           {
            "colorbar": {
             "outlinewidth": 0,
             "ticks": ""
            },
            "type": "choropleth"
           }
          ],
          "contour": [
           {
            "colorbar": {
             "outlinewidth": 0,
             "ticks": ""
            },
            "colorscale": [
             [
              0,
              "#0d0887"
             ],
             [
              0.1111111111111111,
              "#46039f"
             ],
             [
              0.2222222222222222,
              "#7201a8"
             ],
             [
              0.3333333333333333,
              "#9c179e"
             ],
             [
              0.4444444444444444,
              "#bd3786"
             ],
             [
              0.5555555555555556,
              "#d8576b"
             ],
             [
              0.6666666666666666,
              "#ed7953"
             ],
             [
              0.7777777777777778,
              "#fb9f3a"
             ],
             [
              0.8888888888888888,
              "#fdca26"
             ],
             [
              1,
              "#f0f921"
             ]
            ],
            "type": "contour"
           }
          ],
          "contourcarpet": [
           {
            "colorbar": {
             "outlinewidth": 0,
             "ticks": ""
            },
            "type": "contourcarpet"
           }
          ],
          "heatmap": [
           {
            "colorbar": {
             "outlinewidth": 0,
             "ticks": ""
            },
            "colorscale": [
             [
              0,
              "#0d0887"
             ],
             [
              0.1111111111111111,
              "#46039f"
             ],
             [
              0.2222222222222222,
              "#7201a8"
             ],
             [
              0.3333333333333333,
              "#9c179e"
             ],
             [
              0.4444444444444444,
              "#bd3786"
             ],
             [
              0.5555555555555556,
              "#d8576b"
             ],
             [
              0.6666666666666666,
              "#ed7953"
             ],
             [
              0.7777777777777778,
              "#fb9f3a"
             ],
             [
              0.8888888888888888,
              "#fdca26"
             ],
             [
              1,
              "#f0f921"
             ]
            ],
            "type": "heatmap"
           }
          ],
          "heatmapgl": [
           {
            "colorbar": {
             "outlinewidth": 0,
             "ticks": ""
            },
            "colorscale": [
             [
              0,
              "#0d0887"
             ],
             [
              0.1111111111111111,
              "#46039f"
             ],
             [
              0.2222222222222222,
              "#7201a8"
             ],
             [
              0.3333333333333333,
              "#9c179e"
             ],
             [
              0.4444444444444444,
              "#bd3786"
             ],
             [
              0.5555555555555556,
              "#d8576b"
             ],
             [
              0.6666666666666666,
              "#ed7953"
             ],
             [
              0.7777777777777778,
              "#fb9f3a"
             ],
             [
              0.8888888888888888,
              "#fdca26"
             ],
             [
              1,
              "#f0f921"
             ]
            ],
            "type": "heatmapgl"
           }
          ],
          "histogram": [
           {
            "marker": {
             "pattern": {
              "fillmode": "overlay",
              "size": 10,
              "solidity": 0.2
             }
            },
            "type": "histogram"
           }
          ],
          "histogram2d": [
           {
            "colorbar": {
             "outlinewidth": 0,
             "ticks": ""
            },
            "colorscale": [
             [
              0,
              "#0d0887"
             ],
             [
              0.1111111111111111,
              "#46039f"
             ],
             [
              0.2222222222222222,
              "#7201a8"
             ],
             [
              0.3333333333333333,
              "#9c179e"
             ],
             [
              0.4444444444444444,
              "#bd3786"
             ],
             [
              0.5555555555555556,
              "#d8576b"
             ],
             [
              0.6666666666666666,
              "#ed7953"
             ],
             [
              0.7777777777777778,
              "#fb9f3a"
             ],
             [
              0.8888888888888888,
              "#fdca26"
             ],
             [
              1,
              "#f0f921"
             ]
            ],
            "type": "histogram2d"
           }
          ],
          "histogram2dcontour": [
           {
            "colorbar": {
             "outlinewidth": 0,
             "ticks": ""
            },
            "colorscale": [
             [
              0,
              "#0d0887"
             ],
             [
              0.1111111111111111,
              "#46039f"
             ],
             [
              0.2222222222222222,
              "#7201a8"
             ],
             [
              0.3333333333333333,
              "#9c179e"
             ],
             [
              0.4444444444444444,
              "#bd3786"
             ],
             [
              0.5555555555555556,
              "#d8576b"
             ],
             [
              0.6666666666666666,
              "#ed7953"
             ],
             [
              0.7777777777777778,
              "#fb9f3a"
             ],
             [
              0.8888888888888888,
              "#fdca26"
             ],
             [
              1,
              "#f0f921"
             ]
            ],
            "type": "histogram2dcontour"
           }
          ],
          "mesh3d": [
           {
            "colorbar": {
             "outlinewidth": 0,
             "ticks": ""
            },
            "type": "mesh3d"
           }
          ],
          "parcoords": [
           {
            "line": {
             "colorbar": {
              "outlinewidth": 0,
              "ticks": ""
             }
            },
            "type": "parcoords"
           }
          ],
          "pie": [
           {
            "automargin": true,
            "type": "pie"
           }
          ],
          "scatter": [
           {
            "fillpattern": {
             "fillmode": "overlay",
             "size": 10,
             "solidity": 0.2
            },
            "type": "scatter"
           }
          ],
          "scatter3d": [
           {
            "line": {
             "colorbar": {
              "outlinewidth": 0,
              "ticks": ""
             }
            },
            "marker": {
             "colorbar": {
              "outlinewidth": 0,
              "ticks": ""
             }
            },
            "type": "scatter3d"
           }
          ],
          "scattercarpet": [
           {
            "marker": {
             "colorbar": {
              "outlinewidth": 0,
              "ticks": ""
             }
            },
            "type": "scattercarpet"
           }
          ],
          "scattergeo": [
           {
            "marker": {
             "colorbar": {
              "outlinewidth": 0,
              "ticks": ""
             }
            },
            "type": "scattergeo"
           }
          ],
          "scattergl": [
           {
            "marker": {
             "colorbar": {
              "outlinewidth": 0,
              "ticks": ""
             }
            },
            "type": "scattergl"
           }
          ],
          "scattermapbox": [
           {
            "marker": {
             "colorbar": {
              "outlinewidth": 0,
              "ticks": ""
             }
            },
            "type": "scattermapbox"
           }
          ],
          "scatterpolar": [
           {
            "marker": {
             "colorbar": {
              "outlinewidth": 0,
              "ticks": ""
             }
            },
            "type": "scatterpolar"
           }
          ],
          "scatterpolargl": [
           {
            "marker": {
             "colorbar": {
              "outlinewidth": 0,
              "ticks": ""
             }
            },
            "type": "scatterpolargl"
           }
          ],
          "scatterternary": [
           {
            "marker": {
             "colorbar": {
              "outlinewidth": 0,
              "ticks": ""
             }
            },
            "type": "scatterternary"
           }
          ],
          "surface": [
           {
            "colorbar": {
             "outlinewidth": 0,
             "ticks": ""
            },
            "colorscale": [
             [
              0,
              "#0d0887"
             ],
             [
              0.1111111111111111,
              "#46039f"
             ],
             [
              0.2222222222222222,
              "#7201a8"
             ],
             [
              0.3333333333333333,
              "#9c179e"
             ],
             [
              0.4444444444444444,
              "#bd3786"
             ],
             [
              0.5555555555555556,
              "#d8576b"
             ],
             [
              0.6666666666666666,
              "#ed7953"
             ],
             [
              0.7777777777777778,
              "#fb9f3a"
             ],
             [
              0.8888888888888888,
              "#fdca26"
             ],
             [
              1,
              "#f0f921"
             ]
            ],
            "type": "surface"
           }
          ],
          "table": [
           {
            "cells": {
             "fill": {
              "color": "#EBF0F8"
             },
             "line": {
              "color": "white"
             }
            },
            "header": {
             "fill": {
              "color": "#C8D4E3"
             },
             "line": {
              "color": "white"
             }
            },
            "type": "table"
           }
          ]
         },
         "layout": {
          "annotationdefaults": {
           "arrowcolor": "#2a3f5f",
           "arrowhead": 0,
           "arrowwidth": 1
          },
          "autotypenumbers": "strict",
          "coloraxis": {
           "colorbar": {
            "outlinewidth": 0,
            "ticks": ""
           }
          },
          "colorscale": {
           "diverging": [
            [
             0,
             "#8e0152"
            ],
            [
             0.1,
             "#c51b7d"
            ],
            [
             0.2,
             "#de77ae"
            ],
            [
             0.3,
             "#f1b6da"
            ],
            [
             0.4,
             "#fde0ef"
            ],
            [
             0.5,
             "#f7f7f7"
            ],
            [
             0.6,
             "#e6f5d0"
            ],
            [
             0.7,
             "#b8e186"
            ],
            [
             0.8,
             "#7fbc41"
            ],
            [
             0.9,
             "#4d9221"
            ],
            [
             1,
             "#276419"
            ]
           ],
           "sequential": [
            [
             0,
             "#0d0887"
            ],
            [
             0.1111111111111111,
             "#46039f"
            ],
            [
             0.2222222222222222,
             "#7201a8"
            ],
            [
             0.3333333333333333,
             "#9c179e"
            ],
            [
             0.4444444444444444,
             "#bd3786"
            ],
            [
             0.5555555555555556,
             "#d8576b"
            ],
            [
             0.6666666666666666,
             "#ed7953"
            ],
            [
             0.7777777777777778,
             "#fb9f3a"
            ],
            [
             0.8888888888888888,
             "#fdca26"
            ],
            [
             1,
             "#f0f921"
            ]
           ],
           "sequentialminus": [
            [
             0,
             "#0d0887"
            ],
            [
             0.1111111111111111,
             "#46039f"
            ],
            [
             0.2222222222222222,
             "#7201a8"
            ],
            [
             0.3333333333333333,
             "#9c179e"
            ],
            [
             0.4444444444444444,
             "#bd3786"
            ],
            [
             0.5555555555555556,
             "#d8576b"
            ],
            [
             0.6666666666666666,
             "#ed7953"
            ],
            [
             0.7777777777777778,
             "#fb9f3a"
            ],
            [
             0.8888888888888888,
             "#fdca26"
            ],
            [
             1,
             "#f0f921"
            ]
           ]
          },
          "colorway": [
           "#636efa",
           "#EF553B",
           "#00cc96",
           "#ab63fa",
           "#FFA15A",
           "#19d3f3",
           "#FF6692",
           "#B6E880",
           "#FF97FF",
           "#FECB52"
          ],
          "font": {
           "color": "#2a3f5f"
          },
          "geo": {
           "bgcolor": "white",
           "lakecolor": "white",
           "landcolor": "#E5ECF6",
           "showlakes": true,
           "showland": true,
           "subunitcolor": "white"
          },
          "hoverlabel": {
           "align": "left"
          },
          "hovermode": "closest",
          "mapbox": {
           "style": "light"
          },
          "paper_bgcolor": "white",
          "plot_bgcolor": "#E5ECF6",
          "polar": {
           "angularaxis": {
            "gridcolor": "white",
            "linecolor": "white",
            "ticks": ""
           },
           "bgcolor": "#E5ECF6",
           "radialaxis": {
            "gridcolor": "white",
            "linecolor": "white",
            "ticks": ""
           }
          },
          "scene": {
           "xaxis": {
            "backgroundcolor": "#E5ECF6",
            "gridcolor": "white",
            "gridwidth": 2,
            "linecolor": "white",
            "showbackground": true,
            "ticks": "",
            "zerolinecolor": "white"
           },
           "yaxis": {
            "backgroundcolor": "#E5ECF6",
            "gridcolor": "white",
            "gridwidth": 2,
            "linecolor": "white",
            "showbackground": true,
            "ticks": "",
            "zerolinecolor": "white"
           },
           "zaxis": {
            "backgroundcolor": "#E5ECF6",
            "gridcolor": "white",
            "gridwidth": 2,
            "linecolor": "white",
            "showbackground": true,
            "ticks": "",
            "zerolinecolor": "white"
           }
          },
          "shapedefaults": {
           "line": {
            "color": "#2a3f5f"
           }
          },
          "ternary": {
           "aaxis": {
            "gridcolor": "white",
            "linecolor": "white",
            "ticks": ""
           },
           "baxis": {
            "gridcolor": "white",
            "linecolor": "white",
            "ticks": ""
           },
           "bgcolor": "#E5ECF6",
           "caxis": {
            "gridcolor": "white",
            "linecolor": "white",
            "ticks": ""
           }
          },
          "title": {
           "x": 0.05
          },
          "xaxis": {
           "automargin": true,
           "gridcolor": "white",
           "linecolor": "white",
           "ticks": "",
           "title": {
            "standoff": 15
           },
           "zerolinecolor": "white",
           "zerolinewidth": 2
          },
          "yaxis": {
           "automargin": true,
           "gridcolor": "white",
           "linecolor": "white",
           "ticks": "",
           "title": {
            "standoff": 15
           },
           "zerolinecolor": "white",
           "zerolinewidth": 2
          }
         }
        },
        "xaxis": {
         "anchor": "y",
         "domain": [
          0,
          1
         ],
         "title": {
          "text": "problem"
         }
        },
        "yaxis": {
         "anchor": "x",
         "domain": [
          0,
          1
         ],
         "title": {
          "text": "time_mean"
         }
        }
       }
      }
     },
     "metadata": {},
     "output_type": "display_data"
    },
    {
     "name": "stdout",
     "output_type": "stream",
     "text": [
      "transport\n"
     ]
    },
    {
     "data": {
      "application/vnd.plotly.v1+json": {
       "config": {
        "plotlyServerURL": "https://plot.ly"
       },
       "data": [
        {
         "error_y": {
          "array": [
           0.03783788412907335,
           0.19409510192068571,
           0.26562564587625787,
           0.499879039020231,
           1.3789756709024819,
           0.45749594043327113,
           0.5126828533322622,
           1.5863816932055994,
           0.7901422823382002,
           1.3134085103702078,
           1.3224030452430937,
           3.0629668348245,
           3.184630658340159,
           3.692276160997724,
           2.1814400282167767,
           1.9327790339101019,
           3.3630998691577942,
           6.524560568638538,
           3.4783373660492445,
           3.7613571015019778,
           2.7941871570933414,
           3.7364770486008787,
           7.128381661342758,
           7.537365334276343,
           4.99865752286964,
           6.30682217249855,
           7.007094953487341,
           3.943275050283937,
           10.539979587447267,
           6.766866532687536,
           5.984792224916987,
           7.117530327619715,
           10.65804266971372,
           28.03239318455916,
           26.306046391815112,
           8.275029320290997,
           43.381621475060435,
           6.614599855824796,
           8.128863743749342,
           12.500755769282437,
           74.60262119235185,
           40.71891706196236,
           56.19137577042002,
           52.190539662133155,
           117.16077577975379,
           72.62496486267867,
           86.94675087702565,
           108.07449352465568,
           158.68618470282615,
           89.27649061688611,
           105.6762448370638,
           162.26186905128438,
           112.21960558864701,
           315.5127232578677,
           167.02767688710944,
           234.18655804614062,
           272.2264039868456,
           290.63770446438036,
           323.751208573635,
           384.57100771184594,
           365.9545307635311,
           488.8692429566437,
           618.553815590605,
           1391.4197638031258,
           1016.3748915189234,
           988.4606761010103,
           3432.2315950755738,
           1117.4572430259889,
           1574.086833593677,
           1301.357192035431,
           3560.7175738690717,
           2443.461725950421,
           725.3365655738853,
           7296.699311508292,
           1691.7189434906024,
           10647.286633746224,
           5131.653726655443,
           6322.000576595982,
           2550.9765048690497,
           12990.86236440457,
           5134.145945413618,
           11053.959475376276,
           12654.300517638118,
           6180.818917421212,
           6885.795923054558,
           6569.581980656186,
           null,
           null,
           null,
           null
          ]
         },
         "hovertemplate": "solver=baseline<br>problem=%{x}<br>time_mean=%{y}<extra></extra>",
         "legendgroup": "baseline",
         "marker": {
          "color": "#636efa",
          "symbol": "circle"
         },
         "mode": "markers",
         "name": "baseline",
         "orientation": "v",
         "showlegend": true,
         "type": "scatter",
         "x": [
          "0_01",
          "0_02",
          "0_03",
          "0_04",
          "0_05",
          "0_06",
          "0_07",
          "0_08",
          "0_09",
          "0_10",
          "0_11",
          "0_12",
          "0_13",
          "0_14",
          "0_15",
          "0_16",
          "0_17",
          "0_18",
          "0_19",
          "0_20",
          "0_21",
          "0_22",
          "0_23",
          "0_24",
          "0_25",
          "0_26",
          "0_27",
          "0_28",
          "0_29",
          "0_30",
          "1_01",
          "1_02",
          "1_03",
          "1_04",
          "1_05",
          "1_06",
          "1_07",
          "1_08",
          "1_09",
          "1_10",
          "1_11",
          "1_12",
          "1_13",
          "1_14",
          "1_15",
          "1_16",
          "1_17",
          "1_18",
          "1_19",
          "1_20",
          "1_21",
          "1_22",
          "1_23",
          "1_24",
          "1_25",
          "1_26",
          "1_27",
          "1_28",
          "1_29",
          "1_30",
          "2_01",
          "2_02",
          "2_03",
          "2_04",
          "2_05",
          "2_06",
          "2_07",
          "2_08",
          "2_09",
          "2_10",
          "2_11",
          "2_12",
          "2_13",
          "2_14",
          "2_15",
          "2_16",
          "2_17",
          "2_18",
          "2_19",
          "2_20",
          "2_21",
          "2_22",
          "2_23",
          "2_24",
          "2_25",
          "2_26",
          "2_27",
          "2_28",
          "2_29",
          "2_30"
         ],
         "xaxis": "x",
         "y": [
          0.7970476388931275,
          1.4680726766586303,
          1.8889610528945924,
          1.4917550086975098,
          3.7997560024261476,
          2.5201494693756104,
          2.5364872455596923,
          4.441262269020081,
          4.3075474262237545,
          5.3823600769042965,
          5.944450688362122,
          9.663001608848571,
          8.153953123092652,
          11.87073357105255,
          11.21556372642517,
          11.697850918769836,
          12.681626176834106,
          17.942138767242433,
          21.259149384498595,
          16.730131769180296,
          22.447124624252318,
          21.807079720497132,
          24.757663798332214,
          29.209585213661192,
          23.19114248752594,
          21.41835513114929,
          26.263165998458863,
          33.2978239774704,
          34.646736073493955,
          37.943105006217955,
          30.016111969947815,
          34.916780495643614,
          38.95079433917999,
          73.17874367237091,
          51.83348233699799,
          68.63872587680817,
          132.34633991718292,
          87.95876166820526,
          56.10287058353424,
          110.1229636669159,
          263.9245660305023,
          161.37173955440522,
          236.40554745197295,
          281.05316796302793,
          420.91772079467773,
          261.52375960350037,
          294.6064606189728,
          470.3029053926468,
          647.747077536583,
          383.0377114534378,
          443.6069731473923,
          619.677957034111,
          614.2632385015488,
          1187.8477556228638,
          561.7126286506652,
          1017.7934294700623,
          1401.4422172307968,
          755.1393984556198,
          1407.040646648407,
          1770.2792670488357,
          2139.8518694877625,
          1204.336620426178,
          3170.6708699703217,
          3047.805926799774,
          7612.322563505173,
          4991.151225376129,
          15145.610313916206,
          8472.849639582633,
          7712.656828522682,
          4731.037187947168,
          14379.436114239692,
          12390.45979616642,
          6348.9176362242015,
          35546.03810992241,
          10757.047284921011,
          36623.60432786941,
          22802.447210152943,
          54979.33744466305,
          19031.82033912341,
          62935.24382215076,
          32946.56291723251,
          74614.0392234666,
          78410.33635807037,
          72705.51941951115,
          30408.763341218233,
          72143.27283978462,
          null,
          null,
          33336.52413892746,
          55686.92977523804
         ],
         "yaxis": "y"
        },
        {
         "error_y": {
          "array": [
           0.019983338165561252,
           0.2455117988969314,
           0.16436630287151308,
           0.20245592715735444,
           0.14965587262945274,
           0.0260159008866225,
           0.4664010717190104,
           0.8428658263375943,
           0.020170470172949623,
           0.305828659563054,
           0.6228675378930355,
           1.8658269908235732,
           0.696221598915336,
           0.5534855644617959,
           0.04291982171258383,
           0.001922233466884855,
           1.952731600816914,
           2.7145916900787523,
           6.752503386206794,
           1.4422484658907853,
           null,
           34.611175373434975,
           59.0874286656901,
           37.98040039075056,
           null,
           99.3857051055409,
           null,
           null,
           null,
           null,
           2.4533648486586546,
           3.2030868141367472,
           3.6960754665955835,
           2.85516812001459,
           0.02155153810495083,
           8.394329992438607,
           9.881482216495074,
           3.9411196040614387,
           8.868480689487013,
           13.502740620662854,
           null,
           15.306939983831615,
           null,
           null,
           null,
           null,
           null,
           null,
           null,
           10.981538227689791,
           319.7592122752888,
           null,
           null,
           null,
           118.25785003948214,
           60.49705361637211,
           156.89793543193613,
           null,
           null,
           null,
           314.6260462741231,
           null,
           null,
           null,
           null,
           null,
           null,
           null,
           null,
           null,
           null,
           null,
           null,
           null,
           null,
           null
          ]
         },
         "hovertemplate": "solver=lrnn_1_1<br>problem=%{x}<br>time_mean=%{y}<extra></extra>",
         "legendgroup": "lrnn_1_1",
         "marker": {
          "color": "#EF553B",
          "symbol": "circle"
         },
         "mode": "markers",
         "name": "lrnn_1_1",
         "orientation": "v",
         "showlegend": true,
         "type": "scatter",
         "x": [
          "0_01",
          "0_02",
          "0_03",
          "0_04",
          "0_05",
          "0_06",
          "0_07",
          "0_08",
          "0_09",
          "0_10",
          "0_11",
          "0_12",
          "0_13",
          "0_14",
          "0_15",
          "0_16",
          "0_17",
          "0_18",
          "0_19",
          "0_20",
          "0_21",
          "0_22",
          "0_23",
          "0_24",
          "0_25",
          "0_26",
          "0_27",
          "0_28",
          "0_29",
          "0_30",
          "1_01",
          "1_02",
          "1_03",
          "1_04",
          "1_05",
          "1_06",
          "1_07",
          "1_08",
          "1_09",
          "1_10",
          "1_11",
          "1_12",
          "1_13",
          "1_14",
          "1_15",
          "1_16",
          "1_17",
          "1_18",
          "1_19",
          "1_20",
          "1_21",
          "1_22",
          "1_23",
          "1_24",
          "1_25",
          "1_26",
          "1_27",
          "1_28",
          "1_29",
          "2_01",
          "2_02",
          "2_04",
          "2_05",
          "2_07",
          "2_08",
          "2_11",
          "2_14",
          "2_16",
          "2_17",
          "2_19",
          "2_20",
          "2_22",
          "2_23",
          "2_24",
          "2_26",
          "2_28"
         ],
         "xaxis": "x",
         "y": [
          0.2139167785644531,
          0.45609140396118164,
          0.6014974117279053,
          0.6069138050079346,
          1.2752138376235962,
          0.982479453086853,
          1.313232183456421,
          1.2264132499694824,
          1.7577617168426514,
          1.8384089469909668,
          2.732354760169983,
          3.374463200569153,
          5.558104395866394,
          4.650400161743164,
          5.005562424659729,
          4.432713985443115,
          8.018768072128296,
          7.880407929420471,
          51.480090379714966,
          8.65163767337799,
          47.203086137771606,
          48.504222790400185,
          60.10714650154114,
          47.396029591560364,
          78.61162328720093,
          117.36530101299284,
          null,
          null,
          null,
          null,
          16.263007044792175,
          14.43726670742035,
          10.25472867488861,
          23.474713802337646,
          28.57674217224121,
          50.96181547641754,
          84.4769138097763,
          40.89580166339874,
          46.28952348232269,
          72.75238585472107,
          205.21089553833008,
          103.44193625450134,
          197.8328151702881,
          191.322363615036,
          405.6460750102997,
          277.5183219909668,
          251.8349807262421,
          293.5736839771271,
          426.9984610080719,
          317.212809920311,
          565.1854162216187,
          327.0819129943848,
          342.61981987953186,
          1122.1224818229675,
          318.2144328355789,
          726.7169404029846,
          1320.7824691534042,
          638.1673805713654,
          1073.6748490333557,
          1426.660773038864,
          796.0115710496902,
          1347.1509139537811,
          null,
          null,
          null,
          null,
          null,
          null,
          null,
          null,
          null,
          null,
          null,
          null,
          null,
          null
         ],
         "yaxis": "y"
        },
        {
         "error_y": {
          "array": [
           null,
           null,
           null
          ]
         },
         "hovertemplate": "solver=lrnn_2_1<br>problem=%{x}<br>time_mean=%{y}<extra></extra>",
         "legendgroup": "lrnn_2_1",
         "marker": {
          "color": "#00cc96",
          "symbol": "circle"
         },
         "mode": "markers",
         "name": "lrnn_2_1",
         "orientation": "v",
         "showlegend": true,
         "type": "scatter",
         "x": [
          "0_07",
          "1_07",
          "2_07"
         ],
         "xaxis": "x",
         "y": [
          1.3079442977905271,
          123.22113347053528,
          null
         ],
         "yaxis": "y"
        }
       ],
       "layout": {
        "legend": {
         "title": {
          "text": "solver"
         },
         "tracegroupgap": 0
        },
        "margin": {
         "t": 60
        },
        "template": {
         "data": {
          "bar": [
           {
            "error_x": {
             "color": "#2a3f5f"
            },
            "error_y": {
             "color": "#2a3f5f"
            },
            "marker": {
             "line": {
              "color": "#E5ECF6",
              "width": 0.5
             },
             "pattern": {
              "fillmode": "overlay",
              "size": 10,
              "solidity": 0.2
             }
            },
            "type": "bar"
           }
          ],
          "barpolar": [
           {
            "marker": {
             "line": {
              "color": "#E5ECF6",
              "width": 0.5
             },
             "pattern": {
              "fillmode": "overlay",
              "size": 10,
              "solidity": 0.2
             }
            },
            "type": "barpolar"
           }
          ],
          "carpet": [
           {
            "aaxis": {
             "endlinecolor": "#2a3f5f",
             "gridcolor": "white",
             "linecolor": "white",
             "minorgridcolor": "white",
             "startlinecolor": "#2a3f5f"
            },
            "baxis": {
             "endlinecolor": "#2a3f5f",
             "gridcolor": "white",
             "linecolor": "white",
             "minorgridcolor": "white",
             "startlinecolor": "#2a3f5f"
            },
            "type": "carpet"
           }
          ],
          "choropleth": [
           {
            "colorbar": {
             "outlinewidth": 0,
             "ticks": ""
            },
            "type": "choropleth"
           }
          ],
          "contour": [
           {
            "colorbar": {
             "outlinewidth": 0,
             "ticks": ""
            },
            "colorscale": [
             [
              0,
              "#0d0887"
             ],
             [
              0.1111111111111111,
              "#46039f"
             ],
             [
              0.2222222222222222,
              "#7201a8"
             ],
             [
              0.3333333333333333,
              "#9c179e"
             ],
             [
              0.4444444444444444,
              "#bd3786"
             ],
             [
              0.5555555555555556,
              "#d8576b"
             ],
             [
              0.6666666666666666,
              "#ed7953"
             ],
             [
              0.7777777777777778,
              "#fb9f3a"
             ],
             [
              0.8888888888888888,
              "#fdca26"
             ],
             [
              1,
              "#f0f921"
             ]
            ],
            "type": "contour"
           }
          ],
          "contourcarpet": [
           {
            "colorbar": {
             "outlinewidth": 0,
             "ticks": ""
            },
            "type": "contourcarpet"
           }
          ],
          "heatmap": [
           {
            "colorbar": {
             "outlinewidth": 0,
             "ticks": ""
            },
            "colorscale": [
             [
              0,
              "#0d0887"
             ],
             [
              0.1111111111111111,
              "#46039f"
             ],
             [
              0.2222222222222222,
              "#7201a8"
             ],
             [
              0.3333333333333333,
              "#9c179e"
             ],
             [
              0.4444444444444444,
              "#bd3786"
             ],
             [
              0.5555555555555556,
              "#d8576b"
             ],
             [
              0.6666666666666666,
              "#ed7953"
             ],
             [
              0.7777777777777778,
              "#fb9f3a"
             ],
             [
              0.8888888888888888,
              "#fdca26"
             ],
             [
              1,
              "#f0f921"
             ]
            ],
            "type": "heatmap"
           }
          ],
          "heatmapgl": [
           {
            "colorbar": {
             "outlinewidth": 0,
             "ticks": ""
            },
            "colorscale": [
             [
              0,
              "#0d0887"
             ],
             [
              0.1111111111111111,
              "#46039f"
             ],
             [
              0.2222222222222222,
              "#7201a8"
             ],
             [
              0.3333333333333333,
              "#9c179e"
             ],
             [
              0.4444444444444444,
              "#bd3786"
             ],
             [
              0.5555555555555556,
              "#d8576b"
             ],
             [
              0.6666666666666666,
              "#ed7953"
             ],
             [
              0.7777777777777778,
              "#fb9f3a"
             ],
             [
              0.8888888888888888,
              "#fdca26"
             ],
             [
              1,
              "#f0f921"
             ]
            ],
            "type": "heatmapgl"
           }
          ],
          "histogram": [
           {
            "marker": {
             "pattern": {
              "fillmode": "overlay",
              "size": 10,
              "solidity": 0.2
             }
            },
            "type": "histogram"
           }
          ],
          "histogram2d": [
           {
            "colorbar": {
             "outlinewidth": 0,
             "ticks": ""
            },
            "colorscale": [
             [
              0,
              "#0d0887"
             ],
             [
              0.1111111111111111,
              "#46039f"
             ],
             [
              0.2222222222222222,
              "#7201a8"
             ],
             [
              0.3333333333333333,
              "#9c179e"
             ],
             [
              0.4444444444444444,
              "#bd3786"
             ],
             [
              0.5555555555555556,
              "#d8576b"
             ],
             [
              0.6666666666666666,
              "#ed7953"
             ],
             [
              0.7777777777777778,
              "#fb9f3a"
             ],
             [
              0.8888888888888888,
              "#fdca26"
             ],
             [
              1,
              "#f0f921"
             ]
            ],
            "type": "histogram2d"
           }
          ],
          "histogram2dcontour": [
           {
            "colorbar": {
             "outlinewidth": 0,
             "ticks": ""
            },
            "colorscale": [
             [
              0,
              "#0d0887"
             ],
             [
              0.1111111111111111,
              "#46039f"
             ],
             [
              0.2222222222222222,
              "#7201a8"
             ],
             [
              0.3333333333333333,
              "#9c179e"
             ],
             [
              0.4444444444444444,
              "#bd3786"
             ],
             [
              0.5555555555555556,
              "#d8576b"
             ],
             [
              0.6666666666666666,
              "#ed7953"
             ],
             [
              0.7777777777777778,
              "#fb9f3a"
             ],
             [
              0.8888888888888888,
              "#fdca26"
             ],
             [
              1,
              "#f0f921"
             ]
            ],
            "type": "histogram2dcontour"
           }
          ],
          "mesh3d": [
           {
            "colorbar": {
             "outlinewidth": 0,
             "ticks": ""
            },
            "type": "mesh3d"
           }
          ],
          "parcoords": [
           {
            "line": {
             "colorbar": {
              "outlinewidth": 0,
              "ticks": ""
             }
            },
            "type": "parcoords"
           }
          ],
          "pie": [
           {
            "automargin": true,
            "type": "pie"
           }
          ],
          "scatter": [
           {
            "fillpattern": {
             "fillmode": "overlay",
             "size": 10,
             "solidity": 0.2
            },
            "type": "scatter"
           }
          ],
          "scatter3d": [
           {
            "line": {
             "colorbar": {
              "outlinewidth": 0,
              "ticks": ""
             }
            },
            "marker": {
             "colorbar": {
              "outlinewidth": 0,
              "ticks": ""
             }
            },
            "type": "scatter3d"
           }
          ],
          "scattercarpet": [
           {
            "marker": {
             "colorbar": {
              "outlinewidth": 0,
              "ticks": ""
             }
            },
            "type": "scattercarpet"
           }
          ],
          "scattergeo": [
           {
            "marker": {
             "colorbar": {
              "outlinewidth": 0,
              "ticks": ""
             }
            },
            "type": "scattergeo"
           }
          ],
          "scattergl": [
           {
            "marker": {
             "colorbar": {
              "outlinewidth": 0,
              "ticks": ""
             }
            },
            "type": "scattergl"
           }
          ],
          "scattermapbox": [
           {
            "marker": {
             "colorbar": {
              "outlinewidth": 0,
              "ticks": ""
             }
            },
            "type": "scattermapbox"
           }
          ],
          "scatterpolar": [
           {
            "marker": {
             "colorbar": {
              "outlinewidth": 0,
              "ticks": ""
             }
            },
            "type": "scatterpolar"
           }
          ],
          "scatterpolargl": [
           {
            "marker": {
             "colorbar": {
              "outlinewidth": 0,
              "ticks": ""
             }
            },
            "type": "scatterpolargl"
           }
          ],
          "scatterternary": [
           {
            "marker": {
             "colorbar": {
              "outlinewidth": 0,
              "ticks": ""
             }
            },
            "type": "scatterternary"
           }
          ],
          "surface": [
           {
            "colorbar": {
             "outlinewidth": 0,
             "ticks": ""
            },
            "colorscale": [
             [
              0,
              "#0d0887"
             ],
             [
              0.1111111111111111,
              "#46039f"
             ],
             [
              0.2222222222222222,
              "#7201a8"
             ],
             [
              0.3333333333333333,
              "#9c179e"
             ],
             [
              0.4444444444444444,
              "#bd3786"
             ],
             [
              0.5555555555555556,
              "#d8576b"
             ],
             [
              0.6666666666666666,
              "#ed7953"
             ],
             [
              0.7777777777777778,
              "#fb9f3a"
             ],
             [
              0.8888888888888888,
              "#fdca26"
             ],
             [
              1,
              "#f0f921"
             ]
            ],
            "type": "surface"
           }
          ],
          "table": [
           {
            "cells": {
             "fill": {
              "color": "#EBF0F8"
             },
             "line": {
              "color": "white"
             }
            },
            "header": {
             "fill": {
              "color": "#C8D4E3"
             },
             "line": {
              "color": "white"
             }
            },
            "type": "table"
           }
          ]
         },
         "layout": {
          "annotationdefaults": {
           "arrowcolor": "#2a3f5f",
           "arrowhead": 0,
           "arrowwidth": 1
          },
          "autotypenumbers": "strict",
          "coloraxis": {
           "colorbar": {
            "outlinewidth": 0,
            "ticks": ""
           }
          },
          "colorscale": {
           "diverging": [
            [
             0,
             "#8e0152"
            ],
            [
             0.1,
             "#c51b7d"
            ],
            [
             0.2,
             "#de77ae"
            ],
            [
             0.3,
             "#f1b6da"
            ],
            [
             0.4,
             "#fde0ef"
            ],
            [
             0.5,
             "#f7f7f7"
            ],
            [
             0.6,
             "#e6f5d0"
            ],
            [
             0.7,
             "#b8e186"
            ],
            [
             0.8,
             "#7fbc41"
            ],
            [
             0.9,
             "#4d9221"
            ],
            [
             1,
             "#276419"
            ]
           ],
           "sequential": [
            [
             0,
             "#0d0887"
            ],
            [
             0.1111111111111111,
             "#46039f"
            ],
            [
             0.2222222222222222,
             "#7201a8"
            ],
            [
             0.3333333333333333,
             "#9c179e"
            ],
            [
             0.4444444444444444,
             "#bd3786"
            ],
            [
             0.5555555555555556,
             "#d8576b"
            ],
            [
             0.6666666666666666,
             "#ed7953"
            ],
            [
             0.7777777777777778,
             "#fb9f3a"
            ],
            [
             0.8888888888888888,
             "#fdca26"
            ],
            [
             1,
             "#f0f921"
            ]
           ],
           "sequentialminus": [
            [
             0,
             "#0d0887"
            ],
            [
             0.1111111111111111,
             "#46039f"
            ],
            [
             0.2222222222222222,
             "#7201a8"
            ],
            [
             0.3333333333333333,
             "#9c179e"
            ],
            [
             0.4444444444444444,
             "#bd3786"
            ],
            [
             0.5555555555555556,
             "#d8576b"
            ],
            [
             0.6666666666666666,
             "#ed7953"
            ],
            [
             0.7777777777777778,
             "#fb9f3a"
            ],
            [
             0.8888888888888888,
             "#fdca26"
            ],
            [
             1,
             "#f0f921"
            ]
           ]
          },
          "colorway": [
           "#636efa",
           "#EF553B",
           "#00cc96",
           "#ab63fa",
           "#FFA15A",
           "#19d3f3",
           "#FF6692",
           "#B6E880",
           "#FF97FF",
           "#FECB52"
          ],
          "font": {
           "color": "#2a3f5f"
          },
          "geo": {
           "bgcolor": "white",
           "lakecolor": "white",
           "landcolor": "#E5ECF6",
           "showlakes": true,
           "showland": true,
           "subunitcolor": "white"
          },
          "hoverlabel": {
           "align": "left"
          },
          "hovermode": "closest",
          "mapbox": {
           "style": "light"
          },
          "paper_bgcolor": "white",
          "plot_bgcolor": "#E5ECF6",
          "polar": {
           "angularaxis": {
            "gridcolor": "white",
            "linecolor": "white",
            "ticks": ""
           },
           "bgcolor": "#E5ECF6",
           "radialaxis": {
            "gridcolor": "white",
            "linecolor": "white",
            "ticks": ""
           }
          },
          "scene": {
           "xaxis": {
            "backgroundcolor": "#E5ECF6",
            "gridcolor": "white",
            "gridwidth": 2,
            "linecolor": "white",
            "showbackground": true,
            "ticks": "",
            "zerolinecolor": "white"
           },
           "yaxis": {
            "backgroundcolor": "#E5ECF6",
            "gridcolor": "white",
            "gridwidth": 2,
            "linecolor": "white",
            "showbackground": true,
            "ticks": "",
            "zerolinecolor": "white"
           },
           "zaxis": {
            "backgroundcolor": "#E5ECF6",
            "gridcolor": "white",
            "gridwidth": 2,
            "linecolor": "white",
            "showbackground": true,
            "ticks": "",
            "zerolinecolor": "white"
           }
          },
          "shapedefaults": {
           "line": {
            "color": "#2a3f5f"
           }
          },
          "ternary": {
           "aaxis": {
            "gridcolor": "white",
            "linecolor": "white",
            "ticks": ""
           },
           "baxis": {
            "gridcolor": "white",
            "linecolor": "white",
            "ticks": ""
           },
           "bgcolor": "#E5ECF6",
           "caxis": {
            "gridcolor": "white",
            "linecolor": "white",
            "ticks": ""
           }
          },
          "title": {
           "x": 0.05
          },
          "xaxis": {
           "automargin": true,
           "gridcolor": "white",
           "linecolor": "white",
           "ticks": "",
           "title": {
            "standoff": 15
           },
           "zerolinecolor": "white",
           "zerolinewidth": 2
          },
          "yaxis": {
           "automargin": true,
           "gridcolor": "white",
           "linecolor": "white",
           "ticks": "",
           "title": {
            "standoff": 15
           },
           "zerolinecolor": "white",
           "zerolinewidth": 2
          }
         }
        },
        "xaxis": {
         "anchor": "y",
         "domain": [
          0,
          1
         ],
         "title": {
          "text": "problem"
         }
        },
        "yaxis": {
         "anchor": "x",
         "domain": [
          0,
          1
         ],
         "title": {
          "text": "time_mean"
         }
        }
       }
      }
     },
     "metadata": {},
     "output_type": "display_data"
    }
   ],
   "source": [
    "plot_domains(\"time\")"
   ]
  },
  {
   "cell_type": "code",
   "execution_count": null,
   "metadata": {},
   "outputs": [
    {
     "name": "stdout",
     "output_type": "stream",
     "text": [
      "/pfcalcul/work/dchen/code/cvut-colab/slurm/__experiments/baseline_logs/miconic_0_04_r0.0.log\n",
      "/pfcalcul/work/dchen/code/cvut-colab/slurm/__experiments/baseline_logs/miconic_0_04_r2.0.log\n",
      "/pfcalcul/work/dchen/code/cvut-colab/slurm/__experiments/baseline_logs/miconic_0_04_r3.0.log\n",
      "/pfcalcul/work/dchen/code/cvut-colab/slurm/__experiments/baseline_logs/miconic_0_04_r4.0.log\n",
      "/pfcalcul/work/dchen/code/cvut-colab/slurm/__experiments/baseline_logs/miconic_0_04_r8.0.log\n",
      "/pfcalcul/work/dchen/code/cvut-colab/slurm/__experiments/baseline_logs/miconic_0_04_r9.0.log\n",
      "/pfcalcul/work/dchen/code/cvut-colab/slurm/__experiments/baseline_logs/miconic_0_05_r0.0.log\n",
      "/pfcalcul/work/dchen/code/cvut-colab/slurm/__experiments/baseline_logs/miconic_0_05_r2.0.log\n",
      "/pfcalcul/work/dchen/code/cvut-colab/slurm/__experiments/baseline_logs/miconic_0_05_r3.0.log\n",
      "/pfcalcul/work/dchen/code/cvut-colab/slurm/__experiments/baseline_logs/miconic_0_05_r4.0.log\n",
      "/pfcalcul/work/dchen/code/cvut-colab/slurm/__experiments/baseline_logs/miconic_0_05_r6.0.log\n",
      "/pfcalcul/work/dchen/code/cvut-colab/slurm/__experiments/baseline_logs/miconic_0_05_r8.0.log\n",
      "/pfcalcul/work/dchen/code/cvut-colab/slurm/__experiments/baseline_logs/miconic_0_05_r9.0.log\n",
      "/pfcalcul/work/dchen/code/cvut-colab/slurm/__experiments/baseline_logs/miconic_0_06_r0.0.log\n",
      "/pfcalcul/work/dchen/code/cvut-colab/slurm/__experiments/baseline_logs/miconic_0_06_r2.0.log\n",
      "/pfcalcul/work/dchen/code/cvut-colab/slurm/__experiments/baseline_logs/miconic_0_06_r3.0.log\n",
      "/pfcalcul/work/dchen/code/cvut-colab/slurm/__experiments/baseline_logs/miconic_0_06_r4.0.log\n",
      "/pfcalcul/work/dchen/code/cvut-colab/slurm/__experiments/baseline_logs/miconic_0_06_r7.0.log\n",
      "/pfcalcul/work/dchen/code/cvut-colab/slurm/__experiments/baseline_logs/miconic_0_06_r8.0.log\n",
      "/pfcalcul/work/dchen/code/cvut-colab/slurm/__experiments/baseline_logs/miconic_0_06_r9.0.log\n",
      "/pfcalcul/work/dchen/code/cvut-colab/slurm/__experiments/baseline_logs/miconic_0_07_r0.0.log\n",
      "/pfcalcul/work/dchen/code/cvut-colab/slurm/__experiments/baseline_logs/miconic_0_07_r3.0.log\n",
      "/pfcalcul/work/dchen/code/cvut-colab/slurm/__experiments/baseline_logs/miconic_0_07_r4.0.log\n",
      "/pfcalcul/work/dchen/code/cvut-colab/slurm/__experiments/baseline_logs/miconic_0_07_r6.0.log\n",
      "/pfcalcul/work/dchen/code/cvut-colab/slurm/__experiments/baseline_logs/miconic_0_07_r8.0.log\n",
      "/pfcalcul/work/dchen/code/cvut-colab/slurm/__experiments/baseline_logs/miconic_0_07_r9.0.log\n",
      "/pfcalcul/work/dchen/code/cvut-colab/slurm/__experiments/baseline_logs/miconic_0_08_r0.0.log\n",
      "/pfcalcul/work/dchen/code/cvut-colab/slurm/__experiments/baseline_logs/miconic_0_08_r2.0.log\n",
      "/pfcalcul/work/dchen/code/cvut-colab/slurm/__experiments/baseline_logs/miconic_0_08_r3.0.log\n",
      "/pfcalcul/work/dchen/code/cvut-colab/slurm/__experiments/baseline_logs/miconic_0_08_r4.0.log\n",
      "/pfcalcul/work/dchen/code/cvut-colab/slurm/__experiments/baseline_logs/miconic_0_08_r6.0.log\n",
      "/pfcalcul/work/dchen/code/cvut-colab/slurm/__experiments/baseline_logs/miconic_0_08_r8.0.log\n",
      "/pfcalcul/work/dchen/code/cvut-colab/slurm/__experiments/baseline_logs/miconic_0_08_r9.0.log\n",
      "/pfcalcul/work/dchen/code/cvut-colab/slurm/__experiments/baseline_logs/miconic_0_09_r0.0.log\n",
      "/pfcalcul/work/dchen/code/cvut-colab/slurm/__experiments/baseline_logs/miconic_0_09_r1.0.log\n",
      "/pfcalcul/work/dchen/code/cvut-colab/slurm/__experiments/baseline_logs/miconic_0_09_r2.0.log\n",
      "/pfcalcul/work/dchen/code/cvut-colab/slurm/__experiments/baseline_logs/miconic_0_09_r3.0.log\n",
      "/pfcalcul/work/dchen/code/cvut-colab/slurm/__experiments/baseline_logs/miconic_0_09_r4.0.log\n",
      "/pfcalcul/work/dchen/code/cvut-colab/slurm/__experiments/baseline_logs/miconic_0_09_r6.0.log\n",
      "/pfcalcul/work/dchen/code/cvut-colab/slurm/__experiments/baseline_logs/miconic_0_09_r8.0.log\n",
      "/pfcalcul/work/dchen/code/cvut-colab/slurm/__experiments/baseline_logs/miconic_0_09_r9.0.log\n",
      "/pfcalcul/work/dchen/code/cvut-colab/slurm/__experiments/baseline_logs/miconic_0_10_r0.0.log\n",
      "/pfcalcul/work/dchen/code/cvut-colab/slurm/__experiments/baseline_logs/miconic_0_10_r2.0.log\n",
      "/pfcalcul/work/dchen/code/cvut-colab/slurm/__experiments/baseline_logs/miconic_0_10_r3.0.log\n",
      "/pfcalcul/work/dchen/code/cvut-colab/slurm/__experiments/baseline_logs/miconic_0_10_r4.0.log\n",
      "/pfcalcul/work/dchen/code/cvut-colab/slurm/__experiments/baseline_logs/miconic_0_10_r6.0.log\n",
      "/pfcalcul/work/dchen/code/cvut-colab/slurm/__experiments/baseline_logs/miconic_0_10_r9.0.log\n",
      "/pfcalcul/work/dchen/code/cvut-colab/slurm/__experiments/baseline_logs/miconic_0_11_r0.0.log\n",
      "/pfcalcul/work/dchen/code/cvut-colab/slurm/__experiments/baseline_logs/miconic_0_11_r2.0.log\n",
      "/pfcalcul/work/dchen/code/cvut-colab/slurm/__experiments/baseline_logs/miconic_0_11_r3.0.log\n",
      "/pfcalcul/work/dchen/code/cvut-colab/slurm/__experiments/baseline_logs/miconic_0_11_r4.0.log\n",
      "/pfcalcul/work/dchen/code/cvut-colab/slurm/__experiments/baseline_logs/miconic_0_11_r6.0.log\n",
      "/pfcalcul/work/dchen/code/cvut-colab/slurm/__experiments/baseline_logs/miconic_0_11_r8.0.log\n",
      "/pfcalcul/work/dchen/code/cvut-colab/slurm/__experiments/baseline_logs/miconic_0_11_r9.0.log\n",
      "/pfcalcul/work/dchen/code/cvut-colab/slurm/__experiments/baseline_logs/miconic_0_12_r0.0.log\n",
      "/pfcalcul/work/dchen/code/cvut-colab/slurm/__experiments/baseline_logs/miconic_0_12_r2.0.log\n",
      "/pfcalcul/work/dchen/code/cvut-colab/slurm/__experiments/baseline_logs/miconic_0_12_r3.0.log\n",
      "/pfcalcul/work/dchen/code/cvut-colab/slurm/__experiments/baseline_logs/miconic_0_12_r4.0.log\n",
      "/pfcalcul/work/dchen/code/cvut-colab/slurm/__experiments/baseline_logs/miconic_0_12_r6.0.log\n",
      "/pfcalcul/work/dchen/code/cvut-colab/slurm/__experiments/baseline_logs/miconic_0_12_r8.0.log\n",
      "/pfcalcul/work/dchen/code/cvut-colab/slurm/__experiments/baseline_logs/miconic_0_12_r9.0.log\n",
      "/pfcalcul/work/dchen/code/cvut-colab/slurm/__experiments/baseline_logs/miconic_0_13_r0.0.log\n",
      "/pfcalcul/work/dchen/code/cvut-colab/slurm/__experiments/baseline_logs/miconic_0_13_r2.0.log\n",
      "/pfcalcul/work/dchen/code/cvut-colab/slurm/__experiments/baseline_logs/miconic_0_13_r3.0.log\n",
      "/pfcalcul/work/dchen/code/cvut-colab/slurm/__experiments/baseline_logs/miconic_0_13_r4.0.log\n",
      "/pfcalcul/work/dchen/code/cvut-colab/slurm/__experiments/baseline_logs/miconic_0_13_r6.0.log\n",
      "/pfcalcul/work/dchen/code/cvut-colab/slurm/__experiments/baseline_logs/miconic_0_13_r8.0.log\n",
      "/pfcalcul/work/dchen/code/cvut-colab/slurm/__experiments/baseline_logs/miconic_0_13_r9.0.log\n",
      "/pfcalcul/work/dchen/code/cvut-colab/slurm/__experiments/baseline_logs/miconic_0_14_r0.0.log\n",
      "/pfcalcul/work/dchen/code/cvut-colab/slurm/__experiments/baseline_logs/miconic_0_14_r2.0.log\n",
      "/pfcalcul/work/dchen/code/cvut-colab/slurm/__experiments/baseline_logs/miconic_0_14_r3.0.log\n",
      "/pfcalcul/work/dchen/code/cvut-colab/slurm/__experiments/baseline_logs/miconic_0_14_r4.0.log\n",
      "/pfcalcul/work/dchen/code/cvut-colab/slurm/__experiments/baseline_logs/miconic_0_14_r9.0.log\n",
      "/pfcalcul/work/dchen/code/cvut-colab/slurm/__experiments/baseline_logs/miconic_0_15_r0.0.log\n",
      "/pfcalcul/work/dchen/code/cvut-colab/slurm/__experiments/baseline_logs/miconic_0_15_r2.0.log\n",
      "/pfcalcul/work/dchen/code/cvut-colab/slurm/__experiments/baseline_logs/miconic_0_15_r3.0.log\n",
      "/pfcalcul/work/dchen/code/cvut-colab/slurm/__experiments/baseline_logs/miconic_0_15_r4.0.log\n",
      "/pfcalcul/work/dchen/code/cvut-colab/slurm/__experiments/baseline_logs/miconic_0_15_r6.0.log\n",
      "/pfcalcul/work/dchen/code/cvut-colab/slurm/__experiments/baseline_logs/miconic_0_15_r8.0.log\n",
      "/pfcalcul/work/dchen/code/cvut-colab/slurm/__experiments/baseline_logs/miconic_0_15_r9.0.log\n",
      "/pfcalcul/work/dchen/code/cvut-colab/slurm/__experiments/baseline_logs/miconic_0_16_r0.0.log\n",
      "/pfcalcul/work/dchen/code/cvut-colab/slurm/__experiments/baseline_logs/miconic_0_16_r2.0.log\n",
      "/pfcalcul/work/dchen/code/cvut-colab/slurm/__experiments/baseline_logs/miconic_0_16_r3.0.log\n",
      "/pfcalcul/work/dchen/code/cvut-colab/slurm/__experiments/baseline_logs/miconic_0_16_r4.0.log\n",
      "/pfcalcul/work/dchen/code/cvut-colab/slurm/__experiments/baseline_logs/miconic_0_16_r6.0.log\n",
      "/pfcalcul/work/dchen/code/cvut-colab/slurm/__experiments/baseline_logs/miconic_0_16_r8.0.log\n",
      "/pfcalcul/work/dchen/code/cvut-colab/slurm/__experiments/baseline_logs/miconic_0_16_r9.0.log\n",
      "/pfcalcul/work/dchen/code/cvut-colab/slurm/__experiments/baseline_logs/miconic_0_17_r0.0.log\n",
      "/pfcalcul/work/dchen/code/cvut-colab/slurm/__experiments/baseline_logs/miconic_0_17_r2.0.log\n",
      "/pfcalcul/work/dchen/code/cvut-colab/slurm/__experiments/baseline_logs/miconic_0_17_r3.0.log\n",
      "/pfcalcul/work/dchen/code/cvut-colab/slurm/__experiments/baseline_logs/miconic_0_17_r4.0.log\n",
      "/pfcalcul/work/dchen/code/cvut-colab/slurm/__experiments/baseline_logs/miconic_0_17_r6.0.log\n",
      "/pfcalcul/work/dchen/code/cvut-colab/slurm/__experiments/baseline_logs/miconic_0_17_r8.0.log\n",
      "/pfcalcul/work/dchen/code/cvut-colab/slurm/__experiments/baseline_logs/miconic_0_17_r9.0.log\n",
      "/pfcalcul/work/dchen/code/cvut-colab/slurm/__experiments/baseline_logs/miconic_0_18_r0.0.log\n",
      "/pfcalcul/work/dchen/code/cvut-colab/slurm/__experiments/baseline_logs/miconic_0_18_r2.0.log\n",
      "/pfcalcul/work/dchen/code/cvut-colab/slurm/__experiments/baseline_logs/miconic_0_18_r3.0.log\n",
      "/pfcalcul/work/dchen/code/cvut-colab/slurm/__experiments/baseline_logs/miconic_0_18_r4.0.log\n",
      "/pfcalcul/work/dchen/code/cvut-colab/slurm/__experiments/baseline_logs/miconic_0_18_r6.0.log\n",
      "/pfcalcul/work/dchen/code/cvut-colab/slurm/__experiments/baseline_logs/miconic_0_18_r8.0.log\n",
      "/pfcalcul/work/dchen/code/cvut-colab/slurm/__experiments/baseline_logs/miconic_0_18_r9.0.log\n",
      "/pfcalcul/work/dchen/code/cvut-colab/slurm/__experiments/baseline_logs/miconic_0_19_r0.0.log\n",
      "/pfcalcul/work/dchen/code/cvut-colab/slurm/__experiments/baseline_logs/miconic_0_19_r2.0.log\n",
      "/pfcalcul/work/dchen/code/cvut-colab/slurm/__experiments/baseline_logs/miconic_0_19_r3.0.log\n",
      "/pfcalcul/work/dchen/code/cvut-colab/slurm/__experiments/baseline_logs/miconic_0_19_r4.0.log\n",
      "/pfcalcul/work/dchen/code/cvut-colab/slurm/__experiments/baseline_logs/miconic_0_19_r6.0.log\n",
      "/pfcalcul/work/dchen/code/cvut-colab/slurm/__experiments/baseline_logs/miconic_0_19_r7.0.log\n",
      "/pfcalcul/work/dchen/code/cvut-colab/slurm/__experiments/baseline_logs/miconic_0_19_r8.0.log\n",
      "/pfcalcul/work/dchen/code/cvut-colab/slurm/__experiments/baseline_logs/miconic_0_19_r9.0.log\n",
      "/pfcalcul/work/dchen/code/cvut-colab/slurm/__experiments/baseline_logs/miconic_0_20_r0.0.log\n",
      "/pfcalcul/work/dchen/code/cvut-colab/slurm/__experiments/baseline_logs/miconic_0_20_r2.0.log\n",
      "/pfcalcul/work/dchen/code/cvut-colab/slurm/__experiments/baseline_logs/miconic_0_20_r3.0.log\n",
      "/pfcalcul/work/dchen/code/cvut-colab/slurm/__experiments/baseline_logs/miconic_0_20_r4.0.log\n",
      "/pfcalcul/work/dchen/code/cvut-colab/slurm/__experiments/baseline_logs/miconic_0_20_r6.0.log\n",
      "/pfcalcul/work/dchen/code/cvut-colab/slurm/__experiments/baseline_logs/miconic_0_20_r8.0.log\n",
      "/pfcalcul/work/dchen/code/cvut-colab/slurm/__experiments/baseline_logs/miconic_0_20_r9.0.log\n",
      "/pfcalcul/work/dchen/code/cvut-colab/slurm/__experiments/baseline_logs/miconic_0_21_r0.0.log\n",
      "/pfcalcul/work/dchen/code/cvut-colab/slurm/__experiments/baseline_logs/miconic_0_21_r2.0.log\n",
      "/pfcalcul/work/dchen/code/cvut-colab/slurm/__experiments/baseline_logs/miconic_0_21_r3.0.log\n",
      "/pfcalcul/work/dchen/code/cvut-colab/slurm/__experiments/baseline_logs/miconic_0_21_r4.0.log\n",
      "/pfcalcul/work/dchen/code/cvut-colab/slurm/__experiments/baseline_logs/miconic_0_21_r6.0.log\n",
      "/pfcalcul/work/dchen/code/cvut-colab/slurm/__experiments/baseline_logs/miconic_0_21_r8.0.log\n",
      "/pfcalcul/work/dchen/code/cvut-colab/slurm/__experiments/baseline_logs/miconic_0_21_r9.0.log\n",
      "/pfcalcul/work/dchen/code/cvut-colab/slurm/__experiments/baseline_logs/miconic_0_22_r0.0.log\n",
      "/pfcalcul/work/dchen/code/cvut-colab/slurm/__experiments/baseline_logs/miconic_0_22_r2.0.log\n",
      "/pfcalcul/work/dchen/code/cvut-colab/slurm/__experiments/baseline_logs/miconic_0_22_r3.0.log\n",
      "/pfcalcul/work/dchen/code/cvut-colab/slurm/__experiments/baseline_logs/miconic_0_22_r4.0.log\n",
      "/pfcalcul/work/dchen/code/cvut-colab/slurm/__experiments/baseline_logs/miconic_0_22_r6.0.log\n",
      "/pfcalcul/work/dchen/code/cvut-colab/slurm/__experiments/baseline_logs/miconic_0_22_r8.0.log\n",
      "/pfcalcul/work/dchen/code/cvut-colab/slurm/__experiments/baseline_logs/miconic_0_22_r9.0.log\n",
      "/pfcalcul/work/dchen/code/cvut-colab/slurm/__experiments/baseline_logs/miconic_0_23_r0.0.log\n",
      "/pfcalcul/work/dchen/code/cvut-colab/slurm/__experiments/baseline_logs/miconic_0_23_r2.0.log\n",
      "/pfcalcul/work/dchen/code/cvut-colab/slurm/__experiments/baseline_logs/miconic_0_23_r3.0.log\n",
      "/pfcalcul/work/dchen/code/cvut-colab/slurm/__experiments/baseline_logs/miconic_0_23_r4.0.log\n",
      "/pfcalcul/work/dchen/code/cvut-colab/slurm/__experiments/baseline_logs/miconic_0_23_r6.0.log\n",
      "/pfcalcul/work/dchen/code/cvut-colab/slurm/__experiments/baseline_logs/miconic_0_23_r8.0.log\n",
      "/pfcalcul/work/dchen/code/cvut-colab/slurm/__experiments/baseline_logs/miconic_0_23_r9.0.log\n",
      "/pfcalcul/work/dchen/code/cvut-colab/slurm/__experiments/baseline_logs/miconic_0_24_r0.0.log\n",
      "/pfcalcul/work/dchen/code/cvut-colab/slurm/__experiments/baseline_logs/miconic_0_24_r2.0.log\n",
      "/pfcalcul/work/dchen/code/cvut-colab/slurm/__experiments/baseline_logs/miconic_0_24_r3.0.log\n",
      "/pfcalcul/work/dchen/code/cvut-colab/slurm/__experiments/baseline_logs/miconic_0_24_r4.0.log\n",
      "/pfcalcul/work/dchen/code/cvut-colab/slurm/__experiments/baseline_logs/miconic_0_24_r6.0.log\n",
      "/pfcalcul/work/dchen/code/cvut-colab/slurm/__experiments/baseline_logs/miconic_0_24_r8.0.log\n",
      "/pfcalcul/work/dchen/code/cvut-colab/slurm/__experiments/baseline_logs/miconic_0_24_r9.0.log\n",
      "/pfcalcul/work/dchen/code/cvut-colab/slurm/__experiments/baseline_logs/miconic_0_25_r0.0.log\n",
      "/pfcalcul/work/dchen/code/cvut-colab/slurm/__experiments/baseline_logs/miconic_0_25_r2.0.log\n",
      "/pfcalcul/work/dchen/code/cvut-colab/slurm/__experiments/baseline_logs/miconic_0_25_r3.0.log\n",
      "/pfcalcul/work/dchen/code/cvut-colab/slurm/__experiments/baseline_logs/miconic_0_25_r4.0.log\n",
      "/pfcalcul/work/dchen/code/cvut-colab/slurm/__experiments/baseline_logs/miconic_0_25_r6.0.log\n",
      "/pfcalcul/work/dchen/code/cvut-colab/slurm/__experiments/baseline_logs/miconic_0_25_r8.0.log\n",
      "/pfcalcul/work/dchen/code/cvut-colab/slurm/__experiments/baseline_logs/miconic_0_25_r9.0.log\n",
      "/pfcalcul/work/dchen/code/cvut-colab/slurm/__experiments/baseline_logs/miconic_0_26_r0.0.log\n",
      "/pfcalcul/work/dchen/code/cvut-colab/slurm/__experiments/baseline_logs/miconic_0_26_r2.0.log\n",
      "/pfcalcul/work/dchen/code/cvut-colab/slurm/__experiments/baseline_logs/miconic_0_26_r3.0.log\n",
      "/pfcalcul/work/dchen/code/cvut-colab/slurm/__experiments/baseline_logs/miconic_0_26_r4.0.log\n",
      "/pfcalcul/work/dchen/code/cvut-colab/slurm/__experiments/baseline_logs/miconic_0_26_r6.0.log\n",
      "/pfcalcul/work/dchen/code/cvut-colab/slurm/__experiments/baseline_logs/miconic_0_26_r8.0.log\n",
      "/pfcalcul/work/dchen/code/cvut-colab/slurm/__experiments/baseline_logs/miconic_0_26_r9.0.log\n",
      "/pfcalcul/work/dchen/code/cvut-colab/slurm/__experiments/baseline_logs/miconic_0_27_r0.0.log\n",
      "/pfcalcul/work/dchen/code/cvut-colab/slurm/__experiments/baseline_logs/miconic_0_27_r2.0.log\n",
      "/pfcalcul/work/dchen/code/cvut-colab/slurm/__experiments/baseline_logs/miconic_0_27_r3.0.log\n",
      "/pfcalcul/work/dchen/code/cvut-colab/slurm/__experiments/baseline_logs/miconic_0_27_r4.0.log\n",
      "/pfcalcul/work/dchen/code/cvut-colab/slurm/__experiments/baseline_logs/miconic_0_27_r6.0.log\n",
      "/pfcalcul/work/dchen/code/cvut-colab/slurm/__experiments/baseline_logs/miconic_0_27_r8.0.log\n",
      "/pfcalcul/work/dchen/code/cvut-colab/slurm/__experiments/baseline_logs/miconic_0_27_r9.0.log\n",
      "/pfcalcul/work/dchen/code/cvut-colab/slurm/__experiments/baseline_logs/miconic_0_28_r0.0.log\n",
      "/pfcalcul/work/dchen/code/cvut-colab/slurm/__experiments/baseline_logs/miconic_0_28_r2.0.log\n",
      "/pfcalcul/work/dchen/code/cvut-colab/slurm/__experiments/baseline_logs/miconic_0_28_r3.0.log\n",
      "/pfcalcul/work/dchen/code/cvut-colab/slurm/__experiments/baseline_logs/miconic_0_28_r4.0.log\n",
      "/pfcalcul/work/dchen/code/cvut-colab/slurm/__experiments/baseline_logs/miconic_0_28_r6.0.log\n",
      "/pfcalcul/work/dchen/code/cvut-colab/slurm/__experiments/baseline_logs/miconic_0_28_r8.0.log\n",
      "/pfcalcul/work/dchen/code/cvut-colab/slurm/__experiments/baseline_logs/miconic_0_28_r9.0.log\n",
      "/pfcalcul/work/dchen/code/cvut-colab/slurm/__experiments/baseline_logs/miconic_0_29_r0.0.log\n",
      "/pfcalcul/work/dchen/code/cvut-colab/slurm/__experiments/baseline_logs/miconic_0_29_r2.0.log\n",
      "/pfcalcul/work/dchen/code/cvut-colab/slurm/__experiments/baseline_logs/miconic_0_29_r3.0.log\n",
      "/pfcalcul/work/dchen/code/cvut-colab/slurm/__experiments/baseline_logs/miconic_0_29_r4.0.log\n",
      "/pfcalcul/work/dchen/code/cvut-colab/slurm/__experiments/baseline_logs/miconic_0_29_r6.0.log\n",
      "/pfcalcul/work/dchen/code/cvut-colab/slurm/__experiments/baseline_logs/miconic_0_29_r8.0.log\n",
      "/pfcalcul/work/dchen/code/cvut-colab/slurm/__experiments/baseline_logs/miconic_0_29_r9.0.log\n",
      "/pfcalcul/work/dchen/code/cvut-colab/slurm/__experiments/baseline_logs/miconic_0_30_r0.0.log\n",
      "/pfcalcul/work/dchen/code/cvut-colab/slurm/__experiments/baseline_logs/miconic_0_30_r2.0.log\n",
      "/pfcalcul/work/dchen/code/cvut-colab/slurm/__experiments/baseline_logs/miconic_0_30_r3.0.log\n",
      "/pfcalcul/work/dchen/code/cvut-colab/slurm/__experiments/baseline_logs/miconic_0_30_r4.0.log\n",
      "/pfcalcul/work/dchen/code/cvut-colab/slurm/__experiments/baseline_logs/miconic_0_30_r6.0.log\n",
      "/pfcalcul/work/dchen/code/cvut-colab/slurm/__experiments/baseline_logs/miconic_0_30_r8.0.log\n",
      "/pfcalcul/work/dchen/code/cvut-colab/slurm/__experiments/baseline_logs/miconic_0_30_r9.0.log\n",
      "/pfcalcul/work/dchen/code/cvut-colab/slurm/__experiments/baseline_logs/miconic_1_01_r0.0.log\n",
      "/pfcalcul/work/dchen/code/cvut-colab/slurm/__experiments/baseline_logs/miconic_1_01_r2.0.log\n",
      "/pfcalcul/work/dchen/code/cvut-colab/slurm/__experiments/baseline_logs/miconic_1_01_r3.0.log\n",
      "/pfcalcul/work/dchen/code/cvut-colab/slurm/__experiments/baseline_logs/miconic_1_01_r4.0.log\n",
      "/pfcalcul/work/dchen/code/cvut-colab/slurm/__experiments/baseline_logs/miconic_1_01_r6.0.log\n",
      "/pfcalcul/work/dchen/code/cvut-colab/slurm/__experiments/baseline_logs/miconic_1_01_r8.0.log\n",
      "/pfcalcul/work/dchen/code/cvut-colab/slurm/__experiments/baseline_logs/miconic_1_01_r9.0.log\n",
      "/pfcalcul/work/dchen/code/cvut-colab/slurm/__experiments/baseline_logs/miconic_1_02_r0.0.log\n",
      "/pfcalcul/work/dchen/code/cvut-colab/slurm/__experiments/baseline_logs/miconic_1_02_r2.0.log\n",
      "/pfcalcul/work/dchen/code/cvut-colab/slurm/__experiments/baseline_logs/miconic_1_02_r3.0.log\n",
      "/pfcalcul/work/dchen/code/cvut-colab/slurm/__experiments/baseline_logs/miconic_1_02_r4.0.log\n",
      "/pfcalcul/work/dchen/code/cvut-colab/slurm/__experiments/baseline_logs/miconic_1_02_r6.0.log\n",
      "/pfcalcul/work/dchen/code/cvut-colab/slurm/__experiments/baseline_logs/miconic_1_02_r8.0.log\n",
      "/pfcalcul/work/dchen/code/cvut-colab/slurm/__experiments/baseline_logs/miconic_1_02_r9.0.log\n",
      "/pfcalcul/work/dchen/code/cvut-colab/slurm/__experiments/baseline_logs/miconic_1_03_r0.0.log\n",
      "/pfcalcul/work/dchen/code/cvut-colab/slurm/__experiments/baseline_logs/miconic_1_03_r2.0.log\n",
      "/pfcalcul/work/dchen/code/cvut-colab/slurm/__experiments/baseline_logs/miconic_1_03_r3.0.log\n",
      "/pfcalcul/work/dchen/code/cvut-colab/slurm/__experiments/baseline_logs/miconic_1_03_r4.0.log\n",
      "/pfcalcul/work/dchen/code/cvut-colab/slurm/__experiments/baseline_logs/miconic_1_03_r6.0.log\n",
      "/pfcalcul/work/dchen/code/cvut-colab/slurm/__experiments/baseline_logs/miconic_1_03_r8.0.log\n",
      "/pfcalcul/work/dchen/code/cvut-colab/slurm/__experiments/baseline_logs/miconic_1_03_r9.0.log\n",
      "/pfcalcul/work/dchen/code/cvut-colab/slurm/__experiments/baseline_logs/miconic_1_04_r0.0.log\n",
      "/pfcalcul/work/dchen/code/cvut-colab/slurm/__experiments/baseline_logs/miconic_1_04_r2.0.log\n",
      "/pfcalcul/work/dchen/code/cvut-colab/slurm/__experiments/baseline_logs/miconic_1_04_r3.0.log\n",
      "/pfcalcul/work/dchen/code/cvut-colab/slurm/__experiments/baseline_logs/miconic_1_04_r4.0.log\n",
      "/pfcalcul/work/dchen/code/cvut-colab/slurm/__experiments/baseline_logs/miconic_1_04_r6.0.log\n",
      "/pfcalcul/work/dchen/code/cvut-colab/slurm/__experiments/baseline_logs/miconic_1_04_r9.0.log\n",
      "/pfcalcul/work/dchen/code/cvut-colab/slurm/__experiments/baseline_logs/miconic_1_05_r0.0.log\n",
      "/pfcalcul/work/dchen/code/cvut-colab/slurm/__experiments/baseline_logs/miconic_1_05_r2.0.log\n",
      "/pfcalcul/work/dchen/code/cvut-colab/slurm/__experiments/baseline_logs/miconic_1_05_r3.0.log\n",
      "/pfcalcul/work/dchen/code/cvut-colab/slurm/__experiments/baseline_logs/miconic_1_05_r4.0.log\n",
      "/pfcalcul/work/dchen/code/cvut-colab/slurm/__experiments/baseline_logs/miconic_1_05_r6.0.log\n",
      "/pfcalcul/work/dchen/code/cvut-colab/slurm/__experiments/baseline_logs/miconic_1_05_r7.0.log\n",
      "/pfcalcul/work/dchen/code/cvut-colab/slurm/__experiments/baseline_logs/miconic_1_05_r8.0.log\n",
      "/pfcalcul/work/dchen/code/cvut-colab/slurm/__experiments/baseline_logs/miconic_1_05_r9.0.log\n",
      "/pfcalcul/work/dchen/code/cvut-colab/slurm/__experiments/baseline_logs/miconic_1_06_r0.0.log\n",
      "/pfcalcul/work/dchen/code/cvut-colab/slurm/__experiments/baseline_logs/miconic_1_06_r2.0.log\n",
      "/pfcalcul/work/dchen/code/cvut-colab/slurm/__experiments/baseline_logs/miconic_1_06_r3.0.log\n",
      "/pfcalcul/work/dchen/code/cvut-colab/slurm/__experiments/baseline_logs/miconic_1_06_r4.0.log\n",
      "/pfcalcul/work/dchen/code/cvut-colab/slurm/__experiments/baseline_logs/miconic_1_06_r6.0.log\n",
      "/pfcalcul/work/dchen/code/cvut-colab/slurm/__experiments/baseline_logs/miconic_1_06_r9.0.log\n",
      "/pfcalcul/work/dchen/code/cvut-colab/slurm/__experiments/baseline_logs/miconic_1_07_r0.0.log\n",
      "/pfcalcul/work/dchen/code/cvut-colab/slurm/__experiments/baseline_logs/miconic_1_07_r2.0.log\n",
      "/pfcalcul/work/dchen/code/cvut-colab/slurm/__experiments/baseline_logs/miconic_1_07_r3.0.log\n",
      "/pfcalcul/work/dchen/code/cvut-colab/slurm/__experiments/baseline_logs/miconic_1_07_r4.0.log\n",
      "/pfcalcul/work/dchen/code/cvut-colab/slurm/__experiments/baseline_logs/miconic_1_07_r6.0.log\n",
      "/pfcalcul/work/dchen/code/cvut-colab/slurm/__experiments/baseline_logs/miconic_1_07_r8.0.log\n",
      "/pfcalcul/work/dchen/code/cvut-colab/slurm/__experiments/baseline_logs/miconic_1_07_r9.0.log\n",
      "/pfcalcul/work/dchen/code/cvut-colab/slurm/__experiments/baseline_logs/miconic_1_08_r0.0.log\n",
      "/pfcalcul/work/dchen/code/cvut-colab/slurm/__experiments/baseline_logs/miconic_1_08_r2.0.log\n",
      "/pfcalcul/work/dchen/code/cvut-colab/slurm/__experiments/baseline_logs/miconic_1_08_r3.0.log\n",
      "/pfcalcul/work/dchen/code/cvut-colab/slurm/__experiments/baseline_logs/miconic_1_08_r4.0.log\n",
      "/pfcalcul/work/dchen/code/cvut-colab/slurm/__experiments/baseline_logs/miconic_1_08_r6.0.log\n",
      "/pfcalcul/work/dchen/code/cvut-colab/slurm/__experiments/baseline_logs/miconic_1_08_r8.0.log\n",
      "/pfcalcul/work/dchen/code/cvut-colab/slurm/__experiments/baseline_logs/miconic_1_08_r9.0.log\n",
      "/pfcalcul/work/dchen/code/cvut-colab/slurm/__experiments/baseline_logs/miconic_1_09_r0.0.log\n",
      "/pfcalcul/work/dchen/code/cvut-colab/slurm/__experiments/baseline_logs/miconic_1_09_r2.0.log\n",
      "/pfcalcul/work/dchen/code/cvut-colab/slurm/__experiments/baseline_logs/miconic_1_09_r3.0.log\n",
      "/pfcalcul/work/dchen/code/cvut-colab/slurm/__experiments/baseline_logs/miconic_1_09_r4.0.log\n",
      "/pfcalcul/work/dchen/code/cvut-colab/slurm/__experiments/baseline_logs/miconic_1_09_r6.0.log\n",
      "/pfcalcul/work/dchen/code/cvut-colab/slurm/__experiments/baseline_logs/miconic_1_09_r7.0.log\n",
      "/pfcalcul/work/dchen/code/cvut-colab/slurm/__experiments/baseline_logs/miconic_1_09_r8.0.log\n",
      "/pfcalcul/work/dchen/code/cvut-colab/slurm/__experiments/baseline_logs/miconic_1_09_r9.0.log\n",
      "/pfcalcul/work/dchen/code/cvut-colab/slurm/__experiments/baseline_logs/miconic_1_10_r0.0.log\n",
      "/pfcalcul/work/dchen/code/cvut-colab/slurm/__experiments/baseline_logs/miconic_1_10_r2.0.log\n",
      "/pfcalcul/work/dchen/code/cvut-colab/slurm/__experiments/baseline_logs/miconic_1_10_r3.0.log\n",
      "/pfcalcul/work/dchen/code/cvut-colab/slurm/__experiments/baseline_logs/miconic_1_10_r4.0.log\n",
      "/pfcalcul/work/dchen/code/cvut-colab/slurm/__experiments/baseline_logs/miconic_1_10_r6.0.log\n",
      "/pfcalcul/work/dchen/code/cvut-colab/slurm/__experiments/baseline_logs/miconic_1_10_r8.0.log\n",
      "/pfcalcul/work/dchen/code/cvut-colab/slurm/__experiments/baseline_logs/miconic_1_10_r9.0.log\n",
      "/pfcalcul/work/dchen/code/cvut-colab/slurm/__experiments/baseline_logs/miconic_1_11_r0.0.log\n",
      "/pfcalcul/work/dchen/code/cvut-colab/slurm/__experiments/baseline_logs/miconic_1_11_r2.0.log\n",
      "/pfcalcul/work/dchen/code/cvut-colab/slurm/__experiments/baseline_logs/miconic_1_11_r3.0.log\n",
      "/pfcalcul/work/dchen/code/cvut-colab/slurm/__experiments/baseline_logs/miconic_1_11_r4.0.log\n",
      "/pfcalcul/work/dchen/code/cvut-colab/slurm/__experiments/baseline_logs/miconic_1_11_r6.0.log\n",
      "/pfcalcul/work/dchen/code/cvut-colab/slurm/__experiments/baseline_logs/miconic_1_11_r7.0.log\n",
      "/pfcalcul/work/dchen/code/cvut-colab/slurm/__experiments/baseline_logs/miconic_1_11_r8.0.log\n",
      "/pfcalcul/work/dchen/code/cvut-colab/slurm/__experiments/baseline_logs/miconic_1_11_r9.0.log\n",
      "/pfcalcul/work/dchen/code/cvut-colab/slurm/__experiments/baseline_logs/miconic_1_12_r0.0.log\n",
      "/pfcalcul/work/dchen/code/cvut-colab/slurm/__experiments/baseline_logs/miconic_1_12_r2.0.log\n",
      "/pfcalcul/work/dchen/code/cvut-colab/slurm/__experiments/baseline_logs/miconic_1_12_r3.0.log\n",
      "/pfcalcul/work/dchen/code/cvut-colab/slurm/__experiments/baseline_logs/miconic_1_12_r4.0.log\n",
      "/pfcalcul/work/dchen/code/cvut-colab/slurm/__experiments/baseline_logs/miconic_1_12_r6.0.log\n",
      "/pfcalcul/work/dchen/code/cvut-colab/slurm/__experiments/baseline_logs/miconic_1_12_r8.0.log\n",
      "/pfcalcul/work/dchen/code/cvut-colab/slurm/__experiments/baseline_logs/miconic_1_12_r9.0.log\n",
      "/pfcalcul/work/dchen/code/cvut-colab/slurm/__experiments/baseline_logs/miconic_1_13_r0.0.log\n",
      "/pfcalcul/work/dchen/code/cvut-colab/slurm/__experiments/baseline_logs/miconic_1_13_r2.0.log\n",
      "/pfcalcul/work/dchen/code/cvut-colab/slurm/__experiments/baseline_logs/miconic_1_13_r3.0.log\n",
      "/pfcalcul/work/dchen/code/cvut-colab/slurm/__experiments/baseline_logs/miconic_1_13_r4.0.log\n",
      "/pfcalcul/work/dchen/code/cvut-colab/slurm/__experiments/baseline_logs/miconic_1_13_r6.0.log\n",
      "/pfcalcul/work/dchen/code/cvut-colab/slurm/__experiments/baseline_logs/miconic_1_13_r7.0.log\n",
      "/pfcalcul/work/dchen/code/cvut-colab/slurm/__experiments/baseline_logs/miconic_1_13_r8.0.log\n",
      "/pfcalcul/work/dchen/code/cvut-colab/slurm/__experiments/baseline_logs/miconic_1_13_r9.0.log\n",
      "/pfcalcul/work/dchen/code/cvut-colab/slurm/__experiments/baseline_logs/miconic_1_14_r0.0.log\n",
      "/pfcalcul/work/dchen/code/cvut-colab/slurm/__experiments/baseline_logs/miconic_1_14_r1.0.log\n",
      "/pfcalcul/work/dchen/code/cvut-colab/slurm/__experiments/baseline_logs/miconic_1_14_r2.0.log\n",
      "/pfcalcul/work/dchen/code/cvut-colab/slurm/__experiments/baseline_logs/miconic_1_14_r3.0.log\n",
      "/pfcalcul/work/dchen/code/cvut-colab/slurm/__experiments/baseline_logs/miconic_1_14_r4.0.log\n",
      "/pfcalcul/work/dchen/code/cvut-colab/slurm/__experiments/baseline_logs/miconic_1_14_r6.0.log\n",
      "/pfcalcul/work/dchen/code/cvut-colab/slurm/__experiments/baseline_logs/miconic_1_14_r8.0.log\n",
      "/pfcalcul/work/dchen/code/cvut-colab/slurm/__experiments/baseline_logs/miconic_1_14_r9.0.log\n",
      "/pfcalcul/work/dchen/code/cvut-colab/slurm/__experiments/baseline_logs/miconic_1_15_r0.0.log\n",
      "/pfcalcul/work/dchen/code/cvut-colab/slurm/__experiments/baseline_logs/miconic_1_15_r2.0.log\n",
      "/pfcalcul/work/dchen/code/cvut-colab/slurm/__experiments/baseline_logs/miconic_1_15_r3.0.log\n",
      "/pfcalcul/work/dchen/code/cvut-colab/slurm/__experiments/baseline_logs/miconic_1_15_r4.0.log\n",
      "/pfcalcul/work/dchen/code/cvut-colab/slurm/__experiments/baseline_logs/miconic_1_15_r6.0.log\n",
      "/pfcalcul/work/dchen/code/cvut-colab/slurm/__experiments/baseline_logs/miconic_1_15_r8.0.log\n",
      "/pfcalcul/work/dchen/code/cvut-colab/slurm/__experiments/baseline_logs/miconic_1_15_r9.0.log\n",
      "/pfcalcul/work/dchen/code/cvut-colab/slurm/__experiments/baseline_logs/miconic_1_16_r0.0.log\n",
      "/pfcalcul/work/dchen/code/cvut-colab/slurm/__experiments/baseline_logs/miconic_1_16_r2.0.log\n",
      "/pfcalcul/work/dchen/code/cvut-colab/slurm/__experiments/baseline_logs/miconic_1_16_r3.0.log\n",
      "/pfcalcul/work/dchen/code/cvut-colab/slurm/__experiments/baseline_logs/miconic_1_16_r4.0.log\n",
      "/pfcalcul/work/dchen/code/cvut-colab/slurm/__experiments/baseline_logs/miconic_1_16_r6.0.log\n",
      "/pfcalcul/work/dchen/code/cvut-colab/slurm/__experiments/baseline_logs/miconic_1_16_r8.0.log\n",
      "/pfcalcul/work/dchen/code/cvut-colab/slurm/__experiments/baseline_logs/miconic_1_16_r9.0.log\n",
      "/pfcalcul/work/dchen/code/cvut-colab/slurm/__experiments/baseline_logs/miconic_1_17_r0.0.log\n",
      "/pfcalcul/work/dchen/code/cvut-colab/slurm/__experiments/baseline_logs/miconic_1_17_r2.0.log\n",
      "/pfcalcul/work/dchen/code/cvut-colab/slurm/__experiments/baseline_logs/miconic_1_17_r3.0.log\n",
      "/pfcalcul/work/dchen/code/cvut-colab/slurm/__experiments/baseline_logs/miconic_1_17_r4.0.log\n",
      "/pfcalcul/work/dchen/code/cvut-colab/slurm/__experiments/baseline_logs/miconic_1_17_r6.0.log\n",
      "/pfcalcul/work/dchen/code/cvut-colab/slurm/__experiments/baseline_logs/miconic_1_17_r8.0.log\n",
      "/pfcalcul/work/dchen/code/cvut-colab/slurm/__experiments/baseline_logs/miconic_1_17_r9.0.log\n",
      "/pfcalcul/work/dchen/code/cvut-colab/slurm/__experiments/baseline_logs/miconic_1_18_r0.0.log\n",
      "/pfcalcul/work/dchen/code/cvut-colab/slurm/__experiments/baseline_logs/miconic_1_18_r2.0.log\n",
      "/pfcalcul/work/dchen/code/cvut-colab/slurm/__experiments/baseline_logs/miconic_1_18_r3.0.log\n",
      "/pfcalcul/work/dchen/code/cvut-colab/slurm/__experiments/baseline_logs/miconic_1_18_r4.0.log\n",
      "/pfcalcul/work/dchen/code/cvut-colab/slurm/__experiments/baseline_logs/miconic_1_18_r6.0.log\n",
      "/pfcalcul/work/dchen/code/cvut-colab/slurm/__experiments/baseline_logs/miconic_1_18_r8.0.log\n",
      "/pfcalcul/work/dchen/code/cvut-colab/slurm/__experiments/baseline_logs/miconic_1_18_r9.0.log\n",
      "/pfcalcul/work/dchen/code/cvut-colab/slurm/__experiments/baseline_logs/miconic_1_19_r0.0.log\n",
      "/pfcalcul/work/dchen/code/cvut-colab/slurm/__experiments/baseline_logs/miconic_1_19_r2.0.log\n",
      "/pfcalcul/work/dchen/code/cvut-colab/slurm/__experiments/baseline_logs/miconic_1_19_r3.0.log\n",
      "/pfcalcul/work/dchen/code/cvut-colab/slurm/__experiments/baseline_logs/miconic_1_19_r4.0.log\n",
      "/pfcalcul/work/dchen/code/cvut-colab/slurm/__experiments/baseline_logs/miconic_1_19_r6.0.log\n",
      "/pfcalcul/work/dchen/code/cvut-colab/slurm/__experiments/baseline_logs/miconic_1_19_r7.0.log\n",
      "/pfcalcul/work/dchen/code/cvut-colab/slurm/__experiments/baseline_logs/miconic_1_19_r9.0.log\n",
      "/pfcalcul/work/dchen/code/cvut-colab/slurm/__experiments/baseline_logs/miconic_1_20_r0.0.log\n",
      "/pfcalcul/work/dchen/code/cvut-colab/slurm/__experiments/baseline_logs/miconic_1_20_r2.0.log\n",
      "/pfcalcul/work/dchen/code/cvut-colab/slurm/__experiments/baseline_logs/miconic_1_20_r3.0.log\n",
      "/pfcalcul/work/dchen/code/cvut-colab/slurm/__experiments/baseline_logs/miconic_1_20_r4.0.log\n",
      "/pfcalcul/work/dchen/code/cvut-colab/slurm/__experiments/baseline_logs/miconic_1_20_r6.0.log\n",
      "/pfcalcul/work/dchen/code/cvut-colab/slurm/__experiments/baseline_logs/miconic_1_20_r8.0.log\n",
      "/pfcalcul/work/dchen/code/cvut-colab/slurm/__experiments/baseline_logs/miconic_1_20_r9.0.log\n",
      "/pfcalcul/work/dchen/code/cvut-colab/slurm/__experiments/baseline_logs/miconic_1_21_r0.0.log\n",
      "/pfcalcul/work/dchen/code/cvut-colab/slurm/__experiments/baseline_logs/miconic_1_21_r2.0.log\n",
      "/pfcalcul/work/dchen/code/cvut-colab/slurm/__experiments/baseline_logs/miconic_1_21_r3.0.log\n",
      "/pfcalcul/work/dchen/code/cvut-colab/slurm/__experiments/baseline_logs/miconic_1_21_r4.0.log\n",
      "/pfcalcul/work/dchen/code/cvut-colab/slurm/__experiments/baseline_logs/miconic_1_21_r6.0.log\n",
      "/pfcalcul/work/dchen/code/cvut-colab/slurm/__experiments/baseline_logs/miconic_1_21_r9.0.log\n",
      "/pfcalcul/work/dchen/code/cvut-colab/slurm/__experiments/baseline_logs/miconic_1_22_r0.0.log\n",
      "/pfcalcul/work/dchen/code/cvut-colab/slurm/__experiments/baseline_logs/miconic_1_22_r2.0.log\n",
      "/pfcalcul/work/dchen/code/cvut-colab/slurm/__experiments/baseline_logs/miconic_1_22_r3.0.log\n",
      "/pfcalcul/work/dchen/code/cvut-colab/slurm/__experiments/baseline_logs/miconic_1_22_r4.0.log\n",
      "/pfcalcul/work/dchen/code/cvut-colab/slurm/__experiments/baseline_logs/miconic_1_22_r6.0.log\n",
      "/pfcalcul/work/dchen/code/cvut-colab/slurm/__experiments/baseline_logs/miconic_1_22_r9.0.log\n",
      "/pfcalcul/work/dchen/code/cvut-colab/slurm/__experiments/baseline_logs/miconic_1_23_r0.0.log\n",
      "/pfcalcul/work/dchen/code/cvut-colab/slurm/__experiments/baseline_logs/miconic_1_23_r2.0.log\n",
      "/pfcalcul/work/dchen/code/cvut-colab/slurm/__experiments/baseline_logs/miconic_1_23_r3.0.log\n",
      "/pfcalcul/work/dchen/code/cvut-colab/slurm/__experiments/baseline_logs/miconic_1_23_r4.0.log\n",
      "/pfcalcul/work/dchen/code/cvut-colab/slurm/__experiments/baseline_logs/miconic_1_23_r6.0.log\n",
      "/pfcalcul/work/dchen/code/cvut-colab/slurm/__experiments/baseline_logs/miconic_1_23_r7.0.log\n",
      "/pfcalcul/work/dchen/code/cvut-colab/slurm/__experiments/baseline_logs/miconic_1_23_r9.0.log\n",
      "/pfcalcul/work/dchen/code/cvut-colab/slurm/__experiments/baseline_logs/miconic_1_24_r0.0.log\n",
      "/pfcalcul/work/dchen/code/cvut-colab/slurm/__experiments/baseline_logs/miconic_1_24_r1.0.log\n",
      "/pfcalcul/work/dchen/code/cvut-colab/slurm/__experiments/baseline_logs/miconic_1_24_r2.0.log\n",
      "/pfcalcul/work/dchen/code/cvut-colab/slurm/__experiments/baseline_logs/miconic_1_24_r3.0.log\n",
      "/pfcalcul/work/dchen/code/cvut-colab/slurm/__experiments/baseline_logs/miconic_1_24_r4.0.log\n",
      "/pfcalcul/work/dchen/code/cvut-colab/slurm/__experiments/baseline_logs/miconic_1_24_r6.0.log\n",
      "/pfcalcul/work/dchen/code/cvut-colab/slurm/__experiments/baseline_logs/miconic_1_24_r8.0.log\n",
      "/pfcalcul/work/dchen/code/cvut-colab/slurm/__experiments/baseline_logs/miconic_1_24_r9.0.log\n",
      "/pfcalcul/work/dchen/code/cvut-colab/slurm/__experiments/baseline_logs/miconic_1_25_r0.0.log\n",
      "/pfcalcul/work/dchen/code/cvut-colab/slurm/__experiments/baseline_logs/miconic_1_25_r2.0.log\n",
      "/pfcalcul/work/dchen/code/cvut-colab/slurm/__experiments/baseline_logs/miconic_1_25_r3.0.log\n",
      "/pfcalcul/work/dchen/code/cvut-colab/slurm/__experiments/baseline_logs/miconic_1_25_r4.0.log\n",
      "/pfcalcul/work/dchen/code/cvut-colab/slurm/__experiments/baseline_logs/miconic_1_25_r6.0.log\n",
      "/pfcalcul/work/dchen/code/cvut-colab/slurm/__experiments/baseline_logs/miconic_1_25_r7.0.log\n",
      "/pfcalcul/work/dchen/code/cvut-colab/slurm/__experiments/baseline_logs/miconic_1_25_r8.0.log\n",
      "/pfcalcul/work/dchen/code/cvut-colab/slurm/__experiments/baseline_logs/miconic_1_25_r9.0.log\n",
      "/pfcalcul/work/dchen/code/cvut-colab/slurm/__experiments/baseline_logs/miconic_1_26_r0.0.log\n",
      "/pfcalcul/work/dchen/code/cvut-colab/slurm/__experiments/baseline_logs/miconic_1_26_r2.0.log\n",
      "/pfcalcul/work/dchen/code/cvut-colab/slurm/__experiments/baseline_logs/miconic_1_26_r3.0.log\n",
      "/pfcalcul/work/dchen/code/cvut-colab/slurm/__experiments/baseline_logs/miconic_1_26_r4.0.log\n",
      "/pfcalcul/work/dchen/code/cvut-colab/slurm/__experiments/baseline_logs/miconic_1_26_r6.0.log\n",
      "/pfcalcul/work/dchen/code/cvut-colab/slurm/__experiments/baseline_logs/miconic_1_26_r8.0.log\n",
      "/pfcalcul/work/dchen/code/cvut-colab/slurm/__experiments/baseline_logs/miconic_1_26_r9.0.log\n",
      "/pfcalcul/work/dchen/code/cvut-colab/slurm/__experiments/baseline_logs/miconic_1_27_r0.0.log\n",
      "/pfcalcul/work/dchen/code/cvut-colab/slurm/__experiments/baseline_logs/miconic_1_27_r2.0.log\n",
      "/pfcalcul/work/dchen/code/cvut-colab/slurm/__experiments/baseline_logs/miconic_1_27_r3.0.log\n",
      "/pfcalcul/work/dchen/code/cvut-colab/slurm/__experiments/baseline_logs/miconic_1_27_r4.0.log\n",
      "/pfcalcul/work/dchen/code/cvut-colab/slurm/__experiments/baseline_logs/miconic_1_27_r6.0.log\n",
      "/pfcalcul/work/dchen/code/cvut-colab/slurm/__experiments/baseline_logs/miconic_1_27_r8.0.log\n",
      "/pfcalcul/work/dchen/code/cvut-colab/slurm/__experiments/baseline_logs/miconic_1_27_r9.0.log\n",
      "/pfcalcul/work/dchen/code/cvut-colab/slurm/__experiments/baseline_logs/miconic_1_28_r0.0.log\n",
      "/pfcalcul/work/dchen/code/cvut-colab/slurm/__experiments/baseline_logs/miconic_1_28_r1.0.log\n",
      "/pfcalcul/work/dchen/code/cvut-colab/slurm/__experiments/baseline_logs/miconic_1_28_r2.0.log\n",
      "/pfcalcul/work/dchen/code/cvut-colab/slurm/__experiments/baseline_logs/miconic_1_28_r3.0.log\n",
      "/pfcalcul/work/dchen/code/cvut-colab/slurm/__experiments/baseline_logs/miconic_1_28_r4.0.log\n",
      "/pfcalcul/work/dchen/code/cvut-colab/slurm/__experiments/baseline_logs/miconic_1_28_r6.0.log\n",
      "/pfcalcul/work/dchen/code/cvut-colab/slurm/__experiments/baseline_logs/miconic_1_28_r8.0.log\n",
      "/pfcalcul/work/dchen/code/cvut-colab/slurm/__experiments/baseline_logs/miconic_1_28_r9.0.log\n",
      "/pfcalcul/work/dchen/code/cvut-colab/slurm/__experiments/baseline_logs/miconic_1_29_r0.0.log\n",
      "/pfcalcul/work/dchen/code/cvut-colab/slurm/__experiments/baseline_logs/miconic_1_29_r2.0.log\n",
      "/pfcalcul/work/dchen/code/cvut-colab/slurm/__experiments/baseline_logs/miconic_1_29_r3.0.log\n",
      "/pfcalcul/work/dchen/code/cvut-colab/slurm/__experiments/baseline_logs/miconic_1_29_r4.0.log\n",
      "/pfcalcul/work/dchen/code/cvut-colab/slurm/__experiments/baseline_logs/miconic_1_29_r6.0.log\n",
      "/pfcalcul/work/dchen/code/cvut-colab/slurm/__experiments/baseline_logs/miconic_1_29_r7.0.log\n",
      "/pfcalcul/work/dchen/code/cvut-colab/slurm/__experiments/baseline_logs/miconic_1_29_r8.0.log\n",
      "/pfcalcul/work/dchen/code/cvut-colab/slurm/__experiments/baseline_logs/miconic_1_29_r9.0.log\n",
      "/pfcalcul/work/dchen/code/cvut-colab/slurm/__experiments/baseline_logs/miconic_1_30_r0.0.log\n",
      "/pfcalcul/work/dchen/code/cvut-colab/slurm/__experiments/baseline_logs/miconic_1_30_r2.0.log\n",
      "/pfcalcul/work/dchen/code/cvut-colab/slurm/__experiments/baseline_logs/miconic_1_30_r3.0.log\n",
      "/pfcalcul/work/dchen/code/cvut-colab/slurm/__experiments/baseline_logs/miconic_1_30_r4.0.log\n",
      "/pfcalcul/work/dchen/code/cvut-colab/slurm/__experiments/baseline_logs/miconic_1_30_r5.0.log\n",
      "/pfcalcul/work/dchen/code/cvut-colab/slurm/__experiments/baseline_logs/miconic_1_30_r6.0.log\n",
      "/pfcalcul/work/dchen/code/cvut-colab/slurm/__experiments/baseline_logs/miconic_1_30_r8.0.log\n",
      "/pfcalcul/work/dchen/code/cvut-colab/slurm/__experiments/baseline_logs/miconic_1_30_r9.0.log\n",
      "/pfcalcul/work/dchen/code/cvut-colab/slurm/__experiments/baseline_logs/miconic_2_01_r0.0.log\n",
      "/pfcalcul/work/dchen/code/cvut-colab/slurm/__experiments/baseline_logs/miconic_2_01_r2.0.log\n",
      "/pfcalcul/work/dchen/code/cvut-colab/slurm/__experiments/baseline_logs/miconic_2_01_r3.0.log\n",
      "/pfcalcul/work/dchen/code/cvut-colab/slurm/__experiments/baseline_logs/miconic_2_01_r4.0.log\n",
      "/pfcalcul/work/dchen/code/cvut-colab/slurm/__experiments/baseline_logs/miconic_2_01_r6.0.log\n",
      "/pfcalcul/work/dchen/code/cvut-colab/slurm/__experiments/baseline_logs/miconic_2_01_r8.0.log\n",
      "/pfcalcul/work/dchen/code/cvut-colab/slurm/__experiments/baseline_logs/miconic_2_01_r9.0.log\n",
      "/pfcalcul/work/dchen/code/cvut-colab/slurm/__experiments/baseline_logs/miconic_2_02_r0.0.log\n",
      "/pfcalcul/work/dchen/code/cvut-colab/slurm/__experiments/baseline_logs/miconic_2_02_r1.0.log\n",
      "/pfcalcul/work/dchen/code/cvut-colab/slurm/__experiments/baseline_logs/miconic_2_02_r2.0.log\n",
      "/pfcalcul/work/dchen/code/cvut-colab/slurm/__experiments/baseline_logs/miconic_2_02_r3.0.log\n",
      "/pfcalcul/work/dchen/code/cvut-colab/slurm/__experiments/baseline_logs/miconic_2_02_r4.0.log\n",
      "/pfcalcul/work/dchen/code/cvut-colab/slurm/__experiments/baseline_logs/miconic_2_02_r6.0.log\n",
      "/pfcalcul/work/dchen/code/cvut-colab/slurm/__experiments/baseline_logs/miconic_2_02_r7.0.log\n",
      "/pfcalcul/work/dchen/code/cvut-colab/slurm/__experiments/baseline_logs/miconic_2_02_r9.0.log\n",
      "/pfcalcul/work/dchen/code/cvut-colab/slurm/__experiments/baseline_logs/miconic_2_03_r0.0.log\n",
      "/pfcalcul/work/dchen/code/cvut-colab/slurm/__experiments/baseline_logs/miconic_2_03_r2.0.log\n",
      "/pfcalcul/work/dchen/code/cvut-colab/slurm/__experiments/baseline_logs/miconic_2_03_r3.0.log\n",
      "/pfcalcul/work/dchen/code/cvut-colab/slurm/__experiments/baseline_logs/miconic_2_03_r4.0.log\n",
      "/pfcalcul/work/dchen/code/cvut-colab/slurm/__experiments/baseline_logs/miconic_2_03_r6.0.log\n",
      "/pfcalcul/work/dchen/code/cvut-colab/slurm/__experiments/baseline_logs/miconic_2_03_r8.0.log\n",
      "/pfcalcul/work/dchen/code/cvut-colab/slurm/__experiments/baseline_logs/miconic_2_03_r9.0.log\n",
      "/pfcalcul/work/dchen/code/cvut-colab/slurm/__experiments/baseline_logs/miconic_2_04_r0.0.log\n",
      "/pfcalcul/work/dchen/code/cvut-colab/slurm/__experiments/baseline_logs/miconic_2_04_r2.0.log\n",
      "/pfcalcul/work/dchen/code/cvut-colab/slurm/__experiments/baseline_logs/miconic_2_04_r3.0.log\n",
      "/pfcalcul/work/dchen/code/cvut-colab/slurm/__experiments/baseline_logs/miconic_2_04_r4.0.log\n",
      "/pfcalcul/work/dchen/code/cvut-colab/slurm/__experiments/baseline_logs/miconic_2_04_r6.0.log\n",
      "/pfcalcul/work/dchen/code/cvut-colab/slurm/__experiments/baseline_logs/miconic_2_04_r8.0.log\n",
      "/pfcalcul/work/dchen/code/cvut-colab/slurm/__experiments/baseline_logs/miconic_2_04_r9.0.log\n",
      "/pfcalcul/work/dchen/code/cvut-colab/slurm/__experiments/baseline_logs/miconic_2_05_r0.0.log\n",
      "/pfcalcul/work/dchen/code/cvut-colab/slurm/__experiments/baseline_logs/miconic_2_05_r2.0.log\n",
      "/pfcalcul/work/dchen/code/cvut-colab/slurm/__experiments/baseline_logs/miconic_2_05_r3.0.log\n",
      "/pfcalcul/work/dchen/code/cvut-colab/slurm/__experiments/baseline_logs/miconic_2_05_r4.0.log\n",
      "/pfcalcul/work/dchen/code/cvut-colab/slurm/__experiments/baseline_logs/miconic_2_05_r6.0.log\n",
      "/pfcalcul/work/dchen/code/cvut-colab/slurm/__experiments/baseline_logs/miconic_2_05_r8.0.log\n",
      "/pfcalcul/work/dchen/code/cvut-colab/slurm/__experiments/baseline_logs/miconic_2_05_r9.0.log\n",
      "/pfcalcul/work/dchen/code/cvut-colab/slurm/__experiments/baseline_logs/miconic_2_06_r0.0.log\n",
      "/pfcalcul/work/dchen/code/cvut-colab/slurm/__experiments/baseline_logs/miconic_2_06_r2.0.log\n",
      "/pfcalcul/work/dchen/code/cvut-colab/slurm/__experiments/baseline_logs/miconic_2_06_r3.0.log\n",
      "/pfcalcul/work/dchen/code/cvut-colab/slurm/__experiments/baseline_logs/miconic_2_06_r4.0.log\n",
      "/pfcalcul/work/dchen/code/cvut-colab/slurm/__experiments/baseline_logs/miconic_2_06_r6.0.log\n",
      "/pfcalcul/work/dchen/code/cvut-colab/slurm/__experiments/baseline_logs/miconic_2_06_r8.0.log\n",
      "/pfcalcul/work/dchen/code/cvut-colab/slurm/__experiments/baseline_logs/miconic_2_06_r9.0.log\n",
      "/pfcalcul/work/dchen/code/cvut-colab/slurm/__experiments/baseline_logs/miconic_2_07_r0.0.log\n",
      "/pfcalcul/work/dchen/code/cvut-colab/slurm/__experiments/baseline_logs/miconic_2_07_r2.0.log\n",
      "/pfcalcul/work/dchen/code/cvut-colab/slurm/__experiments/baseline_logs/miconic_2_07_r3.0.log\n",
      "/pfcalcul/work/dchen/code/cvut-colab/slurm/__experiments/baseline_logs/miconic_2_07_r4.0.log\n",
      "/pfcalcul/work/dchen/code/cvut-colab/slurm/__experiments/baseline_logs/miconic_2_07_r6.0.log\n",
      "/pfcalcul/work/dchen/code/cvut-colab/slurm/__experiments/baseline_logs/miconic_2_07_r8.0.log\n",
      "/pfcalcul/work/dchen/code/cvut-colab/slurm/__experiments/baseline_logs/miconic_2_07_r9.0.log\n",
      "/pfcalcul/work/dchen/code/cvut-colab/slurm/__experiments/baseline_logs/miconic_2_08_r0.0.log\n",
      "/pfcalcul/work/dchen/code/cvut-colab/slurm/__experiments/baseline_logs/miconic_2_08_r2.0.log\n",
      "/pfcalcul/work/dchen/code/cvut-colab/slurm/__experiments/baseline_logs/miconic_2_08_r3.0.log\n",
      "/pfcalcul/work/dchen/code/cvut-colab/slurm/__experiments/baseline_logs/miconic_2_08_r4.0.log\n",
      "/pfcalcul/work/dchen/code/cvut-colab/slurm/__experiments/baseline_logs/miconic_2_08_r6.0.log\n",
      "/pfcalcul/work/dchen/code/cvut-colab/slurm/__experiments/baseline_logs/miconic_2_08_r8.0.log\n",
      "/pfcalcul/work/dchen/code/cvut-colab/slurm/__experiments/baseline_logs/miconic_2_08_r9.0.log\n",
      "/pfcalcul/work/dchen/code/cvut-colab/slurm/__experiments/baseline_logs/miconic_2_09_r0.0.log\n",
      "/pfcalcul/work/dchen/code/cvut-colab/slurm/__experiments/baseline_logs/miconic_2_09_r2.0.log\n",
      "/pfcalcul/work/dchen/code/cvut-colab/slurm/__experiments/baseline_logs/miconic_2_09_r3.0.log\n",
      "/pfcalcul/work/dchen/code/cvut-colab/slurm/__experiments/baseline_logs/miconic_2_09_r4.0.log\n",
      "/pfcalcul/work/dchen/code/cvut-colab/slurm/__experiments/baseline_logs/miconic_2_09_r6.0.log\n",
      "/pfcalcul/work/dchen/code/cvut-colab/slurm/__experiments/baseline_logs/miconic_2_09_r9.0.log\n",
      "/pfcalcul/work/dchen/code/cvut-colab/slurm/__experiments/baseline_logs/miconic_2_10_r0.0.log\n",
      "/pfcalcul/work/dchen/code/cvut-colab/slurm/__experiments/baseline_logs/miconic_2_10_r2.0.log\n",
      "/pfcalcul/work/dchen/code/cvut-colab/slurm/__experiments/baseline_logs/miconic_2_10_r3.0.log\n",
      "/pfcalcul/work/dchen/code/cvut-colab/slurm/__experiments/baseline_logs/miconic_2_10_r4.0.log\n",
      "/pfcalcul/work/dchen/code/cvut-colab/slurm/__experiments/baseline_logs/miconic_2_10_r6.0.log\n",
      "/pfcalcul/work/dchen/code/cvut-colab/slurm/__experiments/baseline_logs/miconic_2_10_r9.0.log\n",
      "/pfcalcul/work/dchen/code/cvut-colab/slurm/__experiments/baseline_logs/miconic_2_11_r0.0.log\n",
      "/pfcalcul/work/dchen/code/cvut-colab/slurm/__experiments/baseline_logs/miconic_2_11_r2.0.log\n",
      "/pfcalcul/work/dchen/code/cvut-colab/slurm/__experiments/baseline_logs/miconic_2_11_r3.0.log\n",
      "/pfcalcul/work/dchen/code/cvut-colab/slurm/__experiments/baseline_logs/miconic_2_11_r4.0.log\n",
      "/pfcalcul/work/dchen/code/cvut-colab/slurm/__experiments/baseline_logs/miconic_2_11_r6.0.log\n",
      "/pfcalcul/work/dchen/code/cvut-colab/slurm/__experiments/baseline_logs/miconic_2_11_r8.0.log\n",
      "/pfcalcul/work/dchen/code/cvut-colab/slurm/__experiments/baseline_logs/miconic_2_11_r9.0.log\n",
      "/pfcalcul/work/dchen/code/cvut-colab/slurm/__experiments/baseline_logs/miconic_2_12_r0.0.log\n",
      "/pfcalcul/work/dchen/code/cvut-colab/slurm/__experiments/baseline_logs/miconic_2_12_r1.0.log\n",
      "/pfcalcul/work/dchen/code/cvut-colab/slurm/__experiments/baseline_logs/miconic_2_12_r2.0.log\n",
      "/pfcalcul/work/dchen/code/cvut-colab/slurm/__experiments/baseline_logs/miconic_2_12_r3.0.log\n",
      "/pfcalcul/work/dchen/code/cvut-colab/slurm/__experiments/baseline_logs/miconic_2_12_r4.0.log\n",
      "/pfcalcul/work/dchen/code/cvut-colab/slurm/__experiments/baseline_logs/miconic_2_12_r6.0.log\n",
      "/pfcalcul/work/dchen/code/cvut-colab/slurm/__experiments/baseline_logs/miconic_2_12_r8.0.log\n",
      "/pfcalcul/work/dchen/code/cvut-colab/slurm/__experiments/baseline_logs/miconic_2_12_r9.0.log\n",
      "/pfcalcul/work/dchen/code/cvut-colab/slurm/__experiments/baseline_logs/miconic_2_13_r0.0.log\n",
      "/pfcalcul/work/dchen/code/cvut-colab/slurm/__experiments/baseline_logs/miconic_2_13_r1.0.log\n",
      "/pfcalcul/work/dchen/code/cvut-colab/slurm/__experiments/baseline_logs/miconic_2_13_r2.0.log\n",
      "/pfcalcul/work/dchen/code/cvut-colab/slurm/__experiments/baseline_logs/miconic_2_13_r3.0.log\n",
      "/pfcalcul/work/dchen/code/cvut-colab/slurm/__experiments/baseline_logs/miconic_2_13_r4.0.log\n",
      "/pfcalcul/work/dchen/code/cvut-colab/slurm/__experiments/baseline_logs/miconic_2_13_r6.0.log\n",
      "/pfcalcul/work/dchen/code/cvut-colab/slurm/__experiments/baseline_logs/miconic_2_13_r7.0.log\n",
      "/pfcalcul/work/dchen/code/cvut-colab/slurm/__experiments/baseline_logs/miconic_2_13_r8.0.log\n",
      "/pfcalcul/work/dchen/code/cvut-colab/slurm/__experiments/baseline_logs/miconic_2_13_r9.0.log\n",
      "/pfcalcul/work/dchen/code/cvut-colab/slurm/__experiments/baseline_logs/miconic_2_14_r0.0.log\n",
      "/pfcalcul/work/dchen/code/cvut-colab/slurm/__experiments/baseline_logs/miconic_2_14_r2.0.log\n",
      "/pfcalcul/work/dchen/code/cvut-colab/slurm/__experiments/baseline_logs/miconic_2_14_r3.0.log\n",
      "/pfcalcul/work/dchen/code/cvut-colab/slurm/__experiments/baseline_logs/miconic_2_14_r4.0.log\n",
      "/pfcalcul/work/dchen/code/cvut-colab/slurm/__experiments/baseline_logs/miconic_2_14_r6.0.log\n",
      "/pfcalcul/work/dchen/code/cvut-colab/slurm/__experiments/baseline_logs/miconic_2_14_r7.0.log\n",
      "/pfcalcul/work/dchen/code/cvut-colab/slurm/__experiments/baseline_logs/miconic_2_14_r8.0.log\n",
      "/pfcalcul/work/dchen/code/cvut-colab/slurm/__experiments/baseline_logs/miconic_2_14_r9.0.log\n",
      "/pfcalcul/work/dchen/code/cvut-colab/slurm/__experiments/baseline_logs/miconic_2_15_r0.0.log\n",
      "/pfcalcul/work/dchen/code/cvut-colab/slurm/__experiments/baseline_logs/miconic_2_15_r2.0.log\n",
      "/pfcalcul/work/dchen/code/cvut-colab/slurm/__experiments/baseline_logs/miconic_2_15_r3.0.log\n",
      "/pfcalcul/work/dchen/code/cvut-colab/slurm/__experiments/baseline_logs/miconic_2_15_r4.0.log\n",
      "/pfcalcul/work/dchen/code/cvut-colab/slurm/__experiments/baseline_logs/miconic_2_15_r5.0.log\n",
      "/pfcalcul/work/dchen/code/cvut-colab/slurm/__experiments/baseline_logs/miconic_2_15_r6.0.log\n",
      "/pfcalcul/work/dchen/code/cvut-colab/slurm/__experiments/baseline_logs/miconic_2_15_r7.0.log\n",
      "/pfcalcul/work/dchen/code/cvut-colab/slurm/__experiments/baseline_logs/miconic_2_15_r8.0.log\n",
      "/pfcalcul/work/dchen/code/cvut-colab/slurm/__experiments/baseline_logs/miconic_2_15_r9.0.log\n",
      "/pfcalcul/work/dchen/code/cvut-colab/slurm/__experiments/baseline_logs/miconic_2_16_r0.0.log\n",
      "/pfcalcul/work/dchen/code/cvut-colab/slurm/__experiments/baseline_logs/miconic_2_16_r2.0.log\n",
      "/pfcalcul/work/dchen/code/cvut-colab/slurm/__experiments/baseline_logs/miconic_2_16_r3.0.log\n",
      "/pfcalcul/work/dchen/code/cvut-colab/slurm/__experiments/baseline_logs/miconic_2_16_r4.0.log\n",
      "/pfcalcul/work/dchen/code/cvut-colab/slurm/__experiments/baseline_logs/miconic_2_16_r5.0.log\n",
      "/pfcalcul/work/dchen/code/cvut-colab/slurm/__experiments/baseline_logs/miconic_2_16_r6.0.log\n",
      "/pfcalcul/work/dchen/code/cvut-colab/slurm/__experiments/baseline_logs/miconic_2_16_r8.0.log\n",
      "/pfcalcul/work/dchen/code/cvut-colab/slurm/__experiments/baseline_logs/miconic_2_16_r9.0.log\n",
      "/pfcalcul/work/dchen/code/cvut-colab/slurm/__experiments/baseline_logs/miconic_2_17_r0.0.log\n",
      "/pfcalcul/work/dchen/code/cvut-colab/slurm/__experiments/baseline_logs/miconic_2_17_r2.0.log\n",
      "/pfcalcul/work/dchen/code/cvut-colab/slurm/__experiments/baseline_logs/miconic_2_17_r3.0.log\n",
      "/pfcalcul/work/dchen/code/cvut-colab/slurm/__experiments/baseline_logs/miconic_2_17_r4.0.log\n",
      "/pfcalcul/work/dchen/code/cvut-colab/slurm/__experiments/baseline_logs/miconic_2_17_r6.0.log\n",
      "/pfcalcul/work/dchen/code/cvut-colab/slurm/__experiments/baseline_logs/miconic_2_17_r7.0.log\n",
      "/pfcalcul/work/dchen/code/cvut-colab/slurm/__experiments/baseline_logs/miconic_2_17_r9.0.log\n",
      "/pfcalcul/work/dchen/code/cvut-colab/slurm/__experiments/baseline_logs/miconic_2_18_r0.0.log\n",
      "/pfcalcul/work/dchen/code/cvut-colab/slurm/__experiments/baseline_logs/miconic_2_18_r1.0.log\n",
      "/pfcalcul/work/dchen/code/cvut-colab/slurm/__experiments/baseline_logs/miconic_2_18_r2.0.log\n",
      "/pfcalcul/work/dchen/code/cvut-colab/slurm/__experiments/baseline_logs/miconic_2_18_r3.0.log\n",
      "/pfcalcul/work/dchen/code/cvut-colab/slurm/__experiments/baseline_logs/miconic_2_18_r4.0.log\n",
      "/pfcalcul/work/dchen/code/cvut-colab/slurm/__experiments/baseline_logs/miconic_2_18_r6.0.log\n",
      "/pfcalcul/work/dchen/code/cvut-colab/slurm/__experiments/baseline_logs/miconic_2_18_r7.0.log\n",
      "/pfcalcul/work/dchen/code/cvut-colab/slurm/__experiments/baseline_logs/miconic_2_18_r8.0.log\n",
      "/pfcalcul/work/dchen/code/cvut-colab/slurm/__experiments/baseline_logs/miconic_2_18_r9.0.log\n",
      "/pfcalcul/work/dchen/code/cvut-colab/slurm/__experiments/baseline_logs/miconic_2_19_r0.0.log\n",
      "/pfcalcul/work/dchen/code/cvut-colab/slurm/__experiments/baseline_logs/miconic_2_19_r2.0.log\n",
      "/pfcalcul/work/dchen/code/cvut-colab/slurm/__experiments/baseline_logs/miconic_2_19_r3.0.log\n",
      "/pfcalcul/work/dchen/code/cvut-colab/slurm/__experiments/baseline_logs/miconic_2_19_r4.0.log\n",
      "/pfcalcul/work/dchen/code/cvut-colab/slurm/__experiments/baseline_logs/miconic_2_19_r6.0.log\n",
      "/pfcalcul/work/dchen/code/cvut-colab/slurm/__experiments/baseline_logs/miconic_2_19_r8.0.log\n",
      "/pfcalcul/work/dchen/code/cvut-colab/slurm/__experiments/baseline_logs/miconic_2_19_r9.0.log\n",
      "/pfcalcul/work/dchen/code/cvut-colab/slurm/__experiments/baseline_logs/miconic_2_20_r0.0.log\n",
      "/pfcalcul/work/dchen/code/cvut-colab/slurm/__experiments/baseline_logs/miconic_2_20_r1.0.log\n",
      "/pfcalcul/work/dchen/code/cvut-colab/slurm/__experiments/baseline_logs/miconic_2_20_r2.0.log\n",
      "/pfcalcul/work/dchen/code/cvut-colab/slurm/__experiments/baseline_logs/miconic_2_20_r3.0.log\n",
      "/pfcalcul/work/dchen/code/cvut-colab/slurm/__experiments/baseline_logs/miconic_2_20_r4.0.log\n",
      "/pfcalcul/work/dchen/code/cvut-colab/slurm/__experiments/baseline_logs/miconic_2_20_r6.0.log\n",
      "/pfcalcul/work/dchen/code/cvut-colab/slurm/__experiments/baseline_logs/miconic_2_20_r7.0.log\n",
      "/pfcalcul/work/dchen/code/cvut-colab/slurm/__experiments/baseline_logs/miconic_2_20_r8.0.log\n",
      "/pfcalcul/work/dchen/code/cvut-colab/slurm/__experiments/baseline_logs/miconic_2_20_r9.0.log\n",
      "/pfcalcul/work/dchen/code/cvut-colab/slurm/__experiments/baseline_logs/miconic_2_21_r0.0.log\n",
      "/pfcalcul/work/dchen/code/cvut-colab/slurm/__experiments/baseline_logs/miconic_2_21_r2.0.log\n",
      "/pfcalcul/work/dchen/code/cvut-colab/slurm/__experiments/baseline_logs/miconic_2_21_r3.0.log\n",
      "/pfcalcul/work/dchen/code/cvut-colab/slurm/__experiments/baseline_logs/miconic_2_21_r4.0.log\n",
      "/pfcalcul/work/dchen/code/cvut-colab/slurm/__experiments/baseline_logs/miconic_2_21_r5.0.log\n",
      "/pfcalcul/work/dchen/code/cvut-colab/slurm/__experiments/baseline_logs/miconic_2_21_r6.0.log\n",
      "/pfcalcul/work/dchen/code/cvut-colab/slurm/__experiments/baseline_logs/miconic_2_21_r7.0.log\n",
      "/pfcalcul/work/dchen/code/cvut-colab/slurm/__experiments/baseline_logs/miconic_2_21_r8.0.log\n",
      "/pfcalcul/work/dchen/code/cvut-colab/slurm/__experiments/baseline_logs/miconic_2_21_r9.0.log\n",
      "/pfcalcul/work/dchen/code/cvut-colab/slurm/__experiments/baseline_logs/miconic_2_22_r0.0.log\n",
      "/pfcalcul/work/dchen/code/cvut-colab/slurm/__experiments/baseline_logs/miconic_2_22_r2.0.log\n",
      "/pfcalcul/work/dchen/code/cvut-colab/slurm/__experiments/baseline_logs/miconic_2_22_r3.0.log\n",
      "/pfcalcul/work/dchen/code/cvut-colab/slurm/__experiments/baseline_logs/miconic_2_22_r4.0.log\n",
      "/pfcalcul/work/dchen/code/cvut-colab/slurm/__experiments/baseline_logs/miconic_2_22_r6.0.log\n",
      "/pfcalcul/work/dchen/code/cvut-colab/slurm/__experiments/baseline_logs/miconic_2_22_r8.0.log\n",
      "/pfcalcul/work/dchen/code/cvut-colab/slurm/__experiments/baseline_logs/miconic_2_22_r9.0.log\n",
      "/pfcalcul/work/dchen/code/cvut-colab/slurm/__experiments/baseline_logs/miconic_2_23_r0.0.log\n",
      "/pfcalcul/work/dchen/code/cvut-colab/slurm/__experiments/baseline_logs/miconic_2_23_r2.0.log\n",
      "/pfcalcul/work/dchen/code/cvut-colab/slurm/__experiments/baseline_logs/miconic_2_23_r3.0.log\n",
      "/pfcalcul/work/dchen/code/cvut-colab/slurm/__experiments/baseline_logs/miconic_2_23_r4.0.log\n",
      "/pfcalcul/work/dchen/code/cvut-colab/slurm/__experiments/baseline_logs/miconic_2_23_r6.0.log\n",
      "/pfcalcul/work/dchen/code/cvut-colab/slurm/__experiments/baseline_logs/miconic_2_23_r7.0.log\n",
      "/pfcalcul/work/dchen/code/cvut-colab/slurm/__experiments/baseline_logs/miconic_2_23_r8.0.log\n",
      "/pfcalcul/work/dchen/code/cvut-colab/slurm/__experiments/baseline_logs/miconic_2_23_r9.0.log\n",
      "/pfcalcul/work/dchen/code/cvut-colab/slurm/__experiments/baseline_logs/miconic_2_24_r0.0.log\n",
      "/pfcalcul/work/dchen/code/cvut-colab/slurm/__experiments/baseline_logs/miconic_2_24_r2.0.log\n",
      "/pfcalcul/work/dchen/code/cvut-colab/slurm/__experiments/baseline_logs/miconic_2_24_r3.0.log\n",
      "/pfcalcul/work/dchen/code/cvut-colab/slurm/__experiments/baseline_logs/miconic_2_24_r4.0.log\n",
      "/pfcalcul/work/dchen/code/cvut-colab/slurm/__experiments/baseline_logs/miconic_2_24_r6.0.log\n",
      "/pfcalcul/work/dchen/code/cvut-colab/slurm/__experiments/baseline_logs/miconic_2_24_r7.0.log\n",
      "/pfcalcul/work/dchen/code/cvut-colab/slurm/__experiments/baseline_logs/miconic_2_24_r8.0.log\n",
      "/pfcalcul/work/dchen/code/cvut-colab/slurm/__experiments/baseline_logs/miconic_2_24_r9.0.log\n",
      "/pfcalcul/work/dchen/code/cvut-colab/slurm/__experiments/baseline_logs/miconic_2_25_r0.0.log\n",
      "/pfcalcul/work/dchen/code/cvut-colab/slurm/__experiments/baseline_logs/miconic_2_25_r1.0.log\n",
      "/pfcalcul/work/dchen/code/cvut-colab/slurm/__experiments/baseline_logs/miconic_2_25_r2.0.log\n",
      "/pfcalcul/work/dchen/code/cvut-colab/slurm/__experiments/baseline_logs/miconic_2_25_r3.0.log\n",
      "/pfcalcul/work/dchen/code/cvut-colab/slurm/__experiments/baseline_logs/miconic_2_25_r4.0.log\n",
      "/pfcalcul/work/dchen/code/cvut-colab/slurm/__experiments/baseline_logs/miconic_2_25_r6.0.log\n",
      "/pfcalcul/work/dchen/code/cvut-colab/slurm/__experiments/baseline_logs/miconic_2_25_r7.0.log\n",
      "/pfcalcul/work/dchen/code/cvut-colab/slurm/__experiments/baseline_logs/miconic_2_25_r8.0.log\n",
      "/pfcalcul/work/dchen/code/cvut-colab/slurm/__experiments/baseline_logs/miconic_2_25_r9.0.log\n",
      "/pfcalcul/work/dchen/code/cvut-colab/slurm/__experiments/baseline_logs/miconic_2_26_r0.0.log\n",
      "/pfcalcul/work/dchen/code/cvut-colab/slurm/__experiments/baseline_logs/miconic_2_26_r2.0.log\n",
      "/pfcalcul/work/dchen/code/cvut-colab/slurm/__experiments/baseline_logs/miconic_2_26_r3.0.log\n",
      "/pfcalcul/work/dchen/code/cvut-colab/slurm/__experiments/baseline_logs/miconic_2_26_r4.0.log\n",
      "/pfcalcul/work/dchen/code/cvut-colab/slurm/__experiments/baseline_logs/miconic_2_26_r6.0.log\n",
      "/pfcalcul/work/dchen/code/cvut-colab/slurm/__experiments/baseline_logs/miconic_2_26_r7.0.log\n",
      "/pfcalcul/work/dchen/code/cvut-colab/slurm/__experiments/baseline_logs/miconic_2_26_r9.0.log\n",
      "/pfcalcul/work/dchen/code/cvut-colab/slurm/__experiments/baseline_logs/miconic_2_27_r0.0.log\n",
      "/pfcalcul/work/dchen/code/cvut-colab/slurm/__experiments/baseline_logs/miconic_2_27_r1.0.log\n",
      "/pfcalcul/work/dchen/code/cvut-colab/slurm/__experiments/baseline_logs/miconic_2_27_r2.0.log\n",
      "/pfcalcul/work/dchen/code/cvut-colab/slurm/__experiments/baseline_logs/miconic_2_27_r3.0.log\n",
      "/pfcalcul/work/dchen/code/cvut-colab/slurm/__experiments/baseline_logs/miconic_2_27_r4.0.log\n",
      "/pfcalcul/work/dchen/code/cvut-colab/slurm/__experiments/baseline_logs/miconic_2_27_r6.0.log\n",
      "/pfcalcul/work/dchen/code/cvut-colab/slurm/__experiments/baseline_logs/miconic_2_27_r7.0.log\n",
      "/pfcalcul/work/dchen/code/cvut-colab/slurm/__experiments/baseline_logs/miconic_2_27_r8.0.log\n",
      "/pfcalcul/work/dchen/code/cvut-colab/slurm/__experiments/baseline_logs/miconic_2_27_r9.0.log\n",
      "/pfcalcul/work/dchen/code/cvut-colab/slurm/__experiments/baseline_logs/miconic_2_28_r0.0.log\n",
      "/pfcalcul/work/dchen/code/cvut-colab/slurm/__experiments/baseline_logs/miconic_2_28_r1.0.log\n",
      "/pfcalcul/work/dchen/code/cvut-colab/slurm/__experiments/baseline_logs/miconic_2_28_r2.0.log\n",
      "/pfcalcul/work/dchen/code/cvut-colab/slurm/__experiments/baseline_logs/miconic_2_28_r3.0.log\n",
      "/pfcalcul/work/dchen/code/cvut-colab/slurm/__experiments/baseline_logs/miconic_2_28_r4.0.log\n",
      "/pfcalcul/work/dchen/code/cvut-colab/slurm/__experiments/baseline_logs/miconic_2_28_r6.0.log\n",
      "/pfcalcul/work/dchen/code/cvut-colab/slurm/__experiments/baseline_logs/miconic_2_28_r7.0.log\n",
      "/pfcalcul/work/dchen/code/cvut-colab/slurm/__experiments/baseline_logs/miconic_2_28_r8.0.log\n",
      "/pfcalcul/work/dchen/code/cvut-colab/slurm/__experiments/baseline_logs/miconic_2_28_r9.0.log\n",
      "/pfcalcul/work/dchen/code/cvut-colab/slurm/__experiments/baseline_logs/miconic_2_29_r0.0.log\n",
      "/pfcalcul/work/dchen/code/cvut-colab/slurm/__experiments/baseline_logs/miconic_2_29_r2.0.log\n",
      "/pfcalcul/work/dchen/code/cvut-colab/slurm/__experiments/baseline_logs/miconic_2_29_r3.0.log\n",
      "/pfcalcul/work/dchen/code/cvut-colab/slurm/__experiments/baseline_logs/miconic_2_29_r4.0.log\n",
      "/pfcalcul/work/dchen/code/cvut-colab/slurm/__experiments/baseline_logs/miconic_2_29_r6.0.log\n",
      "/pfcalcul/work/dchen/code/cvut-colab/slurm/__experiments/baseline_logs/miconic_2_29_r7.0.log\n",
      "/pfcalcul/work/dchen/code/cvut-colab/slurm/__experiments/baseline_logs/miconic_2_29_r8.0.log\n",
      "/pfcalcul/work/dchen/code/cvut-colab/slurm/__experiments/baseline_logs/miconic_2_29_r9.0.log\n",
      "/pfcalcul/work/dchen/code/cvut-colab/slurm/__experiments/baseline_logs/miconic_2_30_r0.0.log\n",
      "/pfcalcul/work/dchen/code/cvut-colab/slurm/__experiments/baseline_logs/miconic_2_30_r2.0.log\n",
      "/pfcalcul/work/dchen/code/cvut-colab/slurm/__experiments/baseline_logs/miconic_2_30_r3.0.log\n",
      "/pfcalcul/work/dchen/code/cvut-colab/slurm/__experiments/baseline_logs/miconic_2_30_r4.0.log\n",
      "/pfcalcul/work/dchen/code/cvut-colab/slurm/__experiments/baseline_logs/miconic_2_30_r6.0.log\n",
      "/pfcalcul/work/dchen/code/cvut-colab/slurm/__experiments/baseline_logs/miconic_2_30_r7.0.log\n",
      "/pfcalcul/work/dchen/code/cvut-colab/slurm/__experiments/baseline_logs/miconic_2_30_r8.0.log\n",
      "/pfcalcul/work/dchen/code/cvut-colab/slurm/__experiments/baseline_logs/miconic_2_30_r9.0.log\n",
      "/pfcalcul/work/dchen/code/cvut-colab/slurm/__experiments/baseline_logs/miconic_1_08_rnan.log\n",
      "/pfcalcul/work/dchen/code/cvut-colab/slurm/__experiments/baseline_logs/miconic_1_11_rnan.log\n",
      "/pfcalcul/work/dchen/code/cvut-colab/slurm/__experiments/baseline_logs/miconic_1_14_rnan.log\n",
      "/pfcalcul/work/dchen/code/cvut-colab/slurm/__experiments/baseline_logs/miconic_1_16_rnan.log\n",
      "/pfcalcul/work/dchen/code/cvut-colab/slurm/__experiments/baseline_logs/miconic_1_17_rnan.log\n",
      "/pfcalcul/work/dchen/code/cvut-colab/slurm/__experiments/baseline_logs/miconic_1_18_rnan.log\n",
      "/pfcalcul/work/dchen/code/cvut-colab/slurm/__experiments/baseline_logs/miconic_1_21_rnan.log\n",
      "/pfcalcul/work/dchen/code/cvut-colab/slurm/__experiments/baseline_logs/miconic_1_22_rnan.log\n",
      "/pfcalcul/work/dchen/code/cvut-colab/slurm/__experiments/baseline_logs/miconic_1_23_rnan.log\n",
      "/pfcalcul/work/dchen/code/cvut-colab/slurm/__experiments/baseline_logs/miconic_1_24_rnan.log\n",
      "/pfcalcul/work/dchen/code/cvut-colab/slurm/__experiments/baseline_logs/miconic_1_25_rnan.log\n",
      "/pfcalcul/work/dchen/code/cvut-colab/slurm/__experiments/baseline_logs/miconic_1_26_rnan.log\n",
      "/pfcalcul/work/dchen/code/cvut-colab/slurm/__experiments/baseline_logs/miconic_1_27_rnan.log\n",
      "/pfcalcul/work/dchen/code/cvut-colab/slurm/__experiments/baseline_logs/miconic_1_28_rnan.log\n",
      "/pfcalcul/work/dchen/code/cvut-colab/slurm/__experiments/baseline_logs/miconic_1_29_rnan.log\n",
      "/pfcalcul/work/dchen/code/cvut-colab/slurm/__experiments/baseline_logs/miconic_1_30_rnan.log\n",
      "/pfcalcul/work/dchen/code/cvut-colab/slurm/__experiments/baseline_logs/miconic_2_02_rnan.log\n",
      "/pfcalcul/work/dchen/code/cvut-colab/slurm/__experiments/baseline_logs/miconic_2_03_rnan.log\n",
      "/pfcalcul/work/dchen/code/cvut-colab/slurm/__experiments/baseline_logs/miconic_2_04_rnan.log\n",
      "/pfcalcul/work/dchen/code/cvut-colab/slurm/__experiments/baseline_logs/miconic_2_05_rnan.log\n",
      "/pfcalcul/work/dchen/code/cvut-colab/slurm/__experiments/baseline_logs/miconic_2_06_rnan.log\n",
      "/pfcalcul/work/dchen/code/cvut-colab/slurm/__experiments/baseline_logs/miconic_2_07_rnan.log\n",
      "/pfcalcul/work/dchen/code/cvut-colab/slurm/__experiments/baseline_logs/miconic_2_08_rnan.log\n",
      "/pfcalcul/work/dchen/code/cvut-colab/slurm/__experiments/baseline_logs/miconic_2_09_rnan.log\n",
      "/pfcalcul/work/dchen/code/cvut-colab/slurm/__experiments/baseline_logs/miconic_2_10_rnan.log\n",
      "/pfcalcul/work/dchen/code/cvut-colab/slurm/__experiments/baseline_logs/miconic_2_11_rnan.log\n",
      "/pfcalcul/work/dchen/code/cvut-colab/slurm/__experiments/baseline_logs/miconic_2_12_rnan.log\n",
      "/pfcalcul/work/dchen/code/cvut-colab/slurm/__experiments/baseline_logs/miconic_2_13_rnan.log\n",
      "/pfcalcul/work/dchen/code/cvut-colab/slurm/__experiments/baseline_logs/miconic_2_14_rnan.log\n",
      "/pfcalcul/work/dchen/code/cvut-colab/slurm/__experiments/baseline_logs/miconic_2_15_rnan.log\n",
      "/pfcalcul/work/dchen/code/cvut-colab/slurm/__experiments/baseline_logs/miconic_2_16_rnan.log\n",
      "/pfcalcul/work/dchen/code/cvut-colab/slurm/__experiments/baseline_logs/miconic_2_17_rnan.log\n",
      "/pfcalcul/work/dchen/code/cvut-colab/slurm/__experiments/baseline_logs/miconic_2_18_rnan.log\n",
      "/pfcalcul/work/dchen/code/cvut-colab/slurm/__experiments/baseline_logs/miconic_2_19_rnan.log\n",
      "/pfcalcul/work/dchen/code/cvut-colab/slurm/__experiments/baseline_logs/miconic_2_20_rnan.log\n",
      "/pfcalcul/work/dchen/code/cvut-colab/slurm/__experiments/baseline_logs/miconic_2_21_rnan.log\n",
      "/pfcalcul/work/dchen/code/cvut-colab/slurm/__experiments/baseline_logs/miconic_2_22_rnan.log\n",
      "/pfcalcul/work/dchen/code/cvut-colab/slurm/__experiments/baseline_logs/miconic_2_23_rnan.log\n",
      "/pfcalcul/work/dchen/code/cvut-colab/slurm/__experiments/baseline_logs/miconic_2_24_rnan.log\n",
      "/pfcalcul/work/dchen/code/cvut-colab/slurm/__experiments/baseline_logs/miconic_2_25_rnan.log\n",
      "/pfcalcul/work/dchen/code/cvut-colab/slurm/__experiments/baseline_logs/miconic_2_26_rnan.log\n",
      "/pfcalcul/work/dchen/code/cvut-colab/slurm/__experiments/baseline_logs/miconic_2_27_rnan.log\n",
      "/pfcalcul/work/dchen/code/cvut-colab/slurm/__experiments/baseline_logs/miconic_2_28_rnan.log\n",
      "/pfcalcul/work/dchen/code/cvut-colab/slurm/__experiments/baseline_logs/miconic_2_29_rnan.log\n",
      "/pfcalcul/work/dchen/code/cvut-colab/slurm/__experiments/baseline_logs/miconic_2_30_rnan.log\n",
      "/pfcalcul/work/dchen/code/cvut-colab/slurm/__experiments/baseline_logs/miconic_0_04_r0.0.log\n",
      "/pfcalcul/work/dchen/code/cvut-colab/slurm/__experiments/baseline_logs/miconic_0_04_r2.0.log\n",
      "/pfcalcul/work/dchen/code/cvut-colab/slurm/__experiments/baseline_logs/miconic_0_04_r3.0.log\n",
      "/pfcalcul/work/dchen/code/cvut-colab/slurm/__experiments/baseline_logs/miconic_0_04_r4.0.log\n",
      "/pfcalcul/work/dchen/code/cvut-colab/slurm/__experiments/baseline_logs/miconic_0_04_r8.0.log\n",
      "/pfcalcul/work/dchen/code/cvut-colab/slurm/__experiments/baseline_logs/miconic_0_04_r9.0.log\n",
      "/pfcalcul/work/dchen/code/cvut-colab/slurm/__experiments/baseline_logs/miconic_0_05_r0.0.log\n",
      "/pfcalcul/work/dchen/code/cvut-colab/slurm/__experiments/baseline_logs/miconic_0_05_r2.0.log\n",
      "/pfcalcul/work/dchen/code/cvut-colab/slurm/__experiments/baseline_logs/miconic_0_05_r3.0.log\n",
      "/pfcalcul/work/dchen/code/cvut-colab/slurm/__experiments/baseline_logs/miconic_0_05_r4.0.log\n",
      "/pfcalcul/work/dchen/code/cvut-colab/slurm/__experiments/baseline_logs/miconic_0_05_r6.0.log\n",
      "/pfcalcul/work/dchen/code/cvut-colab/slurm/__experiments/baseline_logs/miconic_0_05_r8.0.log\n",
      "/pfcalcul/work/dchen/code/cvut-colab/slurm/__experiments/baseline_logs/miconic_0_05_r9.0.log\n",
      "/pfcalcul/work/dchen/code/cvut-colab/slurm/__experiments/baseline_logs/miconic_0_06_r0.0.log\n",
      "/pfcalcul/work/dchen/code/cvut-colab/slurm/__experiments/baseline_logs/miconic_0_06_r2.0.log\n",
      "/pfcalcul/work/dchen/code/cvut-colab/slurm/__experiments/baseline_logs/miconic_0_06_r3.0.log\n",
      "/pfcalcul/work/dchen/code/cvut-colab/slurm/__experiments/baseline_logs/miconic_0_06_r4.0.log\n",
      "/pfcalcul/work/dchen/code/cvut-colab/slurm/__experiments/baseline_logs/miconic_0_06_r7.0.log\n",
      "/pfcalcul/work/dchen/code/cvut-colab/slurm/__experiments/baseline_logs/miconic_0_06_r8.0.log\n",
      "/pfcalcul/work/dchen/code/cvut-colab/slurm/__experiments/baseline_logs/miconic_0_06_r9.0.log\n",
      "/pfcalcul/work/dchen/code/cvut-colab/slurm/__experiments/baseline_logs/miconic_0_07_r0.0.log\n",
      "/pfcalcul/work/dchen/code/cvut-colab/slurm/__experiments/baseline_logs/miconic_0_07_r3.0.log\n",
      "/pfcalcul/work/dchen/code/cvut-colab/slurm/__experiments/baseline_logs/miconic_0_07_r4.0.log\n",
      "/pfcalcul/work/dchen/code/cvut-colab/slurm/__experiments/baseline_logs/miconic_0_07_r6.0.log\n",
      "/pfcalcul/work/dchen/code/cvut-colab/slurm/__experiments/baseline_logs/miconic_0_07_r8.0.log\n",
      "/pfcalcul/work/dchen/code/cvut-colab/slurm/__experiments/baseline_logs/miconic_0_07_r9.0.log\n",
      "/pfcalcul/work/dchen/code/cvut-colab/slurm/__experiments/baseline_logs/miconic_0_08_r0.0.log\n",
      "/pfcalcul/work/dchen/code/cvut-colab/slurm/__experiments/baseline_logs/miconic_0_08_r2.0.log\n",
      "/pfcalcul/work/dchen/code/cvut-colab/slurm/__experiments/baseline_logs/miconic_0_08_r3.0.log\n",
      "/pfcalcul/work/dchen/code/cvut-colab/slurm/__experiments/baseline_logs/miconic_0_08_r4.0.log\n",
      "/pfcalcul/work/dchen/code/cvut-colab/slurm/__experiments/baseline_logs/miconic_0_08_r6.0.log\n",
      "/pfcalcul/work/dchen/code/cvut-colab/slurm/__experiments/baseline_logs/miconic_0_08_r8.0.log\n",
      "/pfcalcul/work/dchen/code/cvut-colab/slurm/__experiments/baseline_logs/miconic_0_08_r9.0.log\n",
      "/pfcalcul/work/dchen/code/cvut-colab/slurm/__experiments/baseline_logs/miconic_0_09_r0.0.log\n",
      "/pfcalcul/work/dchen/code/cvut-colab/slurm/__experiments/baseline_logs/miconic_0_09_r1.0.log\n",
      "/pfcalcul/work/dchen/code/cvut-colab/slurm/__experiments/baseline_logs/miconic_0_09_r2.0.log\n",
      "/pfcalcul/work/dchen/code/cvut-colab/slurm/__experiments/baseline_logs/miconic_0_09_r3.0.log\n",
      "/pfcalcul/work/dchen/code/cvut-colab/slurm/__experiments/baseline_logs/miconic_0_09_r4.0.log\n",
      "/pfcalcul/work/dchen/code/cvut-colab/slurm/__experiments/baseline_logs/miconic_0_09_r6.0.log\n",
      "/pfcalcul/work/dchen/code/cvut-colab/slurm/__experiments/baseline_logs/miconic_0_09_r8.0.log\n",
      "/pfcalcul/work/dchen/code/cvut-colab/slurm/__experiments/baseline_logs/miconic_0_09_r9.0.log\n",
      "/pfcalcul/work/dchen/code/cvut-colab/slurm/__experiments/baseline_logs/miconic_0_10_r0.0.log\n",
      "/pfcalcul/work/dchen/code/cvut-colab/slurm/__experiments/baseline_logs/miconic_0_10_r2.0.log\n",
      "/pfcalcul/work/dchen/code/cvut-colab/slurm/__experiments/baseline_logs/miconic_0_10_r3.0.log\n",
      "/pfcalcul/work/dchen/code/cvut-colab/slurm/__experiments/baseline_logs/miconic_0_10_r4.0.log\n",
      "/pfcalcul/work/dchen/code/cvut-colab/slurm/__experiments/baseline_logs/miconic_0_10_r6.0.log\n",
      "/pfcalcul/work/dchen/code/cvut-colab/slurm/__experiments/baseline_logs/miconic_0_10_r9.0.log\n",
      "/pfcalcul/work/dchen/code/cvut-colab/slurm/__experiments/baseline_logs/miconic_0_11_r0.0.log\n",
      "/pfcalcul/work/dchen/code/cvut-colab/slurm/__experiments/baseline_logs/miconic_0_11_r2.0.log\n",
      "/pfcalcul/work/dchen/code/cvut-colab/slurm/__experiments/baseline_logs/miconic_0_11_r3.0.log\n",
      "/pfcalcul/work/dchen/code/cvut-colab/slurm/__experiments/baseline_logs/miconic_0_11_r4.0.log\n",
      "/pfcalcul/work/dchen/code/cvut-colab/slurm/__experiments/baseline_logs/miconic_0_11_r6.0.log\n",
      "/pfcalcul/work/dchen/code/cvut-colab/slurm/__experiments/baseline_logs/miconic_0_11_r8.0.log\n",
      "/pfcalcul/work/dchen/code/cvut-colab/slurm/__experiments/baseline_logs/miconic_0_11_r9.0.log\n",
      "/pfcalcul/work/dchen/code/cvut-colab/slurm/__experiments/baseline_logs/miconic_0_12_r0.0.log\n",
      "/pfcalcul/work/dchen/code/cvut-colab/slurm/__experiments/baseline_logs/miconic_0_12_r2.0.log\n",
      "/pfcalcul/work/dchen/code/cvut-colab/slurm/__experiments/baseline_logs/miconic_0_12_r3.0.log\n",
      "/pfcalcul/work/dchen/code/cvut-colab/slurm/__experiments/baseline_logs/miconic_0_12_r4.0.log\n",
      "/pfcalcul/work/dchen/code/cvut-colab/slurm/__experiments/baseline_logs/miconic_0_12_r6.0.log\n",
      "/pfcalcul/work/dchen/code/cvut-colab/slurm/__experiments/baseline_logs/miconic_0_12_r8.0.log\n",
      "/pfcalcul/work/dchen/code/cvut-colab/slurm/__experiments/baseline_logs/miconic_0_12_r9.0.log\n",
      "/pfcalcul/work/dchen/code/cvut-colab/slurm/__experiments/baseline_logs/miconic_0_13_r0.0.log\n",
      "/pfcalcul/work/dchen/code/cvut-colab/slurm/__experiments/baseline_logs/miconic_0_13_r2.0.log\n",
      "/pfcalcul/work/dchen/code/cvut-colab/slurm/__experiments/baseline_logs/miconic_0_13_r3.0.log\n",
      "/pfcalcul/work/dchen/code/cvut-colab/slurm/__experiments/baseline_logs/miconic_0_13_r4.0.log\n",
      "/pfcalcul/work/dchen/code/cvut-colab/slurm/__experiments/baseline_logs/miconic_0_13_r6.0.log\n",
      "/pfcalcul/work/dchen/code/cvut-colab/slurm/__experiments/baseline_logs/miconic_0_13_r8.0.log\n",
      "/pfcalcul/work/dchen/code/cvut-colab/slurm/__experiments/baseline_logs/miconic_0_13_r9.0.log\n",
      "/pfcalcul/work/dchen/code/cvut-colab/slurm/__experiments/baseline_logs/miconic_0_14_r0.0.log\n",
      "/pfcalcul/work/dchen/code/cvut-colab/slurm/__experiments/baseline_logs/miconic_0_14_r2.0.log\n",
      "/pfcalcul/work/dchen/code/cvut-colab/slurm/__experiments/baseline_logs/miconic_0_14_r3.0.log\n",
      "/pfcalcul/work/dchen/code/cvut-colab/slurm/__experiments/baseline_logs/miconic_0_14_r4.0.log\n",
      "/pfcalcul/work/dchen/code/cvut-colab/slurm/__experiments/baseline_logs/miconic_0_14_r9.0.log\n",
      "/pfcalcul/work/dchen/code/cvut-colab/slurm/__experiments/baseline_logs/miconic_0_15_r0.0.log\n",
      "/pfcalcul/work/dchen/code/cvut-colab/slurm/__experiments/baseline_logs/miconic_0_15_r2.0.log\n",
      "/pfcalcul/work/dchen/code/cvut-colab/slurm/__experiments/baseline_logs/miconic_0_15_r3.0.log\n",
      "/pfcalcul/work/dchen/code/cvut-colab/slurm/__experiments/baseline_logs/miconic_0_15_r4.0.log\n",
      "/pfcalcul/work/dchen/code/cvut-colab/slurm/__experiments/baseline_logs/miconic_0_15_r6.0.log\n",
      "/pfcalcul/work/dchen/code/cvut-colab/slurm/__experiments/baseline_logs/miconic_0_15_r8.0.log\n",
      "/pfcalcul/work/dchen/code/cvut-colab/slurm/__experiments/baseline_logs/miconic_0_15_r9.0.log\n",
      "/pfcalcul/work/dchen/code/cvut-colab/slurm/__experiments/baseline_logs/miconic_0_16_r0.0.log\n",
      "/pfcalcul/work/dchen/code/cvut-colab/slurm/__experiments/baseline_logs/miconic_0_16_r2.0.log\n",
      "/pfcalcul/work/dchen/code/cvut-colab/slurm/__experiments/baseline_logs/miconic_0_16_r3.0.log\n",
      "/pfcalcul/work/dchen/code/cvut-colab/slurm/__experiments/baseline_logs/miconic_0_16_r4.0.log\n",
      "/pfcalcul/work/dchen/code/cvut-colab/slurm/__experiments/baseline_logs/miconic_0_16_r6.0.log\n",
      "/pfcalcul/work/dchen/code/cvut-colab/slurm/__experiments/baseline_logs/miconic_0_16_r8.0.log\n",
      "/pfcalcul/work/dchen/code/cvut-colab/slurm/__experiments/baseline_logs/miconic_0_16_r9.0.log\n",
      "/pfcalcul/work/dchen/code/cvut-colab/slurm/__experiments/baseline_logs/miconic_0_17_r0.0.log\n",
      "/pfcalcul/work/dchen/code/cvut-colab/slurm/__experiments/baseline_logs/miconic_0_17_r2.0.log\n",
      "/pfcalcul/work/dchen/code/cvut-colab/slurm/__experiments/baseline_logs/miconic_0_17_r3.0.log\n",
      "/pfcalcul/work/dchen/code/cvut-colab/slurm/__experiments/baseline_logs/miconic_0_17_r4.0.log\n",
      "/pfcalcul/work/dchen/code/cvut-colab/slurm/__experiments/baseline_logs/miconic_0_17_r6.0.log\n",
      "/pfcalcul/work/dchen/code/cvut-colab/slurm/__experiments/baseline_logs/miconic_0_17_r8.0.log\n",
      "/pfcalcul/work/dchen/code/cvut-colab/slurm/__experiments/baseline_logs/miconic_0_17_r9.0.log\n",
      "/pfcalcul/work/dchen/code/cvut-colab/slurm/__experiments/baseline_logs/miconic_0_18_r0.0.log\n",
      "/pfcalcul/work/dchen/code/cvut-colab/slurm/__experiments/baseline_logs/miconic_0_18_r2.0.log\n",
      "/pfcalcul/work/dchen/code/cvut-colab/slurm/__experiments/baseline_logs/miconic_0_18_r3.0.log\n",
      "/pfcalcul/work/dchen/code/cvut-colab/slurm/__experiments/baseline_logs/miconic_0_18_r4.0.log\n",
      "/pfcalcul/work/dchen/code/cvut-colab/slurm/__experiments/baseline_logs/miconic_0_18_r6.0.log\n",
      "/pfcalcul/work/dchen/code/cvut-colab/slurm/__experiments/baseline_logs/miconic_0_18_r8.0.log\n",
      "/pfcalcul/work/dchen/code/cvut-colab/slurm/__experiments/baseline_logs/miconic_0_18_r9.0.log\n",
      "/pfcalcul/work/dchen/code/cvut-colab/slurm/__experiments/baseline_logs/miconic_0_19_r0.0.log\n",
      "/pfcalcul/work/dchen/code/cvut-colab/slurm/__experiments/baseline_logs/miconic_0_19_r2.0.log\n",
      "/pfcalcul/work/dchen/code/cvut-colab/slurm/__experiments/baseline_logs/miconic_0_19_r3.0.log\n",
      "/pfcalcul/work/dchen/code/cvut-colab/slurm/__experiments/baseline_logs/miconic_0_19_r4.0.log\n",
      "/pfcalcul/work/dchen/code/cvut-colab/slurm/__experiments/baseline_logs/miconic_0_19_r6.0.log\n",
      "/pfcalcul/work/dchen/code/cvut-colab/slurm/__experiments/baseline_logs/miconic_0_19_r7.0.log\n",
      "/pfcalcul/work/dchen/code/cvut-colab/slurm/__experiments/baseline_logs/miconic_0_19_r8.0.log\n",
      "/pfcalcul/work/dchen/code/cvut-colab/slurm/__experiments/baseline_logs/miconic_0_19_r9.0.log\n",
      "/pfcalcul/work/dchen/code/cvut-colab/slurm/__experiments/baseline_logs/miconic_0_20_r0.0.log\n",
      "/pfcalcul/work/dchen/code/cvut-colab/slurm/__experiments/baseline_logs/miconic_0_20_r2.0.log\n",
      "/pfcalcul/work/dchen/code/cvut-colab/slurm/__experiments/baseline_logs/miconic_0_20_r3.0.log\n",
      "/pfcalcul/work/dchen/code/cvut-colab/slurm/__experiments/baseline_logs/miconic_0_20_r4.0.log\n",
      "/pfcalcul/work/dchen/code/cvut-colab/slurm/__experiments/baseline_logs/miconic_0_20_r6.0.log\n",
      "/pfcalcul/work/dchen/code/cvut-colab/slurm/__experiments/baseline_logs/miconic_0_20_r8.0.log\n",
      "/pfcalcul/work/dchen/code/cvut-colab/slurm/__experiments/baseline_logs/miconic_0_20_r9.0.log\n",
      "/pfcalcul/work/dchen/code/cvut-colab/slurm/__experiments/baseline_logs/miconic_0_21_r0.0.log\n",
      "/pfcalcul/work/dchen/code/cvut-colab/slurm/__experiments/baseline_logs/miconic_0_21_r2.0.log\n",
      "/pfcalcul/work/dchen/code/cvut-colab/slurm/__experiments/baseline_logs/miconic_0_21_r3.0.log\n",
      "/pfcalcul/work/dchen/code/cvut-colab/slurm/__experiments/baseline_logs/miconic_0_21_r4.0.log\n",
      "/pfcalcul/work/dchen/code/cvut-colab/slurm/__experiments/baseline_logs/miconic_0_21_r6.0.log\n",
      "/pfcalcul/work/dchen/code/cvut-colab/slurm/__experiments/baseline_logs/miconic_0_21_r8.0.log\n",
      "/pfcalcul/work/dchen/code/cvut-colab/slurm/__experiments/baseline_logs/miconic_0_21_r9.0.log\n",
      "/pfcalcul/work/dchen/code/cvut-colab/slurm/__experiments/baseline_logs/miconic_0_22_r0.0.log\n",
      "/pfcalcul/work/dchen/code/cvut-colab/slurm/__experiments/baseline_logs/miconic_0_22_r2.0.log\n",
      "/pfcalcul/work/dchen/code/cvut-colab/slurm/__experiments/baseline_logs/miconic_0_22_r3.0.log\n",
      "/pfcalcul/work/dchen/code/cvut-colab/slurm/__experiments/baseline_logs/miconic_0_22_r4.0.log\n",
      "/pfcalcul/work/dchen/code/cvut-colab/slurm/__experiments/baseline_logs/miconic_0_22_r6.0.log\n",
      "/pfcalcul/work/dchen/code/cvut-colab/slurm/__experiments/baseline_logs/miconic_0_22_r8.0.log\n",
      "/pfcalcul/work/dchen/code/cvut-colab/slurm/__experiments/baseline_logs/miconic_0_22_r9.0.log\n",
      "/pfcalcul/work/dchen/code/cvut-colab/slurm/__experiments/baseline_logs/miconic_0_23_r0.0.log\n",
      "/pfcalcul/work/dchen/code/cvut-colab/slurm/__experiments/baseline_logs/miconic_0_23_r2.0.log\n",
      "/pfcalcul/work/dchen/code/cvut-colab/slurm/__experiments/baseline_logs/miconic_0_23_r3.0.log\n",
      "/pfcalcul/work/dchen/code/cvut-colab/slurm/__experiments/baseline_logs/miconic_0_23_r4.0.log\n",
      "/pfcalcul/work/dchen/code/cvut-colab/slurm/__experiments/baseline_logs/miconic_0_23_r6.0.log\n",
      "/pfcalcul/work/dchen/code/cvut-colab/slurm/__experiments/baseline_logs/miconic_0_23_r8.0.log\n",
      "/pfcalcul/work/dchen/code/cvut-colab/slurm/__experiments/baseline_logs/miconic_0_23_r9.0.log\n",
      "/pfcalcul/work/dchen/code/cvut-colab/slurm/__experiments/baseline_logs/miconic_0_24_r0.0.log\n",
      "/pfcalcul/work/dchen/code/cvut-colab/slurm/__experiments/baseline_logs/miconic_0_24_r2.0.log\n",
      "/pfcalcul/work/dchen/code/cvut-colab/slurm/__experiments/baseline_logs/miconic_0_24_r3.0.log\n",
      "/pfcalcul/work/dchen/code/cvut-colab/slurm/__experiments/baseline_logs/miconic_0_24_r4.0.log\n",
      "/pfcalcul/work/dchen/code/cvut-colab/slurm/__experiments/baseline_logs/miconic_0_24_r6.0.log\n",
      "/pfcalcul/work/dchen/code/cvut-colab/slurm/__experiments/baseline_logs/miconic_0_24_r8.0.log\n",
      "/pfcalcul/work/dchen/code/cvut-colab/slurm/__experiments/baseline_logs/miconic_0_24_r9.0.log\n",
      "/pfcalcul/work/dchen/code/cvut-colab/slurm/__experiments/baseline_logs/miconic_0_25_r0.0.log\n",
      "/pfcalcul/work/dchen/code/cvut-colab/slurm/__experiments/baseline_logs/miconic_0_25_r2.0.log\n",
      "/pfcalcul/work/dchen/code/cvut-colab/slurm/__experiments/baseline_logs/miconic_0_25_r3.0.log\n",
      "/pfcalcul/work/dchen/code/cvut-colab/slurm/__experiments/baseline_logs/miconic_0_25_r4.0.log\n",
      "/pfcalcul/work/dchen/code/cvut-colab/slurm/__experiments/baseline_logs/miconic_0_25_r6.0.log\n",
      "/pfcalcul/work/dchen/code/cvut-colab/slurm/__experiments/baseline_logs/miconic_0_25_r8.0.log\n",
      "/pfcalcul/work/dchen/code/cvut-colab/slurm/__experiments/baseline_logs/miconic_0_25_r9.0.log\n",
      "/pfcalcul/work/dchen/code/cvut-colab/slurm/__experiments/baseline_logs/miconic_0_26_r0.0.log\n",
      "/pfcalcul/work/dchen/code/cvut-colab/slurm/__experiments/baseline_logs/miconic_0_26_r2.0.log\n",
      "/pfcalcul/work/dchen/code/cvut-colab/slurm/__experiments/baseline_logs/miconic_0_26_r3.0.log\n",
      "/pfcalcul/work/dchen/code/cvut-colab/slurm/__experiments/baseline_logs/miconic_0_26_r4.0.log\n",
      "/pfcalcul/work/dchen/code/cvut-colab/slurm/__experiments/baseline_logs/miconic_0_26_r6.0.log\n",
      "/pfcalcul/work/dchen/code/cvut-colab/slurm/__experiments/baseline_logs/miconic_0_26_r8.0.log\n",
      "/pfcalcul/work/dchen/code/cvut-colab/slurm/__experiments/baseline_logs/miconic_0_26_r9.0.log\n",
      "/pfcalcul/work/dchen/code/cvut-colab/slurm/__experiments/baseline_logs/miconic_0_27_r0.0.log\n",
      "/pfcalcul/work/dchen/code/cvut-colab/slurm/__experiments/baseline_logs/miconic_0_27_r2.0.log\n",
      "/pfcalcul/work/dchen/code/cvut-colab/slurm/__experiments/baseline_logs/miconic_0_27_r3.0.log\n",
      "/pfcalcul/work/dchen/code/cvut-colab/slurm/__experiments/baseline_logs/miconic_0_27_r4.0.log\n",
      "/pfcalcul/work/dchen/code/cvut-colab/slurm/__experiments/baseline_logs/miconic_0_27_r6.0.log\n",
      "/pfcalcul/work/dchen/code/cvut-colab/slurm/__experiments/baseline_logs/miconic_0_27_r8.0.log\n",
      "/pfcalcul/work/dchen/code/cvut-colab/slurm/__experiments/baseline_logs/miconic_0_27_r9.0.log\n",
      "/pfcalcul/work/dchen/code/cvut-colab/slurm/__experiments/baseline_logs/miconic_0_28_r0.0.log\n",
      "/pfcalcul/work/dchen/code/cvut-colab/slurm/__experiments/baseline_logs/miconic_0_28_r2.0.log\n",
      "/pfcalcul/work/dchen/code/cvut-colab/slurm/__experiments/baseline_logs/miconic_0_28_r3.0.log\n",
      "/pfcalcul/work/dchen/code/cvut-colab/slurm/__experiments/baseline_logs/miconic_0_28_r4.0.log\n",
      "/pfcalcul/work/dchen/code/cvut-colab/slurm/__experiments/baseline_logs/miconic_0_28_r6.0.log\n",
      "/pfcalcul/work/dchen/code/cvut-colab/slurm/__experiments/baseline_logs/miconic_0_28_r8.0.log\n",
      "/pfcalcul/work/dchen/code/cvut-colab/slurm/__experiments/baseline_logs/miconic_0_28_r9.0.log\n",
      "/pfcalcul/work/dchen/code/cvut-colab/slurm/__experiments/baseline_logs/miconic_0_29_r0.0.log\n",
      "/pfcalcul/work/dchen/code/cvut-colab/slurm/__experiments/baseline_logs/miconic_0_29_r2.0.log\n",
      "/pfcalcul/work/dchen/code/cvut-colab/slurm/__experiments/baseline_logs/miconic_0_29_r3.0.log\n",
      "/pfcalcul/work/dchen/code/cvut-colab/slurm/__experiments/baseline_logs/miconic_0_29_r4.0.log\n",
      "/pfcalcul/work/dchen/code/cvut-colab/slurm/__experiments/baseline_logs/miconic_0_29_r6.0.log\n",
      "/pfcalcul/work/dchen/code/cvut-colab/slurm/__experiments/baseline_logs/miconic_0_29_r8.0.log\n",
      "/pfcalcul/work/dchen/code/cvut-colab/slurm/__experiments/baseline_logs/miconic_0_29_r9.0.log\n",
      "/pfcalcul/work/dchen/code/cvut-colab/slurm/__experiments/baseline_logs/miconic_0_30_r0.0.log\n",
      "/pfcalcul/work/dchen/code/cvut-colab/slurm/__experiments/baseline_logs/miconic_0_30_r2.0.log\n",
      "/pfcalcul/work/dchen/code/cvut-colab/slurm/__experiments/baseline_logs/miconic_0_30_r3.0.log\n",
      "/pfcalcul/work/dchen/code/cvut-colab/slurm/__experiments/baseline_logs/miconic_0_30_r4.0.log\n",
      "/pfcalcul/work/dchen/code/cvut-colab/slurm/__experiments/baseline_logs/miconic_0_30_r6.0.log\n",
      "/pfcalcul/work/dchen/code/cvut-colab/slurm/__experiments/baseline_logs/miconic_0_30_r8.0.log\n",
      "/pfcalcul/work/dchen/code/cvut-colab/slurm/__experiments/baseline_logs/miconic_0_30_r9.0.log\n",
      "/pfcalcul/work/dchen/code/cvut-colab/slurm/__experiments/baseline_logs/miconic_1_01_r0.0.log\n",
      "/pfcalcul/work/dchen/code/cvut-colab/slurm/__experiments/baseline_logs/miconic_1_01_r2.0.log\n",
      "/pfcalcul/work/dchen/code/cvut-colab/slurm/__experiments/baseline_logs/miconic_1_01_r3.0.log\n",
      "/pfcalcul/work/dchen/code/cvut-colab/slurm/__experiments/baseline_logs/miconic_1_01_r4.0.log\n",
      "/pfcalcul/work/dchen/code/cvut-colab/slurm/__experiments/baseline_logs/miconic_1_01_r6.0.log\n",
      "/pfcalcul/work/dchen/code/cvut-colab/slurm/__experiments/baseline_logs/miconic_1_01_r8.0.log\n",
      "/pfcalcul/work/dchen/code/cvut-colab/slurm/__experiments/baseline_logs/miconic_1_01_r9.0.log\n",
      "/pfcalcul/work/dchen/code/cvut-colab/slurm/__experiments/baseline_logs/miconic_1_02_r0.0.log\n",
      "/pfcalcul/work/dchen/code/cvut-colab/slurm/__experiments/baseline_logs/miconic_1_02_r2.0.log\n",
      "/pfcalcul/work/dchen/code/cvut-colab/slurm/__experiments/baseline_logs/miconic_1_02_r3.0.log\n",
      "/pfcalcul/work/dchen/code/cvut-colab/slurm/__experiments/baseline_logs/miconic_1_02_r4.0.log\n",
      "/pfcalcul/work/dchen/code/cvut-colab/slurm/__experiments/baseline_logs/miconic_1_02_r6.0.log\n",
      "/pfcalcul/work/dchen/code/cvut-colab/slurm/__experiments/baseline_logs/miconic_1_02_r8.0.log\n",
      "/pfcalcul/work/dchen/code/cvut-colab/slurm/__experiments/baseline_logs/miconic_1_02_r9.0.log\n",
      "/pfcalcul/work/dchen/code/cvut-colab/slurm/__experiments/baseline_logs/miconic_1_03_r0.0.log\n",
      "/pfcalcul/work/dchen/code/cvut-colab/slurm/__experiments/baseline_logs/miconic_1_03_r2.0.log\n",
      "/pfcalcul/work/dchen/code/cvut-colab/slurm/__experiments/baseline_logs/miconic_1_03_r3.0.log\n",
      "/pfcalcul/work/dchen/code/cvut-colab/slurm/__experiments/baseline_logs/miconic_1_03_r4.0.log\n",
      "/pfcalcul/work/dchen/code/cvut-colab/slurm/__experiments/baseline_logs/miconic_1_03_r6.0.log\n",
      "/pfcalcul/work/dchen/code/cvut-colab/slurm/__experiments/baseline_logs/miconic_1_03_r8.0.log\n",
      "/pfcalcul/work/dchen/code/cvut-colab/slurm/__experiments/baseline_logs/miconic_1_03_r9.0.log\n",
      "/pfcalcul/work/dchen/code/cvut-colab/slurm/__experiments/baseline_logs/miconic_1_04_r0.0.log\n",
      "/pfcalcul/work/dchen/code/cvut-colab/slurm/__experiments/baseline_logs/miconic_1_04_r2.0.log\n",
      "/pfcalcul/work/dchen/code/cvut-colab/slurm/__experiments/baseline_logs/miconic_1_04_r3.0.log\n",
      "/pfcalcul/work/dchen/code/cvut-colab/slurm/__experiments/baseline_logs/miconic_1_04_r4.0.log\n",
      "/pfcalcul/work/dchen/code/cvut-colab/slurm/__experiments/baseline_logs/miconic_1_04_r6.0.log\n",
      "/pfcalcul/work/dchen/code/cvut-colab/slurm/__experiments/baseline_logs/miconic_1_04_r9.0.log\n",
      "/pfcalcul/work/dchen/code/cvut-colab/slurm/__experiments/baseline_logs/miconic_1_05_r0.0.log\n",
      "/pfcalcul/work/dchen/code/cvut-colab/slurm/__experiments/baseline_logs/miconic_1_05_r2.0.log\n",
      "/pfcalcul/work/dchen/code/cvut-colab/slurm/__experiments/baseline_logs/miconic_1_05_r3.0.log\n",
      "/pfcalcul/work/dchen/code/cvut-colab/slurm/__experiments/baseline_logs/miconic_1_05_r4.0.log\n",
      "/pfcalcul/work/dchen/code/cvut-colab/slurm/__experiments/baseline_logs/miconic_1_05_r6.0.log\n",
      "/pfcalcul/work/dchen/code/cvut-colab/slurm/__experiments/baseline_logs/miconic_1_05_r7.0.log\n",
      "/pfcalcul/work/dchen/code/cvut-colab/slurm/__experiments/baseline_logs/miconic_1_05_r8.0.log\n",
      "/pfcalcul/work/dchen/code/cvut-colab/slurm/__experiments/baseline_logs/miconic_1_05_r9.0.log\n",
      "/pfcalcul/work/dchen/code/cvut-colab/slurm/__experiments/baseline_logs/miconic_1_06_r0.0.log\n",
      "/pfcalcul/work/dchen/code/cvut-colab/slurm/__experiments/baseline_logs/miconic_1_06_r2.0.log\n",
      "/pfcalcul/work/dchen/code/cvut-colab/slurm/__experiments/baseline_logs/miconic_1_06_r3.0.log\n",
      "/pfcalcul/work/dchen/code/cvut-colab/slurm/__experiments/baseline_logs/miconic_1_06_r4.0.log\n",
      "/pfcalcul/work/dchen/code/cvut-colab/slurm/__experiments/baseline_logs/miconic_1_06_r6.0.log\n",
      "/pfcalcul/work/dchen/code/cvut-colab/slurm/__experiments/baseline_logs/miconic_1_06_r9.0.log\n",
      "/pfcalcul/work/dchen/code/cvut-colab/slurm/__experiments/baseline_logs/miconic_1_07_r0.0.log\n",
      "/pfcalcul/work/dchen/code/cvut-colab/slurm/__experiments/baseline_logs/miconic_1_07_r2.0.log\n",
      "/pfcalcul/work/dchen/code/cvut-colab/slurm/__experiments/baseline_logs/miconic_1_07_r3.0.log\n",
      "/pfcalcul/work/dchen/code/cvut-colab/slurm/__experiments/baseline_logs/miconic_1_07_r4.0.log\n",
      "/pfcalcul/work/dchen/code/cvut-colab/slurm/__experiments/baseline_logs/miconic_1_07_r6.0.log\n",
      "/pfcalcul/work/dchen/code/cvut-colab/slurm/__experiments/baseline_logs/miconic_1_07_r8.0.log\n",
      "/pfcalcul/work/dchen/code/cvut-colab/slurm/__experiments/baseline_logs/miconic_1_07_r9.0.log\n",
      "/pfcalcul/work/dchen/code/cvut-colab/slurm/__experiments/baseline_logs/miconic_1_08_r0.0.log\n",
      "/pfcalcul/work/dchen/code/cvut-colab/slurm/__experiments/baseline_logs/miconic_1_08_r2.0.log\n",
      "/pfcalcul/work/dchen/code/cvut-colab/slurm/__experiments/baseline_logs/miconic_1_08_r3.0.log\n",
      "/pfcalcul/work/dchen/code/cvut-colab/slurm/__experiments/baseline_logs/miconic_1_08_r4.0.log\n",
      "/pfcalcul/work/dchen/code/cvut-colab/slurm/__experiments/baseline_logs/miconic_1_08_r6.0.log\n",
      "/pfcalcul/work/dchen/code/cvut-colab/slurm/__experiments/baseline_logs/miconic_1_08_r8.0.log\n",
      "/pfcalcul/work/dchen/code/cvut-colab/slurm/__experiments/baseline_logs/miconic_1_08_r9.0.log\n",
      "/pfcalcul/work/dchen/code/cvut-colab/slurm/__experiments/baseline_logs/miconic_1_09_r0.0.log\n",
      "/pfcalcul/work/dchen/code/cvut-colab/slurm/__experiments/baseline_logs/miconic_1_09_r2.0.log\n",
      "/pfcalcul/work/dchen/code/cvut-colab/slurm/__experiments/baseline_logs/miconic_1_09_r3.0.log\n",
      "/pfcalcul/work/dchen/code/cvut-colab/slurm/__experiments/baseline_logs/miconic_1_09_r4.0.log\n",
      "/pfcalcul/work/dchen/code/cvut-colab/slurm/__experiments/baseline_logs/miconic_1_09_r6.0.log\n",
      "/pfcalcul/work/dchen/code/cvut-colab/slurm/__experiments/baseline_logs/miconic_1_09_r7.0.log\n",
      "/pfcalcul/work/dchen/code/cvut-colab/slurm/__experiments/baseline_logs/miconic_1_09_r8.0.log\n",
      "/pfcalcul/work/dchen/code/cvut-colab/slurm/__experiments/baseline_logs/miconic_1_09_r9.0.log\n",
      "/pfcalcul/work/dchen/code/cvut-colab/slurm/__experiments/baseline_logs/miconic_1_10_r0.0.log\n",
      "/pfcalcul/work/dchen/code/cvut-colab/slurm/__experiments/baseline_logs/miconic_1_10_r2.0.log\n",
      "/pfcalcul/work/dchen/code/cvut-colab/slurm/__experiments/baseline_logs/miconic_1_10_r3.0.log\n",
      "/pfcalcul/work/dchen/code/cvut-colab/slurm/__experiments/baseline_logs/miconic_1_10_r4.0.log\n",
      "/pfcalcul/work/dchen/code/cvut-colab/slurm/__experiments/baseline_logs/miconic_1_10_r6.0.log\n",
      "/pfcalcul/work/dchen/code/cvut-colab/slurm/__experiments/baseline_logs/miconic_1_10_r8.0.log\n",
      "/pfcalcul/work/dchen/code/cvut-colab/slurm/__experiments/baseline_logs/miconic_1_10_r9.0.log\n",
      "/pfcalcul/work/dchen/code/cvut-colab/slurm/__experiments/baseline_logs/miconic_1_11_r0.0.log\n",
      "/pfcalcul/work/dchen/code/cvut-colab/slurm/__experiments/baseline_logs/miconic_1_11_r2.0.log\n",
      "/pfcalcul/work/dchen/code/cvut-colab/slurm/__experiments/baseline_logs/miconic_1_11_r3.0.log\n",
      "/pfcalcul/work/dchen/code/cvut-colab/slurm/__experiments/baseline_logs/miconic_1_11_r4.0.log\n",
      "/pfcalcul/work/dchen/code/cvut-colab/slurm/__experiments/baseline_logs/miconic_1_11_r6.0.log\n",
      "/pfcalcul/work/dchen/code/cvut-colab/slurm/__experiments/baseline_logs/miconic_1_11_r7.0.log\n",
      "/pfcalcul/work/dchen/code/cvut-colab/slurm/__experiments/baseline_logs/miconic_1_11_r8.0.log\n",
      "/pfcalcul/work/dchen/code/cvut-colab/slurm/__experiments/baseline_logs/miconic_1_11_r9.0.log\n",
      "/pfcalcul/work/dchen/code/cvut-colab/slurm/__experiments/baseline_logs/miconic_1_12_r0.0.log\n",
      "/pfcalcul/work/dchen/code/cvut-colab/slurm/__experiments/baseline_logs/miconic_1_12_r2.0.log\n",
      "/pfcalcul/work/dchen/code/cvut-colab/slurm/__experiments/baseline_logs/miconic_1_12_r3.0.log\n",
      "/pfcalcul/work/dchen/code/cvut-colab/slurm/__experiments/baseline_logs/miconic_1_12_r4.0.log\n",
      "/pfcalcul/work/dchen/code/cvut-colab/slurm/__experiments/baseline_logs/miconic_1_12_r6.0.log\n",
      "/pfcalcul/work/dchen/code/cvut-colab/slurm/__experiments/baseline_logs/miconic_1_12_r8.0.log\n",
      "/pfcalcul/work/dchen/code/cvut-colab/slurm/__experiments/baseline_logs/miconic_1_12_r9.0.log\n",
      "/pfcalcul/work/dchen/code/cvut-colab/slurm/__experiments/baseline_logs/miconic_1_13_r0.0.log\n",
      "/pfcalcul/work/dchen/code/cvut-colab/slurm/__experiments/baseline_logs/miconic_1_13_r2.0.log\n",
      "/pfcalcul/work/dchen/code/cvut-colab/slurm/__experiments/baseline_logs/miconic_1_13_r3.0.log\n",
      "/pfcalcul/work/dchen/code/cvut-colab/slurm/__experiments/baseline_logs/miconic_1_13_r4.0.log\n",
      "/pfcalcul/work/dchen/code/cvut-colab/slurm/__experiments/baseline_logs/miconic_1_13_r6.0.log\n",
      "/pfcalcul/work/dchen/code/cvut-colab/slurm/__experiments/baseline_logs/miconic_1_13_r7.0.log\n",
      "/pfcalcul/work/dchen/code/cvut-colab/slurm/__experiments/baseline_logs/miconic_1_13_r8.0.log\n",
      "/pfcalcul/work/dchen/code/cvut-colab/slurm/__experiments/baseline_logs/miconic_1_13_r9.0.log\n",
      "/pfcalcul/work/dchen/code/cvut-colab/slurm/__experiments/baseline_logs/miconic_1_14_r0.0.log\n",
      "/pfcalcul/work/dchen/code/cvut-colab/slurm/__experiments/baseline_logs/miconic_1_14_r1.0.log\n",
      "/pfcalcul/work/dchen/code/cvut-colab/slurm/__experiments/baseline_logs/miconic_1_14_r2.0.log\n",
      "/pfcalcul/work/dchen/code/cvut-colab/slurm/__experiments/baseline_logs/miconic_1_14_r3.0.log\n",
      "/pfcalcul/work/dchen/code/cvut-colab/slurm/__experiments/baseline_logs/miconic_1_14_r4.0.log\n",
      "/pfcalcul/work/dchen/code/cvut-colab/slurm/__experiments/baseline_logs/miconic_1_14_r6.0.log\n",
      "/pfcalcul/work/dchen/code/cvut-colab/slurm/__experiments/baseline_logs/miconic_1_14_r8.0.log\n",
      "/pfcalcul/work/dchen/code/cvut-colab/slurm/__experiments/baseline_logs/miconic_1_14_r9.0.log\n",
      "/pfcalcul/work/dchen/code/cvut-colab/slurm/__experiments/baseline_logs/miconic_1_15_r0.0.log\n",
      "/pfcalcul/work/dchen/code/cvut-colab/slurm/__experiments/baseline_logs/miconic_1_15_r2.0.log\n",
      "/pfcalcul/work/dchen/code/cvut-colab/slurm/__experiments/baseline_logs/miconic_1_15_r3.0.log\n",
      "/pfcalcul/work/dchen/code/cvut-colab/slurm/__experiments/baseline_logs/miconic_1_15_r4.0.log\n",
      "/pfcalcul/work/dchen/code/cvut-colab/slurm/__experiments/baseline_logs/miconic_1_15_r6.0.log\n",
      "/pfcalcul/work/dchen/code/cvut-colab/slurm/__experiments/baseline_logs/miconic_1_15_r8.0.log\n",
      "/pfcalcul/work/dchen/code/cvut-colab/slurm/__experiments/baseline_logs/miconic_1_15_r9.0.log\n",
      "/pfcalcul/work/dchen/code/cvut-colab/slurm/__experiments/baseline_logs/miconic_1_16_r0.0.log\n",
      "/pfcalcul/work/dchen/code/cvut-colab/slurm/__experiments/baseline_logs/miconic_1_16_r2.0.log\n",
      "/pfcalcul/work/dchen/code/cvut-colab/slurm/__experiments/baseline_logs/miconic_1_16_r3.0.log\n",
      "/pfcalcul/work/dchen/code/cvut-colab/slurm/__experiments/baseline_logs/miconic_1_16_r4.0.log\n",
      "/pfcalcul/work/dchen/code/cvut-colab/slurm/__experiments/baseline_logs/miconic_1_16_r6.0.log\n",
      "/pfcalcul/work/dchen/code/cvut-colab/slurm/__experiments/baseline_logs/miconic_1_16_r8.0.log\n",
      "/pfcalcul/work/dchen/code/cvut-colab/slurm/__experiments/baseline_logs/miconic_1_16_r9.0.log\n",
      "/pfcalcul/work/dchen/code/cvut-colab/slurm/__experiments/baseline_logs/miconic_1_17_r0.0.log\n",
      "/pfcalcul/work/dchen/code/cvut-colab/slurm/__experiments/baseline_logs/miconic_1_17_r2.0.log\n",
      "/pfcalcul/work/dchen/code/cvut-colab/slurm/__experiments/baseline_logs/miconic_1_17_r3.0.log\n",
      "/pfcalcul/work/dchen/code/cvut-colab/slurm/__experiments/baseline_logs/miconic_1_17_r4.0.log\n",
      "/pfcalcul/work/dchen/code/cvut-colab/slurm/__experiments/baseline_logs/miconic_1_17_r6.0.log\n",
      "/pfcalcul/work/dchen/code/cvut-colab/slurm/__experiments/baseline_logs/miconic_1_17_r8.0.log\n",
      "/pfcalcul/work/dchen/code/cvut-colab/slurm/__experiments/baseline_logs/miconic_1_17_r9.0.log\n",
      "/pfcalcul/work/dchen/code/cvut-colab/slurm/__experiments/baseline_logs/miconic_1_18_r0.0.log\n",
      "/pfcalcul/work/dchen/code/cvut-colab/slurm/__experiments/baseline_logs/miconic_1_18_r2.0.log\n",
      "/pfcalcul/work/dchen/code/cvut-colab/slurm/__experiments/baseline_logs/miconic_1_18_r3.0.log\n",
      "/pfcalcul/work/dchen/code/cvut-colab/slurm/__experiments/baseline_logs/miconic_1_18_r4.0.log\n",
      "/pfcalcul/work/dchen/code/cvut-colab/slurm/__experiments/baseline_logs/miconic_1_18_r6.0.log\n",
      "/pfcalcul/work/dchen/code/cvut-colab/slurm/__experiments/baseline_logs/miconic_1_18_r8.0.log\n",
      "/pfcalcul/work/dchen/code/cvut-colab/slurm/__experiments/baseline_logs/miconic_1_18_r9.0.log\n",
      "/pfcalcul/work/dchen/code/cvut-colab/slurm/__experiments/baseline_logs/miconic_1_19_r0.0.log\n",
      "/pfcalcul/work/dchen/code/cvut-colab/slurm/__experiments/baseline_logs/miconic_1_19_r2.0.log\n",
      "/pfcalcul/work/dchen/code/cvut-colab/slurm/__experiments/baseline_logs/miconic_1_19_r3.0.log\n",
      "/pfcalcul/work/dchen/code/cvut-colab/slurm/__experiments/baseline_logs/miconic_1_19_r4.0.log\n",
      "/pfcalcul/work/dchen/code/cvut-colab/slurm/__experiments/baseline_logs/miconic_1_19_r6.0.log\n",
      "/pfcalcul/work/dchen/code/cvut-colab/slurm/__experiments/baseline_logs/miconic_1_19_r7.0.log\n",
      "/pfcalcul/work/dchen/code/cvut-colab/slurm/__experiments/baseline_logs/miconic_1_19_r9.0.log\n",
      "/pfcalcul/work/dchen/code/cvut-colab/slurm/__experiments/baseline_logs/miconic_1_20_r0.0.log\n",
      "/pfcalcul/work/dchen/code/cvut-colab/slurm/__experiments/baseline_logs/miconic_1_20_r2.0.log\n",
      "/pfcalcul/work/dchen/code/cvut-colab/slurm/__experiments/baseline_logs/miconic_1_20_r3.0.log\n",
      "/pfcalcul/work/dchen/code/cvut-colab/slurm/__experiments/baseline_logs/miconic_1_20_r4.0.log\n",
      "/pfcalcul/work/dchen/code/cvut-colab/slurm/__experiments/baseline_logs/miconic_1_20_r6.0.log\n",
      "/pfcalcul/work/dchen/code/cvut-colab/slurm/__experiments/baseline_logs/miconic_1_20_r8.0.log\n",
      "/pfcalcul/work/dchen/code/cvut-colab/slurm/__experiments/baseline_logs/miconic_1_20_r9.0.log\n",
      "/pfcalcul/work/dchen/code/cvut-colab/slurm/__experiments/baseline_logs/miconic_1_21_r0.0.log\n",
      "/pfcalcul/work/dchen/code/cvut-colab/slurm/__experiments/baseline_logs/miconic_1_21_r2.0.log\n",
      "/pfcalcul/work/dchen/code/cvut-colab/slurm/__experiments/baseline_logs/miconic_1_21_r3.0.log\n",
      "/pfcalcul/work/dchen/code/cvut-colab/slurm/__experiments/baseline_logs/miconic_1_21_r4.0.log\n",
      "/pfcalcul/work/dchen/code/cvut-colab/slurm/__experiments/baseline_logs/miconic_1_21_r6.0.log\n",
      "/pfcalcul/work/dchen/code/cvut-colab/slurm/__experiments/baseline_logs/miconic_1_21_r9.0.log\n",
      "/pfcalcul/work/dchen/code/cvut-colab/slurm/__experiments/baseline_logs/miconic_1_22_r0.0.log\n",
      "/pfcalcul/work/dchen/code/cvut-colab/slurm/__experiments/baseline_logs/miconic_1_22_r2.0.log\n",
      "/pfcalcul/work/dchen/code/cvut-colab/slurm/__experiments/baseline_logs/miconic_1_22_r3.0.log\n",
      "/pfcalcul/work/dchen/code/cvut-colab/slurm/__experiments/baseline_logs/miconic_1_22_r4.0.log\n",
      "/pfcalcul/work/dchen/code/cvut-colab/slurm/__experiments/baseline_logs/miconic_1_22_r6.0.log\n",
      "/pfcalcul/work/dchen/code/cvut-colab/slurm/__experiments/baseline_logs/miconic_1_22_r9.0.log\n",
      "/pfcalcul/work/dchen/code/cvut-colab/slurm/__experiments/baseline_logs/miconic_1_23_r0.0.log\n",
      "/pfcalcul/work/dchen/code/cvut-colab/slurm/__experiments/baseline_logs/miconic_1_23_r2.0.log\n",
      "/pfcalcul/work/dchen/code/cvut-colab/slurm/__experiments/baseline_logs/miconic_1_23_r3.0.log\n",
      "/pfcalcul/work/dchen/code/cvut-colab/slurm/__experiments/baseline_logs/miconic_1_23_r4.0.log\n",
      "/pfcalcul/work/dchen/code/cvut-colab/slurm/__experiments/baseline_logs/miconic_1_23_r6.0.log\n",
      "/pfcalcul/work/dchen/code/cvut-colab/slurm/__experiments/baseline_logs/miconic_1_23_r7.0.log\n",
      "/pfcalcul/work/dchen/code/cvut-colab/slurm/__experiments/baseline_logs/miconic_1_23_r9.0.log\n",
      "/pfcalcul/work/dchen/code/cvut-colab/slurm/__experiments/baseline_logs/miconic_1_24_r0.0.log\n",
      "/pfcalcul/work/dchen/code/cvut-colab/slurm/__experiments/baseline_logs/miconic_1_24_r1.0.log\n",
      "/pfcalcul/work/dchen/code/cvut-colab/slurm/__experiments/baseline_logs/miconic_1_24_r2.0.log\n",
      "/pfcalcul/work/dchen/code/cvut-colab/slurm/__experiments/baseline_logs/miconic_1_24_r3.0.log\n",
      "/pfcalcul/work/dchen/code/cvut-colab/slurm/__experiments/baseline_logs/miconic_1_24_r4.0.log\n",
      "/pfcalcul/work/dchen/code/cvut-colab/slurm/__experiments/baseline_logs/miconic_1_24_r6.0.log\n",
      "/pfcalcul/work/dchen/code/cvut-colab/slurm/__experiments/baseline_logs/miconic_1_24_r8.0.log\n",
      "/pfcalcul/work/dchen/code/cvut-colab/slurm/__experiments/baseline_logs/miconic_1_24_r9.0.log\n",
      "/pfcalcul/work/dchen/code/cvut-colab/slurm/__experiments/baseline_logs/miconic_1_25_r0.0.log\n",
      "/pfcalcul/work/dchen/code/cvut-colab/slurm/__experiments/baseline_logs/miconic_1_25_r2.0.log\n",
      "/pfcalcul/work/dchen/code/cvut-colab/slurm/__experiments/baseline_logs/miconic_1_25_r3.0.log\n",
      "/pfcalcul/work/dchen/code/cvut-colab/slurm/__experiments/baseline_logs/miconic_1_25_r4.0.log\n",
      "/pfcalcul/work/dchen/code/cvut-colab/slurm/__experiments/baseline_logs/miconic_1_25_r6.0.log\n",
      "/pfcalcul/work/dchen/code/cvut-colab/slurm/__experiments/baseline_logs/miconic_1_25_r7.0.log\n",
      "/pfcalcul/work/dchen/code/cvut-colab/slurm/__experiments/baseline_logs/miconic_1_25_r8.0.log\n",
      "/pfcalcul/work/dchen/code/cvut-colab/slurm/__experiments/baseline_logs/miconic_1_25_r9.0.log\n",
      "/pfcalcul/work/dchen/code/cvut-colab/slurm/__experiments/baseline_logs/miconic_1_26_r0.0.log\n",
      "/pfcalcul/work/dchen/code/cvut-colab/slurm/__experiments/baseline_logs/miconic_1_26_r2.0.log\n",
      "/pfcalcul/work/dchen/code/cvut-colab/slurm/__experiments/baseline_logs/miconic_1_26_r3.0.log\n",
      "/pfcalcul/work/dchen/code/cvut-colab/slurm/__experiments/baseline_logs/miconic_1_26_r4.0.log\n",
      "/pfcalcul/work/dchen/code/cvut-colab/slurm/__experiments/baseline_logs/miconic_1_26_r6.0.log\n",
      "/pfcalcul/work/dchen/code/cvut-colab/slurm/__experiments/baseline_logs/miconic_1_26_r8.0.log\n",
      "/pfcalcul/work/dchen/code/cvut-colab/slurm/__experiments/baseline_logs/miconic_1_26_r9.0.log\n",
      "/pfcalcul/work/dchen/code/cvut-colab/slurm/__experiments/baseline_logs/miconic_1_27_r0.0.log\n",
      "/pfcalcul/work/dchen/code/cvut-colab/slurm/__experiments/baseline_logs/miconic_1_27_r2.0.log\n",
      "/pfcalcul/work/dchen/code/cvut-colab/slurm/__experiments/baseline_logs/miconic_1_27_r3.0.log\n",
      "/pfcalcul/work/dchen/code/cvut-colab/slurm/__experiments/baseline_logs/miconic_1_27_r4.0.log\n",
      "/pfcalcul/work/dchen/code/cvut-colab/slurm/__experiments/baseline_logs/miconic_1_27_r6.0.log\n",
      "/pfcalcul/work/dchen/code/cvut-colab/slurm/__experiments/baseline_logs/miconic_1_27_r8.0.log\n",
      "/pfcalcul/work/dchen/code/cvut-colab/slurm/__experiments/baseline_logs/miconic_1_27_r9.0.log\n",
      "/pfcalcul/work/dchen/code/cvut-colab/slurm/__experiments/baseline_logs/miconic_1_28_r0.0.log\n",
      "/pfcalcul/work/dchen/code/cvut-colab/slurm/__experiments/baseline_logs/miconic_1_28_r1.0.log\n",
      "/pfcalcul/work/dchen/code/cvut-colab/slurm/__experiments/baseline_logs/miconic_1_28_r2.0.log\n",
      "/pfcalcul/work/dchen/code/cvut-colab/slurm/__experiments/baseline_logs/miconic_1_28_r3.0.log\n",
      "/pfcalcul/work/dchen/code/cvut-colab/slurm/__experiments/baseline_logs/miconic_1_28_r4.0.log\n",
      "/pfcalcul/work/dchen/code/cvut-colab/slurm/__experiments/baseline_logs/miconic_1_28_r6.0.log\n",
      "/pfcalcul/work/dchen/code/cvut-colab/slurm/__experiments/baseline_logs/miconic_1_28_r8.0.log\n",
      "/pfcalcul/work/dchen/code/cvut-colab/slurm/__experiments/baseline_logs/miconic_1_28_r9.0.log\n",
      "/pfcalcul/work/dchen/code/cvut-colab/slurm/__experiments/baseline_logs/miconic_1_29_r0.0.log\n",
      "/pfcalcul/work/dchen/code/cvut-colab/slurm/__experiments/baseline_logs/miconic_1_29_r2.0.log\n",
      "/pfcalcul/work/dchen/code/cvut-colab/slurm/__experiments/baseline_logs/miconic_1_29_r3.0.log\n",
      "/pfcalcul/work/dchen/code/cvut-colab/slurm/__experiments/baseline_logs/miconic_1_29_r4.0.log\n",
      "/pfcalcul/work/dchen/code/cvut-colab/slurm/__experiments/baseline_logs/miconic_1_29_r6.0.log\n",
      "/pfcalcul/work/dchen/code/cvut-colab/slurm/__experiments/baseline_logs/miconic_1_29_r7.0.log\n",
      "/pfcalcul/work/dchen/code/cvut-colab/slurm/__experiments/baseline_logs/miconic_1_29_r8.0.log\n",
      "/pfcalcul/work/dchen/code/cvut-colab/slurm/__experiments/baseline_logs/miconic_1_29_r9.0.log\n",
      "/pfcalcul/work/dchen/code/cvut-colab/slurm/__experiments/baseline_logs/miconic_1_30_r0.0.log\n",
      "/pfcalcul/work/dchen/code/cvut-colab/slurm/__experiments/baseline_logs/miconic_1_30_r2.0.log\n",
      "/pfcalcul/work/dchen/code/cvut-colab/slurm/__experiments/baseline_logs/miconic_1_30_r3.0.log\n",
      "/pfcalcul/work/dchen/code/cvut-colab/slurm/__experiments/baseline_logs/miconic_1_30_r4.0.log\n",
      "/pfcalcul/work/dchen/code/cvut-colab/slurm/__experiments/baseline_logs/miconic_1_30_r5.0.log\n",
      "/pfcalcul/work/dchen/code/cvut-colab/slurm/__experiments/baseline_logs/miconic_1_30_r6.0.log\n",
      "/pfcalcul/work/dchen/code/cvut-colab/slurm/__experiments/baseline_logs/miconic_1_30_r8.0.log\n",
      "/pfcalcul/work/dchen/code/cvut-colab/slurm/__experiments/baseline_logs/miconic_1_30_r9.0.log\n",
      "/pfcalcul/work/dchen/code/cvut-colab/slurm/__experiments/baseline_logs/miconic_2_01_r0.0.log\n",
      "/pfcalcul/work/dchen/code/cvut-colab/slurm/__experiments/baseline_logs/miconic_2_01_r2.0.log\n",
      "/pfcalcul/work/dchen/code/cvut-colab/slurm/__experiments/baseline_logs/miconic_2_01_r3.0.log\n",
      "/pfcalcul/work/dchen/code/cvut-colab/slurm/__experiments/baseline_logs/miconic_2_01_r4.0.log\n",
      "/pfcalcul/work/dchen/code/cvut-colab/slurm/__experiments/baseline_logs/miconic_2_01_r6.0.log\n",
      "/pfcalcul/work/dchen/code/cvut-colab/slurm/__experiments/baseline_logs/miconic_2_01_r8.0.log\n",
      "/pfcalcul/work/dchen/code/cvut-colab/slurm/__experiments/baseline_logs/miconic_2_01_r9.0.log\n",
      "/pfcalcul/work/dchen/code/cvut-colab/slurm/__experiments/baseline_logs/miconic_2_02_r0.0.log\n",
      "/pfcalcul/work/dchen/code/cvut-colab/slurm/__experiments/baseline_logs/miconic_2_02_r1.0.log\n",
      "/pfcalcul/work/dchen/code/cvut-colab/slurm/__experiments/baseline_logs/miconic_2_02_r2.0.log\n",
      "/pfcalcul/work/dchen/code/cvut-colab/slurm/__experiments/baseline_logs/miconic_2_02_r3.0.log\n",
      "/pfcalcul/work/dchen/code/cvut-colab/slurm/__experiments/baseline_logs/miconic_2_02_r4.0.log\n",
      "/pfcalcul/work/dchen/code/cvut-colab/slurm/__experiments/baseline_logs/miconic_2_02_r6.0.log\n",
      "/pfcalcul/work/dchen/code/cvut-colab/slurm/__experiments/baseline_logs/miconic_2_02_r7.0.log\n",
      "/pfcalcul/work/dchen/code/cvut-colab/slurm/__experiments/baseline_logs/miconic_2_02_r9.0.log\n",
      "/pfcalcul/work/dchen/code/cvut-colab/slurm/__experiments/baseline_logs/miconic_2_03_r0.0.log\n",
      "/pfcalcul/work/dchen/code/cvut-colab/slurm/__experiments/baseline_logs/miconic_2_03_r2.0.log\n",
      "/pfcalcul/work/dchen/code/cvut-colab/slurm/__experiments/baseline_logs/miconic_2_03_r3.0.log\n",
      "/pfcalcul/work/dchen/code/cvut-colab/slurm/__experiments/baseline_logs/miconic_2_03_r4.0.log\n",
      "/pfcalcul/work/dchen/code/cvut-colab/slurm/__experiments/baseline_logs/miconic_2_03_r6.0.log\n",
      "/pfcalcul/work/dchen/code/cvut-colab/slurm/__experiments/baseline_logs/miconic_2_03_r8.0.log\n",
      "/pfcalcul/work/dchen/code/cvut-colab/slurm/__experiments/baseline_logs/miconic_2_03_r9.0.log\n",
      "/pfcalcul/work/dchen/code/cvut-colab/slurm/__experiments/baseline_logs/miconic_2_04_r0.0.log\n",
      "/pfcalcul/work/dchen/code/cvut-colab/slurm/__experiments/baseline_logs/miconic_2_04_r2.0.log\n",
      "/pfcalcul/work/dchen/code/cvut-colab/slurm/__experiments/baseline_logs/miconic_2_04_r3.0.log\n",
      "/pfcalcul/work/dchen/code/cvut-colab/slurm/__experiments/baseline_logs/miconic_2_04_r4.0.log\n",
      "/pfcalcul/work/dchen/code/cvut-colab/slurm/__experiments/baseline_logs/miconic_2_04_r6.0.log\n",
      "/pfcalcul/work/dchen/code/cvut-colab/slurm/__experiments/baseline_logs/miconic_2_04_r8.0.log\n",
      "/pfcalcul/work/dchen/code/cvut-colab/slurm/__experiments/baseline_logs/miconic_2_04_r9.0.log\n",
      "/pfcalcul/work/dchen/code/cvut-colab/slurm/__experiments/baseline_logs/miconic_2_05_r0.0.log\n",
      "/pfcalcul/work/dchen/code/cvut-colab/slurm/__experiments/baseline_logs/miconic_2_05_r2.0.log\n",
      "/pfcalcul/work/dchen/code/cvut-colab/slurm/__experiments/baseline_logs/miconic_2_05_r3.0.log\n",
      "/pfcalcul/work/dchen/code/cvut-colab/slurm/__experiments/baseline_logs/miconic_2_05_r4.0.log\n",
      "/pfcalcul/work/dchen/code/cvut-colab/slurm/__experiments/baseline_logs/miconic_2_05_r6.0.log\n",
      "/pfcalcul/work/dchen/code/cvut-colab/slurm/__experiments/baseline_logs/miconic_2_05_r8.0.log\n",
      "/pfcalcul/work/dchen/code/cvut-colab/slurm/__experiments/baseline_logs/miconic_2_05_r9.0.log\n",
      "/pfcalcul/work/dchen/code/cvut-colab/slurm/__experiments/baseline_logs/miconic_2_06_r0.0.log\n",
      "/pfcalcul/work/dchen/code/cvut-colab/slurm/__experiments/baseline_logs/miconic_2_06_r2.0.log\n",
      "/pfcalcul/work/dchen/code/cvut-colab/slurm/__experiments/baseline_logs/miconic_2_06_r3.0.log\n",
      "/pfcalcul/work/dchen/code/cvut-colab/slurm/__experiments/baseline_logs/miconic_2_06_r4.0.log\n",
      "/pfcalcul/work/dchen/code/cvut-colab/slurm/__experiments/baseline_logs/miconic_2_06_r6.0.log\n",
      "/pfcalcul/work/dchen/code/cvut-colab/slurm/__experiments/baseline_logs/miconic_2_06_r8.0.log\n",
      "/pfcalcul/work/dchen/code/cvut-colab/slurm/__experiments/baseline_logs/miconic_2_06_r9.0.log\n",
      "/pfcalcul/work/dchen/code/cvut-colab/slurm/__experiments/baseline_logs/miconic_2_07_r0.0.log\n",
      "/pfcalcul/work/dchen/code/cvut-colab/slurm/__experiments/baseline_logs/miconic_2_07_r2.0.log\n",
      "/pfcalcul/work/dchen/code/cvut-colab/slurm/__experiments/baseline_logs/miconic_2_07_r3.0.log\n",
      "/pfcalcul/work/dchen/code/cvut-colab/slurm/__experiments/baseline_logs/miconic_2_07_r4.0.log\n",
      "/pfcalcul/work/dchen/code/cvut-colab/slurm/__experiments/baseline_logs/miconic_2_07_r6.0.log\n",
      "/pfcalcul/work/dchen/code/cvut-colab/slurm/__experiments/baseline_logs/miconic_2_07_r8.0.log\n",
      "/pfcalcul/work/dchen/code/cvut-colab/slurm/__experiments/baseline_logs/miconic_2_07_r9.0.log\n",
      "/pfcalcul/work/dchen/code/cvut-colab/slurm/__experiments/baseline_logs/miconic_2_08_r0.0.log\n",
      "/pfcalcul/work/dchen/code/cvut-colab/slurm/__experiments/baseline_logs/miconic_2_08_r2.0.log\n",
      "/pfcalcul/work/dchen/code/cvut-colab/slurm/__experiments/baseline_logs/miconic_2_08_r3.0.log\n",
      "/pfcalcul/work/dchen/code/cvut-colab/slurm/__experiments/baseline_logs/miconic_2_08_r4.0.log\n",
      "/pfcalcul/work/dchen/code/cvut-colab/slurm/__experiments/baseline_logs/miconic_2_08_r6.0.log\n",
      "/pfcalcul/work/dchen/code/cvut-colab/slurm/__experiments/baseline_logs/miconic_2_08_r8.0.log\n",
      "/pfcalcul/work/dchen/code/cvut-colab/slurm/__experiments/baseline_logs/miconic_2_08_r9.0.log\n",
      "/pfcalcul/work/dchen/code/cvut-colab/slurm/__experiments/baseline_logs/miconic_2_09_r0.0.log\n",
      "/pfcalcul/work/dchen/code/cvut-colab/slurm/__experiments/baseline_logs/miconic_2_09_r2.0.log\n",
      "/pfcalcul/work/dchen/code/cvut-colab/slurm/__experiments/baseline_logs/miconic_2_09_r3.0.log\n",
      "/pfcalcul/work/dchen/code/cvut-colab/slurm/__experiments/baseline_logs/miconic_2_09_r4.0.log\n",
      "/pfcalcul/work/dchen/code/cvut-colab/slurm/__experiments/baseline_logs/miconic_2_09_r6.0.log\n",
      "/pfcalcul/work/dchen/code/cvut-colab/slurm/__experiments/baseline_logs/miconic_2_09_r9.0.log\n",
      "/pfcalcul/work/dchen/code/cvut-colab/slurm/__experiments/baseline_logs/miconic_2_10_r0.0.log\n",
      "/pfcalcul/work/dchen/code/cvut-colab/slurm/__experiments/baseline_logs/miconic_2_10_r2.0.log\n",
      "/pfcalcul/work/dchen/code/cvut-colab/slurm/__experiments/baseline_logs/miconic_2_10_r3.0.log\n",
      "/pfcalcul/work/dchen/code/cvut-colab/slurm/__experiments/baseline_logs/miconic_2_10_r4.0.log\n",
      "/pfcalcul/work/dchen/code/cvut-colab/slurm/__experiments/baseline_logs/miconic_2_10_r6.0.log\n",
      "/pfcalcul/work/dchen/code/cvut-colab/slurm/__experiments/baseline_logs/miconic_2_10_r9.0.log\n",
      "/pfcalcul/work/dchen/code/cvut-colab/slurm/__experiments/baseline_logs/miconic_2_11_r0.0.log\n",
      "/pfcalcul/work/dchen/code/cvut-colab/slurm/__experiments/baseline_logs/miconic_2_11_r2.0.log\n",
      "/pfcalcul/work/dchen/code/cvut-colab/slurm/__experiments/baseline_logs/miconic_2_11_r3.0.log\n",
      "/pfcalcul/work/dchen/code/cvut-colab/slurm/__experiments/baseline_logs/miconic_2_11_r4.0.log\n",
      "/pfcalcul/work/dchen/code/cvut-colab/slurm/__experiments/baseline_logs/miconic_2_11_r6.0.log\n",
      "/pfcalcul/work/dchen/code/cvut-colab/slurm/__experiments/baseline_logs/miconic_2_11_r8.0.log\n",
      "/pfcalcul/work/dchen/code/cvut-colab/slurm/__experiments/baseline_logs/miconic_2_11_r9.0.log\n",
      "/pfcalcul/work/dchen/code/cvut-colab/slurm/__experiments/baseline_logs/miconic_2_12_r0.0.log\n",
      "/pfcalcul/work/dchen/code/cvut-colab/slurm/__experiments/baseline_logs/miconic_2_12_r1.0.log\n",
      "/pfcalcul/work/dchen/code/cvut-colab/slurm/__experiments/baseline_logs/miconic_2_12_r2.0.log\n",
      "/pfcalcul/work/dchen/code/cvut-colab/slurm/__experiments/baseline_logs/miconic_2_12_r3.0.log\n",
      "/pfcalcul/work/dchen/code/cvut-colab/slurm/__experiments/baseline_logs/miconic_2_12_r4.0.log\n",
      "/pfcalcul/work/dchen/code/cvut-colab/slurm/__experiments/baseline_logs/miconic_2_12_r6.0.log\n",
      "/pfcalcul/work/dchen/code/cvut-colab/slurm/__experiments/baseline_logs/miconic_2_12_r8.0.log\n",
      "/pfcalcul/work/dchen/code/cvut-colab/slurm/__experiments/baseline_logs/miconic_2_12_r9.0.log\n",
      "/pfcalcul/work/dchen/code/cvut-colab/slurm/__experiments/baseline_logs/miconic_2_13_r0.0.log\n",
      "/pfcalcul/work/dchen/code/cvut-colab/slurm/__experiments/baseline_logs/miconic_2_13_r1.0.log\n",
      "/pfcalcul/work/dchen/code/cvut-colab/slurm/__experiments/baseline_logs/miconic_2_13_r2.0.log\n",
      "/pfcalcul/work/dchen/code/cvut-colab/slurm/__experiments/baseline_logs/miconic_2_13_r3.0.log\n",
      "/pfcalcul/work/dchen/code/cvut-colab/slurm/__experiments/baseline_logs/miconic_2_13_r4.0.log\n",
      "/pfcalcul/work/dchen/code/cvut-colab/slurm/__experiments/baseline_logs/miconic_2_13_r6.0.log\n",
      "/pfcalcul/work/dchen/code/cvut-colab/slurm/__experiments/baseline_logs/miconic_2_13_r7.0.log\n",
      "/pfcalcul/work/dchen/code/cvut-colab/slurm/__experiments/baseline_logs/miconic_2_13_r8.0.log\n",
      "/pfcalcul/work/dchen/code/cvut-colab/slurm/__experiments/baseline_logs/miconic_2_13_r9.0.log\n",
      "/pfcalcul/work/dchen/code/cvut-colab/slurm/__experiments/baseline_logs/miconic_2_14_r0.0.log\n",
      "/pfcalcul/work/dchen/code/cvut-colab/slurm/__experiments/baseline_logs/miconic_2_14_r2.0.log\n",
      "/pfcalcul/work/dchen/code/cvut-colab/slurm/__experiments/baseline_logs/miconic_2_14_r3.0.log\n",
      "/pfcalcul/work/dchen/code/cvut-colab/slurm/__experiments/baseline_logs/miconic_2_14_r4.0.log\n",
      "/pfcalcul/work/dchen/code/cvut-colab/slurm/__experiments/baseline_logs/miconic_2_14_r6.0.log\n",
      "/pfcalcul/work/dchen/code/cvut-colab/slurm/__experiments/baseline_logs/miconic_2_14_r7.0.log\n",
      "/pfcalcul/work/dchen/code/cvut-colab/slurm/__experiments/baseline_logs/miconic_2_14_r8.0.log\n",
      "/pfcalcul/work/dchen/code/cvut-colab/slurm/__experiments/baseline_logs/miconic_2_14_r9.0.log\n",
      "/pfcalcul/work/dchen/code/cvut-colab/slurm/__experiments/baseline_logs/miconic_2_15_r0.0.log\n",
      "/pfcalcul/work/dchen/code/cvut-colab/slurm/__experiments/baseline_logs/miconic_2_15_r2.0.log\n",
      "/pfcalcul/work/dchen/code/cvut-colab/slurm/__experiments/baseline_logs/miconic_2_15_r3.0.log\n",
      "/pfcalcul/work/dchen/code/cvut-colab/slurm/__experiments/baseline_logs/miconic_2_15_r4.0.log\n",
      "/pfcalcul/work/dchen/code/cvut-colab/slurm/__experiments/baseline_logs/miconic_2_15_r5.0.log\n",
      "/pfcalcul/work/dchen/code/cvut-colab/slurm/__experiments/baseline_logs/miconic_2_15_r6.0.log\n",
      "/pfcalcul/work/dchen/code/cvut-colab/slurm/__experiments/baseline_logs/miconic_2_15_r7.0.log\n",
      "/pfcalcul/work/dchen/code/cvut-colab/slurm/__experiments/baseline_logs/miconic_2_15_r8.0.log\n",
      "/pfcalcul/work/dchen/code/cvut-colab/slurm/__experiments/baseline_logs/miconic_2_15_r9.0.log\n",
      "/pfcalcul/work/dchen/code/cvut-colab/slurm/__experiments/baseline_logs/miconic_2_16_r0.0.log\n",
      "/pfcalcul/work/dchen/code/cvut-colab/slurm/__experiments/baseline_logs/miconic_2_16_r2.0.log\n",
      "/pfcalcul/work/dchen/code/cvut-colab/slurm/__experiments/baseline_logs/miconic_2_16_r3.0.log\n",
      "/pfcalcul/work/dchen/code/cvut-colab/slurm/__experiments/baseline_logs/miconic_2_16_r4.0.log\n",
      "/pfcalcul/work/dchen/code/cvut-colab/slurm/__experiments/baseline_logs/miconic_2_16_r5.0.log\n",
      "/pfcalcul/work/dchen/code/cvut-colab/slurm/__experiments/baseline_logs/miconic_2_16_r6.0.log\n",
      "/pfcalcul/work/dchen/code/cvut-colab/slurm/__experiments/baseline_logs/miconic_2_16_r8.0.log\n",
      "/pfcalcul/work/dchen/code/cvut-colab/slurm/__experiments/baseline_logs/miconic_2_16_r9.0.log\n",
      "/pfcalcul/work/dchen/code/cvut-colab/slurm/__experiments/baseline_logs/miconic_2_17_r0.0.log\n",
      "/pfcalcul/work/dchen/code/cvut-colab/slurm/__experiments/baseline_logs/miconic_2_17_r2.0.log\n",
      "/pfcalcul/work/dchen/code/cvut-colab/slurm/__experiments/baseline_logs/miconic_2_17_r3.0.log\n",
      "/pfcalcul/work/dchen/code/cvut-colab/slurm/__experiments/baseline_logs/miconic_2_17_r4.0.log\n",
      "/pfcalcul/work/dchen/code/cvut-colab/slurm/__experiments/baseline_logs/miconic_2_17_r6.0.log\n",
      "/pfcalcul/work/dchen/code/cvut-colab/slurm/__experiments/baseline_logs/miconic_2_17_r7.0.log\n",
      "/pfcalcul/work/dchen/code/cvut-colab/slurm/__experiments/baseline_logs/miconic_2_17_r9.0.log\n",
      "/pfcalcul/work/dchen/code/cvut-colab/slurm/__experiments/baseline_logs/miconic_2_18_r0.0.log\n",
      "/pfcalcul/work/dchen/code/cvut-colab/slurm/__experiments/baseline_logs/miconic_2_18_r1.0.log\n",
      "/pfcalcul/work/dchen/code/cvut-colab/slurm/__experiments/baseline_logs/miconic_2_18_r2.0.log\n",
      "/pfcalcul/work/dchen/code/cvut-colab/slurm/__experiments/baseline_logs/miconic_2_18_r3.0.log\n",
      "/pfcalcul/work/dchen/code/cvut-colab/slurm/__experiments/baseline_logs/miconic_2_18_r4.0.log\n",
      "/pfcalcul/work/dchen/code/cvut-colab/slurm/__experiments/baseline_logs/miconic_2_18_r6.0.log\n",
      "/pfcalcul/work/dchen/code/cvut-colab/slurm/__experiments/baseline_logs/miconic_2_18_r7.0.log\n",
      "/pfcalcul/work/dchen/code/cvut-colab/slurm/__experiments/baseline_logs/miconic_2_18_r8.0.log\n",
      "/pfcalcul/work/dchen/code/cvut-colab/slurm/__experiments/baseline_logs/miconic_2_18_r9.0.log\n",
      "/pfcalcul/work/dchen/code/cvut-colab/slurm/__experiments/baseline_logs/miconic_2_19_r0.0.log\n",
      "/pfcalcul/work/dchen/code/cvut-colab/slurm/__experiments/baseline_logs/miconic_2_19_r2.0.log\n",
      "/pfcalcul/work/dchen/code/cvut-colab/slurm/__experiments/baseline_logs/miconic_2_19_r3.0.log\n",
      "/pfcalcul/work/dchen/code/cvut-colab/slurm/__experiments/baseline_logs/miconic_2_19_r4.0.log\n",
      "/pfcalcul/work/dchen/code/cvut-colab/slurm/__experiments/baseline_logs/miconic_2_19_r6.0.log\n",
      "/pfcalcul/work/dchen/code/cvut-colab/slurm/__experiments/baseline_logs/miconic_2_19_r8.0.log\n",
      "/pfcalcul/work/dchen/code/cvut-colab/slurm/__experiments/baseline_logs/miconic_2_19_r9.0.log\n",
      "/pfcalcul/work/dchen/code/cvut-colab/slurm/__experiments/baseline_logs/miconic_2_20_r0.0.log\n",
      "/pfcalcul/work/dchen/code/cvut-colab/slurm/__experiments/baseline_logs/miconic_2_20_r1.0.log\n",
      "/pfcalcul/work/dchen/code/cvut-colab/slurm/__experiments/baseline_logs/miconic_2_20_r2.0.log\n",
      "/pfcalcul/work/dchen/code/cvut-colab/slurm/__experiments/baseline_logs/miconic_2_20_r3.0.log\n",
      "/pfcalcul/work/dchen/code/cvut-colab/slurm/__experiments/baseline_logs/miconic_2_20_r4.0.log\n",
      "/pfcalcul/work/dchen/code/cvut-colab/slurm/__experiments/baseline_logs/miconic_2_20_r6.0.log\n",
      "/pfcalcul/work/dchen/code/cvut-colab/slurm/__experiments/baseline_logs/miconic_2_20_r7.0.log\n",
      "/pfcalcul/work/dchen/code/cvut-colab/slurm/__experiments/baseline_logs/miconic_2_20_r8.0.log\n",
      "/pfcalcul/work/dchen/code/cvut-colab/slurm/__experiments/baseline_logs/miconic_2_20_r9.0.log\n",
      "/pfcalcul/work/dchen/code/cvut-colab/slurm/__experiments/baseline_logs/miconic_2_21_r0.0.log\n",
      "/pfcalcul/work/dchen/code/cvut-colab/slurm/__experiments/baseline_logs/miconic_2_21_r2.0.log\n",
      "/pfcalcul/work/dchen/code/cvut-colab/slurm/__experiments/baseline_logs/miconic_2_21_r3.0.log\n",
      "/pfcalcul/work/dchen/code/cvut-colab/slurm/__experiments/baseline_logs/miconic_2_21_r4.0.log\n",
      "/pfcalcul/work/dchen/code/cvut-colab/slurm/__experiments/baseline_logs/miconic_2_21_r5.0.log\n",
      "/pfcalcul/work/dchen/code/cvut-colab/slurm/__experiments/baseline_logs/miconic_2_21_r6.0.log\n",
      "/pfcalcul/work/dchen/code/cvut-colab/slurm/__experiments/baseline_logs/miconic_2_21_r7.0.log\n",
      "/pfcalcul/work/dchen/code/cvut-colab/slurm/__experiments/baseline_logs/miconic_2_21_r8.0.log\n",
      "/pfcalcul/work/dchen/code/cvut-colab/slurm/__experiments/baseline_logs/miconic_2_21_r9.0.log\n",
      "/pfcalcul/work/dchen/code/cvut-colab/slurm/__experiments/baseline_logs/miconic_2_22_r0.0.log\n",
      "/pfcalcul/work/dchen/code/cvut-colab/slurm/__experiments/baseline_logs/miconic_2_22_r2.0.log\n",
      "/pfcalcul/work/dchen/code/cvut-colab/slurm/__experiments/baseline_logs/miconic_2_22_r3.0.log\n",
      "/pfcalcul/work/dchen/code/cvut-colab/slurm/__experiments/baseline_logs/miconic_2_22_r4.0.log\n",
      "/pfcalcul/work/dchen/code/cvut-colab/slurm/__experiments/baseline_logs/miconic_2_22_r6.0.log\n",
      "/pfcalcul/work/dchen/code/cvut-colab/slurm/__experiments/baseline_logs/miconic_2_22_r8.0.log\n",
      "/pfcalcul/work/dchen/code/cvut-colab/slurm/__experiments/baseline_logs/miconic_2_22_r9.0.log\n",
      "/pfcalcul/work/dchen/code/cvut-colab/slurm/__experiments/baseline_logs/miconic_2_23_r0.0.log\n",
      "/pfcalcul/work/dchen/code/cvut-colab/slurm/__experiments/baseline_logs/miconic_2_23_r2.0.log\n",
      "/pfcalcul/work/dchen/code/cvut-colab/slurm/__experiments/baseline_logs/miconic_2_23_r3.0.log\n",
      "/pfcalcul/work/dchen/code/cvut-colab/slurm/__experiments/baseline_logs/miconic_2_23_r4.0.log\n",
      "/pfcalcul/work/dchen/code/cvut-colab/slurm/__experiments/baseline_logs/miconic_2_23_r6.0.log\n",
      "/pfcalcul/work/dchen/code/cvut-colab/slurm/__experiments/baseline_logs/miconic_2_23_r7.0.log\n",
      "/pfcalcul/work/dchen/code/cvut-colab/slurm/__experiments/baseline_logs/miconic_2_23_r8.0.log\n",
      "/pfcalcul/work/dchen/code/cvut-colab/slurm/__experiments/baseline_logs/miconic_2_23_r9.0.log\n",
      "/pfcalcul/work/dchen/code/cvut-colab/slurm/__experiments/baseline_logs/miconic_2_24_r0.0.log\n",
      "/pfcalcul/work/dchen/code/cvut-colab/slurm/__experiments/baseline_logs/miconic_2_24_r2.0.log\n",
      "/pfcalcul/work/dchen/code/cvut-colab/slurm/__experiments/baseline_logs/miconic_2_24_r3.0.log\n",
      "/pfcalcul/work/dchen/code/cvut-colab/slurm/__experiments/baseline_logs/miconic_2_24_r4.0.log\n",
      "/pfcalcul/work/dchen/code/cvut-colab/slurm/__experiments/baseline_logs/miconic_2_24_r6.0.log\n",
      "/pfcalcul/work/dchen/code/cvut-colab/slurm/__experiments/baseline_logs/miconic_2_24_r7.0.log\n",
      "/pfcalcul/work/dchen/code/cvut-colab/slurm/__experiments/baseline_logs/miconic_2_24_r8.0.log\n",
      "/pfcalcul/work/dchen/code/cvut-colab/slurm/__experiments/baseline_logs/miconic_2_24_r9.0.log\n",
      "/pfcalcul/work/dchen/code/cvut-colab/slurm/__experiments/baseline_logs/miconic_2_25_r0.0.log\n",
      "/pfcalcul/work/dchen/code/cvut-colab/slurm/__experiments/baseline_logs/miconic_2_25_r1.0.log\n",
      "/pfcalcul/work/dchen/code/cvut-colab/slurm/__experiments/baseline_logs/miconic_2_25_r2.0.log\n",
      "/pfcalcul/work/dchen/code/cvut-colab/slurm/__experiments/baseline_logs/miconic_2_25_r3.0.log\n",
      "/pfcalcul/work/dchen/code/cvut-colab/slurm/__experiments/baseline_logs/miconic_2_25_r4.0.log\n",
      "/pfcalcul/work/dchen/code/cvut-colab/slurm/__experiments/baseline_logs/miconic_2_25_r6.0.log\n",
      "/pfcalcul/work/dchen/code/cvut-colab/slurm/__experiments/baseline_logs/miconic_2_25_r7.0.log\n",
      "/pfcalcul/work/dchen/code/cvut-colab/slurm/__experiments/baseline_logs/miconic_2_25_r8.0.log\n",
      "/pfcalcul/work/dchen/code/cvut-colab/slurm/__experiments/baseline_logs/miconic_2_25_r9.0.log\n",
      "/pfcalcul/work/dchen/code/cvut-colab/slurm/__experiments/baseline_logs/miconic_2_26_r0.0.log\n",
      "/pfcalcul/work/dchen/code/cvut-colab/slurm/__experiments/baseline_logs/miconic_2_26_r2.0.log\n",
      "/pfcalcul/work/dchen/code/cvut-colab/slurm/__experiments/baseline_logs/miconic_2_26_r3.0.log\n",
      "/pfcalcul/work/dchen/code/cvut-colab/slurm/__experiments/baseline_logs/miconic_2_26_r4.0.log\n",
      "/pfcalcul/work/dchen/code/cvut-colab/slurm/__experiments/baseline_logs/miconic_2_26_r6.0.log\n",
      "/pfcalcul/work/dchen/code/cvut-colab/slurm/__experiments/baseline_logs/miconic_2_26_r7.0.log\n",
      "/pfcalcul/work/dchen/code/cvut-colab/slurm/__experiments/baseline_logs/miconic_2_26_r9.0.log\n",
      "/pfcalcul/work/dchen/code/cvut-colab/slurm/__experiments/baseline_logs/miconic_2_27_r0.0.log\n",
      "/pfcalcul/work/dchen/code/cvut-colab/slurm/__experiments/baseline_logs/miconic_2_27_r1.0.log\n",
      "/pfcalcul/work/dchen/code/cvut-colab/slurm/__experiments/baseline_logs/miconic_2_27_r2.0.log\n",
      "/pfcalcul/work/dchen/code/cvut-colab/slurm/__experiments/baseline_logs/miconic_2_27_r3.0.log\n",
      "/pfcalcul/work/dchen/code/cvut-colab/slurm/__experiments/baseline_logs/miconic_2_27_r4.0.log\n",
      "/pfcalcul/work/dchen/code/cvut-colab/slurm/__experiments/baseline_logs/miconic_2_27_r6.0.log\n",
      "/pfcalcul/work/dchen/code/cvut-colab/slurm/__experiments/baseline_logs/miconic_2_27_r7.0.log\n",
      "/pfcalcul/work/dchen/code/cvut-colab/slurm/__experiments/baseline_logs/miconic_2_27_r8.0.log\n",
      "/pfcalcul/work/dchen/code/cvut-colab/slurm/__experiments/baseline_logs/miconic_2_27_r9.0.log\n",
      "/pfcalcul/work/dchen/code/cvut-colab/slurm/__experiments/baseline_logs/miconic_2_28_r0.0.log\n",
      "/pfcalcul/work/dchen/code/cvut-colab/slurm/__experiments/baseline_logs/miconic_2_28_r1.0.log\n",
      "/pfcalcul/work/dchen/code/cvut-colab/slurm/__experiments/baseline_logs/miconic_2_28_r2.0.log\n",
      "/pfcalcul/work/dchen/code/cvut-colab/slurm/__experiments/baseline_logs/miconic_2_28_r3.0.log\n",
      "/pfcalcul/work/dchen/code/cvut-colab/slurm/__experiments/baseline_logs/miconic_2_28_r4.0.log\n",
      "/pfcalcul/work/dchen/code/cvut-colab/slurm/__experiments/baseline_logs/miconic_2_28_r6.0.log\n",
      "/pfcalcul/work/dchen/code/cvut-colab/slurm/__experiments/baseline_logs/miconic_2_28_r7.0.log\n",
      "/pfcalcul/work/dchen/code/cvut-colab/slurm/__experiments/baseline_logs/miconic_2_28_r8.0.log\n",
      "/pfcalcul/work/dchen/code/cvut-colab/slurm/__experiments/baseline_logs/miconic_2_28_r9.0.log\n",
      "/pfcalcul/work/dchen/code/cvut-colab/slurm/__experiments/baseline_logs/miconic_2_29_r0.0.log\n",
      "/pfcalcul/work/dchen/code/cvut-colab/slurm/__experiments/baseline_logs/miconic_2_29_r2.0.log\n",
      "/pfcalcul/work/dchen/code/cvut-colab/slurm/__experiments/baseline_logs/miconic_2_29_r3.0.log\n",
      "/pfcalcul/work/dchen/code/cvut-colab/slurm/__experiments/baseline_logs/miconic_2_29_r4.0.log\n",
      "/pfcalcul/work/dchen/code/cvut-colab/slurm/__experiments/baseline_logs/miconic_2_29_r6.0.log\n",
      "/pfcalcul/work/dchen/code/cvut-colab/slurm/__experiments/baseline_logs/miconic_2_29_r7.0.log\n",
      "/pfcalcul/work/dchen/code/cvut-colab/slurm/__experiments/baseline_logs/miconic_2_29_r8.0.log\n",
      "/pfcalcul/work/dchen/code/cvut-colab/slurm/__experiments/baseline_logs/miconic_2_29_r9.0.log\n",
      "/pfcalcul/work/dchen/code/cvut-colab/slurm/__experiments/baseline_logs/miconic_2_30_r0.0.log\n",
      "/pfcalcul/work/dchen/code/cvut-colab/slurm/__experiments/baseline_logs/miconic_2_30_r2.0.log\n",
      "/pfcalcul/work/dchen/code/cvut-colab/slurm/__experiments/baseline_logs/miconic_2_30_r3.0.log\n",
      "/pfcalcul/work/dchen/code/cvut-colab/slurm/__experiments/baseline_logs/miconic_2_30_r4.0.log\n",
      "/pfcalcul/work/dchen/code/cvut-colab/slurm/__experiments/baseline_logs/miconic_2_30_r6.0.log\n",
      "/pfcalcul/work/dchen/code/cvut-colab/slurm/__experiments/baseline_logs/miconic_2_30_r7.0.log\n",
      "/pfcalcul/work/dchen/code/cvut-colab/slurm/__experiments/baseline_logs/miconic_2_30_r8.0.log\n",
      "/pfcalcul/work/dchen/code/cvut-colab/slurm/__experiments/baseline_logs/miconic_2_30_r9.0.log\n",
      "/pfcalcul/work/dchen/code/cvut-colab/slurm/__experiments/baseline_logs/miconic_1_08_rnan.log\n",
      "/pfcalcul/work/dchen/code/cvut-colab/slurm/__experiments/baseline_logs/miconic_1_11_rnan.log\n",
      "/pfcalcul/work/dchen/code/cvut-colab/slurm/__experiments/baseline_logs/miconic_1_14_rnan.log\n",
      "/pfcalcul/work/dchen/code/cvut-colab/slurm/__experiments/baseline_logs/miconic_1_16_rnan.log\n",
      "/pfcalcul/work/dchen/code/cvut-colab/slurm/__experiments/baseline_logs/miconic_1_17_rnan.log\n",
      "/pfcalcul/work/dchen/code/cvut-colab/slurm/__experiments/baseline_logs/miconic_1_18_rnan.log\n",
      "/pfcalcul/work/dchen/code/cvut-colab/slurm/__experiments/baseline_logs/miconic_1_21_rnan.log\n",
      "/pfcalcul/work/dchen/code/cvut-colab/slurm/__experiments/baseline_logs/miconic_1_22_rnan.log\n",
      "/pfcalcul/work/dchen/code/cvut-colab/slurm/__experiments/baseline_logs/miconic_1_23_rnan.log\n",
      "/pfcalcul/work/dchen/code/cvut-colab/slurm/__experiments/baseline_logs/miconic_1_24_rnan.log\n",
      "/pfcalcul/work/dchen/code/cvut-colab/slurm/__experiments/baseline_logs/miconic_1_25_rnan.log\n",
      "/pfcalcul/work/dchen/code/cvut-colab/slurm/__experiments/baseline_logs/miconic_1_26_rnan.log\n",
      "/pfcalcul/work/dchen/code/cvut-colab/slurm/__experiments/baseline_logs/miconic_1_27_rnan.log\n",
      "/pfcalcul/work/dchen/code/cvut-colab/slurm/__experiments/baseline_logs/miconic_1_28_rnan.log\n",
      "/pfcalcul/work/dchen/code/cvut-colab/slurm/__experiments/baseline_logs/miconic_1_29_rnan.log\n",
      "/pfcalcul/work/dchen/code/cvut-colab/slurm/__experiments/baseline_logs/miconic_1_30_rnan.log\n",
      "/pfcalcul/work/dchen/code/cvut-colab/slurm/__experiments/baseline_logs/miconic_2_02_rnan.log\n",
      "/pfcalcul/work/dchen/code/cvut-colab/slurm/__experiments/baseline_logs/miconic_2_03_rnan.log\n",
      "/pfcalcul/work/dchen/code/cvut-colab/slurm/__experiments/baseline_logs/miconic_2_04_rnan.log\n",
      "/pfcalcul/work/dchen/code/cvut-colab/slurm/__experiments/baseline_logs/miconic_2_05_rnan.log\n",
      "/pfcalcul/work/dchen/code/cvut-colab/slurm/__experiments/baseline_logs/miconic_2_06_rnan.log\n",
      "/pfcalcul/work/dchen/code/cvut-colab/slurm/__experiments/baseline_logs/miconic_2_07_rnan.log\n",
      "/pfcalcul/work/dchen/code/cvut-colab/slurm/__experiments/baseline_logs/miconic_2_08_rnan.log\n",
      "/pfcalcul/work/dchen/code/cvut-colab/slurm/__experiments/baseline_logs/miconic_2_09_rnan.log\n",
      "/pfcalcul/work/dchen/code/cvut-colab/slurm/__experiments/baseline_logs/miconic_2_10_rnan.log\n",
      "/pfcalcul/work/dchen/code/cvut-colab/slurm/__experiments/baseline_logs/miconic_2_11_rnan.log\n",
      "/pfcalcul/work/dchen/code/cvut-colab/slurm/__experiments/baseline_logs/miconic_2_12_rnan.log\n",
      "/pfcalcul/work/dchen/code/cvut-colab/slurm/__experiments/baseline_logs/miconic_2_13_rnan.log\n",
      "/pfcalcul/work/dchen/code/cvut-colab/slurm/__experiments/baseline_logs/miconic_2_14_rnan.log\n",
      "/pfcalcul/work/dchen/code/cvut-colab/slurm/__experiments/baseline_logs/miconic_2_15_rnan.log\n",
      "/pfcalcul/work/dchen/code/cvut-colab/slurm/__experiments/baseline_logs/miconic_2_16_rnan.log\n",
      "/pfcalcul/work/dchen/code/cvut-colab/slurm/__experiments/baseline_logs/miconic_2_17_rnan.log\n",
      "/pfcalcul/work/dchen/code/cvut-colab/slurm/__experiments/baseline_logs/miconic_2_18_rnan.log\n",
      "/pfcalcul/work/dchen/code/cvut-colab/slurm/__experiments/baseline_logs/miconic_2_19_rnan.log\n",
      "/pfcalcul/work/dchen/code/cvut-colab/slurm/__experiments/baseline_logs/miconic_2_20_rnan.log\n",
      "/pfcalcul/work/dchen/code/cvut-colab/slurm/__experiments/baseline_logs/miconic_2_21_rnan.log\n",
      "/pfcalcul/work/dchen/code/cvut-colab/slurm/__experiments/baseline_logs/miconic_2_22_rnan.log\n",
      "/pfcalcul/work/dchen/code/cvut-colab/slurm/__experiments/baseline_logs/miconic_2_23_rnan.log\n",
      "/pfcalcul/work/dchen/code/cvut-colab/slurm/__experiments/baseline_logs/miconic_2_24_rnan.log\n",
      "/pfcalcul/work/dchen/code/cvut-colab/slurm/__experiments/baseline_logs/miconic_2_25_rnan.log\n",
      "/pfcalcul/work/dchen/code/cvut-colab/slurm/__experiments/baseline_logs/miconic_2_26_rnan.log\n",
      "/pfcalcul/work/dchen/code/cvut-colab/slurm/__experiments/baseline_logs/miconic_2_27_rnan.log\n",
      "/pfcalcul/work/dchen/code/cvut-colab/slurm/__experiments/baseline_logs/miconic_2_28_rnan.log\n",
      "/pfcalcul/work/dchen/code/cvut-colab/slurm/__experiments/baseline_logs/miconic_2_29_rnan.log\n",
      "/pfcalcul/work/dchen/code/cvut-colab/slurm/__experiments/baseline_logs/miconic_2_30_rnan.log\n"
     ]
    }
   ],
   "source": [
    "domain = \"miconic\"\n",
    "for f in failure_logs[domain]:\n",
    "    print(f)"
   ]
  },
  {
   "cell_type": "code",
   "execution_count": null,
   "metadata": {},
   "outputs": [],
   "source": []
  }
 ],
 "metadata": {
  "kernelspec": {
   "display_name": "lpp",
   "language": "python",
   "name": "python3"
  },
  "language_info": {
   "codemirror_mode": {
    "name": "ipython",
    "version": 3
   },
   "file_extension": ".py",
   "mimetype": "text/x-python",
   "name": "python",
   "nbconvert_exporter": "python",
   "pygments_lexer": "ipython3",
   "version": "3.10.4"
  }
 },
 "nbformat": 4,
 "nbformat_minor": 2
}
