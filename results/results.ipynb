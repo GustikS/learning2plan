{
 "cells": [
  {
   "cell_type": "code",
   "execution_count": 1,
   "metadata": {},
   "outputs": [
    {
     "name": "stdout",
     "output_type": "stream",
     "text": [
      "this_file_dir=PosixPath('/home/dzc/code/cvut-colab/results')\n",
      "Raw logs found. Rewriting data to csv files...\n"
     ]
    },
    {
     "name": "stderr",
     "output_type": "stream",
     "text": [
      "/home/dzc/code/cvut-colab/results/baseline_logs/satellite_1_30_r2.log: 100%|██████████| 912/912 [00:00<00:00, 4286.41it/s]\n"
     ]
    },
    {
     "name": "stdout",
     "output_type": "stream",
     "text": [
      "skipping hard problems because they take too long\n"
     ]
    }
   ],
   "source": [
    "from _results_helper import *\n",
    "import warnings\n",
    "warnings.filterwarnings(\"ignore\")\n",
    "\n",
    "choices = [\n",
    "    # \"sample\",\n",
    "    \"best\",\n",
    "]\n",
    "layers = [\n",
    "    # 1,\n",
    "    2,\n",
    "    # 3,\n",
    "    # 4,\n",
    "    # 5,\n",
    "]\n",
    "dimensions = [\n",
    "    # 1,\n",
    "    # 2,\n",
    "    # 4,\n",
    "    8,\n",
    "    16,\n",
    "    # 32,\n",
    "    # 64,\n",
    "    # 128,\n",
    "]"
   ]
  },
  {
   "cell_type": "markdown",
   "metadata": {},
   "source": [
    "# Train Stats"
   ]
  },
  {
   "cell_type": "code",
   "execution_count": 2,
   "metadata": {},
   "outputs": [
    {
     "name": "stdout",
     "output_type": "stream",
     "text": [
      "blocksworld\n"
     ]
    },
    {
     "data": {
      "application/vnd.plotly.v1+json": {
       "config": {
        "plotlyServerURL": "https://plot.ly"
       },
       "data": [
        {
         "hoverinfo": [
          "all"
         ],
         "mode": "markers",
         "name": "loss",
         "type": "scatter",
         "x": [
          "3_8",
          "3_8",
          "3_8",
          "3_16",
          "3_16",
          "3_16"
         ],
         "xaxis": "x",
         "y": [
          0.10599359221687231,
          0.05145601422030573,
          0.09018072572384832,
          0.11757756545267363,
          0.08166654443015134,
          0.07158613799481352
         ],
         "yaxis": "y"
        },
        {
         "hoverinfo": [
          "all"
         ],
         "mode": "markers",
         "name": "f1",
         "type": "scatter",
         "x": [
          "3_8",
          "3_8",
          "3_8",
          "3_16",
          "3_16",
          "3_16"
         ],
         "xaxis": "x2",
         "y": [
          0.9790093137482044,
          0.9913893958538069,
          0.9831302935375333,
          0.9795409412090703,
          0.9858866748820014,
          0.9887577552829221
         ],
         "yaxis": "y2"
        },
        {
         "hoverinfo": [
          "all"
         ],
         "mode": "markers",
         "name": "time",
         "type": "scatter",
         "x": [
          "3_8",
          "3_8",
          "3_8",
          "3_16",
          "3_16",
          "3_16"
         ],
         "xaxis": "x3",
         "y": [
          354.31233048439026,
          380.14176082611084,
          682.914059638977,
          1001.7172274589539,
          1199.6762640476227,
          1226.6541900634766
         ],
         "yaxis": "y3"
        }
       ],
       "layout": {
        "template": {
         "data": {
          "bar": [
           {
            "error_x": {
             "color": "#2a3f5f"
            },
            "error_y": {
             "color": "#2a3f5f"
            },
            "marker": {
             "line": {
              "color": "#E5ECF6",
              "width": 0.5
             },
             "pattern": {
              "fillmode": "overlay",
              "size": 10,
              "solidity": 0.2
             }
            },
            "type": "bar"
           }
          ],
          "barpolar": [
           {
            "marker": {
             "line": {
              "color": "#E5ECF6",
              "width": 0.5
             },
             "pattern": {
              "fillmode": "overlay",
              "size": 10,
              "solidity": 0.2
             }
            },
            "type": "barpolar"
           }
          ],
          "carpet": [
           {
            "aaxis": {
             "endlinecolor": "#2a3f5f",
             "gridcolor": "white",
             "linecolor": "white",
             "minorgridcolor": "white",
             "startlinecolor": "#2a3f5f"
            },
            "baxis": {
             "endlinecolor": "#2a3f5f",
             "gridcolor": "white",
             "linecolor": "white",
             "minorgridcolor": "white",
             "startlinecolor": "#2a3f5f"
            },
            "type": "carpet"
           }
          ],
          "choropleth": [
           {
            "colorbar": {
             "outlinewidth": 0,
             "ticks": ""
            },
            "type": "choropleth"
           }
          ],
          "contour": [
           {
            "colorbar": {
             "outlinewidth": 0,
             "ticks": ""
            },
            "colorscale": [
             [
              0,
              "#0d0887"
             ],
             [
              0.1111111111111111,
              "#46039f"
             ],
             [
              0.2222222222222222,
              "#7201a8"
             ],
             [
              0.3333333333333333,
              "#9c179e"
             ],
             [
              0.4444444444444444,
              "#bd3786"
             ],
             [
              0.5555555555555556,
              "#d8576b"
             ],
             [
              0.6666666666666666,
              "#ed7953"
             ],
             [
              0.7777777777777778,
              "#fb9f3a"
             ],
             [
              0.8888888888888888,
              "#fdca26"
             ],
             [
              1,
              "#f0f921"
             ]
            ],
            "type": "contour"
           }
          ],
          "contourcarpet": [
           {
            "colorbar": {
             "outlinewidth": 0,
             "ticks": ""
            },
            "type": "contourcarpet"
           }
          ],
          "heatmap": [
           {
            "colorbar": {
             "outlinewidth": 0,
             "ticks": ""
            },
            "colorscale": [
             [
              0,
              "#0d0887"
             ],
             [
              0.1111111111111111,
              "#46039f"
             ],
             [
              0.2222222222222222,
              "#7201a8"
             ],
             [
              0.3333333333333333,
              "#9c179e"
             ],
             [
              0.4444444444444444,
              "#bd3786"
             ],
             [
              0.5555555555555556,
              "#d8576b"
             ],
             [
              0.6666666666666666,
              "#ed7953"
             ],
             [
              0.7777777777777778,
              "#fb9f3a"
             ],
             [
              0.8888888888888888,
              "#fdca26"
             ],
             [
              1,
              "#f0f921"
             ]
            ],
            "type": "heatmap"
           }
          ],
          "heatmapgl": [
           {
            "colorbar": {
             "outlinewidth": 0,
             "ticks": ""
            },
            "colorscale": [
             [
              0,
              "#0d0887"
             ],
             [
              0.1111111111111111,
              "#46039f"
             ],
             [
              0.2222222222222222,
              "#7201a8"
             ],
             [
              0.3333333333333333,
              "#9c179e"
             ],
             [
              0.4444444444444444,
              "#bd3786"
             ],
             [
              0.5555555555555556,
              "#d8576b"
             ],
             [
              0.6666666666666666,
              "#ed7953"
             ],
             [
              0.7777777777777778,
              "#fb9f3a"
             ],
             [
              0.8888888888888888,
              "#fdca26"
             ],
             [
              1,
              "#f0f921"
             ]
            ],
            "type": "heatmapgl"
           }
          ],
          "histogram": [
           {
            "marker": {
             "pattern": {
              "fillmode": "overlay",
              "size": 10,
              "solidity": 0.2
             }
            },
            "type": "histogram"
           }
          ],
          "histogram2d": [
           {
            "colorbar": {
             "outlinewidth": 0,
             "ticks": ""
            },
            "colorscale": [
             [
              0,
              "#0d0887"
             ],
             [
              0.1111111111111111,
              "#46039f"
             ],
             [
              0.2222222222222222,
              "#7201a8"
             ],
             [
              0.3333333333333333,
              "#9c179e"
             ],
             [
              0.4444444444444444,
              "#bd3786"
             ],
             [
              0.5555555555555556,
              "#d8576b"
             ],
             [
              0.6666666666666666,
              "#ed7953"
             ],
             [
              0.7777777777777778,
              "#fb9f3a"
             ],
             [
              0.8888888888888888,
              "#fdca26"
             ],
             [
              1,
              "#f0f921"
             ]
            ],
            "type": "histogram2d"
           }
          ],
          "histogram2dcontour": [
           {
            "colorbar": {
             "outlinewidth": 0,
             "ticks": ""
            },
            "colorscale": [
             [
              0,
              "#0d0887"
             ],
             [
              0.1111111111111111,
              "#46039f"
             ],
             [
              0.2222222222222222,
              "#7201a8"
             ],
             [
              0.3333333333333333,
              "#9c179e"
             ],
             [
              0.4444444444444444,
              "#bd3786"
             ],
             [
              0.5555555555555556,
              "#d8576b"
             ],
             [
              0.6666666666666666,
              "#ed7953"
             ],
             [
              0.7777777777777778,
              "#fb9f3a"
             ],
             [
              0.8888888888888888,
              "#fdca26"
             ],
             [
              1,
              "#f0f921"
             ]
            ],
            "type": "histogram2dcontour"
           }
          ],
          "mesh3d": [
           {
            "colorbar": {
             "outlinewidth": 0,
             "ticks": ""
            },
            "type": "mesh3d"
           }
          ],
          "parcoords": [
           {
            "line": {
             "colorbar": {
              "outlinewidth": 0,
              "ticks": ""
             }
            },
            "type": "parcoords"
           }
          ],
          "pie": [
           {
            "automargin": true,
            "type": "pie"
           }
          ],
          "scatter": [
           {
            "fillpattern": {
             "fillmode": "overlay",
             "size": 10,
             "solidity": 0.2
            },
            "type": "scatter"
           }
          ],
          "scatter3d": [
           {
            "line": {
             "colorbar": {
              "outlinewidth": 0,
              "ticks": ""
             }
            },
            "marker": {
             "colorbar": {
              "outlinewidth": 0,
              "ticks": ""
             }
            },
            "type": "scatter3d"
           }
          ],
          "scattercarpet": [
           {
            "marker": {
             "colorbar": {
              "outlinewidth": 0,
              "ticks": ""
             }
            },
            "type": "scattercarpet"
           }
          ],
          "scattergeo": [
           {
            "marker": {
             "colorbar": {
              "outlinewidth": 0,
              "ticks": ""
             }
            },
            "type": "scattergeo"
           }
          ],
          "scattergl": [
           {
            "marker": {
             "colorbar": {
              "outlinewidth": 0,
              "ticks": ""
             }
            },
            "type": "scattergl"
           }
          ],
          "scattermapbox": [
           {
            "marker": {
             "colorbar": {
              "outlinewidth": 0,
              "ticks": ""
             }
            },
            "type": "scattermapbox"
           }
          ],
          "scatterpolar": [
           {
            "marker": {
             "colorbar": {
              "outlinewidth": 0,
              "ticks": ""
             }
            },
            "type": "scatterpolar"
           }
          ],
          "scatterpolargl": [
           {
            "marker": {
             "colorbar": {
              "outlinewidth": 0,
              "ticks": ""
             }
            },
            "type": "scatterpolargl"
           }
          ],
          "scatterternary": [
           {
            "marker": {
             "colorbar": {
              "outlinewidth": 0,
              "ticks": ""
             }
            },
            "type": "scatterternary"
           }
          ],
          "surface": [
           {
            "colorbar": {
             "outlinewidth": 0,
             "ticks": ""
            },
            "colorscale": [
             [
              0,
              "#0d0887"
             ],
             [
              0.1111111111111111,
              "#46039f"
             ],
             [
              0.2222222222222222,
              "#7201a8"
             ],
             [
              0.3333333333333333,
              "#9c179e"
             ],
             [
              0.4444444444444444,
              "#bd3786"
             ],
             [
              0.5555555555555556,
              "#d8576b"
             ],
             [
              0.6666666666666666,
              "#ed7953"
             ],
             [
              0.7777777777777778,
              "#fb9f3a"
             ],
             [
              0.8888888888888888,
              "#fdca26"
             ],
             [
              1,
              "#f0f921"
             ]
            ],
            "type": "surface"
           }
          ],
          "table": [
           {
            "cells": {
             "fill": {
              "color": "#EBF0F8"
             },
             "line": {
              "color": "white"
             }
            },
            "header": {
             "fill": {
              "color": "#C8D4E3"
             },
             "line": {
              "color": "white"
             }
            },
            "type": "table"
           }
          ]
         },
         "layout": {
          "annotationdefaults": {
           "arrowcolor": "#2a3f5f",
           "arrowhead": 0,
           "arrowwidth": 1
          },
          "autotypenumbers": "strict",
          "coloraxis": {
           "colorbar": {
            "outlinewidth": 0,
            "ticks": ""
           }
          },
          "colorscale": {
           "diverging": [
            [
             0,
             "#8e0152"
            ],
            [
             0.1,
             "#c51b7d"
            ],
            [
             0.2,
             "#de77ae"
            ],
            [
             0.3,
             "#f1b6da"
            ],
            [
             0.4,
             "#fde0ef"
            ],
            [
             0.5,
             "#f7f7f7"
            ],
            [
             0.6,
             "#e6f5d0"
            ],
            [
             0.7,
             "#b8e186"
            ],
            [
             0.8,
             "#7fbc41"
            ],
            [
             0.9,
             "#4d9221"
            ],
            [
             1,
             "#276419"
            ]
           ],
           "sequential": [
            [
             0,
             "#0d0887"
            ],
            [
             0.1111111111111111,
             "#46039f"
            ],
            [
             0.2222222222222222,
             "#7201a8"
            ],
            [
             0.3333333333333333,
             "#9c179e"
            ],
            [
             0.4444444444444444,
             "#bd3786"
            ],
            [
             0.5555555555555556,
             "#d8576b"
            ],
            [
             0.6666666666666666,
             "#ed7953"
            ],
            [
             0.7777777777777778,
             "#fb9f3a"
            ],
            [
             0.8888888888888888,
             "#fdca26"
            ],
            [
             1,
             "#f0f921"
            ]
           ],
           "sequentialminus": [
            [
             0,
             "#0d0887"
            ],
            [
             0.1111111111111111,
             "#46039f"
            ],
            [
             0.2222222222222222,
             "#7201a8"
            ],
            [
             0.3333333333333333,
             "#9c179e"
            ],
            [
             0.4444444444444444,
             "#bd3786"
            ],
            [
             0.5555555555555556,
             "#d8576b"
            ],
            [
             0.6666666666666666,
             "#ed7953"
            ],
            [
             0.7777777777777778,
             "#fb9f3a"
            ],
            [
             0.8888888888888888,
             "#fdca26"
            ],
            [
             1,
             "#f0f921"
            ]
           ]
          },
          "colorway": [
           "#636efa",
           "#EF553B",
           "#00cc96",
           "#ab63fa",
           "#FFA15A",
           "#19d3f3",
           "#FF6692",
           "#B6E880",
           "#FF97FF",
           "#FECB52"
          ],
          "font": {
           "color": "#2a3f5f"
          },
          "geo": {
           "bgcolor": "white",
           "lakecolor": "white",
           "landcolor": "#E5ECF6",
           "showlakes": true,
           "showland": true,
           "subunitcolor": "white"
          },
          "hoverlabel": {
           "align": "left"
          },
          "hovermode": "closest",
          "mapbox": {
           "style": "light"
          },
          "paper_bgcolor": "white",
          "plot_bgcolor": "#E5ECF6",
          "polar": {
           "angularaxis": {
            "gridcolor": "white",
            "linecolor": "white",
            "ticks": ""
           },
           "bgcolor": "#E5ECF6",
           "radialaxis": {
            "gridcolor": "white",
            "linecolor": "white",
            "ticks": ""
           }
          },
          "scene": {
           "xaxis": {
            "backgroundcolor": "#E5ECF6",
            "gridcolor": "white",
            "gridwidth": 2,
            "linecolor": "white",
            "showbackground": true,
            "ticks": "",
            "zerolinecolor": "white"
           },
           "yaxis": {
            "backgroundcolor": "#E5ECF6",
            "gridcolor": "white",
            "gridwidth": 2,
            "linecolor": "white",
            "showbackground": true,
            "ticks": "",
            "zerolinecolor": "white"
           },
           "zaxis": {
            "backgroundcolor": "#E5ECF6",
            "gridcolor": "white",
            "gridwidth": 2,
            "linecolor": "white",
            "showbackground": true,
            "ticks": "",
            "zerolinecolor": "white"
           }
          },
          "shapedefaults": {
           "line": {
            "color": "#2a3f5f"
           }
          },
          "ternary": {
           "aaxis": {
            "gridcolor": "white",
            "linecolor": "white",
            "ticks": ""
           },
           "baxis": {
            "gridcolor": "white",
            "linecolor": "white",
            "ticks": ""
           },
           "bgcolor": "#E5ECF6",
           "caxis": {
            "gridcolor": "white",
            "linecolor": "white",
            "ticks": ""
           }
          },
          "title": {
           "x": 0.05
          },
          "xaxis": {
           "automargin": true,
           "gridcolor": "white",
           "linecolor": "white",
           "ticks": "",
           "title": {
            "standoff": 15
           },
           "zerolinecolor": "white",
           "zerolinewidth": 2
          },
          "yaxis": {
           "automargin": true,
           "gridcolor": "white",
           "linecolor": "white",
           "ticks": "",
           "title": {
            "standoff": 15
           },
           "zerolinecolor": "white",
           "zerolinewidth": 2
          }
         }
        },
        "xaxis": {
         "anchor": "y",
         "domain": [
          0,
          0.2888888888888889
         ]
        },
        "xaxis2": {
         "anchor": "y2",
         "domain": [
          0.35555555555555557,
          0.6444444444444445
         ]
        },
        "xaxis3": {
         "anchor": "y3",
         "domain": [
          0.7111111111111111,
          1
         ]
        },
        "yaxis": {
         "anchor": "x",
         "domain": [
          0,
          1
         ]
        },
        "yaxis2": {
         "anchor": "x2",
         "domain": [
          0,
          1
         ]
        },
        "yaxis3": {
         "anchor": "x3",
         "domain": [
          0,
          1
         ]
        }
       }
      }
     },
     "metadata": {},
     "output_type": "display_data"
    },
    {
     "name": "stdout",
     "output_type": "stream",
     "text": [
      "ferry\n"
     ]
    },
    {
     "data": {
      "application/vnd.plotly.v1+json": {
       "config": {
        "plotlyServerURL": "https://plot.ly"
       },
       "data": [
        {
         "hoverinfo": [
          "all"
         ],
         "mode": "markers",
         "name": "loss",
         "type": "scatter",
         "x": [
          "3_8",
          "3_8",
          "3_8",
          "3_16",
          "3_16",
          "3_16"
         ],
         "xaxis": "x",
         "y": [
          0.07805843256738586,
          0.07788008456963869,
          0.0796830011857986,
          0.07803076393243505,
          0.0773706959072068,
          0.08990148873050106
         ],
         "yaxis": "y"
        },
        {
         "hoverinfo": [
          "all"
         ],
         "mode": "markers",
         "name": "f1",
         "type": "scatter",
         "x": [
          "3_8",
          "3_8",
          "3_8",
          "3_16",
          "3_16",
          "3_16"
         ],
         "xaxis": "x2",
         "y": [
          1,
          1,
          0.9995243654602846,
          1,
          0.9996107434799533,
          0.9959011088579195
         ],
         "yaxis": "y2"
        },
        {
         "hoverinfo": [
          "all"
         ],
         "mode": "markers",
         "name": "time",
         "type": "scatter",
         "x": [
          "3_8",
          "3_8",
          "3_8",
          "3_16",
          "3_16",
          "3_16"
         ],
         "xaxis": "x3",
         "y": [
          246.15040159225464,
          330.5616171360016,
          240.8846402168274,
          308.1587944030762,
          648.1057739257812,
          311.6927478313446
         ],
         "yaxis": "y3"
        }
       ],
       "layout": {
        "template": {
         "data": {
          "bar": [
           {
            "error_x": {
             "color": "#2a3f5f"
            },
            "error_y": {
             "color": "#2a3f5f"
            },
            "marker": {
             "line": {
              "color": "#E5ECF6",
              "width": 0.5
             },
             "pattern": {
              "fillmode": "overlay",
              "size": 10,
              "solidity": 0.2
             }
            },
            "type": "bar"
           }
          ],
          "barpolar": [
           {
            "marker": {
             "line": {
              "color": "#E5ECF6",
              "width": 0.5
             },
             "pattern": {
              "fillmode": "overlay",
              "size": 10,
              "solidity": 0.2
             }
            },
            "type": "barpolar"
           }
          ],
          "carpet": [
           {
            "aaxis": {
             "endlinecolor": "#2a3f5f",
             "gridcolor": "white",
             "linecolor": "white",
             "minorgridcolor": "white",
             "startlinecolor": "#2a3f5f"
            },
            "baxis": {
             "endlinecolor": "#2a3f5f",
             "gridcolor": "white",
             "linecolor": "white",
             "minorgridcolor": "white",
             "startlinecolor": "#2a3f5f"
            },
            "type": "carpet"
           }
          ],
          "choropleth": [
           {
            "colorbar": {
             "outlinewidth": 0,
             "ticks": ""
            },
            "type": "choropleth"
           }
          ],
          "contour": [
           {
            "colorbar": {
             "outlinewidth": 0,
             "ticks": ""
            },
            "colorscale": [
             [
              0,
              "#0d0887"
             ],
             [
              0.1111111111111111,
              "#46039f"
             ],
             [
              0.2222222222222222,
              "#7201a8"
             ],
             [
              0.3333333333333333,
              "#9c179e"
             ],
             [
              0.4444444444444444,
              "#bd3786"
             ],
             [
              0.5555555555555556,
              "#d8576b"
             ],
             [
              0.6666666666666666,
              "#ed7953"
             ],
             [
              0.7777777777777778,
              "#fb9f3a"
             ],
             [
              0.8888888888888888,
              "#fdca26"
             ],
             [
              1,
              "#f0f921"
             ]
            ],
            "type": "contour"
           }
          ],
          "contourcarpet": [
           {
            "colorbar": {
             "outlinewidth": 0,
             "ticks": ""
            },
            "type": "contourcarpet"
           }
          ],
          "heatmap": [
           {
            "colorbar": {
             "outlinewidth": 0,
             "ticks": ""
            },
            "colorscale": [
             [
              0,
              "#0d0887"
             ],
             [
              0.1111111111111111,
              "#46039f"
             ],
             [
              0.2222222222222222,
              "#7201a8"
             ],
             [
              0.3333333333333333,
              "#9c179e"
             ],
             [
              0.4444444444444444,
              "#bd3786"
             ],
             [
              0.5555555555555556,
              "#d8576b"
             ],
             [
              0.6666666666666666,
              "#ed7953"
             ],
             [
              0.7777777777777778,
              "#fb9f3a"
             ],
             [
              0.8888888888888888,
              "#fdca26"
             ],
             [
              1,
              "#f0f921"
             ]
            ],
            "type": "heatmap"
           }
          ],
          "heatmapgl": [
           {
            "colorbar": {
             "outlinewidth": 0,
             "ticks": ""
            },
            "colorscale": [
             [
              0,
              "#0d0887"
             ],
             [
              0.1111111111111111,
              "#46039f"
             ],
             [
              0.2222222222222222,
              "#7201a8"
             ],
             [
              0.3333333333333333,
              "#9c179e"
             ],
             [
              0.4444444444444444,
              "#bd3786"
             ],
             [
              0.5555555555555556,
              "#d8576b"
             ],
             [
              0.6666666666666666,
              "#ed7953"
             ],
             [
              0.7777777777777778,
              "#fb9f3a"
             ],
             [
              0.8888888888888888,
              "#fdca26"
             ],
             [
              1,
              "#f0f921"
             ]
            ],
            "type": "heatmapgl"
           }
          ],
          "histogram": [
           {
            "marker": {
             "pattern": {
              "fillmode": "overlay",
              "size": 10,
              "solidity": 0.2
             }
            },
            "type": "histogram"
           }
          ],
          "histogram2d": [
           {
            "colorbar": {
             "outlinewidth": 0,
             "ticks": ""
            },
            "colorscale": [
             [
              0,
              "#0d0887"
             ],
             [
              0.1111111111111111,
              "#46039f"
             ],
             [
              0.2222222222222222,
              "#7201a8"
             ],
             [
              0.3333333333333333,
              "#9c179e"
             ],
             [
              0.4444444444444444,
              "#bd3786"
             ],
             [
              0.5555555555555556,
              "#d8576b"
             ],
             [
              0.6666666666666666,
              "#ed7953"
             ],
             [
              0.7777777777777778,
              "#fb9f3a"
             ],
             [
              0.8888888888888888,
              "#fdca26"
             ],
             [
              1,
              "#f0f921"
             ]
            ],
            "type": "histogram2d"
           }
          ],
          "histogram2dcontour": [
           {
            "colorbar": {
             "outlinewidth": 0,
             "ticks": ""
            },
            "colorscale": [
             [
              0,
              "#0d0887"
             ],
             [
              0.1111111111111111,
              "#46039f"
             ],
             [
              0.2222222222222222,
              "#7201a8"
             ],
             [
              0.3333333333333333,
              "#9c179e"
             ],
             [
              0.4444444444444444,
              "#bd3786"
             ],
             [
              0.5555555555555556,
              "#d8576b"
             ],
             [
              0.6666666666666666,
              "#ed7953"
             ],
             [
              0.7777777777777778,
              "#fb9f3a"
             ],
             [
              0.8888888888888888,
              "#fdca26"
             ],
             [
              1,
              "#f0f921"
             ]
            ],
            "type": "histogram2dcontour"
           }
          ],
          "mesh3d": [
           {
            "colorbar": {
             "outlinewidth": 0,
             "ticks": ""
            },
            "type": "mesh3d"
           }
          ],
          "parcoords": [
           {
            "line": {
             "colorbar": {
              "outlinewidth": 0,
              "ticks": ""
             }
            },
            "type": "parcoords"
           }
          ],
          "pie": [
           {
            "automargin": true,
            "type": "pie"
           }
          ],
          "scatter": [
           {
            "fillpattern": {
             "fillmode": "overlay",
             "size": 10,
             "solidity": 0.2
            },
            "type": "scatter"
           }
          ],
          "scatter3d": [
           {
            "line": {
             "colorbar": {
              "outlinewidth": 0,
              "ticks": ""
             }
            },
            "marker": {
             "colorbar": {
              "outlinewidth": 0,
              "ticks": ""
             }
            },
            "type": "scatter3d"
           }
          ],
          "scattercarpet": [
           {
            "marker": {
             "colorbar": {
              "outlinewidth": 0,
              "ticks": ""
             }
            },
            "type": "scattercarpet"
           }
          ],
          "scattergeo": [
           {
            "marker": {
             "colorbar": {
              "outlinewidth": 0,
              "ticks": ""
             }
            },
            "type": "scattergeo"
           }
          ],
          "scattergl": [
           {
            "marker": {
             "colorbar": {
              "outlinewidth": 0,
              "ticks": ""
             }
            },
            "type": "scattergl"
           }
          ],
          "scattermapbox": [
           {
            "marker": {
             "colorbar": {
              "outlinewidth": 0,
              "ticks": ""
             }
            },
            "type": "scattermapbox"
           }
          ],
          "scatterpolar": [
           {
            "marker": {
             "colorbar": {
              "outlinewidth": 0,
              "ticks": ""
             }
            },
            "type": "scatterpolar"
           }
          ],
          "scatterpolargl": [
           {
            "marker": {
             "colorbar": {
              "outlinewidth": 0,
              "ticks": ""
             }
            },
            "type": "scatterpolargl"
           }
          ],
          "scatterternary": [
           {
            "marker": {
             "colorbar": {
              "outlinewidth": 0,
              "ticks": ""
             }
            },
            "type": "scatterternary"
           }
          ],
          "surface": [
           {
            "colorbar": {
             "outlinewidth": 0,
             "ticks": ""
            },
            "colorscale": [
             [
              0,
              "#0d0887"
             ],
             [
              0.1111111111111111,
              "#46039f"
             ],
             [
              0.2222222222222222,
              "#7201a8"
             ],
             [
              0.3333333333333333,
              "#9c179e"
             ],
             [
              0.4444444444444444,
              "#bd3786"
             ],
             [
              0.5555555555555556,
              "#d8576b"
             ],
             [
              0.6666666666666666,
              "#ed7953"
             ],
             [
              0.7777777777777778,
              "#fb9f3a"
             ],
             [
              0.8888888888888888,
              "#fdca26"
             ],
             [
              1,
              "#f0f921"
             ]
            ],
            "type": "surface"
           }
          ],
          "table": [
           {
            "cells": {
             "fill": {
              "color": "#EBF0F8"
             },
             "line": {
              "color": "white"
             }
            },
            "header": {
             "fill": {
              "color": "#C8D4E3"
             },
             "line": {
              "color": "white"
             }
            },
            "type": "table"
           }
          ]
         },
         "layout": {
          "annotationdefaults": {
           "arrowcolor": "#2a3f5f",
           "arrowhead": 0,
           "arrowwidth": 1
          },
          "autotypenumbers": "strict",
          "coloraxis": {
           "colorbar": {
            "outlinewidth": 0,
            "ticks": ""
           }
          },
          "colorscale": {
           "diverging": [
            [
             0,
             "#8e0152"
            ],
            [
             0.1,
             "#c51b7d"
            ],
            [
             0.2,
             "#de77ae"
            ],
            [
             0.3,
             "#f1b6da"
            ],
            [
             0.4,
             "#fde0ef"
            ],
            [
             0.5,
             "#f7f7f7"
            ],
            [
             0.6,
             "#e6f5d0"
            ],
            [
             0.7,
             "#b8e186"
            ],
            [
             0.8,
             "#7fbc41"
            ],
            [
             0.9,
             "#4d9221"
            ],
            [
             1,
             "#276419"
            ]
           ],
           "sequential": [
            [
             0,
             "#0d0887"
            ],
            [
             0.1111111111111111,
             "#46039f"
            ],
            [
             0.2222222222222222,
             "#7201a8"
            ],
            [
             0.3333333333333333,
             "#9c179e"
            ],
            [
             0.4444444444444444,
             "#bd3786"
            ],
            [
             0.5555555555555556,
             "#d8576b"
            ],
            [
             0.6666666666666666,
             "#ed7953"
            ],
            [
             0.7777777777777778,
             "#fb9f3a"
            ],
            [
             0.8888888888888888,
             "#fdca26"
            ],
            [
             1,
             "#f0f921"
            ]
           ],
           "sequentialminus": [
            [
             0,
             "#0d0887"
            ],
            [
             0.1111111111111111,
             "#46039f"
            ],
            [
             0.2222222222222222,
             "#7201a8"
            ],
            [
             0.3333333333333333,
             "#9c179e"
            ],
            [
             0.4444444444444444,
             "#bd3786"
            ],
            [
             0.5555555555555556,
             "#d8576b"
            ],
            [
             0.6666666666666666,
             "#ed7953"
            ],
            [
             0.7777777777777778,
             "#fb9f3a"
            ],
            [
             0.8888888888888888,
             "#fdca26"
            ],
            [
             1,
             "#f0f921"
            ]
           ]
          },
          "colorway": [
           "#636efa",
           "#EF553B",
           "#00cc96",
           "#ab63fa",
           "#FFA15A",
           "#19d3f3",
           "#FF6692",
           "#B6E880",
           "#FF97FF",
           "#FECB52"
          ],
          "font": {
           "color": "#2a3f5f"
          },
          "geo": {
           "bgcolor": "white",
           "lakecolor": "white",
           "landcolor": "#E5ECF6",
           "showlakes": true,
           "showland": true,
           "subunitcolor": "white"
          },
          "hoverlabel": {
           "align": "left"
          },
          "hovermode": "closest",
          "mapbox": {
           "style": "light"
          },
          "paper_bgcolor": "white",
          "plot_bgcolor": "#E5ECF6",
          "polar": {
           "angularaxis": {
            "gridcolor": "white",
            "linecolor": "white",
            "ticks": ""
           },
           "bgcolor": "#E5ECF6",
           "radialaxis": {
            "gridcolor": "white",
            "linecolor": "white",
            "ticks": ""
           }
          },
          "scene": {
           "xaxis": {
            "backgroundcolor": "#E5ECF6",
            "gridcolor": "white",
            "gridwidth": 2,
            "linecolor": "white",
            "showbackground": true,
            "ticks": "",
            "zerolinecolor": "white"
           },
           "yaxis": {
            "backgroundcolor": "#E5ECF6",
            "gridcolor": "white",
            "gridwidth": 2,
            "linecolor": "white",
            "showbackground": true,
            "ticks": "",
            "zerolinecolor": "white"
           },
           "zaxis": {
            "backgroundcolor": "#E5ECF6",
            "gridcolor": "white",
            "gridwidth": 2,
            "linecolor": "white",
            "showbackground": true,
            "ticks": "",
            "zerolinecolor": "white"
           }
          },
          "shapedefaults": {
           "line": {
            "color": "#2a3f5f"
           }
          },
          "ternary": {
           "aaxis": {
            "gridcolor": "white",
            "linecolor": "white",
            "ticks": ""
           },
           "baxis": {
            "gridcolor": "white",
            "linecolor": "white",
            "ticks": ""
           },
           "bgcolor": "#E5ECF6",
           "caxis": {
            "gridcolor": "white",
            "linecolor": "white",
            "ticks": ""
           }
          },
          "title": {
           "x": 0.05
          },
          "xaxis": {
           "automargin": true,
           "gridcolor": "white",
           "linecolor": "white",
           "ticks": "",
           "title": {
            "standoff": 15
           },
           "zerolinecolor": "white",
           "zerolinewidth": 2
          },
          "yaxis": {
           "automargin": true,
           "gridcolor": "white",
           "linecolor": "white",
           "ticks": "",
           "title": {
            "standoff": 15
           },
           "zerolinecolor": "white",
           "zerolinewidth": 2
          }
         }
        },
        "xaxis": {
         "anchor": "y",
         "domain": [
          0,
          0.2888888888888889
         ]
        },
        "xaxis2": {
         "anchor": "y2",
         "domain": [
          0.35555555555555557,
          0.6444444444444445
         ]
        },
        "xaxis3": {
         "anchor": "y3",
         "domain": [
          0.7111111111111111,
          1
         ]
        },
        "yaxis": {
         "anchor": "x",
         "domain": [
          0,
          1
         ]
        },
        "yaxis2": {
         "anchor": "x2",
         "domain": [
          0,
          1
         ]
        },
        "yaxis3": {
         "anchor": "x3",
         "domain": [
          0,
          1
         ]
        }
       }
      }
     },
     "metadata": {},
     "output_type": "display_data"
    },
    {
     "name": "stdout",
     "output_type": "stream",
     "text": [
      "satellite\n"
     ]
    },
    {
     "data": {
      "application/vnd.plotly.v1+json": {
       "config": {
        "plotlyServerURL": "https://plot.ly"
       },
       "data": [
        {
         "hoverinfo": [
          "all"
         ],
         "mode": "markers",
         "name": "loss",
         "type": "scatter",
         "x": [
          "3_8",
          "3_8",
          "3_8",
          "3_16",
          "3_16",
          "3_16"
         ],
         "xaxis": "x",
         "y": [
          0.18057976745307222,
          0.1782667337399552,
          0.2351452053196063,
          0.9497497909165731,
          0.8750708175333076,
          0.3549129857094072
         ],
         "yaxis": "y"
        },
        {
         "hoverinfo": [
          "all"
         ],
         "mode": "markers",
         "name": "f1",
         "type": "scatter",
         "x": [
          "3_8",
          "3_8",
          "3_8",
          "3_16",
          "3_16",
          "3_16"
         ],
         "xaxis": "x2",
         "y": [
          0.9589841050449205,
          0.9630901889305619,
          0.9418119658119658,
          0.8919368905097915,
          0.8891207436213602,
          0.9070102035753858
         ],
         "yaxis": "y2"
        },
        {
         "hoverinfo": [
          "all"
         ],
         "mode": "markers",
         "name": "time",
         "type": "scatter",
         "x": [
          "3_8",
          "3_8",
          "3_8",
          "3_16",
          "3_16",
          "3_16"
         ],
         "xaxis": "x3",
         "y": [
          1732.0580325126648,
          1686.4910826683044,
          979.6946675777435,
          1906.7897236347198,
          3391.5987606048584,
          1912.2434272766113
         ],
         "yaxis": "y3"
        }
       ],
       "layout": {
        "template": {
         "data": {
          "bar": [
           {
            "error_x": {
             "color": "#2a3f5f"
            },
            "error_y": {
             "color": "#2a3f5f"
            },
            "marker": {
             "line": {
              "color": "#E5ECF6",
              "width": 0.5
             },
             "pattern": {
              "fillmode": "overlay",
              "size": 10,
              "solidity": 0.2
             }
            },
            "type": "bar"
           }
          ],
          "barpolar": [
           {
            "marker": {
             "line": {
              "color": "#E5ECF6",
              "width": 0.5
             },
             "pattern": {
              "fillmode": "overlay",
              "size": 10,
              "solidity": 0.2
             }
            },
            "type": "barpolar"
           }
          ],
          "carpet": [
           {
            "aaxis": {
             "endlinecolor": "#2a3f5f",
             "gridcolor": "white",
             "linecolor": "white",
             "minorgridcolor": "white",
             "startlinecolor": "#2a3f5f"
            },
            "baxis": {
             "endlinecolor": "#2a3f5f",
             "gridcolor": "white",
             "linecolor": "white",
             "minorgridcolor": "white",
             "startlinecolor": "#2a3f5f"
            },
            "type": "carpet"
           }
          ],
          "choropleth": [
           {
            "colorbar": {
             "outlinewidth": 0,
             "ticks": ""
            },
            "type": "choropleth"
           }
          ],
          "contour": [
           {
            "colorbar": {
             "outlinewidth": 0,
             "ticks": ""
            },
            "colorscale": [
             [
              0,
              "#0d0887"
             ],
             [
              0.1111111111111111,
              "#46039f"
             ],
             [
              0.2222222222222222,
              "#7201a8"
             ],
             [
              0.3333333333333333,
              "#9c179e"
             ],
             [
              0.4444444444444444,
              "#bd3786"
             ],
             [
              0.5555555555555556,
              "#d8576b"
             ],
             [
              0.6666666666666666,
              "#ed7953"
             ],
             [
              0.7777777777777778,
              "#fb9f3a"
             ],
             [
              0.8888888888888888,
              "#fdca26"
             ],
             [
              1,
              "#f0f921"
             ]
            ],
            "type": "contour"
           }
          ],
          "contourcarpet": [
           {
            "colorbar": {
             "outlinewidth": 0,
             "ticks": ""
            },
            "type": "contourcarpet"
           }
          ],
          "heatmap": [
           {
            "colorbar": {
             "outlinewidth": 0,
             "ticks": ""
            },
            "colorscale": [
             [
              0,
              "#0d0887"
             ],
             [
              0.1111111111111111,
              "#46039f"
             ],
             [
              0.2222222222222222,
              "#7201a8"
             ],
             [
              0.3333333333333333,
              "#9c179e"
             ],
             [
              0.4444444444444444,
              "#bd3786"
             ],
             [
              0.5555555555555556,
              "#d8576b"
             ],
             [
              0.6666666666666666,
              "#ed7953"
             ],
             [
              0.7777777777777778,
              "#fb9f3a"
             ],
             [
              0.8888888888888888,
              "#fdca26"
             ],
             [
              1,
              "#f0f921"
             ]
            ],
            "type": "heatmap"
           }
          ],
          "heatmapgl": [
           {
            "colorbar": {
             "outlinewidth": 0,
             "ticks": ""
            },
            "colorscale": [
             [
              0,
              "#0d0887"
             ],
             [
              0.1111111111111111,
              "#46039f"
             ],
             [
              0.2222222222222222,
              "#7201a8"
             ],
             [
              0.3333333333333333,
              "#9c179e"
             ],
             [
              0.4444444444444444,
              "#bd3786"
             ],
             [
              0.5555555555555556,
              "#d8576b"
             ],
             [
              0.6666666666666666,
              "#ed7953"
             ],
             [
              0.7777777777777778,
              "#fb9f3a"
             ],
             [
              0.8888888888888888,
              "#fdca26"
             ],
             [
              1,
              "#f0f921"
             ]
            ],
            "type": "heatmapgl"
           }
          ],
          "histogram": [
           {
            "marker": {
             "pattern": {
              "fillmode": "overlay",
              "size": 10,
              "solidity": 0.2
             }
            },
            "type": "histogram"
           }
          ],
          "histogram2d": [
           {
            "colorbar": {
             "outlinewidth": 0,
             "ticks": ""
            },
            "colorscale": [
             [
              0,
              "#0d0887"
             ],
             [
              0.1111111111111111,
              "#46039f"
             ],
             [
              0.2222222222222222,
              "#7201a8"
             ],
             [
              0.3333333333333333,
              "#9c179e"
             ],
             [
              0.4444444444444444,
              "#bd3786"
             ],
             [
              0.5555555555555556,
              "#d8576b"
             ],
             [
              0.6666666666666666,
              "#ed7953"
             ],
             [
              0.7777777777777778,
              "#fb9f3a"
             ],
             [
              0.8888888888888888,
              "#fdca26"
             ],
             [
              1,
              "#f0f921"
             ]
            ],
            "type": "histogram2d"
           }
          ],
          "histogram2dcontour": [
           {
            "colorbar": {
             "outlinewidth": 0,
             "ticks": ""
            },
            "colorscale": [
             [
              0,
              "#0d0887"
             ],
             [
              0.1111111111111111,
              "#46039f"
             ],
             [
              0.2222222222222222,
              "#7201a8"
             ],
             [
              0.3333333333333333,
              "#9c179e"
             ],
             [
              0.4444444444444444,
              "#bd3786"
             ],
             [
              0.5555555555555556,
              "#d8576b"
             ],
             [
              0.6666666666666666,
              "#ed7953"
             ],
             [
              0.7777777777777778,
              "#fb9f3a"
             ],
             [
              0.8888888888888888,
              "#fdca26"
             ],
             [
              1,
              "#f0f921"
             ]
            ],
            "type": "histogram2dcontour"
           }
          ],
          "mesh3d": [
           {
            "colorbar": {
             "outlinewidth": 0,
             "ticks": ""
            },
            "type": "mesh3d"
           }
          ],
          "parcoords": [
           {
            "line": {
             "colorbar": {
              "outlinewidth": 0,
              "ticks": ""
             }
            },
            "type": "parcoords"
           }
          ],
          "pie": [
           {
            "automargin": true,
            "type": "pie"
           }
          ],
          "scatter": [
           {
            "fillpattern": {
             "fillmode": "overlay",
             "size": 10,
             "solidity": 0.2
            },
            "type": "scatter"
           }
          ],
          "scatter3d": [
           {
            "line": {
             "colorbar": {
              "outlinewidth": 0,
              "ticks": ""
             }
            },
            "marker": {
             "colorbar": {
              "outlinewidth": 0,
              "ticks": ""
             }
            },
            "type": "scatter3d"
           }
          ],
          "scattercarpet": [
           {
            "marker": {
             "colorbar": {
              "outlinewidth": 0,
              "ticks": ""
             }
            },
            "type": "scattercarpet"
           }
          ],
          "scattergeo": [
           {
            "marker": {
             "colorbar": {
              "outlinewidth": 0,
              "ticks": ""
             }
            },
            "type": "scattergeo"
           }
          ],
          "scattergl": [
           {
            "marker": {
             "colorbar": {
              "outlinewidth": 0,
              "ticks": ""
             }
            },
            "type": "scattergl"
           }
          ],
          "scattermapbox": [
           {
            "marker": {
             "colorbar": {
              "outlinewidth": 0,
              "ticks": ""
             }
            },
            "type": "scattermapbox"
           }
          ],
          "scatterpolar": [
           {
            "marker": {
             "colorbar": {
              "outlinewidth": 0,
              "ticks": ""
             }
            },
            "type": "scatterpolar"
           }
          ],
          "scatterpolargl": [
           {
            "marker": {
             "colorbar": {
              "outlinewidth": 0,
              "ticks": ""
             }
            },
            "type": "scatterpolargl"
           }
          ],
          "scatterternary": [
           {
            "marker": {
             "colorbar": {
              "outlinewidth": 0,
              "ticks": ""
             }
            },
            "type": "scatterternary"
           }
          ],
          "surface": [
           {
            "colorbar": {
             "outlinewidth": 0,
             "ticks": ""
            },
            "colorscale": [
             [
              0,
              "#0d0887"
             ],
             [
              0.1111111111111111,
              "#46039f"
             ],
             [
              0.2222222222222222,
              "#7201a8"
             ],
             [
              0.3333333333333333,
              "#9c179e"
             ],
             [
              0.4444444444444444,
              "#bd3786"
             ],
             [
              0.5555555555555556,
              "#d8576b"
             ],
             [
              0.6666666666666666,
              "#ed7953"
             ],
             [
              0.7777777777777778,
              "#fb9f3a"
             ],
             [
              0.8888888888888888,
              "#fdca26"
             ],
             [
              1,
              "#f0f921"
             ]
            ],
            "type": "surface"
           }
          ],
          "table": [
           {
            "cells": {
             "fill": {
              "color": "#EBF0F8"
             },
             "line": {
              "color": "white"
             }
            },
            "header": {
             "fill": {
              "color": "#C8D4E3"
             },
             "line": {
              "color": "white"
             }
            },
            "type": "table"
           }
          ]
         },
         "layout": {
          "annotationdefaults": {
           "arrowcolor": "#2a3f5f",
           "arrowhead": 0,
           "arrowwidth": 1
          },
          "autotypenumbers": "strict",
          "coloraxis": {
           "colorbar": {
            "outlinewidth": 0,
            "ticks": ""
           }
          },
          "colorscale": {
           "diverging": [
            [
             0,
             "#8e0152"
            ],
            [
             0.1,
             "#c51b7d"
            ],
            [
             0.2,
             "#de77ae"
            ],
            [
             0.3,
             "#f1b6da"
            ],
            [
             0.4,
             "#fde0ef"
            ],
            [
             0.5,
             "#f7f7f7"
            ],
            [
             0.6,
             "#e6f5d0"
            ],
            [
             0.7,
             "#b8e186"
            ],
            [
             0.8,
             "#7fbc41"
            ],
            [
             0.9,
             "#4d9221"
            ],
            [
             1,
             "#276419"
            ]
           ],
           "sequential": [
            [
             0,
             "#0d0887"
            ],
            [
             0.1111111111111111,
             "#46039f"
            ],
            [
             0.2222222222222222,
             "#7201a8"
            ],
            [
             0.3333333333333333,
             "#9c179e"
            ],
            [
             0.4444444444444444,
             "#bd3786"
            ],
            [
             0.5555555555555556,
             "#d8576b"
            ],
            [
             0.6666666666666666,
             "#ed7953"
            ],
            [
             0.7777777777777778,
             "#fb9f3a"
            ],
            [
             0.8888888888888888,
             "#fdca26"
            ],
            [
             1,
             "#f0f921"
            ]
           ],
           "sequentialminus": [
            [
             0,
             "#0d0887"
            ],
            [
             0.1111111111111111,
             "#46039f"
            ],
            [
             0.2222222222222222,
             "#7201a8"
            ],
            [
             0.3333333333333333,
             "#9c179e"
            ],
            [
             0.4444444444444444,
             "#bd3786"
            ],
            [
             0.5555555555555556,
             "#d8576b"
            ],
            [
             0.6666666666666666,
             "#ed7953"
            ],
            [
             0.7777777777777778,
             "#fb9f3a"
            ],
            [
             0.8888888888888888,
             "#fdca26"
            ],
            [
             1,
             "#f0f921"
            ]
           ]
          },
          "colorway": [
           "#636efa",
           "#EF553B",
           "#00cc96",
           "#ab63fa",
           "#FFA15A",
           "#19d3f3",
           "#FF6692",
           "#B6E880",
           "#FF97FF",
           "#FECB52"
          ],
          "font": {
           "color": "#2a3f5f"
          },
          "geo": {
           "bgcolor": "white",
           "lakecolor": "white",
           "landcolor": "#E5ECF6",
           "showlakes": true,
           "showland": true,
           "subunitcolor": "white"
          },
          "hoverlabel": {
           "align": "left"
          },
          "hovermode": "closest",
          "mapbox": {
           "style": "light"
          },
          "paper_bgcolor": "white",
          "plot_bgcolor": "#E5ECF6",
          "polar": {
           "angularaxis": {
            "gridcolor": "white",
            "linecolor": "white",
            "ticks": ""
           },
           "bgcolor": "#E5ECF6",
           "radialaxis": {
            "gridcolor": "white",
            "linecolor": "white",
            "ticks": ""
           }
          },
          "scene": {
           "xaxis": {
            "backgroundcolor": "#E5ECF6",
            "gridcolor": "white",
            "gridwidth": 2,
            "linecolor": "white",
            "showbackground": true,
            "ticks": "",
            "zerolinecolor": "white"
           },
           "yaxis": {
            "backgroundcolor": "#E5ECF6",
            "gridcolor": "white",
            "gridwidth": 2,
            "linecolor": "white",
            "showbackground": true,
            "ticks": "",
            "zerolinecolor": "white"
           },
           "zaxis": {
            "backgroundcolor": "#E5ECF6",
            "gridcolor": "white",
            "gridwidth": 2,
            "linecolor": "white",
            "showbackground": true,
            "ticks": "",
            "zerolinecolor": "white"
           }
          },
          "shapedefaults": {
           "line": {
            "color": "#2a3f5f"
           }
          },
          "ternary": {
           "aaxis": {
            "gridcolor": "white",
            "linecolor": "white",
            "ticks": ""
           },
           "baxis": {
            "gridcolor": "white",
            "linecolor": "white",
            "ticks": ""
           },
           "bgcolor": "#E5ECF6",
           "caxis": {
            "gridcolor": "white",
            "linecolor": "white",
            "ticks": ""
           }
          },
          "title": {
           "x": 0.05
          },
          "xaxis": {
           "automargin": true,
           "gridcolor": "white",
           "linecolor": "white",
           "ticks": "",
           "title": {
            "standoff": 15
           },
           "zerolinecolor": "white",
           "zerolinewidth": 2
          },
          "yaxis": {
           "automargin": true,
           "gridcolor": "white",
           "linecolor": "white",
           "ticks": "",
           "title": {
            "standoff": 15
           },
           "zerolinecolor": "white",
           "zerolinewidth": 2
          }
         }
        },
        "xaxis": {
         "anchor": "y",
         "domain": [
          0,
          0.2888888888888889
         ]
        },
        "xaxis2": {
         "anchor": "y2",
         "domain": [
          0.35555555555555557,
          0.6444444444444445
         ]
        },
        "xaxis3": {
         "anchor": "y3",
         "domain": [
          0.7111111111111111,
          1
         ]
        },
        "yaxis": {
         "anchor": "x",
         "domain": [
          0,
          1
         ]
        },
        "yaxis2": {
         "anchor": "x2",
         "domain": [
          0,
          1
         ]
        },
        "yaxis3": {
         "anchor": "x3",
         "domain": [
          0,
          1
         ]
        }
       }
      }
     },
     "metadata": {},
     "output_type": "display_data"
    },
    {
     "name": "stdout",
     "output_type": "stream",
     "text": [
      "rover\n"
     ]
    },
    {
     "data": {
      "application/vnd.plotly.v1+json": {
       "config": {
        "plotlyServerURL": "https://plot.ly"
       },
       "data": [
        {
         "hoverinfo": [
          "all"
         ],
         "mode": "markers",
         "name": "loss",
         "type": "scatter",
         "x": [
          "3_8",
          "3_8",
          "3_8",
          "3_16",
          "3_16",
          "3_16"
         ],
         "xaxis": "x",
         "y": [
          0.13237458253543594,
          0.15589543939769857,
          0.15708074019693932,
          0.4423306888309078,
          0.26003370338992043,
          0.6795422082519315
         ],
         "yaxis": "y"
        },
        {
         "hoverinfo": [
          "all"
         ],
         "mode": "markers",
         "name": "f1",
         "type": "scatter",
         "x": [
          "3_8",
          "3_8",
          "3_8",
          "3_16",
          "3_16",
          "3_16"
         ],
         "xaxis": "x2",
         "y": [
          0.9925617069466965,
          0.9696786236819535,
          0.9738914004165186,
          0.9230991825218838,
          0.9410179127153324,
          0.929069710717596
         ],
         "yaxis": "y2"
        },
        {
         "hoverinfo": [
          "all"
         ],
         "mode": "markers",
         "name": "time",
         "type": "scatter",
         "x": [
          "3_8",
          "3_8",
          "3_8",
          "3_16",
          "3_16",
          "3_16"
         ],
         "xaxis": "x3",
         "y": [
          1595.137635231018,
          1130.3743259906769,
          1040.3889808654785,
          4268.634036540985,
          4256.4997301101685,
          2745.733003616333
         ],
         "yaxis": "y3"
        }
       ],
       "layout": {
        "template": {
         "data": {
          "bar": [
           {
            "error_x": {
             "color": "#2a3f5f"
            },
            "error_y": {
             "color": "#2a3f5f"
            },
            "marker": {
             "line": {
              "color": "#E5ECF6",
              "width": 0.5
             },
             "pattern": {
              "fillmode": "overlay",
              "size": 10,
              "solidity": 0.2
             }
            },
            "type": "bar"
           }
          ],
          "barpolar": [
           {
            "marker": {
             "line": {
              "color": "#E5ECF6",
              "width": 0.5
             },
             "pattern": {
              "fillmode": "overlay",
              "size": 10,
              "solidity": 0.2
             }
            },
            "type": "barpolar"
           }
          ],
          "carpet": [
           {
            "aaxis": {
             "endlinecolor": "#2a3f5f",
             "gridcolor": "white",
             "linecolor": "white",
             "minorgridcolor": "white",
             "startlinecolor": "#2a3f5f"
            },
            "baxis": {
             "endlinecolor": "#2a3f5f",
             "gridcolor": "white",
             "linecolor": "white",
             "minorgridcolor": "white",
             "startlinecolor": "#2a3f5f"
            },
            "type": "carpet"
           }
          ],
          "choropleth": [
           {
            "colorbar": {
             "outlinewidth": 0,
             "ticks": ""
            },
            "type": "choropleth"
           }
          ],
          "contour": [
           {
            "colorbar": {
             "outlinewidth": 0,
             "ticks": ""
            },
            "colorscale": [
             [
              0,
              "#0d0887"
             ],
             [
              0.1111111111111111,
              "#46039f"
             ],
             [
              0.2222222222222222,
              "#7201a8"
             ],
             [
              0.3333333333333333,
              "#9c179e"
             ],
             [
              0.4444444444444444,
              "#bd3786"
             ],
             [
              0.5555555555555556,
              "#d8576b"
             ],
             [
              0.6666666666666666,
              "#ed7953"
             ],
             [
              0.7777777777777778,
              "#fb9f3a"
             ],
             [
              0.8888888888888888,
              "#fdca26"
             ],
             [
              1,
              "#f0f921"
             ]
            ],
            "type": "contour"
           }
          ],
          "contourcarpet": [
           {
            "colorbar": {
             "outlinewidth": 0,
             "ticks": ""
            },
            "type": "contourcarpet"
           }
          ],
          "heatmap": [
           {
            "colorbar": {
             "outlinewidth": 0,
             "ticks": ""
            },
            "colorscale": [
             [
              0,
              "#0d0887"
             ],
             [
              0.1111111111111111,
              "#46039f"
             ],
             [
              0.2222222222222222,
              "#7201a8"
             ],
             [
              0.3333333333333333,
              "#9c179e"
             ],
             [
              0.4444444444444444,
              "#bd3786"
             ],
             [
              0.5555555555555556,
              "#d8576b"
             ],
             [
              0.6666666666666666,
              "#ed7953"
             ],
             [
              0.7777777777777778,
              "#fb9f3a"
             ],
             [
              0.8888888888888888,
              "#fdca26"
             ],
             [
              1,
              "#f0f921"
             ]
            ],
            "type": "heatmap"
           }
          ],
          "heatmapgl": [
           {
            "colorbar": {
             "outlinewidth": 0,
             "ticks": ""
            },
            "colorscale": [
             [
              0,
              "#0d0887"
             ],
             [
              0.1111111111111111,
              "#46039f"
             ],
             [
              0.2222222222222222,
              "#7201a8"
             ],
             [
              0.3333333333333333,
              "#9c179e"
             ],
             [
              0.4444444444444444,
              "#bd3786"
             ],
             [
              0.5555555555555556,
              "#d8576b"
             ],
             [
              0.6666666666666666,
              "#ed7953"
             ],
             [
              0.7777777777777778,
              "#fb9f3a"
             ],
             [
              0.8888888888888888,
              "#fdca26"
             ],
             [
              1,
              "#f0f921"
             ]
            ],
            "type": "heatmapgl"
           }
          ],
          "histogram": [
           {
            "marker": {
             "pattern": {
              "fillmode": "overlay",
              "size": 10,
              "solidity": 0.2
             }
            },
            "type": "histogram"
           }
          ],
          "histogram2d": [
           {
            "colorbar": {
             "outlinewidth": 0,
             "ticks": ""
            },
            "colorscale": [
             [
              0,
              "#0d0887"
             ],
             [
              0.1111111111111111,
              "#46039f"
             ],
             [
              0.2222222222222222,
              "#7201a8"
             ],
             [
              0.3333333333333333,
              "#9c179e"
             ],
             [
              0.4444444444444444,
              "#bd3786"
             ],
             [
              0.5555555555555556,
              "#d8576b"
             ],
             [
              0.6666666666666666,
              "#ed7953"
             ],
             [
              0.7777777777777778,
              "#fb9f3a"
             ],
             [
              0.8888888888888888,
              "#fdca26"
             ],
             [
              1,
              "#f0f921"
             ]
            ],
            "type": "histogram2d"
           }
          ],
          "histogram2dcontour": [
           {
            "colorbar": {
             "outlinewidth": 0,
             "ticks": ""
            },
            "colorscale": [
             [
              0,
              "#0d0887"
             ],
             [
              0.1111111111111111,
              "#46039f"
             ],
             [
              0.2222222222222222,
              "#7201a8"
             ],
             [
              0.3333333333333333,
              "#9c179e"
             ],
             [
              0.4444444444444444,
              "#bd3786"
             ],
             [
              0.5555555555555556,
              "#d8576b"
             ],
             [
              0.6666666666666666,
              "#ed7953"
             ],
             [
              0.7777777777777778,
              "#fb9f3a"
             ],
             [
              0.8888888888888888,
              "#fdca26"
             ],
             [
              1,
              "#f0f921"
             ]
            ],
            "type": "histogram2dcontour"
           }
          ],
          "mesh3d": [
           {
            "colorbar": {
             "outlinewidth": 0,
             "ticks": ""
            },
            "type": "mesh3d"
           }
          ],
          "parcoords": [
           {
            "line": {
             "colorbar": {
              "outlinewidth": 0,
              "ticks": ""
             }
            },
            "type": "parcoords"
           }
          ],
          "pie": [
           {
            "automargin": true,
            "type": "pie"
           }
          ],
          "scatter": [
           {
            "fillpattern": {
             "fillmode": "overlay",
             "size": 10,
             "solidity": 0.2
            },
            "type": "scatter"
           }
          ],
          "scatter3d": [
           {
            "line": {
             "colorbar": {
              "outlinewidth": 0,
              "ticks": ""
             }
            },
            "marker": {
             "colorbar": {
              "outlinewidth": 0,
              "ticks": ""
             }
            },
            "type": "scatter3d"
           }
          ],
          "scattercarpet": [
           {
            "marker": {
             "colorbar": {
              "outlinewidth": 0,
              "ticks": ""
             }
            },
            "type": "scattercarpet"
           }
          ],
          "scattergeo": [
           {
            "marker": {
             "colorbar": {
              "outlinewidth": 0,
              "ticks": ""
             }
            },
            "type": "scattergeo"
           }
          ],
          "scattergl": [
           {
            "marker": {
             "colorbar": {
              "outlinewidth": 0,
              "ticks": ""
             }
            },
            "type": "scattergl"
           }
          ],
          "scattermapbox": [
           {
            "marker": {
             "colorbar": {
              "outlinewidth": 0,
              "ticks": ""
             }
            },
            "type": "scattermapbox"
           }
          ],
          "scatterpolar": [
           {
            "marker": {
             "colorbar": {
              "outlinewidth": 0,
              "ticks": ""
             }
            },
            "type": "scatterpolar"
           }
          ],
          "scatterpolargl": [
           {
            "marker": {
             "colorbar": {
              "outlinewidth": 0,
              "ticks": ""
             }
            },
            "type": "scatterpolargl"
           }
          ],
          "scatterternary": [
           {
            "marker": {
             "colorbar": {
              "outlinewidth": 0,
              "ticks": ""
             }
            },
            "type": "scatterternary"
           }
          ],
          "surface": [
           {
            "colorbar": {
             "outlinewidth": 0,
             "ticks": ""
            },
            "colorscale": [
             [
              0,
              "#0d0887"
             ],
             [
              0.1111111111111111,
              "#46039f"
             ],
             [
              0.2222222222222222,
              "#7201a8"
             ],
             [
              0.3333333333333333,
              "#9c179e"
             ],
             [
              0.4444444444444444,
              "#bd3786"
             ],
             [
              0.5555555555555556,
              "#d8576b"
             ],
             [
              0.6666666666666666,
              "#ed7953"
             ],
             [
              0.7777777777777778,
              "#fb9f3a"
             ],
             [
              0.8888888888888888,
              "#fdca26"
             ],
             [
              1,
              "#f0f921"
             ]
            ],
            "type": "surface"
           }
          ],
          "table": [
           {
            "cells": {
             "fill": {
              "color": "#EBF0F8"
             },
             "line": {
              "color": "white"
             }
            },
            "header": {
             "fill": {
              "color": "#C8D4E3"
             },
             "line": {
              "color": "white"
             }
            },
            "type": "table"
           }
          ]
         },
         "layout": {
          "annotationdefaults": {
           "arrowcolor": "#2a3f5f",
           "arrowhead": 0,
           "arrowwidth": 1
          },
          "autotypenumbers": "strict",
          "coloraxis": {
           "colorbar": {
            "outlinewidth": 0,
            "ticks": ""
           }
          },
          "colorscale": {
           "diverging": [
            [
             0,
             "#8e0152"
            ],
            [
             0.1,
             "#c51b7d"
            ],
            [
             0.2,
             "#de77ae"
            ],
            [
             0.3,
             "#f1b6da"
            ],
            [
             0.4,
             "#fde0ef"
            ],
            [
             0.5,
             "#f7f7f7"
            ],
            [
             0.6,
             "#e6f5d0"
            ],
            [
             0.7,
             "#b8e186"
            ],
            [
             0.8,
             "#7fbc41"
            ],
            [
             0.9,
             "#4d9221"
            ],
            [
             1,
             "#276419"
            ]
           ],
           "sequential": [
            [
             0,
             "#0d0887"
            ],
            [
             0.1111111111111111,
             "#46039f"
            ],
            [
             0.2222222222222222,
             "#7201a8"
            ],
            [
             0.3333333333333333,
             "#9c179e"
            ],
            [
             0.4444444444444444,
             "#bd3786"
            ],
            [
             0.5555555555555556,
             "#d8576b"
            ],
            [
             0.6666666666666666,
             "#ed7953"
            ],
            [
             0.7777777777777778,
             "#fb9f3a"
            ],
            [
             0.8888888888888888,
             "#fdca26"
            ],
            [
             1,
             "#f0f921"
            ]
           ],
           "sequentialminus": [
            [
             0,
             "#0d0887"
            ],
            [
             0.1111111111111111,
             "#46039f"
            ],
            [
             0.2222222222222222,
             "#7201a8"
            ],
            [
             0.3333333333333333,
             "#9c179e"
            ],
            [
             0.4444444444444444,
             "#bd3786"
            ],
            [
             0.5555555555555556,
             "#d8576b"
            ],
            [
             0.6666666666666666,
             "#ed7953"
            ],
            [
             0.7777777777777778,
             "#fb9f3a"
            ],
            [
             0.8888888888888888,
             "#fdca26"
            ],
            [
             1,
             "#f0f921"
            ]
           ]
          },
          "colorway": [
           "#636efa",
           "#EF553B",
           "#00cc96",
           "#ab63fa",
           "#FFA15A",
           "#19d3f3",
           "#FF6692",
           "#B6E880",
           "#FF97FF",
           "#FECB52"
          ],
          "font": {
           "color": "#2a3f5f"
          },
          "geo": {
           "bgcolor": "white",
           "lakecolor": "white",
           "landcolor": "#E5ECF6",
           "showlakes": true,
           "showland": true,
           "subunitcolor": "white"
          },
          "hoverlabel": {
           "align": "left"
          },
          "hovermode": "closest",
          "mapbox": {
           "style": "light"
          },
          "paper_bgcolor": "white",
          "plot_bgcolor": "#E5ECF6",
          "polar": {
           "angularaxis": {
            "gridcolor": "white",
            "linecolor": "white",
            "ticks": ""
           },
           "bgcolor": "#E5ECF6",
           "radialaxis": {
            "gridcolor": "white",
            "linecolor": "white",
            "ticks": ""
           }
          },
          "scene": {
           "xaxis": {
            "backgroundcolor": "#E5ECF6",
            "gridcolor": "white",
            "gridwidth": 2,
            "linecolor": "white",
            "showbackground": true,
            "ticks": "",
            "zerolinecolor": "white"
           },
           "yaxis": {
            "backgroundcolor": "#E5ECF6",
            "gridcolor": "white",
            "gridwidth": 2,
            "linecolor": "white",
            "showbackground": true,
            "ticks": "",
            "zerolinecolor": "white"
           },
           "zaxis": {
            "backgroundcolor": "#E5ECF6",
            "gridcolor": "white",
            "gridwidth": 2,
            "linecolor": "white",
            "showbackground": true,
            "ticks": "",
            "zerolinecolor": "white"
           }
          },
          "shapedefaults": {
           "line": {
            "color": "#2a3f5f"
           }
          },
          "ternary": {
           "aaxis": {
            "gridcolor": "white",
            "linecolor": "white",
            "ticks": ""
           },
           "baxis": {
            "gridcolor": "white",
            "linecolor": "white",
            "ticks": ""
           },
           "bgcolor": "#E5ECF6",
           "caxis": {
            "gridcolor": "white",
            "linecolor": "white",
            "ticks": ""
           }
          },
          "title": {
           "x": 0.05
          },
          "xaxis": {
           "automargin": true,
           "gridcolor": "white",
           "linecolor": "white",
           "ticks": "",
           "title": {
            "standoff": 15
           },
           "zerolinecolor": "white",
           "zerolinewidth": 2
          },
          "yaxis": {
           "automargin": true,
           "gridcolor": "white",
           "linecolor": "white",
           "ticks": "",
           "title": {
            "standoff": 15
           },
           "zerolinecolor": "white",
           "zerolinewidth": 2
          }
         }
        },
        "xaxis": {
         "anchor": "y",
         "domain": [
          0,
          0.2888888888888889
         ]
        },
        "xaxis2": {
         "anchor": "y2",
         "domain": [
          0.35555555555555557,
          0.6444444444444445
         ]
        },
        "xaxis3": {
         "anchor": "y3",
         "domain": [
          0.7111111111111111,
          1
         ]
        },
        "yaxis": {
         "anchor": "x",
         "domain": [
          0,
          1
         ]
        },
        "yaxis2": {
         "anchor": "x2",
         "domain": [
          0,
          1
         ]
        },
        "yaxis3": {
         "anchor": "x3",
         "domain": [
          0,
          1
         ]
        }
       }
      }
     },
     "metadata": {},
     "output_type": "display_data"
    }
   ],
   "source": [
    "visualise_train()"
   ]
  },
  {
   "cell_type": "markdown",
   "metadata": {},
   "source": [
    "# Plan length plots"
   ]
  },
  {
   "cell_type": "code",
   "execution_count": 3,
   "metadata": {},
   "outputs": [
    {
     "name": "stdout",
     "output_type": "stream",
     "text": [
      "blocksworld\n"
     ]
    },
    {
     "data": {
      "application/vnd.plotly.v1+json": {
       "config": {
        "plotlyServerURL": "https://plot.ly"
       },
       "data": [
        {
         "error_y": {
          "array": [
           0,
           0,
           0,
           0,
           0,
           1.0954451150103321,
           0,
           0,
           0,
           0,
           0,
           0.8944271909999153,
           1.0954451150103328,
           2.6076809620810604,
           0.8944271909999153,
           0.8944271909999153,
           0,
           1.0954451150103328,
           0.8944271909999157,
           0,
           0.8944271909999163,
           0,
           0,
           1.6733200530681502,
           1.7888543819998322,
           1.7888543819998315,
           1.0954451150103304,
           0,
           0.8944271909999163,
           2.2803508501982757
          ]
         },
         "hovertemplate": "solver=baseline<br>type=bounds<br>difficulty=0<br>problem=%{x}<br>plan_length_mean=%{y}<extra></extra>",
         "legendgroup": "baseline, bounds",
         "line": {
          "color": "#636efa",
          "dash": "solid"
         },
         "marker": {
          "symbol": "circle"
         },
         "mode": "lines",
         "name": "baseline, bounds",
         "orientation": "v",
         "showlegend": true,
         "type": "scatter",
         "x": [
          "0_01",
          "0_02",
          "0_03",
          "0_04",
          "0_05",
          "0_06",
          "0_07",
          "0_08",
          "0_09",
          "0_10",
          "0_11",
          "0_12",
          "0_13",
          "0_14",
          "0_15",
          "0_16",
          "0_17",
          "0_18",
          "0_19",
          "0_20",
          "0_21",
          "0_22",
          "0_23",
          "0_24",
          "0_25",
          "0_26",
          "0_27",
          "0_28",
          "0_29",
          "0_30"
         ],
         "xaxis": "x",
         "y": [
          10,
          8,
          20,
          24,
          24,
          29.2,
          32,
          32,
          36,
          38,
          48,
          44.4,
          47.2,
          47.6,
          53.6,
          59.6,
          60,
          54.8,
          60.4,
          56,
          62.4,
          78,
          66,
          82.4,
          88.8,
          81.2,
          72.8,
          90,
          82.4,
          94.8
         ],
         "yaxis": "y"
        },
        {
         "error_y": {
          "array": [
           0,
           0,
           1.673320053068148,
           2.607680962081059,
           0,
           1.4142135623730925,
           1.6733200530681502,
           1.0954451150103286,
           4.604345773288534,
           5.099019513592788,
           1.6733200530681513,
           3.2863353450309942,
           4.381780460041328,
           3.3466401061362996,
           3.577708763999663,
           6.723094525588646,
           3.2863353450309982,
           3.346640106136305,
           3.286335345030995,
           2.966479394838267,
           2.6076809620810564,
           4.147288270665539,
           1.7888543819998286,
           3.3466401061363005,
           5.761944116355176,
           4.335896677735753,
           2.2803508501982765,
           5.585696017507578,
           4.147288270665546,
           2.8284271247462027
          ]
         },
         "hovertemplate": "solver=baseline<br>type=bounds<br>difficulty=1<br>problem=%{x}<br>plan_length_mean=%{y}<extra></extra>",
         "legendgroup": "baseline, bounds",
         "line": {
          "color": "#636efa",
          "dash": "solid"
         },
         "marker": {
          "symbol": "circle"
         },
         "mode": "lines",
         "name": "baseline, bounds",
         "orientation": "v",
         "showlegend": false,
         "type": "scatter",
         "x": [
          "1_01",
          "1_02",
          "1_03",
          "1_04",
          "1_05",
          "1_06",
          "1_07",
          "1_08",
          "1_09",
          "1_10",
          "1_11",
          "1_12",
          "1_13",
          "1_14",
          "1_15",
          "1_16",
          "1_17",
          "1_18",
          "1_19",
          "1_20",
          "1_21",
          "1_22",
          "1_23",
          "1_24",
          "1_25",
          "1_26",
          "1_27",
          "1_28",
          "1_29",
          "1_30"
         ],
         "xaxis": "x2",
         "y": [
          118,
          124,
          134.4,
          159.6,
          164,
          164,
          191.6,
          199.2,
          209.2,
          220,
          234.4,
          261.6,
          280.8,
          275.2,
          287.6,
          296.8,
          305.6,
          341.2,
          343.6,
          356.4,
          367.6,
          377.2,
          415.2,
          393.2,
          419.2,
          441.6,
          444.8,
          432.8,
          460.8,
          518
         ],
         "yaxis": "y2"
        },
        {
         "error_y": {
          "array": [
           null,
           null,
           null,
           null,
           null,
           null,
           null,
           null,
           null,
           null,
           null,
           null,
           null,
           null,
           null,
           null,
           null,
           null,
           null,
           null,
           null,
           null,
           null,
           null,
           null,
           null,
           null,
           null,
           null,
           null
          ]
         },
         "hovertemplate": "solver=optimal<br>type=bounds<br>difficulty=0<br>problem=%{x}<br>plan_length_mean=%{y}<extra></extra>",
         "legendgroup": "optimal, bounds",
         "line": {
          "color": "#EF553B",
          "dash": "solid"
         },
         "marker": {
          "symbol": "circle"
         },
         "mode": "lines",
         "name": "optimal, bounds",
         "orientation": "v",
         "showlegend": true,
         "type": "scatter",
         "x": [
          "0_01",
          "0_02",
          "0_03",
          "0_04",
          "0_05",
          "0_06",
          "0_07",
          "0_08",
          "0_09",
          "0_10",
          "0_11",
          "0_12",
          "0_13",
          "0_14",
          "0_15",
          "0_16",
          "0_17",
          "0_18",
          "0_19",
          "0_20",
          "0_21",
          "0_22",
          "0_23",
          "0_24",
          "0_25",
          "0_26",
          "0_27",
          "0_28",
          "0_29",
          "0_30"
         ],
         "xaxis": "x",
         "y": [
          10,
          8,
          20,
          24,
          24,
          26,
          32,
          32,
          36,
          38,
          48,
          40,
          42,
          44,
          46,
          54,
          60,
          50,
          54,
          56,
          56,
          72,
          58,
          72,
          82,
          74,
          66,
          82,
          76,
          88
         ],
         "yaxis": "y"
        },
        {
         "error_y": {
          "array": [
           null,
           null,
           null,
           null,
           null,
           null,
           null,
           null,
           null,
           null,
           null,
           null,
           null,
           null,
           null,
           null,
           null,
           null,
           null,
           null,
           null,
           null,
           null,
           null,
           null,
           null,
           null,
           null,
           null,
           null
          ]
         },
         "hovertemplate": "solver=optimal<br>type=bounds<br>difficulty=1<br>problem=%{x}<br>plan_length_mean=%{y}<extra></extra>",
         "legendgroup": "optimal, bounds",
         "line": {
          "color": "#EF553B",
          "dash": "solid"
         },
         "marker": {
          "symbol": "circle"
         },
         "mode": "lines",
         "name": "optimal, bounds",
         "orientation": "v",
         "showlegend": false,
         "type": "scatter",
         "x": [
          "1_01",
          "1_02",
          "1_03",
          "1_04",
          "1_05",
          "1_06",
          "1_07",
          "1_08",
          "1_09",
          "1_10",
          "1_11",
          "1_12",
          "1_13",
          "1_14",
          "1_15",
          "1_16",
          "1_17",
          "1_18",
          "1_19",
          "1_20",
          "1_21",
          "1_22",
          "1_23",
          "1_24",
          "1_25",
          "1_26",
          "1_27",
          "1_28",
          "1_29",
          "1_30"
         ],
         "xaxis": "x2",
         "y": [
          106,
          104,
          112,
          144,
          142,
          140,
          158,
          164,
          180,
          186,
          202,
          234,
          240,
          228,
          232,
          246,
          272,
          284,
          286,
          308,
          310,
          314,
          354,
          338,
          348,
          388,
          380,
          368,
          386,
          464
         ],
         "yaxis": "y2"
        },
        {
         "error_y": {
          "array": [
           null,
           null,
           null,
           null,
           null,
           null,
           null,
           null,
           null,
           null,
           null,
           null,
           null,
           null,
           null,
           null,
           null,
           null,
           null,
           null,
           null,
           null,
           null,
           null,
           null,
           null,
           null,
           null,
           null,
           null
          ]
         },
         "hovertemplate": "solver=lama<br>type=bounds<br>difficulty=0<br>problem=%{x}<br>plan_length_mean=%{y}<extra></extra>",
         "legendgroup": "lama, bounds",
         "line": {
          "color": "#00cc96",
          "dash": "solid"
         },
         "marker": {
          "symbol": "circle"
         },
         "mode": "lines",
         "name": "lama, bounds",
         "orientation": "v",
         "showlegend": true,
         "type": "scatter",
         "x": [
          "0_01",
          "0_02",
          "0_03",
          "0_04",
          "0_05",
          "0_06",
          "0_07",
          "0_08",
          "0_09",
          "0_10",
          "0_11",
          "0_12",
          "0_13",
          "0_14",
          "0_15",
          "0_16",
          "0_17",
          "0_18",
          "0_19",
          "0_20",
          "0_21",
          "0_22",
          "0_23",
          "0_24",
          "0_25",
          "0_26",
          "0_27",
          "0_28",
          "0_29",
          "0_30"
         ],
         "xaxis": "x",
         "y": [
          10,
          8,
          34,
          38,
          40,
          80,
          62,
          58,
          56,
          44,
          102,
          72,
          108,
          66,
          106,
          122,
          130,
          84,
          86,
          78,
          76,
          146,
          94,
          202,
          274,
          230,
          130,
          152,
          142,
          202
         ],
         "yaxis": "y"
        },
        {
         "error_y": {
          "array": [
           null,
           null,
           null,
           null,
           null,
           null,
           null,
           null,
           null,
           null,
           null,
           null,
           null,
           null,
           null,
           null,
           null,
           null,
           null,
           null,
           null,
           null,
           null,
           null,
           null,
           null,
           null,
           null,
           null,
           null
          ]
         },
         "hovertemplate": "solver=lama<br>type=bounds<br>difficulty=1<br>problem=%{x}<br>plan_length_mean=%{y}<extra></extra>",
         "legendgroup": "lama, bounds",
         "line": {
          "color": "#00cc96",
          "dash": "solid"
         },
         "marker": {
          "symbol": "circle"
         },
         "mode": "lines",
         "name": "lama, bounds",
         "orientation": "v",
         "showlegend": false,
         "type": "scatter",
         "x": [
          "1_01",
          "1_02",
          "1_03",
          "1_04",
          "1_05",
          "1_06",
          "1_07",
          "1_08",
          "1_09",
          "1_10",
          "1_11",
          "1_12",
          "1_13",
          "1_14",
          "1_15",
          "1_16",
          "1_17",
          "1_18",
          "1_19",
          "1_20",
          "1_21",
          "1_22",
          "1_23",
          "1_24",
          "1_25",
          "1_26",
          "1_27",
          "1_28",
          "1_29",
          "1_30"
         ],
         "xaxis": "x2",
         "y": [
          324,
          222,
          242,
          null,
          320,
          230,
          376,
          null,
          474,
          396,
          646,
          632,
          614,
          528,
          648,
          640,
          640,
          656,
          null,
          950,
          908,
          746,
          null,
          796,
          816,
          null,
          988,
          1070,
          1072,
          null
         ],
         "yaxis": "y2"
        }
       ],
       "layout": {
        "annotations": [
         {
          "font": {},
          "showarrow": false,
          "text": "difficulty=0",
          "x": 0.245,
          "xanchor": "center",
          "xref": "paper",
          "y": 1,
          "yanchor": "bottom",
          "yref": "paper"
         },
         {
          "font": {},
          "showarrow": false,
          "text": "difficulty=1",
          "x": 0.755,
          "xanchor": "center",
          "xref": "paper",
          "y": 1,
          "yanchor": "bottom",
          "yref": "paper"
         }
        ],
        "legend": {
         "title": {
          "text": "solver, type"
         },
         "tracegroupgap": 0
        },
        "margin": {
         "t": 60
        },
        "template": {
         "data": {
          "bar": [
           {
            "error_x": {
             "color": "#2a3f5f"
            },
            "error_y": {
             "color": "#2a3f5f"
            },
            "marker": {
             "line": {
              "color": "#E5ECF6",
              "width": 0.5
             },
             "pattern": {
              "fillmode": "overlay",
              "size": 10,
              "solidity": 0.2
             }
            },
            "type": "bar"
           }
          ],
          "barpolar": [
           {
            "marker": {
             "line": {
              "color": "#E5ECF6",
              "width": 0.5
             },
             "pattern": {
              "fillmode": "overlay",
              "size": 10,
              "solidity": 0.2
             }
            },
            "type": "barpolar"
           }
          ],
          "carpet": [
           {
            "aaxis": {
             "endlinecolor": "#2a3f5f",
             "gridcolor": "white",
             "linecolor": "white",
             "minorgridcolor": "white",
             "startlinecolor": "#2a3f5f"
            },
            "baxis": {
             "endlinecolor": "#2a3f5f",
             "gridcolor": "white",
             "linecolor": "white",
             "minorgridcolor": "white",
             "startlinecolor": "#2a3f5f"
            },
            "type": "carpet"
           }
          ],
          "choropleth": [
           {
            "colorbar": {
             "outlinewidth": 0,
             "ticks": ""
            },
            "type": "choropleth"
           }
          ],
          "contour": [
           {
            "colorbar": {
             "outlinewidth": 0,
             "ticks": ""
            },
            "colorscale": [
             [
              0,
              "#0d0887"
             ],
             [
              0.1111111111111111,
              "#46039f"
             ],
             [
              0.2222222222222222,
              "#7201a8"
             ],
             [
              0.3333333333333333,
              "#9c179e"
             ],
             [
              0.4444444444444444,
              "#bd3786"
             ],
             [
              0.5555555555555556,
              "#d8576b"
             ],
             [
              0.6666666666666666,
              "#ed7953"
             ],
             [
              0.7777777777777778,
              "#fb9f3a"
             ],
             [
              0.8888888888888888,
              "#fdca26"
             ],
             [
              1,
              "#f0f921"
             ]
            ],
            "type": "contour"
           }
          ],
          "contourcarpet": [
           {
            "colorbar": {
             "outlinewidth": 0,
             "ticks": ""
            },
            "type": "contourcarpet"
           }
          ],
          "heatmap": [
           {
            "colorbar": {
             "outlinewidth": 0,
             "ticks": ""
            },
            "colorscale": [
             [
              0,
              "#0d0887"
             ],
             [
              0.1111111111111111,
              "#46039f"
             ],
             [
              0.2222222222222222,
              "#7201a8"
             ],
             [
              0.3333333333333333,
              "#9c179e"
             ],
             [
              0.4444444444444444,
              "#bd3786"
             ],
             [
              0.5555555555555556,
              "#d8576b"
             ],
             [
              0.6666666666666666,
              "#ed7953"
             ],
             [
              0.7777777777777778,
              "#fb9f3a"
             ],
             [
              0.8888888888888888,
              "#fdca26"
             ],
             [
              1,
              "#f0f921"
             ]
            ],
            "type": "heatmap"
           }
          ],
          "heatmapgl": [
           {
            "colorbar": {
             "outlinewidth": 0,
             "ticks": ""
            },
            "colorscale": [
             [
              0,
              "#0d0887"
             ],
             [
              0.1111111111111111,
              "#46039f"
             ],
             [
              0.2222222222222222,
              "#7201a8"
             ],
             [
              0.3333333333333333,
              "#9c179e"
             ],
             [
              0.4444444444444444,
              "#bd3786"
             ],
             [
              0.5555555555555556,
              "#d8576b"
             ],
             [
              0.6666666666666666,
              "#ed7953"
             ],
             [
              0.7777777777777778,
              "#fb9f3a"
             ],
             [
              0.8888888888888888,
              "#fdca26"
             ],
             [
              1,
              "#f0f921"
             ]
            ],
            "type": "heatmapgl"
           }
          ],
          "histogram": [
           {
            "marker": {
             "pattern": {
              "fillmode": "overlay",
              "size": 10,
              "solidity": 0.2
             }
            },
            "type": "histogram"
           }
          ],
          "histogram2d": [
           {
            "colorbar": {
             "outlinewidth": 0,
             "ticks": ""
            },
            "colorscale": [
             [
              0,
              "#0d0887"
             ],
             [
              0.1111111111111111,
              "#46039f"
             ],
             [
              0.2222222222222222,
              "#7201a8"
             ],
             [
              0.3333333333333333,
              "#9c179e"
             ],
             [
              0.4444444444444444,
              "#bd3786"
             ],
             [
              0.5555555555555556,
              "#d8576b"
             ],
             [
              0.6666666666666666,
              "#ed7953"
             ],
             [
              0.7777777777777778,
              "#fb9f3a"
             ],
             [
              0.8888888888888888,
              "#fdca26"
             ],
             [
              1,
              "#f0f921"
             ]
            ],
            "type": "histogram2d"
           }
          ],
          "histogram2dcontour": [
           {
            "colorbar": {
             "outlinewidth": 0,
             "ticks": ""
            },
            "colorscale": [
             [
              0,
              "#0d0887"
             ],
             [
              0.1111111111111111,
              "#46039f"
             ],
             [
              0.2222222222222222,
              "#7201a8"
             ],
             [
              0.3333333333333333,
              "#9c179e"
             ],
             [
              0.4444444444444444,
              "#bd3786"
             ],
             [
              0.5555555555555556,
              "#d8576b"
             ],
             [
              0.6666666666666666,
              "#ed7953"
             ],
             [
              0.7777777777777778,
              "#fb9f3a"
             ],
             [
              0.8888888888888888,
              "#fdca26"
             ],
             [
              1,
              "#f0f921"
             ]
            ],
            "type": "histogram2dcontour"
           }
          ],
          "mesh3d": [
           {
            "colorbar": {
             "outlinewidth": 0,
             "ticks": ""
            },
            "type": "mesh3d"
           }
          ],
          "parcoords": [
           {
            "line": {
             "colorbar": {
              "outlinewidth": 0,
              "ticks": ""
             }
            },
            "type": "parcoords"
           }
          ],
          "pie": [
           {
            "automargin": true,
            "type": "pie"
           }
          ],
          "scatter": [
           {
            "fillpattern": {
             "fillmode": "overlay",
             "size": 10,
             "solidity": 0.2
            },
            "type": "scatter"
           }
          ],
          "scatter3d": [
           {
            "line": {
             "colorbar": {
              "outlinewidth": 0,
              "ticks": ""
             }
            },
            "marker": {
             "colorbar": {
              "outlinewidth": 0,
              "ticks": ""
             }
            },
            "type": "scatter3d"
           }
          ],
          "scattercarpet": [
           {
            "marker": {
             "colorbar": {
              "outlinewidth": 0,
              "ticks": ""
             }
            },
            "type": "scattercarpet"
           }
          ],
          "scattergeo": [
           {
            "marker": {
             "colorbar": {
              "outlinewidth": 0,
              "ticks": ""
             }
            },
            "type": "scattergeo"
           }
          ],
          "scattergl": [
           {
            "marker": {
             "colorbar": {
              "outlinewidth": 0,
              "ticks": ""
             }
            },
            "type": "scattergl"
           }
          ],
          "scattermapbox": [
           {
            "marker": {
             "colorbar": {
              "outlinewidth": 0,
              "ticks": ""
             }
            },
            "type": "scattermapbox"
           }
          ],
          "scatterpolar": [
           {
            "marker": {
             "colorbar": {
              "outlinewidth": 0,
              "ticks": ""
             }
            },
            "type": "scatterpolar"
           }
          ],
          "scatterpolargl": [
           {
            "marker": {
             "colorbar": {
              "outlinewidth": 0,
              "ticks": ""
             }
            },
            "type": "scatterpolargl"
           }
          ],
          "scatterternary": [
           {
            "marker": {
             "colorbar": {
              "outlinewidth": 0,
              "ticks": ""
             }
            },
            "type": "scatterternary"
           }
          ],
          "surface": [
           {
            "colorbar": {
             "outlinewidth": 0,
             "ticks": ""
            },
            "colorscale": [
             [
              0,
              "#0d0887"
             ],
             [
              0.1111111111111111,
              "#46039f"
             ],
             [
              0.2222222222222222,
              "#7201a8"
             ],
             [
              0.3333333333333333,
              "#9c179e"
             ],
             [
              0.4444444444444444,
              "#bd3786"
             ],
             [
              0.5555555555555556,
              "#d8576b"
             ],
             [
              0.6666666666666666,
              "#ed7953"
             ],
             [
              0.7777777777777778,
              "#fb9f3a"
             ],
             [
              0.8888888888888888,
              "#fdca26"
             ],
             [
              1,
              "#f0f921"
             ]
            ],
            "type": "surface"
           }
          ],
          "table": [
           {
            "cells": {
             "fill": {
              "color": "#EBF0F8"
             },
             "line": {
              "color": "white"
             }
            },
            "header": {
             "fill": {
              "color": "#C8D4E3"
             },
             "line": {
              "color": "white"
             }
            },
            "type": "table"
           }
          ]
         },
         "layout": {
          "annotationdefaults": {
           "arrowcolor": "#2a3f5f",
           "arrowhead": 0,
           "arrowwidth": 1
          },
          "autotypenumbers": "strict",
          "coloraxis": {
           "colorbar": {
            "outlinewidth": 0,
            "ticks": ""
           }
          },
          "colorscale": {
           "diverging": [
            [
             0,
             "#8e0152"
            ],
            [
             0.1,
             "#c51b7d"
            ],
            [
             0.2,
             "#de77ae"
            ],
            [
             0.3,
             "#f1b6da"
            ],
            [
             0.4,
             "#fde0ef"
            ],
            [
             0.5,
             "#f7f7f7"
            ],
            [
             0.6,
             "#e6f5d0"
            ],
            [
             0.7,
             "#b8e186"
            ],
            [
             0.8,
             "#7fbc41"
            ],
            [
             0.9,
             "#4d9221"
            ],
            [
             1,
             "#276419"
            ]
           ],
           "sequential": [
            [
             0,
             "#0d0887"
            ],
            [
             0.1111111111111111,
             "#46039f"
            ],
            [
             0.2222222222222222,
             "#7201a8"
            ],
            [
             0.3333333333333333,
             "#9c179e"
            ],
            [
             0.4444444444444444,
             "#bd3786"
            ],
            [
             0.5555555555555556,
             "#d8576b"
            ],
            [
             0.6666666666666666,
             "#ed7953"
            ],
            [
             0.7777777777777778,
             "#fb9f3a"
            ],
            [
             0.8888888888888888,
             "#fdca26"
            ],
            [
             1,
             "#f0f921"
            ]
           ],
           "sequentialminus": [
            [
             0,
             "#0d0887"
            ],
            [
             0.1111111111111111,
             "#46039f"
            ],
            [
             0.2222222222222222,
             "#7201a8"
            ],
            [
             0.3333333333333333,
             "#9c179e"
            ],
            [
             0.4444444444444444,
             "#bd3786"
            ],
            [
             0.5555555555555556,
             "#d8576b"
            ],
            [
             0.6666666666666666,
             "#ed7953"
            ],
            [
             0.7777777777777778,
             "#fb9f3a"
            ],
            [
             0.8888888888888888,
             "#fdca26"
            ],
            [
             1,
             "#f0f921"
            ]
           ]
          },
          "colorway": [
           "#636efa",
           "#EF553B",
           "#00cc96",
           "#ab63fa",
           "#FFA15A",
           "#19d3f3",
           "#FF6692",
           "#B6E880",
           "#FF97FF",
           "#FECB52"
          ],
          "font": {
           "color": "#2a3f5f"
          },
          "geo": {
           "bgcolor": "white",
           "lakecolor": "white",
           "landcolor": "#E5ECF6",
           "showlakes": true,
           "showland": true,
           "subunitcolor": "white"
          },
          "hoverlabel": {
           "align": "left"
          },
          "hovermode": "closest",
          "mapbox": {
           "style": "light"
          },
          "paper_bgcolor": "white",
          "plot_bgcolor": "#E5ECF6",
          "polar": {
           "angularaxis": {
            "gridcolor": "white",
            "linecolor": "white",
            "ticks": ""
           },
           "bgcolor": "#E5ECF6",
           "radialaxis": {
            "gridcolor": "white",
            "linecolor": "white",
            "ticks": ""
           }
          },
          "scene": {
           "xaxis": {
            "backgroundcolor": "#E5ECF6",
            "gridcolor": "white",
            "gridwidth": 2,
            "linecolor": "white",
            "showbackground": true,
            "ticks": "",
            "zerolinecolor": "white"
           },
           "yaxis": {
            "backgroundcolor": "#E5ECF6",
            "gridcolor": "white",
            "gridwidth": 2,
            "linecolor": "white",
            "showbackground": true,
            "ticks": "",
            "zerolinecolor": "white"
           },
           "zaxis": {
            "backgroundcolor": "#E5ECF6",
            "gridcolor": "white",
            "gridwidth": 2,
            "linecolor": "white",
            "showbackground": true,
            "ticks": "",
            "zerolinecolor": "white"
           }
          },
          "shapedefaults": {
           "line": {
            "color": "#2a3f5f"
           }
          },
          "ternary": {
           "aaxis": {
            "gridcolor": "white",
            "linecolor": "white",
            "ticks": ""
           },
           "baxis": {
            "gridcolor": "white",
            "linecolor": "white",
            "ticks": ""
           },
           "bgcolor": "#E5ECF6",
           "caxis": {
            "gridcolor": "white",
            "linecolor": "white",
            "ticks": ""
           }
          },
          "title": {
           "x": 0.05
          },
          "xaxis": {
           "automargin": true,
           "gridcolor": "white",
           "linecolor": "white",
           "ticks": "",
           "title": {
            "standoff": 15
           },
           "zerolinecolor": "white",
           "zerolinewidth": 2
          },
          "yaxis": {
           "automargin": true,
           "gridcolor": "white",
           "linecolor": "white",
           "ticks": "",
           "title": {
            "standoff": 15
           },
           "zerolinecolor": "white",
           "zerolinewidth": 2
          }
         }
        },
        "xaxis": {
         "anchor": "y",
         "categoryarray": [
          "0_01",
          "0_02",
          "0_03",
          "0_04",
          "0_05",
          "0_06",
          "0_07",
          "0_08",
          "0_09",
          "0_10",
          "0_11",
          "0_12",
          "0_13",
          "0_14",
          "0_15",
          "0_16",
          "0_17",
          "0_18",
          "0_19",
          "0_20",
          "0_21",
          "0_22",
          "0_23",
          "0_24",
          "0_25",
          "0_26",
          "0_27",
          "0_28",
          "0_29",
          "0_30",
          "1_01",
          "1_02",
          "1_03",
          "1_04",
          "1_05",
          "1_06",
          "1_07",
          "1_08",
          "1_09",
          "1_10",
          "1_11",
          "1_12",
          "1_13",
          "1_14",
          "1_15",
          "1_16",
          "1_17",
          "1_18",
          "1_19",
          "1_20",
          "1_21",
          "1_22",
          "1_23",
          "1_24",
          "1_25",
          "1_26",
          "1_27",
          "1_28",
          "1_29",
          "1_30"
         ],
         "categoryorder": "array",
         "domain": [
          0,
          0.49
         ],
         "showticklabels": true,
         "title": {
          "text": "problem"
         }
        },
        "xaxis2": {
         "anchor": "y2",
         "categoryarray": [
          "0_01",
          "0_02",
          "0_03",
          "0_04",
          "0_05",
          "0_06",
          "0_07",
          "0_08",
          "0_09",
          "0_10",
          "0_11",
          "0_12",
          "0_13",
          "0_14",
          "0_15",
          "0_16",
          "0_17",
          "0_18",
          "0_19",
          "0_20",
          "0_21",
          "0_22",
          "0_23",
          "0_24",
          "0_25",
          "0_26",
          "0_27",
          "0_28",
          "0_29",
          "0_30",
          "1_01",
          "1_02",
          "1_03",
          "1_04",
          "1_05",
          "1_06",
          "1_07",
          "1_08",
          "1_09",
          "1_10",
          "1_11",
          "1_12",
          "1_13",
          "1_14",
          "1_15",
          "1_16",
          "1_17",
          "1_18",
          "1_19",
          "1_20",
          "1_21",
          "1_22",
          "1_23",
          "1_24",
          "1_25",
          "1_26",
          "1_27",
          "1_28",
          "1_29",
          "1_30"
         ],
         "categoryorder": "array",
         "domain": [
          0.51,
          1
         ],
         "showticklabels": true,
         "title": {
          "text": "problem"
         }
        },
        "yaxis": {
         "anchor": "x",
         "domain": [
          0,
          1
         ],
         "showticklabels": true,
         "title": {
          "text": "plan_length_mean"
         }
        },
        "yaxis2": {
         "anchor": "x2",
         "domain": [
          0,
          1
         ],
         "showticklabels": true
        }
       }
      }
     },
     "metadata": {},
     "output_type": "display_data"
    },
    {
     "name": "stdout",
     "output_type": "stream",
     "text": [
      "ferry\n"
     ]
    },
    {
     "data": {
      "application/vnd.plotly.v1+json": {
       "config": {
        "plotlyServerURL": "https://plot.ly"
       },
       "data": [
        {
         "error_y": {
          "array": [
           0,
           0,
           0,
           0,
           0,
           0.7071067811865476,
           0.44721359549995765,
           0.547722557505166,
           0.8366600265340753,
           0.44721359549995787,
           0.8366600265340751,
           0.5477225575051664,
           0.8366600265340757,
           0.8366600265340749,
           0.44721359549995865,
           0.44721359549995715,
           0.44721359549995715,
           1.224744871391589,
           1.303840481040529,
           1.1401754250991383,
           1.6733200530681513,
           0.8366600265340757,
           0.44721359549995715,
           1.3416407864998734,
           1.4832396974191324,
           1.1401754250991383,
           1.51657508881031,
           1.1401754250991367,
           1.3038404810405302,
           0.7071067811865476
          ]
         },
         "hovertemplate": "solver=baseline<br>type=bounds<br>difficulty=0<br>problem=%{x}<br>plan_length_mean=%{y}<extra></extra>",
         "legendgroup": "baseline, bounds",
         "line": {
          "color": "#636efa",
          "dash": "solid"
         },
         "marker": {
          "symbol": "circle"
         },
         "mode": "lines",
         "name": "baseline, bounds",
         "orientation": "v",
         "showlegend": true,
         "type": "scatter",
         "x": [
          "0_01",
          "0_02",
          "0_03",
          "0_04",
          "0_05",
          "0_06",
          "0_07",
          "0_08",
          "0_09",
          "0_10",
          "0_11",
          "0_12",
          "0_13",
          "0_14",
          "0_15",
          "0_16",
          "0_17",
          "0_18",
          "0_19",
          "0_20",
          "0_21",
          "0_22",
          "0_23",
          "0_24",
          "0_25",
          "0_26",
          "0_27",
          "0_28",
          "0_29",
          "0_30"
         ],
         "xaxis": "x",
         "y": [
          8,
          8,
          12,
          11,
          15,
          19,
          19.2,
          23.6,
          25.2,
          26.8,
          31.2,
          29.4,
          33.2,
          34.8,
          37.8,
          40.8,
          45.2,
          42,
          44.8,
          51.6,
          50.4,
          50.8,
          53.8,
          58.6,
          62.2,
          60.4,
          61.4,
          68.4,
          67.2,
          75
         ],
         "yaxis": "y"
        },
        {
         "error_y": {
          "array": [
           0.7071067811865472,
           0.8366600265340757,
           0.44721359549995815,
           0.5477225575051667,
           0.8366600265340757,
           1.7888543819998313,
           1.303840481040529,
           2.509980079602227,
           1.3416407864998734,
           1.7888543819998355,
           1.9493588689617967,
           0.8366600265340783,
           1.5165750888103116,
           1.3416407864998734,
           2.4083189157584557,
           2.2803508501982743,
           2.0493901531919225,
           2.880972058177586,
           2.1213203435596393,
           1.3416407864998734,
           3.7416573867739418,
           5.147815070493499,
           1.8165902124584923,
           1.1401754250991352,
           2.073644135332778,
           2.949576240750527,
           1.1401754250991398,
           4.183300132670379,
           3.4928498393145944,
           4.086563348340508
          ]
         },
         "hovertemplate": "solver=baseline<br>type=bounds<br>difficulty=1<br>problem=%{x}<br>plan_length_mean=%{y}<extra></extra>",
         "legendgroup": "baseline, bounds",
         "line": {
          "color": "#636efa",
          "dash": "solid"
         },
         "marker": {
          "symbol": "circle"
         },
         "mode": "lines",
         "name": "baseline, bounds",
         "orientation": "v",
         "showlegend": false,
         "type": "scatter",
         "x": [
          "1_01",
          "1_02",
          "1_03",
          "1_04",
          "1_05",
          "1_06",
          "1_07",
          "1_08",
          "1_09",
          "1_10",
          "1_11",
          "1_12",
          "1_13",
          "1_14",
          "1_15",
          "1_16",
          "1_17",
          "1_18",
          "1_19",
          "1_20",
          "1_21",
          "1_22",
          "1_23",
          "1_24",
          "1_25",
          "1_26",
          "1_27",
          "1_28",
          "1_29",
          "1_30"
         ],
         "xaxis": "x2",
         "y": [
          37,
          49.8,
          61.2,
          69.4,
          76.8,
          93.2,
          104.2,
          108.6,
          123.6,
          132.8,
          144.4,
          156.2,
          165.6,
          173.4,
          185.6,
          196.8,
          200.8,
          211.6,
          235,
          233.4,
          245,
          255,
          271.4,
          280.4,
          290.4,
          300.2,
          314.4,
          318,
          332.2,
          343.8
         ],
         "yaxis": "y2"
        },
        {
         "error_y": {
          "array": [
           null,
           null,
           null,
           null,
           null,
           null,
           null,
           null,
           null,
           null,
           null,
           null,
           null,
           null,
           null,
           null,
           null,
           null,
           null,
           null,
           null,
           null,
           null,
           null,
           null,
           null,
           null,
           null,
           null,
           null
          ]
         },
         "hovertemplate": "solver=optimal<br>type=bounds<br>difficulty=0<br>problem=%{x}<br>plan_length_mean=%{y}<extra></extra>",
         "legendgroup": "optimal, bounds",
         "line": {
          "color": "#EF553B",
          "dash": "solid"
         },
         "marker": {
          "symbol": "circle"
         },
         "mode": "lines",
         "name": "optimal, bounds",
         "orientation": "v",
         "showlegend": true,
         "type": "scatter",
         "x": [
          "0_01",
          "0_02",
          "0_03",
          "0_04",
          "0_05",
          "0_06",
          "0_07",
          "0_08",
          "0_09",
          "0_10",
          "0_11",
          "0_12",
          "0_13",
          "0_14",
          "0_15",
          "0_16",
          "0_17",
          "0_18",
          "0_19",
          "0_20",
          "0_21",
          "0_22",
          "0_23",
          "0_24",
          "0_25",
          "0_26",
          "0_27",
          "0_28",
          "0_29",
          "0_30"
         ],
         "xaxis": "x",
         "y": [
          8,
          8,
          12,
          11,
          15,
          18,
          19,
          23,
          24,
          26,
          30,
          29,
          31,
          33,
          37,
          39,
          null,
          40,
          44,
          null,
          null,
          null,
          null,
          null,
          null,
          null,
          null,
          null,
          null,
          null
         ],
         "yaxis": "y"
        },
        {
         "error_y": {
          "array": [
           null,
           null,
           null,
           null,
           null,
           null,
           null,
           null,
           null,
           null,
           null,
           null,
           null,
           null,
           null,
           null,
           null,
           null,
           null,
           null,
           null,
           null,
           null,
           null,
           null,
           null,
           null,
           null,
           null,
           null
          ]
         },
         "hovertemplate": "solver=optimal<br>type=bounds<br>difficulty=1<br>problem=%{x}<br>plan_length_mean=%{y}<extra></extra>",
         "legendgroup": "optimal, bounds",
         "line": {
          "color": "#EF553B",
          "dash": "solid"
         },
         "marker": {
          "symbol": "circle"
         },
         "mode": "lines",
         "name": "optimal, bounds",
         "orientation": "v",
         "showlegend": false,
         "type": "scatter",
         "x": [
          "1_01",
          "1_02",
          "1_03",
          "1_04",
          "1_05",
          "1_06",
          "1_07",
          "1_08",
          "1_09",
          "1_10",
          "1_11",
          "1_12",
          "1_13",
          "1_14",
          "1_15",
          "1_16",
          "1_17",
          "1_18",
          "1_19",
          "1_20",
          "1_21",
          "1_22",
          "1_23",
          "1_24",
          "1_25",
          "1_26",
          "1_27",
          "1_28",
          "1_29",
          "1_30"
         ],
         "xaxis": "x2",
         "y": [
          36,
          47,
          null,
          null,
          null,
          null,
          null,
          null,
          null,
          null,
          null,
          null,
          null,
          null,
          null,
          null,
          null,
          null,
          null,
          null,
          null,
          null,
          null,
          null,
          null,
          null,
          null,
          null,
          null,
          null
         ],
         "yaxis": "y2"
        },
        {
         "error_y": {
          "array": [
           null,
           null,
           null,
           null,
           null,
           null,
           null,
           null,
           null,
           null,
           null,
           null,
           null,
           null,
           null,
           null,
           null,
           null,
           null,
           null,
           null,
           null,
           null,
           null,
           null,
           null,
           null,
           null,
           null,
           null
          ]
         },
         "hovertemplate": "solver=lama<br>type=bounds<br>difficulty=0<br>problem=%{x}<br>plan_length_mean=%{y}<extra></extra>",
         "legendgroup": "lama, bounds",
         "line": {
          "color": "#00cc96",
          "dash": "solid"
         },
         "marker": {
          "symbol": "circle"
         },
         "mode": "lines",
         "name": "lama, bounds",
         "orientation": "v",
         "showlegend": true,
         "type": "scatter",
         "x": [
          "0_01",
          "0_02",
          "0_03",
          "0_04",
          "0_05",
          "0_06",
          "0_07",
          "0_08",
          "0_09",
          "0_10",
          "0_11",
          "0_12",
          "0_13",
          "0_14",
          "0_15",
          "0_16",
          "0_17",
          "0_18",
          "0_19",
          "0_20",
          "0_21",
          "0_22",
          "0_23",
          "0_24",
          "0_25",
          "0_26",
          "0_27",
          "0_28",
          "0_29",
          "0_30"
         ],
         "xaxis": "x",
         "y": [
          8,
          9,
          14,
          14,
          20,
          20,
          23,
          26,
          27,
          33,
          37,
          38,
          36,
          40,
          47,
          49,
          55,
          49,
          55,
          57,
          62,
          61,
          67,
          74,
          71,
          73,
          73,
          80,
          80,
          84
         ],
         "yaxis": "y"
        },
        {
         "error_y": {
          "array": [
           null,
           null,
           null,
           null,
           null,
           null,
           null,
           null,
           null,
           null,
           null,
           null,
           null,
           null,
           null,
           null,
           null,
           null,
           null,
           null,
           null,
           null,
           null,
           null,
           null,
           null,
           null,
           null,
           null,
           null
          ]
         },
         "hovertemplate": "solver=lama<br>type=bounds<br>difficulty=1<br>problem=%{x}<br>plan_length_mean=%{y}<extra></extra>",
         "legendgroup": "lama, bounds",
         "line": {
          "color": "#00cc96",
          "dash": "solid"
         },
         "marker": {
          "symbol": "circle"
         },
         "mode": "lines",
         "name": "lama, bounds",
         "orientation": "v",
         "showlegend": false,
         "type": "scatter",
         "x": [
          "1_01",
          "1_02",
          "1_03",
          "1_04",
          "1_05",
          "1_06",
          "1_07",
          "1_08",
          "1_09",
          "1_10",
          "1_11",
          "1_12",
          "1_13",
          "1_14",
          "1_15",
          "1_16",
          "1_17",
          "1_18",
          "1_19",
          "1_20",
          "1_21",
          "1_22",
          "1_23",
          "1_24",
          "1_25",
          "1_26",
          "1_27",
          "1_28",
          "1_29",
          "1_30"
         ],
         "xaxis": "x2",
         "y": [
          45,
          55,
          77,
          84,
          95,
          112,
          130,
          138,
          151,
          160,
          179,
          191,
          198,
          214,
          226,
          234,
          243,
          254,
          279,
          282,
          295,
          314,
          326,
          341,
          359,
          377,
          377,
          383,
          418,
          423
         ],
         "yaxis": "y2"
        }
       ],
       "layout": {
        "annotations": [
         {
          "font": {},
          "showarrow": false,
          "text": "difficulty=0",
          "x": 0.245,
          "xanchor": "center",
          "xref": "paper",
          "y": 1,
          "yanchor": "bottom",
          "yref": "paper"
         },
         {
          "font": {},
          "showarrow": false,
          "text": "difficulty=1",
          "x": 0.755,
          "xanchor": "center",
          "xref": "paper",
          "y": 1,
          "yanchor": "bottom",
          "yref": "paper"
         }
        ],
        "legend": {
         "title": {
          "text": "solver, type"
         },
         "tracegroupgap": 0
        },
        "margin": {
         "t": 60
        },
        "template": {
         "data": {
          "bar": [
           {
            "error_x": {
             "color": "#2a3f5f"
            },
            "error_y": {
             "color": "#2a3f5f"
            },
            "marker": {
             "line": {
              "color": "#E5ECF6",
              "width": 0.5
             },
             "pattern": {
              "fillmode": "overlay",
              "size": 10,
              "solidity": 0.2
             }
            },
            "type": "bar"
           }
          ],
          "barpolar": [
           {
            "marker": {
             "line": {
              "color": "#E5ECF6",
              "width": 0.5
             },
             "pattern": {
              "fillmode": "overlay",
              "size": 10,
              "solidity": 0.2
             }
            },
            "type": "barpolar"
           }
          ],
          "carpet": [
           {
            "aaxis": {
             "endlinecolor": "#2a3f5f",
             "gridcolor": "white",
             "linecolor": "white",
             "minorgridcolor": "white",
             "startlinecolor": "#2a3f5f"
            },
            "baxis": {
             "endlinecolor": "#2a3f5f",
             "gridcolor": "white",
             "linecolor": "white",
             "minorgridcolor": "white",
             "startlinecolor": "#2a3f5f"
            },
            "type": "carpet"
           }
          ],
          "choropleth": [
           {
            "colorbar": {
             "outlinewidth": 0,
             "ticks": ""
            },
            "type": "choropleth"
           }
          ],
          "contour": [
           {
            "colorbar": {
             "outlinewidth": 0,
             "ticks": ""
            },
            "colorscale": [
             [
              0,
              "#0d0887"
             ],
             [
              0.1111111111111111,
              "#46039f"
             ],
             [
              0.2222222222222222,
              "#7201a8"
             ],
             [
              0.3333333333333333,
              "#9c179e"
             ],
             [
              0.4444444444444444,
              "#bd3786"
             ],
             [
              0.5555555555555556,
              "#d8576b"
             ],
             [
              0.6666666666666666,
              "#ed7953"
             ],
             [
              0.7777777777777778,
              "#fb9f3a"
             ],
             [
              0.8888888888888888,
              "#fdca26"
             ],
             [
              1,
              "#f0f921"
             ]
            ],
            "type": "contour"
           }
          ],
          "contourcarpet": [
           {
            "colorbar": {
             "outlinewidth": 0,
             "ticks": ""
            },
            "type": "contourcarpet"
           }
          ],
          "heatmap": [
           {
            "colorbar": {
             "outlinewidth": 0,
             "ticks": ""
            },
            "colorscale": [
             [
              0,
              "#0d0887"
             ],
             [
              0.1111111111111111,
              "#46039f"
             ],
             [
              0.2222222222222222,
              "#7201a8"
             ],
             [
              0.3333333333333333,
              "#9c179e"
             ],
             [
              0.4444444444444444,
              "#bd3786"
             ],
             [
              0.5555555555555556,
              "#d8576b"
             ],
             [
              0.6666666666666666,
              "#ed7953"
             ],
             [
              0.7777777777777778,
              "#fb9f3a"
             ],
             [
              0.8888888888888888,
              "#fdca26"
             ],
             [
              1,
              "#f0f921"
             ]
            ],
            "type": "heatmap"
           }
          ],
          "heatmapgl": [
           {
            "colorbar": {
             "outlinewidth": 0,
             "ticks": ""
            },
            "colorscale": [
             [
              0,
              "#0d0887"
             ],
             [
              0.1111111111111111,
              "#46039f"
             ],
             [
              0.2222222222222222,
              "#7201a8"
             ],
             [
              0.3333333333333333,
              "#9c179e"
             ],
             [
              0.4444444444444444,
              "#bd3786"
             ],
             [
              0.5555555555555556,
              "#d8576b"
             ],
             [
              0.6666666666666666,
              "#ed7953"
             ],
             [
              0.7777777777777778,
              "#fb9f3a"
             ],
             [
              0.8888888888888888,
              "#fdca26"
             ],
             [
              1,
              "#f0f921"
             ]
            ],
            "type": "heatmapgl"
           }
          ],
          "histogram": [
           {
            "marker": {
             "pattern": {
              "fillmode": "overlay",
              "size": 10,
              "solidity": 0.2
             }
            },
            "type": "histogram"
           }
          ],
          "histogram2d": [
           {
            "colorbar": {
             "outlinewidth": 0,
             "ticks": ""
            },
            "colorscale": [
             [
              0,
              "#0d0887"
             ],
             [
              0.1111111111111111,
              "#46039f"
             ],
             [
              0.2222222222222222,
              "#7201a8"
             ],
             [
              0.3333333333333333,
              "#9c179e"
             ],
             [
              0.4444444444444444,
              "#bd3786"
             ],
             [
              0.5555555555555556,
              "#d8576b"
             ],
             [
              0.6666666666666666,
              "#ed7953"
             ],
             [
              0.7777777777777778,
              "#fb9f3a"
             ],
             [
              0.8888888888888888,
              "#fdca26"
             ],
             [
              1,
              "#f0f921"
             ]
            ],
            "type": "histogram2d"
           }
          ],
          "histogram2dcontour": [
           {
            "colorbar": {
             "outlinewidth": 0,
             "ticks": ""
            },
            "colorscale": [
             [
              0,
              "#0d0887"
             ],
             [
              0.1111111111111111,
              "#46039f"
             ],
             [
              0.2222222222222222,
              "#7201a8"
             ],
             [
              0.3333333333333333,
              "#9c179e"
             ],
             [
              0.4444444444444444,
              "#bd3786"
             ],
             [
              0.5555555555555556,
              "#d8576b"
             ],
             [
              0.6666666666666666,
              "#ed7953"
             ],
             [
              0.7777777777777778,
              "#fb9f3a"
             ],
             [
              0.8888888888888888,
              "#fdca26"
             ],
             [
              1,
              "#f0f921"
             ]
            ],
            "type": "histogram2dcontour"
           }
          ],
          "mesh3d": [
           {
            "colorbar": {
             "outlinewidth": 0,
             "ticks": ""
            },
            "type": "mesh3d"
           }
          ],
          "parcoords": [
           {
            "line": {
             "colorbar": {
              "outlinewidth": 0,
              "ticks": ""
             }
            },
            "type": "parcoords"
           }
          ],
          "pie": [
           {
            "automargin": true,
            "type": "pie"
           }
          ],
          "scatter": [
           {
            "fillpattern": {
             "fillmode": "overlay",
             "size": 10,
             "solidity": 0.2
            },
            "type": "scatter"
           }
          ],
          "scatter3d": [
           {
            "line": {
             "colorbar": {
              "outlinewidth": 0,
              "ticks": ""
             }
            },
            "marker": {
             "colorbar": {
              "outlinewidth": 0,
              "ticks": ""
             }
            },
            "type": "scatter3d"
           }
          ],
          "scattercarpet": [
           {
            "marker": {
             "colorbar": {
              "outlinewidth": 0,
              "ticks": ""
             }
            },
            "type": "scattercarpet"
           }
          ],
          "scattergeo": [
           {
            "marker": {
             "colorbar": {
              "outlinewidth": 0,
              "ticks": ""
             }
            },
            "type": "scattergeo"
           }
          ],
          "scattergl": [
           {
            "marker": {
             "colorbar": {
              "outlinewidth": 0,
              "ticks": ""
             }
            },
            "type": "scattergl"
           }
          ],
          "scattermapbox": [
           {
            "marker": {
             "colorbar": {
              "outlinewidth": 0,
              "ticks": ""
             }
            },
            "type": "scattermapbox"
           }
          ],
          "scatterpolar": [
           {
            "marker": {
             "colorbar": {
              "outlinewidth": 0,
              "ticks": ""
             }
            },
            "type": "scatterpolar"
           }
          ],
          "scatterpolargl": [
           {
            "marker": {
             "colorbar": {
              "outlinewidth": 0,
              "ticks": ""
             }
            },
            "type": "scatterpolargl"
           }
          ],
          "scatterternary": [
           {
            "marker": {
             "colorbar": {
              "outlinewidth": 0,
              "ticks": ""
             }
            },
            "type": "scatterternary"
           }
          ],
          "surface": [
           {
            "colorbar": {
             "outlinewidth": 0,
             "ticks": ""
            },
            "colorscale": [
             [
              0,
              "#0d0887"
             ],
             [
              0.1111111111111111,
              "#46039f"
             ],
             [
              0.2222222222222222,
              "#7201a8"
             ],
             [
              0.3333333333333333,
              "#9c179e"
             ],
             [
              0.4444444444444444,
              "#bd3786"
             ],
             [
              0.5555555555555556,
              "#d8576b"
             ],
             [
              0.6666666666666666,
              "#ed7953"
             ],
             [
              0.7777777777777778,
              "#fb9f3a"
             ],
             [
              0.8888888888888888,
              "#fdca26"
             ],
             [
              1,
              "#f0f921"
             ]
            ],
            "type": "surface"
           }
          ],
          "table": [
           {
            "cells": {
             "fill": {
              "color": "#EBF0F8"
             },
             "line": {
              "color": "white"
             }
            },
            "header": {
             "fill": {
              "color": "#C8D4E3"
             },
             "line": {
              "color": "white"
             }
            },
            "type": "table"
           }
          ]
         },
         "layout": {
          "annotationdefaults": {
           "arrowcolor": "#2a3f5f",
           "arrowhead": 0,
           "arrowwidth": 1
          },
          "autotypenumbers": "strict",
          "coloraxis": {
           "colorbar": {
            "outlinewidth": 0,
            "ticks": ""
           }
          },
          "colorscale": {
           "diverging": [
            [
             0,
             "#8e0152"
            ],
            [
             0.1,
             "#c51b7d"
            ],
            [
             0.2,
             "#de77ae"
            ],
            [
             0.3,
             "#f1b6da"
            ],
            [
             0.4,
             "#fde0ef"
            ],
            [
             0.5,
             "#f7f7f7"
            ],
            [
             0.6,
             "#e6f5d0"
            ],
            [
             0.7,
             "#b8e186"
            ],
            [
             0.8,
             "#7fbc41"
            ],
            [
             0.9,
             "#4d9221"
            ],
            [
             1,
             "#276419"
            ]
           ],
           "sequential": [
            [
             0,
             "#0d0887"
            ],
            [
             0.1111111111111111,
             "#46039f"
            ],
            [
             0.2222222222222222,
             "#7201a8"
            ],
            [
             0.3333333333333333,
             "#9c179e"
            ],
            [
             0.4444444444444444,
             "#bd3786"
            ],
            [
             0.5555555555555556,
             "#d8576b"
            ],
            [
             0.6666666666666666,
             "#ed7953"
            ],
            [
             0.7777777777777778,
             "#fb9f3a"
            ],
            [
             0.8888888888888888,
             "#fdca26"
            ],
            [
             1,
             "#f0f921"
            ]
           ],
           "sequentialminus": [
            [
             0,
             "#0d0887"
            ],
            [
             0.1111111111111111,
             "#46039f"
            ],
            [
             0.2222222222222222,
             "#7201a8"
            ],
            [
             0.3333333333333333,
             "#9c179e"
            ],
            [
             0.4444444444444444,
             "#bd3786"
            ],
            [
             0.5555555555555556,
             "#d8576b"
            ],
            [
             0.6666666666666666,
             "#ed7953"
            ],
            [
             0.7777777777777778,
             "#fb9f3a"
            ],
            [
             0.8888888888888888,
             "#fdca26"
            ],
            [
             1,
             "#f0f921"
            ]
           ]
          },
          "colorway": [
           "#636efa",
           "#EF553B",
           "#00cc96",
           "#ab63fa",
           "#FFA15A",
           "#19d3f3",
           "#FF6692",
           "#B6E880",
           "#FF97FF",
           "#FECB52"
          ],
          "font": {
           "color": "#2a3f5f"
          },
          "geo": {
           "bgcolor": "white",
           "lakecolor": "white",
           "landcolor": "#E5ECF6",
           "showlakes": true,
           "showland": true,
           "subunitcolor": "white"
          },
          "hoverlabel": {
           "align": "left"
          },
          "hovermode": "closest",
          "mapbox": {
           "style": "light"
          },
          "paper_bgcolor": "white",
          "plot_bgcolor": "#E5ECF6",
          "polar": {
           "angularaxis": {
            "gridcolor": "white",
            "linecolor": "white",
            "ticks": ""
           },
           "bgcolor": "#E5ECF6",
           "radialaxis": {
            "gridcolor": "white",
            "linecolor": "white",
            "ticks": ""
           }
          },
          "scene": {
           "xaxis": {
            "backgroundcolor": "#E5ECF6",
            "gridcolor": "white",
            "gridwidth": 2,
            "linecolor": "white",
            "showbackground": true,
            "ticks": "",
            "zerolinecolor": "white"
           },
           "yaxis": {
            "backgroundcolor": "#E5ECF6",
            "gridcolor": "white",
            "gridwidth": 2,
            "linecolor": "white",
            "showbackground": true,
            "ticks": "",
            "zerolinecolor": "white"
           },
           "zaxis": {
            "backgroundcolor": "#E5ECF6",
            "gridcolor": "white",
            "gridwidth": 2,
            "linecolor": "white",
            "showbackground": true,
            "ticks": "",
            "zerolinecolor": "white"
           }
          },
          "shapedefaults": {
           "line": {
            "color": "#2a3f5f"
           }
          },
          "ternary": {
           "aaxis": {
            "gridcolor": "white",
            "linecolor": "white",
            "ticks": ""
           },
           "baxis": {
            "gridcolor": "white",
            "linecolor": "white",
            "ticks": ""
           },
           "bgcolor": "#E5ECF6",
           "caxis": {
            "gridcolor": "white",
            "linecolor": "white",
            "ticks": ""
           }
          },
          "title": {
           "x": 0.05
          },
          "xaxis": {
           "automargin": true,
           "gridcolor": "white",
           "linecolor": "white",
           "ticks": "",
           "title": {
            "standoff": 15
           },
           "zerolinecolor": "white",
           "zerolinewidth": 2
          },
          "yaxis": {
           "automargin": true,
           "gridcolor": "white",
           "linecolor": "white",
           "ticks": "",
           "title": {
            "standoff": 15
           },
           "zerolinecolor": "white",
           "zerolinewidth": 2
          }
         }
        },
        "xaxis": {
         "anchor": "y",
         "categoryarray": [
          "0_01",
          "0_02",
          "0_03",
          "0_04",
          "0_05",
          "0_06",
          "0_07",
          "0_08",
          "0_09",
          "0_10",
          "0_11",
          "0_12",
          "0_13",
          "0_14",
          "0_15",
          "0_16",
          "0_17",
          "0_18",
          "0_19",
          "0_20",
          "0_21",
          "0_22",
          "0_23",
          "0_24",
          "0_25",
          "0_26",
          "0_27",
          "0_28",
          "0_29",
          "0_30",
          "1_01",
          "1_02",
          "1_03",
          "1_04",
          "1_05",
          "1_06",
          "1_07",
          "1_08",
          "1_09",
          "1_10",
          "1_11",
          "1_12",
          "1_13",
          "1_14",
          "1_15",
          "1_16",
          "1_17",
          "1_18",
          "1_19",
          "1_20",
          "1_21",
          "1_22",
          "1_23",
          "1_24",
          "1_25",
          "1_26",
          "1_27",
          "1_28",
          "1_29",
          "1_30"
         ],
         "categoryorder": "array",
         "domain": [
          0,
          0.49
         ],
         "showticklabels": true,
         "title": {
          "text": "problem"
         }
        },
        "xaxis2": {
         "anchor": "y2",
         "categoryarray": [
          "0_01",
          "0_02",
          "0_03",
          "0_04",
          "0_05",
          "0_06",
          "0_07",
          "0_08",
          "0_09",
          "0_10",
          "0_11",
          "0_12",
          "0_13",
          "0_14",
          "0_15",
          "0_16",
          "0_17",
          "0_18",
          "0_19",
          "0_20",
          "0_21",
          "0_22",
          "0_23",
          "0_24",
          "0_25",
          "0_26",
          "0_27",
          "0_28",
          "0_29",
          "0_30",
          "1_01",
          "1_02",
          "1_03",
          "1_04",
          "1_05",
          "1_06",
          "1_07",
          "1_08",
          "1_09",
          "1_10",
          "1_11",
          "1_12",
          "1_13",
          "1_14",
          "1_15",
          "1_16",
          "1_17",
          "1_18",
          "1_19",
          "1_20",
          "1_21",
          "1_22",
          "1_23",
          "1_24",
          "1_25",
          "1_26",
          "1_27",
          "1_28",
          "1_29",
          "1_30"
         ],
         "categoryorder": "array",
         "domain": [
          0.51,
          1
         ],
         "showticklabels": true,
         "title": {
          "text": "problem"
         }
        },
        "yaxis": {
         "anchor": "x",
         "domain": [
          0,
          1
         ],
         "showticklabels": true,
         "title": {
          "text": "plan_length_mean"
         }
        },
        "yaxis2": {
         "anchor": "x2",
         "domain": [
          0,
          1
         ],
         "showticklabels": true
        }
       }
      }
     },
     "metadata": {},
     "output_type": "display_data"
    },
    {
     "name": "stdout",
     "output_type": "stream",
     "text": [
      "satellite\n"
     ]
    },
    {
     "data": {
      "application/vnd.plotly.v1+json": {
       "config": {
        "plotlyServerURL": "https://plot.ly"
       },
       "data": [
        {
         "error_y": {
          "array": [
           0.5773502691896258,
           0.5773502691896255,
           1.5275252316519468,
           1.5275252316519468,
           0.5773502691896258,
           1,
           1,
           2,
           1.1547005383792517,
           0.5773502691896263,
           1.5275252316519472,
           0.5773502691896255,
           2.6457513110645907,
           2,
           1,
           2.081665999466133,
           1.7320508075688772,
           0.5773502691896263,
           2.0816659994661326,
           4.618802153517007,
           2.0816659994661335,
           2.516611478423584,
           2.081665999466132,
           2.5166114784235836,
           5.686240703077328,
           2,
           2,
           5.5677643628300215,
           4.04145188432738,
           4.618802153517006
          ]
         },
         "hovertemplate": "solver=baseline<br>type=bounds<br>difficulty=0<br>problem=%{x}<br>plan_length_mean=%{y}<extra></extra>",
         "legendgroup": "baseline, bounds",
         "line": {
          "color": "#636efa",
          "dash": "solid"
         },
         "marker": {
          "symbol": "circle"
         },
         "mode": "lines",
         "name": "baseline, bounds",
         "orientation": "v",
         "showlegend": true,
         "type": "scatter",
         "x": [
          "0_01",
          "0_02",
          "0_03",
          "0_04",
          "0_05",
          "0_06",
          "0_07",
          "0_08",
          "0_09",
          "0_10",
          "0_11",
          "0_12",
          "0_13",
          "0_14",
          "0_15",
          "0_16",
          "0_17",
          "0_18",
          "0_19",
          "0_20",
          "0_21",
          "0_22",
          "0_23",
          "0_24",
          "0_25",
          "0_26",
          "0_27",
          "0_28",
          "0_29",
          "0_30"
         ],
         "xaxis": "x",
         "y": [
          5.333333333333333,
          10.333333333333334,
          12.333333333333334,
          8.333333333333334,
          14.333333333333334,
          16,
          15,
          15,
          17.666666666666668,
          16.666666666666668,
          30.333333333333332,
          19.666666666666668,
          16,
          28,
          27,
          31.333333333333332,
          37,
          23.333333333333332,
          38.333333333333336,
          49.666666666666664,
          49.333333333333336,
          47.333333333333336,
          35.666666666666664,
          20.666666666666668,
          42.333333333333336,
          64,
          55,
          55,
          22.666666666666668,
          44.666666666666664
         ],
         "yaxis": "y"
        },
        {
         "error_y": {
          "array": [
           3.4641016151377544,
           9.865765724632496,
           6.928203230275509,
           5,
           2.88675134594813,
           2.6457513110645907,
           4.58257569495584,
           7.54983443527075,
           7.505553499465134,
           2.6457513110645907,
           6.557438524302,
           6.110100926607786,
           5.291502622129181,
           3.2145502536643145,
           6.082762530298219,
           6.429100507328634,
           9.504384952922168,
           3.7859388972001833,
           3.7859388972001797,
           5.686240703077331,
           8.082903768654758,
           7,
           9.29157324317757,
           11.789826122551595,
           2,
           2.6457513110645907,
           11.59022576714248,
           8.888194417315589,
           5.686240703077326
          ]
         },
         "hovertemplate": "solver=baseline<br>type=bounds<br>difficulty=1<br>problem=%{x}<br>plan_length_mean=%{y}<extra></extra>",
         "legendgroup": "baseline, bounds",
         "line": {
          "color": "#636efa",
          "dash": "solid"
         },
         "marker": {
          "symbol": "circle"
         },
         "mode": "lines",
         "name": "baseline, bounds",
         "orientation": "v",
         "showlegend": false,
         "type": "scatter",
         "x": [
          "1_01",
          "1_02",
          "1_03",
          "1_04",
          "1_05",
          "1_06",
          "1_07",
          "1_08",
          "1_09",
          "1_10",
          "1_11",
          "1_12",
          "1_13",
          "1_14",
          "1_15",
          "1_16",
          "1_17",
          "1_18",
          "1_19",
          "1_20",
          "1_21",
          "1_22",
          "1_23",
          "1_24",
          "1_25",
          "1_26",
          "1_27",
          "1_28",
          "1_30"
         ],
         "xaxis": "x2",
         "y": [
          93,
          99.66666666666667,
          93,
          109,
          88.66666666666667,
          106,
          119,
          30,
          106.66666666666667,
          54,
          173,
          121.33333333333333,
          156,
          154.66666666666666,
          60,
          175.66666666666666,
          110.66666666666667,
          74.33333333333333,
          174.66666666666666,
          222.33333333333334,
          208.33333333333334,
          208,
          107.33333333333333,
          249,
          121,
          235,
          271.3333333333333,
          87,
          146.66666666666666
         ],
         "yaxis": "y2"
        },
        {
         "error_y": {
          "array": [
           null,
           null,
           null,
           null,
           null,
           null,
           null,
           null,
           null,
           null,
           null,
           null,
           null,
           null,
           null,
           null,
           null,
           null,
           null,
           null,
           null,
           null,
           null,
           null,
           null,
           null,
           null,
           null,
           null,
           null
          ]
         },
         "hovertemplate": "solver=optimal<br>type=bounds<br>difficulty=0<br>problem=%{x}<br>plan_length_mean=%{y}<extra></extra>",
         "legendgroup": "optimal, bounds",
         "line": {
          "color": "#EF553B",
          "dash": "solid"
         },
         "marker": {
          "symbol": "circle"
         },
         "mode": "lines",
         "name": "optimal, bounds",
         "orientation": "v",
         "showlegend": true,
         "type": "scatter",
         "x": [
          "0_01",
          "0_02",
          "0_03",
          "0_04",
          "0_05",
          "0_06",
          "0_07",
          "0_08",
          "0_09",
          "0_10",
          "0_11",
          "0_12",
          "0_13",
          "0_14",
          "0_15",
          "0_16",
          "0_17",
          "0_18",
          "0_19",
          "0_20",
          "0_21",
          "0_22",
          "0_23",
          "0_24",
          "0_25",
          "0_26",
          "0_27",
          "0_28",
          "0_29",
          "0_30"
         ],
         "xaxis": "x",
         "y": [
          4,
          8,
          8,
          5,
          9,
          10,
          10,
          8,
          9,
          8,
          17,
          11,
          8,
          18,
          13,
          21,
          21,
          12,
          25,
          30,
          30,
          29,
          18,
          11,
          26,
          null,
          null,
          null,
          12,
          null
         ],
         "yaxis": "y"
        },
        {
         "error_y": {
          "array": [
           null,
           null,
           null,
           null,
           null,
           null,
           null,
           null,
           null,
           null,
           null,
           null,
           null,
           null,
           null,
           null,
           null,
           null,
           null,
           null,
           null,
           null,
           null,
           null,
           null,
           null,
           null,
           null,
           null,
           null
          ]
         },
         "hovertemplate": "solver=optimal<br>type=bounds<br>difficulty=1<br>problem=%{x}<br>plan_length_mean=%{y}<extra></extra>",
         "legendgroup": "optimal, bounds",
         "line": {
          "color": "#EF553B",
          "dash": "solid"
         },
         "marker": {
          "symbol": "circle"
         },
         "mode": "lines",
         "name": "optimal, bounds",
         "orientation": "v",
         "showlegend": false,
         "type": "scatter",
         "x": [
          "1_01",
          "1_02",
          "1_03",
          "1_04",
          "1_05",
          "1_06",
          "1_07",
          "1_08",
          "1_09",
          "1_10",
          "1_11",
          "1_12",
          "1_13",
          "1_14",
          "1_15",
          "1_16",
          "1_17",
          "1_18",
          "1_19",
          "1_20",
          "1_21",
          "1_22",
          "1_23",
          "1_24",
          "1_25",
          "1_26",
          "1_27",
          "1_28",
          "1_29",
          "1_30"
         ],
         "xaxis": "x2",
         "y": [
          null,
          null,
          null,
          null,
          null,
          null,
          null,
          12,
          null,
          21,
          null,
          null,
          null,
          null,
          22,
          null,
          null,
          null,
          null,
          null,
          null,
          null,
          null,
          null,
          null,
          null,
          null,
          null,
          null,
          null
         ],
         "yaxis": "y2"
        },
        {
         "error_y": {
          "array": [
           null,
           null,
           null,
           null,
           null,
           null,
           null,
           null,
           null,
           null,
           null,
           null,
           null,
           null,
           null,
           null,
           null,
           null,
           null,
           null,
           null,
           null,
           null,
           null,
           null,
           null,
           null,
           null,
           null,
           null
          ]
         },
         "hovertemplate": "solver=lama<br>type=bounds<br>difficulty=0<br>problem=%{x}<br>plan_length_mean=%{y}<extra></extra>",
         "legendgroup": "lama, bounds",
         "line": {
          "color": "#00cc96",
          "dash": "solid"
         },
         "marker": {
          "symbol": "circle"
         },
         "mode": "lines",
         "name": "lama, bounds",
         "orientation": "v",
         "showlegend": true,
         "type": "scatter",
         "x": [
          "0_01",
          "0_02",
          "0_03",
          "0_04",
          "0_05",
          "0_06",
          "0_07",
          "0_08",
          "0_09",
          "0_10",
          "0_11",
          "0_12",
          "0_13",
          "0_14",
          "0_15",
          "0_16",
          "0_17",
          "0_18",
          "0_19",
          "0_20",
          "0_21",
          "0_22",
          "0_23",
          "0_24",
          "0_25",
          "0_26",
          "0_27",
          "0_28",
          "0_29",
          "0_30"
         ],
         "xaxis": "x",
         "y": [
          4,
          8,
          8,
          5,
          9,
          15,
          10,
          10,
          10,
          8,
          21,
          12,
          10,
          18,
          13,
          22,
          21,
          14,
          26,
          37,
          34,
          30,
          19,
          12,
          28,
          52,
          40,
          36,
          13,
          33
         ],
         "yaxis": "y"
        },
        {
         "error_y": {
          "array": [
           null,
           null,
           null,
           null,
           null,
           null,
           null,
           null,
           null,
           null,
           null,
           null,
           null,
           null,
           null,
           null,
           null,
           null,
           null,
           null,
           null,
           null,
           null,
           null,
           null,
           null,
           null,
           null,
           null,
           null
          ]
         },
         "hovertemplate": "solver=lama<br>type=bounds<br>difficulty=1<br>problem=%{x}<br>plan_length_mean=%{y}<extra></extra>",
         "legendgroup": "lama, bounds",
         "line": {
          "color": "#00cc96",
          "dash": "solid"
         },
         "marker": {
          "symbol": "circle"
         },
         "mode": "lines",
         "name": "lama, bounds",
         "orientation": "v",
         "showlegend": false,
         "type": "scatter",
         "x": [
          "1_01",
          "1_02",
          "1_03",
          "1_04",
          "1_05",
          "1_06",
          "1_07",
          "1_08",
          "1_09",
          "1_10",
          "1_11",
          "1_12",
          "1_13",
          "1_14",
          "1_15",
          "1_16",
          "1_17",
          "1_18",
          "1_19",
          "1_20",
          "1_21",
          "1_22",
          "1_23",
          "1_24",
          "1_25",
          "1_26",
          "1_27",
          "1_28",
          "1_29",
          "1_30"
         ],
         "xaxis": "x2",
         "y": [
          64,
          77,
          59,
          77,
          74,
          63,
          67,
          13,
          76,
          23,
          116,
          80,
          115,
          99,
          22,
          113,
          58,
          37,
          132,
          170,
          142,
          125,
          52,
          184,
          74,
          175,
          197,
          31,
          209,
          78
         ],
         "yaxis": "y2"
        },
        {
         "error_y": {
          "array": [
           1,
           1.7320508075688772,
           2.5166114784235836,
           2.3094010767585034,
           3.4641016151377544,
           4.932882862316248,
           2.8867513459481287,
           1,
           3,
           5.773502691896258,
           6.244997998398398,
           1,
           1,
           5,
           3.511884584284246,
           6.658328118479393,
           8.54400374531753,
           1.7320508075688772,
           7.937253933193772,
           7.937253933193772,
           4.58257569495584,
           10.066445913694334,
           4.163331998932265,
           0,
           3.055050463303893,
           9.643650760992955,
           13.428824718989123,
           7.637626158259733,
           1.7320508075688772,
           2.3094010767585034
          ]
         },
         "hovertemplate": "solver=L2_D8_best<br>type=lrnn_best<br>difficulty=0<br>problem=%{x}<br>plan_length_mean=%{y}<extra></extra>",
         "legendgroup": "L2_D8_best, lrnn_best",
         "line": {
          "color": "#ab63fa",
          "dash": "dot"
         },
         "marker": {
          "symbol": "circle"
         },
         "mode": "lines",
         "name": "L2_D8_best, lrnn_best",
         "orientation": "v",
         "showlegend": true,
         "type": "scatter",
         "x": [
          "0_01",
          "0_02",
          "0_03",
          "0_04",
          "0_05",
          "0_06",
          "0_07",
          "0_08",
          "0_09",
          "0_10",
          "0_11",
          "0_12",
          "0_13",
          "0_14",
          "0_15",
          "0_16",
          "0_17",
          "0_18",
          "0_19",
          "0_20",
          "0_21",
          "0_22",
          "0_23",
          "0_24",
          "0_25",
          "0_26",
          "0_27",
          "0_28",
          "0_29",
          "0_30"
         ],
         "xaxis": "x",
         "y": [
          5,
          9,
          11.666666666666666,
          8.666666666666666,
          11,
          14.333333333333334,
          12.666666666666666,
          10,
          13,
          12.333333333333334,
          24,
          16,
          9,
          26,
          20.333333333333332,
          29.666666666666668,
          31,
          14,
          36,
          43,
          35,
          44.666666666666664,
          25.333333333333332,
          12,
          32.666666666666664,
          56,
          47.666666666666664,
          43.666666666666664,
          14,
          34.333333333333336
         ],
         "yaxis": "y"
        },
        {
         "error_y": {
          "array": [
           9.539392014169456,
           5.507570547286103,
           17.7857620959388,
           10.392304845413264,
           14.730919862656235,
           23.24507116214819,
           14.571661996262929,
           0,
           28.919428302325297,
           0.5773502691896255,
           24.11085509336683,
           13,
           27.736858750286295,
           32.92415526630866,
           1.1547005383792517,
           36.35014901390823,
           7.505553499465133,
           4.58257569495584,
           36.8284310463171,
           50.54041287260456,
           29.263173671584795,
           37.072002014098636,
           1.154700538379251,
           null,
           9.712534856222309,
           null,
           null,
           1.7320508075688772,
           6.350852961085884
          ]
         },
         "hovertemplate": "solver=L2_D8_best<br>type=lrnn_best<br>difficulty=1<br>problem=%{x}<br>plan_length_mean=%{y}<extra></extra>",
         "legendgroup": "L2_D8_best, lrnn_best",
         "line": {
          "color": "#ab63fa",
          "dash": "dot"
         },
         "marker": {
          "symbol": "circle"
         },
         "mode": "lines",
         "name": "L2_D8_best, lrnn_best",
         "orientation": "v",
         "showlegend": false,
         "type": "scatter",
         "x": [
          "1_01",
          "1_02",
          "1_03",
          "1_04",
          "1_05",
          "1_06",
          "1_07",
          "1_08",
          "1_09",
          "1_10",
          "1_11",
          "1_12",
          "1_13",
          "1_14",
          "1_15",
          "1_16",
          "1_17",
          "1_18",
          "1_19",
          "1_20",
          "1_21",
          "1_22",
          "1_23",
          "1_24",
          "1_25",
          "1_26",
          "1_27",
          "1_28",
          "1_30"
         ],
         "xaxis": "x2",
         "y": [
          103,
          101.66666666666667,
          94.33333333333333,
          108,
          86,
          83.66666666666667,
          103.66666666666667,
          13,
          93.66666666666667,
          25.333333333333332,
          168.66666666666666,
          94,
          139.33333333333334,
          138,
          28.333333333333332,
          149.33333333333334,
          81.33333333333333,
          40,
          148.33333333333334,
          197.66666666666666,
          175.33333333333334,
          168.33333333333334,
          56.666666666666664,
          285,
          74.33333333333333,
          304,
          320,
          33,
          92.66666666666667
         ],
         "yaxis": "y2"
        }
       ],
       "layout": {
        "annotations": [
         {
          "font": {},
          "showarrow": false,
          "text": "difficulty=0",
          "x": 0.245,
          "xanchor": "center",
          "xref": "paper",
          "y": 1,
          "yanchor": "bottom",
          "yref": "paper"
         },
         {
          "font": {},
          "showarrow": false,
          "text": "difficulty=1",
          "x": 0.755,
          "xanchor": "center",
          "xref": "paper",
          "y": 1,
          "yanchor": "bottom",
          "yref": "paper"
         }
        ],
        "legend": {
         "title": {
          "text": "solver, type"
         },
         "tracegroupgap": 0
        },
        "margin": {
         "t": 60
        },
        "template": {
         "data": {
          "bar": [
           {
            "error_x": {
             "color": "#2a3f5f"
            },
            "error_y": {
             "color": "#2a3f5f"
            },
            "marker": {
             "line": {
              "color": "#E5ECF6",
              "width": 0.5
             },
             "pattern": {
              "fillmode": "overlay",
              "size": 10,
              "solidity": 0.2
             }
            },
            "type": "bar"
           }
          ],
          "barpolar": [
           {
            "marker": {
             "line": {
              "color": "#E5ECF6",
              "width": 0.5
             },
             "pattern": {
              "fillmode": "overlay",
              "size": 10,
              "solidity": 0.2
             }
            },
            "type": "barpolar"
           }
          ],
          "carpet": [
           {
            "aaxis": {
             "endlinecolor": "#2a3f5f",
             "gridcolor": "white",
             "linecolor": "white",
             "minorgridcolor": "white",
             "startlinecolor": "#2a3f5f"
            },
            "baxis": {
             "endlinecolor": "#2a3f5f",
             "gridcolor": "white",
             "linecolor": "white",
             "minorgridcolor": "white",
             "startlinecolor": "#2a3f5f"
            },
            "type": "carpet"
           }
          ],
          "choropleth": [
           {
            "colorbar": {
             "outlinewidth": 0,
             "ticks": ""
            },
            "type": "choropleth"
           }
          ],
          "contour": [
           {
            "colorbar": {
             "outlinewidth": 0,
             "ticks": ""
            },
            "colorscale": [
             [
              0,
              "#0d0887"
             ],
             [
              0.1111111111111111,
              "#46039f"
             ],
             [
              0.2222222222222222,
              "#7201a8"
             ],
             [
              0.3333333333333333,
              "#9c179e"
             ],
             [
              0.4444444444444444,
              "#bd3786"
             ],
             [
              0.5555555555555556,
              "#d8576b"
             ],
             [
              0.6666666666666666,
              "#ed7953"
             ],
             [
              0.7777777777777778,
              "#fb9f3a"
             ],
             [
              0.8888888888888888,
              "#fdca26"
             ],
             [
              1,
              "#f0f921"
             ]
            ],
            "type": "contour"
           }
          ],
          "contourcarpet": [
           {
            "colorbar": {
             "outlinewidth": 0,
             "ticks": ""
            },
            "type": "contourcarpet"
           }
          ],
          "heatmap": [
           {
            "colorbar": {
             "outlinewidth": 0,
             "ticks": ""
            },
            "colorscale": [
             [
              0,
              "#0d0887"
             ],
             [
              0.1111111111111111,
              "#46039f"
             ],
             [
              0.2222222222222222,
              "#7201a8"
             ],
             [
              0.3333333333333333,
              "#9c179e"
             ],
             [
              0.4444444444444444,
              "#bd3786"
             ],
             [
              0.5555555555555556,
              "#d8576b"
             ],
             [
              0.6666666666666666,
              "#ed7953"
             ],
             [
              0.7777777777777778,
              "#fb9f3a"
             ],
             [
              0.8888888888888888,
              "#fdca26"
             ],
             [
              1,
              "#f0f921"
             ]
            ],
            "type": "heatmap"
           }
          ],
          "heatmapgl": [
           {
            "colorbar": {
             "outlinewidth": 0,
             "ticks": ""
            },
            "colorscale": [
             [
              0,
              "#0d0887"
             ],
             [
              0.1111111111111111,
              "#46039f"
             ],
             [
              0.2222222222222222,
              "#7201a8"
             ],
             [
              0.3333333333333333,
              "#9c179e"
             ],
             [
              0.4444444444444444,
              "#bd3786"
             ],
             [
              0.5555555555555556,
              "#d8576b"
             ],
             [
              0.6666666666666666,
              "#ed7953"
             ],
             [
              0.7777777777777778,
              "#fb9f3a"
             ],
             [
              0.8888888888888888,
              "#fdca26"
             ],
             [
              1,
              "#f0f921"
             ]
            ],
            "type": "heatmapgl"
           }
          ],
          "histogram": [
           {
            "marker": {
             "pattern": {
              "fillmode": "overlay",
              "size": 10,
              "solidity": 0.2
             }
            },
            "type": "histogram"
           }
          ],
          "histogram2d": [
           {
            "colorbar": {
             "outlinewidth": 0,
             "ticks": ""
            },
            "colorscale": [
             [
              0,
              "#0d0887"
             ],
             [
              0.1111111111111111,
              "#46039f"
             ],
             [
              0.2222222222222222,
              "#7201a8"
             ],
             [
              0.3333333333333333,
              "#9c179e"
             ],
             [
              0.4444444444444444,
              "#bd3786"
             ],
             [
              0.5555555555555556,
              "#d8576b"
             ],
             [
              0.6666666666666666,
              "#ed7953"
             ],
             [
              0.7777777777777778,
              "#fb9f3a"
             ],
             [
              0.8888888888888888,
              "#fdca26"
             ],
             [
              1,
              "#f0f921"
             ]
            ],
            "type": "histogram2d"
           }
          ],
          "histogram2dcontour": [
           {
            "colorbar": {
             "outlinewidth": 0,
             "ticks": ""
            },
            "colorscale": [
             [
              0,
              "#0d0887"
             ],
             [
              0.1111111111111111,
              "#46039f"
             ],
             [
              0.2222222222222222,
              "#7201a8"
             ],
             [
              0.3333333333333333,
              "#9c179e"
             ],
             [
              0.4444444444444444,
              "#bd3786"
             ],
             [
              0.5555555555555556,
              "#d8576b"
             ],
             [
              0.6666666666666666,
              "#ed7953"
             ],
             [
              0.7777777777777778,
              "#fb9f3a"
             ],
             [
              0.8888888888888888,
              "#fdca26"
             ],
             [
              1,
              "#f0f921"
             ]
            ],
            "type": "histogram2dcontour"
           }
          ],
          "mesh3d": [
           {
            "colorbar": {
             "outlinewidth": 0,
             "ticks": ""
            },
            "type": "mesh3d"
           }
          ],
          "parcoords": [
           {
            "line": {
             "colorbar": {
              "outlinewidth": 0,
              "ticks": ""
             }
            },
            "type": "parcoords"
           }
          ],
          "pie": [
           {
            "automargin": true,
            "type": "pie"
           }
          ],
          "scatter": [
           {
            "fillpattern": {
             "fillmode": "overlay",
             "size": 10,
             "solidity": 0.2
            },
            "type": "scatter"
           }
          ],
          "scatter3d": [
           {
            "line": {
             "colorbar": {
              "outlinewidth": 0,
              "ticks": ""
             }
            },
            "marker": {
             "colorbar": {
              "outlinewidth": 0,
              "ticks": ""
             }
            },
            "type": "scatter3d"
           }
          ],
          "scattercarpet": [
           {
            "marker": {
             "colorbar": {
              "outlinewidth": 0,
              "ticks": ""
             }
            },
            "type": "scattercarpet"
           }
          ],
          "scattergeo": [
           {
            "marker": {
             "colorbar": {
              "outlinewidth": 0,
              "ticks": ""
             }
            },
            "type": "scattergeo"
           }
          ],
          "scattergl": [
           {
            "marker": {
             "colorbar": {
              "outlinewidth": 0,
              "ticks": ""
             }
            },
            "type": "scattergl"
           }
          ],
          "scattermapbox": [
           {
            "marker": {
             "colorbar": {
              "outlinewidth": 0,
              "ticks": ""
             }
            },
            "type": "scattermapbox"
           }
          ],
          "scatterpolar": [
           {
            "marker": {
             "colorbar": {
              "outlinewidth": 0,
              "ticks": ""
             }
            },
            "type": "scatterpolar"
           }
          ],
          "scatterpolargl": [
           {
            "marker": {
             "colorbar": {
              "outlinewidth": 0,
              "ticks": ""
             }
            },
            "type": "scatterpolargl"
           }
          ],
          "scatterternary": [
           {
            "marker": {
             "colorbar": {
              "outlinewidth": 0,
              "ticks": ""
             }
            },
            "type": "scatterternary"
           }
          ],
          "surface": [
           {
            "colorbar": {
             "outlinewidth": 0,
             "ticks": ""
            },
            "colorscale": [
             [
              0,
              "#0d0887"
             ],
             [
              0.1111111111111111,
              "#46039f"
             ],
             [
              0.2222222222222222,
              "#7201a8"
             ],
             [
              0.3333333333333333,
              "#9c179e"
             ],
             [
              0.4444444444444444,
              "#bd3786"
             ],
             [
              0.5555555555555556,
              "#d8576b"
             ],
             [
              0.6666666666666666,
              "#ed7953"
             ],
             [
              0.7777777777777778,
              "#fb9f3a"
             ],
             [
              0.8888888888888888,
              "#fdca26"
             ],
             [
              1,
              "#f0f921"
             ]
            ],
            "type": "surface"
           }
          ],
          "table": [
           {
            "cells": {
             "fill": {
              "color": "#EBF0F8"
             },
             "line": {
              "color": "white"
             }
            },
            "header": {
             "fill": {
              "color": "#C8D4E3"
             },
             "line": {
              "color": "white"
             }
            },
            "type": "table"
           }
          ]
         },
         "layout": {
          "annotationdefaults": {
           "arrowcolor": "#2a3f5f",
           "arrowhead": 0,
           "arrowwidth": 1
          },
          "autotypenumbers": "strict",
          "coloraxis": {
           "colorbar": {
            "outlinewidth": 0,
            "ticks": ""
           }
          },
          "colorscale": {
           "diverging": [
            [
             0,
             "#8e0152"
            ],
            [
             0.1,
             "#c51b7d"
            ],
            [
             0.2,
             "#de77ae"
            ],
            [
             0.3,
             "#f1b6da"
            ],
            [
             0.4,
             "#fde0ef"
            ],
            [
             0.5,
             "#f7f7f7"
            ],
            [
             0.6,
             "#e6f5d0"
            ],
            [
             0.7,
             "#b8e186"
            ],
            [
             0.8,
             "#7fbc41"
            ],
            [
             0.9,
             "#4d9221"
            ],
            [
             1,
             "#276419"
            ]
           ],
           "sequential": [
            [
             0,
             "#0d0887"
            ],
            [
             0.1111111111111111,
             "#46039f"
            ],
            [
             0.2222222222222222,
             "#7201a8"
            ],
            [
             0.3333333333333333,
             "#9c179e"
            ],
            [
             0.4444444444444444,
             "#bd3786"
            ],
            [
             0.5555555555555556,
             "#d8576b"
            ],
            [
             0.6666666666666666,
             "#ed7953"
            ],
            [
             0.7777777777777778,
             "#fb9f3a"
            ],
            [
             0.8888888888888888,
             "#fdca26"
            ],
            [
             1,
             "#f0f921"
            ]
           ],
           "sequentialminus": [
            [
             0,
             "#0d0887"
            ],
            [
             0.1111111111111111,
             "#46039f"
            ],
            [
             0.2222222222222222,
             "#7201a8"
            ],
            [
             0.3333333333333333,
             "#9c179e"
            ],
            [
             0.4444444444444444,
             "#bd3786"
            ],
            [
             0.5555555555555556,
             "#d8576b"
            ],
            [
             0.6666666666666666,
             "#ed7953"
            ],
            [
             0.7777777777777778,
             "#fb9f3a"
            ],
            [
             0.8888888888888888,
             "#fdca26"
            ],
            [
             1,
             "#f0f921"
            ]
           ]
          },
          "colorway": [
           "#636efa",
           "#EF553B",
           "#00cc96",
           "#ab63fa",
           "#FFA15A",
           "#19d3f3",
           "#FF6692",
           "#B6E880",
           "#FF97FF",
           "#FECB52"
          ],
          "font": {
           "color": "#2a3f5f"
          },
          "geo": {
           "bgcolor": "white",
           "lakecolor": "white",
           "landcolor": "#E5ECF6",
           "showlakes": true,
           "showland": true,
           "subunitcolor": "white"
          },
          "hoverlabel": {
           "align": "left"
          },
          "hovermode": "closest",
          "mapbox": {
           "style": "light"
          },
          "paper_bgcolor": "white",
          "plot_bgcolor": "#E5ECF6",
          "polar": {
           "angularaxis": {
            "gridcolor": "white",
            "linecolor": "white",
            "ticks": ""
           },
           "bgcolor": "#E5ECF6",
           "radialaxis": {
            "gridcolor": "white",
            "linecolor": "white",
            "ticks": ""
           }
          },
          "scene": {
           "xaxis": {
            "backgroundcolor": "#E5ECF6",
            "gridcolor": "white",
            "gridwidth": 2,
            "linecolor": "white",
            "showbackground": true,
            "ticks": "",
            "zerolinecolor": "white"
           },
           "yaxis": {
            "backgroundcolor": "#E5ECF6",
            "gridcolor": "white",
            "gridwidth": 2,
            "linecolor": "white",
            "showbackground": true,
            "ticks": "",
            "zerolinecolor": "white"
           },
           "zaxis": {
            "backgroundcolor": "#E5ECF6",
            "gridcolor": "white",
            "gridwidth": 2,
            "linecolor": "white",
            "showbackground": true,
            "ticks": "",
            "zerolinecolor": "white"
           }
          },
          "shapedefaults": {
           "line": {
            "color": "#2a3f5f"
           }
          },
          "ternary": {
           "aaxis": {
            "gridcolor": "white",
            "linecolor": "white",
            "ticks": ""
           },
           "baxis": {
            "gridcolor": "white",
            "linecolor": "white",
            "ticks": ""
           },
           "bgcolor": "#E5ECF6",
           "caxis": {
            "gridcolor": "white",
            "linecolor": "white",
            "ticks": ""
           }
          },
          "title": {
           "x": 0.05
          },
          "xaxis": {
           "automargin": true,
           "gridcolor": "white",
           "linecolor": "white",
           "ticks": "",
           "title": {
            "standoff": 15
           },
           "zerolinecolor": "white",
           "zerolinewidth": 2
          },
          "yaxis": {
           "automargin": true,
           "gridcolor": "white",
           "linecolor": "white",
           "ticks": "",
           "title": {
            "standoff": 15
           },
           "zerolinecolor": "white",
           "zerolinewidth": 2
          }
         }
        },
        "xaxis": {
         "anchor": "y",
         "categoryarray": [
          "0_01",
          "0_02",
          "0_03",
          "0_04",
          "0_05",
          "0_06",
          "0_07",
          "0_08",
          "0_09",
          "0_10",
          "0_11",
          "0_12",
          "0_13",
          "0_14",
          "0_15",
          "0_16",
          "0_17",
          "0_18",
          "0_19",
          "0_20",
          "0_21",
          "0_22",
          "0_23",
          "0_24",
          "0_25",
          "0_26",
          "0_27",
          "0_28",
          "0_29",
          "0_30",
          "1_01",
          "1_02",
          "1_03",
          "1_04",
          "1_05",
          "1_06",
          "1_07",
          "1_08",
          "1_09",
          "1_10",
          "1_11",
          "1_12",
          "1_13",
          "1_14",
          "1_15",
          "1_16",
          "1_17",
          "1_18",
          "1_19",
          "1_20",
          "1_21",
          "1_22",
          "1_23",
          "1_24",
          "1_25",
          "1_26",
          "1_27",
          "1_28",
          "1_29",
          "1_30"
         ],
         "categoryorder": "array",
         "domain": [
          0,
          0.49
         ],
         "showticklabels": true,
         "title": {
          "text": "problem"
         }
        },
        "xaxis2": {
         "anchor": "y2",
         "categoryarray": [
          "0_01",
          "0_02",
          "0_03",
          "0_04",
          "0_05",
          "0_06",
          "0_07",
          "0_08",
          "0_09",
          "0_10",
          "0_11",
          "0_12",
          "0_13",
          "0_14",
          "0_15",
          "0_16",
          "0_17",
          "0_18",
          "0_19",
          "0_20",
          "0_21",
          "0_22",
          "0_23",
          "0_24",
          "0_25",
          "0_26",
          "0_27",
          "0_28",
          "0_29",
          "0_30",
          "1_01",
          "1_02",
          "1_03",
          "1_04",
          "1_05",
          "1_06",
          "1_07",
          "1_08",
          "1_09",
          "1_10",
          "1_11",
          "1_12",
          "1_13",
          "1_14",
          "1_15",
          "1_16",
          "1_17",
          "1_18",
          "1_19",
          "1_20",
          "1_21",
          "1_22",
          "1_23",
          "1_24",
          "1_25",
          "1_26",
          "1_27",
          "1_28",
          "1_29",
          "1_30"
         ],
         "categoryorder": "array",
         "domain": [
          0.51,
          1
         ],
         "showticklabels": true,
         "title": {
          "text": "problem"
         }
        },
        "yaxis": {
         "anchor": "x",
         "domain": [
          0,
          1
         ],
         "showticklabels": true,
         "title": {
          "text": "plan_length_mean"
         }
        },
        "yaxis2": {
         "anchor": "x2",
         "domain": [
          0,
          1
         ],
         "showticklabels": true
        }
       }
      }
     },
     "metadata": {},
     "output_type": "display_data"
    },
    {
     "name": "stdout",
     "output_type": "stream",
     "text": [
      "rover\n"
     ]
    },
    {
     "data": {
      "application/vnd.plotly.v1+json": {
       "config": {
        "plotlyServerURL": "https://plot.ly"
       },
       "data": [
        {
         "error_y": {
          "array": [
           0.5773502691896255,
           0.5773502691896255,
           0.5773502691896255,
           0.5773502691896263,
           1.1547005383792517,
           1,
           0,
           1.5275252316519463,
           0,
           0.5773502691896263,
           1.154700538379251,
           1.5275252316519456,
           2.516611478423584,
           0,
           3,
           1.5275252316519463,
           1.5275252316519468,
           1.5275252316519465,
           7.371114795831994,
           4.04145188432738,
           3.0550504633038944,
           3.0550504633038913,
           2.081665999466131,
           2.516611478423582,
           1.154700538379251,
           0,
           1.1547005383792526,
           21.633307652783937,
           0.5773502691896263,
           8.621678104251707
          ]
         },
         "hovertemplate": "solver=baseline<br>type=bounds<br>difficulty=0<br>problem=%{x}<br>plan_length_mean=%{y}<extra></extra>",
         "legendgroup": "baseline, bounds",
         "line": {
          "color": "#636efa",
          "dash": "solid"
         },
         "marker": {
          "symbol": "circle"
         },
         "mode": "lines",
         "name": "baseline, bounds",
         "orientation": "v",
         "showlegend": true,
         "type": "scatter",
         "x": [
          "0_01",
          "0_02",
          "0_03",
          "0_04",
          "0_05",
          "0_06",
          "0_07",
          "0_08",
          "0_09",
          "0_10",
          "0_11",
          "0_12",
          "0_13",
          "0_14",
          "0_15",
          "0_16",
          "0_17",
          "0_18",
          "0_19",
          "0_20",
          "0_21",
          "0_22",
          "0_23",
          "0_24",
          "0_25",
          "0_26",
          "0_27",
          "0_28",
          "0_29",
          "0_30"
         ],
         "xaxis": "x",
         "y": [
          9.666666666666666,
          17.666666666666668,
          24.333333333333332,
          18.333333333333332,
          7.333333333333333,
          21,
          35,
          19.666666666666668,
          6,
          17.333333333333332,
          26.666666666666668,
          33.333333333333336,
          38.333333333333336,
          25,
          44,
          30.333333333333332,
          55.333333333333336,
          29.333333333333332,
          58.333333333333336,
          98.66666666666667,
          44.666666666666664,
          96.66666666666667,
          72.33333333333333,
          73.66666666666667,
          55.666666666666664,
          49,
          65.33333333333333,
          139,
          27.333333333333332,
          105.33333333333333
         ],
         "yaxis": "y"
        },
        {
         "error_y": {
          "array": [
           4.58257569495584,
           4.58257569495584,
           17.925772879665004,
           3.055050463303897,
           7,
           24.06241883103193,
           13.576941236277541,
           61.220911460055866,
           9.504384952922177,
           286.50712614755906,
           53.74011537017761,
           6.658328118479388,
           16.563010998406465,
           14.849242404917497,
           null,
           null,
           null
          ]
         },
         "hovertemplate": "solver=baseline<br>type=bounds<br>difficulty=1<br>problem=%{x}<br>plan_length_mean=%{y}<extra></extra>",
         "legendgroup": "baseline, bounds",
         "line": {
          "color": "#636efa",
          "dash": "solid"
         },
         "marker": {
          "symbol": "circle"
         },
         "mode": "lines",
         "name": "baseline, bounds",
         "orientation": "v",
         "showlegend": false,
         "type": "scatter",
         "x": [
          "1_01",
          "1_02",
          "1_03",
          "1_04",
          "1_05",
          "1_06",
          "1_07",
          "1_08",
          "1_09",
          "1_10",
          "1_12",
          "1_13",
          "1_15",
          "1_24",
          "1_25",
          "1_29",
          "1_30"
         ],
         "xaxis": "x2",
         "y": [
          152,
          138,
          232.33333333333334,
          250.33333333333334,
          292,
          217,
          344.6666666666667,
          461,
          266.6666666666667,
          386.3333333333333,
          556,
          378.3333333333333,
          210.33333333333334,
          209.5,
          null,
          null,
          null
         ],
         "yaxis": "y2"
        },
        {
         "error_y": {
          "array": [
           null,
           null,
           null,
           null,
           null,
           null,
           null,
           null,
           null,
           null,
           null,
           null,
           null,
           null,
           null,
           null,
           null,
           null,
           null,
           null,
           null,
           null,
           null,
           null,
           null,
           null,
           null,
           null,
           null,
           null
          ]
         },
         "hovertemplate": "solver=optimal<br>type=bounds<br>difficulty=0<br>problem=%{x}<br>plan_length_mean=%{y}<extra></extra>",
         "legendgroup": "optimal, bounds",
         "line": {
          "color": "#EF553B",
          "dash": "solid"
         },
         "marker": {
          "symbol": "circle"
         },
         "mode": "lines",
         "name": "optimal, bounds",
         "orientation": "v",
         "showlegend": true,
         "type": "scatter",
         "x": [
          "0_01",
          "0_02",
          "0_03",
          "0_04",
          "0_05",
          "0_06",
          "0_07",
          "0_08",
          "0_09",
          "0_10",
          "0_11",
          "0_12",
          "0_13",
          "0_14",
          "0_15",
          "0_16",
          "0_17",
          "0_18",
          "0_19",
          "0_20",
          "0_21",
          "0_22",
          "0_23",
          "0_24",
          "0_25",
          "0_26",
          "0_27",
          "0_28",
          "0_29",
          "0_30"
         ],
         "xaxis": "x",
         "y": [
          9,
          16,
          23,
          16,
          6,
          20,
          34,
          17,
          6,
          16,
          26,
          28,
          34,
          21,
          41,
          24,
          null,
          26,
          null,
          null,
          null,
          null,
          null,
          null,
          null,
          null,
          null,
          null,
          23,
          null
         ],
         "yaxis": "y"
        },
        {
         "error_y": {
          "array": [
           null,
           null,
           null,
           null,
           null,
           null,
           null,
           null,
           null,
           null,
           null,
           null,
           null,
           null,
           null,
           null,
           null,
           null,
           null,
           null,
           null,
           null,
           null,
           null,
           null,
           null,
           null,
           null,
           null,
           null
          ]
         },
         "hovertemplate": "solver=optimal<br>type=bounds<br>difficulty=1<br>problem=%{x}<br>plan_length_mean=%{y}<extra></extra>",
         "legendgroup": "optimal, bounds",
         "line": {
          "color": "#EF553B",
          "dash": "solid"
         },
         "marker": {
          "symbol": "circle"
         },
         "mode": "lines",
         "name": "optimal, bounds",
         "orientation": "v",
         "showlegend": false,
         "type": "scatter",
         "x": [
          "1_01",
          "1_02",
          "1_03",
          "1_04",
          "1_05",
          "1_06",
          "1_07",
          "1_08",
          "1_09",
          "1_10",
          "1_11",
          "1_12",
          "1_13",
          "1_14",
          "1_15",
          "1_16",
          "1_17",
          "1_18",
          "1_19",
          "1_20",
          "1_21",
          "1_22",
          "1_23",
          "1_24",
          "1_25",
          "1_26",
          "1_27",
          "1_28",
          "1_29",
          "1_30"
         ],
         "xaxis": "x2",
         "y": [
          null,
          null,
          null,
          null,
          null,
          null,
          null,
          null,
          null,
          null,
          null,
          null,
          null,
          null,
          null,
          null,
          null,
          null,
          null,
          null,
          null,
          null,
          null,
          null,
          null,
          null,
          null,
          null,
          null,
          null
         ],
         "yaxis": "y2"
        },
        {
         "error_y": {
          "array": [
           null,
           null,
           null,
           null,
           null,
           null,
           null,
           null,
           null,
           null,
           null,
           null,
           null,
           null,
           null,
           null,
           null,
           null,
           null,
           null,
           null,
           null,
           null,
           null,
           null,
           null,
           null,
           null,
           null,
           null
          ]
         },
         "hovertemplate": "solver=lama<br>type=bounds<br>difficulty=0<br>problem=%{x}<br>plan_length_mean=%{y}<extra></extra>",
         "legendgroup": "lama, bounds",
         "line": {
          "color": "#00cc96",
          "dash": "solid"
         },
         "marker": {
          "symbol": "circle"
         },
         "mode": "lines",
         "name": "lama, bounds",
         "orientation": "v",
         "showlegend": true,
         "type": "scatter",
         "x": [
          "0_01",
          "0_02",
          "0_03",
          "0_04",
          "0_05",
          "0_06",
          "0_07",
          "0_08",
          "0_09",
          "0_10",
          "0_11",
          "0_12",
          "0_13",
          "0_14",
          "0_15",
          "0_16",
          "0_17",
          "0_18",
          "0_19",
          "0_20",
          "0_21",
          "0_22",
          "0_23",
          "0_24",
          "0_25",
          "0_26",
          "0_27",
          "0_28",
          "0_29",
          "0_30"
         ],
         "xaxis": "x",
         "y": [
          9,
          17,
          24,
          17,
          7,
          21,
          37,
          19,
          6,
          16,
          31,
          28,
          37,
          25,
          42,
          27,
          67,
          28,
          60,
          94,
          46,
          98,
          77,
          74,
          53,
          47,
          76,
          123,
          25,
          107
         ],
         "yaxis": "y"
        },
        {
         "error_y": {
          "array": [
           null,
           null,
           null,
           null,
           null,
           null,
           null,
           null,
           null,
           null,
           null,
           null,
           null,
           null,
           null,
           null,
           null,
           null,
           null,
           null,
           null,
           null,
           null,
           null,
           null,
           null,
           null,
           null,
           null,
           null
          ]
         },
         "hovertemplate": "solver=lama<br>type=bounds<br>difficulty=1<br>problem=%{x}<br>plan_length_mean=%{y}<extra></extra>",
         "legendgroup": "lama, bounds",
         "line": {
          "color": "#00cc96",
          "dash": "solid"
         },
         "marker": {
          "symbol": "circle"
         },
         "mode": "lines",
         "name": "lama, bounds",
         "orientation": "v",
         "showlegend": false,
         "type": "scatter",
         "x": [
          "1_01",
          "1_02",
          "1_03",
          "1_04",
          "1_05",
          "1_06",
          "1_07",
          "1_08",
          "1_09",
          "1_10",
          "1_11",
          "1_12",
          "1_13",
          "1_14",
          "1_15",
          "1_16",
          "1_17",
          "1_18",
          "1_19",
          "1_20",
          "1_21",
          "1_22",
          "1_23",
          "1_24",
          "1_25",
          "1_26",
          "1_27",
          "1_28",
          "1_29",
          "1_30"
         ],
         "xaxis": "x2",
         "y": [
          142,
          140,
          300,
          227,
          296,
          222,
          215,
          358,
          255,
          228,
          446,
          521,
          385,
          218,
          193,
          228,
          471,
          null,
          null,
          635,
          483,
          328,
          689,
          194,
          806,
          609,
          null,
          872,
          null,
          1188
         ],
         "yaxis": "y2"
        },
        {
         "error_y": {
          "array": [
           0,
           1.5275252316519463,
           2.081665999466132,
           1,
           0.5773502691896258,
           0.5773502691896263,
           0.5773502691896247,
           1.1547005383792517,
           0,
           0,
           0.5773502691896263,
           1.7320508075688772,
           0.5773502691896247,
           1,
           0,
           3.4641016151377544,
           0,
           1,
           23.57965224510319,
           20.8806130178211,
           2.886751345948128,
           7.234178138070233,
           4.041451884327379,
           11.357816691600547,
           6.110100926607785,
           17.69180601295413,
           0.5773502691896263,
           31.21431295629191,
           8.54400374531753,
           62.083277404896506
          ]
         },
         "hovertemplate": "solver=L2_D8_best<br>type=lrnn_best<br>difficulty=0<br>problem=%{x}<br>plan_length_mean=%{y}<extra></extra>",
         "legendgroup": "L2_D8_best, lrnn_best",
         "line": {
          "color": "#ab63fa",
          "dash": "dot"
         },
         "marker": {
          "symbol": "circle"
         },
         "mode": "lines",
         "name": "L2_D8_best, lrnn_best",
         "orientation": "v",
         "showlegend": true,
         "type": "scatter",
         "x": [
          "0_01",
          "0_02",
          "0_03",
          "0_04",
          "0_05",
          "0_06",
          "0_07",
          "0_08",
          "0_09",
          "0_10",
          "0_11",
          "0_12",
          "0_13",
          "0_14",
          "0_15",
          "0_16",
          "0_17",
          "0_18",
          "0_19",
          "0_20",
          "0_21",
          "0_22",
          "0_23",
          "0_24",
          "0_25",
          "0_26",
          "0_27",
          "0_28",
          "0_29",
          "0_30"
         ],
         "xaxis": "x",
         "y": [
          10,
          17.666666666666668,
          26.333333333333332,
          17,
          6.333333333333333,
          21.333333333333332,
          34.666666666666664,
          18.666666666666668,
          6,
          17,
          26.333333333333332,
          34,
          34.333333333333336,
          23,
          44,
          31,
          54,
          28,
          74,
          99,
          46.333333333333336,
          103.33333333333333,
          77.33333333333333,
          71,
          64.66666666666667,
          73,
          62.333333333333336,
          138.33333333333334,
          34,
          129.33333333333334
         ],
         "yaxis": "y"
        },
        {
         "error_y": {
          "array": [
           16.703293088490067,
           3.214550253664321,
           94.11340676722597,
           206.47518010647187,
           null,
           null,
           83.60821331264849,
           null,
           null,
           72.22418800743512,
           152.02795795510772,
           null,
           null,
           null,
           null,
           null,
           null,
           null,
           null,
           null,
           null,
           null,
           null
          ]
         },
         "hovertemplate": "solver=L2_D8_best<br>type=lrnn_best<br>difficulty=1<br>problem=%{x}<br>plan_length_mean=%{y}<extra></extra>",
         "legendgroup": "L2_D8_best, lrnn_best",
         "line": {
          "color": "#ab63fa",
          "dash": "dot"
         },
         "marker": {
          "symbol": "circle"
         },
         "mode": "lines",
         "name": "L2_D8_best, lrnn_best",
         "orientation": "v",
         "showlegend": false,
         "type": "scatter",
         "x": [
          "1_01",
          "1_02",
          "1_03",
          "1_04",
          "1_05",
          "1_06",
          "1_07",
          "1_08",
          "1_09",
          "1_10",
          "1_12",
          "1_13",
          "1_17",
          "1_18",
          "1_19",
          "1_20",
          "1_22",
          "1_23",
          "1_25",
          "1_26",
          "1_28",
          "1_29",
          "1_30"
         ],
         "xaxis": "x2",
         "y": [
          192,
          128.66666666666666,
          336.3333333333333,
          831,
          351,
          null,
          266.6666666666667,
          null,
          null,
          258.6666666666667,
          863.5,
          null,
          null,
          null,
          null,
          null,
          null,
          null,
          null,
          null,
          null,
          null,
          null
         ],
         "yaxis": "y2"
        }
       ],
       "layout": {
        "annotations": [
         {
          "font": {},
          "showarrow": false,
          "text": "difficulty=0",
          "x": 0.245,
          "xanchor": "center",
          "xref": "paper",
          "y": 1,
          "yanchor": "bottom",
          "yref": "paper"
         },
         {
          "font": {},
          "showarrow": false,
          "text": "difficulty=1",
          "x": 0.755,
          "xanchor": "center",
          "xref": "paper",
          "y": 1,
          "yanchor": "bottom",
          "yref": "paper"
         }
        ],
        "legend": {
         "title": {
          "text": "solver, type"
         },
         "tracegroupgap": 0
        },
        "margin": {
         "t": 60
        },
        "template": {
         "data": {
          "bar": [
           {
            "error_x": {
             "color": "#2a3f5f"
            },
            "error_y": {
             "color": "#2a3f5f"
            },
            "marker": {
             "line": {
              "color": "#E5ECF6",
              "width": 0.5
             },
             "pattern": {
              "fillmode": "overlay",
              "size": 10,
              "solidity": 0.2
             }
            },
            "type": "bar"
           }
          ],
          "barpolar": [
           {
            "marker": {
             "line": {
              "color": "#E5ECF6",
              "width": 0.5
             },
             "pattern": {
              "fillmode": "overlay",
              "size": 10,
              "solidity": 0.2
             }
            },
            "type": "barpolar"
           }
          ],
          "carpet": [
           {
            "aaxis": {
             "endlinecolor": "#2a3f5f",
             "gridcolor": "white",
             "linecolor": "white",
             "minorgridcolor": "white",
             "startlinecolor": "#2a3f5f"
            },
            "baxis": {
             "endlinecolor": "#2a3f5f",
             "gridcolor": "white",
             "linecolor": "white",
             "minorgridcolor": "white",
             "startlinecolor": "#2a3f5f"
            },
            "type": "carpet"
           }
          ],
          "choropleth": [
           {
            "colorbar": {
             "outlinewidth": 0,
             "ticks": ""
            },
            "type": "choropleth"
           }
          ],
          "contour": [
           {
            "colorbar": {
             "outlinewidth": 0,
             "ticks": ""
            },
            "colorscale": [
             [
              0,
              "#0d0887"
             ],
             [
              0.1111111111111111,
              "#46039f"
             ],
             [
              0.2222222222222222,
              "#7201a8"
             ],
             [
              0.3333333333333333,
              "#9c179e"
             ],
             [
              0.4444444444444444,
              "#bd3786"
             ],
             [
              0.5555555555555556,
              "#d8576b"
             ],
             [
              0.6666666666666666,
              "#ed7953"
             ],
             [
              0.7777777777777778,
              "#fb9f3a"
             ],
             [
              0.8888888888888888,
              "#fdca26"
             ],
             [
              1,
              "#f0f921"
             ]
            ],
            "type": "contour"
           }
          ],
          "contourcarpet": [
           {
            "colorbar": {
             "outlinewidth": 0,
             "ticks": ""
            },
            "type": "contourcarpet"
           }
          ],
          "heatmap": [
           {
            "colorbar": {
             "outlinewidth": 0,
             "ticks": ""
            },
            "colorscale": [
             [
              0,
              "#0d0887"
             ],
             [
              0.1111111111111111,
              "#46039f"
             ],
             [
              0.2222222222222222,
              "#7201a8"
             ],
             [
              0.3333333333333333,
              "#9c179e"
             ],
             [
              0.4444444444444444,
              "#bd3786"
             ],
             [
              0.5555555555555556,
              "#d8576b"
             ],
             [
              0.6666666666666666,
              "#ed7953"
             ],
             [
              0.7777777777777778,
              "#fb9f3a"
             ],
             [
              0.8888888888888888,
              "#fdca26"
             ],
             [
              1,
              "#f0f921"
             ]
            ],
            "type": "heatmap"
           }
          ],
          "heatmapgl": [
           {
            "colorbar": {
             "outlinewidth": 0,
             "ticks": ""
            },
            "colorscale": [
             [
              0,
              "#0d0887"
             ],
             [
              0.1111111111111111,
              "#46039f"
             ],
             [
              0.2222222222222222,
              "#7201a8"
             ],
             [
              0.3333333333333333,
              "#9c179e"
             ],
             [
              0.4444444444444444,
              "#bd3786"
             ],
             [
              0.5555555555555556,
              "#d8576b"
             ],
             [
              0.6666666666666666,
              "#ed7953"
             ],
             [
              0.7777777777777778,
              "#fb9f3a"
             ],
             [
              0.8888888888888888,
              "#fdca26"
             ],
             [
              1,
              "#f0f921"
             ]
            ],
            "type": "heatmapgl"
           }
          ],
          "histogram": [
           {
            "marker": {
             "pattern": {
              "fillmode": "overlay",
              "size": 10,
              "solidity": 0.2
             }
            },
            "type": "histogram"
           }
          ],
          "histogram2d": [
           {
            "colorbar": {
             "outlinewidth": 0,
             "ticks": ""
            },
            "colorscale": [
             [
              0,
              "#0d0887"
             ],
             [
              0.1111111111111111,
              "#46039f"
             ],
             [
              0.2222222222222222,
              "#7201a8"
             ],
             [
              0.3333333333333333,
              "#9c179e"
             ],
             [
              0.4444444444444444,
              "#bd3786"
             ],
             [
              0.5555555555555556,
              "#d8576b"
             ],
             [
              0.6666666666666666,
              "#ed7953"
             ],
             [
              0.7777777777777778,
              "#fb9f3a"
             ],
             [
              0.8888888888888888,
              "#fdca26"
             ],
             [
              1,
              "#f0f921"
             ]
            ],
            "type": "histogram2d"
           }
          ],
          "histogram2dcontour": [
           {
            "colorbar": {
             "outlinewidth": 0,
             "ticks": ""
            },
            "colorscale": [
             [
              0,
              "#0d0887"
             ],
             [
              0.1111111111111111,
              "#46039f"
             ],
             [
              0.2222222222222222,
              "#7201a8"
             ],
             [
              0.3333333333333333,
              "#9c179e"
             ],
             [
              0.4444444444444444,
              "#bd3786"
             ],
             [
              0.5555555555555556,
              "#d8576b"
             ],
             [
              0.6666666666666666,
              "#ed7953"
             ],
             [
              0.7777777777777778,
              "#fb9f3a"
             ],
             [
              0.8888888888888888,
              "#fdca26"
             ],
             [
              1,
              "#f0f921"
             ]
            ],
            "type": "histogram2dcontour"
           }
          ],
          "mesh3d": [
           {
            "colorbar": {
             "outlinewidth": 0,
             "ticks": ""
            },
            "type": "mesh3d"
           }
          ],
          "parcoords": [
           {
            "line": {
             "colorbar": {
              "outlinewidth": 0,
              "ticks": ""
             }
            },
            "type": "parcoords"
           }
          ],
          "pie": [
           {
            "automargin": true,
            "type": "pie"
           }
          ],
          "scatter": [
           {
            "fillpattern": {
             "fillmode": "overlay",
             "size": 10,
             "solidity": 0.2
            },
            "type": "scatter"
           }
          ],
          "scatter3d": [
           {
            "line": {
             "colorbar": {
              "outlinewidth": 0,
              "ticks": ""
             }
            },
            "marker": {
             "colorbar": {
              "outlinewidth": 0,
              "ticks": ""
             }
            },
            "type": "scatter3d"
           }
          ],
          "scattercarpet": [
           {
            "marker": {
             "colorbar": {
              "outlinewidth": 0,
              "ticks": ""
             }
            },
            "type": "scattercarpet"
           }
          ],
          "scattergeo": [
           {
            "marker": {
             "colorbar": {
              "outlinewidth": 0,
              "ticks": ""
             }
            },
            "type": "scattergeo"
           }
          ],
          "scattergl": [
           {
            "marker": {
             "colorbar": {
              "outlinewidth": 0,
              "ticks": ""
             }
            },
            "type": "scattergl"
           }
          ],
          "scattermapbox": [
           {
            "marker": {
             "colorbar": {
              "outlinewidth": 0,
              "ticks": ""
             }
            },
            "type": "scattermapbox"
           }
          ],
          "scatterpolar": [
           {
            "marker": {
             "colorbar": {
              "outlinewidth": 0,
              "ticks": ""
             }
            },
            "type": "scatterpolar"
           }
          ],
          "scatterpolargl": [
           {
            "marker": {
             "colorbar": {
              "outlinewidth": 0,
              "ticks": ""
             }
            },
            "type": "scatterpolargl"
           }
          ],
          "scatterternary": [
           {
            "marker": {
             "colorbar": {
              "outlinewidth": 0,
              "ticks": ""
             }
            },
            "type": "scatterternary"
           }
          ],
          "surface": [
           {
            "colorbar": {
             "outlinewidth": 0,
             "ticks": ""
            },
            "colorscale": [
             [
              0,
              "#0d0887"
             ],
             [
              0.1111111111111111,
              "#46039f"
             ],
             [
              0.2222222222222222,
              "#7201a8"
             ],
             [
              0.3333333333333333,
              "#9c179e"
             ],
             [
              0.4444444444444444,
              "#bd3786"
             ],
             [
              0.5555555555555556,
              "#d8576b"
             ],
             [
              0.6666666666666666,
              "#ed7953"
             ],
             [
              0.7777777777777778,
              "#fb9f3a"
             ],
             [
              0.8888888888888888,
              "#fdca26"
             ],
             [
              1,
              "#f0f921"
             ]
            ],
            "type": "surface"
           }
          ],
          "table": [
           {
            "cells": {
             "fill": {
              "color": "#EBF0F8"
             },
             "line": {
              "color": "white"
             }
            },
            "header": {
             "fill": {
              "color": "#C8D4E3"
             },
             "line": {
              "color": "white"
             }
            },
            "type": "table"
           }
          ]
         },
         "layout": {
          "annotationdefaults": {
           "arrowcolor": "#2a3f5f",
           "arrowhead": 0,
           "arrowwidth": 1
          },
          "autotypenumbers": "strict",
          "coloraxis": {
           "colorbar": {
            "outlinewidth": 0,
            "ticks": ""
           }
          },
          "colorscale": {
           "diverging": [
            [
             0,
             "#8e0152"
            ],
            [
             0.1,
             "#c51b7d"
            ],
            [
             0.2,
             "#de77ae"
            ],
            [
             0.3,
             "#f1b6da"
            ],
            [
             0.4,
             "#fde0ef"
            ],
            [
             0.5,
             "#f7f7f7"
            ],
            [
             0.6,
             "#e6f5d0"
            ],
            [
             0.7,
             "#b8e186"
            ],
            [
             0.8,
             "#7fbc41"
            ],
            [
             0.9,
             "#4d9221"
            ],
            [
             1,
             "#276419"
            ]
           ],
           "sequential": [
            [
             0,
             "#0d0887"
            ],
            [
             0.1111111111111111,
             "#46039f"
            ],
            [
             0.2222222222222222,
             "#7201a8"
            ],
            [
             0.3333333333333333,
             "#9c179e"
            ],
            [
             0.4444444444444444,
             "#bd3786"
            ],
            [
             0.5555555555555556,
             "#d8576b"
            ],
            [
             0.6666666666666666,
             "#ed7953"
            ],
            [
             0.7777777777777778,
             "#fb9f3a"
            ],
            [
             0.8888888888888888,
             "#fdca26"
            ],
            [
             1,
             "#f0f921"
            ]
           ],
           "sequentialminus": [
            [
             0,
             "#0d0887"
            ],
            [
             0.1111111111111111,
             "#46039f"
            ],
            [
             0.2222222222222222,
             "#7201a8"
            ],
            [
             0.3333333333333333,
             "#9c179e"
            ],
            [
             0.4444444444444444,
             "#bd3786"
            ],
            [
             0.5555555555555556,
             "#d8576b"
            ],
            [
             0.6666666666666666,
             "#ed7953"
            ],
            [
             0.7777777777777778,
             "#fb9f3a"
            ],
            [
             0.8888888888888888,
             "#fdca26"
            ],
            [
             1,
             "#f0f921"
            ]
           ]
          },
          "colorway": [
           "#636efa",
           "#EF553B",
           "#00cc96",
           "#ab63fa",
           "#FFA15A",
           "#19d3f3",
           "#FF6692",
           "#B6E880",
           "#FF97FF",
           "#FECB52"
          ],
          "font": {
           "color": "#2a3f5f"
          },
          "geo": {
           "bgcolor": "white",
           "lakecolor": "white",
           "landcolor": "#E5ECF6",
           "showlakes": true,
           "showland": true,
           "subunitcolor": "white"
          },
          "hoverlabel": {
           "align": "left"
          },
          "hovermode": "closest",
          "mapbox": {
           "style": "light"
          },
          "paper_bgcolor": "white",
          "plot_bgcolor": "#E5ECF6",
          "polar": {
           "angularaxis": {
            "gridcolor": "white",
            "linecolor": "white",
            "ticks": ""
           },
           "bgcolor": "#E5ECF6",
           "radialaxis": {
            "gridcolor": "white",
            "linecolor": "white",
            "ticks": ""
           }
          },
          "scene": {
           "xaxis": {
            "backgroundcolor": "#E5ECF6",
            "gridcolor": "white",
            "gridwidth": 2,
            "linecolor": "white",
            "showbackground": true,
            "ticks": "",
            "zerolinecolor": "white"
           },
           "yaxis": {
            "backgroundcolor": "#E5ECF6",
            "gridcolor": "white",
            "gridwidth": 2,
            "linecolor": "white",
            "showbackground": true,
            "ticks": "",
            "zerolinecolor": "white"
           },
           "zaxis": {
            "backgroundcolor": "#E5ECF6",
            "gridcolor": "white",
            "gridwidth": 2,
            "linecolor": "white",
            "showbackground": true,
            "ticks": "",
            "zerolinecolor": "white"
           }
          },
          "shapedefaults": {
           "line": {
            "color": "#2a3f5f"
           }
          },
          "ternary": {
           "aaxis": {
            "gridcolor": "white",
            "linecolor": "white",
            "ticks": ""
           },
           "baxis": {
            "gridcolor": "white",
            "linecolor": "white",
            "ticks": ""
           },
           "bgcolor": "#E5ECF6",
           "caxis": {
            "gridcolor": "white",
            "linecolor": "white",
            "ticks": ""
           }
          },
          "title": {
           "x": 0.05
          },
          "xaxis": {
           "automargin": true,
           "gridcolor": "white",
           "linecolor": "white",
           "ticks": "",
           "title": {
            "standoff": 15
           },
           "zerolinecolor": "white",
           "zerolinewidth": 2
          },
          "yaxis": {
           "automargin": true,
           "gridcolor": "white",
           "linecolor": "white",
           "ticks": "",
           "title": {
            "standoff": 15
           },
           "zerolinecolor": "white",
           "zerolinewidth": 2
          }
         }
        },
        "xaxis": {
         "anchor": "y",
         "categoryarray": [
          "0_01",
          "0_02",
          "0_03",
          "0_04",
          "0_05",
          "0_06",
          "0_07",
          "0_08",
          "0_09",
          "0_10",
          "0_11",
          "0_12",
          "0_13",
          "0_14",
          "0_15",
          "0_16",
          "0_17",
          "0_18",
          "0_19",
          "0_20",
          "0_21",
          "0_22",
          "0_23",
          "0_24",
          "0_25",
          "0_26",
          "0_27",
          "0_28",
          "0_29",
          "0_30",
          "1_01",
          "1_02",
          "1_03",
          "1_04",
          "1_05",
          "1_06",
          "1_07",
          "1_08",
          "1_09",
          "1_10",
          "1_11",
          "1_12",
          "1_13",
          "1_14",
          "1_15",
          "1_16",
          "1_17",
          "1_18",
          "1_19",
          "1_20",
          "1_21",
          "1_22",
          "1_23",
          "1_24",
          "1_25",
          "1_26",
          "1_27",
          "1_28",
          "1_29",
          "1_30"
         ],
         "categoryorder": "array",
         "domain": [
          0,
          0.49
         ],
         "showticklabels": true,
         "title": {
          "text": "problem"
         }
        },
        "xaxis2": {
         "anchor": "y2",
         "categoryarray": [
          "0_01",
          "0_02",
          "0_03",
          "0_04",
          "0_05",
          "0_06",
          "0_07",
          "0_08",
          "0_09",
          "0_10",
          "0_11",
          "0_12",
          "0_13",
          "0_14",
          "0_15",
          "0_16",
          "0_17",
          "0_18",
          "0_19",
          "0_20",
          "0_21",
          "0_22",
          "0_23",
          "0_24",
          "0_25",
          "0_26",
          "0_27",
          "0_28",
          "0_29",
          "0_30",
          "1_01",
          "1_02",
          "1_03",
          "1_04",
          "1_05",
          "1_06",
          "1_07",
          "1_08",
          "1_09",
          "1_10",
          "1_11",
          "1_12",
          "1_13",
          "1_14",
          "1_15",
          "1_16",
          "1_17",
          "1_18",
          "1_19",
          "1_20",
          "1_21",
          "1_22",
          "1_23",
          "1_24",
          "1_25",
          "1_26",
          "1_27",
          "1_28",
          "1_29",
          "1_30"
         ],
         "categoryorder": "array",
         "domain": [
          0.51,
          1
         ],
         "showticklabels": true,
         "title": {
          "text": "problem"
         }
        },
        "yaxis": {
         "anchor": "x",
         "domain": [
          0,
          1
         ],
         "showticklabels": true,
         "title": {
          "text": "plan_length_mean"
         }
        },
        "yaxis2": {
         "anchor": "x2",
         "domain": [
          0,
          1
         ],
         "showticklabels": true
        }
       }
      }
     },
     "metadata": {},
     "output_type": "display_data"
    }
   ],
   "source": [
    "plot_domains(\"plan_length\", log_y=0, choices=choices, layers=layers, dimensions=dimensions)"
   ]
  },
  {
   "cell_type": "markdown",
   "metadata": {},
   "source": [
    "# Cycle plots"
   ]
  },
  {
   "cell_type": "code",
   "execution_count": 4,
   "metadata": {},
   "outputs": [
    {
     "name": "stdout",
     "output_type": "stream",
     "text": [
      "blocksworld\n"
     ]
    },
    {
     "data": {
      "application/vnd.plotly.v1+json": {
       "config": {
        "plotlyServerURL": "https://plot.ly"
       },
       "data": [
        {
         "error_y": {
          "array": [
           0,
           0,
           0,
           0,
           0,
           0,
           0,
           0,
           0,
           0,
           0,
           0,
           0,
           0,
           0,
           0,
           0,
           0,
           0,
           0,
           0,
           0,
           0,
           0,
           0,
           0,
           0,
           0,
           0,
           0
          ]
         },
         "hovertemplate": "solver=baseline<br>type=bounds<br>difficulty=0<br>problem=%{x}<br>cycles_mean=%{y}<extra></extra>",
         "legendgroup": "baseline, bounds",
         "line": {
          "color": "#636efa",
          "dash": "solid"
         },
         "marker": {
          "symbol": "circle"
         },
         "mode": "lines",
         "name": "baseline, bounds",
         "orientation": "v",
         "showlegend": true,
         "type": "scatter",
         "x": [
          "0_01",
          "0_02",
          "0_03",
          "0_04",
          "0_05",
          "0_06",
          "0_07",
          "0_08",
          "0_09",
          "0_10",
          "0_11",
          "0_12",
          "0_13",
          "0_14",
          "0_15",
          "0_16",
          "0_17",
          "0_18",
          "0_19",
          "0_20",
          "0_21",
          "0_22",
          "0_23",
          "0_24",
          "0_25",
          "0_26",
          "0_27",
          "0_28",
          "0_29",
          "0_30"
         ],
         "xaxis": "x",
         "y": [
          0,
          0,
          0,
          0,
          0,
          0,
          0,
          0,
          0,
          0,
          0,
          0,
          0,
          0,
          0,
          0,
          0,
          0,
          0,
          0,
          0,
          0,
          0,
          0,
          0,
          0,
          0,
          0,
          0,
          0
         ],
         "yaxis": "y"
        },
        {
         "error_y": {
          "array": [
           0,
           0,
           0,
           0,
           0,
           0,
           0,
           0,
           0,
           0,
           0,
           0,
           0,
           0,
           0,
           0,
           0,
           0,
           0,
           0,
           0,
           0,
           0,
           0,
           0,
           0,
           0,
           0,
           0,
           0
          ]
         },
         "hovertemplate": "solver=baseline<br>type=bounds<br>difficulty=1<br>problem=%{x}<br>cycles_mean=%{y}<extra></extra>",
         "legendgroup": "baseline, bounds",
         "line": {
          "color": "#636efa",
          "dash": "solid"
         },
         "marker": {
          "symbol": "circle"
         },
         "mode": "lines",
         "name": "baseline, bounds",
         "orientation": "v",
         "showlegend": false,
         "type": "scatter",
         "x": [
          "1_01",
          "1_02",
          "1_03",
          "1_04",
          "1_05",
          "1_06",
          "1_07",
          "1_08",
          "1_09",
          "1_10",
          "1_11",
          "1_12",
          "1_13",
          "1_14",
          "1_15",
          "1_16",
          "1_17",
          "1_18",
          "1_19",
          "1_20",
          "1_21",
          "1_22",
          "1_23",
          "1_24",
          "1_25",
          "1_26",
          "1_27",
          "1_28",
          "1_29",
          "1_30"
         ],
         "xaxis": "x2",
         "y": [
          0,
          0,
          0,
          0,
          0,
          0,
          0,
          0,
          0,
          0,
          0,
          0,
          0,
          0,
          0,
          0,
          0,
          0,
          0,
          0,
          0,
          0,
          0,
          0,
          0,
          0,
          0,
          0,
          0,
          0
         ],
         "yaxis": "y2"
        },
        {
         "error_y": {
          "array": [
           null,
           null,
           null,
           null,
           null,
           null,
           null,
           null,
           null,
           null,
           null,
           null,
           null,
           null,
           null,
           null,
           null,
           null,
           null,
           null,
           null,
           null,
           null,
           null,
           null,
           null,
           null,
           null,
           null,
           null
          ]
         },
         "hovertemplate": "solver=optimal<br>type=bounds<br>difficulty=0<br>problem=%{x}<br>cycles_mean=%{y}<extra></extra>",
         "legendgroup": "optimal, bounds",
         "line": {
          "color": "#EF553B",
          "dash": "solid"
         },
         "marker": {
          "symbol": "circle"
         },
         "mode": "lines",
         "name": "optimal, bounds",
         "orientation": "v",
         "showlegend": true,
         "type": "scatter",
         "x": [
          "0_01",
          "0_02",
          "0_03",
          "0_04",
          "0_05",
          "0_06",
          "0_07",
          "0_08",
          "0_09",
          "0_10",
          "0_11",
          "0_12",
          "0_13",
          "0_14",
          "0_15",
          "0_16",
          "0_17",
          "0_18",
          "0_19",
          "0_20",
          "0_21",
          "0_22",
          "0_23",
          "0_24",
          "0_25",
          "0_26",
          "0_27",
          "0_28",
          "0_29",
          "0_30"
         ],
         "xaxis": "x",
         "y": [
          0,
          0,
          0,
          0,
          0,
          0,
          0,
          0,
          0,
          0,
          0,
          0,
          0,
          0,
          0,
          0,
          0,
          0,
          0,
          0,
          0,
          0,
          0,
          0,
          0,
          0,
          0,
          0,
          0,
          0
         ],
         "yaxis": "y"
        },
        {
         "error_y": {
          "array": [
           null,
           null,
           null,
           null,
           null,
           null,
           null,
           null,
           null,
           null,
           null,
           null,
           null,
           null,
           null,
           null,
           null,
           null,
           null,
           null,
           null,
           null,
           null,
           null,
           null,
           null,
           null,
           null,
           null,
           null
          ]
         },
         "hovertemplate": "solver=optimal<br>type=bounds<br>difficulty=1<br>problem=%{x}<br>cycles_mean=%{y}<extra></extra>",
         "legendgroup": "optimal, bounds",
         "line": {
          "color": "#EF553B",
          "dash": "solid"
         },
         "marker": {
          "symbol": "circle"
         },
         "mode": "lines",
         "name": "optimal, bounds",
         "orientation": "v",
         "showlegend": false,
         "type": "scatter",
         "x": [
          "1_01",
          "1_02",
          "1_03",
          "1_04",
          "1_05",
          "1_06",
          "1_07",
          "1_08",
          "1_09",
          "1_10",
          "1_11",
          "1_12",
          "1_13",
          "1_14",
          "1_15",
          "1_16",
          "1_17",
          "1_18",
          "1_19",
          "1_20",
          "1_21",
          "1_22",
          "1_23",
          "1_24",
          "1_25",
          "1_26",
          "1_27",
          "1_28",
          "1_29",
          "1_30"
         ],
         "xaxis": "x2",
         "y": [
          0,
          0,
          0,
          0,
          0,
          0,
          0,
          0,
          0,
          0,
          0,
          0,
          0,
          0,
          0,
          0,
          0,
          0,
          0,
          0,
          0,
          0,
          0,
          0,
          0,
          0,
          0,
          0,
          0,
          0
         ],
         "yaxis": "y2"
        },
        {
         "error_y": {
          "array": [
           null,
           null,
           null,
           null,
           null,
           null,
           null,
           null,
           null,
           null,
           null,
           null,
           null,
           null,
           null,
           null,
           null,
           null,
           null,
           null,
           null,
           null,
           null,
           null,
           null,
           null,
           null,
           null,
           null,
           null
          ]
         },
         "hovertemplate": "solver=lama<br>type=bounds<br>difficulty=0<br>problem=%{x}<br>cycles_mean=%{y}<extra></extra>",
         "legendgroup": "lama, bounds",
         "line": {
          "color": "#00cc96",
          "dash": "solid"
         },
         "marker": {
          "symbol": "circle"
         },
         "mode": "lines",
         "name": "lama, bounds",
         "orientation": "v",
         "showlegend": true,
         "type": "scatter",
         "x": [
          "0_01",
          "0_02",
          "0_03",
          "0_04",
          "0_05",
          "0_06",
          "0_07",
          "0_08",
          "0_09",
          "0_10",
          "0_11",
          "0_12",
          "0_13",
          "0_14",
          "0_15",
          "0_16",
          "0_17",
          "0_18",
          "0_19",
          "0_20",
          "0_21",
          "0_22",
          "0_23",
          "0_24",
          "0_25",
          "0_26",
          "0_27",
          "0_28",
          "0_29",
          "0_30"
         ],
         "xaxis": "x",
         "y": [
          0,
          0,
          0,
          0,
          0,
          0,
          0,
          0,
          0,
          0,
          0,
          0,
          0,
          0,
          0,
          0,
          0,
          0,
          0,
          0,
          0,
          0,
          0,
          0,
          0,
          0,
          0,
          0,
          0,
          0
         ],
         "yaxis": "y"
        },
        {
         "error_y": {
          "array": [
           null,
           null,
           null,
           null,
           null,
           null,
           null,
           null,
           null,
           null,
           null,
           null,
           null,
           null,
           null,
           null,
           null,
           null,
           null,
           null,
           null,
           null,
           null,
           null,
           null,
           null,
           null,
           null,
           null,
           null
          ]
         },
         "hovertemplate": "solver=lama<br>type=bounds<br>difficulty=1<br>problem=%{x}<br>cycles_mean=%{y}<extra></extra>",
         "legendgroup": "lama, bounds",
         "line": {
          "color": "#00cc96",
          "dash": "solid"
         },
         "marker": {
          "symbol": "circle"
         },
         "mode": "lines",
         "name": "lama, bounds",
         "orientation": "v",
         "showlegend": false,
         "type": "scatter",
         "x": [
          "1_01",
          "1_02",
          "1_03",
          "1_04",
          "1_05",
          "1_06",
          "1_07",
          "1_08",
          "1_09",
          "1_10",
          "1_11",
          "1_12",
          "1_13",
          "1_14",
          "1_15",
          "1_16",
          "1_17",
          "1_18",
          "1_19",
          "1_20",
          "1_21",
          "1_22",
          "1_23",
          "1_24",
          "1_25",
          "1_26",
          "1_27",
          "1_28",
          "1_29",
          "1_30"
         ],
         "xaxis": "x2",
         "y": [
          0,
          0,
          0,
          0,
          0,
          0,
          0,
          0,
          0,
          0,
          0,
          0,
          0,
          0,
          0,
          0,
          0,
          0,
          0,
          0,
          0,
          0,
          0,
          0,
          0,
          0,
          0,
          0,
          0,
          0
         ],
         "yaxis": "y2"
        }
       ],
       "layout": {
        "annotations": [
         {
          "font": {},
          "showarrow": false,
          "text": "difficulty=0",
          "x": 0.245,
          "xanchor": "center",
          "xref": "paper",
          "y": 1,
          "yanchor": "bottom",
          "yref": "paper"
         },
         {
          "font": {},
          "showarrow": false,
          "text": "difficulty=1",
          "x": 0.755,
          "xanchor": "center",
          "xref": "paper",
          "y": 1,
          "yanchor": "bottom",
          "yref": "paper"
         }
        ],
        "legend": {
         "title": {
          "text": "solver, type"
         },
         "tracegroupgap": 0
        },
        "margin": {
         "t": 60
        },
        "template": {
         "data": {
          "bar": [
           {
            "error_x": {
             "color": "#2a3f5f"
            },
            "error_y": {
             "color": "#2a3f5f"
            },
            "marker": {
             "line": {
              "color": "#E5ECF6",
              "width": 0.5
             },
             "pattern": {
              "fillmode": "overlay",
              "size": 10,
              "solidity": 0.2
             }
            },
            "type": "bar"
           }
          ],
          "barpolar": [
           {
            "marker": {
             "line": {
              "color": "#E5ECF6",
              "width": 0.5
             },
             "pattern": {
              "fillmode": "overlay",
              "size": 10,
              "solidity": 0.2
             }
            },
            "type": "barpolar"
           }
          ],
          "carpet": [
           {
            "aaxis": {
             "endlinecolor": "#2a3f5f",
             "gridcolor": "white",
             "linecolor": "white",
             "minorgridcolor": "white",
             "startlinecolor": "#2a3f5f"
            },
            "baxis": {
             "endlinecolor": "#2a3f5f",
             "gridcolor": "white",
             "linecolor": "white",
             "minorgridcolor": "white",
             "startlinecolor": "#2a3f5f"
            },
            "type": "carpet"
           }
          ],
          "choropleth": [
           {
            "colorbar": {
             "outlinewidth": 0,
             "ticks": ""
            },
            "type": "choropleth"
           }
          ],
          "contour": [
           {
            "colorbar": {
             "outlinewidth": 0,
             "ticks": ""
            },
            "colorscale": [
             [
              0,
              "#0d0887"
             ],
             [
              0.1111111111111111,
              "#46039f"
             ],
             [
              0.2222222222222222,
              "#7201a8"
             ],
             [
              0.3333333333333333,
              "#9c179e"
             ],
             [
              0.4444444444444444,
              "#bd3786"
             ],
             [
              0.5555555555555556,
              "#d8576b"
             ],
             [
              0.6666666666666666,
              "#ed7953"
             ],
             [
              0.7777777777777778,
              "#fb9f3a"
             ],
             [
              0.8888888888888888,
              "#fdca26"
             ],
             [
              1,
              "#f0f921"
             ]
            ],
            "type": "contour"
           }
          ],
          "contourcarpet": [
           {
            "colorbar": {
             "outlinewidth": 0,
             "ticks": ""
            },
            "type": "contourcarpet"
           }
          ],
          "heatmap": [
           {
            "colorbar": {
             "outlinewidth": 0,
             "ticks": ""
            },
            "colorscale": [
             [
              0,
              "#0d0887"
             ],
             [
              0.1111111111111111,
              "#46039f"
             ],
             [
              0.2222222222222222,
              "#7201a8"
             ],
             [
              0.3333333333333333,
              "#9c179e"
             ],
             [
              0.4444444444444444,
              "#bd3786"
             ],
             [
              0.5555555555555556,
              "#d8576b"
             ],
             [
              0.6666666666666666,
              "#ed7953"
             ],
             [
              0.7777777777777778,
              "#fb9f3a"
             ],
             [
              0.8888888888888888,
              "#fdca26"
             ],
             [
              1,
              "#f0f921"
             ]
            ],
            "type": "heatmap"
           }
          ],
          "heatmapgl": [
           {
            "colorbar": {
             "outlinewidth": 0,
             "ticks": ""
            },
            "colorscale": [
             [
              0,
              "#0d0887"
             ],
             [
              0.1111111111111111,
              "#46039f"
             ],
             [
              0.2222222222222222,
              "#7201a8"
             ],
             [
              0.3333333333333333,
              "#9c179e"
             ],
             [
              0.4444444444444444,
              "#bd3786"
             ],
             [
              0.5555555555555556,
              "#d8576b"
             ],
             [
              0.6666666666666666,
              "#ed7953"
             ],
             [
              0.7777777777777778,
              "#fb9f3a"
             ],
             [
              0.8888888888888888,
              "#fdca26"
             ],
             [
              1,
              "#f0f921"
             ]
            ],
            "type": "heatmapgl"
           }
          ],
          "histogram": [
           {
            "marker": {
             "pattern": {
              "fillmode": "overlay",
              "size": 10,
              "solidity": 0.2
             }
            },
            "type": "histogram"
           }
          ],
          "histogram2d": [
           {
            "colorbar": {
             "outlinewidth": 0,
             "ticks": ""
            },
            "colorscale": [
             [
              0,
              "#0d0887"
             ],
             [
              0.1111111111111111,
              "#46039f"
             ],
             [
              0.2222222222222222,
              "#7201a8"
             ],
             [
              0.3333333333333333,
              "#9c179e"
             ],
             [
              0.4444444444444444,
              "#bd3786"
             ],
             [
              0.5555555555555556,
              "#d8576b"
             ],
             [
              0.6666666666666666,
              "#ed7953"
             ],
             [
              0.7777777777777778,
              "#fb9f3a"
             ],
             [
              0.8888888888888888,
              "#fdca26"
             ],
             [
              1,
              "#f0f921"
             ]
            ],
            "type": "histogram2d"
           }
          ],
          "histogram2dcontour": [
           {
            "colorbar": {
             "outlinewidth": 0,
             "ticks": ""
            },
            "colorscale": [
             [
              0,
              "#0d0887"
             ],
             [
              0.1111111111111111,
              "#46039f"
             ],
             [
              0.2222222222222222,
              "#7201a8"
             ],
             [
              0.3333333333333333,
              "#9c179e"
             ],
             [
              0.4444444444444444,
              "#bd3786"
             ],
             [
              0.5555555555555556,
              "#d8576b"
             ],
             [
              0.6666666666666666,
              "#ed7953"
             ],
             [
              0.7777777777777778,
              "#fb9f3a"
             ],
             [
              0.8888888888888888,
              "#fdca26"
             ],
             [
              1,
              "#f0f921"
             ]
            ],
            "type": "histogram2dcontour"
           }
          ],
          "mesh3d": [
           {
            "colorbar": {
             "outlinewidth": 0,
             "ticks": ""
            },
            "type": "mesh3d"
           }
          ],
          "parcoords": [
           {
            "line": {
             "colorbar": {
              "outlinewidth": 0,
              "ticks": ""
             }
            },
            "type": "parcoords"
           }
          ],
          "pie": [
           {
            "automargin": true,
            "type": "pie"
           }
          ],
          "scatter": [
           {
            "fillpattern": {
             "fillmode": "overlay",
             "size": 10,
             "solidity": 0.2
            },
            "type": "scatter"
           }
          ],
          "scatter3d": [
           {
            "line": {
             "colorbar": {
              "outlinewidth": 0,
              "ticks": ""
             }
            },
            "marker": {
             "colorbar": {
              "outlinewidth": 0,
              "ticks": ""
             }
            },
            "type": "scatter3d"
           }
          ],
          "scattercarpet": [
           {
            "marker": {
             "colorbar": {
              "outlinewidth": 0,
              "ticks": ""
             }
            },
            "type": "scattercarpet"
           }
          ],
          "scattergeo": [
           {
            "marker": {
             "colorbar": {
              "outlinewidth": 0,
              "ticks": ""
             }
            },
            "type": "scattergeo"
           }
          ],
          "scattergl": [
           {
            "marker": {
             "colorbar": {
              "outlinewidth": 0,
              "ticks": ""
             }
            },
            "type": "scattergl"
           }
          ],
          "scattermapbox": [
           {
            "marker": {
             "colorbar": {
              "outlinewidth": 0,
              "ticks": ""
             }
            },
            "type": "scattermapbox"
           }
          ],
          "scatterpolar": [
           {
            "marker": {
             "colorbar": {
              "outlinewidth": 0,
              "ticks": ""
             }
            },
            "type": "scatterpolar"
           }
          ],
          "scatterpolargl": [
           {
            "marker": {
             "colorbar": {
              "outlinewidth": 0,
              "ticks": ""
             }
            },
            "type": "scatterpolargl"
           }
          ],
          "scatterternary": [
           {
            "marker": {
             "colorbar": {
              "outlinewidth": 0,
              "ticks": ""
             }
            },
            "type": "scatterternary"
           }
          ],
          "surface": [
           {
            "colorbar": {
             "outlinewidth": 0,
             "ticks": ""
            },
            "colorscale": [
             [
              0,
              "#0d0887"
             ],
             [
              0.1111111111111111,
              "#46039f"
             ],
             [
              0.2222222222222222,
              "#7201a8"
             ],
             [
              0.3333333333333333,
              "#9c179e"
             ],
             [
              0.4444444444444444,
              "#bd3786"
             ],
             [
              0.5555555555555556,
              "#d8576b"
             ],
             [
              0.6666666666666666,
              "#ed7953"
             ],
             [
              0.7777777777777778,
              "#fb9f3a"
             ],
             [
              0.8888888888888888,
              "#fdca26"
             ],
             [
              1,
              "#f0f921"
             ]
            ],
            "type": "surface"
           }
          ],
          "table": [
           {
            "cells": {
             "fill": {
              "color": "#EBF0F8"
             },
             "line": {
              "color": "white"
             }
            },
            "header": {
             "fill": {
              "color": "#C8D4E3"
             },
             "line": {
              "color": "white"
             }
            },
            "type": "table"
           }
          ]
         },
         "layout": {
          "annotationdefaults": {
           "arrowcolor": "#2a3f5f",
           "arrowhead": 0,
           "arrowwidth": 1
          },
          "autotypenumbers": "strict",
          "coloraxis": {
           "colorbar": {
            "outlinewidth": 0,
            "ticks": ""
           }
          },
          "colorscale": {
           "diverging": [
            [
             0,
             "#8e0152"
            ],
            [
             0.1,
             "#c51b7d"
            ],
            [
             0.2,
             "#de77ae"
            ],
            [
             0.3,
             "#f1b6da"
            ],
            [
             0.4,
             "#fde0ef"
            ],
            [
             0.5,
             "#f7f7f7"
            ],
            [
             0.6,
             "#e6f5d0"
            ],
            [
             0.7,
             "#b8e186"
            ],
            [
             0.8,
             "#7fbc41"
            ],
            [
             0.9,
             "#4d9221"
            ],
            [
             1,
             "#276419"
            ]
           ],
           "sequential": [
            [
             0,
             "#0d0887"
            ],
            [
             0.1111111111111111,
             "#46039f"
            ],
            [
             0.2222222222222222,
             "#7201a8"
            ],
            [
             0.3333333333333333,
             "#9c179e"
            ],
            [
             0.4444444444444444,
             "#bd3786"
            ],
            [
             0.5555555555555556,
             "#d8576b"
            ],
            [
             0.6666666666666666,
             "#ed7953"
            ],
            [
             0.7777777777777778,
             "#fb9f3a"
            ],
            [
             0.8888888888888888,
             "#fdca26"
            ],
            [
             1,
             "#f0f921"
            ]
           ],
           "sequentialminus": [
            [
             0,
             "#0d0887"
            ],
            [
             0.1111111111111111,
             "#46039f"
            ],
            [
             0.2222222222222222,
             "#7201a8"
            ],
            [
             0.3333333333333333,
             "#9c179e"
            ],
            [
             0.4444444444444444,
             "#bd3786"
            ],
            [
             0.5555555555555556,
             "#d8576b"
            ],
            [
             0.6666666666666666,
             "#ed7953"
            ],
            [
             0.7777777777777778,
             "#fb9f3a"
            ],
            [
             0.8888888888888888,
             "#fdca26"
            ],
            [
             1,
             "#f0f921"
            ]
           ]
          },
          "colorway": [
           "#636efa",
           "#EF553B",
           "#00cc96",
           "#ab63fa",
           "#FFA15A",
           "#19d3f3",
           "#FF6692",
           "#B6E880",
           "#FF97FF",
           "#FECB52"
          ],
          "font": {
           "color": "#2a3f5f"
          },
          "geo": {
           "bgcolor": "white",
           "lakecolor": "white",
           "landcolor": "#E5ECF6",
           "showlakes": true,
           "showland": true,
           "subunitcolor": "white"
          },
          "hoverlabel": {
           "align": "left"
          },
          "hovermode": "closest",
          "mapbox": {
           "style": "light"
          },
          "paper_bgcolor": "white",
          "plot_bgcolor": "#E5ECF6",
          "polar": {
           "angularaxis": {
            "gridcolor": "white",
            "linecolor": "white",
            "ticks": ""
           },
           "bgcolor": "#E5ECF6",
           "radialaxis": {
            "gridcolor": "white",
            "linecolor": "white",
            "ticks": ""
           }
          },
          "scene": {
           "xaxis": {
            "backgroundcolor": "#E5ECF6",
            "gridcolor": "white",
            "gridwidth": 2,
            "linecolor": "white",
            "showbackground": true,
            "ticks": "",
            "zerolinecolor": "white"
           },
           "yaxis": {
            "backgroundcolor": "#E5ECF6",
            "gridcolor": "white",
            "gridwidth": 2,
            "linecolor": "white",
            "showbackground": true,
            "ticks": "",
            "zerolinecolor": "white"
           },
           "zaxis": {
            "backgroundcolor": "#E5ECF6",
            "gridcolor": "white",
            "gridwidth": 2,
            "linecolor": "white",
            "showbackground": true,
            "ticks": "",
            "zerolinecolor": "white"
           }
          },
          "shapedefaults": {
           "line": {
            "color": "#2a3f5f"
           }
          },
          "ternary": {
           "aaxis": {
            "gridcolor": "white",
            "linecolor": "white",
            "ticks": ""
           },
           "baxis": {
            "gridcolor": "white",
            "linecolor": "white",
            "ticks": ""
           },
           "bgcolor": "#E5ECF6",
           "caxis": {
            "gridcolor": "white",
            "linecolor": "white",
            "ticks": ""
           }
          },
          "title": {
           "x": 0.05
          },
          "xaxis": {
           "automargin": true,
           "gridcolor": "white",
           "linecolor": "white",
           "ticks": "",
           "title": {
            "standoff": 15
           },
           "zerolinecolor": "white",
           "zerolinewidth": 2
          },
          "yaxis": {
           "automargin": true,
           "gridcolor": "white",
           "linecolor": "white",
           "ticks": "",
           "title": {
            "standoff": 15
           },
           "zerolinecolor": "white",
           "zerolinewidth": 2
          }
         }
        },
        "xaxis": {
         "anchor": "y",
         "categoryarray": [
          "0_01",
          "0_02",
          "0_03",
          "0_04",
          "0_05",
          "0_06",
          "0_07",
          "0_08",
          "0_09",
          "0_10",
          "0_11",
          "0_12",
          "0_13",
          "0_14",
          "0_15",
          "0_16",
          "0_17",
          "0_18",
          "0_19",
          "0_20",
          "0_21",
          "0_22",
          "0_23",
          "0_24",
          "0_25",
          "0_26",
          "0_27",
          "0_28",
          "0_29",
          "0_30",
          "1_01",
          "1_02",
          "1_03",
          "1_04",
          "1_05",
          "1_06",
          "1_07",
          "1_08",
          "1_09",
          "1_10",
          "1_11",
          "1_12",
          "1_13",
          "1_14",
          "1_15",
          "1_16",
          "1_17",
          "1_18",
          "1_19",
          "1_20",
          "1_21",
          "1_22",
          "1_23",
          "1_24",
          "1_25",
          "1_26",
          "1_27",
          "1_28",
          "1_29",
          "1_30"
         ],
         "categoryorder": "array",
         "domain": [
          0,
          0.49
         ],
         "showticklabels": true,
         "title": {
          "text": "problem"
         }
        },
        "xaxis2": {
         "anchor": "y2",
         "categoryarray": [
          "0_01",
          "0_02",
          "0_03",
          "0_04",
          "0_05",
          "0_06",
          "0_07",
          "0_08",
          "0_09",
          "0_10",
          "0_11",
          "0_12",
          "0_13",
          "0_14",
          "0_15",
          "0_16",
          "0_17",
          "0_18",
          "0_19",
          "0_20",
          "0_21",
          "0_22",
          "0_23",
          "0_24",
          "0_25",
          "0_26",
          "0_27",
          "0_28",
          "0_29",
          "0_30",
          "1_01",
          "1_02",
          "1_03",
          "1_04",
          "1_05",
          "1_06",
          "1_07",
          "1_08",
          "1_09",
          "1_10",
          "1_11",
          "1_12",
          "1_13",
          "1_14",
          "1_15",
          "1_16",
          "1_17",
          "1_18",
          "1_19",
          "1_20",
          "1_21",
          "1_22",
          "1_23",
          "1_24",
          "1_25",
          "1_26",
          "1_27",
          "1_28",
          "1_29",
          "1_30"
         ],
         "categoryorder": "array",
         "domain": [
          0.51,
          1
         ],
         "showticklabels": true,
         "title": {
          "text": "problem"
         }
        },
        "yaxis": {
         "anchor": "x",
         "domain": [
          0,
          1
         ],
         "showticklabels": true,
         "title": {
          "text": "cycles_mean"
         }
        },
        "yaxis2": {
         "anchor": "x2",
         "domain": [
          0,
          1
         ],
         "showticklabels": true
        }
       }
      }
     },
     "metadata": {},
     "output_type": "display_data"
    },
    {
     "name": "stdout",
     "output_type": "stream",
     "text": [
      "ferry\n"
     ]
    },
    {
     "data": {
      "application/vnd.plotly.v1+json": {
       "config": {
        "plotlyServerURL": "https://plot.ly"
       },
       "data": [
        {
         "error_y": {
          "array": [
           0,
           0,
           0,
           0,
           0,
           0,
           0,
           0,
           0,
           0,
           0,
           0,
           0,
           0,
           0,
           0,
           0,
           0,
           0,
           0,
           0,
           0,
           0,
           0,
           0,
           0,
           0,
           0,
           0,
           0
          ]
         },
         "hovertemplate": "solver=baseline<br>type=bounds<br>difficulty=0<br>problem=%{x}<br>cycles_mean=%{y}<extra></extra>",
         "legendgroup": "baseline, bounds",
         "line": {
          "color": "#636efa",
          "dash": "solid"
         },
         "marker": {
          "symbol": "circle"
         },
         "mode": "lines",
         "name": "baseline, bounds",
         "orientation": "v",
         "showlegend": true,
         "type": "scatter",
         "x": [
          "0_01",
          "0_02",
          "0_03",
          "0_04",
          "0_05",
          "0_06",
          "0_07",
          "0_08",
          "0_09",
          "0_10",
          "0_11",
          "0_12",
          "0_13",
          "0_14",
          "0_15",
          "0_16",
          "0_17",
          "0_18",
          "0_19",
          "0_20",
          "0_21",
          "0_22",
          "0_23",
          "0_24",
          "0_25",
          "0_26",
          "0_27",
          "0_28",
          "0_29",
          "0_30"
         ],
         "xaxis": "x",
         "y": [
          0,
          0,
          0,
          0,
          0,
          0,
          0,
          0,
          0,
          0,
          0,
          0,
          0,
          0,
          0,
          0,
          0,
          0,
          0,
          0,
          0,
          0,
          0,
          0,
          0,
          0,
          0,
          0,
          0,
          0
         ],
         "yaxis": "y"
        },
        {
         "error_y": {
          "array": [
           0,
           0,
           0,
           0,
           0,
           0,
           0,
           0,
           0,
           0,
           0,
           0,
           0,
           0,
           0,
           0,
           0,
           0,
           0,
           0,
           0,
           0,
           0,
           0,
           0,
           0,
           0,
           0,
           0,
           0
          ]
         },
         "hovertemplate": "solver=baseline<br>type=bounds<br>difficulty=1<br>problem=%{x}<br>cycles_mean=%{y}<extra></extra>",
         "legendgroup": "baseline, bounds",
         "line": {
          "color": "#636efa",
          "dash": "solid"
         },
         "marker": {
          "symbol": "circle"
         },
         "mode": "lines",
         "name": "baseline, bounds",
         "orientation": "v",
         "showlegend": false,
         "type": "scatter",
         "x": [
          "1_01",
          "1_02",
          "1_03",
          "1_04",
          "1_05",
          "1_06",
          "1_07",
          "1_08",
          "1_09",
          "1_10",
          "1_11",
          "1_12",
          "1_13",
          "1_14",
          "1_15",
          "1_16",
          "1_17",
          "1_18",
          "1_19",
          "1_20",
          "1_21",
          "1_22",
          "1_23",
          "1_24",
          "1_25",
          "1_26",
          "1_27",
          "1_28",
          "1_29",
          "1_30"
         ],
         "xaxis": "x2",
         "y": [
          0,
          0,
          0,
          0,
          0,
          0,
          0,
          0,
          0,
          0,
          0,
          0,
          0,
          0,
          0,
          0,
          0,
          0,
          0,
          0,
          0,
          0,
          0,
          0,
          0,
          0,
          0,
          0,
          0,
          0
         ],
         "yaxis": "y2"
        },
        {
         "error_y": {
          "array": [
           null,
           null,
           null,
           null,
           null,
           null,
           null,
           null,
           null,
           null,
           null,
           null,
           null,
           null,
           null,
           null,
           null,
           null,
           null,
           null,
           null,
           null,
           null,
           null,
           null,
           null,
           null,
           null,
           null,
           null
          ]
         },
         "hovertemplate": "solver=optimal<br>type=bounds<br>difficulty=0<br>problem=%{x}<br>cycles_mean=%{y}<extra></extra>",
         "legendgroup": "optimal, bounds",
         "line": {
          "color": "#EF553B",
          "dash": "solid"
         },
         "marker": {
          "symbol": "circle"
         },
         "mode": "lines",
         "name": "optimal, bounds",
         "orientation": "v",
         "showlegend": true,
         "type": "scatter",
         "x": [
          "0_01",
          "0_02",
          "0_03",
          "0_04",
          "0_05",
          "0_06",
          "0_07",
          "0_08",
          "0_09",
          "0_10",
          "0_11",
          "0_12",
          "0_13",
          "0_14",
          "0_15",
          "0_16",
          "0_17",
          "0_18",
          "0_19",
          "0_20",
          "0_21",
          "0_22",
          "0_23",
          "0_24",
          "0_25",
          "0_26",
          "0_27",
          "0_28",
          "0_29",
          "0_30"
         ],
         "xaxis": "x",
         "y": [
          0,
          0,
          0,
          0,
          0,
          0,
          0,
          0,
          0,
          0,
          0,
          0,
          0,
          0,
          0,
          0,
          0,
          0,
          0,
          0,
          0,
          0,
          0,
          0,
          0,
          0,
          0,
          0,
          0,
          0
         ],
         "yaxis": "y"
        },
        {
         "error_y": {
          "array": [
           null,
           null,
           null,
           null,
           null,
           null,
           null,
           null,
           null,
           null,
           null,
           null,
           null,
           null,
           null,
           null,
           null,
           null,
           null,
           null,
           null,
           null,
           null,
           null,
           null,
           null,
           null,
           null,
           null,
           null
          ]
         },
         "hovertemplate": "solver=optimal<br>type=bounds<br>difficulty=1<br>problem=%{x}<br>cycles_mean=%{y}<extra></extra>",
         "legendgroup": "optimal, bounds",
         "line": {
          "color": "#EF553B",
          "dash": "solid"
         },
         "marker": {
          "symbol": "circle"
         },
         "mode": "lines",
         "name": "optimal, bounds",
         "orientation": "v",
         "showlegend": false,
         "type": "scatter",
         "x": [
          "1_01",
          "1_02",
          "1_03",
          "1_04",
          "1_05",
          "1_06",
          "1_07",
          "1_08",
          "1_09",
          "1_10",
          "1_11",
          "1_12",
          "1_13",
          "1_14",
          "1_15",
          "1_16",
          "1_17",
          "1_18",
          "1_19",
          "1_20",
          "1_21",
          "1_22",
          "1_23",
          "1_24",
          "1_25",
          "1_26",
          "1_27",
          "1_28",
          "1_29",
          "1_30"
         ],
         "xaxis": "x2",
         "y": [
          0,
          0,
          0,
          0,
          0,
          0,
          0,
          0,
          0,
          0,
          0,
          0,
          0,
          0,
          0,
          0,
          0,
          0,
          0,
          0,
          0,
          0,
          0,
          0,
          0,
          0,
          0,
          0,
          0,
          0
         ],
         "yaxis": "y2"
        },
        {
         "error_y": {
          "array": [
           null,
           null,
           null,
           null,
           null,
           null,
           null,
           null,
           null,
           null,
           null,
           null,
           null,
           null,
           null,
           null,
           null,
           null,
           null,
           null,
           null,
           null,
           null,
           null,
           null,
           null,
           null,
           null,
           null,
           null
          ]
         },
         "hovertemplate": "solver=lama<br>type=bounds<br>difficulty=0<br>problem=%{x}<br>cycles_mean=%{y}<extra></extra>",
         "legendgroup": "lama, bounds",
         "line": {
          "color": "#00cc96",
          "dash": "solid"
         },
         "marker": {
          "symbol": "circle"
         },
         "mode": "lines",
         "name": "lama, bounds",
         "orientation": "v",
         "showlegend": true,
         "type": "scatter",
         "x": [
          "0_01",
          "0_02",
          "0_03",
          "0_04",
          "0_05",
          "0_06",
          "0_07",
          "0_08",
          "0_09",
          "0_10",
          "0_11",
          "0_12",
          "0_13",
          "0_14",
          "0_15",
          "0_16",
          "0_17",
          "0_18",
          "0_19",
          "0_20",
          "0_21",
          "0_22",
          "0_23",
          "0_24",
          "0_25",
          "0_26",
          "0_27",
          "0_28",
          "0_29",
          "0_30"
         ],
         "xaxis": "x",
         "y": [
          0,
          0,
          0,
          0,
          0,
          0,
          0,
          0,
          0,
          0,
          0,
          0,
          0,
          0,
          0,
          0,
          0,
          0,
          0,
          0,
          0,
          0,
          0,
          0,
          0,
          0,
          0,
          0,
          0,
          0
         ],
         "yaxis": "y"
        },
        {
         "error_y": {
          "array": [
           null,
           null,
           null,
           null,
           null,
           null,
           null,
           null,
           null,
           null,
           null,
           null,
           null,
           null,
           null,
           null,
           null,
           null,
           null,
           null,
           null,
           null,
           null,
           null,
           null,
           null,
           null,
           null,
           null,
           null
          ]
         },
         "hovertemplate": "solver=lama<br>type=bounds<br>difficulty=1<br>problem=%{x}<br>cycles_mean=%{y}<extra></extra>",
         "legendgroup": "lama, bounds",
         "line": {
          "color": "#00cc96",
          "dash": "solid"
         },
         "marker": {
          "symbol": "circle"
         },
         "mode": "lines",
         "name": "lama, bounds",
         "orientation": "v",
         "showlegend": false,
         "type": "scatter",
         "x": [
          "1_01",
          "1_02",
          "1_03",
          "1_04",
          "1_05",
          "1_06",
          "1_07",
          "1_08",
          "1_09",
          "1_10",
          "1_11",
          "1_12",
          "1_13",
          "1_14",
          "1_15",
          "1_16",
          "1_17",
          "1_18",
          "1_19",
          "1_20",
          "1_21",
          "1_22",
          "1_23",
          "1_24",
          "1_25",
          "1_26",
          "1_27",
          "1_28",
          "1_29",
          "1_30"
         ],
         "xaxis": "x2",
         "y": [
          0,
          0,
          0,
          0,
          0,
          0,
          0,
          0,
          0,
          0,
          0,
          0,
          0,
          0,
          0,
          0,
          0,
          0,
          0,
          0,
          0,
          0,
          0,
          0,
          0,
          0,
          0,
          0,
          0,
          0
         ],
         "yaxis": "y2"
        }
       ],
       "layout": {
        "annotations": [
         {
          "font": {},
          "showarrow": false,
          "text": "difficulty=0",
          "x": 0.245,
          "xanchor": "center",
          "xref": "paper",
          "y": 1,
          "yanchor": "bottom",
          "yref": "paper"
         },
         {
          "font": {},
          "showarrow": false,
          "text": "difficulty=1",
          "x": 0.755,
          "xanchor": "center",
          "xref": "paper",
          "y": 1,
          "yanchor": "bottom",
          "yref": "paper"
         }
        ],
        "legend": {
         "title": {
          "text": "solver, type"
         },
         "tracegroupgap": 0
        },
        "margin": {
         "t": 60
        },
        "template": {
         "data": {
          "bar": [
           {
            "error_x": {
             "color": "#2a3f5f"
            },
            "error_y": {
             "color": "#2a3f5f"
            },
            "marker": {
             "line": {
              "color": "#E5ECF6",
              "width": 0.5
             },
             "pattern": {
              "fillmode": "overlay",
              "size": 10,
              "solidity": 0.2
             }
            },
            "type": "bar"
           }
          ],
          "barpolar": [
           {
            "marker": {
             "line": {
              "color": "#E5ECF6",
              "width": 0.5
             },
             "pattern": {
              "fillmode": "overlay",
              "size": 10,
              "solidity": 0.2
             }
            },
            "type": "barpolar"
           }
          ],
          "carpet": [
           {
            "aaxis": {
             "endlinecolor": "#2a3f5f",
             "gridcolor": "white",
             "linecolor": "white",
             "minorgridcolor": "white",
             "startlinecolor": "#2a3f5f"
            },
            "baxis": {
             "endlinecolor": "#2a3f5f",
             "gridcolor": "white",
             "linecolor": "white",
             "minorgridcolor": "white",
             "startlinecolor": "#2a3f5f"
            },
            "type": "carpet"
           }
          ],
          "choropleth": [
           {
            "colorbar": {
             "outlinewidth": 0,
             "ticks": ""
            },
            "type": "choropleth"
           }
          ],
          "contour": [
           {
            "colorbar": {
             "outlinewidth": 0,
             "ticks": ""
            },
            "colorscale": [
             [
              0,
              "#0d0887"
             ],
             [
              0.1111111111111111,
              "#46039f"
             ],
             [
              0.2222222222222222,
              "#7201a8"
             ],
             [
              0.3333333333333333,
              "#9c179e"
             ],
             [
              0.4444444444444444,
              "#bd3786"
             ],
             [
              0.5555555555555556,
              "#d8576b"
             ],
             [
              0.6666666666666666,
              "#ed7953"
             ],
             [
              0.7777777777777778,
              "#fb9f3a"
             ],
             [
              0.8888888888888888,
              "#fdca26"
             ],
             [
              1,
              "#f0f921"
             ]
            ],
            "type": "contour"
           }
          ],
          "contourcarpet": [
           {
            "colorbar": {
             "outlinewidth": 0,
             "ticks": ""
            },
            "type": "contourcarpet"
           }
          ],
          "heatmap": [
           {
            "colorbar": {
             "outlinewidth": 0,
             "ticks": ""
            },
            "colorscale": [
             [
              0,
              "#0d0887"
             ],
             [
              0.1111111111111111,
              "#46039f"
             ],
             [
              0.2222222222222222,
              "#7201a8"
             ],
             [
              0.3333333333333333,
              "#9c179e"
             ],
             [
              0.4444444444444444,
              "#bd3786"
             ],
             [
              0.5555555555555556,
              "#d8576b"
             ],
             [
              0.6666666666666666,
              "#ed7953"
             ],
             [
              0.7777777777777778,
              "#fb9f3a"
             ],
             [
              0.8888888888888888,
              "#fdca26"
             ],
             [
              1,
              "#f0f921"
             ]
            ],
            "type": "heatmap"
           }
          ],
          "heatmapgl": [
           {
            "colorbar": {
             "outlinewidth": 0,
             "ticks": ""
            },
            "colorscale": [
             [
              0,
              "#0d0887"
             ],
             [
              0.1111111111111111,
              "#46039f"
             ],
             [
              0.2222222222222222,
              "#7201a8"
             ],
             [
              0.3333333333333333,
              "#9c179e"
             ],
             [
              0.4444444444444444,
              "#bd3786"
             ],
             [
              0.5555555555555556,
              "#d8576b"
             ],
             [
              0.6666666666666666,
              "#ed7953"
             ],
             [
              0.7777777777777778,
              "#fb9f3a"
             ],
             [
              0.8888888888888888,
              "#fdca26"
             ],
             [
              1,
              "#f0f921"
             ]
            ],
            "type": "heatmapgl"
           }
          ],
          "histogram": [
           {
            "marker": {
             "pattern": {
              "fillmode": "overlay",
              "size": 10,
              "solidity": 0.2
             }
            },
            "type": "histogram"
           }
          ],
          "histogram2d": [
           {
            "colorbar": {
             "outlinewidth": 0,
             "ticks": ""
            },
            "colorscale": [
             [
              0,
              "#0d0887"
             ],
             [
              0.1111111111111111,
              "#46039f"
             ],
             [
              0.2222222222222222,
              "#7201a8"
             ],
             [
              0.3333333333333333,
              "#9c179e"
             ],
             [
              0.4444444444444444,
              "#bd3786"
             ],
             [
              0.5555555555555556,
              "#d8576b"
             ],
             [
              0.6666666666666666,
              "#ed7953"
             ],
             [
              0.7777777777777778,
              "#fb9f3a"
             ],
             [
              0.8888888888888888,
              "#fdca26"
             ],
             [
              1,
              "#f0f921"
             ]
            ],
            "type": "histogram2d"
           }
          ],
          "histogram2dcontour": [
           {
            "colorbar": {
             "outlinewidth": 0,
             "ticks": ""
            },
            "colorscale": [
             [
              0,
              "#0d0887"
             ],
             [
              0.1111111111111111,
              "#46039f"
             ],
             [
              0.2222222222222222,
              "#7201a8"
             ],
             [
              0.3333333333333333,
              "#9c179e"
             ],
             [
              0.4444444444444444,
              "#bd3786"
             ],
             [
              0.5555555555555556,
              "#d8576b"
             ],
             [
              0.6666666666666666,
              "#ed7953"
             ],
             [
              0.7777777777777778,
              "#fb9f3a"
             ],
             [
              0.8888888888888888,
              "#fdca26"
             ],
             [
              1,
              "#f0f921"
             ]
            ],
            "type": "histogram2dcontour"
           }
          ],
          "mesh3d": [
           {
            "colorbar": {
             "outlinewidth": 0,
             "ticks": ""
            },
            "type": "mesh3d"
           }
          ],
          "parcoords": [
           {
            "line": {
             "colorbar": {
              "outlinewidth": 0,
              "ticks": ""
             }
            },
            "type": "parcoords"
           }
          ],
          "pie": [
           {
            "automargin": true,
            "type": "pie"
           }
          ],
          "scatter": [
           {
            "fillpattern": {
             "fillmode": "overlay",
             "size": 10,
             "solidity": 0.2
            },
            "type": "scatter"
           }
          ],
          "scatter3d": [
           {
            "line": {
             "colorbar": {
              "outlinewidth": 0,
              "ticks": ""
             }
            },
            "marker": {
             "colorbar": {
              "outlinewidth": 0,
              "ticks": ""
             }
            },
            "type": "scatter3d"
           }
          ],
          "scattercarpet": [
           {
            "marker": {
             "colorbar": {
              "outlinewidth": 0,
              "ticks": ""
             }
            },
            "type": "scattercarpet"
           }
          ],
          "scattergeo": [
           {
            "marker": {
             "colorbar": {
              "outlinewidth": 0,
              "ticks": ""
             }
            },
            "type": "scattergeo"
           }
          ],
          "scattergl": [
           {
            "marker": {
             "colorbar": {
              "outlinewidth": 0,
              "ticks": ""
             }
            },
            "type": "scattergl"
           }
          ],
          "scattermapbox": [
           {
            "marker": {
             "colorbar": {
              "outlinewidth": 0,
              "ticks": ""
             }
            },
            "type": "scattermapbox"
           }
          ],
          "scatterpolar": [
           {
            "marker": {
             "colorbar": {
              "outlinewidth": 0,
              "ticks": ""
             }
            },
            "type": "scatterpolar"
           }
          ],
          "scatterpolargl": [
           {
            "marker": {
             "colorbar": {
              "outlinewidth": 0,
              "ticks": ""
             }
            },
            "type": "scatterpolargl"
           }
          ],
          "scatterternary": [
           {
            "marker": {
             "colorbar": {
              "outlinewidth": 0,
              "ticks": ""
             }
            },
            "type": "scatterternary"
           }
          ],
          "surface": [
           {
            "colorbar": {
             "outlinewidth": 0,
             "ticks": ""
            },
            "colorscale": [
             [
              0,
              "#0d0887"
             ],
             [
              0.1111111111111111,
              "#46039f"
             ],
             [
              0.2222222222222222,
              "#7201a8"
             ],
             [
              0.3333333333333333,
              "#9c179e"
             ],
             [
              0.4444444444444444,
              "#bd3786"
             ],
             [
              0.5555555555555556,
              "#d8576b"
             ],
             [
              0.6666666666666666,
              "#ed7953"
             ],
             [
              0.7777777777777778,
              "#fb9f3a"
             ],
             [
              0.8888888888888888,
              "#fdca26"
             ],
             [
              1,
              "#f0f921"
             ]
            ],
            "type": "surface"
           }
          ],
          "table": [
           {
            "cells": {
             "fill": {
              "color": "#EBF0F8"
             },
             "line": {
              "color": "white"
             }
            },
            "header": {
             "fill": {
              "color": "#C8D4E3"
             },
             "line": {
              "color": "white"
             }
            },
            "type": "table"
           }
          ]
         },
         "layout": {
          "annotationdefaults": {
           "arrowcolor": "#2a3f5f",
           "arrowhead": 0,
           "arrowwidth": 1
          },
          "autotypenumbers": "strict",
          "coloraxis": {
           "colorbar": {
            "outlinewidth": 0,
            "ticks": ""
           }
          },
          "colorscale": {
           "diverging": [
            [
             0,
             "#8e0152"
            ],
            [
             0.1,
             "#c51b7d"
            ],
            [
             0.2,
             "#de77ae"
            ],
            [
             0.3,
             "#f1b6da"
            ],
            [
             0.4,
             "#fde0ef"
            ],
            [
             0.5,
             "#f7f7f7"
            ],
            [
             0.6,
             "#e6f5d0"
            ],
            [
             0.7,
             "#b8e186"
            ],
            [
             0.8,
             "#7fbc41"
            ],
            [
             0.9,
             "#4d9221"
            ],
            [
             1,
             "#276419"
            ]
           ],
           "sequential": [
            [
             0,
             "#0d0887"
            ],
            [
             0.1111111111111111,
             "#46039f"
            ],
            [
             0.2222222222222222,
             "#7201a8"
            ],
            [
             0.3333333333333333,
             "#9c179e"
            ],
            [
             0.4444444444444444,
             "#bd3786"
            ],
            [
             0.5555555555555556,
             "#d8576b"
            ],
            [
             0.6666666666666666,
             "#ed7953"
            ],
            [
             0.7777777777777778,
             "#fb9f3a"
            ],
            [
             0.8888888888888888,
             "#fdca26"
            ],
            [
             1,
             "#f0f921"
            ]
           ],
           "sequentialminus": [
            [
             0,
             "#0d0887"
            ],
            [
             0.1111111111111111,
             "#46039f"
            ],
            [
             0.2222222222222222,
             "#7201a8"
            ],
            [
             0.3333333333333333,
             "#9c179e"
            ],
            [
             0.4444444444444444,
             "#bd3786"
            ],
            [
             0.5555555555555556,
             "#d8576b"
            ],
            [
             0.6666666666666666,
             "#ed7953"
            ],
            [
             0.7777777777777778,
             "#fb9f3a"
            ],
            [
             0.8888888888888888,
             "#fdca26"
            ],
            [
             1,
             "#f0f921"
            ]
           ]
          },
          "colorway": [
           "#636efa",
           "#EF553B",
           "#00cc96",
           "#ab63fa",
           "#FFA15A",
           "#19d3f3",
           "#FF6692",
           "#B6E880",
           "#FF97FF",
           "#FECB52"
          ],
          "font": {
           "color": "#2a3f5f"
          },
          "geo": {
           "bgcolor": "white",
           "lakecolor": "white",
           "landcolor": "#E5ECF6",
           "showlakes": true,
           "showland": true,
           "subunitcolor": "white"
          },
          "hoverlabel": {
           "align": "left"
          },
          "hovermode": "closest",
          "mapbox": {
           "style": "light"
          },
          "paper_bgcolor": "white",
          "plot_bgcolor": "#E5ECF6",
          "polar": {
           "angularaxis": {
            "gridcolor": "white",
            "linecolor": "white",
            "ticks": ""
           },
           "bgcolor": "#E5ECF6",
           "radialaxis": {
            "gridcolor": "white",
            "linecolor": "white",
            "ticks": ""
           }
          },
          "scene": {
           "xaxis": {
            "backgroundcolor": "#E5ECF6",
            "gridcolor": "white",
            "gridwidth": 2,
            "linecolor": "white",
            "showbackground": true,
            "ticks": "",
            "zerolinecolor": "white"
           },
           "yaxis": {
            "backgroundcolor": "#E5ECF6",
            "gridcolor": "white",
            "gridwidth": 2,
            "linecolor": "white",
            "showbackground": true,
            "ticks": "",
            "zerolinecolor": "white"
           },
           "zaxis": {
            "backgroundcolor": "#E5ECF6",
            "gridcolor": "white",
            "gridwidth": 2,
            "linecolor": "white",
            "showbackground": true,
            "ticks": "",
            "zerolinecolor": "white"
           }
          },
          "shapedefaults": {
           "line": {
            "color": "#2a3f5f"
           }
          },
          "ternary": {
           "aaxis": {
            "gridcolor": "white",
            "linecolor": "white",
            "ticks": ""
           },
           "baxis": {
            "gridcolor": "white",
            "linecolor": "white",
            "ticks": ""
           },
           "bgcolor": "#E5ECF6",
           "caxis": {
            "gridcolor": "white",
            "linecolor": "white",
            "ticks": ""
           }
          },
          "title": {
           "x": 0.05
          },
          "xaxis": {
           "automargin": true,
           "gridcolor": "white",
           "linecolor": "white",
           "ticks": "",
           "title": {
            "standoff": 15
           },
           "zerolinecolor": "white",
           "zerolinewidth": 2
          },
          "yaxis": {
           "automargin": true,
           "gridcolor": "white",
           "linecolor": "white",
           "ticks": "",
           "title": {
            "standoff": 15
           },
           "zerolinecolor": "white",
           "zerolinewidth": 2
          }
         }
        },
        "xaxis": {
         "anchor": "y",
         "categoryarray": [
          "0_01",
          "0_02",
          "0_03",
          "0_04",
          "0_05",
          "0_06",
          "0_07",
          "0_08",
          "0_09",
          "0_10",
          "0_11",
          "0_12",
          "0_13",
          "0_14",
          "0_15",
          "0_16",
          "0_17",
          "0_18",
          "0_19",
          "0_20",
          "0_21",
          "0_22",
          "0_23",
          "0_24",
          "0_25",
          "0_26",
          "0_27",
          "0_28",
          "0_29",
          "0_30",
          "1_01",
          "1_02",
          "1_03",
          "1_04",
          "1_05",
          "1_06",
          "1_07",
          "1_08",
          "1_09",
          "1_10",
          "1_11",
          "1_12",
          "1_13",
          "1_14",
          "1_15",
          "1_16",
          "1_17",
          "1_18",
          "1_19",
          "1_20",
          "1_21",
          "1_22",
          "1_23",
          "1_24",
          "1_25",
          "1_26",
          "1_27",
          "1_28",
          "1_29",
          "1_30"
         ],
         "categoryorder": "array",
         "domain": [
          0,
          0.49
         ],
         "showticklabels": true,
         "title": {
          "text": "problem"
         }
        },
        "xaxis2": {
         "anchor": "y2",
         "categoryarray": [
          "0_01",
          "0_02",
          "0_03",
          "0_04",
          "0_05",
          "0_06",
          "0_07",
          "0_08",
          "0_09",
          "0_10",
          "0_11",
          "0_12",
          "0_13",
          "0_14",
          "0_15",
          "0_16",
          "0_17",
          "0_18",
          "0_19",
          "0_20",
          "0_21",
          "0_22",
          "0_23",
          "0_24",
          "0_25",
          "0_26",
          "0_27",
          "0_28",
          "0_29",
          "0_30",
          "1_01",
          "1_02",
          "1_03",
          "1_04",
          "1_05",
          "1_06",
          "1_07",
          "1_08",
          "1_09",
          "1_10",
          "1_11",
          "1_12",
          "1_13",
          "1_14",
          "1_15",
          "1_16",
          "1_17",
          "1_18",
          "1_19",
          "1_20",
          "1_21",
          "1_22",
          "1_23",
          "1_24",
          "1_25",
          "1_26",
          "1_27",
          "1_28",
          "1_29",
          "1_30"
         ],
         "categoryorder": "array",
         "domain": [
          0.51,
          1
         ],
         "showticklabels": true,
         "title": {
          "text": "problem"
         }
        },
        "yaxis": {
         "anchor": "x",
         "domain": [
          0,
          1
         ],
         "showticklabels": true,
         "title": {
          "text": "cycles_mean"
         }
        },
        "yaxis2": {
         "anchor": "x2",
         "domain": [
          0,
          1
         ],
         "showticklabels": true
        }
       }
      }
     },
     "metadata": {},
     "output_type": "display_data"
    },
    {
     "name": "stdout",
     "output_type": "stream",
     "text": [
      "satellite\n"
     ]
    },
    {
     "data": {
      "application/vnd.plotly.v1+json": {
       "config": {
        "plotlyServerURL": "https://plot.ly"
       },
       "data": [
        {
         "error_y": {
          "array": [
           0,
           0,
           0,
           0,
           0,
           0,
           0,
           0,
           0,
           0,
           0,
           0,
           0,
           0,
           0,
           0,
           0,
           0,
           0,
           0,
           0,
           0,
           0,
           0,
           0,
           0,
           0,
           0,
           0,
           0
          ]
         },
         "hovertemplate": "solver=baseline<br>type=bounds<br>difficulty=0<br>problem=%{x}<br>cycles_mean=%{y}<extra></extra>",
         "legendgroup": "baseline, bounds",
         "line": {
          "color": "#636efa",
          "dash": "solid"
         },
         "marker": {
          "symbol": "circle"
         },
         "mode": "lines",
         "name": "baseline, bounds",
         "orientation": "v",
         "showlegend": true,
         "type": "scatter",
         "x": [
          "0_01",
          "0_02",
          "0_03",
          "0_04",
          "0_05",
          "0_06",
          "0_07",
          "0_08",
          "0_09",
          "0_10",
          "0_11",
          "0_12",
          "0_13",
          "0_14",
          "0_15",
          "0_16",
          "0_17",
          "0_18",
          "0_19",
          "0_20",
          "0_21",
          "0_22",
          "0_23",
          "0_24",
          "0_25",
          "0_26",
          "0_27",
          "0_28",
          "0_29",
          "0_30"
         ],
         "xaxis": "x",
         "y": [
          0,
          0,
          0,
          0,
          0,
          0,
          0,
          0,
          0,
          0,
          0,
          0,
          0,
          0,
          0,
          0,
          0,
          0,
          0,
          0,
          0,
          0,
          0,
          0,
          0,
          0,
          0,
          0,
          0,
          0
         ],
         "yaxis": "y"
        },
        {
         "error_y": {
          "array": [
           0,
           0,
           0,
           0,
           0,
           0,
           0,
           0,
           0,
           0,
           0,
           0,
           0,
           0,
           0,
           0,
           0,
           0,
           0,
           0,
           0,
           0,
           0,
           0,
           0,
           0,
           0,
           0,
           0
          ]
         },
         "hovertemplate": "solver=baseline<br>type=bounds<br>difficulty=1<br>problem=%{x}<br>cycles_mean=%{y}<extra></extra>",
         "legendgroup": "baseline, bounds",
         "line": {
          "color": "#636efa",
          "dash": "solid"
         },
         "marker": {
          "symbol": "circle"
         },
         "mode": "lines",
         "name": "baseline, bounds",
         "orientation": "v",
         "showlegend": false,
         "type": "scatter",
         "x": [
          "1_01",
          "1_02",
          "1_03",
          "1_04",
          "1_05",
          "1_06",
          "1_07",
          "1_08",
          "1_09",
          "1_10",
          "1_11",
          "1_12",
          "1_13",
          "1_14",
          "1_15",
          "1_16",
          "1_17",
          "1_18",
          "1_19",
          "1_20",
          "1_21",
          "1_22",
          "1_23",
          "1_24",
          "1_25",
          "1_26",
          "1_27",
          "1_28",
          "1_30"
         ],
         "xaxis": "x2",
         "y": [
          0,
          0,
          0,
          0,
          0,
          0,
          0,
          0,
          0,
          0,
          0,
          0,
          0,
          0,
          0,
          0,
          0,
          0,
          0,
          0,
          0,
          0,
          0,
          0,
          0,
          0,
          0,
          0,
          0
         ],
         "yaxis": "y2"
        },
        {
         "error_y": {
          "array": [
           null,
           null,
           null,
           null,
           null,
           null,
           null,
           null,
           null,
           null,
           null,
           null,
           null,
           null,
           null,
           null,
           null,
           null,
           null,
           null,
           null,
           null,
           null,
           null,
           null,
           null,
           null,
           null,
           null,
           null
          ]
         },
         "hovertemplate": "solver=optimal<br>type=bounds<br>difficulty=0<br>problem=%{x}<br>cycles_mean=%{y}<extra></extra>",
         "legendgroup": "optimal, bounds",
         "line": {
          "color": "#EF553B",
          "dash": "solid"
         },
         "marker": {
          "symbol": "circle"
         },
         "mode": "lines",
         "name": "optimal, bounds",
         "orientation": "v",
         "showlegend": true,
         "type": "scatter",
         "x": [
          "0_01",
          "0_02",
          "0_03",
          "0_04",
          "0_05",
          "0_06",
          "0_07",
          "0_08",
          "0_09",
          "0_10",
          "0_11",
          "0_12",
          "0_13",
          "0_14",
          "0_15",
          "0_16",
          "0_17",
          "0_18",
          "0_19",
          "0_20",
          "0_21",
          "0_22",
          "0_23",
          "0_24",
          "0_25",
          "0_26",
          "0_27",
          "0_28",
          "0_29",
          "0_30"
         ],
         "xaxis": "x",
         "y": [
          0,
          0,
          0,
          0,
          0,
          0,
          0,
          0,
          0,
          0,
          0,
          0,
          0,
          0,
          0,
          0,
          0,
          0,
          0,
          0,
          0,
          0,
          0,
          0,
          0,
          0,
          0,
          0,
          0,
          0
         ],
         "yaxis": "y"
        },
        {
         "error_y": {
          "array": [
           null,
           null,
           null,
           null,
           null,
           null,
           null,
           null,
           null,
           null,
           null,
           null,
           null,
           null,
           null,
           null,
           null,
           null,
           null,
           null,
           null,
           null,
           null,
           null,
           null,
           null,
           null,
           null,
           null,
           null
          ]
         },
         "hovertemplate": "solver=optimal<br>type=bounds<br>difficulty=1<br>problem=%{x}<br>cycles_mean=%{y}<extra></extra>",
         "legendgroup": "optimal, bounds",
         "line": {
          "color": "#EF553B",
          "dash": "solid"
         },
         "marker": {
          "symbol": "circle"
         },
         "mode": "lines",
         "name": "optimal, bounds",
         "orientation": "v",
         "showlegend": false,
         "type": "scatter",
         "x": [
          "1_01",
          "1_02",
          "1_03",
          "1_04",
          "1_05",
          "1_06",
          "1_07",
          "1_08",
          "1_09",
          "1_10",
          "1_11",
          "1_12",
          "1_13",
          "1_14",
          "1_15",
          "1_16",
          "1_17",
          "1_18",
          "1_19",
          "1_20",
          "1_21",
          "1_22",
          "1_23",
          "1_24",
          "1_25",
          "1_26",
          "1_27",
          "1_28",
          "1_29",
          "1_30"
         ],
         "xaxis": "x2",
         "y": [
          0,
          0,
          0,
          0,
          0,
          0,
          0,
          0,
          0,
          0,
          0,
          0,
          0,
          0,
          0,
          0,
          0,
          0,
          0,
          0,
          0,
          0,
          0,
          0,
          0,
          0,
          0,
          0,
          0,
          0
         ],
         "yaxis": "y2"
        },
        {
         "error_y": {
          "array": [
           null,
           null,
           null,
           null,
           null,
           null,
           null,
           null,
           null,
           null,
           null,
           null,
           null,
           null,
           null,
           null,
           null,
           null,
           null,
           null,
           null,
           null,
           null,
           null,
           null,
           null,
           null,
           null,
           null,
           null
          ]
         },
         "hovertemplate": "solver=lama<br>type=bounds<br>difficulty=0<br>problem=%{x}<br>cycles_mean=%{y}<extra></extra>",
         "legendgroup": "lama, bounds",
         "line": {
          "color": "#00cc96",
          "dash": "solid"
         },
         "marker": {
          "symbol": "circle"
         },
         "mode": "lines",
         "name": "lama, bounds",
         "orientation": "v",
         "showlegend": true,
         "type": "scatter",
         "x": [
          "0_01",
          "0_02",
          "0_03",
          "0_04",
          "0_05",
          "0_06",
          "0_07",
          "0_08",
          "0_09",
          "0_10",
          "0_11",
          "0_12",
          "0_13",
          "0_14",
          "0_15",
          "0_16",
          "0_17",
          "0_18",
          "0_19",
          "0_20",
          "0_21",
          "0_22",
          "0_23",
          "0_24",
          "0_25",
          "0_26",
          "0_27",
          "0_28",
          "0_29",
          "0_30"
         ],
         "xaxis": "x",
         "y": [
          0,
          0,
          0,
          0,
          0,
          0,
          0,
          0,
          0,
          0,
          0,
          0,
          0,
          0,
          0,
          0,
          0,
          0,
          0,
          0,
          0,
          0,
          0,
          0,
          0,
          0,
          0,
          0,
          0,
          0
         ],
         "yaxis": "y"
        },
        {
         "error_y": {
          "array": [
           null,
           null,
           null,
           null,
           null,
           null,
           null,
           null,
           null,
           null,
           null,
           null,
           null,
           null,
           null,
           null,
           null,
           null,
           null,
           null,
           null,
           null,
           null,
           null,
           null,
           null,
           null,
           null,
           null,
           null
          ]
         },
         "hovertemplate": "solver=lama<br>type=bounds<br>difficulty=1<br>problem=%{x}<br>cycles_mean=%{y}<extra></extra>",
         "legendgroup": "lama, bounds",
         "line": {
          "color": "#00cc96",
          "dash": "solid"
         },
         "marker": {
          "symbol": "circle"
         },
         "mode": "lines",
         "name": "lama, bounds",
         "orientation": "v",
         "showlegend": false,
         "type": "scatter",
         "x": [
          "1_01",
          "1_02",
          "1_03",
          "1_04",
          "1_05",
          "1_06",
          "1_07",
          "1_08",
          "1_09",
          "1_10",
          "1_11",
          "1_12",
          "1_13",
          "1_14",
          "1_15",
          "1_16",
          "1_17",
          "1_18",
          "1_19",
          "1_20",
          "1_21",
          "1_22",
          "1_23",
          "1_24",
          "1_25",
          "1_26",
          "1_27",
          "1_28",
          "1_29",
          "1_30"
         ],
         "xaxis": "x2",
         "y": [
          0,
          0,
          0,
          0,
          0,
          0,
          0,
          0,
          0,
          0,
          0,
          0,
          0,
          0,
          0,
          0,
          0,
          0,
          0,
          0,
          0,
          0,
          0,
          0,
          0,
          0,
          0,
          0,
          0,
          0
         ],
         "yaxis": "y2"
        },
        {
         "error_y": {
          "array": [
           0,
           0,
           0,
           0,
           0,
           0,
           0,
           0,
           0,
           0,
           0,
           0,
           0,
           0,
           0,
           0,
           0,
           0,
           0,
           0,
           0,
           0,
           0,
           0,
           0,
           0,
           0,
           0,
           0,
           0
          ]
         },
         "hovertemplate": "solver=L2_D8_best<br>type=lrnn_best<br>difficulty=0<br>problem=%{x}<br>cycles_mean=%{y}<extra></extra>",
         "legendgroup": "L2_D8_best, lrnn_best",
         "line": {
          "color": "#ab63fa",
          "dash": "dot"
         },
         "marker": {
          "symbol": "circle"
         },
         "mode": "lines",
         "name": "L2_D8_best, lrnn_best",
         "orientation": "v",
         "showlegend": true,
         "type": "scatter",
         "x": [
          "0_01",
          "0_02",
          "0_03",
          "0_04",
          "0_05",
          "0_06",
          "0_07",
          "0_08",
          "0_09",
          "0_10",
          "0_11",
          "0_12",
          "0_13",
          "0_14",
          "0_15",
          "0_16",
          "0_17",
          "0_18",
          "0_19",
          "0_20",
          "0_21",
          "0_22",
          "0_23",
          "0_24",
          "0_25",
          "0_26",
          "0_27",
          "0_28",
          "0_29",
          "0_30"
         ],
         "xaxis": "x",
         "y": [
          0,
          0,
          0,
          0,
          0,
          0,
          0,
          0,
          0,
          0,
          0,
          0,
          0,
          0,
          0,
          0,
          0,
          0,
          0,
          0,
          0,
          0,
          0,
          0,
          0,
          0,
          0,
          0,
          0,
          0
         ],
         "yaxis": "y"
        },
        {
         "error_y": {
          "array": [
           0,
           0,
           0,
           0,
           0,
           0,
           0,
           0,
           0,
           0,
           0,
           0,
           0,
           0,
           0,
           0,
           0,
           0,
           0,
           0,
           0,
           0,
           0,
           null,
           0,
           null,
           null,
           0,
           0
          ]
         },
         "hovertemplate": "solver=L2_D8_best<br>type=lrnn_best<br>difficulty=1<br>problem=%{x}<br>cycles_mean=%{y}<extra></extra>",
         "legendgroup": "L2_D8_best, lrnn_best",
         "line": {
          "color": "#ab63fa",
          "dash": "dot"
         },
         "marker": {
          "symbol": "circle"
         },
         "mode": "lines",
         "name": "L2_D8_best, lrnn_best",
         "orientation": "v",
         "showlegend": false,
         "type": "scatter",
         "x": [
          "1_01",
          "1_02",
          "1_03",
          "1_04",
          "1_05",
          "1_06",
          "1_07",
          "1_08",
          "1_09",
          "1_10",
          "1_11",
          "1_12",
          "1_13",
          "1_14",
          "1_15",
          "1_16",
          "1_17",
          "1_18",
          "1_19",
          "1_20",
          "1_21",
          "1_22",
          "1_23",
          "1_24",
          "1_25",
          "1_26",
          "1_27",
          "1_28",
          "1_30"
         ],
         "xaxis": "x2",
         "y": [
          0,
          0,
          0,
          0,
          0,
          0,
          0,
          0,
          0,
          0,
          0,
          0,
          0,
          0,
          0,
          0,
          0,
          0,
          0,
          0,
          0,
          0,
          0,
          0,
          0,
          0,
          0,
          0,
          0
         ],
         "yaxis": "y2"
        }
       ],
       "layout": {
        "annotations": [
         {
          "font": {},
          "showarrow": false,
          "text": "difficulty=0",
          "x": 0.245,
          "xanchor": "center",
          "xref": "paper",
          "y": 1,
          "yanchor": "bottom",
          "yref": "paper"
         },
         {
          "font": {},
          "showarrow": false,
          "text": "difficulty=1",
          "x": 0.755,
          "xanchor": "center",
          "xref": "paper",
          "y": 1,
          "yanchor": "bottom",
          "yref": "paper"
         }
        ],
        "legend": {
         "title": {
          "text": "solver, type"
         },
         "tracegroupgap": 0
        },
        "margin": {
         "t": 60
        },
        "template": {
         "data": {
          "bar": [
           {
            "error_x": {
             "color": "#2a3f5f"
            },
            "error_y": {
             "color": "#2a3f5f"
            },
            "marker": {
             "line": {
              "color": "#E5ECF6",
              "width": 0.5
             },
             "pattern": {
              "fillmode": "overlay",
              "size": 10,
              "solidity": 0.2
             }
            },
            "type": "bar"
           }
          ],
          "barpolar": [
           {
            "marker": {
             "line": {
              "color": "#E5ECF6",
              "width": 0.5
             },
             "pattern": {
              "fillmode": "overlay",
              "size": 10,
              "solidity": 0.2
             }
            },
            "type": "barpolar"
           }
          ],
          "carpet": [
           {
            "aaxis": {
             "endlinecolor": "#2a3f5f",
             "gridcolor": "white",
             "linecolor": "white",
             "minorgridcolor": "white",
             "startlinecolor": "#2a3f5f"
            },
            "baxis": {
             "endlinecolor": "#2a3f5f",
             "gridcolor": "white",
             "linecolor": "white",
             "minorgridcolor": "white",
             "startlinecolor": "#2a3f5f"
            },
            "type": "carpet"
           }
          ],
          "choropleth": [
           {
            "colorbar": {
             "outlinewidth": 0,
             "ticks": ""
            },
            "type": "choropleth"
           }
          ],
          "contour": [
           {
            "colorbar": {
             "outlinewidth": 0,
             "ticks": ""
            },
            "colorscale": [
             [
              0,
              "#0d0887"
             ],
             [
              0.1111111111111111,
              "#46039f"
             ],
             [
              0.2222222222222222,
              "#7201a8"
             ],
             [
              0.3333333333333333,
              "#9c179e"
             ],
             [
              0.4444444444444444,
              "#bd3786"
             ],
             [
              0.5555555555555556,
              "#d8576b"
             ],
             [
              0.6666666666666666,
              "#ed7953"
             ],
             [
              0.7777777777777778,
              "#fb9f3a"
             ],
             [
              0.8888888888888888,
              "#fdca26"
             ],
             [
              1,
              "#f0f921"
             ]
            ],
            "type": "contour"
           }
          ],
          "contourcarpet": [
           {
            "colorbar": {
             "outlinewidth": 0,
             "ticks": ""
            },
            "type": "contourcarpet"
           }
          ],
          "heatmap": [
           {
            "colorbar": {
             "outlinewidth": 0,
             "ticks": ""
            },
            "colorscale": [
             [
              0,
              "#0d0887"
             ],
             [
              0.1111111111111111,
              "#46039f"
             ],
             [
              0.2222222222222222,
              "#7201a8"
             ],
             [
              0.3333333333333333,
              "#9c179e"
             ],
             [
              0.4444444444444444,
              "#bd3786"
             ],
             [
              0.5555555555555556,
              "#d8576b"
             ],
             [
              0.6666666666666666,
              "#ed7953"
             ],
             [
              0.7777777777777778,
              "#fb9f3a"
             ],
             [
              0.8888888888888888,
              "#fdca26"
             ],
             [
              1,
              "#f0f921"
             ]
            ],
            "type": "heatmap"
           }
          ],
          "heatmapgl": [
           {
            "colorbar": {
             "outlinewidth": 0,
             "ticks": ""
            },
            "colorscale": [
             [
              0,
              "#0d0887"
             ],
             [
              0.1111111111111111,
              "#46039f"
             ],
             [
              0.2222222222222222,
              "#7201a8"
             ],
             [
              0.3333333333333333,
              "#9c179e"
             ],
             [
              0.4444444444444444,
              "#bd3786"
             ],
             [
              0.5555555555555556,
              "#d8576b"
             ],
             [
              0.6666666666666666,
              "#ed7953"
             ],
             [
              0.7777777777777778,
              "#fb9f3a"
             ],
             [
              0.8888888888888888,
              "#fdca26"
             ],
             [
              1,
              "#f0f921"
             ]
            ],
            "type": "heatmapgl"
           }
          ],
          "histogram": [
           {
            "marker": {
             "pattern": {
              "fillmode": "overlay",
              "size": 10,
              "solidity": 0.2
             }
            },
            "type": "histogram"
           }
          ],
          "histogram2d": [
           {
            "colorbar": {
             "outlinewidth": 0,
             "ticks": ""
            },
            "colorscale": [
             [
              0,
              "#0d0887"
             ],
             [
              0.1111111111111111,
              "#46039f"
             ],
             [
              0.2222222222222222,
              "#7201a8"
             ],
             [
              0.3333333333333333,
              "#9c179e"
             ],
             [
              0.4444444444444444,
              "#bd3786"
             ],
             [
              0.5555555555555556,
              "#d8576b"
             ],
             [
              0.6666666666666666,
              "#ed7953"
             ],
             [
              0.7777777777777778,
              "#fb9f3a"
             ],
             [
              0.8888888888888888,
              "#fdca26"
             ],
             [
              1,
              "#f0f921"
             ]
            ],
            "type": "histogram2d"
           }
          ],
          "histogram2dcontour": [
           {
            "colorbar": {
             "outlinewidth": 0,
             "ticks": ""
            },
            "colorscale": [
             [
              0,
              "#0d0887"
             ],
             [
              0.1111111111111111,
              "#46039f"
             ],
             [
              0.2222222222222222,
              "#7201a8"
             ],
             [
              0.3333333333333333,
              "#9c179e"
             ],
             [
              0.4444444444444444,
              "#bd3786"
             ],
             [
              0.5555555555555556,
              "#d8576b"
             ],
             [
              0.6666666666666666,
              "#ed7953"
             ],
             [
              0.7777777777777778,
              "#fb9f3a"
             ],
             [
              0.8888888888888888,
              "#fdca26"
             ],
             [
              1,
              "#f0f921"
             ]
            ],
            "type": "histogram2dcontour"
           }
          ],
          "mesh3d": [
           {
            "colorbar": {
             "outlinewidth": 0,
             "ticks": ""
            },
            "type": "mesh3d"
           }
          ],
          "parcoords": [
           {
            "line": {
             "colorbar": {
              "outlinewidth": 0,
              "ticks": ""
             }
            },
            "type": "parcoords"
           }
          ],
          "pie": [
           {
            "automargin": true,
            "type": "pie"
           }
          ],
          "scatter": [
           {
            "fillpattern": {
             "fillmode": "overlay",
             "size": 10,
             "solidity": 0.2
            },
            "type": "scatter"
           }
          ],
          "scatter3d": [
           {
            "line": {
             "colorbar": {
              "outlinewidth": 0,
              "ticks": ""
             }
            },
            "marker": {
             "colorbar": {
              "outlinewidth": 0,
              "ticks": ""
             }
            },
            "type": "scatter3d"
           }
          ],
          "scattercarpet": [
           {
            "marker": {
             "colorbar": {
              "outlinewidth": 0,
              "ticks": ""
             }
            },
            "type": "scattercarpet"
           }
          ],
          "scattergeo": [
           {
            "marker": {
             "colorbar": {
              "outlinewidth": 0,
              "ticks": ""
             }
            },
            "type": "scattergeo"
           }
          ],
          "scattergl": [
           {
            "marker": {
             "colorbar": {
              "outlinewidth": 0,
              "ticks": ""
             }
            },
            "type": "scattergl"
           }
          ],
          "scattermapbox": [
           {
            "marker": {
             "colorbar": {
              "outlinewidth": 0,
              "ticks": ""
             }
            },
            "type": "scattermapbox"
           }
          ],
          "scatterpolar": [
           {
            "marker": {
             "colorbar": {
              "outlinewidth": 0,
              "ticks": ""
             }
            },
            "type": "scatterpolar"
           }
          ],
          "scatterpolargl": [
           {
            "marker": {
             "colorbar": {
              "outlinewidth": 0,
              "ticks": ""
             }
            },
            "type": "scatterpolargl"
           }
          ],
          "scatterternary": [
           {
            "marker": {
             "colorbar": {
              "outlinewidth": 0,
              "ticks": ""
             }
            },
            "type": "scatterternary"
           }
          ],
          "surface": [
           {
            "colorbar": {
             "outlinewidth": 0,
             "ticks": ""
            },
            "colorscale": [
             [
              0,
              "#0d0887"
             ],
             [
              0.1111111111111111,
              "#46039f"
             ],
             [
              0.2222222222222222,
              "#7201a8"
             ],
             [
              0.3333333333333333,
              "#9c179e"
             ],
             [
              0.4444444444444444,
              "#bd3786"
             ],
             [
              0.5555555555555556,
              "#d8576b"
             ],
             [
              0.6666666666666666,
              "#ed7953"
             ],
             [
              0.7777777777777778,
              "#fb9f3a"
             ],
             [
              0.8888888888888888,
              "#fdca26"
             ],
             [
              1,
              "#f0f921"
             ]
            ],
            "type": "surface"
           }
          ],
          "table": [
           {
            "cells": {
             "fill": {
              "color": "#EBF0F8"
             },
             "line": {
              "color": "white"
             }
            },
            "header": {
             "fill": {
              "color": "#C8D4E3"
             },
             "line": {
              "color": "white"
             }
            },
            "type": "table"
           }
          ]
         },
         "layout": {
          "annotationdefaults": {
           "arrowcolor": "#2a3f5f",
           "arrowhead": 0,
           "arrowwidth": 1
          },
          "autotypenumbers": "strict",
          "coloraxis": {
           "colorbar": {
            "outlinewidth": 0,
            "ticks": ""
           }
          },
          "colorscale": {
           "diverging": [
            [
             0,
             "#8e0152"
            ],
            [
             0.1,
             "#c51b7d"
            ],
            [
             0.2,
             "#de77ae"
            ],
            [
             0.3,
             "#f1b6da"
            ],
            [
             0.4,
             "#fde0ef"
            ],
            [
             0.5,
             "#f7f7f7"
            ],
            [
             0.6,
             "#e6f5d0"
            ],
            [
             0.7,
             "#b8e186"
            ],
            [
             0.8,
             "#7fbc41"
            ],
            [
             0.9,
             "#4d9221"
            ],
            [
             1,
             "#276419"
            ]
           ],
           "sequential": [
            [
             0,
             "#0d0887"
            ],
            [
             0.1111111111111111,
             "#46039f"
            ],
            [
             0.2222222222222222,
             "#7201a8"
            ],
            [
             0.3333333333333333,
             "#9c179e"
            ],
            [
             0.4444444444444444,
             "#bd3786"
            ],
            [
             0.5555555555555556,
             "#d8576b"
            ],
            [
             0.6666666666666666,
             "#ed7953"
            ],
            [
             0.7777777777777778,
             "#fb9f3a"
            ],
            [
             0.8888888888888888,
             "#fdca26"
            ],
            [
             1,
             "#f0f921"
            ]
           ],
           "sequentialminus": [
            [
             0,
             "#0d0887"
            ],
            [
             0.1111111111111111,
             "#46039f"
            ],
            [
             0.2222222222222222,
             "#7201a8"
            ],
            [
             0.3333333333333333,
             "#9c179e"
            ],
            [
             0.4444444444444444,
             "#bd3786"
            ],
            [
             0.5555555555555556,
             "#d8576b"
            ],
            [
             0.6666666666666666,
             "#ed7953"
            ],
            [
             0.7777777777777778,
             "#fb9f3a"
            ],
            [
             0.8888888888888888,
             "#fdca26"
            ],
            [
             1,
             "#f0f921"
            ]
           ]
          },
          "colorway": [
           "#636efa",
           "#EF553B",
           "#00cc96",
           "#ab63fa",
           "#FFA15A",
           "#19d3f3",
           "#FF6692",
           "#B6E880",
           "#FF97FF",
           "#FECB52"
          ],
          "font": {
           "color": "#2a3f5f"
          },
          "geo": {
           "bgcolor": "white",
           "lakecolor": "white",
           "landcolor": "#E5ECF6",
           "showlakes": true,
           "showland": true,
           "subunitcolor": "white"
          },
          "hoverlabel": {
           "align": "left"
          },
          "hovermode": "closest",
          "mapbox": {
           "style": "light"
          },
          "paper_bgcolor": "white",
          "plot_bgcolor": "#E5ECF6",
          "polar": {
           "angularaxis": {
            "gridcolor": "white",
            "linecolor": "white",
            "ticks": ""
           },
           "bgcolor": "#E5ECF6",
           "radialaxis": {
            "gridcolor": "white",
            "linecolor": "white",
            "ticks": ""
           }
          },
          "scene": {
           "xaxis": {
            "backgroundcolor": "#E5ECF6",
            "gridcolor": "white",
            "gridwidth": 2,
            "linecolor": "white",
            "showbackground": true,
            "ticks": "",
            "zerolinecolor": "white"
           },
           "yaxis": {
            "backgroundcolor": "#E5ECF6",
            "gridcolor": "white",
            "gridwidth": 2,
            "linecolor": "white",
            "showbackground": true,
            "ticks": "",
            "zerolinecolor": "white"
           },
           "zaxis": {
            "backgroundcolor": "#E5ECF6",
            "gridcolor": "white",
            "gridwidth": 2,
            "linecolor": "white",
            "showbackground": true,
            "ticks": "",
            "zerolinecolor": "white"
           }
          },
          "shapedefaults": {
           "line": {
            "color": "#2a3f5f"
           }
          },
          "ternary": {
           "aaxis": {
            "gridcolor": "white",
            "linecolor": "white",
            "ticks": ""
           },
           "baxis": {
            "gridcolor": "white",
            "linecolor": "white",
            "ticks": ""
           },
           "bgcolor": "#E5ECF6",
           "caxis": {
            "gridcolor": "white",
            "linecolor": "white",
            "ticks": ""
           }
          },
          "title": {
           "x": 0.05
          },
          "xaxis": {
           "automargin": true,
           "gridcolor": "white",
           "linecolor": "white",
           "ticks": "",
           "title": {
            "standoff": 15
           },
           "zerolinecolor": "white",
           "zerolinewidth": 2
          },
          "yaxis": {
           "automargin": true,
           "gridcolor": "white",
           "linecolor": "white",
           "ticks": "",
           "title": {
            "standoff": 15
           },
           "zerolinecolor": "white",
           "zerolinewidth": 2
          }
         }
        },
        "xaxis": {
         "anchor": "y",
         "categoryarray": [
          "0_01",
          "0_02",
          "0_03",
          "0_04",
          "0_05",
          "0_06",
          "0_07",
          "0_08",
          "0_09",
          "0_10",
          "0_11",
          "0_12",
          "0_13",
          "0_14",
          "0_15",
          "0_16",
          "0_17",
          "0_18",
          "0_19",
          "0_20",
          "0_21",
          "0_22",
          "0_23",
          "0_24",
          "0_25",
          "0_26",
          "0_27",
          "0_28",
          "0_29",
          "0_30",
          "1_01",
          "1_02",
          "1_03",
          "1_04",
          "1_05",
          "1_06",
          "1_07",
          "1_08",
          "1_09",
          "1_10",
          "1_11",
          "1_12",
          "1_13",
          "1_14",
          "1_15",
          "1_16",
          "1_17",
          "1_18",
          "1_19",
          "1_20",
          "1_21",
          "1_22",
          "1_23",
          "1_24",
          "1_25",
          "1_26",
          "1_27",
          "1_28",
          "1_29",
          "1_30"
         ],
         "categoryorder": "array",
         "domain": [
          0,
          0.49
         ],
         "showticklabels": true,
         "title": {
          "text": "problem"
         }
        },
        "xaxis2": {
         "anchor": "y2",
         "categoryarray": [
          "0_01",
          "0_02",
          "0_03",
          "0_04",
          "0_05",
          "0_06",
          "0_07",
          "0_08",
          "0_09",
          "0_10",
          "0_11",
          "0_12",
          "0_13",
          "0_14",
          "0_15",
          "0_16",
          "0_17",
          "0_18",
          "0_19",
          "0_20",
          "0_21",
          "0_22",
          "0_23",
          "0_24",
          "0_25",
          "0_26",
          "0_27",
          "0_28",
          "0_29",
          "0_30",
          "1_01",
          "1_02",
          "1_03",
          "1_04",
          "1_05",
          "1_06",
          "1_07",
          "1_08",
          "1_09",
          "1_10",
          "1_11",
          "1_12",
          "1_13",
          "1_14",
          "1_15",
          "1_16",
          "1_17",
          "1_18",
          "1_19",
          "1_20",
          "1_21",
          "1_22",
          "1_23",
          "1_24",
          "1_25",
          "1_26",
          "1_27",
          "1_28",
          "1_29",
          "1_30"
         ],
         "categoryorder": "array",
         "domain": [
          0.51,
          1
         ],
         "showticklabels": true,
         "title": {
          "text": "problem"
         }
        },
        "yaxis": {
         "anchor": "x",
         "domain": [
          0,
          1
         ],
         "showticklabels": true,
         "title": {
          "text": "cycles_mean"
         }
        },
        "yaxis2": {
         "anchor": "x2",
         "domain": [
          0,
          1
         ],
         "showticklabels": true
        }
       }
      }
     },
     "metadata": {},
     "output_type": "display_data"
    },
    {
     "name": "stdout",
     "output_type": "stream",
     "text": [
      "rover\n"
     ]
    },
    {
     "data": {
      "application/vnd.plotly.v1+json": {
       "config": {
        "plotlyServerURL": "https://plot.ly"
       },
       "data": [
        {
         "error_y": {
          "array": [
           0,
           0,
           0,
           0,
           0,
           0,
           0,
           0,
           0,
           0,
           0,
           0.5773502691896257,
           2.0816659994661326,
           1.5275252316519465,
           0.5773502691896258,
           0,
           0.5773502691896258,
           0,
           1.5275252316519468,
           1.1547005383792517,
           0,
           0,
           0,
           1.7320508075688772,
           0,
           0,
           0,
           1.5275252316519468,
           0,
           0.5773502691896258
          ]
         },
         "hovertemplate": "solver=baseline<br>type=bounds<br>difficulty=0<br>problem=%{x}<br>cycles_mean=%{y}<extra></extra>",
         "legendgroup": "baseline, bounds",
         "line": {
          "color": "#636efa",
          "dash": "solid"
         },
         "marker": {
          "symbol": "circle"
         },
         "mode": "lines",
         "name": "baseline, bounds",
         "orientation": "v",
         "showlegend": true,
         "type": "scatter",
         "x": [
          "0_01",
          "0_02",
          "0_03",
          "0_04",
          "0_05",
          "0_06",
          "0_07",
          "0_08",
          "0_09",
          "0_10",
          "0_11",
          "0_12",
          "0_13",
          "0_14",
          "0_15",
          "0_16",
          "0_17",
          "0_18",
          "0_19",
          "0_20",
          "0_21",
          "0_22",
          "0_23",
          "0_24",
          "0_25",
          "0_26",
          "0_27",
          "0_28",
          "0_29",
          "0_30"
         ],
         "xaxis": "x",
         "y": [
          0,
          0,
          0,
          0,
          0,
          0,
          0,
          0,
          0,
          0,
          0,
          2.3333333333333335,
          1.6666666666666667,
          1.3333333333333333,
          0.3333333333333333,
          0,
          0.3333333333333333,
          0,
          1.6666666666666667,
          0.6666666666666666,
          0,
          0,
          0,
          2,
          0,
          0,
          0,
          1.3333333333333333,
          0,
          0.6666666666666666
         ],
         "yaxis": "y"
        },
        {
         "error_y": {
          "array": [
           0.5773502691896258,
           2,
           1,
           0,
           0.5773502691896258,
           0,
           1,
           0,
           0.5773502691896258,
           5.773502691896257,
           5.656854249492381,
           1,
           0.5773502691896258,
           0,
           null,
           null,
           null
          ]
         },
         "hovertemplate": "solver=baseline<br>type=bounds<br>difficulty=1<br>problem=%{x}<br>cycles_mean=%{y}<extra></extra>",
         "legendgroup": "baseline, bounds",
         "line": {
          "color": "#636efa",
          "dash": "solid"
         },
         "marker": {
          "symbol": "circle"
         },
         "mode": "lines",
         "name": "baseline, bounds",
         "orientation": "v",
         "showlegend": false,
         "type": "scatter",
         "x": [
          "1_01",
          "1_02",
          "1_03",
          "1_04",
          "1_05",
          "1_06",
          "1_07",
          "1_08",
          "1_09",
          "1_10",
          "1_12",
          "1_13",
          "1_15",
          "1_24",
          "1_25",
          "1_29",
          "1_30"
         ],
         "xaxis": "x2",
         "y": [
          0.3333333333333333,
          2,
          1,
          1,
          0.3333333333333333,
          0,
          1,
          0,
          0.6666666666666666,
          3.3333333333333335,
          6,
          1,
          0.6666666666666666,
          0,
          null,
          null,
          null
         ],
         "yaxis": "y2"
        },
        {
         "error_y": {
          "array": [
           null,
           null,
           null,
           null,
           null,
           null,
           null,
           null,
           null,
           null,
           null,
           null,
           null,
           null,
           null,
           null,
           null,
           null,
           null,
           null,
           null,
           null,
           null,
           null,
           null,
           null,
           null,
           null,
           null,
           null
          ]
         },
         "hovertemplate": "solver=optimal<br>type=bounds<br>difficulty=0<br>problem=%{x}<br>cycles_mean=%{y}<extra></extra>",
         "legendgroup": "optimal, bounds",
         "line": {
          "color": "#EF553B",
          "dash": "solid"
         },
         "marker": {
          "symbol": "circle"
         },
         "mode": "lines",
         "name": "optimal, bounds",
         "orientation": "v",
         "showlegend": true,
         "type": "scatter",
         "x": [
          "0_01",
          "0_02",
          "0_03",
          "0_04",
          "0_05",
          "0_06",
          "0_07",
          "0_08",
          "0_09",
          "0_10",
          "0_11",
          "0_12",
          "0_13",
          "0_14",
          "0_15",
          "0_16",
          "0_17",
          "0_18",
          "0_19",
          "0_20",
          "0_21",
          "0_22",
          "0_23",
          "0_24",
          "0_25",
          "0_26",
          "0_27",
          "0_28",
          "0_29",
          "0_30"
         ],
         "xaxis": "x",
         "y": [
          0,
          0,
          0,
          0,
          0,
          0,
          0,
          0,
          0,
          0,
          0,
          0,
          0,
          0,
          0,
          0,
          0,
          0,
          0,
          0,
          0,
          0,
          0,
          0,
          0,
          0,
          0,
          0,
          0,
          0
         ],
         "yaxis": "y"
        },
        {
         "error_y": {
          "array": [
           null,
           null,
           null,
           null,
           null,
           null,
           null,
           null,
           null,
           null,
           null,
           null,
           null,
           null,
           null,
           null,
           null,
           null,
           null,
           null,
           null,
           null,
           null,
           null,
           null,
           null,
           null,
           null,
           null,
           null
          ]
         },
         "hovertemplate": "solver=optimal<br>type=bounds<br>difficulty=1<br>problem=%{x}<br>cycles_mean=%{y}<extra></extra>",
         "legendgroup": "optimal, bounds",
         "line": {
          "color": "#EF553B",
          "dash": "solid"
         },
         "marker": {
          "symbol": "circle"
         },
         "mode": "lines",
         "name": "optimal, bounds",
         "orientation": "v",
         "showlegend": false,
         "type": "scatter",
         "x": [
          "1_01",
          "1_02",
          "1_03",
          "1_04",
          "1_05",
          "1_06",
          "1_07",
          "1_08",
          "1_09",
          "1_10",
          "1_11",
          "1_12",
          "1_13",
          "1_14",
          "1_15",
          "1_16",
          "1_17",
          "1_18",
          "1_19",
          "1_20",
          "1_21",
          "1_22",
          "1_23",
          "1_24",
          "1_25",
          "1_26",
          "1_27",
          "1_28",
          "1_29",
          "1_30"
         ],
         "xaxis": "x2",
         "y": [
          0,
          0,
          0,
          0,
          0,
          0,
          0,
          0,
          0,
          0,
          0,
          0,
          0,
          0,
          0,
          0,
          0,
          0,
          0,
          0,
          0,
          0,
          0,
          0,
          0,
          0,
          0,
          0,
          0,
          0
         ],
         "yaxis": "y2"
        },
        {
         "error_y": {
          "array": [
           null,
           null,
           null,
           null,
           null,
           null,
           null,
           null,
           null,
           null,
           null,
           null,
           null,
           null,
           null,
           null,
           null,
           null,
           null,
           null,
           null,
           null,
           null,
           null,
           null,
           null,
           null,
           null,
           null,
           null
          ]
         },
         "hovertemplate": "solver=lama<br>type=bounds<br>difficulty=0<br>problem=%{x}<br>cycles_mean=%{y}<extra></extra>",
         "legendgroup": "lama, bounds",
         "line": {
          "color": "#00cc96",
          "dash": "solid"
         },
         "marker": {
          "symbol": "circle"
         },
         "mode": "lines",
         "name": "lama, bounds",
         "orientation": "v",
         "showlegend": true,
         "type": "scatter",
         "x": [
          "0_01",
          "0_02",
          "0_03",
          "0_04",
          "0_05",
          "0_06",
          "0_07",
          "0_08",
          "0_09",
          "0_10",
          "0_11",
          "0_12",
          "0_13",
          "0_14",
          "0_15",
          "0_16",
          "0_17",
          "0_18",
          "0_19",
          "0_20",
          "0_21",
          "0_22",
          "0_23",
          "0_24",
          "0_25",
          "0_26",
          "0_27",
          "0_28",
          "0_29",
          "0_30"
         ],
         "xaxis": "x",
         "y": [
          0,
          0,
          0,
          0,
          0,
          0,
          0,
          0,
          0,
          0,
          0,
          0,
          0,
          0,
          0,
          0,
          0,
          0,
          0,
          0,
          0,
          0,
          0,
          0,
          0,
          0,
          0,
          0,
          0,
          0
         ],
         "yaxis": "y"
        },
        {
         "error_y": {
          "array": [
           null,
           null,
           null,
           null,
           null,
           null,
           null,
           null,
           null,
           null,
           null,
           null,
           null,
           null,
           null,
           null,
           null,
           null,
           null,
           null,
           null,
           null,
           null,
           null,
           null,
           null,
           null,
           null,
           null,
           null
          ]
         },
         "hovertemplate": "solver=lama<br>type=bounds<br>difficulty=1<br>problem=%{x}<br>cycles_mean=%{y}<extra></extra>",
         "legendgroup": "lama, bounds",
         "line": {
          "color": "#00cc96",
          "dash": "solid"
         },
         "marker": {
          "symbol": "circle"
         },
         "mode": "lines",
         "name": "lama, bounds",
         "orientation": "v",
         "showlegend": false,
         "type": "scatter",
         "x": [
          "1_01",
          "1_02",
          "1_03",
          "1_04",
          "1_05",
          "1_06",
          "1_07",
          "1_08",
          "1_09",
          "1_10",
          "1_11",
          "1_12",
          "1_13",
          "1_14",
          "1_15",
          "1_16",
          "1_17",
          "1_18",
          "1_19",
          "1_20",
          "1_21",
          "1_22",
          "1_23",
          "1_24",
          "1_25",
          "1_26",
          "1_27",
          "1_28",
          "1_29",
          "1_30"
         ],
         "xaxis": "x2",
         "y": [
          0,
          0,
          0,
          0,
          0,
          0,
          0,
          0,
          0,
          0,
          0,
          0,
          0,
          0,
          0,
          0,
          0,
          0,
          0,
          0,
          0,
          0,
          0,
          0,
          0,
          0,
          0,
          0,
          0,
          0
         ],
         "yaxis": "y2"
        },
        {
         "error_y": {
          "array": [
           0,
           0.5773502691896258,
           2.0816659994661326,
           0,
           0,
           0.5773502691896258,
           0,
           0.5773502691896258,
           0,
           0,
           0,
           2.6457513110645907,
           0,
           0,
           0.5773502691896258,
           2.0816659994661326,
           0,
           0,
           25.865034312755125,
           23.515952032609693,
           1,
           8.54400374531753,
           3.2145502536643185,
           17.435595774162696,
           7.023769168568492,
           19.139836293274126,
           0,
           112.07735423953106,
           10,
           204.95934556231714
          ]
         },
         "hovertemplate": "solver=L2_D8_best<br>type=lrnn_best<br>difficulty=0<br>problem=%{x}<br>cycles_mean=%{y}<extra></extra>",
         "legendgroup": "L2_D8_best, lrnn_best",
         "line": {
          "color": "#ab63fa",
          "dash": "dot"
         },
         "marker": {
          "symbol": "circle"
         },
         "mode": "lines",
         "name": "L2_D8_best, lrnn_best",
         "orientation": "v",
         "showlegend": true,
         "type": "scatter",
         "x": [
          "0_01",
          "0_02",
          "0_03",
          "0_04",
          "0_05",
          "0_06",
          "0_07",
          "0_08",
          "0_09",
          "0_10",
          "0_11",
          "0_12",
          "0_13",
          "0_14",
          "0_15",
          "0_16",
          "0_17",
          "0_18",
          "0_19",
          "0_20",
          "0_21",
          "0_22",
          "0_23",
          "0_24",
          "0_25",
          "0_26",
          "0_27",
          "0_28",
          "0_29",
          "0_30"
         ],
         "xaxis": "x",
         "y": [
          0,
          0.6666666666666666,
          2.3333333333333335,
          0,
          0,
          0.6666666666666666,
          0,
          0.3333333333333333,
          0,
          0,
          0,
          5,
          0,
          0,
          0.3333333333333333,
          1.6666666666666667,
          0,
          0,
          28,
          18,
          1,
          14,
          4.666666666666667,
          19,
          13.333333333333334,
          28.333333333333332,
          0,
          69.66666666666667,
          10,
          118.33333333333333
         ],
         "yaxis": "y"
        },
        {
         "error_y": {
          "array": [
           88.79376855012593,
           0,
           148.44976703697898,
           691.5504320004435,
           null,
           null,
           329.6912697256834,
           null,
           null,
           123.55700438798819,
           547.3006486383878,
           null,
           null,
           null,
           null,
           null,
           null,
           null,
           null,
           null,
           null,
           null,
           null
          ]
         },
         "hovertemplate": "solver=L2_D8_best<br>type=lrnn_best<br>difficulty=1<br>problem=%{x}<br>cycles_mean=%{y}<extra></extra>",
         "legendgroup": "L2_D8_best, lrnn_best",
         "line": {
          "color": "#ab63fa",
          "dash": "dot"
         },
         "marker": {
          "symbol": "circle"
         },
         "mode": "lines",
         "name": "L2_D8_best, lrnn_best",
         "orientation": "v",
         "showlegend": false,
         "type": "scatter",
         "x": [
          "1_01",
          "1_02",
          "1_03",
          "1_04",
          "1_05",
          "1_06",
          "1_07",
          "1_08",
          "1_09",
          "1_10",
          "1_12",
          "1_13",
          "1_17",
          "1_18",
          "1_19",
          "1_20",
          "1_22",
          "1_23",
          "1_25",
          "1_26",
          "1_28",
          "1_29",
          "1_30"
         ],
         "xaxis": "x2",
         "y": [
          113.33333333333333,
          0,
          166.33333333333334,
          1824,
          109,
          null,
          194.33333333333334,
          null,
          null,
          101.66666666666667,
          1842,
          null,
          null,
          null,
          null,
          null,
          null,
          null,
          null,
          null,
          null,
          null,
          null
         ],
         "yaxis": "y2"
        }
       ],
       "layout": {
        "annotations": [
         {
          "font": {},
          "showarrow": false,
          "text": "difficulty=0",
          "x": 0.245,
          "xanchor": "center",
          "xref": "paper",
          "y": 1,
          "yanchor": "bottom",
          "yref": "paper"
         },
         {
          "font": {},
          "showarrow": false,
          "text": "difficulty=1",
          "x": 0.755,
          "xanchor": "center",
          "xref": "paper",
          "y": 1,
          "yanchor": "bottom",
          "yref": "paper"
         }
        ],
        "legend": {
         "title": {
          "text": "solver, type"
         },
         "tracegroupgap": 0
        },
        "margin": {
         "t": 60
        },
        "template": {
         "data": {
          "bar": [
           {
            "error_x": {
             "color": "#2a3f5f"
            },
            "error_y": {
             "color": "#2a3f5f"
            },
            "marker": {
             "line": {
              "color": "#E5ECF6",
              "width": 0.5
             },
             "pattern": {
              "fillmode": "overlay",
              "size": 10,
              "solidity": 0.2
             }
            },
            "type": "bar"
           }
          ],
          "barpolar": [
           {
            "marker": {
             "line": {
              "color": "#E5ECF6",
              "width": 0.5
             },
             "pattern": {
              "fillmode": "overlay",
              "size": 10,
              "solidity": 0.2
             }
            },
            "type": "barpolar"
           }
          ],
          "carpet": [
           {
            "aaxis": {
             "endlinecolor": "#2a3f5f",
             "gridcolor": "white",
             "linecolor": "white",
             "minorgridcolor": "white",
             "startlinecolor": "#2a3f5f"
            },
            "baxis": {
             "endlinecolor": "#2a3f5f",
             "gridcolor": "white",
             "linecolor": "white",
             "minorgridcolor": "white",
             "startlinecolor": "#2a3f5f"
            },
            "type": "carpet"
           }
          ],
          "choropleth": [
           {
            "colorbar": {
             "outlinewidth": 0,
             "ticks": ""
            },
            "type": "choropleth"
           }
          ],
          "contour": [
           {
            "colorbar": {
             "outlinewidth": 0,
             "ticks": ""
            },
            "colorscale": [
             [
              0,
              "#0d0887"
             ],
             [
              0.1111111111111111,
              "#46039f"
             ],
             [
              0.2222222222222222,
              "#7201a8"
             ],
             [
              0.3333333333333333,
              "#9c179e"
             ],
             [
              0.4444444444444444,
              "#bd3786"
             ],
             [
              0.5555555555555556,
              "#d8576b"
             ],
             [
              0.6666666666666666,
              "#ed7953"
             ],
             [
              0.7777777777777778,
              "#fb9f3a"
             ],
             [
              0.8888888888888888,
              "#fdca26"
             ],
             [
              1,
              "#f0f921"
             ]
            ],
            "type": "contour"
           }
          ],
          "contourcarpet": [
           {
            "colorbar": {
             "outlinewidth": 0,
             "ticks": ""
            },
            "type": "contourcarpet"
           }
          ],
          "heatmap": [
           {
            "colorbar": {
             "outlinewidth": 0,
             "ticks": ""
            },
            "colorscale": [
             [
              0,
              "#0d0887"
             ],
             [
              0.1111111111111111,
              "#46039f"
             ],
             [
              0.2222222222222222,
              "#7201a8"
             ],
             [
              0.3333333333333333,
              "#9c179e"
             ],
             [
              0.4444444444444444,
              "#bd3786"
             ],
             [
              0.5555555555555556,
              "#d8576b"
             ],
             [
              0.6666666666666666,
              "#ed7953"
             ],
             [
              0.7777777777777778,
              "#fb9f3a"
             ],
             [
              0.8888888888888888,
              "#fdca26"
             ],
             [
              1,
              "#f0f921"
             ]
            ],
            "type": "heatmap"
           }
          ],
          "heatmapgl": [
           {
            "colorbar": {
             "outlinewidth": 0,
             "ticks": ""
            },
            "colorscale": [
             [
              0,
              "#0d0887"
             ],
             [
              0.1111111111111111,
              "#46039f"
             ],
             [
              0.2222222222222222,
              "#7201a8"
             ],
             [
              0.3333333333333333,
              "#9c179e"
             ],
             [
              0.4444444444444444,
              "#bd3786"
             ],
             [
              0.5555555555555556,
              "#d8576b"
             ],
             [
              0.6666666666666666,
              "#ed7953"
             ],
             [
              0.7777777777777778,
              "#fb9f3a"
             ],
             [
              0.8888888888888888,
              "#fdca26"
             ],
             [
              1,
              "#f0f921"
             ]
            ],
            "type": "heatmapgl"
           }
          ],
          "histogram": [
           {
            "marker": {
             "pattern": {
              "fillmode": "overlay",
              "size": 10,
              "solidity": 0.2
             }
            },
            "type": "histogram"
           }
          ],
          "histogram2d": [
           {
            "colorbar": {
             "outlinewidth": 0,
             "ticks": ""
            },
            "colorscale": [
             [
              0,
              "#0d0887"
             ],
             [
              0.1111111111111111,
              "#46039f"
             ],
             [
              0.2222222222222222,
              "#7201a8"
             ],
             [
              0.3333333333333333,
              "#9c179e"
             ],
             [
              0.4444444444444444,
              "#bd3786"
             ],
             [
              0.5555555555555556,
              "#d8576b"
             ],
             [
              0.6666666666666666,
              "#ed7953"
             ],
             [
              0.7777777777777778,
              "#fb9f3a"
             ],
             [
              0.8888888888888888,
              "#fdca26"
             ],
             [
              1,
              "#f0f921"
             ]
            ],
            "type": "histogram2d"
           }
          ],
          "histogram2dcontour": [
           {
            "colorbar": {
             "outlinewidth": 0,
             "ticks": ""
            },
            "colorscale": [
             [
              0,
              "#0d0887"
             ],
             [
              0.1111111111111111,
              "#46039f"
             ],
             [
              0.2222222222222222,
              "#7201a8"
             ],
             [
              0.3333333333333333,
              "#9c179e"
             ],
             [
              0.4444444444444444,
              "#bd3786"
             ],
             [
              0.5555555555555556,
              "#d8576b"
             ],
             [
              0.6666666666666666,
              "#ed7953"
             ],
             [
              0.7777777777777778,
              "#fb9f3a"
             ],
             [
              0.8888888888888888,
              "#fdca26"
             ],
             [
              1,
              "#f0f921"
             ]
            ],
            "type": "histogram2dcontour"
           }
          ],
          "mesh3d": [
           {
            "colorbar": {
             "outlinewidth": 0,
             "ticks": ""
            },
            "type": "mesh3d"
           }
          ],
          "parcoords": [
           {
            "line": {
             "colorbar": {
              "outlinewidth": 0,
              "ticks": ""
             }
            },
            "type": "parcoords"
           }
          ],
          "pie": [
           {
            "automargin": true,
            "type": "pie"
           }
          ],
          "scatter": [
           {
            "fillpattern": {
             "fillmode": "overlay",
             "size": 10,
             "solidity": 0.2
            },
            "type": "scatter"
           }
          ],
          "scatter3d": [
           {
            "line": {
             "colorbar": {
              "outlinewidth": 0,
              "ticks": ""
             }
            },
            "marker": {
             "colorbar": {
              "outlinewidth": 0,
              "ticks": ""
             }
            },
            "type": "scatter3d"
           }
          ],
          "scattercarpet": [
           {
            "marker": {
             "colorbar": {
              "outlinewidth": 0,
              "ticks": ""
             }
            },
            "type": "scattercarpet"
           }
          ],
          "scattergeo": [
           {
            "marker": {
             "colorbar": {
              "outlinewidth": 0,
              "ticks": ""
             }
            },
            "type": "scattergeo"
           }
          ],
          "scattergl": [
           {
            "marker": {
             "colorbar": {
              "outlinewidth": 0,
              "ticks": ""
             }
            },
            "type": "scattergl"
           }
          ],
          "scattermapbox": [
           {
            "marker": {
             "colorbar": {
              "outlinewidth": 0,
              "ticks": ""
             }
            },
            "type": "scattermapbox"
           }
          ],
          "scatterpolar": [
           {
            "marker": {
             "colorbar": {
              "outlinewidth": 0,
              "ticks": ""
             }
            },
            "type": "scatterpolar"
           }
          ],
          "scatterpolargl": [
           {
            "marker": {
             "colorbar": {
              "outlinewidth": 0,
              "ticks": ""
             }
            },
            "type": "scatterpolargl"
           }
          ],
          "scatterternary": [
           {
            "marker": {
             "colorbar": {
              "outlinewidth": 0,
              "ticks": ""
             }
            },
            "type": "scatterternary"
           }
          ],
          "surface": [
           {
            "colorbar": {
             "outlinewidth": 0,
             "ticks": ""
            },
            "colorscale": [
             [
              0,
              "#0d0887"
             ],
             [
              0.1111111111111111,
              "#46039f"
             ],
             [
              0.2222222222222222,
              "#7201a8"
             ],
             [
              0.3333333333333333,
              "#9c179e"
             ],
             [
              0.4444444444444444,
              "#bd3786"
             ],
             [
              0.5555555555555556,
              "#d8576b"
             ],
             [
              0.6666666666666666,
              "#ed7953"
             ],
             [
              0.7777777777777778,
              "#fb9f3a"
             ],
             [
              0.8888888888888888,
              "#fdca26"
             ],
             [
              1,
              "#f0f921"
             ]
            ],
            "type": "surface"
           }
          ],
          "table": [
           {
            "cells": {
             "fill": {
              "color": "#EBF0F8"
             },
             "line": {
              "color": "white"
             }
            },
            "header": {
             "fill": {
              "color": "#C8D4E3"
             },
             "line": {
              "color": "white"
             }
            },
            "type": "table"
           }
          ]
         },
         "layout": {
          "annotationdefaults": {
           "arrowcolor": "#2a3f5f",
           "arrowhead": 0,
           "arrowwidth": 1
          },
          "autotypenumbers": "strict",
          "coloraxis": {
           "colorbar": {
            "outlinewidth": 0,
            "ticks": ""
           }
          },
          "colorscale": {
           "diverging": [
            [
             0,
             "#8e0152"
            ],
            [
             0.1,
             "#c51b7d"
            ],
            [
             0.2,
             "#de77ae"
            ],
            [
             0.3,
             "#f1b6da"
            ],
            [
             0.4,
             "#fde0ef"
            ],
            [
             0.5,
             "#f7f7f7"
            ],
            [
             0.6,
             "#e6f5d0"
            ],
            [
             0.7,
             "#b8e186"
            ],
            [
             0.8,
             "#7fbc41"
            ],
            [
             0.9,
             "#4d9221"
            ],
            [
             1,
             "#276419"
            ]
           ],
           "sequential": [
            [
             0,
             "#0d0887"
            ],
            [
             0.1111111111111111,
             "#46039f"
            ],
            [
             0.2222222222222222,
             "#7201a8"
            ],
            [
             0.3333333333333333,
             "#9c179e"
            ],
            [
             0.4444444444444444,
             "#bd3786"
            ],
            [
             0.5555555555555556,
             "#d8576b"
            ],
            [
             0.6666666666666666,
             "#ed7953"
            ],
            [
             0.7777777777777778,
             "#fb9f3a"
            ],
            [
             0.8888888888888888,
             "#fdca26"
            ],
            [
             1,
             "#f0f921"
            ]
           ],
           "sequentialminus": [
            [
             0,
             "#0d0887"
            ],
            [
             0.1111111111111111,
             "#46039f"
            ],
            [
             0.2222222222222222,
             "#7201a8"
            ],
            [
             0.3333333333333333,
             "#9c179e"
            ],
            [
             0.4444444444444444,
             "#bd3786"
            ],
            [
             0.5555555555555556,
             "#d8576b"
            ],
            [
             0.6666666666666666,
             "#ed7953"
            ],
            [
             0.7777777777777778,
             "#fb9f3a"
            ],
            [
             0.8888888888888888,
             "#fdca26"
            ],
            [
             1,
             "#f0f921"
            ]
           ]
          },
          "colorway": [
           "#636efa",
           "#EF553B",
           "#00cc96",
           "#ab63fa",
           "#FFA15A",
           "#19d3f3",
           "#FF6692",
           "#B6E880",
           "#FF97FF",
           "#FECB52"
          ],
          "font": {
           "color": "#2a3f5f"
          },
          "geo": {
           "bgcolor": "white",
           "lakecolor": "white",
           "landcolor": "#E5ECF6",
           "showlakes": true,
           "showland": true,
           "subunitcolor": "white"
          },
          "hoverlabel": {
           "align": "left"
          },
          "hovermode": "closest",
          "mapbox": {
           "style": "light"
          },
          "paper_bgcolor": "white",
          "plot_bgcolor": "#E5ECF6",
          "polar": {
           "angularaxis": {
            "gridcolor": "white",
            "linecolor": "white",
            "ticks": ""
           },
           "bgcolor": "#E5ECF6",
           "radialaxis": {
            "gridcolor": "white",
            "linecolor": "white",
            "ticks": ""
           }
          },
          "scene": {
           "xaxis": {
            "backgroundcolor": "#E5ECF6",
            "gridcolor": "white",
            "gridwidth": 2,
            "linecolor": "white",
            "showbackground": true,
            "ticks": "",
            "zerolinecolor": "white"
           },
           "yaxis": {
            "backgroundcolor": "#E5ECF6",
            "gridcolor": "white",
            "gridwidth": 2,
            "linecolor": "white",
            "showbackground": true,
            "ticks": "",
            "zerolinecolor": "white"
           },
           "zaxis": {
            "backgroundcolor": "#E5ECF6",
            "gridcolor": "white",
            "gridwidth": 2,
            "linecolor": "white",
            "showbackground": true,
            "ticks": "",
            "zerolinecolor": "white"
           }
          },
          "shapedefaults": {
           "line": {
            "color": "#2a3f5f"
           }
          },
          "ternary": {
           "aaxis": {
            "gridcolor": "white",
            "linecolor": "white",
            "ticks": ""
           },
           "baxis": {
            "gridcolor": "white",
            "linecolor": "white",
            "ticks": ""
           },
           "bgcolor": "#E5ECF6",
           "caxis": {
            "gridcolor": "white",
            "linecolor": "white",
            "ticks": ""
           }
          },
          "title": {
           "x": 0.05
          },
          "xaxis": {
           "automargin": true,
           "gridcolor": "white",
           "linecolor": "white",
           "ticks": "",
           "title": {
            "standoff": 15
           },
           "zerolinecolor": "white",
           "zerolinewidth": 2
          },
          "yaxis": {
           "automargin": true,
           "gridcolor": "white",
           "linecolor": "white",
           "ticks": "",
           "title": {
            "standoff": 15
           },
           "zerolinecolor": "white",
           "zerolinewidth": 2
          }
         }
        },
        "xaxis": {
         "anchor": "y",
         "categoryarray": [
          "0_01",
          "0_02",
          "0_03",
          "0_04",
          "0_05",
          "0_06",
          "0_07",
          "0_08",
          "0_09",
          "0_10",
          "0_11",
          "0_12",
          "0_13",
          "0_14",
          "0_15",
          "0_16",
          "0_17",
          "0_18",
          "0_19",
          "0_20",
          "0_21",
          "0_22",
          "0_23",
          "0_24",
          "0_25",
          "0_26",
          "0_27",
          "0_28",
          "0_29",
          "0_30",
          "1_01",
          "1_02",
          "1_03",
          "1_04",
          "1_05",
          "1_06",
          "1_07",
          "1_08",
          "1_09",
          "1_10",
          "1_11",
          "1_12",
          "1_13",
          "1_14",
          "1_15",
          "1_16",
          "1_17",
          "1_18",
          "1_19",
          "1_20",
          "1_21",
          "1_22",
          "1_23",
          "1_24",
          "1_25",
          "1_26",
          "1_27",
          "1_28",
          "1_29",
          "1_30"
         ],
         "categoryorder": "array",
         "domain": [
          0,
          0.49
         ],
         "showticklabels": true,
         "title": {
          "text": "problem"
         }
        },
        "xaxis2": {
         "anchor": "y2",
         "categoryarray": [
          "0_01",
          "0_02",
          "0_03",
          "0_04",
          "0_05",
          "0_06",
          "0_07",
          "0_08",
          "0_09",
          "0_10",
          "0_11",
          "0_12",
          "0_13",
          "0_14",
          "0_15",
          "0_16",
          "0_17",
          "0_18",
          "0_19",
          "0_20",
          "0_21",
          "0_22",
          "0_23",
          "0_24",
          "0_25",
          "0_26",
          "0_27",
          "0_28",
          "0_29",
          "0_30",
          "1_01",
          "1_02",
          "1_03",
          "1_04",
          "1_05",
          "1_06",
          "1_07",
          "1_08",
          "1_09",
          "1_10",
          "1_11",
          "1_12",
          "1_13",
          "1_14",
          "1_15",
          "1_16",
          "1_17",
          "1_18",
          "1_19",
          "1_20",
          "1_21",
          "1_22",
          "1_23",
          "1_24",
          "1_25",
          "1_26",
          "1_27",
          "1_28",
          "1_29",
          "1_30"
         ],
         "categoryorder": "array",
         "domain": [
          0.51,
          1
         ],
         "showticklabels": true,
         "title": {
          "text": "problem"
         }
        },
        "yaxis": {
         "anchor": "x",
         "domain": [
          0,
          1
         ],
         "showticklabels": true,
         "title": {
          "text": "cycles_mean"
         }
        },
        "yaxis2": {
         "anchor": "x2",
         "domain": [
          0,
          1
         ],
         "showticklabels": true
        }
       }
      }
     },
     "metadata": {},
     "output_type": "display_data"
    }
   ],
   "source": [
    "plot_domains(\"cycles\", log_y=0, choices=choices, layers=layers, dimensions=dimensions)"
   ]
  },
  {
   "cell_type": "markdown",
   "metadata": {},
   "source": [
    "# Quantified improvements"
   ]
  },
  {
   "cell_type": "code",
   "execution_count": 5,
   "metadata": {},
   "outputs": [
    {
     "name": "stdout",
     "output_type": "stream",
     "text": [
      "blocksworld\n"
     ]
    }
   ],
   "source": [
    "quantify_performance(choices=choices, layers=layers, dimensions=dimensions)"
   ]
  },
  {
   "cell_type": "markdown",
   "metadata": {},
   "source": [
    "# Relative difference plots"
   ]
  },
  {
   "cell_type": "code",
   "execution_count": null,
   "metadata": {},
   "outputs": [
    {
     "name": "stdout",
     "output_type": "stream",
     "text": [
      "blocksworld\n"
     ]
    },
    {
     "data": {
      "application/vnd.plotly.v1+json": {
       "config": {
        "plotlyServerURL": "https://plot.ly"
       },
       "data": [
        {
         "hovertemplate": "solver=baseline<br>type=bounds<br>difficulty=0<br>problem=%{x}<br>improvement (%)=%{y}<extra></extra>",
         "legendgroup": "baseline, bounds",
         "line": {
          "color": "#636efa",
          "dash": "solid"
         },
         "marker": {
          "symbol": "circle"
         },
         "mode": "lines",
         "name": "baseline, bounds",
         "orientation": "v",
         "showlegend": true,
         "type": "scatter",
         "x": [
          "0_01",
          "0_02",
          "0_03",
          "0_04",
          "0_05",
          "0_06",
          "0_07",
          "0_08",
          "0_09",
          "0_10",
          "0_11",
          "0_12",
          "0_13",
          "0_14",
          "0_15",
          "0_16",
          "0_17",
          "0_18",
          "0_19",
          "0_20",
          "0_21",
          "0_22",
          "0_23",
          "0_24",
          "0_25",
          "0_26",
          "0_27",
          "0_28",
          "0_29",
          "0_30"
         ],
         "xaxis": "x",
         "y": [
          0,
          0,
          0,
          0,
          0,
          0,
          0,
          0,
          0,
          0,
          0,
          0,
          0,
          0,
          0,
          0,
          0,
          0,
          0,
          0,
          0,
          0,
          0,
          0,
          0,
          0,
          0,
          0,
          0,
          0
         ],
         "yaxis": "y"
        },
        {
         "hovertemplate": "solver=baseline<br>type=bounds<br>difficulty=1<br>problem=%{x}<br>improvement (%)=%{y}<extra></extra>",
         "legendgroup": "baseline, bounds",
         "line": {
          "color": "#636efa",
          "dash": "solid"
         },
         "marker": {
          "symbol": "circle"
         },
         "mode": "lines",
         "name": "baseline, bounds",
         "orientation": "v",
         "showlegend": false,
         "type": "scatter",
         "x": [
          "1_01",
          "1_02",
          "1_03",
          "1_04",
          "1_05",
          "1_06",
          "1_07",
          "1_08",
          "1_09",
          "1_10",
          "1_11",
          "1_12",
          "1_13",
          "1_14",
          "1_15",
          "1_16",
          "1_17",
          "1_18",
          "1_19",
          "1_20",
          "1_21",
          "1_22",
          "1_23",
          "1_24",
          "1_25",
          "1_26",
          "1_27",
          "1_28",
          "1_29",
          "1_30"
         ],
         "xaxis": "x2",
         "y": [
          0,
          0,
          0,
          0,
          0,
          0,
          0,
          0,
          0,
          0,
          0,
          0,
          0,
          0,
          0,
          0,
          0,
          0,
          0,
          0,
          0,
          0,
          0,
          0,
          0,
          0,
          0,
          0,
          0,
          0
         ],
         "yaxis": "y2"
        },
        {
         "hovertemplate": "solver=optimal<br>type=bounds<br>difficulty=0<br>problem=%{x}<br>improvement (%)=%{y}<extra></extra>",
         "legendgroup": "optimal, bounds",
         "line": {
          "color": "#EF553B",
          "dash": "solid"
         },
         "marker": {
          "symbol": "circle"
         },
         "mode": "lines",
         "name": "optimal, bounds",
         "orientation": "v",
         "showlegend": true,
         "type": "scatter",
         "x": [
          "0_01",
          "0_02",
          "0_03",
          "0_04",
          "0_05",
          "0_06",
          "0_07",
          "0_08",
          "0_09",
          "0_10",
          "0_11",
          "0_12",
          "0_13",
          "0_14",
          "0_15",
          "0_16",
          "0_17",
          "0_18",
          "0_19",
          "0_20",
          "0_21",
          "0_22",
          "0_23",
          "0_24",
          "0_25",
          "0_26",
          "0_27",
          "0_28",
          "0_29",
          "0_30"
         ],
         "xaxis": "x",
         "y": [
          0,
          0,
          0,
          0,
          0,
          10.958904109589039,
          0,
          0,
          0,
          0,
          0,
          9.909909909909908,
          11.016949152542377,
          7.563025210084036,
          14.179104477611942,
          9.395973154362418,
          0,
          8.759124087591236,
          10.596026490066224,
          0,
          10.256410256410255,
          7.6923076923076925,
          12.121212121212121,
          12.621359223300976,
          7.657657657657655,
          8.866995073891628,
          9.340659340659338,
          8.88888888888889,
          7.766990291262142,
          7.172995780590715
         ],
         "yaxis": "y"
        },
        {
         "hovertemplate": "solver=optimal<br>type=bounds<br>difficulty=1<br>problem=%{x}<br>improvement (%)=%{y}<extra></extra>",
         "legendgroup": "optimal, bounds",
         "line": {
          "color": "#EF553B",
          "dash": "solid"
         },
         "marker": {
          "symbol": "circle"
         },
         "mode": "lines",
         "name": "optimal, bounds",
         "orientation": "v",
         "showlegend": false,
         "type": "scatter",
         "x": [
          "1_01",
          "1_02",
          "1_03",
          "1_04",
          "1_05",
          "1_06",
          "1_07",
          "1_08",
          "1_09",
          "1_10",
          "1_11",
          "1_12",
          "1_13",
          "1_14",
          "1_15",
          "1_16",
          "1_17",
          "1_18",
          "1_19",
          "1_20",
          "1_21",
          "1_22",
          "1_23",
          "1_24",
          "1_25",
          "1_26",
          "1_27",
          "1_28",
          "1_29",
          "1_30"
         ],
         "xaxis": "x2",
         "y": [
          10.169491525423728,
          16.129032258064516,
          16.666666666666668,
          9.774436090225562,
          13.414634146341463,
          14.634146341463415,
          17.53653444676409,
          17.67068273092369,
          13.957934990439767,
          15.454545454545455,
          13.822525597269626,
          10.550458715596339,
          14.529914529914533,
          17.151162790697672,
          19.332406119610575,
          17.11590296495957,
          10.994764397905765,
          16.764361078546305,
          16.763678696158326,
          13.580246913580243,
          15.66920565832427,
          16.755037115588546,
          14.739884393063582,
          14.038657171922683,
          16.98473282442748,
          12.137681159420293,
          14.568345323741008,
          14.972273567467655,
          16.23263888888889,
          10.424710424710424
         ],
         "yaxis": "y2"
        },
        {
         "hovertemplate": "solver=lama<br>type=bounds<br>difficulty=0<br>problem=%{x}<br>improvement (%)=%{y}<extra></extra>",
         "legendgroup": "lama, bounds",
         "line": {
          "color": "#00cc96",
          "dash": "solid"
         },
         "marker": {
          "symbol": "circle"
         },
         "mode": "lines",
         "name": "lama, bounds",
         "orientation": "v",
         "showlegend": true,
         "type": "scatter",
         "x": [
          "0_01",
          "0_02",
          "0_03",
          "0_04",
          "0_05",
          "0_06",
          "0_07",
          "0_08",
          "0_09",
          "0_10",
          "0_11",
          "0_12",
          "0_13",
          "0_14",
          "0_15",
          "0_16",
          "0_17",
          "0_18",
          "0_19",
          "0_20",
          "0_21",
          "0_22",
          "0_23",
          "0_24",
          "0_25",
          "0_26",
          "0_27",
          "0_28",
          "0_29",
          "0_30"
         ],
         "xaxis": "x",
         "y": [
          0,
          0,
          -70,
          -58.333333333333336,
          -66.66666666666667,
          -173.97260273972603,
          -93.75,
          -81.25,
          -55.55555555555556,
          -15.789473684210526,
          -112.5,
          -62.16216216216216,
          -128.81355932203388,
          -38.65546218487394,
          -97.76119402985074,
          -104.69798657718121,
          -116.66666666666667,
          -53.28467153284673,
          -42.384105960264904,
          -39.285714285714285,
          -21.7948717948718,
          -87.17948717948718,
          -42.42424242424242,
          -145.14563106796115,
          -208.55855855855856,
          -183.2512315270936,
          -78.57142857142857,
          -68.88888888888889,
          -72.33009708737862,
          -113.08016877637131
         ],
         "yaxis": "y"
        },
        {
         "hovertemplate": "solver=lama<br>type=bounds<br>difficulty=1<br>problem=%{x}<br>improvement (%)=%{y}<extra></extra>",
         "legendgroup": "lama, bounds",
         "line": {
          "color": "#00cc96",
          "dash": "solid"
         },
         "marker": {
          "symbol": "circle"
         },
         "mode": "lines",
         "name": "lama, bounds",
         "orientation": "v",
         "showlegend": false,
         "type": "scatter",
         "x": [
          "1_01",
          "1_02",
          "1_03",
          "1_04",
          "1_05",
          "1_06",
          "1_07",
          "1_08",
          "1_09",
          "1_10",
          "1_11",
          "1_12",
          "1_13",
          "1_14",
          "1_15",
          "1_16",
          "1_17",
          "1_18",
          "1_19",
          "1_20",
          "1_21",
          "1_22",
          "1_23",
          "1_24",
          "1_25",
          "1_26",
          "1_27",
          "1_28",
          "1_29",
          "1_30"
         ],
         "xaxis": "x2",
         "y": [
          -174.57627118644066,
          -79.03225806451613,
          -80.05952380952381,
          null,
          -95.1219512195122,
          -40.24390243902439,
          -96.24217118997913,
          null,
          -126.57743785850862,
          -80,
          -175.59726962457339,
          -141.59021406727828,
          -118.66096866096865,
          -91.86046511627907,
          -125.31293463143254,
          -115.63342318059298,
          -109.4240837696335,
          -92.26260257913248,
          null,
          -166.55443322109988,
          -147.0076169749728,
          -97.77306468716861,
          null,
          -102.441505595117,
          -94.65648854961832,
          null,
          -122.1223021582734,
          -147.22735674676525,
          -132.6388888888889,
          null
         ],
         "yaxis": "y2"
        },
        {
         "hovertemplate": "solver=L3_D8_best<br>type=lrnn_best<br>difficulty=0<br>problem=%{x}<br>improvement (%)=%{y}<extra></extra>",
         "legendgroup": "L3_D8_best, lrnn_best",
         "line": {
          "color": "#ab63fa",
          "dash": "dot"
         },
         "marker": {
          "symbol": "circle"
         },
         "mode": "lines",
         "name": "L3_D8_best, lrnn_best",
         "orientation": "v",
         "showlegend": true,
         "type": "scatter",
         "x": [
          "0_01",
          "0_02",
          "0_03",
          "0_04",
          "0_05",
          "0_06",
          "0_07",
          "0_08",
          "0_09",
          "0_10",
          "0_11",
          "0_12",
          "0_13",
          "0_14",
          "0_15",
          "0_16",
          "0_17",
          "0_18",
          "0_19",
          "0_20",
          "0_21",
          "0_22",
          "0_23",
          "0_24",
          "0_25",
          "0_26",
          "0_27",
          "0_28",
          "0_29",
          "0_30"
         ],
         "xaxis": "x",
         "y": [
          0,
          0,
          0,
          0,
          0,
          10.958904109589039,
          0,
          0,
          0,
          0,
          0,
          5.405405405405403,
          3.9548022598870065,
          7.563025210084036,
          2.985074626865674,
          6.04026845637584,
          0,
          5.109489051094886,
          1.7660044150110312,
          0,
          9.188034188034191,
          4.273504273504267,
          5.050505050505055,
          4.5307443365695805,
          3.903903903903906,
          6.40394088669951,
          2.0146520146520173,
          2.962962962962968,
          3.7216828478964525,
          -0.5625879043600542
         ],
         "yaxis": "y"
        },
        {
         "hovertemplate": "solver=L3_D8_best<br>type=lrnn_best<br>difficulty=1<br>problem=%{x}<br>improvement (%)=%{y}<extra></extra>",
         "legendgroup": "L3_D8_best, lrnn_best",
         "line": {
          "color": "#ab63fa",
          "dash": "dot"
         },
         "marker": {
          "symbol": "circle"
         },
         "mode": "lines",
         "name": "L3_D8_best, lrnn_best",
         "orientation": "v",
         "showlegend": false,
         "type": "scatter",
         "x": [
          "1_01",
          "1_02",
          "1_03",
          "1_04",
          "1_05",
          "1_06",
          "1_07",
          "1_08",
          "1_09",
          "1_10",
          "1_11",
          "1_12",
          "1_13",
          "1_14",
          "1_15",
          "1_16",
          "1_17",
          "1_18",
          "1_19",
          "1_20",
          "1_21",
          "1_22",
          "1_23",
          "1_24",
          "1_25",
          "1_26",
          "1_27",
          "1_28",
          "1_29",
          "1_30"
         ],
         "xaxis": "x2",
         "y": [
          3.9548022598870096,
          5.3763440860215095,
          7.738095238095241,
          1.4202172096908845,
          6.910569105691064,
          8.536585365853659,
          8.837856645789842,
          4.953145917001328,
          4.7163798597832916,
          7.2727272727272725,
          4.436860068259388,
          3.1600407747196786,
          6.220322886989564,
          3.1007751937984387,
          7.742234585071873,
          6.783468104222818,
          3.7958115183246144,
          6.017975771785845,
          5.3162592161428135,
          4.2274597830153375,
          5.331882480957568,
          5.620360551431599,
          4.303147077713554,
          3.357070193285857,
          6.6475826972010195,
          2.3248792270531493,
          4.376498800959239,
          3.4195933456561947,
          3.9351851851851833,
          2.7027027027027026
         ],
         "yaxis": "y2"
        },
        {
         "hovertemplate": "solver=L3_D16_best<br>type=lrnn_best<br>difficulty=0<br>problem=%{x}<br>improvement (%)=%{y}<extra></extra>",
         "legendgroup": "L3_D16_best, lrnn_best",
         "line": {
          "color": "#FFA15A",
          "dash": "dot"
         },
         "marker": {
          "symbol": "circle"
         },
         "mode": "lines",
         "name": "L3_D16_best, lrnn_best",
         "orientation": "v",
         "showlegend": true,
         "type": "scatter",
         "x": [
          "0_01",
          "0_02",
          "0_03",
          "0_04",
          "0_05",
          "0_06",
          "0_07",
          "0_08",
          "0_09",
          "0_10",
          "0_11",
          "0_12",
          "0_13",
          "0_14",
          "0_15",
          "0_16",
          "0_17",
          "0_18",
          "0_19",
          "0_20",
          "0_21",
          "0_22",
          "0_23",
          "0_24",
          "0_25",
          "0_26",
          "0_27",
          "0_28",
          "0_29",
          "0_30"
         ],
         "xaxis": "x",
         "y": [
          0,
          0,
          0,
          0,
          0,
          4.109589041095888,
          0,
          0,
          0,
          0,
          0,
          3.903903903903906,
          -0.2824858757062137,
          0.5602240896358524,
          9.203980099502495,
          2.684563758389264,
          0,
          7.54257907542579,
          3.973509933774832,
          0,
          5.982905982905985,
          2.5641025641025643,
          3.0303030303030303,
          2.9126213592233077,
          3.1531531531531503,
          3.119868637110014,
          2.93040293040292,
          1.4814814814814763,
          3.7216828478964525,
          -4.781997187060476
         ],
         "yaxis": "y"
        },
        {
         "hovertemplate": "solver=L3_D16_best<br>type=lrnn_best<br>difficulty=1<br>problem=%{x}<br>improvement (%)=%{y}<extra></extra>",
         "legendgroup": "L3_D16_best, lrnn_best",
         "line": {
          "color": "#FFA15A",
          "dash": "dot"
         },
         "marker": {
          "symbol": "circle"
         },
         "mode": "lines",
         "name": "L3_D16_best, lrnn_best",
         "orientation": "v",
         "showlegend": false,
         "type": "scatter",
         "x": [
          "1_01",
          "1_02",
          "1_03",
          "1_04",
          "1_05",
          "1_06",
          "1_07",
          "1_08",
          "1_09",
          "1_10",
          "1_11",
          "1_12",
          "1_13",
          "1_14",
          "1_15",
          "1_16",
          "1_17",
          "1_18",
          "1_19",
          "1_20",
          "1_21",
          "1_22",
          "1_23",
          "1_24",
          "1_25",
          "1_26",
          "1_27",
          "1_28",
          "1_29",
          "1_30"
         ],
         "xaxis": "x2",
         "y": [
          2.2598870056497216,
          0,
          2.777777777777789,
          -1.9214703425229718,
          -1.6260162601625958,
          0.8130081300813066,
          2.2268615170494006,
          3.279785809906291,
          4.7163798597832916,
          0.9090909090909091,
          2.16154721274175,
          1.3761467889908343,
          2.184235517568848,
          1.6472868217054155,
          1.4835419564209693,
          1.6172506738544512,
          0.9598603839441547,
          4.064087534193047,
          1.6298020954598436,
          0.11223344556677253,
          0.7979688066739219,
          1.201838105337567,
          0.12845215157353157,
          0.8138351983723268,
          1.8765903307888059,
          0.9661835748792365,
          1.5287769784172687,
          1.1090573012939027,
          0.02893518518518354,
          0.12870012870012137
         ],
         "yaxis": "y2"
        }
       ],
       "layout": {
        "annotations": [
         {
          "font": {},
          "showarrow": false,
          "text": "difficulty=0",
          "x": 0.245,
          "xanchor": "center",
          "xref": "paper",
          "y": 1,
          "yanchor": "bottom",
          "yref": "paper"
         },
         {
          "font": {},
          "showarrow": false,
          "text": "difficulty=1",
          "x": 0.755,
          "xanchor": "center",
          "xref": "paper",
          "y": 1,
          "yanchor": "bottom",
          "yref": "paper"
         }
        ],
        "legend": {
         "title": {
          "text": "solver, type"
         },
         "tracegroupgap": 0
        },
        "margin": {
         "t": 60
        },
        "template": {
         "data": {
          "bar": [
           {
            "error_x": {
             "color": "#2a3f5f"
            },
            "error_y": {
             "color": "#2a3f5f"
            },
            "marker": {
             "line": {
              "color": "#E5ECF6",
              "width": 0.5
             },
             "pattern": {
              "fillmode": "overlay",
              "size": 10,
              "solidity": 0.2
             }
            },
            "type": "bar"
           }
          ],
          "barpolar": [
           {
            "marker": {
             "line": {
              "color": "#E5ECF6",
              "width": 0.5
             },
             "pattern": {
              "fillmode": "overlay",
              "size": 10,
              "solidity": 0.2
             }
            },
            "type": "barpolar"
           }
          ],
          "carpet": [
           {
            "aaxis": {
             "endlinecolor": "#2a3f5f",
             "gridcolor": "white",
             "linecolor": "white",
             "minorgridcolor": "white",
             "startlinecolor": "#2a3f5f"
            },
            "baxis": {
             "endlinecolor": "#2a3f5f",
             "gridcolor": "white",
             "linecolor": "white",
             "minorgridcolor": "white",
             "startlinecolor": "#2a3f5f"
            },
            "type": "carpet"
           }
          ],
          "choropleth": [
           {
            "colorbar": {
             "outlinewidth": 0,
             "ticks": ""
            },
            "type": "choropleth"
           }
          ],
          "contour": [
           {
            "colorbar": {
             "outlinewidth": 0,
             "ticks": ""
            },
            "colorscale": [
             [
              0,
              "#0d0887"
             ],
             [
              0.1111111111111111,
              "#46039f"
             ],
             [
              0.2222222222222222,
              "#7201a8"
             ],
             [
              0.3333333333333333,
              "#9c179e"
             ],
             [
              0.4444444444444444,
              "#bd3786"
             ],
             [
              0.5555555555555556,
              "#d8576b"
             ],
             [
              0.6666666666666666,
              "#ed7953"
             ],
             [
              0.7777777777777778,
              "#fb9f3a"
             ],
             [
              0.8888888888888888,
              "#fdca26"
             ],
             [
              1,
              "#f0f921"
             ]
            ],
            "type": "contour"
           }
          ],
          "contourcarpet": [
           {
            "colorbar": {
             "outlinewidth": 0,
             "ticks": ""
            },
            "type": "contourcarpet"
           }
          ],
          "heatmap": [
           {
            "colorbar": {
             "outlinewidth": 0,
             "ticks": ""
            },
            "colorscale": [
             [
              0,
              "#0d0887"
             ],
             [
              0.1111111111111111,
              "#46039f"
             ],
             [
              0.2222222222222222,
              "#7201a8"
             ],
             [
              0.3333333333333333,
              "#9c179e"
             ],
             [
              0.4444444444444444,
              "#bd3786"
             ],
             [
              0.5555555555555556,
              "#d8576b"
             ],
             [
              0.6666666666666666,
              "#ed7953"
             ],
             [
              0.7777777777777778,
              "#fb9f3a"
             ],
             [
              0.8888888888888888,
              "#fdca26"
             ],
             [
              1,
              "#f0f921"
             ]
            ],
            "type": "heatmap"
           }
          ],
          "heatmapgl": [
           {
            "colorbar": {
             "outlinewidth": 0,
             "ticks": ""
            },
            "colorscale": [
             [
              0,
              "#0d0887"
             ],
             [
              0.1111111111111111,
              "#46039f"
             ],
             [
              0.2222222222222222,
              "#7201a8"
             ],
             [
              0.3333333333333333,
              "#9c179e"
             ],
             [
              0.4444444444444444,
              "#bd3786"
             ],
             [
              0.5555555555555556,
              "#d8576b"
             ],
             [
              0.6666666666666666,
              "#ed7953"
             ],
             [
              0.7777777777777778,
              "#fb9f3a"
             ],
             [
              0.8888888888888888,
              "#fdca26"
             ],
             [
              1,
              "#f0f921"
             ]
            ],
            "type": "heatmapgl"
           }
          ],
          "histogram": [
           {
            "marker": {
             "pattern": {
              "fillmode": "overlay",
              "size": 10,
              "solidity": 0.2
             }
            },
            "type": "histogram"
           }
          ],
          "histogram2d": [
           {
            "colorbar": {
             "outlinewidth": 0,
             "ticks": ""
            },
            "colorscale": [
             [
              0,
              "#0d0887"
             ],
             [
              0.1111111111111111,
              "#46039f"
             ],
             [
              0.2222222222222222,
              "#7201a8"
             ],
             [
              0.3333333333333333,
              "#9c179e"
             ],
             [
              0.4444444444444444,
              "#bd3786"
             ],
             [
              0.5555555555555556,
              "#d8576b"
             ],
             [
              0.6666666666666666,
              "#ed7953"
             ],
             [
              0.7777777777777778,
              "#fb9f3a"
             ],
             [
              0.8888888888888888,
              "#fdca26"
             ],
             [
              1,
              "#f0f921"
             ]
            ],
            "type": "histogram2d"
           }
          ],
          "histogram2dcontour": [
           {
            "colorbar": {
             "outlinewidth": 0,
             "ticks": ""
            },
            "colorscale": [
             [
              0,
              "#0d0887"
             ],
             [
              0.1111111111111111,
              "#46039f"
             ],
             [
              0.2222222222222222,
              "#7201a8"
             ],
             [
              0.3333333333333333,
              "#9c179e"
             ],
             [
              0.4444444444444444,
              "#bd3786"
             ],
             [
              0.5555555555555556,
              "#d8576b"
             ],
             [
              0.6666666666666666,
              "#ed7953"
             ],
             [
              0.7777777777777778,
              "#fb9f3a"
             ],
             [
              0.8888888888888888,
              "#fdca26"
             ],
             [
              1,
              "#f0f921"
             ]
            ],
            "type": "histogram2dcontour"
           }
          ],
          "mesh3d": [
           {
            "colorbar": {
             "outlinewidth": 0,
             "ticks": ""
            },
            "type": "mesh3d"
           }
          ],
          "parcoords": [
           {
            "line": {
             "colorbar": {
              "outlinewidth": 0,
              "ticks": ""
             }
            },
            "type": "parcoords"
           }
          ],
          "pie": [
           {
            "automargin": true,
            "type": "pie"
           }
          ],
          "scatter": [
           {
            "fillpattern": {
             "fillmode": "overlay",
             "size": 10,
             "solidity": 0.2
            },
            "type": "scatter"
           }
          ],
          "scatter3d": [
           {
            "line": {
             "colorbar": {
              "outlinewidth": 0,
              "ticks": ""
             }
            },
            "marker": {
             "colorbar": {
              "outlinewidth": 0,
              "ticks": ""
             }
            },
            "type": "scatter3d"
           }
          ],
          "scattercarpet": [
           {
            "marker": {
             "colorbar": {
              "outlinewidth": 0,
              "ticks": ""
             }
            },
            "type": "scattercarpet"
           }
          ],
          "scattergeo": [
           {
            "marker": {
             "colorbar": {
              "outlinewidth": 0,
              "ticks": ""
             }
            },
            "type": "scattergeo"
           }
          ],
          "scattergl": [
           {
            "marker": {
             "colorbar": {
              "outlinewidth": 0,
              "ticks": ""
             }
            },
            "type": "scattergl"
           }
          ],
          "scattermapbox": [
           {
            "marker": {
             "colorbar": {
              "outlinewidth": 0,
              "ticks": ""
             }
            },
            "type": "scattermapbox"
           }
          ],
          "scatterpolar": [
           {
            "marker": {
             "colorbar": {
              "outlinewidth": 0,
              "ticks": ""
             }
            },
            "type": "scatterpolar"
           }
          ],
          "scatterpolargl": [
           {
            "marker": {
             "colorbar": {
              "outlinewidth": 0,
              "ticks": ""
             }
            },
            "type": "scatterpolargl"
           }
          ],
          "scatterternary": [
           {
            "marker": {
             "colorbar": {
              "outlinewidth": 0,
              "ticks": ""
             }
            },
            "type": "scatterternary"
           }
          ],
          "surface": [
           {
            "colorbar": {
             "outlinewidth": 0,
             "ticks": ""
            },
            "colorscale": [
             [
              0,
              "#0d0887"
             ],
             [
              0.1111111111111111,
              "#46039f"
             ],
             [
              0.2222222222222222,
              "#7201a8"
             ],
             [
              0.3333333333333333,
              "#9c179e"
             ],
             [
              0.4444444444444444,
              "#bd3786"
             ],
             [
              0.5555555555555556,
              "#d8576b"
             ],
             [
              0.6666666666666666,
              "#ed7953"
             ],
             [
              0.7777777777777778,
              "#fb9f3a"
             ],
             [
              0.8888888888888888,
              "#fdca26"
             ],
             [
              1,
              "#f0f921"
             ]
            ],
            "type": "surface"
           }
          ],
          "table": [
           {
            "cells": {
             "fill": {
              "color": "#EBF0F8"
             },
             "line": {
              "color": "white"
             }
            },
            "header": {
             "fill": {
              "color": "#C8D4E3"
             },
             "line": {
              "color": "white"
             }
            },
            "type": "table"
           }
          ]
         },
         "layout": {
          "annotationdefaults": {
           "arrowcolor": "#2a3f5f",
           "arrowhead": 0,
           "arrowwidth": 1
          },
          "autotypenumbers": "strict",
          "coloraxis": {
           "colorbar": {
            "outlinewidth": 0,
            "ticks": ""
           }
          },
          "colorscale": {
           "diverging": [
            [
             0,
             "#8e0152"
            ],
            [
             0.1,
             "#c51b7d"
            ],
            [
             0.2,
             "#de77ae"
            ],
            [
             0.3,
             "#f1b6da"
            ],
            [
             0.4,
             "#fde0ef"
            ],
            [
             0.5,
             "#f7f7f7"
            ],
            [
             0.6,
             "#e6f5d0"
            ],
            [
             0.7,
             "#b8e186"
            ],
            [
             0.8,
             "#7fbc41"
            ],
            [
             0.9,
             "#4d9221"
            ],
            [
             1,
             "#276419"
            ]
           ],
           "sequential": [
            [
             0,
             "#0d0887"
            ],
            [
             0.1111111111111111,
             "#46039f"
            ],
            [
             0.2222222222222222,
             "#7201a8"
            ],
            [
             0.3333333333333333,
             "#9c179e"
            ],
            [
             0.4444444444444444,
             "#bd3786"
            ],
            [
             0.5555555555555556,
             "#d8576b"
            ],
            [
             0.6666666666666666,
             "#ed7953"
            ],
            [
             0.7777777777777778,
             "#fb9f3a"
            ],
            [
             0.8888888888888888,
             "#fdca26"
            ],
            [
             1,
             "#f0f921"
            ]
           ],
           "sequentialminus": [
            [
             0,
             "#0d0887"
            ],
            [
             0.1111111111111111,
             "#46039f"
            ],
            [
             0.2222222222222222,
             "#7201a8"
            ],
            [
             0.3333333333333333,
             "#9c179e"
            ],
            [
             0.4444444444444444,
             "#bd3786"
            ],
            [
             0.5555555555555556,
             "#d8576b"
            ],
            [
             0.6666666666666666,
             "#ed7953"
            ],
            [
             0.7777777777777778,
             "#fb9f3a"
            ],
            [
             0.8888888888888888,
             "#fdca26"
            ],
            [
             1,
             "#f0f921"
            ]
           ]
          },
          "colorway": [
           "#636efa",
           "#EF553B",
           "#00cc96",
           "#ab63fa",
           "#FFA15A",
           "#19d3f3",
           "#FF6692",
           "#B6E880",
           "#FF97FF",
           "#FECB52"
          ],
          "font": {
           "color": "#2a3f5f"
          },
          "geo": {
           "bgcolor": "white",
           "lakecolor": "white",
           "landcolor": "#E5ECF6",
           "showlakes": true,
           "showland": true,
           "subunitcolor": "white"
          },
          "hoverlabel": {
           "align": "left"
          },
          "hovermode": "closest",
          "mapbox": {
           "style": "light"
          },
          "paper_bgcolor": "white",
          "plot_bgcolor": "#E5ECF6",
          "polar": {
           "angularaxis": {
            "gridcolor": "white",
            "linecolor": "white",
            "ticks": ""
           },
           "bgcolor": "#E5ECF6",
           "radialaxis": {
            "gridcolor": "white",
            "linecolor": "white",
            "ticks": ""
           }
          },
          "scene": {
           "xaxis": {
            "backgroundcolor": "#E5ECF6",
            "gridcolor": "white",
            "gridwidth": 2,
            "linecolor": "white",
            "showbackground": true,
            "ticks": "",
            "zerolinecolor": "white"
           },
           "yaxis": {
            "backgroundcolor": "#E5ECF6",
            "gridcolor": "white",
            "gridwidth": 2,
            "linecolor": "white",
            "showbackground": true,
            "ticks": "",
            "zerolinecolor": "white"
           },
           "zaxis": {
            "backgroundcolor": "#E5ECF6",
            "gridcolor": "white",
            "gridwidth": 2,
            "linecolor": "white",
            "showbackground": true,
            "ticks": "",
            "zerolinecolor": "white"
           }
          },
          "shapedefaults": {
           "line": {
            "color": "#2a3f5f"
           }
          },
          "ternary": {
           "aaxis": {
            "gridcolor": "white",
            "linecolor": "white",
            "ticks": ""
           },
           "baxis": {
            "gridcolor": "white",
            "linecolor": "white",
            "ticks": ""
           },
           "bgcolor": "#E5ECF6",
           "caxis": {
            "gridcolor": "white",
            "linecolor": "white",
            "ticks": ""
           }
          },
          "title": {
           "x": 0.05
          },
          "xaxis": {
           "automargin": true,
           "gridcolor": "white",
           "linecolor": "white",
           "ticks": "",
           "title": {
            "standoff": 15
           },
           "zerolinecolor": "white",
           "zerolinewidth": 2
          },
          "yaxis": {
           "automargin": true,
           "gridcolor": "white",
           "linecolor": "white",
           "ticks": "",
           "title": {
            "standoff": 15
           },
           "zerolinecolor": "white",
           "zerolinewidth": 2
          }
         }
        },
        "xaxis": {
         "anchor": "y",
         "categoryorder": "array",
         "domain": [
          0,
          0.49
         ],
         "showticklabels": true,
         "title": {
          "text": "problem"
         }
        },
        "xaxis2": {
         "anchor": "y2",
         "categoryorder": "array",
         "domain": [
          0.51,
          1
         ],
         "showticklabels": true,
         "title": {
          "text": "problem"
         }
        },
        "yaxis": {
         "anchor": "x",
         "domain": [
          0,
          1
         ],
         "range": [
          -100,
          100
         ],
         "showticklabels": true,
         "title": {
          "text": "improvement (%)"
         }
        },
        "yaxis2": {
         "anchor": "x2",
         "domain": [
          0,
          1
         ],
         "range": [
          -100,
          100
         ],
         "showticklabels": true
        }
       }
      }
     },
     "metadata": {},
     "output_type": "display_data"
    },
    {
     "name": "stdout",
     "output_type": "stream",
     "text": [
      "ferry\n"
     ]
    },
    {
     "data": {
      "application/vnd.plotly.v1+json": {
       "config": {
        "plotlyServerURL": "https://plot.ly"
       },
       "data": [
        {
         "hovertemplate": "solver=baseline<br>type=bounds<br>difficulty=0<br>problem=%{x}<br>improvement (%)=%{y}<extra></extra>",
         "legendgroup": "baseline, bounds",
         "line": {
          "color": "#636efa",
          "dash": "solid"
         },
         "marker": {
          "symbol": "circle"
         },
         "mode": "lines",
         "name": "baseline, bounds",
         "orientation": "v",
         "showlegend": true,
         "type": "scatter",
         "x": [
          "0_01",
          "0_02",
          "0_03",
          "0_04",
          "0_05",
          "0_06",
          "0_07",
          "0_08",
          "0_09",
          "0_10",
          "0_11",
          "0_12",
          "0_13",
          "0_14",
          "0_15",
          "0_16",
          "0_17",
          "0_18",
          "0_19",
          "0_20",
          "0_21",
          "0_22",
          "0_23",
          "0_24",
          "0_25",
          "0_26",
          "0_27",
          "0_28",
          "0_29",
          "0_30"
         ],
         "xaxis": "x",
         "y": [
          0,
          0,
          0,
          0,
          0,
          0,
          0,
          0,
          0,
          0,
          0,
          0,
          0,
          0,
          0,
          0,
          0,
          0,
          0,
          0,
          0,
          0,
          0,
          0,
          0,
          0,
          0,
          0,
          0,
          0
         ],
         "yaxis": "y"
        },
        {
         "hovertemplate": "solver=baseline<br>type=bounds<br>difficulty=1<br>problem=%{x}<br>improvement (%)=%{y}<extra></extra>",
         "legendgroup": "baseline, bounds",
         "line": {
          "color": "#636efa",
          "dash": "solid"
         },
         "marker": {
          "symbol": "circle"
         },
         "mode": "lines",
         "name": "baseline, bounds",
         "orientation": "v",
         "showlegend": false,
         "type": "scatter",
         "x": [
          "1_01",
          "1_02",
          "1_03",
          "1_04",
          "1_05",
          "1_06",
          "1_07",
          "1_08",
          "1_09",
          "1_10",
          "1_11",
          "1_12",
          "1_13",
          "1_14",
          "1_15",
          "1_16",
          "1_17",
          "1_18",
          "1_19",
          "1_20",
          "1_21",
          "1_22",
          "1_23",
          "1_24",
          "1_25",
          "1_26",
          "1_27",
          "1_28",
          "1_29",
          "1_30"
         ],
         "xaxis": "x2",
         "y": [
          0,
          0,
          0,
          0,
          0,
          0,
          0,
          0,
          0,
          0,
          0,
          0,
          0,
          0,
          0,
          0,
          0,
          0,
          0,
          0,
          0,
          0,
          0,
          0,
          0,
          0,
          0,
          0,
          0,
          0
         ],
         "yaxis": "y2"
        },
        {
         "hovertemplate": "solver=optimal<br>type=bounds<br>difficulty=0<br>problem=%{x}<br>improvement (%)=%{y}<extra></extra>",
         "legendgroup": "optimal, bounds",
         "line": {
          "color": "#EF553B",
          "dash": "solid"
         },
         "marker": {
          "symbol": "circle"
         },
         "mode": "lines",
         "name": "optimal, bounds",
         "orientation": "v",
         "showlegend": true,
         "type": "scatter",
         "x": [
          "0_01",
          "0_02",
          "0_03",
          "0_04",
          "0_05",
          "0_06",
          "0_07",
          "0_08",
          "0_09",
          "0_10",
          "0_11",
          "0_12",
          "0_13",
          "0_14",
          "0_15",
          "0_16",
          "0_17",
          "0_18",
          "0_19",
          "0_20",
          "0_21",
          "0_22",
          "0_23",
          "0_24",
          "0_25",
          "0_26",
          "0_27",
          "0_28",
          "0_29",
          "0_30"
         ],
         "xaxis": "x",
         "y": [
          0,
          0,
          0,
          0,
          0,
          5.2631578947368425,
          1.041666666666663,
          2.542372881355938,
          4.761904761904759,
          2.985074626865674,
          3.846153846153844,
          1.3605442176870701,
          6.626506024096393,
          5.17241379310344,
          2.116402116402109,
          4.411764705882346,
          null,
          4.761904761904762,
          1.7857142857142796,
          null,
          null,
          null,
          null,
          null,
          null,
          null,
          null,
          null,
          null,
          null
         ],
         "yaxis": "y"
        },
        {
         "hovertemplate": "solver=optimal<br>type=bounds<br>difficulty=1<br>problem=%{x}<br>improvement (%)=%{y}<extra></extra>",
         "legendgroup": "optimal, bounds",
         "line": {
          "color": "#EF553B",
          "dash": "solid"
         },
         "marker": {
          "symbol": "circle"
         },
         "mode": "lines",
         "name": "optimal, bounds",
         "orientation": "v",
         "showlegend": false,
         "type": "scatter",
         "x": [
          "1_01",
          "1_02",
          "1_03",
          "1_04",
          "1_05",
          "1_06",
          "1_07",
          "1_08",
          "1_09",
          "1_10",
          "1_11",
          "1_12",
          "1_13",
          "1_14",
          "1_15",
          "1_16",
          "1_17",
          "1_18",
          "1_19",
          "1_20",
          "1_21",
          "1_22",
          "1_23",
          "1_24",
          "1_25",
          "1_26",
          "1_27",
          "1_28",
          "1_29",
          "1_30"
         ],
         "xaxis": "x2",
         "y": [
          2.7027027027027026,
          5.622489959839352,
          null,
          null,
          null,
          null,
          null,
          null,
          null,
          null,
          null,
          null,
          null,
          null,
          null,
          null,
          null,
          null,
          null,
          null,
          null,
          null,
          null,
          null,
          null,
          null,
          null,
          null,
          null,
          null
         ],
         "yaxis": "y2"
        },
        {
         "hovertemplate": "solver=lama<br>type=bounds<br>difficulty=0<br>problem=%{x}<br>improvement (%)=%{y}<extra></extra>",
         "legendgroup": "lama, bounds",
         "line": {
          "color": "#00cc96",
          "dash": "solid"
         },
         "marker": {
          "symbol": "circle"
         },
         "mode": "lines",
         "name": "lama, bounds",
         "orientation": "v",
         "showlegend": true,
         "type": "scatter",
         "x": [
          "0_01",
          "0_02",
          "0_03",
          "0_04",
          "0_05",
          "0_06",
          "0_07",
          "0_08",
          "0_09",
          "0_10",
          "0_11",
          "0_12",
          "0_13",
          "0_14",
          "0_15",
          "0_16",
          "0_17",
          "0_18",
          "0_19",
          "0_20",
          "0_21",
          "0_22",
          "0_23",
          "0_24",
          "0_25",
          "0_26",
          "0_27",
          "0_28",
          "0_29",
          "0_30"
         ],
         "xaxis": "x",
         "y": [
          0,
          -12.5,
          -16.666666666666668,
          -27.272727272727273,
          -33.333333333333336,
          -5.2631578947368425,
          -19.79166666666667,
          -10.169491525423723,
          -7.142857142857145,
          -23.13432835820895,
          -18.589743589743595,
          -29.251700680272116,
          -8.433734939759027,
          -14.942528735632191,
          -24.338624338624346,
          -20.09803921568628,
          -21.681415929203535,
          -16.666666666666668,
          -22.76785714285715,
          -10.465116279069765,
          -23.01587301587302,
          -20.078740157480322,
          -24.53531598513012,
          -26.279863481228663,
          -14.147909967845655,
          -20.860927152317885,
          -18.89250814332248,
          -16.959064327485372,
          -19.047619047619044,
          -12
         ],
         "yaxis": "y"
        },
        {
         "hovertemplate": "solver=lama<br>type=bounds<br>difficulty=1<br>problem=%{x}<br>improvement (%)=%{y}<extra></extra>",
         "legendgroup": "lama, bounds",
         "line": {
          "color": "#00cc96",
          "dash": "solid"
         },
         "marker": {
          "symbol": "circle"
         },
         "mode": "lines",
         "name": "lama, bounds",
         "orientation": "v",
         "showlegend": false,
         "type": "scatter",
         "x": [
          "1_01",
          "1_02",
          "1_03",
          "1_04",
          "1_05",
          "1_06",
          "1_07",
          "1_08",
          "1_09",
          "1_10",
          "1_11",
          "1_12",
          "1_13",
          "1_14",
          "1_15",
          "1_16",
          "1_17",
          "1_18",
          "1_19",
          "1_20",
          "1_21",
          "1_22",
          "1_23",
          "1_24",
          "1_25",
          "1_26",
          "1_27",
          "1_28",
          "1_29",
          "1_30"
         ],
         "xaxis": "x2",
         "y": [
          -21.62162162162162,
          -10.441767068273098,
          -25.81699346405228,
          -21.037463976945237,
          -23.69791666666667,
          -20.171673819742487,
          -24.760076775431855,
          -27.071823204419896,
          -22.16828478964402,
          -20.481927710843365,
          -23.96121883656509,
          -22.27912932138285,
          -19.56521739130435,
          -23.41407151095732,
          -21.76724137931035,
          -18.902439024390237,
          -21.015936254980073,
          -20.037807183364844,
          -18.72340425531915,
          -20.822622107969146,
          -20.408163265306122,
          -23.137254901960784,
          -20.117907148120864,
          -21.611982881597726,
          -23.62258953168045,
          -25.582944703530984,
          -19.91094147582698,
          -20.440251572327043,
          -25.82781456953643,
          -23.036649214659683
         ],
         "yaxis": "y2"
        },
        {
         "hovertemplate": "solver=L3_D8_best<br>type=lrnn_best<br>difficulty=0<br>problem=%{x}<br>improvement (%)=%{y}<extra></extra>",
         "legendgroup": "L3_D8_best, lrnn_best",
         "line": {
          "color": "#ab63fa",
          "dash": "dot"
         },
         "marker": {
          "symbol": "circle"
         },
         "mode": "lines",
         "name": "L3_D8_best, lrnn_best",
         "orientation": "v",
         "showlegend": true,
         "type": "scatter",
         "x": [
          "0_01",
          "0_02",
          "0_03",
          "0_04",
          "0_05",
          "0_06",
          "0_07",
          "0_08",
          "0_09",
          "0_10",
          "0_11",
          "0_12",
          "0_13",
          "0_14",
          "0_15",
          "0_16",
          "0_17",
          "0_18",
          "0_19",
          "0_20",
          "0_21",
          "0_22",
          "0_23",
          "0_24",
          "0_25",
          "0_26",
          "0_27",
          "0_28",
          "0_29",
          "0_30"
         ],
         "xaxis": "x",
         "y": [
          0,
          0,
          0,
          0,
          0,
          5.2631578947368425,
          1.041666666666663,
          2.542372881355938,
          4.761904761904759,
          2.985074626865674,
          3.846153846153844,
          1.3605442176870701,
          6.626506024096393,
          3.256704980842911,
          2.116402116402109,
          4.411764705882346,
          0.44247787610620093,
          3.9682539682539626,
          1.0416666666666552,
          4.392764857881135,
          2.777777777777775,
          0.262467191601049,
          2.106567534076827,
          2.16154721274175,
          2.4651661307609944,
          3.973509933774832,
          1.7372421281216008,
          3.0214424951267205,
          3.7698412698412667,
          3.555555555555562
         ],
         "yaxis": "y"
        },
        {
         "hovertemplate": "solver=L3_D8_best<br>type=lrnn_best<br>difficulty=1<br>problem=%{x}<br>improvement (%)=%{y}<extra></extra>",
         "legendgroup": "L3_D8_best, lrnn_best",
         "line": {
          "color": "#ab63fa",
          "dash": "dot"
         },
         "marker": {
          "symbol": "circle"
         },
         "mode": "lines",
         "name": "L3_D8_best, lrnn_best",
         "orientation": "v",
         "showlegend": false,
         "type": "scatter",
         "x": [
          "1_01",
          "1_02",
          "1_03",
          "1_04",
          "1_05",
          "1_06",
          "1_07",
          "1_08",
          "1_09",
          "1_10",
          "1_11",
          "1_12",
          "1_13",
          "1_14",
          "1_15",
          "1_16",
          "1_17",
          "1_18",
          "1_19",
          "1_20",
          "1_21",
          "1_22",
          "1_23",
          "1_24",
          "1_25",
          "1_26",
          "1_27",
          "1_28",
          "1_29",
          "1_30"
         ],
         "xaxis": "x2",
         "y": [
          2.7027027027027026,
          4.283801874163319,
          0.32679738562091964,
          2.0172910662824286,
          2.777777777777768,
          4.506437768240346,
          3.710812539987211,
          3.3149171270718183,
          2.642934196332254,
          2.1084337349397675,
          2.81625115420129,
          2.6888604353393015,
          2.576489533011263,
          4.075355632449056,
          2.8376436781609113,
          2.947154471544721,
          2.058432934926969,
          2.8040327662255846,
          3.546099290780146,
          2.8848900314196007,
          3.8095238095238133,
          3.3986928104575127,
          3.3407025300908857,
          2.282453637660477,
          1.8595041322313972,
          3.619809016211417,
          2.777777777777765,
          2.5157232704402515,
          3.271121814168174,
          3.7230948225712654
         ],
         "yaxis": "y2"
        },
        {
         "hovertemplate": "solver=L3_D16_best<br>type=lrnn_best<br>difficulty=0<br>problem=%{x}<br>improvement (%)=%{y}<extra></extra>",
         "legendgroup": "L3_D16_best, lrnn_best",
         "line": {
          "color": "#FFA15A",
          "dash": "dot"
         },
         "marker": {
          "symbol": "circle"
         },
         "mode": "lines",
         "name": "L3_D16_best, lrnn_best",
         "orientation": "v",
         "showlegend": true,
         "type": "scatter",
         "x": [
          "0_01",
          "0_02",
          "0_03",
          "0_04",
          "0_05",
          "0_06",
          "0_07",
          "0_08",
          "0_09",
          "0_10",
          "0_11",
          "0_12",
          "0_13",
          "0_14",
          "0_15",
          "0_16",
          "0_17",
          "0_18",
          "0_19",
          "0_20",
          "0_21",
          "0_22",
          "0_23",
          "0_24",
          "0_25",
          "0_26",
          "0_27",
          "0_28",
          "0_29",
          "0_30"
         ],
         "xaxis": "x",
         "y": [
          0,
          0,
          0,
          0,
          0,
          5.2631578947368425,
          1.041666666666663,
          2.542372881355938,
          2.777777777777775,
          2.985074626865674,
          3.846153846153844,
          1.3605442176870701,
          6.626506024096393,
          4.214559386973165,
          2.116402116402109,
          2.777777777777777,
          0.44247787610620093,
          3.9682539682539626,
          1.0416666666666552,
          3.7467700258398007,
          2.777777777777775,
          0.262467191601049,
          2.7261462205700027,
          2.730375426621163,
          3.001071811361201,
          2.8697571743929378,
          2.280130293159607,
          3.508771929824569,
          4.265873015873027,
          3.111111111111105
         ],
         "yaxis": "y"
        },
        {
         "hovertemplate": "solver=L3_D16_best<br>type=lrnn_best<br>difficulty=1<br>problem=%{x}<br>improvement (%)=%{y}<extra></extra>",
         "legendgroup": "L3_D16_best, lrnn_best",
         "line": {
          "color": "#FFA15A",
          "dash": "dot"
         },
         "marker": {
          "symbol": "circle"
         },
         "mode": "lines",
         "name": "L3_D16_best, lrnn_best",
         "orientation": "v",
         "showlegend": false,
         "type": "scatter",
         "x": [
          "1_01",
          "1_02",
          "1_03",
          "1_04",
          "1_05",
          "1_06",
          "1_07",
          "1_08",
          "1_09",
          "1_10",
          "1_11",
          "1_12",
          "1_13",
          "1_14",
          "1_15",
          "1_16",
          "1_17",
          "1_18",
          "1_19",
          "1_20",
          "1_21",
          "1_22",
          "1_23",
          "1_24",
          "1_25",
          "1_26",
          "1_27",
          "1_28",
          "1_29",
          "1_30"
         ],
         "xaxis": "x2",
         "y": [
          2.7027027027027026,
          5.622489959839352,
          0.32679738562091964,
          3.4582132564841577,
          2.994791666666663,
          4.506437768240346,
          3.550863723608448,
          2.8545119705340647,
          2.1035598705501575,
          2.6104417670682745,
          3.047091412742386,
          1.835253947929991,
          2.7777777777777746,
          4.267589388696658,
          3.1968390804597724,
          2.439024390243908,
          2.224435590969456,
          2.016383112791423,
          3.404255319148936,
          2.8848900314196007,
          3.673469387755102,
          3.3986928104575127,
          3.3407025300908857,
          2.7579648121730713,
          2.4334251606978867,
          3.5087719298245514,
          2.671755725190833,
          3.03983228511531,
          2.16736905478627,
          3.5291836338956735
         ],
         "yaxis": "y2"
        }
       ],
       "layout": {
        "annotations": [
         {
          "font": {},
          "showarrow": false,
          "text": "difficulty=0",
          "x": 0.245,
          "xanchor": "center",
          "xref": "paper",
          "y": 1,
          "yanchor": "bottom",
          "yref": "paper"
         },
         {
          "font": {},
          "showarrow": false,
          "text": "difficulty=1",
          "x": 0.755,
          "xanchor": "center",
          "xref": "paper",
          "y": 1,
          "yanchor": "bottom",
          "yref": "paper"
         }
        ],
        "legend": {
         "title": {
          "text": "solver, type"
         },
         "tracegroupgap": 0
        },
        "margin": {
         "t": 60
        },
        "template": {
         "data": {
          "bar": [
           {
            "error_x": {
             "color": "#2a3f5f"
            },
            "error_y": {
             "color": "#2a3f5f"
            },
            "marker": {
             "line": {
              "color": "#E5ECF6",
              "width": 0.5
             },
             "pattern": {
              "fillmode": "overlay",
              "size": 10,
              "solidity": 0.2
             }
            },
            "type": "bar"
           }
          ],
          "barpolar": [
           {
            "marker": {
             "line": {
              "color": "#E5ECF6",
              "width": 0.5
             },
             "pattern": {
              "fillmode": "overlay",
              "size": 10,
              "solidity": 0.2
             }
            },
            "type": "barpolar"
           }
          ],
          "carpet": [
           {
            "aaxis": {
             "endlinecolor": "#2a3f5f",
             "gridcolor": "white",
             "linecolor": "white",
             "minorgridcolor": "white",
             "startlinecolor": "#2a3f5f"
            },
            "baxis": {
             "endlinecolor": "#2a3f5f",
             "gridcolor": "white",
             "linecolor": "white",
             "minorgridcolor": "white",
             "startlinecolor": "#2a3f5f"
            },
            "type": "carpet"
           }
          ],
          "choropleth": [
           {
            "colorbar": {
             "outlinewidth": 0,
             "ticks": ""
            },
            "type": "choropleth"
           }
          ],
          "contour": [
           {
            "colorbar": {
             "outlinewidth": 0,
             "ticks": ""
            },
            "colorscale": [
             [
              0,
              "#0d0887"
             ],
             [
              0.1111111111111111,
              "#46039f"
             ],
             [
              0.2222222222222222,
              "#7201a8"
             ],
             [
              0.3333333333333333,
              "#9c179e"
             ],
             [
              0.4444444444444444,
              "#bd3786"
             ],
             [
              0.5555555555555556,
              "#d8576b"
             ],
             [
              0.6666666666666666,
              "#ed7953"
             ],
             [
              0.7777777777777778,
              "#fb9f3a"
             ],
             [
              0.8888888888888888,
              "#fdca26"
             ],
             [
              1,
              "#f0f921"
             ]
            ],
            "type": "contour"
           }
          ],
          "contourcarpet": [
           {
            "colorbar": {
             "outlinewidth": 0,
             "ticks": ""
            },
            "type": "contourcarpet"
           }
          ],
          "heatmap": [
           {
            "colorbar": {
             "outlinewidth": 0,
             "ticks": ""
            },
            "colorscale": [
             [
              0,
              "#0d0887"
             ],
             [
              0.1111111111111111,
              "#46039f"
             ],
             [
              0.2222222222222222,
              "#7201a8"
             ],
             [
              0.3333333333333333,
              "#9c179e"
             ],
             [
              0.4444444444444444,
              "#bd3786"
             ],
             [
              0.5555555555555556,
              "#d8576b"
             ],
             [
              0.6666666666666666,
              "#ed7953"
             ],
             [
              0.7777777777777778,
              "#fb9f3a"
             ],
             [
              0.8888888888888888,
              "#fdca26"
             ],
             [
              1,
              "#f0f921"
             ]
            ],
            "type": "heatmap"
           }
          ],
          "heatmapgl": [
           {
            "colorbar": {
             "outlinewidth": 0,
             "ticks": ""
            },
            "colorscale": [
             [
              0,
              "#0d0887"
             ],
             [
              0.1111111111111111,
              "#46039f"
             ],
             [
              0.2222222222222222,
              "#7201a8"
             ],
             [
              0.3333333333333333,
              "#9c179e"
             ],
             [
              0.4444444444444444,
              "#bd3786"
             ],
             [
              0.5555555555555556,
              "#d8576b"
             ],
             [
              0.6666666666666666,
              "#ed7953"
             ],
             [
              0.7777777777777778,
              "#fb9f3a"
             ],
             [
              0.8888888888888888,
              "#fdca26"
             ],
             [
              1,
              "#f0f921"
             ]
            ],
            "type": "heatmapgl"
           }
          ],
          "histogram": [
           {
            "marker": {
             "pattern": {
              "fillmode": "overlay",
              "size": 10,
              "solidity": 0.2
             }
            },
            "type": "histogram"
           }
          ],
          "histogram2d": [
           {
            "colorbar": {
             "outlinewidth": 0,
             "ticks": ""
            },
            "colorscale": [
             [
              0,
              "#0d0887"
             ],
             [
              0.1111111111111111,
              "#46039f"
             ],
             [
              0.2222222222222222,
              "#7201a8"
             ],
             [
              0.3333333333333333,
              "#9c179e"
             ],
             [
              0.4444444444444444,
              "#bd3786"
             ],
             [
              0.5555555555555556,
              "#d8576b"
             ],
             [
              0.6666666666666666,
              "#ed7953"
             ],
             [
              0.7777777777777778,
              "#fb9f3a"
             ],
             [
              0.8888888888888888,
              "#fdca26"
             ],
             [
              1,
              "#f0f921"
             ]
            ],
            "type": "histogram2d"
           }
          ],
          "histogram2dcontour": [
           {
            "colorbar": {
             "outlinewidth": 0,
             "ticks": ""
            },
            "colorscale": [
             [
              0,
              "#0d0887"
             ],
             [
              0.1111111111111111,
              "#46039f"
             ],
             [
              0.2222222222222222,
              "#7201a8"
             ],
             [
              0.3333333333333333,
              "#9c179e"
             ],
             [
              0.4444444444444444,
              "#bd3786"
             ],
             [
              0.5555555555555556,
              "#d8576b"
             ],
             [
              0.6666666666666666,
              "#ed7953"
             ],
             [
              0.7777777777777778,
              "#fb9f3a"
             ],
             [
              0.8888888888888888,
              "#fdca26"
             ],
             [
              1,
              "#f0f921"
             ]
            ],
            "type": "histogram2dcontour"
           }
          ],
          "mesh3d": [
           {
            "colorbar": {
             "outlinewidth": 0,
             "ticks": ""
            },
            "type": "mesh3d"
           }
          ],
          "parcoords": [
           {
            "line": {
             "colorbar": {
              "outlinewidth": 0,
              "ticks": ""
             }
            },
            "type": "parcoords"
           }
          ],
          "pie": [
           {
            "automargin": true,
            "type": "pie"
           }
          ],
          "scatter": [
           {
            "fillpattern": {
             "fillmode": "overlay",
             "size": 10,
             "solidity": 0.2
            },
            "type": "scatter"
           }
          ],
          "scatter3d": [
           {
            "line": {
             "colorbar": {
              "outlinewidth": 0,
              "ticks": ""
             }
            },
            "marker": {
             "colorbar": {
              "outlinewidth": 0,
              "ticks": ""
             }
            },
            "type": "scatter3d"
           }
          ],
          "scattercarpet": [
           {
            "marker": {
             "colorbar": {
              "outlinewidth": 0,
              "ticks": ""
             }
            },
            "type": "scattercarpet"
           }
          ],
          "scattergeo": [
           {
            "marker": {
             "colorbar": {
              "outlinewidth": 0,
              "ticks": ""
             }
            },
            "type": "scattergeo"
           }
          ],
          "scattergl": [
           {
            "marker": {
             "colorbar": {
              "outlinewidth": 0,
              "ticks": ""
             }
            },
            "type": "scattergl"
           }
          ],
          "scattermapbox": [
           {
            "marker": {
             "colorbar": {
              "outlinewidth": 0,
              "ticks": ""
             }
            },
            "type": "scattermapbox"
           }
          ],
          "scatterpolar": [
           {
            "marker": {
             "colorbar": {
              "outlinewidth": 0,
              "ticks": ""
             }
            },
            "type": "scatterpolar"
           }
          ],
          "scatterpolargl": [
           {
            "marker": {
             "colorbar": {
              "outlinewidth": 0,
              "ticks": ""
             }
            },
            "type": "scatterpolargl"
           }
          ],
          "scatterternary": [
           {
            "marker": {
             "colorbar": {
              "outlinewidth": 0,
              "ticks": ""
             }
            },
            "type": "scatterternary"
           }
          ],
          "surface": [
           {
            "colorbar": {
             "outlinewidth": 0,
             "ticks": ""
            },
            "colorscale": [
             [
              0,
              "#0d0887"
             ],
             [
              0.1111111111111111,
              "#46039f"
             ],
             [
              0.2222222222222222,
              "#7201a8"
             ],
             [
              0.3333333333333333,
              "#9c179e"
             ],
             [
              0.4444444444444444,
              "#bd3786"
             ],
             [
              0.5555555555555556,
              "#d8576b"
             ],
             [
              0.6666666666666666,
              "#ed7953"
             ],
             [
              0.7777777777777778,
              "#fb9f3a"
             ],
             [
              0.8888888888888888,
              "#fdca26"
             ],
             [
              1,
              "#f0f921"
             ]
            ],
            "type": "surface"
           }
          ],
          "table": [
           {
            "cells": {
             "fill": {
              "color": "#EBF0F8"
             },
             "line": {
              "color": "white"
             }
            },
            "header": {
             "fill": {
              "color": "#C8D4E3"
             },
             "line": {
              "color": "white"
             }
            },
            "type": "table"
           }
          ]
         },
         "layout": {
          "annotationdefaults": {
           "arrowcolor": "#2a3f5f",
           "arrowhead": 0,
           "arrowwidth": 1
          },
          "autotypenumbers": "strict",
          "coloraxis": {
           "colorbar": {
            "outlinewidth": 0,
            "ticks": ""
           }
          },
          "colorscale": {
           "diverging": [
            [
             0,
             "#8e0152"
            ],
            [
             0.1,
             "#c51b7d"
            ],
            [
             0.2,
             "#de77ae"
            ],
            [
             0.3,
             "#f1b6da"
            ],
            [
             0.4,
             "#fde0ef"
            ],
            [
             0.5,
             "#f7f7f7"
            ],
            [
             0.6,
             "#e6f5d0"
            ],
            [
             0.7,
             "#b8e186"
            ],
            [
             0.8,
             "#7fbc41"
            ],
            [
             0.9,
             "#4d9221"
            ],
            [
             1,
             "#276419"
            ]
           ],
           "sequential": [
            [
             0,
             "#0d0887"
            ],
            [
             0.1111111111111111,
             "#46039f"
            ],
            [
             0.2222222222222222,
             "#7201a8"
            ],
            [
             0.3333333333333333,
             "#9c179e"
            ],
            [
             0.4444444444444444,
             "#bd3786"
            ],
            [
             0.5555555555555556,
             "#d8576b"
            ],
            [
             0.6666666666666666,
             "#ed7953"
            ],
            [
             0.7777777777777778,
             "#fb9f3a"
            ],
            [
             0.8888888888888888,
             "#fdca26"
            ],
            [
             1,
             "#f0f921"
            ]
           ],
           "sequentialminus": [
            [
             0,
             "#0d0887"
            ],
            [
             0.1111111111111111,
             "#46039f"
            ],
            [
             0.2222222222222222,
             "#7201a8"
            ],
            [
             0.3333333333333333,
             "#9c179e"
            ],
            [
             0.4444444444444444,
             "#bd3786"
            ],
            [
             0.5555555555555556,
             "#d8576b"
            ],
            [
             0.6666666666666666,
             "#ed7953"
            ],
            [
             0.7777777777777778,
             "#fb9f3a"
            ],
            [
             0.8888888888888888,
             "#fdca26"
            ],
            [
             1,
             "#f0f921"
            ]
           ]
          },
          "colorway": [
           "#636efa",
           "#EF553B",
           "#00cc96",
           "#ab63fa",
           "#FFA15A",
           "#19d3f3",
           "#FF6692",
           "#B6E880",
           "#FF97FF",
           "#FECB52"
          ],
          "font": {
           "color": "#2a3f5f"
          },
          "geo": {
           "bgcolor": "white",
           "lakecolor": "white",
           "landcolor": "#E5ECF6",
           "showlakes": true,
           "showland": true,
           "subunitcolor": "white"
          },
          "hoverlabel": {
           "align": "left"
          },
          "hovermode": "closest",
          "mapbox": {
           "style": "light"
          },
          "paper_bgcolor": "white",
          "plot_bgcolor": "#E5ECF6",
          "polar": {
           "angularaxis": {
            "gridcolor": "white",
            "linecolor": "white",
            "ticks": ""
           },
           "bgcolor": "#E5ECF6",
           "radialaxis": {
            "gridcolor": "white",
            "linecolor": "white",
            "ticks": ""
           }
          },
          "scene": {
           "xaxis": {
            "backgroundcolor": "#E5ECF6",
            "gridcolor": "white",
            "gridwidth": 2,
            "linecolor": "white",
            "showbackground": true,
            "ticks": "",
            "zerolinecolor": "white"
           },
           "yaxis": {
            "backgroundcolor": "#E5ECF6",
            "gridcolor": "white",
            "gridwidth": 2,
            "linecolor": "white",
            "showbackground": true,
            "ticks": "",
            "zerolinecolor": "white"
           },
           "zaxis": {
            "backgroundcolor": "#E5ECF6",
            "gridcolor": "white",
            "gridwidth": 2,
            "linecolor": "white",
            "showbackground": true,
            "ticks": "",
            "zerolinecolor": "white"
           }
          },
          "shapedefaults": {
           "line": {
            "color": "#2a3f5f"
           }
          },
          "ternary": {
           "aaxis": {
            "gridcolor": "white",
            "linecolor": "white",
            "ticks": ""
           },
           "baxis": {
            "gridcolor": "white",
            "linecolor": "white",
            "ticks": ""
           },
           "bgcolor": "#E5ECF6",
           "caxis": {
            "gridcolor": "white",
            "linecolor": "white",
            "ticks": ""
           }
          },
          "title": {
           "x": 0.05
          },
          "xaxis": {
           "automargin": true,
           "gridcolor": "white",
           "linecolor": "white",
           "ticks": "",
           "title": {
            "standoff": 15
           },
           "zerolinecolor": "white",
           "zerolinewidth": 2
          },
          "yaxis": {
           "automargin": true,
           "gridcolor": "white",
           "linecolor": "white",
           "ticks": "",
           "title": {
            "standoff": 15
           },
           "zerolinecolor": "white",
           "zerolinewidth": 2
          }
         }
        },
        "xaxis": {
         "anchor": "y",
         "categoryorder": "array",
         "domain": [
          0,
          0.49
         ],
         "showticklabels": true,
         "title": {
          "text": "problem"
         }
        },
        "xaxis2": {
         "anchor": "y2",
         "categoryorder": "array",
         "domain": [
          0.51,
          1
         ],
         "showticklabels": true,
         "title": {
          "text": "problem"
         }
        },
        "yaxis": {
         "anchor": "x",
         "domain": [
          0,
          1
         ],
         "range": [
          -100,
          100
         ],
         "showticklabels": true,
         "title": {
          "text": "improvement (%)"
         }
        },
        "yaxis2": {
         "anchor": "x2",
         "domain": [
          0,
          1
         ],
         "range": [
          -100,
          100
         ],
         "showticklabels": true
        }
       }
      }
     },
     "metadata": {},
     "output_type": "display_data"
    },
    {
     "name": "stdout",
     "output_type": "stream",
     "text": [
      "satellite\n"
     ]
    },
    {
     "ename": "IndexError",
     "evalue": "index 0 is out of bounds for axis 0 with size 0",
     "output_type": "error",
     "traceback": [
      "\u001b[0;31m---------------------------------------------------------------------------\u001b[0m",
      "\u001b[0;31mIndexError\u001b[0m                                Traceback (most recent call last)",
      "Cell \u001b[0;32mIn[4], line 1\u001b[0m\n\u001b[0;32m----> 1\u001b[0m \u001b[43mplot_difference\u001b[49m\u001b[43m(\u001b[49m\u001b[43mabsolute\u001b[49m\u001b[38;5;241;43m=\u001b[39;49m\u001b[38;5;28;43;01mFalse\u001b[39;49;00m\u001b[43m,\u001b[49m\u001b[43m \u001b[49m\u001b[43mchoices\u001b[49m\u001b[38;5;241;43m=\u001b[39;49m\u001b[43mchoices\u001b[49m\u001b[43m,\u001b[49m\u001b[43m \u001b[49m\u001b[43mlayers\u001b[49m\u001b[38;5;241;43m=\u001b[39;49m\u001b[43mlayers\u001b[49m\u001b[43m,\u001b[49m\u001b[43m \u001b[49m\u001b[43mdimensions\u001b[49m\u001b[38;5;241;43m=\u001b[39;49m\u001b[43mdimensions\u001b[49m\u001b[43m)\u001b[49m\n",
      "File \u001b[0;32m~/code/cvut-colab/results/_results_helper.py:379\u001b[0m, in \u001b[0;36mplot_difference\u001b[0;34m(absolute, choices, layers, dimensions)\u001b[0m\n\u001b[1;32m    377\u001b[0m data \u001b[38;5;241m=\u001b[39m all_data[all_data[\u001b[38;5;124m\"\u001b[39m\u001b[38;5;124mdomain\u001b[39m\u001b[38;5;124m\"\u001b[39m] \u001b[38;5;241m==\u001b[39m domain]\n\u001b[1;32m    378\u001b[0m data \u001b[38;5;241m=\u001b[39m data[\u001b[38;5;241m~\u001b[39mdata[\u001b[38;5;124m\"\u001b[39m\u001b[38;5;124msolver\u001b[39m\u001b[38;5;124m\"\u001b[39m]\u001b[38;5;241m.\u001b[39misin(ignore_models)]\n\u001b[0;32m--> 379\u001b[0m data \u001b[38;5;241m=\u001b[39m \u001b[43mget_improvement\u001b[49m\u001b[43m(\u001b[49m\u001b[43mdata\u001b[49m\u001b[43m)\u001b[49m\n\u001b[1;32m    381\u001b[0m \u001b[38;5;28;01mif\u001b[39;00m absolute:\n\u001b[1;32m    382\u001b[0m     y \u001b[38;5;241m=\u001b[39m \u001b[38;5;124m\"\u001b[39m\u001b[38;5;124mimprovement\u001b[39m\u001b[38;5;124m\"\u001b[39m\n",
      "File \u001b[0;32m~/code/cvut-colab/results/_results_helper.py:278\u001b[0m, in \u001b[0;36mget_improvement\u001b[0;34m(df)\u001b[0m\n\u001b[1;32m    276\u001b[0m \u001b[38;5;28;01mdef\u001b[39;00m \u001b[38;5;21mget_improvement\u001b[39m(df):\n\u001b[1;32m    277\u001b[0m     combination \u001b[38;5;241m=\u001b[39m \u001b[38;5;124m\"\u001b[39m\u001b[38;5;124mplan_length_mean\u001b[39m\u001b[38;5;124m\"\u001b[39m \u001b[38;5;28;01mif\u001b[39;00m \u001b[38;5;129;01mnot\u001b[39;00m TAKE_BEST \u001b[38;5;28;01melse\u001b[39;00m \u001b[38;5;124m\"\u001b[39m\u001b[38;5;124mplan_length_min\u001b[39m\u001b[38;5;124m\"\u001b[39m\n\u001b[0;32m--> 278\u001b[0m     df[\u001b[38;5;124m\"\u001b[39m\u001b[38;5;124mimprovement\u001b[39m\u001b[38;5;124m\"\u001b[39m] \u001b[38;5;241m=\u001b[39m \u001b[43mdf\u001b[49m\u001b[38;5;241;43m.\u001b[39;49m\u001b[43mapply\u001b[49m\u001b[43m(\u001b[49m\n\u001b[1;32m    279\u001b[0m \u001b[43m        \u001b[49m\u001b[38;5;28;43;01mlambda\u001b[39;49;00m\u001b[43m \u001b[49m\u001b[43mrow\u001b[49m\u001b[43m:\u001b[49m\u001b[43m \u001b[49m\u001b[38;5;241;43m-\u001b[39;49m\u001b[43mrow\u001b[49m\u001b[43m[\u001b[49m\u001b[43mcombination\u001b[49m\u001b[43m]\u001b[49m\n\u001b[1;32m    280\u001b[0m \u001b[43m        \u001b[49m\u001b[38;5;241;43m+\u001b[39;49m\u001b[43m \u001b[49m\u001b[43mdf\u001b[49m\u001b[43m[\u001b[49m\n\u001b[1;32m    281\u001b[0m \u001b[43m            \u001b[49m\u001b[43m(\u001b[49m\u001b[43mdf\u001b[49m\u001b[43m[\u001b[49m\u001b[38;5;124;43m\"\u001b[39;49m\u001b[38;5;124;43mdomain\u001b[39;49m\u001b[38;5;124;43m\"\u001b[39;49m\u001b[43m]\u001b[49m\u001b[43m \u001b[49m\u001b[38;5;241;43m==\u001b[39;49m\u001b[43m \u001b[49m\u001b[43mrow\u001b[49m\u001b[43m[\u001b[49m\u001b[38;5;124;43m\"\u001b[39;49m\u001b[38;5;124;43mdomain\u001b[39;49m\u001b[38;5;124;43m\"\u001b[39;49m\u001b[43m]\u001b[49m\u001b[43m)\u001b[49m\n\u001b[1;32m    282\u001b[0m \u001b[43m            \u001b[49m\u001b[38;5;241;43m&\u001b[39;49m\u001b[43m \u001b[49m\u001b[43m(\u001b[49m\u001b[43mdf\u001b[49m\u001b[43m[\u001b[49m\u001b[38;5;124;43m\"\u001b[39;49m\u001b[38;5;124;43mproblem\u001b[39;49m\u001b[38;5;124;43m\"\u001b[39;49m\u001b[43m]\u001b[49m\u001b[43m \u001b[49m\u001b[38;5;241;43m==\u001b[39;49m\u001b[43m \u001b[49m\u001b[43mrow\u001b[49m\u001b[43m[\u001b[49m\u001b[38;5;124;43m\"\u001b[39;49m\u001b[38;5;124;43mproblem\u001b[39;49m\u001b[38;5;124;43m\"\u001b[39;49m\u001b[43m]\u001b[49m\u001b[43m)\u001b[49m\n\u001b[1;32m    283\u001b[0m \u001b[43m            \u001b[49m\u001b[38;5;241;43m&\u001b[39;49m\u001b[43m \u001b[49m\u001b[43m(\u001b[49m\u001b[43mdf\u001b[49m\u001b[43m[\u001b[49m\u001b[38;5;124;43m\"\u001b[39;49m\u001b[38;5;124;43msolver\u001b[39;49m\u001b[38;5;124;43m\"\u001b[39;49m\u001b[43m]\u001b[49m\u001b[43m \u001b[49m\u001b[38;5;241;43m==\u001b[39;49m\u001b[43m \u001b[49m\u001b[38;5;124;43m\"\u001b[39;49m\u001b[38;5;124;43mbaseline\u001b[39;49m\u001b[38;5;124;43m\"\u001b[39;49m\u001b[43m)\u001b[49m\n\u001b[1;32m    284\u001b[0m \u001b[43m        \u001b[49m\u001b[43m]\u001b[49m\u001b[43m[\u001b[49m\u001b[43mcombination\u001b[49m\u001b[43m]\u001b[49m\u001b[38;5;241;43m.\u001b[39;49m\u001b[43mvalues\u001b[49m\u001b[43m[\u001b[49m\u001b[38;5;241;43m0\u001b[39;49m\u001b[43m]\u001b[49m\u001b[43m,\u001b[49m\n\u001b[1;32m    285\u001b[0m \u001b[43m        \u001b[49m\u001b[43maxis\u001b[49m\u001b[38;5;241;43m=\u001b[39;49m\u001b[38;5;241;43m1\u001b[39;49m\u001b[43m,\u001b[49m\n\u001b[1;32m    286\u001b[0m \u001b[43m    \u001b[49m\u001b[43m)\u001b[49m\n\u001b[1;32m    287\u001b[0m     df[\u001b[38;5;124m\"\u001b[39m\u001b[38;5;124mimprovement (\u001b[39m\u001b[38;5;124m%\u001b[39m\u001b[38;5;124m)\u001b[39m\u001b[38;5;124m\"\u001b[39m] \u001b[38;5;241m=\u001b[39m df\u001b[38;5;241m.\u001b[39mapply(\n\u001b[1;32m    288\u001b[0m         \u001b[38;5;28;01mlambda\u001b[39;00m row: \u001b[38;5;241m100\u001b[39m \u001b[38;5;241m*\u001b[39m (\n\u001b[1;32m    289\u001b[0m             \u001b[38;5;241m-\u001b[39mrow[combination]\n\u001b[0;32m   (...)\u001b[0m\n\u001b[1;32m    301\u001b[0m         axis\u001b[38;5;241m=\u001b[39m\u001b[38;5;241m1\u001b[39m,\n\u001b[1;32m    302\u001b[0m     )\n\u001b[1;32m    303\u001b[0m     \u001b[38;5;28;01mreturn\u001b[39;00m df\n",
      "File \u001b[0;32m~/anaconda3/envs/lpp/lib/python3.10/site-packages/pandas/core/frame.py:10374\u001b[0m, in \u001b[0;36mDataFrame.apply\u001b[0;34m(self, func, axis, raw, result_type, args, by_row, engine, engine_kwargs, **kwargs)\u001b[0m\n\u001b[1;32m  10360\u001b[0m \u001b[38;5;28;01mfrom\u001b[39;00m \u001b[38;5;21;01mpandas\u001b[39;00m\u001b[38;5;21;01m.\u001b[39;00m\u001b[38;5;21;01mcore\u001b[39;00m\u001b[38;5;21;01m.\u001b[39;00m\u001b[38;5;21;01mapply\u001b[39;00m \u001b[38;5;28;01mimport\u001b[39;00m frame_apply\n\u001b[1;32m  10362\u001b[0m op \u001b[38;5;241m=\u001b[39m frame_apply(\n\u001b[1;32m  10363\u001b[0m     \u001b[38;5;28mself\u001b[39m,\n\u001b[1;32m  10364\u001b[0m     func\u001b[38;5;241m=\u001b[39mfunc,\n\u001b[0;32m   (...)\u001b[0m\n\u001b[1;32m  10372\u001b[0m     kwargs\u001b[38;5;241m=\u001b[39mkwargs,\n\u001b[1;32m  10373\u001b[0m )\n\u001b[0;32m> 10374\u001b[0m \u001b[38;5;28;01mreturn\u001b[39;00m \u001b[43mop\u001b[49m\u001b[38;5;241;43m.\u001b[39;49m\u001b[43mapply\u001b[49m\u001b[43m(\u001b[49m\u001b[43m)\u001b[49m\u001b[38;5;241m.\u001b[39m__finalize__(\u001b[38;5;28mself\u001b[39m, method\u001b[38;5;241m=\u001b[39m\u001b[38;5;124m\"\u001b[39m\u001b[38;5;124mapply\u001b[39m\u001b[38;5;124m\"\u001b[39m)\n",
      "File \u001b[0;32m~/anaconda3/envs/lpp/lib/python3.10/site-packages/pandas/core/apply.py:916\u001b[0m, in \u001b[0;36mFrameApply.apply\u001b[0;34m(self)\u001b[0m\n\u001b[1;32m    913\u001b[0m \u001b[38;5;28;01melif\u001b[39;00m \u001b[38;5;28mself\u001b[39m\u001b[38;5;241m.\u001b[39mraw:\n\u001b[1;32m    914\u001b[0m     \u001b[38;5;28;01mreturn\u001b[39;00m \u001b[38;5;28mself\u001b[39m\u001b[38;5;241m.\u001b[39mapply_raw(engine\u001b[38;5;241m=\u001b[39m\u001b[38;5;28mself\u001b[39m\u001b[38;5;241m.\u001b[39mengine, engine_kwargs\u001b[38;5;241m=\u001b[39m\u001b[38;5;28mself\u001b[39m\u001b[38;5;241m.\u001b[39mengine_kwargs)\n\u001b[0;32m--> 916\u001b[0m \u001b[38;5;28;01mreturn\u001b[39;00m \u001b[38;5;28;43mself\u001b[39;49m\u001b[38;5;241;43m.\u001b[39;49m\u001b[43mapply_standard\u001b[49m\u001b[43m(\u001b[49m\u001b[43m)\u001b[49m\n",
      "File \u001b[0;32m~/anaconda3/envs/lpp/lib/python3.10/site-packages/pandas/core/apply.py:1063\u001b[0m, in \u001b[0;36mFrameApply.apply_standard\u001b[0;34m(self)\u001b[0m\n\u001b[1;32m   1061\u001b[0m \u001b[38;5;28;01mdef\u001b[39;00m \u001b[38;5;21mapply_standard\u001b[39m(\u001b[38;5;28mself\u001b[39m):\n\u001b[1;32m   1062\u001b[0m     \u001b[38;5;28;01mif\u001b[39;00m \u001b[38;5;28mself\u001b[39m\u001b[38;5;241m.\u001b[39mengine \u001b[38;5;241m==\u001b[39m \u001b[38;5;124m\"\u001b[39m\u001b[38;5;124mpython\u001b[39m\u001b[38;5;124m\"\u001b[39m:\n\u001b[0;32m-> 1063\u001b[0m         results, res_index \u001b[38;5;241m=\u001b[39m \u001b[38;5;28;43mself\u001b[39;49m\u001b[38;5;241;43m.\u001b[39;49m\u001b[43mapply_series_generator\u001b[49m\u001b[43m(\u001b[49m\u001b[43m)\u001b[49m\n\u001b[1;32m   1064\u001b[0m     \u001b[38;5;28;01melse\u001b[39;00m:\n\u001b[1;32m   1065\u001b[0m         results, res_index \u001b[38;5;241m=\u001b[39m \u001b[38;5;28mself\u001b[39m\u001b[38;5;241m.\u001b[39mapply_series_numba()\n",
      "File \u001b[0;32m~/anaconda3/envs/lpp/lib/python3.10/site-packages/pandas/core/apply.py:1081\u001b[0m, in \u001b[0;36mFrameApply.apply_series_generator\u001b[0;34m(self)\u001b[0m\n\u001b[1;32m   1078\u001b[0m \u001b[38;5;28;01mwith\u001b[39;00m option_context(\u001b[38;5;124m\"\u001b[39m\u001b[38;5;124mmode.chained_assignment\u001b[39m\u001b[38;5;124m\"\u001b[39m, \u001b[38;5;28;01mNone\u001b[39;00m):\n\u001b[1;32m   1079\u001b[0m     \u001b[38;5;28;01mfor\u001b[39;00m i, v \u001b[38;5;129;01min\u001b[39;00m \u001b[38;5;28menumerate\u001b[39m(series_gen):\n\u001b[1;32m   1080\u001b[0m         \u001b[38;5;66;03m# ignore SettingWithCopy here in case the user mutates\u001b[39;00m\n\u001b[0;32m-> 1081\u001b[0m         results[i] \u001b[38;5;241m=\u001b[39m \u001b[38;5;28;43mself\u001b[39;49m\u001b[38;5;241;43m.\u001b[39;49m\u001b[43mfunc\u001b[49m\u001b[43m(\u001b[49m\u001b[43mv\u001b[49m\u001b[43m,\u001b[49m\u001b[43m \u001b[49m\u001b[38;5;241;43m*\u001b[39;49m\u001b[38;5;28;43mself\u001b[39;49m\u001b[38;5;241;43m.\u001b[39;49m\u001b[43margs\u001b[49m\u001b[43m,\u001b[49m\u001b[43m \u001b[49m\u001b[38;5;241;43m*\u001b[39;49m\u001b[38;5;241;43m*\u001b[39;49m\u001b[38;5;28;43mself\u001b[39;49m\u001b[38;5;241;43m.\u001b[39;49m\u001b[43mkwargs\u001b[49m\u001b[43m)\u001b[49m\n\u001b[1;32m   1082\u001b[0m         \u001b[38;5;28;01mif\u001b[39;00m \u001b[38;5;28misinstance\u001b[39m(results[i], ABCSeries):\n\u001b[1;32m   1083\u001b[0m             \u001b[38;5;66;03m# If we have a view on v, we need to make a copy because\u001b[39;00m\n\u001b[1;32m   1084\u001b[0m             \u001b[38;5;66;03m#  series_generator will swap out the underlying data\u001b[39;00m\n\u001b[1;32m   1085\u001b[0m             results[i] \u001b[38;5;241m=\u001b[39m results[i]\u001b[38;5;241m.\u001b[39mcopy(deep\u001b[38;5;241m=\u001b[39m\u001b[38;5;28;01mFalse\u001b[39;00m)\n",
      "File \u001b[0;32m~/code/cvut-colab/results/_results_helper.py:280\u001b[0m, in \u001b[0;36mget_improvement.<locals>.<lambda>\u001b[0;34m(row)\u001b[0m\n\u001b[1;32m    276\u001b[0m \u001b[38;5;28;01mdef\u001b[39;00m \u001b[38;5;21mget_improvement\u001b[39m(df):\n\u001b[1;32m    277\u001b[0m     combination \u001b[38;5;241m=\u001b[39m \u001b[38;5;124m\"\u001b[39m\u001b[38;5;124mplan_length_mean\u001b[39m\u001b[38;5;124m\"\u001b[39m \u001b[38;5;28;01mif\u001b[39;00m \u001b[38;5;129;01mnot\u001b[39;00m TAKE_BEST \u001b[38;5;28;01melse\u001b[39;00m \u001b[38;5;124m\"\u001b[39m\u001b[38;5;124mplan_length_min\u001b[39m\u001b[38;5;124m\"\u001b[39m\n\u001b[1;32m    278\u001b[0m     df[\u001b[38;5;124m\"\u001b[39m\u001b[38;5;124mimprovement\u001b[39m\u001b[38;5;124m\"\u001b[39m] \u001b[38;5;241m=\u001b[39m df\u001b[38;5;241m.\u001b[39mapply(\n\u001b[1;32m    279\u001b[0m         \u001b[38;5;28;01mlambda\u001b[39;00m row: \u001b[38;5;241m-\u001b[39mrow[combination]\n\u001b[0;32m--> 280\u001b[0m         \u001b[38;5;241m+\u001b[39m \u001b[43mdf\u001b[49m\u001b[43m[\u001b[49m\n\u001b[1;32m    281\u001b[0m \u001b[43m            \u001b[49m\u001b[43m(\u001b[49m\u001b[43mdf\u001b[49m\u001b[43m[\u001b[49m\u001b[38;5;124;43m\"\u001b[39;49m\u001b[38;5;124;43mdomain\u001b[39;49m\u001b[38;5;124;43m\"\u001b[39;49m\u001b[43m]\u001b[49m\u001b[43m \u001b[49m\u001b[38;5;241;43m==\u001b[39;49m\u001b[43m \u001b[49m\u001b[43mrow\u001b[49m\u001b[43m[\u001b[49m\u001b[38;5;124;43m\"\u001b[39;49m\u001b[38;5;124;43mdomain\u001b[39;49m\u001b[38;5;124;43m\"\u001b[39;49m\u001b[43m]\u001b[49m\u001b[43m)\u001b[49m\n\u001b[1;32m    282\u001b[0m \u001b[43m            \u001b[49m\u001b[38;5;241;43m&\u001b[39;49m\u001b[43m \u001b[49m\u001b[43m(\u001b[49m\u001b[43mdf\u001b[49m\u001b[43m[\u001b[49m\u001b[38;5;124;43m\"\u001b[39;49m\u001b[38;5;124;43mproblem\u001b[39;49m\u001b[38;5;124;43m\"\u001b[39;49m\u001b[43m]\u001b[49m\u001b[43m \u001b[49m\u001b[38;5;241;43m==\u001b[39;49m\u001b[43m \u001b[49m\u001b[43mrow\u001b[49m\u001b[43m[\u001b[49m\u001b[38;5;124;43m\"\u001b[39;49m\u001b[38;5;124;43mproblem\u001b[39;49m\u001b[38;5;124;43m\"\u001b[39;49m\u001b[43m]\u001b[49m\u001b[43m)\u001b[49m\n\u001b[1;32m    283\u001b[0m \u001b[43m            \u001b[49m\u001b[38;5;241;43m&\u001b[39;49m\u001b[43m \u001b[49m\u001b[43m(\u001b[49m\u001b[43mdf\u001b[49m\u001b[43m[\u001b[49m\u001b[38;5;124;43m\"\u001b[39;49m\u001b[38;5;124;43msolver\u001b[39;49m\u001b[38;5;124;43m\"\u001b[39;49m\u001b[43m]\u001b[49m\u001b[43m \u001b[49m\u001b[38;5;241;43m==\u001b[39;49m\u001b[43m \u001b[49m\u001b[38;5;124;43m\"\u001b[39;49m\u001b[38;5;124;43mbaseline\u001b[39;49m\u001b[38;5;124;43m\"\u001b[39;49m\u001b[43m)\u001b[49m\n\u001b[1;32m    284\u001b[0m \u001b[43m        \u001b[49m\u001b[43m]\u001b[49m\u001b[43m[\u001b[49m\u001b[43mcombination\u001b[49m\u001b[43m]\u001b[49m\u001b[38;5;241;43m.\u001b[39;49m\u001b[43mvalues\u001b[49m\u001b[43m[\u001b[49m\u001b[38;5;241;43m0\u001b[39;49m\u001b[43m]\u001b[49m,\n\u001b[1;32m    285\u001b[0m         axis\u001b[38;5;241m=\u001b[39m\u001b[38;5;241m1\u001b[39m,\n\u001b[1;32m    286\u001b[0m     )\n\u001b[1;32m    287\u001b[0m     df[\u001b[38;5;124m\"\u001b[39m\u001b[38;5;124mimprovement (\u001b[39m\u001b[38;5;124m%\u001b[39m\u001b[38;5;124m)\u001b[39m\u001b[38;5;124m\"\u001b[39m] \u001b[38;5;241m=\u001b[39m df\u001b[38;5;241m.\u001b[39mapply(\n\u001b[1;32m    288\u001b[0m         \u001b[38;5;28;01mlambda\u001b[39;00m row: \u001b[38;5;241m100\u001b[39m \u001b[38;5;241m*\u001b[39m (\n\u001b[1;32m    289\u001b[0m             \u001b[38;5;241m-\u001b[39mrow[combination]\n\u001b[0;32m   (...)\u001b[0m\n\u001b[1;32m    301\u001b[0m         axis\u001b[38;5;241m=\u001b[39m\u001b[38;5;241m1\u001b[39m,\n\u001b[1;32m    302\u001b[0m     )\n\u001b[1;32m    303\u001b[0m     \u001b[38;5;28;01mreturn\u001b[39;00m df\n",
      "\u001b[0;31mIndexError\u001b[0m: index 0 is out of bounds for axis 0 with size 0"
     ]
    }
   ],
   "source": [
    "plot_difference(absolute=False, choices=choices, layers=layers, dimensions=dimensions)"
   ]
  },
  {
   "cell_type": "code",
   "execution_count": null,
   "metadata": {},
   "outputs": [],
   "source": []
  }
 ],
 "metadata": {
  "kernelspec": {
   "display_name": "lpp",
   "language": "python",
   "name": "python3"
  },
  "language_info": {
   "codemirror_mode": {
    "name": "ipython",
    "version": 3
   },
   "file_extension": ".py",
   "mimetype": "text/x-python",
   "name": "python",
   "nbconvert_exporter": "python",
   "pygments_lexer": "ipython3",
   "version": "3.10.4"
  }
 },
 "nbformat": 4,
 "nbformat_minor": 2
}
