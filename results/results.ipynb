{
 "cells": [
  {
   "cell_type": "code",
   "execution_count": 1,
   "metadata": {},
   "outputs": [
    {
     "name": "stdout",
     "output_type": "stream",
     "text": [
      "this_file_dir=PosixPath('/home/dzc/code/cvut-colab/results')\n",
      "Raw logs found. Rewriting data to csv files...\n"
     ]
    },
    {
     "name": "stderr",
     "output_type": "stream",
     "text": [
      "/home/dzc/code/cvut-colab/results/baseline_logs/satellite_1_30_r2.log: 100%|██████████| 960/960 [00:00<00:00, 4114.71it/s]\n"
     ]
    },
    {
     "name": "stdout",
     "output_type": "stream",
     "text": [
      "skipping hard problems because they take too long\n",
      "Training failure in /home/dzc/code/cvut-colab/results/train_logs/satellite_3_32_0.log\n",
      "Training failure in /home/dzc/code/cvut-colab/results/train_logs/satellite_3_32_1.log\n",
      "Training failure in /home/dzc/code/cvut-colab/results/train_logs/satellite_3_32_2.log\n",
      "Training failure in /home/dzc/code/cvut-colab/results/train_logs/satellite_4_16_0.log\n",
      "Training failure in /home/dzc/code/cvut-colab/results/train_logs/satellite_4_16_1.log\n",
      "Training failure in /home/dzc/code/cvut-colab/results/train_logs/satellite_4_32_0.log\n",
      "Training failure in /home/dzc/code/cvut-colab/results/train_logs/satellite_4_32_1.log\n",
      "Training failure in /home/dzc/code/cvut-colab/results/train_logs/satellite_4_32_2.log\n",
      "Training failure in /home/dzc/code/cvut-colab/results/train_logs/rover_3_16_0.log\n",
      "Training failure in /home/dzc/code/cvut-colab/results/train_logs/rover_3_16_2.log\n",
      "Training failure in /home/dzc/code/cvut-colab/results/train_logs/rover_3_32_2.log\n"
     ]
    }
   ],
   "source": [
    "from _results_helper import *\n",
    "import warnings\n",
    "warnings.filterwarnings(\"ignore\")\n",
    "\n",
    "choices = [\n",
    "    # \"sample\",\n",
    "    \"best\",\n",
    "]\n",
    "layers = [\n",
    "    # 1,\n",
    "    2,\n",
    "    3,\n",
    "    # 4,\n",
    "    # 5,\n",
    "]\n",
    "dimensions = [\n",
    "    # 1,\n",
    "    # 2,\n",
    "    # 4,\n",
    "    8,\n",
    "    16,\n",
    "    # 32,\n",
    "    # 64,\n",
    "    # 128,\n",
    "]"
   ]
  },
  {
   "cell_type": "markdown",
   "metadata": {},
   "source": [
    "# Train Stats"
   ]
  },
  {
   "cell_type": "code",
   "execution_count": 2,
   "metadata": {},
   "outputs": [
    {
     "name": "stdout",
     "output_type": "stream",
     "text": [
      "blocksworld\n"
     ]
    },
    {
     "data": {
      "application/vnd.plotly.v1+json": {
       "config": {
        "plotlyServerURL": "https://plot.ly"
       },
       "data": [
        {
         "hoverinfo": [
          "all"
         ],
         "mode": "markers",
         "name": "loss",
         "type": "scatter",
         "x": [
          "2_8",
          "2_8",
          "2_8",
          "2_16",
          "2_16",
          "2_16",
          "3_8",
          "3_8",
          "3_8",
          "3_16",
          "3_16",
          "3_16"
         ],
         "xaxis": "x",
         "y": [
          0.09228106114756958,
          0.0992488394486789,
          0.08946610919563794,
          0.12930232303512837,
          0.16540456164672462,
          0.07865583979677968,
          0.07301570449918858,
          0.08586619027314737,
          0.07544871635850967,
          0.16187255405774081,
          0.058814318463620965,
          0.07158613799481352
         ],
         "yaxis": "y"
        },
        {
         "hoverinfo": [
          "all"
         ],
         "mode": "markers",
         "name": "f1",
         "type": "scatter",
         "x": [
          "2_8",
          "2_8",
          "2_8",
          "2_16",
          "2_16",
          "2_16",
          "3_8",
          "3_8",
          "3_8",
          "3_16",
          "3_16",
          "3_16"
         ],
         "xaxis": "x2",
         "y": [
          0.9836574793110643,
          0.9860904354298474,
          0.98734236120806,
          0.9715254392596157,
          0.966815775059339,
          0.9845303354083434,
          0.9884297520661157,
          0.9867745159565814,
          0.9873777363763391,
          0.9739250085999313,
          0.9946143399053997,
          0.9887577552829221
         ],
         "yaxis": "y2"
        },
        {
         "hoverinfo": [
          "all"
         ],
         "mode": "markers",
         "name": "time",
         "type": "scatter",
         "x": [
          "2_8",
          "2_8",
          "2_8",
          "2_16",
          "2_16",
          "2_16",
          "3_8",
          "3_8",
          "3_8",
          "3_16",
          "3_16",
          "3_16"
         ],
         "xaxis": "x3",
         "y": [
          275.76506519317627,
          288.4340968132019,
          456.0398254394531,
          548.0890893936157,
          524.7487444877625,
          927.9718589782715,
          493.87508487701416,
          706.3105845451355,
          489.3847568035126,
          715.4554312229156,
          701.7974317073822,
          1190.7423920631409
         ],
         "yaxis": "y3"
        }
       ],
       "layout": {
        "template": {
         "data": {
          "bar": [
           {
            "error_x": {
             "color": "#2a3f5f"
            },
            "error_y": {
             "color": "#2a3f5f"
            },
            "marker": {
             "line": {
              "color": "#E5ECF6",
              "width": 0.5
             },
             "pattern": {
              "fillmode": "overlay",
              "size": 10,
              "solidity": 0.2
             }
            },
            "type": "bar"
           }
          ],
          "barpolar": [
           {
            "marker": {
             "line": {
              "color": "#E5ECF6",
              "width": 0.5
             },
             "pattern": {
              "fillmode": "overlay",
              "size": 10,
              "solidity": 0.2
             }
            },
            "type": "barpolar"
           }
          ],
          "carpet": [
           {
            "aaxis": {
             "endlinecolor": "#2a3f5f",
             "gridcolor": "white",
             "linecolor": "white",
             "minorgridcolor": "white",
             "startlinecolor": "#2a3f5f"
            },
            "baxis": {
             "endlinecolor": "#2a3f5f",
             "gridcolor": "white",
             "linecolor": "white",
             "minorgridcolor": "white",
             "startlinecolor": "#2a3f5f"
            },
            "type": "carpet"
           }
          ],
          "choropleth": [
           {
            "colorbar": {
             "outlinewidth": 0,
             "ticks": ""
            },
            "type": "choropleth"
           }
          ],
          "contour": [
           {
            "colorbar": {
             "outlinewidth": 0,
             "ticks": ""
            },
            "colorscale": [
             [
              0,
              "#0d0887"
             ],
             [
              0.1111111111111111,
              "#46039f"
             ],
             [
              0.2222222222222222,
              "#7201a8"
             ],
             [
              0.3333333333333333,
              "#9c179e"
             ],
             [
              0.4444444444444444,
              "#bd3786"
             ],
             [
              0.5555555555555556,
              "#d8576b"
             ],
             [
              0.6666666666666666,
              "#ed7953"
             ],
             [
              0.7777777777777778,
              "#fb9f3a"
             ],
             [
              0.8888888888888888,
              "#fdca26"
             ],
             [
              1,
              "#f0f921"
             ]
            ],
            "type": "contour"
           }
          ],
          "contourcarpet": [
           {
            "colorbar": {
             "outlinewidth": 0,
             "ticks": ""
            },
            "type": "contourcarpet"
           }
          ],
          "heatmap": [
           {
            "colorbar": {
             "outlinewidth": 0,
             "ticks": ""
            },
            "colorscale": [
             [
              0,
              "#0d0887"
             ],
             [
              0.1111111111111111,
              "#46039f"
             ],
             [
              0.2222222222222222,
              "#7201a8"
             ],
             [
              0.3333333333333333,
              "#9c179e"
             ],
             [
              0.4444444444444444,
              "#bd3786"
             ],
             [
              0.5555555555555556,
              "#d8576b"
             ],
             [
              0.6666666666666666,
              "#ed7953"
             ],
             [
              0.7777777777777778,
              "#fb9f3a"
             ],
             [
              0.8888888888888888,
              "#fdca26"
             ],
             [
              1,
              "#f0f921"
             ]
            ],
            "type": "heatmap"
           }
          ],
          "heatmapgl": [
           {
            "colorbar": {
             "outlinewidth": 0,
             "ticks": ""
            },
            "colorscale": [
             [
              0,
              "#0d0887"
             ],
             [
              0.1111111111111111,
              "#46039f"
             ],
             [
              0.2222222222222222,
              "#7201a8"
             ],
             [
              0.3333333333333333,
              "#9c179e"
             ],
             [
              0.4444444444444444,
              "#bd3786"
             ],
             [
              0.5555555555555556,
              "#d8576b"
             ],
             [
              0.6666666666666666,
              "#ed7953"
             ],
             [
              0.7777777777777778,
              "#fb9f3a"
             ],
             [
              0.8888888888888888,
              "#fdca26"
             ],
             [
              1,
              "#f0f921"
             ]
            ],
            "type": "heatmapgl"
           }
          ],
          "histogram": [
           {
            "marker": {
             "pattern": {
              "fillmode": "overlay",
              "size": 10,
              "solidity": 0.2
             }
            },
            "type": "histogram"
           }
          ],
          "histogram2d": [
           {
            "colorbar": {
             "outlinewidth": 0,
             "ticks": ""
            },
            "colorscale": [
             [
              0,
              "#0d0887"
             ],
             [
              0.1111111111111111,
              "#46039f"
             ],
             [
              0.2222222222222222,
              "#7201a8"
             ],
             [
              0.3333333333333333,
              "#9c179e"
             ],
             [
              0.4444444444444444,
              "#bd3786"
             ],
             [
              0.5555555555555556,
              "#d8576b"
             ],
             [
              0.6666666666666666,
              "#ed7953"
             ],
             [
              0.7777777777777778,
              "#fb9f3a"
             ],
             [
              0.8888888888888888,
              "#fdca26"
             ],
             [
              1,
              "#f0f921"
             ]
            ],
            "type": "histogram2d"
           }
          ],
          "histogram2dcontour": [
           {
            "colorbar": {
             "outlinewidth": 0,
             "ticks": ""
            },
            "colorscale": [
             [
              0,
              "#0d0887"
             ],
             [
              0.1111111111111111,
              "#46039f"
             ],
             [
              0.2222222222222222,
              "#7201a8"
             ],
             [
              0.3333333333333333,
              "#9c179e"
             ],
             [
              0.4444444444444444,
              "#bd3786"
             ],
             [
              0.5555555555555556,
              "#d8576b"
             ],
             [
              0.6666666666666666,
              "#ed7953"
             ],
             [
              0.7777777777777778,
              "#fb9f3a"
             ],
             [
              0.8888888888888888,
              "#fdca26"
             ],
             [
              1,
              "#f0f921"
             ]
            ],
            "type": "histogram2dcontour"
           }
          ],
          "mesh3d": [
           {
            "colorbar": {
             "outlinewidth": 0,
             "ticks": ""
            },
            "type": "mesh3d"
           }
          ],
          "parcoords": [
           {
            "line": {
             "colorbar": {
              "outlinewidth": 0,
              "ticks": ""
             }
            },
            "type": "parcoords"
           }
          ],
          "pie": [
           {
            "automargin": true,
            "type": "pie"
           }
          ],
          "scatter": [
           {
            "fillpattern": {
             "fillmode": "overlay",
             "size": 10,
             "solidity": 0.2
            },
            "type": "scatter"
           }
          ],
          "scatter3d": [
           {
            "line": {
             "colorbar": {
              "outlinewidth": 0,
              "ticks": ""
             }
            },
            "marker": {
             "colorbar": {
              "outlinewidth": 0,
              "ticks": ""
             }
            },
            "type": "scatter3d"
           }
          ],
          "scattercarpet": [
           {
            "marker": {
             "colorbar": {
              "outlinewidth": 0,
              "ticks": ""
             }
            },
            "type": "scattercarpet"
           }
          ],
          "scattergeo": [
           {
            "marker": {
             "colorbar": {
              "outlinewidth": 0,
              "ticks": ""
             }
            },
            "type": "scattergeo"
           }
          ],
          "scattergl": [
           {
            "marker": {
             "colorbar": {
              "outlinewidth": 0,
              "ticks": ""
             }
            },
            "type": "scattergl"
           }
          ],
          "scattermapbox": [
           {
            "marker": {
             "colorbar": {
              "outlinewidth": 0,
              "ticks": ""
             }
            },
            "type": "scattermapbox"
           }
          ],
          "scatterpolar": [
           {
            "marker": {
             "colorbar": {
              "outlinewidth": 0,
              "ticks": ""
             }
            },
            "type": "scatterpolar"
           }
          ],
          "scatterpolargl": [
           {
            "marker": {
             "colorbar": {
              "outlinewidth": 0,
              "ticks": ""
             }
            },
            "type": "scatterpolargl"
           }
          ],
          "scatterternary": [
           {
            "marker": {
             "colorbar": {
              "outlinewidth": 0,
              "ticks": ""
             }
            },
            "type": "scatterternary"
           }
          ],
          "surface": [
           {
            "colorbar": {
             "outlinewidth": 0,
             "ticks": ""
            },
            "colorscale": [
             [
              0,
              "#0d0887"
             ],
             [
              0.1111111111111111,
              "#46039f"
             ],
             [
              0.2222222222222222,
              "#7201a8"
             ],
             [
              0.3333333333333333,
              "#9c179e"
             ],
             [
              0.4444444444444444,
              "#bd3786"
             ],
             [
              0.5555555555555556,
              "#d8576b"
             ],
             [
              0.6666666666666666,
              "#ed7953"
             ],
             [
              0.7777777777777778,
              "#fb9f3a"
             ],
             [
              0.8888888888888888,
              "#fdca26"
             ],
             [
              1,
              "#f0f921"
             ]
            ],
            "type": "surface"
           }
          ],
          "table": [
           {
            "cells": {
             "fill": {
              "color": "#EBF0F8"
             },
             "line": {
              "color": "white"
             }
            },
            "header": {
             "fill": {
              "color": "#C8D4E3"
             },
             "line": {
              "color": "white"
             }
            },
            "type": "table"
           }
          ]
         },
         "layout": {
          "annotationdefaults": {
           "arrowcolor": "#2a3f5f",
           "arrowhead": 0,
           "arrowwidth": 1
          },
          "autotypenumbers": "strict",
          "coloraxis": {
           "colorbar": {
            "outlinewidth": 0,
            "ticks": ""
           }
          },
          "colorscale": {
           "diverging": [
            [
             0,
             "#8e0152"
            ],
            [
             0.1,
             "#c51b7d"
            ],
            [
             0.2,
             "#de77ae"
            ],
            [
             0.3,
             "#f1b6da"
            ],
            [
             0.4,
             "#fde0ef"
            ],
            [
             0.5,
             "#f7f7f7"
            ],
            [
             0.6,
             "#e6f5d0"
            ],
            [
             0.7,
             "#b8e186"
            ],
            [
             0.8,
             "#7fbc41"
            ],
            [
             0.9,
             "#4d9221"
            ],
            [
             1,
             "#276419"
            ]
           ],
           "sequential": [
            [
             0,
             "#0d0887"
            ],
            [
             0.1111111111111111,
             "#46039f"
            ],
            [
             0.2222222222222222,
             "#7201a8"
            ],
            [
             0.3333333333333333,
             "#9c179e"
            ],
            [
             0.4444444444444444,
             "#bd3786"
            ],
            [
             0.5555555555555556,
             "#d8576b"
            ],
            [
             0.6666666666666666,
             "#ed7953"
            ],
            [
             0.7777777777777778,
             "#fb9f3a"
            ],
            [
             0.8888888888888888,
             "#fdca26"
            ],
            [
             1,
             "#f0f921"
            ]
           ],
           "sequentialminus": [
            [
             0,
             "#0d0887"
            ],
            [
             0.1111111111111111,
             "#46039f"
            ],
            [
             0.2222222222222222,
             "#7201a8"
            ],
            [
             0.3333333333333333,
             "#9c179e"
            ],
            [
             0.4444444444444444,
             "#bd3786"
            ],
            [
             0.5555555555555556,
             "#d8576b"
            ],
            [
             0.6666666666666666,
             "#ed7953"
            ],
            [
             0.7777777777777778,
             "#fb9f3a"
            ],
            [
             0.8888888888888888,
             "#fdca26"
            ],
            [
             1,
             "#f0f921"
            ]
           ]
          },
          "colorway": [
           "#636efa",
           "#EF553B",
           "#00cc96",
           "#ab63fa",
           "#FFA15A",
           "#19d3f3",
           "#FF6692",
           "#B6E880",
           "#FF97FF",
           "#FECB52"
          ],
          "font": {
           "color": "#2a3f5f"
          },
          "geo": {
           "bgcolor": "white",
           "lakecolor": "white",
           "landcolor": "#E5ECF6",
           "showlakes": true,
           "showland": true,
           "subunitcolor": "white"
          },
          "hoverlabel": {
           "align": "left"
          },
          "hovermode": "closest",
          "mapbox": {
           "style": "light"
          },
          "paper_bgcolor": "white",
          "plot_bgcolor": "#E5ECF6",
          "polar": {
           "angularaxis": {
            "gridcolor": "white",
            "linecolor": "white",
            "ticks": ""
           },
           "bgcolor": "#E5ECF6",
           "radialaxis": {
            "gridcolor": "white",
            "linecolor": "white",
            "ticks": ""
           }
          },
          "scene": {
           "xaxis": {
            "backgroundcolor": "#E5ECF6",
            "gridcolor": "white",
            "gridwidth": 2,
            "linecolor": "white",
            "showbackground": true,
            "ticks": "",
            "zerolinecolor": "white"
           },
           "yaxis": {
            "backgroundcolor": "#E5ECF6",
            "gridcolor": "white",
            "gridwidth": 2,
            "linecolor": "white",
            "showbackground": true,
            "ticks": "",
            "zerolinecolor": "white"
           },
           "zaxis": {
            "backgroundcolor": "#E5ECF6",
            "gridcolor": "white",
            "gridwidth": 2,
            "linecolor": "white",
            "showbackground": true,
            "ticks": "",
            "zerolinecolor": "white"
           }
          },
          "shapedefaults": {
           "line": {
            "color": "#2a3f5f"
           }
          },
          "ternary": {
           "aaxis": {
            "gridcolor": "white",
            "linecolor": "white",
            "ticks": ""
           },
           "baxis": {
            "gridcolor": "white",
            "linecolor": "white",
            "ticks": ""
           },
           "bgcolor": "#E5ECF6",
           "caxis": {
            "gridcolor": "white",
            "linecolor": "white",
            "ticks": ""
           }
          },
          "title": {
           "x": 0.05
          },
          "xaxis": {
           "automargin": true,
           "gridcolor": "white",
           "linecolor": "white",
           "ticks": "",
           "title": {
            "standoff": 15
           },
           "zerolinecolor": "white",
           "zerolinewidth": 2
          },
          "yaxis": {
           "automargin": true,
           "gridcolor": "white",
           "linecolor": "white",
           "ticks": "",
           "title": {
            "standoff": 15
           },
           "zerolinecolor": "white",
           "zerolinewidth": 2
          }
         }
        },
        "xaxis": {
         "anchor": "y",
         "domain": [
          0,
          0.2888888888888889
         ]
        },
        "xaxis2": {
         "anchor": "y2",
         "domain": [
          0.35555555555555557,
          0.6444444444444445
         ]
        },
        "xaxis3": {
         "anchor": "y3",
         "domain": [
          0.7111111111111111,
          1
         ]
        },
        "yaxis": {
         "anchor": "x",
         "domain": [
          0,
          1
         ]
        },
        "yaxis2": {
         "anchor": "x2",
         "domain": [
          0,
          1
         ]
        },
        "yaxis3": {
         "anchor": "x3",
         "domain": [
          0,
          1
         ]
        }
       }
      }
     },
     "metadata": {},
     "output_type": "display_data"
    },
    {
     "name": "stdout",
     "output_type": "stream",
     "text": [
      "ferry\n"
     ]
    },
    {
     "data": {
      "application/vnd.plotly.v1+json": {
       "config": {
        "plotlyServerURL": "https://plot.ly"
       },
       "data": [
        {
         "hoverinfo": [
          "all"
         ],
         "mode": "markers",
         "name": "loss",
         "type": "scatter",
         "x": [
          "2_8",
          "2_8",
          "2_8",
          "2_16",
          "2_16",
          "2_16",
          "3_8",
          "3_8",
          "3_8",
          "3_16",
          "3_16",
          "3_16"
         ],
         "xaxis": "x",
         "y": [
          0.08966952736806756,
          0.09678513769952388,
          0.08905189170169876,
          0.08396376261891896,
          0.0904553298171521,
          0.09018672597596328,
          0.0777689633752285,
          0.07804355105625152,
          0.07802275638504702,
          0.07738448770286482,
          0.07417655745282505,
          0.07803046599881451
         ],
         "yaxis": "y"
        },
        {
         "hoverinfo": [
          "all"
         ],
         "mode": "markers",
         "name": "f1",
         "type": "scatter",
         "x": [
          "2_8",
          "2_8",
          "2_8",
          "2_16",
          "2_16",
          "2_16",
          "3_8",
          "3_8",
          "3_8",
          "3_16",
          "3_16",
          "3_16"
         ],
         "xaxis": "x2",
         "y": [
          0.9948195475738214,
          0.9928261523261308,
          0.9927371180540634,
          0.9945341080266838,
          0.9918475928945336,
          0.9932758620689656,
          1,
          1,
          1,
          0.9971527178602243,
          1,
          1
         ],
         "yaxis": "y2"
        },
        {
         "hoverinfo": [
          "all"
         ],
         "mode": "markers",
         "name": "time",
         "type": "scatter",
         "x": [
          "2_8",
          "2_8",
          "2_8",
          "2_16",
          "2_16",
          "2_16",
          "3_8",
          "3_8",
          "3_8",
          "3_16",
          "3_16",
          "3_16"
         ],
         "xaxis": "x3",
         "y": [
          226.7511761188507,
          212.73524737358093,
          272.619117975235,
          234.32336282730103,
          254.05162930488586,
          368.69732189178467,
          219.93614149093628,
          216.35893321037292,
          155.82866287231445,
          429.7363028526306,
          515.2040503025055,
          311.8678765296936
         ],
         "yaxis": "y3"
        }
       ],
       "layout": {
        "template": {
         "data": {
          "bar": [
           {
            "error_x": {
             "color": "#2a3f5f"
            },
            "error_y": {
             "color": "#2a3f5f"
            },
            "marker": {
             "line": {
              "color": "#E5ECF6",
              "width": 0.5
             },
             "pattern": {
              "fillmode": "overlay",
              "size": 10,
              "solidity": 0.2
             }
            },
            "type": "bar"
           }
          ],
          "barpolar": [
           {
            "marker": {
             "line": {
              "color": "#E5ECF6",
              "width": 0.5
             },
             "pattern": {
              "fillmode": "overlay",
              "size": 10,
              "solidity": 0.2
             }
            },
            "type": "barpolar"
           }
          ],
          "carpet": [
           {
            "aaxis": {
             "endlinecolor": "#2a3f5f",
             "gridcolor": "white",
             "linecolor": "white",
             "minorgridcolor": "white",
             "startlinecolor": "#2a3f5f"
            },
            "baxis": {
             "endlinecolor": "#2a3f5f",
             "gridcolor": "white",
             "linecolor": "white",
             "minorgridcolor": "white",
             "startlinecolor": "#2a3f5f"
            },
            "type": "carpet"
           }
          ],
          "choropleth": [
           {
            "colorbar": {
             "outlinewidth": 0,
             "ticks": ""
            },
            "type": "choropleth"
           }
          ],
          "contour": [
           {
            "colorbar": {
             "outlinewidth": 0,
             "ticks": ""
            },
            "colorscale": [
             [
              0,
              "#0d0887"
             ],
             [
              0.1111111111111111,
              "#46039f"
             ],
             [
              0.2222222222222222,
              "#7201a8"
             ],
             [
              0.3333333333333333,
              "#9c179e"
             ],
             [
              0.4444444444444444,
              "#bd3786"
             ],
             [
              0.5555555555555556,
              "#d8576b"
             ],
             [
              0.6666666666666666,
              "#ed7953"
             ],
             [
              0.7777777777777778,
              "#fb9f3a"
             ],
             [
              0.8888888888888888,
              "#fdca26"
             ],
             [
              1,
              "#f0f921"
             ]
            ],
            "type": "contour"
           }
          ],
          "contourcarpet": [
           {
            "colorbar": {
             "outlinewidth": 0,
             "ticks": ""
            },
            "type": "contourcarpet"
           }
          ],
          "heatmap": [
           {
            "colorbar": {
             "outlinewidth": 0,
             "ticks": ""
            },
            "colorscale": [
             [
              0,
              "#0d0887"
             ],
             [
              0.1111111111111111,
              "#46039f"
             ],
             [
              0.2222222222222222,
              "#7201a8"
             ],
             [
              0.3333333333333333,
              "#9c179e"
             ],
             [
              0.4444444444444444,
              "#bd3786"
             ],
             [
              0.5555555555555556,
              "#d8576b"
             ],
             [
              0.6666666666666666,
              "#ed7953"
             ],
             [
              0.7777777777777778,
              "#fb9f3a"
             ],
             [
              0.8888888888888888,
              "#fdca26"
             ],
             [
              1,
              "#f0f921"
             ]
            ],
            "type": "heatmap"
           }
          ],
          "heatmapgl": [
           {
            "colorbar": {
             "outlinewidth": 0,
             "ticks": ""
            },
            "colorscale": [
             [
              0,
              "#0d0887"
             ],
             [
              0.1111111111111111,
              "#46039f"
             ],
             [
              0.2222222222222222,
              "#7201a8"
             ],
             [
              0.3333333333333333,
              "#9c179e"
             ],
             [
              0.4444444444444444,
              "#bd3786"
             ],
             [
              0.5555555555555556,
              "#d8576b"
             ],
             [
              0.6666666666666666,
              "#ed7953"
             ],
             [
              0.7777777777777778,
              "#fb9f3a"
             ],
             [
              0.8888888888888888,
              "#fdca26"
             ],
             [
              1,
              "#f0f921"
             ]
            ],
            "type": "heatmapgl"
           }
          ],
          "histogram": [
           {
            "marker": {
             "pattern": {
              "fillmode": "overlay",
              "size": 10,
              "solidity": 0.2
             }
            },
            "type": "histogram"
           }
          ],
          "histogram2d": [
           {
            "colorbar": {
             "outlinewidth": 0,
             "ticks": ""
            },
            "colorscale": [
             [
              0,
              "#0d0887"
             ],
             [
              0.1111111111111111,
              "#46039f"
             ],
             [
              0.2222222222222222,
              "#7201a8"
             ],
             [
              0.3333333333333333,
              "#9c179e"
             ],
             [
              0.4444444444444444,
              "#bd3786"
             ],
             [
              0.5555555555555556,
              "#d8576b"
             ],
             [
              0.6666666666666666,
              "#ed7953"
             ],
             [
              0.7777777777777778,
              "#fb9f3a"
             ],
             [
              0.8888888888888888,
              "#fdca26"
             ],
             [
              1,
              "#f0f921"
             ]
            ],
            "type": "histogram2d"
           }
          ],
          "histogram2dcontour": [
           {
            "colorbar": {
             "outlinewidth": 0,
             "ticks": ""
            },
            "colorscale": [
             [
              0,
              "#0d0887"
             ],
             [
              0.1111111111111111,
              "#46039f"
             ],
             [
              0.2222222222222222,
              "#7201a8"
             ],
             [
              0.3333333333333333,
              "#9c179e"
             ],
             [
              0.4444444444444444,
              "#bd3786"
             ],
             [
              0.5555555555555556,
              "#d8576b"
             ],
             [
              0.6666666666666666,
              "#ed7953"
             ],
             [
              0.7777777777777778,
              "#fb9f3a"
             ],
             [
              0.8888888888888888,
              "#fdca26"
             ],
             [
              1,
              "#f0f921"
             ]
            ],
            "type": "histogram2dcontour"
           }
          ],
          "mesh3d": [
           {
            "colorbar": {
             "outlinewidth": 0,
             "ticks": ""
            },
            "type": "mesh3d"
           }
          ],
          "parcoords": [
           {
            "line": {
             "colorbar": {
              "outlinewidth": 0,
              "ticks": ""
             }
            },
            "type": "parcoords"
           }
          ],
          "pie": [
           {
            "automargin": true,
            "type": "pie"
           }
          ],
          "scatter": [
           {
            "fillpattern": {
             "fillmode": "overlay",
             "size": 10,
             "solidity": 0.2
            },
            "type": "scatter"
           }
          ],
          "scatter3d": [
           {
            "line": {
             "colorbar": {
              "outlinewidth": 0,
              "ticks": ""
             }
            },
            "marker": {
             "colorbar": {
              "outlinewidth": 0,
              "ticks": ""
             }
            },
            "type": "scatter3d"
           }
          ],
          "scattercarpet": [
           {
            "marker": {
             "colorbar": {
              "outlinewidth": 0,
              "ticks": ""
             }
            },
            "type": "scattercarpet"
           }
          ],
          "scattergeo": [
           {
            "marker": {
             "colorbar": {
              "outlinewidth": 0,
              "ticks": ""
             }
            },
            "type": "scattergeo"
           }
          ],
          "scattergl": [
           {
            "marker": {
             "colorbar": {
              "outlinewidth": 0,
              "ticks": ""
             }
            },
            "type": "scattergl"
           }
          ],
          "scattermapbox": [
           {
            "marker": {
             "colorbar": {
              "outlinewidth": 0,
              "ticks": ""
             }
            },
            "type": "scattermapbox"
           }
          ],
          "scatterpolar": [
           {
            "marker": {
             "colorbar": {
              "outlinewidth": 0,
              "ticks": ""
             }
            },
            "type": "scatterpolar"
           }
          ],
          "scatterpolargl": [
           {
            "marker": {
             "colorbar": {
              "outlinewidth": 0,
              "ticks": ""
             }
            },
            "type": "scatterpolargl"
           }
          ],
          "scatterternary": [
           {
            "marker": {
             "colorbar": {
              "outlinewidth": 0,
              "ticks": ""
             }
            },
            "type": "scatterternary"
           }
          ],
          "surface": [
           {
            "colorbar": {
             "outlinewidth": 0,
             "ticks": ""
            },
            "colorscale": [
             [
              0,
              "#0d0887"
             ],
             [
              0.1111111111111111,
              "#46039f"
             ],
             [
              0.2222222222222222,
              "#7201a8"
             ],
             [
              0.3333333333333333,
              "#9c179e"
             ],
             [
              0.4444444444444444,
              "#bd3786"
             ],
             [
              0.5555555555555556,
              "#d8576b"
             ],
             [
              0.6666666666666666,
              "#ed7953"
             ],
             [
              0.7777777777777778,
              "#fb9f3a"
             ],
             [
              0.8888888888888888,
              "#fdca26"
             ],
             [
              1,
              "#f0f921"
             ]
            ],
            "type": "surface"
           }
          ],
          "table": [
           {
            "cells": {
             "fill": {
              "color": "#EBF0F8"
             },
             "line": {
              "color": "white"
             }
            },
            "header": {
             "fill": {
              "color": "#C8D4E3"
             },
             "line": {
              "color": "white"
             }
            },
            "type": "table"
           }
          ]
         },
         "layout": {
          "annotationdefaults": {
           "arrowcolor": "#2a3f5f",
           "arrowhead": 0,
           "arrowwidth": 1
          },
          "autotypenumbers": "strict",
          "coloraxis": {
           "colorbar": {
            "outlinewidth": 0,
            "ticks": ""
           }
          },
          "colorscale": {
           "diverging": [
            [
             0,
             "#8e0152"
            ],
            [
             0.1,
             "#c51b7d"
            ],
            [
             0.2,
             "#de77ae"
            ],
            [
             0.3,
             "#f1b6da"
            ],
            [
             0.4,
             "#fde0ef"
            ],
            [
             0.5,
             "#f7f7f7"
            ],
            [
             0.6,
             "#e6f5d0"
            ],
            [
             0.7,
             "#b8e186"
            ],
            [
             0.8,
             "#7fbc41"
            ],
            [
             0.9,
             "#4d9221"
            ],
            [
             1,
             "#276419"
            ]
           ],
           "sequential": [
            [
             0,
             "#0d0887"
            ],
            [
             0.1111111111111111,
             "#46039f"
            ],
            [
             0.2222222222222222,
             "#7201a8"
            ],
            [
             0.3333333333333333,
             "#9c179e"
            ],
            [
             0.4444444444444444,
             "#bd3786"
            ],
            [
             0.5555555555555556,
             "#d8576b"
            ],
            [
             0.6666666666666666,
             "#ed7953"
            ],
            [
             0.7777777777777778,
             "#fb9f3a"
            ],
            [
             0.8888888888888888,
             "#fdca26"
            ],
            [
             1,
             "#f0f921"
            ]
           ],
           "sequentialminus": [
            [
             0,
             "#0d0887"
            ],
            [
             0.1111111111111111,
             "#46039f"
            ],
            [
             0.2222222222222222,
             "#7201a8"
            ],
            [
             0.3333333333333333,
             "#9c179e"
            ],
            [
             0.4444444444444444,
             "#bd3786"
            ],
            [
             0.5555555555555556,
             "#d8576b"
            ],
            [
             0.6666666666666666,
             "#ed7953"
            ],
            [
             0.7777777777777778,
             "#fb9f3a"
            ],
            [
             0.8888888888888888,
             "#fdca26"
            ],
            [
             1,
             "#f0f921"
            ]
           ]
          },
          "colorway": [
           "#636efa",
           "#EF553B",
           "#00cc96",
           "#ab63fa",
           "#FFA15A",
           "#19d3f3",
           "#FF6692",
           "#B6E880",
           "#FF97FF",
           "#FECB52"
          ],
          "font": {
           "color": "#2a3f5f"
          },
          "geo": {
           "bgcolor": "white",
           "lakecolor": "white",
           "landcolor": "#E5ECF6",
           "showlakes": true,
           "showland": true,
           "subunitcolor": "white"
          },
          "hoverlabel": {
           "align": "left"
          },
          "hovermode": "closest",
          "mapbox": {
           "style": "light"
          },
          "paper_bgcolor": "white",
          "plot_bgcolor": "#E5ECF6",
          "polar": {
           "angularaxis": {
            "gridcolor": "white",
            "linecolor": "white",
            "ticks": ""
           },
           "bgcolor": "#E5ECF6",
           "radialaxis": {
            "gridcolor": "white",
            "linecolor": "white",
            "ticks": ""
           }
          },
          "scene": {
           "xaxis": {
            "backgroundcolor": "#E5ECF6",
            "gridcolor": "white",
            "gridwidth": 2,
            "linecolor": "white",
            "showbackground": true,
            "ticks": "",
            "zerolinecolor": "white"
           },
           "yaxis": {
            "backgroundcolor": "#E5ECF6",
            "gridcolor": "white",
            "gridwidth": 2,
            "linecolor": "white",
            "showbackground": true,
            "ticks": "",
            "zerolinecolor": "white"
           },
           "zaxis": {
            "backgroundcolor": "#E5ECF6",
            "gridcolor": "white",
            "gridwidth": 2,
            "linecolor": "white",
            "showbackground": true,
            "ticks": "",
            "zerolinecolor": "white"
           }
          },
          "shapedefaults": {
           "line": {
            "color": "#2a3f5f"
           }
          },
          "ternary": {
           "aaxis": {
            "gridcolor": "white",
            "linecolor": "white",
            "ticks": ""
           },
           "baxis": {
            "gridcolor": "white",
            "linecolor": "white",
            "ticks": ""
           },
           "bgcolor": "#E5ECF6",
           "caxis": {
            "gridcolor": "white",
            "linecolor": "white",
            "ticks": ""
           }
          },
          "title": {
           "x": 0.05
          },
          "xaxis": {
           "automargin": true,
           "gridcolor": "white",
           "linecolor": "white",
           "ticks": "",
           "title": {
            "standoff": 15
           },
           "zerolinecolor": "white",
           "zerolinewidth": 2
          },
          "yaxis": {
           "automargin": true,
           "gridcolor": "white",
           "linecolor": "white",
           "ticks": "",
           "title": {
            "standoff": 15
           },
           "zerolinecolor": "white",
           "zerolinewidth": 2
          }
         }
        },
        "xaxis": {
         "anchor": "y",
         "domain": [
          0,
          0.2888888888888889
         ]
        },
        "xaxis2": {
         "anchor": "y2",
         "domain": [
          0.35555555555555557,
          0.6444444444444445
         ]
        },
        "xaxis3": {
         "anchor": "y3",
         "domain": [
          0.7111111111111111,
          1
         ]
        },
        "yaxis": {
         "anchor": "x",
         "domain": [
          0,
          1
         ]
        },
        "yaxis2": {
         "anchor": "x2",
         "domain": [
          0,
          1
         ]
        },
        "yaxis3": {
         "anchor": "x3",
         "domain": [
          0,
          1
         ]
        }
       }
      }
     },
     "metadata": {},
     "output_type": "display_data"
    },
    {
     "name": "stdout",
     "output_type": "stream",
     "text": [
      "satellite\n"
     ]
    },
    {
     "data": {
      "application/vnd.plotly.v1+json": {
       "config": {
        "plotlyServerURL": "https://plot.ly"
       },
       "data": [
        {
         "hoverinfo": [
          "all"
         ],
         "mode": "markers",
         "name": "loss",
         "type": "scatter",
         "x": [
          "2_8",
          "2_8",
          "2_8",
          "2_16",
          "2_16",
          "2_16",
          "3_8",
          "3_8",
          "3_8",
          "3_16",
          "3_16",
          "3_16"
         ],
         "xaxis": "x",
         "y": [
          0.1897766934997831,
          0.19983247982074964,
          0.22142593756347817,
          0.4790504670048699,
          0.3940080191691281,
          0.33193555614367726,
          0.1745362522590527,
          0.19546613598740703,
          0.16388236101668238,
          0.7312579358372402,
          0.27547122887376674,
          0.39882521984952823
         ],
         "yaxis": "y"
        },
        {
         "hoverinfo": [
          "all"
         ],
         "mode": "markers",
         "name": "f1",
         "type": "scatter",
         "x": [
          "2_8",
          "2_8",
          "2_8",
          "2_16",
          "2_16",
          "2_16",
          "3_8",
          "3_8",
          "3_8",
          "3_16",
          "3_16",
          "3_16"
         ],
         "xaxis": "x2",
         "y": [
          0.9565853755018889,
          0.9583816879426947,
          0.9443542318507664,
          0.90683692273328,
          0.9115047561980376,
          0.9201351967188212,
          0.9719569806010654,
          0.9458552189881916,
          0.9696456986323444,
          0.8967772932219676,
          0.9341859321200197,
          0.9157330177695494
         ],
         "yaxis": "y2"
        },
        {
         "hoverinfo": [
          "all"
         ],
         "mode": "markers",
         "name": "time",
         "type": "scatter",
         "x": [
          "2_8",
          "2_8",
          "2_8",
          "2_16",
          "2_16",
          "2_16",
          "3_8",
          "3_8",
          "3_8",
          "3_16",
          "3_16",
          "3_16"
         ],
         "xaxis": "x3",
         "y": [
          1145.6428668498993,
          1523.464614868164,
          739.1888644695282,
          1361.1503148078918,
          2263.8633456230164,
          2889.1186912059784,
          1810.097721338272,
          897.9620935916901,
          1465.4883892536163,
          3522.329246044159,
          2510.36922621727,
          1839.986303806305
         ],
         "yaxis": "y3"
        }
       ],
       "layout": {
        "template": {
         "data": {
          "bar": [
           {
            "error_x": {
             "color": "#2a3f5f"
            },
            "error_y": {
             "color": "#2a3f5f"
            },
            "marker": {
             "line": {
              "color": "#E5ECF6",
              "width": 0.5
             },
             "pattern": {
              "fillmode": "overlay",
              "size": 10,
              "solidity": 0.2
             }
            },
            "type": "bar"
           }
          ],
          "barpolar": [
           {
            "marker": {
             "line": {
              "color": "#E5ECF6",
              "width": 0.5
             },
             "pattern": {
              "fillmode": "overlay",
              "size": 10,
              "solidity": 0.2
             }
            },
            "type": "barpolar"
           }
          ],
          "carpet": [
           {
            "aaxis": {
             "endlinecolor": "#2a3f5f",
             "gridcolor": "white",
             "linecolor": "white",
             "minorgridcolor": "white",
             "startlinecolor": "#2a3f5f"
            },
            "baxis": {
             "endlinecolor": "#2a3f5f",
             "gridcolor": "white",
             "linecolor": "white",
             "minorgridcolor": "white",
             "startlinecolor": "#2a3f5f"
            },
            "type": "carpet"
           }
          ],
          "choropleth": [
           {
            "colorbar": {
             "outlinewidth": 0,
             "ticks": ""
            },
            "type": "choropleth"
           }
          ],
          "contour": [
           {
            "colorbar": {
             "outlinewidth": 0,
             "ticks": ""
            },
            "colorscale": [
             [
              0,
              "#0d0887"
             ],
             [
              0.1111111111111111,
              "#46039f"
             ],
             [
              0.2222222222222222,
              "#7201a8"
             ],
             [
              0.3333333333333333,
              "#9c179e"
             ],
             [
              0.4444444444444444,
              "#bd3786"
             ],
             [
              0.5555555555555556,
              "#d8576b"
             ],
             [
              0.6666666666666666,
              "#ed7953"
             ],
             [
              0.7777777777777778,
              "#fb9f3a"
             ],
             [
              0.8888888888888888,
              "#fdca26"
             ],
             [
              1,
              "#f0f921"
             ]
            ],
            "type": "contour"
           }
          ],
          "contourcarpet": [
           {
            "colorbar": {
             "outlinewidth": 0,
             "ticks": ""
            },
            "type": "contourcarpet"
           }
          ],
          "heatmap": [
           {
            "colorbar": {
             "outlinewidth": 0,
             "ticks": ""
            },
            "colorscale": [
             [
              0,
              "#0d0887"
             ],
             [
              0.1111111111111111,
              "#46039f"
             ],
             [
              0.2222222222222222,
              "#7201a8"
             ],
             [
              0.3333333333333333,
              "#9c179e"
             ],
             [
              0.4444444444444444,
              "#bd3786"
             ],
             [
              0.5555555555555556,
              "#d8576b"
             ],
             [
              0.6666666666666666,
              "#ed7953"
             ],
             [
              0.7777777777777778,
              "#fb9f3a"
             ],
             [
              0.8888888888888888,
              "#fdca26"
             ],
             [
              1,
              "#f0f921"
             ]
            ],
            "type": "heatmap"
           }
          ],
          "heatmapgl": [
           {
            "colorbar": {
             "outlinewidth": 0,
             "ticks": ""
            },
            "colorscale": [
             [
              0,
              "#0d0887"
             ],
             [
              0.1111111111111111,
              "#46039f"
             ],
             [
              0.2222222222222222,
              "#7201a8"
             ],
             [
              0.3333333333333333,
              "#9c179e"
             ],
             [
              0.4444444444444444,
              "#bd3786"
             ],
             [
              0.5555555555555556,
              "#d8576b"
             ],
             [
              0.6666666666666666,
              "#ed7953"
             ],
             [
              0.7777777777777778,
              "#fb9f3a"
             ],
             [
              0.8888888888888888,
              "#fdca26"
             ],
             [
              1,
              "#f0f921"
             ]
            ],
            "type": "heatmapgl"
           }
          ],
          "histogram": [
           {
            "marker": {
             "pattern": {
              "fillmode": "overlay",
              "size": 10,
              "solidity": 0.2
             }
            },
            "type": "histogram"
           }
          ],
          "histogram2d": [
           {
            "colorbar": {
             "outlinewidth": 0,
             "ticks": ""
            },
            "colorscale": [
             [
              0,
              "#0d0887"
             ],
             [
              0.1111111111111111,
              "#46039f"
             ],
             [
              0.2222222222222222,
              "#7201a8"
             ],
             [
              0.3333333333333333,
              "#9c179e"
             ],
             [
              0.4444444444444444,
              "#bd3786"
             ],
             [
              0.5555555555555556,
              "#d8576b"
             ],
             [
              0.6666666666666666,
              "#ed7953"
             ],
             [
              0.7777777777777778,
              "#fb9f3a"
             ],
             [
              0.8888888888888888,
              "#fdca26"
             ],
             [
              1,
              "#f0f921"
             ]
            ],
            "type": "histogram2d"
           }
          ],
          "histogram2dcontour": [
           {
            "colorbar": {
             "outlinewidth": 0,
             "ticks": ""
            },
            "colorscale": [
             [
              0,
              "#0d0887"
             ],
             [
              0.1111111111111111,
              "#46039f"
             ],
             [
              0.2222222222222222,
              "#7201a8"
             ],
             [
              0.3333333333333333,
              "#9c179e"
             ],
             [
              0.4444444444444444,
              "#bd3786"
             ],
             [
              0.5555555555555556,
              "#d8576b"
             ],
             [
              0.6666666666666666,
              "#ed7953"
             ],
             [
              0.7777777777777778,
              "#fb9f3a"
             ],
             [
              0.8888888888888888,
              "#fdca26"
             ],
             [
              1,
              "#f0f921"
             ]
            ],
            "type": "histogram2dcontour"
           }
          ],
          "mesh3d": [
           {
            "colorbar": {
             "outlinewidth": 0,
             "ticks": ""
            },
            "type": "mesh3d"
           }
          ],
          "parcoords": [
           {
            "line": {
             "colorbar": {
              "outlinewidth": 0,
              "ticks": ""
             }
            },
            "type": "parcoords"
           }
          ],
          "pie": [
           {
            "automargin": true,
            "type": "pie"
           }
          ],
          "scatter": [
           {
            "fillpattern": {
             "fillmode": "overlay",
             "size": 10,
             "solidity": 0.2
            },
            "type": "scatter"
           }
          ],
          "scatter3d": [
           {
            "line": {
             "colorbar": {
              "outlinewidth": 0,
              "ticks": ""
             }
            },
            "marker": {
             "colorbar": {
              "outlinewidth": 0,
              "ticks": ""
             }
            },
            "type": "scatter3d"
           }
          ],
          "scattercarpet": [
           {
            "marker": {
             "colorbar": {
              "outlinewidth": 0,
              "ticks": ""
             }
            },
            "type": "scattercarpet"
           }
          ],
          "scattergeo": [
           {
            "marker": {
             "colorbar": {
              "outlinewidth": 0,
              "ticks": ""
             }
            },
            "type": "scattergeo"
           }
          ],
          "scattergl": [
           {
            "marker": {
             "colorbar": {
              "outlinewidth": 0,
              "ticks": ""
             }
            },
            "type": "scattergl"
           }
          ],
          "scattermapbox": [
           {
            "marker": {
             "colorbar": {
              "outlinewidth": 0,
              "ticks": ""
             }
            },
            "type": "scattermapbox"
           }
          ],
          "scatterpolar": [
           {
            "marker": {
             "colorbar": {
              "outlinewidth": 0,
              "ticks": ""
             }
            },
            "type": "scatterpolar"
           }
          ],
          "scatterpolargl": [
           {
            "marker": {
             "colorbar": {
              "outlinewidth": 0,
              "ticks": ""
             }
            },
            "type": "scatterpolargl"
           }
          ],
          "scatterternary": [
           {
            "marker": {
             "colorbar": {
              "outlinewidth": 0,
              "ticks": ""
             }
            },
            "type": "scatterternary"
           }
          ],
          "surface": [
           {
            "colorbar": {
             "outlinewidth": 0,
             "ticks": ""
            },
            "colorscale": [
             [
              0,
              "#0d0887"
             ],
             [
              0.1111111111111111,
              "#46039f"
             ],
             [
              0.2222222222222222,
              "#7201a8"
             ],
             [
              0.3333333333333333,
              "#9c179e"
             ],
             [
              0.4444444444444444,
              "#bd3786"
             ],
             [
              0.5555555555555556,
              "#d8576b"
             ],
             [
              0.6666666666666666,
              "#ed7953"
             ],
             [
              0.7777777777777778,
              "#fb9f3a"
             ],
             [
              0.8888888888888888,
              "#fdca26"
             ],
             [
              1,
              "#f0f921"
             ]
            ],
            "type": "surface"
           }
          ],
          "table": [
           {
            "cells": {
             "fill": {
              "color": "#EBF0F8"
             },
             "line": {
              "color": "white"
             }
            },
            "header": {
             "fill": {
              "color": "#C8D4E3"
             },
             "line": {
              "color": "white"
             }
            },
            "type": "table"
           }
          ]
         },
         "layout": {
          "annotationdefaults": {
           "arrowcolor": "#2a3f5f",
           "arrowhead": 0,
           "arrowwidth": 1
          },
          "autotypenumbers": "strict",
          "coloraxis": {
           "colorbar": {
            "outlinewidth": 0,
            "ticks": ""
           }
          },
          "colorscale": {
           "diverging": [
            [
             0,
             "#8e0152"
            ],
            [
             0.1,
             "#c51b7d"
            ],
            [
             0.2,
             "#de77ae"
            ],
            [
             0.3,
             "#f1b6da"
            ],
            [
             0.4,
             "#fde0ef"
            ],
            [
             0.5,
             "#f7f7f7"
            ],
            [
             0.6,
             "#e6f5d0"
            ],
            [
             0.7,
             "#b8e186"
            ],
            [
             0.8,
             "#7fbc41"
            ],
            [
             0.9,
             "#4d9221"
            ],
            [
             1,
             "#276419"
            ]
           ],
           "sequential": [
            [
             0,
             "#0d0887"
            ],
            [
             0.1111111111111111,
             "#46039f"
            ],
            [
             0.2222222222222222,
             "#7201a8"
            ],
            [
             0.3333333333333333,
             "#9c179e"
            ],
            [
             0.4444444444444444,
             "#bd3786"
            ],
            [
             0.5555555555555556,
             "#d8576b"
            ],
            [
             0.6666666666666666,
             "#ed7953"
            ],
            [
             0.7777777777777778,
             "#fb9f3a"
            ],
            [
             0.8888888888888888,
             "#fdca26"
            ],
            [
             1,
             "#f0f921"
            ]
           ],
           "sequentialminus": [
            [
             0,
             "#0d0887"
            ],
            [
             0.1111111111111111,
             "#46039f"
            ],
            [
             0.2222222222222222,
             "#7201a8"
            ],
            [
             0.3333333333333333,
             "#9c179e"
            ],
            [
             0.4444444444444444,
             "#bd3786"
            ],
            [
             0.5555555555555556,
             "#d8576b"
            ],
            [
             0.6666666666666666,
             "#ed7953"
            ],
            [
             0.7777777777777778,
             "#fb9f3a"
            ],
            [
             0.8888888888888888,
             "#fdca26"
            ],
            [
             1,
             "#f0f921"
            ]
           ]
          },
          "colorway": [
           "#636efa",
           "#EF553B",
           "#00cc96",
           "#ab63fa",
           "#FFA15A",
           "#19d3f3",
           "#FF6692",
           "#B6E880",
           "#FF97FF",
           "#FECB52"
          ],
          "font": {
           "color": "#2a3f5f"
          },
          "geo": {
           "bgcolor": "white",
           "lakecolor": "white",
           "landcolor": "#E5ECF6",
           "showlakes": true,
           "showland": true,
           "subunitcolor": "white"
          },
          "hoverlabel": {
           "align": "left"
          },
          "hovermode": "closest",
          "mapbox": {
           "style": "light"
          },
          "paper_bgcolor": "white",
          "plot_bgcolor": "#E5ECF6",
          "polar": {
           "angularaxis": {
            "gridcolor": "white",
            "linecolor": "white",
            "ticks": ""
           },
           "bgcolor": "#E5ECF6",
           "radialaxis": {
            "gridcolor": "white",
            "linecolor": "white",
            "ticks": ""
           }
          },
          "scene": {
           "xaxis": {
            "backgroundcolor": "#E5ECF6",
            "gridcolor": "white",
            "gridwidth": 2,
            "linecolor": "white",
            "showbackground": true,
            "ticks": "",
            "zerolinecolor": "white"
           },
           "yaxis": {
            "backgroundcolor": "#E5ECF6",
            "gridcolor": "white",
            "gridwidth": 2,
            "linecolor": "white",
            "showbackground": true,
            "ticks": "",
            "zerolinecolor": "white"
           },
           "zaxis": {
            "backgroundcolor": "#E5ECF6",
            "gridcolor": "white",
            "gridwidth": 2,
            "linecolor": "white",
            "showbackground": true,
            "ticks": "",
            "zerolinecolor": "white"
           }
          },
          "shapedefaults": {
           "line": {
            "color": "#2a3f5f"
           }
          },
          "ternary": {
           "aaxis": {
            "gridcolor": "white",
            "linecolor": "white",
            "ticks": ""
           },
           "baxis": {
            "gridcolor": "white",
            "linecolor": "white",
            "ticks": ""
           },
           "bgcolor": "#E5ECF6",
           "caxis": {
            "gridcolor": "white",
            "linecolor": "white",
            "ticks": ""
           }
          },
          "title": {
           "x": 0.05
          },
          "xaxis": {
           "automargin": true,
           "gridcolor": "white",
           "linecolor": "white",
           "ticks": "",
           "title": {
            "standoff": 15
           },
           "zerolinecolor": "white",
           "zerolinewidth": 2
          },
          "yaxis": {
           "automargin": true,
           "gridcolor": "white",
           "linecolor": "white",
           "ticks": "",
           "title": {
            "standoff": 15
           },
           "zerolinecolor": "white",
           "zerolinewidth": 2
          }
         }
        },
        "xaxis": {
         "anchor": "y",
         "domain": [
          0,
          0.2888888888888889
         ]
        },
        "xaxis2": {
         "anchor": "y2",
         "domain": [
          0.35555555555555557,
          0.6444444444444445
         ]
        },
        "xaxis3": {
         "anchor": "y3",
         "domain": [
          0.7111111111111111,
          1
         ]
        },
        "yaxis": {
         "anchor": "x",
         "domain": [
          0,
          1
         ]
        },
        "yaxis2": {
         "anchor": "x2",
         "domain": [
          0,
          1
         ]
        },
        "yaxis3": {
         "anchor": "x3",
         "domain": [
          0,
          1
         ]
        }
       }
      }
     },
     "metadata": {},
     "output_type": "display_data"
    },
    {
     "name": "stdout",
     "output_type": "stream",
     "text": [
      "rover\n"
     ]
    },
    {
     "data": {
      "application/vnd.plotly.v1+json": {
       "config": {
        "plotlyServerURL": "https://plot.ly"
       },
       "data": [
        {
         "hoverinfo": [
          "all"
         ],
         "mode": "markers",
         "name": "loss",
         "type": "scatter",
         "x": [
          "2_8",
          "2_8",
          "2_8",
          "2_16",
          "2_16",
          "2_16",
          "3_8",
          "3_8",
          "3_8",
          "3_16"
         ],
         "xaxis": "x",
         "y": [
          0.019885807707895133,
          0.01960129927529278,
          0.01978237322842073,
          0.023700273823794436,
          0.024629032902492406,
          0.019363026479157018,
          0.019310105966610234,
          0.019924685150869002,
          0.019139935198199048,
          0.01862905772395863
         ],
         "yaxis": "y"
        },
        {
         "hoverinfo": [
          "all"
         ],
         "mode": "markers",
         "name": "f1",
         "type": "scatter",
         "x": [
          "2_8",
          "2_8",
          "2_8",
          "2_16",
          "2_16",
          "2_16",
          "3_8",
          "3_8",
          "3_8",
          "3_16"
         ],
         "xaxis": "x2",
         "y": [
          0.9999190829399865,
          1,
          0.9999460567483008,
          0.9999190873047982,
          0.9998381877022654,
          0.9998381527837721,
          0.9999730291015994,
          1,
          0.9999190829399865,
          0.9998651527818981
         ],
         "yaxis": "y2"
        },
        {
         "hoverinfo": [
          "all"
         ],
         "mode": "markers",
         "name": "time",
         "type": "scatter",
         "x": [
          "2_8",
          "2_8",
          "2_8",
          "2_16",
          "2_16",
          "2_16",
          "3_8",
          "3_8",
          "3_8",
          "3_16"
         ],
         "xaxis": "x3",
         "y": [
          518.5318398475647,
          302.8838894367218,
          307.8385124206543,
          620.2730479240417,
          637.615725517273,
          607.708310842514,
          384.1784312725067,
          395.07270526885986,
          419.9992036819458,
          815.3227319717407
         ],
         "yaxis": "y3"
        }
       ],
       "layout": {
        "template": {
         "data": {
          "bar": [
           {
            "error_x": {
             "color": "#2a3f5f"
            },
            "error_y": {
             "color": "#2a3f5f"
            },
            "marker": {
             "line": {
              "color": "#E5ECF6",
              "width": 0.5
             },
             "pattern": {
              "fillmode": "overlay",
              "size": 10,
              "solidity": 0.2
             }
            },
            "type": "bar"
           }
          ],
          "barpolar": [
           {
            "marker": {
             "line": {
              "color": "#E5ECF6",
              "width": 0.5
             },
             "pattern": {
              "fillmode": "overlay",
              "size": 10,
              "solidity": 0.2
             }
            },
            "type": "barpolar"
           }
          ],
          "carpet": [
           {
            "aaxis": {
             "endlinecolor": "#2a3f5f",
             "gridcolor": "white",
             "linecolor": "white",
             "minorgridcolor": "white",
             "startlinecolor": "#2a3f5f"
            },
            "baxis": {
             "endlinecolor": "#2a3f5f",
             "gridcolor": "white",
             "linecolor": "white",
             "minorgridcolor": "white",
             "startlinecolor": "#2a3f5f"
            },
            "type": "carpet"
           }
          ],
          "choropleth": [
           {
            "colorbar": {
             "outlinewidth": 0,
             "ticks": ""
            },
            "type": "choropleth"
           }
          ],
          "contour": [
           {
            "colorbar": {
             "outlinewidth": 0,
             "ticks": ""
            },
            "colorscale": [
             [
              0,
              "#0d0887"
             ],
             [
              0.1111111111111111,
              "#46039f"
             ],
             [
              0.2222222222222222,
              "#7201a8"
             ],
             [
              0.3333333333333333,
              "#9c179e"
             ],
             [
              0.4444444444444444,
              "#bd3786"
             ],
             [
              0.5555555555555556,
              "#d8576b"
             ],
             [
              0.6666666666666666,
              "#ed7953"
             ],
             [
              0.7777777777777778,
              "#fb9f3a"
             ],
             [
              0.8888888888888888,
              "#fdca26"
             ],
             [
              1,
              "#f0f921"
             ]
            ],
            "type": "contour"
           }
          ],
          "contourcarpet": [
           {
            "colorbar": {
             "outlinewidth": 0,
             "ticks": ""
            },
            "type": "contourcarpet"
           }
          ],
          "heatmap": [
           {
            "colorbar": {
             "outlinewidth": 0,
             "ticks": ""
            },
            "colorscale": [
             [
              0,
              "#0d0887"
             ],
             [
              0.1111111111111111,
              "#46039f"
             ],
             [
              0.2222222222222222,
              "#7201a8"
             ],
             [
              0.3333333333333333,
              "#9c179e"
             ],
             [
              0.4444444444444444,
              "#bd3786"
             ],
             [
              0.5555555555555556,
              "#d8576b"
             ],
             [
              0.6666666666666666,
              "#ed7953"
             ],
             [
              0.7777777777777778,
              "#fb9f3a"
             ],
             [
              0.8888888888888888,
              "#fdca26"
             ],
             [
              1,
              "#f0f921"
             ]
            ],
            "type": "heatmap"
           }
          ],
          "heatmapgl": [
           {
            "colorbar": {
             "outlinewidth": 0,
             "ticks": ""
            },
            "colorscale": [
             [
              0,
              "#0d0887"
             ],
             [
              0.1111111111111111,
              "#46039f"
             ],
             [
              0.2222222222222222,
              "#7201a8"
             ],
             [
              0.3333333333333333,
              "#9c179e"
             ],
             [
              0.4444444444444444,
              "#bd3786"
             ],
             [
              0.5555555555555556,
              "#d8576b"
             ],
             [
              0.6666666666666666,
              "#ed7953"
             ],
             [
              0.7777777777777778,
              "#fb9f3a"
             ],
             [
              0.8888888888888888,
              "#fdca26"
             ],
             [
              1,
              "#f0f921"
             ]
            ],
            "type": "heatmapgl"
           }
          ],
          "histogram": [
           {
            "marker": {
             "pattern": {
              "fillmode": "overlay",
              "size": 10,
              "solidity": 0.2
             }
            },
            "type": "histogram"
           }
          ],
          "histogram2d": [
           {
            "colorbar": {
             "outlinewidth": 0,
             "ticks": ""
            },
            "colorscale": [
             [
              0,
              "#0d0887"
             ],
             [
              0.1111111111111111,
              "#46039f"
             ],
             [
              0.2222222222222222,
              "#7201a8"
             ],
             [
              0.3333333333333333,
              "#9c179e"
             ],
             [
              0.4444444444444444,
              "#bd3786"
             ],
             [
              0.5555555555555556,
              "#d8576b"
             ],
             [
              0.6666666666666666,
              "#ed7953"
             ],
             [
              0.7777777777777778,
              "#fb9f3a"
             ],
             [
              0.8888888888888888,
              "#fdca26"
             ],
             [
              1,
              "#f0f921"
             ]
            ],
            "type": "histogram2d"
           }
          ],
          "histogram2dcontour": [
           {
            "colorbar": {
             "outlinewidth": 0,
             "ticks": ""
            },
            "colorscale": [
             [
              0,
              "#0d0887"
             ],
             [
              0.1111111111111111,
              "#46039f"
             ],
             [
              0.2222222222222222,
              "#7201a8"
             ],
             [
              0.3333333333333333,
              "#9c179e"
             ],
             [
              0.4444444444444444,
              "#bd3786"
             ],
             [
              0.5555555555555556,
              "#d8576b"
             ],
             [
              0.6666666666666666,
              "#ed7953"
             ],
             [
              0.7777777777777778,
              "#fb9f3a"
             ],
             [
              0.8888888888888888,
              "#fdca26"
             ],
             [
              1,
              "#f0f921"
             ]
            ],
            "type": "histogram2dcontour"
           }
          ],
          "mesh3d": [
           {
            "colorbar": {
             "outlinewidth": 0,
             "ticks": ""
            },
            "type": "mesh3d"
           }
          ],
          "parcoords": [
           {
            "line": {
             "colorbar": {
              "outlinewidth": 0,
              "ticks": ""
             }
            },
            "type": "parcoords"
           }
          ],
          "pie": [
           {
            "automargin": true,
            "type": "pie"
           }
          ],
          "scatter": [
           {
            "fillpattern": {
             "fillmode": "overlay",
             "size": 10,
             "solidity": 0.2
            },
            "type": "scatter"
           }
          ],
          "scatter3d": [
           {
            "line": {
             "colorbar": {
              "outlinewidth": 0,
              "ticks": ""
             }
            },
            "marker": {
             "colorbar": {
              "outlinewidth": 0,
              "ticks": ""
             }
            },
            "type": "scatter3d"
           }
          ],
          "scattercarpet": [
           {
            "marker": {
             "colorbar": {
              "outlinewidth": 0,
              "ticks": ""
             }
            },
            "type": "scattercarpet"
           }
          ],
          "scattergeo": [
           {
            "marker": {
             "colorbar": {
              "outlinewidth": 0,
              "ticks": ""
             }
            },
            "type": "scattergeo"
           }
          ],
          "scattergl": [
           {
            "marker": {
             "colorbar": {
              "outlinewidth": 0,
              "ticks": ""
             }
            },
            "type": "scattergl"
           }
          ],
          "scattermapbox": [
           {
            "marker": {
             "colorbar": {
              "outlinewidth": 0,
              "ticks": ""
             }
            },
            "type": "scattermapbox"
           }
          ],
          "scatterpolar": [
           {
            "marker": {
             "colorbar": {
              "outlinewidth": 0,
              "ticks": ""
             }
            },
            "type": "scatterpolar"
           }
          ],
          "scatterpolargl": [
           {
            "marker": {
             "colorbar": {
              "outlinewidth": 0,
              "ticks": ""
             }
            },
            "type": "scatterpolargl"
           }
          ],
          "scatterternary": [
           {
            "marker": {
             "colorbar": {
              "outlinewidth": 0,
              "ticks": ""
             }
            },
            "type": "scatterternary"
           }
          ],
          "surface": [
           {
            "colorbar": {
             "outlinewidth": 0,
             "ticks": ""
            },
            "colorscale": [
             [
              0,
              "#0d0887"
             ],
             [
              0.1111111111111111,
              "#46039f"
             ],
             [
              0.2222222222222222,
              "#7201a8"
             ],
             [
              0.3333333333333333,
              "#9c179e"
             ],
             [
              0.4444444444444444,
              "#bd3786"
             ],
             [
              0.5555555555555556,
              "#d8576b"
             ],
             [
              0.6666666666666666,
              "#ed7953"
             ],
             [
              0.7777777777777778,
              "#fb9f3a"
             ],
             [
              0.8888888888888888,
              "#fdca26"
             ],
             [
              1,
              "#f0f921"
             ]
            ],
            "type": "surface"
           }
          ],
          "table": [
           {
            "cells": {
             "fill": {
              "color": "#EBF0F8"
             },
             "line": {
              "color": "white"
             }
            },
            "header": {
             "fill": {
              "color": "#C8D4E3"
             },
             "line": {
              "color": "white"
             }
            },
            "type": "table"
           }
          ]
         },
         "layout": {
          "annotationdefaults": {
           "arrowcolor": "#2a3f5f",
           "arrowhead": 0,
           "arrowwidth": 1
          },
          "autotypenumbers": "strict",
          "coloraxis": {
           "colorbar": {
            "outlinewidth": 0,
            "ticks": ""
           }
          },
          "colorscale": {
           "diverging": [
            [
             0,
             "#8e0152"
            ],
            [
             0.1,
             "#c51b7d"
            ],
            [
             0.2,
             "#de77ae"
            ],
            [
             0.3,
             "#f1b6da"
            ],
            [
             0.4,
             "#fde0ef"
            ],
            [
             0.5,
             "#f7f7f7"
            ],
            [
             0.6,
             "#e6f5d0"
            ],
            [
             0.7,
             "#b8e186"
            ],
            [
             0.8,
             "#7fbc41"
            ],
            [
             0.9,
             "#4d9221"
            ],
            [
             1,
             "#276419"
            ]
           ],
           "sequential": [
            [
             0,
             "#0d0887"
            ],
            [
             0.1111111111111111,
             "#46039f"
            ],
            [
             0.2222222222222222,
             "#7201a8"
            ],
            [
             0.3333333333333333,
             "#9c179e"
            ],
            [
             0.4444444444444444,
             "#bd3786"
            ],
            [
             0.5555555555555556,
             "#d8576b"
            ],
            [
             0.6666666666666666,
             "#ed7953"
            ],
            [
             0.7777777777777778,
             "#fb9f3a"
            ],
            [
             0.8888888888888888,
             "#fdca26"
            ],
            [
             1,
             "#f0f921"
            ]
           ],
           "sequentialminus": [
            [
             0,
             "#0d0887"
            ],
            [
             0.1111111111111111,
             "#46039f"
            ],
            [
             0.2222222222222222,
             "#7201a8"
            ],
            [
             0.3333333333333333,
             "#9c179e"
            ],
            [
             0.4444444444444444,
             "#bd3786"
            ],
            [
             0.5555555555555556,
             "#d8576b"
            ],
            [
             0.6666666666666666,
             "#ed7953"
            ],
            [
             0.7777777777777778,
             "#fb9f3a"
            ],
            [
             0.8888888888888888,
             "#fdca26"
            ],
            [
             1,
             "#f0f921"
            ]
           ]
          },
          "colorway": [
           "#636efa",
           "#EF553B",
           "#00cc96",
           "#ab63fa",
           "#FFA15A",
           "#19d3f3",
           "#FF6692",
           "#B6E880",
           "#FF97FF",
           "#FECB52"
          ],
          "font": {
           "color": "#2a3f5f"
          },
          "geo": {
           "bgcolor": "white",
           "lakecolor": "white",
           "landcolor": "#E5ECF6",
           "showlakes": true,
           "showland": true,
           "subunitcolor": "white"
          },
          "hoverlabel": {
           "align": "left"
          },
          "hovermode": "closest",
          "mapbox": {
           "style": "light"
          },
          "paper_bgcolor": "white",
          "plot_bgcolor": "#E5ECF6",
          "polar": {
           "angularaxis": {
            "gridcolor": "white",
            "linecolor": "white",
            "ticks": ""
           },
           "bgcolor": "#E5ECF6",
           "radialaxis": {
            "gridcolor": "white",
            "linecolor": "white",
            "ticks": ""
           }
          },
          "scene": {
           "xaxis": {
            "backgroundcolor": "#E5ECF6",
            "gridcolor": "white",
            "gridwidth": 2,
            "linecolor": "white",
            "showbackground": true,
            "ticks": "",
            "zerolinecolor": "white"
           },
           "yaxis": {
            "backgroundcolor": "#E5ECF6",
            "gridcolor": "white",
            "gridwidth": 2,
            "linecolor": "white",
            "showbackground": true,
            "ticks": "",
            "zerolinecolor": "white"
           },
           "zaxis": {
            "backgroundcolor": "#E5ECF6",
            "gridcolor": "white",
            "gridwidth": 2,
            "linecolor": "white",
            "showbackground": true,
            "ticks": "",
            "zerolinecolor": "white"
           }
          },
          "shapedefaults": {
           "line": {
            "color": "#2a3f5f"
           }
          },
          "ternary": {
           "aaxis": {
            "gridcolor": "white",
            "linecolor": "white",
            "ticks": ""
           },
           "baxis": {
            "gridcolor": "white",
            "linecolor": "white",
            "ticks": ""
           },
           "bgcolor": "#E5ECF6",
           "caxis": {
            "gridcolor": "white",
            "linecolor": "white",
            "ticks": ""
           }
          },
          "title": {
           "x": 0.05
          },
          "xaxis": {
           "automargin": true,
           "gridcolor": "white",
           "linecolor": "white",
           "ticks": "",
           "title": {
            "standoff": 15
           },
           "zerolinecolor": "white",
           "zerolinewidth": 2
          },
          "yaxis": {
           "automargin": true,
           "gridcolor": "white",
           "linecolor": "white",
           "ticks": "",
           "title": {
            "standoff": 15
           },
           "zerolinecolor": "white",
           "zerolinewidth": 2
          }
         }
        },
        "xaxis": {
         "anchor": "y",
         "domain": [
          0,
          0.2888888888888889
         ]
        },
        "xaxis2": {
         "anchor": "y2",
         "domain": [
          0.35555555555555557,
          0.6444444444444445
         ]
        },
        "xaxis3": {
         "anchor": "y3",
         "domain": [
          0.7111111111111111,
          1
         ]
        },
        "yaxis": {
         "anchor": "x",
         "domain": [
          0,
          1
         ]
        },
        "yaxis2": {
         "anchor": "x2",
         "domain": [
          0,
          1
         ]
        },
        "yaxis3": {
         "anchor": "x3",
         "domain": [
          0,
          1
         ]
        }
       }
      }
     },
     "metadata": {},
     "output_type": "display_data"
    }
   ],
   "source": [
    "visualise_train(layers=layers, dimensions=dimensions)"
   ]
  },
  {
   "cell_type": "markdown",
   "metadata": {},
   "source": [
    "# Plan length plots"
   ]
  },
  {
   "cell_type": "code",
   "execution_count": 3,
   "metadata": {},
   "outputs": [],
   "source": [
    "plot_domains(\"plan_length\", log_y=0, choices=choices, layers=layers, dimensions=dimensions)"
   ]
  },
  {
   "cell_type": "markdown",
   "metadata": {},
   "source": [
    "# Cycle plots"
   ]
  },
  {
   "cell_type": "code",
   "execution_count": null,
   "metadata": {},
   "outputs": [
    {
     "name": "stdout",
     "output_type": "stream",
     "text": [
      "blocksworld\n"
     ]
    },
    {
     "data": {
      "application/vnd.plotly.v1+json": {
       "config": {
        "plotlyServerURL": "https://plot.ly"
       },
       "data": [
        {
         "error_y": {
          "array": [
           0,
           0,
           0,
           0,
           0,
           0,
           0,
           0,
           0,
           0,
           0,
           0,
           0,
           0,
           0,
           0,
           0,
           0,
           0,
           0,
           0,
           0,
           0,
           0,
           0,
           0,
           0,
           0,
           0,
           0
          ]
         },
         "hovertemplate": "solver=baseline<br>type=bounds<br>difficulty=0<br>problem=%{x}<br>cycles_mean=%{y}<extra></extra>",
         "legendgroup": "baseline, bounds",
         "line": {
          "color": "#636efa",
          "dash": "solid"
         },
         "marker": {
          "symbol": "circle"
         },
         "mode": "lines",
         "name": "baseline, bounds",
         "orientation": "v",
         "showlegend": true,
         "type": "scatter",
         "x": [
          "0_01",
          "0_02",
          "0_03",
          "0_04",
          "0_05",
          "0_06",
          "0_07",
          "0_08",
          "0_09",
          "0_10",
          "0_11",
          "0_12",
          "0_13",
          "0_14",
          "0_15",
          "0_16",
          "0_17",
          "0_18",
          "0_19",
          "0_20",
          "0_21",
          "0_22",
          "0_23",
          "0_24",
          "0_25",
          "0_26",
          "0_27",
          "0_28",
          "0_29",
          "0_30"
         ],
         "xaxis": "x",
         "y": [
          0,
          0,
          0,
          0,
          0,
          0,
          0,
          0,
          0,
          0,
          0,
          0,
          0,
          0,
          0,
          0,
          0,
          0,
          0,
          0,
          0,
          0,
          0,
          0,
          0,
          0,
          0,
          0,
          0,
          0
         ],
         "yaxis": "y"
        },
        {
         "error_y": {
          "array": [
           0,
           0,
           0,
           0,
           0,
           0,
           0,
           0,
           0,
           0,
           0,
           0,
           0,
           0,
           0,
           0,
           0,
           0,
           0,
           0,
           0,
           0,
           0,
           0,
           0,
           0,
           0,
           0,
           0,
           0
          ]
         },
         "hovertemplate": "solver=baseline<br>type=bounds<br>difficulty=1<br>problem=%{x}<br>cycles_mean=%{y}<extra></extra>",
         "legendgroup": "baseline, bounds",
         "line": {
          "color": "#636efa",
          "dash": "solid"
         },
         "marker": {
          "symbol": "circle"
         },
         "mode": "lines",
         "name": "baseline, bounds",
         "orientation": "v",
         "showlegend": false,
         "type": "scatter",
         "x": [
          "1_01",
          "1_02",
          "1_03",
          "1_04",
          "1_05",
          "1_06",
          "1_07",
          "1_08",
          "1_09",
          "1_10",
          "1_11",
          "1_12",
          "1_13",
          "1_14",
          "1_15",
          "1_16",
          "1_17",
          "1_18",
          "1_19",
          "1_20",
          "1_21",
          "1_22",
          "1_23",
          "1_24",
          "1_25",
          "1_26",
          "1_27",
          "1_28",
          "1_29",
          "1_30"
         ],
         "xaxis": "x2",
         "y": [
          0,
          0,
          0,
          0,
          0,
          0,
          0,
          0,
          0,
          0,
          0,
          0,
          0,
          0,
          0,
          0,
          0,
          0,
          0,
          0,
          0,
          0,
          0,
          0,
          0,
          0,
          0,
          0,
          0,
          0
         ],
         "yaxis": "y2"
        },
        {
         "error_y": {
          "array": [
           null,
           null,
           null,
           null,
           null,
           null,
           null,
           null,
           null,
           null,
           null,
           null,
           null,
           null,
           null,
           null,
           null,
           null,
           null,
           null,
           null,
           null,
           null,
           null,
           null,
           null,
           null,
           null,
           null,
           null
          ]
         },
         "hovertemplate": "solver=optimal<br>type=bounds<br>difficulty=0<br>problem=%{x}<br>cycles_mean=%{y}<extra></extra>",
         "legendgroup": "optimal, bounds",
         "line": {
          "color": "#EF553B",
          "dash": "solid"
         },
         "marker": {
          "symbol": "circle"
         },
         "mode": "lines",
         "name": "optimal, bounds",
         "orientation": "v",
         "showlegend": true,
         "type": "scatter",
         "x": [
          "0_01",
          "0_02",
          "0_03",
          "0_04",
          "0_05",
          "0_06",
          "0_07",
          "0_08",
          "0_09",
          "0_10",
          "0_11",
          "0_12",
          "0_13",
          "0_14",
          "0_15",
          "0_16",
          "0_17",
          "0_18",
          "0_19",
          "0_20",
          "0_21",
          "0_22",
          "0_23",
          "0_24",
          "0_25",
          "0_26",
          "0_27",
          "0_28",
          "0_29",
          "0_30"
         ],
         "xaxis": "x",
         "y": [
          0,
          0,
          0,
          0,
          0,
          0,
          0,
          0,
          0,
          0,
          0,
          0,
          0,
          0,
          0,
          0,
          0,
          0,
          0,
          0,
          0,
          0,
          0,
          0,
          0,
          0,
          0,
          0,
          0,
          0
         ],
         "yaxis": "y"
        },
        {
         "error_y": {
          "array": [
           null,
           null,
           null,
           null,
           null,
           null,
           null,
           null,
           null,
           null,
           null,
           null,
           null,
           null,
           null,
           null,
           null,
           null,
           null,
           null,
           null,
           null,
           null,
           null,
           null,
           null,
           null,
           null,
           null,
           null
          ]
         },
         "hovertemplate": "solver=optimal<br>type=bounds<br>difficulty=1<br>problem=%{x}<br>cycles_mean=%{y}<extra></extra>",
         "legendgroup": "optimal, bounds",
         "line": {
          "color": "#EF553B",
          "dash": "solid"
         },
         "marker": {
          "symbol": "circle"
         },
         "mode": "lines",
         "name": "optimal, bounds",
         "orientation": "v",
         "showlegend": false,
         "type": "scatter",
         "x": [
          "1_01",
          "1_02",
          "1_03",
          "1_04",
          "1_05",
          "1_06",
          "1_07",
          "1_08",
          "1_09",
          "1_10",
          "1_11",
          "1_12",
          "1_13",
          "1_14",
          "1_15",
          "1_16",
          "1_17",
          "1_18",
          "1_19",
          "1_20",
          "1_21",
          "1_22",
          "1_23",
          "1_24",
          "1_25",
          "1_26",
          "1_27",
          "1_28",
          "1_29",
          "1_30"
         ],
         "xaxis": "x2",
         "y": [
          0,
          0,
          0,
          0,
          0,
          0,
          0,
          0,
          0,
          0,
          0,
          0,
          0,
          0,
          0,
          0,
          0,
          0,
          0,
          0,
          0,
          0,
          0,
          0,
          0,
          0,
          0,
          0,
          0,
          0
         ],
         "yaxis": "y2"
        },
        {
         "error_y": {
          "array": [
           null,
           null,
           null,
           null,
           null,
           null,
           null,
           null,
           null,
           null,
           null,
           null,
           null,
           null,
           null,
           null,
           null,
           null,
           null,
           null,
           null,
           null,
           null,
           null,
           null,
           null,
           null,
           null,
           null,
           null
          ]
         },
         "hovertemplate": "solver=lama<br>type=bounds<br>difficulty=0<br>problem=%{x}<br>cycles_mean=%{y}<extra></extra>",
         "legendgroup": "lama, bounds",
         "line": {
          "color": "#00cc96",
          "dash": "solid"
         },
         "marker": {
          "symbol": "circle"
         },
         "mode": "lines",
         "name": "lama, bounds",
         "orientation": "v",
         "showlegend": true,
         "type": "scatter",
         "x": [
          "0_01",
          "0_02",
          "0_03",
          "0_04",
          "0_05",
          "0_06",
          "0_07",
          "0_08",
          "0_09",
          "0_10",
          "0_11",
          "0_12",
          "0_13",
          "0_14",
          "0_15",
          "0_16",
          "0_17",
          "0_18",
          "0_19",
          "0_20",
          "0_21",
          "0_22",
          "0_23",
          "0_24",
          "0_25",
          "0_26",
          "0_27",
          "0_28",
          "0_29",
          "0_30"
         ],
         "xaxis": "x",
         "y": [
          0,
          0,
          0,
          0,
          0,
          0,
          0,
          0,
          0,
          0,
          0,
          0,
          0,
          0,
          0,
          0,
          0,
          0,
          0,
          0,
          0,
          0,
          0,
          0,
          0,
          0,
          0,
          0,
          0,
          0
         ],
         "yaxis": "y"
        },
        {
         "error_y": {
          "array": [
           null,
           null,
           null,
           null,
           null,
           null,
           null,
           null,
           null,
           null,
           null,
           null,
           null,
           null,
           null,
           null,
           null,
           null,
           null,
           null,
           null,
           null,
           null,
           null,
           null,
           null,
           null,
           null,
           null,
           null
          ]
         },
         "hovertemplate": "solver=lama<br>type=bounds<br>difficulty=1<br>problem=%{x}<br>cycles_mean=%{y}<extra></extra>",
         "legendgroup": "lama, bounds",
         "line": {
          "color": "#00cc96",
          "dash": "solid"
         },
         "marker": {
          "symbol": "circle"
         },
         "mode": "lines",
         "name": "lama, bounds",
         "orientation": "v",
         "showlegend": false,
         "type": "scatter",
         "x": [
          "1_01",
          "1_02",
          "1_03",
          "1_04",
          "1_05",
          "1_06",
          "1_07",
          "1_08",
          "1_09",
          "1_10",
          "1_11",
          "1_12",
          "1_13",
          "1_14",
          "1_15",
          "1_16",
          "1_17",
          "1_18",
          "1_19",
          "1_20",
          "1_21",
          "1_22",
          "1_23",
          "1_24",
          "1_25",
          "1_26",
          "1_27",
          "1_28",
          "1_29",
          "1_30"
         ],
         "xaxis": "x2",
         "y": [
          0,
          0,
          0,
          0,
          0,
          0,
          0,
          0,
          0,
          0,
          0,
          0,
          0,
          0,
          0,
          0,
          0,
          0,
          0,
          0,
          0,
          0,
          0,
          0,
          0,
          0,
          0,
          0,
          0,
          0
         ],
         "yaxis": "y2"
        },
        {
         "error_y": {
          "array": [
           0,
           0,
           0,
           0,
           0,
           0,
           0,
           0,
           0,
           0,
           0,
           0,
           0,
           0,
           0,
           0,
           0,
           0,
           0,
           0,
           0,
           0,
           0,
           0,
           0,
           0,
           0,
           0,
           0,
           0
          ]
         },
         "hovertemplate": "solver=L2_D8_best<br>type=lrnn_best<br>difficulty=0<br>problem=%{x}<br>cycles_mean=%{y}<extra></extra>",
         "legendgroup": "L2_D8_best, lrnn_best",
         "line": {
          "color": "#ab63fa",
          "dash": "dot"
         },
         "marker": {
          "symbol": "circle"
         },
         "mode": "lines",
         "name": "L2_D8_best, lrnn_best",
         "orientation": "v",
         "showlegend": true,
         "type": "scatter",
         "x": [
          "0_01",
          "0_02",
          "0_03",
          "0_04",
          "0_05",
          "0_06",
          "0_07",
          "0_08",
          "0_09",
          "0_10",
          "0_11",
          "0_12",
          "0_13",
          "0_14",
          "0_15",
          "0_16",
          "0_17",
          "0_18",
          "0_19",
          "0_20",
          "0_21",
          "0_22",
          "0_23",
          "0_24",
          "0_25",
          "0_26",
          "0_27",
          "0_28",
          "0_29",
          "0_30"
         ],
         "xaxis": "x",
         "y": [
          0,
          0,
          0,
          0,
          0,
          0,
          0,
          0,
          0,
          0,
          0,
          0,
          0,
          0,
          0,
          0,
          0,
          0,
          0,
          0,
          0,
          0,
          0,
          0,
          0,
          0,
          0,
          0,
          0,
          0
         ],
         "yaxis": "y"
        },
        {
         "error_y": {
          "array": [
           0,
           0,
           0,
           0,
           0,
           0,
           0,
           0,
           0,
           0,
           0,
           0,
           0,
           0,
           0,
           0,
           0,
           0,
           0,
           0,
           0,
           0,
           0,
           0,
           0,
           0,
           0,
           0,
           0,
           0
          ]
         },
         "hovertemplate": "solver=L2_D8_best<br>type=lrnn_best<br>difficulty=1<br>problem=%{x}<br>cycles_mean=%{y}<extra></extra>",
         "legendgroup": "L2_D8_best, lrnn_best",
         "line": {
          "color": "#ab63fa",
          "dash": "dot"
         },
         "marker": {
          "symbol": "circle"
         },
         "mode": "lines",
         "name": "L2_D8_best, lrnn_best",
         "orientation": "v",
         "showlegend": false,
         "type": "scatter",
         "x": [
          "1_01",
          "1_02",
          "1_03",
          "1_04",
          "1_05",
          "1_06",
          "1_07",
          "1_08",
          "1_09",
          "1_10",
          "1_11",
          "1_12",
          "1_13",
          "1_14",
          "1_15",
          "1_16",
          "1_17",
          "1_18",
          "1_19",
          "1_20",
          "1_21",
          "1_22",
          "1_23",
          "1_24",
          "1_25",
          "1_26",
          "1_27",
          "1_28",
          "1_29",
          "1_30"
         ],
         "xaxis": "x2",
         "y": [
          0,
          0,
          0,
          0,
          0,
          0,
          0,
          0,
          0,
          0,
          0,
          0,
          0,
          0,
          0,
          0,
          0,
          0,
          0,
          0,
          0,
          0,
          0,
          0,
          0,
          0,
          0,
          0,
          0,
          0
         ],
         "yaxis": "y2"
        },
        {
         "error_y": {
          "array": [
           0,
           0,
           0,
           0,
           0,
           0,
           0,
           0,
           0,
           0,
           0,
           0,
           0,
           0,
           0,
           0,
           0,
           0,
           0,
           0,
           0,
           0,
           0,
           0,
           0,
           0,
           0,
           0,
           0,
           0
          ]
         },
         "hovertemplate": "solver=L2_D16_best<br>type=lrnn_best<br>difficulty=0<br>problem=%{x}<br>cycles_mean=%{y}<extra></extra>",
         "legendgroup": "L2_D16_best, lrnn_best",
         "line": {
          "color": "#FFA15A",
          "dash": "dot"
         },
         "marker": {
          "symbol": "circle"
         },
         "mode": "lines",
         "name": "L2_D16_best, lrnn_best",
         "orientation": "v",
         "showlegend": true,
         "type": "scatter",
         "x": [
          "0_01",
          "0_02",
          "0_03",
          "0_04",
          "0_05",
          "0_06",
          "0_07",
          "0_08",
          "0_09",
          "0_10",
          "0_11",
          "0_12",
          "0_13",
          "0_14",
          "0_15",
          "0_16",
          "0_17",
          "0_18",
          "0_19",
          "0_20",
          "0_21",
          "0_22",
          "0_23",
          "0_24",
          "0_25",
          "0_26",
          "0_27",
          "0_28",
          "0_29",
          "0_30"
         ],
         "xaxis": "x",
         "y": [
          0,
          0,
          0,
          0,
          0,
          0,
          0,
          0,
          0,
          0,
          0,
          0,
          0,
          0,
          0,
          0,
          0,
          0,
          0,
          0,
          0,
          0,
          0,
          0,
          0,
          0,
          0,
          0,
          0,
          0
         ],
         "yaxis": "y"
        },
        {
         "error_y": {
          "array": [
           0,
           0,
           0,
           0,
           0,
           0,
           0,
           0,
           0,
           0,
           0,
           0,
           0,
           0,
           0,
           0,
           0,
           0,
           0,
           0,
           0,
           0,
           0,
           0,
           0,
           0,
           0,
           0,
           0,
           0
          ]
         },
         "hovertemplate": "solver=L2_D16_best<br>type=lrnn_best<br>difficulty=1<br>problem=%{x}<br>cycles_mean=%{y}<extra></extra>",
         "legendgroup": "L2_D16_best, lrnn_best",
         "line": {
          "color": "#FFA15A",
          "dash": "dot"
         },
         "marker": {
          "symbol": "circle"
         },
         "mode": "lines",
         "name": "L2_D16_best, lrnn_best",
         "orientation": "v",
         "showlegend": false,
         "type": "scatter",
         "x": [
          "1_01",
          "1_02",
          "1_03",
          "1_04",
          "1_05",
          "1_06",
          "1_07",
          "1_08",
          "1_09",
          "1_10",
          "1_11",
          "1_12",
          "1_13",
          "1_14",
          "1_15",
          "1_16",
          "1_17",
          "1_18",
          "1_19",
          "1_20",
          "1_21",
          "1_22",
          "1_23",
          "1_24",
          "1_25",
          "1_26",
          "1_27",
          "1_28",
          "1_29",
          "1_30"
         ],
         "xaxis": "x2",
         "y": [
          0,
          0,
          0,
          0,
          0,
          0,
          0,
          0,
          0,
          0,
          0,
          0,
          0,
          0,
          0,
          0,
          0,
          0,
          0,
          0,
          0,
          0,
          0,
          0,
          0,
          0,
          0,
          0,
          0,
          0
         ],
         "yaxis": "y2"
        },
        {
         "error_y": {
          "array": [
           0,
           0,
           0,
           0,
           0,
           0,
           0,
           0,
           0,
           0,
           0,
           0,
           0,
           0,
           0,
           0,
           0,
           0,
           0,
           0,
           0,
           0,
           0,
           0,
           0,
           0,
           0,
           0,
           0,
           0
          ]
         },
         "hovertemplate": "solver=L3_D8_best<br>type=lrnn_best<br>difficulty=0<br>problem=%{x}<br>cycles_mean=%{y}<extra></extra>",
         "legendgroup": "L3_D8_best, lrnn_best",
         "line": {
          "color": "#19d3f3",
          "dash": "dot"
         },
         "marker": {
          "symbol": "circle"
         },
         "mode": "lines",
         "name": "L3_D8_best, lrnn_best",
         "orientation": "v",
         "showlegend": true,
         "type": "scatter",
         "x": [
          "0_01",
          "0_02",
          "0_03",
          "0_04",
          "0_05",
          "0_06",
          "0_07",
          "0_08",
          "0_09",
          "0_10",
          "0_11",
          "0_12",
          "0_13",
          "0_14",
          "0_15",
          "0_16",
          "0_17",
          "0_18",
          "0_19",
          "0_20",
          "0_21",
          "0_22",
          "0_23",
          "0_24",
          "0_25",
          "0_26",
          "0_27",
          "0_28",
          "0_29",
          "0_30"
         ],
         "xaxis": "x",
         "y": [
          0,
          0,
          0,
          0,
          0,
          0,
          0,
          0,
          0,
          0,
          0,
          0,
          0,
          0,
          0,
          0,
          0,
          0,
          0,
          0,
          0,
          0,
          0,
          0,
          0,
          0,
          0,
          0,
          0,
          0
         ],
         "yaxis": "y"
        },
        {
         "error_y": {
          "array": [
           0,
           0,
           0,
           0,
           0,
           0,
           0,
           0,
           0,
           0,
           0,
           0,
           0,
           0,
           0,
           0,
           0,
           0,
           0,
           0,
           0,
           0,
           0,
           0,
           0,
           0,
           0,
           0,
           0,
           0
          ]
         },
         "hovertemplate": "solver=L3_D8_best<br>type=lrnn_best<br>difficulty=1<br>problem=%{x}<br>cycles_mean=%{y}<extra></extra>",
         "legendgroup": "L3_D8_best, lrnn_best",
         "line": {
          "color": "#19d3f3",
          "dash": "dot"
         },
         "marker": {
          "symbol": "circle"
         },
         "mode": "lines",
         "name": "L3_D8_best, lrnn_best",
         "orientation": "v",
         "showlegend": false,
         "type": "scatter",
         "x": [
          "1_01",
          "1_02",
          "1_03",
          "1_04",
          "1_05",
          "1_06",
          "1_07",
          "1_08",
          "1_09",
          "1_10",
          "1_11",
          "1_12",
          "1_13",
          "1_14",
          "1_15",
          "1_16",
          "1_17",
          "1_18",
          "1_19",
          "1_20",
          "1_21",
          "1_22",
          "1_23",
          "1_24",
          "1_25",
          "1_26",
          "1_27",
          "1_28",
          "1_29",
          "1_30"
         ],
         "xaxis": "x2",
         "y": [
          0,
          0,
          0,
          0,
          0,
          0,
          0,
          0,
          0,
          0,
          0,
          0,
          0,
          0,
          0,
          0,
          0,
          0,
          0,
          0,
          0,
          0,
          0,
          0,
          0,
          0,
          0,
          0,
          0,
          0
         ],
         "yaxis": "y2"
        },
        {
         "error_y": {
          "array": [
           0,
           0,
           0,
           0,
           0,
           0,
           0,
           0,
           0,
           0,
           0,
           0,
           0,
           0,
           0,
           0,
           0,
           0,
           0,
           0,
           0,
           0,
           0,
           0,
           0,
           0,
           0,
           0,
           0,
           0
          ]
         },
         "hovertemplate": "solver=L3_D16_best<br>type=lrnn_best<br>difficulty=0<br>problem=%{x}<br>cycles_mean=%{y}<extra></extra>",
         "legendgroup": "L3_D16_best, lrnn_best",
         "line": {
          "color": "#FF6692",
          "dash": "dot"
         },
         "marker": {
          "symbol": "circle"
         },
         "mode": "lines",
         "name": "L3_D16_best, lrnn_best",
         "orientation": "v",
         "showlegend": true,
         "type": "scatter",
         "x": [
          "0_01",
          "0_02",
          "0_03",
          "0_04",
          "0_05",
          "0_06",
          "0_07",
          "0_08",
          "0_09",
          "0_10",
          "0_11",
          "0_12",
          "0_13",
          "0_14",
          "0_15",
          "0_16",
          "0_17",
          "0_18",
          "0_19",
          "0_20",
          "0_21",
          "0_22",
          "0_23",
          "0_24",
          "0_25",
          "0_26",
          "0_27",
          "0_28",
          "0_29",
          "0_30"
         ],
         "xaxis": "x",
         "y": [
          0,
          0,
          0,
          0,
          0,
          0,
          0,
          0,
          0,
          0,
          0,
          0,
          0,
          0,
          0,
          0,
          0,
          0,
          0,
          0,
          0,
          0,
          0,
          0,
          0,
          0,
          0,
          0,
          0,
          0
         ],
         "yaxis": "y"
        },
        {
         "error_y": {
          "array": [
           0,
           0,
           0,
           0,
           0,
           0,
           0,
           0,
           0,
           0,
           0,
           0,
           0,
           0,
           0,
           0,
           0,
           0,
           0,
           0,
           0,
           0,
           0,
           0,
           0,
           0,
           0,
           0,
           0,
           0
          ]
         },
         "hovertemplate": "solver=L3_D16_best<br>type=lrnn_best<br>difficulty=1<br>problem=%{x}<br>cycles_mean=%{y}<extra></extra>",
         "legendgroup": "L3_D16_best, lrnn_best",
         "line": {
          "color": "#FF6692",
          "dash": "dot"
         },
         "marker": {
          "symbol": "circle"
         },
         "mode": "lines",
         "name": "L3_D16_best, lrnn_best",
         "orientation": "v",
         "showlegend": false,
         "type": "scatter",
         "x": [
          "1_01",
          "1_02",
          "1_03",
          "1_04",
          "1_05",
          "1_06",
          "1_07",
          "1_08",
          "1_09",
          "1_10",
          "1_11",
          "1_12",
          "1_13",
          "1_14",
          "1_15",
          "1_16",
          "1_17",
          "1_18",
          "1_19",
          "1_20",
          "1_21",
          "1_22",
          "1_23",
          "1_24",
          "1_25",
          "1_26",
          "1_27",
          "1_28",
          "1_29",
          "1_30"
         ],
         "xaxis": "x2",
         "y": [
          0,
          0,
          0,
          0,
          0,
          0,
          0,
          0,
          0,
          0,
          0,
          0,
          0,
          0,
          0,
          0,
          0,
          0,
          0,
          0,
          0,
          0,
          0,
          0,
          0,
          0,
          0,
          0,
          0,
          0
         ],
         "yaxis": "y2"
        }
       ],
       "layout": {
        "annotations": [
         {
          "font": {},
          "showarrow": false,
          "text": "difficulty=0",
          "x": 0.245,
          "xanchor": "center",
          "xref": "paper",
          "y": 1,
          "yanchor": "bottom",
          "yref": "paper"
         },
         {
          "font": {},
          "showarrow": false,
          "text": "difficulty=1",
          "x": 0.755,
          "xanchor": "center",
          "xref": "paper",
          "y": 1,
          "yanchor": "bottom",
          "yref": "paper"
         }
        ],
        "legend": {
         "title": {
          "text": "solver, type"
         },
         "tracegroupgap": 0
        },
        "margin": {
         "t": 60
        },
        "template": {
         "data": {
          "bar": [
           {
            "error_x": {
             "color": "#2a3f5f"
            },
            "error_y": {
             "color": "#2a3f5f"
            },
            "marker": {
             "line": {
              "color": "#E5ECF6",
              "width": 0.5
             },
             "pattern": {
              "fillmode": "overlay",
              "size": 10,
              "solidity": 0.2
             }
            },
            "type": "bar"
           }
          ],
          "barpolar": [
           {
            "marker": {
             "line": {
              "color": "#E5ECF6",
              "width": 0.5
             },
             "pattern": {
              "fillmode": "overlay",
              "size": 10,
              "solidity": 0.2
             }
            },
            "type": "barpolar"
           }
          ],
          "carpet": [
           {
            "aaxis": {
             "endlinecolor": "#2a3f5f",
             "gridcolor": "white",
             "linecolor": "white",
             "minorgridcolor": "white",
             "startlinecolor": "#2a3f5f"
            },
            "baxis": {
             "endlinecolor": "#2a3f5f",
             "gridcolor": "white",
             "linecolor": "white",
             "minorgridcolor": "white",
             "startlinecolor": "#2a3f5f"
            },
            "type": "carpet"
           }
          ],
          "choropleth": [
           {
            "colorbar": {
             "outlinewidth": 0,
             "ticks": ""
            },
            "type": "choropleth"
           }
          ],
          "contour": [
           {
            "colorbar": {
             "outlinewidth": 0,
             "ticks": ""
            },
            "colorscale": [
             [
              0,
              "#0d0887"
             ],
             [
              0.1111111111111111,
              "#46039f"
             ],
             [
              0.2222222222222222,
              "#7201a8"
             ],
             [
              0.3333333333333333,
              "#9c179e"
             ],
             [
              0.4444444444444444,
              "#bd3786"
             ],
             [
              0.5555555555555556,
              "#d8576b"
             ],
             [
              0.6666666666666666,
              "#ed7953"
             ],
             [
              0.7777777777777778,
              "#fb9f3a"
             ],
             [
              0.8888888888888888,
              "#fdca26"
             ],
             [
              1,
              "#f0f921"
             ]
            ],
            "type": "contour"
           }
          ],
          "contourcarpet": [
           {
            "colorbar": {
             "outlinewidth": 0,
             "ticks": ""
            },
            "type": "contourcarpet"
           }
          ],
          "heatmap": [
           {
            "colorbar": {
             "outlinewidth": 0,
             "ticks": ""
            },
            "colorscale": [
             [
              0,
              "#0d0887"
             ],
             [
              0.1111111111111111,
              "#46039f"
             ],
             [
              0.2222222222222222,
              "#7201a8"
             ],
             [
              0.3333333333333333,
              "#9c179e"
             ],
             [
              0.4444444444444444,
              "#bd3786"
             ],
             [
              0.5555555555555556,
              "#d8576b"
             ],
             [
              0.6666666666666666,
              "#ed7953"
             ],
             [
              0.7777777777777778,
              "#fb9f3a"
             ],
             [
              0.8888888888888888,
              "#fdca26"
             ],
             [
              1,
              "#f0f921"
             ]
            ],
            "type": "heatmap"
           }
          ],
          "heatmapgl": [
           {
            "colorbar": {
             "outlinewidth": 0,
             "ticks": ""
            },
            "colorscale": [
             [
              0,
              "#0d0887"
             ],
             [
              0.1111111111111111,
              "#46039f"
             ],
             [
              0.2222222222222222,
              "#7201a8"
             ],
             [
              0.3333333333333333,
              "#9c179e"
             ],
             [
              0.4444444444444444,
              "#bd3786"
             ],
             [
              0.5555555555555556,
              "#d8576b"
             ],
             [
              0.6666666666666666,
              "#ed7953"
             ],
             [
              0.7777777777777778,
              "#fb9f3a"
             ],
             [
              0.8888888888888888,
              "#fdca26"
             ],
             [
              1,
              "#f0f921"
             ]
            ],
            "type": "heatmapgl"
           }
          ],
          "histogram": [
           {
            "marker": {
             "pattern": {
              "fillmode": "overlay",
              "size": 10,
              "solidity": 0.2
             }
            },
            "type": "histogram"
           }
          ],
          "histogram2d": [
           {
            "colorbar": {
             "outlinewidth": 0,
             "ticks": ""
            },
            "colorscale": [
             [
              0,
              "#0d0887"
             ],
             [
              0.1111111111111111,
              "#46039f"
             ],
             [
              0.2222222222222222,
              "#7201a8"
             ],
             [
              0.3333333333333333,
              "#9c179e"
             ],
             [
              0.4444444444444444,
              "#bd3786"
             ],
             [
              0.5555555555555556,
              "#d8576b"
             ],
             [
              0.6666666666666666,
              "#ed7953"
             ],
             [
              0.7777777777777778,
              "#fb9f3a"
             ],
             [
              0.8888888888888888,
              "#fdca26"
             ],
             [
              1,
              "#f0f921"
             ]
            ],
            "type": "histogram2d"
           }
          ],
          "histogram2dcontour": [
           {
            "colorbar": {
             "outlinewidth": 0,
             "ticks": ""
            },
            "colorscale": [
             [
              0,
              "#0d0887"
             ],
             [
              0.1111111111111111,
              "#46039f"
             ],
             [
              0.2222222222222222,
              "#7201a8"
             ],
             [
              0.3333333333333333,
              "#9c179e"
             ],
             [
              0.4444444444444444,
              "#bd3786"
             ],
             [
              0.5555555555555556,
              "#d8576b"
             ],
             [
              0.6666666666666666,
              "#ed7953"
             ],
             [
              0.7777777777777778,
              "#fb9f3a"
             ],
             [
              0.8888888888888888,
              "#fdca26"
             ],
             [
              1,
              "#f0f921"
             ]
            ],
            "type": "histogram2dcontour"
           }
          ],
          "mesh3d": [
           {
            "colorbar": {
             "outlinewidth": 0,
             "ticks": ""
            },
            "type": "mesh3d"
           }
          ],
          "parcoords": [
           {
            "line": {
             "colorbar": {
              "outlinewidth": 0,
              "ticks": ""
             }
            },
            "type": "parcoords"
           }
          ],
          "pie": [
           {
            "automargin": true,
            "type": "pie"
           }
          ],
          "scatter": [
           {
            "fillpattern": {
             "fillmode": "overlay",
             "size": 10,
             "solidity": 0.2
            },
            "type": "scatter"
           }
          ],
          "scatter3d": [
           {
            "line": {
             "colorbar": {
              "outlinewidth": 0,
              "ticks": ""
             }
            },
            "marker": {
             "colorbar": {
              "outlinewidth": 0,
              "ticks": ""
             }
            },
            "type": "scatter3d"
           }
          ],
          "scattercarpet": [
           {
            "marker": {
             "colorbar": {
              "outlinewidth": 0,
              "ticks": ""
             }
            },
            "type": "scattercarpet"
           }
          ],
          "scattergeo": [
           {
            "marker": {
             "colorbar": {
              "outlinewidth": 0,
              "ticks": ""
             }
            },
            "type": "scattergeo"
           }
          ],
          "scattergl": [
           {
            "marker": {
             "colorbar": {
              "outlinewidth": 0,
              "ticks": ""
             }
            },
            "type": "scattergl"
           }
          ],
          "scattermapbox": [
           {
            "marker": {
             "colorbar": {
              "outlinewidth": 0,
              "ticks": ""
             }
            },
            "type": "scattermapbox"
           }
          ],
          "scatterpolar": [
           {
            "marker": {
             "colorbar": {
              "outlinewidth": 0,
              "ticks": ""
             }
            },
            "type": "scatterpolar"
           }
          ],
          "scatterpolargl": [
           {
            "marker": {
             "colorbar": {
              "outlinewidth": 0,
              "ticks": ""
             }
            },
            "type": "scatterpolargl"
           }
          ],
          "scatterternary": [
           {
            "marker": {
             "colorbar": {
              "outlinewidth": 0,
              "ticks": ""
             }
            },
            "type": "scatterternary"
           }
          ],
          "surface": [
           {
            "colorbar": {
             "outlinewidth": 0,
             "ticks": ""
            },
            "colorscale": [
             [
              0,
              "#0d0887"
             ],
             [
              0.1111111111111111,
              "#46039f"
             ],
             [
              0.2222222222222222,
              "#7201a8"
             ],
             [
              0.3333333333333333,
              "#9c179e"
             ],
             [
              0.4444444444444444,
              "#bd3786"
             ],
             [
              0.5555555555555556,
              "#d8576b"
             ],
             [
              0.6666666666666666,
              "#ed7953"
             ],
             [
              0.7777777777777778,
              "#fb9f3a"
             ],
             [
              0.8888888888888888,
              "#fdca26"
             ],
             [
              1,
              "#f0f921"
             ]
            ],
            "type": "surface"
           }
          ],
          "table": [
           {
            "cells": {
             "fill": {
              "color": "#EBF0F8"
             },
             "line": {
              "color": "white"
             }
            },
            "header": {
             "fill": {
              "color": "#C8D4E3"
             },
             "line": {
              "color": "white"
             }
            },
            "type": "table"
           }
          ]
         },
         "layout": {
          "annotationdefaults": {
           "arrowcolor": "#2a3f5f",
           "arrowhead": 0,
           "arrowwidth": 1
          },
          "autotypenumbers": "strict",
          "coloraxis": {
           "colorbar": {
            "outlinewidth": 0,
            "ticks": ""
           }
          },
          "colorscale": {
           "diverging": [
            [
             0,
             "#8e0152"
            ],
            [
             0.1,
             "#c51b7d"
            ],
            [
             0.2,
             "#de77ae"
            ],
            [
             0.3,
             "#f1b6da"
            ],
            [
             0.4,
             "#fde0ef"
            ],
            [
             0.5,
             "#f7f7f7"
            ],
            [
             0.6,
             "#e6f5d0"
            ],
            [
             0.7,
             "#b8e186"
            ],
            [
             0.8,
             "#7fbc41"
            ],
            [
             0.9,
             "#4d9221"
            ],
            [
             1,
             "#276419"
            ]
           ],
           "sequential": [
            [
             0,
             "#0d0887"
            ],
            [
             0.1111111111111111,
             "#46039f"
            ],
            [
             0.2222222222222222,
             "#7201a8"
            ],
            [
             0.3333333333333333,
             "#9c179e"
            ],
            [
             0.4444444444444444,
             "#bd3786"
            ],
            [
             0.5555555555555556,
             "#d8576b"
            ],
            [
             0.6666666666666666,
             "#ed7953"
            ],
            [
             0.7777777777777778,
             "#fb9f3a"
            ],
            [
             0.8888888888888888,
             "#fdca26"
            ],
            [
             1,
             "#f0f921"
            ]
           ],
           "sequentialminus": [
            [
             0,
             "#0d0887"
            ],
            [
             0.1111111111111111,
             "#46039f"
            ],
            [
             0.2222222222222222,
             "#7201a8"
            ],
            [
             0.3333333333333333,
             "#9c179e"
            ],
            [
             0.4444444444444444,
             "#bd3786"
            ],
            [
             0.5555555555555556,
             "#d8576b"
            ],
            [
             0.6666666666666666,
             "#ed7953"
            ],
            [
             0.7777777777777778,
             "#fb9f3a"
            ],
            [
             0.8888888888888888,
             "#fdca26"
            ],
            [
             1,
             "#f0f921"
            ]
           ]
          },
          "colorway": [
           "#636efa",
           "#EF553B",
           "#00cc96",
           "#ab63fa",
           "#FFA15A",
           "#19d3f3",
           "#FF6692",
           "#B6E880",
           "#FF97FF",
           "#FECB52"
          ],
          "font": {
           "color": "#2a3f5f"
          },
          "geo": {
           "bgcolor": "white",
           "lakecolor": "white",
           "landcolor": "#E5ECF6",
           "showlakes": true,
           "showland": true,
           "subunitcolor": "white"
          },
          "hoverlabel": {
           "align": "left"
          },
          "hovermode": "closest",
          "mapbox": {
           "style": "light"
          },
          "paper_bgcolor": "white",
          "plot_bgcolor": "#E5ECF6",
          "polar": {
           "angularaxis": {
            "gridcolor": "white",
            "linecolor": "white",
            "ticks": ""
           },
           "bgcolor": "#E5ECF6",
           "radialaxis": {
            "gridcolor": "white",
            "linecolor": "white",
            "ticks": ""
           }
          },
          "scene": {
           "xaxis": {
            "backgroundcolor": "#E5ECF6",
            "gridcolor": "white",
            "gridwidth": 2,
            "linecolor": "white",
            "showbackground": true,
            "ticks": "",
            "zerolinecolor": "white"
           },
           "yaxis": {
            "backgroundcolor": "#E5ECF6",
            "gridcolor": "white",
            "gridwidth": 2,
            "linecolor": "white",
            "showbackground": true,
            "ticks": "",
            "zerolinecolor": "white"
           },
           "zaxis": {
            "backgroundcolor": "#E5ECF6",
            "gridcolor": "white",
            "gridwidth": 2,
            "linecolor": "white",
            "showbackground": true,
            "ticks": "",
            "zerolinecolor": "white"
           }
          },
          "shapedefaults": {
           "line": {
            "color": "#2a3f5f"
           }
          },
          "ternary": {
           "aaxis": {
            "gridcolor": "white",
            "linecolor": "white",
            "ticks": ""
           },
           "baxis": {
            "gridcolor": "white",
            "linecolor": "white",
            "ticks": ""
           },
           "bgcolor": "#E5ECF6",
           "caxis": {
            "gridcolor": "white",
            "linecolor": "white",
            "ticks": ""
           }
          },
          "title": {
           "x": 0.05
          },
          "xaxis": {
           "automargin": true,
           "gridcolor": "white",
           "linecolor": "white",
           "ticks": "",
           "title": {
            "standoff": 15
           },
           "zerolinecolor": "white",
           "zerolinewidth": 2
          },
          "yaxis": {
           "automargin": true,
           "gridcolor": "white",
           "linecolor": "white",
           "ticks": "",
           "title": {
            "standoff": 15
           },
           "zerolinecolor": "white",
           "zerolinewidth": 2
          }
         }
        },
        "xaxis": {
         "anchor": "y",
         "categoryarray": [
          "0_01",
          "0_02",
          "0_03",
          "0_04",
          "0_05",
          "0_06",
          "0_07",
          "0_08",
          "0_09",
          "0_10",
          "0_11",
          "0_12",
          "0_13",
          "0_14",
          "0_15",
          "0_16",
          "0_17",
          "0_18",
          "0_19",
          "0_20",
          "0_21",
          "0_22",
          "0_23",
          "0_24",
          "0_25",
          "0_26",
          "0_27",
          "0_28",
          "0_29",
          "0_30",
          "1_01",
          "1_02",
          "1_03",
          "1_04",
          "1_05",
          "1_06",
          "1_07",
          "1_08",
          "1_09",
          "1_10",
          "1_11",
          "1_12",
          "1_13",
          "1_14",
          "1_15",
          "1_16",
          "1_17",
          "1_18",
          "1_19",
          "1_20",
          "1_21",
          "1_22",
          "1_23",
          "1_24",
          "1_25",
          "1_26",
          "1_27",
          "1_28",
          "1_29",
          "1_30"
         ],
         "categoryorder": "array",
         "domain": [
          0,
          0.49
         ],
         "showticklabels": true,
         "title": {
          "text": "problem"
         }
        },
        "xaxis2": {
         "anchor": "y2",
         "categoryarray": [
          "0_01",
          "0_02",
          "0_03",
          "0_04",
          "0_05",
          "0_06",
          "0_07",
          "0_08",
          "0_09",
          "0_10",
          "0_11",
          "0_12",
          "0_13",
          "0_14",
          "0_15",
          "0_16",
          "0_17",
          "0_18",
          "0_19",
          "0_20",
          "0_21",
          "0_22",
          "0_23",
          "0_24",
          "0_25",
          "0_26",
          "0_27",
          "0_28",
          "0_29",
          "0_30",
          "1_01",
          "1_02",
          "1_03",
          "1_04",
          "1_05",
          "1_06",
          "1_07",
          "1_08",
          "1_09",
          "1_10",
          "1_11",
          "1_12",
          "1_13",
          "1_14",
          "1_15",
          "1_16",
          "1_17",
          "1_18",
          "1_19",
          "1_20",
          "1_21",
          "1_22",
          "1_23",
          "1_24",
          "1_25",
          "1_26",
          "1_27",
          "1_28",
          "1_29",
          "1_30"
         ],
         "categoryorder": "array",
         "domain": [
          0.51,
          1
         ],
         "showticklabels": true,
         "title": {
          "text": "problem"
         }
        },
        "yaxis": {
         "anchor": "x",
         "domain": [
          0,
          1
         ],
         "showticklabels": true,
         "title": {
          "text": "cycles_mean"
         }
        },
        "yaxis2": {
         "anchor": "x2",
         "domain": [
          0,
          1
         ],
         "showticklabels": true
        }
       }
      }
     },
     "metadata": {},
     "output_type": "display_data"
    },
    {
     "name": "stdout",
     "output_type": "stream",
     "text": [
      "ferry\n"
     ]
    },
    {
     "data": {
      "application/vnd.plotly.v1+json": {
       "config": {
        "plotlyServerURL": "https://plot.ly"
       },
       "data": [
        {
         "error_y": {
          "array": [
           0,
           0,
           0,
           0,
           0,
           0,
           0,
           0,
           0,
           0,
           0,
           0,
           0,
           0,
           0,
           0,
           0,
           0,
           0,
           0,
           0,
           0,
           0,
           0,
           0,
           0,
           0,
           0,
           0,
           0
          ]
         },
         "hovertemplate": "solver=baseline<br>type=bounds<br>difficulty=0<br>problem=%{x}<br>cycles_mean=%{y}<extra></extra>",
         "legendgroup": "baseline, bounds",
         "line": {
          "color": "#636efa",
          "dash": "solid"
         },
         "marker": {
          "symbol": "circle"
         },
         "mode": "lines",
         "name": "baseline, bounds",
         "orientation": "v",
         "showlegend": true,
         "type": "scatter",
         "x": [
          "0_01",
          "0_02",
          "0_03",
          "0_04",
          "0_05",
          "0_06",
          "0_07",
          "0_08",
          "0_09",
          "0_10",
          "0_11",
          "0_12",
          "0_13",
          "0_14",
          "0_15",
          "0_16",
          "0_17",
          "0_18",
          "0_19",
          "0_20",
          "0_21",
          "0_22",
          "0_23",
          "0_24",
          "0_25",
          "0_26",
          "0_27",
          "0_28",
          "0_29",
          "0_30"
         ],
         "xaxis": "x",
         "y": [
          0,
          0,
          0,
          0,
          0,
          0,
          0,
          0,
          0,
          0,
          0,
          0,
          0,
          0,
          0,
          0,
          0,
          0,
          0,
          0,
          0,
          0,
          0,
          0,
          0,
          0,
          0,
          0,
          0,
          0
         ],
         "yaxis": "y"
        },
        {
         "error_y": {
          "array": [
           0,
           0,
           0,
           0,
           0,
           0,
           0,
           0,
           0,
           0,
           0,
           0,
           0,
           0,
           0,
           0,
           0,
           0,
           0,
           0,
           0,
           0,
           0,
           0,
           0,
           0,
           0,
           0,
           0,
           0
          ]
         },
         "hovertemplate": "solver=baseline<br>type=bounds<br>difficulty=1<br>problem=%{x}<br>cycles_mean=%{y}<extra></extra>",
         "legendgroup": "baseline, bounds",
         "line": {
          "color": "#636efa",
          "dash": "solid"
         },
         "marker": {
          "symbol": "circle"
         },
         "mode": "lines",
         "name": "baseline, bounds",
         "orientation": "v",
         "showlegend": false,
         "type": "scatter",
         "x": [
          "1_01",
          "1_02",
          "1_03",
          "1_04",
          "1_05",
          "1_06",
          "1_07",
          "1_08",
          "1_09",
          "1_10",
          "1_11",
          "1_12",
          "1_13",
          "1_14",
          "1_15",
          "1_16",
          "1_17",
          "1_18",
          "1_19",
          "1_20",
          "1_21",
          "1_22",
          "1_23",
          "1_24",
          "1_25",
          "1_26",
          "1_27",
          "1_28",
          "1_29",
          "1_30"
         ],
         "xaxis": "x2",
         "y": [
          0,
          0,
          0,
          0,
          0,
          0,
          0,
          0,
          0,
          0,
          0,
          0,
          0,
          0,
          0,
          0,
          0,
          0,
          0,
          0,
          0,
          0,
          0,
          0,
          0,
          0,
          0,
          0,
          0,
          0
         ],
         "yaxis": "y2"
        },
        {
         "error_y": {
          "array": [
           null,
           null,
           null,
           null,
           null,
           null,
           null,
           null,
           null,
           null,
           null,
           null,
           null,
           null,
           null,
           null,
           null,
           null,
           null,
           null,
           null,
           null,
           null,
           null,
           null,
           null,
           null,
           null,
           null,
           null
          ]
         },
         "hovertemplate": "solver=optimal<br>type=bounds<br>difficulty=0<br>problem=%{x}<br>cycles_mean=%{y}<extra></extra>",
         "legendgroup": "optimal, bounds",
         "line": {
          "color": "#EF553B",
          "dash": "solid"
         },
         "marker": {
          "symbol": "circle"
         },
         "mode": "lines",
         "name": "optimal, bounds",
         "orientation": "v",
         "showlegend": true,
         "type": "scatter",
         "x": [
          "0_01",
          "0_02",
          "0_03",
          "0_04",
          "0_05",
          "0_06",
          "0_07",
          "0_08",
          "0_09",
          "0_10",
          "0_11",
          "0_12",
          "0_13",
          "0_14",
          "0_15",
          "0_16",
          "0_17",
          "0_18",
          "0_19",
          "0_20",
          "0_21",
          "0_22",
          "0_23",
          "0_24",
          "0_25",
          "0_26",
          "0_27",
          "0_28",
          "0_29",
          "0_30"
         ],
         "xaxis": "x",
         "y": [
          0,
          0,
          0,
          0,
          0,
          0,
          0,
          0,
          0,
          0,
          0,
          0,
          0,
          0,
          0,
          0,
          0,
          0,
          0,
          0,
          0,
          0,
          0,
          0,
          0,
          0,
          0,
          0,
          0,
          0
         ],
         "yaxis": "y"
        },
        {
         "error_y": {
          "array": [
           null,
           null,
           null,
           null,
           null,
           null,
           null,
           null,
           null,
           null,
           null,
           null,
           null,
           null,
           null,
           null,
           null,
           null,
           null,
           null,
           null,
           null,
           null,
           null,
           null,
           null,
           null,
           null,
           null,
           null
          ]
         },
         "hovertemplate": "solver=optimal<br>type=bounds<br>difficulty=1<br>problem=%{x}<br>cycles_mean=%{y}<extra></extra>",
         "legendgroup": "optimal, bounds",
         "line": {
          "color": "#EF553B",
          "dash": "solid"
         },
         "marker": {
          "symbol": "circle"
         },
         "mode": "lines",
         "name": "optimal, bounds",
         "orientation": "v",
         "showlegend": false,
         "type": "scatter",
         "x": [
          "1_01",
          "1_02",
          "1_03",
          "1_04",
          "1_05",
          "1_06",
          "1_07",
          "1_08",
          "1_09",
          "1_10",
          "1_11",
          "1_12",
          "1_13",
          "1_14",
          "1_15",
          "1_16",
          "1_17",
          "1_18",
          "1_19",
          "1_20",
          "1_21",
          "1_22",
          "1_23",
          "1_24",
          "1_25",
          "1_26",
          "1_27",
          "1_28",
          "1_29",
          "1_30"
         ],
         "xaxis": "x2",
         "y": [
          0,
          0,
          0,
          0,
          0,
          0,
          0,
          0,
          0,
          0,
          0,
          0,
          0,
          0,
          0,
          0,
          0,
          0,
          0,
          0,
          0,
          0,
          0,
          0,
          0,
          0,
          0,
          0,
          0,
          0
         ],
         "yaxis": "y2"
        },
        {
         "error_y": {
          "array": [
           null,
           null,
           null,
           null,
           null,
           null,
           null,
           null,
           null,
           null,
           null,
           null,
           null,
           null,
           null,
           null,
           null,
           null,
           null,
           null,
           null,
           null,
           null,
           null,
           null,
           null,
           null,
           null,
           null,
           null
          ]
         },
         "hovertemplate": "solver=lama<br>type=bounds<br>difficulty=0<br>problem=%{x}<br>cycles_mean=%{y}<extra></extra>",
         "legendgroup": "lama, bounds",
         "line": {
          "color": "#00cc96",
          "dash": "solid"
         },
         "marker": {
          "symbol": "circle"
         },
         "mode": "lines",
         "name": "lama, bounds",
         "orientation": "v",
         "showlegend": true,
         "type": "scatter",
         "x": [
          "0_01",
          "0_02",
          "0_03",
          "0_04",
          "0_05",
          "0_06",
          "0_07",
          "0_08",
          "0_09",
          "0_10",
          "0_11",
          "0_12",
          "0_13",
          "0_14",
          "0_15",
          "0_16",
          "0_17",
          "0_18",
          "0_19",
          "0_20",
          "0_21",
          "0_22",
          "0_23",
          "0_24",
          "0_25",
          "0_26",
          "0_27",
          "0_28",
          "0_29",
          "0_30"
         ],
         "xaxis": "x",
         "y": [
          0,
          0,
          0,
          0,
          0,
          0,
          0,
          0,
          0,
          0,
          0,
          0,
          0,
          0,
          0,
          0,
          0,
          0,
          0,
          0,
          0,
          0,
          0,
          0,
          0,
          0,
          0,
          0,
          0,
          0
         ],
         "yaxis": "y"
        },
        {
         "error_y": {
          "array": [
           null,
           null,
           null,
           null,
           null,
           null,
           null,
           null,
           null,
           null,
           null,
           null,
           null,
           null,
           null,
           null,
           null,
           null,
           null,
           null,
           null,
           null,
           null,
           null,
           null,
           null,
           null,
           null,
           null,
           null
          ]
         },
         "hovertemplate": "solver=lama<br>type=bounds<br>difficulty=1<br>problem=%{x}<br>cycles_mean=%{y}<extra></extra>",
         "legendgroup": "lama, bounds",
         "line": {
          "color": "#00cc96",
          "dash": "solid"
         },
         "marker": {
          "symbol": "circle"
         },
         "mode": "lines",
         "name": "lama, bounds",
         "orientation": "v",
         "showlegend": false,
         "type": "scatter",
         "x": [
          "1_01",
          "1_02",
          "1_03",
          "1_04",
          "1_05",
          "1_06",
          "1_07",
          "1_08",
          "1_09",
          "1_10",
          "1_11",
          "1_12",
          "1_13",
          "1_14",
          "1_15",
          "1_16",
          "1_17",
          "1_18",
          "1_19",
          "1_20",
          "1_21",
          "1_22",
          "1_23",
          "1_24",
          "1_25",
          "1_26",
          "1_27",
          "1_28",
          "1_29",
          "1_30"
         ],
         "xaxis": "x2",
         "y": [
          0,
          0,
          0,
          0,
          0,
          0,
          0,
          0,
          0,
          0,
          0,
          0,
          0,
          0,
          0,
          0,
          0,
          0,
          0,
          0,
          0,
          0,
          0,
          0,
          0,
          0,
          0,
          0,
          0,
          0
         ],
         "yaxis": "y2"
        },
        {
         "error_y": {
          "array": [
           0,
           0,
           0,
           0,
           0,
           0,
           0,
           0,
           0,
           0,
           0,
           0,
           0,
           0,
           0,
           0,
           0,
           0,
           0,
           0,
           0,
           0,
           0,
           0,
           0,
           0,
           0,
           0,
           0,
           0
          ]
         },
         "hovertemplate": "solver=L2_D8_best<br>type=lrnn_best<br>difficulty=0<br>problem=%{x}<br>cycles_mean=%{y}<extra></extra>",
         "legendgroup": "L2_D8_best, lrnn_best",
         "line": {
          "color": "#ab63fa",
          "dash": "dot"
         },
         "marker": {
          "symbol": "circle"
         },
         "mode": "lines",
         "name": "L2_D8_best, lrnn_best",
         "orientation": "v",
         "showlegend": true,
         "type": "scatter",
         "x": [
          "0_01",
          "0_02",
          "0_03",
          "0_04",
          "0_05",
          "0_06",
          "0_07",
          "0_08",
          "0_09",
          "0_10",
          "0_11",
          "0_12",
          "0_13",
          "0_14",
          "0_15",
          "0_16",
          "0_17",
          "0_18",
          "0_19",
          "0_20",
          "0_21",
          "0_22",
          "0_23",
          "0_24",
          "0_25",
          "0_26",
          "0_27",
          "0_28",
          "0_29",
          "0_30"
         ],
         "xaxis": "x",
         "y": [
          0,
          0,
          0,
          0,
          0,
          0,
          0,
          0,
          0,
          0,
          0,
          0,
          0,
          0,
          0,
          0,
          0,
          0,
          0,
          0,
          0,
          0,
          0,
          0,
          0,
          0,
          0,
          0,
          0,
          0
         ],
         "yaxis": "y"
        },
        {
         "error_y": {
          "array": [
           0,
           0,
           0,
           0,
           0,
           0,
           0,
           0,
           0,
           0,
           0,
           0,
           0,
           0,
           0,
           0,
           0,
           0,
           0,
           0,
           0,
           0,
           0,
           0,
           0,
           0,
           0,
           0,
           0,
           0
          ]
         },
         "hovertemplate": "solver=L2_D8_best<br>type=lrnn_best<br>difficulty=1<br>problem=%{x}<br>cycles_mean=%{y}<extra></extra>",
         "legendgroup": "L2_D8_best, lrnn_best",
         "line": {
          "color": "#ab63fa",
          "dash": "dot"
         },
         "marker": {
          "symbol": "circle"
         },
         "mode": "lines",
         "name": "L2_D8_best, lrnn_best",
         "orientation": "v",
         "showlegend": false,
         "type": "scatter",
         "x": [
          "1_01",
          "1_02",
          "1_03",
          "1_04",
          "1_05",
          "1_06",
          "1_07",
          "1_08",
          "1_09",
          "1_10",
          "1_11",
          "1_12",
          "1_13",
          "1_14",
          "1_15",
          "1_16",
          "1_17",
          "1_18",
          "1_19",
          "1_20",
          "1_21",
          "1_22",
          "1_23",
          "1_24",
          "1_25",
          "1_26",
          "1_27",
          "1_28",
          "1_29",
          "1_30"
         ],
         "xaxis": "x2",
         "y": [
          0,
          0,
          0,
          0,
          0,
          0,
          0,
          0,
          0,
          0,
          0,
          0,
          0,
          0,
          0,
          0,
          0,
          0,
          0,
          0,
          0,
          0,
          0,
          0,
          0,
          0,
          0,
          0,
          0,
          0
         ],
         "yaxis": "y2"
        },
        {
         "error_y": {
          "array": [
           0,
           0,
           0,
           0,
           0,
           0,
           0,
           0,
           0,
           0,
           0,
           0,
           0,
           0,
           0,
           0,
           0,
           0,
           0,
           0,
           0,
           0,
           0,
           0,
           0,
           0,
           0,
           0,
           0,
           0
          ]
         },
         "hovertemplate": "solver=L2_D16_best<br>type=lrnn_best<br>difficulty=0<br>problem=%{x}<br>cycles_mean=%{y}<extra></extra>",
         "legendgroup": "L2_D16_best, lrnn_best",
         "line": {
          "color": "#FFA15A",
          "dash": "dot"
         },
         "marker": {
          "symbol": "circle"
         },
         "mode": "lines",
         "name": "L2_D16_best, lrnn_best",
         "orientation": "v",
         "showlegend": true,
         "type": "scatter",
         "x": [
          "0_01",
          "0_02",
          "0_03",
          "0_04",
          "0_05",
          "0_06",
          "0_07",
          "0_08",
          "0_09",
          "0_10",
          "0_11",
          "0_12",
          "0_13",
          "0_14",
          "0_15",
          "0_16",
          "0_17",
          "0_18",
          "0_19",
          "0_20",
          "0_21",
          "0_22",
          "0_23",
          "0_24",
          "0_25",
          "0_26",
          "0_27",
          "0_28",
          "0_29",
          "0_30"
         ],
         "xaxis": "x",
         "y": [
          0,
          0,
          0,
          0,
          0,
          0,
          0,
          0,
          0,
          0,
          0,
          0,
          0,
          0,
          0,
          0,
          0,
          0,
          0,
          0,
          0,
          0,
          0,
          0,
          0,
          0,
          0,
          0,
          0,
          0
         ],
         "yaxis": "y"
        },
        {
         "error_y": {
          "array": [
           0,
           0,
           0,
           0,
           0,
           0,
           0,
           0,
           0,
           0,
           0,
           0,
           0,
           0,
           0,
           0,
           0,
           0,
           0,
           0,
           0,
           0,
           0,
           0,
           0,
           0,
           0,
           0,
           0,
           0
          ]
         },
         "hovertemplate": "solver=L2_D16_best<br>type=lrnn_best<br>difficulty=1<br>problem=%{x}<br>cycles_mean=%{y}<extra></extra>",
         "legendgroup": "L2_D16_best, lrnn_best",
         "line": {
          "color": "#FFA15A",
          "dash": "dot"
         },
         "marker": {
          "symbol": "circle"
         },
         "mode": "lines",
         "name": "L2_D16_best, lrnn_best",
         "orientation": "v",
         "showlegend": false,
         "type": "scatter",
         "x": [
          "1_01",
          "1_02",
          "1_03",
          "1_04",
          "1_05",
          "1_06",
          "1_07",
          "1_08",
          "1_09",
          "1_10",
          "1_11",
          "1_12",
          "1_13",
          "1_14",
          "1_15",
          "1_16",
          "1_17",
          "1_18",
          "1_19",
          "1_20",
          "1_21",
          "1_22",
          "1_23",
          "1_24",
          "1_25",
          "1_26",
          "1_27",
          "1_28",
          "1_29",
          "1_30"
         ],
         "xaxis": "x2",
         "y": [
          0,
          0,
          0,
          0,
          0,
          0,
          0,
          0,
          0,
          0,
          0,
          0,
          0,
          0,
          0,
          0,
          0,
          0,
          0,
          0,
          0,
          0,
          0,
          0,
          0,
          0,
          0,
          0,
          0,
          0
         ],
         "yaxis": "y2"
        },
        {
         "error_y": {
          "array": [
           0,
           0,
           0,
           0,
           0,
           0,
           0,
           0,
           0,
           0,
           0,
           0,
           0,
           0,
           0,
           0,
           0,
           0,
           0,
           0,
           0,
           0,
           0,
           0,
           0,
           0,
           0,
           0,
           0,
           0
          ]
         },
         "hovertemplate": "solver=L3_D8_best<br>type=lrnn_best<br>difficulty=0<br>problem=%{x}<br>cycles_mean=%{y}<extra></extra>",
         "legendgroup": "L3_D8_best, lrnn_best",
         "line": {
          "color": "#19d3f3",
          "dash": "dot"
         },
         "marker": {
          "symbol": "circle"
         },
         "mode": "lines",
         "name": "L3_D8_best, lrnn_best",
         "orientation": "v",
         "showlegend": true,
         "type": "scatter",
         "x": [
          "0_01",
          "0_02",
          "0_03",
          "0_04",
          "0_05",
          "0_06",
          "0_07",
          "0_08",
          "0_09",
          "0_10",
          "0_11",
          "0_12",
          "0_13",
          "0_14",
          "0_15",
          "0_16",
          "0_17",
          "0_18",
          "0_19",
          "0_20",
          "0_21",
          "0_22",
          "0_23",
          "0_24",
          "0_25",
          "0_26",
          "0_27",
          "0_28",
          "0_29",
          "0_30"
         ],
         "xaxis": "x",
         "y": [
          0,
          0,
          0,
          0,
          0,
          0,
          0,
          0,
          0,
          0,
          0,
          0,
          0,
          0,
          0,
          0,
          0,
          0,
          0,
          0,
          0,
          0,
          0,
          0,
          0,
          0,
          0,
          0,
          0,
          0
         ],
         "yaxis": "y"
        },
        {
         "error_y": {
          "array": [
           0,
           0,
           0,
           0,
           0,
           0,
           0,
           0,
           0,
           0,
           0,
           0,
           0,
           0,
           0,
           0,
           0,
           0,
           0,
           0,
           0,
           0,
           0,
           0,
           0,
           0,
           0,
           0,
           0,
           0
          ]
         },
         "hovertemplate": "solver=L3_D8_best<br>type=lrnn_best<br>difficulty=1<br>problem=%{x}<br>cycles_mean=%{y}<extra></extra>",
         "legendgroup": "L3_D8_best, lrnn_best",
         "line": {
          "color": "#19d3f3",
          "dash": "dot"
         },
         "marker": {
          "symbol": "circle"
         },
         "mode": "lines",
         "name": "L3_D8_best, lrnn_best",
         "orientation": "v",
         "showlegend": false,
         "type": "scatter",
         "x": [
          "1_01",
          "1_02",
          "1_03",
          "1_04",
          "1_05",
          "1_06",
          "1_07",
          "1_08",
          "1_09",
          "1_10",
          "1_11",
          "1_12",
          "1_13",
          "1_14",
          "1_15",
          "1_16",
          "1_17",
          "1_18",
          "1_19",
          "1_20",
          "1_21",
          "1_22",
          "1_23",
          "1_24",
          "1_25",
          "1_26",
          "1_27",
          "1_28",
          "1_29",
          "1_30"
         ],
         "xaxis": "x2",
         "y": [
          0,
          0,
          0,
          0,
          0,
          0,
          0,
          0,
          0,
          0,
          0,
          0,
          0,
          0,
          0,
          0,
          0,
          0,
          0,
          0,
          0,
          0,
          0,
          0,
          0,
          0,
          0,
          0,
          0,
          0
         ],
         "yaxis": "y2"
        },
        {
         "error_y": {
          "array": [
           0,
           0,
           0,
           0,
           0,
           0,
           0,
           0,
           0,
           0,
           0,
           0,
           0,
           0,
           0,
           0,
           0,
           0,
           0,
           0,
           0,
           0,
           0,
           0,
           0,
           0,
           0,
           0,
           0,
           0
          ]
         },
         "hovertemplate": "solver=L3_D16_best<br>type=lrnn_best<br>difficulty=0<br>problem=%{x}<br>cycles_mean=%{y}<extra></extra>",
         "legendgroup": "L3_D16_best, lrnn_best",
         "line": {
          "color": "#FF6692",
          "dash": "dot"
         },
         "marker": {
          "symbol": "circle"
         },
         "mode": "lines",
         "name": "L3_D16_best, lrnn_best",
         "orientation": "v",
         "showlegend": true,
         "type": "scatter",
         "x": [
          "0_01",
          "0_02",
          "0_03",
          "0_04",
          "0_05",
          "0_06",
          "0_07",
          "0_08",
          "0_09",
          "0_10",
          "0_11",
          "0_12",
          "0_13",
          "0_14",
          "0_15",
          "0_16",
          "0_17",
          "0_18",
          "0_19",
          "0_20",
          "0_21",
          "0_22",
          "0_23",
          "0_24",
          "0_25",
          "0_26",
          "0_27",
          "0_28",
          "0_29",
          "0_30"
         ],
         "xaxis": "x",
         "y": [
          0,
          0,
          0,
          0,
          0,
          0,
          0,
          0,
          0,
          0,
          0,
          0,
          0,
          0,
          0,
          0,
          0,
          0,
          0,
          0,
          0,
          0,
          0,
          0,
          0,
          0,
          0,
          0,
          0,
          0
         ],
         "yaxis": "y"
        },
        {
         "error_y": {
          "array": [
           0,
           0,
           0,
           0,
           0,
           0,
           0,
           0,
           0,
           0,
           0,
           0,
           0,
           0,
           0,
           0,
           0,
           0,
           0,
           0,
           0,
           0,
           0,
           0,
           0,
           0,
           0,
           0,
           0,
           0
          ]
         },
         "hovertemplate": "solver=L3_D16_best<br>type=lrnn_best<br>difficulty=1<br>problem=%{x}<br>cycles_mean=%{y}<extra></extra>",
         "legendgroup": "L3_D16_best, lrnn_best",
         "line": {
          "color": "#FF6692",
          "dash": "dot"
         },
         "marker": {
          "symbol": "circle"
         },
         "mode": "lines",
         "name": "L3_D16_best, lrnn_best",
         "orientation": "v",
         "showlegend": false,
         "type": "scatter",
         "x": [
          "1_01",
          "1_02",
          "1_03",
          "1_04",
          "1_05",
          "1_06",
          "1_07",
          "1_08",
          "1_09",
          "1_10",
          "1_11",
          "1_12",
          "1_13",
          "1_14",
          "1_15",
          "1_16",
          "1_17",
          "1_18",
          "1_19",
          "1_20",
          "1_21",
          "1_22",
          "1_23",
          "1_24",
          "1_25",
          "1_26",
          "1_27",
          "1_28",
          "1_29",
          "1_30"
         ],
         "xaxis": "x2",
         "y": [
          0,
          0,
          0,
          0,
          0,
          0,
          0,
          0,
          0,
          0,
          0,
          0,
          0,
          0,
          0,
          0,
          0,
          0,
          0,
          0,
          0,
          0,
          0,
          0,
          0,
          0,
          0,
          0,
          0,
          0
         ],
         "yaxis": "y2"
        }
       ],
       "layout": {
        "annotations": [
         {
          "font": {},
          "showarrow": false,
          "text": "difficulty=0",
          "x": 0.245,
          "xanchor": "center",
          "xref": "paper",
          "y": 1,
          "yanchor": "bottom",
          "yref": "paper"
         },
         {
          "font": {},
          "showarrow": false,
          "text": "difficulty=1",
          "x": 0.755,
          "xanchor": "center",
          "xref": "paper",
          "y": 1,
          "yanchor": "bottom",
          "yref": "paper"
         }
        ],
        "legend": {
         "title": {
          "text": "solver, type"
         },
         "tracegroupgap": 0
        },
        "margin": {
         "t": 60
        },
        "template": {
         "data": {
          "bar": [
           {
            "error_x": {
             "color": "#2a3f5f"
            },
            "error_y": {
             "color": "#2a3f5f"
            },
            "marker": {
             "line": {
              "color": "#E5ECF6",
              "width": 0.5
             },
             "pattern": {
              "fillmode": "overlay",
              "size": 10,
              "solidity": 0.2
             }
            },
            "type": "bar"
           }
          ],
          "barpolar": [
           {
            "marker": {
             "line": {
              "color": "#E5ECF6",
              "width": 0.5
             },
             "pattern": {
              "fillmode": "overlay",
              "size": 10,
              "solidity": 0.2
             }
            },
            "type": "barpolar"
           }
          ],
          "carpet": [
           {
            "aaxis": {
             "endlinecolor": "#2a3f5f",
             "gridcolor": "white",
             "linecolor": "white",
             "minorgridcolor": "white",
             "startlinecolor": "#2a3f5f"
            },
            "baxis": {
             "endlinecolor": "#2a3f5f",
             "gridcolor": "white",
             "linecolor": "white",
             "minorgridcolor": "white",
             "startlinecolor": "#2a3f5f"
            },
            "type": "carpet"
           }
          ],
          "choropleth": [
           {
            "colorbar": {
             "outlinewidth": 0,
             "ticks": ""
            },
            "type": "choropleth"
           }
          ],
          "contour": [
           {
            "colorbar": {
             "outlinewidth": 0,
             "ticks": ""
            },
            "colorscale": [
             [
              0,
              "#0d0887"
             ],
             [
              0.1111111111111111,
              "#46039f"
             ],
             [
              0.2222222222222222,
              "#7201a8"
             ],
             [
              0.3333333333333333,
              "#9c179e"
             ],
             [
              0.4444444444444444,
              "#bd3786"
             ],
             [
              0.5555555555555556,
              "#d8576b"
             ],
             [
              0.6666666666666666,
              "#ed7953"
             ],
             [
              0.7777777777777778,
              "#fb9f3a"
             ],
             [
              0.8888888888888888,
              "#fdca26"
             ],
             [
              1,
              "#f0f921"
             ]
            ],
            "type": "contour"
           }
          ],
          "contourcarpet": [
           {
            "colorbar": {
             "outlinewidth": 0,
             "ticks": ""
            },
            "type": "contourcarpet"
           }
          ],
          "heatmap": [
           {
            "colorbar": {
             "outlinewidth": 0,
             "ticks": ""
            },
            "colorscale": [
             [
              0,
              "#0d0887"
             ],
             [
              0.1111111111111111,
              "#46039f"
             ],
             [
              0.2222222222222222,
              "#7201a8"
             ],
             [
              0.3333333333333333,
              "#9c179e"
             ],
             [
              0.4444444444444444,
              "#bd3786"
             ],
             [
              0.5555555555555556,
              "#d8576b"
             ],
             [
              0.6666666666666666,
              "#ed7953"
             ],
             [
              0.7777777777777778,
              "#fb9f3a"
             ],
             [
              0.8888888888888888,
              "#fdca26"
             ],
             [
              1,
              "#f0f921"
             ]
            ],
            "type": "heatmap"
           }
          ],
          "heatmapgl": [
           {
            "colorbar": {
             "outlinewidth": 0,
             "ticks": ""
            },
            "colorscale": [
             [
              0,
              "#0d0887"
             ],
             [
              0.1111111111111111,
              "#46039f"
             ],
             [
              0.2222222222222222,
              "#7201a8"
             ],
             [
              0.3333333333333333,
              "#9c179e"
             ],
             [
              0.4444444444444444,
              "#bd3786"
             ],
             [
              0.5555555555555556,
              "#d8576b"
             ],
             [
              0.6666666666666666,
              "#ed7953"
             ],
             [
              0.7777777777777778,
              "#fb9f3a"
             ],
             [
              0.8888888888888888,
              "#fdca26"
             ],
             [
              1,
              "#f0f921"
             ]
            ],
            "type": "heatmapgl"
           }
          ],
          "histogram": [
           {
            "marker": {
             "pattern": {
              "fillmode": "overlay",
              "size": 10,
              "solidity": 0.2
             }
            },
            "type": "histogram"
           }
          ],
          "histogram2d": [
           {
            "colorbar": {
             "outlinewidth": 0,
             "ticks": ""
            },
            "colorscale": [
             [
              0,
              "#0d0887"
             ],
             [
              0.1111111111111111,
              "#46039f"
             ],
             [
              0.2222222222222222,
              "#7201a8"
             ],
             [
              0.3333333333333333,
              "#9c179e"
             ],
             [
              0.4444444444444444,
              "#bd3786"
             ],
             [
              0.5555555555555556,
              "#d8576b"
             ],
             [
              0.6666666666666666,
              "#ed7953"
             ],
             [
              0.7777777777777778,
              "#fb9f3a"
             ],
             [
              0.8888888888888888,
              "#fdca26"
             ],
             [
              1,
              "#f0f921"
             ]
            ],
            "type": "histogram2d"
           }
          ],
          "histogram2dcontour": [
           {
            "colorbar": {
             "outlinewidth": 0,
             "ticks": ""
            },
            "colorscale": [
             [
              0,
              "#0d0887"
             ],
             [
              0.1111111111111111,
              "#46039f"
             ],
             [
              0.2222222222222222,
              "#7201a8"
             ],
             [
              0.3333333333333333,
              "#9c179e"
             ],
             [
              0.4444444444444444,
              "#bd3786"
             ],
             [
              0.5555555555555556,
              "#d8576b"
             ],
             [
              0.6666666666666666,
              "#ed7953"
             ],
             [
              0.7777777777777778,
              "#fb9f3a"
             ],
             [
              0.8888888888888888,
              "#fdca26"
             ],
             [
              1,
              "#f0f921"
             ]
            ],
            "type": "histogram2dcontour"
           }
          ],
          "mesh3d": [
           {
            "colorbar": {
             "outlinewidth": 0,
             "ticks": ""
            },
            "type": "mesh3d"
           }
          ],
          "parcoords": [
           {
            "line": {
             "colorbar": {
              "outlinewidth": 0,
              "ticks": ""
             }
            },
            "type": "parcoords"
           }
          ],
          "pie": [
           {
            "automargin": true,
            "type": "pie"
           }
          ],
          "scatter": [
           {
            "fillpattern": {
             "fillmode": "overlay",
             "size": 10,
             "solidity": 0.2
            },
            "type": "scatter"
           }
          ],
          "scatter3d": [
           {
            "line": {
             "colorbar": {
              "outlinewidth": 0,
              "ticks": ""
             }
            },
            "marker": {
             "colorbar": {
              "outlinewidth": 0,
              "ticks": ""
             }
            },
            "type": "scatter3d"
           }
          ],
          "scattercarpet": [
           {
            "marker": {
             "colorbar": {
              "outlinewidth": 0,
              "ticks": ""
             }
            },
            "type": "scattercarpet"
           }
          ],
          "scattergeo": [
           {
            "marker": {
             "colorbar": {
              "outlinewidth": 0,
              "ticks": ""
             }
            },
            "type": "scattergeo"
           }
          ],
          "scattergl": [
           {
            "marker": {
             "colorbar": {
              "outlinewidth": 0,
              "ticks": ""
             }
            },
            "type": "scattergl"
           }
          ],
          "scattermapbox": [
           {
            "marker": {
             "colorbar": {
              "outlinewidth": 0,
              "ticks": ""
             }
            },
            "type": "scattermapbox"
           }
          ],
          "scatterpolar": [
           {
            "marker": {
             "colorbar": {
              "outlinewidth": 0,
              "ticks": ""
             }
            },
            "type": "scatterpolar"
           }
          ],
          "scatterpolargl": [
           {
            "marker": {
             "colorbar": {
              "outlinewidth": 0,
              "ticks": ""
             }
            },
            "type": "scatterpolargl"
           }
          ],
          "scatterternary": [
           {
            "marker": {
             "colorbar": {
              "outlinewidth": 0,
              "ticks": ""
             }
            },
            "type": "scatterternary"
           }
          ],
          "surface": [
           {
            "colorbar": {
             "outlinewidth": 0,
             "ticks": ""
            },
            "colorscale": [
             [
              0,
              "#0d0887"
             ],
             [
              0.1111111111111111,
              "#46039f"
             ],
             [
              0.2222222222222222,
              "#7201a8"
             ],
             [
              0.3333333333333333,
              "#9c179e"
             ],
             [
              0.4444444444444444,
              "#bd3786"
             ],
             [
              0.5555555555555556,
              "#d8576b"
             ],
             [
              0.6666666666666666,
              "#ed7953"
             ],
             [
              0.7777777777777778,
              "#fb9f3a"
             ],
             [
              0.8888888888888888,
              "#fdca26"
             ],
             [
              1,
              "#f0f921"
             ]
            ],
            "type": "surface"
           }
          ],
          "table": [
           {
            "cells": {
             "fill": {
              "color": "#EBF0F8"
             },
             "line": {
              "color": "white"
             }
            },
            "header": {
             "fill": {
              "color": "#C8D4E3"
             },
             "line": {
              "color": "white"
             }
            },
            "type": "table"
           }
          ]
         },
         "layout": {
          "annotationdefaults": {
           "arrowcolor": "#2a3f5f",
           "arrowhead": 0,
           "arrowwidth": 1
          },
          "autotypenumbers": "strict",
          "coloraxis": {
           "colorbar": {
            "outlinewidth": 0,
            "ticks": ""
           }
          },
          "colorscale": {
           "diverging": [
            [
             0,
             "#8e0152"
            ],
            [
             0.1,
             "#c51b7d"
            ],
            [
             0.2,
             "#de77ae"
            ],
            [
             0.3,
             "#f1b6da"
            ],
            [
             0.4,
             "#fde0ef"
            ],
            [
             0.5,
             "#f7f7f7"
            ],
            [
             0.6,
             "#e6f5d0"
            ],
            [
             0.7,
             "#b8e186"
            ],
            [
             0.8,
             "#7fbc41"
            ],
            [
             0.9,
             "#4d9221"
            ],
            [
             1,
             "#276419"
            ]
           ],
           "sequential": [
            [
             0,
             "#0d0887"
            ],
            [
             0.1111111111111111,
             "#46039f"
            ],
            [
             0.2222222222222222,
             "#7201a8"
            ],
            [
             0.3333333333333333,
             "#9c179e"
            ],
            [
             0.4444444444444444,
             "#bd3786"
            ],
            [
             0.5555555555555556,
             "#d8576b"
            ],
            [
             0.6666666666666666,
             "#ed7953"
            ],
            [
             0.7777777777777778,
             "#fb9f3a"
            ],
            [
             0.8888888888888888,
             "#fdca26"
            ],
            [
             1,
             "#f0f921"
            ]
           ],
           "sequentialminus": [
            [
             0,
             "#0d0887"
            ],
            [
             0.1111111111111111,
             "#46039f"
            ],
            [
             0.2222222222222222,
             "#7201a8"
            ],
            [
             0.3333333333333333,
             "#9c179e"
            ],
            [
             0.4444444444444444,
             "#bd3786"
            ],
            [
             0.5555555555555556,
             "#d8576b"
            ],
            [
             0.6666666666666666,
             "#ed7953"
            ],
            [
             0.7777777777777778,
             "#fb9f3a"
            ],
            [
             0.8888888888888888,
             "#fdca26"
            ],
            [
             1,
             "#f0f921"
            ]
           ]
          },
          "colorway": [
           "#636efa",
           "#EF553B",
           "#00cc96",
           "#ab63fa",
           "#FFA15A",
           "#19d3f3",
           "#FF6692",
           "#B6E880",
           "#FF97FF",
           "#FECB52"
          ],
          "font": {
           "color": "#2a3f5f"
          },
          "geo": {
           "bgcolor": "white",
           "lakecolor": "white",
           "landcolor": "#E5ECF6",
           "showlakes": true,
           "showland": true,
           "subunitcolor": "white"
          },
          "hoverlabel": {
           "align": "left"
          },
          "hovermode": "closest",
          "mapbox": {
           "style": "light"
          },
          "paper_bgcolor": "white",
          "plot_bgcolor": "#E5ECF6",
          "polar": {
           "angularaxis": {
            "gridcolor": "white",
            "linecolor": "white",
            "ticks": ""
           },
           "bgcolor": "#E5ECF6",
           "radialaxis": {
            "gridcolor": "white",
            "linecolor": "white",
            "ticks": ""
           }
          },
          "scene": {
           "xaxis": {
            "backgroundcolor": "#E5ECF6",
            "gridcolor": "white",
            "gridwidth": 2,
            "linecolor": "white",
            "showbackground": true,
            "ticks": "",
            "zerolinecolor": "white"
           },
           "yaxis": {
            "backgroundcolor": "#E5ECF6",
            "gridcolor": "white",
            "gridwidth": 2,
            "linecolor": "white",
            "showbackground": true,
            "ticks": "",
            "zerolinecolor": "white"
           },
           "zaxis": {
            "backgroundcolor": "#E5ECF6",
            "gridcolor": "white",
            "gridwidth": 2,
            "linecolor": "white",
            "showbackground": true,
            "ticks": "",
            "zerolinecolor": "white"
           }
          },
          "shapedefaults": {
           "line": {
            "color": "#2a3f5f"
           }
          },
          "ternary": {
           "aaxis": {
            "gridcolor": "white",
            "linecolor": "white",
            "ticks": ""
           },
           "baxis": {
            "gridcolor": "white",
            "linecolor": "white",
            "ticks": ""
           },
           "bgcolor": "#E5ECF6",
           "caxis": {
            "gridcolor": "white",
            "linecolor": "white",
            "ticks": ""
           }
          },
          "title": {
           "x": 0.05
          },
          "xaxis": {
           "automargin": true,
           "gridcolor": "white",
           "linecolor": "white",
           "ticks": "",
           "title": {
            "standoff": 15
           },
           "zerolinecolor": "white",
           "zerolinewidth": 2
          },
          "yaxis": {
           "automargin": true,
           "gridcolor": "white",
           "linecolor": "white",
           "ticks": "",
           "title": {
            "standoff": 15
           },
           "zerolinecolor": "white",
           "zerolinewidth": 2
          }
         }
        },
        "xaxis": {
         "anchor": "y",
         "categoryarray": [
          "0_01",
          "0_02",
          "0_03",
          "0_04",
          "0_05",
          "0_06",
          "0_07",
          "0_08",
          "0_09",
          "0_10",
          "0_11",
          "0_12",
          "0_13",
          "0_14",
          "0_15",
          "0_16",
          "0_17",
          "0_18",
          "0_19",
          "0_20",
          "0_21",
          "0_22",
          "0_23",
          "0_24",
          "0_25",
          "0_26",
          "0_27",
          "0_28",
          "0_29",
          "0_30",
          "1_01",
          "1_02",
          "1_03",
          "1_04",
          "1_05",
          "1_06",
          "1_07",
          "1_08",
          "1_09",
          "1_10",
          "1_11",
          "1_12",
          "1_13",
          "1_14",
          "1_15",
          "1_16",
          "1_17",
          "1_18",
          "1_19",
          "1_20",
          "1_21",
          "1_22",
          "1_23",
          "1_24",
          "1_25",
          "1_26",
          "1_27",
          "1_28",
          "1_29",
          "1_30"
         ],
         "categoryorder": "array",
         "domain": [
          0,
          0.49
         ],
         "showticklabels": true,
         "title": {
          "text": "problem"
         }
        },
        "xaxis2": {
         "anchor": "y2",
         "categoryarray": [
          "0_01",
          "0_02",
          "0_03",
          "0_04",
          "0_05",
          "0_06",
          "0_07",
          "0_08",
          "0_09",
          "0_10",
          "0_11",
          "0_12",
          "0_13",
          "0_14",
          "0_15",
          "0_16",
          "0_17",
          "0_18",
          "0_19",
          "0_20",
          "0_21",
          "0_22",
          "0_23",
          "0_24",
          "0_25",
          "0_26",
          "0_27",
          "0_28",
          "0_29",
          "0_30",
          "1_01",
          "1_02",
          "1_03",
          "1_04",
          "1_05",
          "1_06",
          "1_07",
          "1_08",
          "1_09",
          "1_10",
          "1_11",
          "1_12",
          "1_13",
          "1_14",
          "1_15",
          "1_16",
          "1_17",
          "1_18",
          "1_19",
          "1_20",
          "1_21",
          "1_22",
          "1_23",
          "1_24",
          "1_25",
          "1_26",
          "1_27",
          "1_28",
          "1_29",
          "1_30"
         ],
         "categoryorder": "array",
         "domain": [
          0.51,
          1
         ],
         "showticklabels": true,
         "title": {
          "text": "problem"
         }
        },
        "yaxis": {
         "anchor": "x",
         "domain": [
          0,
          1
         ],
         "showticklabels": true,
         "title": {
          "text": "cycles_mean"
         }
        },
        "yaxis2": {
         "anchor": "x2",
         "domain": [
          0,
          1
         ],
         "showticklabels": true
        }
       }
      }
     },
     "metadata": {},
     "output_type": "display_data"
    },
    {
     "name": "stdout",
     "output_type": "stream",
     "text": [
      "satellite\n"
     ]
    },
    {
     "data": {
      "application/vnd.plotly.v1+json": {
       "config": {
        "plotlyServerURL": "https://plot.ly"
       },
       "data": [
        {
         "error_y": {
          "array": [
           0,
           0,
           0,
           0,
           0,
           0,
           0,
           0,
           0,
           0,
           0,
           0,
           0,
           0,
           0,
           0,
           0,
           0,
           0,
           0,
           0,
           0,
           0,
           0,
           0,
           0,
           0,
           0,
           0,
           0
          ]
         },
         "hovertemplate": "solver=baseline<br>type=bounds<br>difficulty=0<br>problem=%{x}<br>cycles_mean=%{y}<extra></extra>",
         "legendgroup": "baseline, bounds",
         "line": {
          "color": "#636efa",
          "dash": "solid"
         },
         "marker": {
          "symbol": "circle"
         },
         "mode": "lines",
         "name": "baseline, bounds",
         "orientation": "v",
         "showlegend": true,
         "type": "scatter",
         "x": [
          "0_01",
          "0_02",
          "0_03",
          "0_04",
          "0_05",
          "0_06",
          "0_07",
          "0_08",
          "0_09",
          "0_10",
          "0_11",
          "0_12",
          "0_13",
          "0_14",
          "0_15",
          "0_16",
          "0_17",
          "0_18",
          "0_19",
          "0_20",
          "0_21",
          "0_22",
          "0_23",
          "0_24",
          "0_25",
          "0_26",
          "0_27",
          "0_28",
          "0_29",
          "0_30"
         ],
         "xaxis": "x",
         "y": [
          0,
          0,
          0,
          0,
          0,
          0,
          0,
          0,
          0,
          0,
          0,
          0,
          0,
          0,
          0,
          0,
          0,
          0,
          0,
          0,
          0,
          0,
          0,
          0,
          0,
          0,
          0,
          0,
          0,
          0
         ],
         "yaxis": "y"
        },
        {
         "error_y": {
          "array": [
           0,
           0,
           0,
           0,
           0,
           0,
           0,
           0,
           0,
           0,
           0,
           0,
           0,
           0,
           0,
           0,
           0,
           0,
           0,
           0,
           0,
           0,
           0,
           0,
           0,
           0,
           0,
           0,
           0,
           0
          ]
         },
         "hovertemplate": "solver=baseline<br>type=bounds<br>difficulty=1<br>problem=%{x}<br>cycles_mean=%{y}<extra></extra>",
         "legendgroup": "baseline, bounds",
         "line": {
          "color": "#636efa",
          "dash": "solid"
         },
         "marker": {
          "symbol": "circle"
         },
         "mode": "lines",
         "name": "baseline, bounds",
         "orientation": "v",
         "showlegend": false,
         "type": "scatter",
         "x": [
          "1_01",
          "1_02",
          "1_03",
          "1_04",
          "1_05",
          "1_06",
          "1_07",
          "1_08",
          "1_09",
          "1_10",
          "1_11",
          "1_12",
          "1_13",
          "1_14",
          "1_15",
          "1_16",
          "1_17",
          "1_18",
          "1_19",
          "1_20",
          "1_21",
          "1_22",
          "1_23",
          "1_24",
          "1_25",
          "1_26",
          "1_27",
          "1_28",
          "1_29",
          "1_30"
         ],
         "xaxis": "x2",
         "y": [
          0,
          0,
          0,
          0,
          0,
          0,
          0,
          0,
          0,
          0,
          0,
          0,
          0,
          0,
          0,
          0,
          0,
          0,
          0,
          0,
          0,
          0,
          0,
          0,
          0,
          0,
          0,
          0,
          0,
          0
         ],
         "yaxis": "y2"
        },
        {
         "error_y": {
          "array": [
           null,
           null,
           null,
           null,
           null,
           null,
           null,
           null,
           null,
           null,
           null,
           null,
           null,
           null,
           null,
           null,
           null,
           null,
           null,
           null,
           null,
           null,
           null,
           null,
           null,
           null,
           null,
           null,
           null,
           null
          ]
         },
         "hovertemplate": "solver=optimal<br>type=bounds<br>difficulty=0<br>problem=%{x}<br>cycles_mean=%{y}<extra></extra>",
         "legendgroup": "optimal, bounds",
         "line": {
          "color": "#EF553B",
          "dash": "solid"
         },
         "marker": {
          "symbol": "circle"
         },
         "mode": "lines",
         "name": "optimal, bounds",
         "orientation": "v",
         "showlegend": true,
         "type": "scatter",
         "x": [
          "0_01",
          "0_02",
          "0_03",
          "0_04",
          "0_05",
          "0_06",
          "0_07",
          "0_08",
          "0_09",
          "0_10",
          "0_11",
          "0_12",
          "0_13",
          "0_14",
          "0_15",
          "0_16",
          "0_17",
          "0_18",
          "0_19",
          "0_20",
          "0_21",
          "0_22",
          "0_23",
          "0_24",
          "0_25",
          "0_26",
          "0_27",
          "0_28",
          "0_29",
          "0_30"
         ],
         "xaxis": "x",
         "y": [
          0,
          0,
          0,
          0,
          0,
          0,
          0,
          0,
          0,
          0,
          0,
          0,
          0,
          0,
          0,
          0,
          0,
          0,
          0,
          0,
          0,
          0,
          0,
          0,
          0,
          0,
          0,
          0,
          0,
          0
         ],
         "yaxis": "y"
        },
        {
         "error_y": {
          "array": [
           null,
           null,
           null,
           null,
           null,
           null,
           null,
           null,
           null,
           null,
           null,
           null,
           null,
           null,
           null,
           null,
           null,
           null,
           null,
           null,
           null,
           null,
           null,
           null,
           null,
           null,
           null,
           null,
           null,
           null
          ]
         },
         "hovertemplate": "solver=optimal<br>type=bounds<br>difficulty=1<br>problem=%{x}<br>cycles_mean=%{y}<extra></extra>",
         "legendgroup": "optimal, bounds",
         "line": {
          "color": "#EF553B",
          "dash": "solid"
         },
         "marker": {
          "symbol": "circle"
         },
         "mode": "lines",
         "name": "optimal, bounds",
         "orientation": "v",
         "showlegend": false,
         "type": "scatter",
         "x": [
          "1_01",
          "1_02",
          "1_03",
          "1_04",
          "1_05",
          "1_06",
          "1_07",
          "1_08",
          "1_09",
          "1_10",
          "1_11",
          "1_12",
          "1_13",
          "1_14",
          "1_15",
          "1_16",
          "1_17",
          "1_18",
          "1_19",
          "1_20",
          "1_21",
          "1_22",
          "1_23",
          "1_24",
          "1_25",
          "1_26",
          "1_27",
          "1_28",
          "1_29",
          "1_30"
         ],
         "xaxis": "x2",
         "y": [
          0,
          0,
          0,
          0,
          0,
          0,
          0,
          0,
          0,
          0,
          0,
          0,
          0,
          0,
          0,
          0,
          0,
          0,
          0,
          0,
          0,
          0,
          0,
          0,
          0,
          0,
          0,
          0,
          0,
          0
         ],
         "yaxis": "y2"
        },
        {
         "error_y": {
          "array": [
           null,
           null,
           null,
           null,
           null,
           null,
           null,
           null,
           null,
           null,
           null,
           null,
           null,
           null,
           null,
           null,
           null,
           null,
           null,
           null,
           null,
           null,
           null,
           null,
           null,
           null,
           null,
           null,
           null,
           null
          ]
         },
         "hovertemplate": "solver=lama<br>type=bounds<br>difficulty=0<br>problem=%{x}<br>cycles_mean=%{y}<extra></extra>",
         "legendgroup": "lama, bounds",
         "line": {
          "color": "#00cc96",
          "dash": "solid"
         },
         "marker": {
          "symbol": "circle"
         },
         "mode": "lines",
         "name": "lama, bounds",
         "orientation": "v",
         "showlegend": true,
         "type": "scatter",
         "x": [
          "0_01",
          "0_02",
          "0_03",
          "0_04",
          "0_05",
          "0_06",
          "0_07",
          "0_08",
          "0_09",
          "0_10",
          "0_11",
          "0_12",
          "0_13",
          "0_14",
          "0_15",
          "0_16",
          "0_17",
          "0_18",
          "0_19",
          "0_20",
          "0_21",
          "0_22",
          "0_23",
          "0_24",
          "0_25",
          "0_26",
          "0_27",
          "0_28",
          "0_29",
          "0_30"
         ],
         "xaxis": "x",
         "y": [
          0,
          0,
          0,
          0,
          0,
          0,
          0,
          0,
          0,
          0,
          0,
          0,
          0,
          0,
          0,
          0,
          0,
          0,
          0,
          0,
          0,
          0,
          0,
          0,
          0,
          0,
          0,
          0,
          0,
          0
         ],
         "yaxis": "y"
        },
        {
         "error_y": {
          "array": [
           null,
           null,
           null,
           null,
           null,
           null,
           null,
           null,
           null,
           null,
           null,
           null,
           null,
           null,
           null,
           null,
           null,
           null,
           null,
           null,
           null,
           null,
           null,
           null,
           null,
           null,
           null,
           null,
           null,
           null
          ]
         },
         "hovertemplate": "solver=lama<br>type=bounds<br>difficulty=1<br>problem=%{x}<br>cycles_mean=%{y}<extra></extra>",
         "legendgroup": "lama, bounds",
         "line": {
          "color": "#00cc96",
          "dash": "solid"
         },
         "marker": {
          "symbol": "circle"
         },
         "mode": "lines",
         "name": "lama, bounds",
         "orientation": "v",
         "showlegend": false,
         "type": "scatter",
         "x": [
          "1_01",
          "1_02",
          "1_03",
          "1_04",
          "1_05",
          "1_06",
          "1_07",
          "1_08",
          "1_09",
          "1_10",
          "1_11",
          "1_12",
          "1_13",
          "1_14",
          "1_15",
          "1_16",
          "1_17",
          "1_18",
          "1_19",
          "1_20",
          "1_21",
          "1_22",
          "1_23",
          "1_24",
          "1_25",
          "1_26",
          "1_27",
          "1_28",
          "1_29",
          "1_30"
         ],
         "xaxis": "x2",
         "y": [
          0,
          0,
          0,
          0,
          0,
          0,
          0,
          0,
          0,
          0,
          0,
          0,
          0,
          0,
          0,
          0,
          0,
          0,
          0,
          0,
          0,
          0,
          0,
          0,
          0,
          0,
          0,
          0,
          0,
          0
         ],
         "yaxis": "y2"
        },
        {
         "error_y": {
          "array": [
           0,
           0,
           0,
           0,
           0,
           0,
           0,
           0,
           0,
           0,
           0,
           0,
           0,
           0,
           0,
           0,
           0,
           0,
           0,
           0,
           0,
           0,
           0,
           0,
           0,
           0,
           0,
           0,
           0,
           0
          ]
         },
         "hovertemplate": "solver=L2_D8_best<br>type=lrnn_best<br>difficulty=0<br>problem=%{x}<br>cycles_mean=%{y}<extra></extra>",
         "legendgroup": "L2_D8_best, lrnn_best",
         "line": {
          "color": "#ab63fa",
          "dash": "dot"
         },
         "marker": {
          "symbol": "circle"
         },
         "mode": "lines",
         "name": "L2_D8_best, lrnn_best",
         "orientation": "v",
         "showlegend": true,
         "type": "scatter",
         "x": [
          "0_01",
          "0_02",
          "0_03",
          "0_04",
          "0_05",
          "0_06",
          "0_07",
          "0_08",
          "0_09",
          "0_10",
          "0_11",
          "0_12",
          "0_13",
          "0_14",
          "0_15",
          "0_16",
          "0_17",
          "0_18",
          "0_19",
          "0_20",
          "0_21",
          "0_22",
          "0_23",
          "0_24",
          "0_25",
          "0_26",
          "0_27",
          "0_28",
          "0_29",
          "0_30"
         ],
         "xaxis": "x",
         "y": [
          0,
          0,
          0,
          0,
          0,
          0,
          0,
          0,
          0,
          0,
          0,
          0,
          0,
          0,
          0,
          0,
          0,
          0,
          0,
          0,
          0,
          0,
          0,
          0,
          0,
          0,
          0,
          0,
          0,
          0
         ],
         "yaxis": "y"
        },
        {
         "error_y": {
          "array": [
           0,
           0,
           0,
           0,
           0,
           0,
           0,
           0,
           0,
           0,
           0,
           0,
           0,
           0,
           0,
           0,
           0,
           0,
           0,
           0,
           0,
           0,
           0,
           0,
           0,
           0,
           0,
           0,
           0,
           0
          ]
         },
         "hovertemplate": "solver=L2_D8_best<br>type=lrnn_best<br>difficulty=1<br>problem=%{x}<br>cycles_mean=%{y}<extra></extra>",
         "legendgroup": "L2_D8_best, lrnn_best",
         "line": {
          "color": "#ab63fa",
          "dash": "dot"
         },
         "marker": {
          "symbol": "circle"
         },
         "mode": "lines",
         "name": "L2_D8_best, lrnn_best",
         "orientation": "v",
         "showlegend": false,
         "type": "scatter",
         "x": [
          "1_01",
          "1_02",
          "1_03",
          "1_04",
          "1_05",
          "1_06",
          "1_07",
          "1_08",
          "1_09",
          "1_10",
          "1_11",
          "1_12",
          "1_13",
          "1_14",
          "1_15",
          "1_16",
          "1_17",
          "1_18",
          "1_19",
          "1_20",
          "1_21",
          "1_22",
          "1_23",
          "1_24",
          "1_25",
          "1_26",
          "1_27",
          "1_28",
          "1_29",
          "1_30"
         ],
         "xaxis": "x2",
         "y": [
          0,
          0,
          0,
          0,
          0,
          0,
          0,
          0,
          0,
          0,
          0,
          0,
          0,
          0,
          0,
          0,
          0,
          0,
          0,
          0,
          0,
          0,
          0,
          0,
          0,
          0,
          0,
          0,
          0,
          0
         ],
         "yaxis": "y2"
        },
        {
         "error_y": {
          "array": [
           0,
           0,
           0,
           0,
           0,
           0,
           0,
           0,
           0,
           0,
           0,
           0,
           0,
           0,
           0,
           0,
           0,
           0,
           0,
           0,
           0,
           0,
           0,
           0,
           0,
           0,
           0,
           0,
           0,
           0
          ]
         },
         "hovertemplate": "solver=L2_D16_best<br>type=lrnn_best<br>difficulty=0<br>problem=%{x}<br>cycles_mean=%{y}<extra></extra>",
         "legendgroup": "L2_D16_best, lrnn_best",
         "line": {
          "color": "#FFA15A",
          "dash": "dot"
         },
         "marker": {
          "symbol": "circle"
         },
         "mode": "lines",
         "name": "L2_D16_best, lrnn_best",
         "orientation": "v",
         "showlegend": true,
         "type": "scatter",
         "x": [
          "0_01",
          "0_02",
          "0_03",
          "0_04",
          "0_05",
          "0_06",
          "0_07",
          "0_08",
          "0_09",
          "0_10",
          "0_11",
          "0_12",
          "0_13",
          "0_14",
          "0_15",
          "0_16",
          "0_17",
          "0_18",
          "0_19",
          "0_20",
          "0_21",
          "0_22",
          "0_23",
          "0_24",
          "0_25",
          "0_26",
          "0_27",
          "0_28",
          "0_29",
          "0_30"
         ],
         "xaxis": "x",
         "y": [
          0,
          0,
          0,
          0,
          0,
          0,
          0,
          0,
          0,
          0,
          0,
          0,
          0,
          0,
          0,
          0,
          0,
          0,
          0,
          0,
          0,
          0,
          0,
          0,
          0,
          0,
          0,
          0,
          0,
          0
         ],
         "yaxis": "y"
        },
        {
         "error_y": {
          "array": [
           0,
           0,
           0,
           0,
           0,
           0,
           0,
           0,
           0,
           0,
           0,
           0,
           0,
           0,
           0,
           0,
           0,
           0,
           0,
           0,
           0,
           0,
           0,
           0,
           0,
           0,
           0,
           0,
           0,
           0
          ]
         },
         "hovertemplate": "solver=L2_D16_best<br>type=lrnn_best<br>difficulty=1<br>problem=%{x}<br>cycles_mean=%{y}<extra></extra>",
         "legendgroup": "L2_D16_best, lrnn_best",
         "line": {
          "color": "#FFA15A",
          "dash": "dot"
         },
         "marker": {
          "symbol": "circle"
         },
         "mode": "lines",
         "name": "L2_D16_best, lrnn_best",
         "orientation": "v",
         "showlegend": false,
         "type": "scatter",
         "x": [
          "1_01",
          "1_02",
          "1_03",
          "1_04",
          "1_05",
          "1_06",
          "1_07",
          "1_08",
          "1_09",
          "1_10",
          "1_11",
          "1_12",
          "1_13",
          "1_14",
          "1_15",
          "1_16",
          "1_17",
          "1_18",
          "1_19",
          "1_20",
          "1_21",
          "1_22",
          "1_23",
          "1_24",
          "1_25",
          "1_26",
          "1_27",
          "1_28",
          "1_29",
          "1_30"
         ],
         "xaxis": "x2",
         "y": [
          0,
          0,
          0,
          0,
          0,
          0,
          0,
          0,
          0,
          0,
          0,
          0,
          0,
          0,
          0,
          0,
          0,
          0,
          0,
          0,
          0,
          0,
          0,
          0,
          0,
          0,
          0,
          0,
          0,
          0
         ],
         "yaxis": "y2"
        },
        {
         "error_y": {
          "array": [
           0,
           0,
           0,
           0,
           0,
           0,
           0,
           0,
           0,
           0,
           0,
           0,
           0,
           0,
           0,
           0,
           0,
           0,
           0,
           0,
           0,
           0,
           0,
           0,
           0,
           0,
           0,
           0,
           0,
           0
          ]
         },
         "hovertemplate": "solver=L3_D8_best<br>type=lrnn_best<br>difficulty=0<br>problem=%{x}<br>cycles_mean=%{y}<extra></extra>",
         "legendgroup": "L3_D8_best, lrnn_best",
         "line": {
          "color": "#19d3f3",
          "dash": "dot"
         },
         "marker": {
          "symbol": "circle"
         },
         "mode": "lines",
         "name": "L3_D8_best, lrnn_best",
         "orientation": "v",
         "showlegend": true,
         "type": "scatter",
         "x": [
          "0_01",
          "0_02",
          "0_03",
          "0_04",
          "0_05",
          "0_06",
          "0_07",
          "0_08",
          "0_09",
          "0_10",
          "0_11",
          "0_12",
          "0_13",
          "0_14",
          "0_15",
          "0_16",
          "0_17",
          "0_18",
          "0_19",
          "0_20",
          "0_21",
          "0_22",
          "0_23",
          "0_24",
          "0_25",
          "0_26",
          "0_27",
          "0_28",
          "0_29",
          "0_30"
         ],
         "xaxis": "x",
         "y": [
          0,
          0,
          0,
          0,
          0,
          0,
          0,
          0,
          0,
          0,
          0,
          0,
          0,
          0,
          0,
          0,
          0,
          0,
          0,
          0,
          0,
          0,
          0,
          0,
          0,
          0,
          0,
          0,
          0,
          0
         ],
         "yaxis": "y"
        },
        {
         "error_y": {
          "array": [
           0,
           0,
           0,
           0,
           0,
           0,
           0,
           0,
           0,
           0,
           0,
           0,
           0,
           0,
           0,
           0,
           0,
           0,
           0,
           0,
           0,
           0,
           0,
           0,
           0,
           0,
           0,
           0,
           0,
           0
          ]
         },
         "hovertemplate": "solver=L3_D8_best<br>type=lrnn_best<br>difficulty=1<br>problem=%{x}<br>cycles_mean=%{y}<extra></extra>",
         "legendgroup": "L3_D8_best, lrnn_best",
         "line": {
          "color": "#19d3f3",
          "dash": "dot"
         },
         "marker": {
          "symbol": "circle"
         },
         "mode": "lines",
         "name": "L3_D8_best, lrnn_best",
         "orientation": "v",
         "showlegend": false,
         "type": "scatter",
         "x": [
          "1_01",
          "1_02",
          "1_03",
          "1_04",
          "1_05",
          "1_06",
          "1_07",
          "1_08",
          "1_09",
          "1_10",
          "1_11",
          "1_12",
          "1_13",
          "1_14",
          "1_15",
          "1_16",
          "1_17",
          "1_18",
          "1_19",
          "1_20",
          "1_21",
          "1_22",
          "1_23",
          "1_24",
          "1_25",
          "1_26",
          "1_27",
          "1_28",
          "1_29",
          "1_30"
         ],
         "xaxis": "x2",
         "y": [
          0,
          0,
          0,
          0,
          0,
          0,
          0,
          0,
          0,
          0,
          0,
          0,
          0,
          0,
          0,
          0,
          0,
          0,
          0,
          0,
          0,
          0,
          0,
          0,
          0,
          0,
          0,
          0,
          0,
          0
         ],
         "yaxis": "y2"
        },
        {
         "error_y": {
          "array": [
           0,
           0,
           0,
           0,
           0,
           0,
           0,
           0,
           0,
           0,
           0,
           0,
           0,
           0,
           0,
           0,
           0,
           0,
           0,
           0,
           0,
           0,
           0,
           0,
           0,
           0,
           0,
           0,
           0,
           0
          ]
         },
         "hovertemplate": "solver=L3_D16_best<br>type=lrnn_best<br>difficulty=0<br>problem=%{x}<br>cycles_mean=%{y}<extra></extra>",
         "legendgroup": "L3_D16_best, lrnn_best",
         "line": {
          "color": "#FF6692",
          "dash": "dot"
         },
         "marker": {
          "symbol": "circle"
         },
         "mode": "lines",
         "name": "L3_D16_best, lrnn_best",
         "orientation": "v",
         "showlegend": true,
         "type": "scatter",
         "x": [
          "0_01",
          "0_02",
          "0_03",
          "0_04",
          "0_05",
          "0_06",
          "0_07",
          "0_08",
          "0_09",
          "0_10",
          "0_11",
          "0_12",
          "0_13",
          "0_14",
          "0_15",
          "0_16",
          "0_17",
          "0_18",
          "0_19",
          "0_20",
          "0_21",
          "0_22",
          "0_23",
          "0_24",
          "0_25",
          "0_26",
          "0_27",
          "0_28",
          "0_29",
          "0_30"
         ],
         "xaxis": "x",
         "y": [
          0,
          0,
          0,
          0,
          0,
          0,
          0,
          0,
          0,
          0,
          0,
          0,
          0,
          0,
          0,
          0,
          0,
          0,
          0,
          0,
          0,
          0,
          0,
          0,
          0,
          0,
          0,
          0,
          0,
          0
         ],
         "yaxis": "y"
        },
        {
         "error_y": {
          "array": [
           0,
           0,
           0,
           0,
           0,
           0,
           0,
           0,
           0,
           0,
           0,
           0,
           0,
           0,
           0,
           0,
           0,
           0,
           0,
           0,
           0,
           0,
           0,
           0,
           0,
           0,
           0,
           0,
           0,
           0
          ]
         },
         "hovertemplate": "solver=L3_D16_best<br>type=lrnn_best<br>difficulty=1<br>problem=%{x}<br>cycles_mean=%{y}<extra></extra>",
         "legendgroup": "L3_D16_best, lrnn_best",
         "line": {
          "color": "#FF6692",
          "dash": "dot"
         },
         "marker": {
          "symbol": "circle"
         },
         "mode": "lines",
         "name": "L3_D16_best, lrnn_best",
         "orientation": "v",
         "showlegend": false,
         "type": "scatter",
         "x": [
          "1_01",
          "1_02",
          "1_03",
          "1_04",
          "1_05",
          "1_06",
          "1_07",
          "1_08",
          "1_09",
          "1_10",
          "1_11",
          "1_12",
          "1_13",
          "1_14",
          "1_15",
          "1_16",
          "1_17",
          "1_18",
          "1_19",
          "1_20",
          "1_21",
          "1_22",
          "1_23",
          "1_24",
          "1_25",
          "1_26",
          "1_27",
          "1_28",
          "1_29",
          "1_30"
         ],
         "xaxis": "x2",
         "y": [
          0,
          0,
          0,
          0,
          0,
          0,
          0,
          0,
          0,
          0,
          0,
          0,
          0,
          0,
          0,
          0,
          0,
          0,
          0,
          0,
          0,
          0,
          0,
          0,
          0,
          0,
          0,
          0,
          0,
          0
         ],
         "yaxis": "y2"
        }
       ],
       "layout": {
        "annotations": [
         {
          "font": {},
          "showarrow": false,
          "text": "difficulty=0",
          "x": 0.245,
          "xanchor": "center",
          "xref": "paper",
          "y": 1,
          "yanchor": "bottom",
          "yref": "paper"
         },
         {
          "font": {},
          "showarrow": false,
          "text": "difficulty=1",
          "x": 0.755,
          "xanchor": "center",
          "xref": "paper",
          "y": 1,
          "yanchor": "bottom",
          "yref": "paper"
         }
        ],
        "legend": {
         "title": {
          "text": "solver, type"
         },
         "tracegroupgap": 0
        },
        "margin": {
         "t": 60
        },
        "template": {
         "data": {
          "bar": [
           {
            "error_x": {
             "color": "#2a3f5f"
            },
            "error_y": {
             "color": "#2a3f5f"
            },
            "marker": {
             "line": {
              "color": "#E5ECF6",
              "width": 0.5
             },
             "pattern": {
              "fillmode": "overlay",
              "size": 10,
              "solidity": 0.2
             }
            },
            "type": "bar"
           }
          ],
          "barpolar": [
           {
            "marker": {
             "line": {
              "color": "#E5ECF6",
              "width": 0.5
             },
             "pattern": {
              "fillmode": "overlay",
              "size": 10,
              "solidity": 0.2
             }
            },
            "type": "barpolar"
           }
          ],
          "carpet": [
           {
            "aaxis": {
             "endlinecolor": "#2a3f5f",
             "gridcolor": "white",
             "linecolor": "white",
             "minorgridcolor": "white",
             "startlinecolor": "#2a3f5f"
            },
            "baxis": {
             "endlinecolor": "#2a3f5f",
             "gridcolor": "white",
             "linecolor": "white",
             "minorgridcolor": "white",
             "startlinecolor": "#2a3f5f"
            },
            "type": "carpet"
           }
          ],
          "choropleth": [
           {
            "colorbar": {
             "outlinewidth": 0,
             "ticks": ""
            },
            "type": "choropleth"
           }
          ],
          "contour": [
           {
            "colorbar": {
             "outlinewidth": 0,
             "ticks": ""
            },
            "colorscale": [
             [
              0,
              "#0d0887"
             ],
             [
              0.1111111111111111,
              "#46039f"
             ],
             [
              0.2222222222222222,
              "#7201a8"
             ],
             [
              0.3333333333333333,
              "#9c179e"
             ],
             [
              0.4444444444444444,
              "#bd3786"
             ],
             [
              0.5555555555555556,
              "#d8576b"
             ],
             [
              0.6666666666666666,
              "#ed7953"
             ],
             [
              0.7777777777777778,
              "#fb9f3a"
             ],
             [
              0.8888888888888888,
              "#fdca26"
             ],
             [
              1,
              "#f0f921"
             ]
            ],
            "type": "contour"
           }
          ],
          "contourcarpet": [
           {
            "colorbar": {
             "outlinewidth": 0,
             "ticks": ""
            },
            "type": "contourcarpet"
           }
          ],
          "heatmap": [
           {
            "colorbar": {
             "outlinewidth": 0,
             "ticks": ""
            },
            "colorscale": [
             [
              0,
              "#0d0887"
             ],
             [
              0.1111111111111111,
              "#46039f"
             ],
             [
              0.2222222222222222,
              "#7201a8"
             ],
             [
              0.3333333333333333,
              "#9c179e"
             ],
             [
              0.4444444444444444,
              "#bd3786"
             ],
             [
              0.5555555555555556,
              "#d8576b"
             ],
             [
              0.6666666666666666,
              "#ed7953"
             ],
             [
              0.7777777777777778,
              "#fb9f3a"
             ],
             [
              0.8888888888888888,
              "#fdca26"
             ],
             [
              1,
              "#f0f921"
             ]
            ],
            "type": "heatmap"
           }
          ],
          "heatmapgl": [
           {
            "colorbar": {
             "outlinewidth": 0,
             "ticks": ""
            },
            "colorscale": [
             [
              0,
              "#0d0887"
             ],
             [
              0.1111111111111111,
              "#46039f"
             ],
             [
              0.2222222222222222,
              "#7201a8"
             ],
             [
              0.3333333333333333,
              "#9c179e"
             ],
             [
              0.4444444444444444,
              "#bd3786"
             ],
             [
              0.5555555555555556,
              "#d8576b"
             ],
             [
              0.6666666666666666,
              "#ed7953"
             ],
             [
              0.7777777777777778,
              "#fb9f3a"
             ],
             [
              0.8888888888888888,
              "#fdca26"
             ],
             [
              1,
              "#f0f921"
             ]
            ],
            "type": "heatmapgl"
           }
          ],
          "histogram": [
           {
            "marker": {
             "pattern": {
              "fillmode": "overlay",
              "size": 10,
              "solidity": 0.2
             }
            },
            "type": "histogram"
           }
          ],
          "histogram2d": [
           {
            "colorbar": {
             "outlinewidth": 0,
             "ticks": ""
            },
            "colorscale": [
             [
              0,
              "#0d0887"
             ],
             [
              0.1111111111111111,
              "#46039f"
             ],
             [
              0.2222222222222222,
              "#7201a8"
             ],
             [
              0.3333333333333333,
              "#9c179e"
             ],
             [
              0.4444444444444444,
              "#bd3786"
             ],
             [
              0.5555555555555556,
              "#d8576b"
             ],
             [
              0.6666666666666666,
              "#ed7953"
             ],
             [
              0.7777777777777778,
              "#fb9f3a"
             ],
             [
              0.8888888888888888,
              "#fdca26"
             ],
             [
              1,
              "#f0f921"
             ]
            ],
            "type": "histogram2d"
           }
          ],
          "histogram2dcontour": [
           {
            "colorbar": {
             "outlinewidth": 0,
             "ticks": ""
            },
            "colorscale": [
             [
              0,
              "#0d0887"
             ],
             [
              0.1111111111111111,
              "#46039f"
             ],
             [
              0.2222222222222222,
              "#7201a8"
             ],
             [
              0.3333333333333333,
              "#9c179e"
             ],
             [
              0.4444444444444444,
              "#bd3786"
             ],
             [
              0.5555555555555556,
              "#d8576b"
             ],
             [
              0.6666666666666666,
              "#ed7953"
             ],
             [
              0.7777777777777778,
              "#fb9f3a"
             ],
             [
              0.8888888888888888,
              "#fdca26"
             ],
             [
              1,
              "#f0f921"
             ]
            ],
            "type": "histogram2dcontour"
           }
          ],
          "mesh3d": [
           {
            "colorbar": {
             "outlinewidth": 0,
             "ticks": ""
            },
            "type": "mesh3d"
           }
          ],
          "parcoords": [
           {
            "line": {
             "colorbar": {
              "outlinewidth": 0,
              "ticks": ""
             }
            },
            "type": "parcoords"
           }
          ],
          "pie": [
           {
            "automargin": true,
            "type": "pie"
           }
          ],
          "scatter": [
           {
            "fillpattern": {
             "fillmode": "overlay",
             "size": 10,
             "solidity": 0.2
            },
            "type": "scatter"
           }
          ],
          "scatter3d": [
           {
            "line": {
             "colorbar": {
              "outlinewidth": 0,
              "ticks": ""
             }
            },
            "marker": {
             "colorbar": {
              "outlinewidth": 0,
              "ticks": ""
             }
            },
            "type": "scatter3d"
           }
          ],
          "scattercarpet": [
           {
            "marker": {
             "colorbar": {
              "outlinewidth": 0,
              "ticks": ""
             }
            },
            "type": "scattercarpet"
           }
          ],
          "scattergeo": [
           {
            "marker": {
             "colorbar": {
              "outlinewidth": 0,
              "ticks": ""
             }
            },
            "type": "scattergeo"
           }
          ],
          "scattergl": [
           {
            "marker": {
             "colorbar": {
              "outlinewidth": 0,
              "ticks": ""
             }
            },
            "type": "scattergl"
           }
          ],
          "scattermapbox": [
           {
            "marker": {
             "colorbar": {
              "outlinewidth": 0,
              "ticks": ""
             }
            },
            "type": "scattermapbox"
           }
          ],
          "scatterpolar": [
           {
            "marker": {
             "colorbar": {
              "outlinewidth": 0,
              "ticks": ""
             }
            },
            "type": "scatterpolar"
           }
          ],
          "scatterpolargl": [
           {
            "marker": {
             "colorbar": {
              "outlinewidth": 0,
              "ticks": ""
             }
            },
            "type": "scatterpolargl"
           }
          ],
          "scatterternary": [
           {
            "marker": {
             "colorbar": {
              "outlinewidth": 0,
              "ticks": ""
             }
            },
            "type": "scatterternary"
           }
          ],
          "surface": [
           {
            "colorbar": {
             "outlinewidth": 0,
             "ticks": ""
            },
            "colorscale": [
             [
              0,
              "#0d0887"
             ],
             [
              0.1111111111111111,
              "#46039f"
             ],
             [
              0.2222222222222222,
              "#7201a8"
             ],
             [
              0.3333333333333333,
              "#9c179e"
             ],
             [
              0.4444444444444444,
              "#bd3786"
             ],
             [
              0.5555555555555556,
              "#d8576b"
             ],
             [
              0.6666666666666666,
              "#ed7953"
             ],
             [
              0.7777777777777778,
              "#fb9f3a"
             ],
             [
              0.8888888888888888,
              "#fdca26"
             ],
             [
              1,
              "#f0f921"
             ]
            ],
            "type": "surface"
           }
          ],
          "table": [
           {
            "cells": {
             "fill": {
              "color": "#EBF0F8"
             },
             "line": {
              "color": "white"
             }
            },
            "header": {
             "fill": {
              "color": "#C8D4E3"
             },
             "line": {
              "color": "white"
             }
            },
            "type": "table"
           }
          ]
         },
         "layout": {
          "annotationdefaults": {
           "arrowcolor": "#2a3f5f",
           "arrowhead": 0,
           "arrowwidth": 1
          },
          "autotypenumbers": "strict",
          "coloraxis": {
           "colorbar": {
            "outlinewidth": 0,
            "ticks": ""
           }
          },
          "colorscale": {
           "diverging": [
            [
             0,
             "#8e0152"
            ],
            [
             0.1,
             "#c51b7d"
            ],
            [
             0.2,
             "#de77ae"
            ],
            [
             0.3,
             "#f1b6da"
            ],
            [
             0.4,
             "#fde0ef"
            ],
            [
             0.5,
             "#f7f7f7"
            ],
            [
             0.6,
             "#e6f5d0"
            ],
            [
             0.7,
             "#b8e186"
            ],
            [
             0.8,
             "#7fbc41"
            ],
            [
             0.9,
             "#4d9221"
            ],
            [
             1,
             "#276419"
            ]
           ],
           "sequential": [
            [
             0,
             "#0d0887"
            ],
            [
             0.1111111111111111,
             "#46039f"
            ],
            [
             0.2222222222222222,
             "#7201a8"
            ],
            [
             0.3333333333333333,
             "#9c179e"
            ],
            [
             0.4444444444444444,
             "#bd3786"
            ],
            [
             0.5555555555555556,
             "#d8576b"
            ],
            [
             0.6666666666666666,
             "#ed7953"
            ],
            [
             0.7777777777777778,
             "#fb9f3a"
            ],
            [
             0.8888888888888888,
             "#fdca26"
            ],
            [
             1,
             "#f0f921"
            ]
           ],
           "sequentialminus": [
            [
             0,
             "#0d0887"
            ],
            [
             0.1111111111111111,
             "#46039f"
            ],
            [
             0.2222222222222222,
             "#7201a8"
            ],
            [
             0.3333333333333333,
             "#9c179e"
            ],
            [
             0.4444444444444444,
             "#bd3786"
            ],
            [
             0.5555555555555556,
             "#d8576b"
            ],
            [
             0.6666666666666666,
             "#ed7953"
            ],
            [
             0.7777777777777778,
             "#fb9f3a"
            ],
            [
             0.8888888888888888,
             "#fdca26"
            ],
            [
             1,
             "#f0f921"
            ]
           ]
          },
          "colorway": [
           "#636efa",
           "#EF553B",
           "#00cc96",
           "#ab63fa",
           "#FFA15A",
           "#19d3f3",
           "#FF6692",
           "#B6E880",
           "#FF97FF",
           "#FECB52"
          ],
          "font": {
           "color": "#2a3f5f"
          },
          "geo": {
           "bgcolor": "white",
           "lakecolor": "white",
           "landcolor": "#E5ECF6",
           "showlakes": true,
           "showland": true,
           "subunitcolor": "white"
          },
          "hoverlabel": {
           "align": "left"
          },
          "hovermode": "closest",
          "mapbox": {
           "style": "light"
          },
          "paper_bgcolor": "white",
          "plot_bgcolor": "#E5ECF6",
          "polar": {
           "angularaxis": {
            "gridcolor": "white",
            "linecolor": "white",
            "ticks": ""
           },
           "bgcolor": "#E5ECF6",
           "radialaxis": {
            "gridcolor": "white",
            "linecolor": "white",
            "ticks": ""
           }
          },
          "scene": {
           "xaxis": {
            "backgroundcolor": "#E5ECF6",
            "gridcolor": "white",
            "gridwidth": 2,
            "linecolor": "white",
            "showbackground": true,
            "ticks": "",
            "zerolinecolor": "white"
           },
           "yaxis": {
            "backgroundcolor": "#E5ECF6",
            "gridcolor": "white",
            "gridwidth": 2,
            "linecolor": "white",
            "showbackground": true,
            "ticks": "",
            "zerolinecolor": "white"
           },
           "zaxis": {
            "backgroundcolor": "#E5ECF6",
            "gridcolor": "white",
            "gridwidth": 2,
            "linecolor": "white",
            "showbackground": true,
            "ticks": "",
            "zerolinecolor": "white"
           }
          },
          "shapedefaults": {
           "line": {
            "color": "#2a3f5f"
           }
          },
          "ternary": {
           "aaxis": {
            "gridcolor": "white",
            "linecolor": "white",
            "ticks": ""
           },
           "baxis": {
            "gridcolor": "white",
            "linecolor": "white",
            "ticks": ""
           },
           "bgcolor": "#E5ECF6",
           "caxis": {
            "gridcolor": "white",
            "linecolor": "white",
            "ticks": ""
           }
          },
          "title": {
           "x": 0.05
          },
          "xaxis": {
           "automargin": true,
           "gridcolor": "white",
           "linecolor": "white",
           "ticks": "",
           "title": {
            "standoff": 15
           },
           "zerolinecolor": "white",
           "zerolinewidth": 2
          },
          "yaxis": {
           "automargin": true,
           "gridcolor": "white",
           "linecolor": "white",
           "ticks": "",
           "title": {
            "standoff": 15
           },
           "zerolinecolor": "white",
           "zerolinewidth": 2
          }
         }
        },
        "xaxis": {
         "anchor": "y",
         "categoryarray": [
          "0_01",
          "0_02",
          "0_03",
          "0_04",
          "0_05",
          "0_06",
          "0_07",
          "0_08",
          "0_09",
          "0_10",
          "0_11",
          "0_12",
          "0_13",
          "0_14",
          "0_15",
          "0_16",
          "0_17",
          "0_18",
          "0_19",
          "0_20",
          "0_21",
          "0_22",
          "0_23",
          "0_24",
          "0_25",
          "0_26",
          "0_27",
          "0_28",
          "0_29",
          "0_30",
          "1_01",
          "1_02",
          "1_03",
          "1_04",
          "1_05",
          "1_06",
          "1_07",
          "1_08",
          "1_09",
          "1_10",
          "1_11",
          "1_12",
          "1_13",
          "1_14",
          "1_15",
          "1_16",
          "1_17",
          "1_18",
          "1_19",
          "1_20",
          "1_21",
          "1_22",
          "1_23",
          "1_24",
          "1_25",
          "1_26",
          "1_27",
          "1_28",
          "1_29",
          "1_30"
         ],
         "categoryorder": "array",
         "domain": [
          0,
          0.49
         ],
         "showticklabels": true,
         "title": {
          "text": "problem"
         }
        },
        "xaxis2": {
         "anchor": "y2",
         "categoryarray": [
          "0_01",
          "0_02",
          "0_03",
          "0_04",
          "0_05",
          "0_06",
          "0_07",
          "0_08",
          "0_09",
          "0_10",
          "0_11",
          "0_12",
          "0_13",
          "0_14",
          "0_15",
          "0_16",
          "0_17",
          "0_18",
          "0_19",
          "0_20",
          "0_21",
          "0_22",
          "0_23",
          "0_24",
          "0_25",
          "0_26",
          "0_27",
          "0_28",
          "0_29",
          "0_30",
          "1_01",
          "1_02",
          "1_03",
          "1_04",
          "1_05",
          "1_06",
          "1_07",
          "1_08",
          "1_09",
          "1_10",
          "1_11",
          "1_12",
          "1_13",
          "1_14",
          "1_15",
          "1_16",
          "1_17",
          "1_18",
          "1_19",
          "1_20",
          "1_21",
          "1_22",
          "1_23",
          "1_24",
          "1_25",
          "1_26",
          "1_27",
          "1_28",
          "1_29",
          "1_30"
         ],
         "categoryorder": "array",
         "domain": [
          0.51,
          1
         ],
         "showticklabels": true,
         "title": {
          "text": "problem"
         }
        },
        "yaxis": {
         "anchor": "x",
         "domain": [
          0,
          1
         ],
         "showticklabels": true,
         "title": {
          "text": "cycles_mean"
         }
        },
        "yaxis2": {
         "anchor": "x2",
         "domain": [
          0,
          1
         ],
         "showticklabels": true
        }
       }
      }
     },
     "metadata": {},
     "output_type": "display_data"
    },
    {
     "name": "stdout",
     "output_type": "stream",
     "text": [
      "rover\n"
     ]
    },
    {
     "data": {
      "application/vnd.plotly.v1+json": {
       "config": {
        "plotlyServerURL": "https://plot.ly"
       },
       "data": [
        {
         "error_y": {
          "array": [
           0,
           0,
           0,
           0,
           0,
           0,
           0,
           0,
           0,
           0,
           0,
           0,
           0,
           0,
           0,
           0,
           0,
           0,
           0,
           0,
           0,
           0,
           0,
           0,
           0,
           0,
           0,
           0,
           0,
           0
          ]
         },
         "hovertemplate": "solver=baseline<br>type=bounds<br>difficulty=0<br>problem=%{x}<br>cycles_mean=%{y}<extra></extra>",
         "legendgroup": "baseline, bounds",
         "line": {
          "color": "#636efa",
          "dash": "solid"
         },
         "marker": {
          "symbol": "circle"
         },
         "mode": "lines",
         "name": "baseline, bounds",
         "orientation": "v",
         "showlegend": true,
         "type": "scatter",
         "x": [
          "0_01",
          "0_02",
          "0_03",
          "0_04",
          "0_05",
          "0_06",
          "0_07",
          "0_08",
          "0_09",
          "0_10",
          "0_11",
          "0_12",
          "0_13",
          "0_14",
          "0_15",
          "0_16",
          "0_17",
          "0_18",
          "0_19",
          "0_20",
          "0_21",
          "0_22",
          "0_23",
          "0_24",
          "0_25",
          "0_26",
          "0_27",
          "0_28",
          "0_29",
          "0_30"
         ],
         "xaxis": "x",
         "y": [
          0,
          0,
          0,
          0,
          0,
          0,
          0,
          0,
          0,
          0,
          0,
          0,
          0,
          0,
          0,
          0,
          0,
          0,
          0,
          0,
          0,
          0,
          0,
          0,
          0,
          0,
          0,
          0,
          0,
          0
         ],
         "yaxis": "y"
        },
        {
         "error_y": {
          "array": [
           0,
           0,
           0,
           0,
           0,
           0,
           0,
           0,
           0,
           0,
           0,
           0,
           0,
           0,
           0,
           0,
           0,
           0,
           0,
           0,
           0,
           0,
           0,
           0,
           0,
           0,
           0,
           0,
           0,
           null
          ]
         },
         "hovertemplate": "solver=baseline<br>type=bounds<br>difficulty=1<br>problem=%{x}<br>cycles_mean=%{y}<extra></extra>",
         "legendgroup": "baseline, bounds",
         "line": {
          "color": "#636efa",
          "dash": "solid"
         },
         "marker": {
          "symbol": "circle"
         },
         "mode": "lines",
         "name": "baseline, bounds",
         "orientation": "v",
         "showlegend": false,
         "type": "scatter",
         "x": [
          "1_01",
          "1_02",
          "1_03",
          "1_04",
          "1_05",
          "1_06",
          "1_07",
          "1_08",
          "1_09",
          "1_10",
          "1_11",
          "1_12",
          "1_13",
          "1_14",
          "1_15",
          "1_16",
          "1_17",
          "1_18",
          "1_19",
          "1_20",
          "1_21",
          "1_22",
          "1_23",
          "1_24",
          "1_25",
          "1_26",
          "1_27",
          "1_28",
          "1_29",
          "1_30"
         ],
         "xaxis": "x2",
         "y": [
          0,
          0,
          0,
          0,
          0,
          0,
          0,
          0,
          0,
          0,
          0,
          0,
          0,
          0,
          0,
          0,
          0,
          0,
          0,
          0,
          0,
          0,
          0,
          0,
          0,
          0,
          0,
          0,
          0,
          null
         ],
         "yaxis": "y2"
        },
        {
         "error_y": {
          "array": [
           null,
           null,
           null,
           null,
           null,
           null,
           null,
           null,
           null,
           null,
           null,
           null,
           null,
           null,
           null,
           null,
           null,
           null,
           null,
           null,
           null,
           null,
           null,
           null,
           null,
           null,
           null,
           null,
           null,
           null
          ]
         },
         "hovertemplate": "solver=optimal<br>type=bounds<br>difficulty=0<br>problem=%{x}<br>cycles_mean=%{y}<extra></extra>",
         "legendgroup": "optimal, bounds",
         "line": {
          "color": "#EF553B",
          "dash": "solid"
         },
         "marker": {
          "symbol": "circle"
         },
         "mode": "lines",
         "name": "optimal, bounds",
         "orientation": "v",
         "showlegend": true,
         "type": "scatter",
         "x": [
          "0_01",
          "0_02",
          "0_03",
          "0_04",
          "0_05",
          "0_06",
          "0_07",
          "0_08",
          "0_09",
          "0_10",
          "0_11",
          "0_12",
          "0_13",
          "0_14",
          "0_15",
          "0_16",
          "0_17",
          "0_18",
          "0_19",
          "0_20",
          "0_21",
          "0_22",
          "0_23",
          "0_24",
          "0_25",
          "0_26",
          "0_27",
          "0_28",
          "0_29",
          "0_30"
         ],
         "xaxis": "x",
         "y": [
          0,
          0,
          0,
          0,
          0,
          0,
          0,
          0,
          0,
          0,
          0,
          0,
          0,
          0,
          0,
          0,
          0,
          0,
          0,
          0,
          0,
          0,
          0,
          0,
          0,
          0,
          0,
          0,
          0,
          0
         ],
         "yaxis": "y"
        },
        {
         "error_y": {
          "array": [
           null,
           null,
           null,
           null,
           null,
           null,
           null,
           null,
           null,
           null,
           null,
           null,
           null,
           null,
           null,
           null,
           null,
           null,
           null,
           null,
           null,
           null,
           null,
           null,
           null,
           null,
           null,
           null,
           null,
           null
          ]
         },
         "hovertemplate": "solver=optimal<br>type=bounds<br>difficulty=1<br>problem=%{x}<br>cycles_mean=%{y}<extra></extra>",
         "legendgroup": "optimal, bounds",
         "line": {
          "color": "#EF553B",
          "dash": "solid"
         },
         "marker": {
          "symbol": "circle"
         },
         "mode": "lines",
         "name": "optimal, bounds",
         "orientation": "v",
         "showlegend": false,
         "type": "scatter",
         "x": [
          "1_01",
          "1_02",
          "1_03",
          "1_04",
          "1_05",
          "1_06",
          "1_07",
          "1_08",
          "1_09",
          "1_10",
          "1_11",
          "1_12",
          "1_13",
          "1_14",
          "1_15",
          "1_16",
          "1_17",
          "1_18",
          "1_19",
          "1_20",
          "1_21",
          "1_22",
          "1_23",
          "1_24",
          "1_25",
          "1_26",
          "1_27",
          "1_28",
          "1_29",
          "1_30"
         ],
         "xaxis": "x2",
         "y": [
          0,
          0,
          0,
          0,
          0,
          0,
          0,
          0,
          0,
          0,
          0,
          0,
          0,
          0,
          0,
          0,
          0,
          0,
          0,
          0,
          0,
          0,
          0,
          0,
          0,
          0,
          0,
          0,
          0,
          0
         ],
         "yaxis": "y2"
        },
        {
         "error_y": {
          "array": [
           null,
           null,
           null,
           null,
           null,
           null,
           null,
           null,
           null,
           null,
           null,
           null,
           null,
           null,
           null,
           null,
           null,
           null,
           null,
           null,
           null,
           null,
           null,
           null,
           null,
           null,
           null,
           null,
           null,
           null
          ]
         },
         "hovertemplate": "solver=lama<br>type=bounds<br>difficulty=0<br>problem=%{x}<br>cycles_mean=%{y}<extra></extra>",
         "legendgroup": "lama, bounds",
         "line": {
          "color": "#00cc96",
          "dash": "solid"
         },
         "marker": {
          "symbol": "circle"
         },
         "mode": "lines",
         "name": "lama, bounds",
         "orientation": "v",
         "showlegend": true,
         "type": "scatter",
         "x": [
          "0_01",
          "0_02",
          "0_03",
          "0_04",
          "0_05",
          "0_06",
          "0_07",
          "0_08",
          "0_09",
          "0_10",
          "0_11",
          "0_12",
          "0_13",
          "0_14",
          "0_15",
          "0_16",
          "0_17",
          "0_18",
          "0_19",
          "0_20",
          "0_21",
          "0_22",
          "0_23",
          "0_24",
          "0_25",
          "0_26",
          "0_27",
          "0_28",
          "0_29",
          "0_30"
         ],
         "xaxis": "x",
         "y": [
          0,
          0,
          0,
          0,
          0,
          0,
          0,
          0,
          0,
          0,
          0,
          0,
          0,
          0,
          0,
          0,
          0,
          0,
          0,
          0,
          0,
          0,
          0,
          0,
          0,
          0,
          0,
          0,
          0,
          0
         ],
         "yaxis": "y"
        },
        {
         "error_y": {
          "array": [
           null,
           null,
           null,
           null,
           null,
           null,
           null,
           null,
           null,
           null,
           null,
           null,
           null,
           null,
           null,
           null,
           null,
           null,
           null,
           null,
           null,
           null,
           null,
           null,
           null,
           null,
           null,
           null,
           null,
           null
          ]
         },
         "hovertemplate": "solver=lama<br>type=bounds<br>difficulty=1<br>problem=%{x}<br>cycles_mean=%{y}<extra></extra>",
         "legendgroup": "lama, bounds",
         "line": {
          "color": "#00cc96",
          "dash": "solid"
         },
         "marker": {
          "symbol": "circle"
         },
         "mode": "lines",
         "name": "lama, bounds",
         "orientation": "v",
         "showlegend": false,
         "type": "scatter",
         "x": [
          "1_01",
          "1_02",
          "1_03",
          "1_04",
          "1_05",
          "1_06",
          "1_07",
          "1_08",
          "1_09",
          "1_10",
          "1_11",
          "1_12",
          "1_13",
          "1_14",
          "1_15",
          "1_16",
          "1_17",
          "1_18",
          "1_19",
          "1_20",
          "1_21",
          "1_22",
          "1_23",
          "1_24",
          "1_25",
          "1_26",
          "1_27",
          "1_28",
          "1_29",
          "1_30"
         ],
         "xaxis": "x2",
         "y": [
          0,
          0,
          0,
          0,
          0,
          0,
          0,
          0,
          0,
          0,
          0,
          0,
          0,
          0,
          0,
          0,
          0,
          0,
          0,
          0,
          0,
          0,
          0,
          0,
          0,
          0,
          0,
          0,
          0,
          0
         ],
         "yaxis": "y2"
        },
        {
         "error_y": {
          "array": [
           0,
           0,
           0,
           0,
           0,
           0,
           0,
           0,
           0,
           0,
           0,
           0,
           0,
           0,
           0,
           0,
           0,
           0,
           0,
           0,
           0,
           0,
           0,
           0,
           0,
           0,
           0,
           0,
           0,
           0
          ]
         },
         "hovertemplate": "solver=L2_D8_best<br>type=lrnn_best<br>difficulty=0<br>problem=%{x}<br>cycles_mean=%{y}<extra></extra>",
         "legendgroup": "L2_D8_best, lrnn_best",
         "line": {
          "color": "#ab63fa",
          "dash": "dot"
         },
         "marker": {
          "symbol": "circle"
         },
         "mode": "lines",
         "name": "L2_D8_best, lrnn_best",
         "orientation": "v",
         "showlegend": true,
         "type": "scatter",
         "x": [
          "0_01",
          "0_02",
          "0_03",
          "0_04",
          "0_05",
          "0_06",
          "0_07",
          "0_08",
          "0_09",
          "0_10",
          "0_11",
          "0_12",
          "0_13",
          "0_14",
          "0_15",
          "0_16",
          "0_17",
          "0_18",
          "0_19",
          "0_20",
          "0_21",
          "0_22",
          "0_23",
          "0_24",
          "0_25",
          "0_26",
          "0_27",
          "0_28",
          "0_29",
          "0_30"
         ],
         "xaxis": "x",
         "y": [
          0,
          0,
          0,
          0,
          0,
          0,
          0,
          0,
          0,
          0,
          0,
          0,
          0,
          0,
          0,
          0,
          0,
          0,
          0,
          0,
          0,
          0,
          0,
          0,
          0,
          0,
          0,
          0,
          0,
          0
         ],
         "yaxis": "y"
        },
        {
         "error_y": {
          "array": [
           0,
           0,
           0,
           0,
           0,
           0,
           0,
           0,
           0,
           0,
           0,
           0,
           0,
           0,
           0,
           0,
           0,
           0,
           0,
           0,
           0,
           0,
           0,
           0,
           0,
           0,
           0,
           0,
           null,
           null
          ]
         },
         "hovertemplate": "solver=L2_D8_best<br>type=lrnn_best<br>difficulty=1<br>problem=%{x}<br>cycles_mean=%{y}<extra></extra>",
         "legendgroup": "L2_D8_best, lrnn_best",
         "line": {
          "color": "#ab63fa",
          "dash": "dot"
         },
         "marker": {
          "symbol": "circle"
         },
         "mode": "lines",
         "name": "L2_D8_best, lrnn_best",
         "orientation": "v",
         "showlegend": false,
         "type": "scatter",
         "x": [
          "1_01",
          "1_02",
          "1_03",
          "1_04",
          "1_05",
          "1_06",
          "1_07",
          "1_08",
          "1_09",
          "1_10",
          "1_11",
          "1_12",
          "1_13",
          "1_14",
          "1_15",
          "1_16",
          "1_17",
          "1_18",
          "1_19",
          "1_20",
          "1_21",
          "1_22",
          "1_23",
          "1_24",
          "1_25",
          "1_26",
          "1_27",
          "1_28",
          "1_29",
          "1_30"
         ],
         "xaxis": "x2",
         "y": [
          0,
          0,
          0,
          0,
          0,
          0,
          0,
          0,
          0,
          0,
          0,
          0,
          0,
          0,
          0,
          0,
          0,
          0,
          0,
          0,
          0,
          0,
          0,
          0,
          0,
          0,
          0,
          0,
          null,
          null
         ],
         "yaxis": "y2"
        },
        {
         "error_y": {
          "array": [
           0,
           0,
           0,
           0,
           0,
           0,
           0,
           0,
           0,
           0,
           0,
           0,
           0,
           0,
           0,
           0,
           0,
           0,
           0,
           0,
           0,
           0,
           0,
           0,
           0,
           0,
           0,
           0,
           0,
           0
          ]
         },
         "hovertemplate": "solver=L2_D16_best<br>type=lrnn_best<br>difficulty=0<br>problem=%{x}<br>cycles_mean=%{y}<extra></extra>",
         "legendgroup": "L2_D16_best, lrnn_best",
         "line": {
          "color": "#FFA15A",
          "dash": "dot"
         },
         "marker": {
          "symbol": "circle"
         },
         "mode": "lines",
         "name": "L2_D16_best, lrnn_best",
         "orientation": "v",
         "showlegend": true,
         "type": "scatter",
         "x": [
          "0_01",
          "0_02",
          "0_03",
          "0_04",
          "0_05",
          "0_06",
          "0_07",
          "0_08",
          "0_09",
          "0_10",
          "0_11",
          "0_12",
          "0_13",
          "0_14",
          "0_15",
          "0_16",
          "0_17",
          "0_18",
          "0_19",
          "0_20",
          "0_21",
          "0_22",
          "0_23",
          "0_24",
          "0_25",
          "0_26",
          "0_27",
          "0_28",
          "0_29",
          "0_30"
         ],
         "xaxis": "x",
         "y": [
          0,
          0,
          0,
          0,
          0,
          0,
          0,
          0,
          0,
          0,
          0,
          0,
          0,
          0,
          0,
          0,
          0,
          0,
          0,
          0,
          0,
          0,
          0,
          0,
          0,
          0,
          0,
          0,
          0,
          0
         ],
         "yaxis": "y"
        },
        {
         "error_y": {
          "array": [
           0,
           0,
           0,
           0,
           0,
           0,
           0,
           0,
           0,
           0,
           0,
           0,
           0,
           0,
           0,
           0,
           0,
           0,
           0,
           0,
           0,
           0,
           0,
           0,
           0,
           0,
           0,
           0,
           null,
           null
          ]
         },
         "hovertemplate": "solver=L2_D16_best<br>type=lrnn_best<br>difficulty=1<br>problem=%{x}<br>cycles_mean=%{y}<extra></extra>",
         "legendgroup": "L2_D16_best, lrnn_best",
         "line": {
          "color": "#FFA15A",
          "dash": "dot"
         },
         "marker": {
          "symbol": "circle"
         },
         "mode": "lines",
         "name": "L2_D16_best, lrnn_best",
         "orientation": "v",
         "showlegend": false,
         "type": "scatter",
         "x": [
          "1_01",
          "1_02",
          "1_03",
          "1_04",
          "1_05",
          "1_06",
          "1_07",
          "1_08",
          "1_09",
          "1_10",
          "1_11",
          "1_12",
          "1_13",
          "1_14",
          "1_15",
          "1_16",
          "1_17",
          "1_18",
          "1_19",
          "1_20",
          "1_21",
          "1_22",
          "1_23",
          "1_24",
          "1_25",
          "1_26",
          "1_27",
          "1_28",
          "1_29",
          "1_30"
         ],
         "xaxis": "x2",
         "y": [
          0,
          0,
          0,
          0,
          0,
          0,
          0,
          0,
          0,
          0,
          0,
          0,
          0,
          0,
          0,
          0,
          0,
          0,
          0,
          0,
          0,
          0,
          0,
          0,
          0,
          0,
          0,
          0,
          null,
          null
         ],
         "yaxis": "y2"
        },
        {
         "error_y": {
          "array": [
           0,
           0,
           0,
           0,
           0,
           0,
           0,
           0,
           0,
           0,
           0,
           0,
           0,
           0,
           0,
           0,
           0,
           0,
           0,
           0,
           0,
           0,
           0,
           0,
           0,
           0,
           0,
           0,
           0,
           0
          ]
         },
         "hovertemplate": "solver=L3_D8_best<br>type=lrnn_best<br>difficulty=0<br>problem=%{x}<br>cycles_mean=%{y}<extra></extra>",
         "legendgroup": "L3_D8_best, lrnn_best",
         "line": {
          "color": "#19d3f3",
          "dash": "dot"
         },
         "marker": {
          "symbol": "circle"
         },
         "mode": "lines",
         "name": "L3_D8_best, lrnn_best",
         "orientation": "v",
         "showlegend": true,
         "type": "scatter",
         "x": [
          "0_01",
          "0_02",
          "0_03",
          "0_04",
          "0_05",
          "0_06",
          "0_07",
          "0_08",
          "0_09",
          "0_10",
          "0_11",
          "0_12",
          "0_13",
          "0_14",
          "0_15",
          "0_16",
          "0_17",
          "0_18",
          "0_19",
          "0_20",
          "0_21",
          "0_22",
          "0_23",
          "0_24",
          "0_25",
          "0_26",
          "0_27",
          "0_28",
          "0_29",
          "0_30"
         ],
         "xaxis": "x",
         "y": [
          0,
          0,
          0,
          0,
          0,
          0,
          0,
          0,
          0,
          0,
          0,
          0,
          0,
          0,
          0,
          0,
          0,
          0,
          0,
          0,
          0,
          0,
          0,
          0,
          0,
          0,
          0,
          0,
          0,
          0
         ],
         "yaxis": "y"
        },
        {
         "error_y": {
          "array": [
           0,
           0,
           0,
           0,
           0,
           0,
           0,
           0,
           0,
           0,
           0,
           0,
           0,
           0,
           0,
           0,
           0,
           0,
           0,
           0,
           0,
           0,
           0,
           0,
           0,
           0,
           0,
           0,
           null,
           null
          ]
         },
         "hovertemplate": "solver=L3_D8_best<br>type=lrnn_best<br>difficulty=1<br>problem=%{x}<br>cycles_mean=%{y}<extra></extra>",
         "legendgroup": "L3_D8_best, lrnn_best",
         "line": {
          "color": "#19d3f3",
          "dash": "dot"
         },
         "marker": {
          "symbol": "circle"
         },
         "mode": "lines",
         "name": "L3_D8_best, lrnn_best",
         "orientation": "v",
         "showlegend": false,
         "type": "scatter",
         "x": [
          "1_01",
          "1_02",
          "1_03",
          "1_04",
          "1_05",
          "1_06",
          "1_07",
          "1_08",
          "1_09",
          "1_10",
          "1_11",
          "1_12",
          "1_13",
          "1_14",
          "1_15",
          "1_16",
          "1_17",
          "1_18",
          "1_19",
          "1_20",
          "1_21",
          "1_22",
          "1_23",
          "1_24",
          "1_25",
          "1_26",
          "1_27",
          "1_28",
          "1_29",
          "1_30"
         ],
         "xaxis": "x2",
         "y": [
          0,
          0,
          0,
          0,
          0,
          0,
          0,
          0,
          0,
          0,
          0,
          0,
          0,
          0,
          0,
          0,
          0,
          0,
          0,
          0,
          0,
          0,
          0,
          0,
          0,
          0,
          0,
          0,
          null,
          null
         ],
         "yaxis": "y2"
        }
       ],
       "layout": {
        "annotations": [
         {
          "font": {},
          "showarrow": false,
          "text": "difficulty=0",
          "x": 0.245,
          "xanchor": "center",
          "xref": "paper",
          "y": 1,
          "yanchor": "bottom",
          "yref": "paper"
         },
         {
          "font": {},
          "showarrow": false,
          "text": "difficulty=1",
          "x": 0.755,
          "xanchor": "center",
          "xref": "paper",
          "y": 1,
          "yanchor": "bottom",
          "yref": "paper"
         }
        ],
        "legend": {
         "title": {
          "text": "solver, type"
         },
         "tracegroupgap": 0
        },
        "margin": {
         "t": 60
        },
        "template": {
         "data": {
          "bar": [
           {
            "error_x": {
             "color": "#2a3f5f"
            },
            "error_y": {
             "color": "#2a3f5f"
            },
            "marker": {
             "line": {
              "color": "#E5ECF6",
              "width": 0.5
             },
             "pattern": {
              "fillmode": "overlay",
              "size": 10,
              "solidity": 0.2
             }
            },
            "type": "bar"
           }
          ],
          "barpolar": [
           {
            "marker": {
             "line": {
              "color": "#E5ECF6",
              "width": 0.5
             },
             "pattern": {
              "fillmode": "overlay",
              "size": 10,
              "solidity": 0.2
             }
            },
            "type": "barpolar"
           }
          ],
          "carpet": [
           {
            "aaxis": {
             "endlinecolor": "#2a3f5f",
             "gridcolor": "white",
             "linecolor": "white",
             "minorgridcolor": "white",
             "startlinecolor": "#2a3f5f"
            },
            "baxis": {
             "endlinecolor": "#2a3f5f",
             "gridcolor": "white",
             "linecolor": "white",
             "minorgridcolor": "white",
             "startlinecolor": "#2a3f5f"
            },
            "type": "carpet"
           }
          ],
          "choropleth": [
           {
            "colorbar": {
             "outlinewidth": 0,
             "ticks": ""
            },
            "type": "choropleth"
           }
          ],
          "contour": [
           {
            "colorbar": {
             "outlinewidth": 0,
             "ticks": ""
            },
            "colorscale": [
             [
              0,
              "#0d0887"
             ],
             [
              0.1111111111111111,
              "#46039f"
             ],
             [
              0.2222222222222222,
              "#7201a8"
             ],
             [
              0.3333333333333333,
              "#9c179e"
             ],
             [
              0.4444444444444444,
              "#bd3786"
             ],
             [
              0.5555555555555556,
              "#d8576b"
             ],
             [
              0.6666666666666666,
              "#ed7953"
             ],
             [
              0.7777777777777778,
              "#fb9f3a"
             ],
             [
              0.8888888888888888,
              "#fdca26"
             ],
             [
              1,
              "#f0f921"
             ]
            ],
            "type": "contour"
           }
          ],
          "contourcarpet": [
           {
            "colorbar": {
             "outlinewidth": 0,
             "ticks": ""
            },
            "type": "contourcarpet"
           }
          ],
          "heatmap": [
           {
            "colorbar": {
             "outlinewidth": 0,
             "ticks": ""
            },
            "colorscale": [
             [
              0,
              "#0d0887"
             ],
             [
              0.1111111111111111,
              "#46039f"
             ],
             [
              0.2222222222222222,
              "#7201a8"
             ],
             [
              0.3333333333333333,
              "#9c179e"
             ],
             [
              0.4444444444444444,
              "#bd3786"
             ],
             [
              0.5555555555555556,
              "#d8576b"
             ],
             [
              0.6666666666666666,
              "#ed7953"
             ],
             [
              0.7777777777777778,
              "#fb9f3a"
             ],
             [
              0.8888888888888888,
              "#fdca26"
             ],
             [
              1,
              "#f0f921"
             ]
            ],
            "type": "heatmap"
           }
          ],
          "heatmapgl": [
           {
            "colorbar": {
             "outlinewidth": 0,
             "ticks": ""
            },
            "colorscale": [
             [
              0,
              "#0d0887"
             ],
             [
              0.1111111111111111,
              "#46039f"
             ],
             [
              0.2222222222222222,
              "#7201a8"
             ],
             [
              0.3333333333333333,
              "#9c179e"
             ],
             [
              0.4444444444444444,
              "#bd3786"
             ],
             [
              0.5555555555555556,
              "#d8576b"
             ],
             [
              0.6666666666666666,
              "#ed7953"
             ],
             [
              0.7777777777777778,
              "#fb9f3a"
             ],
             [
              0.8888888888888888,
              "#fdca26"
             ],
             [
              1,
              "#f0f921"
             ]
            ],
            "type": "heatmapgl"
           }
          ],
          "histogram": [
           {
            "marker": {
             "pattern": {
              "fillmode": "overlay",
              "size": 10,
              "solidity": 0.2
             }
            },
            "type": "histogram"
           }
          ],
          "histogram2d": [
           {
            "colorbar": {
             "outlinewidth": 0,
             "ticks": ""
            },
            "colorscale": [
             [
              0,
              "#0d0887"
             ],
             [
              0.1111111111111111,
              "#46039f"
             ],
             [
              0.2222222222222222,
              "#7201a8"
             ],
             [
              0.3333333333333333,
              "#9c179e"
             ],
             [
              0.4444444444444444,
              "#bd3786"
             ],
             [
              0.5555555555555556,
              "#d8576b"
             ],
             [
              0.6666666666666666,
              "#ed7953"
             ],
             [
              0.7777777777777778,
              "#fb9f3a"
             ],
             [
              0.8888888888888888,
              "#fdca26"
             ],
             [
              1,
              "#f0f921"
             ]
            ],
            "type": "histogram2d"
           }
          ],
          "histogram2dcontour": [
           {
            "colorbar": {
             "outlinewidth": 0,
             "ticks": ""
            },
            "colorscale": [
             [
              0,
              "#0d0887"
             ],
             [
              0.1111111111111111,
              "#46039f"
             ],
             [
              0.2222222222222222,
              "#7201a8"
             ],
             [
              0.3333333333333333,
              "#9c179e"
             ],
             [
              0.4444444444444444,
              "#bd3786"
             ],
             [
              0.5555555555555556,
              "#d8576b"
             ],
             [
              0.6666666666666666,
              "#ed7953"
             ],
             [
              0.7777777777777778,
              "#fb9f3a"
             ],
             [
              0.8888888888888888,
              "#fdca26"
             ],
             [
              1,
              "#f0f921"
             ]
            ],
            "type": "histogram2dcontour"
           }
          ],
          "mesh3d": [
           {
            "colorbar": {
             "outlinewidth": 0,
             "ticks": ""
            },
            "type": "mesh3d"
           }
          ],
          "parcoords": [
           {
            "line": {
             "colorbar": {
              "outlinewidth": 0,
              "ticks": ""
             }
            },
            "type": "parcoords"
           }
          ],
          "pie": [
           {
            "automargin": true,
            "type": "pie"
           }
          ],
          "scatter": [
           {
            "fillpattern": {
             "fillmode": "overlay",
             "size": 10,
             "solidity": 0.2
            },
            "type": "scatter"
           }
          ],
          "scatter3d": [
           {
            "line": {
             "colorbar": {
              "outlinewidth": 0,
              "ticks": ""
             }
            },
            "marker": {
             "colorbar": {
              "outlinewidth": 0,
              "ticks": ""
             }
            },
            "type": "scatter3d"
           }
          ],
          "scattercarpet": [
           {
            "marker": {
             "colorbar": {
              "outlinewidth": 0,
              "ticks": ""
             }
            },
            "type": "scattercarpet"
           }
          ],
          "scattergeo": [
           {
            "marker": {
             "colorbar": {
              "outlinewidth": 0,
              "ticks": ""
             }
            },
            "type": "scattergeo"
           }
          ],
          "scattergl": [
           {
            "marker": {
             "colorbar": {
              "outlinewidth": 0,
              "ticks": ""
             }
            },
            "type": "scattergl"
           }
          ],
          "scattermapbox": [
           {
            "marker": {
             "colorbar": {
              "outlinewidth": 0,
              "ticks": ""
             }
            },
            "type": "scattermapbox"
           }
          ],
          "scatterpolar": [
           {
            "marker": {
             "colorbar": {
              "outlinewidth": 0,
              "ticks": ""
             }
            },
            "type": "scatterpolar"
           }
          ],
          "scatterpolargl": [
           {
            "marker": {
             "colorbar": {
              "outlinewidth": 0,
              "ticks": ""
             }
            },
            "type": "scatterpolargl"
           }
          ],
          "scatterternary": [
           {
            "marker": {
             "colorbar": {
              "outlinewidth": 0,
              "ticks": ""
             }
            },
            "type": "scatterternary"
           }
          ],
          "surface": [
           {
            "colorbar": {
             "outlinewidth": 0,
             "ticks": ""
            },
            "colorscale": [
             [
              0,
              "#0d0887"
             ],
             [
              0.1111111111111111,
              "#46039f"
             ],
             [
              0.2222222222222222,
              "#7201a8"
             ],
             [
              0.3333333333333333,
              "#9c179e"
             ],
             [
              0.4444444444444444,
              "#bd3786"
             ],
             [
              0.5555555555555556,
              "#d8576b"
             ],
             [
              0.6666666666666666,
              "#ed7953"
             ],
             [
              0.7777777777777778,
              "#fb9f3a"
             ],
             [
              0.8888888888888888,
              "#fdca26"
             ],
             [
              1,
              "#f0f921"
             ]
            ],
            "type": "surface"
           }
          ],
          "table": [
           {
            "cells": {
             "fill": {
              "color": "#EBF0F8"
             },
             "line": {
              "color": "white"
             }
            },
            "header": {
             "fill": {
              "color": "#C8D4E3"
             },
             "line": {
              "color": "white"
             }
            },
            "type": "table"
           }
          ]
         },
         "layout": {
          "annotationdefaults": {
           "arrowcolor": "#2a3f5f",
           "arrowhead": 0,
           "arrowwidth": 1
          },
          "autotypenumbers": "strict",
          "coloraxis": {
           "colorbar": {
            "outlinewidth": 0,
            "ticks": ""
           }
          },
          "colorscale": {
           "diverging": [
            [
             0,
             "#8e0152"
            ],
            [
             0.1,
             "#c51b7d"
            ],
            [
             0.2,
             "#de77ae"
            ],
            [
             0.3,
             "#f1b6da"
            ],
            [
             0.4,
             "#fde0ef"
            ],
            [
             0.5,
             "#f7f7f7"
            ],
            [
             0.6,
             "#e6f5d0"
            ],
            [
             0.7,
             "#b8e186"
            ],
            [
             0.8,
             "#7fbc41"
            ],
            [
             0.9,
             "#4d9221"
            ],
            [
             1,
             "#276419"
            ]
           ],
           "sequential": [
            [
             0,
             "#0d0887"
            ],
            [
             0.1111111111111111,
             "#46039f"
            ],
            [
             0.2222222222222222,
             "#7201a8"
            ],
            [
             0.3333333333333333,
             "#9c179e"
            ],
            [
             0.4444444444444444,
             "#bd3786"
            ],
            [
             0.5555555555555556,
             "#d8576b"
            ],
            [
             0.6666666666666666,
             "#ed7953"
            ],
            [
             0.7777777777777778,
             "#fb9f3a"
            ],
            [
             0.8888888888888888,
             "#fdca26"
            ],
            [
             1,
             "#f0f921"
            ]
           ],
           "sequentialminus": [
            [
             0,
             "#0d0887"
            ],
            [
             0.1111111111111111,
             "#46039f"
            ],
            [
             0.2222222222222222,
             "#7201a8"
            ],
            [
             0.3333333333333333,
             "#9c179e"
            ],
            [
             0.4444444444444444,
             "#bd3786"
            ],
            [
             0.5555555555555556,
             "#d8576b"
            ],
            [
             0.6666666666666666,
             "#ed7953"
            ],
            [
             0.7777777777777778,
             "#fb9f3a"
            ],
            [
             0.8888888888888888,
             "#fdca26"
            ],
            [
             1,
             "#f0f921"
            ]
           ]
          },
          "colorway": [
           "#636efa",
           "#EF553B",
           "#00cc96",
           "#ab63fa",
           "#FFA15A",
           "#19d3f3",
           "#FF6692",
           "#B6E880",
           "#FF97FF",
           "#FECB52"
          ],
          "font": {
           "color": "#2a3f5f"
          },
          "geo": {
           "bgcolor": "white",
           "lakecolor": "white",
           "landcolor": "#E5ECF6",
           "showlakes": true,
           "showland": true,
           "subunitcolor": "white"
          },
          "hoverlabel": {
           "align": "left"
          },
          "hovermode": "closest",
          "mapbox": {
           "style": "light"
          },
          "paper_bgcolor": "white",
          "plot_bgcolor": "#E5ECF6",
          "polar": {
           "angularaxis": {
            "gridcolor": "white",
            "linecolor": "white",
            "ticks": ""
           },
           "bgcolor": "#E5ECF6",
           "radialaxis": {
            "gridcolor": "white",
            "linecolor": "white",
            "ticks": ""
           }
          },
          "scene": {
           "xaxis": {
            "backgroundcolor": "#E5ECF6",
            "gridcolor": "white",
            "gridwidth": 2,
            "linecolor": "white",
            "showbackground": true,
            "ticks": "",
            "zerolinecolor": "white"
           },
           "yaxis": {
            "backgroundcolor": "#E5ECF6",
            "gridcolor": "white",
            "gridwidth": 2,
            "linecolor": "white",
            "showbackground": true,
            "ticks": "",
            "zerolinecolor": "white"
           },
           "zaxis": {
            "backgroundcolor": "#E5ECF6",
            "gridcolor": "white",
            "gridwidth": 2,
            "linecolor": "white",
            "showbackground": true,
            "ticks": "",
            "zerolinecolor": "white"
           }
          },
          "shapedefaults": {
           "line": {
            "color": "#2a3f5f"
           }
          },
          "ternary": {
           "aaxis": {
            "gridcolor": "white",
            "linecolor": "white",
            "ticks": ""
           },
           "baxis": {
            "gridcolor": "white",
            "linecolor": "white",
            "ticks": ""
           },
           "bgcolor": "#E5ECF6",
           "caxis": {
            "gridcolor": "white",
            "linecolor": "white",
            "ticks": ""
           }
          },
          "title": {
           "x": 0.05
          },
          "xaxis": {
           "automargin": true,
           "gridcolor": "white",
           "linecolor": "white",
           "ticks": "",
           "title": {
            "standoff": 15
           },
           "zerolinecolor": "white",
           "zerolinewidth": 2
          },
          "yaxis": {
           "automargin": true,
           "gridcolor": "white",
           "linecolor": "white",
           "ticks": "",
           "title": {
            "standoff": 15
           },
           "zerolinecolor": "white",
           "zerolinewidth": 2
          }
         }
        },
        "xaxis": {
         "anchor": "y",
         "categoryarray": [
          "0_01",
          "0_02",
          "0_03",
          "0_04",
          "0_05",
          "0_06",
          "0_07",
          "0_08",
          "0_09",
          "0_10",
          "0_11",
          "0_12",
          "0_13",
          "0_14",
          "0_15",
          "0_16",
          "0_17",
          "0_18",
          "0_19",
          "0_20",
          "0_21",
          "0_22",
          "0_23",
          "0_24",
          "0_25",
          "0_26",
          "0_27",
          "0_28",
          "0_29",
          "0_30",
          "1_01",
          "1_02",
          "1_03",
          "1_04",
          "1_05",
          "1_06",
          "1_07",
          "1_08",
          "1_09",
          "1_10",
          "1_11",
          "1_12",
          "1_13",
          "1_14",
          "1_15",
          "1_16",
          "1_17",
          "1_18",
          "1_19",
          "1_20",
          "1_21",
          "1_22",
          "1_23",
          "1_24",
          "1_25",
          "1_26",
          "1_27",
          "1_28",
          "1_29",
          "1_30"
         ],
         "categoryorder": "array",
         "domain": [
          0,
          0.49
         ],
         "showticklabels": true,
         "title": {
          "text": "problem"
         }
        },
        "xaxis2": {
         "anchor": "y2",
         "categoryarray": [
          "0_01",
          "0_02",
          "0_03",
          "0_04",
          "0_05",
          "0_06",
          "0_07",
          "0_08",
          "0_09",
          "0_10",
          "0_11",
          "0_12",
          "0_13",
          "0_14",
          "0_15",
          "0_16",
          "0_17",
          "0_18",
          "0_19",
          "0_20",
          "0_21",
          "0_22",
          "0_23",
          "0_24",
          "0_25",
          "0_26",
          "0_27",
          "0_28",
          "0_29",
          "0_30",
          "1_01",
          "1_02",
          "1_03",
          "1_04",
          "1_05",
          "1_06",
          "1_07",
          "1_08",
          "1_09",
          "1_10",
          "1_11",
          "1_12",
          "1_13",
          "1_14",
          "1_15",
          "1_16",
          "1_17",
          "1_18",
          "1_19",
          "1_20",
          "1_21",
          "1_22",
          "1_23",
          "1_24",
          "1_25",
          "1_26",
          "1_27",
          "1_28",
          "1_29",
          "1_30"
         ],
         "categoryorder": "array",
         "domain": [
          0.51,
          1
         ],
         "showticklabels": true,
         "title": {
          "text": "problem"
         }
        },
        "yaxis": {
         "anchor": "x",
         "domain": [
          0,
          1
         ],
         "showticklabels": true,
         "title": {
          "text": "cycles_mean"
         }
        },
        "yaxis2": {
         "anchor": "x2",
         "domain": [
          0,
          1
         ],
         "showticklabels": true
        }
       }
      }
     },
     "metadata": {},
     "output_type": "display_data"
    }
   ],
   "source": [
    "plot_domains(\"cycles\", log_y=0, choices=choices, layers=layers, dimensions=dimensions)"
   ]
  },
  {
   "cell_type": "markdown",
   "metadata": {},
   "source": [
    "# Quantified improvements"
   ]
  },
  {
   "cell_type": "code",
   "execution_count": null,
   "metadata": {},
   "outputs": [
    {
     "name": "stdout",
     "output_type": "stream",
     "text": [
      "blocksworld\n"
     ]
    },
    {
     "data": {
      "application/vnd.plotly.v1+json": {
       "config": {
        "plotlyServerURL": "https://plot.ly"
       },
       "data": [
        {
         "error_y": {
          "array": [
           2.851519991849227,
           3.090044245323504,
           2.331183617942405,
           3.2138861295814163
          ]
         },
         "hovertemplate": "difficulty=0<br>config=%{x}<br>improvement (%) mean=%{y}<extra></extra>",
         "legendgroup": "",
         "marker": {
          "color": "#636efa",
          "symbol": "circle"
         },
         "mode": "markers",
         "name": "",
         "orientation": "v",
         "showlegend": false,
         "type": "scatter",
         "x": [
          "2_16",
          "2_8",
          "3_16",
          "3_8"
         ],
         "xaxis": "x",
         "y": [
          2.4453912913420703,
          0.12512925206856687,
          0.6254262577604962,
          2.656180424156524
         ],
         "yaxis": "y"
        },
        {
         "error_y": {
          "array": [
           2.0020316534566254,
           1.4912451785403036,
           1.373174630020677,
           2.2973983708452432
          ]
         },
         "hovertemplate": "difficulty=1<br>config=%{x}<br>improvement (%) mean=%{y}<extra></extra>",
         "legendgroup": "",
         "marker": {
          "color": "#636efa",
          "symbol": "circle"
         },
         "mode": "markers",
         "name": "",
         "orientation": "v",
         "showlegend": false,
         "type": "scatter",
         "x": [
          "2_16",
          "2_8",
          "3_16",
          "3_8"
         ],
         "xaxis": "x2",
         "y": [
          3.193996220786265,
          0.08666584859286515,
          0.15051907821246666,
          5.128714184301566
         ],
         "yaxis": "y2"
        }
       ],
       "layout": {
        "annotations": [
         {
          "font": {},
          "showarrow": false,
          "text": "difficulty=0",
          "x": 0.245,
          "xanchor": "center",
          "xref": "paper",
          "y": 1,
          "yanchor": "bottom",
          "yref": "paper"
         },
         {
          "font": {},
          "showarrow": false,
          "text": "difficulty=1",
          "x": 0.755,
          "xanchor": "center",
          "xref": "paper",
          "y": 1,
          "yanchor": "bottom",
          "yref": "paper"
         }
        ],
        "legend": {
         "tracegroupgap": 0
        },
        "margin": {
         "t": 60
        },
        "template": {
         "data": {
          "bar": [
           {
            "error_x": {
             "color": "#2a3f5f"
            },
            "error_y": {
             "color": "#2a3f5f"
            },
            "marker": {
             "line": {
              "color": "#E5ECF6",
              "width": 0.5
             },
             "pattern": {
              "fillmode": "overlay",
              "size": 10,
              "solidity": 0.2
             }
            },
            "type": "bar"
           }
          ],
          "barpolar": [
           {
            "marker": {
             "line": {
              "color": "#E5ECF6",
              "width": 0.5
             },
             "pattern": {
              "fillmode": "overlay",
              "size": 10,
              "solidity": 0.2
             }
            },
            "type": "barpolar"
           }
          ],
          "carpet": [
           {
            "aaxis": {
             "endlinecolor": "#2a3f5f",
             "gridcolor": "white",
             "linecolor": "white",
             "minorgridcolor": "white",
             "startlinecolor": "#2a3f5f"
            },
            "baxis": {
             "endlinecolor": "#2a3f5f",
             "gridcolor": "white",
             "linecolor": "white",
             "minorgridcolor": "white",
             "startlinecolor": "#2a3f5f"
            },
            "type": "carpet"
           }
          ],
          "choropleth": [
           {
            "colorbar": {
             "outlinewidth": 0,
             "ticks": ""
            },
            "type": "choropleth"
           }
          ],
          "contour": [
           {
            "colorbar": {
             "outlinewidth": 0,
             "ticks": ""
            },
            "colorscale": [
             [
              0,
              "#0d0887"
             ],
             [
              0.1111111111111111,
              "#46039f"
             ],
             [
              0.2222222222222222,
              "#7201a8"
             ],
             [
              0.3333333333333333,
              "#9c179e"
             ],
             [
              0.4444444444444444,
              "#bd3786"
             ],
             [
              0.5555555555555556,
              "#d8576b"
             ],
             [
              0.6666666666666666,
              "#ed7953"
             ],
             [
              0.7777777777777778,
              "#fb9f3a"
             ],
             [
              0.8888888888888888,
              "#fdca26"
             ],
             [
              1,
              "#f0f921"
             ]
            ],
            "type": "contour"
           }
          ],
          "contourcarpet": [
           {
            "colorbar": {
             "outlinewidth": 0,
             "ticks": ""
            },
            "type": "contourcarpet"
           }
          ],
          "heatmap": [
           {
            "colorbar": {
             "outlinewidth": 0,
             "ticks": ""
            },
            "colorscale": [
             [
              0,
              "#0d0887"
             ],
             [
              0.1111111111111111,
              "#46039f"
             ],
             [
              0.2222222222222222,
              "#7201a8"
             ],
             [
              0.3333333333333333,
              "#9c179e"
             ],
             [
              0.4444444444444444,
              "#bd3786"
             ],
             [
              0.5555555555555556,
              "#d8576b"
             ],
             [
              0.6666666666666666,
              "#ed7953"
             ],
             [
              0.7777777777777778,
              "#fb9f3a"
             ],
             [
              0.8888888888888888,
              "#fdca26"
             ],
             [
              1,
              "#f0f921"
             ]
            ],
            "type": "heatmap"
           }
          ],
          "heatmapgl": [
           {
            "colorbar": {
             "outlinewidth": 0,
             "ticks": ""
            },
            "colorscale": [
             [
              0,
              "#0d0887"
             ],
             [
              0.1111111111111111,
              "#46039f"
             ],
             [
              0.2222222222222222,
              "#7201a8"
             ],
             [
              0.3333333333333333,
              "#9c179e"
             ],
             [
              0.4444444444444444,
              "#bd3786"
             ],
             [
              0.5555555555555556,
              "#d8576b"
             ],
             [
              0.6666666666666666,
              "#ed7953"
             ],
             [
              0.7777777777777778,
              "#fb9f3a"
             ],
             [
              0.8888888888888888,
              "#fdca26"
             ],
             [
              1,
              "#f0f921"
             ]
            ],
            "type": "heatmapgl"
           }
          ],
          "histogram": [
           {
            "marker": {
             "pattern": {
              "fillmode": "overlay",
              "size": 10,
              "solidity": 0.2
             }
            },
            "type": "histogram"
           }
          ],
          "histogram2d": [
           {
            "colorbar": {
             "outlinewidth": 0,
             "ticks": ""
            },
            "colorscale": [
             [
              0,
              "#0d0887"
             ],
             [
              0.1111111111111111,
              "#46039f"
             ],
             [
              0.2222222222222222,
              "#7201a8"
             ],
             [
              0.3333333333333333,
              "#9c179e"
             ],
             [
              0.4444444444444444,
              "#bd3786"
             ],
             [
              0.5555555555555556,
              "#d8576b"
             ],
             [
              0.6666666666666666,
              "#ed7953"
             ],
             [
              0.7777777777777778,
              "#fb9f3a"
             ],
             [
              0.8888888888888888,
              "#fdca26"
             ],
             [
              1,
              "#f0f921"
             ]
            ],
            "type": "histogram2d"
           }
          ],
          "histogram2dcontour": [
           {
            "colorbar": {
             "outlinewidth": 0,
             "ticks": ""
            },
            "colorscale": [
             [
              0,
              "#0d0887"
             ],
             [
              0.1111111111111111,
              "#46039f"
             ],
             [
              0.2222222222222222,
              "#7201a8"
             ],
             [
              0.3333333333333333,
              "#9c179e"
             ],
             [
              0.4444444444444444,
              "#bd3786"
             ],
             [
              0.5555555555555556,
              "#d8576b"
             ],
             [
              0.6666666666666666,
              "#ed7953"
             ],
             [
              0.7777777777777778,
              "#fb9f3a"
             ],
             [
              0.8888888888888888,
              "#fdca26"
             ],
             [
              1,
              "#f0f921"
             ]
            ],
            "type": "histogram2dcontour"
           }
          ],
          "mesh3d": [
           {
            "colorbar": {
             "outlinewidth": 0,
             "ticks": ""
            },
            "type": "mesh3d"
           }
          ],
          "parcoords": [
           {
            "line": {
             "colorbar": {
              "outlinewidth": 0,
              "ticks": ""
             }
            },
            "type": "parcoords"
           }
          ],
          "pie": [
           {
            "automargin": true,
            "type": "pie"
           }
          ],
          "scatter": [
           {
            "fillpattern": {
             "fillmode": "overlay",
             "size": 10,
             "solidity": 0.2
            },
            "type": "scatter"
           }
          ],
          "scatter3d": [
           {
            "line": {
             "colorbar": {
              "outlinewidth": 0,
              "ticks": ""
             }
            },
            "marker": {
             "colorbar": {
              "outlinewidth": 0,
              "ticks": ""
             }
            },
            "type": "scatter3d"
           }
          ],
          "scattercarpet": [
           {
            "marker": {
             "colorbar": {
              "outlinewidth": 0,
              "ticks": ""
             }
            },
            "type": "scattercarpet"
           }
          ],
          "scattergeo": [
           {
            "marker": {
             "colorbar": {
              "outlinewidth": 0,
              "ticks": ""
             }
            },
            "type": "scattergeo"
           }
          ],
          "scattergl": [
           {
            "marker": {
             "colorbar": {
              "outlinewidth": 0,
              "ticks": ""
             }
            },
            "type": "scattergl"
           }
          ],
          "scattermapbox": [
           {
            "marker": {
             "colorbar": {
              "outlinewidth": 0,
              "ticks": ""
             }
            },
            "type": "scattermapbox"
           }
          ],
          "scatterpolar": [
           {
            "marker": {
             "colorbar": {
              "outlinewidth": 0,
              "ticks": ""
             }
            },
            "type": "scatterpolar"
           }
          ],
          "scatterpolargl": [
           {
            "marker": {
             "colorbar": {
              "outlinewidth": 0,
              "ticks": ""
             }
            },
            "type": "scatterpolargl"
           }
          ],
          "scatterternary": [
           {
            "marker": {
             "colorbar": {
              "outlinewidth": 0,
              "ticks": ""
             }
            },
            "type": "scatterternary"
           }
          ],
          "surface": [
           {
            "colorbar": {
             "outlinewidth": 0,
             "ticks": ""
            },
            "colorscale": [
             [
              0,
              "#0d0887"
             ],
             [
              0.1111111111111111,
              "#46039f"
             ],
             [
              0.2222222222222222,
              "#7201a8"
             ],
             [
              0.3333333333333333,
              "#9c179e"
             ],
             [
              0.4444444444444444,
              "#bd3786"
             ],
             [
              0.5555555555555556,
              "#d8576b"
             ],
             [
              0.6666666666666666,
              "#ed7953"
             ],
             [
              0.7777777777777778,
              "#fb9f3a"
             ],
             [
              0.8888888888888888,
              "#fdca26"
             ],
             [
              1,
              "#f0f921"
             ]
            ],
            "type": "surface"
           }
          ],
          "table": [
           {
            "cells": {
             "fill": {
              "color": "#EBF0F8"
             },
             "line": {
              "color": "white"
             }
            },
            "header": {
             "fill": {
              "color": "#C8D4E3"
             },
             "line": {
              "color": "white"
             }
            },
            "type": "table"
           }
          ]
         },
         "layout": {
          "annotationdefaults": {
           "arrowcolor": "#2a3f5f",
           "arrowhead": 0,
           "arrowwidth": 1
          },
          "autotypenumbers": "strict",
          "coloraxis": {
           "colorbar": {
            "outlinewidth": 0,
            "ticks": ""
           }
          },
          "colorscale": {
           "diverging": [
            [
             0,
             "#8e0152"
            ],
            [
             0.1,
             "#c51b7d"
            ],
            [
             0.2,
             "#de77ae"
            ],
            [
             0.3,
             "#f1b6da"
            ],
            [
             0.4,
             "#fde0ef"
            ],
            [
             0.5,
             "#f7f7f7"
            ],
            [
             0.6,
             "#e6f5d0"
            ],
            [
             0.7,
             "#b8e186"
            ],
            [
             0.8,
             "#7fbc41"
            ],
            [
             0.9,
             "#4d9221"
            ],
            [
             1,
             "#276419"
            ]
           ],
           "sequential": [
            [
             0,
             "#0d0887"
            ],
            [
             0.1111111111111111,
             "#46039f"
            ],
            [
             0.2222222222222222,
             "#7201a8"
            ],
            [
             0.3333333333333333,
             "#9c179e"
            ],
            [
             0.4444444444444444,
             "#bd3786"
            ],
            [
             0.5555555555555556,
             "#d8576b"
            ],
            [
             0.6666666666666666,
             "#ed7953"
            ],
            [
             0.7777777777777778,
             "#fb9f3a"
            ],
            [
             0.8888888888888888,
             "#fdca26"
            ],
            [
             1,
             "#f0f921"
            ]
           ],
           "sequentialminus": [
            [
             0,
             "#0d0887"
            ],
            [
             0.1111111111111111,
             "#46039f"
            ],
            [
             0.2222222222222222,
             "#7201a8"
            ],
            [
             0.3333333333333333,
             "#9c179e"
            ],
            [
             0.4444444444444444,
             "#bd3786"
            ],
            [
             0.5555555555555556,
             "#d8576b"
            ],
            [
             0.6666666666666666,
             "#ed7953"
            ],
            [
             0.7777777777777778,
             "#fb9f3a"
            ],
            [
             0.8888888888888888,
             "#fdca26"
            ],
            [
             1,
             "#f0f921"
            ]
           ]
          },
          "colorway": [
           "#636efa",
           "#EF553B",
           "#00cc96",
           "#ab63fa",
           "#FFA15A",
           "#19d3f3",
           "#FF6692",
           "#B6E880",
           "#FF97FF",
           "#FECB52"
          ],
          "font": {
           "color": "#2a3f5f"
          },
          "geo": {
           "bgcolor": "white",
           "lakecolor": "white",
           "landcolor": "#E5ECF6",
           "showlakes": true,
           "showland": true,
           "subunitcolor": "white"
          },
          "hoverlabel": {
           "align": "left"
          },
          "hovermode": "closest",
          "mapbox": {
           "style": "light"
          },
          "paper_bgcolor": "white",
          "plot_bgcolor": "#E5ECF6",
          "polar": {
           "angularaxis": {
            "gridcolor": "white",
            "linecolor": "white",
            "ticks": ""
           },
           "bgcolor": "#E5ECF6",
           "radialaxis": {
            "gridcolor": "white",
            "linecolor": "white",
            "ticks": ""
           }
          },
          "scene": {
           "xaxis": {
            "backgroundcolor": "#E5ECF6",
            "gridcolor": "white",
            "gridwidth": 2,
            "linecolor": "white",
            "showbackground": true,
            "ticks": "",
            "zerolinecolor": "white"
           },
           "yaxis": {
            "backgroundcolor": "#E5ECF6",
            "gridcolor": "white",
            "gridwidth": 2,
            "linecolor": "white",
            "showbackground": true,
            "ticks": "",
            "zerolinecolor": "white"
           },
           "zaxis": {
            "backgroundcolor": "#E5ECF6",
            "gridcolor": "white",
            "gridwidth": 2,
            "linecolor": "white",
            "showbackground": true,
            "ticks": "",
            "zerolinecolor": "white"
           }
          },
          "shapedefaults": {
           "line": {
            "color": "#2a3f5f"
           }
          },
          "ternary": {
           "aaxis": {
            "gridcolor": "white",
            "linecolor": "white",
            "ticks": ""
           },
           "baxis": {
            "gridcolor": "white",
            "linecolor": "white",
            "ticks": ""
           },
           "bgcolor": "#E5ECF6",
           "caxis": {
            "gridcolor": "white",
            "linecolor": "white",
            "ticks": ""
           }
          },
          "title": {
           "x": 0.05
          },
          "xaxis": {
           "automargin": true,
           "gridcolor": "white",
           "linecolor": "white",
           "ticks": "",
           "title": {
            "standoff": 15
           },
           "zerolinecolor": "white",
           "zerolinewidth": 2
          },
          "yaxis": {
           "automargin": true,
           "gridcolor": "white",
           "linecolor": "white",
           "ticks": "",
           "title": {
            "standoff": 15
           },
           "zerolinecolor": "white",
           "zerolinewidth": 2
          }
         }
        },
        "xaxis": {
         "anchor": "y",
         "domain": [
          0,
          0.49
         ],
         "title": {
          "text": "config"
         }
        },
        "xaxis2": {
         "anchor": "y2",
         "domain": [
          0.51,
          1
         ],
         "matches": "x",
         "title": {
          "text": "config"
         }
        },
        "yaxis": {
         "anchor": "x",
         "domain": [
          0,
          1
         ],
         "range": [
          -20,
          20
         ],
         "title": {
          "text": "improvement (%) mean"
         }
        },
        "yaxis2": {
         "anchor": "x2",
         "domain": [
          0,
          1
         ],
         "matches": "y",
         "range": [
          -20,
          20
         ],
         "showticklabels": false
        }
       }
      }
     },
     "metadata": {},
     "output_type": "display_data"
    },
    {
     "name": "stdout",
     "output_type": "stream",
     "text": [
      "ferry\n"
     ]
    },
    {
     "data": {
      "application/vnd.plotly.v1+json": {
       "config": {
        "plotlyServerURL": "https://plot.ly"
       },
       "data": [
        {
         "error_y": {
          "array": [
           1.9052935690747443,
           1.8833550335371831,
           1.8103338427979345,
           1.8826088157323364
          ]
         },
         "hovertemplate": "difficulty=0<br>config=%{x}<br>improvement (%) mean=%{y}<extra></extra>",
         "legendgroup": "",
         "marker": {
          "color": "#636efa",
          "symbol": "circle"
         },
         "mode": "markers",
         "name": "",
         "orientation": "v",
         "showlegend": false,
         "type": "scatter",
         "x": [
          "2_16",
          "2_8",
          "3_16",
          "3_8"
         ],
         "xaxis": "x",
         "y": [
          2.7108865799021045,
          2.8077028353109372,
          2.642535491542925,
          2.6723553284552515
         ],
         "yaxis": "y"
        },
        {
         "error_y": {
          "array": [
           0.9289455919092362,
           0.9262821080445414,
           0.9064780022075406,
           0.9227779875366
          ]
         },
         "hovertemplate": "difficulty=1<br>config=%{x}<br>improvement (%) mean=%{y}<extra></extra>",
         "legendgroup": "",
         "marker": {
          "color": "#636efa",
          "symbol": "circle"
         },
         "mode": "markers",
         "name": "",
         "orientation": "v",
         "showlegend": false,
         "type": "scatter",
         "x": [
          "2_16",
          "2_8",
          "3_16",
          "3_8"
         ],
         "xaxis": "x2",
         "y": [
          3.47482210934726,
          3.555852700197256,
          3.1034485712473345,
          3.348805725401405
         ],
         "yaxis": "y2"
        }
       ],
       "layout": {
        "annotations": [
         {
          "font": {},
          "showarrow": false,
          "text": "difficulty=0",
          "x": 0.245,
          "xanchor": "center",
          "xref": "paper",
          "y": 1,
          "yanchor": "bottom",
          "yref": "paper"
         },
         {
          "font": {},
          "showarrow": false,
          "text": "difficulty=1",
          "x": 0.755,
          "xanchor": "center",
          "xref": "paper",
          "y": 1,
          "yanchor": "bottom",
          "yref": "paper"
         }
        ],
        "legend": {
         "tracegroupgap": 0
        },
        "margin": {
         "t": 60
        },
        "template": {
         "data": {
          "bar": [
           {
            "error_x": {
             "color": "#2a3f5f"
            },
            "error_y": {
             "color": "#2a3f5f"
            },
            "marker": {
             "line": {
              "color": "#E5ECF6",
              "width": 0.5
             },
             "pattern": {
              "fillmode": "overlay",
              "size": 10,
              "solidity": 0.2
             }
            },
            "type": "bar"
           }
          ],
          "barpolar": [
           {
            "marker": {
             "line": {
              "color": "#E5ECF6",
              "width": 0.5
             },
             "pattern": {
              "fillmode": "overlay",
              "size": 10,
              "solidity": 0.2
             }
            },
            "type": "barpolar"
           }
          ],
          "carpet": [
           {
            "aaxis": {
             "endlinecolor": "#2a3f5f",
             "gridcolor": "white",
             "linecolor": "white",
             "minorgridcolor": "white",
             "startlinecolor": "#2a3f5f"
            },
            "baxis": {
             "endlinecolor": "#2a3f5f",
             "gridcolor": "white",
             "linecolor": "white",
             "minorgridcolor": "white",
             "startlinecolor": "#2a3f5f"
            },
            "type": "carpet"
           }
          ],
          "choropleth": [
           {
            "colorbar": {
             "outlinewidth": 0,
             "ticks": ""
            },
            "type": "choropleth"
           }
          ],
          "contour": [
           {
            "colorbar": {
             "outlinewidth": 0,
             "ticks": ""
            },
            "colorscale": [
             [
              0,
              "#0d0887"
             ],
             [
              0.1111111111111111,
              "#46039f"
             ],
             [
              0.2222222222222222,
              "#7201a8"
             ],
             [
              0.3333333333333333,
              "#9c179e"
             ],
             [
              0.4444444444444444,
              "#bd3786"
             ],
             [
              0.5555555555555556,
              "#d8576b"
             ],
             [
              0.6666666666666666,
              "#ed7953"
             ],
             [
              0.7777777777777778,
              "#fb9f3a"
             ],
             [
              0.8888888888888888,
              "#fdca26"
             ],
             [
              1,
              "#f0f921"
             ]
            ],
            "type": "contour"
           }
          ],
          "contourcarpet": [
           {
            "colorbar": {
             "outlinewidth": 0,
             "ticks": ""
            },
            "type": "contourcarpet"
           }
          ],
          "heatmap": [
           {
            "colorbar": {
             "outlinewidth": 0,
             "ticks": ""
            },
            "colorscale": [
             [
              0,
              "#0d0887"
             ],
             [
              0.1111111111111111,
              "#46039f"
             ],
             [
              0.2222222222222222,
              "#7201a8"
             ],
             [
              0.3333333333333333,
              "#9c179e"
             ],
             [
              0.4444444444444444,
              "#bd3786"
             ],
             [
              0.5555555555555556,
              "#d8576b"
             ],
             [
              0.6666666666666666,
              "#ed7953"
             ],
             [
              0.7777777777777778,
              "#fb9f3a"
             ],
             [
              0.8888888888888888,
              "#fdca26"
             ],
             [
              1,
              "#f0f921"
             ]
            ],
            "type": "heatmap"
           }
          ],
          "heatmapgl": [
           {
            "colorbar": {
             "outlinewidth": 0,
             "ticks": ""
            },
            "colorscale": [
             [
              0,
              "#0d0887"
             ],
             [
              0.1111111111111111,
              "#46039f"
             ],
             [
              0.2222222222222222,
              "#7201a8"
             ],
             [
              0.3333333333333333,
              "#9c179e"
             ],
             [
              0.4444444444444444,
              "#bd3786"
             ],
             [
              0.5555555555555556,
              "#d8576b"
             ],
             [
              0.6666666666666666,
              "#ed7953"
             ],
             [
              0.7777777777777778,
              "#fb9f3a"
             ],
             [
              0.8888888888888888,
              "#fdca26"
             ],
             [
              1,
              "#f0f921"
             ]
            ],
            "type": "heatmapgl"
           }
          ],
          "histogram": [
           {
            "marker": {
             "pattern": {
              "fillmode": "overlay",
              "size": 10,
              "solidity": 0.2
             }
            },
            "type": "histogram"
           }
          ],
          "histogram2d": [
           {
            "colorbar": {
             "outlinewidth": 0,
             "ticks": ""
            },
            "colorscale": [
             [
              0,
              "#0d0887"
             ],
             [
              0.1111111111111111,
              "#46039f"
             ],
             [
              0.2222222222222222,
              "#7201a8"
             ],
             [
              0.3333333333333333,
              "#9c179e"
             ],
             [
              0.4444444444444444,
              "#bd3786"
             ],
             [
              0.5555555555555556,
              "#d8576b"
             ],
             [
              0.6666666666666666,
              "#ed7953"
             ],
             [
              0.7777777777777778,
              "#fb9f3a"
             ],
             [
              0.8888888888888888,
              "#fdca26"
             ],
             [
              1,
              "#f0f921"
             ]
            ],
            "type": "histogram2d"
           }
          ],
          "histogram2dcontour": [
           {
            "colorbar": {
             "outlinewidth": 0,
             "ticks": ""
            },
            "colorscale": [
             [
              0,
              "#0d0887"
             ],
             [
              0.1111111111111111,
              "#46039f"
             ],
             [
              0.2222222222222222,
              "#7201a8"
             ],
             [
              0.3333333333333333,
              "#9c179e"
             ],
             [
              0.4444444444444444,
              "#bd3786"
             ],
             [
              0.5555555555555556,
              "#d8576b"
             ],
             [
              0.6666666666666666,
              "#ed7953"
             ],
             [
              0.7777777777777778,
              "#fb9f3a"
             ],
             [
              0.8888888888888888,
              "#fdca26"
             ],
             [
              1,
              "#f0f921"
             ]
            ],
            "type": "histogram2dcontour"
           }
          ],
          "mesh3d": [
           {
            "colorbar": {
             "outlinewidth": 0,
             "ticks": ""
            },
            "type": "mesh3d"
           }
          ],
          "parcoords": [
           {
            "line": {
             "colorbar": {
              "outlinewidth": 0,
              "ticks": ""
             }
            },
            "type": "parcoords"
           }
          ],
          "pie": [
           {
            "automargin": true,
            "type": "pie"
           }
          ],
          "scatter": [
           {
            "fillpattern": {
             "fillmode": "overlay",
             "size": 10,
             "solidity": 0.2
            },
            "type": "scatter"
           }
          ],
          "scatter3d": [
           {
            "line": {
             "colorbar": {
              "outlinewidth": 0,
              "ticks": ""
             }
            },
            "marker": {
             "colorbar": {
              "outlinewidth": 0,
              "ticks": ""
             }
            },
            "type": "scatter3d"
           }
          ],
          "scattercarpet": [
           {
            "marker": {
             "colorbar": {
              "outlinewidth": 0,
              "ticks": ""
             }
            },
            "type": "scattercarpet"
           }
          ],
          "scattergeo": [
           {
            "marker": {
             "colorbar": {
              "outlinewidth": 0,
              "ticks": ""
             }
            },
            "type": "scattergeo"
           }
          ],
          "scattergl": [
           {
            "marker": {
             "colorbar": {
              "outlinewidth": 0,
              "ticks": ""
             }
            },
            "type": "scattergl"
           }
          ],
          "scattermapbox": [
           {
            "marker": {
             "colorbar": {
              "outlinewidth": 0,
              "ticks": ""
             }
            },
            "type": "scattermapbox"
           }
          ],
          "scatterpolar": [
           {
            "marker": {
             "colorbar": {
              "outlinewidth": 0,
              "ticks": ""
             }
            },
            "type": "scatterpolar"
           }
          ],
          "scatterpolargl": [
           {
            "marker": {
             "colorbar": {
              "outlinewidth": 0,
              "ticks": ""
             }
            },
            "type": "scatterpolargl"
           }
          ],
          "scatterternary": [
           {
            "marker": {
             "colorbar": {
              "outlinewidth": 0,
              "ticks": ""
             }
            },
            "type": "scatterternary"
           }
          ],
          "surface": [
           {
            "colorbar": {
             "outlinewidth": 0,
             "ticks": ""
            },
            "colorscale": [
             [
              0,
              "#0d0887"
             ],
             [
              0.1111111111111111,
              "#46039f"
             ],
             [
              0.2222222222222222,
              "#7201a8"
             ],
             [
              0.3333333333333333,
              "#9c179e"
             ],
             [
              0.4444444444444444,
              "#bd3786"
             ],
             [
              0.5555555555555556,
              "#d8576b"
             ],
             [
              0.6666666666666666,
              "#ed7953"
             ],
             [
              0.7777777777777778,
              "#fb9f3a"
             ],
             [
              0.8888888888888888,
              "#fdca26"
             ],
             [
              1,
              "#f0f921"
             ]
            ],
            "type": "surface"
           }
          ],
          "table": [
           {
            "cells": {
             "fill": {
              "color": "#EBF0F8"
             },
             "line": {
              "color": "white"
             }
            },
            "header": {
             "fill": {
              "color": "#C8D4E3"
             },
             "line": {
              "color": "white"
             }
            },
            "type": "table"
           }
          ]
         },
         "layout": {
          "annotationdefaults": {
           "arrowcolor": "#2a3f5f",
           "arrowhead": 0,
           "arrowwidth": 1
          },
          "autotypenumbers": "strict",
          "coloraxis": {
           "colorbar": {
            "outlinewidth": 0,
            "ticks": ""
           }
          },
          "colorscale": {
           "diverging": [
            [
             0,
             "#8e0152"
            ],
            [
             0.1,
             "#c51b7d"
            ],
            [
             0.2,
             "#de77ae"
            ],
            [
             0.3,
             "#f1b6da"
            ],
            [
             0.4,
             "#fde0ef"
            ],
            [
             0.5,
             "#f7f7f7"
            ],
            [
             0.6,
             "#e6f5d0"
            ],
            [
             0.7,
             "#b8e186"
            ],
            [
             0.8,
             "#7fbc41"
            ],
            [
             0.9,
             "#4d9221"
            ],
            [
             1,
             "#276419"
            ]
           ],
           "sequential": [
            [
             0,
             "#0d0887"
            ],
            [
             0.1111111111111111,
             "#46039f"
            ],
            [
             0.2222222222222222,
             "#7201a8"
            ],
            [
             0.3333333333333333,
             "#9c179e"
            ],
            [
             0.4444444444444444,
             "#bd3786"
            ],
            [
             0.5555555555555556,
             "#d8576b"
            ],
            [
             0.6666666666666666,
             "#ed7953"
            ],
            [
             0.7777777777777778,
             "#fb9f3a"
            ],
            [
             0.8888888888888888,
             "#fdca26"
            ],
            [
             1,
             "#f0f921"
            ]
           ],
           "sequentialminus": [
            [
             0,
             "#0d0887"
            ],
            [
             0.1111111111111111,
             "#46039f"
            ],
            [
             0.2222222222222222,
             "#7201a8"
            ],
            [
             0.3333333333333333,
             "#9c179e"
            ],
            [
             0.4444444444444444,
             "#bd3786"
            ],
            [
             0.5555555555555556,
             "#d8576b"
            ],
            [
             0.6666666666666666,
             "#ed7953"
            ],
            [
             0.7777777777777778,
             "#fb9f3a"
            ],
            [
             0.8888888888888888,
             "#fdca26"
            ],
            [
             1,
             "#f0f921"
            ]
           ]
          },
          "colorway": [
           "#636efa",
           "#EF553B",
           "#00cc96",
           "#ab63fa",
           "#FFA15A",
           "#19d3f3",
           "#FF6692",
           "#B6E880",
           "#FF97FF",
           "#FECB52"
          ],
          "font": {
           "color": "#2a3f5f"
          },
          "geo": {
           "bgcolor": "white",
           "lakecolor": "white",
           "landcolor": "#E5ECF6",
           "showlakes": true,
           "showland": true,
           "subunitcolor": "white"
          },
          "hoverlabel": {
           "align": "left"
          },
          "hovermode": "closest",
          "mapbox": {
           "style": "light"
          },
          "paper_bgcolor": "white",
          "plot_bgcolor": "#E5ECF6",
          "polar": {
           "angularaxis": {
            "gridcolor": "white",
            "linecolor": "white",
            "ticks": ""
           },
           "bgcolor": "#E5ECF6",
           "radialaxis": {
            "gridcolor": "white",
            "linecolor": "white",
            "ticks": ""
           }
          },
          "scene": {
           "xaxis": {
            "backgroundcolor": "#E5ECF6",
            "gridcolor": "white",
            "gridwidth": 2,
            "linecolor": "white",
            "showbackground": true,
            "ticks": "",
            "zerolinecolor": "white"
           },
           "yaxis": {
            "backgroundcolor": "#E5ECF6",
            "gridcolor": "white",
            "gridwidth": 2,
            "linecolor": "white",
            "showbackground": true,
            "ticks": "",
            "zerolinecolor": "white"
           },
           "zaxis": {
            "backgroundcolor": "#E5ECF6",
            "gridcolor": "white",
            "gridwidth": 2,
            "linecolor": "white",
            "showbackground": true,
            "ticks": "",
            "zerolinecolor": "white"
           }
          },
          "shapedefaults": {
           "line": {
            "color": "#2a3f5f"
           }
          },
          "ternary": {
           "aaxis": {
            "gridcolor": "white",
            "linecolor": "white",
            "ticks": ""
           },
           "baxis": {
            "gridcolor": "white",
            "linecolor": "white",
            "ticks": ""
           },
           "bgcolor": "#E5ECF6",
           "caxis": {
            "gridcolor": "white",
            "linecolor": "white",
            "ticks": ""
           }
          },
          "title": {
           "x": 0.05
          },
          "xaxis": {
           "automargin": true,
           "gridcolor": "white",
           "linecolor": "white",
           "ticks": "",
           "title": {
            "standoff": 15
           },
           "zerolinecolor": "white",
           "zerolinewidth": 2
          },
          "yaxis": {
           "automargin": true,
           "gridcolor": "white",
           "linecolor": "white",
           "ticks": "",
           "title": {
            "standoff": 15
           },
           "zerolinecolor": "white",
           "zerolinewidth": 2
          }
         }
        },
        "xaxis": {
         "anchor": "y",
         "domain": [
          0,
          0.49
         ],
         "title": {
          "text": "config"
         }
        },
        "xaxis2": {
         "anchor": "y2",
         "domain": [
          0.51,
          1
         ],
         "matches": "x",
         "title": {
          "text": "config"
         }
        },
        "yaxis": {
         "anchor": "x",
         "domain": [
          0,
          1
         ],
         "range": [
          -20,
          20
         ],
         "title": {
          "text": "improvement (%) mean"
         }
        },
        "yaxis2": {
         "anchor": "x2",
         "domain": [
          0,
          1
         ],
         "matches": "y",
         "range": [
          -20,
          20
         ],
         "showticklabels": false
        }
       }
      }
     },
     "metadata": {},
     "output_type": "display_data"
    },
    {
     "name": "stdout",
     "output_type": "stream",
     "text": [
      "satellite\n"
     ]
    },
    {
     "data": {
      "application/vnd.plotly.v1+json": {
       "config": {
        "plotlyServerURL": "https://plot.ly"
       },
       "data": [
        {
         "error_y": {
          "array": [
           8.097228940903042,
           12.209143389446764,
           15.18163015308226,
           11.530444024822858
          ]
         },
         "hovertemplate": "difficulty=0<br>config=%{x}<br>improvement (%) mean=%{y}<extra></extra>",
         "legendgroup": "",
         "marker": {
          "color": "#636efa",
          "symbol": "circle"
         },
         "mode": "markers",
         "name": "",
         "orientation": "v",
         "showlegend": false,
         "type": "scatter",
         "x": [
          "2_16",
          "2_8",
          "3_16",
          "3_8"
         ],
         "xaxis": "x",
         "y": [
          6.467416849423173,
          19.597553493772068,
          17.21357720891843,
          11.025138904212422
         ],
         "yaxis": "y"
        },
        {
         "error_y": {
          "array": [
           5.594843569655761,
           20.20345457024801,
           19.77936052870341,
           10.548734866153156
          ]
         },
         "hovertemplate": "difficulty=1<br>config=%{x}<br>improvement (%) mean=%{y}<extra></extra>",
         "legendgroup": "",
         "marker": {
          "color": "#636efa",
          "symbol": "circle"
         },
         "mode": "markers",
         "name": "",
         "orientation": "v",
         "showlegend": false,
         "type": "scatter",
         "x": [
          "2_16",
          "2_8",
          "3_16",
          "3_8"
         ],
         "xaxis": "x2",
         "y": [
          0.03384974016769574,
          19.694778508967847,
          11.219223867902759,
          -3.6944295552358892
         ],
         "yaxis": "y2"
        }
       ],
       "layout": {
        "annotations": [
         {
          "font": {},
          "showarrow": false,
          "text": "difficulty=0",
          "x": 0.245,
          "xanchor": "center",
          "xref": "paper",
          "y": 1,
          "yanchor": "bottom",
          "yref": "paper"
         },
         {
          "font": {},
          "showarrow": false,
          "text": "difficulty=1",
          "x": 0.755,
          "xanchor": "center",
          "xref": "paper",
          "y": 1,
          "yanchor": "bottom",
          "yref": "paper"
         }
        ],
        "legend": {
         "tracegroupgap": 0
        },
        "margin": {
         "t": 60
        },
        "template": {
         "data": {
          "bar": [
           {
            "error_x": {
             "color": "#2a3f5f"
            },
            "error_y": {
             "color": "#2a3f5f"
            },
            "marker": {
             "line": {
              "color": "#E5ECF6",
              "width": 0.5
             },
             "pattern": {
              "fillmode": "overlay",
              "size": 10,
              "solidity": 0.2
             }
            },
            "type": "bar"
           }
          ],
          "barpolar": [
           {
            "marker": {
             "line": {
              "color": "#E5ECF6",
              "width": 0.5
             },
             "pattern": {
              "fillmode": "overlay",
              "size": 10,
              "solidity": 0.2
             }
            },
            "type": "barpolar"
           }
          ],
          "carpet": [
           {
            "aaxis": {
             "endlinecolor": "#2a3f5f",
             "gridcolor": "white",
             "linecolor": "white",
             "minorgridcolor": "white",
             "startlinecolor": "#2a3f5f"
            },
            "baxis": {
             "endlinecolor": "#2a3f5f",
             "gridcolor": "white",
             "linecolor": "white",
             "minorgridcolor": "white",
             "startlinecolor": "#2a3f5f"
            },
            "type": "carpet"
           }
          ],
          "choropleth": [
           {
            "colorbar": {
             "outlinewidth": 0,
             "ticks": ""
            },
            "type": "choropleth"
           }
          ],
          "contour": [
           {
            "colorbar": {
             "outlinewidth": 0,
             "ticks": ""
            },
            "colorscale": [
             [
              0,
              "#0d0887"
             ],
             [
              0.1111111111111111,
              "#46039f"
             ],
             [
              0.2222222222222222,
              "#7201a8"
             ],
             [
              0.3333333333333333,
              "#9c179e"
             ],
             [
              0.4444444444444444,
              "#bd3786"
             ],
             [
              0.5555555555555556,
              "#d8576b"
             ],
             [
              0.6666666666666666,
              "#ed7953"
             ],
             [
              0.7777777777777778,
              "#fb9f3a"
             ],
             [
              0.8888888888888888,
              "#fdca26"
             ],
             [
              1,
              "#f0f921"
             ]
            ],
            "type": "contour"
           }
          ],
          "contourcarpet": [
           {
            "colorbar": {
             "outlinewidth": 0,
             "ticks": ""
            },
            "type": "contourcarpet"
           }
          ],
          "heatmap": [
           {
            "colorbar": {
             "outlinewidth": 0,
             "ticks": ""
            },
            "colorscale": [
             [
              0,
              "#0d0887"
             ],
             [
              0.1111111111111111,
              "#46039f"
             ],
             [
              0.2222222222222222,
              "#7201a8"
             ],
             [
              0.3333333333333333,
              "#9c179e"
             ],
             [
              0.4444444444444444,
              "#bd3786"
             ],
             [
              0.5555555555555556,
              "#d8576b"
             ],
             [
              0.6666666666666666,
              "#ed7953"
             ],
             [
              0.7777777777777778,
              "#fb9f3a"
             ],
             [
              0.8888888888888888,
              "#fdca26"
             ],
             [
              1,
              "#f0f921"
             ]
            ],
            "type": "heatmap"
           }
          ],
          "heatmapgl": [
           {
            "colorbar": {
             "outlinewidth": 0,
             "ticks": ""
            },
            "colorscale": [
             [
              0,
              "#0d0887"
             ],
             [
              0.1111111111111111,
              "#46039f"
             ],
             [
              0.2222222222222222,
              "#7201a8"
             ],
             [
              0.3333333333333333,
              "#9c179e"
             ],
             [
              0.4444444444444444,
              "#bd3786"
             ],
             [
              0.5555555555555556,
              "#d8576b"
             ],
             [
              0.6666666666666666,
              "#ed7953"
             ],
             [
              0.7777777777777778,
              "#fb9f3a"
             ],
             [
              0.8888888888888888,
              "#fdca26"
             ],
             [
              1,
              "#f0f921"
             ]
            ],
            "type": "heatmapgl"
           }
          ],
          "histogram": [
           {
            "marker": {
             "pattern": {
              "fillmode": "overlay",
              "size": 10,
              "solidity": 0.2
             }
            },
            "type": "histogram"
           }
          ],
          "histogram2d": [
           {
            "colorbar": {
             "outlinewidth": 0,
             "ticks": ""
            },
            "colorscale": [
             [
              0,
              "#0d0887"
             ],
             [
              0.1111111111111111,
              "#46039f"
             ],
             [
              0.2222222222222222,
              "#7201a8"
             ],
             [
              0.3333333333333333,
              "#9c179e"
             ],
             [
              0.4444444444444444,
              "#bd3786"
             ],
             [
              0.5555555555555556,
              "#d8576b"
             ],
             [
              0.6666666666666666,
              "#ed7953"
             ],
             [
              0.7777777777777778,
              "#fb9f3a"
             ],
             [
              0.8888888888888888,
              "#fdca26"
             ],
             [
              1,
              "#f0f921"
             ]
            ],
            "type": "histogram2d"
           }
          ],
          "histogram2dcontour": [
           {
            "colorbar": {
             "outlinewidth": 0,
             "ticks": ""
            },
            "colorscale": [
             [
              0,
              "#0d0887"
             ],
             [
              0.1111111111111111,
              "#46039f"
             ],
             [
              0.2222222222222222,
              "#7201a8"
             ],
             [
              0.3333333333333333,
              "#9c179e"
             ],
             [
              0.4444444444444444,
              "#bd3786"
             ],
             [
              0.5555555555555556,
              "#d8576b"
             ],
             [
              0.6666666666666666,
              "#ed7953"
             ],
             [
              0.7777777777777778,
              "#fb9f3a"
             ],
             [
              0.8888888888888888,
              "#fdca26"
             ],
             [
              1,
              "#f0f921"
             ]
            ],
            "type": "histogram2dcontour"
           }
          ],
          "mesh3d": [
           {
            "colorbar": {
             "outlinewidth": 0,
             "ticks": ""
            },
            "type": "mesh3d"
           }
          ],
          "parcoords": [
           {
            "line": {
             "colorbar": {
              "outlinewidth": 0,
              "ticks": ""
             }
            },
            "type": "parcoords"
           }
          ],
          "pie": [
           {
            "automargin": true,
            "type": "pie"
           }
          ],
          "scatter": [
           {
            "fillpattern": {
             "fillmode": "overlay",
             "size": 10,
             "solidity": 0.2
            },
            "type": "scatter"
           }
          ],
          "scatter3d": [
           {
            "line": {
             "colorbar": {
              "outlinewidth": 0,
              "ticks": ""
             }
            },
            "marker": {
             "colorbar": {
              "outlinewidth": 0,
              "ticks": ""
             }
            },
            "type": "scatter3d"
           }
          ],
          "scattercarpet": [
           {
            "marker": {
             "colorbar": {
              "outlinewidth": 0,
              "ticks": ""
             }
            },
            "type": "scattercarpet"
           }
          ],
          "scattergeo": [
           {
            "marker": {
             "colorbar": {
              "outlinewidth": 0,
              "ticks": ""
             }
            },
            "type": "scattergeo"
           }
          ],
          "scattergl": [
           {
            "marker": {
             "colorbar": {
              "outlinewidth": 0,
              "ticks": ""
             }
            },
            "type": "scattergl"
           }
          ],
          "scattermapbox": [
           {
            "marker": {
             "colorbar": {
              "outlinewidth": 0,
              "ticks": ""
             }
            },
            "type": "scattermapbox"
           }
          ],
          "scatterpolar": [
           {
            "marker": {
             "colorbar": {
              "outlinewidth": 0,
              "ticks": ""
             }
            },
            "type": "scatterpolar"
           }
          ],
          "scatterpolargl": [
           {
            "marker": {
             "colorbar": {
              "outlinewidth": 0,
              "ticks": ""
             }
            },
            "type": "scatterpolargl"
           }
          ],
          "scatterternary": [
           {
            "marker": {
             "colorbar": {
              "outlinewidth": 0,
              "ticks": ""
             }
            },
            "type": "scatterternary"
           }
          ],
          "surface": [
           {
            "colorbar": {
             "outlinewidth": 0,
             "ticks": ""
            },
            "colorscale": [
             [
              0,
              "#0d0887"
             ],
             [
              0.1111111111111111,
              "#46039f"
             ],
             [
              0.2222222222222222,
              "#7201a8"
             ],
             [
              0.3333333333333333,
              "#9c179e"
             ],
             [
              0.4444444444444444,
              "#bd3786"
             ],
             [
              0.5555555555555556,
              "#d8576b"
             ],
             [
              0.6666666666666666,
              "#ed7953"
             ],
             [
              0.7777777777777778,
              "#fb9f3a"
             ],
             [
              0.8888888888888888,
              "#fdca26"
             ],
             [
              1,
              "#f0f921"
             ]
            ],
            "type": "surface"
           }
          ],
          "table": [
           {
            "cells": {
             "fill": {
              "color": "#EBF0F8"
             },
             "line": {
              "color": "white"
             }
            },
            "header": {
             "fill": {
              "color": "#C8D4E3"
             },
             "line": {
              "color": "white"
             }
            },
            "type": "table"
           }
          ]
         },
         "layout": {
          "annotationdefaults": {
           "arrowcolor": "#2a3f5f",
           "arrowhead": 0,
           "arrowwidth": 1
          },
          "autotypenumbers": "strict",
          "coloraxis": {
           "colorbar": {
            "outlinewidth": 0,
            "ticks": ""
           }
          },
          "colorscale": {
           "diverging": [
            [
             0,
             "#8e0152"
            ],
            [
             0.1,
             "#c51b7d"
            ],
            [
             0.2,
             "#de77ae"
            ],
            [
             0.3,
             "#f1b6da"
            ],
            [
             0.4,
             "#fde0ef"
            ],
            [
             0.5,
             "#f7f7f7"
            ],
            [
             0.6,
             "#e6f5d0"
            ],
            [
             0.7,
             "#b8e186"
            ],
            [
             0.8,
             "#7fbc41"
            ],
            [
             0.9,
             "#4d9221"
            ],
            [
             1,
             "#276419"
            ]
           ],
           "sequential": [
            [
             0,
             "#0d0887"
            ],
            [
             0.1111111111111111,
             "#46039f"
            ],
            [
             0.2222222222222222,
             "#7201a8"
            ],
            [
             0.3333333333333333,
             "#9c179e"
            ],
            [
             0.4444444444444444,
             "#bd3786"
            ],
            [
             0.5555555555555556,
             "#d8576b"
            ],
            [
             0.6666666666666666,
             "#ed7953"
            ],
            [
             0.7777777777777778,
             "#fb9f3a"
            ],
            [
             0.8888888888888888,
             "#fdca26"
            ],
            [
             1,
             "#f0f921"
            ]
           ],
           "sequentialminus": [
            [
             0,
             "#0d0887"
            ],
            [
             0.1111111111111111,
             "#46039f"
            ],
            [
             0.2222222222222222,
             "#7201a8"
            ],
            [
             0.3333333333333333,
             "#9c179e"
            ],
            [
             0.4444444444444444,
             "#bd3786"
            ],
            [
             0.5555555555555556,
             "#d8576b"
            ],
            [
             0.6666666666666666,
             "#ed7953"
            ],
            [
             0.7777777777777778,
             "#fb9f3a"
            ],
            [
             0.8888888888888888,
             "#fdca26"
            ],
            [
             1,
             "#f0f921"
            ]
           ]
          },
          "colorway": [
           "#636efa",
           "#EF553B",
           "#00cc96",
           "#ab63fa",
           "#FFA15A",
           "#19d3f3",
           "#FF6692",
           "#B6E880",
           "#FF97FF",
           "#FECB52"
          ],
          "font": {
           "color": "#2a3f5f"
          },
          "geo": {
           "bgcolor": "white",
           "lakecolor": "white",
           "landcolor": "#E5ECF6",
           "showlakes": true,
           "showland": true,
           "subunitcolor": "white"
          },
          "hoverlabel": {
           "align": "left"
          },
          "hovermode": "closest",
          "mapbox": {
           "style": "light"
          },
          "paper_bgcolor": "white",
          "plot_bgcolor": "#E5ECF6",
          "polar": {
           "angularaxis": {
            "gridcolor": "white",
            "linecolor": "white",
            "ticks": ""
           },
           "bgcolor": "#E5ECF6",
           "radialaxis": {
            "gridcolor": "white",
            "linecolor": "white",
            "ticks": ""
           }
          },
          "scene": {
           "xaxis": {
            "backgroundcolor": "#E5ECF6",
            "gridcolor": "white",
            "gridwidth": 2,
            "linecolor": "white",
            "showbackground": true,
            "ticks": "",
            "zerolinecolor": "white"
           },
           "yaxis": {
            "backgroundcolor": "#E5ECF6",
            "gridcolor": "white",
            "gridwidth": 2,
            "linecolor": "white",
            "showbackground": true,
            "ticks": "",
            "zerolinecolor": "white"
           },
           "zaxis": {
            "backgroundcolor": "#E5ECF6",
            "gridcolor": "white",
            "gridwidth": 2,
            "linecolor": "white",
            "showbackground": true,
            "ticks": "",
            "zerolinecolor": "white"
           }
          },
          "shapedefaults": {
           "line": {
            "color": "#2a3f5f"
           }
          },
          "ternary": {
           "aaxis": {
            "gridcolor": "white",
            "linecolor": "white",
            "ticks": ""
           },
           "baxis": {
            "gridcolor": "white",
            "linecolor": "white",
            "ticks": ""
           },
           "bgcolor": "#E5ECF6",
           "caxis": {
            "gridcolor": "white",
            "linecolor": "white",
            "ticks": ""
           }
          },
          "title": {
           "x": 0.05
          },
          "xaxis": {
           "automargin": true,
           "gridcolor": "white",
           "linecolor": "white",
           "ticks": "",
           "title": {
            "standoff": 15
           },
           "zerolinecolor": "white",
           "zerolinewidth": 2
          },
          "yaxis": {
           "automargin": true,
           "gridcolor": "white",
           "linecolor": "white",
           "ticks": "",
           "title": {
            "standoff": 15
           },
           "zerolinecolor": "white",
           "zerolinewidth": 2
          }
         }
        },
        "xaxis": {
         "anchor": "y",
         "domain": [
          0,
          0.49
         ],
         "title": {
          "text": "config"
         }
        },
        "xaxis2": {
         "anchor": "y2",
         "domain": [
          0.51,
          1
         ],
         "matches": "x",
         "title": {
          "text": "config"
         }
        },
        "yaxis": {
         "anchor": "x",
         "domain": [
          0,
          1
         ],
         "range": [
          -20,
          20
         ],
         "title": {
          "text": "improvement (%) mean"
         }
        },
        "yaxis2": {
         "anchor": "x2",
         "domain": [
          0,
          1
         ],
         "matches": "y",
         "range": [
          -20,
          20
         ],
         "showticklabels": false
        }
       }
      }
     },
     "metadata": {},
     "output_type": "display_data"
    },
    {
     "name": "stdout",
     "output_type": "stream",
     "text": [
      "rover\n"
     ]
    },
    {
     "data": {
      "application/vnd.plotly.v1+json": {
       "config": {
        "plotlyServerURL": "https://plot.ly"
       },
       "data": [
        {
         "error_y": {
          "array": [
           2.8451480946220684,
           2.5754684265095995,
           3.1391985360167856
          ]
         },
         "hovertemplate": "difficulty=0<br>config=%{x}<br>improvement (%) mean=%{y}<extra></extra>",
         "legendgroup": "",
         "marker": {
          "color": "#636efa",
          "symbol": "circle"
         },
         "mode": "markers",
         "name": "",
         "orientation": "v",
         "showlegend": false,
         "type": "scatter",
         "x": [
          "2_16",
          "2_8",
          "3_8"
         ],
         "xaxis": "x",
         "y": [
          1.8317122798920096,
          1.8362613837192923,
          1.487441613457513
         ],
         "yaxis": "y"
        },
        {
         "error_y": {
          "array": [
           1.6527447563940323,
           1.5238180926113547,
           1.2364978819738495
          ]
         },
         "hovertemplate": "difficulty=1<br>config=%{x}<br>improvement (%) mean=%{y}<extra></extra>",
         "legendgroup": "",
         "marker": {
          "color": "#636efa",
          "symbol": "circle"
         },
         "mode": "markers",
         "name": "",
         "orientation": "v",
         "showlegend": false,
         "type": "scatter",
         "x": [
          "2_16",
          "2_8",
          "3_8"
         ],
         "xaxis": "x2",
         "y": [
          2.4150749073547004,
          2.1097021747383633,
          1.741948172586005
         ],
         "yaxis": "y2"
        }
       ],
       "layout": {
        "annotations": [
         {
          "font": {},
          "showarrow": false,
          "text": "difficulty=0",
          "x": 0.245,
          "xanchor": "center",
          "xref": "paper",
          "y": 1,
          "yanchor": "bottom",
          "yref": "paper"
         },
         {
          "font": {},
          "showarrow": false,
          "text": "difficulty=1",
          "x": 0.755,
          "xanchor": "center",
          "xref": "paper",
          "y": 1,
          "yanchor": "bottom",
          "yref": "paper"
         }
        ],
        "legend": {
         "tracegroupgap": 0
        },
        "margin": {
         "t": 60
        },
        "template": {
         "data": {
          "bar": [
           {
            "error_x": {
             "color": "#2a3f5f"
            },
            "error_y": {
             "color": "#2a3f5f"
            },
            "marker": {
             "line": {
              "color": "#E5ECF6",
              "width": 0.5
             },
             "pattern": {
              "fillmode": "overlay",
              "size": 10,
              "solidity": 0.2
             }
            },
            "type": "bar"
           }
          ],
          "barpolar": [
           {
            "marker": {
             "line": {
              "color": "#E5ECF6",
              "width": 0.5
             },
             "pattern": {
              "fillmode": "overlay",
              "size": 10,
              "solidity": 0.2
             }
            },
            "type": "barpolar"
           }
          ],
          "carpet": [
           {
            "aaxis": {
             "endlinecolor": "#2a3f5f",
             "gridcolor": "white",
             "linecolor": "white",
             "minorgridcolor": "white",
             "startlinecolor": "#2a3f5f"
            },
            "baxis": {
             "endlinecolor": "#2a3f5f",
             "gridcolor": "white",
             "linecolor": "white",
             "minorgridcolor": "white",
             "startlinecolor": "#2a3f5f"
            },
            "type": "carpet"
           }
          ],
          "choropleth": [
           {
            "colorbar": {
             "outlinewidth": 0,
             "ticks": ""
            },
            "type": "choropleth"
           }
          ],
          "contour": [
           {
            "colorbar": {
             "outlinewidth": 0,
             "ticks": ""
            },
            "colorscale": [
             [
              0,
              "#0d0887"
             ],
             [
              0.1111111111111111,
              "#46039f"
             ],
             [
              0.2222222222222222,
              "#7201a8"
             ],
             [
              0.3333333333333333,
              "#9c179e"
             ],
             [
              0.4444444444444444,
              "#bd3786"
             ],
             [
              0.5555555555555556,
              "#d8576b"
             ],
             [
              0.6666666666666666,
              "#ed7953"
             ],
             [
              0.7777777777777778,
              "#fb9f3a"
             ],
             [
              0.8888888888888888,
              "#fdca26"
             ],
             [
              1,
              "#f0f921"
             ]
            ],
            "type": "contour"
           }
          ],
          "contourcarpet": [
           {
            "colorbar": {
             "outlinewidth": 0,
             "ticks": ""
            },
            "type": "contourcarpet"
           }
          ],
          "heatmap": [
           {
            "colorbar": {
             "outlinewidth": 0,
             "ticks": ""
            },
            "colorscale": [
             [
              0,
              "#0d0887"
             ],
             [
              0.1111111111111111,
              "#46039f"
             ],
             [
              0.2222222222222222,
              "#7201a8"
             ],
             [
              0.3333333333333333,
              "#9c179e"
             ],
             [
              0.4444444444444444,
              "#bd3786"
             ],
             [
              0.5555555555555556,
              "#d8576b"
             ],
             [
              0.6666666666666666,
              "#ed7953"
             ],
             [
              0.7777777777777778,
              "#fb9f3a"
             ],
             [
              0.8888888888888888,
              "#fdca26"
             ],
             [
              1,
              "#f0f921"
             ]
            ],
            "type": "heatmap"
           }
          ],
          "heatmapgl": [
           {
            "colorbar": {
             "outlinewidth": 0,
             "ticks": ""
            },
            "colorscale": [
             [
              0,
              "#0d0887"
             ],
             [
              0.1111111111111111,
              "#46039f"
             ],
             [
              0.2222222222222222,
              "#7201a8"
             ],
             [
              0.3333333333333333,
              "#9c179e"
             ],
             [
              0.4444444444444444,
              "#bd3786"
             ],
             [
              0.5555555555555556,
              "#d8576b"
             ],
             [
              0.6666666666666666,
              "#ed7953"
             ],
             [
              0.7777777777777778,
              "#fb9f3a"
             ],
             [
              0.8888888888888888,
              "#fdca26"
             ],
             [
              1,
              "#f0f921"
             ]
            ],
            "type": "heatmapgl"
           }
          ],
          "histogram": [
           {
            "marker": {
             "pattern": {
              "fillmode": "overlay",
              "size": 10,
              "solidity": 0.2
             }
            },
            "type": "histogram"
           }
          ],
          "histogram2d": [
           {
            "colorbar": {
             "outlinewidth": 0,
             "ticks": ""
            },
            "colorscale": [
             [
              0,
              "#0d0887"
             ],
             [
              0.1111111111111111,
              "#46039f"
             ],
             [
              0.2222222222222222,
              "#7201a8"
             ],
             [
              0.3333333333333333,
              "#9c179e"
             ],
             [
              0.4444444444444444,
              "#bd3786"
             ],
             [
              0.5555555555555556,
              "#d8576b"
             ],
             [
              0.6666666666666666,
              "#ed7953"
             ],
             [
              0.7777777777777778,
              "#fb9f3a"
             ],
             [
              0.8888888888888888,
              "#fdca26"
             ],
             [
              1,
              "#f0f921"
             ]
            ],
            "type": "histogram2d"
           }
          ],
          "histogram2dcontour": [
           {
            "colorbar": {
             "outlinewidth": 0,
             "ticks": ""
            },
            "colorscale": [
             [
              0,
              "#0d0887"
             ],
             [
              0.1111111111111111,
              "#46039f"
             ],
             [
              0.2222222222222222,
              "#7201a8"
             ],
             [
              0.3333333333333333,
              "#9c179e"
             ],
             [
              0.4444444444444444,
              "#bd3786"
             ],
             [
              0.5555555555555556,
              "#d8576b"
             ],
             [
              0.6666666666666666,
              "#ed7953"
             ],
             [
              0.7777777777777778,
              "#fb9f3a"
             ],
             [
              0.8888888888888888,
              "#fdca26"
             ],
             [
              1,
              "#f0f921"
             ]
            ],
            "type": "histogram2dcontour"
           }
          ],
          "mesh3d": [
           {
            "colorbar": {
             "outlinewidth": 0,
             "ticks": ""
            },
            "type": "mesh3d"
           }
          ],
          "parcoords": [
           {
            "line": {
             "colorbar": {
              "outlinewidth": 0,
              "ticks": ""
             }
            },
            "type": "parcoords"
           }
          ],
          "pie": [
           {
            "automargin": true,
            "type": "pie"
           }
          ],
          "scatter": [
           {
            "fillpattern": {
             "fillmode": "overlay",
             "size": 10,
             "solidity": 0.2
            },
            "type": "scatter"
           }
          ],
          "scatter3d": [
           {
            "line": {
             "colorbar": {
              "outlinewidth": 0,
              "ticks": ""
             }
            },
            "marker": {
             "colorbar": {
              "outlinewidth": 0,
              "ticks": ""
             }
            },
            "type": "scatter3d"
           }
          ],
          "scattercarpet": [
           {
            "marker": {
             "colorbar": {
              "outlinewidth": 0,
              "ticks": ""
             }
            },
            "type": "scattercarpet"
           }
          ],
          "scattergeo": [
           {
            "marker": {
             "colorbar": {
              "outlinewidth": 0,
              "ticks": ""
             }
            },
            "type": "scattergeo"
           }
          ],
          "scattergl": [
           {
            "marker": {
             "colorbar": {
              "outlinewidth": 0,
              "ticks": ""
             }
            },
            "type": "scattergl"
           }
          ],
          "scattermapbox": [
           {
            "marker": {
             "colorbar": {
              "outlinewidth": 0,
              "ticks": ""
             }
            },
            "type": "scattermapbox"
           }
          ],
          "scatterpolar": [
           {
            "marker": {
             "colorbar": {
              "outlinewidth": 0,
              "ticks": ""
             }
            },
            "type": "scatterpolar"
           }
          ],
          "scatterpolargl": [
           {
            "marker": {
             "colorbar": {
              "outlinewidth": 0,
              "ticks": ""
             }
            },
            "type": "scatterpolargl"
           }
          ],
          "scatterternary": [
           {
            "marker": {
             "colorbar": {
              "outlinewidth": 0,
              "ticks": ""
             }
            },
            "type": "scatterternary"
           }
          ],
          "surface": [
           {
            "colorbar": {
             "outlinewidth": 0,
             "ticks": ""
            },
            "colorscale": [
             [
              0,
              "#0d0887"
             ],
             [
              0.1111111111111111,
              "#46039f"
             ],
             [
              0.2222222222222222,
              "#7201a8"
             ],
             [
              0.3333333333333333,
              "#9c179e"
             ],
             [
              0.4444444444444444,
              "#bd3786"
             ],
             [
              0.5555555555555556,
              "#d8576b"
             ],
             [
              0.6666666666666666,
              "#ed7953"
             ],
             [
              0.7777777777777778,
              "#fb9f3a"
             ],
             [
              0.8888888888888888,
              "#fdca26"
             ],
             [
              1,
              "#f0f921"
             ]
            ],
            "type": "surface"
           }
          ],
          "table": [
           {
            "cells": {
             "fill": {
              "color": "#EBF0F8"
             },
             "line": {
              "color": "white"
             }
            },
            "header": {
             "fill": {
              "color": "#C8D4E3"
             },
             "line": {
              "color": "white"
             }
            },
            "type": "table"
           }
          ]
         },
         "layout": {
          "annotationdefaults": {
           "arrowcolor": "#2a3f5f",
           "arrowhead": 0,
           "arrowwidth": 1
          },
          "autotypenumbers": "strict",
          "coloraxis": {
           "colorbar": {
            "outlinewidth": 0,
            "ticks": ""
           }
          },
          "colorscale": {
           "diverging": [
            [
             0,
             "#8e0152"
            ],
            [
             0.1,
             "#c51b7d"
            ],
            [
             0.2,
             "#de77ae"
            ],
            [
             0.3,
             "#f1b6da"
            ],
            [
             0.4,
             "#fde0ef"
            ],
            [
             0.5,
             "#f7f7f7"
            ],
            [
             0.6,
             "#e6f5d0"
            ],
            [
             0.7,
             "#b8e186"
            ],
            [
             0.8,
             "#7fbc41"
            ],
            [
             0.9,
             "#4d9221"
            ],
            [
             1,
             "#276419"
            ]
           ],
           "sequential": [
            [
             0,
             "#0d0887"
            ],
            [
             0.1111111111111111,
             "#46039f"
            ],
            [
             0.2222222222222222,
             "#7201a8"
            ],
            [
             0.3333333333333333,
             "#9c179e"
            ],
            [
             0.4444444444444444,
             "#bd3786"
            ],
            [
             0.5555555555555556,
             "#d8576b"
            ],
            [
             0.6666666666666666,
             "#ed7953"
            ],
            [
             0.7777777777777778,
             "#fb9f3a"
            ],
            [
             0.8888888888888888,
             "#fdca26"
            ],
            [
             1,
             "#f0f921"
            ]
           ],
           "sequentialminus": [
            [
             0,
             "#0d0887"
            ],
            [
             0.1111111111111111,
             "#46039f"
            ],
            [
             0.2222222222222222,
             "#7201a8"
            ],
            [
             0.3333333333333333,
             "#9c179e"
            ],
            [
             0.4444444444444444,
             "#bd3786"
            ],
            [
             0.5555555555555556,
             "#d8576b"
            ],
            [
             0.6666666666666666,
             "#ed7953"
            ],
            [
             0.7777777777777778,
             "#fb9f3a"
            ],
            [
             0.8888888888888888,
             "#fdca26"
            ],
            [
             1,
             "#f0f921"
            ]
           ]
          },
          "colorway": [
           "#636efa",
           "#EF553B",
           "#00cc96",
           "#ab63fa",
           "#FFA15A",
           "#19d3f3",
           "#FF6692",
           "#B6E880",
           "#FF97FF",
           "#FECB52"
          ],
          "font": {
           "color": "#2a3f5f"
          },
          "geo": {
           "bgcolor": "white",
           "lakecolor": "white",
           "landcolor": "#E5ECF6",
           "showlakes": true,
           "showland": true,
           "subunitcolor": "white"
          },
          "hoverlabel": {
           "align": "left"
          },
          "hovermode": "closest",
          "mapbox": {
           "style": "light"
          },
          "paper_bgcolor": "white",
          "plot_bgcolor": "#E5ECF6",
          "polar": {
           "angularaxis": {
            "gridcolor": "white",
            "linecolor": "white",
            "ticks": ""
           },
           "bgcolor": "#E5ECF6",
           "radialaxis": {
            "gridcolor": "white",
            "linecolor": "white",
            "ticks": ""
           }
          },
          "scene": {
           "xaxis": {
            "backgroundcolor": "#E5ECF6",
            "gridcolor": "white",
            "gridwidth": 2,
            "linecolor": "white",
            "showbackground": true,
            "ticks": "",
            "zerolinecolor": "white"
           },
           "yaxis": {
            "backgroundcolor": "#E5ECF6",
            "gridcolor": "white",
            "gridwidth": 2,
            "linecolor": "white",
            "showbackground": true,
            "ticks": "",
            "zerolinecolor": "white"
           },
           "zaxis": {
            "backgroundcolor": "#E5ECF6",
            "gridcolor": "white",
            "gridwidth": 2,
            "linecolor": "white",
            "showbackground": true,
            "ticks": "",
            "zerolinecolor": "white"
           }
          },
          "shapedefaults": {
           "line": {
            "color": "#2a3f5f"
           }
          },
          "ternary": {
           "aaxis": {
            "gridcolor": "white",
            "linecolor": "white",
            "ticks": ""
           },
           "baxis": {
            "gridcolor": "white",
            "linecolor": "white",
            "ticks": ""
           },
           "bgcolor": "#E5ECF6",
           "caxis": {
            "gridcolor": "white",
            "linecolor": "white",
            "ticks": ""
           }
          },
          "title": {
           "x": 0.05
          },
          "xaxis": {
           "automargin": true,
           "gridcolor": "white",
           "linecolor": "white",
           "ticks": "",
           "title": {
            "standoff": 15
           },
           "zerolinecolor": "white",
           "zerolinewidth": 2
          },
          "yaxis": {
           "automargin": true,
           "gridcolor": "white",
           "linecolor": "white",
           "ticks": "",
           "title": {
            "standoff": 15
           },
           "zerolinecolor": "white",
           "zerolinewidth": 2
          }
         }
        },
        "xaxis": {
         "anchor": "y",
         "domain": [
          0,
          0.49
         ],
         "title": {
          "text": "config"
         }
        },
        "xaxis2": {
         "anchor": "y2",
         "domain": [
          0.51,
          1
         ],
         "matches": "x",
         "title": {
          "text": "config"
         }
        },
        "yaxis": {
         "anchor": "x",
         "domain": [
          0,
          1
         ],
         "range": [
          -20,
          20
         ],
         "title": {
          "text": "improvement (%) mean"
         }
        },
        "yaxis2": {
         "anchor": "x2",
         "domain": [
          0,
          1
         ],
         "matches": "y",
         "range": [
          -20,
          20
         ],
         "showticklabels": false
        }
       }
      }
     },
     "metadata": {},
     "output_type": "display_data"
    }
   ],
   "source": [
    "quantify_performance(choices=choices, layers=layers, dimensions=dimensions)"
   ]
  },
  {
   "cell_type": "markdown",
   "metadata": {},
   "source": [
    "# Relative difference plots"
   ]
  },
  {
   "cell_type": "code",
   "execution_count": null,
   "metadata": {},
   "outputs": [
    {
     "name": "stdout",
     "output_type": "stream",
     "text": [
      "blocksworld\n"
     ]
    },
    {
     "data": {
      "application/vnd.plotly.v1+json": {
       "config": {
        "plotlyServerURL": "https://plot.ly"
       },
       "data": [
        {
         "hovertemplate": "solver=baseline<br>type=bounds<br>difficulty=0<br>problem=%{x}<br>improvement (%)=%{y}<extra></extra>",
         "legendgroup": "baseline, bounds",
         "line": {
          "color": "#636efa",
          "dash": "solid"
         },
         "marker": {
          "symbol": "circle"
         },
         "mode": "lines",
         "name": "baseline, bounds",
         "orientation": "v",
         "showlegend": true,
         "type": "scatter",
         "x": [
          "0_01",
          "0_02",
          "0_03",
          "0_04",
          "0_05",
          "0_06",
          "0_07",
          "0_08",
          "0_09",
          "0_10",
          "0_11",
          "0_12",
          "0_13",
          "0_14",
          "0_15",
          "0_16",
          "0_17",
          "0_18",
          "0_19",
          "0_20",
          "0_21",
          "0_22",
          "0_23",
          "0_24",
          "0_25",
          "0_26",
          "0_27",
          "0_28",
          "0_29",
          "0_30"
         ],
         "xaxis": "x",
         "y": [
          0,
          0,
          0,
          0,
          0,
          0,
          0,
          0,
          0,
          0,
          0,
          0,
          0,
          0,
          0,
          0,
          0,
          0,
          0,
          0,
          0,
          0,
          0,
          0,
          0,
          0,
          0,
          0,
          0,
          0
         ],
         "yaxis": "y"
        },
        {
         "hovertemplate": "solver=baseline<br>type=bounds<br>difficulty=1<br>problem=%{x}<br>improvement (%)=%{y}<extra></extra>",
         "legendgroup": "baseline, bounds",
         "line": {
          "color": "#636efa",
          "dash": "solid"
         },
         "marker": {
          "symbol": "circle"
         },
         "mode": "lines",
         "name": "baseline, bounds",
         "orientation": "v",
         "showlegend": false,
         "type": "scatter",
         "x": [
          "1_01",
          "1_02",
          "1_03",
          "1_04",
          "1_05",
          "1_06",
          "1_07",
          "1_08",
          "1_09",
          "1_10",
          "1_11",
          "1_12",
          "1_13",
          "1_14",
          "1_15",
          "1_16",
          "1_17",
          "1_18",
          "1_19",
          "1_20",
          "1_21",
          "1_22",
          "1_23",
          "1_24",
          "1_25",
          "1_26",
          "1_27",
          "1_28",
          "1_29",
          "1_30"
         ],
         "xaxis": "x2",
         "y": [
          0,
          0,
          0,
          0,
          0,
          0,
          0,
          0,
          0,
          0,
          0,
          0,
          0,
          0,
          0,
          0,
          0,
          0,
          0,
          0,
          0,
          0,
          0,
          0,
          0,
          0,
          0,
          0,
          0,
          0
         ],
         "yaxis": "y2"
        },
        {
         "hovertemplate": "solver=optimal<br>type=bounds<br>difficulty=0<br>problem=%{x}<br>improvement (%)=%{y}<extra></extra>",
         "legendgroup": "optimal, bounds",
         "line": {
          "color": "#EF553B",
          "dash": "solid"
         },
         "marker": {
          "symbol": "circle"
         },
         "mode": "lines",
         "name": "optimal, bounds",
         "orientation": "v",
         "showlegend": true,
         "type": "scatter",
         "x": [
          "0_01",
          "0_02",
          "0_03",
          "0_04",
          "0_05",
          "0_06",
          "0_07",
          "0_08",
          "0_09",
          "0_10",
          "0_11",
          "0_12",
          "0_13",
          "0_14",
          "0_15",
          "0_16",
          "0_17",
          "0_18",
          "0_19",
          "0_20",
          "0_21",
          "0_22",
          "0_23",
          "0_24",
          "0_25",
          "0_26",
          "0_27",
          "0_28",
          "0_29",
          "0_30"
         ],
         "xaxis": "x",
         "y": [
          0,
          0,
          0,
          0,
          0,
          10.958904109589039,
          0,
          0,
          0,
          0,
          0,
          9.909909909909908,
          11.016949152542377,
          7.563025210084036,
          14.179104477611942,
          9.395973154362418,
          0,
          8.759124087591236,
          10.596026490066224,
          0,
          10.256410256410255,
          7.6923076923076925,
          12.121212121212121,
          12.621359223300976,
          7.657657657657655,
          8.866995073891628,
          9.340659340659338,
          8.88888888888889,
          7.766990291262142,
          7.172995780590715
         ],
         "yaxis": "y"
        },
        {
         "hovertemplate": "solver=optimal<br>type=bounds<br>difficulty=1<br>problem=%{x}<br>improvement (%)=%{y}<extra></extra>",
         "legendgroup": "optimal, bounds",
         "line": {
          "color": "#EF553B",
          "dash": "solid"
         },
         "marker": {
          "symbol": "circle"
         },
         "mode": "lines",
         "name": "optimal, bounds",
         "orientation": "v",
         "showlegend": false,
         "type": "scatter",
         "x": [
          "1_01",
          "1_02",
          "1_03",
          "1_04",
          "1_05",
          "1_06",
          "1_07",
          "1_08",
          "1_09",
          "1_10",
          "1_11",
          "1_12",
          "1_13",
          "1_14",
          "1_15",
          "1_16",
          "1_17",
          "1_18",
          "1_19",
          "1_20",
          "1_21",
          "1_22",
          "1_23",
          "1_24",
          "1_25",
          "1_26",
          "1_27",
          "1_28",
          "1_29",
          "1_30"
         ],
         "xaxis": "x2",
         "y": [
          10.169491525423728,
          16.129032258064516,
          16.666666666666668,
          9.774436090225562,
          13.414634146341463,
          14.634146341463415,
          17.53653444676409,
          17.67068273092369,
          13.957934990439767,
          15.454545454545455,
          13.822525597269626,
          10.550458715596339,
          14.529914529914533,
          17.151162790697672,
          19.332406119610575,
          17.11590296495957,
          10.994764397905765,
          16.764361078546305,
          16.763678696158326,
          13.580246913580243,
          15.66920565832427,
          16.755037115588546,
          14.739884393063582,
          14.038657171922683,
          16.98473282442748,
          12.137681159420293,
          14.568345323741008,
          14.972273567467655,
          16.23263888888889,
          10.424710424710424
         ],
         "yaxis": "y2"
        },
        {
         "hovertemplate": "solver=lama<br>type=bounds<br>difficulty=0<br>problem=%{x}<br>improvement (%)=%{y}<extra></extra>",
         "legendgroup": "lama, bounds",
         "line": {
          "color": "#00cc96",
          "dash": "solid"
         },
         "marker": {
          "symbol": "circle"
         },
         "mode": "lines",
         "name": "lama, bounds",
         "orientation": "v",
         "showlegend": true,
         "type": "scatter",
         "x": [
          "0_01",
          "0_02",
          "0_03",
          "0_04",
          "0_05",
          "0_06",
          "0_07",
          "0_08",
          "0_09",
          "0_10",
          "0_11",
          "0_12",
          "0_13",
          "0_14",
          "0_15",
          "0_16",
          "0_17",
          "0_18",
          "0_19",
          "0_20",
          "0_21",
          "0_22",
          "0_23",
          "0_24",
          "0_25",
          "0_26",
          "0_27",
          "0_28",
          "0_29",
          "0_30"
         ],
         "xaxis": "x",
         "y": [
          0,
          0,
          -70,
          -58.333333333333336,
          -66.66666666666667,
          -173.97260273972603,
          -93.75,
          -81.25,
          -55.55555555555556,
          -15.789473684210526,
          -112.5,
          -62.16216216216216,
          -128.81355932203388,
          -38.65546218487394,
          -97.76119402985074,
          -104.69798657718121,
          -116.66666666666667,
          -53.28467153284673,
          -42.384105960264904,
          -39.285714285714285,
          -21.7948717948718,
          -87.17948717948718,
          -42.42424242424242,
          -145.14563106796115,
          -208.55855855855856,
          -183.2512315270936,
          -78.57142857142857,
          -68.88888888888889,
          -72.33009708737862,
          -113.08016877637131
         ],
         "yaxis": "y"
        },
        {
         "hovertemplate": "solver=lama<br>type=bounds<br>difficulty=1<br>problem=%{x}<br>improvement (%)=%{y}<extra></extra>",
         "legendgroup": "lama, bounds",
         "line": {
          "color": "#00cc96",
          "dash": "solid"
         },
         "marker": {
          "symbol": "circle"
         },
         "mode": "lines",
         "name": "lama, bounds",
         "orientation": "v",
         "showlegend": false,
         "type": "scatter",
         "x": [
          "1_01",
          "1_02",
          "1_03",
          "1_04",
          "1_05",
          "1_06",
          "1_07",
          "1_08",
          "1_09",
          "1_10",
          "1_11",
          "1_12",
          "1_13",
          "1_14",
          "1_15",
          "1_16",
          "1_17",
          "1_18",
          "1_19",
          "1_20",
          "1_21",
          "1_22",
          "1_23",
          "1_24",
          "1_25",
          "1_26",
          "1_27",
          "1_28",
          "1_29",
          "1_30"
         ],
         "xaxis": "x2",
         "y": [
          -174.57627118644066,
          -79.03225806451613,
          -80.05952380952381,
          null,
          -95.1219512195122,
          -40.24390243902439,
          -96.24217118997913,
          null,
          -126.57743785850862,
          -80,
          -175.59726962457339,
          -141.59021406727828,
          -118.66096866096865,
          -91.86046511627907,
          -125.31293463143254,
          -115.63342318059298,
          -109.4240837696335,
          -92.26260257913248,
          null,
          -166.55443322109988,
          -147.0076169749728,
          -97.77306468716861,
          null,
          -102.441505595117,
          -94.65648854961832,
          null,
          -122.1223021582734,
          -147.22735674676525,
          -132.6388888888889,
          null
         ],
         "yaxis": "y2"
        },
        {
         "hovertemplate": "solver=L2_D8_best<br>type=lrnn_best<br>difficulty=0<br>problem=%{x}<br>improvement (%)=%{y}<extra></extra>",
         "legendgroup": "L2_D8_best, lrnn_best",
         "line": {
          "color": "#ab63fa",
          "dash": "dot"
         },
         "marker": {
          "symbol": "circle"
         },
         "mode": "lines",
         "name": "L2_D8_best, lrnn_best",
         "orientation": "v",
         "showlegend": true,
         "type": "scatter",
         "x": [
          "0_01",
          "0_02",
          "0_03",
          "0_04",
          "0_05",
          "0_06",
          "0_07",
          "0_08",
          "0_09",
          "0_10",
          "0_11",
          "0_12",
          "0_13",
          "0_14",
          "0_15",
          "0_16",
          "0_17",
          "0_18",
          "0_19",
          "0_20",
          "0_21",
          "0_22",
          "0_23",
          "0_24",
          "0_25",
          "0_26",
          "0_27",
          "0_28",
          "0_29",
          "0_30"
         ],
         "xaxis": "x",
         "y": [
          0,
          0,
          0,
          0,
          0,
          -0.4566210045662084,
          0,
          0,
          0,
          0,
          0,
          -0.6006006006005985,
          3.9548022598870065,
          -0.8403361344537785,
          1.7412935323383154,
          0.44742729306487533,
          0,
          -8.27250608272507,
          2.8697571743929378,
          0,
          10.256410256410255,
          0.8547008547008608,
          1.0101010101010173,
          1.2944983818770353,
          0.9009009009008977,
          3.119868637110014,
          -4.3956043956043995,
          0,
          -1.941747572815527,
          -6.188466947960627
         ],
         "yaxis": "y"
        },
        {
         "hovertemplate": "solver=L2_D8_best<br>type=lrnn_best<br>difficulty=1<br>problem=%{x}<br>improvement (%)=%{y}<extra></extra>",
         "legendgroup": "L2_D8_best, lrnn_best",
         "line": {
          "color": "#ab63fa",
          "dash": "dot"
         },
         "marker": {
          "symbol": "circle"
         },
         "mode": "lines",
         "name": "L2_D8_best, lrnn_best",
         "orientation": "v",
         "showlegend": false,
         "type": "scatter",
         "x": [
          "1_01",
          "1_02",
          "1_03",
          "1_04",
          "1_05",
          "1_06",
          "1_07",
          "1_08",
          "1_09",
          "1_10",
          "1_11",
          "1_12",
          "1_13",
          "1_14",
          "1_15",
          "1_16",
          "1_17",
          "1_18",
          "1_19",
          "1_20",
          "1_21",
          "1_22",
          "1_23",
          "1_24",
          "1_25",
          "1_26",
          "1_27",
          "1_28",
          "1_29",
          "1_30"
         ],
         "xaxis": "x2",
         "y": [
          1.694915254237288,
          0,
          3.7698412698412667,
          -1.0860484544695166,
          -0.4065040650406446,
          0.8130081300813066,
          2.2268615170494006,
          1.2717536813922348,
          1.848311026131284,
          1.2121212121212077,
          0.4550625711035251,
          -0.9174311926605417,
          0.5223171889838665,
          0.1937984496123921,
          0.556328233657866,
          -1.078167115902961,
          -3.8394415357766003,
          0.7424775302852589,
          0.2716336825766406,
          -1.945379723157502,
          1.5233949945593097,
          0.6716154118062839,
          -0.6743737957610818,
          -1.2207527975584973,
          0.9223918575063632,
          -1.4492753623188352,
          -0.4196642685851336,
          -1.8176216882316714,
          -0.9837962962962897,
          -0.25740025740026473
         ],
         "yaxis": "y2"
        },
        {
         "hovertemplate": "solver=L2_D16_best<br>type=lrnn_best<br>difficulty=0<br>problem=%{x}<br>improvement (%)=%{y}<extra></extra>",
         "legendgroup": "L2_D16_best, lrnn_best",
         "line": {
          "color": "#FFA15A",
          "dash": "dot"
         },
         "marker": {
          "symbol": "circle"
         },
         "mode": "lines",
         "name": "L2_D16_best, lrnn_best",
         "orientation": "v",
         "showlegend": true,
         "type": "scatter",
         "x": [
          "0_01",
          "0_02",
          "0_03",
          "0_04",
          "0_05",
          "0_06",
          "0_07",
          "0_08",
          "0_09",
          "0_10",
          "0_11",
          "0_12",
          "0_13",
          "0_14",
          "0_15",
          "0_16",
          "0_17",
          "0_18",
          "0_19",
          "0_20",
          "0_21",
          "0_22",
          "0_23",
          "0_24",
          "0_25",
          "0_26",
          "0_27",
          "0_28",
          "0_29",
          "0_30"
         ],
         "xaxis": "x",
         "y": [
          0,
          0,
          0,
          0,
          0,
          10.958904109589039,
          0,
          0,
          0,
          0,
          0,
          3.903903903903906,
          1.1299435028248697,
          6.162464985994405,
          5.472636815920405,
          2.684563758389264,
          0,
          5.109489051094886,
          1.7660044150110312,
          0,
          8.119658119658114,
          2.5641025641025643,
          4.040404040404036,
          6.14886731391587,
          3.1531531531531503,
          3.9408866995073923,
          3.8461538461538423,
          2.2222222222222223,
          1.2944983818770353,
          0.8438818565400814
         ],
         "yaxis": "y"
        },
        {
         "hovertemplate": "solver=L2_D16_best<br>type=lrnn_best<br>difficulty=1<br>problem=%{x}<br>improvement (%)=%{y}<extra></extra>",
         "legendgroup": "L2_D16_best, lrnn_best",
         "line": {
          "color": "#FFA15A",
          "dash": "dot"
         },
         "marker": {
          "symbol": "circle"
         },
         "mode": "lines",
         "name": "L2_D16_best, lrnn_best",
         "orientation": "v",
         "showlegend": false,
         "type": "scatter",
         "x": [
          "1_01",
          "1_02",
          "1_03",
          "1_04",
          "1_05",
          "1_06",
          "1_07",
          "1_08",
          "1_09",
          "1_10",
          "1_11",
          "1_12",
          "1_13",
          "1_14",
          "1_15",
          "1_16",
          "1_17",
          "1_18",
          "1_19",
          "1_20",
          "1_21",
          "1_22",
          "1_23",
          "1_24",
          "1_25",
          "1_26",
          "1_27",
          "1_28",
          "1_29",
          "1_30"
         ],
         "xaxis": "x2",
         "y": [
          2.824858757062143,
          3.7634408602150575,
          6.746031746031753,
          -0.2506265664160437,
          4.065040650406498,
          7.723577235772352,
          7.446068197633952,
          2.945113788487272,
          3.441682600382404,
          6.666666666666662,
          1.3083048919226377,
          1.6309887869521056,
          2.184235517568848,
          1.1627906976744145,
          4.728789986091802,
          2.9649595687331574,
          1.6143106457242593,
          4.454865181711603,
          2.7939464493597272,
          1.7957351290684562,
          5.513239027928919,
          3.676210675150232,
          2.536929993577385,
          1.4920311970159397,
          2.8307888040712488,
          2.173913043478266,
          3.027577937649887,
          1.5711645101663612,
          2.343750000000002,
          0.6435006435006508
         ],
         "yaxis": "y2"
        },
        {
         "hovertemplate": "solver=L3_D8_best<br>type=lrnn_best<br>difficulty=0<br>problem=%{x}<br>improvement (%)=%{y}<extra></extra>",
         "legendgroup": "L3_D8_best, lrnn_best",
         "line": {
          "color": "#19d3f3",
          "dash": "dot"
         },
         "marker": {
          "symbol": "circle"
         },
         "mode": "lines",
         "name": "L3_D8_best, lrnn_best",
         "orientation": "v",
         "showlegend": true,
         "type": "scatter",
         "x": [
          "0_01",
          "0_02",
          "0_03",
          "0_04",
          "0_05",
          "0_06",
          "0_07",
          "0_08",
          "0_09",
          "0_10",
          "0_11",
          "0_12",
          "0_13",
          "0_14",
          "0_15",
          "0_16",
          "0_17",
          "0_18",
          "0_19",
          "0_20",
          "0_21",
          "0_22",
          "0_23",
          "0_24",
          "0_25",
          "0_26",
          "0_27",
          "0_28",
          "0_29",
          "0_30"
         ],
         "xaxis": "x",
         "y": [
          0,
          0,
          0,
          0,
          0,
          10.958904109589039,
          0,
          0,
          0,
          0,
          0,
          5.405405405405403,
          2.542372881355938,
          4.76190476190476,
          6.716417910447763,
          0.44742729306487533,
          0,
          6.326034063260332,
          5.077262693156727,
          0,
          9.188034188034191,
          3.418803418803425,
          2.0202020202020132,
          6.14886731391587,
          3.903903903903906,
          5.582922824302132,
          4.7619047619047645,
          1.4814814814814763,
          2.9126213592233077,
          -1.969057665260205
         ],
         "yaxis": "y"
        },
        {
         "hovertemplate": "solver=L3_D8_best<br>type=lrnn_best<br>difficulty=1<br>problem=%{x}<br>improvement (%)=%{y}<extra></extra>",
         "legendgroup": "L3_D8_best, lrnn_best",
         "line": {
          "color": "#19d3f3",
          "dash": "dot"
         },
         "marker": {
          "symbol": "circle"
         },
         "mode": "lines",
         "name": "L3_D8_best, lrnn_best",
         "orientation": "v",
         "showlegend": false,
         "type": "scatter",
         "x": [
          "1_01",
          "1_02",
          "1_03",
          "1_04",
          "1_05",
          "1_06",
          "1_07",
          "1_08",
          "1_09",
          "1_10",
          "1_11",
          "1_12",
          "1_13",
          "1_14",
          "1_15",
          "1_16",
          "1_17",
          "1_18",
          "1_19",
          "1_20",
          "1_21",
          "1_22",
          "1_23",
          "1_24",
          "1_25",
          "1_26",
          "1_27",
          "1_28",
          "1_29",
          "1_30"
         ],
         "xaxis": "x2",
         "y": [
          2.824858757062143,
          5.9139784946236515,
          11.210317460317468,
          1.4202172096908845,
          5.691056910569111,
          7.317073170731708,
          7.098121085594987,
          3.6144578313252955,
          4.397705544933073,
          6.666666666666662,
          3.5836177474402753,
          2.3955147808358865,
          4.7958214624881395,
          5.281007751937974,
          11.451089476124258,
          6.334231805929923,
          4.450261780104719,
          7.190308714341531,
          5.704307334109436,
          2.7310138421249417,
          4.425099746100845,
          6.857546836337931,
          4.303147077713554,
          3.865717192268563,
          5.852417302798975,
          3.2306763285024247,
          3.926858513189455,
          4.497843499691935,
          4.513888888888891,
          2.3166023166023164
         ],
         "yaxis": "y2"
        },
        {
         "hovertemplate": "solver=L3_D16_best<br>type=lrnn_best<br>difficulty=0<br>problem=%{x}<br>improvement (%)=%{y}<extra></extra>",
         "legendgroup": "L3_D16_best, lrnn_best",
         "line": {
          "color": "#FF6692",
          "dash": "dot"
         },
         "marker": {
          "symbol": "circle"
         },
         "mode": "lines",
         "name": "L3_D16_best, lrnn_best",
         "orientation": "v",
         "showlegend": true,
         "type": "scatter",
         "x": [
          "0_01",
          "0_02",
          "0_03",
          "0_04",
          "0_05",
          "0_06",
          "0_07",
          "0_08",
          "0_09",
          "0_10",
          "0_11",
          "0_12",
          "0_13",
          "0_14",
          "0_15",
          "0_16",
          "0_17",
          "0_18",
          "0_19",
          "0_20",
          "0_21",
          "0_22",
          "0_23",
          "0_24",
          "0_25",
          "0_26",
          "0_27",
          "0_28",
          "0_29",
          "0_30"
         ],
         "xaxis": "x",
         "y": [
          0,
          0,
          0,
          0,
          0,
          1.8264840182648336,
          0,
          0,
          0,
          0,
          0,
          0.9009009009008977,
          -0.2824858757062137,
          1.960784313725498,
          4.228855721393033,
          1.5659955257270757,
          0,
          0.24330900243308917,
          -0.4415011037527578,
          0,
          8.119658119658114,
          1.7094017094017033,
          2.0202020202020132,
          0.4854368932038904,
          1.6516516516516537,
          -0.16420361247946522,
          -2.5641025641025745,
          1.4814814814814763,
          2.9126213592233077,
          -6.891701828410687
         ],
         "yaxis": "y"
        },
        {
         "hovertemplate": "solver=L3_D16_best<br>type=lrnn_best<br>difficulty=1<br>problem=%{x}<br>improvement (%)=%{y}<extra></extra>",
         "legendgroup": "L3_D16_best, lrnn_best",
         "line": {
          "color": "#FF6692",
          "dash": "dot"
         },
         "marker": {
          "symbol": "circle"
         },
         "mode": "lines",
         "name": "L3_D16_best, lrnn_best",
         "orientation": "v",
         "showlegend": false,
         "type": "scatter",
         "x": [
          "1_01",
          "1_02",
          "1_03",
          "1_04",
          "1_05",
          "1_06",
          "1_07",
          "1_08",
          "1_09",
          "1_10",
          "1_11",
          "1_12",
          "1_13",
          "1_14",
          "1_15",
          "1_16",
          "1_17",
          "1_18",
          "1_19",
          "1_20",
          "1_21",
          "1_22",
          "1_23",
          "1_24",
          "1_25",
          "1_26",
          "1_27",
          "1_28",
          "1_29",
          "1_30"
         ],
         "xaxis": "x2",
         "y": [
          3.389830508474576,
          0,
          1.7857142857142898,
          -1.5037593984962443,
          -0.8130081300813066,
          0.8130081300813066,
          1.5309672929714704,
          2.2757697456492627,
          2.1669853409815163,
          -0.3030303030302987,
          1.0238907849829375,
          -1.6819571865443337,
          0.28490028490028896,
          -0.5329457364341196,
          -0.13908205841445662,
          -0.6289308176100654,
          -1.2216404886561818,
          1.9148104728409447,
          0.8537058595265823,
          0.4863449307893636,
          0.0725426187885496,
          0.3181336161187669,
          -0.6743737957610818,
          -0.8816547982366981,
          0.7633587786259515,
          0.060386473429961125,
          0.17985611510791621,
          -1.355514479359213,
          -3.1539351851851785,
          -0.5148005148005075
         ],
         "yaxis": "y2"
        }
       ],
       "layout": {
        "annotations": [
         {
          "font": {},
          "showarrow": false,
          "text": "difficulty=0",
          "x": 0.245,
          "xanchor": "center",
          "xref": "paper",
          "y": 1,
          "yanchor": "bottom",
          "yref": "paper"
         },
         {
          "font": {},
          "showarrow": false,
          "text": "difficulty=1",
          "x": 0.755,
          "xanchor": "center",
          "xref": "paper",
          "y": 1,
          "yanchor": "bottom",
          "yref": "paper"
         }
        ],
        "legend": {
         "title": {
          "text": "solver, type"
         },
         "tracegroupgap": 0
        },
        "margin": {
         "t": 60
        },
        "template": {
         "data": {
          "bar": [
           {
            "error_x": {
             "color": "#2a3f5f"
            },
            "error_y": {
             "color": "#2a3f5f"
            },
            "marker": {
             "line": {
              "color": "#E5ECF6",
              "width": 0.5
             },
             "pattern": {
              "fillmode": "overlay",
              "size": 10,
              "solidity": 0.2
             }
            },
            "type": "bar"
           }
          ],
          "barpolar": [
           {
            "marker": {
             "line": {
              "color": "#E5ECF6",
              "width": 0.5
             },
             "pattern": {
              "fillmode": "overlay",
              "size": 10,
              "solidity": 0.2
             }
            },
            "type": "barpolar"
           }
          ],
          "carpet": [
           {
            "aaxis": {
             "endlinecolor": "#2a3f5f",
             "gridcolor": "white",
             "linecolor": "white",
             "minorgridcolor": "white",
             "startlinecolor": "#2a3f5f"
            },
            "baxis": {
             "endlinecolor": "#2a3f5f",
             "gridcolor": "white",
             "linecolor": "white",
             "minorgridcolor": "white",
             "startlinecolor": "#2a3f5f"
            },
            "type": "carpet"
           }
          ],
          "choropleth": [
           {
            "colorbar": {
             "outlinewidth": 0,
             "ticks": ""
            },
            "type": "choropleth"
           }
          ],
          "contour": [
           {
            "colorbar": {
             "outlinewidth": 0,
             "ticks": ""
            },
            "colorscale": [
             [
              0,
              "#0d0887"
             ],
             [
              0.1111111111111111,
              "#46039f"
             ],
             [
              0.2222222222222222,
              "#7201a8"
             ],
             [
              0.3333333333333333,
              "#9c179e"
             ],
             [
              0.4444444444444444,
              "#bd3786"
             ],
             [
              0.5555555555555556,
              "#d8576b"
             ],
             [
              0.6666666666666666,
              "#ed7953"
             ],
             [
              0.7777777777777778,
              "#fb9f3a"
             ],
             [
              0.8888888888888888,
              "#fdca26"
             ],
             [
              1,
              "#f0f921"
             ]
            ],
            "type": "contour"
           }
          ],
          "contourcarpet": [
           {
            "colorbar": {
             "outlinewidth": 0,
             "ticks": ""
            },
            "type": "contourcarpet"
           }
          ],
          "heatmap": [
           {
            "colorbar": {
             "outlinewidth": 0,
             "ticks": ""
            },
            "colorscale": [
             [
              0,
              "#0d0887"
             ],
             [
              0.1111111111111111,
              "#46039f"
             ],
             [
              0.2222222222222222,
              "#7201a8"
             ],
             [
              0.3333333333333333,
              "#9c179e"
             ],
             [
              0.4444444444444444,
              "#bd3786"
             ],
             [
              0.5555555555555556,
              "#d8576b"
             ],
             [
              0.6666666666666666,
              "#ed7953"
             ],
             [
              0.7777777777777778,
              "#fb9f3a"
             ],
             [
              0.8888888888888888,
              "#fdca26"
             ],
             [
              1,
              "#f0f921"
             ]
            ],
            "type": "heatmap"
           }
          ],
          "heatmapgl": [
           {
            "colorbar": {
             "outlinewidth": 0,
             "ticks": ""
            },
            "colorscale": [
             [
              0,
              "#0d0887"
             ],
             [
              0.1111111111111111,
              "#46039f"
             ],
             [
              0.2222222222222222,
              "#7201a8"
             ],
             [
              0.3333333333333333,
              "#9c179e"
             ],
             [
              0.4444444444444444,
              "#bd3786"
             ],
             [
              0.5555555555555556,
              "#d8576b"
             ],
             [
              0.6666666666666666,
              "#ed7953"
             ],
             [
              0.7777777777777778,
              "#fb9f3a"
             ],
             [
              0.8888888888888888,
              "#fdca26"
             ],
             [
              1,
              "#f0f921"
             ]
            ],
            "type": "heatmapgl"
           }
          ],
          "histogram": [
           {
            "marker": {
             "pattern": {
              "fillmode": "overlay",
              "size": 10,
              "solidity": 0.2
             }
            },
            "type": "histogram"
           }
          ],
          "histogram2d": [
           {
            "colorbar": {
             "outlinewidth": 0,
             "ticks": ""
            },
            "colorscale": [
             [
              0,
              "#0d0887"
             ],
             [
              0.1111111111111111,
              "#46039f"
             ],
             [
              0.2222222222222222,
              "#7201a8"
             ],
             [
              0.3333333333333333,
              "#9c179e"
             ],
             [
              0.4444444444444444,
              "#bd3786"
             ],
             [
              0.5555555555555556,
              "#d8576b"
             ],
             [
              0.6666666666666666,
              "#ed7953"
             ],
             [
              0.7777777777777778,
              "#fb9f3a"
             ],
             [
              0.8888888888888888,
              "#fdca26"
             ],
             [
              1,
              "#f0f921"
             ]
            ],
            "type": "histogram2d"
           }
          ],
          "histogram2dcontour": [
           {
            "colorbar": {
             "outlinewidth": 0,
             "ticks": ""
            },
            "colorscale": [
             [
              0,
              "#0d0887"
             ],
             [
              0.1111111111111111,
              "#46039f"
             ],
             [
              0.2222222222222222,
              "#7201a8"
             ],
             [
              0.3333333333333333,
              "#9c179e"
             ],
             [
              0.4444444444444444,
              "#bd3786"
             ],
             [
              0.5555555555555556,
              "#d8576b"
             ],
             [
              0.6666666666666666,
              "#ed7953"
             ],
             [
              0.7777777777777778,
              "#fb9f3a"
             ],
             [
              0.8888888888888888,
              "#fdca26"
             ],
             [
              1,
              "#f0f921"
             ]
            ],
            "type": "histogram2dcontour"
           }
          ],
          "mesh3d": [
           {
            "colorbar": {
             "outlinewidth": 0,
             "ticks": ""
            },
            "type": "mesh3d"
           }
          ],
          "parcoords": [
           {
            "line": {
             "colorbar": {
              "outlinewidth": 0,
              "ticks": ""
             }
            },
            "type": "parcoords"
           }
          ],
          "pie": [
           {
            "automargin": true,
            "type": "pie"
           }
          ],
          "scatter": [
           {
            "fillpattern": {
             "fillmode": "overlay",
             "size": 10,
             "solidity": 0.2
            },
            "type": "scatter"
           }
          ],
          "scatter3d": [
           {
            "line": {
             "colorbar": {
              "outlinewidth": 0,
              "ticks": ""
             }
            },
            "marker": {
             "colorbar": {
              "outlinewidth": 0,
              "ticks": ""
             }
            },
            "type": "scatter3d"
           }
          ],
          "scattercarpet": [
           {
            "marker": {
             "colorbar": {
              "outlinewidth": 0,
              "ticks": ""
             }
            },
            "type": "scattercarpet"
           }
          ],
          "scattergeo": [
           {
            "marker": {
             "colorbar": {
              "outlinewidth": 0,
              "ticks": ""
             }
            },
            "type": "scattergeo"
           }
          ],
          "scattergl": [
           {
            "marker": {
             "colorbar": {
              "outlinewidth": 0,
              "ticks": ""
             }
            },
            "type": "scattergl"
           }
          ],
          "scattermapbox": [
           {
            "marker": {
             "colorbar": {
              "outlinewidth": 0,
              "ticks": ""
             }
            },
            "type": "scattermapbox"
           }
          ],
          "scatterpolar": [
           {
            "marker": {
             "colorbar": {
              "outlinewidth": 0,
              "ticks": ""
             }
            },
            "type": "scatterpolar"
           }
          ],
          "scatterpolargl": [
           {
            "marker": {
             "colorbar": {
              "outlinewidth": 0,
              "ticks": ""
             }
            },
            "type": "scatterpolargl"
           }
          ],
          "scatterternary": [
           {
            "marker": {
             "colorbar": {
              "outlinewidth": 0,
              "ticks": ""
             }
            },
            "type": "scatterternary"
           }
          ],
          "surface": [
           {
            "colorbar": {
             "outlinewidth": 0,
             "ticks": ""
            },
            "colorscale": [
             [
              0,
              "#0d0887"
             ],
             [
              0.1111111111111111,
              "#46039f"
             ],
             [
              0.2222222222222222,
              "#7201a8"
             ],
             [
              0.3333333333333333,
              "#9c179e"
             ],
             [
              0.4444444444444444,
              "#bd3786"
             ],
             [
              0.5555555555555556,
              "#d8576b"
             ],
             [
              0.6666666666666666,
              "#ed7953"
             ],
             [
              0.7777777777777778,
              "#fb9f3a"
             ],
             [
              0.8888888888888888,
              "#fdca26"
             ],
             [
              1,
              "#f0f921"
             ]
            ],
            "type": "surface"
           }
          ],
          "table": [
           {
            "cells": {
             "fill": {
              "color": "#EBF0F8"
             },
             "line": {
              "color": "white"
             }
            },
            "header": {
             "fill": {
              "color": "#C8D4E3"
             },
             "line": {
              "color": "white"
             }
            },
            "type": "table"
           }
          ]
         },
         "layout": {
          "annotationdefaults": {
           "arrowcolor": "#2a3f5f",
           "arrowhead": 0,
           "arrowwidth": 1
          },
          "autotypenumbers": "strict",
          "coloraxis": {
           "colorbar": {
            "outlinewidth": 0,
            "ticks": ""
           }
          },
          "colorscale": {
           "diverging": [
            [
             0,
             "#8e0152"
            ],
            [
             0.1,
             "#c51b7d"
            ],
            [
             0.2,
             "#de77ae"
            ],
            [
             0.3,
             "#f1b6da"
            ],
            [
             0.4,
             "#fde0ef"
            ],
            [
             0.5,
             "#f7f7f7"
            ],
            [
             0.6,
             "#e6f5d0"
            ],
            [
             0.7,
             "#b8e186"
            ],
            [
             0.8,
             "#7fbc41"
            ],
            [
             0.9,
             "#4d9221"
            ],
            [
             1,
             "#276419"
            ]
           ],
           "sequential": [
            [
             0,
             "#0d0887"
            ],
            [
             0.1111111111111111,
             "#46039f"
            ],
            [
             0.2222222222222222,
             "#7201a8"
            ],
            [
             0.3333333333333333,
             "#9c179e"
            ],
            [
             0.4444444444444444,
             "#bd3786"
            ],
            [
             0.5555555555555556,
             "#d8576b"
            ],
            [
             0.6666666666666666,
             "#ed7953"
            ],
            [
             0.7777777777777778,
             "#fb9f3a"
            ],
            [
             0.8888888888888888,
             "#fdca26"
            ],
            [
             1,
             "#f0f921"
            ]
           ],
           "sequentialminus": [
            [
             0,
             "#0d0887"
            ],
            [
             0.1111111111111111,
             "#46039f"
            ],
            [
             0.2222222222222222,
             "#7201a8"
            ],
            [
             0.3333333333333333,
             "#9c179e"
            ],
            [
             0.4444444444444444,
             "#bd3786"
            ],
            [
             0.5555555555555556,
             "#d8576b"
            ],
            [
             0.6666666666666666,
             "#ed7953"
            ],
            [
             0.7777777777777778,
             "#fb9f3a"
            ],
            [
             0.8888888888888888,
             "#fdca26"
            ],
            [
             1,
             "#f0f921"
            ]
           ]
          },
          "colorway": [
           "#636efa",
           "#EF553B",
           "#00cc96",
           "#ab63fa",
           "#FFA15A",
           "#19d3f3",
           "#FF6692",
           "#B6E880",
           "#FF97FF",
           "#FECB52"
          ],
          "font": {
           "color": "#2a3f5f"
          },
          "geo": {
           "bgcolor": "white",
           "lakecolor": "white",
           "landcolor": "#E5ECF6",
           "showlakes": true,
           "showland": true,
           "subunitcolor": "white"
          },
          "hoverlabel": {
           "align": "left"
          },
          "hovermode": "closest",
          "mapbox": {
           "style": "light"
          },
          "paper_bgcolor": "white",
          "plot_bgcolor": "#E5ECF6",
          "polar": {
           "angularaxis": {
            "gridcolor": "white",
            "linecolor": "white",
            "ticks": ""
           },
           "bgcolor": "#E5ECF6",
           "radialaxis": {
            "gridcolor": "white",
            "linecolor": "white",
            "ticks": ""
           }
          },
          "scene": {
           "xaxis": {
            "backgroundcolor": "#E5ECF6",
            "gridcolor": "white",
            "gridwidth": 2,
            "linecolor": "white",
            "showbackground": true,
            "ticks": "",
            "zerolinecolor": "white"
           },
           "yaxis": {
            "backgroundcolor": "#E5ECF6",
            "gridcolor": "white",
            "gridwidth": 2,
            "linecolor": "white",
            "showbackground": true,
            "ticks": "",
            "zerolinecolor": "white"
           },
           "zaxis": {
            "backgroundcolor": "#E5ECF6",
            "gridcolor": "white",
            "gridwidth": 2,
            "linecolor": "white",
            "showbackground": true,
            "ticks": "",
            "zerolinecolor": "white"
           }
          },
          "shapedefaults": {
           "line": {
            "color": "#2a3f5f"
           }
          },
          "ternary": {
           "aaxis": {
            "gridcolor": "white",
            "linecolor": "white",
            "ticks": ""
           },
           "baxis": {
            "gridcolor": "white",
            "linecolor": "white",
            "ticks": ""
           },
           "bgcolor": "#E5ECF6",
           "caxis": {
            "gridcolor": "white",
            "linecolor": "white",
            "ticks": ""
           }
          },
          "title": {
           "x": 0.05
          },
          "xaxis": {
           "automargin": true,
           "gridcolor": "white",
           "linecolor": "white",
           "ticks": "",
           "title": {
            "standoff": 15
           },
           "zerolinecolor": "white",
           "zerolinewidth": 2
          },
          "yaxis": {
           "automargin": true,
           "gridcolor": "white",
           "linecolor": "white",
           "ticks": "",
           "title": {
            "standoff": 15
           },
           "zerolinecolor": "white",
           "zerolinewidth": 2
          }
         }
        },
        "xaxis": {
         "anchor": "y",
         "categoryorder": "array",
         "domain": [
          0,
          0.49
         ],
         "showticklabels": true,
         "title": {
          "text": "problem"
         }
        },
        "xaxis2": {
         "anchor": "y2",
         "categoryorder": "array",
         "domain": [
          0.51,
          1
         ],
         "showticklabels": true,
         "title": {
          "text": "problem"
         }
        },
        "yaxis": {
         "anchor": "x",
         "domain": [
          0,
          1
         ],
         "range": [
          -100,
          100
         ],
         "showticklabels": true,
         "title": {
          "text": "improvement (%)"
         }
        },
        "yaxis2": {
         "anchor": "x2",
         "domain": [
          0,
          1
         ],
         "range": [
          -100,
          100
         ],
         "showticklabels": true
        }
       }
      }
     },
     "metadata": {},
     "output_type": "display_data"
    },
    {
     "name": "stdout",
     "output_type": "stream",
     "text": [
      "ferry\n"
     ]
    },
    {
     "data": {
      "application/vnd.plotly.v1+json": {
       "config": {
        "plotlyServerURL": "https://plot.ly"
       },
       "data": [
        {
         "hovertemplate": "solver=baseline<br>type=bounds<br>difficulty=0<br>problem=%{x}<br>improvement (%)=%{y}<extra></extra>",
         "legendgroup": "baseline, bounds",
         "line": {
          "color": "#636efa",
          "dash": "solid"
         },
         "marker": {
          "symbol": "circle"
         },
         "mode": "lines",
         "name": "baseline, bounds",
         "orientation": "v",
         "showlegend": true,
         "type": "scatter",
         "x": [
          "0_01",
          "0_02",
          "0_03",
          "0_04",
          "0_05",
          "0_06",
          "0_07",
          "0_08",
          "0_09",
          "0_10",
          "0_11",
          "0_12",
          "0_13",
          "0_14",
          "0_15",
          "0_16",
          "0_17",
          "0_18",
          "0_19",
          "0_20",
          "0_21",
          "0_22",
          "0_23",
          "0_24",
          "0_25",
          "0_26",
          "0_27",
          "0_28",
          "0_29",
          "0_30"
         ],
         "xaxis": "x",
         "y": [
          0,
          0,
          0,
          0,
          0,
          0,
          0,
          0,
          0,
          0,
          0,
          0,
          0,
          0,
          0,
          0,
          0,
          0,
          0,
          0,
          0,
          0,
          0,
          0,
          0,
          0,
          0,
          0,
          0,
          0
         ],
         "yaxis": "y"
        },
        {
         "hovertemplate": "solver=baseline<br>type=bounds<br>difficulty=1<br>problem=%{x}<br>improvement (%)=%{y}<extra></extra>",
         "legendgroup": "baseline, bounds",
         "line": {
          "color": "#636efa",
          "dash": "solid"
         },
         "marker": {
          "symbol": "circle"
         },
         "mode": "lines",
         "name": "baseline, bounds",
         "orientation": "v",
         "showlegend": false,
         "type": "scatter",
         "x": [
          "1_01",
          "1_02",
          "1_03",
          "1_04",
          "1_05",
          "1_06",
          "1_07",
          "1_08",
          "1_09",
          "1_10",
          "1_11",
          "1_12",
          "1_13",
          "1_14",
          "1_15",
          "1_16",
          "1_17",
          "1_18",
          "1_19",
          "1_20",
          "1_21",
          "1_22",
          "1_23",
          "1_24",
          "1_25",
          "1_26",
          "1_27",
          "1_28",
          "1_29",
          "1_30"
         ],
         "xaxis": "x2",
         "y": [
          0,
          0,
          0,
          0,
          0,
          0,
          0,
          0,
          0,
          0,
          0,
          0,
          0,
          0,
          0,
          0,
          0,
          0,
          0,
          0,
          0,
          0,
          0,
          0,
          0,
          0,
          0,
          0,
          0,
          0
         ],
         "yaxis": "y2"
        },
        {
         "hovertemplate": "solver=optimal<br>type=bounds<br>difficulty=0<br>problem=%{x}<br>improvement (%)=%{y}<extra></extra>",
         "legendgroup": "optimal, bounds",
         "line": {
          "color": "#EF553B",
          "dash": "solid"
         },
         "marker": {
          "symbol": "circle"
         },
         "mode": "lines",
         "name": "optimal, bounds",
         "orientation": "v",
         "showlegend": true,
         "type": "scatter",
         "x": [
          "0_01",
          "0_02",
          "0_03",
          "0_04",
          "0_05",
          "0_06",
          "0_07",
          "0_08",
          "0_09",
          "0_10",
          "0_11",
          "0_12",
          "0_13",
          "0_14",
          "0_15",
          "0_16",
          "0_17",
          "0_18",
          "0_19",
          "0_20",
          "0_21",
          "0_22",
          "0_23",
          "0_24",
          "0_25",
          "0_26",
          "0_27",
          "0_28",
          "0_29",
          "0_30"
         ],
         "xaxis": "x",
         "y": [
          0,
          0,
          0,
          0,
          0,
          5.2631578947368425,
          1.041666666666663,
          2.542372881355938,
          4.761904761904759,
          2.985074626865674,
          3.846153846153844,
          1.3605442176870701,
          6.626506024096393,
          5.17241379310344,
          2.116402116402109,
          4.411764705882346,
          null,
          4.761904761904762,
          1.7857142857142796,
          null,
          null,
          null,
          null,
          null,
          null,
          null,
          null,
          null,
          null,
          null
         ],
         "yaxis": "y"
        },
        {
         "hovertemplate": "solver=optimal<br>type=bounds<br>difficulty=1<br>problem=%{x}<br>improvement (%)=%{y}<extra></extra>",
         "legendgroup": "optimal, bounds",
         "line": {
          "color": "#EF553B",
          "dash": "solid"
         },
         "marker": {
          "symbol": "circle"
         },
         "mode": "lines",
         "name": "optimal, bounds",
         "orientation": "v",
         "showlegend": false,
         "type": "scatter",
         "x": [
          "1_01",
          "1_02",
          "1_03",
          "1_04",
          "1_05",
          "1_06",
          "1_07",
          "1_08",
          "1_09",
          "1_10",
          "1_11",
          "1_12",
          "1_13",
          "1_14",
          "1_15",
          "1_16",
          "1_17",
          "1_18",
          "1_19",
          "1_20",
          "1_21",
          "1_22",
          "1_23",
          "1_24",
          "1_25",
          "1_26",
          "1_27",
          "1_28",
          "1_29",
          "1_30"
         ],
         "xaxis": "x2",
         "y": [
          2.7027027027027026,
          5.622489959839352,
          null,
          null,
          null,
          null,
          null,
          null,
          null,
          null,
          null,
          null,
          null,
          null,
          null,
          null,
          null,
          null,
          null,
          null,
          null,
          null,
          null,
          null,
          null,
          null,
          null,
          null,
          null,
          null
         ],
         "yaxis": "y2"
        },
        {
         "hovertemplate": "solver=lama<br>type=bounds<br>difficulty=0<br>problem=%{x}<br>improvement (%)=%{y}<extra></extra>",
         "legendgroup": "lama, bounds",
         "line": {
          "color": "#00cc96",
          "dash": "solid"
         },
         "marker": {
          "symbol": "circle"
         },
         "mode": "lines",
         "name": "lama, bounds",
         "orientation": "v",
         "showlegend": true,
         "type": "scatter",
         "x": [
          "0_01",
          "0_02",
          "0_03",
          "0_04",
          "0_05",
          "0_06",
          "0_07",
          "0_08",
          "0_09",
          "0_10",
          "0_11",
          "0_12",
          "0_13",
          "0_14",
          "0_15",
          "0_16",
          "0_17",
          "0_18",
          "0_19",
          "0_20",
          "0_21",
          "0_22",
          "0_23",
          "0_24",
          "0_25",
          "0_26",
          "0_27",
          "0_28",
          "0_29",
          "0_30"
         ],
         "xaxis": "x",
         "y": [
          0,
          -12.5,
          -16.666666666666668,
          -27.272727272727273,
          -33.333333333333336,
          -5.2631578947368425,
          -19.79166666666667,
          -10.169491525423723,
          -7.142857142857145,
          -23.13432835820895,
          -18.589743589743595,
          -29.251700680272116,
          -8.433734939759027,
          -14.942528735632191,
          -24.338624338624346,
          -20.09803921568628,
          -21.681415929203535,
          -16.666666666666668,
          -22.76785714285715,
          -10.465116279069765,
          -23.01587301587302,
          -20.078740157480322,
          -24.53531598513012,
          -26.279863481228663,
          -14.147909967845655,
          -20.860927152317885,
          -18.89250814332248,
          -16.959064327485372,
          -19.047619047619044,
          -12
         ],
         "yaxis": "y"
        },
        {
         "hovertemplate": "solver=lama<br>type=bounds<br>difficulty=1<br>problem=%{x}<br>improvement (%)=%{y}<extra></extra>",
         "legendgroup": "lama, bounds",
         "line": {
          "color": "#00cc96",
          "dash": "solid"
         },
         "marker": {
          "symbol": "circle"
         },
         "mode": "lines",
         "name": "lama, bounds",
         "orientation": "v",
         "showlegend": false,
         "type": "scatter",
         "x": [
          "1_01",
          "1_02",
          "1_03",
          "1_04",
          "1_05",
          "1_06",
          "1_07",
          "1_08",
          "1_09",
          "1_10",
          "1_11",
          "1_12",
          "1_13",
          "1_14",
          "1_15",
          "1_16",
          "1_17",
          "1_18",
          "1_19",
          "1_20",
          "1_21",
          "1_22",
          "1_23",
          "1_24",
          "1_25",
          "1_26",
          "1_27",
          "1_28",
          "1_29",
          "1_30"
         ],
         "xaxis": "x2",
         "y": [
          -21.62162162162162,
          -10.441767068273098,
          -25.81699346405228,
          -21.037463976945237,
          -23.69791666666667,
          -20.171673819742487,
          -24.760076775431855,
          -27.071823204419896,
          -22.16828478964402,
          -20.481927710843365,
          -23.96121883656509,
          -22.27912932138285,
          -19.56521739130435,
          -23.41407151095732,
          -21.76724137931035,
          -18.902439024390237,
          -21.015936254980073,
          -20.037807183364844,
          -18.72340425531915,
          -20.822622107969146,
          -20.408163265306122,
          -23.137254901960784,
          -20.117907148120864,
          -21.611982881597726,
          -23.62258953168045,
          -25.582944703530984,
          -19.91094147582698,
          -20.440251572327043,
          -25.82781456953643,
          -23.036649214659683
         ],
         "yaxis": "y2"
        },
        {
         "hovertemplate": "solver=L2_D8_best<br>type=lrnn_best<br>difficulty=0<br>problem=%{x}<br>improvement (%)=%{y}<extra></extra>",
         "legendgroup": "L2_D8_best, lrnn_best",
         "line": {
          "color": "#ab63fa",
          "dash": "dot"
         },
         "marker": {
          "symbol": "circle"
         },
         "mode": "lines",
         "name": "L2_D8_best, lrnn_best",
         "orientation": "v",
         "showlegend": true,
         "type": "scatter",
         "x": [
          "0_01",
          "0_02",
          "0_03",
          "0_04",
          "0_05",
          "0_06",
          "0_07",
          "0_08",
          "0_09",
          "0_10",
          "0_11",
          "0_12",
          "0_13",
          "0_14",
          "0_15",
          "0_16",
          "0_17",
          "0_18",
          "0_19",
          "0_20",
          "0_21",
          "0_22",
          "0_23",
          "0_24",
          "0_25",
          "0_26",
          "0_27",
          "0_28",
          "0_29",
          "0_30"
         ],
         "xaxis": "x",
         "y": [
          0,
          0,
          0,
          0,
          0,
          5.2631578947368425,
          1.041666666666663,
          2.542372881355938,
          4.761904761904759,
          2.985074626865674,
          3.846153846153844,
          1.3605442176870701,
          6.626506024096393,
          5.17241379310344,
          2.116402116402109,
          4.411764705882346,
          0.44247787610620093,
          4.761904761904762,
          1.7857142857142796,
          5.0387596899224825,
          2.777777777777775,
          1.5748031496062938,
          2.7261462205700027,
          2.730375426621163,
          3.001071811361201,
          3.973509933774832,
          3.9087947882736134,
          3.508771929824569,
          4.761904761904766,
          3.111111111111105
         ],
         "yaxis": "y"
        },
        {
         "hovertemplate": "solver=L2_D8_best<br>type=lrnn_best<br>difficulty=1<br>problem=%{x}<br>improvement (%)=%{y}<extra></extra>",
         "legendgroup": "L2_D8_best, lrnn_best",
         "line": {
          "color": "#ab63fa",
          "dash": "dot"
         },
         "marker": {
          "symbol": "circle"
         },
         "mode": "lines",
         "name": "L2_D8_best, lrnn_best",
         "orientation": "v",
         "showlegend": false,
         "type": "scatter",
         "x": [
          "1_01",
          "1_02",
          "1_03",
          "1_04",
          "1_05",
          "1_06",
          "1_07",
          "1_08",
          "1_09",
          "1_10",
          "1_11",
          "1_12",
          "1_13",
          "1_14",
          "1_15",
          "1_16",
          "1_17",
          "1_18",
          "1_19",
          "1_20",
          "1_21",
          "1_22",
          "1_23",
          "1_24",
          "1_25",
          "1_26",
          "1_27",
          "1_28",
          "1_29",
          "1_30"
         ],
         "xaxis": "x2",
         "y": [
          2.7027027027027026,
          5.622489959839352,
          0.32679738562091964,
          3.4582132564841577,
          3.211805555555558,
          4.506437768240346,
          4.030710172744724,
          4.235727440147325,
          2.642934196332254,
          2.6104417670682745,
          3.739612188365655,
          2.4754588134869695,
          3.18035426731078,
          4.652056901191847,
          3.556034482758618,
          3.7940379403794044,
          2.8884462151394477,
          3.434152488972898,
          3.8297872340425534,
          3.598971722365041,
          4.353741496598635,
          4.313725490196078,
          3.709162367968557,
          3.3523537803138295,
          2.892561983471067,
          4.286031534532537,
          3.5199321458863433,
          3.7735849056603774,
          3.6724864539434043,
          4.304828388598025
         ],
         "yaxis": "y2"
        },
        {
         "hovertemplate": "solver=L2_D16_best<br>type=lrnn_best<br>difficulty=0<br>problem=%{x}<br>improvement (%)=%{y}<extra></extra>",
         "legendgroup": "L2_D16_best, lrnn_best",
         "line": {
          "color": "#FFA15A",
          "dash": "dot"
         },
         "marker": {
          "symbol": "circle"
         },
         "mode": "lines",
         "name": "L2_D16_best, lrnn_best",
         "orientation": "v",
         "showlegend": true,
         "type": "scatter",
         "x": [
          "0_01",
          "0_02",
          "0_03",
          "0_04",
          "0_05",
          "0_06",
          "0_07",
          "0_08",
          "0_09",
          "0_10",
          "0_11",
          "0_12",
          "0_13",
          "0_14",
          "0_15",
          "0_16",
          "0_17",
          "0_18",
          "0_19",
          "0_20",
          "0_21",
          "0_22",
          "0_23",
          "0_24",
          "0_25",
          "0_26",
          "0_27",
          "0_28",
          "0_29",
          "0_30"
         ],
         "xaxis": "x",
         "y": [
          0,
          0,
          0,
          0,
          0,
          5.2631578947368425,
          1.041666666666663,
          2.542372881355938,
          4.761904761904759,
          2.985074626865674,
          3.846153846153844,
          1.3605442176870701,
          6.626506024096393,
          3.256704980842911,
          2.116402116402109,
          4.411764705882346,
          0.44247787610620093,
          4.761904761904762,
          0.29761904761904656,
          5.0387596899224825,
          2.777777777777775,
          0.9186351706036643,
          3.345724907063192,
          2.730375426621163,
          3.5369774919614194,
          3.973509933774832,
          3.9087947882736134,
          3.508771929824569,
          4.761904761904766,
          3.111111111111105
         ],
         "yaxis": "y"
        },
        {
         "hovertemplate": "solver=L2_D16_best<br>type=lrnn_best<br>difficulty=1<br>problem=%{x}<br>improvement (%)=%{y}<extra></extra>",
         "legendgroup": "L2_D16_best, lrnn_best",
         "line": {
          "color": "#FFA15A",
          "dash": "dot"
         },
         "marker": {
          "symbol": "circle"
         },
         "mode": "lines",
         "name": "L2_D16_best, lrnn_best",
         "orientation": "v",
         "showlegend": false,
         "type": "scatter",
         "x": [
          "1_01",
          "1_02",
          "1_03",
          "1_04",
          "1_05",
          "1_06",
          "1_07",
          "1_08",
          "1_09",
          "1_10",
          "1_11",
          "1_12",
          "1_13",
          "1_14",
          "1_15",
          "1_16",
          "1_17",
          "1_18",
          "1_19",
          "1_20",
          "1_21",
          "1_22",
          "1_23",
          "1_24",
          "1_25",
          "1_26",
          "1_27",
          "1_28",
          "1_29",
          "1_30"
         ],
         "xaxis": "x2",
         "y": [
          2.7027027027027026,
          5.622489959839352,
          0.32679738562091964,
          2.977905859750255,
          3.64583333333333,
          3.791130185979969,
          4.030710172744724,
          4.235727440147325,
          2.9126213592232966,
          2.3594377510040316,
          3.5087719298245585,
          2.6888604353393015,
          3.3816425120772915,
          4.8442906574394495,
          3.556034482758618,
          3.455284552845534,
          2.3904382470119576,
          3.434152488972898,
          3.8297872340425534,
          3.456155384175948,
          4.489795918367347,
          4.052287581699351,
          3.709162367968557,
          2.995720399429379,
          2.892561983471067,
          4.397068620919383,
          3.5199321458863433,
          3.3542976939203415,
          3.572145293999601,
          4.110917199922433
         ],
         "yaxis": "y2"
        },
        {
         "hovertemplate": "solver=L3_D8_best<br>type=lrnn_best<br>difficulty=0<br>problem=%{x}<br>improvement (%)=%{y}<extra></extra>",
         "legendgroup": "L3_D8_best, lrnn_best",
         "line": {
          "color": "#19d3f3",
          "dash": "dot"
         },
         "marker": {
          "symbol": "circle"
         },
         "mode": "lines",
         "name": "L3_D8_best, lrnn_best",
         "orientation": "v",
         "showlegend": true,
         "type": "scatter",
         "x": [
          "0_01",
          "0_02",
          "0_03",
          "0_04",
          "0_05",
          "0_06",
          "0_07",
          "0_08",
          "0_09",
          "0_10",
          "0_11",
          "0_12",
          "0_13",
          "0_14",
          "0_15",
          "0_16",
          "0_17",
          "0_18",
          "0_19",
          "0_20",
          "0_21",
          "0_22",
          "0_23",
          "0_24",
          "0_25",
          "0_26",
          "0_27",
          "0_28",
          "0_29",
          "0_30"
         ],
         "xaxis": "x",
         "y": [
          0,
          0,
          0,
          0,
          0,
          5.2631578947368425,
          1.041666666666663,
          2.542372881355938,
          4.761904761904759,
          2.985074626865674,
          3.846153846153844,
          1.3605442176870701,
          6.626506024096393,
          5.17241379310344,
          2.116402116402109,
          4.411764705882346,
          0.44247787610620093,
          3.9682539682539626,
          1.0416666666666552,
          5.0387596899224825,
          2.777777777777775,
          0.9186351706036643,
          2.7261462205700027,
          2.730375426621163,
          3.5369774919614194,
          3.973509933774832,
          3.9087947882736134,
          2.046783625731002,
          4.265873015873027,
          2.6666666666666665
         ],
         "yaxis": "y"
        },
        {
         "hovertemplate": "solver=L3_D8_best<br>type=lrnn_best<br>difficulty=1<br>problem=%{x}<br>improvement (%)=%{y}<extra></extra>",
         "legendgroup": "L3_D8_best, lrnn_best",
         "line": {
          "color": "#19d3f3",
          "dash": "dot"
         },
         "marker": {
          "symbol": "circle"
         },
         "mode": "lines",
         "name": "L3_D8_best, lrnn_best",
         "orientation": "v",
         "showlegend": false,
         "type": "scatter",
         "x": [
          "1_01",
          "1_02",
          "1_03",
          "1_04",
          "1_05",
          "1_06",
          "1_07",
          "1_08",
          "1_09",
          "1_10",
          "1_11",
          "1_12",
          "1_13",
          "1_14",
          "1_15",
          "1_16",
          "1_17",
          "1_18",
          "1_19",
          "1_20",
          "1_21",
          "1_22",
          "1_23",
          "1_24",
          "1_25",
          "1_26",
          "1_27",
          "1_28",
          "1_29",
          "1_30"
         ],
         "xaxis": "x2",
         "y": [
          2.7027027027027026,
          5.622489959839352,
          0.32679738562091964,
          3.4582132564841577,
          3.64583333333333,
          4.506437768240346,
          4.030710172744724,
          4.235727440147325,
          2.9126213592232966,
          2.3594377510040316,
          3.5087719298245585,
          2.6888604353393015,
          3.3816425120772915,
          4.459823144944261,
          3.376436781609187,
          3.7940379403794044,
          2.556440903054459,
          2.9615626969124063,
          3.8297872340425534,
          2.8848900314196007,
          3.945578231292513,
          4.052287581699351,
          3.709162367968557,
          2.995720399429379,
          2.548209366391177,
          3.952920275371977,
          2.883799830364715,
          2.9350104821802874,
          2.6690748545053204,
          3.5291836338956735
         ],
         "yaxis": "y2"
        },
        {
         "hovertemplate": "solver=L3_D16_best<br>type=lrnn_best<br>difficulty=0<br>problem=%{x}<br>improvement (%)=%{y}<extra></extra>",
         "legendgroup": "L3_D16_best, lrnn_best",
         "line": {
          "color": "#FF6692",
          "dash": "dot"
         },
         "marker": {
          "symbol": "circle"
         },
         "mode": "lines",
         "name": "L3_D16_best, lrnn_best",
         "orientation": "v",
         "showlegend": true,
         "type": "scatter",
         "x": [
          "0_01",
          "0_02",
          "0_03",
          "0_04",
          "0_05",
          "0_06",
          "0_07",
          "0_08",
          "0_09",
          "0_10",
          "0_11",
          "0_12",
          "0_13",
          "0_14",
          "0_15",
          "0_16",
          "0_17",
          "0_18",
          "0_19",
          "0_20",
          "0_21",
          "0_22",
          "0_23",
          "0_24",
          "0_25",
          "0_26",
          "0_27",
          "0_28",
          "0_29",
          "0_30"
         ],
         "xaxis": "x",
         "y": [
          0,
          0,
          0,
          0,
          0,
          5.2631578947368425,
          1.041666666666663,
          2.542372881355938,
          4.761904761904759,
          2.985074626865674,
          3.846153846153844,
          1.3605442176870701,
          6.626506024096393,
          5.17241379310344,
          2.116402116402109,
          4.411764705882346,
          0.44247787610620093,
          3.17460317460318,
          1.0416666666666552,
          4.392764857881135,
          2.777777777777775,
          1.5748031496062938,
          2.7261462205700027,
          2.730375426621163,
          3.5369774919614194,
          3.973509933774832,
          2.823018458197613,
          3.0214424951267205,
          4.265873015873027,
          2.6666666666666665
         ],
         "yaxis": "y"
        },
        {
         "hovertemplate": "solver=L3_D16_best<br>type=lrnn_best<br>difficulty=1<br>problem=%{x}<br>improvement (%)=%{y}<extra></extra>",
         "legendgroup": "L3_D16_best, lrnn_best",
         "line": {
          "color": "#FF6692",
          "dash": "dot"
         },
         "marker": {
          "symbol": "circle"
         },
         "mode": "lines",
         "name": "L3_D16_best, lrnn_best",
         "orientation": "v",
         "showlegend": false,
         "type": "scatter",
         "x": [
          "1_01",
          "1_02",
          "1_03",
          "1_04",
          "1_05",
          "1_06",
          "1_07",
          "1_08",
          "1_09",
          "1_10",
          "1_11",
          "1_12",
          "1_13",
          "1_14",
          "1_15",
          "1_16",
          "1_17",
          "1_18",
          "1_19",
          "1_20",
          "1_21",
          "1_22",
          "1_23",
          "1_24",
          "1_25",
          "1_26",
          "1_27",
          "1_28",
          "1_29",
          "1_30"
         ],
         "xaxis": "x2",
         "y": [
          2.7027027027027026,
          4.953145917001328,
          0.32679738562091964,
          3.4582132564841577,
          3.64583333333333,
          4.506437768240346,
          4.030710172744724,
          3.6218538980969828,
          2.1035598705501575,
          2.6104417670682745,
          3.5087719298245585,
          2.2620571916346552,
          2.7777777777777746,
          4.459823144944261,
          2.6580459770114966,
          2.6084010840108505,
          2.224435590969456,
          3.119092627599241,
          3.6879432624113435,
          2.742073693230508,
          3.673469387755102,
          3.5294117647058822,
          3.586342422009319,
          2.282453637660477,
          2.4334251606978867,
          3.5087719298245514,
          2.883799830364715,
          2.410901467505247,
          2.869757174392927,
          3.9170060112468574
         ],
         "yaxis": "y2"
        }
       ],
       "layout": {
        "annotations": [
         {
          "font": {},
          "showarrow": false,
          "text": "difficulty=0",
          "x": 0.245,
          "xanchor": "center",
          "xref": "paper",
          "y": 1,
          "yanchor": "bottom",
          "yref": "paper"
         },
         {
          "font": {},
          "showarrow": false,
          "text": "difficulty=1",
          "x": 0.755,
          "xanchor": "center",
          "xref": "paper",
          "y": 1,
          "yanchor": "bottom",
          "yref": "paper"
         }
        ],
        "legend": {
         "title": {
          "text": "solver, type"
         },
         "tracegroupgap": 0
        },
        "margin": {
         "t": 60
        },
        "template": {
         "data": {
          "bar": [
           {
            "error_x": {
             "color": "#2a3f5f"
            },
            "error_y": {
             "color": "#2a3f5f"
            },
            "marker": {
             "line": {
              "color": "#E5ECF6",
              "width": 0.5
             },
             "pattern": {
              "fillmode": "overlay",
              "size": 10,
              "solidity": 0.2
             }
            },
            "type": "bar"
           }
          ],
          "barpolar": [
           {
            "marker": {
             "line": {
              "color": "#E5ECF6",
              "width": 0.5
             },
             "pattern": {
              "fillmode": "overlay",
              "size": 10,
              "solidity": 0.2
             }
            },
            "type": "barpolar"
           }
          ],
          "carpet": [
           {
            "aaxis": {
             "endlinecolor": "#2a3f5f",
             "gridcolor": "white",
             "linecolor": "white",
             "minorgridcolor": "white",
             "startlinecolor": "#2a3f5f"
            },
            "baxis": {
             "endlinecolor": "#2a3f5f",
             "gridcolor": "white",
             "linecolor": "white",
             "minorgridcolor": "white",
             "startlinecolor": "#2a3f5f"
            },
            "type": "carpet"
           }
          ],
          "choropleth": [
           {
            "colorbar": {
             "outlinewidth": 0,
             "ticks": ""
            },
            "type": "choropleth"
           }
          ],
          "contour": [
           {
            "colorbar": {
             "outlinewidth": 0,
             "ticks": ""
            },
            "colorscale": [
             [
              0,
              "#0d0887"
             ],
             [
              0.1111111111111111,
              "#46039f"
             ],
             [
              0.2222222222222222,
              "#7201a8"
             ],
             [
              0.3333333333333333,
              "#9c179e"
             ],
             [
              0.4444444444444444,
              "#bd3786"
             ],
             [
              0.5555555555555556,
              "#d8576b"
             ],
             [
              0.6666666666666666,
              "#ed7953"
             ],
             [
              0.7777777777777778,
              "#fb9f3a"
             ],
             [
              0.8888888888888888,
              "#fdca26"
             ],
             [
              1,
              "#f0f921"
             ]
            ],
            "type": "contour"
           }
          ],
          "contourcarpet": [
           {
            "colorbar": {
             "outlinewidth": 0,
             "ticks": ""
            },
            "type": "contourcarpet"
           }
          ],
          "heatmap": [
           {
            "colorbar": {
             "outlinewidth": 0,
             "ticks": ""
            },
            "colorscale": [
             [
              0,
              "#0d0887"
             ],
             [
              0.1111111111111111,
              "#46039f"
             ],
             [
              0.2222222222222222,
              "#7201a8"
             ],
             [
              0.3333333333333333,
              "#9c179e"
             ],
             [
              0.4444444444444444,
              "#bd3786"
             ],
             [
              0.5555555555555556,
              "#d8576b"
             ],
             [
              0.6666666666666666,
              "#ed7953"
             ],
             [
              0.7777777777777778,
              "#fb9f3a"
             ],
             [
              0.8888888888888888,
              "#fdca26"
             ],
             [
              1,
              "#f0f921"
             ]
            ],
            "type": "heatmap"
           }
          ],
          "heatmapgl": [
           {
            "colorbar": {
             "outlinewidth": 0,
             "ticks": ""
            },
            "colorscale": [
             [
              0,
              "#0d0887"
             ],
             [
              0.1111111111111111,
              "#46039f"
             ],
             [
              0.2222222222222222,
              "#7201a8"
             ],
             [
              0.3333333333333333,
              "#9c179e"
             ],
             [
              0.4444444444444444,
              "#bd3786"
             ],
             [
              0.5555555555555556,
              "#d8576b"
             ],
             [
              0.6666666666666666,
              "#ed7953"
             ],
             [
              0.7777777777777778,
              "#fb9f3a"
             ],
             [
              0.8888888888888888,
              "#fdca26"
             ],
             [
              1,
              "#f0f921"
             ]
            ],
            "type": "heatmapgl"
           }
          ],
          "histogram": [
           {
            "marker": {
             "pattern": {
              "fillmode": "overlay",
              "size": 10,
              "solidity": 0.2
             }
            },
            "type": "histogram"
           }
          ],
          "histogram2d": [
           {
            "colorbar": {
             "outlinewidth": 0,
             "ticks": ""
            },
            "colorscale": [
             [
              0,
              "#0d0887"
             ],
             [
              0.1111111111111111,
              "#46039f"
             ],
             [
              0.2222222222222222,
              "#7201a8"
             ],
             [
              0.3333333333333333,
              "#9c179e"
             ],
             [
              0.4444444444444444,
              "#bd3786"
             ],
             [
              0.5555555555555556,
              "#d8576b"
             ],
             [
              0.6666666666666666,
              "#ed7953"
             ],
             [
              0.7777777777777778,
              "#fb9f3a"
             ],
             [
              0.8888888888888888,
              "#fdca26"
             ],
             [
              1,
              "#f0f921"
             ]
            ],
            "type": "histogram2d"
           }
          ],
          "histogram2dcontour": [
           {
            "colorbar": {
             "outlinewidth": 0,
             "ticks": ""
            },
            "colorscale": [
             [
              0,
              "#0d0887"
             ],
             [
              0.1111111111111111,
              "#46039f"
             ],
             [
              0.2222222222222222,
              "#7201a8"
             ],
             [
              0.3333333333333333,
              "#9c179e"
             ],
             [
              0.4444444444444444,
              "#bd3786"
             ],
             [
              0.5555555555555556,
              "#d8576b"
             ],
             [
              0.6666666666666666,
              "#ed7953"
             ],
             [
              0.7777777777777778,
              "#fb9f3a"
             ],
             [
              0.8888888888888888,
              "#fdca26"
             ],
             [
              1,
              "#f0f921"
             ]
            ],
            "type": "histogram2dcontour"
           }
          ],
          "mesh3d": [
           {
            "colorbar": {
             "outlinewidth": 0,
             "ticks": ""
            },
            "type": "mesh3d"
           }
          ],
          "parcoords": [
           {
            "line": {
             "colorbar": {
              "outlinewidth": 0,
              "ticks": ""
             }
            },
            "type": "parcoords"
           }
          ],
          "pie": [
           {
            "automargin": true,
            "type": "pie"
           }
          ],
          "scatter": [
           {
            "fillpattern": {
             "fillmode": "overlay",
             "size": 10,
             "solidity": 0.2
            },
            "type": "scatter"
           }
          ],
          "scatter3d": [
           {
            "line": {
             "colorbar": {
              "outlinewidth": 0,
              "ticks": ""
             }
            },
            "marker": {
             "colorbar": {
              "outlinewidth": 0,
              "ticks": ""
             }
            },
            "type": "scatter3d"
           }
          ],
          "scattercarpet": [
           {
            "marker": {
             "colorbar": {
              "outlinewidth": 0,
              "ticks": ""
             }
            },
            "type": "scattercarpet"
           }
          ],
          "scattergeo": [
           {
            "marker": {
             "colorbar": {
              "outlinewidth": 0,
              "ticks": ""
             }
            },
            "type": "scattergeo"
           }
          ],
          "scattergl": [
           {
            "marker": {
             "colorbar": {
              "outlinewidth": 0,
              "ticks": ""
             }
            },
            "type": "scattergl"
           }
          ],
          "scattermapbox": [
           {
            "marker": {
             "colorbar": {
              "outlinewidth": 0,
              "ticks": ""
             }
            },
            "type": "scattermapbox"
           }
          ],
          "scatterpolar": [
           {
            "marker": {
             "colorbar": {
              "outlinewidth": 0,
              "ticks": ""
             }
            },
            "type": "scatterpolar"
           }
          ],
          "scatterpolargl": [
           {
            "marker": {
             "colorbar": {
              "outlinewidth": 0,
              "ticks": ""
             }
            },
            "type": "scatterpolargl"
           }
          ],
          "scatterternary": [
           {
            "marker": {
             "colorbar": {
              "outlinewidth": 0,
              "ticks": ""
             }
            },
            "type": "scatterternary"
           }
          ],
          "surface": [
           {
            "colorbar": {
             "outlinewidth": 0,
             "ticks": ""
            },
            "colorscale": [
             [
              0,
              "#0d0887"
             ],
             [
              0.1111111111111111,
              "#46039f"
             ],
             [
              0.2222222222222222,
              "#7201a8"
             ],
             [
              0.3333333333333333,
              "#9c179e"
             ],
             [
              0.4444444444444444,
              "#bd3786"
             ],
             [
              0.5555555555555556,
              "#d8576b"
             ],
             [
              0.6666666666666666,
              "#ed7953"
             ],
             [
              0.7777777777777778,
              "#fb9f3a"
             ],
             [
              0.8888888888888888,
              "#fdca26"
             ],
             [
              1,
              "#f0f921"
             ]
            ],
            "type": "surface"
           }
          ],
          "table": [
           {
            "cells": {
             "fill": {
              "color": "#EBF0F8"
             },
             "line": {
              "color": "white"
             }
            },
            "header": {
             "fill": {
              "color": "#C8D4E3"
             },
             "line": {
              "color": "white"
             }
            },
            "type": "table"
           }
          ]
         },
         "layout": {
          "annotationdefaults": {
           "arrowcolor": "#2a3f5f",
           "arrowhead": 0,
           "arrowwidth": 1
          },
          "autotypenumbers": "strict",
          "coloraxis": {
           "colorbar": {
            "outlinewidth": 0,
            "ticks": ""
           }
          },
          "colorscale": {
           "diverging": [
            [
             0,
             "#8e0152"
            ],
            [
             0.1,
             "#c51b7d"
            ],
            [
             0.2,
             "#de77ae"
            ],
            [
             0.3,
             "#f1b6da"
            ],
            [
             0.4,
             "#fde0ef"
            ],
            [
             0.5,
             "#f7f7f7"
            ],
            [
             0.6,
             "#e6f5d0"
            ],
            [
             0.7,
             "#b8e186"
            ],
            [
             0.8,
             "#7fbc41"
            ],
            [
             0.9,
             "#4d9221"
            ],
            [
             1,
             "#276419"
            ]
           ],
           "sequential": [
            [
             0,
             "#0d0887"
            ],
            [
             0.1111111111111111,
             "#46039f"
            ],
            [
             0.2222222222222222,
             "#7201a8"
            ],
            [
             0.3333333333333333,
             "#9c179e"
            ],
            [
             0.4444444444444444,
             "#bd3786"
            ],
            [
             0.5555555555555556,
             "#d8576b"
            ],
            [
             0.6666666666666666,
             "#ed7953"
            ],
            [
             0.7777777777777778,
             "#fb9f3a"
            ],
            [
             0.8888888888888888,
             "#fdca26"
            ],
            [
             1,
             "#f0f921"
            ]
           ],
           "sequentialminus": [
            [
             0,
             "#0d0887"
            ],
            [
             0.1111111111111111,
             "#46039f"
            ],
            [
             0.2222222222222222,
             "#7201a8"
            ],
            [
             0.3333333333333333,
             "#9c179e"
            ],
            [
             0.4444444444444444,
             "#bd3786"
            ],
            [
             0.5555555555555556,
             "#d8576b"
            ],
            [
             0.6666666666666666,
             "#ed7953"
            ],
            [
             0.7777777777777778,
             "#fb9f3a"
            ],
            [
             0.8888888888888888,
             "#fdca26"
            ],
            [
             1,
             "#f0f921"
            ]
           ]
          },
          "colorway": [
           "#636efa",
           "#EF553B",
           "#00cc96",
           "#ab63fa",
           "#FFA15A",
           "#19d3f3",
           "#FF6692",
           "#B6E880",
           "#FF97FF",
           "#FECB52"
          ],
          "font": {
           "color": "#2a3f5f"
          },
          "geo": {
           "bgcolor": "white",
           "lakecolor": "white",
           "landcolor": "#E5ECF6",
           "showlakes": true,
           "showland": true,
           "subunitcolor": "white"
          },
          "hoverlabel": {
           "align": "left"
          },
          "hovermode": "closest",
          "mapbox": {
           "style": "light"
          },
          "paper_bgcolor": "white",
          "plot_bgcolor": "#E5ECF6",
          "polar": {
           "angularaxis": {
            "gridcolor": "white",
            "linecolor": "white",
            "ticks": ""
           },
           "bgcolor": "#E5ECF6",
           "radialaxis": {
            "gridcolor": "white",
            "linecolor": "white",
            "ticks": ""
           }
          },
          "scene": {
           "xaxis": {
            "backgroundcolor": "#E5ECF6",
            "gridcolor": "white",
            "gridwidth": 2,
            "linecolor": "white",
            "showbackground": true,
            "ticks": "",
            "zerolinecolor": "white"
           },
           "yaxis": {
            "backgroundcolor": "#E5ECF6",
            "gridcolor": "white",
            "gridwidth": 2,
            "linecolor": "white",
            "showbackground": true,
            "ticks": "",
            "zerolinecolor": "white"
           },
           "zaxis": {
            "backgroundcolor": "#E5ECF6",
            "gridcolor": "white",
            "gridwidth": 2,
            "linecolor": "white",
            "showbackground": true,
            "ticks": "",
            "zerolinecolor": "white"
           }
          },
          "shapedefaults": {
           "line": {
            "color": "#2a3f5f"
           }
          },
          "ternary": {
           "aaxis": {
            "gridcolor": "white",
            "linecolor": "white",
            "ticks": ""
           },
           "baxis": {
            "gridcolor": "white",
            "linecolor": "white",
            "ticks": ""
           },
           "bgcolor": "#E5ECF6",
           "caxis": {
            "gridcolor": "white",
            "linecolor": "white",
            "ticks": ""
           }
          },
          "title": {
           "x": 0.05
          },
          "xaxis": {
           "automargin": true,
           "gridcolor": "white",
           "linecolor": "white",
           "ticks": "",
           "title": {
            "standoff": 15
           },
           "zerolinecolor": "white",
           "zerolinewidth": 2
          },
          "yaxis": {
           "automargin": true,
           "gridcolor": "white",
           "linecolor": "white",
           "ticks": "",
           "title": {
            "standoff": 15
           },
           "zerolinecolor": "white",
           "zerolinewidth": 2
          }
         }
        },
        "xaxis": {
         "anchor": "y",
         "categoryorder": "array",
         "domain": [
          0,
          0.49
         ],
         "showticklabels": true,
         "title": {
          "text": "problem"
         }
        },
        "xaxis2": {
         "anchor": "y2",
         "categoryorder": "array",
         "domain": [
          0.51,
          1
         ],
         "showticklabels": true,
         "title": {
          "text": "problem"
         }
        },
        "yaxis": {
         "anchor": "x",
         "domain": [
          0,
          1
         ],
         "range": [
          -100,
          100
         ],
         "showticklabels": true,
         "title": {
          "text": "improvement (%)"
         }
        },
        "yaxis2": {
         "anchor": "x2",
         "domain": [
          0,
          1
         ],
         "range": [
          -100,
          100
         ],
         "showticklabels": true
        }
       }
      }
     },
     "metadata": {},
     "output_type": "display_data"
    },
    {
     "name": "stdout",
     "output_type": "stream",
     "text": [
      "satellite\n"
     ]
    },
    {
     "data": {
      "application/vnd.plotly.v1+json": {
       "config": {
        "plotlyServerURL": "https://plot.ly"
       },
       "data": [
        {
         "hovertemplate": "solver=baseline<br>type=bounds<br>difficulty=0<br>problem=%{x}<br>improvement (%)=%{y}<extra></extra>",
         "legendgroup": "baseline, bounds",
         "line": {
          "color": "#636efa",
          "dash": "solid"
         },
         "marker": {
          "symbol": "circle"
         },
         "mode": "lines",
         "name": "baseline, bounds",
         "orientation": "v",
         "showlegend": true,
         "type": "scatter",
         "x": [
          "0_01",
          "0_02",
          "0_03",
          "0_04",
          "0_05",
          "0_06",
          "0_07",
          "0_08",
          "0_09",
          "0_10",
          "0_11",
          "0_12",
          "0_13",
          "0_14",
          "0_15",
          "0_16",
          "0_17",
          "0_18",
          "0_19",
          "0_20",
          "0_21",
          "0_22",
          "0_23",
          "0_24",
          "0_25",
          "0_26",
          "0_27",
          "0_28",
          "0_29",
          "0_30"
         ],
         "xaxis": "x",
         "y": [
          0,
          0,
          0,
          0,
          0,
          0,
          0,
          0,
          0,
          0,
          0,
          0,
          0,
          0,
          0,
          0,
          0,
          0,
          0,
          0,
          0,
          0,
          0,
          0,
          0,
          0,
          0,
          0,
          0,
          0
         ],
         "yaxis": "y"
        },
        {
         "hovertemplate": "solver=baseline<br>type=bounds<br>difficulty=1<br>problem=%{x}<br>improvement (%)=%{y}<extra></extra>",
         "legendgroup": "baseline, bounds",
         "line": {
          "color": "#636efa",
          "dash": "solid"
         },
         "marker": {
          "symbol": "circle"
         },
         "mode": "lines",
         "name": "baseline, bounds",
         "orientation": "v",
         "showlegend": false,
         "type": "scatter",
         "x": [
          "1_01",
          "1_02",
          "1_03",
          "1_04",
          "1_05",
          "1_06",
          "1_07",
          "1_08",
          "1_09",
          "1_10",
          "1_11",
          "1_12",
          "1_13",
          "1_14",
          "1_15",
          "1_16",
          "1_17",
          "1_18",
          "1_19",
          "1_20",
          "1_21",
          "1_22",
          "1_23",
          "1_24",
          "1_25",
          "1_26",
          "1_27",
          "1_28",
          "1_29",
          "1_30"
         ],
         "xaxis": "x2",
         "y": [
          0,
          0,
          0,
          0,
          0,
          0,
          0,
          0,
          0,
          0,
          0,
          0,
          0,
          0,
          0,
          0,
          0,
          0,
          0,
          0,
          0,
          0,
          0,
          0,
          0,
          0,
          0,
          0,
          0,
          0
         ],
         "yaxis": "y2"
        },
        {
         "hovertemplate": "solver=optimal<br>type=bounds<br>difficulty=0<br>problem=%{x}<br>improvement (%)=%{y}<extra></extra>",
         "legendgroup": "optimal, bounds",
         "line": {
          "color": "#EF553B",
          "dash": "solid"
         },
         "marker": {
          "symbol": "circle"
         },
         "mode": "lines",
         "name": "optimal, bounds",
         "orientation": "v",
         "showlegend": true,
         "type": "scatter",
         "x": [
          "0_01",
          "0_02",
          "0_03",
          "0_04",
          "0_05",
          "0_06",
          "0_07",
          "0_08",
          "0_09",
          "0_10",
          "0_11",
          "0_12",
          "0_13",
          "0_14",
          "0_15",
          "0_16",
          "0_17",
          "0_18",
          "0_19",
          "0_20",
          "0_21",
          "0_22",
          "0_23",
          "0_24",
          "0_25",
          "0_26",
          "0_27",
          "0_28",
          "0_29",
          "0_30"
         ],
         "xaxis": "x",
         "y": [
          24.999999999999996,
          22.580645161290327,
          35.13513513513514,
          40,
          37.2093023255814,
          37.5,
          33.333333333333336,
          46.666666666666664,
          49.056603773584904,
          52,
          43.956043956043956,
          44.067796610169495,
          50,
          35.714285714285715,
          51.851851851851855,
          32.97872340425532,
          43.24324324324324,
          48.57142857142857,
          34.78260869565218,
          39.59731543624161,
          39.18918918918919,
          38.732394366197184,
          49.532710280373834,
          46.774193548387096,
          38.58267716535433,
          null,
          null,
          null,
          47.05882352941177,
          null
         ],
         "yaxis": "y"
        },
        {
         "hovertemplate": "solver=optimal<br>type=bounds<br>difficulty=1<br>problem=%{x}<br>improvement (%)=%{y}<extra></extra>",
         "legendgroup": "optimal, bounds",
         "line": {
          "color": "#EF553B",
          "dash": "solid"
         },
         "marker": {
          "symbol": "circle"
         },
         "mode": "lines",
         "name": "optimal, bounds",
         "orientation": "v",
         "showlegend": false,
         "type": "scatter",
         "x": [
          "1_01",
          "1_02",
          "1_03",
          "1_04",
          "1_05",
          "1_06",
          "1_07",
          "1_08",
          "1_09",
          "1_10",
          "1_11",
          "1_12",
          "1_13",
          "1_14",
          "1_15",
          "1_16",
          "1_17",
          "1_18",
          "1_19",
          "1_20",
          "1_21",
          "1_22",
          "1_23",
          "1_24",
          "1_25",
          "1_26",
          "1_27",
          "1_28",
          "1_29",
          "1_30"
         ],
         "xaxis": "x2",
         "y": [
          null,
          null,
          null,
          null,
          null,
          null,
          null,
          60,
          null,
          61.111111111111114,
          null,
          null,
          null,
          null,
          63.333333333333336,
          null,
          null,
          null,
          null,
          null,
          null,
          null,
          null,
          null,
          null,
          null,
          null,
          null,
          null,
          null
         ],
         "yaxis": "y2"
        },
        {
         "hovertemplate": "solver=lama<br>type=bounds<br>difficulty=0<br>problem=%{x}<br>improvement (%)=%{y}<extra></extra>",
         "legendgroup": "lama, bounds",
         "line": {
          "color": "#00cc96",
          "dash": "solid"
         },
         "marker": {
          "symbol": "circle"
         },
         "mode": "lines",
         "name": "lama, bounds",
         "orientation": "v",
         "showlegend": true,
         "type": "scatter",
         "x": [
          "0_01",
          "0_02",
          "0_03",
          "0_04",
          "0_05",
          "0_06",
          "0_07",
          "0_08",
          "0_09",
          "0_10",
          "0_11",
          "0_12",
          "0_13",
          "0_14",
          "0_15",
          "0_16",
          "0_17",
          "0_18",
          "0_19",
          "0_20",
          "0_21",
          "0_22",
          "0_23",
          "0_24",
          "0_25",
          "0_26",
          "0_27",
          "0_28",
          "0_29",
          "0_30"
         ],
         "xaxis": "x",
         "y": [
          24.999999999999996,
          22.580645161290327,
          35.13513513513514,
          40,
          37.2093023255814,
          6.25,
          33.333333333333336,
          33.333333333333336,
          43.39622641509434,
          52,
          30.769230769230766,
          38.983050847457626,
          37.5,
          35.714285714285715,
          51.851851851851855,
          29.78723404255319,
          43.24324324324324,
          40,
          32.173913043478265,
          25.503355704697984,
          31.081081081081084,
          36.61971830985916,
          46.72897196261682,
          41.935483870967744,
          33.85826771653544,
          18.75,
          27.272727272727273,
          34.54545454545455,
          42.64705882352941,
          26.119402985074625
         ],
         "yaxis": "y"
        },
        {
         "hovertemplate": "solver=lama<br>type=bounds<br>difficulty=1<br>problem=%{x}<br>improvement (%)=%{y}<extra></extra>",
         "legendgroup": "lama, bounds",
         "line": {
          "color": "#00cc96",
          "dash": "solid"
         },
         "marker": {
          "symbol": "circle"
         },
         "mode": "lines",
         "name": "lama, bounds",
         "orientation": "v",
         "showlegend": false,
         "type": "scatter",
         "x": [
          "1_01",
          "1_02",
          "1_03",
          "1_04",
          "1_05",
          "1_06",
          "1_07",
          "1_08",
          "1_09",
          "1_10",
          "1_11",
          "1_12",
          "1_13",
          "1_14",
          "1_15",
          "1_16",
          "1_17",
          "1_18",
          "1_19",
          "1_20",
          "1_21",
          "1_22",
          "1_23",
          "1_24",
          "1_25",
          "1_26",
          "1_27",
          "1_28",
          "1_29",
          "1_30"
         ],
         "xaxis": "x2",
         "y": [
          31.182795698924732,
          22.742474916387962,
          36.55913978494624,
          29.357798165137616,
          16.541353383458652,
          40.56603773584906,
          43.69747899159664,
          56.666666666666664,
          28.75,
          57.407407407407405,
          32.947976878612714,
          34.065934065934066,
          26.28205128205128,
          35.991379310344826,
          63.333333333333336,
          35.673624288425046,
          47.59036144578313,
          50.22421524663677,
          24.427480916030532,
          23.538230884557723,
          31.84,
          39.90384615384615,
          51.5527950310559,
          26.104417670682732,
          38.84297520661157,
          25.53191489361702,
          27.39557739557739,
          64.36781609195403,
          21.625000000000007,
          46.81818181818182
         ],
         "yaxis": "y2"
        },
        {
         "hovertemplate": "solver=L2_D8_best<br>type=lrnn_best<br>difficulty=0<br>problem=%{x}<br>improvement (%)=%{y}<extra></extra>",
         "legendgroup": "L2_D8_best, lrnn_best",
         "line": {
          "color": "#ab63fa",
          "dash": "dot"
         },
         "marker": {
          "symbol": "circle"
         },
         "mode": "lines",
         "name": "L2_D8_best, lrnn_best",
         "orientation": "v",
         "showlegend": true,
         "type": "scatter",
         "x": [
          "0_01",
          "0_02",
          "0_03",
          "0_04",
          "0_05",
          "0_06",
          "0_07",
          "0_08",
          "0_09",
          "0_10",
          "0_11",
          "0_12",
          "0_13",
          "0_14",
          "0_15",
          "0_16",
          "0_17",
          "0_18",
          "0_19",
          "0_20",
          "0_21",
          "0_22",
          "0_23",
          "0_24",
          "0_25",
          "0_26",
          "0_27",
          "0_28",
          "0_29",
          "0_30"
         ],
         "xaxis": "x",
         "y": [
          6.249999999999994,
          12.90322580645162,
          5.405405405405415,
          -3.9999999999999853,
          23.255813953488374,
          10.416666666666663,
          15.55555555555556,
          33.333333333333336,
          26.415094339622648,
          26,
          20.879120879120876,
          18.644067796610177,
          43.75,
          7.142857142857143,
          24.69135802469136,
          5.319148936170206,
          16.216216216216218,
          40,
          6.086956521739136,
          13.422818791946304,
          29.054054054054056,
          5.633802816901418,
          28.97196261682243,
          41.935483870967744,
          22.83464566929135,
          12.5,
          13.333333333333337,
          20.60606060606061,
          38.23529411764706,
          23.134328358208943
         ],
         "yaxis": "y"
        },
        {
         "hovertemplate": "solver=L2_D8_best<br>type=lrnn_best<br>difficulty=1<br>problem=%{x}<br>improvement (%)=%{y}<extra></extra>",
         "legendgroup": "L2_D8_best, lrnn_best",
         "line": {
          "color": "#ab63fa",
          "dash": "dot"
         },
         "marker": {
          "symbol": "circle"
         },
         "mode": "lines",
         "name": "L2_D8_best, lrnn_best",
         "orientation": "v",
         "showlegend": false,
         "type": "scatter",
         "x": [
          "1_01",
          "1_02",
          "1_03",
          "1_04",
          "1_05",
          "1_06",
          "1_07",
          "1_08",
          "1_09",
          "1_10",
          "1_11",
          "1_12",
          "1_13",
          "1_14",
          "1_15",
          "1_16",
          "1_17",
          "1_18",
          "1_19",
          "1_20",
          "1_21",
          "1_22",
          "1_23",
          "1_24",
          "1_25",
          "1_26",
          "1_27",
          "1_28",
          "1_29",
          "1_30"
         ],
         "xaxis": "x2",
         "y": [
          -10.75268817204301,
          -2.0066889632107023,
          -1.4336917562723963,
          0.9174311926605505,
          3.0075187969924864,
          21.069182389937104,
          12.885154061624645,
          56.666666666666664,
          12.1875,
          53.086419753086425,
          2.504816955684013,
          22.527472527472526,
          10.683760683760678,
          10.77586206896551,
          52.777777777777786,
          14.990512333965833,
          26.506024096385552,
          46.18834080717489,
          15.076335877862585,
          11.094452773613202,
          15.84,
          19.070512820512814,
          47.20496894409938,
          1.606425702811245,
          38.56749311294766,
          -0.9929078014184437,
          5.2825552825552755,
          62.06896551724138,
          6.625000000000006,
          36.818181818181806
         ],
         "yaxis": "y2"
        },
        {
         "hovertemplate": "solver=L2_D16_best<br>type=lrnn_best<br>difficulty=0<br>problem=%{x}<br>improvement (%)=%{y}<extra></extra>",
         "legendgroup": "L2_D16_best, lrnn_best",
         "line": {
          "color": "#FFA15A",
          "dash": "dot"
         },
         "marker": {
          "symbol": "circle"
         },
         "mode": "lines",
         "name": "L2_D16_best, lrnn_best",
         "orientation": "v",
         "showlegend": true,
         "type": "scatter",
         "x": [
          "0_01",
          "0_02",
          "0_03",
          "0_04",
          "0_05",
          "0_06",
          "0_07",
          "0_08",
          "0_09",
          "0_10",
          "0_11",
          "0_12",
          "0_13",
          "0_14",
          "0_15",
          "0_16",
          "0_17",
          "0_18",
          "0_19",
          "0_20",
          "0_21",
          "0_22",
          "0_23",
          "0_24",
          "0_25",
          "0_26",
          "0_27",
          "0_28",
          "0_29",
          "0_30"
         ],
         "xaxis": "x",
         "y": [
          0,
          3.225806451612909,
          5.405405405405415,
          -7.999999999999991,
          2.3255813953488413,
          8.333333333333337,
          2.2222222222222263,
          11.111111111111107,
          16.981132075471706,
          18.00000000000001,
          5.4945054945054865,
          16.949152542372893,
          27.083333333333336,
          11.9047619047619,
          2.46913580246914,
          -1.06382978723405,
          1.8018018018017954,
          14.285714285714281,
          -5.217391304347826,
          6.711409395973146,
          12.162162162162161,
          9.154929577464793,
          2.8037383177570097,
          11.290322580645173,
          15.748031496063003,
          -2.604166666666674,
          -1.2121212121212077,
          -6.666666666666662,
          7.352941176470594,
          5.970149253731337
         ],
         "yaxis": "y"
        },
        {
         "hovertemplate": "solver=L2_D16_best<br>type=lrnn_best<br>difficulty=1<br>problem=%{x}<br>improvement (%)=%{y}<extra></extra>",
         "legendgroup": "L2_D16_best, lrnn_best",
         "line": {
          "color": "#FFA15A",
          "dash": "dot"
         },
         "marker": {
          "symbol": "circle"
         },
         "mode": "lines",
         "name": "L2_D16_best, lrnn_best",
         "orientation": "v",
         "showlegend": false,
         "type": "scatter",
         "x": [
          "1_01",
          "1_02",
          "1_03",
          "1_04",
          "1_05",
          "1_06",
          "1_07",
          "1_08",
          "1_09",
          "1_10",
          "1_11",
          "1_12",
          "1_13",
          "1_14",
          "1_15",
          "1_16",
          "1_17",
          "1_18",
          "1_19",
          "1_20",
          "1_21",
          "1_22",
          "1_23",
          "1_24",
          "1_25",
          "1_26",
          "1_27",
          "1_28",
          "1_29",
          "1_30"
         ],
         "xaxis": "x2",
         "y": [
          -1.792114695340507,
          2.341137123745829,
          4.301075268817204,
          -0.611620795107038,
          2.255639097744361,
          12.264150943396226,
          1.9607843137254861,
          10,
          -4.6875,
          9.25925925925926,
          -7.514450867052023,
          11.263736263736256,
          1.0683760683760624,
          3.66379310344827,
          0,
          4.7438330170777885,
          -1.5060240963855336,
          -3.1390134529148113,
          -3.435114503816794,
          -7.3463268365817,
          1.2800000000000091,
          -5.128205128205123,
          -0.9316770186335405,
          -7.362784471218198,
          -3.3057851239669422,
          -4.5390070921985775,
          -5.651105651105666,
          -7.662835249042152,
          -1.5,
          2.7272727272727275
         ],
         "yaxis": "y2"
        },
        {
         "hovertemplate": "solver=L3_D8_best<br>type=lrnn_best<br>difficulty=0<br>problem=%{x}<br>improvement (%)=%{y}<extra></extra>",
         "legendgroup": "L3_D8_best, lrnn_best",
         "line": {
          "color": "#19d3f3",
          "dash": "dot"
         },
         "marker": {
          "symbol": "circle"
         },
         "mode": "lines",
         "name": "L3_D8_best, lrnn_best",
         "orientation": "v",
         "showlegend": true,
         "type": "scatter",
         "x": [
          "0_01",
          "0_02",
          "0_03",
          "0_04",
          "0_05",
          "0_06",
          "0_07",
          "0_08",
          "0_09",
          "0_10",
          "0_11",
          "0_12",
          "0_13",
          "0_14",
          "0_15",
          "0_16",
          "0_17",
          "0_18",
          "0_19",
          "0_20",
          "0_21",
          "0_22",
          "0_23",
          "0_24",
          "0_25",
          "0_26",
          "0_27",
          "0_28",
          "0_29",
          "0_30"
         ],
         "xaxis": "x",
         "y": [
          18.75,
          6.451612903225818,
          13.513513513513523,
          4.000000000000007,
          18.604651162790706,
          14.583333333333337,
          13.333333333333334,
          20,
          15.094339622641517,
          16.000000000000007,
          5.4945054945054865,
          18.644067796610177,
          37.5,
          20.23809523809524,
          28.395061728395063,
          9.574468085106384,
          14.414414414414413,
          15.714285714285703,
          13.043478260869565,
          5.369127516778518,
          0,
          -5.633802816901403,
          6.542056074766342,
          35.483870967741936,
          -2.3622047244094486,
          0,
          -9.090909090909092,
          6.666666666666662,
          -8.823529411764705,
          -0.7462686567164233
         ],
         "yaxis": "y"
        },
        {
         "hovertemplate": "solver=L3_D8_best<br>type=lrnn_best<br>difficulty=1<br>problem=%{x}<br>improvement (%)=%{y}<extra></extra>",
         "legendgroup": "L3_D8_best, lrnn_best",
         "line": {
          "color": "#19d3f3",
          "dash": "dot"
         },
         "marker": {
          "symbol": "circle"
         },
         "mode": "lines",
         "name": "L3_D8_best, lrnn_best",
         "orientation": "v",
         "showlegend": false,
         "type": "scatter",
         "x": [
          "1_01",
          "1_02",
          "1_03",
          "1_04",
          "1_05",
          "1_06",
          "1_07",
          "1_08",
          "1_09",
          "1_10",
          "1_11",
          "1_12",
          "1_13",
          "1_14",
          "1_15",
          "1_16",
          "1_17",
          "1_18",
          "1_19",
          "1_20",
          "1_21",
          "1_22",
          "1_23",
          "1_24",
          "1_25",
          "1_26",
          "1_27",
          "1_28",
          "1_29",
          "1_30"
         ],
         "xaxis": "x2",
         "y": [
          -4.659498207885299,
          1.3377926421404778,
          4.659498207885299,
          2.446483180428139,
          0.3759398496240708,
          16.66666666666667,
          8.963585434173673,
          8.888888888888893,
          4.062500000000009,
          9.876543209876548,
          -4.238921001926788,
          -5.219780219780228,
          4.700854700854707,
          1.7241379310344767,
          -12.222222222222213,
          1.5180265654648903,
          -15.662650602409633,
          -21.076233183856512,
          -4.00763358778626,
          -4.347826086956517,
          -1.92,
          -2.4038461538461537,
          -8.385093167701864,
          1.4725568942436373,
          -17.906336088154262,
          -12.624113475177314,
          -5.036855036855044,
          -31.417624521072792,
          -4.125,
          -22.272727272727288
         ],
         "yaxis": "y2"
        },
        {
         "hovertemplate": "solver=L3_D16_best<br>type=lrnn_best<br>difficulty=0<br>problem=%{x}<br>improvement (%)=%{y}<extra></extra>",
         "legendgroup": "L3_D16_best, lrnn_best",
         "line": {
          "color": "#FF6692",
          "dash": "dot"
         },
         "marker": {
          "symbol": "circle"
         },
         "mode": "lines",
         "name": "L3_D16_best, lrnn_best",
         "orientation": "v",
         "showlegend": true,
         "type": "scatter",
         "x": [
          "0_01",
          "0_02",
          "0_03",
          "0_04",
          "0_05",
          "0_06",
          "0_07",
          "0_08",
          "0_09",
          "0_10",
          "0_11",
          "0_12",
          "0_13",
          "0_14",
          "0_15",
          "0_16",
          "0_17",
          "0_18",
          "0_19",
          "0_20",
          "0_21",
          "0_22",
          "0_23",
          "0_24",
          "0_25",
          "0_26",
          "0_27",
          "0_28",
          "0_29",
          "0_30"
         ],
         "xaxis": "x",
         "y": [
          24.999999999999996,
          8.064516129032263,
          -5.4054054054054,
          16.000000000000007,
          2.3255813953488413,
          -12.5,
          20,
          10,
          23.584905660377366,
          40,
          12.637362637362633,
          36.440677966101696,
          50,
          16.071428571428573,
          42.592592592592595,
          13.82978723404255,
          -8.108108108108109,
          31.428571428571427,
          15.217391304347831,
          9.39597315436241,
          -2.36486486486486,
          18.66197183098592,
          20.093457943925227,
          25.000000000000004,
          11.417322834645676,
          3.125,
          10,
          17.272727272727273,
          36.029411764705884,
          30.597014925373134
         ],
         "yaxis": "y"
        },
        {
         "hovertemplate": "solver=L3_D16_best<br>type=lrnn_best<br>difficulty=1<br>problem=%{x}<br>improvement (%)=%{y}<extra></extra>",
         "legendgroup": "L3_D16_best, lrnn_best",
         "line": {
          "color": "#FF6692",
          "dash": "dot"
         },
         "marker": {
          "symbol": "circle"
         },
         "mode": "lines",
         "name": "L3_D16_best, lrnn_best",
         "orientation": "v",
         "showlegend": false,
         "type": "scatter",
         "x": [
          "1_01",
          "1_02",
          "1_03",
          "1_04",
          "1_05",
          "1_06",
          "1_07",
          "1_08",
          "1_09",
          "1_10",
          "1_11",
          "1_12",
          "1_13",
          "1_14",
          "1_15",
          "1_16",
          "1_17",
          "1_18",
          "1_19",
          "1_20",
          "1_21",
          "1_22",
          "1_23",
          "1_24",
          "1_25",
          "1_26",
          "1_27",
          "1_28",
          "1_29",
          "1_30"
         ],
         "xaxis": "x2",
         "y": [
          -6.989247311827957,
          -2.84280936454849,
          2.6881720430107525,
          -0.45871559633027525,
          -4.8872180451127765,
          20.754716981132077,
          -2.9411764705882355,
          58.333333333333336,
          -13.437499999999995,
          55.55555555555556,
          -5.780346820809249,
          14.697802197802194,
          4.8076923076923075,
          23.060344827586203,
          31.666666666666668,
          -5.882352941176477,
          30.873493975903617,
          30.04484304932735,
          1.8129770992366359,
          -7.2713643178410745,
          2.5600000000000045,
          5.048076923076923,
          37.11180124223603,
          -7.429718875502008,
          4.545454545454546,
          -11.27659574468085,
          18.73464373464373,
          39.08045977011494,
          -1.6249999999999927,
          26.022727272727266
         ],
         "yaxis": "y2"
        }
       ],
       "layout": {
        "annotations": [
         {
          "font": {},
          "showarrow": false,
          "text": "difficulty=0",
          "x": 0.245,
          "xanchor": "center",
          "xref": "paper",
          "y": 1,
          "yanchor": "bottom",
          "yref": "paper"
         },
         {
          "font": {},
          "showarrow": false,
          "text": "difficulty=1",
          "x": 0.755,
          "xanchor": "center",
          "xref": "paper",
          "y": 1,
          "yanchor": "bottom",
          "yref": "paper"
         }
        ],
        "legend": {
         "title": {
          "text": "solver, type"
         },
         "tracegroupgap": 0
        },
        "margin": {
         "t": 60
        },
        "template": {
         "data": {
          "bar": [
           {
            "error_x": {
             "color": "#2a3f5f"
            },
            "error_y": {
             "color": "#2a3f5f"
            },
            "marker": {
             "line": {
              "color": "#E5ECF6",
              "width": 0.5
             },
             "pattern": {
              "fillmode": "overlay",
              "size": 10,
              "solidity": 0.2
             }
            },
            "type": "bar"
           }
          ],
          "barpolar": [
           {
            "marker": {
             "line": {
              "color": "#E5ECF6",
              "width": 0.5
             },
             "pattern": {
              "fillmode": "overlay",
              "size": 10,
              "solidity": 0.2
             }
            },
            "type": "barpolar"
           }
          ],
          "carpet": [
           {
            "aaxis": {
             "endlinecolor": "#2a3f5f",
             "gridcolor": "white",
             "linecolor": "white",
             "minorgridcolor": "white",
             "startlinecolor": "#2a3f5f"
            },
            "baxis": {
             "endlinecolor": "#2a3f5f",
             "gridcolor": "white",
             "linecolor": "white",
             "minorgridcolor": "white",
             "startlinecolor": "#2a3f5f"
            },
            "type": "carpet"
           }
          ],
          "choropleth": [
           {
            "colorbar": {
             "outlinewidth": 0,
             "ticks": ""
            },
            "type": "choropleth"
           }
          ],
          "contour": [
           {
            "colorbar": {
             "outlinewidth": 0,
             "ticks": ""
            },
            "colorscale": [
             [
              0,
              "#0d0887"
             ],
             [
              0.1111111111111111,
              "#46039f"
             ],
             [
              0.2222222222222222,
              "#7201a8"
             ],
             [
              0.3333333333333333,
              "#9c179e"
             ],
             [
              0.4444444444444444,
              "#bd3786"
             ],
             [
              0.5555555555555556,
              "#d8576b"
             ],
             [
              0.6666666666666666,
              "#ed7953"
             ],
             [
              0.7777777777777778,
              "#fb9f3a"
             ],
             [
              0.8888888888888888,
              "#fdca26"
             ],
             [
              1,
              "#f0f921"
             ]
            ],
            "type": "contour"
           }
          ],
          "contourcarpet": [
           {
            "colorbar": {
             "outlinewidth": 0,
             "ticks": ""
            },
            "type": "contourcarpet"
           }
          ],
          "heatmap": [
           {
            "colorbar": {
             "outlinewidth": 0,
             "ticks": ""
            },
            "colorscale": [
             [
              0,
              "#0d0887"
             ],
             [
              0.1111111111111111,
              "#46039f"
             ],
             [
              0.2222222222222222,
              "#7201a8"
             ],
             [
              0.3333333333333333,
              "#9c179e"
             ],
             [
              0.4444444444444444,
              "#bd3786"
             ],
             [
              0.5555555555555556,
              "#d8576b"
             ],
             [
              0.6666666666666666,
              "#ed7953"
             ],
             [
              0.7777777777777778,
              "#fb9f3a"
             ],
             [
              0.8888888888888888,
              "#fdca26"
             ],
             [
              1,
              "#f0f921"
             ]
            ],
            "type": "heatmap"
           }
          ],
          "heatmapgl": [
           {
            "colorbar": {
             "outlinewidth": 0,
             "ticks": ""
            },
            "colorscale": [
             [
              0,
              "#0d0887"
             ],
             [
              0.1111111111111111,
              "#46039f"
             ],
             [
              0.2222222222222222,
              "#7201a8"
             ],
             [
              0.3333333333333333,
              "#9c179e"
             ],
             [
              0.4444444444444444,
              "#bd3786"
             ],
             [
              0.5555555555555556,
              "#d8576b"
             ],
             [
              0.6666666666666666,
              "#ed7953"
             ],
             [
              0.7777777777777778,
              "#fb9f3a"
             ],
             [
              0.8888888888888888,
              "#fdca26"
             ],
             [
              1,
              "#f0f921"
             ]
            ],
            "type": "heatmapgl"
           }
          ],
          "histogram": [
           {
            "marker": {
             "pattern": {
              "fillmode": "overlay",
              "size": 10,
              "solidity": 0.2
             }
            },
            "type": "histogram"
           }
          ],
          "histogram2d": [
           {
            "colorbar": {
             "outlinewidth": 0,
             "ticks": ""
            },
            "colorscale": [
             [
              0,
              "#0d0887"
             ],
             [
              0.1111111111111111,
              "#46039f"
             ],
             [
              0.2222222222222222,
              "#7201a8"
             ],
             [
              0.3333333333333333,
              "#9c179e"
             ],
             [
              0.4444444444444444,
              "#bd3786"
             ],
             [
              0.5555555555555556,
              "#d8576b"
             ],
             [
              0.6666666666666666,
              "#ed7953"
             ],
             [
              0.7777777777777778,
              "#fb9f3a"
             ],
             [
              0.8888888888888888,
              "#fdca26"
             ],
             [
              1,
              "#f0f921"
             ]
            ],
            "type": "histogram2d"
           }
          ],
          "histogram2dcontour": [
           {
            "colorbar": {
             "outlinewidth": 0,
             "ticks": ""
            },
            "colorscale": [
             [
              0,
              "#0d0887"
             ],
             [
              0.1111111111111111,
              "#46039f"
             ],
             [
              0.2222222222222222,
              "#7201a8"
             ],
             [
              0.3333333333333333,
              "#9c179e"
             ],
             [
              0.4444444444444444,
              "#bd3786"
             ],
             [
              0.5555555555555556,
              "#d8576b"
             ],
             [
              0.6666666666666666,
              "#ed7953"
             ],
             [
              0.7777777777777778,
              "#fb9f3a"
             ],
             [
              0.8888888888888888,
              "#fdca26"
             ],
             [
              1,
              "#f0f921"
             ]
            ],
            "type": "histogram2dcontour"
           }
          ],
          "mesh3d": [
           {
            "colorbar": {
             "outlinewidth": 0,
             "ticks": ""
            },
            "type": "mesh3d"
           }
          ],
          "parcoords": [
           {
            "line": {
             "colorbar": {
              "outlinewidth": 0,
              "ticks": ""
             }
            },
            "type": "parcoords"
           }
          ],
          "pie": [
           {
            "automargin": true,
            "type": "pie"
           }
          ],
          "scatter": [
           {
            "fillpattern": {
             "fillmode": "overlay",
             "size": 10,
             "solidity": 0.2
            },
            "type": "scatter"
           }
          ],
          "scatter3d": [
           {
            "line": {
             "colorbar": {
              "outlinewidth": 0,
              "ticks": ""
             }
            },
            "marker": {
             "colorbar": {
              "outlinewidth": 0,
              "ticks": ""
             }
            },
            "type": "scatter3d"
           }
          ],
          "scattercarpet": [
           {
            "marker": {
             "colorbar": {
              "outlinewidth": 0,
              "ticks": ""
             }
            },
            "type": "scattercarpet"
           }
          ],
          "scattergeo": [
           {
            "marker": {
             "colorbar": {
              "outlinewidth": 0,
              "ticks": ""
             }
            },
            "type": "scattergeo"
           }
          ],
          "scattergl": [
           {
            "marker": {
             "colorbar": {
              "outlinewidth": 0,
              "ticks": ""
             }
            },
            "type": "scattergl"
           }
          ],
          "scattermapbox": [
           {
            "marker": {
             "colorbar": {
              "outlinewidth": 0,
              "ticks": ""
             }
            },
            "type": "scattermapbox"
           }
          ],
          "scatterpolar": [
           {
            "marker": {
             "colorbar": {
              "outlinewidth": 0,
              "ticks": ""
             }
            },
            "type": "scatterpolar"
           }
          ],
          "scatterpolargl": [
           {
            "marker": {
             "colorbar": {
              "outlinewidth": 0,
              "ticks": ""
             }
            },
            "type": "scatterpolargl"
           }
          ],
          "scatterternary": [
           {
            "marker": {
             "colorbar": {
              "outlinewidth": 0,
              "ticks": ""
             }
            },
            "type": "scatterternary"
           }
          ],
          "surface": [
           {
            "colorbar": {
             "outlinewidth": 0,
             "ticks": ""
            },
            "colorscale": [
             [
              0,
              "#0d0887"
             ],
             [
              0.1111111111111111,
              "#46039f"
             ],
             [
              0.2222222222222222,
              "#7201a8"
             ],
             [
              0.3333333333333333,
              "#9c179e"
             ],
             [
              0.4444444444444444,
              "#bd3786"
             ],
             [
              0.5555555555555556,
              "#d8576b"
             ],
             [
              0.6666666666666666,
              "#ed7953"
             ],
             [
              0.7777777777777778,
              "#fb9f3a"
             ],
             [
              0.8888888888888888,
              "#fdca26"
             ],
             [
              1,
              "#f0f921"
             ]
            ],
            "type": "surface"
           }
          ],
          "table": [
           {
            "cells": {
             "fill": {
              "color": "#EBF0F8"
             },
             "line": {
              "color": "white"
             }
            },
            "header": {
             "fill": {
              "color": "#C8D4E3"
             },
             "line": {
              "color": "white"
             }
            },
            "type": "table"
           }
          ]
         },
         "layout": {
          "annotationdefaults": {
           "arrowcolor": "#2a3f5f",
           "arrowhead": 0,
           "arrowwidth": 1
          },
          "autotypenumbers": "strict",
          "coloraxis": {
           "colorbar": {
            "outlinewidth": 0,
            "ticks": ""
           }
          },
          "colorscale": {
           "diverging": [
            [
             0,
             "#8e0152"
            ],
            [
             0.1,
             "#c51b7d"
            ],
            [
             0.2,
             "#de77ae"
            ],
            [
             0.3,
             "#f1b6da"
            ],
            [
             0.4,
             "#fde0ef"
            ],
            [
             0.5,
             "#f7f7f7"
            ],
            [
             0.6,
             "#e6f5d0"
            ],
            [
             0.7,
             "#b8e186"
            ],
            [
             0.8,
             "#7fbc41"
            ],
            [
             0.9,
             "#4d9221"
            ],
            [
             1,
             "#276419"
            ]
           ],
           "sequential": [
            [
             0,
             "#0d0887"
            ],
            [
             0.1111111111111111,
             "#46039f"
            ],
            [
             0.2222222222222222,
             "#7201a8"
            ],
            [
             0.3333333333333333,
             "#9c179e"
            ],
            [
             0.4444444444444444,
             "#bd3786"
            ],
            [
             0.5555555555555556,
             "#d8576b"
            ],
            [
             0.6666666666666666,
             "#ed7953"
            ],
            [
             0.7777777777777778,
             "#fb9f3a"
            ],
            [
             0.8888888888888888,
             "#fdca26"
            ],
            [
             1,
             "#f0f921"
            ]
           ],
           "sequentialminus": [
            [
             0,
             "#0d0887"
            ],
            [
             0.1111111111111111,
             "#46039f"
            ],
            [
             0.2222222222222222,
             "#7201a8"
            ],
            [
             0.3333333333333333,
             "#9c179e"
            ],
            [
             0.4444444444444444,
             "#bd3786"
            ],
            [
             0.5555555555555556,
             "#d8576b"
            ],
            [
             0.6666666666666666,
             "#ed7953"
            ],
            [
             0.7777777777777778,
             "#fb9f3a"
            ],
            [
             0.8888888888888888,
             "#fdca26"
            ],
            [
             1,
             "#f0f921"
            ]
           ]
          },
          "colorway": [
           "#636efa",
           "#EF553B",
           "#00cc96",
           "#ab63fa",
           "#FFA15A",
           "#19d3f3",
           "#FF6692",
           "#B6E880",
           "#FF97FF",
           "#FECB52"
          ],
          "font": {
           "color": "#2a3f5f"
          },
          "geo": {
           "bgcolor": "white",
           "lakecolor": "white",
           "landcolor": "#E5ECF6",
           "showlakes": true,
           "showland": true,
           "subunitcolor": "white"
          },
          "hoverlabel": {
           "align": "left"
          },
          "hovermode": "closest",
          "mapbox": {
           "style": "light"
          },
          "paper_bgcolor": "white",
          "plot_bgcolor": "#E5ECF6",
          "polar": {
           "angularaxis": {
            "gridcolor": "white",
            "linecolor": "white",
            "ticks": ""
           },
           "bgcolor": "#E5ECF6",
           "radialaxis": {
            "gridcolor": "white",
            "linecolor": "white",
            "ticks": ""
           }
          },
          "scene": {
           "xaxis": {
            "backgroundcolor": "#E5ECF6",
            "gridcolor": "white",
            "gridwidth": 2,
            "linecolor": "white",
            "showbackground": true,
            "ticks": "",
            "zerolinecolor": "white"
           },
           "yaxis": {
            "backgroundcolor": "#E5ECF6",
            "gridcolor": "white",
            "gridwidth": 2,
            "linecolor": "white",
            "showbackground": true,
            "ticks": "",
            "zerolinecolor": "white"
           },
           "zaxis": {
            "backgroundcolor": "#E5ECF6",
            "gridcolor": "white",
            "gridwidth": 2,
            "linecolor": "white",
            "showbackground": true,
            "ticks": "",
            "zerolinecolor": "white"
           }
          },
          "shapedefaults": {
           "line": {
            "color": "#2a3f5f"
           }
          },
          "ternary": {
           "aaxis": {
            "gridcolor": "white",
            "linecolor": "white",
            "ticks": ""
           },
           "baxis": {
            "gridcolor": "white",
            "linecolor": "white",
            "ticks": ""
           },
           "bgcolor": "#E5ECF6",
           "caxis": {
            "gridcolor": "white",
            "linecolor": "white",
            "ticks": ""
           }
          },
          "title": {
           "x": 0.05
          },
          "xaxis": {
           "automargin": true,
           "gridcolor": "white",
           "linecolor": "white",
           "ticks": "",
           "title": {
            "standoff": 15
           },
           "zerolinecolor": "white",
           "zerolinewidth": 2
          },
          "yaxis": {
           "automargin": true,
           "gridcolor": "white",
           "linecolor": "white",
           "ticks": "",
           "title": {
            "standoff": 15
           },
           "zerolinecolor": "white",
           "zerolinewidth": 2
          }
         }
        },
        "xaxis": {
         "anchor": "y",
         "categoryorder": "array",
         "domain": [
          0,
          0.49
         ],
         "showticklabels": true,
         "title": {
          "text": "problem"
         }
        },
        "xaxis2": {
         "anchor": "y2",
         "categoryorder": "array",
         "domain": [
          0.51,
          1
         ],
         "showticklabels": true,
         "title": {
          "text": "problem"
         }
        },
        "yaxis": {
         "anchor": "x",
         "domain": [
          0,
          1
         ],
         "range": [
          -100,
          100
         ],
         "showticklabels": true,
         "title": {
          "text": "improvement (%)"
         }
        },
        "yaxis2": {
         "anchor": "x2",
         "domain": [
          0,
          1
         ],
         "range": [
          -100,
          100
         ],
         "showticklabels": true
        }
       }
      }
     },
     "metadata": {},
     "output_type": "display_data"
    },
    {
     "name": "stdout",
     "output_type": "stream",
     "text": [
      "rover\n"
     ]
    },
    {
     "data": {
      "application/vnd.plotly.v1+json": {
       "config": {
        "plotlyServerURL": "https://plot.ly"
       },
       "data": [
        {
         "hovertemplate": "solver=baseline<br>type=bounds<br>difficulty=0<br>problem=%{x}<br>improvement (%)=%{y}<extra></extra>",
         "legendgroup": "baseline, bounds",
         "line": {
          "color": "#636efa",
          "dash": "solid"
         },
         "marker": {
          "symbol": "circle"
         },
         "mode": "lines",
         "name": "baseline, bounds",
         "orientation": "v",
         "showlegend": true,
         "type": "scatter",
         "x": [
          "0_01",
          "0_02",
          "0_03",
          "0_04",
          "0_05",
          "0_06",
          "0_07",
          "0_08",
          "0_09",
          "0_10",
          "0_11",
          "0_12",
          "0_13",
          "0_14",
          "0_15",
          "0_16",
          "0_17",
          "0_18",
          "0_19",
          "0_20",
          "0_21",
          "0_22",
          "0_23",
          "0_24",
          "0_25",
          "0_26",
          "0_27",
          "0_28",
          "0_29",
          "0_30"
         ],
         "xaxis": "x",
         "y": [
          0,
          0,
          0,
          0,
          0,
          0,
          0,
          0,
          0,
          0,
          0,
          0,
          0,
          0,
          0,
          0,
          0,
          0,
          0,
          0,
          0,
          0,
          0,
          0,
          0,
          0,
          0,
          0,
          0,
          0
         ],
         "yaxis": "y"
        },
        {
         "hovertemplate": "solver=baseline<br>type=bounds<br>difficulty=1<br>problem=%{x}<br>improvement (%)=%{y}<extra></extra>",
         "legendgroup": "baseline, bounds",
         "line": {
          "color": "#636efa",
          "dash": "solid"
         },
         "marker": {
          "symbol": "circle"
         },
         "mode": "lines",
         "name": "baseline, bounds",
         "orientation": "v",
         "showlegend": false,
         "type": "scatter",
         "x": [
          "1_01",
          "1_02",
          "1_03",
          "1_04",
          "1_05",
          "1_06",
          "1_07",
          "1_08",
          "1_09",
          "1_10",
          "1_11",
          "1_12",
          "1_13",
          "1_14",
          "1_15",
          "1_16",
          "1_17",
          "1_18",
          "1_19",
          "1_20",
          "1_21",
          "1_22",
          "1_23",
          "1_24",
          "1_25",
          "1_26",
          "1_27",
          "1_28",
          "1_29",
          "1_30"
         ],
         "xaxis": "x2",
         "y": [
          0,
          0,
          0,
          0,
          0,
          0,
          0,
          0,
          0,
          0,
          0,
          0,
          0,
          0,
          0,
          0,
          0,
          0,
          0,
          0,
          0,
          0,
          0,
          0,
          0,
          0,
          0,
          0,
          0,
          null
         ],
         "yaxis": "y2"
        },
        {
         "hovertemplate": "solver=optimal<br>type=bounds<br>difficulty=0<br>problem=%{x}<br>improvement (%)=%{y}<extra></extra>",
         "legendgroup": "optimal, bounds",
         "line": {
          "color": "#EF553B",
          "dash": "solid"
         },
         "marker": {
          "symbol": "circle"
         },
         "mode": "lines",
         "name": "optimal, bounds",
         "orientation": "v",
         "showlegend": true,
         "type": "scatter",
         "x": [
          "0_01",
          "0_02",
          "0_03",
          "0_04",
          "0_05",
          "0_06",
          "0_07",
          "0_08",
          "0_09",
          "0_10",
          "0_11",
          "0_12",
          "0_13",
          "0_14",
          "0_15",
          "0_16",
          "0_17",
          "0_18",
          "0_19",
          "0_20",
          "0_21",
          "0_22",
          "0_23",
          "0_24",
          "0_25",
          "0_26",
          "0_27",
          "0_28",
          "0_29",
          "0_30"
         ],
         "xaxis": "x",
         "y": [
          0,
          4.000000000000007,
          4.166666666666667,
          5.882352941176471,
          10.000000000000005,
          1.6393442622950762,
          0,
          7.272727272727266,
          0,
          5.882352941176471,
          3.7037037037037037,
          3.4482758620689653,
          1.9230769230769165,
          12.5,
          5.3846153846153895,
          13.253012048192776,
          null,
          8.235294117647054,
          null,
          null,
          null,
          null,
          null,
          null,
          null,
          null,
          null,
          null,
          11.538461538461538,
          null
         ],
         "yaxis": "y"
        },
        {
         "hovertemplate": "solver=optimal<br>type=bounds<br>difficulty=1<br>problem=%{x}<br>improvement (%)=%{y}<extra></extra>",
         "legendgroup": "optimal, bounds",
         "line": {
          "color": "#EF553B",
          "dash": "solid"
         },
         "marker": {
          "symbol": "circle"
         },
         "mode": "lines",
         "name": "optimal, bounds",
         "orientation": "v",
         "showlegend": false,
         "type": "scatter",
         "x": [
          "1_01",
          "1_02",
          "1_03",
          "1_04",
          "1_05",
          "1_06",
          "1_07",
          "1_08",
          "1_09",
          "1_10",
          "1_11",
          "1_12",
          "1_13",
          "1_14",
          "1_15",
          "1_16",
          "1_17",
          "1_18",
          "1_19",
          "1_20",
          "1_21",
          "1_22",
          "1_23",
          "1_24",
          "1_25",
          "1_26",
          "1_27",
          "1_28",
          "1_29",
          "1_30"
         ],
         "xaxis": "x2",
         "y": [
          null,
          null,
          null,
          null,
          null,
          null,
          null,
          null,
          null,
          null,
          null,
          null,
          null,
          null,
          null,
          null,
          null,
          null,
          null,
          null,
          null,
          null,
          null,
          null,
          null,
          null,
          null,
          null,
          null,
          null
         ],
         "yaxis": "y2"
        },
        {
         "hovertemplate": "solver=lama<br>type=bounds<br>difficulty=0<br>problem=%{x}<br>improvement (%)=%{y}<extra></extra>",
         "legendgroup": "lama, bounds",
         "line": {
          "color": "#00cc96",
          "dash": "solid"
         },
         "marker": {
          "symbol": "circle"
         },
         "mode": "lines",
         "name": "lama, bounds",
         "orientation": "v",
         "showlegend": true,
         "type": "scatter",
         "x": [
          "0_01",
          "0_02",
          "0_03",
          "0_04",
          "0_05",
          "0_06",
          "0_07",
          "0_08",
          "0_09",
          "0_10",
          "0_11",
          "0_12",
          "0_13",
          "0_14",
          "0_15",
          "0_16",
          "0_17",
          "0_18",
          "0_19",
          "0_20",
          "0_21",
          "0_22",
          "0_23",
          "0_24",
          "0_25",
          "0_26",
          "0_27",
          "0_28",
          "0_29",
          "0_30"
         ],
         "xaxis": "x",
         "y": [
          0,
          -1.9999999999999927,
          0,
          0,
          -4.999999999999995,
          -3.27868852459017,
          -8.823529411764707,
          -3.636363636363643,
          0,
          5.882352941176471,
          -14.814814814814815,
          3.4482758620689653,
          -6.730769230769238,
          -4.166666666666667,
          3.0769230769230824,
          2.4096385542168717,
          -18.934911242603548,
          1.17647058823529,
          -20,
          -9.727626459143963,
          -11.290322580645155,
          -5.376344086021505,
          -10,
          -10.999999999999991,
          1.8518518518518519,
          6.622516556291396,
          -19.371727748691104,
          -2.5,
          3.8461538461538463,
          -10.309278350515465
         ],
         "yaxis": "y"
        },
        {
         "hovertemplate": "solver=lama<br>type=bounds<br>difficulty=1<br>problem=%{x}<br>improvement (%)=%{y}<extra></extra>",
         "legendgroup": "lama, bounds",
         "line": {
          "color": "#00cc96",
          "dash": "solid"
         },
         "marker": {
          "symbol": "circle"
         },
         "mode": "lines",
         "name": "lama, bounds",
         "orientation": "v",
         "showlegend": false,
         "type": "scatter",
         "x": [
          "1_01",
          "1_02",
          "1_03",
          "1_04",
          "1_05",
          "1_06",
          "1_07",
          "1_08",
          "1_09",
          "1_10",
          "1_11",
          "1_12",
          "1_13",
          "1_14",
          "1_15",
          "1_16",
          "1_17",
          "1_18",
          "1_19",
          "1_20",
          "1_21",
          "1_22",
          "1_23",
          "1_24",
          "1_25",
          "1_26",
          "1_27",
          "1_28",
          "1_29",
          "1_30"
         ],
         "xaxis": "x2",
         "y": [
          -1.4285714285714286,
          -7.416879795396412,
          -36.986301369863014,
          1.0174418604651203,
          -1.8348623853210944,
          -12.310286677908943,
          1.9756838905775118,
          -0.09319664492077755,
          1.9230769230769231,
          -13.621262458471767,
          -4.531249999999996,
          -5.679513184584178,
          -1.4047410008779582,
          2.3880597014925415,
          -0.1730103806228423,
          5.263157894736838,
          2.214532871972322,
          null,
          null,
          -36.168691922802005,
          -6.387665198237886,
          -1.443298969072171,
          0.14492753623188406,
          2.675585284280941,
          0.0413393964448166,
          -1.839464882943144,
          null,
          -21.67441860465117,
          null,
          null
         ],
         "yaxis": "y2"
        },
        {
         "hovertemplate": "solver=L2_D8_best<br>type=lrnn_best<br>difficulty=0<br>problem=%{x}<br>improvement (%)=%{y}<extra></extra>",
         "legendgroup": "L2_D8_best, lrnn_best",
         "line": {
          "color": "#ab63fa",
          "dash": "dot"
         },
         "marker": {
          "symbol": "circle"
         },
         "mode": "lines",
         "name": "L2_D8_best, lrnn_best",
         "orientation": "v",
         "showlegend": true,
         "type": "scatter",
         "x": [
          "0_01",
          "0_02",
          "0_03",
          "0_04",
          "0_05",
          "0_06",
          "0_07",
          "0_08",
          "0_09",
          "0_10",
          "0_11",
          "0_12",
          "0_13",
          "0_14",
          "0_15",
          "0_16",
          "0_17",
          "0_18",
          "0_19",
          "0_20",
          "0_21",
          "0_22",
          "0_23",
          "0_24",
          "0_25",
          "0_26",
          "0_27",
          "0_28",
          "0_29",
          "0_30"
         ],
         "xaxis": "x",
         "y": [
          0,
          2.000000000000014,
          2.7777777777777826,
          1.9607843137254832,
          0,
          1.6393442622950762,
          -2.9411764705882355,
          0,
          0,
          0,
          2.46913580246914,
          3.4482758620689653,
          1.9230769230769165,
          6.94444444444445,
          3.0769230769230824,
          -2.409638554216859,
          0,
          4.705882352941172,
          -4,
          2.723735408560322,
          2.4193548387096775,
          2.150537634408602,
          0.9523809523809591,
          8.000000000000004,
          1.2345679012345636,
          3.3112582781457047,
          1.5706806282722514,
          2.2222222222222263,
          5.128205128205123,
          3.7800687285223415
         ],
         "yaxis": "y"
        },
        {
         "hovertemplate": "solver=L2_D8_best<br>type=lrnn_best<br>difficulty=1<br>problem=%{x}<br>improvement (%)=%{y}<extra></extra>",
         "legendgroup": "L2_D8_best, lrnn_best",
         "line": {
          "color": "#ab63fa",
          "dash": "dot"
         },
         "marker": {
          "symbol": "circle"
         },
         "mode": "lines",
         "name": "L2_D8_best, lrnn_best",
         "orientation": "v",
         "showlegend": false,
         "type": "scatter",
         "x": [
          "1_01",
          "1_02",
          "1_03",
          "1_04",
          "1_05",
          "1_06",
          "1_07",
          "1_08",
          "1_09",
          "1_10",
          "1_11",
          "1_12",
          "1_13",
          "1_14",
          "1_15",
          "1_16",
          "1_17",
          "1_18",
          "1_19",
          "1_20",
          "1_21",
          "1_22",
          "1_23",
          "1_24",
          "1_25",
          "1_26",
          "1_27",
          "1_28",
          "1_29",
          "1_30"
         ],
         "xaxis": "x2",
         "y": [
          4.047619047619041,
          1.2787723785166385,
          1.6742770167427659,
          3.488372093023256,
          3.3256880733945016,
          3.204047217537933,
          1.3677811550151975,
          1.3979496738117427,
          2.5641025641025603,
          1.8272425249169388,
          2.187500000000009,
          2.56930358350237,
          0.08779631255488267,
          -0.1492537313432751,
          4.498269896193767,
          1.662049861495845,
          2.0761245674740483,
          2.271580010095911,
          6.153846153846145,
          1.858470335954245,
          0.8076358296622655,
          3.711340206185567,
          1.5942028985507246,
          2.341137123745829,
          2.8110789582472187,
          -1.3935340022296607,
          1.1570983533600305,
          0.6511627906976691,
          null,
          null
         ],
         "yaxis": "y2"
        },
        {
         "hovertemplate": "solver=L2_D16_best<br>type=lrnn_best<br>difficulty=0<br>problem=%{x}<br>improvement (%)=%{y}<extra></extra>",
         "legendgroup": "L2_D16_best, lrnn_best",
         "line": {
          "color": "#FFA15A",
          "dash": "dot"
         },
         "marker": {
          "symbol": "circle"
         },
         "mode": "lines",
         "name": "L2_D16_best, lrnn_best",
         "orientation": "v",
         "showlegend": true,
         "type": "scatter",
         "x": [
          "0_01",
          "0_02",
          "0_03",
          "0_04",
          "0_05",
          "0_06",
          "0_07",
          "0_08",
          "0_09",
          "0_10",
          "0_11",
          "0_12",
          "0_13",
          "0_14",
          "0_15",
          "0_16",
          "0_17",
          "0_18",
          "0_19",
          "0_20",
          "0_21",
          "0_22",
          "0_23",
          "0_24",
          "0_25",
          "0_26",
          "0_27",
          "0_28",
          "0_29",
          "0_30"
         ],
         "xaxis": "x",
         "y": [
          0,
          2.000000000000014,
          2.7777777777777826,
          0,
          5.000000000000009,
          1.6393442622950762,
          -1.9607843137254832,
          3.636363636363624,
          0,
          0,
          1.2345679012345636,
          3.4482758620689653,
          1.9230769230769165,
          8.333333333333334,
          2.3076923076923075,
          0,
          0.5917159763313651,
          2.35294117647058,
          -4.666666666666671,
          3.8910505836575986,
          1.612903225806463,
          1.4336917562723963,
          1.4285714285714286,
          9.000000000000009,
          -3.0864197530864153,
          3.3112582781457047,
          -0.5235602094240875,
          1.3888888888888928,
          5.128205128205123,
          2.7491408934707953
         ],
         "yaxis": "y"
        },
        {
         "hovertemplate": "solver=L2_D16_best<br>type=lrnn_best<br>difficulty=1<br>problem=%{x}<br>improvement (%)=%{y}<extra></extra>",
         "legendgroup": "L2_D16_best, lrnn_best",
         "line": {
          "color": "#FFA15A",
          "dash": "dot"
         },
         "marker": {
          "symbol": "circle"
         },
         "mode": "lines",
         "name": "L2_D16_best, lrnn_best",
         "orientation": "v",
         "showlegend": false,
         "type": "scatter",
         "x": [
          "1_01",
          "1_02",
          "1_03",
          "1_04",
          "1_05",
          "1_06",
          "1_07",
          "1_08",
          "1_09",
          "1_10",
          "1_11",
          "1_12",
          "1_13",
          "1_14",
          "1_15",
          "1_16",
          "1_17",
          "1_18",
          "1_19",
          "1_20",
          "1_21",
          "1_22",
          "1_23",
          "1_24",
          "1_25",
          "1_26",
          "1_27",
          "1_28",
          "1_29",
          "1_30"
         ],
         "xaxis": "x2",
         "y": [
          3.095238095238102,
          3.3248081841432295,
          1.36986301369863,
          2.3255813953488413,
          2.2935779816513824,
          3.204047217537933,
          1.5197568389057794,
          1.2115563839701875,
          1.2820512820512748,
          0.9966777408637875,
          2.5000000000000044,
          3.4482758620689653,
          1.3169446883230904,
          0.29850746268657563,
          6.747404844290657,
          0.9695290858725684,
          1.107266435986167,
          2.1201413427561837,
          6.230769230769231,
          2.287348105789842,
          2.643171806167401,
          3.814432989690716,
          1.0628019323671551,
          6.187290969899671,
          1.9842910293509715,
          1.3935340022296607,
          1.4686248331108145,
          1.4186046511627854,
          null,
          null
         ],
         "yaxis": "y2"
        },
        {
         "hovertemplate": "solver=L3_D8_best<br>type=lrnn_best<br>difficulty=0<br>problem=%{x}<br>improvement (%)=%{y}<extra></extra>",
         "legendgroup": "L3_D8_best, lrnn_best",
         "line": {
          "color": "#19d3f3",
          "dash": "dot"
         },
         "marker": {
          "symbol": "circle"
         },
         "mode": "lines",
         "name": "L3_D8_best, lrnn_best",
         "orientation": "v",
         "showlegend": true,
         "type": "scatter",
         "x": [
          "0_01",
          "0_02",
          "0_03",
          "0_04",
          "0_05",
          "0_06",
          "0_07",
          "0_08",
          "0_09",
          "0_10",
          "0_11",
          "0_12",
          "0_13",
          "0_14",
          "0_15",
          "0_16",
          "0_17",
          "0_18",
          "0_19",
          "0_20",
          "0_21",
          "0_22",
          "0_23",
          "0_24",
          "0_25",
          "0_26",
          "0_27",
          "0_28",
          "0_29",
          "0_30"
         ],
         "xaxis": "x",
         "y": [
          0,
          2.000000000000014,
          0,
          1.9607843137254832,
          5.000000000000009,
          1.6393442622950762,
          -1.9607843137254832,
          0,
          0,
          0,
          1.2345679012345636,
          2.298850574712648,
          0.9615384615384479,
          5.55555555555555,
          3.0769230769230824,
          0,
          2.366863905325448,
          4.705882352941172,
          -8.666666666666671,
          2.3346303501945522,
          -0.8064516129032143,
          1.792114695340507,
          1.4285714285714286,
          8.500000000000007,
          0,
          3.9735099337748343,
          5.759162303664917,
          2.2222222222222263,
          -3.8461538461538463,
          3.0927835051546393
         ],
         "yaxis": "y"
        },
        {
         "hovertemplate": "solver=L3_D8_best<br>type=lrnn_best<br>difficulty=1<br>problem=%{x}<br>improvement (%)=%{y}<extra></extra>",
         "legendgroup": "L3_D8_best, lrnn_best",
         "line": {
          "color": "#19d3f3",
          "dash": "dot"
         },
         "marker": {
          "symbol": "circle"
         },
         "mode": "lines",
         "name": "L3_D8_best, lrnn_best",
         "orientation": "v",
         "showlegend": false,
         "type": "scatter",
         "x": [
          "1_01",
          "1_02",
          "1_03",
          "1_04",
          "1_05",
          "1_06",
          "1_07",
          "1_08",
          "1_09",
          "1_10",
          "1_11",
          "1_12",
          "1_13",
          "1_14",
          "1_15",
          "1_16",
          "1_17",
          "1_18",
          "1_19",
          "1_20",
          "1_21",
          "1_22",
          "1_23",
          "1_24",
          "1_25",
          "1_26",
          "1_27",
          "1_28",
          "1_29",
          "1_30"
         ],
         "xaxis": "x2",
         "y": [
          2.3809523809523876,
          0.7672634271099744,
          0.7610350076103457,
          2.4709302325581475,
          4.013761467889915,
          1.5177065767284992,
          1.0638297872340468,
          1.2115563839701875,
          2.8205128205128243,
          1.661129568106303,
          2.656250000000009,
          1.4198782961460445,
          0.9657594381036045,
          -0.1492537313432751,
          4.152249134948097,
          -0.1385041551246577,
          0.9688581314878931,
          2.6754164563351956,
          4.615384615384616,
          2.0729092208720434,
          1.3215859030837005,
          2.2680412371133962,
          1.5942028985507246,
          2.1739130434782656,
          2.4390243902439117,
          0.11148272017836601,
          0.40053404539385845,
          0.5581395348837209,
          null,
          null
         ],
         "yaxis": "y2"
        }
       ],
       "layout": {
        "annotations": [
         {
          "font": {},
          "showarrow": false,
          "text": "difficulty=0",
          "x": 0.245,
          "xanchor": "center",
          "xref": "paper",
          "y": 1,
          "yanchor": "bottom",
          "yref": "paper"
         },
         {
          "font": {},
          "showarrow": false,
          "text": "difficulty=1",
          "x": 0.755,
          "xanchor": "center",
          "xref": "paper",
          "y": 1,
          "yanchor": "bottom",
          "yref": "paper"
         }
        ],
        "legend": {
         "title": {
          "text": "solver, type"
         },
         "tracegroupgap": 0
        },
        "margin": {
         "t": 60
        },
        "template": {
         "data": {
          "bar": [
           {
            "error_x": {
             "color": "#2a3f5f"
            },
            "error_y": {
             "color": "#2a3f5f"
            },
            "marker": {
             "line": {
              "color": "#E5ECF6",
              "width": 0.5
             },
             "pattern": {
              "fillmode": "overlay",
              "size": 10,
              "solidity": 0.2
             }
            },
            "type": "bar"
           }
          ],
          "barpolar": [
           {
            "marker": {
             "line": {
              "color": "#E5ECF6",
              "width": 0.5
             },
             "pattern": {
              "fillmode": "overlay",
              "size": 10,
              "solidity": 0.2
             }
            },
            "type": "barpolar"
           }
          ],
          "carpet": [
           {
            "aaxis": {
             "endlinecolor": "#2a3f5f",
             "gridcolor": "white",
             "linecolor": "white",
             "minorgridcolor": "white",
             "startlinecolor": "#2a3f5f"
            },
            "baxis": {
             "endlinecolor": "#2a3f5f",
             "gridcolor": "white",
             "linecolor": "white",
             "minorgridcolor": "white",
             "startlinecolor": "#2a3f5f"
            },
            "type": "carpet"
           }
          ],
          "choropleth": [
           {
            "colorbar": {
             "outlinewidth": 0,
             "ticks": ""
            },
            "type": "choropleth"
           }
          ],
          "contour": [
           {
            "colorbar": {
             "outlinewidth": 0,
             "ticks": ""
            },
            "colorscale": [
             [
              0,
              "#0d0887"
             ],
             [
              0.1111111111111111,
              "#46039f"
             ],
             [
              0.2222222222222222,
              "#7201a8"
             ],
             [
              0.3333333333333333,
              "#9c179e"
             ],
             [
              0.4444444444444444,
              "#bd3786"
             ],
             [
              0.5555555555555556,
              "#d8576b"
             ],
             [
              0.6666666666666666,
              "#ed7953"
             ],
             [
              0.7777777777777778,
              "#fb9f3a"
             ],
             [
              0.8888888888888888,
              "#fdca26"
             ],
             [
              1,
              "#f0f921"
             ]
            ],
            "type": "contour"
           }
          ],
          "contourcarpet": [
           {
            "colorbar": {
             "outlinewidth": 0,
             "ticks": ""
            },
            "type": "contourcarpet"
           }
          ],
          "heatmap": [
           {
            "colorbar": {
             "outlinewidth": 0,
             "ticks": ""
            },
            "colorscale": [
             [
              0,
              "#0d0887"
             ],
             [
              0.1111111111111111,
              "#46039f"
             ],
             [
              0.2222222222222222,
              "#7201a8"
             ],
             [
              0.3333333333333333,
              "#9c179e"
             ],
             [
              0.4444444444444444,
              "#bd3786"
             ],
             [
              0.5555555555555556,
              "#d8576b"
             ],
             [
              0.6666666666666666,
              "#ed7953"
             ],
             [
              0.7777777777777778,
              "#fb9f3a"
             ],
             [
              0.8888888888888888,
              "#fdca26"
             ],
             [
              1,
              "#f0f921"
             ]
            ],
            "type": "heatmap"
           }
          ],
          "heatmapgl": [
           {
            "colorbar": {
             "outlinewidth": 0,
             "ticks": ""
            },
            "colorscale": [
             [
              0,
              "#0d0887"
             ],
             [
              0.1111111111111111,
              "#46039f"
             ],
             [
              0.2222222222222222,
              "#7201a8"
             ],
             [
              0.3333333333333333,
              "#9c179e"
             ],
             [
              0.4444444444444444,
              "#bd3786"
             ],
             [
              0.5555555555555556,
              "#d8576b"
             ],
             [
              0.6666666666666666,
              "#ed7953"
             ],
             [
              0.7777777777777778,
              "#fb9f3a"
             ],
             [
              0.8888888888888888,
              "#fdca26"
             ],
             [
              1,
              "#f0f921"
             ]
            ],
            "type": "heatmapgl"
           }
          ],
          "histogram": [
           {
            "marker": {
             "pattern": {
              "fillmode": "overlay",
              "size": 10,
              "solidity": 0.2
             }
            },
            "type": "histogram"
           }
          ],
          "histogram2d": [
           {
            "colorbar": {
             "outlinewidth": 0,
             "ticks": ""
            },
            "colorscale": [
             [
              0,
              "#0d0887"
             ],
             [
              0.1111111111111111,
              "#46039f"
             ],
             [
              0.2222222222222222,
              "#7201a8"
             ],
             [
              0.3333333333333333,
              "#9c179e"
             ],
             [
              0.4444444444444444,
              "#bd3786"
             ],
             [
              0.5555555555555556,
              "#d8576b"
             ],
             [
              0.6666666666666666,
              "#ed7953"
             ],
             [
              0.7777777777777778,
              "#fb9f3a"
             ],
             [
              0.8888888888888888,
              "#fdca26"
             ],
             [
              1,
              "#f0f921"
             ]
            ],
            "type": "histogram2d"
           }
          ],
          "histogram2dcontour": [
           {
            "colorbar": {
             "outlinewidth": 0,
             "ticks": ""
            },
            "colorscale": [
             [
              0,
              "#0d0887"
             ],
             [
              0.1111111111111111,
              "#46039f"
             ],
             [
              0.2222222222222222,
              "#7201a8"
             ],
             [
              0.3333333333333333,
              "#9c179e"
             ],
             [
              0.4444444444444444,
              "#bd3786"
             ],
             [
              0.5555555555555556,
              "#d8576b"
             ],
             [
              0.6666666666666666,
              "#ed7953"
             ],
             [
              0.7777777777777778,
              "#fb9f3a"
             ],
             [
              0.8888888888888888,
              "#fdca26"
             ],
             [
              1,
              "#f0f921"
             ]
            ],
            "type": "histogram2dcontour"
           }
          ],
          "mesh3d": [
           {
            "colorbar": {
             "outlinewidth": 0,
             "ticks": ""
            },
            "type": "mesh3d"
           }
          ],
          "parcoords": [
           {
            "line": {
             "colorbar": {
              "outlinewidth": 0,
              "ticks": ""
             }
            },
            "type": "parcoords"
           }
          ],
          "pie": [
           {
            "automargin": true,
            "type": "pie"
           }
          ],
          "scatter": [
           {
            "fillpattern": {
             "fillmode": "overlay",
             "size": 10,
             "solidity": 0.2
            },
            "type": "scatter"
           }
          ],
          "scatter3d": [
           {
            "line": {
             "colorbar": {
              "outlinewidth": 0,
              "ticks": ""
             }
            },
            "marker": {
             "colorbar": {
              "outlinewidth": 0,
              "ticks": ""
             }
            },
            "type": "scatter3d"
           }
          ],
          "scattercarpet": [
           {
            "marker": {
             "colorbar": {
              "outlinewidth": 0,
              "ticks": ""
             }
            },
            "type": "scattercarpet"
           }
          ],
          "scattergeo": [
           {
            "marker": {
             "colorbar": {
              "outlinewidth": 0,
              "ticks": ""
             }
            },
            "type": "scattergeo"
           }
          ],
          "scattergl": [
           {
            "marker": {
             "colorbar": {
              "outlinewidth": 0,
              "ticks": ""
             }
            },
            "type": "scattergl"
           }
          ],
          "scattermapbox": [
           {
            "marker": {
             "colorbar": {
              "outlinewidth": 0,
              "ticks": ""
             }
            },
            "type": "scattermapbox"
           }
          ],
          "scatterpolar": [
           {
            "marker": {
             "colorbar": {
              "outlinewidth": 0,
              "ticks": ""
             }
            },
            "type": "scatterpolar"
           }
          ],
          "scatterpolargl": [
           {
            "marker": {
             "colorbar": {
              "outlinewidth": 0,
              "ticks": ""
             }
            },
            "type": "scatterpolargl"
           }
          ],
          "scatterternary": [
           {
            "marker": {
             "colorbar": {
              "outlinewidth": 0,
              "ticks": ""
             }
            },
            "type": "scatterternary"
           }
          ],
          "surface": [
           {
            "colorbar": {
             "outlinewidth": 0,
             "ticks": ""
            },
            "colorscale": [
             [
              0,
              "#0d0887"
             ],
             [
              0.1111111111111111,
              "#46039f"
             ],
             [
              0.2222222222222222,
              "#7201a8"
             ],
             [
              0.3333333333333333,
              "#9c179e"
             ],
             [
              0.4444444444444444,
              "#bd3786"
             ],
             [
              0.5555555555555556,
              "#d8576b"
             ],
             [
              0.6666666666666666,
              "#ed7953"
             ],
             [
              0.7777777777777778,
              "#fb9f3a"
             ],
             [
              0.8888888888888888,
              "#fdca26"
             ],
             [
              1,
              "#f0f921"
             ]
            ],
            "type": "surface"
           }
          ],
          "table": [
           {
            "cells": {
             "fill": {
              "color": "#EBF0F8"
             },
             "line": {
              "color": "white"
             }
            },
            "header": {
             "fill": {
              "color": "#C8D4E3"
             },
             "line": {
              "color": "white"
             }
            },
            "type": "table"
           }
          ]
         },
         "layout": {
          "annotationdefaults": {
           "arrowcolor": "#2a3f5f",
           "arrowhead": 0,
           "arrowwidth": 1
          },
          "autotypenumbers": "strict",
          "coloraxis": {
           "colorbar": {
            "outlinewidth": 0,
            "ticks": ""
           }
          },
          "colorscale": {
           "diverging": [
            [
             0,
             "#8e0152"
            ],
            [
             0.1,
             "#c51b7d"
            ],
            [
             0.2,
             "#de77ae"
            ],
            [
             0.3,
             "#f1b6da"
            ],
            [
             0.4,
             "#fde0ef"
            ],
            [
             0.5,
             "#f7f7f7"
            ],
            [
             0.6,
             "#e6f5d0"
            ],
            [
             0.7,
             "#b8e186"
            ],
            [
             0.8,
             "#7fbc41"
            ],
            [
             0.9,
             "#4d9221"
            ],
            [
             1,
             "#276419"
            ]
           ],
           "sequential": [
            [
             0,
             "#0d0887"
            ],
            [
             0.1111111111111111,
             "#46039f"
            ],
            [
             0.2222222222222222,
             "#7201a8"
            ],
            [
             0.3333333333333333,
             "#9c179e"
            ],
            [
             0.4444444444444444,
             "#bd3786"
            ],
            [
             0.5555555555555556,
             "#d8576b"
            ],
            [
             0.6666666666666666,
             "#ed7953"
            ],
            [
             0.7777777777777778,
             "#fb9f3a"
            ],
            [
             0.8888888888888888,
             "#fdca26"
            ],
            [
             1,
             "#f0f921"
            ]
           ],
           "sequentialminus": [
            [
             0,
             "#0d0887"
            ],
            [
             0.1111111111111111,
             "#46039f"
            ],
            [
             0.2222222222222222,
             "#7201a8"
            ],
            [
             0.3333333333333333,
             "#9c179e"
            ],
            [
             0.4444444444444444,
             "#bd3786"
            ],
            [
             0.5555555555555556,
             "#d8576b"
            ],
            [
             0.6666666666666666,
             "#ed7953"
            ],
            [
             0.7777777777777778,
             "#fb9f3a"
            ],
            [
             0.8888888888888888,
             "#fdca26"
            ],
            [
             1,
             "#f0f921"
            ]
           ]
          },
          "colorway": [
           "#636efa",
           "#EF553B",
           "#00cc96",
           "#ab63fa",
           "#FFA15A",
           "#19d3f3",
           "#FF6692",
           "#B6E880",
           "#FF97FF",
           "#FECB52"
          ],
          "font": {
           "color": "#2a3f5f"
          },
          "geo": {
           "bgcolor": "white",
           "lakecolor": "white",
           "landcolor": "#E5ECF6",
           "showlakes": true,
           "showland": true,
           "subunitcolor": "white"
          },
          "hoverlabel": {
           "align": "left"
          },
          "hovermode": "closest",
          "mapbox": {
           "style": "light"
          },
          "paper_bgcolor": "white",
          "plot_bgcolor": "#E5ECF6",
          "polar": {
           "angularaxis": {
            "gridcolor": "white",
            "linecolor": "white",
            "ticks": ""
           },
           "bgcolor": "#E5ECF6",
           "radialaxis": {
            "gridcolor": "white",
            "linecolor": "white",
            "ticks": ""
           }
          },
          "scene": {
           "xaxis": {
            "backgroundcolor": "#E5ECF6",
            "gridcolor": "white",
            "gridwidth": 2,
            "linecolor": "white",
            "showbackground": true,
            "ticks": "",
            "zerolinecolor": "white"
           },
           "yaxis": {
            "backgroundcolor": "#E5ECF6",
            "gridcolor": "white",
            "gridwidth": 2,
            "linecolor": "white",
            "showbackground": true,
            "ticks": "",
            "zerolinecolor": "white"
           },
           "zaxis": {
            "backgroundcolor": "#E5ECF6",
            "gridcolor": "white",
            "gridwidth": 2,
            "linecolor": "white",
            "showbackground": true,
            "ticks": "",
            "zerolinecolor": "white"
           }
          },
          "shapedefaults": {
           "line": {
            "color": "#2a3f5f"
           }
          },
          "ternary": {
           "aaxis": {
            "gridcolor": "white",
            "linecolor": "white",
            "ticks": ""
           },
           "baxis": {
            "gridcolor": "white",
            "linecolor": "white",
            "ticks": ""
           },
           "bgcolor": "#E5ECF6",
           "caxis": {
            "gridcolor": "white",
            "linecolor": "white",
            "ticks": ""
           }
          },
          "title": {
           "x": 0.05
          },
          "xaxis": {
           "automargin": true,
           "gridcolor": "white",
           "linecolor": "white",
           "ticks": "",
           "title": {
            "standoff": 15
           },
           "zerolinecolor": "white",
           "zerolinewidth": 2
          },
          "yaxis": {
           "automargin": true,
           "gridcolor": "white",
           "linecolor": "white",
           "ticks": "",
           "title": {
            "standoff": 15
           },
           "zerolinecolor": "white",
           "zerolinewidth": 2
          }
         }
        },
        "xaxis": {
         "anchor": "y",
         "categoryorder": "array",
         "domain": [
          0,
          0.49
         ],
         "showticklabels": true,
         "title": {
          "text": "problem"
         }
        },
        "xaxis2": {
         "anchor": "y2",
         "categoryorder": "array",
         "domain": [
          0.51,
          1
         ],
         "showticklabels": true,
         "title": {
          "text": "problem"
         }
        },
        "yaxis": {
         "anchor": "x",
         "domain": [
          0,
          1
         ],
         "range": [
          -100,
          100
         ],
         "showticklabels": true,
         "title": {
          "text": "improvement (%)"
         }
        },
        "yaxis2": {
         "anchor": "x2",
         "domain": [
          0,
          1
         ],
         "range": [
          -100,
          100
         ],
         "showticklabels": true
        }
       }
      }
     },
     "metadata": {},
     "output_type": "display_data"
    }
   ],
   "source": [
    "plot_difference(absolute=False, choices=choices, layers=layers, dimensions=dimensions)"
   ]
  },
  {
   "cell_type": "code",
   "execution_count": null,
   "metadata": {},
   "outputs": [],
   "source": []
  }
 ],
 "metadata": {
  "kernelspec": {
   "display_name": "lpp",
   "language": "python",
   "name": "python3"
  },
  "language_info": {
   "codemirror_mode": {
    "name": "ipython",
    "version": 3
   },
   "file_extension": ".py",
   "mimetype": "text/x-python",
   "name": "python",
   "nbconvert_exporter": "python",
   "pygments_lexer": "ipython3",
   "version": "3.10.4"
  }
 },
 "nbformat": 4,
 "nbformat_minor": 2
}
