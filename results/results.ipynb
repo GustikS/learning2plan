{
 "cells": [
  {
   "cell_type": "code",
   "execution_count": 1,
   "metadata": {},
   "outputs": [
    {
     "name": "stdout",
     "output_type": "stream",
     "text": [
      "this_file_dir=PosixPath('/home/dzc/code/cvut-colab/results')\n",
      "Raw logs found. Rewriting data to csv files...\n"
     ]
    },
    {
     "name": "stderr",
     "output_type": "stream",
     "text": [
      "/home/dzc/code/cvut-colab/results/baseline_logs/satellite_1_30_r2.log: 100%|██████████| 923/923 [00:00<00:00, 1646.61it/s]  \n"
     ]
    },
    {
     "name": "stdout",
     "output_type": "stream",
     "text": [
      "skipping hard problems because they take too long\n",
      "Training failure in /home/dzc/code/cvut-colab/results/train_logs/satellite_3_8_0.log\n",
      "Training failure in /home/dzc/code/cvut-colab/results/train_logs/satellite_3_8_2.log\n",
      "Training failure in /home/dzc/code/cvut-colab/results/train_logs/satellite_3_16_0.log\n",
      "Training failure in /home/dzc/code/cvut-colab/results/train_logs/satellite_3_16_1.log\n"
     ]
    }
   ],
   "source": [
    "from _results_helper import *\n",
    "import warnings\n",
    "warnings.filterwarnings(\"ignore\")\n",
    "\n",
    "choices = [\n",
    "    # \"sample\",\n",
    "    \"best\",\n",
    "]\n",
    "layers = [\n",
    "    # 1,\n",
    "    2,\n",
    "    3,\n",
    "    4,\n",
    "    # 5,\n",
    "]\n",
    "dimensions = [\n",
    "    # 1,\n",
    "    # 2,\n",
    "    # 4,\n",
    "    8,\n",
    "    16,\n",
    "    32,\n",
    "    # 64,\n",
    "    # 128,\n",
    "]"
   ]
  },
  {
   "cell_type": "markdown",
   "metadata": {},
   "source": [
    "# Train Stats"
   ]
  },
  {
   "cell_type": "code",
   "execution_count": 2,
   "metadata": {},
   "outputs": [
    {
     "name": "stdout",
     "output_type": "stream",
     "text": [
      "blocksworld\n"
     ]
    },
    {
     "data": {
      "application/vnd.plotly.v1+json": {
       "config": {
        "plotlyServerURL": "https://plot.ly"
       },
       "data": [
        {
         "hoverinfo": [
          "all"
         ],
         "mode": "markers",
         "name": "loss",
         "type": "scatter",
         "x": [
          "3_8",
          "3_8",
          "3_8",
          "3_16",
          "3_16",
          "3_16"
         ],
         "xaxis": "x",
         "y": [
          0.07301570449918858,
          0.08586619027314737,
          0.07544871635850967,
          0.16187255405774081,
          0.058814318463620965,
          0.07158613799481352
         ],
         "yaxis": "y"
        },
        {
         "hoverinfo": [
          "all"
         ],
         "mode": "markers",
         "name": "f1",
         "type": "scatter",
         "x": [
          "3_8",
          "3_8",
          "3_8",
          "3_16",
          "3_16",
          "3_16"
         ],
         "xaxis": "x2",
         "y": [
          0.9884297520661157,
          0.9867745159565814,
          0.9873777363763391,
          0.9739250085999313,
          0.9946143399053997,
          0.9887577552829221
         ],
         "yaxis": "y2"
        },
        {
         "hoverinfo": [
          "all"
         ],
         "mode": "markers",
         "name": "time",
         "type": "scatter",
         "x": [
          "3_8",
          "3_8",
          "3_8",
          "3_16",
          "3_16",
          "3_16"
         ],
         "xaxis": "x3",
         "y": [
          493.87508487701416,
          706.3105845451355,
          489.3847568035126,
          715.4554312229156,
          701.7974317073822,
          1190.7423920631409
         ],
         "yaxis": "y3"
        }
       ],
       "layout": {
        "template": {
         "data": {
          "bar": [
           {
            "error_x": {
             "color": "#2a3f5f"
            },
            "error_y": {
             "color": "#2a3f5f"
            },
            "marker": {
             "line": {
              "color": "#E5ECF6",
              "width": 0.5
             },
             "pattern": {
              "fillmode": "overlay",
              "size": 10,
              "solidity": 0.2
             }
            },
            "type": "bar"
           }
          ],
          "barpolar": [
           {
            "marker": {
             "line": {
              "color": "#E5ECF6",
              "width": 0.5
             },
             "pattern": {
              "fillmode": "overlay",
              "size": 10,
              "solidity": 0.2
             }
            },
            "type": "barpolar"
           }
          ],
          "carpet": [
           {
            "aaxis": {
             "endlinecolor": "#2a3f5f",
             "gridcolor": "white",
             "linecolor": "white",
             "minorgridcolor": "white",
             "startlinecolor": "#2a3f5f"
            },
            "baxis": {
             "endlinecolor": "#2a3f5f",
             "gridcolor": "white",
             "linecolor": "white",
             "minorgridcolor": "white",
             "startlinecolor": "#2a3f5f"
            },
            "type": "carpet"
           }
          ],
          "choropleth": [
           {
            "colorbar": {
             "outlinewidth": 0,
             "ticks": ""
            },
            "type": "choropleth"
           }
          ],
          "contour": [
           {
            "colorbar": {
             "outlinewidth": 0,
             "ticks": ""
            },
            "colorscale": [
             [
              0,
              "#0d0887"
             ],
             [
              0.1111111111111111,
              "#46039f"
             ],
             [
              0.2222222222222222,
              "#7201a8"
             ],
             [
              0.3333333333333333,
              "#9c179e"
             ],
             [
              0.4444444444444444,
              "#bd3786"
             ],
             [
              0.5555555555555556,
              "#d8576b"
             ],
             [
              0.6666666666666666,
              "#ed7953"
             ],
             [
              0.7777777777777778,
              "#fb9f3a"
             ],
             [
              0.8888888888888888,
              "#fdca26"
             ],
             [
              1,
              "#f0f921"
             ]
            ],
            "type": "contour"
           }
          ],
          "contourcarpet": [
           {
            "colorbar": {
             "outlinewidth": 0,
             "ticks": ""
            },
            "type": "contourcarpet"
           }
          ],
          "heatmap": [
           {
            "colorbar": {
             "outlinewidth": 0,
             "ticks": ""
            },
            "colorscale": [
             [
              0,
              "#0d0887"
             ],
             [
              0.1111111111111111,
              "#46039f"
             ],
             [
              0.2222222222222222,
              "#7201a8"
             ],
             [
              0.3333333333333333,
              "#9c179e"
             ],
             [
              0.4444444444444444,
              "#bd3786"
             ],
             [
              0.5555555555555556,
              "#d8576b"
             ],
             [
              0.6666666666666666,
              "#ed7953"
             ],
             [
              0.7777777777777778,
              "#fb9f3a"
             ],
             [
              0.8888888888888888,
              "#fdca26"
             ],
             [
              1,
              "#f0f921"
             ]
            ],
            "type": "heatmap"
           }
          ],
          "heatmapgl": [
           {
            "colorbar": {
             "outlinewidth": 0,
             "ticks": ""
            },
            "colorscale": [
             [
              0,
              "#0d0887"
             ],
             [
              0.1111111111111111,
              "#46039f"
             ],
             [
              0.2222222222222222,
              "#7201a8"
             ],
             [
              0.3333333333333333,
              "#9c179e"
             ],
             [
              0.4444444444444444,
              "#bd3786"
             ],
             [
              0.5555555555555556,
              "#d8576b"
             ],
             [
              0.6666666666666666,
              "#ed7953"
             ],
             [
              0.7777777777777778,
              "#fb9f3a"
             ],
             [
              0.8888888888888888,
              "#fdca26"
             ],
             [
              1,
              "#f0f921"
             ]
            ],
            "type": "heatmapgl"
           }
          ],
          "histogram": [
           {
            "marker": {
             "pattern": {
              "fillmode": "overlay",
              "size": 10,
              "solidity": 0.2
             }
            },
            "type": "histogram"
           }
          ],
          "histogram2d": [
           {
            "colorbar": {
             "outlinewidth": 0,
             "ticks": ""
            },
            "colorscale": [
             [
              0,
              "#0d0887"
             ],
             [
              0.1111111111111111,
              "#46039f"
             ],
             [
              0.2222222222222222,
              "#7201a8"
             ],
             [
              0.3333333333333333,
              "#9c179e"
             ],
             [
              0.4444444444444444,
              "#bd3786"
             ],
             [
              0.5555555555555556,
              "#d8576b"
             ],
             [
              0.6666666666666666,
              "#ed7953"
             ],
             [
              0.7777777777777778,
              "#fb9f3a"
             ],
             [
              0.8888888888888888,
              "#fdca26"
             ],
             [
              1,
              "#f0f921"
             ]
            ],
            "type": "histogram2d"
           }
          ],
          "histogram2dcontour": [
           {
            "colorbar": {
             "outlinewidth": 0,
             "ticks": ""
            },
            "colorscale": [
             [
              0,
              "#0d0887"
             ],
             [
              0.1111111111111111,
              "#46039f"
             ],
             [
              0.2222222222222222,
              "#7201a8"
             ],
             [
              0.3333333333333333,
              "#9c179e"
             ],
             [
              0.4444444444444444,
              "#bd3786"
             ],
             [
              0.5555555555555556,
              "#d8576b"
             ],
             [
              0.6666666666666666,
              "#ed7953"
             ],
             [
              0.7777777777777778,
              "#fb9f3a"
             ],
             [
              0.8888888888888888,
              "#fdca26"
             ],
             [
              1,
              "#f0f921"
             ]
            ],
            "type": "histogram2dcontour"
           }
          ],
          "mesh3d": [
           {
            "colorbar": {
             "outlinewidth": 0,
             "ticks": ""
            },
            "type": "mesh3d"
           }
          ],
          "parcoords": [
           {
            "line": {
             "colorbar": {
              "outlinewidth": 0,
              "ticks": ""
             }
            },
            "type": "parcoords"
           }
          ],
          "pie": [
           {
            "automargin": true,
            "type": "pie"
           }
          ],
          "scatter": [
           {
            "fillpattern": {
             "fillmode": "overlay",
             "size": 10,
             "solidity": 0.2
            },
            "type": "scatter"
           }
          ],
          "scatter3d": [
           {
            "line": {
             "colorbar": {
              "outlinewidth": 0,
              "ticks": ""
             }
            },
            "marker": {
             "colorbar": {
              "outlinewidth": 0,
              "ticks": ""
             }
            },
            "type": "scatter3d"
           }
          ],
          "scattercarpet": [
           {
            "marker": {
             "colorbar": {
              "outlinewidth": 0,
              "ticks": ""
             }
            },
            "type": "scattercarpet"
           }
          ],
          "scattergeo": [
           {
            "marker": {
             "colorbar": {
              "outlinewidth": 0,
              "ticks": ""
             }
            },
            "type": "scattergeo"
           }
          ],
          "scattergl": [
           {
            "marker": {
             "colorbar": {
              "outlinewidth": 0,
              "ticks": ""
             }
            },
            "type": "scattergl"
           }
          ],
          "scattermapbox": [
           {
            "marker": {
             "colorbar": {
              "outlinewidth": 0,
              "ticks": ""
             }
            },
            "type": "scattermapbox"
           }
          ],
          "scatterpolar": [
           {
            "marker": {
             "colorbar": {
              "outlinewidth": 0,
              "ticks": ""
             }
            },
            "type": "scatterpolar"
           }
          ],
          "scatterpolargl": [
           {
            "marker": {
             "colorbar": {
              "outlinewidth": 0,
              "ticks": ""
             }
            },
            "type": "scatterpolargl"
           }
          ],
          "scatterternary": [
           {
            "marker": {
             "colorbar": {
              "outlinewidth": 0,
              "ticks": ""
             }
            },
            "type": "scatterternary"
           }
          ],
          "surface": [
           {
            "colorbar": {
             "outlinewidth": 0,
             "ticks": ""
            },
            "colorscale": [
             [
              0,
              "#0d0887"
             ],
             [
              0.1111111111111111,
              "#46039f"
             ],
             [
              0.2222222222222222,
              "#7201a8"
             ],
             [
              0.3333333333333333,
              "#9c179e"
             ],
             [
              0.4444444444444444,
              "#bd3786"
             ],
             [
              0.5555555555555556,
              "#d8576b"
             ],
             [
              0.6666666666666666,
              "#ed7953"
             ],
             [
              0.7777777777777778,
              "#fb9f3a"
             ],
             [
              0.8888888888888888,
              "#fdca26"
             ],
             [
              1,
              "#f0f921"
             ]
            ],
            "type": "surface"
           }
          ],
          "table": [
           {
            "cells": {
             "fill": {
              "color": "#EBF0F8"
             },
             "line": {
              "color": "white"
             }
            },
            "header": {
             "fill": {
              "color": "#C8D4E3"
             },
             "line": {
              "color": "white"
             }
            },
            "type": "table"
           }
          ]
         },
         "layout": {
          "annotationdefaults": {
           "arrowcolor": "#2a3f5f",
           "arrowhead": 0,
           "arrowwidth": 1
          },
          "autotypenumbers": "strict",
          "coloraxis": {
           "colorbar": {
            "outlinewidth": 0,
            "ticks": ""
           }
          },
          "colorscale": {
           "diverging": [
            [
             0,
             "#8e0152"
            ],
            [
             0.1,
             "#c51b7d"
            ],
            [
             0.2,
             "#de77ae"
            ],
            [
             0.3,
             "#f1b6da"
            ],
            [
             0.4,
             "#fde0ef"
            ],
            [
             0.5,
             "#f7f7f7"
            ],
            [
             0.6,
             "#e6f5d0"
            ],
            [
             0.7,
             "#b8e186"
            ],
            [
             0.8,
             "#7fbc41"
            ],
            [
             0.9,
             "#4d9221"
            ],
            [
             1,
             "#276419"
            ]
           ],
           "sequential": [
            [
             0,
             "#0d0887"
            ],
            [
             0.1111111111111111,
             "#46039f"
            ],
            [
             0.2222222222222222,
             "#7201a8"
            ],
            [
             0.3333333333333333,
             "#9c179e"
            ],
            [
             0.4444444444444444,
             "#bd3786"
            ],
            [
             0.5555555555555556,
             "#d8576b"
            ],
            [
             0.6666666666666666,
             "#ed7953"
            ],
            [
             0.7777777777777778,
             "#fb9f3a"
            ],
            [
             0.8888888888888888,
             "#fdca26"
            ],
            [
             1,
             "#f0f921"
            ]
           ],
           "sequentialminus": [
            [
             0,
             "#0d0887"
            ],
            [
             0.1111111111111111,
             "#46039f"
            ],
            [
             0.2222222222222222,
             "#7201a8"
            ],
            [
             0.3333333333333333,
             "#9c179e"
            ],
            [
             0.4444444444444444,
             "#bd3786"
            ],
            [
             0.5555555555555556,
             "#d8576b"
            ],
            [
             0.6666666666666666,
             "#ed7953"
            ],
            [
             0.7777777777777778,
             "#fb9f3a"
            ],
            [
             0.8888888888888888,
             "#fdca26"
            ],
            [
             1,
             "#f0f921"
            ]
           ]
          },
          "colorway": [
           "#636efa",
           "#EF553B",
           "#00cc96",
           "#ab63fa",
           "#FFA15A",
           "#19d3f3",
           "#FF6692",
           "#B6E880",
           "#FF97FF",
           "#FECB52"
          ],
          "font": {
           "color": "#2a3f5f"
          },
          "geo": {
           "bgcolor": "white",
           "lakecolor": "white",
           "landcolor": "#E5ECF6",
           "showlakes": true,
           "showland": true,
           "subunitcolor": "white"
          },
          "hoverlabel": {
           "align": "left"
          },
          "hovermode": "closest",
          "mapbox": {
           "style": "light"
          },
          "paper_bgcolor": "white",
          "plot_bgcolor": "#E5ECF6",
          "polar": {
           "angularaxis": {
            "gridcolor": "white",
            "linecolor": "white",
            "ticks": ""
           },
           "bgcolor": "#E5ECF6",
           "radialaxis": {
            "gridcolor": "white",
            "linecolor": "white",
            "ticks": ""
           }
          },
          "scene": {
           "xaxis": {
            "backgroundcolor": "#E5ECF6",
            "gridcolor": "white",
            "gridwidth": 2,
            "linecolor": "white",
            "showbackground": true,
            "ticks": "",
            "zerolinecolor": "white"
           },
           "yaxis": {
            "backgroundcolor": "#E5ECF6",
            "gridcolor": "white",
            "gridwidth": 2,
            "linecolor": "white",
            "showbackground": true,
            "ticks": "",
            "zerolinecolor": "white"
           },
           "zaxis": {
            "backgroundcolor": "#E5ECF6",
            "gridcolor": "white",
            "gridwidth": 2,
            "linecolor": "white",
            "showbackground": true,
            "ticks": "",
            "zerolinecolor": "white"
           }
          },
          "shapedefaults": {
           "line": {
            "color": "#2a3f5f"
           }
          },
          "ternary": {
           "aaxis": {
            "gridcolor": "white",
            "linecolor": "white",
            "ticks": ""
           },
           "baxis": {
            "gridcolor": "white",
            "linecolor": "white",
            "ticks": ""
           },
           "bgcolor": "#E5ECF6",
           "caxis": {
            "gridcolor": "white",
            "linecolor": "white",
            "ticks": ""
           }
          },
          "title": {
           "x": 0.05
          },
          "xaxis": {
           "automargin": true,
           "gridcolor": "white",
           "linecolor": "white",
           "ticks": "",
           "title": {
            "standoff": 15
           },
           "zerolinecolor": "white",
           "zerolinewidth": 2
          },
          "yaxis": {
           "automargin": true,
           "gridcolor": "white",
           "linecolor": "white",
           "ticks": "",
           "title": {
            "standoff": 15
           },
           "zerolinecolor": "white",
           "zerolinewidth": 2
          }
         }
        },
        "xaxis": {
         "anchor": "y",
         "domain": [
          0,
          0.2888888888888889
         ]
        },
        "xaxis2": {
         "anchor": "y2",
         "domain": [
          0.35555555555555557,
          0.6444444444444445
         ]
        },
        "xaxis3": {
         "anchor": "y3",
         "domain": [
          0.7111111111111111,
          1
         ]
        },
        "yaxis": {
         "anchor": "x",
         "domain": [
          0,
          1
         ]
        },
        "yaxis2": {
         "anchor": "x2",
         "domain": [
          0,
          1
         ]
        },
        "yaxis3": {
         "anchor": "x3",
         "domain": [
          0,
          1
         ]
        }
       }
      }
     },
     "metadata": {},
     "output_type": "display_data"
    },
    {
     "name": "stdout",
     "output_type": "stream",
     "text": [
      "ferry\n"
     ]
    },
    {
     "data": {
      "application/vnd.plotly.v1+json": {
       "config": {
        "plotlyServerURL": "https://plot.ly"
       },
       "data": [
        {
         "hoverinfo": [
          "all"
         ],
         "mode": "markers",
         "name": "loss",
         "type": "scatter",
         "x": [
          "3_8",
          "3_8",
          "3_8",
          "3_16",
          "3_16",
          "3_16"
         ],
         "xaxis": "x",
         "y": [
          0.0777689633752285,
          0.07804355105625152,
          0.07802275638504702,
          0.07738448770286482,
          0.07417655745282505,
          0.07803046599881451
         ],
         "yaxis": "y"
        },
        {
         "hoverinfo": [
          "all"
         ],
         "mode": "markers",
         "name": "f1",
         "type": "scatter",
         "x": [
          "3_8",
          "3_8",
          "3_8",
          "3_16",
          "3_16",
          "3_16"
         ],
         "xaxis": "x2",
         "y": [
          1,
          1,
          1,
          0.9971527178602243,
          1,
          1
         ],
         "yaxis": "y2"
        },
        {
         "hoverinfo": [
          "all"
         ],
         "mode": "markers",
         "name": "time",
         "type": "scatter",
         "x": [
          "3_8",
          "3_8",
          "3_8",
          "3_16",
          "3_16",
          "3_16"
         ],
         "xaxis": "x3",
         "y": [
          219.93614149093628,
          216.35893321037292,
          155.82866287231445,
          429.7363028526306,
          515.2040503025055,
          311.8678765296936
         ],
         "yaxis": "y3"
        }
       ],
       "layout": {
        "template": {
         "data": {
          "bar": [
           {
            "error_x": {
             "color": "#2a3f5f"
            },
            "error_y": {
             "color": "#2a3f5f"
            },
            "marker": {
             "line": {
              "color": "#E5ECF6",
              "width": 0.5
             },
             "pattern": {
              "fillmode": "overlay",
              "size": 10,
              "solidity": 0.2
             }
            },
            "type": "bar"
           }
          ],
          "barpolar": [
           {
            "marker": {
             "line": {
              "color": "#E5ECF6",
              "width": 0.5
             },
             "pattern": {
              "fillmode": "overlay",
              "size": 10,
              "solidity": 0.2
             }
            },
            "type": "barpolar"
           }
          ],
          "carpet": [
           {
            "aaxis": {
             "endlinecolor": "#2a3f5f",
             "gridcolor": "white",
             "linecolor": "white",
             "minorgridcolor": "white",
             "startlinecolor": "#2a3f5f"
            },
            "baxis": {
             "endlinecolor": "#2a3f5f",
             "gridcolor": "white",
             "linecolor": "white",
             "minorgridcolor": "white",
             "startlinecolor": "#2a3f5f"
            },
            "type": "carpet"
           }
          ],
          "choropleth": [
           {
            "colorbar": {
             "outlinewidth": 0,
             "ticks": ""
            },
            "type": "choropleth"
           }
          ],
          "contour": [
           {
            "colorbar": {
             "outlinewidth": 0,
             "ticks": ""
            },
            "colorscale": [
             [
              0,
              "#0d0887"
             ],
             [
              0.1111111111111111,
              "#46039f"
             ],
             [
              0.2222222222222222,
              "#7201a8"
             ],
             [
              0.3333333333333333,
              "#9c179e"
             ],
             [
              0.4444444444444444,
              "#bd3786"
             ],
             [
              0.5555555555555556,
              "#d8576b"
             ],
             [
              0.6666666666666666,
              "#ed7953"
             ],
             [
              0.7777777777777778,
              "#fb9f3a"
             ],
             [
              0.8888888888888888,
              "#fdca26"
             ],
             [
              1,
              "#f0f921"
             ]
            ],
            "type": "contour"
           }
          ],
          "contourcarpet": [
           {
            "colorbar": {
             "outlinewidth": 0,
             "ticks": ""
            },
            "type": "contourcarpet"
           }
          ],
          "heatmap": [
           {
            "colorbar": {
             "outlinewidth": 0,
             "ticks": ""
            },
            "colorscale": [
             [
              0,
              "#0d0887"
             ],
             [
              0.1111111111111111,
              "#46039f"
             ],
             [
              0.2222222222222222,
              "#7201a8"
             ],
             [
              0.3333333333333333,
              "#9c179e"
             ],
             [
              0.4444444444444444,
              "#bd3786"
             ],
             [
              0.5555555555555556,
              "#d8576b"
             ],
             [
              0.6666666666666666,
              "#ed7953"
             ],
             [
              0.7777777777777778,
              "#fb9f3a"
             ],
             [
              0.8888888888888888,
              "#fdca26"
             ],
             [
              1,
              "#f0f921"
             ]
            ],
            "type": "heatmap"
           }
          ],
          "heatmapgl": [
           {
            "colorbar": {
             "outlinewidth": 0,
             "ticks": ""
            },
            "colorscale": [
             [
              0,
              "#0d0887"
             ],
             [
              0.1111111111111111,
              "#46039f"
             ],
             [
              0.2222222222222222,
              "#7201a8"
             ],
             [
              0.3333333333333333,
              "#9c179e"
             ],
             [
              0.4444444444444444,
              "#bd3786"
             ],
             [
              0.5555555555555556,
              "#d8576b"
             ],
             [
              0.6666666666666666,
              "#ed7953"
             ],
             [
              0.7777777777777778,
              "#fb9f3a"
             ],
             [
              0.8888888888888888,
              "#fdca26"
             ],
             [
              1,
              "#f0f921"
             ]
            ],
            "type": "heatmapgl"
           }
          ],
          "histogram": [
           {
            "marker": {
             "pattern": {
              "fillmode": "overlay",
              "size": 10,
              "solidity": 0.2
             }
            },
            "type": "histogram"
           }
          ],
          "histogram2d": [
           {
            "colorbar": {
             "outlinewidth": 0,
             "ticks": ""
            },
            "colorscale": [
             [
              0,
              "#0d0887"
             ],
             [
              0.1111111111111111,
              "#46039f"
             ],
             [
              0.2222222222222222,
              "#7201a8"
             ],
             [
              0.3333333333333333,
              "#9c179e"
             ],
             [
              0.4444444444444444,
              "#bd3786"
             ],
             [
              0.5555555555555556,
              "#d8576b"
             ],
             [
              0.6666666666666666,
              "#ed7953"
             ],
             [
              0.7777777777777778,
              "#fb9f3a"
             ],
             [
              0.8888888888888888,
              "#fdca26"
             ],
             [
              1,
              "#f0f921"
             ]
            ],
            "type": "histogram2d"
           }
          ],
          "histogram2dcontour": [
           {
            "colorbar": {
             "outlinewidth": 0,
             "ticks": ""
            },
            "colorscale": [
             [
              0,
              "#0d0887"
             ],
             [
              0.1111111111111111,
              "#46039f"
             ],
             [
              0.2222222222222222,
              "#7201a8"
             ],
             [
              0.3333333333333333,
              "#9c179e"
             ],
             [
              0.4444444444444444,
              "#bd3786"
             ],
             [
              0.5555555555555556,
              "#d8576b"
             ],
             [
              0.6666666666666666,
              "#ed7953"
             ],
             [
              0.7777777777777778,
              "#fb9f3a"
             ],
             [
              0.8888888888888888,
              "#fdca26"
             ],
             [
              1,
              "#f0f921"
             ]
            ],
            "type": "histogram2dcontour"
           }
          ],
          "mesh3d": [
           {
            "colorbar": {
             "outlinewidth": 0,
             "ticks": ""
            },
            "type": "mesh3d"
           }
          ],
          "parcoords": [
           {
            "line": {
             "colorbar": {
              "outlinewidth": 0,
              "ticks": ""
             }
            },
            "type": "parcoords"
           }
          ],
          "pie": [
           {
            "automargin": true,
            "type": "pie"
           }
          ],
          "scatter": [
           {
            "fillpattern": {
             "fillmode": "overlay",
             "size": 10,
             "solidity": 0.2
            },
            "type": "scatter"
           }
          ],
          "scatter3d": [
           {
            "line": {
             "colorbar": {
              "outlinewidth": 0,
              "ticks": ""
             }
            },
            "marker": {
             "colorbar": {
              "outlinewidth": 0,
              "ticks": ""
             }
            },
            "type": "scatter3d"
           }
          ],
          "scattercarpet": [
           {
            "marker": {
             "colorbar": {
              "outlinewidth": 0,
              "ticks": ""
             }
            },
            "type": "scattercarpet"
           }
          ],
          "scattergeo": [
           {
            "marker": {
             "colorbar": {
              "outlinewidth": 0,
              "ticks": ""
             }
            },
            "type": "scattergeo"
           }
          ],
          "scattergl": [
           {
            "marker": {
             "colorbar": {
              "outlinewidth": 0,
              "ticks": ""
             }
            },
            "type": "scattergl"
           }
          ],
          "scattermapbox": [
           {
            "marker": {
             "colorbar": {
              "outlinewidth": 0,
              "ticks": ""
             }
            },
            "type": "scattermapbox"
           }
          ],
          "scatterpolar": [
           {
            "marker": {
             "colorbar": {
              "outlinewidth": 0,
              "ticks": ""
             }
            },
            "type": "scatterpolar"
           }
          ],
          "scatterpolargl": [
           {
            "marker": {
             "colorbar": {
              "outlinewidth": 0,
              "ticks": ""
             }
            },
            "type": "scatterpolargl"
           }
          ],
          "scatterternary": [
           {
            "marker": {
             "colorbar": {
              "outlinewidth": 0,
              "ticks": ""
             }
            },
            "type": "scatterternary"
           }
          ],
          "surface": [
           {
            "colorbar": {
             "outlinewidth": 0,
             "ticks": ""
            },
            "colorscale": [
             [
              0,
              "#0d0887"
             ],
             [
              0.1111111111111111,
              "#46039f"
             ],
             [
              0.2222222222222222,
              "#7201a8"
             ],
             [
              0.3333333333333333,
              "#9c179e"
             ],
             [
              0.4444444444444444,
              "#bd3786"
             ],
             [
              0.5555555555555556,
              "#d8576b"
             ],
             [
              0.6666666666666666,
              "#ed7953"
             ],
             [
              0.7777777777777778,
              "#fb9f3a"
             ],
             [
              0.8888888888888888,
              "#fdca26"
             ],
             [
              1,
              "#f0f921"
             ]
            ],
            "type": "surface"
           }
          ],
          "table": [
           {
            "cells": {
             "fill": {
              "color": "#EBF0F8"
             },
             "line": {
              "color": "white"
             }
            },
            "header": {
             "fill": {
              "color": "#C8D4E3"
             },
             "line": {
              "color": "white"
             }
            },
            "type": "table"
           }
          ]
         },
         "layout": {
          "annotationdefaults": {
           "arrowcolor": "#2a3f5f",
           "arrowhead": 0,
           "arrowwidth": 1
          },
          "autotypenumbers": "strict",
          "coloraxis": {
           "colorbar": {
            "outlinewidth": 0,
            "ticks": ""
           }
          },
          "colorscale": {
           "diverging": [
            [
             0,
             "#8e0152"
            ],
            [
             0.1,
             "#c51b7d"
            ],
            [
             0.2,
             "#de77ae"
            ],
            [
             0.3,
             "#f1b6da"
            ],
            [
             0.4,
             "#fde0ef"
            ],
            [
             0.5,
             "#f7f7f7"
            ],
            [
             0.6,
             "#e6f5d0"
            ],
            [
             0.7,
             "#b8e186"
            ],
            [
             0.8,
             "#7fbc41"
            ],
            [
             0.9,
             "#4d9221"
            ],
            [
             1,
             "#276419"
            ]
           ],
           "sequential": [
            [
             0,
             "#0d0887"
            ],
            [
             0.1111111111111111,
             "#46039f"
            ],
            [
             0.2222222222222222,
             "#7201a8"
            ],
            [
             0.3333333333333333,
             "#9c179e"
            ],
            [
             0.4444444444444444,
             "#bd3786"
            ],
            [
             0.5555555555555556,
             "#d8576b"
            ],
            [
             0.6666666666666666,
             "#ed7953"
            ],
            [
             0.7777777777777778,
             "#fb9f3a"
            ],
            [
             0.8888888888888888,
             "#fdca26"
            ],
            [
             1,
             "#f0f921"
            ]
           ],
           "sequentialminus": [
            [
             0,
             "#0d0887"
            ],
            [
             0.1111111111111111,
             "#46039f"
            ],
            [
             0.2222222222222222,
             "#7201a8"
            ],
            [
             0.3333333333333333,
             "#9c179e"
            ],
            [
             0.4444444444444444,
             "#bd3786"
            ],
            [
             0.5555555555555556,
             "#d8576b"
            ],
            [
             0.6666666666666666,
             "#ed7953"
            ],
            [
             0.7777777777777778,
             "#fb9f3a"
            ],
            [
             0.8888888888888888,
             "#fdca26"
            ],
            [
             1,
             "#f0f921"
            ]
           ]
          },
          "colorway": [
           "#636efa",
           "#EF553B",
           "#00cc96",
           "#ab63fa",
           "#FFA15A",
           "#19d3f3",
           "#FF6692",
           "#B6E880",
           "#FF97FF",
           "#FECB52"
          ],
          "font": {
           "color": "#2a3f5f"
          },
          "geo": {
           "bgcolor": "white",
           "lakecolor": "white",
           "landcolor": "#E5ECF6",
           "showlakes": true,
           "showland": true,
           "subunitcolor": "white"
          },
          "hoverlabel": {
           "align": "left"
          },
          "hovermode": "closest",
          "mapbox": {
           "style": "light"
          },
          "paper_bgcolor": "white",
          "plot_bgcolor": "#E5ECF6",
          "polar": {
           "angularaxis": {
            "gridcolor": "white",
            "linecolor": "white",
            "ticks": ""
           },
           "bgcolor": "#E5ECF6",
           "radialaxis": {
            "gridcolor": "white",
            "linecolor": "white",
            "ticks": ""
           }
          },
          "scene": {
           "xaxis": {
            "backgroundcolor": "#E5ECF6",
            "gridcolor": "white",
            "gridwidth": 2,
            "linecolor": "white",
            "showbackground": true,
            "ticks": "",
            "zerolinecolor": "white"
           },
           "yaxis": {
            "backgroundcolor": "#E5ECF6",
            "gridcolor": "white",
            "gridwidth": 2,
            "linecolor": "white",
            "showbackground": true,
            "ticks": "",
            "zerolinecolor": "white"
           },
           "zaxis": {
            "backgroundcolor": "#E5ECF6",
            "gridcolor": "white",
            "gridwidth": 2,
            "linecolor": "white",
            "showbackground": true,
            "ticks": "",
            "zerolinecolor": "white"
           }
          },
          "shapedefaults": {
           "line": {
            "color": "#2a3f5f"
           }
          },
          "ternary": {
           "aaxis": {
            "gridcolor": "white",
            "linecolor": "white",
            "ticks": ""
           },
           "baxis": {
            "gridcolor": "white",
            "linecolor": "white",
            "ticks": ""
           },
           "bgcolor": "#E5ECF6",
           "caxis": {
            "gridcolor": "white",
            "linecolor": "white",
            "ticks": ""
           }
          },
          "title": {
           "x": 0.05
          },
          "xaxis": {
           "automargin": true,
           "gridcolor": "white",
           "linecolor": "white",
           "ticks": "",
           "title": {
            "standoff": 15
           },
           "zerolinecolor": "white",
           "zerolinewidth": 2
          },
          "yaxis": {
           "automargin": true,
           "gridcolor": "white",
           "linecolor": "white",
           "ticks": "",
           "title": {
            "standoff": 15
           },
           "zerolinecolor": "white",
           "zerolinewidth": 2
          }
         }
        },
        "xaxis": {
         "anchor": "y",
         "domain": [
          0,
          0.2888888888888889
         ]
        },
        "xaxis2": {
         "anchor": "y2",
         "domain": [
          0.35555555555555557,
          0.6444444444444445
         ]
        },
        "xaxis3": {
         "anchor": "y3",
         "domain": [
          0.7111111111111111,
          1
         ]
        },
        "yaxis": {
         "anchor": "x",
         "domain": [
          0,
          1
         ]
        },
        "yaxis2": {
         "anchor": "x2",
         "domain": [
          0,
          1
         ]
        },
        "yaxis3": {
         "anchor": "x3",
         "domain": [
          0,
          1
         ]
        }
       }
      }
     },
     "metadata": {},
     "output_type": "display_data"
    },
    {
     "name": "stdout",
     "output_type": "stream",
     "text": [
      "satellite\n"
     ]
    },
    {
     "data": {
      "application/vnd.plotly.v1+json": {
       "config": {
        "plotlyServerURL": "https://plot.ly"
       },
       "data": [
        {
         "hoverinfo": [
          "all"
         ],
         "mode": "markers",
         "name": "loss",
         "type": "scatter",
         "x": [
          "3_8",
          "3_16"
         ],
         "xaxis": "x",
         "y": [
          0.19546613598740703,
          0.3549129857094072
         ],
         "yaxis": "y"
        },
        {
         "hoverinfo": [
          "all"
         ],
         "mode": "markers",
         "name": "f1",
         "type": "scatter",
         "x": [
          "3_8",
          "3_16"
         ],
         "xaxis": "x2",
         "y": [
          0.9458552189881916,
          0.9070102035753858
         ],
         "yaxis": "y2"
        },
        {
         "hoverinfo": [
          "all"
         ],
         "mode": "markers",
         "name": "time",
         "type": "scatter",
         "x": [
          "3_8",
          "3_16"
         ],
         "xaxis": "x3",
         "y": [
          897.9620935916901,
          1912.2434272766113
         ],
         "yaxis": "y3"
        }
       ],
       "layout": {
        "template": {
         "data": {
          "bar": [
           {
            "error_x": {
             "color": "#2a3f5f"
            },
            "error_y": {
             "color": "#2a3f5f"
            },
            "marker": {
             "line": {
              "color": "#E5ECF6",
              "width": 0.5
             },
             "pattern": {
              "fillmode": "overlay",
              "size": 10,
              "solidity": 0.2
             }
            },
            "type": "bar"
           }
          ],
          "barpolar": [
           {
            "marker": {
             "line": {
              "color": "#E5ECF6",
              "width": 0.5
             },
             "pattern": {
              "fillmode": "overlay",
              "size": 10,
              "solidity": 0.2
             }
            },
            "type": "barpolar"
           }
          ],
          "carpet": [
           {
            "aaxis": {
             "endlinecolor": "#2a3f5f",
             "gridcolor": "white",
             "linecolor": "white",
             "minorgridcolor": "white",
             "startlinecolor": "#2a3f5f"
            },
            "baxis": {
             "endlinecolor": "#2a3f5f",
             "gridcolor": "white",
             "linecolor": "white",
             "minorgridcolor": "white",
             "startlinecolor": "#2a3f5f"
            },
            "type": "carpet"
           }
          ],
          "choropleth": [
           {
            "colorbar": {
             "outlinewidth": 0,
             "ticks": ""
            },
            "type": "choropleth"
           }
          ],
          "contour": [
           {
            "colorbar": {
             "outlinewidth": 0,
             "ticks": ""
            },
            "colorscale": [
             [
              0,
              "#0d0887"
             ],
             [
              0.1111111111111111,
              "#46039f"
             ],
             [
              0.2222222222222222,
              "#7201a8"
             ],
             [
              0.3333333333333333,
              "#9c179e"
             ],
             [
              0.4444444444444444,
              "#bd3786"
             ],
             [
              0.5555555555555556,
              "#d8576b"
             ],
             [
              0.6666666666666666,
              "#ed7953"
             ],
             [
              0.7777777777777778,
              "#fb9f3a"
             ],
             [
              0.8888888888888888,
              "#fdca26"
             ],
             [
              1,
              "#f0f921"
             ]
            ],
            "type": "contour"
           }
          ],
          "contourcarpet": [
           {
            "colorbar": {
             "outlinewidth": 0,
             "ticks": ""
            },
            "type": "contourcarpet"
           }
          ],
          "heatmap": [
           {
            "colorbar": {
             "outlinewidth": 0,
             "ticks": ""
            },
            "colorscale": [
             [
              0,
              "#0d0887"
             ],
             [
              0.1111111111111111,
              "#46039f"
             ],
             [
              0.2222222222222222,
              "#7201a8"
             ],
             [
              0.3333333333333333,
              "#9c179e"
             ],
             [
              0.4444444444444444,
              "#bd3786"
             ],
             [
              0.5555555555555556,
              "#d8576b"
             ],
             [
              0.6666666666666666,
              "#ed7953"
             ],
             [
              0.7777777777777778,
              "#fb9f3a"
             ],
             [
              0.8888888888888888,
              "#fdca26"
             ],
             [
              1,
              "#f0f921"
             ]
            ],
            "type": "heatmap"
           }
          ],
          "heatmapgl": [
           {
            "colorbar": {
             "outlinewidth": 0,
             "ticks": ""
            },
            "colorscale": [
             [
              0,
              "#0d0887"
             ],
             [
              0.1111111111111111,
              "#46039f"
             ],
             [
              0.2222222222222222,
              "#7201a8"
             ],
             [
              0.3333333333333333,
              "#9c179e"
             ],
             [
              0.4444444444444444,
              "#bd3786"
             ],
             [
              0.5555555555555556,
              "#d8576b"
             ],
             [
              0.6666666666666666,
              "#ed7953"
             ],
             [
              0.7777777777777778,
              "#fb9f3a"
             ],
             [
              0.8888888888888888,
              "#fdca26"
             ],
             [
              1,
              "#f0f921"
             ]
            ],
            "type": "heatmapgl"
           }
          ],
          "histogram": [
           {
            "marker": {
             "pattern": {
              "fillmode": "overlay",
              "size": 10,
              "solidity": 0.2
             }
            },
            "type": "histogram"
           }
          ],
          "histogram2d": [
           {
            "colorbar": {
             "outlinewidth": 0,
             "ticks": ""
            },
            "colorscale": [
             [
              0,
              "#0d0887"
             ],
             [
              0.1111111111111111,
              "#46039f"
             ],
             [
              0.2222222222222222,
              "#7201a8"
             ],
             [
              0.3333333333333333,
              "#9c179e"
             ],
             [
              0.4444444444444444,
              "#bd3786"
             ],
             [
              0.5555555555555556,
              "#d8576b"
             ],
             [
              0.6666666666666666,
              "#ed7953"
             ],
             [
              0.7777777777777778,
              "#fb9f3a"
             ],
             [
              0.8888888888888888,
              "#fdca26"
             ],
             [
              1,
              "#f0f921"
             ]
            ],
            "type": "histogram2d"
           }
          ],
          "histogram2dcontour": [
           {
            "colorbar": {
             "outlinewidth": 0,
             "ticks": ""
            },
            "colorscale": [
             [
              0,
              "#0d0887"
             ],
             [
              0.1111111111111111,
              "#46039f"
             ],
             [
              0.2222222222222222,
              "#7201a8"
             ],
             [
              0.3333333333333333,
              "#9c179e"
             ],
             [
              0.4444444444444444,
              "#bd3786"
             ],
             [
              0.5555555555555556,
              "#d8576b"
             ],
             [
              0.6666666666666666,
              "#ed7953"
             ],
             [
              0.7777777777777778,
              "#fb9f3a"
             ],
             [
              0.8888888888888888,
              "#fdca26"
             ],
             [
              1,
              "#f0f921"
             ]
            ],
            "type": "histogram2dcontour"
           }
          ],
          "mesh3d": [
           {
            "colorbar": {
             "outlinewidth": 0,
             "ticks": ""
            },
            "type": "mesh3d"
           }
          ],
          "parcoords": [
           {
            "line": {
             "colorbar": {
              "outlinewidth": 0,
              "ticks": ""
             }
            },
            "type": "parcoords"
           }
          ],
          "pie": [
           {
            "automargin": true,
            "type": "pie"
           }
          ],
          "scatter": [
           {
            "fillpattern": {
             "fillmode": "overlay",
             "size": 10,
             "solidity": 0.2
            },
            "type": "scatter"
           }
          ],
          "scatter3d": [
           {
            "line": {
             "colorbar": {
              "outlinewidth": 0,
              "ticks": ""
             }
            },
            "marker": {
             "colorbar": {
              "outlinewidth": 0,
              "ticks": ""
             }
            },
            "type": "scatter3d"
           }
          ],
          "scattercarpet": [
           {
            "marker": {
             "colorbar": {
              "outlinewidth": 0,
              "ticks": ""
             }
            },
            "type": "scattercarpet"
           }
          ],
          "scattergeo": [
           {
            "marker": {
             "colorbar": {
              "outlinewidth": 0,
              "ticks": ""
             }
            },
            "type": "scattergeo"
           }
          ],
          "scattergl": [
           {
            "marker": {
             "colorbar": {
              "outlinewidth": 0,
              "ticks": ""
             }
            },
            "type": "scattergl"
           }
          ],
          "scattermapbox": [
           {
            "marker": {
             "colorbar": {
              "outlinewidth": 0,
              "ticks": ""
             }
            },
            "type": "scattermapbox"
           }
          ],
          "scatterpolar": [
           {
            "marker": {
             "colorbar": {
              "outlinewidth": 0,
              "ticks": ""
             }
            },
            "type": "scatterpolar"
           }
          ],
          "scatterpolargl": [
           {
            "marker": {
             "colorbar": {
              "outlinewidth": 0,
              "ticks": ""
             }
            },
            "type": "scatterpolargl"
           }
          ],
          "scatterternary": [
           {
            "marker": {
             "colorbar": {
              "outlinewidth": 0,
              "ticks": ""
             }
            },
            "type": "scatterternary"
           }
          ],
          "surface": [
           {
            "colorbar": {
             "outlinewidth": 0,
             "ticks": ""
            },
            "colorscale": [
             [
              0,
              "#0d0887"
             ],
             [
              0.1111111111111111,
              "#46039f"
             ],
             [
              0.2222222222222222,
              "#7201a8"
             ],
             [
              0.3333333333333333,
              "#9c179e"
             ],
             [
              0.4444444444444444,
              "#bd3786"
             ],
             [
              0.5555555555555556,
              "#d8576b"
             ],
             [
              0.6666666666666666,
              "#ed7953"
             ],
             [
              0.7777777777777778,
              "#fb9f3a"
             ],
             [
              0.8888888888888888,
              "#fdca26"
             ],
             [
              1,
              "#f0f921"
             ]
            ],
            "type": "surface"
           }
          ],
          "table": [
           {
            "cells": {
             "fill": {
              "color": "#EBF0F8"
             },
             "line": {
              "color": "white"
             }
            },
            "header": {
             "fill": {
              "color": "#C8D4E3"
             },
             "line": {
              "color": "white"
             }
            },
            "type": "table"
           }
          ]
         },
         "layout": {
          "annotationdefaults": {
           "arrowcolor": "#2a3f5f",
           "arrowhead": 0,
           "arrowwidth": 1
          },
          "autotypenumbers": "strict",
          "coloraxis": {
           "colorbar": {
            "outlinewidth": 0,
            "ticks": ""
           }
          },
          "colorscale": {
           "diverging": [
            [
             0,
             "#8e0152"
            ],
            [
             0.1,
             "#c51b7d"
            ],
            [
             0.2,
             "#de77ae"
            ],
            [
             0.3,
             "#f1b6da"
            ],
            [
             0.4,
             "#fde0ef"
            ],
            [
             0.5,
             "#f7f7f7"
            ],
            [
             0.6,
             "#e6f5d0"
            ],
            [
             0.7,
             "#b8e186"
            ],
            [
             0.8,
             "#7fbc41"
            ],
            [
             0.9,
             "#4d9221"
            ],
            [
             1,
             "#276419"
            ]
           ],
           "sequential": [
            [
             0,
             "#0d0887"
            ],
            [
             0.1111111111111111,
             "#46039f"
            ],
            [
             0.2222222222222222,
             "#7201a8"
            ],
            [
             0.3333333333333333,
             "#9c179e"
            ],
            [
             0.4444444444444444,
             "#bd3786"
            ],
            [
             0.5555555555555556,
             "#d8576b"
            ],
            [
             0.6666666666666666,
             "#ed7953"
            ],
            [
             0.7777777777777778,
             "#fb9f3a"
            ],
            [
             0.8888888888888888,
             "#fdca26"
            ],
            [
             1,
             "#f0f921"
            ]
           ],
           "sequentialminus": [
            [
             0,
             "#0d0887"
            ],
            [
             0.1111111111111111,
             "#46039f"
            ],
            [
             0.2222222222222222,
             "#7201a8"
            ],
            [
             0.3333333333333333,
             "#9c179e"
            ],
            [
             0.4444444444444444,
             "#bd3786"
            ],
            [
             0.5555555555555556,
             "#d8576b"
            ],
            [
             0.6666666666666666,
             "#ed7953"
            ],
            [
             0.7777777777777778,
             "#fb9f3a"
            ],
            [
             0.8888888888888888,
             "#fdca26"
            ],
            [
             1,
             "#f0f921"
            ]
           ]
          },
          "colorway": [
           "#636efa",
           "#EF553B",
           "#00cc96",
           "#ab63fa",
           "#FFA15A",
           "#19d3f3",
           "#FF6692",
           "#B6E880",
           "#FF97FF",
           "#FECB52"
          ],
          "font": {
           "color": "#2a3f5f"
          },
          "geo": {
           "bgcolor": "white",
           "lakecolor": "white",
           "landcolor": "#E5ECF6",
           "showlakes": true,
           "showland": true,
           "subunitcolor": "white"
          },
          "hoverlabel": {
           "align": "left"
          },
          "hovermode": "closest",
          "mapbox": {
           "style": "light"
          },
          "paper_bgcolor": "white",
          "plot_bgcolor": "#E5ECF6",
          "polar": {
           "angularaxis": {
            "gridcolor": "white",
            "linecolor": "white",
            "ticks": ""
           },
           "bgcolor": "#E5ECF6",
           "radialaxis": {
            "gridcolor": "white",
            "linecolor": "white",
            "ticks": ""
           }
          },
          "scene": {
           "xaxis": {
            "backgroundcolor": "#E5ECF6",
            "gridcolor": "white",
            "gridwidth": 2,
            "linecolor": "white",
            "showbackground": true,
            "ticks": "",
            "zerolinecolor": "white"
           },
           "yaxis": {
            "backgroundcolor": "#E5ECF6",
            "gridcolor": "white",
            "gridwidth": 2,
            "linecolor": "white",
            "showbackground": true,
            "ticks": "",
            "zerolinecolor": "white"
           },
           "zaxis": {
            "backgroundcolor": "#E5ECF6",
            "gridcolor": "white",
            "gridwidth": 2,
            "linecolor": "white",
            "showbackground": true,
            "ticks": "",
            "zerolinecolor": "white"
           }
          },
          "shapedefaults": {
           "line": {
            "color": "#2a3f5f"
           }
          },
          "ternary": {
           "aaxis": {
            "gridcolor": "white",
            "linecolor": "white",
            "ticks": ""
           },
           "baxis": {
            "gridcolor": "white",
            "linecolor": "white",
            "ticks": ""
           },
           "bgcolor": "#E5ECF6",
           "caxis": {
            "gridcolor": "white",
            "linecolor": "white",
            "ticks": ""
           }
          },
          "title": {
           "x": 0.05
          },
          "xaxis": {
           "automargin": true,
           "gridcolor": "white",
           "linecolor": "white",
           "ticks": "",
           "title": {
            "standoff": 15
           },
           "zerolinecolor": "white",
           "zerolinewidth": 2
          },
          "yaxis": {
           "automargin": true,
           "gridcolor": "white",
           "linecolor": "white",
           "ticks": "",
           "title": {
            "standoff": 15
           },
           "zerolinecolor": "white",
           "zerolinewidth": 2
          }
         }
        },
        "xaxis": {
         "anchor": "y",
         "domain": [
          0,
          0.2888888888888889
         ]
        },
        "xaxis2": {
         "anchor": "y2",
         "domain": [
          0.35555555555555557,
          0.6444444444444445
         ]
        },
        "xaxis3": {
         "anchor": "y3",
         "domain": [
          0.7111111111111111,
          1
         ]
        },
        "yaxis": {
         "anchor": "x",
         "domain": [
          0,
          1
         ]
        },
        "yaxis2": {
         "anchor": "x2",
         "domain": [
          0,
          1
         ]
        },
        "yaxis3": {
         "anchor": "x3",
         "domain": [
          0,
          1
         ]
        }
       }
      }
     },
     "metadata": {},
     "output_type": "display_data"
    },
    {
     "name": "stdout",
     "output_type": "stream",
     "text": [
      "rover\n"
     ]
    },
    {
     "data": {
      "application/vnd.plotly.v1+json": {
       "config": {
        "plotlyServerURL": "https://plot.ly"
       },
       "data": [
        {
         "hoverinfo": [
          "all"
         ],
         "mode": "markers",
         "name": "loss",
         "type": "scatter",
         "x": [
          "3_8",
          "3_8",
          "3_8",
          "3_16",
          "3_16",
          "3_16"
         ],
         "xaxis": "x",
         "y": [
          0.13237458253543594,
          0.15589543939769857,
          0.15708074019693932,
          0.4423306888309078,
          0.26003370338992043,
          0.6795422082519315
         ],
         "yaxis": "y"
        },
        {
         "hoverinfo": [
          "all"
         ],
         "mode": "markers",
         "name": "f1",
         "type": "scatter",
         "x": [
          "3_8",
          "3_8",
          "3_8",
          "3_16",
          "3_16",
          "3_16"
         ],
         "xaxis": "x2",
         "y": [
          0.9925617069466965,
          0.9696786236819535,
          0.9738914004165186,
          0.9230991825218838,
          0.9410179127153324,
          0.929069710717596
         ],
         "yaxis": "y2"
        },
        {
         "hoverinfo": [
          "all"
         ],
         "mode": "markers",
         "name": "time",
         "type": "scatter",
         "x": [
          "3_8",
          "3_8",
          "3_8",
          "3_16",
          "3_16",
          "3_16"
         ],
         "xaxis": "x3",
         "y": [
          1595.137635231018,
          1130.3743259906769,
          1040.3889808654785,
          4268.634036540985,
          4256.4997301101685,
          2745.733003616333
         ],
         "yaxis": "y3"
        }
       ],
       "layout": {
        "template": {
         "data": {
          "bar": [
           {
            "error_x": {
             "color": "#2a3f5f"
            },
            "error_y": {
             "color": "#2a3f5f"
            },
            "marker": {
             "line": {
              "color": "#E5ECF6",
              "width": 0.5
             },
             "pattern": {
              "fillmode": "overlay",
              "size": 10,
              "solidity": 0.2
             }
            },
            "type": "bar"
           }
          ],
          "barpolar": [
           {
            "marker": {
             "line": {
              "color": "#E5ECF6",
              "width": 0.5
             },
             "pattern": {
              "fillmode": "overlay",
              "size": 10,
              "solidity": 0.2
             }
            },
            "type": "barpolar"
           }
          ],
          "carpet": [
           {
            "aaxis": {
             "endlinecolor": "#2a3f5f",
             "gridcolor": "white",
             "linecolor": "white",
             "minorgridcolor": "white",
             "startlinecolor": "#2a3f5f"
            },
            "baxis": {
             "endlinecolor": "#2a3f5f",
             "gridcolor": "white",
             "linecolor": "white",
             "minorgridcolor": "white",
             "startlinecolor": "#2a3f5f"
            },
            "type": "carpet"
           }
          ],
          "choropleth": [
           {
            "colorbar": {
             "outlinewidth": 0,
             "ticks": ""
            },
            "type": "choropleth"
           }
          ],
          "contour": [
           {
            "colorbar": {
             "outlinewidth": 0,
             "ticks": ""
            },
            "colorscale": [
             [
              0,
              "#0d0887"
             ],
             [
              0.1111111111111111,
              "#46039f"
             ],
             [
              0.2222222222222222,
              "#7201a8"
             ],
             [
              0.3333333333333333,
              "#9c179e"
             ],
             [
              0.4444444444444444,
              "#bd3786"
             ],
             [
              0.5555555555555556,
              "#d8576b"
             ],
             [
              0.6666666666666666,
              "#ed7953"
             ],
             [
              0.7777777777777778,
              "#fb9f3a"
             ],
             [
              0.8888888888888888,
              "#fdca26"
             ],
             [
              1,
              "#f0f921"
             ]
            ],
            "type": "contour"
           }
          ],
          "contourcarpet": [
           {
            "colorbar": {
             "outlinewidth": 0,
             "ticks": ""
            },
            "type": "contourcarpet"
           }
          ],
          "heatmap": [
           {
            "colorbar": {
             "outlinewidth": 0,
             "ticks": ""
            },
            "colorscale": [
             [
              0,
              "#0d0887"
             ],
             [
              0.1111111111111111,
              "#46039f"
             ],
             [
              0.2222222222222222,
              "#7201a8"
             ],
             [
              0.3333333333333333,
              "#9c179e"
             ],
             [
              0.4444444444444444,
              "#bd3786"
             ],
             [
              0.5555555555555556,
              "#d8576b"
             ],
             [
              0.6666666666666666,
              "#ed7953"
             ],
             [
              0.7777777777777778,
              "#fb9f3a"
             ],
             [
              0.8888888888888888,
              "#fdca26"
             ],
             [
              1,
              "#f0f921"
             ]
            ],
            "type": "heatmap"
           }
          ],
          "heatmapgl": [
           {
            "colorbar": {
             "outlinewidth": 0,
             "ticks": ""
            },
            "colorscale": [
             [
              0,
              "#0d0887"
             ],
             [
              0.1111111111111111,
              "#46039f"
             ],
             [
              0.2222222222222222,
              "#7201a8"
             ],
             [
              0.3333333333333333,
              "#9c179e"
             ],
             [
              0.4444444444444444,
              "#bd3786"
             ],
             [
              0.5555555555555556,
              "#d8576b"
             ],
             [
              0.6666666666666666,
              "#ed7953"
             ],
             [
              0.7777777777777778,
              "#fb9f3a"
             ],
             [
              0.8888888888888888,
              "#fdca26"
             ],
             [
              1,
              "#f0f921"
             ]
            ],
            "type": "heatmapgl"
           }
          ],
          "histogram": [
           {
            "marker": {
             "pattern": {
              "fillmode": "overlay",
              "size": 10,
              "solidity": 0.2
             }
            },
            "type": "histogram"
           }
          ],
          "histogram2d": [
           {
            "colorbar": {
             "outlinewidth": 0,
             "ticks": ""
            },
            "colorscale": [
             [
              0,
              "#0d0887"
             ],
             [
              0.1111111111111111,
              "#46039f"
             ],
             [
              0.2222222222222222,
              "#7201a8"
             ],
             [
              0.3333333333333333,
              "#9c179e"
             ],
             [
              0.4444444444444444,
              "#bd3786"
             ],
             [
              0.5555555555555556,
              "#d8576b"
             ],
             [
              0.6666666666666666,
              "#ed7953"
             ],
             [
              0.7777777777777778,
              "#fb9f3a"
             ],
             [
              0.8888888888888888,
              "#fdca26"
             ],
             [
              1,
              "#f0f921"
             ]
            ],
            "type": "histogram2d"
           }
          ],
          "histogram2dcontour": [
           {
            "colorbar": {
             "outlinewidth": 0,
             "ticks": ""
            },
            "colorscale": [
             [
              0,
              "#0d0887"
             ],
             [
              0.1111111111111111,
              "#46039f"
             ],
             [
              0.2222222222222222,
              "#7201a8"
             ],
             [
              0.3333333333333333,
              "#9c179e"
             ],
             [
              0.4444444444444444,
              "#bd3786"
             ],
             [
              0.5555555555555556,
              "#d8576b"
             ],
             [
              0.6666666666666666,
              "#ed7953"
             ],
             [
              0.7777777777777778,
              "#fb9f3a"
             ],
             [
              0.8888888888888888,
              "#fdca26"
             ],
             [
              1,
              "#f0f921"
             ]
            ],
            "type": "histogram2dcontour"
           }
          ],
          "mesh3d": [
           {
            "colorbar": {
             "outlinewidth": 0,
             "ticks": ""
            },
            "type": "mesh3d"
           }
          ],
          "parcoords": [
           {
            "line": {
             "colorbar": {
              "outlinewidth": 0,
              "ticks": ""
             }
            },
            "type": "parcoords"
           }
          ],
          "pie": [
           {
            "automargin": true,
            "type": "pie"
           }
          ],
          "scatter": [
           {
            "fillpattern": {
             "fillmode": "overlay",
             "size": 10,
             "solidity": 0.2
            },
            "type": "scatter"
           }
          ],
          "scatter3d": [
           {
            "line": {
             "colorbar": {
              "outlinewidth": 0,
              "ticks": ""
             }
            },
            "marker": {
             "colorbar": {
              "outlinewidth": 0,
              "ticks": ""
             }
            },
            "type": "scatter3d"
           }
          ],
          "scattercarpet": [
           {
            "marker": {
             "colorbar": {
              "outlinewidth": 0,
              "ticks": ""
             }
            },
            "type": "scattercarpet"
           }
          ],
          "scattergeo": [
           {
            "marker": {
             "colorbar": {
              "outlinewidth": 0,
              "ticks": ""
             }
            },
            "type": "scattergeo"
           }
          ],
          "scattergl": [
           {
            "marker": {
             "colorbar": {
              "outlinewidth": 0,
              "ticks": ""
             }
            },
            "type": "scattergl"
           }
          ],
          "scattermapbox": [
           {
            "marker": {
             "colorbar": {
              "outlinewidth": 0,
              "ticks": ""
             }
            },
            "type": "scattermapbox"
           }
          ],
          "scatterpolar": [
           {
            "marker": {
             "colorbar": {
              "outlinewidth": 0,
              "ticks": ""
             }
            },
            "type": "scatterpolar"
           }
          ],
          "scatterpolargl": [
           {
            "marker": {
             "colorbar": {
              "outlinewidth": 0,
              "ticks": ""
             }
            },
            "type": "scatterpolargl"
           }
          ],
          "scatterternary": [
           {
            "marker": {
             "colorbar": {
              "outlinewidth": 0,
              "ticks": ""
             }
            },
            "type": "scatterternary"
           }
          ],
          "surface": [
           {
            "colorbar": {
             "outlinewidth": 0,
             "ticks": ""
            },
            "colorscale": [
             [
              0,
              "#0d0887"
             ],
             [
              0.1111111111111111,
              "#46039f"
             ],
             [
              0.2222222222222222,
              "#7201a8"
             ],
             [
              0.3333333333333333,
              "#9c179e"
             ],
             [
              0.4444444444444444,
              "#bd3786"
             ],
             [
              0.5555555555555556,
              "#d8576b"
             ],
             [
              0.6666666666666666,
              "#ed7953"
             ],
             [
              0.7777777777777778,
              "#fb9f3a"
             ],
             [
              0.8888888888888888,
              "#fdca26"
             ],
             [
              1,
              "#f0f921"
             ]
            ],
            "type": "surface"
           }
          ],
          "table": [
           {
            "cells": {
             "fill": {
              "color": "#EBF0F8"
             },
             "line": {
              "color": "white"
             }
            },
            "header": {
             "fill": {
              "color": "#C8D4E3"
             },
             "line": {
              "color": "white"
             }
            },
            "type": "table"
           }
          ]
         },
         "layout": {
          "annotationdefaults": {
           "arrowcolor": "#2a3f5f",
           "arrowhead": 0,
           "arrowwidth": 1
          },
          "autotypenumbers": "strict",
          "coloraxis": {
           "colorbar": {
            "outlinewidth": 0,
            "ticks": ""
           }
          },
          "colorscale": {
           "diverging": [
            [
             0,
             "#8e0152"
            ],
            [
             0.1,
             "#c51b7d"
            ],
            [
             0.2,
             "#de77ae"
            ],
            [
             0.3,
             "#f1b6da"
            ],
            [
             0.4,
             "#fde0ef"
            ],
            [
             0.5,
             "#f7f7f7"
            ],
            [
             0.6,
             "#e6f5d0"
            ],
            [
             0.7,
             "#b8e186"
            ],
            [
             0.8,
             "#7fbc41"
            ],
            [
             0.9,
             "#4d9221"
            ],
            [
             1,
             "#276419"
            ]
           ],
           "sequential": [
            [
             0,
             "#0d0887"
            ],
            [
             0.1111111111111111,
             "#46039f"
            ],
            [
             0.2222222222222222,
             "#7201a8"
            ],
            [
             0.3333333333333333,
             "#9c179e"
            ],
            [
             0.4444444444444444,
             "#bd3786"
            ],
            [
             0.5555555555555556,
             "#d8576b"
            ],
            [
             0.6666666666666666,
             "#ed7953"
            ],
            [
             0.7777777777777778,
             "#fb9f3a"
            ],
            [
             0.8888888888888888,
             "#fdca26"
            ],
            [
             1,
             "#f0f921"
            ]
           ],
           "sequentialminus": [
            [
             0,
             "#0d0887"
            ],
            [
             0.1111111111111111,
             "#46039f"
            ],
            [
             0.2222222222222222,
             "#7201a8"
            ],
            [
             0.3333333333333333,
             "#9c179e"
            ],
            [
             0.4444444444444444,
             "#bd3786"
            ],
            [
             0.5555555555555556,
             "#d8576b"
            ],
            [
             0.6666666666666666,
             "#ed7953"
            ],
            [
             0.7777777777777778,
             "#fb9f3a"
            ],
            [
             0.8888888888888888,
             "#fdca26"
            ],
            [
             1,
             "#f0f921"
            ]
           ]
          },
          "colorway": [
           "#636efa",
           "#EF553B",
           "#00cc96",
           "#ab63fa",
           "#FFA15A",
           "#19d3f3",
           "#FF6692",
           "#B6E880",
           "#FF97FF",
           "#FECB52"
          ],
          "font": {
           "color": "#2a3f5f"
          },
          "geo": {
           "bgcolor": "white",
           "lakecolor": "white",
           "landcolor": "#E5ECF6",
           "showlakes": true,
           "showland": true,
           "subunitcolor": "white"
          },
          "hoverlabel": {
           "align": "left"
          },
          "hovermode": "closest",
          "mapbox": {
           "style": "light"
          },
          "paper_bgcolor": "white",
          "plot_bgcolor": "#E5ECF6",
          "polar": {
           "angularaxis": {
            "gridcolor": "white",
            "linecolor": "white",
            "ticks": ""
           },
           "bgcolor": "#E5ECF6",
           "radialaxis": {
            "gridcolor": "white",
            "linecolor": "white",
            "ticks": ""
           }
          },
          "scene": {
           "xaxis": {
            "backgroundcolor": "#E5ECF6",
            "gridcolor": "white",
            "gridwidth": 2,
            "linecolor": "white",
            "showbackground": true,
            "ticks": "",
            "zerolinecolor": "white"
           },
           "yaxis": {
            "backgroundcolor": "#E5ECF6",
            "gridcolor": "white",
            "gridwidth": 2,
            "linecolor": "white",
            "showbackground": true,
            "ticks": "",
            "zerolinecolor": "white"
           },
           "zaxis": {
            "backgroundcolor": "#E5ECF6",
            "gridcolor": "white",
            "gridwidth": 2,
            "linecolor": "white",
            "showbackground": true,
            "ticks": "",
            "zerolinecolor": "white"
           }
          },
          "shapedefaults": {
           "line": {
            "color": "#2a3f5f"
           }
          },
          "ternary": {
           "aaxis": {
            "gridcolor": "white",
            "linecolor": "white",
            "ticks": ""
           },
           "baxis": {
            "gridcolor": "white",
            "linecolor": "white",
            "ticks": ""
           },
           "bgcolor": "#E5ECF6",
           "caxis": {
            "gridcolor": "white",
            "linecolor": "white",
            "ticks": ""
           }
          },
          "title": {
           "x": 0.05
          },
          "xaxis": {
           "automargin": true,
           "gridcolor": "white",
           "linecolor": "white",
           "ticks": "",
           "title": {
            "standoff": 15
           },
           "zerolinecolor": "white",
           "zerolinewidth": 2
          },
          "yaxis": {
           "automargin": true,
           "gridcolor": "white",
           "linecolor": "white",
           "ticks": "",
           "title": {
            "standoff": 15
           },
           "zerolinecolor": "white",
           "zerolinewidth": 2
          }
         }
        },
        "xaxis": {
         "anchor": "y",
         "domain": [
          0,
          0.2888888888888889
         ]
        },
        "xaxis2": {
         "anchor": "y2",
         "domain": [
          0.35555555555555557,
          0.6444444444444445
         ]
        },
        "xaxis3": {
         "anchor": "y3",
         "domain": [
          0.7111111111111111,
          1
         ]
        },
        "yaxis": {
         "anchor": "x",
         "domain": [
          0,
          1
         ]
        },
        "yaxis2": {
         "anchor": "x2",
         "domain": [
          0,
          1
         ]
        },
        "yaxis3": {
         "anchor": "x3",
         "domain": [
          0,
          1
         ]
        }
       }
      }
     },
     "metadata": {},
     "output_type": "display_data"
    }
   ],
   "source": [
    "visualise_train()"
   ]
  },
  {
   "cell_type": "markdown",
   "metadata": {},
   "source": [
    "# Plan length plots"
   ]
  },
  {
   "cell_type": "code",
   "execution_count": 3,
   "metadata": {},
   "outputs": [
    {
     "name": "stdout",
     "output_type": "stream",
     "text": [
      "blocksworld\n"
     ]
    },
    {
     "data": {
      "application/vnd.plotly.v1+json": {
       "config": {
        "plotlyServerURL": "https://plot.ly"
       },
       "data": [
        {
         "error_y": {
          "array": [
           0,
           0,
           0,
           0,
           0,
           1.0954451150103321,
           0,
           0,
           0,
           0,
           0,
           0.8944271909999153,
           1.0954451150103328,
           2.6076809620810604,
           0.8944271909999153,
           0.8944271909999153,
           0,
           1.0954451150103328,
           0.8944271909999157,
           0,
           0.8944271909999163,
           0,
           0,
           1.6733200530681502,
           1.7888543819998322,
           1.7888543819998315,
           1.0954451150103304,
           0,
           0.8944271909999163,
           2.2803508501982757
          ]
         },
         "hovertemplate": "solver=baseline<br>type=bounds<br>difficulty=0<br>problem=%{x}<br>plan_length_mean=%{y}<extra></extra>",
         "legendgroup": "baseline, bounds",
         "line": {
          "color": "#636efa",
          "dash": "solid"
         },
         "marker": {
          "symbol": "circle"
         },
         "mode": "lines",
         "name": "baseline, bounds",
         "orientation": "v",
         "showlegend": true,
         "type": "scatter",
         "x": [
          "0_01",
          "0_02",
          "0_03",
          "0_04",
          "0_05",
          "0_06",
          "0_07",
          "0_08",
          "0_09",
          "0_10",
          "0_11",
          "0_12",
          "0_13",
          "0_14",
          "0_15",
          "0_16",
          "0_17",
          "0_18",
          "0_19",
          "0_20",
          "0_21",
          "0_22",
          "0_23",
          "0_24",
          "0_25",
          "0_26",
          "0_27",
          "0_28",
          "0_29",
          "0_30"
         ],
         "xaxis": "x",
         "y": [
          10,
          8,
          20,
          24,
          24,
          29.2,
          32,
          32,
          36,
          38,
          48,
          44.4,
          47.2,
          47.6,
          53.6,
          59.6,
          60,
          54.8,
          60.4,
          56,
          62.4,
          78,
          66,
          82.4,
          88.8,
          81.2,
          72.8,
          90,
          82.4,
          94.8
         ],
         "yaxis": "y"
        },
        {
         "error_y": {
          "array": [
           0,
           0,
           1.673320053068148,
           2.607680962081059,
           0,
           1.4142135623730925,
           1.6733200530681502,
           1.0954451150103286,
           4.604345773288534,
           5.099019513592788,
           1.6733200530681513,
           3.2863353450309942,
           4.381780460041328,
           3.3466401061362996,
           3.577708763999663,
           6.723094525588646,
           3.2863353450309982,
           3.346640106136305,
           3.286335345030995,
           2.966479394838267,
           2.6076809620810564,
           4.147288270665539,
           1.7888543819998286,
           3.3466401061363005,
           5.761944116355176,
           4.335896677735753,
           2.2803508501982765,
           5.585696017507578,
           4.147288270665546,
           2.8284271247462027
          ]
         },
         "hovertemplate": "solver=baseline<br>type=bounds<br>difficulty=1<br>problem=%{x}<br>plan_length_mean=%{y}<extra></extra>",
         "legendgroup": "baseline, bounds",
         "line": {
          "color": "#636efa",
          "dash": "solid"
         },
         "marker": {
          "symbol": "circle"
         },
         "mode": "lines",
         "name": "baseline, bounds",
         "orientation": "v",
         "showlegend": false,
         "type": "scatter",
         "x": [
          "1_01",
          "1_02",
          "1_03",
          "1_04",
          "1_05",
          "1_06",
          "1_07",
          "1_08",
          "1_09",
          "1_10",
          "1_11",
          "1_12",
          "1_13",
          "1_14",
          "1_15",
          "1_16",
          "1_17",
          "1_18",
          "1_19",
          "1_20",
          "1_21",
          "1_22",
          "1_23",
          "1_24",
          "1_25",
          "1_26",
          "1_27",
          "1_28",
          "1_29",
          "1_30"
         ],
         "xaxis": "x2",
         "y": [
          118,
          124,
          134.4,
          159.6,
          164,
          164,
          191.6,
          199.2,
          209.2,
          220,
          234.4,
          261.6,
          280.8,
          275.2,
          287.6,
          296.8,
          305.6,
          341.2,
          343.6,
          356.4,
          367.6,
          377.2,
          415.2,
          393.2,
          419.2,
          441.6,
          444.8,
          432.8,
          460.8,
          518
         ],
         "yaxis": "y2"
        },
        {
         "error_y": {
          "array": [
           null,
           null,
           null,
           null,
           null,
           null,
           null,
           null,
           null,
           null,
           null,
           null,
           null,
           null,
           null,
           null,
           null,
           null,
           null,
           null,
           null,
           null,
           null,
           null,
           null,
           null,
           null,
           null,
           null,
           null
          ]
         },
         "hovertemplate": "solver=optimal<br>type=bounds<br>difficulty=0<br>problem=%{x}<br>plan_length_mean=%{y}<extra></extra>",
         "legendgroup": "optimal, bounds",
         "line": {
          "color": "#EF553B",
          "dash": "solid"
         },
         "marker": {
          "symbol": "circle"
         },
         "mode": "lines",
         "name": "optimal, bounds",
         "orientation": "v",
         "showlegend": true,
         "type": "scatter",
         "x": [
          "0_01",
          "0_02",
          "0_03",
          "0_04",
          "0_05",
          "0_06",
          "0_07",
          "0_08",
          "0_09",
          "0_10",
          "0_11",
          "0_12",
          "0_13",
          "0_14",
          "0_15",
          "0_16",
          "0_17",
          "0_18",
          "0_19",
          "0_20",
          "0_21",
          "0_22",
          "0_23",
          "0_24",
          "0_25",
          "0_26",
          "0_27",
          "0_28",
          "0_29",
          "0_30"
         ],
         "xaxis": "x",
         "y": [
          10,
          8,
          20,
          24,
          24,
          26,
          32,
          32,
          36,
          38,
          48,
          40,
          42,
          44,
          46,
          54,
          60,
          50,
          54,
          56,
          56,
          72,
          58,
          72,
          82,
          74,
          66,
          82,
          76,
          88
         ],
         "yaxis": "y"
        },
        {
         "error_y": {
          "array": [
           null,
           null,
           null,
           null,
           null,
           null,
           null,
           null,
           null,
           null,
           null,
           null,
           null,
           null,
           null,
           null,
           null,
           null,
           null,
           null,
           null,
           null,
           null,
           null,
           null,
           null,
           null,
           null,
           null,
           null
          ]
         },
         "hovertemplate": "solver=optimal<br>type=bounds<br>difficulty=1<br>problem=%{x}<br>plan_length_mean=%{y}<extra></extra>",
         "legendgroup": "optimal, bounds",
         "line": {
          "color": "#EF553B",
          "dash": "solid"
         },
         "marker": {
          "symbol": "circle"
         },
         "mode": "lines",
         "name": "optimal, bounds",
         "orientation": "v",
         "showlegend": false,
         "type": "scatter",
         "x": [
          "1_01",
          "1_02",
          "1_03",
          "1_04",
          "1_05",
          "1_06",
          "1_07",
          "1_08",
          "1_09",
          "1_10",
          "1_11",
          "1_12",
          "1_13",
          "1_14",
          "1_15",
          "1_16",
          "1_17",
          "1_18",
          "1_19",
          "1_20",
          "1_21",
          "1_22",
          "1_23",
          "1_24",
          "1_25",
          "1_26",
          "1_27",
          "1_28",
          "1_29",
          "1_30"
         ],
         "xaxis": "x2",
         "y": [
          106,
          104,
          112,
          144,
          142,
          140,
          158,
          164,
          180,
          186,
          202,
          234,
          240,
          228,
          232,
          246,
          272,
          284,
          286,
          308,
          310,
          314,
          354,
          338,
          348,
          388,
          380,
          368,
          386,
          464
         ],
         "yaxis": "y2"
        },
        {
         "error_y": {
          "array": [
           null,
           null,
           null,
           null,
           null,
           null,
           null,
           null,
           null,
           null,
           null,
           null,
           null,
           null,
           null,
           null,
           null,
           null,
           null,
           null,
           null,
           null,
           null,
           null,
           null,
           null,
           null,
           null,
           null,
           null
          ]
         },
         "hovertemplate": "solver=lama<br>type=bounds<br>difficulty=0<br>problem=%{x}<br>plan_length_mean=%{y}<extra></extra>",
         "legendgroup": "lama, bounds",
         "line": {
          "color": "#00cc96",
          "dash": "solid"
         },
         "marker": {
          "symbol": "circle"
         },
         "mode": "lines",
         "name": "lama, bounds",
         "orientation": "v",
         "showlegend": true,
         "type": "scatter",
         "x": [
          "0_01",
          "0_02",
          "0_03",
          "0_04",
          "0_05",
          "0_06",
          "0_07",
          "0_08",
          "0_09",
          "0_10",
          "0_11",
          "0_12",
          "0_13",
          "0_14",
          "0_15",
          "0_16",
          "0_17",
          "0_18",
          "0_19",
          "0_20",
          "0_21",
          "0_22",
          "0_23",
          "0_24",
          "0_25",
          "0_26",
          "0_27",
          "0_28",
          "0_29",
          "0_30"
         ],
         "xaxis": "x",
         "y": [
          10,
          8,
          34,
          38,
          40,
          80,
          62,
          58,
          56,
          44,
          102,
          72,
          108,
          66,
          106,
          122,
          130,
          84,
          86,
          78,
          76,
          146,
          94,
          202,
          274,
          230,
          130,
          152,
          142,
          202
         ],
         "yaxis": "y"
        },
        {
         "error_y": {
          "array": [
           null,
           null,
           null,
           null,
           null,
           null,
           null,
           null,
           null,
           null,
           null,
           null,
           null,
           null,
           null,
           null,
           null,
           null,
           null,
           null,
           null,
           null,
           null,
           null,
           null,
           null,
           null,
           null,
           null,
           null
          ]
         },
         "hovertemplate": "solver=lama<br>type=bounds<br>difficulty=1<br>problem=%{x}<br>plan_length_mean=%{y}<extra></extra>",
         "legendgroup": "lama, bounds",
         "line": {
          "color": "#00cc96",
          "dash": "solid"
         },
         "marker": {
          "symbol": "circle"
         },
         "mode": "lines",
         "name": "lama, bounds",
         "orientation": "v",
         "showlegend": false,
         "type": "scatter",
         "x": [
          "1_01",
          "1_02",
          "1_03",
          "1_04",
          "1_05",
          "1_06",
          "1_07",
          "1_08",
          "1_09",
          "1_10",
          "1_11",
          "1_12",
          "1_13",
          "1_14",
          "1_15",
          "1_16",
          "1_17",
          "1_18",
          "1_19",
          "1_20",
          "1_21",
          "1_22",
          "1_23",
          "1_24",
          "1_25",
          "1_26",
          "1_27",
          "1_28",
          "1_29",
          "1_30"
         ],
         "xaxis": "x2",
         "y": [
          324,
          222,
          242,
          null,
          320,
          230,
          376,
          null,
          474,
          396,
          646,
          632,
          614,
          528,
          648,
          640,
          640,
          656,
          null,
          950,
          908,
          746,
          null,
          796,
          816,
          null,
          988,
          1070,
          1072,
          null
         ],
         "yaxis": "y2"
        },
        {
         "error_y": {
          "array": [
           0,
           0,
           0,
           0,
           0,
           1.154700538379251,
           0,
           0,
           0,
           0,
           0,
           1.154700538379251,
           1.1547005383792526,
           2,
           1.154700538379251,
           1.1547005383792526,
           0,
           3.0550504633038944,
           1.154700538379251,
           0,
           0,
           1.1547005383792495,
           1.1547005383792495,
           1.1547005383792495,
           2,
           3.055050463303895,
           3.4641016151377544,
           0,
           2,
           2.309401076758505
          ]
         },
         "hovertemplate": "solver=L2_D8_best<br>type=lrnn_best<br>difficulty=0<br>problem=%{x}<br>plan_length_mean=%{y}<extra></extra>",
         "legendgroup": "L2_D8_best, lrnn_best",
         "line": {
          "color": "#ab63fa",
          "dash": "dot"
         },
         "marker": {
          "symbol": "circle"
         },
         "mode": "lines",
         "name": "L2_D8_best, lrnn_best",
         "orientation": "v",
         "showlegend": true,
         "type": "scatter",
         "x": [
          "0_01",
          "0_02",
          "0_03",
          "0_04",
          "0_05",
          "0_06",
          "0_07",
          "0_08",
          "0_09",
          "0_10",
          "0_11",
          "0_12",
          "0_13",
          "0_14",
          "0_15",
          "0_16",
          "0_17",
          "0_18",
          "0_19",
          "0_20",
          "0_21",
          "0_22",
          "0_23",
          "0_24",
          "0_25",
          "0_26",
          "0_27",
          "0_28",
          "0_29",
          "0_30"
         ],
         "xaxis": "x",
         "y": [
          10,
          8,
          20,
          24,
          24,
          29.333333333333332,
          32,
          32,
          36,
          38,
          48,
          44.666666666666664,
          45.333333333333336,
          48,
          52.666666666666664,
          59.333333333333336,
          60,
          59.333333333333336,
          58.666666666666664,
          56,
          56,
          77.33333333333333,
          65.33333333333333,
          81.33333333333333,
          88,
          78.66666666666667,
          76,
          90,
          84,
          100.66666666666667
         ],
         "yaxis": "y"
        },
        {
         "error_y": {
          "array": [
           2,
           3.4641016151377544,
           8.082903768654765,
           4.61880215351701,
           7.57187779440036,
           2.309401076758499,
           8.326663997864534,
           1.1547005383792495,
           6.4291005073286405,
           10.263202878893772,
           6.4291005073286405,
           9.16515138991168,
           11.547005383792508,
           9.451631252505225,
           12.489995996796797,
           10.392304845413264,
           8.326663997864523,
           13.316656236958794,
           12.858201014657281,
           13.316656236958778,
           12.165525060596439,
           12.858201014657281,
           15.620499351813308,
           12,
           14.189197769195168,
           10.583005244258363,
           6.110100926607794,
           11.015141094572213,
           13.613718571108084,
           12.220201853215588
          ]
         },
         "hovertemplate": "solver=L2_D8_best<br>type=lrnn_best<br>difficulty=1<br>problem=%{x}<br>plan_length_mean=%{y}<extra></extra>",
         "legendgroup": "L2_D8_best, lrnn_best",
         "line": {
          "color": "#ab63fa",
          "dash": "dot"
         },
         "marker": {
          "symbol": "circle"
         },
         "mode": "lines",
         "name": "L2_D8_best, lrnn_best",
         "orientation": "v",
         "showlegend": false,
         "type": "scatter",
         "x": [
          "1_01",
          "1_02",
          "1_03",
          "1_04",
          "1_05",
          "1_06",
          "1_07",
          "1_08",
          "1_09",
          "1_10",
          "1_11",
          "1_12",
          "1_13",
          "1_14",
          "1_15",
          "1_16",
          "1_17",
          "1_18",
          "1_19",
          "1_20",
          "1_21",
          "1_22",
          "1_23",
          "1_24",
          "1_25",
          "1_26",
          "1_27",
          "1_28",
          "1_29",
          "1_30"
         ],
         "xaxis": "x2",
         "y": [
          116,
          124,
          129.33333333333334,
          161.33333333333334,
          164.66666666666666,
          162.66666666666666,
          187.33333333333334,
          196.66666666666666,
          205.33333333333334,
          217.33333333333334,
          233.33333333333334,
          264,
          279.3333333333333,
          274.6666666666667,
          286,
          300,
          317.3333333333333,
          338.6666666666667,
          342.6666666666667,
          363.3333333333333,
          362,
          374.6666666666667,
          418,
          398,
          415.3333333333333,
          448,
          446.6666666666667,
          440.6666666666667,
          465.3333333333333,
          519.3333333333334
         ],
         "yaxis": "y2"
        },
        {
         "error_y": {
          "array": [
           0,
           0,
           0,
           0,
           0,
           0,
           0,
           0,
           0,
           0,
           0,
           1.1547005383792526,
           2.3094010767585034,
           1.154700538379251,
           2.309401076758502,
           2,
           0,
           0,
           3.0550504633038944,
           0,
           1.1547005383792526,
           0,
           2.3094010767585034,
           1.1547005383792526,
           0,
           2,
           2,
           3.4641016151377544,
           3.0550504633038913,
           2
          ]
         },
         "hovertemplate": "solver=L2_D16_best<br>type=lrnn_best<br>difficulty=0<br>problem=%{x}<br>plan_length_mean=%{y}<extra></extra>",
         "legendgroup": "L2_D16_best, lrnn_best",
         "line": {
          "color": "#FFA15A",
          "dash": "dot"
         },
         "marker": {
          "symbol": "circle"
         },
         "mode": "lines",
         "name": "L2_D16_best, lrnn_best",
         "orientation": "v",
         "showlegend": true,
         "type": "scatter",
         "x": [
          "0_01",
          "0_02",
          "0_03",
          "0_04",
          "0_05",
          "0_06",
          "0_07",
          "0_08",
          "0_09",
          "0_10",
          "0_11",
          "0_12",
          "0_13",
          "0_14",
          "0_15",
          "0_16",
          "0_17",
          "0_18",
          "0_19",
          "0_20",
          "0_21",
          "0_22",
          "0_23",
          "0_24",
          "0_25",
          "0_26",
          "0_27",
          "0_28",
          "0_29",
          "0_30"
         ],
         "xaxis": "x",
         "y": [
          10,
          8,
          20,
          24,
          24,
          26,
          32,
          32,
          36,
          38,
          48,
          42.666666666666664,
          46.666666666666664,
          44.666666666666664,
          50.666666666666664,
          58,
          60,
          52,
          59.333333333333336,
          56,
          57.333333333333336,
          76,
          63.333333333333336,
          77.33333333333333,
          86,
          78,
          70,
          88,
          81.33333333333333,
          94
         ],
         "yaxis": "y"
        },
        {
         "error_y": {
          "array": [
           2.309401076758505,
           7.02376916856849,
           6.429100507328634,
           0,
           1.1547005383792495,
           1.1547005383792557,
           2.309401076758505,
           3.055050463303897,
           6,
           10.263202878893772,
           5.03322295684717,
           4.618802153516998,
           3.055050463303895,
           7.211102550927978,
           3.4641016151377544,
           5.291502622129181,
           3.0550504633038997,
           3.4641016151377544,
           2,
           7.211102550927978,
           7.023769168568485,
           5.033222956847159,
           5.033222956847173,
           9.018499505645782,
           1.1547005383792557,
           15.874507866387544,
           5.033222956847159,
           3.4641016151377544,
           6.928203230275509,
           9.451631252505202
          ]
         },
         "hovertemplate": "solver=L2_D16_best<br>type=lrnn_best<br>difficulty=1<br>problem=%{x}<br>plan_length_mean=%{y}<extra></extra>",
         "legendgroup": "L2_D16_best, lrnn_best",
         "line": {
          "color": "#FFA15A",
          "dash": "dot"
         },
         "marker": {
          "symbol": "circle"
         },
         "mode": "lines",
         "name": "L2_D16_best, lrnn_best",
         "orientation": "v",
         "showlegend": false,
         "type": "scatter",
         "x": [
          "1_01",
          "1_02",
          "1_03",
          "1_04",
          "1_05",
          "1_06",
          "1_07",
          "1_08",
          "1_09",
          "1_10",
          "1_11",
          "1_12",
          "1_13",
          "1_14",
          "1_15",
          "1_16",
          "1_17",
          "1_18",
          "1_19",
          "1_20",
          "1_21",
          "1_22",
          "1_23",
          "1_24",
          "1_25",
          "1_26",
          "1_27",
          "1_28",
          "1_29",
          "1_30"
         ],
         "xaxis": "x2",
         "y": [
          114.66666666666667,
          119.33333333333333,
          125.33333333333333,
          160,
          157.33333333333334,
          151.33333333333334,
          177.33333333333334,
          193.33333333333334,
          202,
          205.33333333333334,
          231.33333333333334,
          257.3333333333333,
          274.6666666666667,
          272,
          274,
          288,
          300.6666666666667,
          326,
          334,
          350,
          347.3333333333333,
          363.3333333333333,
          404.6666666666667,
          387.3333333333333,
          407.3333333333333,
          432,
          431.3333333333333,
          426,
          450,
          514.6666666666666
         ],
         "yaxis": "y2"
        },
        {
         "error_y": {
          "array": [
           0,
           0,
           0,
           0,
           0,
           2.309401076758503,
           0,
           0,
           0,
           0,
           0,
           2.3094010767585034,
           1.154700538379251,
           1.154700538379251,
           1.1547005383792526,
           2,
           0,
           1.1547005383792526,
           1.1547005383792526,
           0,
           2,
           2,
           0,
           2,
           1.1547005383792526,
           0,
           2,
           2,
           4,
           3.055050463303895
          ]
         },
         "hovertemplate": "solver=L2_D32_best<br>type=lrnn_best<br>difficulty=0<br>problem=%{x}<br>plan_length_mean=%{y}<extra></extra>",
         "legendgroup": "L2_D32_best, lrnn_best",
         "line": {
          "color": "#19d3f3",
          "dash": "dot"
         },
         "marker": {
          "symbol": "circle"
         },
         "mode": "lines",
         "name": "L2_D32_best, lrnn_best",
         "orientation": "v",
         "showlegend": true,
         "type": "scatter",
         "x": [
          "0_01",
          "0_02",
          "0_03",
          "0_04",
          "0_05",
          "0_06",
          "0_07",
          "0_08",
          "0_09",
          "0_10",
          "0_11",
          "0_12",
          "0_13",
          "0_14",
          "0_15",
          "0_16",
          "0_17",
          "0_18",
          "0_19",
          "0_20",
          "0_21",
          "0_22",
          "0_23",
          "0_24",
          "0_25",
          "0_26",
          "0_27",
          "0_28",
          "0_29",
          "0_30"
         ],
         "xaxis": "x",
         "y": [
          10,
          8,
          20,
          24,
          24,
          27.333333333333332,
          32,
          32,
          36,
          38,
          48,
          43.333333333333336,
          47.333333333333336,
          47.333333333333336,
          48.666666666666664,
          58,
          60,
          55.333333333333336,
          60.666666666666664,
          56,
          60,
          76,
          66,
          80,
          85.33333333333333,
          78,
          70,
          86,
          82,
          97.33333333333333
         ],
         "yaxis": "y"
        },
        {
         "error_y": {
          "array": [
           4,
           4,
           4.163331998932267,
           1.1547005383792495,
           4.163331998932267,
           2,
           2,
           5.291502622129181,
           3.0550504633038926,
           6,
           6.429100507328635,
           3.0550504633038904,
           10.26320287889377,
           1.1547005383792557,
           9.451631252505214,
           5.291502622129181,
           7.5718777944003595,
           8.08290376865476,
           3.0550504633038997,
           8.717797887081348,
           7.211102550927978,
           4,
           5.033222956847173,
           4.61880215351701,
           10.066445913694333,
           11.135528725660043,
           6.429100507328629,
           12.701705922171763,
           13.114877048604,
           6
          ]
         },
         "hovertemplate": "solver=L2_D32_best<br>type=lrnn_best<br>difficulty=1<br>problem=%{x}<br>plan_length_mean=%{y}<extra></extra>",
         "legendgroup": "L2_D32_best, lrnn_best",
         "line": {
          "color": "#19d3f3",
          "dash": "dot"
         },
         "marker": {
          "symbol": "circle"
         },
         "mode": "lines",
         "name": "L2_D32_best, lrnn_best",
         "orientation": "v",
         "showlegend": false,
         "type": "scatter",
         "x": [
          "1_01",
          "1_02",
          "1_03",
          "1_04",
          "1_05",
          "1_06",
          "1_07",
          "1_08",
          "1_09",
          "1_10",
          "1_11",
          "1_12",
          "1_13",
          "1_14",
          "1_15",
          "1_16",
          "1_17",
          "1_18",
          "1_19",
          "1_20",
          "1_21",
          "1_22",
          "1_23",
          "1_24",
          "1_25",
          "1_26",
          "1_27",
          "1_28",
          "1_29",
          "1_30"
         ],
         "xaxis": "x2",
         "y": [
          116,
          120,
          129.33333333333334,
          159.33333333333334,
          157.33333333333334,
          158,
          182,
          194,
          203.33333333333334,
          214,
          233.33333333333334,
          255.33333333333334,
          279.3333333333333,
          269.3333333333333,
          274.6666666666667,
          288,
          300.6666666666667,
          324.6666666666667,
          330.6666666666667,
          356,
          362,
          368,
          409.3333333333333,
          389.3333333333333,
          404.6666666666667,
          434,
          434.6666666666667,
          426.6666666666667,
          460,
          512
         ],
         "yaxis": "y2"
        },
        {
         "error_y": {
          "array": [
           0,
           0,
           0,
           0,
           0,
           0,
           0,
           0,
           0,
           0,
           0,
           2,
           2,
           1.154700538379251,
           2,
           1.1547005383792526,
           0,
           1.154700538379251,
           1.154700538379251,
           0,
           1.154700538379251,
           1.1547005383792495,
           2.309401076758502,
           2.309401076758505,
           1.1547005383792526,
           1.1547005383792526,
           1.1547005383792526,
           2.309401076758502,
           2,
           3.0550504633038935
          ]
         },
         "hovertemplate": "solver=L3_D8_best<br>type=lrnn_best<br>difficulty=0<br>problem=%{x}<br>plan_length_mean=%{y}<extra></extra>",
         "legendgroup": "L3_D8_best, lrnn_best",
         "line": {
          "color": "#FF6692",
          "dash": "dot"
         },
         "marker": {
          "symbol": "circle"
         },
         "mode": "lines",
         "name": "L3_D8_best, lrnn_best",
         "orientation": "v",
         "showlegend": true,
         "type": "scatter",
         "x": [
          "0_01",
          "0_02",
          "0_03",
          "0_04",
          "0_05",
          "0_06",
          "0_07",
          "0_08",
          "0_09",
          "0_10",
          "0_11",
          "0_12",
          "0_13",
          "0_14",
          "0_15",
          "0_16",
          "0_17",
          "0_18",
          "0_19",
          "0_20",
          "0_21",
          "0_22",
          "0_23",
          "0_24",
          "0_25",
          "0_26",
          "0_27",
          "0_28",
          "0_29",
          "0_30"
         ],
         "xaxis": "x",
         "y": [
          10,
          8,
          20,
          24,
          24,
          26,
          32,
          32,
          36,
          38,
          48,
          42,
          46,
          45.333333333333336,
          50,
          59.333333333333336,
          60,
          51.333333333333336,
          57.333333333333336,
          56,
          56.666666666666664,
          75.33333333333333,
          64.66666666666667,
          77.33333333333333,
          85.33333333333333,
          76.66666666666667,
          69.33333333333333,
          88.66666666666667,
          80,
          96.66666666666667
         ],
         "yaxis": "y"
        },
        {
         "error_y": {
          "array": [
           1.1547005383792526,
           2.309401076758502,
           5.033222956847167,
           4.163331998932267,
           3.055050463303897,
           2,
           5.291502622129181,
           3.4641016151377544,
           3.4641016151377544,
           9.237604307034008,
           3.4641016151377544,
           4.163331998932267,
           6.42910050732864,
           8.082903768654752,
           4.163331998932267,
           2,
           5.291502622129181,
           3.055050463303895,
           9.16515138991168,
           6.429100507328629,
           3.055050463303895,
           9.451631252505225,
           7.023769168568493,
           2,
           9.865765724632498,
           8.082903768654765,
           5.773502691896254,
           10.26320287889377,
           8.717797887081348,
           6.928203230275509
          ]
         },
         "hovertemplate": "solver=L3_D8_best<br>type=lrnn_best<br>difficulty=1<br>problem=%{x}<br>plan_length_mean=%{y}<extra></extra>",
         "legendgroup": "L3_D8_best, lrnn_best",
         "line": {
          "color": "#FF6692",
          "dash": "dot"
         },
         "marker": {
          "symbol": "circle"
         },
         "mode": "lines",
         "name": "L3_D8_best, lrnn_best",
         "orientation": "v",
         "showlegend": false,
         "type": "scatter",
         "x": [
          "1_01",
          "1_02",
          "1_03",
          "1_04",
          "1_05",
          "1_06",
          "1_07",
          "1_08",
          "1_09",
          "1_10",
          "1_11",
          "1_12",
          "1_13",
          "1_14",
          "1_15",
          "1_16",
          "1_17",
          "1_18",
          "1_19",
          "1_20",
          "1_21",
          "1_22",
          "1_23",
          "1_24",
          "1_25",
          "1_26",
          "1_27",
          "1_28",
          "1_29",
          "1_30"
         ],
         "xaxis": "x2",
         "y": [
          114.66666666666667,
          116.66666666666667,
          119.33333333333333,
          157.33333333333334,
          154.66666666666666,
          152,
          178,
          192,
          200,
          205.33333333333334,
          226,
          255.33333333333334,
          267.3333333333333,
          260.6666666666667,
          254.66666666666666,
          278,
          292,
          316.6666666666667,
          324,
          346.6666666666667,
          351.3333333333333,
          351.3333333333333,
          397.3333333333333,
          378,
          394.6666666666667,
          427.3333333333333,
          427.3333333333333,
          413.3333333333333,
          440,
          506
         ],
         "yaxis": "y2"
        },
        {
         "error_y": {
          "array": [
           0,
           0,
           0,
           0,
           0,
           2.3094010767585034,
           0,
           0,
           0,
           0,
           0,
           2,
           1.1547005383792526,
           1.154700538379251,
           3.0550504633038944,
           1.154700538379251,
           0,
           4.618802153517006,
           2.309401076758502,
           0,
           1.154700538379251,
           1.1547005383792526,
           1.1547005383792526,
           0,
           1.1547005383792495,
           2.309401076758502,
           4.163331998932267,
           2.309401076758505,
           4,
           1.1547005383792495
          ]
         },
         "hovertemplate": "solver=L3_D16_best<br>type=lrnn_best<br>difficulty=0<br>problem=%{x}<br>plan_length_mean=%{y}<extra></extra>",
         "legendgroup": "L3_D16_best, lrnn_best",
         "line": {
          "color": "#B6E880",
          "dash": "dot"
         },
         "marker": {
          "symbol": "circle"
         },
         "mode": "lines",
         "name": "L3_D16_best, lrnn_best",
         "orientation": "v",
         "showlegend": true,
         "type": "scatter",
         "x": [
          "0_01",
          "0_02",
          "0_03",
          "0_04",
          "0_05",
          "0_06",
          "0_07",
          "0_08",
          "0_09",
          "0_10",
          "0_11",
          "0_12",
          "0_13",
          "0_14",
          "0_15",
          "0_16",
          "0_17",
          "0_18",
          "0_19",
          "0_20",
          "0_21",
          "0_22",
          "0_23",
          "0_24",
          "0_25",
          "0_26",
          "0_27",
          "0_28",
          "0_29",
          "0_30"
         ],
         "xaxis": "x",
         "y": [
          10,
          8,
          20,
          24,
          24,
          28.666666666666668,
          32,
          32,
          36,
          38,
          48,
          44,
          47.333333333333336,
          46.666666666666664,
          51.333333333333336,
          58.666666666666664,
          60,
          54.666666666666664,
          60.666666666666664,
          56,
          57.333333333333336,
          76.66666666666667,
          64.66666666666667,
          82,
          87.33333333333333,
          81.33333333333333,
          74.66666666666667,
          88.66666666666667,
          80,
          101.33333333333333
         ],
         "yaxis": "y"
        },
        {
         "error_y": {
          "array": [
           2,
           2,
           6,
           2,
           3.0550504633038926,
           5.033222956847164,
           6.110100926607783,
           6.429100507328635,
           9.451631252505212,
           2.309401076758499,
           3.4641016151377544,
           3.4641016151377544,
           6,
           5.033222956847173,
           8,
           11.372481406154662,
           12.05542754668341,
           16.041612554021295,
           6.110100926607794,
           7.571877794400373,
           6.429100507328629,
           5.291502622129181,
           6.928203230275509,
           10.263202878893773,
           8.717797887081348,
           9.865765724632487,
           11.135528725660043,
           24.846193538112306,
           15.53490693030805,
           8.082903768654745
          ]
         },
         "hovertemplate": "solver=L3_D16_best<br>type=lrnn_best<br>difficulty=1<br>problem=%{x}<br>plan_length_mean=%{y}<extra></extra>",
         "legendgroup": "L3_D16_best, lrnn_best",
         "line": {
          "color": "#B6E880",
          "dash": "dot"
         },
         "marker": {
          "symbol": "circle"
         },
         "mode": "lines",
         "name": "L3_D16_best, lrnn_best",
         "orientation": "v",
         "showlegend": false,
         "type": "scatter",
         "x": [
          "1_01",
          "1_02",
          "1_03",
          "1_04",
          "1_05",
          "1_06",
          "1_07",
          "1_08",
          "1_09",
          "1_10",
          "1_11",
          "1_12",
          "1_13",
          "1_14",
          "1_15",
          "1_16",
          "1_17",
          "1_18",
          "1_19",
          "1_20",
          "1_21",
          "1_22",
          "1_23",
          "1_24",
          "1_25",
          "1_26",
          "1_27",
          "1_28",
          "1_29",
          "1_30"
         ],
         "xaxis": "x2",
         "y": [
          114,
          124,
          132,
          162,
          165.33333333333334,
          162.66666666666666,
          188.66666666666666,
          194.66666666666666,
          204.66666666666666,
          220.66666666666666,
          232,
          266,
          280,
          276.6666666666667,
          288,
          298.6666666666667,
          309.3333333333333,
          334.6666666666667,
          340.6666666666667,
          354.6666666666667,
          367.3333333333333,
          376,
          418,
          396.6666666666667,
          416,
          441.3333333333333,
          444,
          438.6666666666667,
          475.3333333333333,
          520.6666666666666
         ],
         "yaxis": "y2"
        },
        {
         "error_y": {
          "array": [
           0,
           0,
           0,
           0,
           0,
           2.309401076758503,
           0,
           0,
           0,
           0,
           0,
           2,
           1.154700538379251,
           1.1547005383792526,
           3.055050463303893,
           0,
           0,
           3.0550504633038926,
           2.3094010767585034,
           0,
           1.154700538379251,
           1.1547005383792526,
           0,
           3.0550504633038935,
           1.1547005383792526,
           1.1547005383792526,
           1.1547005383792495,
           2.309401076758502,
           1.1547005383792526,
           4.163331998932265
          ]
         },
         "hovertemplate": "solver=L3_D32_best<br>type=lrnn_best<br>difficulty=0<br>problem=%{x}<br>plan_length_mean=%{y}<extra></extra>",
         "legendgroup": "L3_D32_best, lrnn_best",
         "line": {
          "color": "#FF97FF",
          "dash": "dot"
         },
         "marker": {
          "symbol": "circle"
         },
         "mode": "lines",
         "name": "L3_D32_best, lrnn_best",
         "orientation": "v",
         "showlegend": true,
         "type": "scatter",
         "x": [
          "0_01",
          "0_02",
          "0_03",
          "0_04",
          "0_05",
          "0_06",
          "0_07",
          "0_08",
          "0_09",
          "0_10",
          "0_11",
          "0_12",
          "0_13",
          "0_14",
          "0_15",
          "0_16",
          "0_17",
          "0_18",
          "0_19",
          "0_20",
          "0_21",
          "0_22",
          "0_23",
          "0_24",
          "0_25",
          "0_26",
          "0_27",
          "0_28",
          "0_29",
          "0_30"
         ],
         "xaxis": "x",
         "y": [
          10,
          8,
          20,
          24,
          24,
          27.333333333333332,
          32,
          32,
          36,
          38,
          48,
          44,
          45.333333333333336,
          46.666666666666664,
          50.666666666666664,
          60,
          60,
          54.666666666666664,
          59.333333333333336,
          56,
          59.333333333333336,
          75.33333333333333,
          66,
          79.33333333333333,
          86.66666666666667,
          80.66666666666667,
          73.33333333333333,
          87.33333333333333,
          82.66666666666667,
          97.33333333333333
         ],
         "yaxis": "y"
        },
        {
         "error_y": {
          "array": [
           0,
           8,
           4.163331998932265,
           3.055050463303897,
           4.618802153517004,
           5.033222956847164,
           8.32666399786453,
           6,
           7.571877794400367,
           12,
           9.237604307034013,
           3.055050463303895,
           10.263202878893773,
           8,
           8.326663997864523,
           8.08290376865476,
           14.047538337136979,
           5.291502622129181,
           15.143755588800735,
           7.023769168568499,
           9.45163125250521,
           12.220201853215565,
           5.291502622129181,
           20.29778313018444,
           25.324559884296765,
           16.165807537309515,
           9.45163125250521,
           23.18045153428494,
           24.576411454889016,
           14
          ]
         },
         "hovertemplate": "solver=L3_D32_best<br>type=lrnn_best<br>difficulty=1<br>problem=%{x}<br>plan_length_mean=%{y}<extra></extra>",
         "legendgroup": "L3_D32_best, lrnn_best",
         "line": {
          "color": "#FF97FF",
          "dash": "dot"
         },
         "marker": {
          "symbol": "circle"
         },
         "mode": "lines",
         "name": "L3_D32_best, lrnn_best",
         "orientation": "v",
         "showlegend": false,
         "type": "scatter",
         "x": [
          "1_01",
          "1_02",
          "1_03",
          "1_04",
          "1_05",
          "1_06",
          "1_07",
          "1_08",
          "1_09",
          "1_10",
          "1_11",
          "1_12",
          "1_13",
          "1_14",
          "1_15",
          "1_16",
          "1_17",
          "1_18",
          "1_19",
          "1_20",
          "1_21",
          "1_22",
          "1_23",
          "1_24",
          "1_25",
          "1_26",
          "1_27",
          "1_28",
          "1_29",
          "1_30"
         ],
         "xaxis": "x2",
         "y": [
          118,
          122,
          127.33333333333333,
          161.33333333333334,
          162.66666666666666,
          162.66666666666666,
          180.66666666666666,
          194,
          206.66666666666666,
          214,
          235.33333333333334,
          260.6666666666667,
          278.6666666666667,
          274,
          273.3333333333333,
          293.3333333333333,
          301.3333333333333,
          328,
          336.6666666666667,
          352.6666666666667,
          359.3333333333333,
          367.3333333333333,
          412,
          392,
          407.3333333333333,
          439.3333333333333,
          439.3333333333333,
          423.3333333333333,
          452,
          512
         ],
         "yaxis": "y2"
        }
       ],
       "layout": {
        "annotations": [
         {
          "font": {},
          "showarrow": false,
          "text": "difficulty=0",
          "x": 0.245,
          "xanchor": "center",
          "xref": "paper",
          "y": 1,
          "yanchor": "bottom",
          "yref": "paper"
         },
         {
          "font": {},
          "showarrow": false,
          "text": "difficulty=1",
          "x": 0.755,
          "xanchor": "center",
          "xref": "paper",
          "y": 1,
          "yanchor": "bottom",
          "yref": "paper"
         }
        ],
        "legend": {
         "title": {
          "text": "solver, type"
         },
         "tracegroupgap": 0
        },
        "margin": {
         "t": 60
        },
        "template": {
         "data": {
          "bar": [
           {
            "error_x": {
             "color": "#2a3f5f"
            },
            "error_y": {
             "color": "#2a3f5f"
            },
            "marker": {
             "line": {
              "color": "#E5ECF6",
              "width": 0.5
             },
             "pattern": {
              "fillmode": "overlay",
              "size": 10,
              "solidity": 0.2
             }
            },
            "type": "bar"
           }
          ],
          "barpolar": [
           {
            "marker": {
             "line": {
              "color": "#E5ECF6",
              "width": 0.5
             },
             "pattern": {
              "fillmode": "overlay",
              "size": 10,
              "solidity": 0.2
             }
            },
            "type": "barpolar"
           }
          ],
          "carpet": [
           {
            "aaxis": {
             "endlinecolor": "#2a3f5f",
             "gridcolor": "white",
             "linecolor": "white",
             "minorgridcolor": "white",
             "startlinecolor": "#2a3f5f"
            },
            "baxis": {
             "endlinecolor": "#2a3f5f",
             "gridcolor": "white",
             "linecolor": "white",
             "minorgridcolor": "white",
             "startlinecolor": "#2a3f5f"
            },
            "type": "carpet"
           }
          ],
          "choropleth": [
           {
            "colorbar": {
             "outlinewidth": 0,
             "ticks": ""
            },
            "type": "choropleth"
           }
          ],
          "contour": [
           {
            "colorbar": {
             "outlinewidth": 0,
             "ticks": ""
            },
            "colorscale": [
             [
              0,
              "#0d0887"
             ],
             [
              0.1111111111111111,
              "#46039f"
             ],
             [
              0.2222222222222222,
              "#7201a8"
             ],
             [
              0.3333333333333333,
              "#9c179e"
             ],
             [
              0.4444444444444444,
              "#bd3786"
             ],
             [
              0.5555555555555556,
              "#d8576b"
             ],
             [
              0.6666666666666666,
              "#ed7953"
             ],
             [
              0.7777777777777778,
              "#fb9f3a"
             ],
             [
              0.8888888888888888,
              "#fdca26"
             ],
             [
              1,
              "#f0f921"
             ]
            ],
            "type": "contour"
           }
          ],
          "contourcarpet": [
           {
            "colorbar": {
             "outlinewidth": 0,
             "ticks": ""
            },
            "type": "contourcarpet"
           }
          ],
          "heatmap": [
           {
            "colorbar": {
             "outlinewidth": 0,
             "ticks": ""
            },
            "colorscale": [
             [
              0,
              "#0d0887"
             ],
             [
              0.1111111111111111,
              "#46039f"
             ],
             [
              0.2222222222222222,
              "#7201a8"
             ],
             [
              0.3333333333333333,
              "#9c179e"
             ],
             [
              0.4444444444444444,
              "#bd3786"
             ],
             [
              0.5555555555555556,
              "#d8576b"
             ],
             [
              0.6666666666666666,
              "#ed7953"
             ],
             [
              0.7777777777777778,
              "#fb9f3a"
             ],
             [
              0.8888888888888888,
              "#fdca26"
             ],
             [
              1,
              "#f0f921"
             ]
            ],
            "type": "heatmap"
           }
          ],
          "heatmapgl": [
           {
            "colorbar": {
             "outlinewidth": 0,
             "ticks": ""
            },
            "colorscale": [
             [
              0,
              "#0d0887"
             ],
             [
              0.1111111111111111,
              "#46039f"
             ],
             [
              0.2222222222222222,
              "#7201a8"
             ],
             [
              0.3333333333333333,
              "#9c179e"
             ],
             [
              0.4444444444444444,
              "#bd3786"
             ],
             [
              0.5555555555555556,
              "#d8576b"
             ],
             [
              0.6666666666666666,
              "#ed7953"
             ],
             [
              0.7777777777777778,
              "#fb9f3a"
             ],
             [
              0.8888888888888888,
              "#fdca26"
             ],
             [
              1,
              "#f0f921"
             ]
            ],
            "type": "heatmapgl"
           }
          ],
          "histogram": [
           {
            "marker": {
             "pattern": {
              "fillmode": "overlay",
              "size": 10,
              "solidity": 0.2
             }
            },
            "type": "histogram"
           }
          ],
          "histogram2d": [
           {
            "colorbar": {
             "outlinewidth": 0,
             "ticks": ""
            },
            "colorscale": [
             [
              0,
              "#0d0887"
             ],
             [
              0.1111111111111111,
              "#46039f"
             ],
             [
              0.2222222222222222,
              "#7201a8"
             ],
             [
              0.3333333333333333,
              "#9c179e"
             ],
             [
              0.4444444444444444,
              "#bd3786"
             ],
             [
              0.5555555555555556,
              "#d8576b"
             ],
             [
              0.6666666666666666,
              "#ed7953"
             ],
             [
              0.7777777777777778,
              "#fb9f3a"
             ],
             [
              0.8888888888888888,
              "#fdca26"
             ],
             [
              1,
              "#f0f921"
             ]
            ],
            "type": "histogram2d"
           }
          ],
          "histogram2dcontour": [
           {
            "colorbar": {
             "outlinewidth": 0,
             "ticks": ""
            },
            "colorscale": [
             [
              0,
              "#0d0887"
             ],
             [
              0.1111111111111111,
              "#46039f"
             ],
             [
              0.2222222222222222,
              "#7201a8"
             ],
             [
              0.3333333333333333,
              "#9c179e"
             ],
             [
              0.4444444444444444,
              "#bd3786"
             ],
             [
              0.5555555555555556,
              "#d8576b"
             ],
             [
              0.6666666666666666,
              "#ed7953"
             ],
             [
              0.7777777777777778,
              "#fb9f3a"
             ],
             [
              0.8888888888888888,
              "#fdca26"
             ],
             [
              1,
              "#f0f921"
             ]
            ],
            "type": "histogram2dcontour"
           }
          ],
          "mesh3d": [
           {
            "colorbar": {
             "outlinewidth": 0,
             "ticks": ""
            },
            "type": "mesh3d"
           }
          ],
          "parcoords": [
           {
            "line": {
             "colorbar": {
              "outlinewidth": 0,
              "ticks": ""
             }
            },
            "type": "parcoords"
           }
          ],
          "pie": [
           {
            "automargin": true,
            "type": "pie"
           }
          ],
          "scatter": [
           {
            "fillpattern": {
             "fillmode": "overlay",
             "size": 10,
             "solidity": 0.2
            },
            "type": "scatter"
           }
          ],
          "scatter3d": [
           {
            "line": {
             "colorbar": {
              "outlinewidth": 0,
              "ticks": ""
             }
            },
            "marker": {
             "colorbar": {
              "outlinewidth": 0,
              "ticks": ""
             }
            },
            "type": "scatter3d"
           }
          ],
          "scattercarpet": [
           {
            "marker": {
             "colorbar": {
              "outlinewidth": 0,
              "ticks": ""
             }
            },
            "type": "scattercarpet"
           }
          ],
          "scattergeo": [
           {
            "marker": {
             "colorbar": {
              "outlinewidth": 0,
              "ticks": ""
             }
            },
            "type": "scattergeo"
           }
          ],
          "scattergl": [
           {
            "marker": {
             "colorbar": {
              "outlinewidth": 0,
              "ticks": ""
             }
            },
            "type": "scattergl"
           }
          ],
          "scattermapbox": [
           {
            "marker": {
             "colorbar": {
              "outlinewidth": 0,
              "ticks": ""
             }
            },
            "type": "scattermapbox"
           }
          ],
          "scatterpolar": [
           {
            "marker": {
             "colorbar": {
              "outlinewidth": 0,
              "ticks": ""
             }
            },
            "type": "scatterpolar"
           }
          ],
          "scatterpolargl": [
           {
            "marker": {
             "colorbar": {
              "outlinewidth": 0,
              "ticks": ""
             }
            },
            "type": "scatterpolargl"
           }
          ],
          "scatterternary": [
           {
            "marker": {
             "colorbar": {
              "outlinewidth": 0,
              "ticks": ""
             }
            },
            "type": "scatterternary"
           }
          ],
          "surface": [
           {
            "colorbar": {
             "outlinewidth": 0,
             "ticks": ""
            },
            "colorscale": [
             [
              0,
              "#0d0887"
             ],
             [
              0.1111111111111111,
              "#46039f"
             ],
             [
              0.2222222222222222,
              "#7201a8"
             ],
             [
              0.3333333333333333,
              "#9c179e"
             ],
             [
              0.4444444444444444,
              "#bd3786"
             ],
             [
              0.5555555555555556,
              "#d8576b"
             ],
             [
              0.6666666666666666,
              "#ed7953"
             ],
             [
              0.7777777777777778,
              "#fb9f3a"
             ],
             [
              0.8888888888888888,
              "#fdca26"
             ],
             [
              1,
              "#f0f921"
             ]
            ],
            "type": "surface"
           }
          ],
          "table": [
           {
            "cells": {
             "fill": {
              "color": "#EBF0F8"
             },
             "line": {
              "color": "white"
             }
            },
            "header": {
             "fill": {
              "color": "#C8D4E3"
             },
             "line": {
              "color": "white"
             }
            },
            "type": "table"
           }
          ]
         },
         "layout": {
          "annotationdefaults": {
           "arrowcolor": "#2a3f5f",
           "arrowhead": 0,
           "arrowwidth": 1
          },
          "autotypenumbers": "strict",
          "coloraxis": {
           "colorbar": {
            "outlinewidth": 0,
            "ticks": ""
           }
          },
          "colorscale": {
           "diverging": [
            [
             0,
             "#8e0152"
            ],
            [
             0.1,
             "#c51b7d"
            ],
            [
             0.2,
             "#de77ae"
            ],
            [
             0.3,
             "#f1b6da"
            ],
            [
             0.4,
             "#fde0ef"
            ],
            [
             0.5,
             "#f7f7f7"
            ],
            [
             0.6,
             "#e6f5d0"
            ],
            [
             0.7,
             "#b8e186"
            ],
            [
             0.8,
             "#7fbc41"
            ],
            [
             0.9,
             "#4d9221"
            ],
            [
             1,
             "#276419"
            ]
           ],
           "sequential": [
            [
             0,
             "#0d0887"
            ],
            [
             0.1111111111111111,
             "#46039f"
            ],
            [
             0.2222222222222222,
             "#7201a8"
            ],
            [
             0.3333333333333333,
             "#9c179e"
            ],
            [
             0.4444444444444444,
             "#bd3786"
            ],
            [
             0.5555555555555556,
             "#d8576b"
            ],
            [
             0.6666666666666666,
             "#ed7953"
            ],
            [
             0.7777777777777778,
             "#fb9f3a"
            ],
            [
             0.8888888888888888,
             "#fdca26"
            ],
            [
             1,
             "#f0f921"
            ]
           ],
           "sequentialminus": [
            [
             0,
             "#0d0887"
            ],
            [
             0.1111111111111111,
             "#46039f"
            ],
            [
             0.2222222222222222,
             "#7201a8"
            ],
            [
             0.3333333333333333,
             "#9c179e"
            ],
            [
             0.4444444444444444,
             "#bd3786"
            ],
            [
             0.5555555555555556,
             "#d8576b"
            ],
            [
             0.6666666666666666,
             "#ed7953"
            ],
            [
             0.7777777777777778,
             "#fb9f3a"
            ],
            [
             0.8888888888888888,
             "#fdca26"
            ],
            [
             1,
             "#f0f921"
            ]
           ]
          },
          "colorway": [
           "#636efa",
           "#EF553B",
           "#00cc96",
           "#ab63fa",
           "#FFA15A",
           "#19d3f3",
           "#FF6692",
           "#B6E880",
           "#FF97FF",
           "#FECB52"
          ],
          "font": {
           "color": "#2a3f5f"
          },
          "geo": {
           "bgcolor": "white",
           "lakecolor": "white",
           "landcolor": "#E5ECF6",
           "showlakes": true,
           "showland": true,
           "subunitcolor": "white"
          },
          "hoverlabel": {
           "align": "left"
          },
          "hovermode": "closest",
          "mapbox": {
           "style": "light"
          },
          "paper_bgcolor": "white",
          "plot_bgcolor": "#E5ECF6",
          "polar": {
           "angularaxis": {
            "gridcolor": "white",
            "linecolor": "white",
            "ticks": ""
           },
           "bgcolor": "#E5ECF6",
           "radialaxis": {
            "gridcolor": "white",
            "linecolor": "white",
            "ticks": ""
           }
          },
          "scene": {
           "xaxis": {
            "backgroundcolor": "#E5ECF6",
            "gridcolor": "white",
            "gridwidth": 2,
            "linecolor": "white",
            "showbackground": true,
            "ticks": "",
            "zerolinecolor": "white"
           },
           "yaxis": {
            "backgroundcolor": "#E5ECF6",
            "gridcolor": "white",
            "gridwidth": 2,
            "linecolor": "white",
            "showbackground": true,
            "ticks": "",
            "zerolinecolor": "white"
           },
           "zaxis": {
            "backgroundcolor": "#E5ECF6",
            "gridcolor": "white",
            "gridwidth": 2,
            "linecolor": "white",
            "showbackground": true,
            "ticks": "",
            "zerolinecolor": "white"
           }
          },
          "shapedefaults": {
           "line": {
            "color": "#2a3f5f"
           }
          },
          "ternary": {
           "aaxis": {
            "gridcolor": "white",
            "linecolor": "white",
            "ticks": ""
           },
           "baxis": {
            "gridcolor": "white",
            "linecolor": "white",
            "ticks": ""
           },
           "bgcolor": "#E5ECF6",
           "caxis": {
            "gridcolor": "white",
            "linecolor": "white",
            "ticks": ""
           }
          },
          "title": {
           "x": 0.05
          },
          "xaxis": {
           "automargin": true,
           "gridcolor": "white",
           "linecolor": "white",
           "ticks": "",
           "title": {
            "standoff": 15
           },
           "zerolinecolor": "white",
           "zerolinewidth": 2
          },
          "yaxis": {
           "automargin": true,
           "gridcolor": "white",
           "linecolor": "white",
           "ticks": "",
           "title": {
            "standoff": 15
           },
           "zerolinecolor": "white",
           "zerolinewidth": 2
          }
         }
        },
        "xaxis": {
         "anchor": "y",
         "categoryarray": [
          "0_01",
          "0_02",
          "0_03",
          "0_04",
          "0_05",
          "0_06",
          "0_07",
          "0_08",
          "0_09",
          "0_10",
          "0_11",
          "0_12",
          "0_13",
          "0_14",
          "0_15",
          "0_16",
          "0_17",
          "0_18",
          "0_19",
          "0_20",
          "0_21",
          "0_22",
          "0_23",
          "0_24",
          "0_25",
          "0_26",
          "0_27",
          "0_28",
          "0_29",
          "0_30",
          "1_01",
          "1_02",
          "1_03",
          "1_04",
          "1_05",
          "1_06",
          "1_07",
          "1_08",
          "1_09",
          "1_10",
          "1_11",
          "1_12",
          "1_13",
          "1_14",
          "1_15",
          "1_16",
          "1_17",
          "1_18",
          "1_19",
          "1_20",
          "1_21",
          "1_22",
          "1_23",
          "1_24",
          "1_25",
          "1_26",
          "1_27",
          "1_28",
          "1_29",
          "1_30"
         ],
         "categoryorder": "array",
         "domain": [
          0,
          0.49
         ],
         "showticklabels": true,
         "title": {
          "text": "problem"
         }
        },
        "xaxis2": {
         "anchor": "y2",
         "categoryarray": [
          "0_01",
          "0_02",
          "0_03",
          "0_04",
          "0_05",
          "0_06",
          "0_07",
          "0_08",
          "0_09",
          "0_10",
          "0_11",
          "0_12",
          "0_13",
          "0_14",
          "0_15",
          "0_16",
          "0_17",
          "0_18",
          "0_19",
          "0_20",
          "0_21",
          "0_22",
          "0_23",
          "0_24",
          "0_25",
          "0_26",
          "0_27",
          "0_28",
          "0_29",
          "0_30",
          "1_01",
          "1_02",
          "1_03",
          "1_04",
          "1_05",
          "1_06",
          "1_07",
          "1_08",
          "1_09",
          "1_10",
          "1_11",
          "1_12",
          "1_13",
          "1_14",
          "1_15",
          "1_16",
          "1_17",
          "1_18",
          "1_19",
          "1_20",
          "1_21",
          "1_22",
          "1_23",
          "1_24",
          "1_25",
          "1_26",
          "1_27",
          "1_28",
          "1_29",
          "1_30"
         ],
         "categoryorder": "array",
         "domain": [
          0.51,
          1
         ],
         "showticklabels": true,
         "title": {
          "text": "problem"
         }
        },
        "yaxis": {
         "anchor": "x",
         "domain": [
          0,
          1
         ],
         "showticklabels": true,
         "title": {
          "text": "plan_length_mean"
         }
        },
        "yaxis2": {
         "anchor": "x2",
         "domain": [
          0,
          1
         ],
         "showticklabels": true
        }
       }
      }
     },
     "metadata": {},
     "output_type": "display_data"
    },
    {
     "name": "stdout",
     "output_type": "stream",
     "text": [
      "ferry\n"
     ]
    },
    {
     "data": {
      "application/vnd.plotly.v1+json": {
       "config": {
        "plotlyServerURL": "https://plot.ly"
       },
       "data": [
        {
         "error_y": {
          "array": [
           0,
           0,
           0,
           0,
           0,
           0.7071067811865476,
           0.44721359549995765,
           0.547722557505166,
           0.8366600265340753,
           0.44721359549995787,
           0.8366600265340751,
           0.5477225575051664,
           0.8366600265340757,
           0.8366600265340749,
           0.44721359549995865,
           0.44721359549995715,
           0.44721359549995715,
           1.224744871391589,
           1.303840481040529,
           1.1401754250991383,
           1.6733200530681513,
           0.8366600265340757,
           0.44721359549995715,
           1.3416407864998734,
           1.4832396974191324,
           1.1401754250991383,
           1.51657508881031,
           1.1401754250991367,
           1.3038404810405302,
           0.7071067811865476
          ]
         },
         "hovertemplate": "solver=baseline<br>type=bounds<br>difficulty=0<br>problem=%{x}<br>plan_length_mean=%{y}<extra></extra>",
         "legendgroup": "baseline, bounds",
         "line": {
          "color": "#636efa",
          "dash": "solid"
         },
         "marker": {
          "symbol": "circle"
         },
         "mode": "lines",
         "name": "baseline, bounds",
         "orientation": "v",
         "showlegend": true,
         "type": "scatter",
         "x": [
          "0_01",
          "0_02",
          "0_03",
          "0_04",
          "0_05",
          "0_06",
          "0_07",
          "0_08",
          "0_09",
          "0_10",
          "0_11",
          "0_12",
          "0_13",
          "0_14",
          "0_15",
          "0_16",
          "0_17",
          "0_18",
          "0_19",
          "0_20",
          "0_21",
          "0_22",
          "0_23",
          "0_24",
          "0_25",
          "0_26",
          "0_27",
          "0_28",
          "0_29",
          "0_30"
         ],
         "xaxis": "x",
         "y": [
          8,
          8,
          12,
          11,
          15,
          19,
          19.2,
          23.6,
          25.2,
          26.8,
          31.2,
          29.4,
          33.2,
          34.8,
          37.8,
          40.8,
          45.2,
          42,
          44.8,
          51.6,
          50.4,
          50.8,
          53.8,
          58.6,
          62.2,
          60.4,
          61.4,
          68.4,
          67.2,
          75
         ],
         "yaxis": "y"
        },
        {
         "error_y": {
          "array": [
           0.7071067811865472,
           0.8366600265340757,
           0.44721359549995815,
           0.5477225575051667,
           0.8366600265340757,
           1.7888543819998313,
           1.303840481040529,
           2.509980079602227,
           1.3416407864998734,
           1.7888543819998355,
           1.9493588689617967,
           0.8366600265340783,
           1.5165750888103116,
           1.3416407864998734,
           2.4083189157584557,
           2.2803508501982743,
           2.0493901531919225,
           2.880972058177586,
           2.1213203435596393,
           1.3416407864998734,
           3.7416573867739418,
           5.147815070493499,
           1.8165902124584923,
           1.1401754250991352,
           2.073644135332778,
           2.949576240750527,
           1.1401754250991398,
           4.183300132670379,
           3.4928498393145944,
           4.086563348340508
          ]
         },
         "hovertemplate": "solver=baseline<br>type=bounds<br>difficulty=1<br>problem=%{x}<br>plan_length_mean=%{y}<extra></extra>",
         "legendgroup": "baseline, bounds",
         "line": {
          "color": "#636efa",
          "dash": "solid"
         },
         "marker": {
          "symbol": "circle"
         },
         "mode": "lines",
         "name": "baseline, bounds",
         "orientation": "v",
         "showlegend": false,
         "type": "scatter",
         "x": [
          "1_01",
          "1_02",
          "1_03",
          "1_04",
          "1_05",
          "1_06",
          "1_07",
          "1_08",
          "1_09",
          "1_10",
          "1_11",
          "1_12",
          "1_13",
          "1_14",
          "1_15",
          "1_16",
          "1_17",
          "1_18",
          "1_19",
          "1_20",
          "1_21",
          "1_22",
          "1_23",
          "1_24",
          "1_25",
          "1_26",
          "1_27",
          "1_28",
          "1_29",
          "1_30"
         ],
         "xaxis": "x2",
         "y": [
          37,
          49.8,
          61.2,
          69.4,
          76.8,
          93.2,
          104.2,
          108.6,
          123.6,
          132.8,
          144.4,
          156.2,
          165.6,
          173.4,
          185.6,
          196.8,
          200.8,
          211.6,
          235,
          233.4,
          245,
          255,
          271.4,
          280.4,
          290.4,
          300.2,
          314.4,
          318,
          332.2,
          343.8
         ],
         "yaxis": "y2"
        },
        {
         "error_y": {
          "array": [
           null,
           null,
           null,
           null,
           null,
           null,
           null,
           null,
           null,
           null,
           null,
           null,
           null,
           null,
           null,
           null,
           null,
           null,
           null,
           null,
           null,
           null,
           null,
           null,
           null,
           null,
           null,
           null,
           null,
           null
          ]
         },
         "hovertemplate": "solver=optimal<br>type=bounds<br>difficulty=0<br>problem=%{x}<br>plan_length_mean=%{y}<extra></extra>",
         "legendgroup": "optimal, bounds",
         "line": {
          "color": "#EF553B",
          "dash": "solid"
         },
         "marker": {
          "symbol": "circle"
         },
         "mode": "lines",
         "name": "optimal, bounds",
         "orientation": "v",
         "showlegend": true,
         "type": "scatter",
         "x": [
          "0_01",
          "0_02",
          "0_03",
          "0_04",
          "0_05",
          "0_06",
          "0_07",
          "0_08",
          "0_09",
          "0_10",
          "0_11",
          "0_12",
          "0_13",
          "0_14",
          "0_15",
          "0_16",
          "0_17",
          "0_18",
          "0_19",
          "0_20",
          "0_21",
          "0_22",
          "0_23",
          "0_24",
          "0_25",
          "0_26",
          "0_27",
          "0_28",
          "0_29",
          "0_30"
         ],
         "xaxis": "x",
         "y": [
          8,
          8,
          12,
          11,
          15,
          18,
          19,
          23,
          24,
          26,
          30,
          29,
          31,
          33,
          37,
          39,
          null,
          40,
          44,
          null,
          null,
          null,
          null,
          null,
          null,
          null,
          null,
          null,
          null,
          null
         ],
         "yaxis": "y"
        },
        {
         "error_y": {
          "array": [
           null,
           null,
           null,
           null,
           null,
           null,
           null,
           null,
           null,
           null,
           null,
           null,
           null,
           null,
           null,
           null,
           null,
           null,
           null,
           null,
           null,
           null,
           null,
           null,
           null,
           null,
           null,
           null,
           null,
           null
          ]
         },
         "hovertemplate": "solver=optimal<br>type=bounds<br>difficulty=1<br>problem=%{x}<br>plan_length_mean=%{y}<extra></extra>",
         "legendgroup": "optimal, bounds",
         "line": {
          "color": "#EF553B",
          "dash": "solid"
         },
         "marker": {
          "symbol": "circle"
         },
         "mode": "lines",
         "name": "optimal, bounds",
         "orientation": "v",
         "showlegend": false,
         "type": "scatter",
         "x": [
          "1_01",
          "1_02",
          "1_03",
          "1_04",
          "1_05",
          "1_06",
          "1_07",
          "1_08",
          "1_09",
          "1_10",
          "1_11",
          "1_12",
          "1_13",
          "1_14",
          "1_15",
          "1_16",
          "1_17",
          "1_18",
          "1_19",
          "1_20",
          "1_21",
          "1_22",
          "1_23",
          "1_24",
          "1_25",
          "1_26",
          "1_27",
          "1_28",
          "1_29",
          "1_30"
         ],
         "xaxis": "x2",
         "y": [
          36,
          47,
          null,
          null,
          null,
          null,
          null,
          null,
          null,
          null,
          null,
          null,
          null,
          null,
          null,
          null,
          null,
          null,
          null,
          null,
          null,
          null,
          null,
          null,
          null,
          null,
          null,
          null,
          null,
          null
         ],
         "yaxis": "y2"
        },
        {
         "error_y": {
          "array": [
           null,
           null,
           null,
           null,
           null,
           null,
           null,
           null,
           null,
           null,
           null,
           null,
           null,
           null,
           null,
           null,
           null,
           null,
           null,
           null,
           null,
           null,
           null,
           null,
           null,
           null,
           null,
           null,
           null,
           null
          ]
         },
         "hovertemplate": "solver=lama<br>type=bounds<br>difficulty=0<br>problem=%{x}<br>plan_length_mean=%{y}<extra></extra>",
         "legendgroup": "lama, bounds",
         "line": {
          "color": "#00cc96",
          "dash": "solid"
         },
         "marker": {
          "symbol": "circle"
         },
         "mode": "lines",
         "name": "lama, bounds",
         "orientation": "v",
         "showlegend": true,
         "type": "scatter",
         "x": [
          "0_01",
          "0_02",
          "0_03",
          "0_04",
          "0_05",
          "0_06",
          "0_07",
          "0_08",
          "0_09",
          "0_10",
          "0_11",
          "0_12",
          "0_13",
          "0_14",
          "0_15",
          "0_16",
          "0_17",
          "0_18",
          "0_19",
          "0_20",
          "0_21",
          "0_22",
          "0_23",
          "0_24",
          "0_25",
          "0_26",
          "0_27",
          "0_28",
          "0_29",
          "0_30"
         ],
         "xaxis": "x",
         "y": [
          8,
          9,
          14,
          14,
          20,
          20,
          23,
          26,
          27,
          33,
          37,
          38,
          36,
          40,
          47,
          49,
          55,
          49,
          55,
          57,
          62,
          61,
          67,
          74,
          71,
          73,
          73,
          80,
          80,
          84
         ],
         "yaxis": "y"
        },
        {
         "error_y": {
          "array": [
           null,
           null,
           null,
           null,
           null,
           null,
           null,
           null,
           null,
           null,
           null,
           null,
           null,
           null,
           null,
           null,
           null,
           null,
           null,
           null,
           null,
           null,
           null,
           null,
           null,
           null,
           null,
           null,
           null,
           null
          ]
         },
         "hovertemplate": "solver=lama<br>type=bounds<br>difficulty=1<br>problem=%{x}<br>plan_length_mean=%{y}<extra></extra>",
         "legendgroup": "lama, bounds",
         "line": {
          "color": "#00cc96",
          "dash": "solid"
         },
         "marker": {
          "symbol": "circle"
         },
         "mode": "lines",
         "name": "lama, bounds",
         "orientation": "v",
         "showlegend": false,
         "type": "scatter",
         "x": [
          "1_01",
          "1_02",
          "1_03",
          "1_04",
          "1_05",
          "1_06",
          "1_07",
          "1_08",
          "1_09",
          "1_10",
          "1_11",
          "1_12",
          "1_13",
          "1_14",
          "1_15",
          "1_16",
          "1_17",
          "1_18",
          "1_19",
          "1_20",
          "1_21",
          "1_22",
          "1_23",
          "1_24",
          "1_25",
          "1_26",
          "1_27",
          "1_28",
          "1_29",
          "1_30"
         ],
         "xaxis": "x2",
         "y": [
          45,
          55,
          77,
          84,
          95,
          112,
          130,
          138,
          151,
          160,
          179,
          191,
          198,
          214,
          226,
          234,
          243,
          254,
          279,
          282,
          295,
          314,
          326,
          341,
          359,
          377,
          377,
          383,
          418,
          423
         ],
         "yaxis": "y2"
        },
        {
         "error_y": {
          "array": [
           0,
           0,
           0,
           0,
           0,
           0,
           0,
           0,
           0,
           0,
           0,
           0,
           0,
           0,
           0,
           0,
           0,
           0,
           0,
           0,
           0,
           0,
           0.5773502691896247,
           0,
           0.5773502691896263,
           0,
           0,
           0,
           0,
           0.5773502691896247
          ]
         },
         "hovertemplate": "solver=L2_D8_best<br>type=lrnn_best<br>difficulty=0<br>problem=%{x}<br>plan_length_mean=%{y}<extra></extra>",
         "legendgroup": "L2_D8_best, lrnn_best",
         "line": {
          "color": "#ab63fa",
          "dash": "dot"
         },
         "marker": {
          "symbol": "circle"
         },
         "mode": "lines",
         "name": "L2_D8_best, lrnn_best",
         "orientation": "v",
         "showlegend": true,
         "type": "scatter",
         "x": [
          "0_01",
          "0_02",
          "0_03",
          "0_04",
          "0_05",
          "0_06",
          "0_07",
          "0_08",
          "0_09",
          "0_10",
          "0_11",
          "0_12",
          "0_13",
          "0_14",
          "0_15",
          "0_16",
          "0_17",
          "0_18",
          "0_19",
          "0_20",
          "0_21",
          "0_22",
          "0_23",
          "0_24",
          "0_25",
          "0_26",
          "0_27",
          "0_28",
          "0_29",
          "0_30"
         ],
         "xaxis": "x",
         "y": [
          8,
          8,
          12,
          11,
          15,
          18,
          19,
          23,
          24,
          26,
          30,
          29,
          31,
          33,
          37,
          39,
          45,
          40,
          44,
          49,
          49,
          50,
          52.333333333333336,
          57,
          60.333333333333336,
          58,
          59,
          66,
          64,
          72.66666666666667
         ],
         "yaxis": "y"
        },
        {
         "error_y": {
          "array": [
           0,
           0,
           0,
           0,
           0.5773502691896247,
           0,
           0,
           0,
           0.5773502691896247,
           0.5773502691896278,
           0,
           0.5773502691896278,
           0.5773502691896278,
           0.5773502691896278,
           0,
           0.5773502691896278,
           0,
           0.5773502691896278,
           0,
           0,
           0.5773502691896278,
           0,
           0.5773502691896216,
           0,
           0,
           0.577350269189634,
           0.5773502691896216,
           0,
           0,
           0
          ]
         },
         "hovertemplate": "solver=L2_D8_best<br>type=lrnn_best<br>difficulty=1<br>problem=%{x}<br>plan_length_mean=%{y}<extra></extra>",
         "legendgroup": "L2_D8_best, lrnn_best",
         "line": {
          "color": "#ab63fa",
          "dash": "dot"
         },
         "marker": {
          "symbol": "circle"
         },
         "mode": "lines",
         "name": "L2_D8_best, lrnn_best",
         "orientation": "v",
         "showlegend": false,
         "type": "scatter",
         "x": [
          "1_01",
          "1_02",
          "1_03",
          "1_04",
          "1_05",
          "1_06",
          "1_07",
          "1_08",
          "1_09",
          "1_10",
          "1_11",
          "1_12",
          "1_13",
          "1_14",
          "1_15",
          "1_16",
          "1_17",
          "1_18",
          "1_19",
          "1_20",
          "1_21",
          "1_22",
          "1_23",
          "1_24",
          "1_25",
          "1_26",
          "1_27",
          "1_28",
          "1_29",
          "1_30"
         ],
         "xaxis": "x2",
         "y": [
          36,
          47,
          61,
          67,
          74.33333333333333,
          89,
          100,
          104,
          120.33333333333333,
          129.33333333333334,
          139,
          152.33333333333334,
          160.33333333333334,
          165.33333333333334,
          179,
          189.33333333333334,
          195,
          204.33333333333334,
          226,
          225,
          234.33333333333334,
          244,
          261.3333333333333,
          271,
          282,
          287.3333333333333,
          303.3333333333333,
          306,
          320,
          329
         ],
         "yaxis": "y2"
        },
        {
         "error_y": {
          "array": [
           0,
           0,
           0,
           0,
           0,
           0,
           0,
           0,
           0,
           0,
           0,
           0,
           0,
           1.154700538379251,
           0,
           0,
           0,
           0,
           1.1547005383792526,
           0,
           0,
           0.5773502691896247,
           0,
           0,
           0,
           0,
           0,
           0,
           0,
           0.5773502691896247
          ]
         },
         "hovertemplate": "solver=L2_D16_best<br>type=lrnn_best<br>difficulty=0<br>problem=%{x}<br>plan_length_mean=%{y}<extra></extra>",
         "legendgroup": "L2_D16_best, lrnn_best",
         "line": {
          "color": "#FFA15A",
          "dash": "dot"
         },
         "marker": {
          "symbol": "circle"
         },
         "mode": "lines",
         "name": "L2_D16_best, lrnn_best",
         "orientation": "v",
         "showlegend": true,
         "type": "scatter",
         "x": [
          "0_01",
          "0_02",
          "0_03",
          "0_04",
          "0_05",
          "0_06",
          "0_07",
          "0_08",
          "0_09",
          "0_10",
          "0_11",
          "0_12",
          "0_13",
          "0_14",
          "0_15",
          "0_16",
          "0_17",
          "0_18",
          "0_19",
          "0_20",
          "0_21",
          "0_22",
          "0_23",
          "0_24",
          "0_25",
          "0_26",
          "0_27",
          "0_28",
          "0_29",
          "0_30"
         ],
         "xaxis": "x",
         "y": [
          8,
          8,
          12,
          11,
          15,
          18,
          19,
          23,
          24,
          26,
          30,
          29,
          31,
          33.666666666666664,
          37,
          39,
          45,
          40,
          44.666666666666664,
          49,
          49,
          50.333333333333336,
          52,
          57,
          60,
          58,
          59,
          66,
          64,
          72.66666666666667
         ],
         "yaxis": "y"
        },
        {
         "error_y": {
          "array": [
           0,
           0,
           0,
           0.5773502691896247,
           0,
           0.5773502691896247,
           0,
           0,
           0,
           0.5773502691896278,
           0.5773502691896216,
           0,
           0,
           0,
           0,
           1,
           1,
           0.5773502691896216,
           0,
           0.5773502691896216,
           0,
           0.5773502691896278,
           0.577350269189634,
           1,
           0,
           0,
           0.577350269189634,
           2.3094010767585114,
           0.577350269189634,
           0.5773502691896216
          ]
         },
         "hovertemplate": "solver=L2_D16_best<br>type=lrnn_best<br>difficulty=1<br>problem=%{x}<br>plan_length_mean=%{y}<extra></extra>",
         "legendgroup": "L2_D16_best, lrnn_best",
         "line": {
          "color": "#FFA15A",
          "dash": "dot"
         },
         "marker": {
          "symbol": "circle"
         },
         "mode": "lines",
         "name": "L2_D16_best, lrnn_best",
         "orientation": "v",
         "showlegend": false,
         "type": "scatter",
         "x": [
          "1_01",
          "1_02",
          "1_03",
          "1_04",
          "1_05",
          "1_06",
          "1_07",
          "1_08",
          "1_09",
          "1_10",
          "1_11",
          "1_12",
          "1_13",
          "1_14",
          "1_15",
          "1_16",
          "1_17",
          "1_18",
          "1_19",
          "1_20",
          "1_21",
          "1_22",
          "1_23",
          "1_24",
          "1_25",
          "1_26",
          "1_27",
          "1_28",
          "1_29",
          "1_30"
         ],
         "xaxis": "x2",
         "y": [
          36,
          47,
          61,
          67.33333333333333,
          74,
          89.66666666666667,
          100,
          104,
          120,
          129.66666666666666,
          139.33333333333334,
          152,
          160,
          165,
          179,
          190,
          196,
          204.33333333333334,
          226,
          225.33333333333334,
          234,
          244.66666666666666,
          261.3333333333333,
          272,
          282,
          287,
          303.3333333333333,
          307.3333333333333,
          320.3333333333333,
          329.6666666666667
         ],
         "yaxis": "y2"
        },
        {
         "error_y": {
          "array": [
           0,
           0,
           0,
           0,
           0,
           0,
           0,
           0,
           0.5773502691896255,
           0,
           0.5773502691896255,
           0,
           0,
           0.5773502691896263,
           0,
           0.5773502691896263,
           0,
           0.5773502691896263,
           0.5773502691896263,
           1,
           0,
           0.5773502691896263,
           0,
           0.5773502691896263,
           0.5773502691896263,
           0.5773502691896263,
           0,
           0.5773502691896247,
           1.1547005383792526,
           0.5773502691896247
          ]
         },
         "hovertemplate": "solver=L2_D32_best<br>type=lrnn_best<br>difficulty=0<br>problem=%{x}<br>plan_length_mean=%{y}<extra></extra>",
         "legendgroup": "L2_D32_best, lrnn_best",
         "line": {
          "color": "#19d3f3",
          "dash": "dot"
         },
         "marker": {
          "symbol": "circle"
         },
         "mode": "lines",
         "name": "L2_D32_best, lrnn_best",
         "orientation": "v",
         "showlegend": true,
         "type": "scatter",
         "x": [
          "0_01",
          "0_02",
          "0_03",
          "0_04",
          "0_05",
          "0_06",
          "0_07",
          "0_08",
          "0_09",
          "0_10",
          "0_11",
          "0_12",
          "0_13",
          "0_14",
          "0_15",
          "0_16",
          "0_17",
          "0_18",
          "0_19",
          "0_20",
          "0_21",
          "0_22",
          "0_23",
          "0_24",
          "0_25",
          "0_26",
          "0_27",
          "0_28",
          "0_29",
          "0_30"
         ],
         "xaxis": "x",
         "y": [
          8,
          8,
          12,
          11,
          15,
          18,
          19,
          23,
          24.333333333333332,
          26,
          30.333333333333332,
          29,
          31,
          33.666666666666664,
          37,
          39.333333333333336,
          45,
          40.333333333333336,
          44.666666666666664,
          50,
          49,
          50.333333333333336,
          52,
          57.333333333333336,
          60.666666666666664,
          58.333333333333336,
          59,
          66.66666666666667,
          64.66666666666667,
          73.33333333333333
         ],
         "yaxis": "y"
        },
        {
         "error_y": {
          "array": [
           0,
           0.5773502691896247,
           0,
           0,
           1.1547005383792526,
           0.5773502691896247,
           0,
           0,
           0,
           1.5275252316519474,
           0,
           2,
           1.7320508075688772,
           0.5773502691896278,
           0.5773502691896278,
           2,
           3.0550504633038926,
           2.309401076758505,
           1.1547005383792495,
           1.1547005383792495,
           3.21455025366432,
           0.5773502691896216,
           1.5275252316519405,
           1.1547005383792557,
           1.5275252316519545,
           1.5275252316519405,
           2.5166114784235907,
           3.7859388972001873,
           0.577350269189634,
           1.1547005383792557
          ]
         },
         "hovertemplate": "solver=L2_D32_best<br>type=lrnn_best<br>difficulty=1<br>problem=%{x}<br>plan_length_mean=%{y}<extra></extra>",
         "legendgroup": "L2_D32_best, lrnn_best",
         "line": {
          "color": "#19d3f3",
          "dash": "dot"
         },
         "marker": {
          "symbol": "circle"
         },
         "mode": "lines",
         "name": "L2_D32_best, lrnn_best",
         "orientation": "v",
         "showlegend": false,
         "type": "scatter",
         "x": [
          "1_01",
          "1_02",
          "1_03",
          "1_04",
          "1_05",
          "1_06",
          "1_07",
          "1_08",
          "1_09",
          "1_10",
          "1_11",
          "1_12",
          "1_13",
          "1_14",
          "1_15",
          "1_16",
          "1_17",
          "1_18",
          "1_19",
          "1_20",
          "1_21",
          "1_22",
          "1_23",
          "1_24",
          "1_25",
          "1_26",
          "1_27",
          "1_28",
          "1_29",
          "1_30"
         ],
         "xaxis": "x2",
         "y": [
          36,
          47.333333333333336,
          61,
          67,
          74.66666666666667,
          90.33333333333333,
          100,
          104,
          120,
          130.33333333333334,
          140,
          154,
          161,
          166.33333333333334,
          179.33333333333334,
          193,
          197.66666666666666,
          206.66666666666666,
          226.66666666666666,
          227.66666666666666,
          237.33333333333334,
          246.66666666666666,
          263.3333333333333,
          273.3333333333333,
          284.6666666666667,
          289.3333333333333,
          305.6666666666667,
          308.6666666666667,
          324.6666666666667,
          331.6666666666667
         ],
         "yaxis": "y2"
        },
        {
         "error_y": {
          "array": [
           0,
           0,
           0,
           0,
           0,
           0,
           0,
           0,
           0,
           0,
           0,
           0,
           0,
           0,
           0,
           0,
           0,
           0.5773502691896247,
           0.5773502691896263,
           0,
           0,
           0.5773502691896263,
           0.5773502691896263,
           0,
           0,
           0,
           0,
           1,
           0.5773502691896278,
           1
          ]
         },
         "hovertemplate": "solver=L3_D8_best<br>type=lrnn_best<br>difficulty=0<br>problem=%{x}<br>plan_length_mean=%{y}<extra></extra>",
         "legendgroup": "L3_D8_best, lrnn_best",
         "line": {
          "color": "#FF6692",
          "dash": "dot"
         },
         "marker": {
          "symbol": "circle"
         },
         "mode": "lines",
         "name": "L3_D8_best, lrnn_best",
         "orientation": "v",
         "showlegend": true,
         "type": "scatter",
         "x": [
          "0_01",
          "0_02",
          "0_03",
          "0_04",
          "0_05",
          "0_06",
          "0_07",
          "0_08",
          "0_09",
          "0_10",
          "0_11",
          "0_12",
          "0_13",
          "0_14",
          "0_15",
          "0_16",
          "0_17",
          "0_18",
          "0_19",
          "0_20",
          "0_21",
          "0_22",
          "0_23",
          "0_24",
          "0_25",
          "0_26",
          "0_27",
          "0_28",
          "0_29",
          "0_30"
         ],
         "xaxis": "x",
         "y": [
          8,
          8,
          12,
          11,
          15,
          18,
          19,
          23,
          24,
          26,
          30,
          29,
          31,
          33,
          37,
          39,
          45,
          40.333333333333336,
          44.333333333333336,
          49,
          49,
          50.333333333333336,
          52.333333333333336,
          57,
          60,
          58,
          59,
          67,
          64.33333333333333,
          73
         ],
         "yaxis": "y"
        },
        {
         "error_y": {
          "array": [
           0,
           0,
           0,
           0,
           0,
           0,
           0,
           0,
           0,
           0.5773502691896278,
           0.5773502691896216,
           0,
           0,
           0.5773502691896278,
           0.5773502691896216,
           0.5773502691896216,
           0.5773502691896216,
           1.5275252316519428,
           0,
           2.0816659994661366,
           2.309401076758499,
           1.1547005383792557,
           0.5773502691896216,
           1.7320508075688772,
           1,
           2.3094010767585114,
           3.2145502536643265,
           4.618802153516998,
           4.932882862316256,
           3.7859388972001744
          ]
         },
         "hovertemplate": "solver=L3_D8_best<br>type=lrnn_best<br>difficulty=1<br>problem=%{x}<br>plan_length_mean=%{y}<extra></extra>",
         "legendgroup": "L3_D8_best, lrnn_best",
         "line": {
          "color": "#FF6692",
          "dash": "dot"
         },
         "marker": {
          "symbol": "circle"
         },
         "mode": "lines",
         "name": "L3_D8_best, lrnn_best",
         "orientation": "v",
         "showlegend": false,
         "type": "scatter",
         "x": [
          "1_01",
          "1_02",
          "1_03",
          "1_04",
          "1_05",
          "1_06",
          "1_07",
          "1_08",
          "1_09",
          "1_10",
          "1_11",
          "1_12",
          "1_13",
          "1_14",
          "1_15",
          "1_16",
          "1_17",
          "1_18",
          "1_19",
          "1_20",
          "1_21",
          "1_22",
          "1_23",
          "1_24",
          "1_25",
          "1_26",
          "1_27",
          "1_28",
          "1_29",
          "1_30"
         ],
         "xaxis": "x2",
         "y": [
          36,
          47,
          61,
          67,
          74,
          89,
          100,
          104,
          120,
          129.66666666666666,
          139.33333333333334,
          152,
          160,
          165.66666666666666,
          179.33333333333334,
          189.33333333333334,
          195.66666666666666,
          205.33333333333334,
          226,
          226.66666666666666,
          235.33333333333334,
          244.66666666666666,
          261.3333333333333,
          272,
          283,
          288.3333333333333,
          305.3333333333333,
          308.6666666666667,
          323.3333333333333,
          331.6666666666667
         ],
         "yaxis": "y2"
        },
        {
         "error_y": {
          "array": [
           0,
           0,
           0,
           0,
           0,
           0,
           0,
           0,
           0,
           0,
           0,
           0,
           0,
           0,
           0,
           0,
           0,
           1.154700538379251,
           0.5773502691896247,
           0.5773502691896263,
           0,
           0,
           0.5773502691896263,
           0,
           0,
           0,
           1.154700538379251,
           0.5773502691896278,
           0.5773502691896247,
           1
          ]
         },
         "hovertemplate": "solver=L3_D16_best<br>type=lrnn_best<br>difficulty=0<br>problem=%{x}<br>plan_length_mean=%{y}<extra></extra>",
         "legendgroup": "L3_D16_best, lrnn_best",
         "line": {
          "color": "#B6E880",
          "dash": "dot"
         },
         "marker": {
          "symbol": "circle"
         },
         "mode": "lines",
         "name": "L3_D16_best, lrnn_best",
         "orientation": "v",
         "showlegend": true,
         "type": "scatter",
         "x": [
          "0_01",
          "0_02",
          "0_03",
          "0_04",
          "0_05",
          "0_06",
          "0_07",
          "0_08",
          "0_09",
          "0_10",
          "0_11",
          "0_12",
          "0_13",
          "0_14",
          "0_15",
          "0_16",
          "0_17",
          "0_18",
          "0_19",
          "0_20",
          "0_21",
          "0_22",
          "0_23",
          "0_24",
          "0_25",
          "0_26",
          "0_27",
          "0_28",
          "0_29",
          "0_30"
         ],
         "xaxis": "x",
         "y": [
          8,
          8,
          12,
          11,
          15,
          18,
          19,
          23,
          24,
          26,
          30,
          29,
          31,
          33,
          37,
          39,
          45,
          40.666666666666664,
          44.333333333333336,
          49.333333333333336,
          49,
          50,
          52.333333333333336,
          57,
          60,
          58,
          59.666666666666664,
          66.33333333333333,
          64.33333333333333,
          73
         ],
         "yaxis": "y"
        },
        {
         "error_y": {
          "array": [
           0,
           0.5773502691896263,
           0,
           0,
           0,
           0,
           0,
           1.1547005383792526,
           1,
           0.5773502691896278,
           0.5773502691896278,
           1.1547005383792495,
           1.7320508075688772,
           1.1547005383792495,
           2.08166599946613,
           1.5275252316519474,
           0.5773502691896278,
           1.7320508075688772,
           0.5773502691896278,
           2.6457513110645907,
           2.6457513110645907,
           2,
           1.1547005383792557,
           3.605551275463989,
           2.309401076758499,
           3.7859388972001873,
           4.041451884327376,
           4.1633319989322635,
           4.61880215351701,
           2.309401076758499
          ]
         },
         "hovertemplate": "solver=L3_D16_best<br>type=lrnn_best<br>difficulty=1<br>problem=%{x}<br>plan_length_mean=%{y}<extra></extra>",
         "legendgroup": "L3_D16_best, lrnn_best",
         "line": {
          "color": "#B6E880",
          "dash": "dot"
         },
         "marker": {
          "symbol": "circle"
         },
         "mode": "lines",
         "name": "L3_D16_best, lrnn_best",
         "orientation": "v",
         "showlegend": false,
         "type": "scatter",
         "x": [
          "1_01",
          "1_02",
          "1_03",
          "1_04",
          "1_05",
          "1_06",
          "1_07",
          "1_08",
          "1_09",
          "1_10",
          "1_11",
          "1_12",
          "1_13",
          "1_14",
          "1_15",
          "1_16",
          "1_17",
          "1_18",
          "1_19",
          "1_20",
          "1_21",
          "1_22",
          "1_23",
          "1_24",
          "1_25",
          "1_26",
          "1_27",
          "1_28",
          "1_29",
          "1_30"
         ],
         "xaxis": "x2",
         "y": [
          36,
          47.333333333333336,
          61,
          67,
          74,
          89,
          100,
          104.66666666666667,
          121,
          129.33333333333334,
          139.33333333333334,
          152.66666666666666,
          161,
          165.66666666666666,
          180.66666666666666,
          191.66666666666666,
          196.33333333333334,
          205,
          226.33333333333334,
          227,
          236,
          246,
          261.6666666666667,
          274,
          283.3333333333333,
          289.6666666666667,
          305.3333333333333,
          310.3333333333333,
          322.6666666666667,
          330.3333333333333
         ],
         "yaxis": "y2"
        },
        {
         "error_y": {
          "array": [
           0,
           0,
           0,
           0.5773502691896258,
           0,
           1,
           0.5773502691896255,
           0,
           0.5773502691896255,
           0.5773502691896255,
           1.1547005383792517,
           0.5773502691896255,
           1,
           0.5773502691896263,
           0.5773502691896263,
           1.7320508075688772,
           0.5773502691896263,
           0,
           1,
           1.5275252316519468,
           1,
           0,
           0.5773502691896263,
           0.5773502691896263,
           1.1547005383792526,
           1.154700538379251,
           1,
           0,
           1.1547005383792526,
           1.5275252316519463
          ]
         },
         "hovertemplate": "solver=L3_D32_best<br>type=lrnn_best<br>difficulty=0<br>problem=%{x}<br>plan_length_mean=%{y}<extra></extra>",
         "legendgroup": "L3_D32_best, lrnn_best",
         "line": {
          "color": "#FF97FF",
          "dash": "dot"
         },
         "marker": {
          "symbol": "circle"
         },
         "mode": "lines",
         "name": "L3_D32_best, lrnn_best",
         "orientation": "v",
         "showlegend": true,
         "type": "scatter",
         "x": [
          "0_01",
          "0_02",
          "0_03",
          "0_04",
          "0_05",
          "0_06",
          "0_07",
          "0_08",
          "0_09",
          "0_10",
          "0_11",
          "0_12",
          "0_13",
          "0_14",
          "0_15",
          "0_16",
          "0_17",
          "0_18",
          "0_19",
          "0_20",
          "0_21",
          "0_22",
          "0_23",
          "0_24",
          "0_25",
          "0_26",
          "0_27",
          "0_28",
          "0_29",
          "0_30"
         ],
         "xaxis": "x",
         "y": [
          8,
          8,
          12,
          11.333333333333334,
          15,
          19,
          19.333333333333332,
          23,
          24.333333333333332,
          26.333333333333332,
          30.666666666666668,
          29.333333333333332,
          32,
          33.333333333333336,
          37.333333333333336,
          40,
          45.333333333333336,
          40,
          45,
          50.333333333333336,
          50,
          50,
          52.333333333333336,
          57.333333333333336,
          61.333333333333336,
          59.666666666666664,
          60,
          67,
          64.66666666666667,
          73.33333333333333
         ],
         "yaxis": "y"
        },
        {
         "error_y": {
          "array": [
           1,
           1,
           1.154700538379251,
           1.7320508075688772,
           2.081665999466134,
           1.1547005383792495,
           2,
           2.88675134594813,
           1.1547005383792526,
           1.5275252316519474,
           1.5275252316519499,
           1,
           1.7320508075688772,
           1.5275252316519499,
           2.5166114784235867,
           1,
           2.0816659994661366,
           1.1547005383792495,
           2.08166599946613,
           2.886751345948133,
           1,
           1,
           4.0414518843273814,
           0.5773502691896216,
           4.358898943540674,
           0.5773502691896216,
           2.309401076758499,
           1.5275252316519545,
           0.5773502691896216,
           3.5118845842842457
          ]
         },
         "hovertemplate": "solver=L3_D32_best<br>type=lrnn_best<br>difficulty=1<br>problem=%{x}<br>plan_length_mean=%{y}<extra></extra>",
         "legendgroup": "L3_D32_best, lrnn_best",
         "line": {
          "color": "#FF97FF",
          "dash": "dot"
         },
         "marker": {
          "symbol": "circle"
         },
         "mode": "lines",
         "name": "L3_D32_best, lrnn_best",
         "orientation": "v",
         "showlegend": false,
         "type": "scatter",
         "x": [
          "1_01",
          "1_02",
          "1_03",
          "1_04",
          "1_05",
          "1_06",
          "1_07",
          "1_08",
          "1_09",
          "1_10",
          "1_11",
          "1_12",
          "1_13",
          "1_14",
          "1_15",
          "1_16",
          "1_17",
          "1_18",
          "1_19",
          "1_20",
          "1_21",
          "1_22",
          "1_23",
          "1_24",
          "1_25",
          "1_26",
          "1_27",
          "1_28",
          "1_29",
          "1_30"
         ],
         "xaxis": "x2",
         "y": [
          37,
          48,
          61.666666666666664,
          68,
          76.66666666666667,
          90.33333333333333,
          102,
          105.66666666666667,
          123.33333333333333,
          130.66666666666666,
          141.33333333333334,
          155,
          162,
          168.33333333333334,
          182.33333333333334,
          192,
          198.33333333333334,
          208.33333333333334,
          229.66666666666666,
          228.66666666666666,
          238,
          246,
          266.6666666666667,
          275.3333333333333,
          288,
          291.3333333333333,
          308.3333333333333,
          310.3333333333333,
          326.6666666666667,
          334.6666666666667
         ],
         "yaxis": "y2"
        }
       ],
       "layout": {
        "annotations": [
         {
          "font": {},
          "showarrow": false,
          "text": "difficulty=0",
          "x": 0.245,
          "xanchor": "center",
          "xref": "paper",
          "y": 1,
          "yanchor": "bottom",
          "yref": "paper"
         },
         {
          "font": {},
          "showarrow": false,
          "text": "difficulty=1",
          "x": 0.755,
          "xanchor": "center",
          "xref": "paper",
          "y": 1,
          "yanchor": "bottom",
          "yref": "paper"
         }
        ],
        "legend": {
         "title": {
          "text": "solver, type"
         },
         "tracegroupgap": 0
        },
        "margin": {
         "t": 60
        },
        "template": {
         "data": {
          "bar": [
           {
            "error_x": {
             "color": "#2a3f5f"
            },
            "error_y": {
             "color": "#2a3f5f"
            },
            "marker": {
             "line": {
              "color": "#E5ECF6",
              "width": 0.5
             },
             "pattern": {
              "fillmode": "overlay",
              "size": 10,
              "solidity": 0.2
             }
            },
            "type": "bar"
           }
          ],
          "barpolar": [
           {
            "marker": {
             "line": {
              "color": "#E5ECF6",
              "width": 0.5
             },
             "pattern": {
              "fillmode": "overlay",
              "size": 10,
              "solidity": 0.2
             }
            },
            "type": "barpolar"
           }
          ],
          "carpet": [
           {
            "aaxis": {
             "endlinecolor": "#2a3f5f",
             "gridcolor": "white",
             "linecolor": "white",
             "minorgridcolor": "white",
             "startlinecolor": "#2a3f5f"
            },
            "baxis": {
             "endlinecolor": "#2a3f5f",
             "gridcolor": "white",
             "linecolor": "white",
             "minorgridcolor": "white",
             "startlinecolor": "#2a3f5f"
            },
            "type": "carpet"
           }
          ],
          "choropleth": [
           {
            "colorbar": {
             "outlinewidth": 0,
             "ticks": ""
            },
            "type": "choropleth"
           }
          ],
          "contour": [
           {
            "colorbar": {
             "outlinewidth": 0,
             "ticks": ""
            },
            "colorscale": [
             [
              0,
              "#0d0887"
             ],
             [
              0.1111111111111111,
              "#46039f"
             ],
             [
              0.2222222222222222,
              "#7201a8"
             ],
             [
              0.3333333333333333,
              "#9c179e"
             ],
             [
              0.4444444444444444,
              "#bd3786"
             ],
             [
              0.5555555555555556,
              "#d8576b"
             ],
             [
              0.6666666666666666,
              "#ed7953"
             ],
             [
              0.7777777777777778,
              "#fb9f3a"
             ],
             [
              0.8888888888888888,
              "#fdca26"
             ],
             [
              1,
              "#f0f921"
             ]
            ],
            "type": "contour"
           }
          ],
          "contourcarpet": [
           {
            "colorbar": {
             "outlinewidth": 0,
             "ticks": ""
            },
            "type": "contourcarpet"
           }
          ],
          "heatmap": [
           {
            "colorbar": {
             "outlinewidth": 0,
             "ticks": ""
            },
            "colorscale": [
             [
              0,
              "#0d0887"
             ],
             [
              0.1111111111111111,
              "#46039f"
             ],
             [
              0.2222222222222222,
              "#7201a8"
             ],
             [
              0.3333333333333333,
              "#9c179e"
             ],
             [
              0.4444444444444444,
              "#bd3786"
             ],
             [
              0.5555555555555556,
              "#d8576b"
             ],
             [
              0.6666666666666666,
              "#ed7953"
             ],
             [
              0.7777777777777778,
              "#fb9f3a"
             ],
             [
              0.8888888888888888,
              "#fdca26"
             ],
             [
              1,
              "#f0f921"
             ]
            ],
            "type": "heatmap"
           }
          ],
          "heatmapgl": [
           {
            "colorbar": {
             "outlinewidth": 0,
             "ticks": ""
            },
            "colorscale": [
             [
              0,
              "#0d0887"
             ],
             [
              0.1111111111111111,
              "#46039f"
             ],
             [
              0.2222222222222222,
              "#7201a8"
             ],
             [
              0.3333333333333333,
              "#9c179e"
             ],
             [
              0.4444444444444444,
              "#bd3786"
             ],
             [
              0.5555555555555556,
              "#d8576b"
             ],
             [
              0.6666666666666666,
              "#ed7953"
             ],
             [
              0.7777777777777778,
              "#fb9f3a"
             ],
             [
              0.8888888888888888,
              "#fdca26"
             ],
             [
              1,
              "#f0f921"
             ]
            ],
            "type": "heatmapgl"
           }
          ],
          "histogram": [
           {
            "marker": {
             "pattern": {
              "fillmode": "overlay",
              "size": 10,
              "solidity": 0.2
             }
            },
            "type": "histogram"
           }
          ],
          "histogram2d": [
           {
            "colorbar": {
             "outlinewidth": 0,
             "ticks": ""
            },
            "colorscale": [
             [
              0,
              "#0d0887"
             ],
             [
              0.1111111111111111,
              "#46039f"
             ],
             [
              0.2222222222222222,
              "#7201a8"
             ],
             [
              0.3333333333333333,
              "#9c179e"
             ],
             [
              0.4444444444444444,
              "#bd3786"
             ],
             [
              0.5555555555555556,
              "#d8576b"
             ],
             [
              0.6666666666666666,
              "#ed7953"
             ],
             [
              0.7777777777777778,
              "#fb9f3a"
             ],
             [
              0.8888888888888888,
              "#fdca26"
             ],
             [
              1,
              "#f0f921"
             ]
            ],
            "type": "histogram2d"
           }
          ],
          "histogram2dcontour": [
           {
            "colorbar": {
             "outlinewidth": 0,
             "ticks": ""
            },
            "colorscale": [
             [
              0,
              "#0d0887"
             ],
             [
              0.1111111111111111,
              "#46039f"
             ],
             [
              0.2222222222222222,
              "#7201a8"
             ],
             [
              0.3333333333333333,
              "#9c179e"
             ],
             [
              0.4444444444444444,
              "#bd3786"
             ],
             [
              0.5555555555555556,
              "#d8576b"
             ],
             [
              0.6666666666666666,
              "#ed7953"
             ],
             [
              0.7777777777777778,
              "#fb9f3a"
             ],
             [
              0.8888888888888888,
              "#fdca26"
             ],
             [
              1,
              "#f0f921"
             ]
            ],
            "type": "histogram2dcontour"
           }
          ],
          "mesh3d": [
           {
            "colorbar": {
             "outlinewidth": 0,
             "ticks": ""
            },
            "type": "mesh3d"
           }
          ],
          "parcoords": [
           {
            "line": {
             "colorbar": {
              "outlinewidth": 0,
              "ticks": ""
             }
            },
            "type": "parcoords"
           }
          ],
          "pie": [
           {
            "automargin": true,
            "type": "pie"
           }
          ],
          "scatter": [
           {
            "fillpattern": {
             "fillmode": "overlay",
             "size": 10,
             "solidity": 0.2
            },
            "type": "scatter"
           }
          ],
          "scatter3d": [
           {
            "line": {
             "colorbar": {
              "outlinewidth": 0,
              "ticks": ""
             }
            },
            "marker": {
             "colorbar": {
              "outlinewidth": 0,
              "ticks": ""
             }
            },
            "type": "scatter3d"
           }
          ],
          "scattercarpet": [
           {
            "marker": {
             "colorbar": {
              "outlinewidth": 0,
              "ticks": ""
             }
            },
            "type": "scattercarpet"
           }
          ],
          "scattergeo": [
           {
            "marker": {
             "colorbar": {
              "outlinewidth": 0,
              "ticks": ""
             }
            },
            "type": "scattergeo"
           }
          ],
          "scattergl": [
           {
            "marker": {
             "colorbar": {
              "outlinewidth": 0,
              "ticks": ""
             }
            },
            "type": "scattergl"
           }
          ],
          "scattermapbox": [
           {
            "marker": {
             "colorbar": {
              "outlinewidth": 0,
              "ticks": ""
             }
            },
            "type": "scattermapbox"
           }
          ],
          "scatterpolar": [
           {
            "marker": {
             "colorbar": {
              "outlinewidth": 0,
              "ticks": ""
             }
            },
            "type": "scatterpolar"
           }
          ],
          "scatterpolargl": [
           {
            "marker": {
             "colorbar": {
              "outlinewidth": 0,
              "ticks": ""
             }
            },
            "type": "scatterpolargl"
           }
          ],
          "scatterternary": [
           {
            "marker": {
             "colorbar": {
              "outlinewidth": 0,
              "ticks": ""
             }
            },
            "type": "scatterternary"
           }
          ],
          "surface": [
           {
            "colorbar": {
             "outlinewidth": 0,
             "ticks": ""
            },
            "colorscale": [
             [
              0,
              "#0d0887"
             ],
             [
              0.1111111111111111,
              "#46039f"
             ],
             [
              0.2222222222222222,
              "#7201a8"
             ],
             [
              0.3333333333333333,
              "#9c179e"
             ],
             [
              0.4444444444444444,
              "#bd3786"
             ],
             [
              0.5555555555555556,
              "#d8576b"
             ],
             [
              0.6666666666666666,
              "#ed7953"
             ],
             [
              0.7777777777777778,
              "#fb9f3a"
             ],
             [
              0.8888888888888888,
              "#fdca26"
             ],
             [
              1,
              "#f0f921"
             ]
            ],
            "type": "surface"
           }
          ],
          "table": [
           {
            "cells": {
             "fill": {
              "color": "#EBF0F8"
             },
             "line": {
              "color": "white"
             }
            },
            "header": {
             "fill": {
              "color": "#C8D4E3"
             },
             "line": {
              "color": "white"
             }
            },
            "type": "table"
           }
          ]
         },
         "layout": {
          "annotationdefaults": {
           "arrowcolor": "#2a3f5f",
           "arrowhead": 0,
           "arrowwidth": 1
          },
          "autotypenumbers": "strict",
          "coloraxis": {
           "colorbar": {
            "outlinewidth": 0,
            "ticks": ""
           }
          },
          "colorscale": {
           "diverging": [
            [
             0,
             "#8e0152"
            ],
            [
             0.1,
             "#c51b7d"
            ],
            [
             0.2,
             "#de77ae"
            ],
            [
             0.3,
             "#f1b6da"
            ],
            [
             0.4,
             "#fde0ef"
            ],
            [
             0.5,
             "#f7f7f7"
            ],
            [
             0.6,
             "#e6f5d0"
            ],
            [
             0.7,
             "#b8e186"
            ],
            [
             0.8,
             "#7fbc41"
            ],
            [
             0.9,
             "#4d9221"
            ],
            [
             1,
             "#276419"
            ]
           ],
           "sequential": [
            [
             0,
             "#0d0887"
            ],
            [
             0.1111111111111111,
             "#46039f"
            ],
            [
             0.2222222222222222,
             "#7201a8"
            ],
            [
             0.3333333333333333,
             "#9c179e"
            ],
            [
             0.4444444444444444,
             "#bd3786"
            ],
            [
             0.5555555555555556,
             "#d8576b"
            ],
            [
             0.6666666666666666,
             "#ed7953"
            ],
            [
             0.7777777777777778,
             "#fb9f3a"
            ],
            [
             0.8888888888888888,
             "#fdca26"
            ],
            [
             1,
             "#f0f921"
            ]
           ],
           "sequentialminus": [
            [
             0,
             "#0d0887"
            ],
            [
             0.1111111111111111,
             "#46039f"
            ],
            [
             0.2222222222222222,
             "#7201a8"
            ],
            [
             0.3333333333333333,
             "#9c179e"
            ],
            [
             0.4444444444444444,
             "#bd3786"
            ],
            [
             0.5555555555555556,
             "#d8576b"
            ],
            [
             0.6666666666666666,
             "#ed7953"
            ],
            [
             0.7777777777777778,
             "#fb9f3a"
            ],
            [
             0.8888888888888888,
             "#fdca26"
            ],
            [
             1,
             "#f0f921"
            ]
           ]
          },
          "colorway": [
           "#636efa",
           "#EF553B",
           "#00cc96",
           "#ab63fa",
           "#FFA15A",
           "#19d3f3",
           "#FF6692",
           "#B6E880",
           "#FF97FF",
           "#FECB52"
          ],
          "font": {
           "color": "#2a3f5f"
          },
          "geo": {
           "bgcolor": "white",
           "lakecolor": "white",
           "landcolor": "#E5ECF6",
           "showlakes": true,
           "showland": true,
           "subunitcolor": "white"
          },
          "hoverlabel": {
           "align": "left"
          },
          "hovermode": "closest",
          "mapbox": {
           "style": "light"
          },
          "paper_bgcolor": "white",
          "plot_bgcolor": "#E5ECF6",
          "polar": {
           "angularaxis": {
            "gridcolor": "white",
            "linecolor": "white",
            "ticks": ""
           },
           "bgcolor": "#E5ECF6",
           "radialaxis": {
            "gridcolor": "white",
            "linecolor": "white",
            "ticks": ""
           }
          },
          "scene": {
           "xaxis": {
            "backgroundcolor": "#E5ECF6",
            "gridcolor": "white",
            "gridwidth": 2,
            "linecolor": "white",
            "showbackground": true,
            "ticks": "",
            "zerolinecolor": "white"
           },
           "yaxis": {
            "backgroundcolor": "#E5ECF6",
            "gridcolor": "white",
            "gridwidth": 2,
            "linecolor": "white",
            "showbackground": true,
            "ticks": "",
            "zerolinecolor": "white"
           },
           "zaxis": {
            "backgroundcolor": "#E5ECF6",
            "gridcolor": "white",
            "gridwidth": 2,
            "linecolor": "white",
            "showbackground": true,
            "ticks": "",
            "zerolinecolor": "white"
           }
          },
          "shapedefaults": {
           "line": {
            "color": "#2a3f5f"
           }
          },
          "ternary": {
           "aaxis": {
            "gridcolor": "white",
            "linecolor": "white",
            "ticks": ""
           },
           "baxis": {
            "gridcolor": "white",
            "linecolor": "white",
            "ticks": ""
           },
           "bgcolor": "#E5ECF6",
           "caxis": {
            "gridcolor": "white",
            "linecolor": "white",
            "ticks": ""
           }
          },
          "title": {
           "x": 0.05
          },
          "xaxis": {
           "automargin": true,
           "gridcolor": "white",
           "linecolor": "white",
           "ticks": "",
           "title": {
            "standoff": 15
           },
           "zerolinecolor": "white",
           "zerolinewidth": 2
          },
          "yaxis": {
           "automargin": true,
           "gridcolor": "white",
           "linecolor": "white",
           "ticks": "",
           "title": {
            "standoff": 15
           },
           "zerolinecolor": "white",
           "zerolinewidth": 2
          }
         }
        },
        "xaxis": {
         "anchor": "y",
         "categoryarray": [
          "0_01",
          "0_02",
          "0_03",
          "0_04",
          "0_05",
          "0_06",
          "0_07",
          "0_08",
          "0_09",
          "0_10",
          "0_11",
          "0_12",
          "0_13",
          "0_14",
          "0_15",
          "0_16",
          "0_17",
          "0_18",
          "0_19",
          "0_20",
          "0_21",
          "0_22",
          "0_23",
          "0_24",
          "0_25",
          "0_26",
          "0_27",
          "0_28",
          "0_29",
          "0_30",
          "1_01",
          "1_02",
          "1_03",
          "1_04",
          "1_05",
          "1_06",
          "1_07",
          "1_08",
          "1_09",
          "1_10",
          "1_11",
          "1_12",
          "1_13",
          "1_14",
          "1_15",
          "1_16",
          "1_17",
          "1_18",
          "1_19",
          "1_20",
          "1_21",
          "1_22",
          "1_23",
          "1_24",
          "1_25",
          "1_26",
          "1_27",
          "1_28",
          "1_29",
          "1_30"
         ],
         "categoryorder": "array",
         "domain": [
          0,
          0.49
         ],
         "showticklabels": true,
         "title": {
          "text": "problem"
         }
        },
        "xaxis2": {
         "anchor": "y2",
         "categoryarray": [
          "0_01",
          "0_02",
          "0_03",
          "0_04",
          "0_05",
          "0_06",
          "0_07",
          "0_08",
          "0_09",
          "0_10",
          "0_11",
          "0_12",
          "0_13",
          "0_14",
          "0_15",
          "0_16",
          "0_17",
          "0_18",
          "0_19",
          "0_20",
          "0_21",
          "0_22",
          "0_23",
          "0_24",
          "0_25",
          "0_26",
          "0_27",
          "0_28",
          "0_29",
          "0_30",
          "1_01",
          "1_02",
          "1_03",
          "1_04",
          "1_05",
          "1_06",
          "1_07",
          "1_08",
          "1_09",
          "1_10",
          "1_11",
          "1_12",
          "1_13",
          "1_14",
          "1_15",
          "1_16",
          "1_17",
          "1_18",
          "1_19",
          "1_20",
          "1_21",
          "1_22",
          "1_23",
          "1_24",
          "1_25",
          "1_26",
          "1_27",
          "1_28",
          "1_29",
          "1_30"
         ],
         "categoryorder": "array",
         "domain": [
          0.51,
          1
         ],
         "showticklabels": true,
         "title": {
          "text": "problem"
         }
        },
        "yaxis": {
         "anchor": "x",
         "domain": [
          0,
          1
         ],
         "showticklabels": true,
         "title": {
          "text": "plan_length_mean"
         }
        },
        "yaxis2": {
         "anchor": "x2",
         "domain": [
          0,
          1
         ],
         "showticklabels": true
        }
       }
      }
     },
     "metadata": {},
     "output_type": "display_data"
    },
    {
     "name": "stdout",
     "output_type": "stream",
     "text": [
      "satellite\n"
     ]
    },
    {
     "data": {
      "application/vnd.plotly.v1+json": {
       "config": {
        "plotlyServerURL": "https://plot.ly"
       },
       "data": [
        {
         "error_y": {
          "array": [
           0.5773502691896258,
           0.5773502691896255,
           1.5275252316519468,
           1.5275252316519468,
           0.5773502691896258,
           1,
           1,
           2,
           1.1547005383792517,
           0.5773502691896263,
           1.5275252316519472,
           0.5773502691896255,
           2.6457513110645907,
           2,
           1,
           2.081665999466133,
           1.7320508075688772,
           0.5773502691896263,
           2.0816659994661326,
           4.618802153517007,
           2.0816659994661335,
           2.516611478423584,
           2.081665999466132,
           2.5166114784235836,
           5.686240703077328,
           2,
           2,
           5.5677643628300215,
           4.04145188432738,
           4.618802153517006
          ]
         },
         "hovertemplate": "solver=baseline<br>type=bounds<br>difficulty=0<br>problem=%{x}<br>plan_length_mean=%{y}<extra></extra>",
         "legendgroup": "baseline, bounds",
         "line": {
          "color": "#636efa",
          "dash": "solid"
         },
         "marker": {
          "symbol": "circle"
         },
         "mode": "lines",
         "name": "baseline, bounds",
         "orientation": "v",
         "showlegend": true,
         "type": "scatter",
         "x": [
          "0_01",
          "0_02",
          "0_03",
          "0_04",
          "0_05",
          "0_06",
          "0_07",
          "0_08",
          "0_09",
          "0_10",
          "0_11",
          "0_12",
          "0_13",
          "0_14",
          "0_15",
          "0_16",
          "0_17",
          "0_18",
          "0_19",
          "0_20",
          "0_21",
          "0_22",
          "0_23",
          "0_24",
          "0_25",
          "0_26",
          "0_27",
          "0_28",
          "0_29",
          "0_30"
         ],
         "xaxis": "x",
         "y": [
          5.333333333333333,
          10.333333333333334,
          12.333333333333334,
          8.333333333333334,
          14.333333333333334,
          16,
          15,
          15,
          17.666666666666668,
          16.666666666666668,
          30.333333333333332,
          19.666666666666668,
          16,
          28,
          27,
          31.333333333333332,
          37,
          23.333333333333332,
          38.333333333333336,
          49.666666666666664,
          49.333333333333336,
          47.333333333333336,
          35.666666666666664,
          20.666666666666668,
          42.333333333333336,
          64,
          55,
          55,
          22.666666666666668,
          44.666666666666664
         ],
         "yaxis": "y"
        },
        {
         "error_y": {
          "array": [
           3.4641016151377544,
           9.865765724632496,
           6.928203230275509,
           5,
           2.88675134594813,
           2.6457513110645907,
           4.58257569495584,
           7.54983443527075,
           7.505553499465134,
           2.6457513110645907,
           6.557438524302,
           6.110100926607786,
           5.291502622129181,
           3.2145502536643145,
           6.082762530298219,
           6.429100507328634,
           9.504384952922168,
           3.7859388972001833,
           3.7859388972001797,
           5.686240703077331,
           8.082903768654758,
           7,
           9.29157324317757,
           11.789826122551595,
           2,
           2.6457513110645907,
           11.59022576714248,
           8.888194417315589,
           6.42910050732864,
           5.686240703077326
          ]
         },
         "hovertemplate": "solver=baseline<br>type=bounds<br>difficulty=1<br>problem=%{x}<br>plan_length_mean=%{y}<extra></extra>",
         "legendgroup": "baseline, bounds",
         "line": {
          "color": "#636efa",
          "dash": "solid"
         },
         "marker": {
          "symbol": "circle"
         },
         "mode": "lines",
         "name": "baseline, bounds",
         "orientation": "v",
         "showlegend": false,
         "type": "scatter",
         "x": [
          "1_01",
          "1_02",
          "1_03",
          "1_04",
          "1_05",
          "1_06",
          "1_07",
          "1_08",
          "1_09",
          "1_10",
          "1_11",
          "1_12",
          "1_13",
          "1_14",
          "1_15",
          "1_16",
          "1_17",
          "1_18",
          "1_19",
          "1_20",
          "1_21",
          "1_22",
          "1_23",
          "1_24",
          "1_25",
          "1_26",
          "1_27",
          "1_28",
          "1_29",
          "1_30"
         ],
         "xaxis": "x2",
         "y": [
          93,
          99.66666666666667,
          93,
          109,
          88.66666666666667,
          106,
          119,
          30,
          106.66666666666667,
          54,
          173,
          121.33333333333333,
          156,
          154.66666666666666,
          60,
          175.66666666666666,
          110.66666666666667,
          74.33333333333333,
          174.66666666666666,
          222.33333333333334,
          208.33333333333334,
          208,
          107.33333333333333,
          249,
          121,
          235,
          271.3333333333333,
          87,
          266.6666666666667,
          146.66666666666666
         ],
         "yaxis": "y2"
        },
        {
         "error_y": {
          "array": [
           null,
           null,
           null,
           null,
           null,
           null,
           null,
           null,
           null,
           null,
           null,
           null,
           null,
           null,
           null,
           null,
           null,
           null,
           null,
           null,
           null,
           null,
           null,
           null,
           null,
           null,
           null,
           null,
           null,
           null
          ]
         },
         "hovertemplate": "solver=optimal<br>type=bounds<br>difficulty=0<br>problem=%{x}<br>plan_length_mean=%{y}<extra></extra>",
         "legendgroup": "optimal, bounds",
         "line": {
          "color": "#EF553B",
          "dash": "solid"
         },
         "marker": {
          "symbol": "circle"
         },
         "mode": "lines",
         "name": "optimal, bounds",
         "orientation": "v",
         "showlegend": true,
         "type": "scatter",
         "x": [
          "0_01",
          "0_02",
          "0_03",
          "0_04",
          "0_05",
          "0_06",
          "0_07",
          "0_08",
          "0_09",
          "0_10",
          "0_11",
          "0_12",
          "0_13",
          "0_14",
          "0_15",
          "0_16",
          "0_17",
          "0_18",
          "0_19",
          "0_20",
          "0_21",
          "0_22",
          "0_23",
          "0_24",
          "0_25",
          "0_26",
          "0_27",
          "0_28",
          "0_29",
          "0_30"
         ],
         "xaxis": "x",
         "y": [
          4,
          8,
          8,
          5,
          9,
          10,
          10,
          8,
          9,
          8,
          17,
          11,
          8,
          18,
          13,
          21,
          21,
          12,
          25,
          30,
          30,
          29,
          18,
          11,
          26,
          null,
          null,
          null,
          12,
          null
         ],
         "yaxis": "y"
        },
        {
         "error_y": {
          "array": [
           null,
           null,
           null,
           null,
           null,
           null,
           null,
           null,
           null,
           null,
           null,
           null,
           null,
           null,
           null,
           null,
           null,
           null,
           null,
           null,
           null,
           null,
           null,
           null,
           null,
           null,
           null,
           null,
           null,
           null
          ]
         },
         "hovertemplate": "solver=optimal<br>type=bounds<br>difficulty=1<br>problem=%{x}<br>plan_length_mean=%{y}<extra></extra>",
         "legendgroup": "optimal, bounds",
         "line": {
          "color": "#EF553B",
          "dash": "solid"
         },
         "marker": {
          "symbol": "circle"
         },
         "mode": "lines",
         "name": "optimal, bounds",
         "orientation": "v",
         "showlegend": false,
         "type": "scatter",
         "x": [
          "1_01",
          "1_02",
          "1_03",
          "1_04",
          "1_05",
          "1_06",
          "1_07",
          "1_08",
          "1_09",
          "1_10",
          "1_11",
          "1_12",
          "1_13",
          "1_14",
          "1_15",
          "1_16",
          "1_17",
          "1_18",
          "1_19",
          "1_20",
          "1_21",
          "1_22",
          "1_23",
          "1_24",
          "1_25",
          "1_26",
          "1_27",
          "1_28",
          "1_29",
          "1_30"
         ],
         "xaxis": "x2",
         "y": [
          null,
          null,
          null,
          null,
          null,
          null,
          null,
          12,
          null,
          21,
          null,
          null,
          null,
          null,
          22,
          null,
          null,
          null,
          null,
          null,
          null,
          null,
          null,
          null,
          null,
          null,
          null,
          null,
          null,
          null
         ],
         "yaxis": "y2"
        },
        {
         "error_y": {
          "array": [
           null,
           null,
           null,
           null,
           null,
           null,
           null,
           null,
           null,
           null,
           null,
           null,
           null,
           null,
           null,
           null,
           null,
           null,
           null,
           null,
           null,
           null,
           null,
           null,
           null,
           null,
           null,
           null,
           null,
           null
          ]
         },
         "hovertemplate": "solver=lama<br>type=bounds<br>difficulty=0<br>problem=%{x}<br>plan_length_mean=%{y}<extra></extra>",
         "legendgroup": "lama, bounds",
         "line": {
          "color": "#00cc96",
          "dash": "solid"
         },
         "marker": {
          "symbol": "circle"
         },
         "mode": "lines",
         "name": "lama, bounds",
         "orientation": "v",
         "showlegend": true,
         "type": "scatter",
         "x": [
          "0_01",
          "0_02",
          "0_03",
          "0_04",
          "0_05",
          "0_06",
          "0_07",
          "0_08",
          "0_09",
          "0_10",
          "0_11",
          "0_12",
          "0_13",
          "0_14",
          "0_15",
          "0_16",
          "0_17",
          "0_18",
          "0_19",
          "0_20",
          "0_21",
          "0_22",
          "0_23",
          "0_24",
          "0_25",
          "0_26",
          "0_27",
          "0_28",
          "0_29",
          "0_30"
         ],
         "xaxis": "x",
         "y": [
          4,
          8,
          8,
          5,
          9,
          15,
          10,
          10,
          10,
          8,
          21,
          12,
          10,
          18,
          13,
          22,
          21,
          14,
          26,
          37,
          34,
          30,
          19,
          12,
          28,
          52,
          40,
          36,
          13,
          33
         ],
         "yaxis": "y"
        },
        {
         "error_y": {
          "array": [
           null,
           null,
           null,
           null,
           null,
           null,
           null,
           null,
           null,
           null,
           null,
           null,
           null,
           null,
           null,
           null,
           null,
           null,
           null,
           null,
           null,
           null,
           null,
           null,
           null,
           null,
           null,
           null,
           null,
           null
          ]
         },
         "hovertemplate": "solver=lama<br>type=bounds<br>difficulty=1<br>problem=%{x}<br>plan_length_mean=%{y}<extra></extra>",
         "legendgroup": "lama, bounds",
         "line": {
          "color": "#00cc96",
          "dash": "solid"
         },
         "marker": {
          "symbol": "circle"
         },
         "mode": "lines",
         "name": "lama, bounds",
         "orientation": "v",
         "showlegend": false,
         "type": "scatter",
         "x": [
          "1_01",
          "1_02",
          "1_03",
          "1_04",
          "1_05",
          "1_06",
          "1_07",
          "1_08",
          "1_09",
          "1_10",
          "1_11",
          "1_12",
          "1_13",
          "1_14",
          "1_15",
          "1_16",
          "1_17",
          "1_18",
          "1_19",
          "1_20",
          "1_21",
          "1_22",
          "1_23",
          "1_24",
          "1_25",
          "1_26",
          "1_27",
          "1_28",
          "1_29",
          "1_30"
         ],
         "xaxis": "x2",
         "y": [
          64,
          77,
          59,
          77,
          74,
          63,
          67,
          13,
          76,
          23,
          116,
          80,
          115,
          99,
          22,
          113,
          58,
          37,
          132,
          170,
          142,
          125,
          52,
          184,
          74,
          175,
          197,
          31,
          209,
          78
         ],
         "yaxis": "y2"
        },
        {
         "error_y": {
          "array": [
           1,
           1.7320508075688772,
           2.5166114784235836,
           2.3094010767585034,
           3.4641016151377544,
           4.932882862316248,
           2.8867513459481287,
           1,
           3,
           5.773502691896258,
           6.244997998398398,
           1,
           1,
           5,
           3.511884584284246,
           6.658328118479393,
           8.54400374531753,
           1.7320508075688772,
           7.937253933193772,
           7.937253933193772,
           4.58257569495584,
           10.066445913694334,
           4.163331998932265,
           0,
           3.055050463303893,
           9.643650760992955,
           13.428824718989123,
           7.637626158259733,
           1.7320508075688772,
           2.3094010767585034
          ]
         },
         "hovertemplate": "solver=L2_D8_best<br>type=lrnn_best<br>difficulty=0<br>problem=%{x}<br>plan_length_mean=%{y}<extra></extra>",
         "legendgroup": "L2_D8_best, lrnn_best",
         "line": {
          "color": "#ab63fa",
          "dash": "dot"
         },
         "marker": {
          "symbol": "circle"
         },
         "mode": "lines",
         "name": "L2_D8_best, lrnn_best",
         "orientation": "v",
         "showlegend": true,
         "type": "scatter",
         "x": [
          "0_01",
          "0_02",
          "0_03",
          "0_04",
          "0_05",
          "0_06",
          "0_07",
          "0_08",
          "0_09",
          "0_10",
          "0_11",
          "0_12",
          "0_13",
          "0_14",
          "0_15",
          "0_16",
          "0_17",
          "0_18",
          "0_19",
          "0_20",
          "0_21",
          "0_22",
          "0_23",
          "0_24",
          "0_25",
          "0_26",
          "0_27",
          "0_28",
          "0_29",
          "0_30"
         ],
         "xaxis": "x",
         "y": [
          5,
          9,
          11.666666666666666,
          8.666666666666666,
          11,
          14.333333333333334,
          12.666666666666666,
          10,
          13,
          12.333333333333334,
          24,
          16,
          9,
          26,
          20.333333333333332,
          29.666666666666668,
          31,
          14,
          36,
          43,
          35,
          44.666666666666664,
          25.333333333333332,
          12,
          32.666666666666664,
          56,
          47.666666666666664,
          43.666666666666664,
          14,
          34.333333333333336
         ],
         "yaxis": "y"
        },
        {
         "error_y": {
          "array": [
           9.539392014169456,
           5.507570547286103,
           17.7857620959388,
           10.392304845413264,
           14.730919862656235,
           23.24507116214819,
           14.571661996262929,
           0,
           28.919428302325297,
           0.5773502691896255,
           24.11085509336683,
           13,
           27.736858750286295,
           32.92415526630866,
           1.1547005383792517,
           36.35014901390823,
           7.505553499465133,
           4.58257569495584,
           36.8284310463171,
           50.54041287260456,
           29.263173671584795,
           37.072002014098636,
           1.154700538379251,
           38.58756276314948,
           9.712534856222309,
           57.87342510456188,
           61.554853586049575,
           1.7320508075688772,
           70.44856279584417,
           6.350852961085884
          ]
         },
         "hovertemplate": "solver=L2_D8_best<br>type=lrnn_best<br>difficulty=1<br>problem=%{x}<br>plan_length_mean=%{y}<extra></extra>",
         "legendgroup": "L2_D8_best, lrnn_best",
         "line": {
          "color": "#ab63fa",
          "dash": "dot"
         },
         "marker": {
          "symbol": "circle"
         },
         "mode": "lines",
         "name": "L2_D8_best, lrnn_best",
         "orientation": "v",
         "showlegend": false,
         "type": "scatter",
         "x": [
          "1_01",
          "1_02",
          "1_03",
          "1_04",
          "1_05",
          "1_06",
          "1_07",
          "1_08",
          "1_09",
          "1_10",
          "1_11",
          "1_12",
          "1_13",
          "1_14",
          "1_15",
          "1_16",
          "1_17",
          "1_18",
          "1_19",
          "1_20",
          "1_21",
          "1_22",
          "1_23",
          "1_24",
          "1_25",
          "1_26",
          "1_27",
          "1_28",
          "1_29",
          "1_30"
         ],
         "xaxis": "x2",
         "y": [
          103,
          101.66666666666667,
          94.33333333333333,
          108,
          86,
          83.66666666666667,
          103.66666666666667,
          13,
          93.66666666666667,
          25.333333333333332,
          168.66666666666666,
          94,
          139.33333333333334,
          138,
          28.333333333333332,
          149.33333333333334,
          81.33333333333333,
          40,
          148.33333333333334,
          197.66666666666666,
          175.33333333333334,
          168.33333333333334,
          56.666666666666664,
          245,
          74.33333333333333,
          237.33333333333334,
          257,
          33,
          249,
          92.66666666666667
         ],
         "yaxis": "y2"
        },
        {
         "error_y": {
          "array": [
           0.5773502691896257,
           2,
           2.081665999466133,
           1,
           2.6457513110645907,
           0.5773502691896258,
           4.163331998932266,
           2.0816659994661326,
           5.131601439446884,
           4.618802153517007,
           2.5166114784235827,
           2.081665999466133,
           2.3094010767585034,
           6.506407098647712,
           3.5118845842842465,
           6.429100507328636,
           6.027713773341707,
           4.358898943540674,
           3.0550504633038926,
           7.505553499465134,
           9.291573243177568,
           6.082762530298219,
           7.571877794400366,
           4.509249752822894,
           10.016652800877814,
           3.5118845842842448,
           8.144527815247079,
           6.658328118479393,
           1,
           5.5677643628300215
          ]
         },
         "hovertemplate": "solver=L2_D16_best<br>type=lrnn_best<br>difficulty=0<br>problem=%{x}<br>plan_length_mean=%{y}<extra></extra>",
         "legendgroup": "L2_D16_best, lrnn_best",
         "line": {
          "color": "#FFA15A",
          "dash": "dot"
         },
         "marker": {
          "symbol": "circle"
         },
         "mode": "lines",
         "name": "L2_D16_best, lrnn_best",
         "orientation": "v",
         "showlegend": true,
         "type": "scatter",
         "x": [
          "0_01",
          "0_02",
          "0_03",
          "0_04",
          "0_05",
          "0_06",
          "0_07",
          "0_08",
          "0_09",
          "0_10",
          "0_11",
          "0_12",
          "0_13",
          "0_14",
          "0_15",
          "0_16",
          "0_17",
          "0_18",
          "0_19",
          "0_20",
          "0_21",
          "0_22",
          "0_23",
          "0_24",
          "0_25",
          "0_26",
          "0_27",
          "0_28",
          "0_29",
          "0_30"
         ],
         "xaxis": "x",
         "y": [
          5.333333333333333,
          10,
          11.666666666666666,
          9,
          14,
          14.666666666666666,
          14.666666666666666,
          13.333333333333334,
          14.666666666666666,
          13.666666666666666,
          28.666666666666668,
          16.333333333333332,
          11.666666666666666,
          24.666666666666668,
          26.333333333333332,
          31.666666666666668,
          36.333333333333336,
          20,
          40.333333333333336,
          46.333333333333336,
          43.333333333333336,
          43,
          34.666666666666664,
          18.333333333333332,
          35.666666666666664,
          65.66666666666667,
          55.666666666666664,
          58.666666666666664,
          21,
          42
         ],
         "yaxis": "y"
        },
        {
         "error_y": {
          "array": [
           14.468356276140469,
           10.21436896402971,
           14,
           6.806859285554045,
           18.036999011291574,
           18.734993995195193,
           18.14754345175493,
           11.532562594670797,
           16.502525059315417,
           12.529964086141668,
           7,
           28.148416178061126,
           20.03330560175562,
           25.709920264364882,
           9.16515138991168,
           29.50141239556732,
           31.89566323708183,
           25.32455988429677,
           22.368132093076827,
           5.5075705472861065,
           24.542480178933292,
           14.74222959166399,
           38.07011076071796,
           3.0550504633038997,
           22.60530911091463,
           24.09010862020621,
           25.774664562964404,
           31.895663237081827,
           21.548395145191975,
           43.01550108197432
          ]
         },
         "hovertemplate": "solver=L2_D16_best<br>type=lrnn_best<br>difficulty=1<br>problem=%{x}<br>plan_length_mean=%{y}<extra></extra>",
         "legendgroup": "L2_D16_best, lrnn_best",
         "line": {
          "color": "#FFA15A",
          "dash": "dot"
         },
         "marker": {
          "symbol": "circle"
         },
         "mode": "lines",
         "name": "L2_D16_best, lrnn_best",
         "orientation": "v",
         "showlegend": false,
         "type": "scatter",
         "x": [
          "1_01",
          "1_02",
          "1_03",
          "1_04",
          "1_05",
          "1_06",
          "1_07",
          "1_08",
          "1_09",
          "1_10",
          "1_11",
          "1_12",
          "1_13",
          "1_14",
          "1_15",
          "1_16",
          "1_17",
          "1_18",
          "1_19",
          "1_20",
          "1_21",
          "1_22",
          "1_23",
          "1_24",
          "1_25",
          "1_26",
          "1_27",
          "1_28",
          "1_29",
          "1_30"
         ],
         "xaxis": "x2",
         "y": [
          94.66666666666667,
          97.33333333333333,
          89,
          109.66666666666667,
          86.66666666666667,
          93,
          116.66666666666667,
          27,
          111.66666666666667,
          49,
          186,
          107.66666666666667,
          154.33333333333334,
          149,
          60,
          167.33333333333334,
          112.33333333333333,
          76.66666666666667,
          180.66666666666666,
          238.66666666666666,
          205.66666666666666,
          218.66666666666666,
          108.33333333333333,
          267.3333333333333,
          125,
          245.66666666666666,
          286.6666666666667,
          93.66666666666667,
          270.6666666666667,
          142.66666666666666
         ],
         "yaxis": "y2"
        },
        {
         "error_y": {
          "array": [
           null,
           null,
           null,
           null,
           null,
           null,
           null,
           null,
           null,
           null,
           null,
           null,
           null,
           null,
           null,
           null,
           null,
           null,
           null,
           null,
           null,
           null,
           null,
           null,
           null,
           null,
           null,
           null,
           null,
           null
          ]
         },
         "hovertemplate": "solver=L3_D8_best<br>type=lrnn_best<br>difficulty=0<br>problem=%{x}<br>plan_length_mean=%{y}<extra></extra>",
         "legendgroup": "L3_D8_best, lrnn_best",
         "line": {
          "color": "#19d3f3",
          "dash": "dot"
         },
         "marker": {
          "symbol": "circle"
         },
         "mode": "lines",
         "name": "L3_D8_best, lrnn_best",
         "orientation": "v",
         "showlegend": true,
         "type": "scatter",
         "x": [
          "0_01",
          "0_02",
          "0_03",
          "0_04",
          "0_05",
          "0_06",
          "0_07",
          "0_08",
          "0_09",
          "0_10",
          "0_11",
          "0_12",
          "0_13",
          "0_14",
          "0_15",
          "0_16",
          "0_17",
          "0_18",
          "0_19",
          "0_20",
          "0_21",
          "0_22",
          "0_23",
          "0_24",
          "0_25",
          "0_26",
          "0_27",
          "0_28",
          "0_29",
          "0_30"
         ],
         "xaxis": "x",
         "y": [
          4,
          13,
          11,
          9,
          16,
          17,
          16,
          15,
          18,
          21,
          31,
          14,
          10,
          21,
          21,
          35,
          37,
          22,
          40,
          52,
          50,
          51,
          34,
          15,
          42,
          70,
          66,
          59,
          22,
          47
         ],
         "yaxis": "y"
        },
        {
         "error_y": {
          "array": [
           null,
           null,
           null,
           null,
           null,
           null,
           null,
           null,
           null,
           null,
           null,
           null,
           null,
           null,
           null,
           null,
           null,
           null
          ]
         },
         "hovertemplate": "solver=L3_D8_best<br>type=lrnn_best<br>difficulty=1<br>problem=%{x}<br>plan_length_mean=%{y}<extra></extra>",
         "legendgroup": "L3_D8_best, lrnn_best",
         "line": {
          "color": "#19d3f3",
          "dash": "dot"
         },
         "marker": {
          "symbol": "circle"
         },
         "mode": "lines",
         "name": "L3_D8_best, lrnn_best",
         "orientation": "v",
         "showlegend": false,
         "type": "scatter",
         "x": [
          "1_01",
          "1_02",
          "1_03",
          "1_04",
          "1_05",
          "1_06",
          "1_07",
          "1_08",
          "1_09",
          "1_10",
          "1_12",
          "1_13",
          "1_14",
          "1_15",
          "1_17",
          "1_18",
          "1_23",
          "1_28"
         ],
         "xaxis": "x2",
         "y": [
          108,
          108,
          104,
          120,
          100,
          105,
          128,
          27,
          120,
          59,
          142,
          175,
          166,
          56,
          135,
          84,
          134,
          85
         ],
         "yaxis": "y2"
        }
       ],
       "layout": {
        "annotations": [
         {
          "font": {},
          "showarrow": false,
          "text": "difficulty=0",
          "x": 0.245,
          "xanchor": "center",
          "xref": "paper",
          "y": 1,
          "yanchor": "bottom",
          "yref": "paper"
         },
         {
          "font": {},
          "showarrow": false,
          "text": "difficulty=1",
          "x": 0.755,
          "xanchor": "center",
          "xref": "paper",
          "y": 1,
          "yanchor": "bottom",
          "yref": "paper"
         }
        ],
        "legend": {
         "title": {
          "text": "solver, type"
         },
         "tracegroupgap": 0
        },
        "margin": {
         "t": 60
        },
        "template": {
         "data": {
          "bar": [
           {
            "error_x": {
             "color": "#2a3f5f"
            },
            "error_y": {
             "color": "#2a3f5f"
            },
            "marker": {
             "line": {
              "color": "#E5ECF6",
              "width": 0.5
             },
             "pattern": {
              "fillmode": "overlay",
              "size": 10,
              "solidity": 0.2
             }
            },
            "type": "bar"
           }
          ],
          "barpolar": [
           {
            "marker": {
             "line": {
              "color": "#E5ECF6",
              "width": 0.5
             },
             "pattern": {
              "fillmode": "overlay",
              "size": 10,
              "solidity": 0.2
             }
            },
            "type": "barpolar"
           }
          ],
          "carpet": [
           {
            "aaxis": {
             "endlinecolor": "#2a3f5f",
             "gridcolor": "white",
             "linecolor": "white",
             "minorgridcolor": "white",
             "startlinecolor": "#2a3f5f"
            },
            "baxis": {
             "endlinecolor": "#2a3f5f",
             "gridcolor": "white",
             "linecolor": "white",
             "minorgridcolor": "white",
             "startlinecolor": "#2a3f5f"
            },
            "type": "carpet"
           }
          ],
          "choropleth": [
           {
            "colorbar": {
             "outlinewidth": 0,
             "ticks": ""
            },
            "type": "choropleth"
           }
          ],
          "contour": [
           {
            "colorbar": {
             "outlinewidth": 0,
             "ticks": ""
            },
            "colorscale": [
             [
              0,
              "#0d0887"
             ],
             [
              0.1111111111111111,
              "#46039f"
             ],
             [
              0.2222222222222222,
              "#7201a8"
             ],
             [
              0.3333333333333333,
              "#9c179e"
             ],
             [
              0.4444444444444444,
              "#bd3786"
             ],
             [
              0.5555555555555556,
              "#d8576b"
             ],
             [
              0.6666666666666666,
              "#ed7953"
             ],
             [
              0.7777777777777778,
              "#fb9f3a"
             ],
             [
              0.8888888888888888,
              "#fdca26"
             ],
             [
              1,
              "#f0f921"
             ]
            ],
            "type": "contour"
           }
          ],
          "contourcarpet": [
           {
            "colorbar": {
             "outlinewidth": 0,
             "ticks": ""
            },
            "type": "contourcarpet"
           }
          ],
          "heatmap": [
           {
            "colorbar": {
             "outlinewidth": 0,
             "ticks": ""
            },
            "colorscale": [
             [
              0,
              "#0d0887"
             ],
             [
              0.1111111111111111,
              "#46039f"
             ],
             [
              0.2222222222222222,
              "#7201a8"
             ],
             [
              0.3333333333333333,
              "#9c179e"
             ],
             [
              0.4444444444444444,
              "#bd3786"
             ],
             [
              0.5555555555555556,
              "#d8576b"
             ],
             [
              0.6666666666666666,
              "#ed7953"
             ],
             [
              0.7777777777777778,
              "#fb9f3a"
             ],
             [
              0.8888888888888888,
              "#fdca26"
             ],
             [
              1,
              "#f0f921"
             ]
            ],
            "type": "heatmap"
           }
          ],
          "heatmapgl": [
           {
            "colorbar": {
             "outlinewidth": 0,
             "ticks": ""
            },
            "colorscale": [
             [
              0,
              "#0d0887"
             ],
             [
              0.1111111111111111,
              "#46039f"
             ],
             [
              0.2222222222222222,
              "#7201a8"
             ],
             [
              0.3333333333333333,
              "#9c179e"
             ],
             [
              0.4444444444444444,
              "#bd3786"
             ],
             [
              0.5555555555555556,
              "#d8576b"
             ],
             [
              0.6666666666666666,
              "#ed7953"
             ],
             [
              0.7777777777777778,
              "#fb9f3a"
             ],
             [
              0.8888888888888888,
              "#fdca26"
             ],
             [
              1,
              "#f0f921"
             ]
            ],
            "type": "heatmapgl"
           }
          ],
          "histogram": [
           {
            "marker": {
             "pattern": {
              "fillmode": "overlay",
              "size": 10,
              "solidity": 0.2
             }
            },
            "type": "histogram"
           }
          ],
          "histogram2d": [
           {
            "colorbar": {
             "outlinewidth": 0,
             "ticks": ""
            },
            "colorscale": [
             [
              0,
              "#0d0887"
             ],
             [
              0.1111111111111111,
              "#46039f"
             ],
             [
              0.2222222222222222,
              "#7201a8"
             ],
             [
              0.3333333333333333,
              "#9c179e"
             ],
             [
              0.4444444444444444,
              "#bd3786"
             ],
             [
              0.5555555555555556,
              "#d8576b"
             ],
             [
              0.6666666666666666,
              "#ed7953"
             ],
             [
              0.7777777777777778,
              "#fb9f3a"
             ],
             [
              0.8888888888888888,
              "#fdca26"
             ],
             [
              1,
              "#f0f921"
             ]
            ],
            "type": "histogram2d"
           }
          ],
          "histogram2dcontour": [
           {
            "colorbar": {
             "outlinewidth": 0,
             "ticks": ""
            },
            "colorscale": [
             [
              0,
              "#0d0887"
             ],
             [
              0.1111111111111111,
              "#46039f"
             ],
             [
              0.2222222222222222,
              "#7201a8"
             ],
             [
              0.3333333333333333,
              "#9c179e"
             ],
             [
              0.4444444444444444,
              "#bd3786"
             ],
             [
              0.5555555555555556,
              "#d8576b"
             ],
             [
              0.6666666666666666,
              "#ed7953"
             ],
             [
              0.7777777777777778,
              "#fb9f3a"
             ],
             [
              0.8888888888888888,
              "#fdca26"
             ],
             [
              1,
              "#f0f921"
             ]
            ],
            "type": "histogram2dcontour"
           }
          ],
          "mesh3d": [
           {
            "colorbar": {
             "outlinewidth": 0,
             "ticks": ""
            },
            "type": "mesh3d"
           }
          ],
          "parcoords": [
           {
            "line": {
             "colorbar": {
              "outlinewidth": 0,
              "ticks": ""
             }
            },
            "type": "parcoords"
           }
          ],
          "pie": [
           {
            "automargin": true,
            "type": "pie"
           }
          ],
          "scatter": [
           {
            "fillpattern": {
             "fillmode": "overlay",
             "size": 10,
             "solidity": 0.2
            },
            "type": "scatter"
           }
          ],
          "scatter3d": [
           {
            "line": {
             "colorbar": {
              "outlinewidth": 0,
              "ticks": ""
             }
            },
            "marker": {
             "colorbar": {
              "outlinewidth": 0,
              "ticks": ""
             }
            },
            "type": "scatter3d"
           }
          ],
          "scattercarpet": [
           {
            "marker": {
             "colorbar": {
              "outlinewidth": 0,
              "ticks": ""
             }
            },
            "type": "scattercarpet"
           }
          ],
          "scattergeo": [
           {
            "marker": {
             "colorbar": {
              "outlinewidth": 0,
              "ticks": ""
             }
            },
            "type": "scattergeo"
           }
          ],
          "scattergl": [
           {
            "marker": {
             "colorbar": {
              "outlinewidth": 0,
              "ticks": ""
             }
            },
            "type": "scattergl"
           }
          ],
          "scattermapbox": [
           {
            "marker": {
             "colorbar": {
              "outlinewidth": 0,
              "ticks": ""
             }
            },
            "type": "scattermapbox"
           }
          ],
          "scatterpolar": [
           {
            "marker": {
             "colorbar": {
              "outlinewidth": 0,
              "ticks": ""
             }
            },
            "type": "scatterpolar"
           }
          ],
          "scatterpolargl": [
           {
            "marker": {
             "colorbar": {
              "outlinewidth": 0,
              "ticks": ""
             }
            },
            "type": "scatterpolargl"
           }
          ],
          "scatterternary": [
           {
            "marker": {
             "colorbar": {
              "outlinewidth": 0,
              "ticks": ""
             }
            },
            "type": "scatterternary"
           }
          ],
          "surface": [
           {
            "colorbar": {
             "outlinewidth": 0,
             "ticks": ""
            },
            "colorscale": [
             [
              0,
              "#0d0887"
             ],
             [
              0.1111111111111111,
              "#46039f"
             ],
             [
              0.2222222222222222,
              "#7201a8"
             ],
             [
              0.3333333333333333,
              "#9c179e"
             ],
             [
              0.4444444444444444,
              "#bd3786"
             ],
             [
              0.5555555555555556,
              "#d8576b"
             ],
             [
              0.6666666666666666,
              "#ed7953"
             ],
             [
              0.7777777777777778,
              "#fb9f3a"
             ],
             [
              0.8888888888888888,
              "#fdca26"
             ],
             [
              1,
              "#f0f921"
             ]
            ],
            "type": "surface"
           }
          ],
          "table": [
           {
            "cells": {
             "fill": {
              "color": "#EBF0F8"
             },
             "line": {
              "color": "white"
             }
            },
            "header": {
             "fill": {
              "color": "#C8D4E3"
             },
             "line": {
              "color": "white"
             }
            },
            "type": "table"
           }
          ]
         },
         "layout": {
          "annotationdefaults": {
           "arrowcolor": "#2a3f5f",
           "arrowhead": 0,
           "arrowwidth": 1
          },
          "autotypenumbers": "strict",
          "coloraxis": {
           "colorbar": {
            "outlinewidth": 0,
            "ticks": ""
           }
          },
          "colorscale": {
           "diverging": [
            [
             0,
             "#8e0152"
            ],
            [
             0.1,
             "#c51b7d"
            ],
            [
             0.2,
             "#de77ae"
            ],
            [
             0.3,
             "#f1b6da"
            ],
            [
             0.4,
             "#fde0ef"
            ],
            [
             0.5,
             "#f7f7f7"
            ],
            [
             0.6,
             "#e6f5d0"
            ],
            [
             0.7,
             "#b8e186"
            ],
            [
             0.8,
             "#7fbc41"
            ],
            [
             0.9,
             "#4d9221"
            ],
            [
             1,
             "#276419"
            ]
           ],
           "sequential": [
            [
             0,
             "#0d0887"
            ],
            [
             0.1111111111111111,
             "#46039f"
            ],
            [
             0.2222222222222222,
             "#7201a8"
            ],
            [
             0.3333333333333333,
             "#9c179e"
            ],
            [
             0.4444444444444444,
             "#bd3786"
            ],
            [
             0.5555555555555556,
             "#d8576b"
            ],
            [
             0.6666666666666666,
             "#ed7953"
            ],
            [
             0.7777777777777778,
             "#fb9f3a"
            ],
            [
             0.8888888888888888,
             "#fdca26"
            ],
            [
             1,
             "#f0f921"
            ]
           ],
           "sequentialminus": [
            [
             0,
             "#0d0887"
            ],
            [
             0.1111111111111111,
             "#46039f"
            ],
            [
             0.2222222222222222,
             "#7201a8"
            ],
            [
             0.3333333333333333,
             "#9c179e"
            ],
            [
             0.4444444444444444,
             "#bd3786"
            ],
            [
             0.5555555555555556,
             "#d8576b"
            ],
            [
             0.6666666666666666,
             "#ed7953"
            ],
            [
             0.7777777777777778,
             "#fb9f3a"
            ],
            [
             0.8888888888888888,
             "#fdca26"
            ],
            [
             1,
             "#f0f921"
            ]
           ]
          },
          "colorway": [
           "#636efa",
           "#EF553B",
           "#00cc96",
           "#ab63fa",
           "#FFA15A",
           "#19d3f3",
           "#FF6692",
           "#B6E880",
           "#FF97FF",
           "#FECB52"
          ],
          "font": {
           "color": "#2a3f5f"
          },
          "geo": {
           "bgcolor": "white",
           "lakecolor": "white",
           "landcolor": "#E5ECF6",
           "showlakes": true,
           "showland": true,
           "subunitcolor": "white"
          },
          "hoverlabel": {
           "align": "left"
          },
          "hovermode": "closest",
          "mapbox": {
           "style": "light"
          },
          "paper_bgcolor": "white",
          "plot_bgcolor": "#E5ECF6",
          "polar": {
           "angularaxis": {
            "gridcolor": "white",
            "linecolor": "white",
            "ticks": ""
           },
           "bgcolor": "#E5ECF6",
           "radialaxis": {
            "gridcolor": "white",
            "linecolor": "white",
            "ticks": ""
           }
          },
          "scene": {
           "xaxis": {
            "backgroundcolor": "#E5ECF6",
            "gridcolor": "white",
            "gridwidth": 2,
            "linecolor": "white",
            "showbackground": true,
            "ticks": "",
            "zerolinecolor": "white"
           },
           "yaxis": {
            "backgroundcolor": "#E5ECF6",
            "gridcolor": "white",
            "gridwidth": 2,
            "linecolor": "white",
            "showbackground": true,
            "ticks": "",
            "zerolinecolor": "white"
           },
           "zaxis": {
            "backgroundcolor": "#E5ECF6",
            "gridcolor": "white",
            "gridwidth": 2,
            "linecolor": "white",
            "showbackground": true,
            "ticks": "",
            "zerolinecolor": "white"
           }
          },
          "shapedefaults": {
           "line": {
            "color": "#2a3f5f"
           }
          },
          "ternary": {
           "aaxis": {
            "gridcolor": "white",
            "linecolor": "white",
            "ticks": ""
           },
           "baxis": {
            "gridcolor": "white",
            "linecolor": "white",
            "ticks": ""
           },
           "bgcolor": "#E5ECF6",
           "caxis": {
            "gridcolor": "white",
            "linecolor": "white",
            "ticks": ""
           }
          },
          "title": {
           "x": 0.05
          },
          "xaxis": {
           "automargin": true,
           "gridcolor": "white",
           "linecolor": "white",
           "ticks": "",
           "title": {
            "standoff": 15
           },
           "zerolinecolor": "white",
           "zerolinewidth": 2
          },
          "yaxis": {
           "automargin": true,
           "gridcolor": "white",
           "linecolor": "white",
           "ticks": "",
           "title": {
            "standoff": 15
           },
           "zerolinecolor": "white",
           "zerolinewidth": 2
          }
         }
        },
        "xaxis": {
         "anchor": "y",
         "categoryarray": [
          "0_01",
          "0_02",
          "0_03",
          "0_04",
          "0_05",
          "0_06",
          "0_07",
          "0_08",
          "0_09",
          "0_10",
          "0_11",
          "0_12",
          "0_13",
          "0_14",
          "0_15",
          "0_16",
          "0_17",
          "0_18",
          "0_19",
          "0_20",
          "0_21",
          "0_22",
          "0_23",
          "0_24",
          "0_25",
          "0_26",
          "0_27",
          "0_28",
          "0_29",
          "0_30",
          "1_01",
          "1_02",
          "1_03",
          "1_04",
          "1_05",
          "1_06",
          "1_07",
          "1_08",
          "1_09",
          "1_10",
          "1_11",
          "1_12",
          "1_13",
          "1_14",
          "1_15",
          "1_16",
          "1_17",
          "1_18",
          "1_19",
          "1_20",
          "1_21",
          "1_22",
          "1_23",
          "1_24",
          "1_25",
          "1_26",
          "1_27",
          "1_28",
          "1_29",
          "1_30"
         ],
         "categoryorder": "array",
         "domain": [
          0,
          0.49
         ],
         "showticklabels": true,
         "title": {
          "text": "problem"
         }
        },
        "xaxis2": {
         "anchor": "y2",
         "categoryarray": [
          "0_01",
          "0_02",
          "0_03",
          "0_04",
          "0_05",
          "0_06",
          "0_07",
          "0_08",
          "0_09",
          "0_10",
          "0_11",
          "0_12",
          "0_13",
          "0_14",
          "0_15",
          "0_16",
          "0_17",
          "0_18",
          "0_19",
          "0_20",
          "0_21",
          "0_22",
          "0_23",
          "0_24",
          "0_25",
          "0_26",
          "0_27",
          "0_28",
          "0_29",
          "0_30",
          "1_01",
          "1_02",
          "1_03",
          "1_04",
          "1_05",
          "1_06",
          "1_07",
          "1_08",
          "1_09",
          "1_10",
          "1_11",
          "1_12",
          "1_13",
          "1_14",
          "1_15",
          "1_16",
          "1_17",
          "1_18",
          "1_19",
          "1_20",
          "1_21",
          "1_22",
          "1_23",
          "1_24",
          "1_25",
          "1_26",
          "1_27",
          "1_28",
          "1_29",
          "1_30"
         ],
         "categoryorder": "array",
         "domain": [
          0.51,
          1
         ],
         "showticklabels": true,
         "title": {
          "text": "problem"
         }
        },
        "yaxis": {
         "anchor": "x",
         "domain": [
          0,
          1
         ],
         "showticklabels": true,
         "title": {
          "text": "plan_length_mean"
         }
        },
        "yaxis2": {
         "anchor": "x2",
         "domain": [
          0,
          1
         ],
         "showticklabels": true
        }
       }
      }
     },
     "metadata": {},
     "output_type": "display_data"
    },
    {
     "name": "stdout",
     "output_type": "stream",
     "text": [
      "rover\n"
     ]
    },
    {
     "data": {
      "application/vnd.plotly.v1+json": {
       "config": {
        "plotlyServerURL": "https://plot.ly"
       },
       "data": [
        {
         "error_y": {
          "array": [
           0,
           0.5773502691896255,
           0,
           0,
           0.5773502691896257,
           0.5773502691896255,
           0,
           0.5773502691896255,
           0,
           0,
           1.154700538379251,
           1.5275252316519463,
           3.0550504633038944,
           0,
           3,
           0.5773502691896255,
           1.5275252316519468,
           0,
           5.507570547286102,
           0.5773502691896247,
           3.605551275463989,
           11.59022576714247,
           0.5773502691896247,
           7.234178138070236,
           2.309401076758502,
           1.154700538379251,
           5.859465277082317,
           25.890796305508516,
           0,
           8.888194417315589
          ]
         },
         "hovertemplate": "solver=baseline<br>type=bounds<br>difficulty=0<br>problem=%{x}<br>plan_length_mean=%{y}<extra></extra>",
         "legendgroup": "baseline, bounds",
         "line": {
          "color": "#636efa",
          "dash": "solid"
         },
         "marker": {
          "symbol": "circle"
         },
         "mode": "lines",
         "name": "baseline, bounds",
         "orientation": "v",
         "showlegend": true,
         "type": "scatter",
         "x": [
          "0_01",
          "0_02",
          "0_03",
          "0_04",
          "0_05",
          "0_06",
          "0_07",
          "0_08",
          "0_09",
          "0_10",
          "0_11",
          "0_12",
          "0_13",
          "0_14",
          "0_15",
          "0_16",
          "0_17",
          "0_18",
          "0_19",
          "0_20",
          "0_21",
          "0_22",
          "0_23",
          "0_24",
          "0_25",
          "0_26",
          "0_27",
          "0_28",
          "0_29",
          "0_30"
         ],
         "xaxis": "x",
         "y": [
          9,
          16.666666666666668,
          24,
          17,
          6.666666666666667,
          20.333333333333332,
          34,
          18.333333333333332,
          6,
          17,
          26.666666666666668,
          31.666666666666668,
          38.333333333333336,
          25,
          44,
          27.333333333333332,
          55.333333333333336,
          28,
          57.333333333333336,
          88.66666666666667,
          44,
          98.66666666666667,
          72.66666666666667,
          76.66666666666667,
          56.333333333333336,
          47.666666666666664,
          66.33333333333333,
          170.66666666666666,
          26,
          102
         ],
         "yaxis": "y"
        },
        {
         "error_y": {
          "array": [
           8.18535277187245,
           6.4291005073286405,
           14.730919862656235,
           15.275252316519461,
           6,
           31.096623610932426,
           241.9483415938204,
           63.516402081142274,
           18.35755975068582,
           135.1234003913953,
           203.42156555619496,
           83.72176140844945,
           7.810249675906654,
           178.19090885900997,
           20.2072594216369,
           83.5404093837228,
           17.672954855748756,
           null
          ]
         },
         "hovertemplate": "solver=baseline<br>type=bounds<br>difficulty=1<br>problem=%{x}<br>plan_length_mean=%{y}<extra></extra>",
         "legendgroup": "baseline, bounds",
         "line": {
          "color": "#636efa",
          "dash": "solid"
         },
         "marker": {
          "symbol": "circle"
         },
         "mode": "lines",
         "name": "baseline, bounds",
         "orientation": "v",
         "showlegend": false,
         "type": "scatter",
         "x": [
          "1_01",
          "1_02",
          "1_03",
          "1_04",
          "1_05",
          "1_06",
          "1_07",
          "1_08",
          "1_09",
          "1_10",
          "1_11",
          "1_12",
          "1_13",
          "1_14",
          "1_15",
          "1_16",
          "1_24",
          "1_29"
         ],
         "xaxis": "x2",
         "y": [
          153,
          139.66666666666666,
          240,
          277.3333333333333,
          293,
          239,
          438,
          439.3333333333333,
          268,
          333.6666666666667,
          694.6666666666666,
          602.6666666666666,
          372,
          545,
          199.66666666666666,
          345,
          208.33333333333334,
          null
         ],
         "yaxis": "y2"
        },
        {
         "error_y": {
          "array": [
           null,
           null,
           null,
           null,
           null,
           null,
           null,
           null,
           null,
           null,
           null,
           null,
           null,
           null,
           null,
           null,
           null,
           null,
           null,
           null,
           null,
           null,
           null,
           null,
           null,
           null,
           null,
           null,
           null,
           null
          ]
         },
         "hovertemplate": "solver=optimal<br>type=bounds<br>difficulty=0<br>problem=%{x}<br>plan_length_mean=%{y}<extra></extra>",
         "legendgroup": "optimal, bounds",
         "line": {
          "color": "#EF553B",
          "dash": "solid"
         },
         "marker": {
          "symbol": "circle"
         },
         "mode": "lines",
         "name": "optimal, bounds",
         "orientation": "v",
         "showlegend": true,
         "type": "scatter",
         "x": [
          "0_01",
          "0_02",
          "0_03",
          "0_04",
          "0_05",
          "0_06",
          "0_07",
          "0_08",
          "0_09",
          "0_10",
          "0_11",
          "0_12",
          "0_13",
          "0_14",
          "0_15",
          "0_16",
          "0_17",
          "0_18",
          "0_19",
          "0_20",
          "0_21",
          "0_22",
          "0_23",
          "0_24",
          "0_25",
          "0_26",
          "0_27",
          "0_28",
          "0_29",
          "0_30"
         ],
         "xaxis": "x",
         "y": [
          9,
          16,
          23,
          16,
          6,
          20,
          34,
          17,
          6,
          16,
          26,
          28,
          34,
          21,
          41,
          24,
          null,
          26,
          null,
          null,
          null,
          null,
          null,
          null,
          null,
          null,
          null,
          null,
          23,
          null
         ],
         "yaxis": "y"
        },
        {
         "error_y": {
          "array": [
           null,
           null,
           null,
           null,
           null,
           null,
           null,
           null,
           null,
           null,
           null,
           null,
           null,
           null,
           null,
           null,
           null,
           null,
           null,
           null,
           null,
           null,
           null,
           null,
           null,
           null,
           null,
           null,
           null,
           null
          ]
         },
         "hovertemplate": "solver=optimal<br>type=bounds<br>difficulty=1<br>problem=%{x}<br>plan_length_mean=%{y}<extra></extra>",
         "legendgroup": "optimal, bounds",
         "line": {
          "color": "#EF553B",
          "dash": "solid"
         },
         "marker": {
          "symbol": "circle"
         },
         "mode": "lines",
         "name": "optimal, bounds",
         "orientation": "v",
         "showlegend": false,
         "type": "scatter",
         "x": [
          "1_01",
          "1_02",
          "1_03",
          "1_04",
          "1_05",
          "1_06",
          "1_07",
          "1_08",
          "1_09",
          "1_10",
          "1_11",
          "1_12",
          "1_13",
          "1_14",
          "1_15",
          "1_16",
          "1_17",
          "1_18",
          "1_19",
          "1_20",
          "1_21",
          "1_22",
          "1_23",
          "1_24",
          "1_25",
          "1_26",
          "1_27",
          "1_28",
          "1_29",
          "1_30"
         ],
         "xaxis": "x2",
         "y": [
          null,
          null,
          null,
          null,
          null,
          null,
          null,
          null,
          null,
          null,
          null,
          null,
          null,
          null,
          null,
          null,
          null,
          null,
          null,
          null,
          null,
          null,
          null,
          null,
          null,
          null,
          null,
          null,
          null,
          null
         ],
         "yaxis": "y2"
        },
        {
         "error_y": {
          "array": [
           null,
           null,
           null,
           null,
           null,
           null,
           null,
           null,
           null,
           null,
           null,
           null,
           null,
           null,
           null,
           null,
           null,
           null,
           null,
           null,
           null,
           null,
           null,
           null,
           null,
           null,
           null,
           null,
           null,
           null
          ]
         },
         "hovertemplate": "solver=lama<br>type=bounds<br>difficulty=0<br>problem=%{x}<br>plan_length_mean=%{y}<extra></extra>",
         "legendgroup": "lama, bounds",
         "line": {
          "color": "#00cc96",
          "dash": "solid"
         },
         "marker": {
          "symbol": "circle"
         },
         "mode": "lines",
         "name": "lama, bounds",
         "orientation": "v",
         "showlegend": true,
         "type": "scatter",
         "x": [
          "0_01",
          "0_02",
          "0_03",
          "0_04",
          "0_05",
          "0_06",
          "0_07",
          "0_08",
          "0_09",
          "0_10",
          "0_11",
          "0_12",
          "0_13",
          "0_14",
          "0_15",
          "0_16",
          "0_17",
          "0_18",
          "0_19",
          "0_20",
          "0_21",
          "0_22",
          "0_23",
          "0_24",
          "0_25",
          "0_26",
          "0_27",
          "0_28",
          "0_29",
          "0_30"
         ],
         "xaxis": "x",
         "y": [
          9,
          17,
          24,
          17,
          7,
          21,
          37,
          19,
          6,
          16,
          31,
          28,
          37,
          25,
          42,
          27,
          67,
          28,
          60,
          94,
          46,
          98,
          77,
          74,
          53,
          47,
          76,
          123,
          25,
          107
         ],
         "yaxis": "y"
        },
        {
         "error_y": {
          "array": [
           null,
           null,
           null,
           null,
           null,
           null,
           null,
           null,
           null,
           null,
           null,
           null,
           null,
           null,
           null,
           null,
           null,
           null,
           null,
           null,
           null,
           null,
           null,
           null,
           null,
           null,
           null,
           null,
           null,
           null
          ]
         },
         "hovertemplate": "solver=lama<br>type=bounds<br>difficulty=1<br>problem=%{x}<br>plan_length_mean=%{y}<extra></extra>",
         "legendgroup": "lama, bounds",
         "line": {
          "color": "#00cc96",
          "dash": "solid"
         },
         "marker": {
          "symbol": "circle"
         },
         "mode": "lines",
         "name": "lama, bounds",
         "orientation": "v",
         "showlegend": false,
         "type": "scatter",
         "x": [
          "1_01",
          "1_02",
          "1_03",
          "1_04",
          "1_05",
          "1_06",
          "1_07",
          "1_08",
          "1_09",
          "1_10",
          "1_11",
          "1_12",
          "1_13",
          "1_14",
          "1_15",
          "1_16",
          "1_17",
          "1_18",
          "1_19",
          "1_20",
          "1_21",
          "1_22",
          "1_23",
          "1_24",
          "1_25",
          "1_26",
          "1_27",
          "1_28",
          "1_29",
          "1_30"
         ],
         "xaxis": "x2",
         "y": [
          142,
          140,
          300,
          227,
          296,
          222,
          215,
          358,
          255,
          228,
          446,
          521,
          385,
          218,
          193,
          228,
          471,
          null,
          null,
          635,
          483,
          328,
          689,
          194,
          806,
          609,
          null,
          872,
          null,
          1188
         ],
         "yaxis": "y2"
        }
       ],
       "layout": {
        "annotations": [
         {
          "font": {},
          "showarrow": false,
          "text": "difficulty=0",
          "x": 0.245,
          "xanchor": "center",
          "xref": "paper",
          "y": 1,
          "yanchor": "bottom",
          "yref": "paper"
         },
         {
          "font": {},
          "showarrow": false,
          "text": "difficulty=1",
          "x": 0.755,
          "xanchor": "center",
          "xref": "paper",
          "y": 1,
          "yanchor": "bottom",
          "yref": "paper"
         }
        ],
        "legend": {
         "title": {
          "text": "solver, type"
         },
         "tracegroupgap": 0
        },
        "margin": {
         "t": 60
        },
        "template": {
         "data": {
          "bar": [
           {
            "error_x": {
             "color": "#2a3f5f"
            },
            "error_y": {
             "color": "#2a3f5f"
            },
            "marker": {
             "line": {
              "color": "#E5ECF6",
              "width": 0.5
             },
             "pattern": {
              "fillmode": "overlay",
              "size": 10,
              "solidity": 0.2
             }
            },
            "type": "bar"
           }
          ],
          "barpolar": [
           {
            "marker": {
             "line": {
              "color": "#E5ECF6",
              "width": 0.5
             },
             "pattern": {
              "fillmode": "overlay",
              "size": 10,
              "solidity": 0.2
             }
            },
            "type": "barpolar"
           }
          ],
          "carpet": [
           {
            "aaxis": {
             "endlinecolor": "#2a3f5f",
             "gridcolor": "white",
             "linecolor": "white",
             "minorgridcolor": "white",
             "startlinecolor": "#2a3f5f"
            },
            "baxis": {
             "endlinecolor": "#2a3f5f",
             "gridcolor": "white",
             "linecolor": "white",
             "minorgridcolor": "white",
             "startlinecolor": "#2a3f5f"
            },
            "type": "carpet"
           }
          ],
          "choropleth": [
           {
            "colorbar": {
             "outlinewidth": 0,
             "ticks": ""
            },
            "type": "choropleth"
           }
          ],
          "contour": [
           {
            "colorbar": {
             "outlinewidth": 0,
             "ticks": ""
            },
            "colorscale": [
             [
              0,
              "#0d0887"
             ],
             [
              0.1111111111111111,
              "#46039f"
             ],
             [
              0.2222222222222222,
              "#7201a8"
             ],
             [
              0.3333333333333333,
              "#9c179e"
             ],
             [
              0.4444444444444444,
              "#bd3786"
             ],
             [
              0.5555555555555556,
              "#d8576b"
             ],
             [
              0.6666666666666666,
              "#ed7953"
             ],
             [
              0.7777777777777778,
              "#fb9f3a"
             ],
             [
              0.8888888888888888,
              "#fdca26"
             ],
             [
              1,
              "#f0f921"
             ]
            ],
            "type": "contour"
           }
          ],
          "contourcarpet": [
           {
            "colorbar": {
             "outlinewidth": 0,
             "ticks": ""
            },
            "type": "contourcarpet"
           }
          ],
          "heatmap": [
           {
            "colorbar": {
             "outlinewidth": 0,
             "ticks": ""
            },
            "colorscale": [
             [
              0,
              "#0d0887"
             ],
             [
              0.1111111111111111,
              "#46039f"
             ],
             [
              0.2222222222222222,
              "#7201a8"
             ],
             [
              0.3333333333333333,
              "#9c179e"
             ],
             [
              0.4444444444444444,
              "#bd3786"
             ],
             [
              0.5555555555555556,
              "#d8576b"
             ],
             [
              0.6666666666666666,
              "#ed7953"
             ],
             [
              0.7777777777777778,
              "#fb9f3a"
             ],
             [
              0.8888888888888888,
              "#fdca26"
             ],
             [
              1,
              "#f0f921"
             ]
            ],
            "type": "heatmap"
           }
          ],
          "heatmapgl": [
           {
            "colorbar": {
             "outlinewidth": 0,
             "ticks": ""
            },
            "colorscale": [
             [
              0,
              "#0d0887"
             ],
             [
              0.1111111111111111,
              "#46039f"
             ],
             [
              0.2222222222222222,
              "#7201a8"
             ],
             [
              0.3333333333333333,
              "#9c179e"
             ],
             [
              0.4444444444444444,
              "#bd3786"
             ],
             [
              0.5555555555555556,
              "#d8576b"
             ],
             [
              0.6666666666666666,
              "#ed7953"
             ],
             [
              0.7777777777777778,
              "#fb9f3a"
             ],
             [
              0.8888888888888888,
              "#fdca26"
             ],
             [
              1,
              "#f0f921"
             ]
            ],
            "type": "heatmapgl"
           }
          ],
          "histogram": [
           {
            "marker": {
             "pattern": {
              "fillmode": "overlay",
              "size": 10,
              "solidity": 0.2
             }
            },
            "type": "histogram"
           }
          ],
          "histogram2d": [
           {
            "colorbar": {
             "outlinewidth": 0,
             "ticks": ""
            },
            "colorscale": [
             [
              0,
              "#0d0887"
             ],
             [
              0.1111111111111111,
              "#46039f"
             ],
             [
              0.2222222222222222,
              "#7201a8"
             ],
             [
              0.3333333333333333,
              "#9c179e"
             ],
             [
              0.4444444444444444,
              "#bd3786"
             ],
             [
              0.5555555555555556,
              "#d8576b"
             ],
             [
              0.6666666666666666,
              "#ed7953"
             ],
             [
              0.7777777777777778,
              "#fb9f3a"
             ],
             [
              0.8888888888888888,
              "#fdca26"
             ],
             [
              1,
              "#f0f921"
             ]
            ],
            "type": "histogram2d"
           }
          ],
          "histogram2dcontour": [
           {
            "colorbar": {
             "outlinewidth": 0,
             "ticks": ""
            },
            "colorscale": [
             [
              0,
              "#0d0887"
             ],
             [
              0.1111111111111111,
              "#46039f"
             ],
             [
              0.2222222222222222,
              "#7201a8"
             ],
             [
              0.3333333333333333,
              "#9c179e"
             ],
             [
              0.4444444444444444,
              "#bd3786"
             ],
             [
              0.5555555555555556,
              "#d8576b"
             ],
             [
              0.6666666666666666,
              "#ed7953"
             ],
             [
              0.7777777777777778,
              "#fb9f3a"
             ],
             [
              0.8888888888888888,
              "#fdca26"
             ],
             [
              1,
              "#f0f921"
             ]
            ],
            "type": "histogram2dcontour"
           }
          ],
          "mesh3d": [
           {
            "colorbar": {
             "outlinewidth": 0,
             "ticks": ""
            },
            "type": "mesh3d"
           }
          ],
          "parcoords": [
           {
            "line": {
             "colorbar": {
              "outlinewidth": 0,
              "ticks": ""
             }
            },
            "type": "parcoords"
           }
          ],
          "pie": [
           {
            "automargin": true,
            "type": "pie"
           }
          ],
          "scatter": [
           {
            "fillpattern": {
             "fillmode": "overlay",
             "size": 10,
             "solidity": 0.2
            },
            "type": "scatter"
           }
          ],
          "scatter3d": [
           {
            "line": {
             "colorbar": {
              "outlinewidth": 0,
              "ticks": ""
             }
            },
            "marker": {
             "colorbar": {
              "outlinewidth": 0,
              "ticks": ""
             }
            },
            "type": "scatter3d"
           }
          ],
          "scattercarpet": [
           {
            "marker": {
             "colorbar": {
              "outlinewidth": 0,
              "ticks": ""
             }
            },
            "type": "scattercarpet"
           }
          ],
          "scattergeo": [
           {
            "marker": {
             "colorbar": {
              "outlinewidth": 0,
              "ticks": ""
             }
            },
            "type": "scattergeo"
           }
          ],
          "scattergl": [
           {
            "marker": {
             "colorbar": {
              "outlinewidth": 0,
              "ticks": ""
             }
            },
            "type": "scattergl"
           }
          ],
          "scattermapbox": [
           {
            "marker": {
             "colorbar": {
              "outlinewidth": 0,
              "ticks": ""
             }
            },
            "type": "scattermapbox"
           }
          ],
          "scatterpolar": [
           {
            "marker": {
             "colorbar": {
              "outlinewidth": 0,
              "ticks": ""
             }
            },
            "type": "scatterpolar"
           }
          ],
          "scatterpolargl": [
           {
            "marker": {
             "colorbar": {
              "outlinewidth": 0,
              "ticks": ""
             }
            },
            "type": "scatterpolargl"
           }
          ],
          "scatterternary": [
           {
            "marker": {
             "colorbar": {
              "outlinewidth": 0,
              "ticks": ""
             }
            },
            "type": "scatterternary"
           }
          ],
          "surface": [
           {
            "colorbar": {
             "outlinewidth": 0,
             "ticks": ""
            },
            "colorscale": [
             [
              0,
              "#0d0887"
             ],
             [
              0.1111111111111111,
              "#46039f"
             ],
             [
              0.2222222222222222,
              "#7201a8"
             ],
             [
              0.3333333333333333,
              "#9c179e"
             ],
             [
              0.4444444444444444,
              "#bd3786"
             ],
             [
              0.5555555555555556,
              "#d8576b"
             ],
             [
              0.6666666666666666,
              "#ed7953"
             ],
             [
              0.7777777777777778,
              "#fb9f3a"
             ],
             [
              0.8888888888888888,
              "#fdca26"
             ],
             [
              1,
              "#f0f921"
             ]
            ],
            "type": "surface"
           }
          ],
          "table": [
           {
            "cells": {
             "fill": {
              "color": "#EBF0F8"
             },
             "line": {
              "color": "white"
             }
            },
            "header": {
             "fill": {
              "color": "#C8D4E3"
             },
             "line": {
              "color": "white"
             }
            },
            "type": "table"
           }
          ]
         },
         "layout": {
          "annotationdefaults": {
           "arrowcolor": "#2a3f5f",
           "arrowhead": 0,
           "arrowwidth": 1
          },
          "autotypenumbers": "strict",
          "coloraxis": {
           "colorbar": {
            "outlinewidth": 0,
            "ticks": ""
           }
          },
          "colorscale": {
           "diverging": [
            [
             0,
             "#8e0152"
            ],
            [
             0.1,
             "#c51b7d"
            ],
            [
             0.2,
             "#de77ae"
            ],
            [
             0.3,
             "#f1b6da"
            ],
            [
             0.4,
             "#fde0ef"
            ],
            [
             0.5,
             "#f7f7f7"
            ],
            [
             0.6,
             "#e6f5d0"
            ],
            [
             0.7,
             "#b8e186"
            ],
            [
             0.8,
             "#7fbc41"
            ],
            [
             0.9,
             "#4d9221"
            ],
            [
             1,
             "#276419"
            ]
           ],
           "sequential": [
            [
             0,
             "#0d0887"
            ],
            [
             0.1111111111111111,
             "#46039f"
            ],
            [
             0.2222222222222222,
             "#7201a8"
            ],
            [
             0.3333333333333333,
             "#9c179e"
            ],
            [
             0.4444444444444444,
             "#bd3786"
            ],
            [
             0.5555555555555556,
             "#d8576b"
            ],
            [
             0.6666666666666666,
             "#ed7953"
            ],
            [
             0.7777777777777778,
             "#fb9f3a"
            ],
            [
             0.8888888888888888,
             "#fdca26"
            ],
            [
             1,
             "#f0f921"
            ]
           ],
           "sequentialminus": [
            [
             0,
             "#0d0887"
            ],
            [
             0.1111111111111111,
             "#46039f"
            ],
            [
             0.2222222222222222,
             "#7201a8"
            ],
            [
             0.3333333333333333,
             "#9c179e"
            ],
            [
             0.4444444444444444,
             "#bd3786"
            ],
            [
             0.5555555555555556,
             "#d8576b"
            ],
            [
             0.6666666666666666,
             "#ed7953"
            ],
            [
             0.7777777777777778,
             "#fb9f3a"
            ],
            [
             0.8888888888888888,
             "#fdca26"
            ],
            [
             1,
             "#f0f921"
            ]
           ]
          },
          "colorway": [
           "#636efa",
           "#EF553B",
           "#00cc96",
           "#ab63fa",
           "#FFA15A",
           "#19d3f3",
           "#FF6692",
           "#B6E880",
           "#FF97FF",
           "#FECB52"
          ],
          "font": {
           "color": "#2a3f5f"
          },
          "geo": {
           "bgcolor": "white",
           "lakecolor": "white",
           "landcolor": "#E5ECF6",
           "showlakes": true,
           "showland": true,
           "subunitcolor": "white"
          },
          "hoverlabel": {
           "align": "left"
          },
          "hovermode": "closest",
          "mapbox": {
           "style": "light"
          },
          "paper_bgcolor": "white",
          "plot_bgcolor": "#E5ECF6",
          "polar": {
           "angularaxis": {
            "gridcolor": "white",
            "linecolor": "white",
            "ticks": ""
           },
           "bgcolor": "#E5ECF6",
           "radialaxis": {
            "gridcolor": "white",
            "linecolor": "white",
            "ticks": ""
           }
          },
          "scene": {
           "xaxis": {
            "backgroundcolor": "#E5ECF6",
            "gridcolor": "white",
            "gridwidth": 2,
            "linecolor": "white",
            "showbackground": true,
            "ticks": "",
            "zerolinecolor": "white"
           },
           "yaxis": {
            "backgroundcolor": "#E5ECF6",
            "gridcolor": "white",
            "gridwidth": 2,
            "linecolor": "white",
            "showbackground": true,
            "ticks": "",
            "zerolinecolor": "white"
           },
           "zaxis": {
            "backgroundcolor": "#E5ECF6",
            "gridcolor": "white",
            "gridwidth": 2,
            "linecolor": "white",
            "showbackground": true,
            "ticks": "",
            "zerolinecolor": "white"
           }
          },
          "shapedefaults": {
           "line": {
            "color": "#2a3f5f"
           }
          },
          "ternary": {
           "aaxis": {
            "gridcolor": "white",
            "linecolor": "white",
            "ticks": ""
           },
           "baxis": {
            "gridcolor": "white",
            "linecolor": "white",
            "ticks": ""
           },
           "bgcolor": "#E5ECF6",
           "caxis": {
            "gridcolor": "white",
            "linecolor": "white",
            "ticks": ""
           }
          },
          "title": {
           "x": 0.05
          },
          "xaxis": {
           "automargin": true,
           "gridcolor": "white",
           "linecolor": "white",
           "ticks": "",
           "title": {
            "standoff": 15
           },
           "zerolinecolor": "white",
           "zerolinewidth": 2
          },
          "yaxis": {
           "automargin": true,
           "gridcolor": "white",
           "linecolor": "white",
           "ticks": "",
           "title": {
            "standoff": 15
           },
           "zerolinecolor": "white",
           "zerolinewidth": 2
          }
         }
        },
        "xaxis": {
         "anchor": "y",
         "categoryarray": [
          "0_01",
          "0_02",
          "0_03",
          "0_04",
          "0_05",
          "0_06",
          "0_07",
          "0_08",
          "0_09",
          "0_10",
          "0_11",
          "0_12",
          "0_13",
          "0_14",
          "0_15",
          "0_16",
          "0_17",
          "0_18",
          "0_19",
          "0_20",
          "0_21",
          "0_22",
          "0_23",
          "0_24",
          "0_25",
          "0_26",
          "0_27",
          "0_28",
          "0_29",
          "0_30",
          "1_01",
          "1_02",
          "1_03",
          "1_04",
          "1_05",
          "1_06",
          "1_07",
          "1_08",
          "1_09",
          "1_10",
          "1_11",
          "1_12",
          "1_13",
          "1_14",
          "1_15",
          "1_16",
          "1_17",
          "1_18",
          "1_19",
          "1_20",
          "1_21",
          "1_22",
          "1_23",
          "1_24",
          "1_25",
          "1_26",
          "1_27",
          "1_28",
          "1_29",
          "1_30"
         ],
         "categoryorder": "array",
         "domain": [
          0,
          0.49
         ],
         "showticklabels": true,
         "title": {
          "text": "problem"
         }
        },
        "xaxis2": {
         "anchor": "y2",
         "categoryarray": [
          "0_01",
          "0_02",
          "0_03",
          "0_04",
          "0_05",
          "0_06",
          "0_07",
          "0_08",
          "0_09",
          "0_10",
          "0_11",
          "0_12",
          "0_13",
          "0_14",
          "0_15",
          "0_16",
          "0_17",
          "0_18",
          "0_19",
          "0_20",
          "0_21",
          "0_22",
          "0_23",
          "0_24",
          "0_25",
          "0_26",
          "0_27",
          "0_28",
          "0_29",
          "0_30",
          "1_01",
          "1_02",
          "1_03",
          "1_04",
          "1_05",
          "1_06",
          "1_07",
          "1_08",
          "1_09",
          "1_10",
          "1_11",
          "1_12",
          "1_13",
          "1_14",
          "1_15",
          "1_16",
          "1_17",
          "1_18",
          "1_19",
          "1_20",
          "1_21",
          "1_22",
          "1_23",
          "1_24",
          "1_25",
          "1_26",
          "1_27",
          "1_28",
          "1_29",
          "1_30"
         ],
         "categoryorder": "array",
         "domain": [
          0.51,
          1
         ],
         "showticklabels": true,
         "title": {
          "text": "problem"
         }
        },
        "yaxis": {
         "anchor": "x",
         "domain": [
          0,
          1
         ],
         "showticklabels": true,
         "title": {
          "text": "plan_length_mean"
         }
        },
        "yaxis2": {
         "anchor": "x2",
         "domain": [
          0,
          1
         ],
         "showticklabels": true
        }
       }
      }
     },
     "metadata": {},
     "output_type": "display_data"
    }
   ],
   "source": [
    "plot_domains(\"plan_length\", log_y=0, choices=choices, layers=layers, dimensions=dimensions)"
   ]
  },
  {
   "cell_type": "markdown",
   "metadata": {},
   "source": [
    "# Cycle plots"
   ]
  },
  {
   "cell_type": "code",
   "execution_count": 4,
   "metadata": {},
   "outputs": [
    {
     "name": "stdout",
     "output_type": "stream",
     "text": [
      "blocksworld\n"
     ]
    },
    {
     "data": {
      "application/vnd.plotly.v1+json": {
       "config": {
        "plotlyServerURL": "https://plot.ly"
       },
       "data": [
        {
         "error_y": {
          "array": [
           0,
           0,
           0,
           0,
           0,
           0,
           0,
           0,
           0,
           0,
           0,
           0,
           0,
           0,
           0,
           0,
           0,
           0,
           0,
           0,
           0,
           0,
           0,
           0,
           0,
           0,
           0,
           0,
           0,
           0
          ]
         },
         "hovertemplate": "solver=baseline<br>type=bounds<br>difficulty=0<br>problem=%{x}<br>cycles_mean=%{y}<extra></extra>",
         "legendgroup": "baseline, bounds",
         "line": {
          "color": "#636efa",
          "dash": "solid"
         },
         "marker": {
          "symbol": "circle"
         },
         "mode": "lines",
         "name": "baseline, bounds",
         "orientation": "v",
         "showlegend": true,
         "type": "scatter",
         "x": [
          "0_01",
          "0_02",
          "0_03",
          "0_04",
          "0_05",
          "0_06",
          "0_07",
          "0_08",
          "0_09",
          "0_10",
          "0_11",
          "0_12",
          "0_13",
          "0_14",
          "0_15",
          "0_16",
          "0_17",
          "0_18",
          "0_19",
          "0_20",
          "0_21",
          "0_22",
          "0_23",
          "0_24",
          "0_25",
          "0_26",
          "0_27",
          "0_28",
          "0_29",
          "0_30"
         ],
         "xaxis": "x",
         "y": [
          0,
          0,
          0,
          0,
          0,
          0,
          0,
          0,
          0,
          0,
          0,
          0,
          0,
          0,
          0,
          0,
          0,
          0,
          0,
          0,
          0,
          0,
          0,
          0,
          0,
          0,
          0,
          0,
          0,
          0
         ],
         "yaxis": "y"
        },
        {
         "error_y": {
          "array": [
           0,
           0,
           0,
           0,
           0,
           0,
           0,
           0,
           0,
           0,
           0,
           0,
           0,
           0,
           0,
           0,
           0,
           0,
           0,
           0,
           0,
           0,
           0,
           0,
           0,
           0,
           0,
           0,
           0,
           0
          ]
         },
         "hovertemplate": "solver=baseline<br>type=bounds<br>difficulty=1<br>problem=%{x}<br>cycles_mean=%{y}<extra></extra>",
         "legendgroup": "baseline, bounds",
         "line": {
          "color": "#636efa",
          "dash": "solid"
         },
         "marker": {
          "symbol": "circle"
         },
         "mode": "lines",
         "name": "baseline, bounds",
         "orientation": "v",
         "showlegend": false,
         "type": "scatter",
         "x": [
          "1_01",
          "1_02",
          "1_03",
          "1_04",
          "1_05",
          "1_06",
          "1_07",
          "1_08",
          "1_09",
          "1_10",
          "1_11",
          "1_12",
          "1_13",
          "1_14",
          "1_15",
          "1_16",
          "1_17",
          "1_18",
          "1_19",
          "1_20",
          "1_21",
          "1_22",
          "1_23",
          "1_24",
          "1_25",
          "1_26",
          "1_27",
          "1_28",
          "1_29",
          "1_30"
         ],
         "xaxis": "x2",
         "y": [
          0,
          0,
          0,
          0,
          0,
          0,
          0,
          0,
          0,
          0,
          0,
          0,
          0,
          0,
          0,
          0,
          0,
          0,
          0,
          0,
          0,
          0,
          0,
          0,
          0,
          0,
          0,
          0,
          0,
          0
         ],
         "yaxis": "y2"
        },
        {
         "error_y": {
          "array": [
           null,
           null,
           null,
           null,
           null,
           null,
           null,
           null,
           null,
           null,
           null,
           null,
           null,
           null,
           null,
           null,
           null,
           null,
           null,
           null,
           null,
           null,
           null,
           null,
           null,
           null,
           null,
           null,
           null,
           null
          ]
         },
         "hovertemplate": "solver=optimal<br>type=bounds<br>difficulty=0<br>problem=%{x}<br>cycles_mean=%{y}<extra></extra>",
         "legendgroup": "optimal, bounds",
         "line": {
          "color": "#EF553B",
          "dash": "solid"
         },
         "marker": {
          "symbol": "circle"
         },
         "mode": "lines",
         "name": "optimal, bounds",
         "orientation": "v",
         "showlegend": true,
         "type": "scatter",
         "x": [
          "0_01",
          "0_02",
          "0_03",
          "0_04",
          "0_05",
          "0_06",
          "0_07",
          "0_08",
          "0_09",
          "0_10",
          "0_11",
          "0_12",
          "0_13",
          "0_14",
          "0_15",
          "0_16",
          "0_17",
          "0_18",
          "0_19",
          "0_20",
          "0_21",
          "0_22",
          "0_23",
          "0_24",
          "0_25",
          "0_26",
          "0_27",
          "0_28",
          "0_29",
          "0_30"
         ],
         "xaxis": "x",
         "y": [
          0,
          0,
          0,
          0,
          0,
          0,
          0,
          0,
          0,
          0,
          0,
          0,
          0,
          0,
          0,
          0,
          0,
          0,
          0,
          0,
          0,
          0,
          0,
          0,
          0,
          0,
          0,
          0,
          0,
          0
         ],
         "yaxis": "y"
        },
        {
         "error_y": {
          "array": [
           null,
           null,
           null,
           null,
           null,
           null,
           null,
           null,
           null,
           null,
           null,
           null,
           null,
           null,
           null,
           null,
           null,
           null,
           null,
           null,
           null,
           null,
           null,
           null,
           null,
           null,
           null,
           null,
           null,
           null
          ]
         },
         "hovertemplate": "solver=optimal<br>type=bounds<br>difficulty=1<br>problem=%{x}<br>cycles_mean=%{y}<extra></extra>",
         "legendgroup": "optimal, bounds",
         "line": {
          "color": "#EF553B",
          "dash": "solid"
         },
         "marker": {
          "symbol": "circle"
         },
         "mode": "lines",
         "name": "optimal, bounds",
         "orientation": "v",
         "showlegend": false,
         "type": "scatter",
         "x": [
          "1_01",
          "1_02",
          "1_03",
          "1_04",
          "1_05",
          "1_06",
          "1_07",
          "1_08",
          "1_09",
          "1_10",
          "1_11",
          "1_12",
          "1_13",
          "1_14",
          "1_15",
          "1_16",
          "1_17",
          "1_18",
          "1_19",
          "1_20",
          "1_21",
          "1_22",
          "1_23",
          "1_24",
          "1_25",
          "1_26",
          "1_27",
          "1_28",
          "1_29",
          "1_30"
         ],
         "xaxis": "x2",
         "y": [
          0,
          0,
          0,
          0,
          0,
          0,
          0,
          0,
          0,
          0,
          0,
          0,
          0,
          0,
          0,
          0,
          0,
          0,
          0,
          0,
          0,
          0,
          0,
          0,
          0,
          0,
          0,
          0,
          0,
          0
         ],
         "yaxis": "y2"
        },
        {
         "error_y": {
          "array": [
           null,
           null,
           null,
           null,
           null,
           null,
           null,
           null,
           null,
           null,
           null,
           null,
           null,
           null,
           null,
           null,
           null,
           null,
           null,
           null,
           null,
           null,
           null,
           null,
           null,
           null,
           null,
           null,
           null,
           null
          ]
         },
         "hovertemplate": "solver=lama<br>type=bounds<br>difficulty=0<br>problem=%{x}<br>cycles_mean=%{y}<extra></extra>",
         "legendgroup": "lama, bounds",
         "line": {
          "color": "#00cc96",
          "dash": "solid"
         },
         "marker": {
          "symbol": "circle"
         },
         "mode": "lines",
         "name": "lama, bounds",
         "orientation": "v",
         "showlegend": true,
         "type": "scatter",
         "x": [
          "0_01",
          "0_02",
          "0_03",
          "0_04",
          "0_05",
          "0_06",
          "0_07",
          "0_08",
          "0_09",
          "0_10",
          "0_11",
          "0_12",
          "0_13",
          "0_14",
          "0_15",
          "0_16",
          "0_17",
          "0_18",
          "0_19",
          "0_20",
          "0_21",
          "0_22",
          "0_23",
          "0_24",
          "0_25",
          "0_26",
          "0_27",
          "0_28",
          "0_29",
          "0_30"
         ],
         "xaxis": "x",
         "y": [
          0,
          0,
          0,
          0,
          0,
          0,
          0,
          0,
          0,
          0,
          0,
          0,
          0,
          0,
          0,
          0,
          0,
          0,
          0,
          0,
          0,
          0,
          0,
          0,
          0,
          0,
          0,
          0,
          0,
          0
         ],
         "yaxis": "y"
        },
        {
         "error_y": {
          "array": [
           null,
           null,
           null,
           null,
           null,
           null,
           null,
           null,
           null,
           null,
           null,
           null,
           null,
           null,
           null,
           null,
           null,
           null,
           null,
           null,
           null,
           null,
           null,
           null,
           null,
           null,
           null,
           null,
           null,
           null
          ]
         },
         "hovertemplate": "solver=lama<br>type=bounds<br>difficulty=1<br>problem=%{x}<br>cycles_mean=%{y}<extra></extra>",
         "legendgroup": "lama, bounds",
         "line": {
          "color": "#00cc96",
          "dash": "solid"
         },
         "marker": {
          "symbol": "circle"
         },
         "mode": "lines",
         "name": "lama, bounds",
         "orientation": "v",
         "showlegend": false,
         "type": "scatter",
         "x": [
          "1_01",
          "1_02",
          "1_03",
          "1_04",
          "1_05",
          "1_06",
          "1_07",
          "1_08",
          "1_09",
          "1_10",
          "1_11",
          "1_12",
          "1_13",
          "1_14",
          "1_15",
          "1_16",
          "1_17",
          "1_18",
          "1_19",
          "1_20",
          "1_21",
          "1_22",
          "1_23",
          "1_24",
          "1_25",
          "1_26",
          "1_27",
          "1_28",
          "1_29",
          "1_30"
         ],
         "xaxis": "x2",
         "y": [
          0,
          0,
          0,
          0,
          0,
          0,
          0,
          0,
          0,
          0,
          0,
          0,
          0,
          0,
          0,
          0,
          0,
          0,
          0,
          0,
          0,
          0,
          0,
          0,
          0,
          0,
          0,
          0,
          0,
          0
         ],
         "yaxis": "y2"
        },
        {
         "error_y": {
          "array": [
           0,
           0,
           0,
           0,
           0,
           0,
           0,
           0,
           0,
           0,
           0,
           0,
           0,
           0,
           0,
           0,
           0,
           0,
           0,
           0,
           0,
           0,
           0,
           0,
           0,
           0,
           0,
           0,
           0,
           0
          ]
         },
         "hovertemplate": "solver=L2_D8_best<br>type=lrnn_best<br>difficulty=0<br>problem=%{x}<br>cycles_mean=%{y}<extra></extra>",
         "legendgroup": "L2_D8_best, lrnn_best",
         "line": {
          "color": "#ab63fa",
          "dash": "dot"
         },
         "marker": {
          "symbol": "circle"
         },
         "mode": "lines",
         "name": "L2_D8_best, lrnn_best",
         "orientation": "v",
         "showlegend": true,
         "type": "scatter",
         "x": [
          "0_01",
          "0_02",
          "0_03",
          "0_04",
          "0_05",
          "0_06",
          "0_07",
          "0_08",
          "0_09",
          "0_10",
          "0_11",
          "0_12",
          "0_13",
          "0_14",
          "0_15",
          "0_16",
          "0_17",
          "0_18",
          "0_19",
          "0_20",
          "0_21",
          "0_22",
          "0_23",
          "0_24",
          "0_25",
          "0_26",
          "0_27",
          "0_28",
          "0_29",
          "0_30"
         ],
         "xaxis": "x",
         "y": [
          0,
          0,
          0,
          0,
          0,
          0,
          0,
          0,
          0,
          0,
          0,
          0,
          0,
          0,
          0,
          0,
          0,
          0,
          0,
          0,
          0,
          0,
          0,
          0,
          0,
          0,
          0,
          0,
          0,
          0
         ],
         "yaxis": "y"
        },
        {
         "error_y": {
          "array": [
           0,
           0,
           0,
           0,
           0,
           0,
           0,
           0,
           0,
           0,
           0,
           0,
           0,
           0,
           0,
           0,
           0,
           0,
           0,
           0,
           0,
           0,
           0,
           0,
           0,
           0,
           0,
           0,
           0,
           0
          ]
         },
         "hovertemplate": "solver=L2_D8_best<br>type=lrnn_best<br>difficulty=1<br>problem=%{x}<br>cycles_mean=%{y}<extra></extra>",
         "legendgroup": "L2_D8_best, lrnn_best",
         "line": {
          "color": "#ab63fa",
          "dash": "dot"
         },
         "marker": {
          "symbol": "circle"
         },
         "mode": "lines",
         "name": "L2_D8_best, lrnn_best",
         "orientation": "v",
         "showlegend": false,
         "type": "scatter",
         "x": [
          "1_01",
          "1_02",
          "1_03",
          "1_04",
          "1_05",
          "1_06",
          "1_07",
          "1_08",
          "1_09",
          "1_10",
          "1_11",
          "1_12",
          "1_13",
          "1_14",
          "1_15",
          "1_16",
          "1_17",
          "1_18",
          "1_19",
          "1_20",
          "1_21",
          "1_22",
          "1_23",
          "1_24",
          "1_25",
          "1_26",
          "1_27",
          "1_28",
          "1_29",
          "1_30"
         ],
         "xaxis": "x2",
         "y": [
          0,
          0,
          0,
          0,
          0,
          0,
          0,
          0,
          0,
          0,
          0,
          0,
          0,
          0,
          0,
          0,
          0,
          0,
          0,
          0,
          0,
          0,
          0,
          0,
          0,
          0,
          0,
          0,
          0,
          0
         ],
         "yaxis": "y2"
        },
        {
         "error_y": {
          "array": [
           0,
           0,
           0,
           0,
           0,
           0,
           0,
           0,
           0,
           0,
           0,
           0,
           0,
           0,
           0,
           0,
           0,
           0,
           0,
           0,
           0,
           0,
           0,
           0,
           0,
           0,
           0,
           0,
           0,
           0
          ]
         },
         "hovertemplate": "solver=L2_D16_best<br>type=lrnn_best<br>difficulty=0<br>problem=%{x}<br>cycles_mean=%{y}<extra></extra>",
         "legendgroup": "L2_D16_best, lrnn_best",
         "line": {
          "color": "#FFA15A",
          "dash": "dot"
         },
         "marker": {
          "symbol": "circle"
         },
         "mode": "lines",
         "name": "L2_D16_best, lrnn_best",
         "orientation": "v",
         "showlegend": true,
         "type": "scatter",
         "x": [
          "0_01",
          "0_02",
          "0_03",
          "0_04",
          "0_05",
          "0_06",
          "0_07",
          "0_08",
          "0_09",
          "0_10",
          "0_11",
          "0_12",
          "0_13",
          "0_14",
          "0_15",
          "0_16",
          "0_17",
          "0_18",
          "0_19",
          "0_20",
          "0_21",
          "0_22",
          "0_23",
          "0_24",
          "0_25",
          "0_26",
          "0_27",
          "0_28",
          "0_29",
          "0_30"
         ],
         "xaxis": "x",
         "y": [
          0,
          0,
          0,
          0,
          0,
          0,
          0,
          0,
          0,
          0,
          0,
          0,
          0,
          0,
          0,
          0,
          0,
          0,
          0,
          0,
          0,
          0,
          0,
          0,
          0,
          0,
          0,
          0,
          0,
          0
         ],
         "yaxis": "y"
        },
        {
         "error_y": {
          "array": [
           0,
           0,
           0,
           0,
           0,
           0,
           0,
           0,
           0,
           0,
           0,
           0,
           0,
           0,
           0,
           0,
           0,
           0,
           0,
           0,
           0,
           0,
           0,
           0,
           0,
           0,
           0,
           0,
           0,
           0
          ]
         },
         "hovertemplate": "solver=L2_D16_best<br>type=lrnn_best<br>difficulty=1<br>problem=%{x}<br>cycles_mean=%{y}<extra></extra>",
         "legendgroup": "L2_D16_best, lrnn_best",
         "line": {
          "color": "#FFA15A",
          "dash": "dot"
         },
         "marker": {
          "symbol": "circle"
         },
         "mode": "lines",
         "name": "L2_D16_best, lrnn_best",
         "orientation": "v",
         "showlegend": false,
         "type": "scatter",
         "x": [
          "1_01",
          "1_02",
          "1_03",
          "1_04",
          "1_05",
          "1_06",
          "1_07",
          "1_08",
          "1_09",
          "1_10",
          "1_11",
          "1_12",
          "1_13",
          "1_14",
          "1_15",
          "1_16",
          "1_17",
          "1_18",
          "1_19",
          "1_20",
          "1_21",
          "1_22",
          "1_23",
          "1_24",
          "1_25",
          "1_26",
          "1_27",
          "1_28",
          "1_29",
          "1_30"
         ],
         "xaxis": "x2",
         "y": [
          0,
          0,
          0,
          0,
          0,
          0,
          0,
          0,
          0,
          0,
          0,
          0,
          0,
          0,
          0,
          0,
          0,
          0,
          0,
          0,
          0,
          0,
          0,
          0,
          0,
          0,
          0,
          0,
          0,
          0
         ],
         "yaxis": "y2"
        },
        {
         "error_y": {
          "array": [
           0,
           0,
           0,
           0,
           0,
           0,
           0,
           0,
           0,
           0,
           0,
           0,
           0,
           0,
           0,
           0,
           0,
           0,
           0,
           0,
           0,
           0,
           0,
           0,
           0,
           0,
           0,
           0,
           0,
           0
          ]
         },
         "hovertemplate": "solver=L2_D32_best<br>type=lrnn_best<br>difficulty=0<br>problem=%{x}<br>cycles_mean=%{y}<extra></extra>",
         "legendgroup": "L2_D32_best, lrnn_best",
         "line": {
          "color": "#19d3f3",
          "dash": "dot"
         },
         "marker": {
          "symbol": "circle"
         },
         "mode": "lines",
         "name": "L2_D32_best, lrnn_best",
         "orientation": "v",
         "showlegend": true,
         "type": "scatter",
         "x": [
          "0_01",
          "0_02",
          "0_03",
          "0_04",
          "0_05",
          "0_06",
          "0_07",
          "0_08",
          "0_09",
          "0_10",
          "0_11",
          "0_12",
          "0_13",
          "0_14",
          "0_15",
          "0_16",
          "0_17",
          "0_18",
          "0_19",
          "0_20",
          "0_21",
          "0_22",
          "0_23",
          "0_24",
          "0_25",
          "0_26",
          "0_27",
          "0_28",
          "0_29",
          "0_30"
         ],
         "xaxis": "x",
         "y": [
          0,
          0,
          0,
          0,
          0,
          0,
          0,
          0,
          0,
          0,
          0,
          0,
          0,
          0,
          0,
          0,
          0,
          0,
          0,
          0,
          0,
          0,
          0,
          0,
          0,
          0,
          0,
          0,
          0,
          0
         ],
         "yaxis": "y"
        },
        {
         "error_y": {
          "array": [
           0,
           0,
           0,
           0,
           0,
           0,
           0,
           0,
           0,
           0,
           0,
           0,
           0,
           0,
           0,
           0,
           0,
           0,
           0,
           0,
           0,
           0,
           0,
           0,
           0,
           0,
           0,
           0,
           0,
           0
          ]
         },
         "hovertemplate": "solver=L2_D32_best<br>type=lrnn_best<br>difficulty=1<br>problem=%{x}<br>cycles_mean=%{y}<extra></extra>",
         "legendgroup": "L2_D32_best, lrnn_best",
         "line": {
          "color": "#19d3f3",
          "dash": "dot"
         },
         "marker": {
          "symbol": "circle"
         },
         "mode": "lines",
         "name": "L2_D32_best, lrnn_best",
         "orientation": "v",
         "showlegend": false,
         "type": "scatter",
         "x": [
          "1_01",
          "1_02",
          "1_03",
          "1_04",
          "1_05",
          "1_06",
          "1_07",
          "1_08",
          "1_09",
          "1_10",
          "1_11",
          "1_12",
          "1_13",
          "1_14",
          "1_15",
          "1_16",
          "1_17",
          "1_18",
          "1_19",
          "1_20",
          "1_21",
          "1_22",
          "1_23",
          "1_24",
          "1_25",
          "1_26",
          "1_27",
          "1_28",
          "1_29",
          "1_30"
         ],
         "xaxis": "x2",
         "y": [
          0,
          0,
          0,
          0,
          0,
          0,
          0,
          0,
          0,
          0,
          0,
          0,
          0,
          0,
          0,
          0,
          0,
          0,
          0,
          0,
          0,
          0,
          0,
          0,
          0,
          0,
          0,
          0,
          0,
          0
         ],
         "yaxis": "y2"
        },
        {
         "error_y": {
          "array": [
           0,
           0,
           0,
           0,
           0,
           0,
           0,
           0,
           0,
           0,
           0,
           0,
           0,
           0,
           0,
           0,
           0,
           0,
           0,
           0,
           0,
           0,
           0,
           0,
           0,
           0,
           0,
           0,
           0,
           0
          ]
         },
         "hovertemplate": "solver=L3_D8_best<br>type=lrnn_best<br>difficulty=0<br>problem=%{x}<br>cycles_mean=%{y}<extra></extra>",
         "legendgroup": "L3_D8_best, lrnn_best",
         "line": {
          "color": "#FF6692",
          "dash": "dot"
         },
         "marker": {
          "symbol": "circle"
         },
         "mode": "lines",
         "name": "L3_D8_best, lrnn_best",
         "orientation": "v",
         "showlegend": true,
         "type": "scatter",
         "x": [
          "0_01",
          "0_02",
          "0_03",
          "0_04",
          "0_05",
          "0_06",
          "0_07",
          "0_08",
          "0_09",
          "0_10",
          "0_11",
          "0_12",
          "0_13",
          "0_14",
          "0_15",
          "0_16",
          "0_17",
          "0_18",
          "0_19",
          "0_20",
          "0_21",
          "0_22",
          "0_23",
          "0_24",
          "0_25",
          "0_26",
          "0_27",
          "0_28",
          "0_29",
          "0_30"
         ],
         "xaxis": "x",
         "y": [
          0,
          0,
          0,
          0,
          0,
          0,
          0,
          0,
          0,
          0,
          0,
          0,
          0,
          0,
          0,
          0,
          0,
          0,
          0,
          0,
          0,
          0,
          0,
          0,
          0,
          0,
          0,
          0,
          0,
          0
         ],
         "yaxis": "y"
        },
        {
         "error_y": {
          "array": [
           0,
           0,
           0,
           0,
           0,
           0,
           0,
           0,
           0,
           0,
           0,
           0,
           0,
           0,
           0,
           0,
           0,
           0,
           0,
           0,
           0,
           0,
           0,
           0,
           0,
           0,
           0,
           0,
           0,
           0
          ]
         },
         "hovertemplate": "solver=L3_D8_best<br>type=lrnn_best<br>difficulty=1<br>problem=%{x}<br>cycles_mean=%{y}<extra></extra>",
         "legendgroup": "L3_D8_best, lrnn_best",
         "line": {
          "color": "#FF6692",
          "dash": "dot"
         },
         "marker": {
          "symbol": "circle"
         },
         "mode": "lines",
         "name": "L3_D8_best, lrnn_best",
         "orientation": "v",
         "showlegend": false,
         "type": "scatter",
         "x": [
          "1_01",
          "1_02",
          "1_03",
          "1_04",
          "1_05",
          "1_06",
          "1_07",
          "1_08",
          "1_09",
          "1_10",
          "1_11",
          "1_12",
          "1_13",
          "1_14",
          "1_15",
          "1_16",
          "1_17",
          "1_18",
          "1_19",
          "1_20",
          "1_21",
          "1_22",
          "1_23",
          "1_24",
          "1_25",
          "1_26",
          "1_27",
          "1_28",
          "1_29",
          "1_30"
         ],
         "xaxis": "x2",
         "y": [
          0,
          0,
          0,
          0,
          0,
          0,
          0,
          0,
          0,
          0,
          0,
          0,
          0,
          0,
          0,
          0,
          0,
          0,
          0,
          0,
          0,
          0,
          0,
          0,
          0,
          0,
          0,
          0,
          0,
          0
         ],
         "yaxis": "y2"
        },
        {
         "error_y": {
          "array": [
           0,
           0,
           0,
           0,
           0,
           0,
           0,
           0,
           0,
           0,
           0,
           0,
           0,
           0,
           0,
           0,
           0,
           0,
           0,
           0,
           0,
           0,
           0,
           0,
           0,
           0,
           0,
           0,
           0,
           0
          ]
         },
         "hovertemplate": "solver=L3_D16_best<br>type=lrnn_best<br>difficulty=0<br>problem=%{x}<br>cycles_mean=%{y}<extra></extra>",
         "legendgroup": "L3_D16_best, lrnn_best",
         "line": {
          "color": "#B6E880",
          "dash": "dot"
         },
         "marker": {
          "symbol": "circle"
         },
         "mode": "lines",
         "name": "L3_D16_best, lrnn_best",
         "orientation": "v",
         "showlegend": true,
         "type": "scatter",
         "x": [
          "0_01",
          "0_02",
          "0_03",
          "0_04",
          "0_05",
          "0_06",
          "0_07",
          "0_08",
          "0_09",
          "0_10",
          "0_11",
          "0_12",
          "0_13",
          "0_14",
          "0_15",
          "0_16",
          "0_17",
          "0_18",
          "0_19",
          "0_20",
          "0_21",
          "0_22",
          "0_23",
          "0_24",
          "0_25",
          "0_26",
          "0_27",
          "0_28",
          "0_29",
          "0_30"
         ],
         "xaxis": "x",
         "y": [
          0,
          0,
          0,
          0,
          0,
          0,
          0,
          0,
          0,
          0,
          0,
          0,
          0,
          0,
          0,
          0,
          0,
          0,
          0,
          0,
          0,
          0,
          0,
          0,
          0,
          0,
          0,
          0,
          0,
          0
         ],
         "yaxis": "y"
        },
        {
         "error_y": {
          "array": [
           0,
           0,
           0,
           0,
           0,
           0,
           0,
           0,
           0,
           0,
           0,
           0,
           0,
           0,
           0,
           0,
           0,
           0,
           0,
           0,
           0,
           0,
           0,
           0,
           0,
           0,
           0,
           0,
           0,
           0
          ]
         },
         "hovertemplate": "solver=L3_D16_best<br>type=lrnn_best<br>difficulty=1<br>problem=%{x}<br>cycles_mean=%{y}<extra></extra>",
         "legendgroup": "L3_D16_best, lrnn_best",
         "line": {
          "color": "#B6E880",
          "dash": "dot"
         },
         "marker": {
          "symbol": "circle"
         },
         "mode": "lines",
         "name": "L3_D16_best, lrnn_best",
         "orientation": "v",
         "showlegend": false,
         "type": "scatter",
         "x": [
          "1_01",
          "1_02",
          "1_03",
          "1_04",
          "1_05",
          "1_06",
          "1_07",
          "1_08",
          "1_09",
          "1_10",
          "1_11",
          "1_12",
          "1_13",
          "1_14",
          "1_15",
          "1_16",
          "1_17",
          "1_18",
          "1_19",
          "1_20",
          "1_21",
          "1_22",
          "1_23",
          "1_24",
          "1_25",
          "1_26",
          "1_27",
          "1_28",
          "1_29",
          "1_30"
         ],
         "xaxis": "x2",
         "y": [
          0,
          0,
          0,
          0,
          0,
          0,
          0,
          0,
          0,
          0,
          0,
          0,
          0,
          0,
          0,
          0,
          0,
          0,
          0,
          0,
          0,
          0,
          0,
          0,
          0,
          0,
          0,
          0,
          0,
          0
         ],
         "yaxis": "y2"
        },
        {
         "error_y": {
          "array": [
           0,
           0,
           0,
           0,
           0,
           0,
           0,
           0,
           0,
           0,
           0,
           0,
           0,
           0,
           0,
           0,
           0,
           0,
           0,
           0,
           0,
           0,
           0,
           0,
           0,
           0,
           0,
           0,
           0,
           0
          ]
         },
         "hovertemplate": "solver=L3_D32_best<br>type=lrnn_best<br>difficulty=0<br>problem=%{x}<br>cycles_mean=%{y}<extra></extra>",
         "legendgroup": "L3_D32_best, lrnn_best",
         "line": {
          "color": "#FF97FF",
          "dash": "dot"
         },
         "marker": {
          "symbol": "circle"
         },
         "mode": "lines",
         "name": "L3_D32_best, lrnn_best",
         "orientation": "v",
         "showlegend": true,
         "type": "scatter",
         "x": [
          "0_01",
          "0_02",
          "0_03",
          "0_04",
          "0_05",
          "0_06",
          "0_07",
          "0_08",
          "0_09",
          "0_10",
          "0_11",
          "0_12",
          "0_13",
          "0_14",
          "0_15",
          "0_16",
          "0_17",
          "0_18",
          "0_19",
          "0_20",
          "0_21",
          "0_22",
          "0_23",
          "0_24",
          "0_25",
          "0_26",
          "0_27",
          "0_28",
          "0_29",
          "0_30"
         ],
         "xaxis": "x",
         "y": [
          0,
          0,
          0,
          0,
          0,
          0,
          0,
          0,
          0,
          0,
          0,
          0,
          0,
          0,
          0,
          0,
          0,
          0,
          0,
          0,
          0,
          0,
          0,
          0,
          0,
          0,
          0,
          0,
          0,
          0
         ],
         "yaxis": "y"
        },
        {
         "error_y": {
          "array": [
           0,
           0,
           0,
           0,
           0,
           0,
           0,
           0,
           0,
           0,
           0,
           0,
           0,
           0,
           0,
           0,
           0,
           0,
           0,
           0,
           0,
           0,
           0,
           0,
           0,
           0,
           0,
           0,
           0,
           0
          ]
         },
         "hovertemplate": "solver=L3_D32_best<br>type=lrnn_best<br>difficulty=1<br>problem=%{x}<br>cycles_mean=%{y}<extra></extra>",
         "legendgroup": "L3_D32_best, lrnn_best",
         "line": {
          "color": "#FF97FF",
          "dash": "dot"
         },
         "marker": {
          "symbol": "circle"
         },
         "mode": "lines",
         "name": "L3_D32_best, lrnn_best",
         "orientation": "v",
         "showlegend": false,
         "type": "scatter",
         "x": [
          "1_01",
          "1_02",
          "1_03",
          "1_04",
          "1_05",
          "1_06",
          "1_07",
          "1_08",
          "1_09",
          "1_10",
          "1_11",
          "1_12",
          "1_13",
          "1_14",
          "1_15",
          "1_16",
          "1_17",
          "1_18",
          "1_19",
          "1_20",
          "1_21",
          "1_22",
          "1_23",
          "1_24",
          "1_25",
          "1_26",
          "1_27",
          "1_28",
          "1_29",
          "1_30"
         ],
         "xaxis": "x2",
         "y": [
          0,
          0,
          0,
          0,
          0,
          0,
          0,
          0,
          0,
          0,
          0,
          0,
          0,
          0,
          0,
          0,
          0,
          0,
          0,
          0,
          0,
          0,
          0,
          0,
          0,
          0,
          0,
          0,
          0,
          0
         ],
         "yaxis": "y2"
        }
       ],
       "layout": {
        "annotations": [
         {
          "font": {},
          "showarrow": false,
          "text": "difficulty=0",
          "x": 0.245,
          "xanchor": "center",
          "xref": "paper",
          "y": 1,
          "yanchor": "bottom",
          "yref": "paper"
         },
         {
          "font": {},
          "showarrow": false,
          "text": "difficulty=1",
          "x": 0.755,
          "xanchor": "center",
          "xref": "paper",
          "y": 1,
          "yanchor": "bottom",
          "yref": "paper"
         }
        ],
        "legend": {
         "title": {
          "text": "solver, type"
         },
         "tracegroupgap": 0
        },
        "margin": {
         "t": 60
        },
        "template": {
         "data": {
          "bar": [
           {
            "error_x": {
             "color": "#2a3f5f"
            },
            "error_y": {
             "color": "#2a3f5f"
            },
            "marker": {
             "line": {
              "color": "#E5ECF6",
              "width": 0.5
             },
             "pattern": {
              "fillmode": "overlay",
              "size": 10,
              "solidity": 0.2
             }
            },
            "type": "bar"
           }
          ],
          "barpolar": [
           {
            "marker": {
             "line": {
              "color": "#E5ECF6",
              "width": 0.5
             },
             "pattern": {
              "fillmode": "overlay",
              "size": 10,
              "solidity": 0.2
             }
            },
            "type": "barpolar"
           }
          ],
          "carpet": [
           {
            "aaxis": {
             "endlinecolor": "#2a3f5f",
             "gridcolor": "white",
             "linecolor": "white",
             "minorgridcolor": "white",
             "startlinecolor": "#2a3f5f"
            },
            "baxis": {
             "endlinecolor": "#2a3f5f",
             "gridcolor": "white",
             "linecolor": "white",
             "minorgridcolor": "white",
             "startlinecolor": "#2a3f5f"
            },
            "type": "carpet"
           }
          ],
          "choropleth": [
           {
            "colorbar": {
             "outlinewidth": 0,
             "ticks": ""
            },
            "type": "choropleth"
           }
          ],
          "contour": [
           {
            "colorbar": {
             "outlinewidth": 0,
             "ticks": ""
            },
            "colorscale": [
             [
              0,
              "#0d0887"
             ],
             [
              0.1111111111111111,
              "#46039f"
             ],
             [
              0.2222222222222222,
              "#7201a8"
             ],
             [
              0.3333333333333333,
              "#9c179e"
             ],
             [
              0.4444444444444444,
              "#bd3786"
             ],
             [
              0.5555555555555556,
              "#d8576b"
             ],
             [
              0.6666666666666666,
              "#ed7953"
             ],
             [
              0.7777777777777778,
              "#fb9f3a"
             ],
             [
              0.8888888888888888,
              "#fdca26"
             ],
             [
              1,
              "#f0f921"
             ]
            ],
            "type": "contour"
           }
          ],
          "contourcarpet": [
           {
            "colorbar": {
             "outlinewidth": 0,
             "ticks": ""
            },
            "type": "contourcarpet"
           }
          ],
          "heatmap": [
           {
            "colorbar": {
             "outlinewidth": 0,
             "ticks": ""
            },
            "colorscale": [
             [
              0,
              "#0d0887"
             ],
             [
              0.1111111111111111,
              "#46039f"
             ],
             [
              0.2222222222222222,
              "#7201a8"
             ],
             [
              0.3333333333333333,
              "#9c179e"
             ],
             [
              0.4444444444444444,
              "#bd3786"
             ],
             [
              0.5555555555555556,
              "#d8576b"
             ],
             [
              0.6666666666666666,
              "#ed7953"
             ],
             [
              0.7777777777777778,
              "#fb9f3a"
             ],
             [
              0.8888888888888888,
              "#fdca26"
             ],
             [
              1,
              "#f0f921"
             ]
            ],
            "type": "heatmap"
           }
          ],
          "heatmapgl": [
           {
            "colorbar": {
             "outlinewidth": 0,
             "ticks": ""
            },
            "colorscale": [
             [
              0,
              "#0d0887"
             ],
             [
              0.1111111111111111,
              "#46039f"
             ],
             [
              0.2222222222222222,
              "#7201a8"
             ],
             [
              0.3333333333333333,
              "#9c179e"
             ],
             [
              0.4444444444444444,
              "#bd3786"
             ],
             [
              0.5555555555555556,
              "#d8576b"
             ],
             [
              0.6666666666666666,
              "#ed7953"
             ],
             [
              0.7777777777777778,
              "#fb9f3a"
             ],
             [
              0.8888888888888888,
              "#fdca26"
             ],
             [
              1,
              "#f0f921"
             ]
            ],
            "type": "heatmapgl"
           }
          ],
          "histogram": [
           {
            "marker": {
             "pattern": {
              "fillmode": "overlay",
              "size": 10,
              "solidity": 0.2
             }
            },
            "type": "histogram"
           }
          ],
          "histogram2d": [
           {
            "colorbar": {
             "outlinewidth": 0,
             "ticks": ""
            },
            "colorscale": [
             [
              0,
              "#0d0887"
             ],
             [
              0.1111111111111111,
              "#46039f"
             ],
             [
              0.2222222222222222,
              "#7201a8"
             ],
             [
              0.3333333333333333,
              "#9c179e"
             ],
             [
              0.4444444444444444,
              "#bd3786"
             ],
             [
              0.5555555555555556,
              "#d8576b"
             ],
             [
              0.6666666666666666,
              "#ed7953"
             ],
             [
              0.7777777777777778,
              "#fb9f3a"
             ],
             [
              0.8888888888888888,
              "#fdca26"
             ],
             [
              1,
              "#f0f921"
             ]
            ],
            "type": "histogram2d"
           }
          ],
          "histogram2dcontour": [
           {
            "colorbar": {
             "outlinewidth": 0,
             "ticks": ""
            },
            "colorscale": [
             [
              0,
              "#0d0887"
             ],
             [
              0.1111111111111111,
              "#46039f"
             ],
             [
              0.2222222222222222,
              "#7201a8"
             ],
             [
              0.3333333333333333,
              "#9c179e"
             ],
             [
              0.4444444444444444,
              "#bd3786"
             ],
             [
              0.5555555555555556,
              "#d8576b"
             ],
             [
              0.6666666666666666,
              "#ed7953"
             ],
             [
              0.7777777777777778,
              "#fb9f3a"
             ],
             [
              0.8888888888888888,
              "#fdca26"
             ],
             [
              1,
              "#f0f921"
             ]
            ],
            "type": "histogram2dcontour"
           }
          ],
          "mesh3d": [
           {
            "colorbar": {
             "outlinewidth": 0,
             "ticks": ""
            },
            "type": "mesh3d"
           }
          ],
          "parcoords": [
           {
            "line": {
             "colorbar": {
              "outlinewidth": 0,
              "ticks": ""
             }
            },
            "type": "parcoords"
           }
          ],
          "pie": [
           {
            "automargin": true,
            "type": "pie"
           }
          ],
          "scatter": [
           {
            "fillpattern": {
             "fillmode": "overlay",
             "size": 10,
             "solidity": 0.2
            },
            "type": "scatter"
           }
          ],
          "scatter3d": [
           {
            "line": {
             "colorbar": {
              "outlinewidth": 0,
              "ticks": ""
             }
            },
            "marker": {
             "colorbar": {
              "outlinewidth": 0,
              "ticks": ""
             }
            },
            "type": "scatter3d"
           }
          ],
          "scattercarpet": [
           {
            "marker": {
             "colorbar": {
              "outlinewidth": 0,
              "ticks": ""
             }
            },
            "type": "scattercarpet"
           }
          ],
          "scattergeo": [
           {
            "marker": {
             "colorbar": {
              "outlinewidth": 0,
              "ticks": ""
             }
            },
            "type": "scattergeo"
           }
          ],
          "scattergl": [
           {
            "marker": {
             "colorbar": {
              "outlinewidth": 0,
              "ticks": ""
             }
            },
            "type": "scattergl"
           }
          ],
          "scattermapbox": [
           {
            "marker": {
             "colorbar": {
              "outlinewidth": 0,
              "ticks": ""
             }
            },
            "type": "scattermapbox"
           }
          ],
          "scatterpolar": [
           {
            "marker": {
             "colorbar": {
              "outlinewidth": 0,
              "ticks": ""
             }
            },
            "type": "scatterpolar"
           }
          ],
          "scatterpolargl": [
           {
            "marker": {
             "colorbar": {
              "outlinewidth": 0,
              "ticks": ""
             }
            },
            "type": "scatterpolargl"
           }
          ],
          "scatterternary": [
           {
            "marker": {
             "colorbar": {
              "outlinewidth": 0,
              "ticks": ""
             }
            },
            "type": "scatterternary"
           }
          ],
          "surface": [
           {
            "colorbar": {
             "outlinewidth": 0,
             "ticks": ""
            },
            "colorscale": [
             [
              0,
              "#0d0887"
             ],
             [
              0.1111111111111111,
              "#46039f"
             ],
             [
              0.2222222222222222,
              "#7201a8"
             ],
             [
              0.3333333333333333,
              "#9c179e"
             ],
             [
              0.4444444444444444,
              "#bd3786"
             ],
             [
              0.5555555555555556,
              "#d8576b"
             ],
             [
              0.6666666666666666,
              "#ed7953"
             ],
             [
              0.7777777777777778,
              "#fb9f3a"
             ],
             [
              0.8888888888888888,
              "#fdca26"
             ],
             [
              1,
              "#f0f921"
             ]
            ],
            "type": "surface"
           }
          ],
          "table": [
           {
            "cells": {
             "fill": {
              "color": "#EBF0F8"
             },
             "line": {
              "color": "white"
             }
            },
            "header": {
             "fill": {
              "color": "#C8D4E3"
             },
             "line": {
              "color": "white"
             }
            },
            "type": "table"
           }
          ]
         },
         "layout": {
          "annotationdefaults": {
           "arrowcolor": "#2a3f5f",
           "arrowhead": 0,
           "arrowwidth": 1
          },
          "autotypenumbers": "strict",
          "coloraxis": {
           "colorbar": {
            "outlinewidth": 0,
            "ticks": ""
           }
          },
          "colorscale": {
           "diverging": [
            [
             0,
             "#8e0152"
            ],
            [
             0.1,
             "#c51b7d"
            ],
            [
             0.2,
             "#de77ae"
            ],
            [
             0.3,
             "#f1b6da"
            ],
            [
             0.4,
             "#fde0ef"
            ],
            [
             0.5,
             "#f7f7f7"
            ],
            [
             0.6,
             "#e6f5d0"
            ],
            [
             0.7,
             "#b8e186"
            ],
            [
             0.8,
             "#7fbc41"
            ],
            [
             0.9,
             "#4d9221"
            ],
            [
             1,
             "#276419"
            ]
           ],
           "sequential": [
            [
             0,
             "#0d0887"
            ],
            [
             0.1111111111111111,
             "#46039f"
            ],
            [
             0.2222222222222222,
             "#7201a8"
            ],
            [
             0.3333333333333333,
             "#9c179e"
            ],
            [
             0.4444444444444444,
             "#bd3786"
            ],
            [
             0.5555555555555556,
             "#d8576b"
            ],
            [
             0.6666666666666666,
             "#ed7953"
            ],
            [
             0.7777777777777778,
             "#fb9f3a"
            ],
            [
             0.8888888888888888,
             "#fdca26"
            ],
            [
             1,
             "#f0f921"
            ]
           ],
           "sequentialminus": [
            [
             0,
             "#0d0887"
            ],
            [
             0.1111111111111111,
             "#46039f"
            ],
            [
             0.2222222222222222,
             "#7201a8"
            ],
            [
             0.3333333333333333,
             "#9c179e"
            ],
            [
             0.4444444444444444,
             "#bd3786"
            ],
            [
             0.5555555555555556,
             "#d8576b"
            ],
            [
             0.6666666666666666,
             "#ed7953"
            ],
            [
             0.7777777777777778,
             "#fb9f3a"
            ],
            [
             0.8888888888888888,
             "#fdca26"
            ],
            [
             1,
             "#f0f921"
            ]
           ]
          },
          "colorway": [
           "#636efa",
           "#EF553B",
           "#00cc96",
           "#ab63fa",
           "#FFA15A",
           "#19d3f3",
           "#FF6692",
           "#B6E880",
           "#FF97FF",
           "#FECB52"
          ],
          "font": {
           "color": "#2a3f5f"
          },
          "geo": {
           "bgcolor": "white",
           "lakecolor": "white",
           "landcolor": "#E5ECF6",
           "showlakes": true,
           "showland": true,
           "subunitcolor": "white"
          },
          "hoverlabel": {
           "align": "left"
          },
          "hovermode": "closest",
          "mapbox": {
           "style": "light"
          },
          "paper_bgcolor": "white",
          "plot_bgcolor": "#E5ECF6",
          "polar": {
           "angularaxis": {
            "gridcolor": "white",
            "linecolor": "white",
            "ticks": ""
           },
           "bgcolor": "#E5ECF6",
           "radialaxis": {
            "gridcolor": "white",
            "linecolor": "white",
            "ticks": ""
           }
          },
          "scene": {
           "xaxis": {
            "backgroundcolor": "#E5ECF6",
            "gridcolor": "white",
            "gridwidth": 2,
            "linecolor": "white",
            "showbackground": true,
            "ticks": "",
            "zerolinecolor": "white"
           },
           "yaxis": {
            "backgroundcolor": "#E5ECF6",
            "gridcolor": "white",
            "gridwidth": 2,
            "linecolor": "white",
            "showbackground": true,
            "ticks": "",
            "zerolinecolor": "white"
           },
           "zaxis": {
            "backgroundcolor": "#E5ECF6",
            "gridcolor": "white",
            "gridwidth": 2,
            "linecolor": "white",
            "showbackground": true,
            "ticks": "",
            "zerolinecolor": "white"
           }
          },
          "shapedefaults": {
           "line": {
            "color": "#2a3f5f"
           }
          },
          "ternary": {
           "aaxis": {
            "gridcolor": "white",
            "linecolor": "white",
            "ticks": ""
           },
           "baxis": {
            "gridcolor": "white",
            "linecolor": "white",
            "ticks": ""
           },
           "bgcolor": "#E5ECF6",
           "caxis": {
            "gridcolor": "white",
            "linecolor": "white",
            "ticks": ""
           }
          },
          "title": {
           "x": 0.05
          },
          "xaxis": {
           "automargin": true,
           "gridcolor": "white",
           "linecolor": "white",
           "ticks": "",
           "title": {
            "standoff": 15
           },
           "zerolinecolor": "white",
           "zerolinewidth": 2
          },
          "yaxis": {
           "automargin": true,
           "gridcolor": "white",
           "linecolor": "white",
           "ticks": "",
           "title": {
            "standoff": 15
           },
           "zerolinecolor": "white",
           "zerolinewidth": 2
          }
         }
        },
        "xaxis": {
         "anchor": "y",
         "categoryarray": [
          "0_01",
          "0_02",
          "0_03",
          "0_04",
          "0_05",
          "0_06",
          "0_07",
          "0_08",
          "0_09",
          "0_10",
          "0_11",
          "0_12",
          "0_13",
          "0_14",
          "0_15",
          "0_16",
          "0_17",
          "0_18",
          "0_19",
          "0_20",
          "0_21",
          "0_22",
          "0_23",
          "0_24",
          "0_25",
          "0_26",
          "0_27",
          "0_28",
          "0_29",
          "0_30",
          "1_01",
          "1_02",
          "1_03",
          "1_04",
          "1_05",
          "1_06",
          "1_07",
          "1_08",
          "1_09",
          "1_10",
          "1_11",
          "1_12",
          "1_13",
          "1_14",
          "1_15",
          "1_16",
          "1_17",
          "1_18",
          "1_19",
          "1_20",
          "1_21",
          "1_22",
          "1_23",
          "1_24",
          "1_25",
          "1_26",
          "1_27",
          "1_28",
          "1_29",
          "1_30"
         ],
         "categoryorder": "array",
         "domain": [
          0,
          0.49
         ],
         "showticklabels": true,
         "title": {
          "text": "problem"
         }
        },
        "xaxis2": {
         "anchor": "y2",
         "categoryarray": [
          "0_01",
          "0_02",
          "0_03",
          "0_04",
          "0_05",
          "0_06",
          "0_07",
          "0_08",
          "0_09",
          "0_10",
          "0_11",
          "0_12",
          "0_13",
          "0_14",
          "0_15",
          "0_16",
          "0_17",
          "0_18",
          "0_19",
          "0_20",
          "0_21",
          "0_22",
          "0_23",
          "0_24",
          "0_25",
          "0_26",
          "0_27",
          "0_28",
          "0_29",
          "0_30",
          "1_01",
          "1_02",
          "1_03",
          "1_04",
          "1_05",
          "1_06",
          "1_07",
          "1_08",
          "1_09",
          "1_10",
          "1_11",
          "1_12",
          "1_13",
          "1_14",
          "1_15",
          "1_16",
          "1_17",
          "1_18",
          "1_19",
          "1_20",
          "1_21",
          "1_22",
          "1_23",
          "1_24",
          "1_25",
          "1_26",
          "1_27",
          "1_28",
          "1_29",
          "1_30"
         ],
         "categoryorder": "array",
         "domain": [
          0.51,
          1
         ],
         "showticklabels": true,
         "title": {
          "text": "problem"
         }
        },
        "yaxis": {
         "anchor": "x",
         "domain": [
          0,
          1
         ],
         "showticklabels": true,
         "title": {
          "text": "cycles_mean"
         }
        },
        "yaxis2": {
         "anchor": "x2",
         "domain": [
          0,
          1
         ],
         "showticklabels": true
        }
       }
      }
     },
     "metadata": {},
     "output_type": "display_data"
    },
    {
     "name": "stdout",
     "output_type": "stream",
     "text": [
      "ferry\n"
     ]
    },
    {
     "data": {
      "application/vnd.plotly.v1+json": {
       "config": {
        "plotlyServerURL": "https://plot.ly"
       },
       "data": [
        {
         "error_y": {
          "array": [
           0,
           0,
           0,
           0,
           0,
           0,
           0,
           0,
           0,
           0,
           0,
           0,
           0,
           0,
           0,
           0,
           0,
           0,
           0,
           0,
           0,
           0,
           0,
           0,
           0,
           0,
           0,
           0,
           0,
           0
          ]
         },
         "hovertemplate": "solver=baseline<br>type=bounds<br>difficulty=0<br>problem=%{x}<br>cycles_mean=%{y}<extra></extra>",
         "legendgroup": "baseline, bounds",
         "line": {
          "color": "#636efa",
          "dash": "solid"
         },
         "marker": {
          "symbol": "circle"
         },
         "mode": "lines",
         "name": "baseline, bounds",
         "orientation": "v",
         "showlegend": true,
         "type": "scatter",
         "x": [
          "0_01",
          "0_02",
          "0_03",
          "0_04",
          "0_05",
          "0_06",
          "0_07",
          "0_08",
          "0_09",
          "0_10",
          "0_11",
          "0_12",
          "0_13",
          "0_14",
          "0_15",
          "0_16",
          "0_17",
          "0_18",
          "0_19",
          "0_20",
          "0_21",
          "0_22",
          "0_23",
          "0_24",
          "0_25",
          "0_26",
          "0_27",
          "0_28",
          "0_29",
          "0_30"
         ],
         "xaxis": "x",
         "y": [
          0,
          0,
          0,
          0,
          0,
          0,
          0,
          0,
          0,
          0,
          0,
          0,
          0,
          0,
          0,
          0,
          0,
          0,
          0,
          0,
          0,
          0,
          0,
          0,
          0,
          0,
          0,
          0,
          0,
          0
         ],
         "yaxis": "y"
        },
        {
         "error_y": {
          "array": [
           0,
           0,
           0,
           0,
           0,
           0,
           0,
           0,
           0,
           0,
           0,
           0,
           0,
           0,
           0,
           0,
           0,
           0,
           0,
           0,
           0,
           0,
           0,
           0,
           0,
           0,
           0,
           0,
           0,
           0
          ]
         },
         "hovertemplate": "solver=baseline<br>type=bounds<br>difficulty=1<br>problem=%{x}<br>cycles_mean=%{y}<extra></extra>",
         "legendgroup": "baseline, bounds",
         "line": {
          "color": "#636efa",
          "dash": "solid"
         },
         "marker": {
          "symbol": "circle"
         },
         "mode": "lines",
         "name": "baseline, bounds",
         "orientation": "v",
         "showlegend": false,
         "type": "scatter",
         "x": [
          "1_01",
          "1_02",
          "1_03",
          "1_04",
          "1_05",
          "1_06",
          "1_07",
          "1_08",
          "1_09",
          "1_10",
          "1_11",
          "1_12",
          "1_13",
          "1_14",
          "1_15",
          "1_16",
          "1_17",
          "1_18",
          "1_19",
          "1_20",
          "1_21",
          "1_22",
          "1_23",
          "1_24",
          "1_25",
          "1_26",
          "1_27",
          "1_28",
          "1_29",
          "1_30"
         ],
         "xaxis": "x2",
         "y": [
          0,
          0,
          0,
          0,
          0,
          0,
          0,
          0,
          0,
          0,
          0,
          0,
          0,
          0,
          0,
          0,
          0,
          0,
          0,
          0,
          0,
          0,
          0,
          0,
          0,
          0,
          0,
          0,
          0,
          0
         ],
         "yaxis": "y2"
        },
        {
         "error_y": {
          "array": [
           null,
           null,
           null,
           null,
           null,
           null,
           null,
           null,
           null,
           null,
           null,
           null,
           null,
           null,
           null,
           null,
           null,
           null,
           null,
           null,
           null,
           null,
           null,
           null,
           null,
           null,
           null,
           null,
           null,
           null
          ]
         },
         "hovertemplate": "solver=optimal<br>type=bounds<br>difficulty=0<br>problem=%{x}<br>cycles_mean=%{y}<extra></extra>",
         "legendgroup": "optimal, bounds",
         "line": {
          "color": "#EF553B",
          "dash": "solid"
         },
         "marker": {
          "symbol": "circle"
         },
         "mode": "lines",
         "name": "optimal, bounds",
         "orientation": "v",
         "showlegend": true,
         "type": "scatter",
         "x": [
          "0_01",
          "0_02",
          "0_03",
          "0_04",
          "0_05",
          "0_06",
          "0_07",
          "0_08",
          "0_09",
          "0_10",
          "0_11",
          "0_12",
          "0_13",
          "0_14",
          "0_15",
          "0_16",
          "0_17",
          "0_18",
          "0_19",
          "0_20",
          "0_21",
          "0_22",
          "0_23",
          "0_24",
          "0_25",
          "0_26",
          "0_27",
          "0_28",
          "0_29",
          "0_30"
         ],
         "xaxis": "x",
         "y": [
          0,
          0,
          0,
          0,
          0,
          0,
          0,
          0,
          0,
          0,
          0,
          0,
          0,
          0,
          0,
          0,
          0,
          0,
          0,
          0,
          0,
          0,
          0,
          0,
          0,
          0,
          0,
          0,
          0,
          0
         ],
         "yaxis": "y"
        },
        {
         "error_y": {
          "array": [
           null,
           null,
           null,
           null,
           null,
           null,
           null,
           null,
           null,
           null,
           null,
           null,
           null,
           null,
           null,
           null,
           null,
           null,
           null,
           null,
           null,
           null,
           null,
           null,
           null,
           null,
           null,
           null,
           null,
           null
          ]
         },
         "hovertemplate": "solver=optimal<br>type=bounds<br>difficulty=1<br>problem=%{x}<br>cycles_mean=%{y}<extra></extra>",
         "legendgroup": "optimal, bounds",
         "line": {
          "color": "#EF553B",
          "dash": "solid"
         },
         "marker": {
          "symbol": "circle"
         },
         "mode": "lines",
         "name": "optimal, bounds",
         "orientation": "v",
         "showlegend": false,
         "type": "scatter",
         "x": [
          "1_01",
          "1_02",
          "1_03",
          "1_04",
          "1_05",
          "1_06",
          "1_07",
          "1_08",
          "1_09",
          "1_10",
          "1_11",
          "1_12",
          "1_13",
          "1_14",
          "1_15",
          "1_16",
          "1_17",
          "1_18",
          "1_19",
          "1_20",
          "1_21",
          "1_22",
          "1_23",
          "1_24",
          "1_25",
          "1_26",
          "1_27",
          "1_28",
          "1_29",
          "1_30"
         ],
         "xaxis": "x2",
         "y": [
          0,
          0,
          0,
          0,
          0,
          0,
          0,
          0,
          0,
          0,
          0,
          0,
          0,
          0,
          0,
          0,
          0,
          0,
          0,
          0,
          0,
          0,
          0,
          0,
          0,
          0,
          0,
          0,
          0,
          0
         ],
         "yaxis": "y2"
        },
        {
         "error_y": {
          "array": [
           null,
           null,
           null,
           null,
           null,
           null,
           null,
           null,
           null,
           null,
           null,
           null,
           null,
           null,
           null,
           null,
           null,
           null,
           null,
           null,
           null,
           null,
           null,
           null,
           null,
           null,
           null,
           null,
           null,
           null
          ]
         },
         "hovertemplate": "solver=lama<br>type=bounds<br>difficulty=0<br>problem=%{x}<br>cycles_mean=%{y}<extra></extra>",
         "legendgroup": "lama, bounds",
         "line": {
          "color": "#00cc96",
          "dash": "solid"
         },
         "marker": {
          "symbol": "circle"
         },
         "mode": "lines",
         "name": "lama, bounds",
         "orientation": "v",
         "showlegend": true,
         "type": "scatter",
         "x": [
          "0_01",
          "0_02",
          "0_03",
          "0_04",
          "0_05",
          "0_06",
          "0_07",
          "0_08",
          "0_09",
          "0_10",
          "0_11",
          "0_12",
          "0_13",
          "0_14",
          "0_15",
          "0_16",
          "0_17",
          "0_18",
          "0_19",
          "0_20",
          "0_21",
          "0_22",
          "0_23",
          "0_24",
          "0_25",
          "0_26",
          "0_27",
          "0_28",
          "0_29",
          "0_30"
         ],
         "xaxis": "x",
         "y": [
          0,
          0,
          0,
          0,
          0,
          0,
          0,
          0,
          0,
          0,
          0,
          0,
          0,
          0,
          0,
          0,
          0,
          0,
          0,
          0,
          0,
          0,
          0,
          0,
          0,
          0,
          0,
          0,
          0,
          0
         ],
         "yaxis": "y"
        },
        {
         "error_y": {
          "array": [
           null,
           null,
           null,
           null,
           null,
           null,
           null,
           null,
           null,
           null,
           null,
           null,
           null,
           null,
           null,
           null,
           null,
           null,
           null,
           null,
           null,
           null,
           null,
           null,
           null,
           null,
           null,
           null,
           null,
           null
          ]
         },
         "hovertemplate": "solver=lama<br>type=bounds<br>difficulty=1<br>problem=%{x}<br>cycles_mean=%{y}<extra></extra>",
         "legendgroup": "lama, bounds",
         "line": {
          "color": "#00cc96",
          "dash": "solid"
         },
         "marker": {
          "symbol": "circle"
         },
         "mode": "lines",
         "name": "lama, bounds",
         "orientation": "v",
         "showlegend": false,
         "type": "scatter",
         "x": [
          "1_01",
          "1_02",
          "1_03",
          "1_04",
          "1_05",
          "1_06",
          "1_07",
          "1_08",
          "1_09",
          "1_10",
          "1_11",
          "1_12",
          "1_13",
          "1_14",
          "1_15",
          "1_16",
          "1_17",
          "1_18",
          "1_19",
          "1_20",
          "1_21",
          "1_22",
          "1_23",
          "1_24",
          "1_25",
          "1_26",
          "1_27",
          "1_28",
          "1_29",
          "1_30"
         ],
         "xaxis": "x2",
         "y": [
          0,
          0,
          0,
          0,
          0,
          0,
          0,
          0,
          0,
          0,
          0,
          0,
          0,
          0,
          0,
          0,
          0,
          0,
          0,
          0,
          0,
          0,
          0,
          0,
          0,
          0,
          0,
          0,
          0,
          0
         ],
         "yaxis": "y2"
        },
        {
         "error_y": {
          "array": [
           0,
           0,
           0,
           0,
           0,
           0,
           0,
           0,
           0,
           0,
           0,
           0,
           0,
           0,
           0,
           0,
           0,
           0,
           0,
           0,
           0,
           0,
           0,
           0,
           0,
           0,
           0,
           0,
           0,
           0
          ]
         },
         "hovertemplate": "solver=L2_D8_best<br>type=lrnn_best<br>difficulty=0<br>problem=%{x}<br>cycles_mean=%{y}<extra></extra>",
         "legendgroup": "L2_D8_best, lrnn_best",
         "line": {
          "color": "#ab63fa",
          "dash": "dot"
         },
         "marker": {
          "symbol": "circle"
         },
         "mode": "lines",
         "name": "L2_D8_best, lrnn_best",
         "orientation": "v",
         "showlegend": true,
         "type": "scatter",
         "x": [
          "0_01",
          "0_02",
          "0_03",
          "0_04",
          "0_05",
          "0_06",
          "0_07",
          "0_08",
          "0_09",
          "0_10",
          "0_11",
          "0_12",
          "0_13",
          "0_14",
          "0_15",
          "0_16",
          "0_17",
          "0_18",
          "0_19",
          "0_20",
          "0_21",
          "0_22",
          "0_23",
          "0_24",
          "0_25",
          "0_26",
          "0_27",
          "0_28",
          "0_29",
          "0_30"
         ],
         "xaxis": "x",
         "y": [
          0,
          0,
          0,
          0,
          0,
          0,
          0,
          0,
          0,
          0,
          0,
          0,
          0,
          0,
          0,
          0,
          0,
          0,
          0,
          0,
          0,
          0,
          0,
          0,
          0,
          0,
          0,
          0,
          0,
          0
         ],
         "yaxis": "y"
        },
        {
         "error_y": {
          "array": [
           0,
           0,
           0,
           0,
           0,
           0,
           0,
           0,
           0,
           0,
           0,
           0,
           0,
           0,
           0,
           0,
           0,
           0,
           0,
           0,
           0,
           0,
           0,
           0,
           0,
           0,
           0,
           0,
           0,
           0
          ]
         },
         "hovertemplate": "solver=L2_D8_best<br>type=lrnn_best<br>difficulty=1<br>problem=%{x}<br>cycles_mean=%{y}<extra></extra>",
         "legendgroup": "L2_D8_best, lrnn_best",
         "line": {
          "color": "#ab63fa",
          "dash": "dot"
         },
         "marker": {
          "symbol": "circle"
         },
         "mode": "lines",
         "name": "L2_D8_best, lrnn_best",
         "orientation": "v",
         "showlegend": false,
         "type": "scatter",
         "x": [
          "1_01",
          "1_02",
          "1_03",
          "1_04",
          "1_05",
          "1_06",
          "1_07",
          "1_08",
          "1_09",
          "1_10",
          "1_11",
          "1_12",
          "1_13",
          "1_14",
          "1_15",
          "1_16",
          "1_17",
          "1_18",
          "1_19",
          "1_20",
          "1_21",
          "1_22",
          "1_23",
          "1_24",
          "1_25",
          "1_26",
          "1_27",
          "1_28",
          "1_29",
          "1_30"
         ],
         "xaxis": "x2",
         "y": [
          0,
          0,
          0,
          0,
          0,
          0,
          0,
          0,
          0,
          0,
          0,
          0,
          0,
          0,
          0,
          0,
          0,
          0,
          0,
          0,
          0,
          0,
          0,
          0,
          0,
          0,
          0,
          0,
          0,
          0
         ],
         "yaxis": "y2"
        },
        {
         "error_y": {
          "array": [
           0,
           0,
           0,
           0,
           0,
           0,
           0,
           0,
           0,
           0,
           0,
           0,
           0,
           0,
           0,
           0,
           0,
           0,
           0,
           0,
           0,
           0,
           0,
           0,
           0,
           0,
           0,
           0,
           0,
           0
          ]
         },
         "hovertemplate": "solver=L2_D16_best<br>type=lrnn_best<br>difficulty=0<br>problem=%{x}<br>cycles_mean=%{y}<extra></extra>",
         "legendgroup": "L2_D16_best, lrnn_best",
         "line": {
          "color": "#FFA15A",
          "dash": "dot"
         },
         "marker": {
          "symbol": "circle"
         },
         "mode": "lines",
         "name": "L2_D16_best, lrnn_best",
         "orientation": "v",
         "showlegend": true,
         "type": "scatter",
         "x": [
          "0_01",
          "0_02",
          "0_03",
          "0_04",
          "0_05",
          "0_06",
          "0_07",
          "0_08",
          "0_09",
          "0_10",
          "0_11",
          "0_12",
          "0_13",
          "0_14",
          "0_15",
          "0_16",
          "0_17",
          "0_18",
          "0_19",
          "0_20",
          "0_21",
          "0_22",
          "0_23",
          "0_24",
          "0_25",
          "0_26",
          "0_27",
          "0_28",
          "0_29",
          "0_30"
         ],
         "xaxis": "x",
         "y": [
          0,
          0,
          0,
          0,
          0,
          0,
          0,
          0,
          0,
          0,
          0,
          0,
          0,
          0,
          0,
          0,
          0,
          0,
          0,
          0,
          0,
          0,
          0,
          0,
          0,
          0,
          0,
          0,
          0,
          0
         ],
         "yaxis": "y"
        },
        {
         "error_y": {
          "array": [
           0,
           0,
           0,
           0,
           0,
           0,
           0,
           0,
           0,
           0,
           0,
           0,
           0,
           0,
           0,
           0,
           0,
           0,
           0,
           0,
           0,
           0,
           0,
           0,
           0,
           0,
           0,
           0,
           0,
           0
          ]
         },
         "hovertemplate": "solver=L2_D16_best<br>type=lrnn_best<br>difficulty=1<br>problem=%{x}<br>cycles_mean=%{y}<extra></extra>",
         "legendgroup": "L2_D16_best, lrnn_best",
         "line": {
          "color": "#FFA15A",
          "dash": "dot"
         },
         "marker": {
          "symbol": "circle"
         },
         "mode": "lines",
         "name": "L2_D16_best, lrnn_best",
         "orientation": "v",
         "showlegend": false,
         "type": "scatter",
         "x": [
          "1_01",
          "1_02",
          "1_03",
          "1_04",
          "1_05",
          "1_06",
          "1_07",
          "1_08",
          "1_09",
          "1_10",
          "1_11",
          "1_12",
          "1_13",
          "1_14",
          "1_15",
          "1_16",
          "1_17",
          "1_18",
          "1_19",
          "1_20",
          "1_21",
          "1_22",
          "1_23",
          "1_24",
          "1_25",
          "1_26",
          "1_27",
          "1_28",
          "1_29",
          "1_30"
         ],
         "xaxis": "x2",
         "y": [
          0,
          0,
          0,
          0,
          0,
          0,
          0,
          0,
          0,
          0,
          0,
          0,
          0,
          0,
          0,
          0,
          0,
          0,
          0,
          0,
          0,
          0,
          0,
          0,
          0,
          0,
          0,
          0,
          0,
          0
         ],
         "yaxis": "y2"
        },
        {
         "error_y": {
          "array": [
           0,
           0,
           0,
           0,
           0,
           0,
           0,
           0,
           0,
           0,
           0,
           0,
           0,
           0,
           0,
           0,
           0,
           0,
           0,
           0,
           0,
           0,
           0,
           0,
           0,
           0,
           0,
           0,
           0,
           0
          ]
         },
         "hovertemplate": "solver=L2_D32_best<br>type=lrnn_best<br>difficulty=0<br>problem=%{x}<br>cycles_mean=%{y}<extra></extra>",
         "legendgroup": "L2_D32_best, lrnn_best",
         "line": {
          "color": "#19d3f3",
          "dash": "dot"
         },
         "marker": {
          "symbol": "circle"
         },
         "mode": "lines",
         "name": "L2_D32_best, lrnn_best",
         "orientation": "v",
         "showlegend": true,
         "type": "scatter",
         "x": [
          "0_01",
          "0_02",
          "0_03",
          "0_04",
          "0_05",
          "0_06",
          "0_07",
          "0_08",
          "0_09",
          "0_10",
          "0_11",
          "0_12",
          "0_13",
          "0_14",
          "0_15",
          "0_16",
          "0_17",
          "0_18",
          "0_19",
          "0_20",
          "0_21",
          "0_22",
          "0_23",
          "0_24",
          "0_25",
          "0_26",
          "0_27",
          "0_28",
          "0_29",
          "0_30"
         ],
         "xaxis": "x",
         "y": [
          0,
          0,
          0,
          0,
          0,
          0,
          0,
          0,
          0,
          0,
          0,
          0,
          0,
          0,
          0,
          0,
          0,
          0,
          0,
          0,
          0,
          0,
          0,
          0,
          0,
          0,
          0,
          0,
          0,
          0
         ],
         "yaxis": "y"
        },
        {
         "error_y": {
          "array": [
           0,
           0,
           0,
           0,
           0,
           0,
           0,
           0,
           0,
           0,
           0,
           0,
           0,
           0,
           0,
           0,
           0,
           0,
           0,
           0,
           0,
           0,
           0,
           0,
           0,
           0,
           0,
           0,
           0,
           0
          ]
         },
         "hovertemplate": "solver=L2_D32_best<br>type=lrnn_best<br>difficulty=1<br>problem=%{x}<br>cycles_mean=%{y}<extra></extra>",
         "legendgroup": "L2_D32_best, lrnn_best",
         "line": {
          "color": "#19d3f3",
          "dash": "dot"
         },
         "marker": {
          "symbol": "circle"
         },
         "mode": "lines",
         "name": "L2_D32_best, lrnn_best",
         "orientation": "v",
         "showlegend": false,
         "type": "scatter",
         "x": [
          "1_01",
          "1_02",
          "1_03",
          "1_04",
          "1_05",
          "1_06",
          "1_07",
          "1_08",
          "1_09",
          "1_10",
          "1_11",
          "1_12",
          "1_13",
          "1_14",
          "1_15",
          "1_16",
          "1_17",
          "1_18",
          "1_19",
          "1_20",
          "1_21",
          "1_22",
          "1_23",
          "1_24",
          "1_25",
          "1_26",
          "1_27",
          "1_28",
          "1_29",
          "1_30"
         ],
         "xaxis": "x2",
         "y": [
          0,
          0,
          0,
          0,
          0,
          0,
          0,
          0,
          0,
          0,
          0,
          0,
          0,
          0,
          0,
          0,
          0,
          0,
          0,
          0,
          0,
          0,
          0,
          0,
          0,
          0,
          0,
          0,
          0,
          0
         ],
         "yaxis": "y2"
        },
        {
         "error_y": {
          "array": [
           0,
           0,
           0,
           0,
           0,
           0,
           0,
           0,
           0,
           0,
           0,
           0,
           0,
           0,
           0,
           0,
           0,
           0,
           0,
           0,
           0,
           0,
           0,
           0,
           0,
           0,
           0,
           0,
           0,
           0
          ]
         },
         "hovertemplate": "solver=L3_D8_best<br>type=lrnn_best<br>difficulty=0<br>problem=%{x}<br>cycles_mean=%{y}<extra></extra>",
         "legendgroup": "L3_D8_best, lrnn_best",
         "line": {
          "color": "#FF6692",
          "dash": "dot"
         },
         "marker": {
          "symbol": "circle"
         },
         "mode": "lines",
         "name": "L3_D8_best, lrnn_best",
         "orientation": "v",
         "showlegend": true,
         "type": "scatter",
         "x": [
          "0_01",
          "0_02",
          "0_03",
          "0_04",
          "0_05",
          "0_06",
          "0_07",
          "0_08",
          "0_09",
          "0_10",
          "0_11",
          "0_12",
          "0_13",
          "0_14",
          "0_15",
          "0_16",
          "0_17",
          "0_18",
          "0_19",
          "0_20",
          "0_21",
          "0_22",
          "0_23",
          "0_24",
          "0_25",
          "0_26",
          "0_27",
          "0_28",
          "0_29",
          "0_30"
         ],
         "xaxis": "x",
         "y": [
          0,
          0,
          0,
          0,
          0,
          0,
          0,
          0,
          0,
          0,
          0,
          0,
          0,
          0,
          0,
          0,
          0,
          0,
          0,
          0,
          0,
          0,
          0,
          0,
          0,
          0,
          0,
          0,
          0,
          0
         ],
         "yaxis": "y"
        },
        {
         "error_y": {
          "array": [
           0,
           0,
           0,
           0,
           0,
           0,
           0,
           0,
           0,
           0,
           0,
           0,
           0,
           0,
           0,
           0,
           0,
           0,
           0,
           0,
           0,
           0,
           0,
           0,
           0,
           0,
           0,
           0,
           0,
           0
          ]
         },
         "hovertemplate": "solver=L3_D8_best<br>type=lrnn_best<br>difficulty=1<br>problem=%{x}<br>cycles_mean=%{y}<extra></extra>",
         "legendgroup": "L3_D8_best, lrnn_best",
         "line": {
          "color": "#FF6692",
          "dash": "dot"
         },
         "marker": {
          "symbol": "circle"
         },
         "mode": "lines",
         "name": "L3_D8_best, lrnn_best",
         "orientation": "v",
         "showlegend": false,
         "type": "scatter",
         "x": [
          "1_01",
          "1_02",
          "1_03",
          "1_04",
          "1_05",
          "1_06",
          "1_07",
          "1_08",
          "1_09",
          "1_10",
          "1_11",
          "1_12",
          "1_13",
          "1_14",
          "1_15",
          "1_16",
          "1_17",
          "1_18",
          "1_19",
          "1_20",
          "1_21",
          "1_22",
          "1_23",
          "1_24",
          "1_25",
          "1_26",
          "1_27",
          "1_28",
          "1_29",
          "1_30"
         ],
         "xaxis": "x2",
         "y": [
          0,
          0,
          0,
          0,
          0,
          0,
          0,
          0,
          0,
          0,
          0,
          0,
          0,
          0,
          0,
          0,
          0,
          0,
          0,
          0,
          0,
          0,
          0,
          0,
          0,
          0,
          0,
          0,
          0,
          0
         ],
         "yaxis": "y2"
        },
        {
         "error_y": {
          "array": [
           0,
           0,
           0,
           0,
           0,
           0,
           0,
           0,
           0,
           0,
           0,
           0,
           0,
           0,
           0,
           0,
           0,
           0,
           0,
           0,
           0,
           0,
           0,
           0,
           0,
           0,
           0,
           0,
           0,
           0
          ]
         },
         "hovertemplate": "solver=L3_D16_best<br>type=lrnn_best<br>difficulty=0<br>problem=%{x}<br>cycles_mean=%{y}<extra></extra>",
         "legendgroup": "L3_D16_best, lrnn_best",
         "line": {
          "color": "#B6E880",
          "dash": "dot"
         },
         "marker": {
          "symbol": "circle"
         },
         "mode": "lines",
         "name": "L3_D16_best, lrnn_best",
         "orientation": "v",
         "showlegend": true,
         "type": "scatter",
         "x": [
          "0_01",
          "0_02",
          "0_03",
          "0_04",
          "0_05",
          "0_06",
          "0_07",
          "0_08",
          "0_09",
          "0_10",
          "0_11",
          "0_12",
          "0_13",
          "0_14",
          "0_15",
          "0_16",
          "0_17",
          "0_18",
          "0_19",
          "0_20",
          "0_21",
          "0_22",
          "0_23",
          "0_24",
          "0_25",
          "0_26",
          "0_27",
          "0_28",
          "0_29",
          "0_30"
         ],
         "xaxis": "x",
         "y": [
          0,
          0,
          0,
          0,
          0,
          0,
          0,
          0,
          0,
          0,
          0,
          0,
          0,
          0,
          0,
          0,
          0,
          0,
          0,
          0,
          0,
          0,
          0,
          0,
          0,
          0,
          0,
          0,
          0,
          0
         ],
         "yaxis": "y"
        },
        {
         "error_y": {
          "array": [
           0,
           0,
           0,
           0,
           0,
           0,
           0,
           0,
           0,
           0,
           0,
           0,
           0,
           0,
           0,
           0,
           0,
           0,
           0,
           0,
           0,
           0,
           0,
           0,
           0,
           0,
           0,
           0,
           0,
           0
          ]
         },
         "hovertemplate": "solver=L3_D16_best<br>type=lrnn_best<br>difficulty=1<br>problem=%{x}<br>cycles_mean=%{y}<extra></extra>",
         "legendgroup": "L3_D16_best, lrnn_best",
         "line": {
          "color": "#B6E880",
          "dash": "dot"
         },
         "marker": {
          "symbol": "circle"
         },
         "mode": "lines",
         "name": "L3_D16_best, lrnn_best",
         "orientation": "v",
         "showlegend": false,
         "type": "scatter",
         "x": [
          "1_01",
          "1_02",
          "1_03",
          "1_04",
          "1_05",
          "1_06",
          "1_07",
          "1_08",
          "1_09",
          "1_10",
          "1_11",
          "1_12",
          "1_13",
          "1_14",
          "1_15",
          "1_16",
          "1_17",
          "1_18",
          "1_19",
          "1_20",
          "1_21",
          "1_22",
          "1_23",
          "1_24",
          "1_25",
          "1_26",
          "1_27",
          "1_28",
          "1_29",
          "1_30"
         ],
         "xaxis": "x2",
         "y": [
          0,
          0,
          0,
          0,
          0,
          0,
          0,
          0,
          0,
          0,
          0,
          0,
          0,
          0,
          0,
          0,
          0,
          0,
          0,
          0,
          0,
          0,
          0,
          0,
          0,
          0,
          0,
          0,
          0,
          0
         ],
         "yaxis": "y2"
        },
        {
         "error_y": {
          "array": [
           0,
           0,
           0,
           0,
           0,
           0,
           0,
           0,
           0,
           0,
           0,
           0,
           0,
           0,
           0,
           0,
           0,
           0,
           0,
           0,
           0,
           0,
           0,
           0,
           0,
           0,
           0,
           0,
           0,
           0
          ]
         },
         "hovertemplate": "solver=L3_D32_best<br>type=lrnn_best<br>difficulty=0<br>problem=%{x}<br>cycles_mean=%{y}<extra></extra>",
         "legendgroup": "L3_D32_best, lrnn_best",
         "line": {
          "color": "#FF97FF",
          "dash": "dot"
         },
         "marker": {
          "symbol": "circle"
         },
         "mode": "lines",
         "name": "L3_D32_best, lrnn_best",
         "orientation": "v",
         "showlegend": true,
         "type": "scatter",
         "x": [
          "0_01",
          "0_02",
          "0_03",
          "0_04",
          "0_05",
          "0_06",
          "0_07",
          "0_08",
          "0_09",
          "0_10",
          "0_11",
          "0_12",
          "0_13",
          "0_14",
          "0_15",
          "0_16",
          "0_17",
          "0_18",
          "0_19",
          "0_20",
          "0_21",
          "0_22",
          "0_23",
          "0_24",
          "0_25",
          "0_26",
          "0_27",
          "0_28",
          "0_29",
          "0_30"
         ],
         "xaxis": "x",
         "y": [
          0,
          0,
          0,
          0,
          0,
          0,
          0,
          0,
          0,
          0,
          0,
          0,
          0,
          0,
          0,
          0,
          0,
          0,
          0,
          0,
          0,
          0,
          0,
          0,
          0,
          0,
          0,
          0,
          0,
          0
         ],
         "yaxis": "y"
        },
        {
         "error_y": {
          "array": [
           0,
           0,
           0,
           0,
           0,
           0,
           0,
           0,
           0,
           0,
           0,
           0,
           0,
           0,
           0,
           0,
           0,
           0,
           0,
           0,
           0,
           0,
           0,
           0,
           0,
           0,
           0,
           0,
           0,
           0
          ]
         },
         "hovertemplate": "solver=L3_D32_best<br>type=lrnn_best<br>difficulty=1<br>problem=%{x}<br>cycles_mean=%{y}<extra></extra>",
         "legendgroup": "L3_D32_best, lrnn_best",
         "line": {
          "color": "#FF97FF",
          "dash": "dot"
         },
         "marker": {
          "symbol": "circle"
         },
         "mode": "lines",
         "name": "L3_D32_best, lrnn_best",
         "orientation": "v",
         "showlegend": false,
         "type": "scatter",
         "x": [
          "1_01",
          "1_02",
          "1_03",
          "1_04",
          "1_05",
          "1_06",
          "1_07",
          "1_08",
          "1_09",
          "1_10",
          "1_11",
          "1_12",
          "1_13",
          "1_14",
          "1_15",
          "1_16",
          "1_17",
          "1_18",
          "1_19",
          "1_20",
          "1_21",
          "1_22",
          "1_23",
          "1_24",
          "1_25",
          "1_26",
          "1_27",
          "1_28",
          "1_29",
          "1_30"
         ],
         "xaxis": "x2",
         "y": [
          0,
          0,
          0,
          0,
          0,
          0,
          0,
          0,
          0,
          0,
          0,
          0,
          0,
          0,
          0,
          0,
          0,
          0,
          0,
          0,
          0,
          0,
          0,
          0,
          0,
          0,
          0,
          0,
          0,
          0
         ],
         "yaxis": "y2"
        }
       ],
       "layout": {
        "annotations": [
         {
          "font": {},
          "showarrow": false,
          "text": "difficulty=0",
          "x": 0.245,
          "xanchor": "center",
          "xref": "paper",
          "y": 1,
          "yanchor": "bottom",
          "yref": "paper"
         },
         {
          "font": {},
          "showarrow": false,
          "text": "difficulty=1",
          "x": 0.755,
          "xanchor": "center",
          "xref": "paper",
          "y": 1,
          "yanchor": "bottom",
          "yref": "paper"
         }
        ],
        "legend": {
         "title": {
          "text": "solver, type"
         },
         "tracegroupgap": 0
        },
        "margin": {
         "t": 60
        },
        "template": {
         "data": {
          "bar": [
           {
            "error_x": {
             "color": "#2a3f5f"
            },
            "error_y": {
             "color": "#2a3f5f"
            },
            "marker": {
             "line": {
              "color": "#E5ECF6",
              "width": 0.5
             },
             "pattern": {
              "fillmode": "overlay",
              "size": 10,
              "solidity": 0.2
             }
            },
            "type": "bar"
           }
          ],
          "barpolar": [
           {
            "marker": {
             "line": {
              "color": "#E5ECF6",
              "width": 0.5
             },
             "pattern": {
              "fillmode": "overlay",
              "size": 10,
              "solidity": 0.2
             }
            },
            "type": "barpolar"
           }
          ],
          "carpet": [
           {
            "aaxis": {
             "endlinecolor": "#2a3f5f",
             "gridcolor": "white",
             "linecolor": "white",
             "minorgridcolor": "white",
             "startlinecolor": "#2a3f5f"
            },
            "baxis": {
             "endlinecolor": "#2a3f5f",
             "gridcolor": "white",
             "linecolor": "white",
             "minorgridcolor": "white",
             "startlinecolor": "#2a3f5f"
            },
            "type": "carpet"
           }
          ],
          "choropleth": [
           {
            "colorbar": {
             "outlinewidth": 0,
             "ticks": ""
            },
            "type": "choropleth"
           }
          ],
          "contour": [
           {
            "colorbar": {
             "outlinewidth": 0,
             "ticks": ""
            },
            "colorscale": [
             [
              0,
              "#0d0887"
             ],
             [
              0.1111111111111111,
              "#46039f"
             ],
             [
              0.2222222222222222,
              "#7201a8"
             ],
             [
              0.3333333333333333,
              "#9c179e"
             ],
             [
              0.4444444444444444,
              "#bd3786"
             ],
             [
              0.5555555555555556,
              "#d8576b"
             ],
             [
              0.6666666666666666,
              "#ed7953"
             ],
             [
              0.7777777777777778,
              "#fb9f3a"
             ],
             [
              0.8888888888888888,
              "#fdca26"
             ],
             [
              1,
              "#f0f921"
             ]
            ],
            "type": "contour"
           }
          ],
          "contourcarpet": [
           {
            "colorbar": {
             "outlinewidth": 0,
             "ticks": ""
            },
            "type": "contourcarpet"
           }
          ],
          "heatmap": [
           {
            "colorbar": {
             "outlinewidth": 0,
             "ticks": ""
            },
            "colorscale": [
             [
              0,
              "#0d0887"
             ],
             [
              0.1111111111111111,
              "#46039f"
             ],
             [
              0.2222222222222222,
              "#7201a8"
             ],
             [
              0.3333333333333333,
              "#9c179e"
             ],
             [
              0.4444444444444444,
              "#bd3786"
             ],
             [
              0.5555555555555556,
              "#d8576b"
             ],
             [
              0.6666666666666666,
              "#ed7953"
             ],
             [
              0.7777777777777778,
              "#fb9f3a"
             ],
             [
              0.8888888888888888,
              "#fdca26"
             ],
             [
              1,
              "#f0f921"
             ]
            ],
            "type": "heatmap"
           }
          ],
          "heatmapgl": [
           {
            "colorbar": {
             "outlinewidth": 0,
             "ticks": ""
            },
            "colorscale": [
             [
              0,
              "#0d0887"
             ],
             [
              0.1111111111111111,
              "#46039f"
             ],
             [
              0.2222222222222222,
              "#7201a8"
             ],
             [
              0.3333333333333333,
              "#9c179e"
             ],
             [
              0.4444444444444444,
              "#bd3786"
             ],
             [
              0.5555555555555556,
              "#d8576b"
             ],
             [
              0.6666666666666666,
              "#ed7953"
             ],
             [
              0.7777777777777778,
              "#fb9f3a"
             ],
             [
              0.8888888888888888,
              "#fdca26"
             ],
             [
              1,
              "#f0f921"
             ]
            ],
            "type": "heatmapgl"
           }
          ],
          "histogram": [
           {
            "marker": {
             "pattern": {
              "fillmode": "overlay",
              "size": 10,
              "solidity": 0.2
             }
            },
            "type": "histogram"
           }
          ],
          "histogram2d": [
           {
            "colorbar": {
             "outlinewidth": 0,
             "ticks": ""
            },
            "colorscale": [
             [
              0,
              "#0d0887"
             ],
             [
              0.1111111111111111,
              "#46039f"
             ],
             [
              0.2222222222222222,
              "#7201a8"
             ],
             [
              0.3333333333333333,
              "#9c179e"
             ],
             [
              0.4444444444444444,
              "#bd3786"
             ],
             [
              0.5555555555555556,
              "#d8576b"
             ],
             [
              0.6666666666666666,
              "#ed7953"
             ],
             [
              0.7777777777777778,
              "#fb9f3a"
             ],
             [
              0.8888888888888888,
              "#fdca26"
             ],
             [
              1,
              "#f0f921"
             ]
            ],
            "type": "histogram2d"
           }
          ],
          "histogram2dcontour": [
           {
            "colorbar": {
             "outlinewidth": 0,
             "ticks": ""
            },
            "colorscale": [
             [
              0,
              "#0d0887"
             ],
             [
              0.1111111111111111,
              "#46039f"
             ],
             [
              0.2222222222222222,
              "#7201a8"
             ],
             [
              0.3333333333333333,
              "#9c179e"
             ],
             [
              0.4444444444444444,
              "#bd3786"
             ],
             [
              0.5555555555555556,
              "#d8576b"
             ],
             [
              0.6666666666666666,
              "#ed7953"
             ],
             [
              0.7777777777777778,
              "#fb9f3a"
             ],
             [
              0.8888888888888888,
              "#fdca26"
             ],
             [
              1,
              "#f0f921"
             ]
            ],
            "type": "histogram2dcontour"
           }
          ],
          "mesh3d": [
           {
            "colorbar": {
             "outlinewidth": 0,
             "ticks": ""
            },
            "type": "mesh3d"
           }
          ],
          "parcoords": [
           {
            "line": {
             "colorbar": {
              "outlinewidth": 0,
              "ticks": ""
             }
            },
            "type": "parcoords"
           }
          ],
          "pie": [
           {
            "automargin": true,
            "type": "pie"
           }
          ],
          "scatter": [
           {
            "fillpattern": {
             "fillmode": "overlay",
             "size": 10,
             "solidity": 0.2
            },
            "type": "scatter"
           }
          ],
          "scatter3d": [
           {
            "line": {
             "colorbar": {
              "outlinewidth": 0,
              "ticks": ""
             }
            },
            "marker": {
             "colorbar": {
              "outlinewidth": 0,
              "ticks": ""
             }
            },
            "type": "scatter3d"
           }
          ],
          "scattercarpet": [
           {
            "marker": {
             "colorbar": {
              "outlinewidth": 0,
              "ticks": ""
             }
            },
            "type": "scattercarpet"
           }
          ],
          "scattergeo": [
           {
            "marker": {
             "colorbar": {
              "outlinewidth": 0,
              "ticks": ""
             }
            },
            "type": "scattergeo"
           }
          ],
          "scattergl": [
           {
            "marker": {
             "colorbar": {
              "outlinewidth": 0,
              "ticks": ""
             }
            },
            "type": "scattergl"
           }
          ],
          "scattermapbox": [
           {
            "marker": {
             "colorbar": {
              "outlinewidth": 0,
              "ticks": ""
             }
            },
            "type": "scattermapbox"
           }
          ],
          "scatterpolar": [
           {
            "marker": {
             "colorbar": {
              "outlinewidth": 0,
              "ticks": ""
             }
            },
            "type": "scatterpolar"
           }
          ],
          "scatterpolargl": [
           {
            "marker": {
             "colorbar": {
              "outlinewidth": 0,
              "ticks": ""
             }
            },
            "type": "scatterpolargl"
           }
          ],
          "scatterternary": [
           {
            "marker": {
             "colorbar": {
              "outlinewidth": 0,
              "ticks": ""
             }
            },
            "type": "scatterternary"
           }
          ],
          "surface": [
           {
            "colorbar": {
             "outlinewidth": 0,
             "ticks": ""
            },
            "colorscale": [
             [
              0,
              "#0d0887"
             ],
             [
              0.1111111111111111,
              "#46039f"
             ],
             [
              0.2222222222222222,
              "#7201a8"
             ],
             [
              0.3333333333333333,
              "#9c179e"
             ],
             [
              0.4444444444444444,
              "#bd3786"
             ],
             [
              0.5555555555555556,
              "#d8576b"
             ],
             [
              0.6666666666666666,
              "#ed7953"
             ],
             [
              0.7777777777777778,
              "#fb9f3a"
             ],
             [
              0.8888888888888888,
              "#fdca26"
             ],
             [
              1,
              "#f0f921"
             ]
            ],
            "type": "surface"
           }
          ],
          "table": [
           {
            "cells": {
             "fill": {
              "color": "#EBF0F8"
             },
             "line": {
              "color": "white"
             }
            },
            "header": {
             "fill": {
              "color": "#C8D4E3"
             },
             "line": {
              "color": "white"
             }
            },
            "type": "table"
           }
          ]
         },
         "layout": {
          "annotationdefaults": {
           "arrowcolor": "#2a3f5f",
           "arrowhead": 0,
           "arrowwidth": 1
          },
          "autotypenumbers": "strict",
          "coloraxis": {
           "colorbar": {
            "outlinewidth": 0,
            "ticks": ""
           }
          },
          "colorscale": {
           "diverging": [
            [
             0,
             "#8e0152"
            ],
            [
             0.1,
             "#c51b7d"
            ],
            [
             0.2,
             "#de77ae"
            ],
            [
             0.3,
             "#f1b6da"
            ],
            [
             0.4,
             "#fde0ef"
            ],
            [
             0.5,
             "#f7f7f7"
            ],
            [
             0.6,
             "#e6f5d0"
            ],
            [
             0.7,
             "#b8e186"
            ],
            [
             0.8,
             "#7fbc41"
            ],
            [
             0.9,
             "#4d9221"
            ],
            [
             1,
             "#276419"
            ]
           ],
           "sequential": [
            [
             0,
             "#0d0887"
            ],
            [
             0.1111111111111111,
             "#46039f"
            ],
            [
             0.2222222222222222,
             "#7201a8"
            ],
            [
             0.3333333333333333,
             "#9c179e"
            ],
            [
             0.4444444444444444,
             "#bd3786"
            ],
            [
             0.5555555555555556,
             "#d8576b"
            ],
            [
             0.6666666666666666,
             "#ed7953"
            ],
            [
             0.7777777777777778,
             "#fb9f3a"
            ],
            [
             0.8888888888888888,
             "#fdca26"
            ],
            [
             1,
             "#f0f921"
            ]
           ],
           "sequentialminus": [
            [
             0,
             "#0d0887"
            ],
            [
             0.1111111111111111,
             "#46039f"
            ],
            [
             0.2222222222222222,
             "#7201a8"
            ],
            [
             0.3333333333333333,
             "#9c179e"
            ],
            [
             0.4444444444444444,
             "#bd3786"
            ],
            [
             0.5555555555555556,
             "#d8576b"
            ],
            [
             0.6666666666666666,
             "#ed7953"
            ],
            [
             0.7777777777777778,
             "#fb9f3a"
            ],
            [
             0.8888888888888888,
             "#fdca26"
            ],
            [
             1,
             "#f0f921"
            ]
           ]
          },
          "colorway": [
           "#636efa",
           "#EF553B",
           "#00cc96",
           "#ab63fa",
           "#FFA15A",
           "#19d3f3",
           "#FF6692",
           "#B6E880",
           "#FF97FF",
           "#FECB52"
          ],
          "font": {
           "color": "#2a3f5f"
          },
          "geo": {
           "bgcolor": "white",
           "lakecolor": "white",
           "landcolor": "#E5ECF6",
           "showlakes": true,
           "showland": true,
           "subunitcolor": "white"
          },
          "hoverlabel": {
           "align": "left"
          },
          "hovermode": "closest",
          "mapbox": {
           "style": "light"
          },
          "paper_bgcolor": "white",
          "plot_bgcolor": "#E5ECF6",
          "polar": {
           "angularaxis": {
            "gridcolor": "white",
            "linecolor": "white",
            "ticks": ""
           },
           "bgcolor": "#E5ECF6",
           "radialaxis": {
            "gridcolor": "white",
            "linecolor": "white",
            "ticks": ""
           }
          },
          "scene": {
           "xaxis": {
            "backgroundcolor": "#E5ECF6",
            "gridcolor": "white",
            "gridwidth": 2,
            "linecolor": "white",
            "showbackground": true,
            "ticks": "",
            "zerolinecolor": "white"
           },
           "yaxis": {
            "backgroundcolor": "#E5ECF6",
            "gridcolor": "white",
            "gridwidth": 2,
            "linecolor": "white",
            "showbackground": true,
            "ticks": "",
            "zerolinecolor": "white"
           },
           "zaxis": {
            "backgroundcolor": "#E5ECF6",
            "gridcolor": "white",
            "gridwidth": 2,
            "linecolor": "white",
            "showbackground": true,
            "ticks": "",
            "zerolinecolor": "white"
           }
          },
          "shapedefaults": {
           "line": {
            "color": "#2a3f5f"
           }
          },
          "ternary": {
           "aaxis": {
            "gridcolor": "white",
            "linecolor": "white",
            "ticks": ""
           },
           "baxis": {
            "gridcolor": "white",
            "linecolor": "white",
            "ticks": ""
           },
           "bgcolor": "#E5ECF6",
           "caxis": {
            "gridcolor": "white",
            "linecolor": "white",
            "ticks": ""
           }
          },
          "title": {
           "x": 0.05
          },
          "xaxis": {
           "automargin": true,
           "gridcolor": "white",
           "linecolor": "white",
           "ticks": "",
           "title": {
            "standoff": 15
           },
           "zerolinecolor": "white",
           "zerolinewidth": 2
          },
          "yaxis": {
           "automargin": true,
           "gridcolor": "white",
           "linecolor": "white",
           "ticks": "",
           "title": {
            "standoff": 15
           },
           "zerolinecolor": "white",
           "zerolinewidth": 2
          }
         }
        },
        "xaxis": {
         "anchor": "y",
         "categoryarray": [
          "0_01",
          "0_02",
          "0_03",
          "0_04",
          "0_05",
          "0_06",
          "0_07",
          "0_08",
          "0_09",
          "0_10",
          "0_11",
          "0_12",
          "0_13",
          "0_14",
          "0_15",
          "0_16",
          "0_17",
          "0_18",
          "0_19",
          "0_20",
          "0_21",
          "0_22",
          "0_23",
          "0_24",
          "0_25",
          "0_26",
          "0_27",
          "0_28",
          "0_29",
          "0_30",
          "1_01",
          "1_02",
          "1_03",
          "1_04",
          "1_05",
          "1_06",
          "1_07",
          "1_08",
          "1_09",
          "1_10",
          "1_11",
          "1_12",
          "1_13",
          "1_14",
          "1_15",
          "1_16",
          "1_17",
          "1_18",
          "1_19",
          "1_20",
          "1_21",
          "1_22",
          "1_23",
          "1_24",
          "1_25",
          "1_26",
          "1_27",
          "1_28",
          "1_29",
          "1_30"
         ],
         "categoryorder": "array",
         "domain": [
          0,
          0.49
         ],
         "showticklabels": true,
         "title": {
          "text": "problem"
         }
        },
        "xaxis2": {
         "anchor": "y2",
         "categoryarray": [
          "0_01",
          "0_02",
          "0_03",
          "0_04",
          "0_05",
          "0_06",
          "0_07",
          "0_08",
          "0_09",
          "0_10",
          "0_11",
          "0_12",
          "0_13",
          "0_14",
          "0_15",
          "0_16",
          "0_17",
          "0_18",
          "0_19",
          "0_20",
          "0_21",
          "0_22",
          "0_23",
          "0_24",
          "0_25",
          "0_26",
          "0_27",
          "0_28",
          "0_29",
          "0_30",
          "1_01",
          "1_02",
          "1_03",
          "1_04",
          "1_05",
          "1_06",
          "1_07",
          "1_08",
          "1_09",
          "1_10",
          "1_11",
          "1_12",
          "1_13",
          "1_14",
          "1_15",
          "1_16",
          "1_17",
          "1_18",
          "1_19",
          "1_20",
          "1_21",
          "1_22",
          "1_23",
          "1_24",
          "1_25",
          "1_26",
          "1_27",
          "1_28",
          "1_29",
          "1_30"
         ],
         "categoryorder": "array",
         "domain": [
          0.51,
          1
         ],
         "showticklabels": true,
         "title": {
          "text": "problem"
         }
        },
        "yaxis": {
         "anchor": "x",
         "domain": [
          0,
          1
         ],
         "showticklabels": true,
         "title": {
          "text": "cycles_mean"
         }
        },
        "yaxis2": {
         "anchor": "x2",
         "domain": [
          0,
          1
         ],
         "showticklabels": true
        }
       }
      }
     },
     "metadata": {},
     "output_type": "display_data"
    },
    {
     "name": "stdout",
     "output_type": "stream",
     "text": [
      "satellite\n"
     ]
    },
    {
     "data": {
      "application/vnd.plotly.v1+json": {
       "config": {
        "plotlyServerURL": "https://plot.ly"
       },
       "data": [
        {
         "error_y": {
          "array": [
           0,
           0,
           0,
           0,
           0,
           0,
           0,
           0,
           0,
           0,
           0,
           0,
           0,
           0,
           0,
           0,
           0,
           0,
           0,
           0,
           0,
           0,
           0,
           0,
           0,
           0,
           0,
           0,
           0,
           0
          ]
         },
         "hovertemplate": "solver=baseline<br>type=bounds<br>difficulty=0<br>problem=%{x}<br>cycles_mean=%{y}<extra></extra>",
         "legendgroup": "baseline, bounds",
         "line": {
          "color": "#636efa",
          "dash": "solid"
         },
         "marker": {
          "symbol": "circle"
         },
         "mode": "lines",
         "name": "baseline, bounds",
         "orientation": "v",
         "showlegend": true,
         "type": "scatter",
         "x": [
          "0_01",
          "0_02",
          "0_03",
          "0_04",
          "0_05",
          "0_06",
          "0_07",
          "0_08",
          "0_09",
          "0_10",
          "0_11",
          "0_12",
          "0_13",
          "0_14",
          "0_15",
          "0_16",
          "0_17",
          "0_18",
          "0_19",
          "0_20",
          "0_21",
          "0_22",
          "0_23",
          "0_24",
          "0_25",
          "0_26",
          "0_27",
          "0_28",
          "0_29",
          "0_30"
         ],
         "xaxis": "x",
         "y": [
          0,
          0,
          0,
          0,
          0,
          0,
          0,
          0,
          0,
          0,
          0,
          0,
          0,
          0,
          0,
          0,
          0,
          0,
          0,
          0,
          0,
          0,
          0,
          0,
          0,
          0,
          0,
          0,
          0,
          0
         ],
         "yaxis": "y"
        },
        {
         "error_y": {
          "array": [
           0,
           0,
           0,
           0,
           0,
           0,
           0,
           0,
           0,
           0,
           0,
           0,
           0,
           0,
           0,
           0,
           0,
           0,
           0,
           0,
           0,
           0,
           0,
           0,
           0,
           0,
           0,
           0,
           0,
           0
          ]
         },
         "hovertemplate": "solver=baseline<br>type=bounds<br>difficulty=1<br>problem=%{x}<br>cycles_mean=%{y}<extra></extra>",
         "legendgroup": "baseline, bounds",
         "line": {
          "color": "#636efa",
          "dash": "solid"
         },
         "marker": {
          "symbol": "circle"
         },
         "mode": "lines",
         "name": "baseline, bounds",
         "orientation": "v",
         "showlegend": false,
         "type": "scatter",
         "x": [
          "1_01",
          "1_02",
          "1_03",
          "1_04",
          "1_05",
          "1_06",
          "1_07",
          "1_08",
          "1_09",
          "1_10",
          "1_11",
          "1_12",
          "1_13",
          "1_14",
          "1_15",
          "1_16",
          "1_17",
          "1_18",
          "1_19",
          "1_20",
          "1_21",
          "1_22",
          "1_23",
          "1_24",
          "1_25",
          "1_26",
          "1_27",
          "1_28",
          "1_29",
          "1_30"
         ],
         "xaxis": "x2",
         "y": [
          0,
          0,
          0,
          0,
          0,
          0,
          0,
          0,
          0,
          0,
          0,
          0,
          0,
          0,
          0,
          0,
          0,
          0,
          0,
          0,
          0,
          0,
          0,
          0,
          0,
          0,
          0,
          0,
          0,
          0
         ],
         "yaxis": "y2"
        },
        {
         "error_y": {
          "array": [
           null,
           null,
           null,
           null,
           null,
           null,
           null,
           null,
           null,
           null,
           null,
           null,
           null,
           null,
           null,
           null,
           null,
           null,
           null,
           null,
           null,
           null,
           null,
           null,
           null,
           null,
           null,
           null,
           null,
           null
          ]
         },
         "hovertemplate": "solver=optimal<br>type=bounds<br>difficulty=0<br>problem=%{x}<br>cycles_mean=%{y}<extra></extra>",
         "legendgroup": "optimal, bounds",
         "line": {
          "color": "#EF553B",
          "dash": "solid"
         },
         "marker": {
          "symbol": "circle"
         },
         "mode": "lines",
         "name": "optimal, bounds",
         "orientation": "v",
         "showlegend": true,
         "type": "scatter",
         "x": [
          "0_01",
          "0_02",
          "0_03",
          "0_04",
          "0_05",
          "0_06",
          "0_07",
          "0_08",
          "0_09",
          "0_10",
          "0_11",
          "0_12",
          "0_13",
          "0_14",
          "0_15",
          "0_16",
          "0_17",
          "0_18",
          "0_19",
          "0_20",
          "0_21",
          "0_22",
          "0_23",
          "0_24",
          "0_25",
          "0_26",
          "0_27",
          "0_28",
          "0_29",
          "0_30"
         ],
         "xaxis": "x",
         "y": [
          0,
          0,
          0,
          0,
          0,
          0,
          0,
          0,
          0,
          0,
          0,
          0,
          0,
          0,
          0,
          0,
          0,
          0,
          0,
          0,
          0,
          0,
          0,
          0,
          0,
          0,
          0,
          0,
          0,
          0
         ],
         "yaxis": "y"
        },
        {
         "error_y": {
          "array": [
           null,
           null,
           null,
           null,
           null,
           null,
           null,
           null,
           null,
           null,
           null,
           null,
           null,
           null,
           null,
           null,
           null,
           null,
           null,
           null,
           null,
           null,
           null,
           null,
           null,
           null,
           null,
           null,
           null,
           null
          ]
         },
         "hovertemplate": "solver=optimal<br>type=bounds<br>difficulty=1<br>problem=%{x}<br>cycles_mean=%{y}<extra></extra>",
         "legendgroup": "optimal, bounds",
         "line": {
          "color": "#EF553B",
          "dash": "solid"
         },
         "marker": {
          "symbol": "circle"
         },
         "mode": "lines",
         "name": "optimal, bounds",
         "orientation": "v",
         "showlegend": false,
         "type": "scatter",
         "x": [
          "1_01",
          "1_02",
          "1_03",
          "1_04",
          "1_05",
          "1_06",
          "1_07",
          "1_08",
          "1_09",
          "1_10",
          "1_11",
          "1_12",
          "1_13",
          "1_14",
          "1_15",
          "1_16",
          "1_17",
          "1_18",
          "1_19",
          "1_20",
          "1_21",
          "1_22",
          "1_23",
          "1_24",
          "1_25",
          "1_26",
          "1_27",
          "1_28",
          "1_29",
          "1_30"
         ],
         "xaxis": "x2",
         "y": [
          0,
          0,
          0,
          0,
          0,
          0,
          0,
          0,
          0,
          0,
          0,
          0,
          0,
          0,
          0,
          0,
          0,
          0,
          0,
          0,
          0,
          0,
          0,
          0,
          0,
          0,
          0,
          0,
          0,
          0
         ],
         "yaxis": "y2"
        },
        {
         "error_y": {
          "array": [
           null,
           null,
           null,
           null,
           null,
           null,
           null,
           null,
           null,
           null,
           null,
           null,
           null,
           null,
           null,
           null,
           null,
           null,
           null,
           null,
           null,
           null,
           null,
           null,
           null,
           null,
           null,
           null,
           null,
           null
          ]
         },
         "hovertemplate": "solver=lama<br>type=bounds<br>difficulty=0<br>problem=%{x}<br>cycles_mean=%{y}<extra></extra>",
         "legendgroup": "lama, bounds",
         "line": {
          "color": "#00cc96",
          "dash": "solid"
         },
         "marker": {
          "symbol": "circle"
         },
         "mode": "lines",
         "name": "lama, bounds",
         "orientation": "v",
         "showlegend": true,
         "type": "scatter",
         "x": [
          "0_01",
          "0_02",
          "0_03",
          "0_04",
          "0_05",
          "0_06",
          "0_07",
          "0_08",
          "0_09",
          "0_10",
          "0_11",
          "0_12",
          "0_13",
          "0_14",
          "0_15",
          "0_16",
          "0_17",
          "0_18",
          "0_19",
          "0_20",
          "0_21",
          "0_22",
          "0_23",
          "0_24",
          "0_25",
          "0_26",
          "0_27",
          "0_28",
          "0_29",
          "0_30"
         ],
         "xaxis": "x",
         "y": [
          0,
          0,
          0,
          0,
          0,
          0,
          0,
          0,
          0,
          0,
          0,
          0,
          0,
          0,
          0,
          0,
          0,
          0,
          0,
          0,
          0,
          0,
          0,
          0,
          0,
          0,
          0,
          0,
          0,
          0
         ],
         "yaxis": "y"
        },
        {
         "error_y": {
          "array": [
           null,
           null,
           null,
           null,
           null,
           null,
           null,
           null,
           null,
           null,
           null,
           null,
           null,
           null,
           null,
           null,
           null,
           null,
           null,
           null,
           null,
           null,
           null,
           null,
           null,
           null,
           null,
           null,
           null,
           null
          ]
         },
         "hovertemplate": "solver=lama<br>type=bounds<br>difficulty=1<br>problem=%{x}<br>cycles_mean=%{y}<extra></extra>",
         "legendgroup": "lama, bounds",
         "line": {
          "color": "#00cc96",
          "dash": "solid"
         },
         "marker": {
          "symbol": "circle"
         },
         "mode": "lines",
         "name": "lama, bounds",
         "orientation": "v",
         "showlegend": false,
         "type": "scatter",
         "x": [
          "1_01",
          "1_02",
          "1_03",
          "1_04",
          "1_05",
          "1_06",
          "1_07",
          "1_08",
          "1_09",
          "1_10",
          "1_11",
          "1_12",
          "1_13",
          "1_14",
          "1_15",
          "1_16",
          "1_17",
          "1_18",
          "1_19",
          "1_20",
          "1_21",
          "1_22",
          "1_23",
          "1_24",
          "1_25",
          "1_26",
          "1_27",
          "1_28",
          "1_29",
          "1_30"
         ],
         "xaxis": "x2",
         "y": [
          0,
          0,
          0,
          0,
          0,
          0,
          0,
          0,
          0,
          0,
          0,
          0,
          0,
          0,
          0,
          0,
          0,
          0,
          0,
          0,
          0,
          0,
          0,
          0,
          0,
          0,
          0,
          0,
          0,
          0
         ],
         "yaxis": "y2"
        },
        {
         "error_y": {
          "array": [
           0,
           0,
           0,
           0,
           0,
           0,
           0,
           0,
           0,
           0,
           0,
           0,
           0,
           0,
           0,
           0,
           0,
           0,
           0,
           0,
           0,
           0,
           0,
           0,
           0,
           0,
           0,
           0,
           0,
           0
          ]
         },
         "hovertemplate": "solver=L2_D8_best<br>type=lrnn_best<br>difficulty=0<br>problem=%{x}<br>cycles_mean=%{y}<extra></extra>",
         "legendgroup": "L2_D8_best, lrnn_best",
         "line": {
          "color": "#ab63fa",
          "dash": "dot"
         },
         "marker": {
          "symbol": "circle"
         },
         "mode": "lines",
         "name": "L2_D8_best, lrnn_best",
         "orientation": "v",
         "showlegend": true,
         "type": "scatter",
         "x": [
          "0_01",
          "0_02",
          "0_03",
          "0_04",
          "0_05",
          "0_06",
          "0_07",
          "0_08",
          "0_09",
          "0_10",
          "0_11",
          "0_12",
          "0_13",
          "0_14",
          "0_15",
          "0_16",
          "0_17",
          "0_18",
          "0_19",
          "0_20",
          "0_21",
          "0_22",
          "0_23",
          "0_24",
          "0_25",
          "0_26",
          "0_27",
          "0_28",
          "0_29",
          "0_30"
         ],
         "xaxis": "x",
         "y": [
          0,
          0,
          0,
          0,
          0,
          0,
          0,
          0,
          0,
          0,
          0,
          0,
          0,
          0,
          0,
          0,
          0,
          0,
          0,
          0,
          0,
          0,
          0,
          0,
          0,
          0,
          0,
          0,
          0,
          0
         ],
         "yaxis": "y"
        },
        {
         "error_y": {
          "array": [
           0,
           0,
           0,
           0,
           0,
           0,
           0,
           0,
           0,
           0,
           0,
           0,
           0,
           0,
           0,
           0,
           0,
           0,
           0,
           0,
           0,
           0,
           0,
           0,
           0,
           0,
           0,
           0,
           0,
           0
          ]
         },
         "hovertemplate": "solver=L2_D8_best<br>type=lrnn_best<br>difficulty=1<br>problem=%{x}<br>cycles_mean=%{y}<extra></extra>",
         "legendgroup": "L2_D8_best, lrnn_best",
         "line": {
          "color": "#ab63fa",
          "dash": "dot"
         },
         "marker": {
          "symbol": "circle"
         },
         "mode": "lines",
         "name": "L2_D8_best, lrnn_best",
         "orientation": "v",
         "showlegend": false,
         "type": "scatter",
         "x": [
          "1_01",
          "1_02",
          "1_03",
          "1_04",
          "1_05",
          "1_06",
          "1_07",
          "1_08",
          "1_09",
          "1_10",
          "1_11",
          "1_12",
          "1_13",
          "1_14",
          "1_15",
          "1_16",
          "1_17",
          "1_18",
          "1_19",
          "1_20",
          "1_21",
          "1_22",
          "1_23",
          "1_24",
          "1_25",
          "1_26",
          "1_27",
          "1_28",
          "1_29",
          "1_30"
         ],
         "xaxis": "x2",
         "y": [
          0,
          0,
          0,
          0,
          0,
          0,
          0,
          0,
          0,
          0,
          0,
          0,
          0,
          0,
          0,
          0,
          0,
          0,
          0,
          0,
          0,
          0,
          0,
          0,
          0,
          0,
          0,
          0,
          0,
          0
         ],
         "yaxis": "y2"
        },
        {
         "error_y": {
          "array": [
           0,
           0,
           0,
           0,
           0,
           0,
           0,
           0,
           0,
           0,
           0,
           0,
           0,
           0,
           0,
           0,
           0,
           0,
           0,
           0,
           0,
           0,
           0,
           0,
           0,
           0,
           0,
           0,
           0,
           0
          ]
         },
         "hovertemplate": "solver=L2_D16_best<br>type=lrnn_best<br>difficulty=0<br>problem=%{x}<br>cycles_mean=%{y}<extra></extra>",
         "legendgroup": "L2_D16_best, lrnn_best",
         "line": {
          "color": "#FFA15A",
          "dash": "dot"
         },
         "marker": {
          "symbol": "circle"
         },
         "mode": "lines",
         "name": "L2_D16_best, lrnn_best",
         "orientation": "v",
         "showlegend": true,
         "type": "scatter",
         "x": [
          "0_01",
          "0_02",
          "0_03",
          "0_04",
          "0_05",
          "0_06",
          "0_07",
          "0_08",
          "0_09",
          "0_10",
          "0_11",
          "0_12",
          "0_13",
          "0_14",
          "0_15",
          "0_16",
          "0_17",
          "0_18",
          "0_19",
          "0_20",
          "0_21",
          "0_22",
          "0_23",
          "0_24",
          "0_25",
          "0_26",
          "0_27",
          "0_28",
          "0_29",
          "0_30"
         ],
         "xaxis": "x",
         "y": [
          0,
          0,
          0,
          0,
          0,
          0,
          0,
          0,
          0,
          0,
          0,
          0,
          0,
          0,
          0,
          0,
          0,
          0,
          0,
          0,
          0,
          0,
          0,
          0,
          0,
          0,
          0,
          0,
          0,
          0
         ],
         "yaxis": "y"
        },
        {
         "error_y": {
          "array": [
           0,
           0,
           0,
           0,
           0,
           0,
           0,
           0,
           0,
           0,
           0,
           0,
           0,
           0,
           0,
           0,
           0,
           0,
           0,
           0,
           0,
           0,
           0,
           0,
           0,
           0,
           0,
           0,
           0,
           0
          ]
         },
         "hovertemplate": "solver=L2_D16_best<br>type=lrnn_best<br>difficulty=1<br>problem=%{x}<br>cycles_mean=%{y}<extra></extra>",
         "legendgroup": "L2_D16_best, lrnn_best",
         "line": {
          "color": "#FFA15A",
          "dash": "dot"
         },
         "marker": {
          "symbol": "circle"
         },
         "mode": "lines",
         "name": "L2_D16_best, lrnn_best",
         "orientation": "v",
         "showlegend": false,
         "type": "scatter",
         "x": [
          "1_01",
          "1_02",
          "1_03",
          "1_04",
          "1_05",
          "1_06",
          "1_07",
          "1_08",
          "1_09",
          "1_10",
          "1_11",
          "1_12",
          "1_13",
          "1_14",
          "1_15",
          "1_16",
          "1_17",
          "1_18",
          "1_19",
          "1_20",
          "1_21",
          "1_22",
          "1_23",
          "1_24",
          "1_25",
          "1_26",
          "1_27",
          "1_28",
          "1_29",
          "1_30"
         ],
         "xaxis": "x2",
         "y": [
          0,
          0,
          0,
          0,
          0,
          0,
          0,
          0,
          0,
          0,
          0,
          0,
          0,
          0,
          0,
          0,
          0,
          0,
          0,
          0,
          0,
          0,
          0,
          0,
          0,
          0,
          0,
          0,
          0,
          0
         ],
         "yaxis": "y2"
        },
        {
         "error_y": {
          "array": [
           null,
           null,
           null,
           null,
           null,
           null,
           null,
           null,
           null,
           null,
           null,
           null,
           null,
           null,
           null,
           null,
           null,
           null,
           null,
           null,
           null,
           null,
           null,
           null,
           null,
           null,
           null,
           null,
           null,
           null
          ]
         },
         "hovertemplate": "solver=L3_D8_best<br>type=lrnn_best<br>difficulty=0<br>problem=%{x}<br>cycles_mean=%{y}<extra></extra>",
         "legendgroup": "L3_D8_best, lrnn_best",
         "line": {
          "color": "#19d3f3",
          "dash": "dot"
         },
         "marker": {
          "symbol": "circle"
         },
         "mode": "lines",
         "name": "L3_D8_best, lrnn_best",
         "orientation": "v",
         "showlegend": true,
         "type": "scatter",
         "x": [
          "0_01",
          "0_02",
          "0_03",
          "0_04",
          "0_05",
          "0_06",
          "0_07",
          "0_08",
          "0_09",
          "0_10",
          "0_11",
          "0_12",
          "0_13",
          "0_14",
          "0_15",
          "0_16",
          "0_17",
          "0_18",
          "0_19",
          "0_20",
          "0_21",
          "0_22",
          "0_23",
          "0_24",
          "0_25",
          "0_26",
          "0_27",
          "0_28",
          "0_29",
          "0_30"
         ],
         "xaxis": "x",
         "y": [
          0,
          0,
          0,
          0,
          0,
          0,
          0,
          0,
          0,
          0,
          0,
          0,
          0,
          0,
          0,
          0,
          0,
          0,
          0,
          0,
          0,
          0,
          0,
          0,
          0,
          0,
          0,
          0,
          0,
          0
         ],
         "yaxis": "y"
        },
        {
         "error_y": {
          "array": [
           null,
           null,
           null,
           null,
           null,
           null,
           null,
           null,
           null,
           null,
           null,
           null,
           null,
           null,
           null,
           null,
           null,
           null
          ]
         },
         "hovertemplate": "solver=L3_D8_best<br>type=lrnn_best<br>difficulty=1<br>problem=%{x}<br>cycles_mean=%{y}<extra></extra>",
         "legendgroup": "L3_D8_best, lrnn_best",
         "line": {
          "color": "#19d3f3",
          "dash": "dot"
         },
         "marker": {
          "symbol": "circle"
         },
         "mode": "lines",
         "name": "L3_D8_best, lrnn_best",
         "orientation": "v",
         "showlegend": false,
         "type": "scatter",
         "x": [
          "1_01",
          "1_02",
          "1_03",
          "1_04",
          "1_05",
          "1_06",
          "1_07",
          "1_08",
          "1_09",
          "1_10",
          "1_12",
          "1_13",
          "1_14",
          "1_15",
          "1_17",
          "1_18",
          "1_23",
          "1_28"
         ],
         "xaxis": "x2",
         "y": [
          0,
          0,
          0,
          0,
          0,
          0,
          0,
          0,
          0,
          0,
          0,
          0,
          0,
          0,
          0,
          0,
          0,
          0
         ],
         "yaxis": "y2"
        }
       ],
       "layout": {
        "annotations": [
         {
          "font": {},
          "showarrow": false,
          "text": "difficulty=0",
          "x": 0.245,
          "xanchor": "center",
          "xref": "paper",
          "y": 1,
          "yanchor": "bottom",
          "yref": "paper"
         },
         {
          "font": {},
          "showarrow": false,
          "text": "difficulty=1",
          "x": 0.755,
          "xanchor": "center",
          "xref": "paper",
          "y": 1,
          "yanchor": "bottom",
          "yref": "paper"
         }
        ],
        "legend": {
         "title": {
          "text": "solver, type"
         },
         "tracegroupgap": 0
        },
        "margin": {
         "t": 60
        },
        "template": {
         "data": {
          "bar": [
           {
            "error_x": {
             "color": "#2a3f5f"
            },
            "error_y": {
             "color": "#2a3f5f"
            },
            "marker": {
             "line": {
              "color": "#E5ECF6",
              "width": 0.5
             },
             "pattern": {
              "fillmode": "overlay",
              "size": 10,
              "solidity": 0.2
             }
            },
            "type": "bar"
           }
          ],
          "barpolar": [
           {
            "marker": {
             "line": {
              "color": "#E5ECF6",
              "width": 0.5
             },
             "pattern": {
              "fillmode": "overlay",
              "size": 10,
              "solidity": 0.2
             }
            },
            "type": "barpolar"
           }
          ],
          "carpet": [
           {
            "aaxis": {
             "endlinecolor": "#2a3f5f",
             "gridcolor": "white",
             "linecolor": "white",
             "minorgridcolor": "white",
             "startlinecolor": "#2a3f5f"
            },
            "baxis": {
             "endlinecolor": "#2a3f5f",
             "gridcolor": "white",
             "linecolor": "white",
             "minorgridcolor": "white",
             "startlinecolor": "#2a3f5f"
            },
            "type": "carpet"
           }
          ],
          "choropleth": [
           {
            "colorbar": {
             "outlinewidth": 0,
             "ticks": ""
            },
            "type": "choropleth"
           }
          ],
          "contour": [
           {
            "colorbar": {
             "outlinewidth": 0,
             "ticks": ""
            },
            "colorscale": [
             [
              0,
              "#0d0887"
             ],
             [
              0.1111111111111111,
              "#46039f"
             ],
             [
              0.2222222222222222,
              "#7201a8"
             ],
             [
              0.3333333333333333,
              "#9c179e"
             ],
             [
              0.4444444444444444,
              "#bd3786"
             ],
             [
              0.5555555555555556,
              "#d8576b"
             ],
             [
              0.6666666666666666,
              "#ed7953"
             ],
             [
              0.7777777777777778,
              "#fb9f3a"
             ],
             [
              0.8888888888888888,
              "#fdca26"
             ],
             [
              1,
              "#f0f921"
             ]
            ],
            "type": "contour"
           }
          ],
          "contourcarpet": [
           {
            "colorbar": {
             "outlinewidth": 0,
             "ticks": ""
            },
            "type": "contourcarpet"
           }
          ],
          "heatmap": [
           {
            "colorbar": {
             "outlinewidth": 0,
             "ticks": ""
            },
            "colorscale": [
             [
              0,
              "#0d0887"
             ],
             [
              0.1111111111111111,
              "#46039f"
             ],
             [
              0.2222222222222222,
              "#7201a8"
             ],
             [
              0.3333333333333333,
              "#9c179e"
             ],
             [
              0.4444444444444444,
              "#bd3786"
             ],
             [
              0.5555555555555556,
              "#d8576b"
             ],
             [
              0.6666666666666666,
              "#ed7953"
             ],
             [
              0.7777777777777778,
              "#fb9f3a"
             ],
             [
              0.8888888888888888,
              "#fdca26"
             ],
             [
              1,
              "#f0f921"
             ]
            ],
            "type": "heatmap"
           }
          ],
          "heatmapgl": [
           {
            "colorbar": {
             "outlinewidth": 0,
             "ticks": ""
            },
            "colorscale": [
             [
              0,
              "#0d0887"
             ],
             [
              0.1111111111111111,
              "#46039f"
             ],
             [
              0.2222222222222222,
              "#7201a8"
             ],
             [
              0.3333333333333333,
              "#9c179e"
             ],
             [
              0.4444444444444444,
              "#bd3786"
             ],
             [
              0.5555555555555556,
              "#d8576b"
             ],
             [
              0.6666666666666666,
              "#ed7953"
             ],
             [
              0.7777777777777778,
              "#fb9f3a"
             ],
             [
              0.8888888888888888,
              "#fdca26"
             ],
             [
              1,
              "#f0f921"
             ]
            ],
            "type": "heatmapgl"
           }
          ],
          "histogram": [
           {
            "marker": {
             "pattern": {
              "fillmode": "overlay",
              "size": 10,
              "solidity": 0.2
             }
            },
            "type": "histogram"
           }
          ],
          "histogram2d": [
           {
            "colorbar": {
             "outlinewidth": 0,
             "ticks": ""
            },
            "colorscale": [
             [
              0,
              "#0d0887"
             ],
             [
              0.1111111111111111,
              "#46039f"
             ],
             [
              0.2222222222222222,
              "#7201a8"
             ],
             [
              0.3333333333333333,
              "#9c179e"
             ],
             [
              0.4444444444444444,
              "#bd3786"
             ],
             [
              0.5555555555555556,
              "#d8576b"
             ],
             [
              0.6666666666666666,
              "#ed7953"
             ],
             [
              0.7777777777777778,
              "#fb9f3a"
             ],
             [
              0.8888888888888888,
              "#fdca26"
             ],
             [
              1,
              "#f0f921"
             ]
            ],
            "type": "histogram2d"
           }
          ],
          "histogram2dcontour": [
           {
            "colorbar": {
             "outlinewidth": 0,
             "ticks": ""
            },
            "colorscale": [
             [
              0,
              "#0d0887"
             ],
             [
              0.1111111111111111,
              "#46039f"
             ],
             [
              0.2222222222222222,
              "#7201a8"
             ],
             [
              0.3333333333333333,
              "#9c179e"
             ],
             [
              0.4444444444444444,
              "#bd3786"
             ],
             [
              0.5555555555555556,
              "#d8576b"
             ],
             [
              0.6666666666666666,
              "#ed7953"
             ],
             [
              0.7777777777777778,
              "#fb9f3a"
             ],
             [
              0.8888888888888888,
              "#fdca26"
             ],
             [
              1,
              "#f0f921"
             ]
            ],
            "type": "histogram2dcontour"
           }
          ],
          "mesh3d": [
           {
            "colorbar": {
             "outlinewidth": 0,
             "ticks": ""
            },
            "type": "mesh3d"
           }
          ],
          "parcoords": [
           {
            "line": {
             "colorbar": {
              "outlinewidth": 0,
              "ticks": ""
             }
            },
            "type": "parcoords"
           }
          ],
          "pie": [
           {
            "automargin": true,
            "type": "pie"
           }
          ],
          "scatter": [
           {
            "fillpattern": {
             "fillmode": "overlay",
             "size": 10,
             "solidity": 0.2
            },
            "type": "scatter"
           }
          ],
          "scatter3d": [
           {
            "line": {
             "colorbar": {
              "outlinewidth": 0,
              "ticks": ""
             }
            },
            "marker": {
             "colorbar": {
              "outlinewidth": 0,
              "ticks": ""
             }
            },
            "type": "scatter3d"
           }
          ],
          "scattercarpet": [
           {
            "marker": {
             "colorbar": {
              "outlinewidth": 0,
              "ticks": ""
             }
            },
            "type": "scattercarpet"
           }
          ],
          "scattergeo": [
           {
            "marker": {
             "colorbar": {
              "outlinewidth": 0,
              "ticks": ""
             }
            },
            "type": "scattergeo"
           }
          ],
          "scattergl": [
           {
            "marker": {
             "colorbar": {
              "outlinewidth": 0,
              "ticks": ""
             }
            },
            "type": "scattergl"
           }
          ],
          "scattermapbox": [
           {
            "marker": {
             "colorbar": {
              "outlinewidth": 0,
              "ticks": ""
             }
            },
            "type": "scattermapbox"
           }
          ],
          "scatterpolar": [
           {
            "marker": {
             "colorbar": {
              "outlinewidth": 0,
              "ticks": ""
             }
            },
            "type": "scatterpolar"
           }
          ],
          "scatterpolargl": [
           {
            "marker": {
             "colorbar": {
              "outlinewidth": 0,
              "ticks": ""
             }
            },
            "type": "scatterpolargl"
           }
          ],
          "scatterternary": [
           {
            "marker": {
             "colorbar": {
              "outlinewidth": 0,
              "ticks": ""
             }
            },
            "type": "scatterternary"
           }
          ],
          "surface": [
           {
            "colorbar": {
             "outlinewidth": 0,
             "ticks": ""
            },
            "colorscale": [
             [
              0,
              "#0d0887"
             ],
             [
              0.1111111111111111,
              "#46039f"
             ],
             [
              0.2222222222222222,
              "#7201a8"
             ],
             [
              0.3333333333333333,
              "#9c179e"
             ],
             [
              0.4444444444444444,
              "#bd3786"
             ],
             [
              0.5555555555555556,
              "#d8576b"
             ],
             [
              0.6666666666666666,
              "#ed7953"
             ],
             [
              0.7777777777777778,
              "#fb9f3a"
             ],
             [
              0.8888888888888888,
              "#fdca26"
             ],
             [
              1,
              "#f0f921"
             ]
            ],
            "type": "surface"
           }
          ],
          "table": [
           {
            "cells": {
             "fill": {
              "color": "#EBF0F8"
             },
             "line": {
              "color": "white"
             }
            },
            "header": {
             "fill": {
              "color": "#C8D4E3"
             },
             "line": {
              "color": "white"
             }
            },
            "type": "table"
           }
          ]
         },
         "layout": {
          "annotationdefaults": {
           "arrowcolor": "#2a3f5f",
           "arrowhead": 0,
           "arrowwidth": 1
          },
          "autotypenumbers": "strict",
          "coloraxis": {
           "colorbar": {
            "outlinewidth": 0,
            "ticks": ""
           }
          },
          "colorscale": {
           "diverging": [
            [
             0,
             "#8e0152"
            ],
            [
             0.1,
             "#c51b7d"
            ],
            [
             0.2,
             "#de77ae"
            ],
            [
             0.3,
             "#f1b6da"
            ],
            [
             0.4,
             "#fde0ef"
            ],
            [
             0.5,
             "#f7f7f7"
            ],
            [
             0.6,
             "#e6f5d0"
            ],
            [
             0.7,
             "#b8e186"
            ],
            [
             0.8,
             "#7fbc41"
            ],
            [
             0.9,
             "#4d9221"
            ],
            [
             1,
             "#276419"
            ]
           ],
           "sequential": [
            [
             0,
             "#0d0887"
            ],
            [
             0.1111111111111111,
             "#46039f"
            ],
            [
             0.2222222222222222,
             "#7201a8"
            ],
            [
             0.3333333333333333,
             "#9c179e"
            ],
            [
             0.4444444444444444,
             "#bd3786"
            ],
            [
             0.5555555555555556,
             "#d8576b"
            ],
            [
             0.6666666666666666,
             "#ed7953"
            ],
            [
             0.7777777777777778,
             "#fb9f3a"
            ],
            [
             0.8888888888888888,
             "#fdca26"
            ],
            [
             1,
             "#f0f921"
            ]
           ],
           "sequentialminus": [
            [
             0,
             "#0d0887"
            ],
            [
             0.1111111111111111,
             "#46039f"
            ],
            [
             0.2222222222222222,
             "#7201a8"
            ],
            [
             0.3333333333333333,
             "#9c179e"
            ],
            [
             0.4444444444444444,
             "#bd3786"
            ],
            [
             0.5555555555555556,
             "#d8576b"
            ],
            [
             0.6666666666666666,
             "#ed7953"
            ],
            [
             0.7777777777777778,
             "#fb9f3a"
            ],
            [
             0.8888888888888888,
             "#fdca26"
            ],
            [
             1,
             "#f0f921"
            ]
           ]
          },
          "colorway": [
           "#636efa",
           "#EF553B",
           "#00cc96",
           "#ab63fa",
           "#FFA15A",
           "#19d3f3",
           "#FF6692",
           "#B6E880",
           "#FF97FF",
           "#FECB52"
          ],
          "font": {
           "color": "#2a3f5f"
          },
          "geo": {
           "bgcolor": "white",
           "lakecolor": "white",
           "landcolor": "#E5ECF6",
           "showlakes": true,
           "showland": true,
           "subunitcolor": "white"
          },
          "hoverlabel": {
           "align": "left"
          },
          "hovermode": "closest",
          "mapbox": {
           "style": "light"
          },
          "paper_bgcolor": "white",
          "plot_bgcolor": "#E5ECF6",
          "polar": {
           "angularaxis": {
            "gridcolor": "white",
            "linecolor": "white",
            "ticks": ""
           },
           "bgcolor": "#E5ECF6",
           "radialaxis": {
            "gridcolor": "white",
            "linecolor": "white",
            "ticks": ""
           }
          },
          "scene": {
           "xaxis": {
            "backgroundcolor": "#E5ECF6",
            "gridcolor": "white",
            "gridwidth": 2,
            "linecolor": "white",
            "showbackground": true,
            "ticks": "",
            "zerolinecolor": "white"
           },
           "yaxis": {
            "backgroundcolor": "#E5ECF6",
            "gridcolor": "white",
            "gridwidth": 2,
            "linecolor": "white",
            "showbackground": true,
            "ticks": "",
            "zerolinecolor": "white"
           },
           "zaxis": {
            "backgroundcolor": "#E5ECF6",
            "gridcolor": "white",
            "gridwidth": 2,
            "linecolor": "white",
            "showbackground": true,
            "ticks": "",
            "zerolinecolor": "white"
           }
          },
          "shapedefaults": {
           "line": {
            "color": "#2a3f5f"
           }
          },
          "ternary": {
           "aaxis": {
            "gridcolor": "white",
            "linecolor": "white",
            "ticks": ""
           },
           "baxis": {
            "gridcolor": "white",
            "linecolor": "white",
            "ticks": ""
           },
           "bgcolor": "#E5ECF6",
           "caxis": {
            "gridcolor": "white",
            "linecolor": "white",
            "ticks": ""
           }
          },
          "title": {
           "x": 0.05
          },
          "xaxis": {
           "automargin": true,
           "gridcolor": "white",
           "linecolor": "white",
           "ticks": "",
           "title": {
            "standoff": 15
           },
           "zerolinecolor": "white",
           "zerolinewidth": 2
          },
          "yaxis": {
           "automargin": true,
           "gridcolor": "white",
           "linecolor": "white",
           "ticks": "",
           "title": {
            "standoff": 15
           },
           "zerolinecolor": "white",
           "zerolinewidth": 2
          }
         }
        },
        "xaxis": {
         "anchor": "y",
         "categoryarray": [
          "0_01",
          "0_02",
          "0_03",
          "0_04",
          "0_05",
          "0_06",
          "0_07",
          "0_08",
          "0_09",
          "0_10",
          "0_11",
          "0_12",
          "0_13",
          "0_14",
          "0_15",
          "0_16",
          "0_17",
          "0_18",
          "0_19",
          "0_20",
          "0_21",
          "0_22",
          "0_23",
          "0_24",
          "0_25",
          "0_26",
          "0_27",
          "0_28",
          "0_29",
          "0_30",
          "1_01",
          "1_02",
          "1_03",
          "1_04",
          "1_05",
          "1_06",
          "1_07",
          "1_08",
          "1_09",
          "1_10",
          "1_11",
          "1_12",
          "1_13",
          "1_14",
          "1_15",
          "1_16",
          "1_17",
          "1_18",
          "1_19",
          "1_20",
          "1_21",
          "1_22",
          "1_23",
          "1_24",
          "1_25",
          "1_26",
          "1_27",
          "1_28",
          "1_29",
          "1_30"
         ],
         "categoryorder": "array",
         "domain": [
          0,
          0.49
         ],
         "showticklabels": true,
         "title": {
          "text": "problem"
         }
        },
        "xaxis2": {
         "anchor": "y2",
         "categoryarray": [
          "0_01",
          "0_02",
          "0_03",
          "0_04",
          "0_05",
          "0_06",
          "0_07",
          "0_08",
          "0_09",
          "0_10",
          "0_11",
          "0_12",
          "0_13",
          "0_14",
          "0_15",
          "0_16",
          "0_17",
          "0_18",
          "0_19",
          "0_20",
          "0_21",
          "0_22",
          "0_23",
          "0_24",
          "0_25",
          "0_26",
          "0_27",
          "0_28",
          "0_29",
          "0_30",
          "1_01",
          "1_02",
          "1_03",
          "1_04",
          "1_05",
          "1_06",
          "1_07",
          "1_08",
          "1_09",
          "1_10",
          "1_11",
          "1_12",
          "1_13",
          "1_14",
          "1_15",
          "1_16",
          "1_17",
          "1_18",
          "1_19",
          "1_20",
          "1_21",
          "1_22",
          "1_23",
          "1_24",
          "1_25",
          "1_26",
          "1_27",
          "1_28",
          "1_29",
          "1_30"
         ],
         "categoryorder": "array",
         "domain": [
          0.51,
          1
         ],
         "showticklabels": true,
         "title": {
          "text": "problem"
         }
        },
        "yaxis": {
         "anchor": "x",
         "domain": [
          0,
          1
         ],
         "showticklabels": true,
         "title": {
          "text": "cycles_mean"
         }
        },
        "yaxis2": {
         "anchor": "x2",
         "domain": [
          0,
          1
         ],
         "showticklabels": true
        }
       }
      }
     },
     "metadata": {},
     "output_type": "display_data"
    },
    {
     "name": "stdout",
     "output_type": "stream",
     "text": [
      "rover\n"
     ]
    },
    {
     "data": {
      "application/vnd.plotly.v1+json": {
       "config": {
        "plotlyServerURL": "https://plot.ly"
       },
       "data": [
        {
         "error_y": {
          "array": [
           0,
           0,
           0,
           0,
           0,
           0,
           0,
           0,
           0,
           0,
           0,
           1,
           4.041451884327381,
           1.5275252316519465,
           0.5773502691896258,
           0,
           0.5773502691896258,
           0,
           2.0816659994661326,
           0.5773502691896258,
           0,
           2.8867513459481287,
           0.5773502691896258,
           1,
           0,
           0,
           0.5773502691896258,
           2.8867513459481287,
           0,
           1.1547005383792517
          ]
         },
         "hovertemplate": "solver=baseline<br>type=bounds<br>difficulty=0<br>problem=%{x}<br>cycles_mean=%{y}<extra></extra>",
         "legendgroup": "baseline, bounds",
         "line": {
          "color": "#636efa",
          "dash": "solid"
         },
         "marker": {
          "symbol": "circle"
         },
         "mode": "lines",
         "name": "baseline, bounds",
         "orientation": "v",
         "showlegend": true,
         "type": "scatter",
         "x": [
          "0_01",
          "0_02",
          "0_03",
          "0_04",
          "0_05",
          "0_06",
          "0_07",
          "0_08",
          "0_09",
          "0_10",
          "0_11",
          "0_12",
          "0_13",
          "0_14",
          "0_15",
          "0_16",
          "0_17",
          "0_18",
          "0_19",
          "0_20",
          "0_21",
          "0_22",
          "0_23",
          "0_24",
          "0_25",
          "0_26",
          "0_27",
          "0_28",
          "0_29",
          "0_30"
         ],
         "xaxis": "x",
         "y": [
          0,
          0,
          0,
          0,
          0,
          0,
          0,
          0,
          0,
          0,
          0,
          2,
          3.6666666666666665,
          1.3333333333333333,
          0.3333333333333333,
          0,
          0.3333333333333333,
          0,
          1.6666666666666667,
          0.3333333333333333,
          0,
          1.6666666666666667,
          0.3333333333333333,
          1,
          0,
          0,
          0.3333333333333333,
          6.666666666666667,
          0,
          0.6666666666666666
         ],
         "yaxis": "y"
        },
        {
         "error_y": {
          "array": [
           1.5275252316519468,
           2.6457513110645907,
           2.3094010767585034,
           3.4641016151377544,
           0,
           1.1547005383792517,
           8.962886439832502,
           1.1547005383792517,
           0,
           1.5275252316519465,
           2.0816659994661326,
           3.785938897200183,
           1.1547005383792517,
           1.4142135623730951,
           0.5773502691896258,
           0.5773502691896258,
           0,
           null
          ]
         },
         "hovertemplate": "solver=baseline<br>type=bounds<br>difficulty=1<br>problem=%{x}<br>cycles_mean=%{y}<extra></extra>",
         "legendgroup": "baseline, bounds",
         "line": {
          "color": "#636efa",
          "dash": "solid"
         },
         "marker": {
          "symbol": "circle"
         },
         "mode": "lines",
         "name": "baseline, bounds",
         "orientation": "v",
         "showlegend": false,
         "type": "scatter",
         "x": [
          "1_01",
          "1_02",
          "1_03",
          "1_04",
          "1_05",
          "1_06",
          "1_07",
          "1_08",
          "1_09",
          "1_10",
          "1_11",
          "1_12",
          "1_13",
          "1_14",
          "1_15",
          "1_16",
          "1_24",
          "1_29"
         ],
         "xaxis": "x2",
         "y": [
          1.3333333333333333,
          4,
          2.3333333333333335,
          2,
          0,
          0.6666666666666666,
          6.666666666666667,
          0.6666666666666666,
          0,
          1.3333333333333333,
          1.6666666666666667,
          2.6666666666666665,
          0.6666666666666666,
          2,
          0.6666666666666666,
          0.3333333333333333,
          0,
          null
         ],
         "yaxis": "y2"
        },
        {
         "error_y": {
          "array": [
           null,
           null,
           null,
           null,
           null,
           null,
           null,
           null,
           null,
           null,
           null,
           null,
           null,
           null,
           null,
           null,
           null,
           null,
           null,
           null,
           null,
           null,
           null,
           null,
           null,
           null,
           null,
           null,
           null,
           null
          ]
         },
         "hovertemplate": "solver=optimal<br>type=bounds<br>difficulty=0<br>problem=%{x}<br>cycles_mean=%{y}<extra></extra>",
         "legendgroup": "optimal, bounds",
         "line": {
          "color": "#EF553B",
          "dash": "solid"
         },
         "marker": {
          "symbol": "circle"
         },
         "mode": "lines",
         "name": "optimal, bounds",
         "orientation": "v",
         "showlegend": true,
         "type": "scatter",
         "x": [
          "0_01",
          "0_02",
          "0_03",
          "0_04",
          "0_05",
          "0_06",
          "0_07",
          "0_08",
          "0_09",
          "0_10",
          "0_11",
          "0_12",
          "0_13",
          "0_14",
          "0_15",
          "0_16",
          "0_17",
          "0_18",
          "0_19",
          "0_20",
          "0_21",
          "0_22",
          "0_23",
          "0_24",
          "0_25",
          "0_26",
          "0_27",
          "0_28",
          "0_29",
          "0_30"
         ],
         "xaxis": "x",
         "y": [
          0,
          0,
          0,
          0,
          0,
          0,
          0,
          0,
          0,
          0,
          0,
          0,
          0,
          0,
          0,
          0,
          0,
          0,
          0,
          0,
          0,
          0,
          0,
          0,
          0,
          0,
          0,
          0,
          0,
          0
         ],
         "yaxis": "y"
        },
        {
         "error_y": {
          "array": [
           null,
           null,
           null,
           null,
           null,
           null,
           null,
           null,
           null,
           null,
           null,
           null,
           null,
           null,
           null,
           null,
           null,
           null,
           null,
           null,
           null,
           null,
           null,
           null,
           null,
           null,
           null,
           null,
           null,
           null
          ]
         },
         "hovertemplate": "solver=optimal<br>type=bounds<br>difficulty=1<br>problem=%{x}<br>cycles_mean=%{y}<extra></extra>",
         "legendgroup": "optimal, bounds",
         "line": {
          "color": "#EF553B",
          "dash": "solid"
         },
         "marker": {
          "symbol": "circle"
         },
         "mode": "lines",
         "name": "optimal, bounds",
         "orientation": "v",
         "showlegend": false,
         "type": "scatter",
         "x": [
          "1_01",
          "1_02",
          "1_03",
          "1_04",
          "1_05",
          "1_06",
          "1_07",
          "1_08",
          "1_09",
          "1_10",
          "1_11",
          "1_12",
          "1_13",
          "1_14",
          "1_15",
          "1_16",
          "1_17",
          "1_18",
          "1_19",
          "1_20",
          "1_21",
          "1_22",
          "1_23",
          "1_24",
          "1_25",
          "1_26",
          "1_27",
          "1_28",
          "1_29",
          "1_30"
         ],
         "xaxis": "x2",
         "y": [
          0,
          0,
          0,
          0,
          0,
          0,
          0,
          0,
          0,
          0,
          0,
          0,
          0,
          0,
          0,
          0,
          0,
          0,
          0,
          0,
          0,
          0,
          0,
          0,
          0,
          0,
          0,
          0,
          0,
          0
         ],
         "yaxis": "y2"
        },
        {
         "error_y": {
          "array": [
           null,
           null,
           null,
           null,
           null,
           null,
           null,
           null,
           null,
           null,
           null,
           null,
           null,
           null,
           null,
           null,
           null,
           null,
           null,
           null,
           null,
           null,
           null,
           null,
           null,
           null,
           null,
           null,
           null,
           null
          ]
         },
         "hovertemplate": "solver=lama<br>type=bounds<br>difficulty=0<br>problem=%{x}<br>cycles_mean=%{y}<extra></extra>",
         "legendgroup": "lama, bounds",
         "line": {
          "color": "#00cc96",
          "dash": "solid"
         },
         "marker": {
          "symbol": "circle"
         },
         "mode": "lines",
         "name": "lama, bounds",
         "orientation": "v",
         "showlegend": true,
         "type": "scatter",
         "x": [
          "0_01",
          "0_02",
          "0_03",
          "0_04",
          "0_05",
          "0_06",
          "0_07",
          "0_08",
          "0_09",
          "0_10",
          "0_11",
          "0_12",
          "0_13",
          "0_14",
          "0_15",
          "0_16",
          "0_17",
          "0_18",
          "0_19",
          "0_20",
          "0_21",
          "0_22",
          "0_23",
          "0_24",
          "0_25",
          "0_26",
          "0_27",
          "0_28",
          "0_29",
          "0_30"
         ],
         "xaxis": "x",
         "y": [
          0,
          0,
          0,
          0,
          0,
          0,
          0,
          0,
          0,
          0,
          0,
          0,
          0,
          0,
          0,
          0,
          0,
          0,
          0,
          0,
          0,
          0,
          0,
          0,
          0,
          0,
          0,
          0,
          0,
          0
         ],
         "yaxis": "y"
        },
        {
         "error_y": {
          "array": [
           null,
           null,
           null,
           null,
           null,
           null,
           null,
           null,
           null,
           null,
           null,
           null,
           null,
           null,
           null,
           null,
           null,
           null,
           null,
           null,
           null,
           null,
           null,
           null,
           null,
           null,
           null,
           null,
           null,
           null
          ]
         },
         "hovertemplate": "solver=lama<br>type=bounds<br>difficulty=1<br>problem=%{x}<br>cycles_mean=%{y}<extra></extra>",
         "legendgroup": "lama, bounds",
         "line": {
          "color": "#00cc96",
          "dash": "solid"
         },
         "marker": {
          "symbol": "circle"
         },
         "mode": "lines",
         "name": "lama, bounds",
         "orientation": "v",
         "showlegend": false,
         "type": "scatter",
         "x": [
          "1_01",
          "1_02",
          "1_03",
          "1_04",
          "1_05",
          "1_06",
          "1_07",
          "1_08",
          "1_09",
          "1_10",
          "1_11",
          "1_12",
          "1_13",
          "1_14",
          "1_15",
          "1_16",
          "1_17",
          "1_18",
          "1_19",
          "1_20",
          "1_21",
          "1_22",
          "1_23",
          "1_24",
          "1_25",
          "1_26",
          "1_27",
          "1_28",
          "1_29",
          "1_30"
         ],
         "xaxis": "x2",
         "y": [
          0,
          0,
          0,
          0,
          0,
          0,
          0,
          0,
          0,
          0,
          0,
          0,
          0,
          0,
          0,
          0,
          0,
          0,
          0,
          0,
          0,
          0,
          0,
          0,
          0,
          0,
          0,
          0,
          0,
          0
         ],
         "yaxis": "y2"
        }
       ],
       "layout": {
        "annotations": [
         {
          "font": {},
          "showarrow": false,
          "text": "difficulty=0",
          "x": 0.245,
          "xanchor": "center",
          "xref": "paper",
          "y": 1,
          "yanchor": "bottom",
          "yref": "paper"
         },
         {
          "font": {},
          "showarrow": false,
          "text": "difficulty=1",
          "x": 0.755,
          "xanchor": "center",
          "xref": "paper",
          "y": 1,
          "yanchor": "bottom",
          "yref": "paper"
         }
        ],
        "legend": {
         "title": {
          "text": "solver, type"
         },
         "tracegroupgap": 0
        },
        "margin": {
         "t": 60
        },
        "template": {
         "data": {
          "bar": [
           {
            "error_x": {
             "color": "#2a3f5f"
            },
            "error_y": {
             "color": "#2a3f5f"
            },
            "marker": {
             "line": {
              "color": "#E5ECF6",
              "width": 0.5
             },
             "pattern": {
              "fillmode": "overlay",
              "size": 10,
              "solidity": 0.2
             }
            },
            "type": "bar"
           }
          ],
          "barpolar": [
           {
            "marker": {
             "line": {
              "color": "#E5ECF6",
              "width": 0.5
             },
             "pattern": {
              "fillmode": "overlay",
              "size": 10,
              "solidity": 0.2
             }
            },
            "type": "barpolar"
           }
          ],
          "carpet": [
           {
            "aaxis": {
             "endlinecolor": "#2a3f5f",
             "gridcolor": "white",
             "linecolor": "white",
             "minorgridcolor": "white",
             "startlinecolor": "#2a3f5f"
            },
            "baxis": {
             "endlinecolor": "#2a3f5f",
             "gridcolor": "white",
             "linecolor": "white",
             "minorgridcolor": "white",
             "startlinecolor": "#2a3f5f"
            },
            "type": "carpet"
           }
          ],
          "choropleth": [
           {
            "colorbar": {
             "outlinewidth": 0,
             "ticks": ""
            },
            "type": "choropleth"
           }
          ],
          "contour": [
           {
            "colorbar": {
             "outlinewidth": 0,
             "ticks": ""
            },
            "colorscale": [
             [
              0,
              "#0d0887"
             ],
             [
              0.1111111111111111,
              "#46039f"
             ],
             [
              0.2222222222222222,
              "#7201a8"
             ],
             [
              0.3333333333333333,
              "#9c179e"
             ],
             [
              0.4444444444444444,
              "#bd3786"
             ],
             [
              0.5555555555555556,
              "#d8576b"
             ],
             [
              0.6666666666666666,
              "#ed7953"
             ],
             [
              0.7777777777777778,
              "#fb9f3a"
             ],
             [
              0.8888888888888888,
              "#fdca26"
             ],
             [
              1,
              "#f0f921"
             ]
            ],
            "type": "contour"
           }
          ],
          "contourcarpet": [
           {
            "colorbar": {
             "outlinewidth": 0,
             "ticks": ""
            },
            "type": "contourcarpet"
           }
          ],
          "heatmap": [
           {
            "colorbar": {
             "outlinewidth": 0,
             "ticks": ""
            },
            "colorscale": [
             [
              0,
              "#0d0887"
             ],
             [
              0.1111111111111111,
              "#46039f"
             ],
             [
              0.2222222222222222,
              "#7201a8"
             ],
             [
              0.3333333333333333,
              "#9c179e"
             ],
             [
              0.4444444444444444,
              "#bd3786"
             ],
             [
              0.5555555555555556,
              "#d8576b"
             ],
             [
              0.6666666666666666,
              "#ed7953"
             ],
             [
              0.7777777777777778,
              "#fb9f3a"
             ],
             [
              0.8888888888888888,
              "#fdca26"
             ],
             [
              1,
              "#f0f921"
             ]
            ],
            "type": "heatmap"
           }
          ],
          "heatmapgl": [
           {
            "colorbar": {
             "outlinewidth": 0,
             "ticks": ""
            },
            "colorscale": [
             [
              0,
              "#0d0887"
             ],
             [
              0.1111111111111111,
              "#46039f"
             ],
             [
              0.2222222222222222,
              "#7201a8"
             ],
             [
              0.3333333333333333,
              "#9c179e"
             ],
             [
              0.4444444444444444,
              "#bd3786"
             ],
             [
              0.5555555555555556,
              "#d8576b"
             ],
             [
              0.6666666666666666,
              "#ed7953"
             ],
             [
              0.7777777777777778,
              "#fb9f3a"
             ],
             [
              0.8888888888888888,
              "#fdca26"
             ],
             [
              1,
              "#f0f921"
             ]
            ],
            "type": "heatmapgl"
           }
          ],
          "histogram": [
           {
            "marker": {
             "pattern": {
              "fillmode": "overlay",
              "size": 10,
              "solidity": 0.2
             }
            },
            "type": "histogram"
           }
          ],
          "histogram2d": [
           {
            "colorbar": {
             "outlinewidth": 0,
             "ticks": ""
            },
            "colorscale": [
             [
              0,
              "#0d0887"
             ],
             [
              0.1111111111111111,
              "#46039f"
             ],
             [
              0.2222222222222222,
              "#7201a8"
             ],
             [
              0.3333333333333333,
              "#9c179e"
             ],
             [
              0.4444444444444444,
              "#bd3786"
             ],
             [
              0.5555555555555556,
              "#d8576b"
             ],
             [
              0.6666666666666666,
              "#ed7953"
             ],
             [
              0.7777777777777778,
              "#fb9f3a"
             ],
             [
              0.8888888888888888,
              "#fdca26"
             ],
             [
              1,
              "#f0f921"
             ]
            ],
            "type": "histogram2d"
           }
          ],
          "histogram2dcontour": [
           {
            "colorbar": {
             "outlinewidth": 0,
             "ticks": ""
            },
            "colorscale": [
             [
              0,
              "#0d0887"
             ],
             [
              0.1111111111111111,
              "#46039f"
             ],
             [
              0.2222222222222222,
              "#7201a8"
             ],
             [
              0.3333333333333333,
              "#9c179e"
             ],
             [
              0.4444444444444444,
              "#bd3786"
             ],
             [
              0.5555555555555556,
              "#d8576b"
             ],
             [
              0.6666666666666666,
              "#ed7953"
             ],
             [
              0.7777777777777778,
              "#fb9f3a"
             ],
             [
              0.8888888888888888,
              "#fdca26"
             ],
             [
              1,
              "#f0f921"
             ]
            ],
            "type": "histogram2dcontour"
           }
          ],
          "mesh3d": [
           {
            "colorbar": {
             "outlinewidth": 0,
             "ticks": ""
            },
            "type": "mesh3d"
           }
          ],
          "parcoords": [
           {
            "line": {
             "colorbar": {
              "outlinewidth": 0,
              "ticks": ""
             }
            },
            "type": "parcoords"
           }
          ],
          "pie": [
           {
            "automargin": true,
            "type": "pie"
           }
          ],
          "scatter": [
           {
            "fillpattern": {
             "fillmode": "overlay",
             "size": 10,
             "solidity": 0.2
            },
            "type": "scatter"
           }
          ],
          "scatter3d": [
           {
            "line": {
             "colorbar": {
              "outlinewidth": 0,
              "ticks": ""
             }
            },
            "marker": {
             "colorbar": {
              "outlinewidth": 0,
              "ticks": ""
             }
            },
            "type": "scatter3d"
           }
          ],
          "scattercarpet": [
           {
            "marker": {
             "colorbar": {
              "outlinewidth": 0,
              "ticks": ""
             }
            },
            "type": "scattercarpet"
           }
          ],
          "scattergeo": [
           {
            "marker": {
             "colorbar": {
              "outlinewidth": 0,
              "ticks": ""
             }
            },
            "type": "scattergeo"
           }
          ],
          "scattergl": [
           {
            "marker": {
             "colorbar": {
              "outlinewidth": 0,
              "ticks": ""
             }
            },
            "type": "scattergl"
           }
          ],
          "scattermapbox": [
           {
            "marker": {
             "colorbar": {
              "outlinewidth": 0,
              "ticks": ""
             }
            },
            "type": "scattermapbox"
           }
          ],
          "scatterpolar": [
           {
            "marker": {
             "colorbar": {
              "outlinewidth": 0,
              "ticks": ""
             }
            },
            "type": "scatterpolar"
           }
          ],
          "scatterpolargl": [
           {
            "marker": {
             "colorbar": {
              "outlinewidth": 0,
              "ticks": ""
             }
            },
            "type": "scatterpolargl"
           }
          ],
          "scatterternary": [
           {
            "marker": {
             "colorbar": {
              "outlinewidth": 0,
              "ticks": ""
             }
            },
            "type": "scatterternary"
           }
          ],
          "surface": [
           {
            "colorbar": {
             "outlinewidth": 0,
             "ticks": ""
            },
            "colorscale": [
             [
              0,
              "#0d0887"
             ],
             [
              0.1111111111111111,
              "#46039f"
             ],
             [
              0.2222222222222222,
              "#7201a8"
             ],
             [
              0.3333333333333333,
              "#9c179e"
             ],
             [
              0.4444444444444444,
              "#bd3786"
             ],
             [
              0.5555555555555556,
              "#d8576b"
             ],
             [
              0.6666666666666666,
              "#ed7953"
             ],
             [
              0.7777777777777778,
              "#fb9f3a"
             ],
             [
              0.8888888888888888,
              "#fdca26"
             ],
             [
              1,
              "#f0f921"
             ]
            ],
            "type": "surface"
           }
          ],
          "table": [
           {
            "cells": {
             "fill": {
              "color": "#EBF0F8"
             },
             "line": {
              "color": "white"
             }
            },
            "header": {
             "fill": {
              "color": "#C8D4E3"
             },
             "line": {
              "color": "white"
             }
            },
            "type": "table"
           }
          ]
         },
         "layout": {
          "annotationdefaults": {
           "arrowcolor": "#2a3f5f",
           "arrowhead": 0,
           "arrowwidth": 1
          },
          "autotypenumbers": "strict",
          "coloraxis": {
           "colorbar": {
            "outlinewidth": 0,
            "ticks": ""
           }
          },
          "colorscale": {
           "diverging": [
            [
             0,
             "#8e0152"
            ],
            [
             0.1,
             "#c51b7d"
            ],
            [
             0.2,
             "#de77ae"
            ],
            [
             0.3,
             "#f1b6da"
            ],
            [
             0.4,
             "#fde0ef"
            ],
            [
             0.5,
             "#f7f7f7"
            ],
            [
             0.6,
             "#e6f5d0"
            ],
            [
             0.7,
             "#b8e186"
            ],
            [
             0.8,
             "#7fbc41"
            ],
            [
             0.9,
             "#4d9221"
            ],
            [
             1,
             "#276419"
            ]
           ],
           "sequential": [
            [
             0,
             "#0d0887"
            ],
            [
             0.1111111111111111,
             "#46039f"
            ],
            [
             0.2222222222222222,
             "#7201a8"
            ],
            [
             0.3333333333333333,
             "#9c179e"
            ],
            [
             0.4444444444444444,
             "#bd3786"
            ],
            [
             0.5555555555555556,
             "#d8576b"
            ],
            [
             0.6666666666666666,
             "#ed7953"
            ],
            [
             0.7777777777777778,
             "#fb9f3a"
            ],
            [
             0.8888888888888888,
             "#fdca26"
            ],
            [
             1,
             "#f0f921"
            ]
           ],
           "sequentialminus": [
            [
             0,
             "#0d0887"
            ],
            [
             0.1111111111111111,
             "#46039f"
            ],
            [
             0.2222222222222222,
             "#7201a8"
            ],
            [
             0.3333333333333333,
             "#9c179e"
            ],
            [
             0.4444444444444444,
             "#bd3786"
            ],
            [
             0.5555555555555556,
             "#d8576b"
            ],
            [
             0.6666666666666666,
             "#ed7953"
            ],
            [
             0.7777777777777778,
             "#fb9f3a"
            ],
            [
             0.8888888888888888,
             "#fdca26"
            ],
            [
             1,
             "#f0f921"
            ]
           ]
          },
          "colorway": [
           "#636efa",
           "#EF553B",
           "#00cc96",
           "#ab63fa",
           "#FFA15A",
           "#19d3f3",
           "#FF6692",
           "#B6E880",
           "#FF97FF",
           "#FECB52"
          ],
          "font": {
           "color": "#2a3f5f"
          },
          "geo": {
           "bgcolor": "white",
           "lakecolor": "white",
           "landcolor": "#E5ECF6",
           "showlakes": true,
           "showland": true,
           "subunitcolor": "white"
          },
          "hoverlabel": {
           "align": "left"
          },
          "hovermode": "closest",
          "mapbox": {
           "style": "light"
          },
          "paper_bgcolor": "white",
          "plot_bgcolor": "#E5ECF6",
          "polar": {
           "angularaxis": {
            "gridcolor": "white",
            "linecolor": "white",
            "ticks": ""
           },
           "bgcolor": "#E5ECF6",
           "radialaxis": {
            "gridcolor": "white",
            "linecolor": "white",
            "ticks": ""
           }
          },
          "scene": {
           "xaxis": {
            "backgroundcolor": "#E5ECF6",
            "gridcolor": "white",
            "gridwidth": 2,
            "linecolor": "white",
            "showbackground": true,
            "ticks": "",
            "zerolinecolor": "white"
           },
           "yaxis": {
            "backgroundcolor": "#E5ECF6",
            "gridcolor": "white",
            "gridwidth": 2,
            "linecolor": "white",
            "showbackground": true,
            "ticks": "",
            "zerolinecolor": "white"
           },
           "zaxis": {
            "backgroundcolor": "#E5ECF6",
            "gridcolor": "white",
            "gridwidth": 2,
            "linecolor": "white",
            "showbackground": true,
            "ticks": "",
            "zerolinecolor": "white"
           }
          },
          "shapedefaults": {
           "line": {
            "color": "#2a3f5f"
           }
          },
          "ternary": {
           "aaxis": {
            "gridcolor": "white",
            "linecolor": "white",
            "ticks": ""
           },
           "baxis": {
            "gridcolor": "white",
            "linecolor": "white",
            "ticks": ""
           },
           "bgcolor": "#E5ECF6",
           "caxis": {
            "gridcolor": "white",
            "linecolor": "white",
            "ticks": ""
           }
          },
          "title": {
           "x": 0.05
          },
          "xaxis": {
           "automargin": true,
           "gridcolor": "white",
           "linecolor": "white",
           "ticks": "",
           "title": {
            "standoff": 15
           },
           "zerolinecolor": "white",
           "zerolinewidth": 2
          },
          "yaxis": {
           "automargin": true,
           "gridcolor": "white",
           "linecolor": "white",
           "ticks": "",
           "title": {
            "standoff": 15
           },
           "zerolinecolor": "white",
           "zerolinewidth": 2
          }
         }
        },
        "xaxis": {
         "anchor": "y",
         "categoryarray": [
          "0_01",
          "0_02",
          "0_03",
          "0_04",
          "0_05",
          "0_06",
          "0_07",
          "0_08",
          "0_09",
          "0_10",
          "0_11",
          "0_12",
          "0_13",
          "0_14",
          "0_15",
          "0_16",
          "0_17",
          "0_18",
          "0_19",
          "0_20",
          "0_21",
          "0_22",
          "0_23",
          "0_24",
          "0_25",
          "0_26",
          "0_27",
          "0_28",
          "0_29",
          "0_30",
          "1_01",
          "1_02",
          "1_03",
          "1_04",
          "1_05",
          "1_06",
          "1_07",
          "1_08",
          "1_09",
          "1_10",
          "1_11",
          "1_12",
          "1_13",
          "1_14",
          "1_15",
          "1_16",
          "1_17",
          "1_18",
          "1_19",
          "1_20",
          "1_21",
          "1_22",
          "1_23",
          "1_24",
          "1_25",
          "1_26",
          "1_27",
          "1_28",
          "1_29",
          "1_30"
         ],
         "categoryorder": "array",
         "domain": [
          0,
          0.49
         ],
         "showticklabels": true,
         "title": {
          "text": "problem"
         }
        },
        "xaxis2": {
         "anchor": "y2",
         "categoryarray": [
          "0_01",
          "0_02",
          "0_03",
          "0_04",
          "0_05",
          "0_06",
          "0_07",
          "0_08",
          "0_09",
          "0_10",
          "0_11",
          "0_12",
          "0_13",
          "0_14",
          "0_15",
          "0_16",
          "0_17",
          "0_18",
          "0_19",
          "0_20",
          "0_21",
          "0_22",
          "0_23",
          "0_24",
          "0_25",
          "0_26",
          "0_27",
          "0_28",
          "0_29",
          "0_30",
          "1_01",
          "1_02",
          "1_03",
          "1_04",
          "1_05",
          "1_06",
          "1_07",
          "1_08",
          "1_09",
          "1_10",
          "1_11",
          "1_12",
          "1_13",
          "1_14",
          "1_15",
          "1_16",
          "1_17",
          "1_18",
          "1_19",
          "1_20",
          "1_21",
          "1_22",
          "1_23",
          "1_24",
          "1_25",
          "1_26",
          "1_27",
          "1_28",
          "1_29",
          "1_30"
         ],
         "categoryorder": "array",
         "domain": [
          0.51,
          1
         ],
         "showticklabels": true,
         "title": {
          "text": "problem"
         }
        },
        "yaxis": {
         "anchor": "x",
         "domain": [
          0,
          1
         ],
         "showticklabels": true,
         "title": {
          "text": "cycles_mean"
         }
        },
        "yaxis2": {
         "anchor": "x2",
         "domain": [
          0,
          1
         ],
         "showticklabels": true
        }
       }
      }
     },
     "metadata": {},
     "output_type": "display_data"
    }
   ],
   "source": [
    "plot_domains(\"cycles\", log_y=0, choices=choices, layers=layers, dimensions=dimensions)"
   ]
  },
  {
   "cell_type": "markdown",
   "metadata": {},
   "source": [
    "# Quantified improvements"
   ]
  },
  {
   "cell_type": "code",
   "execution_count": 5,
   "metadata": {},
   "outputs": [
    {
     "name": "stdout",
     "output_type": "stream",
     "text": [
      "blocksworld\n"
     ]
    },
    {
     "data": {
      "application/vnd.plotly.v1+json": {
       "config": {
        "plotlyServerURL": "https://plot.ly"
       },
       "data": [
        {
         "error_y": {
          "array": [
           2.851519991849227,
           2.5019015834182405,
           3.090044245323504,
           2.331183617942405,
           2.0994609949646845,
           3.2138861295814163
          ]
         },
         "hovertemplate": "difficulty=0<br>config=%{x}<br>improvement (%) mean=%{y}<extra></extra>",
         "legendgroup": "",
         "marker": {
          "color": "#636efa",
          "symbol": "circle"
         },
         "mode": "markers",
         "name": "",
         "orientation": "v",
         "showlegend": false,
         "type": "scatter",
         "x": [
          "2_16",
          "2_32",
          "2_8",
          "3_16",
          "3_32",
          "3_8"
         ],
         "xaxis": "x",
         "y": [
          2.4453912913420703,
          1.4272684145216177,
          0.12512925206856687,
          0.6254262577604962,
          1.1456222984980118,
          2.656180424156524
         ],
         "yaxis": "y"
        },
        {
         "error_y": {
          "array": [
           2.0020316534566254,
           1.4136833773322144,
           1.4912451785403036,
           1.373174630020677,
           1.6127054205434153,
           2.2973983708452432
          ]
         },
         "hovertemplate": "difficulty=1<br>config=%{x}<br>improvement (%) mean=%{y}<extra></extra>",
         "legendgroup": "",
         "marker": {
          "color": "#636efa",
          "symbol": "circle"
         },
         "mode": "markers",
         "name": "",
         "orientation": "v",
         "showlegend": false,
         "type": "scatter",
         "x": [
          "2_16",
          "2_32",
          "2_8",
          "3_16",
          "3_32",
          "3_8"
         ],
         "xaxis": "x2",
         "y": [
          3.193996220786265,
          2.3203506702287746,
          0.08666584859286515,
          0.15051907821246666,
          1.7015978394359075,
          5.128714184301566
         ],
         "yaxis": "y2"
        }
       ],
       "layout": {
        "annotations": [
         {
          "font": {},
          "showarrow": false,
          "text": "difficulty=0",
          "x": 0.245,
          "xanchor": "center",
          "xref": "paper",
          "y": 1,
          "yanchor": "bottom",
          "yref": "paper"
         },
         {
          "font": {},
          "showarrow": false,
          "text": "difficulty=1",
          "x": 0.755,
          "xanchor": "center",
          "xref": "paper",
          "y": 1,
          "yanchor": "bottom",
          "yref": "paper"
         }
        ],
        "legend": {
         "tracegroupgap": 0
        },
        "margin": {
         "t": 60
        },
        "template": {
         "data": {
          "bar": [
           {
            "error_x": {
             "color": "#2a3f5f"
            },
            "error_y": {
             "color": "#2a3f5f"
            },
            "marker": {
             "line": {
              "color": "#E5ECF6",
              "width": 0.5
             },
             "pattern": {
              "fillmode": "overlay",
              "size": 10,
              "solidity": 0.2
             }
            },
            "type": "bar"
           }
          ],
          "barpolar": [
           {
            "marker": {
             "line": {
              "color": "#E5ECF6",
              "width": 0.5
             },
             "pattern": {
              "fillmode": "overlay",
              "size": 10,
              "solidity": 0.2
             }
            },
            "type": "barpolar"
           }
          ],
          "carpet": [
           {
            "aaxis": {
             "endlinecolor": "#2a3f5f",
             "gridcolor": "white",
             "linecolor": "white",
             "minorgridcolor": "white",
             "startlinecolor": "#2a3f5f"
            },
            "baxis": {
             "endlinecolor": "#2a3f5f",
             "gridcolor": "white",
             "linecolor": "white",
             "minorgridcolor": "white",
             "startlinecolor": "#2a3f5f"
            },
            "type": "carpet"
           }
          ],
          "choropleth": [
           {
            "colorbar": {
             "outlinewidth": 0,
             "ticks": ""
            },
            "type": "choropleth"
           }
          ],
          "contour": [
           {
            "colorbar": {
             "outlinewidth": 0,
             "ticks": ""
            },
            "colorscale": [
             [
              0,
              "#0d0887"
             ],
             [
              0.1111111111111111,
              "#46039f"
             ],
             [
              0.2222222222222222,
              "#7201a8"
             ],
             [
              0.3333333333333333,
              "#9c179e"
             ],
             [
              0.4444444444444444,
              "#bd3786"
             ],
             [
              0.5555555555555556,
              "#d8576b"
             ],
             [
              0.6666666666666666,
              "#ed7953"
             ],
             [
              0.7777777777777778,
              "#fb9f3a"
             ],
             [
              0.8888888888888888,
              "#fdca26"
             ],
             [
              1,
              "#f0f921"
             ]
            ],
            "type": "contour"
           }
          ],
          "contourcarpet": [
           {
            "colorbar": {
             "outlinewidth": 0,
             "ticks": ""
            },
            "type": "contourcarpet"
           }
          ],
          "heatmap": [
           {
            "colorbar": {
             "outlinewidth": 0,
             "ticks": ""
            },
            "colorscale": [
             [
              0,
              "#0d0887"
             ],
             [
              0.1111111111111111,
              "#46039f"
             ],
             [
              0.2222222222222222,
              "#7201a8"
             ],
             [
              0.3333333333333333,
              "#9c179e"
             ],
             [
              0.4444444444444444,
              "#bd3786"
             ],
             [
              0.5555555555555556,
              "#d8576b"
             ],
             [
              0.6666666666666666,
              "#ed7953"
             ],
             [
              0.7777777777777778,
              "#fb9f3a"
             ],
             [
              0.8888888888888888,
              "#fdca26"
             ],
             [
              1,
              "#f0f921"
             ]
            ],
            "type": "heatmap"
           }
          ],
          "heatmapgl": [
           {
            "colorbar": {
             "outlinewidth": 0,
             "ticks": ""
            },
            "colorscale": [
             [
              0,
              "#0d0887"
             ],
             [
              0.1111111111111111,
              "#46039f"
             ],
             [
              0.2222222222222222,
              "#7201a8"
             ],
             [
              0.3333333333333333,
              "#9c179e"
             ],
             [
              0.4444444444444444,
              "#bd3786"
             ],
             [
              0.5555555555555556,
              "#d8576b"
             ],
             [
              0.6666666666666666,
              "#ed7953"
             ],
             [
              0.7777777777777778,
              "#fb9f3a"
             ],
             [
              0.8888888888888888,
              "#fdca26"
             ],
             [
              1,
              "#f0f921"
             ]
            ],
            "type": "heatmapgl"
           }
          ],
          "histogram": [
           {
            "marker": {
             "pattern": {
              "fillmode": "overlay",
              "size": 10,
              "solidity": 0.2
             }
            },
            "type": "histogram"
           }
          ],
          "histogram2d": [
           {
            "colorbar": {
             "outlinewidth": 0,
             "ticks": ""
            },
            "colorscale": [
             [
              0,
              "#0d0887"
             ],
             [
              0.1111111111111111,
              "#46039f"
             ],
             [
              0.2222222222222222,
              "#7201a8"
             ],
             [
              0.3333333333333333,
              "#9c179e"
             ],
             [
              0.4444444444444444,
              "#bd3786"
             ],
             [
              0.5555555555555556,
              "#d8576b"
             ],
             [
              0.6666666666666666,
              "#ed7953"
             ],
             [
              0.7777777777777778,
              "#fb9f3a"
             ],
             [
              0.8888888888888888,
              "#fdca26"
             ],
             [
              1,
              "#f0f921"
             ]
            ],
            "type": "histogram2d"
           }
          ],
          "histogram2dcontour": [
           {
            "colorbar": {
             "outlinewidth": 0,
             "ticks": ""
            },
            "colorscale": [
             [
              0,
              "#0d0887"
             ],
             [
              0.1111111111111111,
              "#46039f"
             ],
             [
              0.2222222222222222,
              "#7201a8"
             ],
             [
              0.3333333333333333,
              "#9c179e"
             ],
             [
              0.4444444444444444,
              "#bd3786"
             ],
             [
              0.5555555555555556,
              "#d8576b"
             ],
             [
              0.6666666666666666,
              "#ed7953"
             ],
             [
              0.7777777777777778,
              "#fb9f3a"
             ],
             [
              0.8888888888888888,
              "#fdca26"
             ],
             [
              1,
              "#f0f921"
             ]
            ],
            "type": "histogram2dcontour"
           }
          ],
          "mesh3d": [
           {
            "colorbar": {
             "outlinewidth": 0,
             "ticks": ""
            },
            "type": "mesh3d"
           }
          ],
          "parcoords": [
           {
            "line": {
             "colorbar": {
              "outlinewidth": 0,
              "ticks": ""
             }
            },
            "type": "parcoords"
           }
          ],
          "pie": [
           {
            "automargin": true,
            "type": "pie"
           }
          ],
          "scatter": [
           {
            "fillpattern": {
             "fillmode": "overlay",
             "size": 10,
             "solidity": 0.2
            },
            "type": "scatter"
           }
          ],
          "scatter3d": [
           {
            "line": {
             "colorbar": {
              "outlinewidth": 0,
              "ticks": ""
             }
            },
            "marker": {
             "colorbar": {
              "outlinewidth": 0,
              "ticks": ""
             }
            },
            "type": "scatter3d"
           }
          ],
          "scattercarpet": [
           {
            "marker": {
             "colorbar": {
              "outlinewidth": 0,
              "ticks": ""
             }
            },
            "type": "scattercarpet"
           }
          ],
          "scattergeo": [
           {
            "marker": {
             "colorbar": {
              "outlinewidth": 0,
              "ticks": ""
             }
            },
            "type": "scattergeo"
           }
          ],
          "scattergl": [
           {
            "marker": {
             "colorbar": {
              "outlinewidth": 0,
              "ticks": ""
             }
            },
            "type": "scattergl"
           }
          ],
          "scattermapbox": [
           {
            "marker": {
             "colorbar": {
              "outlinewidth": 0,
              "ticks": ""
             }
            },
            "type": "scattermapbox"
           }
          ],
          "scatterpolar": [
           {
            "marker": {
             "colorbar": {
              "outlinewidth": 0,
              "ticks": ""
             }
            },
            "type": "scatterpolar"
           }
          ],
          "scatterpolargl": [
           {
            "marker": {
             "colorbar": {
              "outlinewidth": 0,
              "ticks": ""
             }
            },
            "type": "scatterpolargl"
           }
          ],
          "scatterternary": [
           {
            "marker": {
             "colorbar": {
              "outlinewidth": 0,
              "ticks": ""
             }
            },
            "type": "scatterternary"
           }
          ],
          "surface": [
           {
            "colorbar": {
             "outlinewidth": 0,
             "ticks": ""
            },
            "colorscale": [
             [
              0,
              "#0d0887"
             ],
             [
              0.1111111111111111,
              "#46039f"
             ],
             [
              0.2222222222222222,
              "#7201a8"
             ],
             [
              0.3333333333333333,
              "#9c179e"
             ],
             [
              0.4444444444444444,
              "#bd3786"
             ],
             [
              0.5555555555555556,
              "#d8576b"
             ],
             [
              0.6666666666666666,
              "#ed7953"
             ],
             [
              0.7777777777777778,
              "#fb9f3a"
             ],
             [
              0.8888888888888888,
              "#fdca26"
             ],
             [
              1,
              "#f0f921"
             ]
            ],
            "type": "surface"
           }
          ],
          "table": [
           {
            "cells": {
             "fill": {
              "color": "#EBF0F8"
             },
             "line": {
              "color": "white"
             }
            },
            "header": {
             "fill": {
              "color": "#C8D4E3"
             },
             "line": {
              "color": "white"
             }
            },
            "type": "table"
           }
          ]
         },
         "layout": {
          "annotationdefaults": {
           "arrowcolor": "#2a3f5f",
           "arrowhead": 0,
           "arrowwidth": 1
          },
          "autotypenumbers": "strict",
          "coloraxis": {
           "colorbar": {
            "outlinewidth": 0,
            "ticks": ""
           }
          },
          "colorscale": {
           "diverging": [
            [
             0,
             "#8e0152"
            ],
            [
             0.1,
             "#c51b7d"
            ],
            [
             0.2,
             "#de77ae"
            ],
            [
             0.3,
             "#f1b6da"
            ],
            [
             0.4,
             "#fde0ef"
            ],
            [
             0.5,
             "#f7f7f7"
            ],
            [
             0.6,
             "#e6f5d0"
            ],
            [
             0.7,
             "#b8e186"
            ],
            [
             0.8,
             "#7fbc41"
            ],
            [
             0.9,
             "#4d9221"
            ],
            [
             1,
             "#276419"
            ]
           ],
           "sequential": [
            [
             0,
             "#0d0887"
            ],
            [
             0.1111111111111111,
             "#46039f"
            ],
            [
             0.2222222222222222,
             "#7201a8"
            ],
            [
             0.3333333333333333,
             "#9c179e"
            ],
            [
             0.4444444444444444,
             "#bd3786"
            ],
            [
             0.5555555555555556,
             "#d8576b"
            ],
            [
             0.6666666666666666,
             "#ed7953"
            ],
            [
             0.7777777777777778,
             "#fb9f3a"
            ],
            [
             0.8888888888888888,
             "#fdca26"
            ],
            [
             1,
             "#f0f921"
            ]
           ],
           "sequentialminus": [
            [
             0,
             "#0d0887"
            ],
            [
             0.1111111111111111,
             "#46039f"
            ],
            [
             0.2222222222222222,
             "#7201a8"
            ],
            [
             0.3333333333333333,
             "#9c179e"
            ],
            [
             0.4444444444444444,
             "#bd3786"
            ],
            [
             0.5555555555555556,
             "#d8576b"
            ],
            [
             0.6666666666666666,
             "#ed7953"
            ],
            [
             0.7777777777777778,
             "#fb9f3a"
            ],
            [
             0.8888888888888888,
             "#fdca26"
            ],
            [
             1,
             "#f0f921"
            ]
           ]
          },
          "colorway": [
           "#636efa",
           "#EF553B",
           "#00cc96",
           "#ab63fa",
           "#FFA15A",
           "#19d3f3",
           "#FF6692",
           "#B6E880",
           "#FF97FF",
           "#FECB52"
          ],
          "font": {
           "color": "#2a3f5f"
          },
          "geo": {
           "bgcolor": "white",
           "lakecolor": "white",
           "landcolor": "#E5ECF6",
           "showlakes": true,
           "showland": true,
           "subunitcolor": "white"
          },
          "hoverlabel": {
           "align": "left"
          },
          "hovermode": "closest",
          "mapbox": {
           "style": "light"
          },
          "paper_bgcolor": "white",
          "plot_bgcolor": "#E5ECF6",
          "polar": {
           "angularaxis": {
            "gridcolor": "white",
            "linecolor": "white",
            "ticks": ""
           },
           "bgcolor": "#E5ECF6",
           "radialaxis": {
            "gridcolor": "white",
            "linecolor": "white",
            "ticks": ""
           }
          },
          "scene": {
           "xaxis": {
            "backgroundcolor": "#E5ECF6",
            "gridcolor": "white",
            "gridwidth": 2,
            "linecolor": "white",
            "showbackground": true,
            "ticks": "",
            "zerolinecolor": "white"
           },
           "yaxis": {
            "backgroundcolor": "#E5ECF6",
            "gridcolor": "white",
            "gridwidth": 2,
            "linecolor": "white",
            "showbackground": true,
            "ticks": "",
            "zerolinecolor": "white"
           },
           "zaxis": {
            "backgroundcolor": "#E5ECF6",
            "gridcolor": "white",
            "gridwidth": 2,
            "linecolor": "white",
            "showbackground": true,
            "ticks": "",
            "zerolinecolor": "white"
           }
          },
          "shapedefaults": {
           "line": {
            "color": "#2a3f5f"
           }
          },
          "ternary": {
           "aaxis": {
            "gridcolor": "white",
            "linecolor": "white",
            "ticks": ""
           },
           "baxis": {
            "gridcolor": "white",
            "linecolor": "white",
            "ticks": ""
           },
           "bgcolor": "#E5ECF6",
           "caxis": {
            "gridcolor": "white",
            "linecolor": "white",
            "ticks": ""
           }
          },
          "title": {
           "x": 0.05
          },
          "xaxis": {
           "automargin": true,
           "gridcolor": "white",
           "linecolor": "white",
           "ticks": "",
           "title": {
            "standoff": 15
           },
           "zerolinecolor": "white",
           "zerolinewidth": 2
          },
          "yaxis": {
           "automargin": true,
           "gridcolor": "white",
           "linecolor": "white",
           "ticks": "",
           "title": {
            "standoff": 15
           },
           "zerolinecolor": "white",
           "zerolinewidth": 2
          }
         }
        },
        "xaxis": {
         "anchor": "y",
         "domain": [
          0,
          0.49
         ],
         "title": {
          "text": "config"
         }
        },
        "xaxis2": {
         "anchor": "y2",
         "domain": [
          0.51,
          1
         ],
         "matches": "x",
         "title": {
          "text": "config"
         }
        },
        "yaxis": {
         "anchor": "x",
         "domain": [
          0,
          1
         ],
         "range": [
          -100,
          100
         ],
         "title": {
          "text": "improvement (%) mean"
         }
        },
        "yaxis2": {
         "anchor": "x2",
         "domain": [
          0,
          1
         ],
         "matches": "y",
         "range": [
          -100,
          100
         ],
         "showticklabels": false
        }
       }
      }
     },
     "metadata": {},
     "output_type": "display_data"
    },
    {
     "name": "stdout",
     "output_type": "stream",
     "text": [
      "ferry\n"
     ]
    },
    {
     "data": {
      "application/vnd.plotly.v1+json": {
       "config": {
        "plotlyServerURL": "https://plot.ly"
       },
       "data": [
        {
         "error_y": {
          "array": [
           1.9052935690747443,
           1.673967762387219,
           1.8833550335371831,
           1.8103338427979345,
           1.6907485461068663,
           1.8826088157323364
          ]
         },
         "hovertemplate": "difficulty=0<br>config=%{x}<br>improvement (%) mean=%{y}<extra></extra>",
         "legendgroup": "",
         "marker": {
          "color": "#636efa",
          "symbol": "circle"
         },
         "mode": "markers",
         "name": "",
         "orientation": "v",
         "showlegend": false,
         "type": "scatter",
         "x": [
          "2_16",
          "2_32",
          "2_8",
          "3_16",
          "3_32",
          "3_8"
         ],
         "xaxis": "x",
         "y": [
          2.7108865799021045,
          2.344623801566325,
          2.8077028353109372,
          2.642535491542925,
          1.453882659475812,
          2.6723553284552515
         ],
         "yaxis": "y"
        },
        {
         "error_y": {
          "array": [
           0.9289455919092362,
           0.9359270640482277,
           0.9262821080445414,
           0.9064780022075406,
           1.0481368480462132,
           0.9227779875366
          ]
         },
         "hovertemplate": "difficulty=1<br>config=%{x}<br>improvement (%) mean=%{y}<extra></extra>",
         "legendgroup": "",
         "marker": {
          "color": "#636efa",
          "symbol": "circle"
         },
         "mode": "markers",
         "name": "",
         "orientation": "v",
         "showlegend": false,
         "type": "scatter",
         "x": [
          "2_16",
          "2_32",
          "2_8",
          "3_16",
          "3_32",
          "3_8"
         ],
         "xaxis": "x2",
         "y": [
          3.47482210934726,
          2.8611606712460183,
          3.555852700197256,
          3.1034485712473345,
          1.8796717991901404,
          3.348805725401405
         ],
         "yaxis": "y2"
        }
       ],
       "layout": {
        "annotations": [
         {
          "font": {},
          "showarrow": false,
          "text": "difficulty=0",
          "x": 0.245,
          "xanchor": "center",
          "xref": "paper",
          "y": 1,
          "yanchor": "bottom",
          "yref": "paper"
         },
         {
          "font": {},
          "showarrow": false,
          "text": "difficulty=1",
          "x": 0.755,
          "xanchor": "center",
          "xref": "paper",
          "y": 1,
          "yanchor": "bottom",
          "yref": "paper"
         }
        ],
        "legend": {
         "tracegroupgap": 0
        },
        "margin": {
         "t": 60
        },
        "template": {
         "data": {
          "bar": [
           {
            "error_x": {
             "color": "#2a3f5f"
            },
            "error_y": {
             "color": "#2a3f5f"
            },
            "marker": {
             "line": {
              "color": "#E5ECF6",
              "width": 0.5
             },
             "pattern": {
              "fillmode": "overlay",
              "size": 10,
              "solidity": 0.2
             }
            },
            "type": "bar"
           }
          ],
          "barpolar": [
           {
            "marker": {
             "line": {
              "color": "#E5ECF6",
              "width": 0.5
             },
             "pattern": {
              "fillmode": "overlay",
              "size": 10,
              "solidity": 0.2
             }
            },
            "type": "barpolar"
           }
          ],
          "carpet": [
           {
            "aaxis": {
             "endlinecolor": "#2a3f5f",
             "gridcolor": "white",
             "linecolor": "white",
             "minorgridcolor": "white",
             "startlinecolor": "#2a3f5f"
            },
            "baxis": {
             "endlinecolor": "#2a3f5f",
             "gridcolor": "white",
             "linecolor": "white",
             "minorgridcolor": "white",
             "startlinecolor": "#2a3f5f"
            },
            "type": "carpet"
           }
          ],
          "choropleth": [
           {
            "colorbar": {
             "outlinewidth": 0,
             "ticks": ""
            },
            "type": "choropleth"
           }
          ],
          "contour": [
           {
            "colorbar": {
             "outlinewidth": 0,
             "ticks": ""
            },
            "colorscale": [
             [
              0,
              "#0d0887"
             ],
             [
              0.1111111111111111,
              "#46039f"
             ],
             [
              0.2222222222222222,
              "#7201a8"
             ],
             [
              0.3333333333333333,
              "#9c179e"
             ],
             [
              0.4444444444444444,
              "#bd3786"
             ],
             [
              0.5555555555555556,
              "#d8576b"
             ],
             [
              0.6666666666666666,
              "#ed7953"
             ],
             [
              0.7777777777777778,
              "#fb9f3a"
             ],
             [
              0.8888888888888888,
              "#fdca26"
             ],
             [
              1,
              "#f0f921"
             ]
            ],
            "type": "contour"
           }
          ],
          "contourcarpet": [
           {
            "colorbar": {
             "outlinewidth": 0,
             "ticks": ""
            },
            "type": "contourcarpet"
           }
          ],
          "heatmap": [
           {
            "colorbar": {
             "outlinewidth": 0,
             "ticks": ""
            },
            "colorscale": [
             [
              0,
              "#0d0887"
             ],
             [
              0.1111111111111111,
              "#46039f"
             ],
             [
              0.2222222222222222,
              "#7201a8"
             ],
             [
              0.3333333333333333,
              "#9c179e"
             ],
             [
              0.4444444444444444,
              "#bd3786"
             ],
             [
              0.5555555555555556,
              "#d8576b"
             ],
             [
              0.6666666666666666,
              "#ed7953"
             ],
             [
              0.7777777777777778,
              "#fb9f3a"
             ],
             [
              0.8888888888888888,
              "#fdca26"
             ],
             [
              1,
              "#f0f921"
             ]
            ],
            "type": "heatmap"
           }
          ],
          "heatmapgl": [
           {
            "colorbar": {
             "outlinewidth": 0,
             "ticks": ""
            },
            "colorscale": [
             [
              0,
              "#0d0887"
             ],
             [
              0.1111111111111111,
              "#46039f"
             ],
             [
              0.2222222222222222,
              "#7201a8"
             ],
             [
              0.3333333333333333,
              "#9c179e"
             ],
             [
              0.4444444444444444,
              "#bd3786"
             ],
             [
              0.5555555555555556,
              "#d8576b"
             ],
             [
              0.6666666666666666,
              "#ed7953"
             ],
             [
              0.7777777777777778,
              "#fb9f3a"
             ],
             [
              0.8888888888888888,
              "#fdca26"
             ],
             [
              1,
              "#f0f921"
             ]
            ],
            "type": "heatmapgl"
           }
          ],
          "histogram": [
           {
            "marker": {
             "pattern": {
              "fillmode": "overlay",
              "size": 10,
              "solidity": 0.2
             }
            },
            "type": "histogram"
           }
          ],
          "histogram2d": [
           {
            "colorbar": {
             "outlinewidth": 0,
             "ticks": ""
            },
            "colorscale": [
             [
              0,
              "#0d0887"
             ],
             [
              0.1111111111111111,
              "#46039f"
             ],
             [
              0.2222222222222222,
              "#7201a8"
             ],
             [
              0.3333333333333333,
              "#9c179e"
             ],
             [
              0.4444444444444444,
              "#bd3786"
             ],
             [
              0.5555555555555556,
              "#d8576b"
             ],
             [
              0.6666666666666666,
              "#ed7953"
             ],
             [
              0.7777777777777778,
              "#fb9f3a"
             ],
             [
              0.8888888888888888,
              "#fdca26"
             ],
             [
              1,
              "#f0f921"
             ]
            ],
            "type": "histogram2d"
           }
          ],
          "histogram2dcontour": [
           {
            "colorbar": {
             "outlinewidth": 0,
             "ticks": ""
            },
            "colorscale": [
             [
              0,
              "#0d0887"
             ],
             [
              0.1111111111111111,
              "#46039f"
             ],
             [
              0.2222222222222222,
              "#7201a8"
             ],
             [
              0.3333333333333333,
              "#9c179e"
             ],
             [
              0.4444444444444444,
              "#bd3786"
             ],
             [
              0.5555555555555556,
              "#d8576b"
             ],
             [
              0.6666666666666666,
              "#ed7953"
             ],
             [
              0.7777777777777778,
              "#fb9f3a"
             ],
             [
              0.8888888888888888,
              "#fdca26"
             ],
             [
              1,
              "#f0f921"
             ]
            ],
            "type": "histogram2dcontour"
           }
          ],
          "mesh3d": [
           {
            "colorbar": {
             "outlinewidth": 0,
             "ticks": ""
            },
            "type": "mesh3d"
           }
          ],
          "parcoords": [
           {
            "line": {
             "colorbar": {
              "outlinewidth": 0,
              "ticks": ""
             }
            },
            "type": "parcoords"
           }
          ],
          "pie": [
           {
            "automargin": true,
            "type": "pie"
           }
          ],
          "scatter": [
           {
            "fillpattern": {
             "fillmode": "overlay",
             "size": 10,
             "solidity": 0.2
            },
            "type": "scatter"
           }
          ],
          "scatter3d": [
           {
            "line": {
             "colorbar": {
              "outlinewidth": 0,
              "ticks": ""
             }
            },
            "marker": {
             "colorbar": {
              "outlinewidth": 0,
              "ticks": ""
             }
            },
            "type": "scatter3d"
           }
          ],
          "scattercarpet": [
           {
            "marker": {
             "colorbar": {
              "outlinewidth": 0,
              "ticks": ""
             }
            },
            "type": "scattercarpet"
           }
          ],
          "scattergeo": [
           {
            "marker": {
             "colorbar": {
              "outlinewidth": 0,
              "ticks": ""
             }
            },
            "type": "scattergeo"
           }
          ],
          "scattergl": [
           {
            "marker": {
             "colorbar": {
              "outlinewidth": 0,
              "ticks": ""
             }
            },
            "type": "scattergl"
           }
          ],
          "scattermapbox": [
           {
            "marker": {
             "colorbar": {
              "outlinewidth": 0,
              "ticks": ""
             }
            },
            "type": "scattermapbox"
           }
          ],
          "scatterpolar": [
           {
            "marker": {
             "colorbar": {
              "outlinewidth": 0,
              "ticks": ""
             }
            },
            "type": "scatterpolar"
           }
          ],
          "scatterpolargl": [
           {
            "marker": {
             "colorbar": {
              "outlinewidth": 0,
              "ticks": ""
             }
            },
            "type": "scatterpolargl"
           }
          ],
          "scatterternary": [
           {
            "marker": {
             "colorbar": {
              "outlinewidth": 0,
              "ticks": ""
             }
            },
            "type": "scatterternary"
           }
          ],
          "surface": [
           {
            "colorbar": {
             "outlinewidth": 0,
             "ticks": ""
            },
            "colorscale": [
             [
              0,
              "#0d0887"
             ],
             [
              0.1111111111111111,
              "#46039f"
             ],
             [
              0.2222222222222222,
              "#7201a8"
             ],
             [
              0.3333333333333333,
              "#9c179e"
             ],
             [
              0.4444444444444444,
              "#bd3786"
             ],
             [
              0.5555555555555556,
              "#d8576b"
             ],
             [
              0.6666666666666666,
              "#ed7953"
             ],
             [
              0.7777777777777778,
              "#fb9f3a"
             ],
             [
              0.8888888888888888,
              "#fdca26"
             ],
             [
              1,
              "#f0f921"
             ]
            ],
            "type": "surface"
           }
          ],
          "table": [
           {
            "cells": {
             "fill": {
              "color": "#EBF0F8"
             },
             "line": {
              "color": "white"
             }
            },
            "header": {
             "fill": {
              "color": "#C8D4E3"
             },
             "line": {
              "color": "white"
             }
            },
            "type": "table"
           }
          ]
         },
         "layout": {
          "annotationdefaults": {
           "arrowcolor": "#2a3f5f",
           "arrowhead": 0,
           "arrowwidth": 1
          },
          "autotypenumbers": "strict",
          "coloraxis": {
           "colorbar": {
            "outlinewidth": 0,
            "ticks": ""
           }
          },
          "colorscale": {
           "diverging": [
            [
             0,
             "#8e0152"
            ],
            [
             0.1,
             "#c51b7d"
            ],
            [
             0.2,
             "#de77ae"
            ],
            [
             0.3,
             "#f1b6da"
            ],
            [
             0.4,
             "#fde0ef"
            ],
            [
             0.5,
             "#f7f7f7"
            ],
            [
             0.6,
             "#e6f5d0"
            ],
            [
             0.7,
             "#b8e186"
            ],
            [
             0.8,
             "#7fbc41"
            ],
            [
             0.9,
             "#4d9221"
            ],
            [
             1,
             "#276419"
            ]
           ],
           "sequential": [
            [
             0,
             "#0d0887"
            ],
            [
             0.1111111111111111,
             "#46039f"
            ],
            [
             0.2222222222222222,
             "#7201a8"
            ],
            [
             0.3333333333333333,
             "#9c179e"
            ],
            [
             0.4444444444444444,
             "#bd3786"
            ],
            [
             0.5555555555555556,
             "#d8576b"
            ],
            [
             0.6666666666666666,
             "#ed7953"
            ],
            [
             0.7777777777777778,
             "#fb9f3a"
            ],
            [
             0.8888888888888888,
             "#fdca26"
            ],
            [
             1,
             "#f0f921"
            ]
           ],
           "sequentialminus": [
            [
             0,
             "#0d0887"
            ],
            [
             0.1111111111111111,
             "#46039f"
            ],
            [
             0.2222222222222222,
             "#7201a8"
            ],
            [
             0.3333333333333333,
             "#9c179e"
            ],
            [
             0.4444444444444444,
             "#bd3786"
            ],
            [
             0.5555555555555556,
             "#d8576b"
            ],
            [
             0.6666666666666666,
             "#ed7953"
            ],
            [
             0.7777777777777778,
             "#fb9f3a"
            ],
            [
             0.8888888888888888,
             "#fdca26"
            ],
            [
             1,
             "#f0f921"
            ]
           ]
          },
          "colorway": [
           "#636efa",
           "#EF553B",
           "#00cc96",
           "#ab63fa",
           "#FFA15A",
           "#19d3f3",
           "#FF6692",
           "#B6E880",
           "#FF97FF",
           "#FECB52"
          ],
          "font": {
           "color": "#2a3f5f"
          },
          "geo": {
           "bgcolor": "white",
           "lakecolor": "white",
           "landcolor": "#E5ECF6",
           "showlakes": true,
           "showland": true,
           "subunitcolor": "white"
          },
          "hoverlabel": {
           "align": "left"
          },
          "hovermode": "closest",
          "mapbox": {
           "style": "light"
          },
          "paper_bgcolor": "white",
          "plot_bgcolor": "#E5ECF6",
          "polar": {
           "angularaxis": {
            "gridcolor": "white",
            "linecolor": "white",
            "ticks": ""
           },
           "bgcolor": "#E5ECF6",
           "radialaxis": {
            "gridcolor": "white",
            "linecolor": "white",
            "ticks": ""
           }
          },
          "scene": {
           "xaxis": {
            "backgroundcolor": "#E5ECF6",
            "gridcolor": "white",
            "gridwidth": 2,
            "linecolor": "white",
            "showbackground": true,
            "ticks": "",
            "zerolinecolor": "white"
           },
           "yaxis": {
            "backgroundcolor": "#E5ECF6",
            "gridcolor": "white",
            "gridwidth": 2,
            "linecolor": "white",
            "showbackground": true,
            "ticks": "",
            "zerolinecolor": "white"
           },
           "zaxis": {
            "backgroundcolor": "#E5ECF6",
            "gridcolor": "white",
            "gridwidth": 2,
            "linecolor": "white",
            "showbackground": true,
            "ticks": "",
            "zerolinecolor": "white"
           }
          },
          "shapedefaults": {
           "line": {
            "color": "#2a3f5f"
           }
          },
          "ternary": {
           "aaxis": {
            "gridcolor": "white",
            "linecolor": "white",
            "ticks": ""
           },
           "baxis": {
            "gridcolor": "white",
            "linecolor": "white",
            "ticks": ""
           },
           "bgcolor": "#E5ECF6",
           "caxis": {
            "gridcolor": "white",
            "linecolor": "white",
            "ticks": ""
           }
          },
          "title": {
           "x": 0.05
          },
          "xaxis": {
           "automargin": true,
           "gridcolor": "white",
           "linecolor": "white",
           "ticks": "",
           "title": {
            "standoff": 15
           },
           "zerolinecolor": "white",
           "zerolinewidth": 2
          },
          "yaxis": {
           "automargin": true,
           "gridcolor": "white",
           "linecolor": "white",
           "ticks": "",
           "title": {
            "standoff": 15
           },
           "zerolinecolor": "white",
           "zerolinewidth": 2
          }
         }
        },
        "xaxis": {
         "anchor": "y",
         "domain": [
          0,
          0.49
         ],
         "title": {
          "text": "config"
         }
        },
        "xaxis2": {
         "anchor": "y2",
         "domain": [
          0.51,
          1
         ],
         "matches": "x",
         "title": {
          "text": "config"
         }
        },
        "yaxis": {
         "anchor": "x",
         "domain": [
          0,
          1
         ],
         "range": [
          -100,
          100
         ],
         "title": {
          "text": "improvement (%) mean"
         }
        },
        "yaxis2": {
         "anchor": "x2",
         "domain": [
          0,
          1
         ],
         "matches": "y",
         "range": [
          -100,
          100
         ],
         "showticklabels": false
        }
       }
      }
     },
     "metadata": {},
     "output_type": "display_data"
    },
    {
     "name": "stdout",
     "output_type": "stream",
     "text": [
      "satellite\n"
     ]
    },
    {
     "data": {
      "application/vnd.plotly.v1+json": {
       "config": {
        "plotlyServerURL": "https://plot.ly"
       },
       "data": [
        {
         "error_y": {
          "array": [
           8.097228940903042,
           12.209143389446764,
           15.889897607501625
          ]
         },
         "hovertemplate": "difficulty=0<br>config=%{x}<br>improvement (%) mean=%{y}<extra></extra>",
         "legendgroup": "",
         "marker": {
          "color": "#636efa",
          "symbol": "circle"
         },
         "mode": "markers",
         "name": "",
         "orientation": "v",
         "showlegend": false,
         "type": "scatter",
         "x": [
          "2_16",
          "2_8",
          "3_8"
         ],
         "xaxis": "x",
         "y": [
          6.467416849423173,
          19.597553493772068,
          1.0242903274907929
         ],
         "yaxis": "y"
        },
        {
         "error_y": {
          "array": [
           5.594843569655761,
           20.20345457024801,
           9.186959258420702
          ]
         },
         "hovertemplate": "difficulty=1<br>config=%{x}<br>improvement (%) mean=%{y}<extra></extra>",
         "legendgroup": "",
         "marker": {
          "color": "#636efa",
          "symbol": "circle"
         },
         "mode": "markers",
         "name": "",
         "orientation": "v",
         "showlegend": false,
         "type": "scatter",
         "x": [
          "2_16",
          "2_8",
          "3_8"
         ],
         "xaxis": "x2",
         "y": [
          0.03384974016769574,
          19.694778508967847,
          -9.165692183173865
         ],
         "yaxis": "y2"
        }
       ],
       "layout": {
        "annotations": [
         {
          "font": {},
          "showarrow": false,
          "text": "difficulty=0",
          "x": 0.245,
          "xanchor": "center",
          "xref": "paper",
          "y": 1,
          "yanchor": "bottom",
          "yref": "paper"
         },
         {
          "font": {},
          "showarrow": false,
          "text": "difficulty=1",
          "x": 0.755,
          "xanchor": "center",
          "xref": "paper",
          "y": 1,
          "yanchor": "bottom",
          "yref": "paper"
         }
        ],
        "legend": {
         "tracegroupgap": 0
        },
        "margin": {
         "t": 60
        },
        "template": {
         "data": {
          "bar": [
           {
            "error_x": {
             "color": "#2a3f5f"
            },
            "error_y": {
             "color": "#2a3f5f"
            },
            "marker": {
             "line": {
              "color": "#E5ECF6",
              "width": 0.5
             },
             "pattern": {
              "fillmode": "overlay",
              "size": 10,
              "solidity": 0.2
             }
            },
            "type": "bar"
           }
          ],
          "barpolar": [
           {
            "marker": {
             "line": {
              "color": "#E5ECF6",
              "width": 0.5
             },
             "pattern": {
              "fillmode": "overlay",
              "size": 10,
              "solidity": 0.2
             }
            },
            "type": "barpolar"
           }
          ],
          "carpet": [
           {
            "aaxis": {
             "endlinecolor": "#2a3f5f",
             "gridcolor": "white",
             "linecolor": "white",
             "minorgridcolor": "white",
             "startlinecolor": "#2a3f5f"
            },
            "baxis": {
             "endlinecolor": "#2a3f5f",
             "gridcolor": "white",
             "linecolor": "white",
             "minorgridcolor": "white",
             "startlinecolor": "#2a3f5f"
            },
            "type": "carpet"
           }
          ],
          "choropleth": [
           {
            "colorbar": {
             "outlinewidth": 0,
             "ticks": ""
            },
            "type": "choropleth"
           }
          ],
          "contour": [
           {
            "colorbar": {
             "outlinewidth": 0,
             "ticks": ""
            },
            "colorscale": [
             [
              0,
              "#0d0887"
             ],
             [
              0.1111111111111111,
              "#46039f"
             ],
             [
              0.2222222222222222,
              "#7201a8"
             ],
             [
              0.3333333333333333,
              "#9c179e"
             ],
             [
              0.4444444444444444,
              "#bd3786"
             ],
             [
              0.5555555555555556,
              "#d8576b"
             ],
             [
              0.6666666666666666,
              "#ed7953"
             ],
             [
              0.7777777777777778,
              "#fb9f3a"
             ],
             [
              0.8888888888888888,
              "#fdca26"
             ],
             [
              1,
              "#f0f921"
             ]
            ],
            "type": "contour"
           }
          ],
          "contourcarpet": [
           {
            "colorbar": {
             "outlinewidth": 0,
             "ticks": ""
            },
            "type": "contourcarpet"
           }
          ],
          "heatmap": [
           {
            "colorbar": {
             "outlinewidth": 0,
             "ticks": ""
            },
            "colorscale": [
             [
              0,
              "#0d0887"
             ],
             [
              0.1111111111111111,
              "#46039f"
             ],
             [
              0.2222222222222222,
              "#7201a8"
             ],
             [
              0.3333333333333333,
              "#9c179e"
             ],
             [
              0.4444444444444444,
              "#bd3786"
             ],
             [
              0.5555555555555556,
              "#d8576b"
             ],
             [
              0.6666666666666666,
              "#ed7953"
             ],
             [
              0.7777777777777778,
              "#fb9f3a"
             ],
             [
              0.8888888888888888,
              "#fdca26"
             ],
             [
              1,
              "#f0f921"
             ]
            ],
            "type": "heatmap"
           }
          ],
          "heatmapgl": [
           {
            "colorbar": {
             "outlinewidth": 0,
             "ticks": ""
            },
            "colorscale": [
             [
              0,
              "#0d0887"
             ],
             [
              0.1111111111111111,
              "#46039f"
             ],
             [
              0.2222222222222222,
              "#7201a8"
             ],
             [
              0.3333333333333333,
              "#9c179e"
             ],
             [
              0.4444444444444444,
              "#bd3786"
             ],
             [
              0.5555555555555556,
              "#d8576b"
             ],
             [
              0.6666666666666666,
              "#ed7953"
             ],
             [
              0.7777777777777778,
              "#fb9f3a"
             ],
             [
              0.8888888888888888,
              "#fdca26"
             ],
             [
              1,
              "#f0f921"
             ]
            ],
            "type": "heatmapgl"
           }
          ],
          "histogram": [
           {
            "marker": {
             "pattern": {
              "fillmode": "overlay",
              "size": 10,
              "solidity": 0.2
             }
            },
            "type": "histogram"
           }
          ],
          "histogram2d": [
           {
            "colorbar": {
             "outlinewidth": 0,
             "ticks": ""
            },
            "colorscale": [
             [
              0,
              "#0d0887"
             ],
             [
              0.1111111111111111,
              "#46039f"
             ],
             [
              0.2222222222222222,
              "#7201a8"
             ],
             [
              0.3333333333333333,
              "#9c179e"
             ],
             [
              0.4444444444444444,
              "#bd3786"
             ],
             [
              0.5555555555555556,
              "#d8576b"
             ],
             [
              0.6666666666666666,
              "#ed7953"
             ],
             [
              0.7777777777777778,
              "#fb9f3a"
             ],
             [
              0.8888888888888888,
              "#fdca26"
             ],
             [
              1,
              "#f0f921"
             ]
            ],
            "type": "histogram2d"
           }
          ],
          "histogram2dcontour": [
           {
            "colorbar": {
             "outlinewidth": 0,
             "ticks": ""
            },
            "colorscale": [
             [
              0,
              "#0d0887"
             ],
             [
              0.1111111111111111,
              "#46039f"
             ],
             [
              0.2222222222222222,
              "#7201a8"
             ],
             [
              0.3333333333333333,
              "#9c179e"
             ],
             [
              0.4444444444444444,
              "#bd3786"
             ],
             [
              0.5555555555555556,
              "#d8576b"
             ],
             [
              0.6666666666666666,
              "#ed7953"
             ],
             [
              0.7777777777777778,
              "#fb9f3a"
             ],
             [
              0.8888888888888888,
              "#fdca26"
             ],
             [
              1,
              "#f0f921"
             ]
            ],
            "type": "histogram2dcontour"
           }
          ],
          "mesh3d": [
           {
            "colorbar": {
             "outlinewidth": 0,
             "ticks": ""
            },
            "type": "mesh3d"
           }
          ],
          "parcoords": [
           {
            "line": {
             "colorbar": {
              "outlinewidth": 0,
              "ticks": ""
             }
            },
            "type": "parcoords"
           }
          ],
          "pie": [
           {
            "automargin": true,
            "type": "pie"
           }
          ],
          "scatter": [
           {
            "fillpattern": {
             "fillmode": "overlay",
             "size": 10,
             "solidity": 0.2
            },
            "type": "scatter"
           }
          ],
          "scatter3d": [
           {
            "line": {
             "colorbar": {
              "outlinewidth": 0,
              "ticks": ""
             }
            },
            "marker": {
             "colorbar": {
              "outlinewidth": 0,
              "ticks": ""
             }
            },
            "type": "scatter3d"
           }
          ],
          "scattercarpet": [
           {
            "marker": {
             "colorbar": {
              "outlinewidth": 0,
              "ticks": ""
             }
            },
            "type": "scattercarpet"
           }
          ],
          "scattergeo": [
           {
            "marker": {
             "colorbar": {
              "outlinewidth": 0,
              "ticks": ""
             }
            },
            "type": "scattergeo"
           }
          ],
          "scattergl": [
           {
            "marker": {
             "colorbar": {
              "outlinewidth": 0,
              "ticks": ""
             }
            },
            "type": "scattergl"
           }
          ],
          "scattermapbox": [
           {
            "marker": {
             "colorbar": {
              "outlinewidth": 0,
              "ticks": ""
             }
            },
            "type": "scattermapbox"
           }
          ],
          "scatterpolar": [
           {
            "marker": {
             "colorbar": {
              "outlinewidth": 0,
              "ticks": ""
             }
            },
            "type": "scatterpolar"
           }
          ],
          "scatterpolargl": [
           {
            "marker": {
             "colorbar": {
              "outlinewidth": 0,
              "ticks": ""
             }
            },
            "type": "scatterpolargl"
           }
          ],
          "scatterternary": [
           {
            "marker": {
             "colorbar": {
              "outlinewidth": 0,
              "ticks": ""
             }
            },
            "type": "scatterternary"
           }
          ],
          "surface": [
           {
            "colorbar": {
             "outlinewidth": 0,
             "ticks": ""
            },
            "colorscale": [
             [
              0,
              "#0d0887"
             ],
             [
              0.1111111111111111,
              "#46039f"
             ],
             [
              0.2222222222222222,
              "#7201a8"
             ],
             [
              0.3333333333333333,
              "#9c179e"
             ],
             [
              0.4444444444444444,
              "#bd3786"
             ],
             [
              0.5555555555555556,
              "#d8576b"
             ],
             [
              0.6666666666666666,
              "#ed7953"
             ],
             [
              0.7777777777777778,
              "#fb9f3a"
             ],
             [
              0.8888888888888888,
              "#fdca26"
             ],
             [
              1,
              "#f0f921"
             ]
            ],
            "type": "surface"
           }
          ],
          "table": [
           {
            "cells": {
             "fill": {
              "color": "#EBF0F8"
             },
             "line": {
              "color": "white"
             }
            },
            "header": {
             "fill": {
              "color": "#C8D4E3"
             },
             "line": {
              "color": "white"
             }
            },
            "type": "table"
           }
          ]
         },
         "layout": {
          "annotationdefaults": {
           "arrowcolor": "#2a3f5f",
           "arrowhead": 0,
           "arrowwidth": 1
          },
          "autotypenumbers": "strict",
          "coloraxis": {
           "colorbar": {
            "outlinewidth": 0,
            "ticks": ""
           }
          },
          "colorscale": {
           "diverging": [
            [
             0,
             "#8e0152"
            ],
            [
             0.1,
             "#c51b7d"
            ],
            [
             0.2,
             "#de77ae"
            ],
            [
             0.3,
             "#f1b6da"
            ],
            [
             0.4,
             "#fde0ef"
            ],
            [
             0.5,
             "#f7f7f7"
            ],
            [
             0.6,
             "#e6f5d0"
            ],
            [
             0.7,
             "#b8e186"
            ],
            [
             0.8,
             "#7fbc41"
            ],
            [
             0.9,
             "#4d9221"
            ],
            [
             1,
             "#276419"
            ]
           ],
           "sequential": [
            [
             0,
             "#0d0887"
            ],
            [
             0.1111111111111111,
             "#46039f"
            ],
            [
             0.2222222222222222,
             "#7201a8"
            ],
            [
             0.3333333333333333,
             "#9c179e"
            ],
            [
             0.4444444444444444,
             "#bd3786"
            ],
            [
             0.5555555555555556,
             "#d8576b"
            ],
            [
             0.6666666666666666,
             "#ed7953"
            ],
            [
             0.7777777777777778,
             "#fb9f3a"
            ],
            [
             0.8888888888888888,
             "#fdca26"
            ],
            [
             1,
             "#f0f921"
            ]
           ],
           "sequentialminus": [
            [
             0,
             "#0d0887"
            ],
            [
             0.1111111111111111,
             "#46039f"
            ],
            [
             0.2222222222222222,
             "#7201a8"
            ],
            [
             0.3333333333333333,
             "#9c179e"
            ],
            [
             0.4444444444444444,
             "#bd3786"
            ],
            [
             0.5555555555555556,
             "#d8576b"
            ],
            [
             0.6666666666666666,
             "#ed7953"
            ],
            [
             0.7777777777777778,
             "#fb9f3a"
            ],
            [
             0.8888888888888888,
             "#fdca26"
            ],
            [
             1,
             "#f0f921"
            ]
           ]
          },
          "colorway": [
           "#636efa",
           "#EF553B",
           "#00cc96",
           "#ab63fa",
           "#FFA15A",
           "#19d3f3",
           "#FF6692",
           "#B6E880",
           "#FF97FF",
           "#FECB52"
          ],
          "font": {
           "color": "#2a3f5f"
          },
          "geo": {
           "bgcolor": "white",
           "lakecolor": "white",
           "landcolor": "#E5ECF6",
           "showlakes": true,
           "showland": true,
           "subunitcolor": "white"
          },
          "hoverlabel": {
           "align": "left"
          },
          "hovermode": "closest",
          "mapbox": {
           "style": "light"
          },
          "paper_bgcolor": "white",
          "plot_bgcolor": "#E5ECF6",
          "polar": {
           "angularaxis": {
            "gridcolor": "white",
            "linecolor": "white",
            "ticks": ""
           },
           "bgcolor": "#E5ECF6",
           "radialaxis": {
            "gridcolor": "white",
            "linecolor": "white",
            "ticks": ""
           }
          },
          "scene": {
           "xaxis": {
            "backgroundcolor": "#E5ECF6",
            "gridcolor": "white",
            "gridwidth": 2,
            "linecolor": "white",
            "showbackground": true,
            "ticks": "",
            "zerolinecolor": "white"
           },
           "yaxis": {
            "backgroundcolor": "#E5ECF6",
            "gridcolor": "white",
            "gridwidth": 2,
            "linecolor": "white",
            "showbackground": true,
            "ticks": "",
            "zerolinecolor": "white"
           },
           "zaxis": {
            "backgroundcolor": "#E5ECF6",
            "gridcolor": "white",
            "gridwidth": 2,
            "linecolor": "white",
            "showbackground": true,
            "ticks": "",
            "zerolinecolor": "white"
           }
          },
          "shapedefaults": {
           "line": {
            "color": "#2a3f5f"
           }
          },
          "ternary": {
           "aaxis": {
            "gridcolor": "white",
            "linecolor": "white",
            "ticks": ""
           },
           "baxis": {
            "gridcolor": "white",
            "linecolor": "white",
            "ticks": ""
           },
           "bgcolor": "#E5ECF6",
           "caxis": {
            "gridcolor": "white",
            "linecolor": "white",
            "ticks": ""
           }
          },
          "title": {
           "x": 0.05
          },
          "xaxis": {
           "automargin": true,
           "gridcolor": "white",
           "linecolor": "white",
           "ticks": "",
           "title": {
            "standoff": 15
           },
           "zerolinecolor": "white",
           "zerolinewidth": 2
          },
          "yaxis": {
           "automargin": true,
           "gridcolor": "white",
           "linecolor": "white",
           "ticks": "",
           "title": {
            "standoff": 15
           },
           "zerolinecolor": "white",
           "zerolinewidth": 2
          }
         }
        },
        "xaxis": {
         "anchor": "y",
         "domain": [
          0,
          0.49
         ],
         "title": {
          "text": "config"
         }
        },
        "xaxis2": {
         "anchor": "y2",
         "domain": [
          0.51,
          1
         ],
         "matches": "x",
         "title": {
          "text": "config"
         }
        },
        "yaxis": {
         "anchor": "x",
         "domain": [
          0,
          1
         ],
         "range": [
          -100,
          100
         ],
         "title": {
          "text": "improvement (%) mean"
         }
        },
        "yaxis2": {
         "anchor": "x2",
         "domain": [
          0,
          1
         ],
         "matches": "y",
         "range": [
          -100,
          100
         ],
         "showticklabels": false
        }
       }
      }
     },
     "metadata": {},
     "output_type": "display_data"
    },
    {
     "name": "stdout",
     "output_type": "stream",
     "text": [
      "rover\n"
     ]
    },
    {
     "ename": "IndexError",
     "evalue": "index 0 is out of bounds for axis 0 with size 0",
     "output_type": "error",
     "traceback": [
      "\u001b[0;31m---------------------------------------------------------------------------\u001b[0m",
      "\u001b[0;31mIndexError\u001b[0m                                Traceback (most recent call last)",
      "Cell \u001b[0;32mIn[5], line 1\u001b[0m\n\u001b[0;32m----> 1\u001b[0m \u001b[43mquantify_performance\u001b[49m\u001b[43m(\u001b[49m\u001b[43mchoices\u001b[49m\u001b[38;5;241;43m=\u001b[39;49m\u001b[43mchoices\u001b[49m\u001b[43m,\u001b[49m\u001b[43m \u001b[49m\u001b[43mlayers\u001b[49m\u001b[38;5;241;43m=\u001b[39;49m\u001b[43mlayers\u001b[49m\u001b[43m,\u001b[49m\u001b[43m \u001b[49m\u001b[43mdimensions\u001b[49m\u001b[38;5;241;43m=\u001b[39;49m\u001b[43mdimensions\u001b[49m\u001b[43m)\u001b[49m\n",
      "File \u001b[0;32m~/code/cvut-colab/results/_results_helper.py:314\u001b[0m, in \u001b[0;36mquantify_performance\u001b[0;34m(choices, layers, dimensions)\u001b[0m\n\u001b[1;32m    312\u001b[0m data \u001b[38;5;241m=\u001b[39m data[\u001b[38;5;241m~\u001b[39mdata[\u001b[38;5;124m\"\u001b[39m\u001b[38;5;124msolver\u001b[39m\u001b[38;5;124m\"\u001b[39m]\u001b[38;5;241m.\u001b[39misin(ignore_models)]\n\u001b[1;32m    313\u001b[0m \u001b[38;5;28mprint\u001b[39m(domain)\n\u001b[0;32m--> 314\u001b[0m df \u001b[38;5;241m=\u001b[39m \u001b[43mget_improvement\u001b[49m\u001b[43m(\u001b[49m\u001b[43mdata\u001b[49m\u001b[43m)\u001b[49m\n\u001b[1;32m    315\u001b[0m df \u001b[38;5;241m=\u001b[39m df[\u001b[38;5;241m~\u001b[39mdf[\u001b[38;5;124m\"\u001b[39m\u001b[38;5;124mtype\u001b[39m\u001b[38;5;124m\"\u001b[39m]\u001b[38;5;241m.\u001b[39misin([\u001b[38;5;124m\"\u001b[39m\u001b[38;5;124mbounds\u001b[39m\u001b[38;5;124m\"\u001b[39m])]\n\u001b[1;32m    317\u001b[0m \u001b[38;5;66;03m# print(df)\u001b[39;00m\n",
      "File \u001b[0;32m~/code/cvut-colab/results/_results_helper.py:279\u001b[0m, in \u001b[0;36mget_improvement\u001b[0;34m(df)\u001b[0m\n\u001b[1;32m    277\u001b[0m \u001b[38;5;28;01mdef\u001b[39;00m \u001b[38;5;21mget_improvement\u001b[39m(df):\n\u001b[1;32m    278\u001b[0m     combination \u001b[38;5;241m=\u001b[39m \u001b[38;5;124m\"\u001b[39m\u001b[38;5;124mplan_length_mean\u001b[39m\u001b[38;5;124m\"\u001b[39m \u001b[38;5;28;01mif\u001b[39;00m \u001b[38;5;129;01mnot\u001b[39;00m TAKE_BEST \u001b[38;5;28;01melse\u001b[39;00m \u001b[38;5;124m\"\u001b[39m\u001b[38;5;124mplan_length_min\u001b[39m\u001b[38;5;124m\"\u001b[39m\n\u001b[0;32m--> 279\u001b[0m     df[\u001b[38;5;124m\"\u001b[39m\u001b[38;5;124mimprovement\u001b[39m\u001b[38;5;124m\"\u001b[39m] \u001b[38;5;241m=\u001b[39m \u001b[43mdf\u001b[49m\u001b[38;5;241;43m.\u001b[39;49m\u001b[43mapply\u001b[49m\u001b[43m(\u001b[49m\n\u001b[1;32m    280\u001b[0m \u001b[43m        \u001b[49m\u001b[38;5;28;43;01mlambda\u001b[39;49;00m\u001b[43m \u001b[49m\u001b[43mrow\u001b[49m\u001b[43m:\u001b[49m\u001b[43m \u001b[49m\u001b[38;5;241;43m-\u001b[39;49m\u001b[43mrow\u001b[49m\u001b[43m[\u001b[49m\u001b[43mcombination\u001b[49m\u001b[43m]\u001b[49m\n\u001b[1;32m    281\u001b[0m \u001b[43m        \u001b[49m\u001b[38;5;241;43m+\u001b[39;49m\u001b[43m \u001b[49m\u001b[43mdf\u001b[49m\u001b[43m[\u001b[49m\n\u001b[1;32m    282\u001b[0m \u001b[43m            \u001b[49m\u001b[43m(\u001b[49m\u001b[43mdf\u001b[49m\u001b[43m[\u001b[49m\u001b[38;5;124;43m\"\u001b[39;49m\u001b[38;5;124;43mdomain\u001b[39;49m\u001b[38;5;124;43m\"\u001b[39;49m\u001b[43m]\u001b[49m\u001b[43m \u001b[49m\u001b[38;5;241;43m==\u001b[39;49m\u001b[43m \u001b[49m\u001b[43mrow\u001b[49m\u001b[43m[\u001b[49m\u001b[38;5;124;43m\"\u001b[39;49m\u001b[38;5;124;43mdomain\u001b[39;49m\u001b[38;5;124;43m\"\u001b[39;49m\u001b[43m]\u001b[49m\u001b[43m)\u001b[49m\n\u001b[1;32m    283\u001b[0m \u001b[43m            \u001b[49m\u001b[38;5;241;43m&\u001b[39;49m\u001b[43m \u001b[49m\u001b[43m(\u001b[49m\u001b[43mdf\u001b[49m\u001b[43m[\u001b[49m\u001b[38;5;124;43m\"\u001b[39;49m\u001b[38;5;124;43mproblem\u001b[39;49m\u001b[38;5;124;43m\"\u001b[39;49m\u001b[43m]\u001b[49m\u001b[43m \u001b[49m\u001b[38;5;241;43m==\u001b[39;49m\u001b[43m \u001b[49m\u001b[43mrow\u001b[49m\u001b[43m[\u001b[49m\u001b[38;5;124;43m\"\u001b[39;49m\u001b[38;5;124;43mproblem\u001b[39;49m\u001b[38;5;124;43m\"\u001b[39;49m\u001b[43m]\u001b[49m\u001b[43m)\u001b[49m\n\u001b[1;32m    284\u001b[0m \u001b[43m            \u001b[49m\u001b[38;5;241;43m&\u001b[39;49m\u001b[43m \u001b[49m\u001b[43m(\u001b[49m\u001b[43mdf\u001b[49m\u001b[43m[\u001b[49m\u001b[38;5;124;43m\"\u001b[39;49m\u001b[38;5;124;43msolver\u001b[39;49m\u001b[38;5;124;43m\"\u001b[39;49m\u001b[43m]\u001b[49m\u001b[43m \u001b[49m\u001b[38;5;241;43m==\u001b[39;49m\u001b[43m \u001b[49m\u001b[38;5;124;43m\"\u001b[39;49m\u001b[38;5;124;43mbaseline\u001b[39;49m\u001b[38;5;124;43m\"\u001b[39;49m\u001b[43m)\u001b[49m\n\u001b[1;32m    285\u001b[0m \u001b[43m        \u001b[49m\u001b[43m]\u001b[49m\u001b[43m[\u001b[49m\u001b[43mcombination\u001b[49m\u001b[43m]\u001b[49m\u001b[38;5;241;43m.\u001b[39;49m\u001b[43mvalues\u001b[49m\u001b[43m[\u001b[49m\u001b[38;5;241;43m0\u001b[39;49m\u001b[43m]\u001b[49m\u001b[43m,\u001b[49m\n\u001b[1;32m    286\u001b[0m \u001b[43m        \u001b[49m\u001b[43maxis\u001b[49m\u001b[38;5;241;43m=\u001b[39;49m\u001b[38;5;241;43m1\u001b[39;49m\u001b[43m,\u001b[49m\n\u001b[1;32m    287\u001b[0m \u001b[43m    \u001b[49m\u001b[43m)\u001b[49m\n\u001b[1;32m    288\u001b[0m     df[\u001b[38;5;124m\"\u001b[39m\u001b[38;5;124mimprovement (\u001b[39m\u001b[38;5;124m%\u001b[39m\u001b[38;5;124m)\u001b[39m\u001b[38;5;124m\"\u001b[39m] \u001b[38;5;241m=\u001b[39m df\u001b[38;5;241m.\u001b[39mapply(\n\u001b[1;32m    289\u001b[0m         \u001b[38;5;28;01mlambda\u001b[39;00m row: \u001b[38;5;241m100\u001b[39m \u001b[38;5;241m*\u001b[39m (\n\u001b[1;32m    290\u001b[0m             \u001b[38;5;241m-\u001b[39mrow[combination]\n\u001b[0;32m   (...)\u001b[0m\n\u001b[1;32m    302\u001b[0m         axis\u001b[38;5;241m=\u001b[39m\u001b[38;5;241m1\u001b[39m,\n\u001b[1;32m    303\u001b[0m     )\n\u001b[1;32m    304\u001b[0m     \u001b[38;5;28;01mreturn\u001b[39;00m df\n",
      "File \u001b[0;32m~/anaconda3/envs/lpp/lib/python3.10/site-packages/pandas/core/frame.py:10374\u001b[0m, in \u001b[0;36mDataFrame.apply\u001b[0;34m(self, func, axis, raw, result_type, args, by_row, engine, engine_kwargs, **kwargs)\u001b[0m\n\u001b[1;32m  10360\u001b[0m \u001b[38;5;28;01mfrom\u001b[39;00m \u001b[38;5;21;01mpandas\u001b[39;00m\u001b[38;5;21;01m.\u001b[39;00m\u001b[38;5;21;01mcore\u001b[39;00m\u001b[38;5;21;01m.\u001b[39;00m\u001b[38;5;21;01mapply\u001b[39;00m \u001b[38;5;28;01mimport\u001b[39;00m frame_apply\n\u001b[1;32m  10362\u001b[0m op \u001b[38;5;241m=\u001b[39m frame_apply(\n\u001b[1;32m  10363\u001b[0m     \u001b[38;5;28mself\u001b[39m,\n\u001b[1;32m  10364\u001b[0m     func\u001b[38;5;241m=\u001b[39mfunc,\n\u001b[0;32m   (...)\u001b[0m\n\u001b[1;32m  10372\u001b[0m     kwargs\u001b[38;5;241m=\u001b[39mkwargs,\n\u001b[1;32m  10373\u001b[0m )\n\u001b[0;32m> 10374\u001b[0m \u001b[38;5;28;01mreturn\u001b[39;00m \u001b[43mop\u001b[49m\u001b[38;5;241;43m.\u001b[39;49m\u001b[43mapply\u001b[49m\u001b[43m(\u001b[49m\u001b[43m)\u001b[49m\u001b[38;5;241m.\u001b[39m__finalize__(\u001b[38;5;28mself\u001b[39m, method\u001b[38;5;241m=\u001b[39m\u001b[38;5;124m\"\u001b[39m\u001b[38;5;124mapply\u001b[39m\u001b[38;5;124m\"\u001b[39m)\n",
      "File \u001b[0;32m~/anaconda3/envs/lpp/lib/python3.10/site-packages/pandas/core/apply.py:916\u001b[0m, in \u001b[0;36mFrameApply.apply\u001b[0;34m(self)\u001b[0m\n\u001b[1;32m    913\u001b[0m \u001b[38;5;28;01melif\u001b[39;00m \u001b[38;5;28mself\u001b[39m\u001b[38;5;241m.\u001b[39mraw:\n\u001b[1;32m    914\u001b[0m     \u001b[38;5;28;01mreturn\u001b[39;00m \u001b[38;5;28mself\u001b[39m\u001b[38;5;241m.\u001b[39mapply_raw(engine\u001b[38;5;241m=\u001b[39m\u001b[38;5;28mself\u001b[39m\u001b[38;5;241m.\u001b[39mengine, engine_kwargs\u001b[38;5;241m=\u001b[39m\u001b[38;5;28mself\u001b[39m\u001b[38;5;241m.\u001b[39mengine_kwargs)\n\u001b[0;32m--> 916\u001b[0m \u001b[38;5;28;01mreturn\u001b[39;00m \u001b[38;5;28;43mself\u001b[39;49m\u001b[38;5;241;43m.\u001b[39;49m\u001b[43mapply_standard\u001b[49m\u001b[43m(\u001b[49m\u001b[43m)\u001b[49m\n",
      "File \u001b[0;32m~/anaconda3/envs/lpp/lib/python3.10/site-packages/pandas/core/apply.py:1063\u001b[0m, in \u001b[0;36mFrameApply.apply_standard\u001b[0;34m(self)\u001b[0m\n\u001b[1;32m   1061\u001b[0m \u001b[38;5;28;01mdef\u001b[39;00m \u001b[38;5;21mapply_standard\u001b[39m(\u001b[38;5;28mself\u001b[39m):\n\u001b[1;32m   1062\u001b[0m     \u001b[38;5;28;01mif\u001b[39;00m \u001b[38;5;28mself\u001b[39m\u001b[38;5;241m.\u001b[39mengine \u001b[38;5;241m==\u001b[39m \u001b[38;5;124m\"\u001b[39m\u001b[38;5;124mpython\u001b[39m\u001b[38;5;124m\"\u001b[39m:\n\u001b[0;32m-> 1063\u001b[0m         results, res_index \u001b[38;5;241m=\u001b[39m \u001b[38;5;28;43mself\u001b[39;49m\u001b[38;5;241;43m.\u001b[39;49m\u001b[43mapply_series_generator\u001b[49m\u001b[43m(\u001b[49m\u001b[43m)\u001b[49m\n\u001b[1;32m   1064\u001b[0m     \u001b[38;5;28;01melse\u001b[39;00m:\n\u001b[1;32m   1065\u001b[0m         results, res_index \u001b[38;5;241m=\u001b[39m \u001b[38;5;28mself\u001b[39m\u001b[38;5;241m.\u001b[39mapply_series_numba()\n",
      "File \u001b[0;32m~/anaconda3/envs/lpp/lib/python3.10/site-packages/pandas/core/apply.py:1081\u001b[0m, in \u001b[0;36mFrameApply.apply_series_generator\u001b[0;34m(self)\u001b[0m\n\u001b[1;32m   1078\u001b[0m \u001b[38;5;28;01mwith\u001b[39;00m option_context(\u001b[38;5;124m\"\u001b[39m\u001b[38;5;124mmode.chained_assignment\u001b[39m\u001b[38;5;124m\"\u001b[39m, \u001b[38;5;28;01mNone\u001b[39;00m):\n\u001b[1;32m   1079\u001b[0m     \u001b[38;5;28;01mfor\u001b[39;00m i, v \u001b[38;5;129;01min\u001b[39;00m \u001b[38;5;28menumerate\u001b[39m(series_gen):\n\u001b[1;32m   1080\u001b[0m         \u001b[38;5;66;03m# ignore SettingWithCopy here in case the user mutates\u001b[39;00m\n\u001b[0;32m-> 1081\u001b[0m         results[i] \u001b[38;5;241m=\u001b[39m \u001b[38;5;28;43mself\u001b[39;49m\u001b[38;5;241;43m.\u001b[39;49m\u001b[43mfunc\u001b[49m\u001b[43m(\u001b[49m\u001b[43mv\u001b[49m\u001b[43m,\u001b[49m\u001b[43m \u001b[49m\u001b[38;5;241;43m*\u001b[39;49m\u001b[38;5;28;43mself\u001b[39;49m\u001b[38;5;241;43m.\u001b[39;49m\u001b[43margs\u001b[49m\u001b[43m,\u001b[49m\u001b[43m \u001b[49m\u001b[38;5;241;43m*\u001b[39;49m\u001b[38;5;241;43m*\u001b[39;49m\u001b[38;5;28;43mself\u001b[39;49m\u001b[38;5;241;43m.\u001b[39;49m\u001b[43mkwargs\u001b[49m\u001b[43m)\u001b[49m\n\u001b[1;32m   1082\u001b[0m         \u001b[38;5;28;01mif\u001b[39;00m \u001b[38;5;28misinstance\u001b[39m(results[i], ABCSeries):\n\u001b[1;32m   1083\u001b[0m             \u001b[38;5;66;03m# If we have a view on v, we need to make a copy because\u001b[39;00m\n\u001b[1;32m   1084\u001b[0m             \u001b[38;5;66;03m#  series_generator will swap out the underlying data\u001b[39;00m\n\u001b[1;32m   1085\u001b[0m             results[i] \u001b[38;5;241m=\u001b[39m results[i]\u001b[38;5;241m.\u001b[39mcopy(deep\u001b[38;5;241m=\u001b[39m\u001b[38;5;28;01mFalse\u001b[39;00m)\n",
      "File \u001b[0;32m~/code/cvut-colab/results/_results_helper.py:281\u001b[0m, in \u001b[0;36mget_improvement.<locals>.<lambda>\u001b[0;34m(row)\u001b[0m\n\u001b[1;32m    277\u001b[0m \u001b[38;5;28;01mdef\u001b[39;00m \u001b[38;5;21mget_improvement\u001b[39m(df):\n\u001b[1;32m    278\u001b[0m     combination \u001b[38;5;241m=\u001b[39m \u001b[38;5;124m\"\u001b[39m\u001b[38;5;124mplan_length_mean\u001b[39m\u001b[38;5;124m\"\u001b[39m \u001b[38;5;28;01mif\u001b[39;00m \u001b[38;5;129;01mnot\u001b[39;00m TAKE_BEST \u001b[38;5;28;01melse\u001b[39;00m \u001b[38;5;124m\"\u001b[39m\u001b[38;5;124mplan_length_min\u001b[39m\u001b[38;5;124m\"\u001b[39m\n\u001b[1;32m    279\u001b[0m     df[\u001b[38;5;124m\"\u001b[39m\u001b[38;5;124mimprovement\u001b[39m\u001b[38;5;124m\"\u001b[39m] \u001b[38;5;241m=\u001b[39m df\u001b[38;5;241m.\u001b[39mapply(\n\u001b[1;32m    280\u001b[0m         \u001b[38;5;28;01mlambda\u001b[39;00m row: \u001b[38;5;241m-\u001b[39mrow[combination]\n\u001b[0;32m--> 281\u001b[0m         \u001b[38;5;241m+\u001b[39m \u001b[43mdf\u001b[49m\u001b[43m[\u001b[49m\n\u001b[1;32m    282\u001b[0m \u001b[43m            \u001b[49m\u001b[43m(\u001b[49m\u001b[43mdf\u001b[49m\u001b[43m[\u001b[49m\u001b[38;5;124;43m\"\u001b[39;49m\u001b[38;5;124;43mdomain\u001b[39;49m\u001b[38;5;124;43m\"\u001b[39;49m\u001b[43m]\u001b[49m\u001b[43m \u001b[49m\u001b[38;5;241;43m==\u001b[39;49m\u001b[43m \u001b[49m\u001b[43mrow\u001b[49m\u001b[43m[\u001b[49m\u001b[38;5;124;43m\"\u001b[39;49m\u001b[38;5;124;43mdomain\u001b[39;49m\u001b[38;5;124;43m\"\u001b[39;49m\u001b[43m]\u001b[49m\u001b[43m)\u001b[49m\n\u001b[1;32m    283\u001b[0m \u001b[43m            \u001b[49m\u001b[38;5;241;43m&\u001b[39;49m\u001b[43m \u001b[49m\u001b[43m(\u001b[49m\u001b[43mdf\u001b[49m\u001b[43m[\u001b[49m\u001b[38;5;124;43m\"\u001b[39;49m\u001b[38;5;124;43mproblem\u001b[39;49m\u001b[38;5;124;43m\"\u001b[39;49m\u001b[43m]\u001b[49m\u001b[43m \u001b[49m\u001b[38;5;241;43m==\u001b[39;49m\u001b[43m \u001b[49m\u001b[43mrow\u001b[49m\u001b[43m[\u001b[49m\u001b[38;5;124;43m\"\u001b[39;49m\u001b[38;5;124;43mproblem\u001b[39;49m\u001b[38;5;124;43m\"\u001b[39;49m\u001b[43m]\u001b[49m\u001b[43m)\u001b[49m\n\u001b[1;32m    284\u001b[0m \u001b[43m            \u001b[49m\u001b[38;5;241;43m&\u001b[39;49m\u001b[43m \u001b[49m\u001b[43m(\u001b[49m\u001b[43mdf\u001b[49m\u001b[43m[\u001b[49m\u001b[38;5;124;43m\"\u001b[39;49m\u001b[38;5;124;43msolver\u001b[39;49m\u001b[38;5;124;43m\"\u001b[39;49m\u001b[43m]\u001b[49m\u001b[43m \u001b[49m\u001b[38;5;241;43m==\u001b[39;49m\u001b[43m \u001b[49m\u001b[38;5;124;43m\"\u001b[39;49m\u001b[38;5;124;43mbaseline\u001b[39;49m\u001b[38;5;124;43m\"\u001b[39;49m\u001b[43m)\u001b[49m\n\u001b[1;32m    285\u001b[0m \u001b[43m        \u001b[49m\u001b[43m]\u001b[49m\u001b[43m[\u001b[49m\u001b[43mcombination\u001b[49m\u001b[43m]\u001b[49m\u001b[38;5;241;43m.\u001b[39;49m\u001b[43mvalues\u001b[49m\u001b[43m[\u001b[49m\u001b[38;5;241;43m0\u001b[39;49m\u001b[43m]\u001b[49m,\n\u001b[1;32m    286\u001b[0m         axis\u001b[38;5;241m=\u001b[39m\u001b[38;5;241m1\u001b[39m,\n\u001b[1;32m    287\u001b[0m     )\n\u001b[1;32m    288\u001b[0m     df[\u001b[38;5;124m\"\u001b[39m\u001b[38;5;124mimprovement (\u001b[39m\u001b[38;5;124m%\u001b[39m\u001b[38;5;124m)\u001b[39m\u001b[38;5;124m\"\u001b[39m] \u001b[38;5;241m=\u001b[39m df\u001b[38;5;241m.\u001b[39mapply(\n\u001b[1;32m    289\u001b[0m         \u001b[38;5;28;01mlambda\u001b[39;00m row: \u001b[38;5;241m100\u001b[39m \u001b[38;5;241m*\u001b[39m (\n\u001b[1;32m    290\u001b[0m             \u001b[38;5;241m-\u001b[39mrow[combination]\n\u001b[0;32m   (...)\u001b[0m\n\u001b[1;32m    302\u001b[0m         axis\u001b[38;5;241m=\u001b[39m\u001b[38;5;241m1\u001b[39m,\n\u001b[1;32m    303\u001b[0m     )\n\u001b[1;32m    304\u001b[0m     \u001b[38;5;28;01mreturn\u001b[39;00m df\n",
      "\u001b[0;31mIndexError\u001b[0m: index 0 is out of bounds for axis 0 with size 0"
     ]
    }
   ],
   "source": [
    "quantify_performance(choices=choices, layers=layers, dimensions=dimensions)"
   ]
  },
  {
   "cell_type": "markdown",
   "metadata": {},
   "source": [
    "# Relative difference plots"
   ]
  },
  {
   "cell_type": "code",
   "execution_count": null,
   "metadata": {},
   "outputs": [
    {
     "name": "stdout",
     "output_type": "stream",
     "text": [
      "blocksworld\n"
     ]
    },
    {
     "data": {
      "application/vnd.plotly.v1+json": {
       "config": {
        "plotlyServerURL": "https://plot.ly"
       },
       "data": [
        {
         "hovertemplate": "solver=baseline<br>type=bounds<br>difficulty=0<br>problem=%{x}<br>improvement (%)=%{y}<extra></extra>",
         "legendgroup": "baseline, bounds",
         "line": {
          "color": "#636efa",
          "dash": "solid"
         },
         "marker": {
          "symbol": "circle"
         },
         "mode": "lines",
         "name": "baseline, bounds",
         "orientation": "v",
         "showlegend": true,
         "type": "scatter",
         "x": [
          "0_01",
          "0_02",
          "0_03",
          "0_04",
          "0_05",
          "0_06",
          "0_07",
          "0_08",
          "0_09",
          "0_10",
          "0_11",
          "0_12",
          "0_13",
          "0_14",
          "0_15",
          "0_16",
          "0_17",
          "0_18",
          "0_19",
          "0_20",
          "0_21",
          "0_22",
          "0_23",
          "0_24",
          "0_25",
          "0_26",
          "0_27",
          "0_28",
          "0_29",
          "0_30"
         ],
         "xaxis": "x",
         "y": [
          0,
          0,
          0,
          0,
          0,
          0,
          0,
          0,
          0,
          0,
          0,
          0,
          0,
          0,
          0,
          0,
          0,
          0,
          0,
          0,
          0,
          0,
          0,
          0,
          0,
          0,
          0,
          0,
          0,
          0
         ],
         "yaxis": "y"
        },
        {
         "hovertemplate": "solver=baseline<br>type=bounds<br>difficulty=1<br>problem=%{x}<br>improvement (%)=%{y}<extra></extra>",
         "legendgroup": "baseline, bounds",
         "line": {
          "color": "#636efa",
          "dash": "solid"
         },
         "marker": {
          "symbol": "circle"
         },
         "mode": "lines",
         "name": "baseline, bounds",
         "orientation": "v",
         "showlegend": false,
         "type": "scatter",
         "x": [
          "1_01",
          "1_02",
          "1_03",
          "1_04",
          "1_05",
          "1_06",
          "1_07",
          "1_08",
          "1_09",
          "1_10",
          "1_11",
          "1_12",
          "1_13",
          "1_14",
          "1_15",
          "1_16",
          "1_17",
          "1_18",
          "1_19",
          "1_20",
          "1_21",
          "1_22",
          "1_23",
          "1_24",
          "1_25",
          "1_26",
          "1_27",
          "1_28",
          "1_29",
          "1_30"
         ],
         "xaxis": "x2",
         "y": [
          0,
          0,
          0,
          0,
          0,
          0,
          0,
          0,
          0,
          0,
          0,
          0,
          0,
          0,
          0,
          0,
          0,
          0,
          0,
          0,
          0,
          0,
          0,
          0,
          0,
          0,
          0,
          0,
          0,
          0
         ],
         "yaxis": "y2"
        },
        {
         "hovertemplate": "solver=optimal<br>type=bounds<br>difficulty=0<br>problem=%{x}<br>improvement (%)=%{y}<extra></extra>",
         "legendgroup": "optimal, bounds",
         "line": {
          "color": "#EF553B",
          "dash": "solid"
         },
         "marker": {
          "symbol": "circle"
         },
         "mode": "lines",
         "name": "optimal, bounds",
         "orientation": "v",
         "showlegend": true,
         "type": "scatter",
         "x": [
          "0_01",
          "0_02",
          "0_03",
          "0_04",
          "0_05",
          "0_06",
          "0_07",
          "0_08",
          "0_09",
          "0_10",
          "0_11",
          "0_12",
          "0_13",
          "0_14",
          "0_15",
          "0_16",
          "0_17",
          "0_18",
          "0_19",
          "0_20",
          "0_21",
          "0_22",
          "0_23",
          "0_24",
          "0_25",
          "0_26",
          "0_27",
          "0_28",
          "0_29",
          "0_30"
         ],
         "xaxis": "x",
         "y": [
          0,
          0,
          0,
          0,
          0,
          10.958904109589039,
          0,
          0,
          0,
          0,
          0,
          9.909909909909908,
          11.016949152542377,
          7.563025210084036,
          14.179104477611942,
          9.395973154362418,
          0,
          8.759124087591236,
          10.596026490066224,
          0,
          10.256410256410255,
          7.6923076923076925,
          12.121212121212121,
          12.621359223300976,
          7.657657657657655,
          8.866995073891628,
          9.340659340659338,
          8.88888888888889,
          7.766990291262142,
          7.172995780590715
         ],
         "yaxis": "y"
        },
        {
         "hovertemplate": "solver=optimal<br>type=bounds<br>difficulty=1<br>problem=%{x}<br>improvement (%)=%{y}<extra></extra>",
         "legendgroup": "optimal, bounds",
         "line": {
          "color": "#EF553B",
          "dash": "solid"
         },
         "marker": {
          "symbol": "circle"
         },
         "mode": "lines",
         "name": "optimal, bounds",
         "orientation": "v",
         "showlegend": false,
         "type": "scatter",
         "x": [
          "1_01",
          "1_02",
          "1_03",
          "1_04",
          "1_05",
          "1_06",
          "1_07",
          "1_08",
          "1_09",
          "1_10",
          "1_11",
          "1_12",
          "1_13",
          "1_14",
          "1_15",
          "1_16",
          "1_17",
          "1_18",
          "1_19",
          "1_20",
          "1_21",
          "1_22",
          "1_23",
          "1_24",
          "1_25",
          "1_26",
          "1_27",
          "1_28",
          "1_29",
          "1_30"
         ],
         "xaxis": "x2",
         "y": [
          10.169491525423728,
          16.129032258064516,
          16.666666666666668,
          9.774436090225562,
          13.414634146341463,
          14.634146341463415,
          17.53653444676409,
          17.67068273092369,
          13.957934990439767,
          15.454545454545455,
          13.822525597269626,
          10.550458715596339,
          14.529914529914533,
          17.151162790697672,
          19.332406119610575,
          17.11590296495957,
          10.994764397905765,
          16.764361078546305,
          16.763678696158326,
          13.580246913580243,
          15.66920565832427,
          16.755037115588546,
          14.739884393063582,
          14.038657171922683,
          16.98473282442748,
          12.137681159420293,
          14.568345323741008,
          14.972273567467655,
          16.23263888888889,
          10.424710424710424
         ],
         "yaxis": "y2"
        },
        {
         "hovertemplate": "solver=lama<br>type=bounds<br>difficulty=0<br>problem=%{x}<br>improvement (%)=%{y}<extra></extra>",
         "legendgroup": "lama, bounds",
         "line": {
          "color": "#00cc96",
          "dash": "solid"
         },
         "marker": {
          "symbol": "circle"
         },
         "mode": "lines",
         "name": "lama, bounds",
         "orientation": "v",
         "showlegend": true,
         "type": "scatter",
         "x": [
          "0_01",
          "0_02",
          "0_03",
          "0_04",
          "0_05",
          "0_06",
          "0_07",
          "0_08",
          "0_09",
          "0_10",
          "0_11",
          "0_12",
          "0_13",
          "0_14",
          "0_15",
          "0_16",
          "0_17",
          "0_18",
          "0_19",
          "0_20",
          "0_21",
          "0_22",
          "0_23",
          "0_24",
          "0_25",
          "0_26",
          "0_27",
          "0_28",
          "0_29",
          "0_30"
         ],
         "xaxis": "x",
         "y": [
          0,
          0,
          -70,
          -58.333333333333336,
          -66.66666666666667,
          -173.97260273972603,
          -93.75,
          -81.25,
          -55.55555555555556,
          -15.789473684210526,
          -112.5,
          -62.16216216216216,
          -128.81355932203388,
          -38.65546218487394,
          -97.76119402985074,
          -104.69798657718121,
          -116.66666666666667,
          -53.28467153284673,
          -42.384105960264904,
          -39.285714285714285,
          -21.7948717948718,
          -87.17948717948718,
          -42.42424242424242,
          -145.14563106796115,
          -208.55855855855856,
          -183.2512315270936,
          -78.57142857142857,
          -68.88888888888889,
          -72.33009708737862,
          -113.08016877637131
         ],
         "yaxis": "y"
        },
        {
         "hovertemplate": "solver=lama<br>type=bounds<br>difficulty=1<br>problem=%{x}<br>improvement (%)=%{y}<extra></extra>",
         "legendgroup": "lama, bounds",
         "line": {
          "color": "#00cc96",
          "dash": "solid"
         },
         "marker": {
          "symbol": "circle"
         },
         "mode": "lines",
         "name": "lama, bounds",
         "orientation": "v",
         "showlegend": false,
         "type": "scatter",
         "x": [
          "1_01",
          "1_02",
          "1_03",
          "1_04",
          "1_05",
          "1_06",
          "1_07",
          "1_08",
          "1_09",
          "1_10",
          "1_11",
          "1_12",
          "1_13",
          "1_14",
          "1_15",
          "1_16",
          "1_17",
          "1_18",
          "1_19",
          "1_20",
          "1_21",
          "1_22",
          "1_23",
          "1_24",
          "1_25",
          "1_26",
          "1_27",
          "1_28",
          "1_29",
          "1_30"
         ],
         "xaxis": "x2",
         "y": [
          -174.57627118644066,
          -79.03225806451613,
          -80.05952380952381,
          null,
          -95.1219512195122,
          -40.24390243902439,
          -96.24217118997913,
          null,
          -126.57743785850862,
          -80,
          -175.59726962457339,
          -141.59021406727828,
          -118.66096866096865,
          -91.86046511627907,
          -125.31293463143254,
          -115.63342318059298,
          -109.4240837696335,
          -92.26260257913248,
          null,
          -166.55443322109988,
          -147.0076169749728,
          -97.77306468716861,
          null,
          -102.441505595117,
          -94.65648854961832,
          null,
          -122.1223021582734,
          -147.22735674676525,
          -132.6388888888889,
          null
         ],
         "yaxis": "y2"
        },
        {
         "hovertemplate": "solver=L2_D8_best<br>type=lrnn_best<br>difficulty=0<br>problem=%{x}<br>improvement (%)=%{y}<extra></extra>",
         "legendgroup": "L2_D8_best, lrnn_best",
         "line": {
          "color": "#ab63fa",
          "dash": "dot"
         },
         "marker": {
          "symbol": "circle"
         },
         "mode": "lines",
         "name": "L2_D8_best, lrnn_best",
         "orientation": "v",
         "showlegend": true,
         "type": "scatter",
         "x": [
          "0_01",
          "0_02",
          "0_03",
          "0_04",
          "0_05",
          "0_06",
          "0_07",
          "0_08",
          "0_09",
          "0_10",
          "0_11",
          "0_12",
          "0_13",
          "0_14",
          "0_15",
          "0_16",
          "0_17",
          "0_18",
          "0_19",
          "0_20",
          "0_21",
          "0_22",
          "0_23",
          "0_24",
          "0_25",
          "0_26",
          "0_27",
          "0_28",
          "0_29",
          "0_30"
         ],
         "xaxis": "x",
         "y": [
          0,
          0,
          0,
          0,
          0,
          -0.4566210045662084,
          0,
          0,
          0,
          0,
          0,
          -0.6006006006005985,
          3.9548022598870065,
          -0.8403361344537785,
          1.7412935323383154,
          0.44742729306487533,
          0,
          -8.27250608272507,
          2.8697571743929378,
          0,
          10.256410256410255,
          0.8547008547008608,
          1.0101010101010173,
          1.2944983818770353,
          0.9009009009008977,
          3.119868637110014,
          -4.3956043956043995,
          0,
          -1.941747572815527,
          -6.188466947960627
         ],
         "yaxis": "y"
        },
        {
         "hovertemplate": "solver=L2_D8_best<br>type=lrnn_best<br>difficulty=1<br>problem=%{x}<br>improvement (%)=%{y}<extra></extra>",
         "legendgroup": "L2_D8_best, lrnn_best",
         "line": {
          "color": "#ab63fa",
          "dash": "dot"
         },
         "marker": {
          "symbol": "circle"
         },
         "mode": "lines",
         "name": "L2_D8_best, lrnn_best",
         "orientation": "v",
         "showlegend": false,
         "type": "scatter",
         "x": [
          "1_01",
          "1_02",
          "1_03",
          "1_04",
          "1_05",
          "1_06",
          "1_07",
          "1_08",
          "1_09",
          "1_10",
          "1_11",
          "1_12",
          "1_13",
          "1_14",
          "1_15",
          "1_16",
          "1_17",
          "1_18",
          "1_19",
          "1_20",
          "1_21",
          "1_22",
          "1_23",
          "1_24",
          "1_25",
          "1_26",
          "1_27",
          "1_28",
          "1_29",
          "1_30"
         ],
         "xaxis": "x2",
         "y": [
          1.694915254237288,
          0,
          3.7698412698412667,
          -1.0860484544695166,
          -0.4065040650406446,
          0.8130081300813066,
          2.2268615170494006,
          1.2717536813922348,
          1.848311026131284,
          1.2121212121212077,
          0.4550625711035251,
          -0.9174311926605417,
          0.5223171889838665,
          0.1937984496123921,
          0.556328233657866,
          -1.078167115902961,
          -3.8394415357766003,
          0.7424775302852589,
          0.2716336825766406,
          -1.945379723157502,
          1.5233949945593097,
          0.6716154118062839,
          -0.6743737957610818,
          -1.2207527975584973,
          0.9223918575063632,
          -1.4492753623188352,
          -0.4196642685851336,
          -1.8176216882316714,
          -0.9837962962962897,
          -0.25740025740026473
         ],
         "yaxis": "y2"
        },
        {
         "hovertemplate": "solver=L2_D16_best<br>type=lrnn_best<br>difficulty=0<br>problem=%{x}<br>improvement (%)=%{y}<extra></extra>",
         "legendgroup": "L2_D16_best, lrnn_best",
         "line": {
          "color": "#FFA15A",
          "dash": "dot"
         },
         "marker": {
          "symbol": "circle"
         },
         "mode": "lines",
         "name": "L2_D16_best, lrnn_best",
         "orientation": "v",
         "showlegend": true,
         "type": "scatter",
         "x": [
          "0_01",
          "0_02",
          "0_03",
          "0_04",
          "0_05",
          "0_06",
          "0_07",
          "0_08",
          "0_09",
          "0_10",
          "0_11",
          "0_12",
          "0_13",
          "0_14",
          "0_15",
          "0_16",
          "0_17",
          "0_18",
          "0_19",
          "0_20",
          "0_21",
          "0_22",
          "0_23",
          "0_24",
          "0_25",
          "0_26",
          "0_27",
          "0_28",
          "0_29",
          "0_30"
         ],
         "xaxis": "x",
         "y": [
          0,
          0,
          0,
          0,
          0,
          10.958904109589039,
          0,
          0,
          0,
          0,
          0,
          3.903903903903906,
          1.1299435028248697,
          6.162464985994405,
          5.472636815920405,
          2.684563758389264,
          0,
          5.109489051094886,
          1.7660044150110312,
          0,
          8.119658119658114,
          2.5641025641025643,
          4.040404040404036,
          6.14886731391587,
          3.1531531531531503,
          3.9408866995073923,
          3.8461538461538423,
          2.2222222222222223,
          1.2944983818770353,
          0.8438818565400814
         ],
         "yaxis": "y"
        },
        {
         "hovertemplate": "solver=L2_D16_best<br>type=lrnn_best<br>difficulty=1<br>problem=%{x}<br>improvement (%)=%{y}<extra></extra>",
         "legendgroup": "L2_D16_best, lrnn_best",
         "line": {
          "color": "#FFA15A",
          "dash": "dot"
         },
         "marker": {
          "symbol": "circle"
         },
         "mode": "lines",
         "name": "L2_D16_best, lrnn_best",
         "orientation": "v",
         "showlegend": false,
         "type": "scatter",
         "x": [
          "1_01",
          "1_02",
          "1_03",
          "1_04",
          "1_05",
          "1_06",
          "1_07",
          "1_08",
          "1_09",
          "1_10",
          "1_11",
          "1_12",
          "1_13",
          "1_14",
          "1_15",
          "1_16",
          "1_17",
          "1_18",
          "1_19",
          "1_20",
          "1_21",
          "1_22",
          "1_23",
          "1_24",
          "1_25",
          "1_26",
          "1_27",
          "1_28",
          "1_29",
          "1_30"
         ],
         "xaxis": "x2",
         "y": [
          2.824858757062143,
          3.7634408602150575,
          6.746031746031753,
          -0.2506265664160437,
          4.065040650406498,
          7.723577235772352,
          7.446068197633952,
          2.945113788487272,
          3.441682600382404,
          6.666666666666662,
          1.3083048919226377,
          1.6309887869521056,
          2.184235517568848,
          1.1627906976744145,
          4.728789986091802,
          2.9649595687331574,
          1.6143106457242593,
          4.454865181711603,
          2.7939464493597272,
          1.7957351290684562,
          5.513239027928919,
          3.676210675150232,
          2.536929993577385,
          1.4920311970159397,
          2.8307888040712488,
          2.173913043478266,
          3.027577937649887,
          1.5711645101663612,
          2.343750000000002,
          0.6435006435006508
         ],
         "yaxis": "y2"
        }
       ],
       "layout": {
        "annotations": [
         {
          "font": {},
          "showarrow": false,
          "text": "difficulty=0",
          "x": 0.245,
          "xanchor": "center",
          "xref": "paper",
          "y": 1,
          "yanchor": "bottom",
          "yref": "paper"
         },
         {
          "font": {},
          "showarrow": false,
          "text": "difficulty=1",
          "x": 0.755,
          "xanchor": "center",
          "xref": "paper",
          "y": 1,
          "yanchor": "bottom",
          "yref": "paper"
         }
        ],
        "legend": {
         "title": {
          "text": "solver, type"
         },
         "tracegroupgap": 0
        },
        "margin": {
         "t": 60
        },
        "template": {
         "data": {
          "bar": [
           {
            "error_x": {
             "color": "#2a3f5f"
            },
            "error_y": {
             "color": "#2a3f5f"
            },
            "marker": {
             "line": {
              "color": "#E5ECF6",
              "width": 0.5
             },
             "pattern": {
              "fillmode": "overlay",
              "size": 10,
              "solidity": 0.2
             }
            },
            "type": "bar"
           }
          ],
          "barpolar": [
           {
            "marker": {
             "line": {
              "color": "#E5ECF6",
              "width": 0.5
             },
             "pattern": {
              "fillmode": "overlay",
              "size": 10,
              "solidity": 0.2
             }
            },
            "type": "barpolar"
           }
          ],
          "carpet": [
           {
            "aaxis": {
             "endlinecolor": "#2a3f5f",
             "gridcolor": "white",
             "linecolor": "white",
             "minorgridcolor": "white",
             "startlinecolor": "#2a3f5f"
            },
            "baxis": {
             "endlinecolor": "#2a3f5f",
             "gridcolor": "white",
             "linecolor": "white",
             "minorgridcolor": "white",
             "startlinecolor": "#2a3f5f"
            },
            "type": "carpet"
           }
          ],
          "choropleth": [
           {
            "colorbar": {
             "outlinewidth": 0,
             "ticks": ""
            },
            "type": "choropleth"
           }
          ],
          "contour": [
           {
            "colorbar": {
             "outlinewidth": 0,
             "ticks": ""
            },
            "colorscale": [
             [
              0,
              "#0d0887"
             ],
             [
              0.1111111111111111,
              "#46039f"
             ],
             [
              0.2222222222222222,
              "#7201a8"
             ],
             [
              0.3333333333333333,
              "#9c179e"
             ],
             [
              0.4444444444444444,
              "#bd3786"
             ],
             [
              0.5555555555555556,
              "#d8576b"
             ],
             [
              0.6666666666666666,
              "#ed7953"
             ],
             [
              0.7777777777777778,
              "#fb9f3a"
             ],
             [
              0.8888888888888888,
              "#fdca26"
             ],
             [
              1,
              "#f0f921"
             ]
            ],
            "type": "contour"
           }
          ],
          "contourcarpet": [
           {
            "colorbar": {
             "outlinewidth": 0,
             "ticks": ""
            },
            "type": "contourcarpet"
           }
          ],
          "heatmap": [
           {
            "colorbar": {
             "outlinewidth": 0,
             "ticks": ""
            },
            "colorscale": [
             [
              0,
              "#0d0887"
             ],
             [
              0.1111111111111111,
              "#46039f"
             ],
             [
              0.2222222222222222,
              "#7201a8"
             ],
             [
              0.3333333333333333,
              "#9c179e"
             ],
             [
              0.4444444444444444,
              "#bd3786"
             ],
             [
              0.5555555555555556,
              "#d8576b"
             ],
             [
              0.6666666666666666,
              "#ed7953"
             ],
             [
              0.7777777777777778,
              "#fb9f3a"
             ],
             [
              0.8888888888888888,
              "#fdca26"
             ],
             [
              1,
              "#f0f921"
             ]
            ],
            "type": "heatmap"
           }
          ],
          "heatmapgl": [
           {
            "colorbar": {
             "outlinewidth": 0,
             "ticks": ""
            },
            "colorscale": [
             [
              0,
              "#0d0887"
             ],
             [
              0.1111111111111111,
              "#46039f"
             ],
             [
              0.2222222222222222,
              "#7201a8"
             ],
             [
              0.3333333333333333,
              "#9c179e"
             ],
             [
              0.4444444444444444,
              "#bd3786"
             ],
             [
              0.5555555555555556,
              "#d8576b"
             ],
             [
              0.6666666666666666,
              "#ed7953"
             ],
             [
              0.7777777777777778,
              "#fb9f3a"
             ],
             [
              0.8888888888888888,
              "#fdca26"
             ],
             [
              1,
              "#f0f921"
             ]
            ],
            "type": "heatmapgl"
           }
          ],
          "histogram": [
           {
            "marker": {
             "pattern": {
              "fillmode": "overlay",
              "size": 10,
              "solidity": 0.2
             }
            },
            "type": "histogram"
           }
          ],
          "histogram2d": [
           {
            "colorbar": {
             "outlinewidth": 0,
             "ticks": ""
            },
            "colorscale": [
             [
              0,
              "#0d0887"
             ],
             [
              0.1111111111111111,
              "#46039f"
             ],
             [
              0.2222222222222222,
              "#7201a8"
             ],
             [
              0.3333333333333333,
              "#9c179e"
             ],
             [
              0.4444444444444444,
              "#bd3786"
             ],
             [
              0.5555555555555556,
              "#d8576b"
             ],
             [
              0.6666666666666666,
              "#ed7953"
             ],
             [
              0.7777777777777778,
              "#fb9f3a"
             ],
             [
              0.8888888888888888,
              "#fdca26"
             ],
             [
              1,
              "#f0f921"
             ]
            ],
            "type": "histogram2d"
           }
          ],
          "histogram2dcontour": [
           {
            "colorbar": {
             "outlinewidth": 0,
             "ticks": ""
            },
            "colorscale": [
             [
              0,
              "#0d0887"
             ],
             [
              0.1111111111111111,
              "#46039f"
             ],
             [
              0.2222222222222222,
              "#7201a8"
             ],
             [
              0.3333333333333333,
              "#9c179e"
             ],
             [
              0.4444444444444444,
              "#bd3786"
             ],
             [
              0.5555555555555556,
              "#d8576b"
             ],
             [
              0.6666666666666666,
              "#ed7953"
             ],
             [
              0.7777777777777778,
              "#fb9f3a"
             ],
             [
              0.8888888888888888,
              "#fdca26"
             ],
             [
              1,
              "#f0f921"
             ]
            ],
            "type": "histogram2dcontour"
           }
          ],
          "mesh3d": [
           {
            "colorbar": {
             "outlinewidth": 0,
             "ticks": ""
            },
            "type": "mesh3d"
           }
          ],
          "parcoords": [
           {
            "line": {
             "colorbar": {
              "outlinewidth": 0,
              "ticks": ""
             }
            },
            "type": "parcoords"
           }
          ],
          "pie": [
           {
            "automargin": true,
            "type": "pie"
           }
          ],
          "scatter": [
           {
            "fillpattern": {
             "fillmode": "overlay",
             "size": 10,
             "solidity": 0.2
            },
            "type": "scatter"
           }
          ],
          "scatter3d": [
           {
            "line": {
             "colorbar": {
              "outlinewidth": 0,
              "ticks": ""
             }
            },
            "marker": {
             "colorbar": {
              "outlinewidth": 0,
              "ticks": ""
             }
            },
            "type": "scatter3d"
           }
          ],
          "scattercarpet": [
           {
            "marker": {
             "colorbar": {
              "outlinewidth": 0,
              "ticks": ""
             }
            },
            "type": "scattercarpet"
           }
          ],
          "scattergeo": [
           {
            "marker": {
             "colorbar": {
              "outlinewidth": 0,
              "ticks": ""
             }
            },
            "type": "scattergeo"
           }
          ],
          "scattergl": [
           {
            "marker": {
             "colorbar": {
              "outlinewidth": 0,
              "ticks": ""
             }
            },
            "type": "scattergl"
           }
          ],
          "scattermapbox": [
           {
            "marker": {
             "colorbar": {
              "outlinewidth": 0,
              "ticks": ""
             }
            },
            "type": "scattermapbox"
           }
          ],
          "scatterpolar": [
           {
            "marker": {
             "colorbar": {
              "outlinewidth": 0,
              "ticks": ""
             }
            },
            "type": "scatterpolar"
           }
          ],
          "scatterpolargl": [
           {
            "marker": {
             "colorbar": {
              "outlinewidth": 0,
              "ticks": ""
             }
            },
            "type": "scatterpolargl"
           }
          ],
          "scatterternary": [
           {
            "marker": {
             "colorbar": {
              "outlinewidth": 0,
              "ticks": ""
             }
            },
            "type": "scatterternary"
           }
          ],
          "surface": [
           {
            "colorbar": {
             "outlinewidth": 0,
             "ticks": ""
            },
            "colorscale": [
             [
              0,
              "#0d0887"
             ],
             [
              0.1111111111111111,
              "#46039f"
             ],
             [
              0.2222222222222222,
              "#7201a8"
             ],
             [
              0.3333333333333333,
              "#9c179e"
             ],
             [
              0.4444444444444444,
              "#bd3786"
             ],
             [
              0.5555555555555556,
              "#d8576b"
             ],
             [
              0.6666666666666666,
              "#ed7953"
             ],
             [
              0.7777777777777778,
              "#fb9f3a"
             ],
             [
              0.8888888888888888,
              "#fdca26"
             ],
             [
              1,
              "#f0f921"
             ]
            ],
            "type": "surface"
           }
          ],
          "table": [
           {
            "cells": {
             "fill": {
              "color": "#EBF0F8"
             },
             "line": {
              "color": "white"
             }
            },
            "header": {
             "fill": {
              "color": "#C8D4E3"
             },
             "line": {
              "color": "white"
             }
            },
            "type": "table"
           }
          ]
         },
         "layout": {
          "annotationdefaults": {
           "arrowcolor": "#2a3f5f",
           "arrowhead": 0,
           "arrowwidth": 1
          },
          "autotypenumbers": "strict",
          "coloraxis": {
           "colorbar": {
            "outlinewidth": 0,
            "ticks": ""
           }
          },
          "colorscale": {
           "diverging": [
            [
             0,
             "#8e0152"
            ],
            [
             0.1,
             "#c51b7d"
            ],
            [
             0.2,
             "#de77ae"
            ],
            [
             0.3,
             "#f1b6da"
            ],
            [
             0.4,
             "#fde0ef"
            ],
            [
             0.5,
             "#f7f7f7"
            ],
            [
             0.6,
             "#e6f5d0"
            ],
            [
             0.7,
             "#b8e186"
            ],
            [
             0.8,
             "#7fbc41"
            ],
            [
             0.9,
             "#4d9221"
            ],
            [
             1,
             "#276419"
            ]
           ],
           "sequential": [
            [
             0,
             "#0d0887"
            ],
            [
             0.1111111111111111,
             "#46039f"
            ],
            [
             0.2222222222222222,
             "#7201a8"
            ],
            [
             0.3333333333333333,
             "#9c179e"
            ],
            [
             0.4444444444444444,
             "#bd3786"
            ],
            [
             0.5555555555555556,
             "#d8576b"
            ],
            [
             0.6666666666666666,
             "#ed7953"
            ],
            [
             0.7777777777777778,
             "#fb9f3a"
            ],
            [
             0.8888888888888888,
             "#fdca26"
            ],
            [
             1,
             "#f0f921"
            ]
           ],
           "sequentialminus": [
            [
             0,
             "#0d0887"
            ],
            [
             0.1111111111111111,
             "#46039f"
            ],
            [
             0.2222222222222222,
             "#7201a8"
            ],
            [
             0.3333333333333333,
             "#9c179e"
            ],
            [
             0.4444444444444444,
             "#bd3786"
            ],
            [
             0.5555555555555556,
             "#d8576b"
            ],
            [
             0.6666666666666666,
             "#ed7953"
            ],
            [
             0.7777777777777778,
             "#fb9f3a"
            ],
            [
             0.8888888888888888,
             "#fdca26"
            ],
            [
             1,
             "#f0f921"
            ]
           ]
          },
          "colorway": [
           "#636efa",
           "#EF553B",
           "#00cc96",
           "#ab63fa",
           "#FFA15A",
           "#19d3f3",
           "#FF6692",
           "#B6E880",
           "#FF97FF",
           "#FECB52"
          ],
          "font": {
           "color": "#2a3f5f"
          },
          "geo": {
           "bgcolor": "white",
           "lakecolor": "white",
           "landcolor": "#E5ECF6",
           "showlakes": true,
           "showland": true,
           "subunitcolor": "white"
          },
          "hoverlabel": {
           "align": "left"
          },
          "hovermode": "closest",
          "mapbox": {
           "style": "light"
          },
          "paper_bgcolor": "white",
          "plot_bgcolor": "#E5ECF6",
          "polar": {
           "angularaxis": {
            "gridcolor": "white",
            "linecolor": "white",
            "ticks": ""
           },
           "bgcolor": "#E5ECF6",
           "radialaxis": {
            "gridcolor": "white",
            "linecolor": "white",
            "ticks": ""
           }
          },
          "scene": {
           "xaxis": {
            "backgroundcolor": "#E5ECF6",
            "gridcolor": "white",
            "gridwidth": 2,
            "linecolor": "white",
            "showbackground": true,
            "ticks": "",
            "zerolinecolor": "white"
           },
           "yaxis": {
            "backgroundcolor": "#E5ECF6",
            "gridcolor": "white",
            "gridwidth": 2,
            "linecolor": "white",
            "showbackground": true,
            "ticks": "",
            "zerolinecolor": "white"
           },
           "zaxis": {
            "backgroundcolor": "#E5ECF6",
            "gridcolor": "white",
            "gridwidth": 2,
            "linecolor": "white",
            "showbackground": true,
            "ticks": "",
            "zerolinecolor": "white"
           }
          },
          "shapedefaults": {
           "line": {
            "color": "#2a3f5f"
           }
          },
          "ternary": {
           "aaxis": {
            "gridcolor": "white",
            "linecolor": "white",
            "ticks": ""
           },
           "baxis": {
            "gridcolor": "white",
            "linecolor": "white",
            "ticks": ""
           },
           "bgcolor": "#E5ECF6",
           "caxis": {
            "gridcolor": "white",
            "linecolor": "white",
            "ticks": ""
           }
          },
          "title": {
           "x": 0.05
          },
          "xaxis": {
           "automargin": true,
           "gridcolor": "white",
           "linecolor": "white",
           "ticks": "",
           "title": {
            "standoff": 15
           },
           "zerolinecolor": "white",
           "zerolinewidth": 2
          },
          "yaxis": {
           "automargin": true,
           "gridcolor": "white",
           "linecolor": "white",
           "ticks": "",
           "title": {
            "standoff": 15
           },
           "zerolinecolor": "white",
           "zerolinewidth": 2
          }
         }
        },
        "xaxis": {
         "anchor": "y",
         "categoryorder": "array",
         "domain": [
          0,
          0.49
         ],
         "showticklabels": true,
         "title": {
          "text": "problem"
         }
        },
        "xaxis2": {
         "anchor": "y2",
         "categoryorder": "array",
         "domain": [
          0.51,
          1
         ],
         "showticklabels": true,
         "title": {
          "text": "problem"
         }
        },
        "yaxis": {
         "anchor": "x",
         "domain": [
          0,
          1
         ],
         "range": [
          -100,
          100
         ],
         "showticklabels": true,
         "title": {
          "text": "improvement (%)"
         }
        },
        "yaxis2": {
         "anchor": "x2",
         "domain": [
          0,
          1
         ],
         "range": [
          -100,
          100
         ],
         "showticklabels": true
        }
       }
      }
     },
     "metadata": {},
     "output_type": "display_data"
    },
    {
     "name": "stdout",
     "output_type": "stream",
     "text": [
      "ferry\n"
     ]
    },
    {
     "data": {
      "application/vnd.plotly.v1+json": {
       "config": {
        "plotlyServerURL": "https://plot.ly"
       },
       "data": [
        {
         "hovertemplate": "solver=baseline<br>type=bounds<br>difficulty=0<br>problem=%{x}<br>improvement (%)=%{y}<extra></extra>",
         "legendgroup": "baseline, bounds",
         "line": {
          "color": "#636efa",
          "dash": "solid"
         },
         "marker": {
          "symbol": "circle"
         },
         "mode": "lines",
         "name": "baseline, bounds",
         "orientation": "v",
         "showlegend": true,
         "type": "scatter",
         "x": [
          "0_01",
          "0_02",
          "0_03",
          "0_04",
          "0_05",
          "0_06",
          "0_07",
          "0_08",
          "0_09",
          "0_10",
          "0_11",
          "0_12",
          "0_13",
          "0_14",
          "0_15",
          "0_16",
          "0_17",
          "0_18",
          "0_19",
          "0_20",
          "0_21",
          "0_22",
          "0_23",
          "0_24",
          "0_25",
          "0_26",
          "0_27",
          "0_28",
          "0_29",
          "0_30"
         ],
         "xaxis": "x",
         "y": [
          0,
          0,
          0,
          0,
          0,
          0,
          0,
          0,
          0,
          0,
          0,
          0,
          0,
          0,
          0,
          0,
          0,
          0,
          0,
          0,
          0,
          0,
          0,
          0,
          0,
          0,
          0,
          0,
          0,
          0
         ],
         "yaxis": "y"
        },
        {
         "hovertemplate": "solver=baseline<br>type=bounds<br>difficulty=1<br>problem=%{x}<br>improvement (%)=%{y}<extra></extra>",
         "legendgroup": "baseline, bounds",
         "line": {
          "color": "#636efa",
          "dash": "solid"
         },
         "marker": {
          "symbol": "circle"
         },
         "mode": "lines",
         "name": "baseline, bounds",
         "orientation": "v",
         "showlegend": false,
         "type": "scatter",
         "x": [
          "1_01",
          "1_02",
          "1_03",
          "1_04",
          "1_05",
          "1_06",
          "1_07",
          "1_08",
          "1_09",
          "1_10",
          "1_11",
          "1_12",
          "1_13",
          "1_14",
          "1_15",
          "1_16",
          "1_17",
          "1_18",
          "1_19",
          "1_20",
          "1_21",
          "1_22",
          "1_23",
          "1_24",
          "1_25",
          "1_26",
          "1_27",
          "1_28",
          "1_29",
          "1_30"
         ],
         "xaxis": "x2",
         "y": [
          0,
          0,
          0,
          0,
          0,
          0,
          0,
          0,
          0,
          0,
          0,
          0,
          0,
          0,
          0,
          0,
          0,
          0,
          0,
          0,
          0,
          0,
          0,
          0,
          0,
          0,
          0,
          0,
          0,
          0
         ],
         "yaxis": "y2"
        },
        {
         "hovertemplate": "solver=optimal<br>type=bounds<br>difficulty=0<br>problem=%{x}<br>improvement (%)=%{y}<extra></extra>",
         "legendgroup": "optimal, bounds",
         "line": {
          "color": "#EF553B",
          "dash": "solid"
         },
         "marker": {
          "symbol": "circle"
         },
         "mode": "lines",
         "name": "optimal, bounds",
         "orientation": "v",
         "showlegend": true,
         "type": "scatter",
         "x": [
          "0_01",
          "0_02",
          "0_03",
          "0_04",
          "0_05",
          "0_06",
          "0_07",
          "0_08",
          "0_09",
          "0_10",
          "0_11",
          "0_12",
          "0_13",
          "0_14",
          "0_15",
          "0_16",
          "0_17",
          "0_18",
          "0_19",
          "0_20",
          "0_21",
          "0_22",
          "0_23",
          "0_24",
          "0_25",
          "0_26",
          "0_27",
          "0_28",
          "0_29",
          "0_30"
         ],
         "xaxis": "x",
         "y": [
          0,
          0,
          0,
          0,
          0,
          5.2631578947368425,
          1.041666666666663,
          2.542372881355938,
          4.761904761904759,
          2.985074626865674,
          3.846153846153844,
          1.3605442176870701,
          6.626506024096393,
          5.17241379310344,
          2.116402116402109,
          4.411764705882346,
          null,
          4.761904761904762,
          1.7857142857142796,
          null,
          null,
          null,
          null,
          null,
          null,
          null,
          null,
          null,
          null,
          null
         ],
         "yaxis": "y"
        },
        {
         "hovertemplate": "solver=optimal<br>type=bounds<br>difficulty=1<br>problem=%{x}<br>improvement (%)=%{y}<extra></extra>",
         "legendgroup": "optimal, bounds",
         "line": {
          "color": "#EF553B",
          "dash": "solid"
         },
         "marker": {
          "symbol": "circle"
         },
         "mode": "lines",
         "name": "optimal, bounds",
         "orientation": "v",
         "showlegend": false,
         "type": "scatter",
         "x": [
          "1_01",
          "1_02",
          "1_03",
          "1_04",
          "1_05",
          "1_06",
          "1_07",
          "1_08",
          "1_09",
          "1_10",
          "1_11",
          "1_12",
          "1_13",
          "1_14",
          "1_15",
          "1_16",
          "1_17",
          "1_18",
          "1_19",
          "1_20",
          "1_21",
          "1_22",
          "1_23",
          "1_24",
          "1_25",
          "1_26",
          "1_27",
          "1_28",
          "1_29",
          "1_30"
         ],
         "xaxis": "x2",
         "y": [
          2.7027027027027026,
          5.622489959839352,
          null,
          null,
          null,
          null,
          null,
          null,
          null,
          null,
          null,
          null,
          null,
          null,
          null,
          null,
          null,
          null,
          null,
          null,
          null,
          null,
          null,
          null,
          null,
          null,
          null,
          null,
          null,
          null
         ],
         "yaxis": "y2"
        },
        {
         "hovertemplate": "solver=lama<br>type=bounds<br>difficulty=0<br>problem=%{x}<br>improvement (%)=%{y}<extra></extra>",
         "legendgroup": "lama, bounds",
         "line": {
          "color": "#00cc96",
          "dash": "solid"
         },
         "marker": {
          "symbol": "circle"
         },
         "mode": "lines",
         "name": "lama, bounds",
         "orientation": "v",
         "showlegend": true,
         "type": "scatter",
         "x": [
          "0_01",
          "0_02",
          "0_03",
          "0_04",
          "0_05",
          "0_06",
          "0_07",
          "0_08",
          "0_09",
          "0_10",
          "0_11",
          "0_12",
          "0_13",
          "0_14",
          "0_15",
          "0_16",
          "0_17",
          "0_18",
          "0_19",
          "0_20",
          "0_21",
          "0_22",
          "0_23",
          "0_24",
          "0_25",
          "0_26",
          "0_27",
          "0_28",
          "0_29",
          "0_30"
         ],
         "xaxis": "x",
         "y": [
          0,
          -12.5,
          -16.666666666666668,
          -27.272727272727273,
          -33.333333333333336,
          -5.2631578947368425,
          -19.79166666666667,
          -10.169491525423723,
          -7.142857142857145,
          -23.13432835820895,
          -18.589743589743595,
          -29.251700680272116,
          -8.433734939759027,
          -14.942528735632191,
          -24.338624338624346,
          -20.09803921568628,
          -21.681415929203535,
          -16.666666666666668,
          -22.76785714285715,
          -10.465116279069765,
          -23.01587301587302,
          -20.078740157480322,
          -24.53531598513012,
          -26.279863481228663,
          -14.147909967845655,
          -20.860927152317885,
          -18.89250814332248,
          -16.959064327485372,
          -19.047619047619044,
          -12
         ],
         "yaxis": "y"
        },
        {
         "hovertemplate": "solver=lama<br>type=bounds<br>difficulty=1<br>problem=%{x}<br>improvement (%)=%{y}<extra></extra>",
         "legendgroup": "lama, bounds",
         "line": {
          "color": "#00cc96",
          "dash": "solid"
         },
         "marker": {
          "symbol": "circle"
         },
         "mode": "lines",
         "name": "lama, bounds",
         "orientation": "v",
         "showlegend": false,
         "type": "scatter",
         "x": [
          "1_01",
          "1_02",
          "1_03",
          "1_04",
          "1_05",
          "1_06",
          "1_07",
          "1_08",
          "1_09",
          "1_10",
          "1_11",
          "1_12",
          "1_13",
          "1_14",
          "1_15",
          "1_16",
          "1_17",
          "1_18",
          "1_19",
          "1_20",
          "1_21",
          "1_22",
          "1_23",
          "1_24",
          "1_25",
          "1_26",
          "1_27",
          "1_28",
          "1_29",
          "1_30"
         ],
         "xaxis": "x2",
         "y": [
          -21.62162162162162,
          -10.441767068273098,
          -25.81699346405228,
          -21.037463976945237,
          -23.69791666666667,
          -20.171673819742487,
          -24.760076775431855,
          -27.071823204419896,
          -22.16828478964402,
          -20.481927710843365,
          -23.96121883656509,
          -22.27912932138285,
          -19.56521739130435,
          -23.41407151095732,
          -21.76724137931035,
          -18.902439024390237,
          -21.015936254980073,
          -20.037807183364844,
          -18.72340425531915,
          -20.822622107969146,
          -20.408163265306122,
          -23.137254901960784,
          -20.117907148120864,
          -21.611982881597726,
          -23.62258953168045,
          -25.582944703530984,
          -19.91094147582698,
          -20.440251572327043,
          -25.82781456953643,
          -23.036649214659683
         ],
         "yaxis": "y2"
        },
        {
         "hovertemplate": "solver=L2_D8_best<br>type=lrnn_best<br>difficulty=0<br>problem=%{x}<br>improvement (%)=%{y}<extra></extra>",
         "legendgroup": "L2_D8_best, lrnn_best",
         "line": {
          "color": "#ab63fa",
          "dash": "dot"
         },
         "marker": {
          "symbol": "circle"
         },
         "mode": "lines",
         "name": "L2_D8_best, lrnn_best",
         "orientation": "v",
         "showlegend": true,
         "type": "scatter",
         "x": [
          "0_01",
          "0_02",
          "0_03",
          "0_04",
          "0_05",
          "0_06",
          "0_07",
          "0_08",
          "0_09",
          "0_10",
          "0_11",
          "0_12",
          "0_13",
          "0_14",
          "0_15",
          "0_16",
          "0_17",
          "0_18",
          "0_19",
          "0_20",
          "0_21",
          "0_22",
          "0_23",
          "0_24",
          "0_25",
          "0_26",
          "0_27",
          "0_28",
          "0_29",
          "0_30"
         ],
         "xaxis": "x",
         "y": [
          0,
          0,
          0,
          0,
          0,
          5.2631578947368425,
          1.041666666666663,
          2.542372881355938,
          4.761904761904759,
          2.985074626865674,
          3.846153846153844,
          1.3605442176870701,
          6.626506024096393,
          5.17241379310344,
          2.116402116402109,
          4.411764705882346,
          0.44247787610620093,
          4.761904761904762,
          1.7857142857142796,
          5.0387596899224825,
          2.777777777777775,
          1.5748031496062938,
          2.7261462205700027,
          2.730375426621163,
          3.001071811361201,
          3.973509933774832,
          3.9087947882736134,
          3.508771929824569,
          4.761904761904766,
          3.111111111111105
         ],
         "yaxis": "y"
        },
        {
         "hovertemplate": "solver=L2_D8_best<br>type=lrnn_best<br>difficulty=1<br>problem=%{x}<br>improvement (%)=%{y}<extra></extra>",
         "legendgroup": "L2_D8_best, lrnn_best",
         "line": {
          "color": "#ab63fa",
          "dash": "dot"
         },
         "marker": {
          "symbol": "circle"
         },
         "mode": "lines",
         "name": "L2_D8_best, lrnn_best",
         "orientation": "v",
         "showlegend": false,
         "type": "scatter",
         "x": [
          "1_01",
          "1_02",
          "1_03",
          "1_04",
          "1_05",
          "1_06",
          "1_07",
          "1_08",
          "1_09",
          "1_10",
          "1_11",
          "1_12",
          "1_13",
          "1_14",
          "1_15",
          "1_16",
          "1_17",
          "1_18",
          "1_19",
          "1_20",
          "1_21",
          "1_22",
          "1_23",
          "1_24",
          "1_25",
          "1_26",
          "1_27",
          "1_28",
          "1_29",
          "1_30"
         ],
         "xaxis": "x2",
         "y": [
          2.7027027027027026,
          5.622489959839352,
          0.32679738562091964,
          3.4582132564841577,
          3.211805555555558,
          4.506437768240346,
          4.030710172744724,
          4.235727440147325,
          2.642934196332254,
          2.6104417670682745,
          3.739612188365655,
          2.4754588134869695,
          3.18035426731078,
          4.652056901191847,
          3.556034482758618,
          3.7940379403794044,
          2.8884462151394477,
          3.434152488972898,
          3.8297872340425534,
          3.598971722365041,
          4.353741496598635,
          4.313725490196078,
          3.709162367968557,
          3.3523537803138295,
          2.892561983471067,
          4.286031534532537,
          3.5199321458863433,
          3.7735849056603774,
          3.6724864539434043,
          4.304828388598025
         ],
         "yaxis": "y2"
        },
        {
         "hovertemplate": "solver=L2_D16_best<br>type=lrnn_best<br>difficulty=0<br>problem=%{x}<br>improvement (%)=%{y}<extra></extra>",
         "legendgroup": "L2_D16_best, lrnn_best",
         "line": {
          "color": "#FFA15A",
          "dash": "dot"
         },
         "marker": {
          "symbol": "circle"
         },
         "mode": "lines",
         "name": "L2_D16_best, lrnn_best",
         "orientation": "v",
         "showlegend": true,
         "type": "scatter",
         "x": [
          "0_01",
          "0_02",
          "0_03",
          "0_04",
          "0_05",
          "0_06",
          "0_07",
          "0_08",
          "0_09",
          "0_10",
          "0_11",
          "0_12",
          "0_13",
          "0_14",
          "0_15",
          "0_16",
          "0_17",
          "0_18",
          "0_19",
          "0_20",
          "0_21",
          "0_22",
          "0_23",
          "0_24",
          "0_25",
          "0_26",
          "0_27",
          "0_28",
          "0_29",
          "0_30"
         ],
         "xaxis": "x",
         "y": [
          0,
          0,
          0,
          0,
          0,
          5.2631578947368425,
          1.041666666666663,
          2.542372881355938,
          4.761904761904759,
          2.985074626865674,
          3.846153846153844,
          1.3605442176870701,
          6.626506024096393,
          3.256704980842911,
          2.116402116402109,
          4.411764705882346,
          0.44247787610620093,
          4.761904761904762,
          0.29761904761904656,
          5.0387596899224825,
          2.777777777777775,
          0.9186351706036643,
          3.345724907063192,
          2.730375426621163,
          3.5369774919614194,
          3.973509933774832,
          3.9087947882736134,
          3.508771929824569,
          4.761904761904766,
          3.111111111111105
         ],
         "yaxis": "y"
        },
        {
         "hovertemplate": "solver=L2_D16_best<br>type=lrnn_best<br>difficulty=1<br>problem=%{x}<br>improvement (%)=%{y}<extra></extra>",
         "legendgroup": "L2_D16_best, lrnn_best",
         "line": {
          "color": "#FFA15A",
          "dash": "dot"
         },
         "marker": {
          "symbol": "circle"
         },
         "mode": "lines",
         "name": "L2_D16_best, lrnn_best",
         "orientation": "v",
         "showlegend": false,
         "type": "scatter",
         "x": [
          "1_01",
          "1_02",
          "1_03",
          "1_04",
          "1_05",
          "1_06",
          "1_07",
          "1_08",
          "1_09",
          "1_10",
          "1_11",
          "1_12",
          "1_13",
          "1_14",
          "1_15",
          "1_16",
          "1_17",
          "1_18",
          "1_19",
          "1_20",
          "1_21",
          "1_22",
          "1_23",
          "1_24",
          "1_25",
          "1_26",
          "1_27",
          "1_28",
          "1_29",
          "1_30"
         ],
         "xaxis": "x2",
         "y": [
          2.7027027027027026,
          5.622489959839352,
          0.32679738562091964,
          2.977905859750255,
          3.64583333333333,
          3.791130185979969,
          4.030710172744724,
          4.235727440147325,
          2.9126213592232966,
          2.3594377510040316,
          3.5087719298245585,
          2.6888604353393015,
          3.3816425120772915,
          4.8442906574394495,
          3.556034482758618,
          3.455284552845534,
          2.3904382470119576,
          3.434152488972898,
          3.8297872340425534,
          3.456155384175948,
          4.489795918367347,
          4.052287581699351,
          3.709162367968557,
          2.995720399429379,
          2.892561983471067,
          4.397068620919383,
          3.5199321458863433,
          3.3542976939203415,
          3.572145293999601,
          4.110917199922433
         ],
         "yaxis": "y2"
        }
       ],
       "layout": {
        "annotations": [
         {
          "font": {},
          "showarrow": false,
          "text": "difficulty=0",
          "x": 0.245,
          "xanchor": "center",
          "xref": "paper",
          "y": 1,
          "yanchor": "bottom",
          "yref": "paper"
         },
         {
          "font": {},
          "showarrow": false,
          "text": "difficulty=1",
          "x": 0.755,
          "xanchor": "center",
          "xref": "paper",
          "y": 1,
          "yanchor": "bottom",
          "yref": "paper"
         }
        ],
        "legend": {
         "title": {
          "text": "solver, type"
         },
         "tracegroupgap": 0
        },
        "margin": {
         "t": 60
        },
        "template": {
         "data": {
          "bar": [
           {
            "error_x": {
             "color": "#2a3f5f"
            },
            "error_y": {
             "color": "#2a3f5f"
            },
            "marker": {
             "line": {
              "color": "#E5ECF6",
              "width": 0.5
             },
             "pattern": {
              "fillmode": "overlay",
              "size": 10,
              "solidity": 0.2
             }
            },
            "type": "bar"
           }
          ],
          "barpolar": [
           {
            "marker": {
             "line": {
              "color": "#E5ECF6",
              "width": 0.5
             },
             "pattern": {
              "fillmode": "overlay",
              "size": 10,
              "solidity": 0.2
             }
            },
            "type": "barpolar"
           }
          ],
          "carpet": [
           {
            "aaxis": {
             "endlinecolor": "#2a3f5f",
             "gridcolor": "white",
             "linecolor": "white",
             "minorgridcolor": "white",
             "startlinecolor": "#2a3f5f"
            },
            "baxis": {
             "endlinecolor": "#2a3f5f",
             "gridcolor": "white",
             "linecolor": "white",
             "minorgridcolor": "white",
             "startlinecolor": "#2a3f5f"
            },
            "type": "carpet"
           }
          ],
          "choropleth": [
           {
            "colorbar": {
             "outlinewidth": 0,
             "ticks": ""
            },
            "type": "choropleth"
           }
          ],
          "contour": [
           {
            "colorbar": {
             "outlinewidth": 0,
             "ticks": ""
            },
            "colorscale": [
             [
              0,
              "#0d0887"
             ],
             [
              0.1111111111111111,
              "#46039f"
             ],
             [
              0.2222222222222222,
              "#7201a8"
             ],
             [
              0.3333333333333333,
              "#9c179e"
             ],
             [
              0.4444444444444444,
              "#bd3786"
             ],
             [
              0.5555555555555556,
              "#d8576b"
             ],
             [
              0.6666666666666666,
              "#ed7953"
             ],
             [
              0.7777777777777778,
              "#fb9f3a"
             ],
             [
              0.8888888888888888,
              "#fdca26"
             ],
             [
              1,
              "#f0f921"
             ]
            ],
            "type": "contour"
           }
          ],
          "contourcarpet": [
           {
            "colorbar": {
             "outlinewidth": 0,
             "ticks": ""
            },
            "type": "contourcarpet"
           }
          ],
          "heatmap": [
           {
            "colorbar": {
             "outlinewidth": 0,
             "ticks": ""
            },
            "colorscale": [
             [
              0,
              "#0d0887"
             ],
             [
              0.1111111111111111,
              "#46039f"
             ],
             [
              0.2222222222222222,
              "#7201a8"
             ],
             [
              0.3333333333333333,
              "#9c179e"
             ],
             [
              0.4444444444444444,
              "#bd3786"
             ],
             [
              0.5555555555555556,
              "#d8576b"
             ],
             [
              0.6666666666666666,
              "#ed7953"
             ],
             [
              0.7777777777777778,
              "#fb9f3a"
             ],
             [
              0.8888888888888888,
              "#fdca26"
             ],
             [
              1,
              "#f0f921"
             ]
            ],
            "type": "heatmap"
           }
          ],
          "heatmapgl": [
           {
            "colorbar": {
             "outlinewidth": 0,
             "ticks": ""
            },
            "colorscale": [
             [
              0,
              "#0d0887"
             ],
             [
              0.1111111111111111,
              "#46039f"
             ],
             [
              0.2222222222222222,
              "#7201a8"
             ],
             [
              0.3333333333333333,
              "#9c179e"
             ],
             [
              0.4444444444444444,
              "#bd3786"
             ],
             [
              0.5555555555555556,
              "#d8576b"
             ],
             [
              0.6666666666666666,
              "#ed7953"
             ],
             [
              0.7777777777777778,
              "#fb9f3a"
             ],
             [
              0.8888888888888888,
              "#fdca26"
             ],
             [
              1,
              "#f0f921"
             ]
            ],
            "type": "heatmapgl"
           }
          ],
          "histogram": [
           {
            "marker": {
             "pattern": {
              "fillmode": "overlay",
              "size": 10,
              "solidity": 0.2
             }
            },
            "type": "histogram"
           }
          ],
          "histogram2d": [
           {
            "colorbar": {
             "outlinewidth": 0,
             "ticks": ""
            },
            "colorscale": [
             [
              0,
              "#0d0887"
             ],
             [
              0.1111111111111111,
              "#46039f"
             ],
             [
              0.2222222222222222,
              "#7201a8"
             ],
             [
              0.3333333333333333,
              "#9c179e"
             ],
             [
              0.4444444444444444,
              "#bd3786"
             ],
             [
              0.5555555555555556,
              "#d8576b"
             ],
             [
              0.6666666666666666,
              "#ed7953"
             ],
             [
              0.7777777777777778,
              "#fb9f3a"
             ],
             [
              0.8888888888888888,
              "#fdca26"
             ],
             [
              1,
              "#f0f921"
             ]
            ],
            "type": "histogram2d"
           }
          ],
          "histogram2dcontour": [
           {
            "colorbar": {
             "outlinewidth": 0,
             "ticks": ""
            },
            "colorscale": [
             [
              0,
              "#0d0887"
             ],
             [
              0.1111111111111111,
              "#46039f"
             ],
             [
              0.2222222222222222,
              "#7201a8"
             ],
             [
              0.3333333333333333,
              "#9c179e"
             ],
             [
              0.4444444444444444,
              "#bd3786"
             ],
             [
              0.5555555555555556,
              "#d8576b"
             ],
             [
              0.6666666666666666,
              "#ed7953"
             ],
             [
              0.7777777777777778,
              "#fb9f3a"
             ],
             [
              0.8888888888888888,
              "#fdca26"
             ],
             [
              1,
              "#f0f921"
             ]
            ],
            "type": "histogram2dcontour"
           }
          ],
          "mesh3d": [
           {
            "colorbar": {
             "outlinewidth": 0,
             "ticks": ""
            },
            "type": "mesh3d"
           }
          ],
          "parcoords": [
           {
            "line": {
             "colorbar": {
              "outlinewidth": 0,
              "ticks": ""
             }
            },
            "type": "parcoords"
           }
          ],
          "pie": [
           {
            "automargin": true,
            "type": "pie"
           }
          ],
          "scatter": [
           {
            "fillpattern": {
             "fillmode": "overlay",
             "size": 10,
             "solidity": 0.2
            },
            "type": "scatter"
           }
          ],
          "scatter3d": [
           {
            "line": {
             "colorbar": {
              "outlinewidth": 0,
              "ticks": ""
             }
            },
            "marker": {
             "colorbar": {
              "outlinewidth": 0,
              "ticks": ""
             }
            },
            "type": "scatter3d"
           }
          ],
          "scattercarpet": [
           {
            "marker": {
             "colorbar": {
              "outlinewidth": 0,
              "ticks": ""
             }
            },
            "type": "scattercarpet"
           }
          ],
          "scattergeo": [
           {
            "marker": {
             "colorbar": {
              "outlinewidth": 0,
              "ticks": ""
             }
            },
            "type": "scattergeo"
           }
          ],
          "scattergl": [
           {
            "marker": {
             "colorbar": {
              "outlinewidth": 0,
              "ticks": ""
             }
            },
            "type": "scattergl"
           }
          ],
          "scattermapbox": [
           {
            "marker": {
             "colorbar": {
              "outlinewidth": 0,
              "ticks": ""
             }
            },
            "type": "scattermapbox"
           }
          ],
          "scatterpolar": [
           {
            "marker": {
             "colorbar": {
              "outlinewidth": 0,
              "ticks": ""
             }
            },
            "type": "scatterpolar"
           }
          ],
          "scatterpolargl": [
           {
            "marker": {
             "colorbar": {
              "outlinewidth": 0,
              "ticks": ""
             }
            },
            "type": "scatterpolargl"
           }
          ],
          "scatterternary": [
           {
            "marker": {
             "colorbar": {
              "outlinewidth": 0,
              "ticks": ""
             }
            },
            "type": "scatterternary"
           }
          ],
          "surface": [
           {
            "colorbar": {
             "outlinewidth": 0,
             "ticks": ""
            },
            "colorscale": [
             [
              0,
              "#0d0887"
             ],
             [
              0.1111111111111111,
              "#46039f"
             ],
             [
              0.2222222222222222,
              "#7201a8"
             ],
             [
              0.3333333333333333,
              "#9c179e"
             ],
             [
              0.4444444444444444,
              "#bd3786"
             ],
             [
              0.5555555555555556,
              "#d8576b"
             ],
             [
              0.6666666666666666,
              "#ed7953"
             ],
             [
              0.7777777777777778,
              "#fb9f3a"
             ],
             [
              0.8888888888888888,
              "#fdca26"
             ],
             [
              1,
              "#f0f921"
             ]
            ],
            "type": "surface"
           }
          ],
          "table": [
           {
            "cells": {
             "fill": {
              "color": "#EBF0F8"
             },
             "line": {
              "color": "white"
             }
            },
            "header": {
             "fill": {
              "color": "#C8D4E3"
             },
             "line": {
              "color": "white"
             }
            },
            "type": "table"
           }
          ]
         },
         "layout": {
          "annotationdefaults": {
           "arrowcolor": "#2a3f5f",
           "arrowhead": 0,
           "arrowwidth": 1
          },
          "autotypenumbers": "strict",
          "coloraxis": {
           "colorbar": {
            "outlinewidth": 0,
            "ticks": ""
           }
          },
          "colorscale": {
           "diverging": [
            [
             0,
             "#8e0152"
            ],
            [
             0.1,
             "#c51b7d"
            ],
            [
             0.2,
             "#de77ae"
            ],
            [
             0.3,
             "#f1b6da"
            ],
            [
             0.4,
             "#fde0ef"
            ],
            [
             0.5,
             "#f7f7f7"
            ],
            [
             0.6,
             "#e6f5d0"
            ],
            [
             0.7,
             "#b8e186"
            ],
            [
             0.8,
             "#7fbc41"
            ],
            [
             0.9,
             "#4d9221"
            ],
            [
             1,
             "#276419"
            ]
           ],
           "sequential": [
            [
             0,
             "#0d0887"
            ],
            [
             0.1111111111111111,
             "#46039f"
            ],
            [
             0.2222222222222222,
             "#7201a8"
            ],
            [
             0.3333333333333333,
             "#9c179e"
            ],
            [
             0.4444444444444444,
             "#bd3786"
            ],
            [
             0.5555555555555556,
             "#d8576b"
            ],
            [
             0.6666666666666666,
             "#ed7953"
            ],
            [
             0.7777777777777778,
             "#fb9f3a"
            ],
            [
             0.8888888888888888,
             "#fdca26"
            ],
            [
             1,
             "#f0f921"
            ]
           ],
           "sequentialminus": [
            [
             0,
             "#0d0887"
            ],
            [
             0.1111111111111111,
             "#46039f"
            ],
            [
             0.2222222222222222,
             "#7201a8"
            ],
            [
             0.3333333333333333,
             "#9c179e"
            ],
            [
             0.4444444444444444,
             "#bd3786"
            ],
            [
             0.5555555555555556,
             "#d8576b"
            ],
            [
             0.6666666666666666,
             "#ed7953"
            ],
            [
             0.7777777777777778,
             "#fb9f3a"
            ],
            [
             0.8888888888888888,
             "#fdca26"
            ],
            [
             1,
             "#f0f921"
            ]
           ]
          },
          "colorway": [
           "#636efa",
           "#EF553B",
           "#00cc96",
           "#ab63fa",
           "#FFA15A",
           "#19d3f3",
           "#FF6692",
           "#B6E880",
           "#FF97FF",
           "#FECB52"
          ],
          "font": {
           "color": "#2a3f5f"
          },
          "geo": {
           "bgcolor": "white",
           "lakecolor": "white",
           "landcolor": "#E5ECF6",
           "showlakes": true,
           "showland": true,
           "subunitcolor": "white"
          },
          "hoverlabel": {
           "align": "left"
          },
          "hovermode": "closest",
          "mapbox": {
           "style": "light"
          },
          "paper_bgcolor": "white",
          "plot_bgcolor": "#E5ECF6",
          "polar": {
           "angularaxis": {
            "gridcolor": "white",
            "linecolor": "white",
            "ticks": ""
           },
           "bgcolor": "#E5ECF6",
           "radialaxis": {
            "gridcolor": "white",
            "linecolor": "white",
            "ticks": ""
           }
          },
          "scene": {
           "xaxis": {
            "backgroundcolor": "#E5ECF6",
            "gridcolor": "white",
            "gridwidth": 2,
            "linecolor": "white",
            "showbackground": true,
            "ticks": "",
            "zerolinecolor": "white"
           },
           "yaxis": {
            "backgroundcolor": "#E5ECF6",
            "gridcolor": "white",
            "gridwidth": 2,
            "linecolor": "white",
            "showbackground": true,
            "ticks": "",
            "zerolinecolor": "white"
           },
           "zaxis": {
            "backgroundcolor": "#E5ECF6",
            "gridcolor": "white",
            "gridwidth": 2,
            "linecolor": "white",
            "showbackground": true,
            "ticks": "",
            "zerolinecolor": "white"
           }
          },
          "shapedefaults": {
           "line": {
            "color": "#2a3f5f"
           }
          },
          "ternary": {
           "aaxis": {
            "gridcolor": "white",
            "linecolor": "white",
            "ticks": ""
           },
           "baxis": {
            "gridcolor": "white",
            "linecolor": "white",
            "ticks": ""
           },
           "bgcolor": "#E5ECF6",
           "caxis": {
            "gridcolor": "white",
            "linecolor": "white",
            "ticks": ""
           }
          },
          "title": {
           "x": 0.05
          },
          "xaxis": {
           "automargin": true,
           "gridcolor": "white",
           "linecolor": "white",
           "ticks": "",
           "title": {
            "standoff": 15
           },
           "zerolinecolor": "white",
           "zerolinewidth": 2
          },
          "yaxis": {
           "automargin": true,
           "gridcolor": "white",
           "linecolor": "white",
           "ticks": "",
           "title": {
            "standoff": 15
           },
           "zerolinecolor": "white",
           "zerolinewidth": 2
          }
         }
        },
        "xaxis": {
         "anchor": "y",
         "categoryorder": "array",
         "domain": [
          0,
          0.49
         ],
         "showticklabels": true,
         "title": {
          "text": "problem"
         }
        },
        "xaxis2": {
         "anchor": "y2",
         "categoryorder": "array",
         "domain": [
          0.51,
          1
         ],
         "showticklabels": true,
         "title": {
          "text": "problem"
         }
        },
        "yaxis": {
         "anchor": "x",
         "domain": [
          0,
          1
         ],
         "range": [
          -100,
          100
         ],
         "showticklabels": true,
         "title": {
          "text": "improvement (%)"
         }
        },
        "yaxis2": {
         "anchor": "x2",
         "domain": [
          0,
          1
         ],
         "range": [
          -100,
          100
         ],
         "showticklabels": true
        }
       }
      }
     },
     "metadata": {},
     "output_type": "display_data"
    },
    {
     "name": "stdout",
     "output_type": "stream",
     "text": [
      "satellite\n"
     ]
    },
    {
     "data": {
      "application/vnd.plotly.v1+json": {
       "config": {
        "plotlyServerURL": "https://plot.ly"
       },
       "data": [
        {
         "hovertemplate": "solver=baseline<br>type=bounds<br>difficulty=0<br>problem=%{x}<br>improvement (%)=%{y}<extra></extra>",
         "legendgroup": "baseline, bounds",
         "line": {
          "color": "#636efa",
          "dash": "solid"
         },
         "marker": {
          "symbol": "circle"
         },
         "mode": "lines",
         "name": "baseline, bounds",
         "orientation": "v",
         "showlegend": true,
         "type": "scatter",
         "x": [
          "0_01",
          "0_02",
          "0_03",
          "0_04",
          "0_05",
          "0_06",
          "0_07",
          "0_08",
          "0_09",
          "0_10",
          "0_11",
          "0_12",
          "0_13",
          "0_14",
          "0_15",
          "0_16",
          "0_17",
          "0_18",
          "0_19",
          "0_20",
          "0_21",
          "0_22",
          "0_23",
          "0_24",
          "0_25",
          "0_26",
          "0_27",
          "0_28",
          "0_29",
          "0_30"
         ],
         "xaxis": "x",
         "y": [
          0,
          0,
          0,
          0,
          0,
          0,
          0,
          0,
          0,
          0,
          0,
          0,
          0,
          0,
          0,
          0,
          0,
          0,
          0,
          0,
          0,
          0,
          0,
          0,
          0,
          0,
          0,
          0,
          0,
          0
         ],
         "yaxis": "y"
        },
        {
         "hovertemplate": "solver=baseline<br>type=bounds<br>difficulty=1<br>problem=%{x}<br>improvement (%)=%{y}<extra></extra>",
         "legendgroup": "baseline, bounds",
         "line": {
          "color": "#636efa",
          "dash": "solid"
         },
         "marker": {
          "symbol": "circle"
         },
         "mode": "lines",
         "name": "baseline, bounds",
         "orientation": "v",
         "showlegend": false,
         "type": "scatter",
         "x": [
          "1_01",
          "1_02",
          "1_03",
          "1_04",
          "1_05",
          "1_06",
          "1_07",
          "1_08",
          "1_09",
          "1_10",
          "1_11",
          "1_12",
          "1_13",
          "1_14",
          "1_15",
          "1_16",
          "1_17",
          "1_18",
          "1_19",
          "1_20",
          "1_21",
          "1_22",
          "1_23",
          "1_24",
          "1_25",
          "1_26",
          "1_27",
          "1_28",
          "1_29",
          "1_30"
         ],
         "xaxis": "x2",
         "y": [
          0,
          0,
          0,
          0,
          0,
          0,
          0,
          0,
          0,
          0,
          0,
          0,
          0,
          0,
          0,
          0,
          0,
          0,
          0,
          0,
          0,
          0,
          0,
          0,
          0,
          0,
          0,
          0,
          0,
          0
         ],
         "yaxis": "y2"
        },
        {
         "hovertemplate": "solver=optimal<br>type=bounds<br>difficulty=0<br>problem=%{x}<br>improvement (%)=%{y}<extra></extra>",
         "legendgroup": "optimal, bounds",
         "line": {
          "color": "#EF553B",
          "dash": "solid"
         },
         "marker": {
          "symbol": "circle"
         },
         "mode": "lines",
         "name": "optimal, bounds",
         "orientation": "v",
         "showlegend": true,
         "type": "scatter",
         "x": [
          "0_01",
          "0_02",
          "0_03",
          "0_04",
          "0_05",
          "0_06",
          "0_07",
          "0_08",
          "0_09",
          "0_10",
          "0_11",
          "0_12",
          "0_13",
          "0_14",
          "0_15",
          "0_16",
          "0_17",
          "0_18",
          "0_19",
          "0_20",
          "0_21",
          "0_22",
          "0_23",
          "0_24",
          "0_25",
          "0_26",
          "0_27",
          "0_28",
          "0_29",
          "0_30"
         ],
         "xaxis": "x",
         "y": [
          24.999999999999996,
          22.580645161290327,
          35.13513513513514,
          40,
          37.2093023255814,
          37.5,
          33.333333333333336,
          46.666666666666664,
          49.056603773584904,
          52,
          43.956043956043956,
          44.067796610169495,
          50,
          35.714285714285715,
          51.851851851851855,
          32.97872340425532,
          43.24324324324324,
          48.57142857142857,
          34.78260869565218,
          39.59731543624161,
          39.18918918918919,
          38.732394366197184,
          49.532710280373834,
          46.774193548387096,
          38.58267716535433,
          null,
          null,
          null,
          47.05882352941177,
          null
         ],
         "yaxis": "y"
        },
        {
         "hovertemplate": "solver=optimal<br>type=bounds<br>difficulty=1<br>problem=%{x}<br>improvement (%)=%{y}<extra></extra>",
         "legendgroup": "optimal, bounds",
         "line": {
          "color": "#EF553B",
          "dash": "solid"
         },
         "marker": {
          "symbol": "circle"
         },
         "mode": "lines",
         "name": "optimal, bounds",
         "orientation": "v",
         "showlegend": false,
         "type": "scatter",
         "x": [
          "1_01",
          "1_02",
          "1_03",
          "1_04",
          "1_05",
          "1_06",
          "1_07",
          "1_08",
          "1_09",
          "1_10",
          "1_11",
          "1_12",
          "1_13",
          "1_14",
          "1_15",
          "1_16",
          "1_17",
          "1_18",
          "1_19",
          "1_20",
          "1_21",
          "1_22",
          "1_23",
          "1_24",
          "1_25",
          "1_26",
          "1_27",
          "1_28",
          "1_29",
          "1_30"
         ],
         "xaxis": "x2",
         "y": [
          null,
          null,
          null,
          null,
          null,
          null,
          null,
          60,
          null,
          61.111111111111114,
          null,
          null,
          null,
          null,
          63.333333333333336,
          null,
          null,
          null,
          null,
          null,
          null,
          null,
          null,
          null,
          null,
          null,
          null,
          null,
          null,
          null
         ],
         "yaxis": "y2"
        },
        {
         "hovertemplate": "solver=lama<br>type=bounds<br>difficulty=0<br>problem=%{x}<br>improvement (%)=%{y}<extra></extra>",
         "legendgroup": "lama, bounds",
         "line": {
          "color": "#00cc96",
          "dash": "solid"
         },
         "marker": {
          "symbol": "circle"
         },
         "mode": "lines",
         "name": "lama, bounds",
         "orientation": "v",
         "showlegend": true,
         "type": "scatter",
         "x": [
          "0_01",
          "0_02",
          "0_03",
          "0_04",
          "0_05",
          "0_06",
          "0_07",
          "0_08",
          "0_09",
          "0_10",
          "0_11",
          "0_12",
          "0_13",
          "0_14",
          "0_15",
          "0_16",
          "0_17",
          "0_18",
          "0_19",
          "0_20",
          "0_21",
          "0_22",
          "0_23",
          "0_24",
          "0_25",
          "0_26",
          "0_27",
          "0_28",
          "0_29",
          "0_30"
         ],
         "xaxis": "x",
         "y": [
          24.999999999999996,
          22.580645161290327,
          35.13513513513514,
          40,
          37.2093023255814,
          6.25,
          33.333333333333336,
          33.333333333333336,
          43.39622641509434,
          52,
          30.769230769230766,
          38.983050847457626,
          37.5,
          35.714285714285715,
          51.851851851851855,
          29.78723404255319,
          43.24324324324324,
          40,
          32.173913043478265,
          25.503355704697984,
          31.081081081081084,
          36.61971830985916,
          46.72897196261682,
          41.935483870967744,
          33.85826771653544,
          18.75,
          27.272727272727273,
          34.54545454545455,
          42.64705882352941,
          26.119402985074625
         ],
         "yaxis": "y"
        },
        {
         "hovertemplate": "solver=lama<br>type=bounds<br>difficulty=1<br>problem=%{x}<br>improvement (%)=%{y}<extra></extra>",
         "legendgroup": "lama, bounds",
         "line": {
          "color": "#00cc96",
          "dash": "solid"
         },
         "marker": {
          "symbol": "circle"
         },
         "mode": "lines",
         "name": "lama, bounds",
         "orientation": "v",
         "showlegend": false,
         "type": "scatter",
         "x": [
          "1_01",
          "1_02",
          "1_03",
          "1_04",
          "1_05",
          "1_06",
          "1_07",
          "1_08",
          "1_09",
          "1_10",
          "1_11",
          "1_12",
          "1_13",
          "1_14",
          "1_15",
          "1_16",
          "1_17",
          "1_18",
          "1_19",
          "1_20",
          "1_21",
          "1_22",
          "1_23",
          "1_24",
          "1_25",
          "1_26",
          "1_27",
          "1_28",
          "1_29",
          "1_30"
         ],
         "xaxis": "x2",
         "y": [
          31.182795698924732,
          22.742474916387962,
          36.55913978494624,
          29.357798165137616,
          16.541353383458652,
          40.56603773584906,
          43.69747899159664,
          56.666666666666664,
          28.75,
          57.407407407407405,
          32.947976878612714,
          34.065934065934066,
          26.28205128205128,
          35.991379310344826,
          63.333333333333336,
          35.673624288425046,
          47.59036144578313,
          50.22421524663677,
          24.427480916030532,
          23.538230884557723,
          31.84,
          39.90384615384615,
          51.5527950310559,
          26.104417670682732,
          38.84297520661157,
          25.53191489361702,
          27.39557739557739,
          64.36781609195403,
          21.625000000000007,
          46.81818181818182
         ],
         "yaxis": "y2"
        },
        {
         "hovertemplate": "solver=L2_D8_best<br>type=lrnn_best<br>difficulty=0<br>problem=%{x}<br>improvement (%)=%{y}<extra></extra>",
         "legendgroup": "L2_D8_best, lrnn_best",
         "line": {
          "color": "#ab63fa",
          "dash": "dot"
         },
         "marker": {
          "symbol": "circle"
         },
         "mode": "lines",
         "name": "L2_D8_best, lrnn_best",
         "orientation": "v",
         "showlegend": true,
         "type": "scatter",
         "x": [
          "0_01",
          "0_02",
          "0_03",
          "0_04",
          "0_05",
          "0_06",
          "0_07",
          "0_08",
          "0_09",
          "0_10",
          "0_11",
          "0_12",
          "0_13",
          "0_14",
          "0_15",
          "0_16",
          "0_17",
          "0_18",
          "0_19",
          "0_20",
          "0_21",
          "0_22",
          "0_23",
          "0_24",
          "0_25",
          "0_26",
          "0_27",
          "0_28",
          "0_29",
          "0_30"
         ],
         "xaxis": "x",
         "y": [
          6.249999999999994,
          12.90322580645162,
          5.405405405405415,
          -3.9999999999999853,
          23.255813953488374,
          10.416666666666663,
          15.55555555555556,
          33.333333333333336,
          26.415094339622648,
          26,
          20.879120879120876,
          18.644067796610177,
          43.75,
          7.142857142857143,
          24.69135802469136,
          5.319148936170206,
          16.216216216216218,
          40,
          6.086956521739136,
          13.422818791946304,
          29.054054054054056,
          5.633802816901418,
          28.97196261682243,
          41.935483870967744,
          22.83464566929135,
          12.5,
          13.333333333333337,
          20.60606060606061,
          38.23529411764706,
          23.134328358208943
         ],
         "yaxis": "y"
        },
        {
         "hovertemplate": "solver=L2_D8_best<br>type=lrnn_best<br>difficulty=1<br>problem=%{x}<br>improvement (%)=%{y}<extra></extra>",
         "legendgroup": "L2_D8_best, lrnn_best",
         "line": {
          "color": "#ab63fa",
          "dash": "dot"
         },
         "marker": {
          "symbol": "circle"
         },
         "mode": "lines",
         "name": "L2_D8_best, lrnn_best",
         "orientation": "v",
         "showlegend": false,
         "type": "scatter",
         "x": [
          "1_01",
          "1_02",
          "1_03",
          "1_04",
          "1_05",
          "1_06",
          "1_07",
          "1_08",
          "1_09",
          "1_10",
          "1_11",
          "1_12",
          "1_13",
          "1_14",
          "1_15",
          "1_16",
          "1_17",
          "1_18",
          "1_19",
          "1_20",
          "1_21",
          "1_22",
          "1_23",
          "1_24",
          "1_25",
          "1_26",
          "1_27",
          "1_28",
          "1_29",
          "1_30"
         ],
         "xaxis": "x2",
         "y": [
          -10.75268817204301,
          -2.0066889632107023,
          -1.4336917562723963,
          0.9174311926605505,
          3.0075187969924864,
          21.069182389937104,
          12.885154061624645,
          56.666666666666664,
          12.1875,
          53.086419753086425,
          2.504816955684013,
          22.527472527472526,
          10.683760683760678,
          10.77586206896551,
          52.777777777777786,
          14.990512333965833,
          26.506024096385552,
          46.18834080717489,
          15.076335877862585,
          11.094452773613202,
          15.84,
          19.070512820512814,
          47.20496894409938,
          1.606425702811245,
          38.56749311294766,
          -0.9929078014184437,
          5.2825552825552755,
          62.06896551724138,
          6.625000000000006,
          36.818181818181806
         ],
         "yaxis": "y2"
        },
        {
         "hovertemplate": "solver=L2_D16_best<br>type=lrnn_best<br>difficulty=0<br>problem=%{x}<br>improvement (%)=%{y}<extra></extra>",
         "legendgroup": "L2_D16_best, lrnn_best",
         "line": {
          "color": "#FFA15A",
          "dash": "dot"
         },
         "marker": {
          "symbol": "circle"
         },
         "mode": "lines",
         "name": "L2_D16_best, lrnn_best",
         "orientation": "v",
         "showlegend": true,
         "type": "scatter",
         "x": [
          "0_01",
          "0_02",
          "0_03",
          "0_04",
          "0_05",
          "0_06",
          "0_07",
          "0_08",
          "0_09",
          "0_10",
          "0_11",
          "0_12",
          "0_13",
          "0_14",
          "0_15",
          "0_16",
          "0_17",
          "0_18",
          "0_19",
          "0_20",
          "0_21",
          "0_22",
          "0_23",
          "0_24",
          "0_25",
          "0_26",
          "0_27",
          "0_28",
          "0_29",
          "0_30"
         ],
         "xaxis": "x",
         "y": [
          0,
          3.225806451612909,
          5.405405405405415,
          -7.999999999999991,
          2.3255813953488413,
          8.333333333333337,
          2.2222222222222263,
          11.111111111111107,
          16.981132075471706,
          18.00000000000001,
          5.4945054945054865,
          16.949152542372893,
          27.083333333333336,
          11.9047619047619,
          2.46913580246914,
          -1.06382978723405,
          1.8018018018017954,
          14.285714285714281,
          -5.217391304347826,
          6.711409395973146,
          12.162162162162161,
          9.154929577464793,
          2.8037383177570097,
          11.290322580645173,
          15.748031496063003,
          -2.604166666666674,
          -1.2121212121212077,
          -6.666666666666662,
          7.352941176470594,
          5.970149253731337
         ],
         "yaxis": "y"
        },
        {
         "hovertemplate": "solver=L2_D16_best<br>type=lrnn_best<br>difficulty=1<br>problem=%{x}<br>improvement (%)=%{y}<extra></extra>",
         "legendgroup": "L2_D16_best, lrnn_best",
         "line": {
          "color": "#FFA15A",
          "dash": "dot"
         },
         "marker": {
          "symbol": "circle"
         },
         "mode": "lines",
         "name": "L2_D16_best, lrnn_best",
         "orientation": "v",
         "showlegend": false,
         "type": "scatter",
         "x": [
          "1_01",
          "1_02",
          "1_03",
          "1_04",
          "1_05",
          "1_06",
          "1_07",
          "1_08",
          "1_09",
          "1_10",
          "1_11",
          "1_12",
          "1_13",
          "1_14",
          "1_15",
          "1_16",
          "1_17",
          "1_18",
          "1_19",
          "1_20",
          "1_21",
          "1_22",
          "1_23",
          "1_24",
          "1_25",
          "1_26",
          "1_27",
          "1_28",
          "1_29",
          "1_30"
         ],
         "xaxis": "x2",
         "y": [
          -1.792114695340507,
          2.341137123745829,
          4.301075268817204,
          -0.611620795107038,
          2.255639097744361,
          12.264150943396226,
          1.9607843137254861,
          10,
          -4.6875,
          9.25925925925926,
          -7.514450867052023,
          11.263736263736256,
          1.0683760683760624,
          3.66379310344827,
          0,
          4.7438330170777885,
          -1.5060240963855336,
          -3.1390134529148113,
          -3.435114503816794,
          -7.3463268365817,
          1.2800000000000091,
          -5.128205128205123,
          -0.9316770186335405,
          -7.362784471218198,
          -3.3057851239669422,
          -4.5390070921985775,
          -5.651105651105666,
          -7.662835249042152,
          -1.5,
          2.7272727272727275
         ],
         "yaxis": "y2"
        }
       ],
       "layout": {
        "annotations": [
         {
          "font": {},
          "showarrow": false,
          "text": "difficulty=0",
          "x": 0.245,
          "xanchor": "center",
          "xref": "paper",
          "y": 1,
          "yanchor": "bottom",
          "yref": "paper"
         },
         {
          "font": {},
          "showarrow": false,
          "text": "difficulty=1",
          "x": 0.755,
          "xanchor": "center",
          "xref": "paper",
          "y": 1,
          "yanchor": "bottom",
          "yref": "paper"
         }
        ],
        "legend": {
         "title": {
          "text": "solver, type"
         },
         "tracegroupgap": 0
        },
        "margin": {
         "t": 60
        },
        "template": {
         "data": {
          "bar": [
           {
            "error_x": {
             "color": "#2a3f5f"
            },
            "error_y": {
             "color": "#2a3f5f"
            },
            "marker": {
             "line": {
              "color": "#E5ECF6",
              "width": 0.5
             },
             "pattern": {
              "fillmode": "overlay",
              "size": 10,
              "solidity": 0.2
             }
            },
            "type": "bar"
           }
          ],
          "barpolar": [
           {
            "marker": {
             "line": {
              "color": "#E5ECF6",
              "width": 0.5
             },
             "pattern": {
              "fillmode": "overlay",
              "size": 10,
              "solidity": 0.2
             }
            },
            "type": "barpolar"
           }
          ],
          "carpet": [
           {
            "aaxis": {
             "endlinecolor": "#2a3f5f",
             "gridcolor": "white",
             "linecolor": "white",
             "minorgridcolor": "white",
             "startlinecolor": "#2a3f5f"
            },
            "baxis": {
             "endlinecolor": "#2a3f5f",
             "gridcolor": "white",
             "linecolor": "white",
             "minorgridcolor": "white",
             "startlinecolor": "#2a3f5f"
            },
            "type": "carpet"
           }
          ],
          "choropleth": [
           {
            "colorbar": {
             "outlinewidth": 0,
             "ticks": ""
            },
            "type": "choropleth"
           }
          ],
          "contour": [
           {
            "colorbar": {
             "outlinewidth": 0,
             "ticks": ""
            },
            "colorscale": [
             [
              0,
              "#0d0887"
             ],
             [
              0.1111111111111111,
              "#46039f"
             ],
             [
              0.2222222222222222,
              "#7201a8"
             ],
             [
              0.3333333333333333,
              "#9c179e"
             ],
             [
              0.4444444444444444,
              "#bd3786"
             ],
             [
              0.5555555555555556,
              "#d8576b"
             ],
             [
              0.6666666666666666,
              "#ed7953"
             ],
             [
              0.7777777777777778,
              "#fb9f3a"
             ],
             [
              0.8888888888888888,
              "#fdca26"
             ],
             [
              1,
              "#f0f921"
             ]
            ],
            "type": "contour"
           }
          ],
          "contourcarpet": [
           {
            "colorbar": {
             "outlinewidth": 0,
             "ticks": ""
            },
            "type": "contourcarpet"
           }
          ],
          "heatmap": [
           {
            "colorbar": {
             "outlinewidth": 0,
             "ticks": ""
            },
            "colorscale": [
             [
              0,
              "#0d0887"
             ],
             [
              0.1111111111111111,
              "#46039f"
             ],
             [
              0.2222222222222222,
              "#7201a8"
             ],
             [
              0.3333333333333333,
              "#9c179e"
             ],
             [
              0.4444444444444444,
              "#bd3786"
             ],
             [
              0.5555555555555556,
              "#d8576b"
             ],
             [
              0.6666666666666666,
              "#ed7953"
             ],
             [
              0.7777777777777778,
              "#fb9f3a"
             ],
             [
              0.8888888888888888,
              "#fdca26"
             ],
             [
              1,
              "#f0f921"
             ]
            ],
            "type": "heatmap"
           }
          ],
          "heatmapgl": [
           {
            "colorbar": {
             "outlinewidth": 0,
             "ticks": ""
            },
            "colorscale": [
             [
              0,
              "#0d0887"
             ],
             [
              0.1111111111111111,
              "#46039f"
             ],
             [
              0.2222222222222222,
              "#7201a8"
             ],
             [
              0.3333333333333333,
              "#9c179e"
             ],
             [
              0.4444444444444444,
              "#bd3786"
             ],
             [
              0.5555555555555556,
              "#d8576b"
             ],
             [
              0.6666666666666666,
              "#ed7953"
             ],
             [
              0.7777777777777778,
              "#fb9f3a"
             ],
             [
              0.8888888888888888,
              "#fdca26"
             ],
             [
              1,
              "#f0f921"
             ]
            ],
            "type": "heatmapgl"
           }
          ],
          "histogram": [
           {
            "marker": {
             "pattern": {
              "fillmode": "overlay",
              "size": 10,
              "solidity": 0.2
             }
            },
            "type": "histogram"
           }
          ],
          "histogram2d": [
           {
            "colorbar": {
             "outlinewidth": 0,
             "ticks": ""
            },
            "colorscale": [
             [
              0,
              "#0d0887"
             ],
             [
              0.1111111111111111,
              "#46039f"
             ],
             [
              0.2222222222222222,
              "#7201a8"
             ],
             [
              0.3333333333333333,
              "#9c179e"
             ],
             [
              0.4444444444444444,
              "#bd3786"
             ],
             [
              0.5555555555555556,
              "#d8576b"
             ],
             [
              0.6666666666666666,
              "#ed7953"
             ],
             [
              0.7777777777777778,
              "#fb9f3a"
             ],
             [
              0.8888888888888888,
              "#fdca26"
             ],
             [
              1,
              "#f0f921"
             ]
            ],
            "type": "histogram2d"
           }
          ],
          "histogram2dcontour": [
           {
            "colorbar": {
             "outlinewidth": 0,
             "ticks": ""
            },
            "colorscale": [
             [
              0,
              "#0d0887"
             ],
             [
              0.1111111111111111,
              "#46039f"
             ],
             [
              0.2222222222222222,
              "#7201a8"
             ],
             [
              0.3333333333333333,
              "#9c179e"
             ],
             [
              0.4444444444444444,
              "#bd3786"
             ],
             [
              0.5555555555555556,
              "#d8576b"
             ],
             [
              0.6666666666666666,
              "#ed7953"
             ],
             [
              0.7777777777777778,
              "#fb9f3a"
             ],
             [
              0.8888888888888888,
              "#fdca26"
             ],
             [
              1,
              "#f0f921"
             ]
            ],
            "type": "histogram2dcontour"
           }
          ],
          "mesh3d": [
           {
            "colorbar": {
             "outlinewidth": 0,
             "ticks": ""
            },
            "type": "mesh3d"
           }
          ],
          "parcoords": [
           {
            "line": {
             "colorbar": {
              "outlinewidth": 0,
              "ticks": ""
             }
            },
            "type": "parcoords"
           }
          ],
          "pie": [
           {
            "automargin": true,
            "type": "pie"
           }
          ],
          "scatter": [
           {
            "fillpattern": {
             "fillmode": "overlay",
             "size": 10,
             "solidity": 0.2
            },
            "type": "scatter"
           }
          ],
          "scatter3d": [
           {
            "line": {
             "colorbar": {
              "outlinewidth": 0,
              "ticks": ""
             }
            },
            "marker": {
             "colorbar": {
              "outlinewidth": 0,
              "ticks": ""
             }
            },
            "type": "scatter3d"
           }
          ],
          "scattercarpet": [
           {
            "marker": {
             "colorbar": {
              "outlinewidth": 0,
              "ticks": ""
             }
            },
            "type": "scattercarpet"
           }
          ],
          "scattergeo": [
           {
            "marker": {
             "colorbar": {
              "outlinewidth": 0,
              "ticks": ""
             }
            },
            "type": "scattergeo"
           }
          ],
          "scattergl": [
           {
            "marker": {
             "colorbar": {
              "outlinewidth": 0,
              "ticks": ""
             }
            },
            "type": "scattergl"
           }
          ],
          "scattermapbox": [
           {
            "marker": {
             "colorbar": {
              "outlinewidth": 0,
              "ticks": ""
             }
            },
            "type": "scattermapbox"
           }
          ],
          "scatterpolar": [
           {
            "marker": {
             "colorbar": {
              "outlinewidth": 0,
              "ticks": ""
             }
            },
            "type": "scatterpolar"
           }
          ],
          "scatterpolargl": [
           {
            "marker": {
             "colorbar": {
              "outlinewidth": 0,
              "ticks": ""
             }
            },
            "type": "scatterpolargl"
           }
          ],
          "scatterternary": [
           {
            "marker": {
             "colorbar": {
              "outlinewidth": 0,
              "ticks": ""
             }
            },
            "type": "scatterternary"
           }
          ],
          "surface": [
           {
            "colorbar": {
             "outlinewidth": 0,
             "ticks": ""
            },
            "colorscale": [
             [
              0,
              "#0d0887"
             ],
             [
              0.1111111111111111,
              "#46039f"
             ],
             [
              0.2222222222222222,
              "#7201a8"
             ],
             [
              0.3333333333333333,
              "#9c179e"
             ],
             [
              0.4444444444444444,
              "#bd3786"
             ],
             [
              0.5555555555555556,
              "#d8576b"
             ],
             [
              0.6666666666666666,
              "#ed7953"
             ],
             [
              0.7777777777777778,
              "#fb9f3a"
             ],
             [
              0.8888888888888888,
              "#fdca26"
             ],
             [
              1,
              "#f0f921"
             ]
            ],
            "type": "surface"
           }
          ],
          "table": [
           {
            "cells": {
             "fill": {
              "color": "#EBF0F8"
             },
             "line": {
              "color": "white"
             }
            },
            "header": {
             "fill": {
              "color": "#C8D4E3"
             },
             "line": {
              "color": "white"
             }
            },
            "type": "table"
           }
          ]
         },
         "layout": {
          "annotationdefaults": {
           "arrowcolor": "#2a3f5f",
           "arrowhead": 0,
           "arrowwidth": 1
          },
          "autotypenumbers": "strict",
          "coloraxis": {
           "colorbar": {
            "outlinewidth": 0,
            "ticks": ""
           }
          },
          "colorscale": {
           "diverging": [
            [
             0,
             "#8e0152"
            ],
            [
             0.1,
             "#c51b7d"
            ],
            [
             0.2,
             "#de77ae"
            ],
            [
             0.3,
             "#f1b6da"
            ],
            [
             0.4,
             "#fde0ef"
            ],
            [
             0.5,
             "#f7f7f7"
            ],
            [
             0.6,
             "#e6f5d0"
            ],
            [
             0.7,
             "#b8e186"
            ],
            [
             0.8,
             "#7fbc41"
            ],
            [
             0.9,
             "#4d9221"
            ],
            [
             1,
             "#276419"
            ]
           ],
           "sequential": [
            [
             0,
             "#0d0887"
            ],
            [
             0.1111111111111111,
             "#46039f"
            ],
            [
             0.2222222222222222,
             "#7201a8"
            ],
            [
             0.3333333333333333,
             "#9c179e"
            ],
            [
             0.4444444444444444,
             "#bd3786"
            ],
            [
             0.5555555555555556,
             "#d8576b"
            ],
            [
             0.6666666666666666,
             "#ed7953"
            ],
            [
             0.7777777777777778,
             "#fb9f3a"
            ],
            [
             0.8888888888888888,
             "#fdca26"
            ],
            [
             1,
             "#f0f921"
            ]
           ],
           "sequentialminus": [
            [
             0,
             "#0d0887"
            ],
            [
             0.1111111111111111,
             "#46039f"
            ],
            [
             0.2222222222222222,
             "#7201a8"
            ],
            [
             0.3333333333333333,
             "#9c179e"
            ],
            [
             0.4444444444444444,
             "#bd3786"
            ],
            [
             0.5555555555555556,
             "#d8576b"
            ],
            [
             0.6666666666666666,
             "#ed7953"
            ],
            [
             0.7777777777777778,
             "#fb9f3a"
            ],
            [
             0.8888888888888888,
             "#fdca26"
            ],
            [
             1,
             "#f0f921"
            ]
           ]
          },
          "colorway": [
           "#636efa",
           "#EF553B",
           "#00cc96",
           "#ab63fa",
           "#FFA15A",
           "#19d3f3",
           "#FF6692",
           "#B6E880",
           "#FF97FF",
           "#FECB52"
          ],
          "font": {
           "color": "#2a3f5f"
          },
          "geo": {
           "bgcolor": "white",
           "lakecolor": "white",
           "landcolor": "#E5ECF6",
           "showlakes": true,
           "showland": true,
           "subunitcolor": "white"
          },
          "hoverlabel": {
           "align": "left"
          },
          "hovermode": "closest",
          "mapbox": {
           "style": "light"
          },
          "paper_bgcolor": "white",
          "plot_bgcolor": "#E5ECF6",
          "polar": {
           "angularaxis": {
            "gridcolor": "white",
            "linecolor": "white",
            "ticks": ""
           },
           "bgcolor": "#E5ECF6",
           "radialaxis": {
            "gridcolor": "white",
            "linecolor": "white",
            "ticks": ""
           }
          },
          "scene": {
           "xaxis": {
            "backgroundcolor": "#E5ECF6",
            "gridcolor": "white",
            "gridwidth": 2,
            "linecolor": "white",
            "showbackground": true,
            "ticks": "",
            "zerolinecolor": "white"
           },
           "yaxis": {
            "backgroundcolor": "#E5ECF6",
            "gridcolor": "white",
            "gridwidth": 2,
            "linecolor": "white",
            "showbackground": true,
            "ticks": "",
            "zerolinecolor": "white"
           },
           "zaxis": {
            "backgroundcolor": "#E5ECF6",
            "gridcolor": "white",
            "gridwidth": 2,
            "linecolor": "white",
            "showbackground": true,
            "ticks": "",
            "zerolinecolor": "white"
           }
          },
          "shapedefaults": {
           "line": {
            "color": "#2a3f5f"
           }
          },
          "ternary": {
           "aaxis": {
            "gridcolor": "white",
            "linecolor": "white",
            "ticks": ""
           },
           "baxis": {
            "gridcolor": "white",
            "linecolor": "white",
            "ticks": ""
           },
           "bgcolor": "#E5ECF6",
           "caxis": {
            "gridcolor": "white",
            "linecolor": "white",
            "ticks": ""
           }
          },
          "title": {
           "x": 0.05
          },
          "xaxis": {
           "automargin": true,
           "gridcolor": "white",
           "linecolor": "white",
           "ticks": "",
           "title": {
            "standoff": 15
           },
           "zerolinecolor": "white",
           "zerolinewidth": 2
          },
          "yaxis": {
           "automargin": true,
           "gridcolor": "white",
           "linecolor": "white",
           "ticks": "",
           "title": {
            "standoff": 15
           },
           "zerolinecolor": "white",
           "zerolinewidth": 2
          }
         }
        },
        "xaxis": {
         "anchor": "y",
         "categoryorder": "array",
         "domain": [
          0,
          0.49
         ],
         "showticklabels": true,
         "title": {
          "text": "problem"
         }
        },
        "xaxis2": {
         "anchor": "y2",
         "categoryorder": "array",
         "domain": [
          0.51,
          1
         ],
         "showticklabels": true,
         "title": {
          "text": "problem"
         }
        },
        "yaxis": {
         "anchor": "x",
         "domain": [
          0,
          1
         ],
         "range": [
          -100,
          100
         ],
         "showticklabels": true,
         "title": {
          "text": "improvement (%)"
         }
        },
        "yaxis2": {
         "anchor": "x2",
         "domain": [
          0,
          1
         ],
         "range": [
          -100,
          100
         ],
         "showticklabels": true
        }
       }
      }
     },
     "metadata": {},
     "output_type": "display_data"
    },
    {
     "name": "stdout",
     "output_type": "stream",
     "text": [
      "rover\n"
     ]
    },
    {
     "ename": "IndexError",
     "evalue": "index 0 is out of bounds for axis 0 with size 0",
     "output_type": "error",
     "traceback": [
      "\u001b[0;31m---------------------------------------------------------------------------\u001b[0m",
      "\u001b[0;31mIndexError\u001b[0m                                Traceback (most recent call last)",
      "Cell \u001b[0;32mIn[6], line 1\u001b[0m\n\u001b[0;32m----> 1\u001b[0m \u001b[43mplot_difference\u001b[49m\u001b[43m(\u001b[49m\u001b[43mabsolute\u001b[49m\u001b[38;5;241;43m=\u001b[39;49m\u001b[38;5;28;43;01mFalse\u001b[39;49;00m\u001b[43m,\u001b[49m\u001b[43m \u001b[49m\u001b[43mchoices\u001b[49m\u001b[38;5;241;43m=\u001b[39;49m\u001b[43mchoices\u001b[49m\u001b[43m,\u001b[49m\u001b[43m \u001b[49m\u001b[43mlayers\u001b[49m\u001b[38;5;241;43m=\u001b[39;49m\u001b[43mlayers\u001b[49m\u001b[43m,\u001b[49m\u001b[43m \u001b[49m\u001b[43mdimensions\u001b[49m\u001b[38;5;241;43m=\u001b[39;49m\u001b[43mdimensions\u001b[49m\u001b[43m)\u001b[49m\n",
      "File \u001b[0;32m~/code/cvut-colab/results/_results_helper.py:377\u001b[0m, in \u001b[0;36mplot_difference\u001b[0;34m(absolute, choices, layers, dimensions)\u001b[0m\n\u001b[1;32m    375\u001b[0m data \u001b[38;5;241m=\u001b[39m all_data[all_data[\u001b[38;5;124m\"\u001b[39m\u001b[38;5;124mdomain\u001b[39m\u001b[38;5;124m\"\u001b[39m] \u001b[38;5;241m==\u001b[39m domain]\n\u001b[1;32m    376\u001b[0m data \u001b[38;5;241m=\u001b[39m data[\u001b[38;5;241m~\u001b[39mdata[\u001b[38;5;124m\"\u001b[39m\u001b[38;5;124msolver\u001b[39m\u001b[38;5;124m\"\u001b[39m]\u001b[38;5;241m.\u001b[39misin(ignore_models)]\n\u001b[0;32m--> 377\u001b[0m data \u001b[38;5;241m=\u001b[39m \u001b[43mget_improvement\u001b[49m\u001b[43m(\u001b[49m\u001b[43mdata\u001b[49m\u001b[43m)\u001b[49m\n\u001b[1;32m    379\u001b[0m \u001b[38;5;28;01mif\u001b[39;00m absolute:\n\u001b[1;32m    380\u001b[0m     y \u001b[38;5;241m=\u001b[39m \u001b[38;5;124m\"\u001b[39m\u001b[38;5;124mimprovement\u001b[39m\u001b[38;5;124m\"\u001b[39m\n",
      "File \u001b[0;32m~/code/cvut-colab/results/_results_helper.py:277\u001b[0m, in \u001b[0;36mget_improvement\u001b[0;34m(df)\u001b[0m\n\u001b[1;32m    275\u001b[0m \u001b[38;5;28;01mdef\u001b[39;00m \u001b[38;5;21mget_improvement\u001b[39m(df):\n\u001b[1;32m    276\u001b[0m     combination \u001b[38;5;241m=\u001b[39m \u001b[38;5;124m\"\u001b[39m\u001b[38;5;124mplan_length_mean\u001b[39m\u001b[38;5;124m\"\u001b[39m \u001b[38;5;28;01mif\u001b[39;00m \u001b[38;5;129;01mnot\u001b[39;00m TAKE_BEST \u001b[38;5;28;01melse\u001b[39;00m \u001b[38;5;124m\"\u001b[39m\u001b[38;5;124mplan_length_min\u001b[39m\u001b[38;5;124m\"\u001b[39m\n\u001b[0;32m--> 277\u001b[0m     df[\u001b[38;5;124m\"\u001b[39m\u001b[38;5;124mimprovement\u001b[39m\u001b[38;5;124m\"\u001b[39m] \u001b[38;5;241m=\u001b[39m \u001b[43mdf\u001b[49m\u001b[38;5;241;43m.\u001b[39;49m\u001b[43mapply\u001b[49m\u001b[43m(\u001b[49m\n\u001b[1;32m    278\u001b[0m \u001b[43m        \u001b[49m\u001b[38;5;28;43;01mlambda\u001b[39;49;00m\u001b[43m \u001b[49m\u001b[43mrow\u001b[49m\u001b[43m:\u001b[49m\u001b[43m \u001b[49m\u001b[38;5;241;43m-\u001b[39;49m\u001b[43mrow\u001b[49m\u001b[43m[\u001b[49m\u001b[43mcombination\u001b[49m\u001b[43m]\u001b[49m\n\u001b[1;32m    279\u001b[0m \u001b[43m        \u001b[49m\u001b[38;5;241;43m+\u001b[39;49m\u001b[43m \u001b[49m\u001b[43mdf\u001b[49m\u001b[43m[\u001b[49m\n\u001b[1;32m    280\u001b[0m \u001b[43m            \u001b[49m\u001b[43m(\u001b[49m\u001b[43mdf\u001b[49m\u001b[43m[\u001b[49m\u001b[38;5;124;43m\"\u001b[39;49m\u001b[38;5;124;43mdomain\u001b[39;49m\u001b[38;5;124;43m\"\u001b[39;49m\u001b[43m]\u001b[49m\u001b[43m \u001b[49m\u001b[38;5;241;43m==\u001b[39;49m\u001b[43m \u001b[49m\u001b[43mrow\u001b[49m\u001b[43m[\u001b[49m\u001b[38;5;124;43m\"\u001b[39;49m\u001b[38;5;124;43mdomain\u001b[39;49m\u001b[38;5;124;43m\"\u001b[39;49m\u001b[43m]\u001b[49m\u001b[43m)\u001b[49m\n\u001b[1;32m    281\u001b[0m \u001b[43m            \u001b[49m\u001b[38;5;241;43m&\u001b[39;49m\u001b[43m \u001b[49m\u001b[43m(\u001b[49m\u001b[43mdf\u001b[49m\u001b[43m[\u001b[49m\u001b[38;5;124;43m\"\u001b[39;49m\u001b[38;5;124;43mproblem\u001b[39;49m\u001b[38;5;124;43m\"\u001b[39;49m\u001b[43m]\u001b[49m\u001b[43m \u001b[49m\u001b[38;5;241;43m==\u001b[39;49m\u001b[43m \u001b[49m\u001b[43mrow\u001b[49m\u001b[43m[\u001b[49m\u001b[38;5;124;43m\"\u001b[39;49m\u001b[38;5;124;43mproblem\u001b[39;49m\u001b[38;5;124;43m\"\u001b[39;49m\u001b[43m]\u001b[49m\u001b[43m)\u001b[49m\n\u001b[1;32m    282\u001b[0m \u001b[43m            \u001b[49m\u001b[38;5;241;43m&\u001b[39;49m\u001b[43m \u001b[49m\u001b[43m(\u001b[49m\u001b[43mdf\u001b[49m\u001b[43m[\u001b[49m\u001b[38;5;124;43m\"\u001b[39;49m\u001b[38;5;124;43msolver\u001b[39;49m\u001b[38;5;124;43m\"\u001b[39;49m\u001b[43m]\u001b[49m\u001b[43m \u001b[49m\u001b[38;5;241;43m==\u001b[39;49m\u001b[43m \u001b[49m\u001b[38;5;124;43m\"\u001b[39;49m\u001b[38;5;124;43mbaseline\u001b[39;49m\u001b[38;5;124;43m\"\u001b[39;49m\u001b[43m)\u001b[49m\n\u001b[1;32m    283\u001b[0m \u001b[43m        \u001b[49m\u001b[43m]\u001b[49m\u001b[43m[\u001b[49m\u001b[43mcombination\u001b[49m\u001b[43m]\u001b[49m\u001b[38;5;241;43m.\u001b[39;49m\u001b[43mvalues\u001b[49m\u001b[43m[\u001b[49m\u001b[38;5;241;43m0\u001b[39;49m\u001b[43m]\u001b[49m\u001b[43m,\u001b[49m\n\u001b[1;32m    284\u001b[0m \u001b[43m        \u001b[49m\u001b[43maxis\u001b[49m\u001b[38;5;241;43m=\u001b[39;49m\u001b[38;5;241;43m1\u001b[39;49m\u001b[43m,\u001b[49m\n\u001b[1;32m    285\u001b[0m \u001b[43m    \u001b[49m\u001b[43m)\u001b[49m\n\u001b[1;32m    286\u001b[0m     df[\u001b[38;5;124m\"\u001b[39m\u001b[38;5;124mimprovement (\u001b[39m\u001b[38;5;124m%\u001b[39m\u001b[38;5;124m)\u001b[39m\u001b[38;5;124m\"\u001b[39m] \u001b[38;5;241m=\u001b[39m df\u001b[38;5;241m.\u001b[39mapply(\n\u001b[1;32m    287\u001b[0m         \u001b[38;5;28;01mlambda\u001b[39;00m row: \u001b[38;5;241m100\u001b[39m \u001b[38;5;241m*\u001b[39m (\n\u001b[1;32m    288\u001b[0m             \u001b[38;5;241m-\u001b[39mrow[combination]\n\u001b[0;32m   (...)\u001b[0m\n\u001b[1;32m    300\u001b[0m         axis\u001b[38;5;241m=\u001b[39m\u001b[38;5;241m1\u001b[39m,\n\u001b[1;32m    301\u001b[0m     )\n\u001b[1;32m    302\u001b[0m     \u001b[38;5;28;01mreturn\u001b[39;00m df\n",
      "File \u001b[0;32m~/anaconda3/envs/lpp/lib/python3.10/site-packages/pandas/core/frame.py:10374\u001b[0m, in \u001b[0;36mDataFrame.apply\u001b[0;34m(self, func, axis, raw, result_type, args, by_row, engine, engine_kwargs, **kwargs)\u001b[0m\n\u001b[1;32m  10360\u001b[0m \u001b[38;5;28;01mfrom\u001b[39;00m \u001b[38;5;21;01mpandas\u001b[39;00m\u001b[38;5;21;01m.\u001b[39;00m\u001b[38;5;21;01mcore\u001b[39;00m\u001b[38;5;21;01m.\u001b[39;00m\u001b[38;5;21;01mapply\u001b[39;00m \u001b[38;5;28;01mimport\u001b[39;00m frame_apply\n\u001b[1;32m  10362\u001b[0m op \u001b[38;5;241m=\u001b[39m frame_apply(\n\u001b[1;32m  10363\u001b[0m     \u001b[38;5;28mself\u001b[39m,\n\u001b[1;32m  10364\u001b[0m     func\u001b[38;5;241m=\u001b[39mfunc,\n\u001b[0;32m   (...)\u001b[0m\n\u001b[1;32m  10372\u001b[0m     kwargs\u001b[38;5;241m=\u001b[39mkwargs,\n\u001b[1;32m  10373\u001b[0m )\n\u001b[0;32m> 10374\u001b[0m \u001b[38;5;28;01mreturn\u001b[39;00m \u001b[43mop\u001b[49m\u001b[38;5;241;43m.\u001b[39;49m\u001b[43mapply\u001b[49m\u001b[43m(\u001b[49m\u001b[43m)\u001b[49m\u001b[38;5;241m.\u001b[39m__finalize__(\u001b[38;5;28mself\u001b[39m, method\u001b[38;5;241m=\u001b[39m\u001b[38;5;124m\"\u001b[39m\u001b[38;5;124mapply\u001b[39m\u001b[38;5;124m\"\u001b[39m)\n",
      "File \u001b[0;32m~/anaconda3/envs/lpp/lib/python3.10/site-packages/pandas/core/apply.py:916\u001b[0m, in \u001b[0;36mFrameApply.apply\u001b[0;34m(self)\u001b[0m\n\u001b[1;32m    913\u001b[0m \u001b[38;5;28;01melif\u001b[39;00m \u001b[38;5;28mself\u001b[39m\u001b[38;5;241m.\u001b[39mraw:\n\u001b[1;32m    914\u001b[0m     \u001b[38;5;28;01mreturn\u001b[39;00m \u001b[38;5;28mself\u001b[39m\u001b[38;5;241m.\u001b[39mapply_raw(engine\u001b[38;5;241m=\u001b[39m\u001b[38;5;28mself\u001b[39m\u001b[38;5;241m.\u001b[39mengine, engine_kwargs\u001b[38;5;241m=\u001b[39m\u001b[38;5;28mself\u001b[39m\u001b[38;5;241m.\u001b[39mengine_kwargs)\n\u001b[0;32m--> 916\u001b[0m \u001b[38;5;28;01mreturn\u001b[39;00m \u001b[38;5;28;43mself\u001b[39;49m\u001b[38;5;241;43m.\u001b[39;49m\u001b[43mapply_standard\u001b[49m\u001b[43m(\u001b[49m\u001b[43m)\u001b[49m\n",
      "File \u001b[0;32m~/anaconda3/envs/lpp/lib/python3.10/site-packages/pandas/core/apply.py:1063\u001b[0m, in \u001b[0;36mFrameApply.apply_standard\u001b[0;34m(self)\u001b[0m\n\u001b[1;32m   1061\u001b[0m \u001b[38;5;28;01mdef\u001b[39;00m \u001b[38;5;21mapply_standard\u001b[39m(\u001b[38;5;28mself\u001b[39m):\n\u001b[1;32m   1062\u001b[0m     \u001b[38;5;28;01mif\u001b[39;00m \u001b[38;5;28mself\u001b[39m\u001b[38;5;241m.\u001b[39mengine \u001b[38;5;241m==\u001b[39m \u001b[38;5;124m\"\u001b[39m\u001b[38;5;124mpython\u001b[39m\u001b[38;5;124m\"\u001b[39m:\n\u001b[0;32m-> 1063\u001b[0m         results, res_index \u001b[38;5;241m=\u001b[39m \u001b[38;5;28;43mself\u001b[39;49m\u001b[38;5;241;43m.\u001b[39;49m\u001b[43mapply_series_generator\u001b[49m\u001b[43m(\u001b[49m\u001b[43m)\u001b[49m\n\u001b[1;32m   1064\u001b[0m     \u001b[38;5;28;01melse\u001b[39;00m:\n\u001b[1;32m   1065\u001b[0m         results, res_index \u001b[38;5;241m=\u001b[39m \u001b[38;5;28mself\u001b[39m\u001b[38;5;241m.\u001b[39mapply_series_numba()\n",
      "File \u001b[0;32m~/anaconda3/envs/lpp/lib/python3.10/site-packages/pandas/core/apply.py:1081\u001b[0m, in \u001b[0;36mFrameApply.apply_series_generator\u001b[0;34m(self)\u001b[0m\n\u001b[1;32m   1078\u001b[0m \u001b[38;5;28;01mwith\u001b[39;00m option_context(\u001b[38;5;124m\"\u001b[39m\u001b[38;5;124mmode.chained_assignment\u001b[39m\u001b[38;5;124m\"\u001b[39m, \u001b[38;5;28;01mNone\u001b[39;00m):\n\u001b[1;32m   1079\u001b[0m     \u001b[38;5;28;01mfor\u001b[39;00m i, v \u001b[38;5;129;01min\u001b[39;00m \u001b[38;5;28menumerate\u001b[39m(series_gen):\n\u001b[1;32m   1080\u001b[0m         \u001b[38;5;66;03m# ignore SettingWithCopy here in case the user mutates\u001b[39;00m\n\u001b[0;32m-> 1081\u001b[0m         results[i] \u001b[38;5;241m=\u001b[39m \u001b[38;5;28;43mself\u001b[39;49m\u001b[38;5;241;43m.\u001b[39;49m\u001b[43mfunc\u001b[49m\u001b[43m(\u001b[49m\u001b[43mv\u001b[49m\u001b[43m,\u001b[49m\u001b[43m \u001b[49m\u001b[38;5;241;43m*\u001b[39;49m\u001b[38;5;28;43mself\u001b[39;49m\u001b[38;5;241;43m.\u001b[39;49m\u001b[43margs\u001b[49m\u001b[43m,\u001b[49m\u001b[43m \u001b[49m\u001b[38;5;241;43m*\u001b[39;49m\u001b[38;5;241;43m*\u001b[39;49m\u001b[38;5;28;43mself\u001b[39;49m\u001b[38;5;241;43m.\u001b[39;49m\u001b[43mkwargs\u001b[49m\u001b[43m)\u001b[49m\n\u001b[1;32m   1082\u001b[0m         \u001b[38;5;28;01mif\u001b[39;00m \u001b[38;5;28misinstance\u001b[39m(results[i], ABCSeries):\n\u001b[1;32m   1083\u001b[0m             \u001b[38;5;66;03m# If we have a view on v, we need to make a copy because\u001b[39;00m\n\u001b[1;32m   1084\u001b[0m             \u001b[38;5;66;03m#  series_generator will swap out the underlying data\u001b[39;00m\n\u001b[1;32m   1085\u001b[0m             results[i] \u001b[38;5;241m=\u001b[39m results[i]\u001b[38;5;241m.\u001b[39mcopy(deep\u001b[38;5;241m=\u001b[39m\u001b[38;5;28;01mFalse\u001b[39;00m)\n",
      "File \u001b[0;32m~/code/cvut-colab/results/_results_helper.py:279\u001b[0m, in \u001b[0;36mget_improvement.<locals>.<lambda>\u001b[0;34m(row)\u001b[0m\n\u001b[1;32m    275\u001b[0m \u001b[38;5;28;01mdef\u001b[39;00m \u001b[38;5;21mget_improvement\u001b[39m(df):\n\u001b[1;32m    276\u001b[0m     combination \u001b[38;5;241m=\u001b[39m \u001b[38;5;124m\"\u001b[39m\u001b[38;5;124mplan_length_mean\u001b[39m\u001b[38;5;124m\"\u001b[39m \u001b[38;5;28;01mif\u001b[39;00m \u001b[38;5;129;01mnot\u001b[39;00m TAKE_BEST \u001b[38;5;28;01melse\u001b[39;00m \u001b[38;5;124m\"\u001b[39m\u001b[38;5;124mplan_length_min\u001b[39m\u001b[38;5;124m\"\u001b[39m\n\u001b[1;32m    277\u001b[0m     df[\u001b[38;5;124m\"\u001b[39m\u001b[38;5;124mimprovement\u001b[39m\u001b[38;5;124m\"\u001b[39m] \u001b[38;5;241m=\u001b[39m df\u001b[38;5;241m.\u001b[39mapply(\n\u001b[1;32m    278\u001b[0m         \u001b[38;5;28;01mlambda\u001b[39;00m row: \u001b[38;5;241m-\u001b[39mrow[combination]\n\u001b[0;32m--> 279\u001b[0m         \u001b[38;5;241m+\u001b[39m \u001b[43mdf\u001b[49m\u001b[43m[\u001b[49m\n\u001b[1;32m    280\u001b[0m \u001b[43m            \u001b[49m\u001b[43m(\u001b[49m\u001b[43mdf\u001b[49m\u001b[43m[\u001b[49m\u001b[38;5;124;43m\"\u001b[39;49m\u001b[38;5;124;43mdomain\u001b[39;49m\u001b[38;5;124;43m\"\u001b[39;49m\u001b[43m]\u001b[49m\u001b[43m \u001b[49m\u001b[38;5;241;43m==\u001b[39;49m\u001b[43m \u001b[49m\u001b[43mrow\u001b[49m\u001b[43m[\u001b[49m\u001b[38;5;124;43m\"\u001b[39;49m\u001b[38;5;124;43mdomain\u001b[39;49m\u001b[38;5;124;43m\"\u001b[39;49m\u001b[43m]\u001b[49m\u001b[43m)\u001b[49m\n\u001b[1;32m    281\u001b[0m \u001b[43m            \u001b[49m\u001b[38;5;241;43m&\u001b[39;49m\u001b[43m \u001b[49m\u001b[43m(\u001b[49m\u001b[43mdf\u001b[49m\u001b[43m[\u001b[49m\u001b[38;5;124;43m\"\u001b[39;49m\u001b[38;5;124;43mproblem\u001b[39;49m\u001b[38;5;124;43m\"\u001b[39;49m\u001b[43m]\u001b[49m\u001b[43m \u001b[49m\u001b[38;5;241;43m==\u001b[39;49m\u001b[43m \u001b[49m\u001b[43mrow\u001b[49m\u001b[43m[\u001b[49m\u001b[38;5;124;43m\"\u001b[39;49m\u001b[38;5;124;43mproblem\u001b[39;49m\u001b[38;5;124;43m\"\u001b[39;49m\u001b[43m]\u001b[49m\u001b[43m)\u001b[49m\n\u001b[1;32m    282\u001b[0m \u001b[43m            \u001b[49m\u001b[38;5;241;43m&\u001b[39;49m\u001b[43m \u001b[49m\u001b[43m(\u001b[49m\u001b[43mdf\u001b[49m\u001b[43m[\u001b[49m\u001b[38;5;124;43m\"\u001b[39;49m\u001b[38;5;124;43msolver\u001b[39;49m\u001b[38;5;124;43m\"\u001b[39;49m\u001b[43m]\u001b[49m\u001b[43m \u001b[49m\u001b[38;5;241;43m==\u001b[39;49m\u001b[43m \u001b[49m\u001b[38;5;124;43m\"\u001b[39;49m\u001b[38;5;124;43mbaseline\u001b[39;49m\u001b[38;5;124;43m\"\u001b[39;49m\u001b[43m)\u001b[49m\n\u001b[1;32m    283\u001b[0m \u001b[43m        \u001b[49m\u001b[43m]\u001b[49m\u001b[43m[\u001b[49m\u001b[43mcombination\u001b[49m\u001b[43m]\u001b[49m\u001b[38;5;241;43m.\u001b[39;49m\u001b[43mvalues\u001b[49m\u001b[43m[\u001b[49m\u001b[38;5;241;43m0\u001b[39;49m\u001b[43m]\u001b[49m,\n\u001b[1;32m    284\u001b[0m         axis\u001b[38;5;241m=\u001b[39m\u001b[38;5;241m1\u001b[39m,\n\u001b[1;32m    285\u001b[0m     )\n\u001b[1;32m    286\u001b[0m     df[\u001b[38;5;124m\"\u001b[39m\u001b[38;5;124mimprovement (\u001b[39m\u001b[38;5;124m%\u001b[39m\u001b[38;5;124m)\u001b[39m\u001b[38;5;124m\"\u001b[39m] \u001b[38;5;241m=\u001b[39m df\u001b[38;5;241m.\u001b[39mapply(\n\u001b[1;32m    287\u001b[0m         \u001b[38;5;28;01mlambda\u001b[39;00m row: \u001b[38;5;241m100\u001b[39m \u001b[38;5;241m*\u001b[39m (\n\u001b[1;32m    288\u001b[0m             \u001b[38;5;241m-\u001b[39mrow[combination]\n\u001b[0;32m   (...)\u001b[0m\n\u001b[1;32m    300\u001b[0m         axis\u001b[38;5;241m=\u001b[39m\u001b[38;5;241m1\u001b[39m,\n\u001b[1;32m    301\u001b[0m     )\n\u001b[1;32m    302\u001b[0m     \u001b[38;5;28;01mreturn\u001b[39;00m df\n",
      "\u001b[0;31mIndexError\u001b[0m: index 0 is out of bounds for axis 0 with size 0"
     ]
    }
   ],
   "source": [
    "plot_difference(absolute=False, choices=choices, layers=layers, dimensions=dimensions)"
   ]
  },
  {
   "cell_type": "code",
   "execution_count": null,
   "metadata": {},
   "outputs": [],
   "source": []
  }
 ],
 "metadata": {
  "kernelspec": {
   "display_name": "lpp",
   "language": "python",
   "name": "python3"
  },
  "language_info": {
   "codemirror_mode": {
    "name": "ipython",
    "version": 3
   },
   "file_extension": ".py",
   "mimetype": "text/x-python",
   "name": "python",
   "nbconvert_exporter": "python",
   "pygments_lexer": "ipython3",
   "version": "3.10.4"
  }
 },
 "nbformat": 4,
 "nbformat_minor": 2
}
